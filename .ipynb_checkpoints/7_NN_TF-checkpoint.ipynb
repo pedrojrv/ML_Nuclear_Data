{
 "cells": [
  {
   "cell_type": "markdown",
   "metadata": {},
   "source": [
    "# Modeling Cross Section Data with Neural Networks\n",
    "\n",
    "In a *regression* problem, we aim to predict the output of a continuous value, like a price or a probability. Contrast this with a *classification* problem, where we aim to select a class from a list of classes.\n",
    "\n",
    "This notebook uses the EXFOR Dataset and builds a model to predict the cross section of several nuclear reactions. To do this, we'll provide the model with a description of many expeirmentally measrued values. This description includes attributes like: # of neutrons, # of protons, Neutron Separation Energy, and Atomic Mass."
   ]
  },
  {
   "cell_type": "code",
   "execution_count": 2,
   "metadata": {},
   "outputs": [
    {
     "name": "stdout",
     "output_type": "stream",
     "text": [
      "1.13.1\n"
     ]
    }
   ],
   "source": [
    "import pandas as pd\n",
    "import numpy as np\n",
    "import seaborn as sns\n",
    "import matplotlib.pyplot as plt\n",
    "import pathlib\n",
    "import tensorflow as tf\n",
    "\n",
    "from tensorflow import keras\n",
    "from tensorflow.keras import layers\n",
    "from tensorflow.keras import regularizers\n",
    "\n",
    "print(tf.__version__)\n",
    "\n",
    "import tensorflow_docs as tfdocs\n",
    "import tensorflow_docs.plots\n",
    "# import tensorflow_docs.modeling\n",
    "\n",
    "from  IPython import display\n",
    "import pathlib\n",
    "import shutil\n",
    "import tempfile\n",
    "\n",
    "pd.set_option('display.max_columns', 500)\n",
    "pd.set_option('display.max_rows', 50)\n",
    "sns.set_style(\"darkgrid\")"
   ]
  },
  {
   "cell_type": "code",
   "execution_count": 3,
   "metadata": {},
   "outputs": [],
   "source": [
    "logdir = pathlib.Path(tempfile.mkdtemp())/\"tensorboard_logs\"\n",
    "shutil.rmtree(logdir, ignore_errors=True)"
   ]
  },
  {
   "cell_type": "markdown",
   "metadata": {},
   "source": [
    "# Getting the Data: Cross Sections"
   ]
  },
  {
   "cell_type": "code",
   "execution_count": 4,
   "metadata": {},
   "outputs": [
    {
     "name": "stdout",
     "output_type": "stream",
     "text": [
      "Reading data into dataframe...\n",
      "Data read into dataframe!\n"
     ]
    }
   ],
   "source": [
    "print(\"Reading data into dataframe...\")\n",
    "df = pd.read_csv(\"../ML_Data/working_xs_v1_unsk.csv\")\n",
    "print(\"Data read into dataframe!\")\n",
    "\n",
    "# Converting specific columns to datatype 'string'\n",
    "str_cols = [\"Target_Meta_State\", \"MT\", \"I78\", \"Refer\", \"Product_Meta_State\", \"Frame\", \"Reaction_Notation\", \"Title\", \"Author\", \"Institute\", \"Reference\", \"Out\", \"Origin\", \"Element\"]\n",
    "df[str_cols] = df[str_cols].astype('category')\n",
    "\n",
    "# Converting remaining columns to numeric type. \n",
    "for col in list(df.columns):\n",
    "    if col not in str_cols:\n",
    "        df[col] = df[col].astype(float)\n",
    "\n",
    "# Converting proton, neutron and mass number features to integers\n",
    "int_cols = [\"Protons\", \"Target_Neutrons\", \"Target_Mass_Number\", \"Year\", \"Date\", \"Compound_Neutrons\", \"Compound_Mass_Number\"]\n",
    "df[int_cols] = df[int_cols].astype(int)"
   ]
  },
  {
   "cell_type": "code",
   "execution_count": 5,
   "metadata": {},
   "outputs": [],
   "source": [
    "# df1 = df.copy()"
   ]
  },
  {
   "cell_type": "code",
   "execution_count": 5,
   "metadata": {},
   "outputs": [],
   "source": [
    "# df = df[[\"Energy\", \"dEnergy\", \"Data\", \"dData\", \"Protons\", \"Target_Neutrons\", \"Target_Mass_Number\", \"Atomic_Mass_Micro\", \"Out\", \"Year\"]]\n",
    "# df.columns"
   ]
  },
  {
   "cell_type": "markdown",
   "metadata": {},
   "source": [
    "# Eliminating Non-Numeric and Non-Categorical Features for ML\n",
    "\n",
    "Some features including the `Reference` and `Reaction Notation` are mostly for information purposes. These need to be removed since models only take numerical and categorical data. "
   ]
  },
  {
   "cell_type": "code",
   "execution_count": 6,
   "metadata": {},
   "outputs": [],
   "source": [
    "# Dropping columns not needed for modelling\n",
    "columns_drop = [\"Refer\", \"Reaction_Notation\", \"Title\", \"Author\", \"Institute\", \"Reference\", \"Out\", \"Element\", \"Date\"]\n",
    "df = df.drop(columns=columns_drop)"
   ]
  },
  {
   "cell_type": "code",
   "execution_count": 7,
   "metadata": {},
   "outputs": [
    {
     "data": {
      "text/plain": [
       "(4534294, 80)"
      ]
     },
     "execution_count": 7,
     "metadata": {},
     "output_type": "execute_result"
    }
   ],
   "source": [
    "df.shape"
   ]
  },
  {
   "cell_type": "markdown",
   "metadata": {},
   "source": [
    "# One-Hot-Encoding of Categorical Data \n",
    "\n",
    "Categorical data can be represented by either assigning a numerical value to each category or by a sparse binary matrix where a `1` is placed when the category is present. We opted for the latter. In this case the categorical features include:\n",
    "\n",
    "> `Target_Meta_State`: the metastable state of the target particle.\n",
    "\n",
    "> `MT`: which refers to the ENDF reaction number. \n",
    "\n",
    "> `I78`: \n",
    "\n",
    "> `Product_Meta_State`: metastable state that the product is left on.\n",
    "\n",
    "> `Frame`: the established frame of the experiment (center-of-lab or )\n",
    "\n",
    "> `Origin`: the origin of the measured atomic masses and separation energies."
   ]
  },
  {
   "cell_type": "code",
   "execution_count": 8,
   "metadata": {},
   "outputs": [
    {
     "data": {
      "text/plain": [
       "Index(['Target_Meta_State', 'Energy', 'dEnergy', 'Data', 'dData', 'ELV/HL',\n",
       "       'dELV/HL', 'I78', 'Protons', 'Product_Meta_State', 'Frame', 'Year',\n",
       "       'Out', 'Target_Neutrons', 'Origin', 'Mass_Excess', 'dMass_Excess',\n",
       "       'Binding_Energy', 'dBinding_Energy', 'B_Decay_Energy',\n",
       "       'dB_Decay_Energy', 'Atomic_Mass_Micro', 'dAtomic_Mass_Micro', 'S(2n)',\n",
       "       'dS(2n)', 'S(2p)', 'dS(2p)', 'Q(a)', 'dQ(a)', 'Q(2B-)', 'dQ(2B-)',\n",
       "       'Q(ep)', 'dQ(ep)', 'Q(B-n)', 'dQ(B-n)', 'Target_Mass_Number', 'S(n)',\n",
       "       'dS(n)', 'S(p)', 'dS(p)', 'Q(4B-)', 'dQ(4B-)', 'Q(d,a)', 'dQ(d,a)',\n",
       "       'Q(p,a)', 'dQ(p,a)', 'Q(n,a)', 'dQ(n,a)', 'Q(g,p)', 'Q(g,n)', 'Q(g,pn)',\n",
       "       'Q(g,d)', 'Q(g,t)', 'Q(g,He3)', 'Q(g,2p)', 'Q(g,2n)', 'Q(g,a)',\n",
       "       'Q(p,n)', 'Q(p,2p)', 'Q(p,pn)', 'Q(p,d)', 'Q(p,2n)', 'Q(p,t)',\n",
       "       'Q(p,3He)', 'Q(n,2p)', 'Q(n,np)', 'Q(n,d)', 'Q(n,2n)', 'Q(n,t)',\n",
       "       'Q(n,3He)', 'Q(d,t)', 'Q(d,3He)', 'Q(3He,t)', 'Q(3He,a)', 'Q(t,a)',\n",
       "       'Unc', 'Nuc_Radius_fm', 'Neut_Nuc_Rad_Ratio', 'Compound_Neutrons',\n",
       "       'Compound_Mass_Number'],\n",
       "      dtype='object')"
      ]
     },
     "execution_count": 8,
     "metadata": {},
     "output_type": "execute_result"
    }
   ],
   "source": [
    "df.columns"
   ]
  },
  {
   "cell_type": "code",
   "execution_count": 8,
   "metadata": {},
   "outputs": [],
   "source": [
    "# Specify categorical variables calculating one-hot-encode features \n",
    "# The useful categorical feature can also be Out, in this case we use OUT\n",
    "cat_cols = [\"Target_Meta_State\", \"MT\", \"I78\", \"Product_Meta_State\", \"Frame\", \"Origin\"]\n",
    "df = pd.concat([df, pd.get_dummies(df[cat_cols])], axis=1).drop(columns=cat_cols)"
   ]
  },
  {
   "cell_type": "raw",
   "metadata": {},
   "source": [
    "'Out_2A',\n",
    "'Out_2N',\n",
    "'Out_2N+A',\n",
    "'Out_2N+P',\n",
    "'Out_2N+P+A',\n",
    "'Out_2P',\n",
    "'Out_3N',\n",
    "'Out_4N',\n",
    "'Out_5N',\n",
    "'Out_6N',\n",
    "'Out_7N',\n",
    "'Out_8N',\n",
    "'Out_D',\n",
    "'Out_A',\n",
    "'Out_ABS',\n",
    "'Out_HE3',\n",
    "'Out_N+2A',\n",
    "'Out_N+A',\n",
    "'Out_N+D',\n",
    "'Out_N+D+A',\n",
    "'Out_N+P',\n",
    "'Out_N+T',\n",
    "'Out_P+A',\n",
    "'Out_T',\n",
    "'Out_T+2A',\n",
    "'Out_T+A',\n",
    "\n",
    "'Out_EL',\n",
    "'Out_F',\n",
    "'Out_G',\n",
    "'Out_INL',\n",
    "'Out_NON',\n",
    "'Out_P',\n",
    "'Out_TOT',"
   ]
  },
  {
   "cell_type": "markdown",
   "metadata": {},
   "source": [
    "# Corrections for Bad Measurements\n",
    "\n",
    "Chlorine (n,p) reaction contains contradictory data between two experimental campagins. I am assuming the newest measruments are correct therefore discarding the oldest measruments."
   ]
  },
  {
   "cell_type": "code",
   "execution_count": 9,
   "metadata": {},
   "outputs": [],
   "source": [
    "# df = df[~((df[\"Protons\"] == 17) & (df[\"Out_P\"] == 1) & (df[\"Target_Mass_Number\"] == 35) & (df[\"Year\"] < 1962))]\n",
    "df = df[~((df[\"Protons\"] == 17) & (df[\"MT_103\"] == 1) & (df[\"Target_Mass_Number\"] == 35) & (df[\"Year\"] < 1962))]"
   ]
  },
  {
   "cell_type": "code",
   "execution_count": 10,
   "metadata": {},
   "outputs": [],
   "source": [
    "df = df.drop(columns=[\"Year\"])"
   ]
  },
  {
   "cell_type": "markdown",
   "metadata": {},
   "source": [
    "# Sampling Chlorine (n,p) and (n,g) Data for Visualization\n",
    "\n",
    "The model will be trained in the entire data therefore getting the total MSE. As an example, we will see the model predictions for both the mentioned reactions. "
   ]
  },
  {
   "cell_type": "code",
   "execution_count": 11,
   "metadata": {},
   "outputs": [],
   "source": [
    "# # (n,p) reaction (MT=103)\n",
    "to_plot = df[(df[\"Protons\"] == 17) & (df[\"MT_103\"] == 1) & (df[\"Target_Mass_Number\"] == 35)].sort_values(by='Energy', ascending=True)\n",
    "# to_plot = df[(df[\"Protons\"] == 17) & (df[\"Out_P\"] == 1) & (df[\"Target_Mass_Number\"] == 35)].sort_values(by='Energy', ascending=True)\n",
    "\n",
    "# # (n,g) reaction (MT=102)\n",
    "# to_plot2 = df[(df[\"Protons\"] == 17) & (df[\"Out_G\"] == 1) & (df[\"Target_Mass_Number\"] == 35)].sort_values(by='Energy', ascending=True)\n",
    "to_plot2 = df[(df[\"Protons\"] == 17) & (df[\"MT_102\"] == 1) & (df[\"Target_Mass_Number\"] == 35)].sort_values(by='Energy', ascending=True)"
   ]
  },
  {
   "cell_type": "markdown",
   "metadata": {},
   "source": [
    "# Newly Measured Chlorine (n,p) Unseen Data \n",
    "\n",
    "These data points are not in the current EXFOR data package and will be used to test the new modeling capabilities."
   ]
  },
  {
   "cell_type": "code",
   "execution_count": 12,
   "metadata": {},
   "outputs": [],
   "source": [
    "new_data = pd.read_csv(\"./Chlorine_Data/new_cl_np.csv\")  "
   ]
  },
  {
   "cell_type": "code",
   "execution_count": 13,
   "metadata": {},
   "outputs": [],
   "source": [
    "# Adding features to newly measured data\n",
    "for i in list(to_plot.columns)[4:]:\n",
    "    new_data[i] = to_plot[i].values[1]\n",
    "\n",
    "new_data[\"Energy\"] = np.log10(new_data[\"Energy\"])\n",
    "new_data[\"dEnergy\"] = np.log10(new_data[\"dEnergy\"])"
   ]
  },
  {
   "cell_type": "markdown",
   "metadata": {},
   "source": [
    "# ENDF Evaluation Cross Section Data for Chlorine (n,p) Reaction\n",
    "\n",
    "These data points will serve to plot the current ENDFb5 data and compare it to the newly measured points along with the predictions"
   ]
  },
  {
   "cell_type": "code",
   "execution_count": 14,
   "metadata": {},
   "outputs": [
    {
     "data": {
      "text/html": [
       "<div>\n",
       "<style scoped>\n",
       "    .dataframe tbody tr th:only-of-type {\n",
       "        vertical-align: middle;\n",
       "    }\n",
       "\n",
       "    .dataframe tbody tr th {\n",
       "        vertical-align: top;\n",
       "    }\n",
       "\n",
       "    .dataframe thead th {\n",
       "        text-align: right;\n",
       "    }\n",
       "</style>\n",
       "<table border=\"1\" class=\"dataframe\">\n",
       "  <thead>\n",
       "    <tr style=\"text-align: right;\">\n",
       "      <th></th>\n",
       "      <th>Energy</th>\n",
       "      <th>Data</th>\n",
       "    </tr>\n",
       "  </thead>\n",
       "  <tbody>\n",
       "    <tr>\n",
       "      <th>0</th>\n",
       "      <td>6.378527</td>\n",
       "      <td>0.162609</td>\n",
       "    </tr>\n",
       "    <tr>\n",
       "      <th>1</th>\n",
       "      <td>6.378917</td>\n",
       "      <td>0.162724</td>\n",
       "    </tr>\n",
       "    <tr>\n",
       "      <th>2</th>\n",
       "      <td>6.389669</td>\n",
       "      <td>0.165948</td>\n",
       "    </tr>\n",
       "    <tr>\n",
       "      <th>3</th>\n",
       "      <td>6.397940</td>\n",
       "      <td>0.168482</td>\n",
       "    </tr>\n",
       "    <tr>\n",
       "      <th>4</th>\n",
       "      <td>6.400994</td>\n",
       "      <td>0.169618</td>\n",
       "    </tr>\n",
       "  </tbody>\n",
       "</table>\n",
       "</div>"
      ],
      "text/plain": [
       "     Energy      Data\n",
       "0  6.378527  0.162609\n",
       "1  6.378917  0.162724\n",
       "2  6.389669  0.165948\n",
       "3  6.397940  0.168482\n",
       "4  6.400994  0.169618"
      ]
     },
     "execution_count": 14,
     "metadata": {},
     "output_type": "execute_result"
    }
   ],
   "source": [
    "endf = pd.read_csv(\"./Chlorine_Data/endf_Cl_np.csv\")\n",
    "endf[\"Energy\"] = np.log10(endf[\"Energy\"])\n",
    "endf.head()"
   ]
  },
  {
   "cell_type": "code",
   "execution_count": 15,
   "metadata": {},
   "outputs": [
    {
     "data": {
      "text/plain": [
       "(8791, 2)"
      ]
     },
     "execution_count": 15,
     "metadata": {},
     "output_type": "execute_result"
    }
   ],
   "source": [
    "endf_all = pd.read_csv(\"./Chlorine_Data/endf_Cl_np_all.csv\")\n",
    "endf_all[\"Energy\"] = np.log10(endf_all[\"Energy\"])\n",
    "endf_all.shape"
   ]
  },
  {
   "cell_type": "markdown",
   "metadata": {},
   "source": [
    "# Visualizing Chlroine (n,p) Data"
   ]
  },
  {
   "cell_type": "code",
   "execution_count": 16,
   "metadata": {},
   "outputs": [],
   "source": [
    "def plot_exfor_endf(protons, mass_number, mt, endf_data):\n",
    "    to_plot = df[(df[\"Protons\"] == protons) & (df[mt] == 1) & (df[\"Target_Mass_Number\"] == mass_number)].sort_values(by='Energy', ascending=False)\n",
    "    plt.figure(figsize=(15,10))\n",
    "    sns.scatterplot(to_plot[\"Energy\"], to_plot[\"Data\"], alpha=0.5, label=\"True\")\n",
    "    sns.lineplot(endf_data[\"Energy\"], endf_data[\"Data\"], alpha=0.5, label=\"ENDF\", color='g')\n",
    "#     sns.lineplot(to_plot[\"Energy\"], to_plot[\"Data\"], alpha=0.5, label=\"Interpolation\")\n",
    "    sns.scatterplot(new_data[\"Energy\"], new_data[\"Data\"], alpha=0.5, label=\"New Data\")\n",
    "    plt.title('Cl-35(n,p) SIG')\n",
    "    plt.xlabel('Energy(eV)')\n",
    "    plt.ylabel('Cross Section (b)')\n",
    "    plt.yscale('log')\n",
    "    minimum = to_plot[\"Data\"].min() - to_plot[\"Data\"].min() * 0.2\n",
    "    maximum = to_plot[\"Data\"].max() + to_plot[\"Data\"].max() * 0.2\n",
    "    plt.ylim(minimum, maximum)\n",
    "    plt.legend()"
   ]
  },
  {
   "cell_type": "code",
   "execution_count": 17,
   "metadata": {},
   "outputs": [
    {
     "data": {
      "image/png": "[encoded data removed]",
      "text/plain": [
       "<Figure size 1080x720 with 1 Axes>"
      ]
     },
     "metadata": {},
     "output_type": "display_data"
    }
   ],
   "source": [
    "plot_exfor_endf(17, 35, \"MT_103\", endf_all)"
   ]
  },
  {
   "cell_type": "markdown",
   "metadata": {},
   "source": [
    "# Evaluating Predictions\n",
    "\n",
    "Two very important measures that are often used in Statistics to determine the accuracy of a model are:\n",
    "\n",
    "> **R^2 / R-squared**:  also known as the coefficient of determination, is a measure to indicate how close the data is to the fitted regression line. The value of the R-squared is the percentage of variation of the response variable (y) that is explained by a linear model.\n",
    "\n",
    "> **Mean Squared Error (MSE)**: measures the average of the squares of errors, that is, the difference between actual value (y) and the estimated value (ŷ).\n",
    " "
   ]
  },
  {
   "cell_type": "code",
   "execution_count": 18,
   "metadata": {},
   "outputs": [],
   "source": [
    "from sklearn.metrics import mean_squared_error, r2_score"
   ]
  },
  {
   "cell_type": "markdown",
   "metadata": {},
   "source": [
    "# Limiting DataFrame to Specific Ranges"
   ]
  },
  {
   "cell_type": "code",
   "execution_count": 19,
   "metadata": {},
   "outputs": [
    {
     "data": {
      "text/plain": [
       "(4534251, 135)"
      ]
     },
     "execution_count": 19,
     "metadata": {},
     "output_type": "execute_result"
    }
   ],
   "source": [
    "df.shape"
   ]
  },
  {
   "cell_type": "code",
   "execution_count": 20,
   "metadata": {},
   "outputs": [
    {
     "data": {
      "text/html": [
       "<div>\n",
       "<style scoped>\n",
       "    .dataframe tbody tr th:only-of-type {\n",
       "        vertical-align: middle;\n",
       "    }\n",
       "\n",
       "    .dataframe tbody tr th {\n",
       "        vertical-align: top;\n",
       "    }\n",
       "\n",
       "    .dataframe thead th {\n",
       "        text-align: right;\n",
       "    }\n",
       "</style>\n",
       "<table border=\"1\" class=\"dataframe\">\n",
       "  <thead>\n",
       "    <tr style=\"text-align: right;\">\n",
       "      <th></th>\n",
       "      <th>Energy</th>\n",
       "      <th>dEnergy</th>\n",
       "      <th>Data</th>\n",
       "      <th>dData</th>\n",
       "      <th>ELV/HL</th>\n",
       "      <th>dELV/HL</th>\n",
       "      <th>Protons</th>\n",
       "      <th>Target_Neutrons</th>\n",
       "      <th>Mass_Excess</th>\n",
       "      <th>dMass_Excess</th>\n",
       "      <th>Binding_Energy</th>\n",
       "      <th>dBinding_Energy</th>\n",
       "      <th>B_Decay_Energy</th>\n",
       "      <th>dB_Decay_Energy</th>\n",
       "      <th>Atomic_Mass_Micro</th>\n",
       "      <th>dAtomic_Mass_Micro</th>\n",
       "      <th>S(2n)</th>\n",
       "      <th>dS(2n)</th>\n",
       "      <th>S(2p)</th>\n",
       "      <th>dS(2p)</th>\n",
       "      <th>Q(a)</th>\n",
       "      <th>dQ(a)</th>\n",
       "      <th>Q(2B-)</th>\n",
       "      <th>dQ(2B-)</th>\n",
       "      <th>Q(ep)</th>\n",
       "      <th>dQ(ep)</th>\n",
       "      <th>Q(B-n)</th>\n",
       "      <th>dQ(B-n)</th>\n",
       "      <th>Target_Mass_Number</th>\n",
       "      <th>S(n)</th>\n",
       "      <th>dS(n)</th>\n",
       "      <th>S(p)</th>\n",
       "      <th>dS(p)</th>\n",
       "      <th>Q(4B-)</th>\n",
       "      <th>dQ(4B-)</th>\n",
       "      <th>Q(d,a)</th>\n",
       "      <th>dQ(d,a)</th>\n",
       "      <th>Q(p,a)</th>\n",
       "      <th>dQ(p,a)</th>\n",
       "      <th>Q(n,a)</th>\n",
       "      <th>dQ(n,a)</th>\n",
       "      <th>Q(g,p)</th>\n",
       "      <th>Q(g,n)</th>\n",
       "      <th>Q(g,pn)</th>\n",
       "      <th>Q(g,d)</th>\n",
       "      <th>Q(g,t)</th>\n",
       "      <th>Q(g,He3)</th>\n",
       "      <th>Q(g,2p)</th>\n",
       "      <th>Q(g,2n)</th>\n",
       "      <th>Q(g,a)</th>\n",
       "      <th>Q(p,n)</th>\n",
       "      <th>Q(p,2p)</th>\n",
       "      <th>Q(p,pn)</th>\n",
       "      <th>Q(p,d)</th>\n",
       "      <th>Q(p,2n)</th>\n",
       "      <th>Q(p,t)</th>\n",
       "      <th>Q(p,3He)</th>\n",
       "      <th>Q(n,2p)</th>\n",
       "      <th>Q(n,np)</th>\n",
       "      <th>Q(n,d)</th>\n",
       "      <th>Q(n,2n)</th>\n",
       "      <th>Q(n,t)</th>\n",
       "      <th>Q(n,3He)</th>\n",
       "      <th>Q(d,t)</th>\n",
       "      <th>Q(d,3He)</th>\n",
       "      <th>Q(3He,t)</th>\n",
       "      <th>Q(3He,a)</th>\n",
       "      <th>Q(t,a)</th>\n",
       "      <th>Unc</th>\n",
       "      <th>Nuc_Radius_fm</th>\n",
       "      <th>Neut_Nuc_Rad_Ratio</th>\n",
       "      <th>Compound_Neutrons</th>\n",
       "      <th>Compound_Mass_Number</th>\n",
       "      <th>Target_Meta_State_1</th>\n",
       "      <th>Target_Meta_State_2</th>\n",
       "      <th>Target_Meta_State_G</th>\n",
       "      <th>Target_Meta_State_M</th>\n",
       "      <th>MT_1</th>\n",
       "      <th>MT_2</th>\n",
       "      <th>MT_3</th>\n",
       "      <th>MT_4</th>\n",
       "      <th>MT_16</th>\n",
       "      <th>MT_17</th>\n",
       "      <th>MT_18</th>\n",
       "      <th>MT_22</th>\n",
       "      <th>MT_24</th>\n",
       "      <th>MT_28</th>\n",
       "      <th>MT_29</th>\n",
       "      <th>MT_32</th>\n",
       "      <th>MT_33</th>\n",
       "      <th>MT_37</th>\n",
       "      <th>MT_41</th>\n",
       "      <th>MT_51</th>\n",
       "      <th>MT_101</th>\n",
       "      <th>MT_102</th>\n",
       "      <th>MT_103</th>\n",
       "      <th>MT_104</th>\n",
       "      <th>MT_105</th>\n",
       "      <th>MT_106</th>\n",
       "      <th>MT_107</th>\n",
       "      <th>MT_108</th>\n",
       "      <th>MT_111</th>\n",
       "      <th>MT_112</th>\n",
       "      <th>MT_113</th>\n",
       "      <th>MT_152</th>\n",
       "      <th>MT_153</th>\n",
       "      <th>MT_155</th>\n",
       "      <th>MT_158</th>\n",
       "      <th>MT_159</th>\n",
       "      <th>MT_160</th>\n",
       "      <th>MT_161</th>\n",
       "      <th>MT_203</th>\n",
       "      <th>I78_D</th>\n",
       "      <th>I78_E</th>\n",
       "      <th>I78_L</th>\n",
       "      <th>Product_Meta_State_+</th>\n",
       "      <th>Product_Meta_State_1</th>\n",
       "      <th>Product_Meta_State_2</th>\n",
       "      <th>Product_Meta_State_G</th>\n",
       "      <th>Product_Meta_State_L</th>\n",
       "      <th>Product_Meta_State_M</th>\n",
       "      <th>Frame_C</th>\n",
       "      <th>Frame_L</th>\n",
       "      <th>Origin_+</th>\n",
       "      <th>Origin_+a</th>\n",
       "      <th>Origin_+n</th>\n",
       "      <th>Origin_+p</th>\n",
       "      <th>Origin_-</th>\n",
       "      <th>Origin_-a</th>\n",
       "      <th>Origin_-n</th>\n",
       "      <th>Origin_-nn</th>\n",
       "      <th>Origin_-p</th>\n",
       "      <th>Origin_IT</th>\n",
       "      <th>Origin_Other</th>\n",
       "      <th>Origin_x</th>\n",
       "    </tr>\n",
       "  </thead>\n",
       "  <tbody>\n",
       "    <tr>\n",
       "      <th>0</th>\n",
       "      <td>7.945469</td>\n",
       "      <td>5.945469</td>\n",
       "      <td>0.0300</td>\n",
       "      <td>0.001523</td>\n",
       "      <td>0.0</td>\n",
       "      <td>0.0</td>\n",
       "      <td>0</td>\n",
       "      <td>1</td>\n",
       "      <td>8071.31713</td>\n",
       "      <td>0.00046</td>\n",
       "      <td>0.0</td>\n",
       "      <td>0.0</td>\n",
       "      <td>782.347</td>\n",
       "      <td>0.0</td>\n",
       "      <td>1.008665e+06</td>\n",
       "      <td>0.00049</td>\n",
       "      <td>0.0</td>\n",
       "      <td>0.0</td>\n",
       "      <td>0.0</td>\n",
       "      <td>0.0</td>\n",
       "      <td>0.0</td>\n",
       "      <td>0.0</td>\n",
       "      <td>0.0</td>\n",
       "      <td>0.0</td>\n",
       "      <td>0.0</td>\n",
       "      <td>0.0</td>\n",
       "      <td>0.0</td>\n",
       "      <td>0.0</td>\n",
       "      <td>1</td>\n",
       "      <td>0.0</td>\n",
       "      <td>0.0</td>\n",
       "      <td>0.0</td>\n",
       "      <td>0.0</td>\n",
       "      <td>0.0</td>\n",
       "      <td>0.0</td>\n",
       "      <td>0.0</td>\n",
       "      <td>0.0</td>\n",
       "      <td>0.0</td>\n",
       "      <td>0.0</td>\n",
       "      <td>0.0</td>\n",
       "      <td>0.0</td>\n",
       "      <td>0.0</td>\n",
       "      <td>-0.0</td>\n",
       "      <td>0.0</td>\n",
       "      <td>0.0</td>\n",
       "      <td>0.0</td>\n",
       "      <td>0.0</td>\n",
       "      <td>0.0</td>\n",
       "      <td>0.0</td>\n",
       "      <td>0.0</td>\n",
       "      <td>0.0005</td>\n",
       "      <td>0.0</td>\n",
       "      <td>-0.0</td>\n",
       "      <td>2224.566</td>\n",
       "      <td>0.0</td>\n",
       "      <td>0.0</td>\n",
       "      <td>0.0</td>\n",
       "      <td>0.0</td>\n",
       "      <td>0.0</td>\n",
       "      <td>0.0</td>\n",
       "      <td>-0.0</td>\n",
       "      <td>0.0</td>\n",
       "      <td>0.0</td>\n",
       "      <td>6257.229</td>\n",
       "      <td>0.0</td>\n",
       "      <td>763.755</td>\n",
       "      <td>20577.6194</td>\n",
       "      <td>0.0</td>\n",
       "      <td>0.01</td>\n",
       "      <td>1.25</td>\n",
       "      <td>1.0</td>\n",
       "      <td>2</td>\n",
       "      <td>2</td>\n",
       "      <td>0</td>\n",
       "      <td>0</td>\n",
       "      <td>1</td>\n",
       "      <td>0</td>\n",
       "      <td>1</td>\n",
       "      <td>0</td>\n",
       "      <td>0</td>\n",
       "      <td>0</td>\n",
       "      <td>0</td>\n",
       "      <td>0</td>\n",
       "      <td>0</td>\n",
       "      <td>0</td>\n",
       "      <td>0</td>\n",
       "      <td>0</td>\n",
       "      <td>0</td>\n",
       "      <td>0</td>\n",
       "      <td>0</td>\n",
       "      <td>0</td>\n",
       "      <td>0</td>\n",
       "      <td>0</td>\n",
       "      <td>0</td>\n",
       "      <td>0</td>\n",
       "      <td>0</td>\n",
       "      <td>0</td>\n",
       "      <td>0</td>\n",
       "      <td>0</td>\n",
       "      <td>0</td>\n",
       "      <td>0</td>\n",
       "      <td>0</td>\n",
       "      <td>0</td>\n",
       "      <td>0</td>\n",
       "      <td>0</td>\n",
       "      <td>0</td>\n",
       "      <td>0</td>\n",
       "      <td>0</td>\n",
       "      <td>0</td>\n",
       "      <td>0</td>\n",
       "      <td>0</td>\n",
       "      <td>0</td>\n",
       "      <td>0</td>\n",
       "      <td>0</td>\n",
       "      <td>1</td>\n",
       "      <td>0</td>\n",
       "      <td>0</td>\n",
       "      <td>0</td>\n",
       "      <td>1</td>\n",
       "      <td>0</td>\n",
       "      <td>0</td>\n",
       "      <td>0</td>\n",
       "      <td>1</td>\n",
       "      <td>0</td>\n",
       "      <td>0</td>\n",
       "      <td>0</td>\n",
       "      <td>0</td>\n",
       "      <td>0</td>\n",
       "      <td>0</td>\n",
       "      <td>0</td>\n",
       "      <td>0</td>\n",
       "      <td>0</td>\n",
       "      <td>0</td>\n",
       "      <td>1</td>\n",
       "      <td>0</td>\n",
       "    </tr>\n",
       "    <tr>\n",
       "      <th>1</th>\n",
       "      <td>7.991669</td>\n",
       "      <td>5.991669</td>\n",
       "      <td>0.0291</td>\n",
       "      <td>0.001516</td>\n",
       "      <td>0.0</td>\n",
       "      <td>0.0</td>\n",
       "      <td>0</td>\n",
       "      <td>1</td>\n",
       "      <td>8071.31713</td>\n",
       "      <td>0.00046</td>\n",
       "      <td>0.0</td>\n",
       "      <td>0.0</td>\n",
       "      <td>782.347</td>\n",
       "      <td>0.0</td>\n",
       "      <td>1.008665e+06</td>\n",
       "      <td>0.00049</td>\n",
       "      <td>0.0</td>\n",
       "      <td>0.0</td>\n",
       "      <td>0.0</td>\n",
       "      <td>0.0</td>\n",
       "      <td>0.0</td>\n",
       "      <td>0.0</td>\n",
       "      <td>0.0</td>\n",
       "      <td>0.0</td>\n",
       "      <td>0.0</td>\n",
       "      <td>0.0</td>\n",
       "      <td>0.0</td>\n",
       "      <td>0.0</td>\n",
       "      <td>1</td>\n",
       "      <td>0.0</td>\n",
       "      <td>0.0</td>\n",
       "      <td>0.0</td>\n",
       "      <td>0.0</td>\n",
       "      <td>0.0</td>\n",
       "      <td>0.0</td>\n",
       "      <td>0.0</td>\n",
       "      <td>0.0</td>\n",
       "      <td>0.0</td>\n",
       "      <td>0.0</td>\n",
       "      <td>0.0</td>\n",
       "      <td>0.0</td>\n",
       "      <td>0.0</td>\n",
       "      <td>-0.0</td>\n",
       "      <td>0.0</td>\n",
       "      <td>0.0</td>\n",
       "      <td>0.0</td>\n",
       "      <td>0.0</td>\n",
       "      <td>0.0</td>\n",
       "      <td>0.0</td>\n",
       "      <td>0.0</td>\n",
       "      <td>0.0005</td>\n",
       "      <td>0.0</td>\n",
       "      <td>-0.0</td>\n",
       "      <td>2224.566</td>\n",
       "      <td>0.0</td>\n",
       "      <td>0.0</td>\n",
       "      <td>0.0</td>\n",
       "      <td>0.0</td>\n",
       "      <td>0.0</td>\n",
       "      <td>0.0</td>\n",
       "      <td>-0.0</td>\n",
       "      <td>0.0</td>\n",
       "      <td>0.0</td>\n",
       "      <td>6257.229</td>\n",
       "      <td>0.0</td>\n",
       "      <td>763.755</td>\n",
       "      <td>20577.6194</td>\n",
       "      <td>0.0</td>\n",
       "      <td>0.01</td>\n",
       "      <td>1.25</td>\n",
       "      <td>1.0</td>\n",
       "      <td>2</td>\n",
       "      <td>2</td>\n",
       "      <td>0</td>\n",
       "      <td>0</td>\n",
       "      <td>1</td>\n",
       "      <td>0</td>\n",
       "      <td>1</td>\n",
       "      <td>0</td>\n",
       "      <td>0</td>\n",
       "      <td>0</td>\n",
       "      <td>0</td>\n",
       "      <td>0</td>\n",
       "      <td>0</td>\n",
       "      <td>0</td>\n",
       "      <td>0</td>\n",
       "      <td>0</td>\n",
       "      <td>0</td>\n",
       "      <td>0</td>\n",
       "      <td>0</td>\n",
       "      <td>0</td>\n",
       "      <td>0</td>\n",
       "      <td>0</td>\n",
       "      <td>0</td>\n",
       "      <td>0</td>\n",
       "      <td>0</td>\n",
       "      <td>0</td>\n",
       "      <td>0</td>\n",
       "      <td>0</td>\n",
       "      <td>0</td>\n",
       "      <td>0</td>\n",
       "      <td>0</td>\n",
       "      <td>0</td>\n",
       "      <td>0</td>\n",
       "      <td>0</td>\n",
       "      <td>0</td>\n",
       "      <td>0</td>\n",
       "      <td>0</td>\n",
       "      <td>0</td>\n",
       "      <td>0</td>\n",
       "      <td>0</td>\n",
       "      <td>0</td>\n",
       "      <td>0</td>\n",
       "      <td>0</td>\n",
       "      <td>1</td>\n",
       "      <td>0</td>\n",
       "      <td>0</td>\n",
       "      <td>0</td>\n",
       "      <td>1</td>\n",
       "      <td>0</td>\n",
       "      <td>0</td>\n",
       "      <td>0</td>\n",
       "      <td>1</td>\n",
       "      <td>0</td>\n",
       "      <td>0</td>\n",
       "      <td>0</td>\n",
       "      <td>0</td>\n",
       "      <td>0</td>\n",
       "      <td>0</td>\n",
       "      <td>0</td>\n",
       "      <td>0</td>\n",
       "      <td>0</td>\n",
       "      <td>0</td>\n",
       "      <td>1</td>\n",
       "      <td>0</td>\n",
       "    </tr>\n",
       "    <tr>\n",
       "      <th>2</th>\n",
       "      <td>8.041393</td>\n",
       "      <td>6.041393</td>\n",
       "      <td>0.0279</td>\n",
       "      <td>0.001415</td>\n",
       "      <td>0.0</td>\n",
       "      <td>0.0</td>\n",
       "      <td>0</td>\n",
       "      <td>1</td>\n",
       "      <td>8071.31713</td>\n",
       "      <td>0.00046</td>\n",
       "      <td>0.0</td>\n",
       "      <td>0.0</td>\n",
       "      <td>782.347</td>\n",
       "      <td>0.0</td>\n",
       "      <td>1.008665e+06</td>\n",
       "      <td>0.00049</td>\n",
       "      <td>0.0</td>\n",
       "      <td>0.0</td>\n",
       "      <td>0.0</td>\n",
       "      <td>0.0</td>\n",
       "      <td>0.0</td>\n",
       "      <td>0.0</td>\n",
       "      <td>0.0</td>\n",
       "      <td>0.0</td>\n",
       "      <td>0.0</td>\n",
       "      <td>0.0</td>\n",
       "      <td>0.0</td>\n",
       "      <td>0.0</td>\n",
       "      <td>1</td>\n",
       "      <td>0.0</td>\n",
       "      <td>0.0</td>\n",
       "      <td>0.0</td>\n",
       "      <td>0.0</td>\n",
       "      <td>0.0</td>\n",
       "      <td>0.0</td>\n",
       "      <td>0.0</td>\n",
       "      <td>0.0</td>\n",
       "      <td>0.0</td>\n",
       "      <td>0.0</td>\n",
       "      <td>0.0</td>\n",
       "      <td>0.0</td>\n",
       "      <td>0.0</td>\n",
       "      <td>-0.0</td>\n",
       "      <td>0.0</td>\n",
       "      <td>0.0</td>\n",
       "      <td>0.0</td>\n",
       "      <td>0.0</td>\n",
       "      <td>0.0</td>\n",
       "      <td>0.0</td>\n",
       "      <td>0.0</td>\n",
       "      <td>0.0005</td>\n",
       "      <td>0.0</td>\n",
       "      <td>-0.0</td>\n",
       "      <td>2224.566</td>\n",
       "      <td>0.0</td>\n",
       "      <td>0.0</td>\n",
       "      <td>0.0</td>\n",
       "      <td>0.0</td>\n",
       "      <td>0.0</td>\n",
       "      <td>0.0</td>\n",
       "      <td>-0.0</td>\n",
       "      <td>0.0</td>\n",
       "      <td>0.0</td>\n",
       "      <td>6257.229</td>\n",
       "      <td>0.0</td>\n",
       "      <td>763.755</td>\n",
       "      <td>20577.6194</td>\n",
       "      <td>0.0</td>\n",
       "      <td>0.01</td>\n",
       "      <td>1.25</td>\n",
       "      <td>1.0</td>\n",
       "      <td>2</td>\n",
       "      <td>2</td>\n",
       "      <td>0</td>\n",
       "      <td>0</td>\n",
       "      <td>1</td>\n",
       "      <td>0</td>\n",
       "      <td>1</td>\n",
       "      <td>0</td>\n",
       "      <td>0</td>\n",
       "      <td>0</td>\n",
       "      <td>0</td>\n",
       "      <td>0</td>\n",
       "      <td>0</td>\n",
       "      <td>0</td>\n",
       "      <td>0</td>\n",
       "      <td>0</td>\n",
       "      <td>0</td>\n",
       "      <td>0</td>\n",
       "      <td>0</td>\n",
       "      <td>0</td>\n",
       "      <td>0</td>\n",
       "      <td>0</td>\n",
       "      <td>0</td>\n",
       "      <td>0</td>\n",
       "      <td>0</td>\n",
       "      <td>0</td>\n",
       "      <td>0</td>\n",
       "      <td>0</td>\n",
       "      <td>0</td>\n",
       "      <td>0</td>\n",
       "      <td>0</td>\n",
       "      <td>0</td>\n",
       "      <td>0</td>\n",
       "      <td>0</td>\n",
       "      <td>0</td>\n",
       "      <td>0</td>\n",
       "      <td>0</td>\n",
       "      <td>0</td>\n",
       "      <td>0</td>\n",
       "      <td>0</td>\n",
       "      <td>0</td>\n",
       "      <td>0</td>\n",
       "      <td>0</td>\n",
       "      <td>1</td>\n",
       "      <td>0</td>\n",
       "      <td>0</td>\n",
       "      <td>0</td>\n",
       "      <td>1</td>\n",
       "      <td>0</td>\n",
       "      <td>0</td>\n",
       "      <td>0</td>\n",
       "      <td>1</td>\n",
       "      <td>0</td>\n",
       "      <td>0</td>\n",
       "      <td>0</td>\n",
       "      <td>0</td>\n",
       "      <td>0</td>\n",
       "      <td>0</td>\n",
       "      <td>0</td>\n",
       "      <td>0</td>\n",
       "      <td>0</td>\n",
       "      <td>0</td>\n",
       "      <td>1</td>\n",
       "      <td>0</td>\n",
       "    </tr>\n",
       "    <tr>\n",
       "      <th>3</th>\n",
       "      <td>8.077731</td>\n",
       "      <td>6.077731</td>\n",
       "      <td>0.0264</td>\n",
       "      <td>0.001403</td>\n",
       "      <td>0.0</td>\n",
       "      <td>0.0</td>\n",
       "      <td>0</td>\n",
       "      <td>1</td>\n",
       "      <td>8071.31713</td>\n",
       "      <td>0.00046</td>\n",
       "      <td>0.0</td>\n",
       "      <td>0.0</td>\n",
       "      <td>782.347</td>\n",
       "      <td>0.0</td>\n",
       "      <td>1.008665e+06</td>\n",
       "      <td>0.00049</td>\n",
       "      <td>0.0</td>\n",
       "      <td>0.0</td>\n",
       "      <td>0.0</td>\n",
       "      <td>0.0</td>\n",
       "      <td>0.0</td>\n",
       "      <td>0.0</td>\n",
       "      <td>0.0</td>\n",
       "      <td>0.0</td>\n",
       "      <td>0.0</td>\n",
       "      <td>0.0</td>\n",
       "      <td>0.0</td>\n",
       "      <td>0.0</td>\n",
       "      <td>1</td>\n",
       "      <td>0.0</td>\n",
       "      <td>0.0</td>\n",
       "      <td>0.0</td>\n",
       "      <td>0.0</td>\n",
       "      <td>0.0</td>\n",
       "      <td>0.0</td>\n",
       "      <td>0.0</td>\n",
       "      <td>0.0</td>\n",
       "      <td>0.0</td>\n",
       "      <td>0.0</td>\n",
       "      <td>0.0</td>\n",
       "      <td>0.0</td>\n",
       "      <td>0.0</td>\n",
       "      <td>-0.0</td>\n",
       "      <td>0.0</td>\n",
       "      <td>0.0</td>\n",
       "      <td>0.0</td>\n",
       "      <td>0.0</td>\n",
       "      <td>0.0</td>\n",
       "      <td>0.0</td>\n",
       "      <td>0.0</td>\n",
       "      <td>0.0005</td>\n",
       "      <td>0.0</td>\n",
       "      <td>-0.0</td>\n",
       "      <td>2224.566</td>\n",
       "      <td>0.0</td>\n",
       "      <td>0.0</td>\n",
       "      <td>0.0</td>\n",
       "      <td>0.0</td>\n",
       "      <td>0.0</td>\n",
       "      <td>0.0</td>\n",
       "      <td>-0.0</td>\n",
       "      <td>0.0</td>\n",
       "      <td>0.0</td>\n",
       "      <td>6257.229</td>\n",
       "      <td>0.0</td>\n",
       "      <td>763.755</td>\n",
       "      <td>20577.6194</td>\n",
       "      <td>0.0</td>\n",
       "      <td>0.01</td>\n",
       "      <td>1.25</td>\n",
       "      <td>1.0</td>\n",
       "      <td>2</td>\n",
       "      <td>2</td>\n",
       "      <td>0</td>\n",
       "      <td>0</td>\n",
       "      <td>1</td>\n",
       "      <td>0</td>\n",
       "      <td>1</td>\n",
       "      <td>0</td>\n",
       "      <td>0</td>\n",
       "      <td>0</td>\n",
       "      <td>0</td>\n",
       "      <td>0</td>\n",
       "      <td>0</td>\n",
       "      <td>0</td>\n",
       "      <td>0</td>\n",
       "      <td>0</td>\n",
       "      <td>0</td>\n",
       "      <td>0</td>\n",
       "      <td>0</td>\n",
       "      <td>0</td>\n",
       "      <td>0</td>\n",
       "      <td>0</td>\n",
       "      <td>0</td>\n",
       "      <td>0</td>\n",
       "      <td>0</td>\n",
       "      <td>0</td>\n",
       "      <td>0</td>\n",
       "      <td>0</td>\n",
       "      <td>0</td>\n",
       "      <td>0</td>\n",
       "      <td>0</td>\n",
       "      <td>0</td>\n",
       "      <td>0</td>\n",
       "      <td>0</td>\n",
       "      <td>0</td>\n",
       "      <td>0</td>\n",
       "      <td>0</td>\n",
       "      <td>0</td>\n",
       "      <td>0</td>\n",
       "      <td>0</td>\n",
       "      <td>0</td>\n",
       "      <td>0</td>\n",
       "      <td>0</td>\n",
       "      <td>1</td>\n",
       "      <td>0</td>\n",
       "      <td>0</td>\n",
       "      <td>0</td>\n",
       "      <td>1</td>\n",
       "      <td>0</td>\n",
       "      <td>0</td>\n",
       "      <td>0</td>\n",
       "      <td>1</td>\n",
       "      <td>0</td>\n",
       "      <td>0</td>\n",
       "      <td>0</td>\n",
       "      <td>0</td>\n",
       "      <td>0</td>\n",
       "      <td>0</td>\n",
       "      <td>0</td>\n",
       "      <td>0</td>\n",
       "      <td>0</td>\n",
       "      <td>0</td>\n",
       "      <td>1</td>\n",
       "      <td>0</td>\n",
       "    </tr>\n",
       "    <tr>\n",
       "      <th>4</th>\n",
       "      <td>8.111934</td>\n",
       "      <td>6.111934</td>\n",
       "      <td>0.0256</td>\n",
       "      <td>0.001397</td>\n",
       "      <td>0.0</td>\n",
       "      <td>0.0</td>\n",
       "      <td>0</td>\n",
       "      <td>1</td>\n",
       "      <td>8071.31713</td>\n",
       "      <td>0.00046</td>\n",
       "      <td>0.0</td>\n",
       "      <td>0.0</td>\n",
       "      <td>782.347</td>\n",
       "      <td>0.0</td>\n",
       "      <td>1.008665e+06</td>\n",
       "      <td>0.00049</td>\n",
       "      <td>0.0</td>\n",
       "      <td>0.0</td>\n",
       "      <td>0.0</td>\n",
       "      <td>0.0</td>\n",
       "      <td>0.0</td>\n",
       "      <td>0.0</td>\n",
       "      <td>0.0</td>\n",
       "      <td>0.0</td>\n",
       "      <td>0.0</td>\n",
       "      <td>0.0</td>\n",
       "      <td>0.0</td>\n",
       "      <td>0.0</td>\n",
       "      <td>1</td>\n",
       "      <td>0.0</td>\n",
       "      <td>0.0</td>\n",
       "      <td>0.0</td>\n",
       "      <td>0.0</td>\n",
       "      <td>0.0</td>\n",
       "      <td>0.0</td>\n",
       "      <td>0.0</td>\n",
       "      <td>0.0</td>\n",
       "      <td>0.0</td>\n",
       "      <td>0.0</td>\n",
       "      <td>0.0</td>\n",
       "      <td>0.0</td>\n",
       "      <td>0.0</td>\n",
       "      <td>-0.0</td>\n",
       "      <td>0.0</td>\n",
       "      <td>0.0</td>\n",
       "      <td>0.0</td>\n",
       "      <td>0.0</td>\n",
       "      <td>0.0</td>\n",
       "      <td>0.0</td>\n",
       "      <td>0.0</td>\n",
       "      <td>0.0005</td>\n",
       "      <td>0.0</td>\n",
       "      <td>-0.0</td>\n",
       "      <td>2224.566</td>\n",
       "      <td>0.0</td>\n",
       "      <td>0.0</td>\n",
       "      <td>0.0</td>\n",
       "      <td>0.0</td>\n",
       "      <td>0.0</td>\n",
       "      <td>0.0</td>\n",
       "      <td>-0.0</td>\n",
       "      <td>0.0</td>\n",
       "      <td>0.0</td>\n",
       "      <td>6257.229</td>\n",
       "      <td>0.0</td>\n",
       "      <td>763.755</td>\n",
       "      <td>20577.6194</td>\n",
       "      <td>0.0</td>\n",
       "      <td>0.01</td>\n",
       "      <td>1.25</td>\n",
       "      <td>1.0</td>\n",
       "      <td>2</td>\n",
       "      <td>2</td>\n",
       "      <td>0</td>\n",
       "      <td>0</td>\n",
       "      <td>1</td>\n",
       "      <td>0</td>\n",
       "      <td>1</td>\n",
       "      <td>0</td>\n",
       "      <td>0</td>\n",
       "      <td>0</td>\n",
       "      <td>0</td>\n",
       "      <td>0</td>\n",
       "      <td>0</td>\n",
       "      <td>0</td>\n",
       "      <td>0</td>\n",
       "      <td>0</td>\n",
       "      <td>0</td>\n",
       "      <td>0</td>\n",
       "      <td>0</td>\n",
       "      <td>0</td>\n",
       "      <td>0</td>\n",
       "      <td>0</td>\n",
       "      <td>0</td>\n",
       "      <td>0</td>\n",
       "      <td>0</td>\n",
       "      <td>0</td>\n",
       "      <td>0</td>\n",
       "      <td>0</td>\n",
       "      <td>0</td>\n",
       "      <td>0</td>\n",
       "      <td>0</td>\n",
       "      <td>0</td>\n",
       "      <td>0</td>\n",
       "      <td>0</td>\n",
       "      <td>0</td>\n",
       "      <td>0</td>\n",
       "      <td>0</td>\n",
       "      <td>0</td>\n",
       "      <td>0</td>\n",
       "      <td>0</td>\n",
       "      <td>0</td>\n",
       "      <td>0</td>\n",
       "      <td>0</td>\n",
       "      <td>1</td>\n",
       "      <td>0</td>\n",
       "      <td>0</td>\n",
       "      <td>0</td>\n",
       "      <td>1</td>\n",
       "      <td>0</td>\n",
       "      <td>0</td>\n",
       "      <td>0</td>\n",
       "      <td>1</td>\n",
       "      <td>0</td>\n",
       "      <td>0</td>\n",
       "      <td>0</td>\n",
       "      <td>0</td>\n",
       "      <td>0</td>\n",
       "      <td>0</td>\n",
       "      <td>0</td>\n",
       "      <td>0</td>\n",
       "      <td>0</td>\n",
       "      <td>0</td>\n",
       "      <td>1</td>\n",
       "      <td>0</td>\n",
       "    </tr>\n",
       "  </tbody>\n",
       "</table>\n",
       "</div>"
      ],
      "text/plain": [
       "     Energy   dEnergy    Data     dData  ELV/HL  dELV/HL  Protons  \\\n",
       "0  7.945469  5.945469  0.0300  0.001523     0.0      0.0        0   \n",
       "1  7.991669  5.991669  0.0291  0.001516     0.0      0.0        0   \n",
       "2  8.041393  6.041393  0.0279  0.001415     0.0      0.0        0   \n",
       "3  8.077731  6.077731  0.0264  0.001403     0.0      0.0        0   \n",
       "4  8.111934  6.111934  0.0256  0.001397     0.0      0.0        0   \n",
       "\n",
       "   Target_Neutrons  Mass_Excess  dMass_Excess  Binding_Energy  \\\n",
       "0                1   8071.31713       0.00046             0.0   \n",
       "1                1   8071.31713       0.00046             0.0   \n",
       "2                1   8071.31713       0.00046             0.0   \n",
       "3                1   8071.31713       0.00046             0.0   \n",
       "4                1   8071.31713       0.00046             0.0   \n",
       "\n",
       "   dBinding_Energy  B_Decay_Energy  dB_Decay_Energy  Atomic_Mass_Micro  \\\n",
       "0              0.0         782.347              0.0       1.008665e+06   \n",
       "1              0.0         782.347              0.0       1.008665e+06   \n",
       "2              0.0         782.347              0.0       1.008665e+06   \n",
       "3              0.0         782.347              0.0       1.008665e+06   \n",
       "4              0.0         782.347              0.0       1.008665e+06   \n",
       "\n",
       "   dAtomic_Mass_Micro  S(2n)  dS(2n)  S(2p)  dS(2p)  Q(a)  dQ(a)  Q(2B-)  \\\n",
       "0             0.00049    0.0     0.0    0.0     0.0   0.0    0.0     0.0   \n",
       "1             0.00049    0.0     0.0    0.0     0.0   0.0    0.0     0.0   \n",
       "2             0.00049    0.0     0.0    0.0     0.0   0.0    0.0     0.0   \n",
       "3             0.00049    0.0     0.0    0.0     0.0   0.0    0.0     0.0   \n",
       "4             0.00049    0.0     0.0    0.0     0.0   0.0    0.0     0.0   \n",
       "\n",
       "   dQ(2B-)  Q(ep)  dQ(ep)  Q(B-n)  dQ(B-n)  Target_Mass_Number  S(n)  dS(n)  \\\n",
       "0      0.0    0.0     0.0     0.0      0.0                   1   0.0    0.0   \n",
       "1      0.0    0.0     0.0     0.0      0.0                   1   0.0    0.0   \n",
       "2      0.0    0.0     0.0     0.0      0.0                   1   0.0    0.0   \n",
       "3      0.0    0.0     0.0     0.0      0.0                   1   0.0    0.0   \n",
       "4      0.0    0.0     0.0     0.0      0.0                   1   0.0    0.0   \n",
       "\n",
       "   S(p)  dS(p)  Q(4B-)  dQ(4B-)  Q(d,a)  dQ(d,a)  Q(p,a)  dQ(p,a)  Q(n,a)  \\\n",
       "0   0.0    0.0     0.0      0.0     0.0      0.0     0.0      0.0     0.0   \n",
       "1   0.0    0.0     0.0      0.0     0.0      0.0     0.0      0.0     0.0   \n",
       "2   0.0    0.0     0.0      0.0     0.0      0.0     0.0      0.0     0.0   \n",
       "3   0.0    0.0     0.0      0.0     0.0      0.0     0.0      0.0     0.0   \n",
       "4   0.0    0.0     0.0      0.0     0.0      0.0     0.0      0.0     0.0   \n",
       "\n",
       "   dQ(n,a)  Q(g,p)  Q(g,n)  Q(g,pn)  Q(g,d)  Q(g,t)  Q(g,He3)  Q(g,2p)  \\\n",
       "0      0.0     0.0    -0.0      0.0     0.0     0.0       0.0      0.0   \n",
       "1      0.0     0.0    -0.0      0.0     0.0     0.0       0.0      0.0   \n",
       "2      0.0     0.0    -0.0      0.0     0.0     0.0       0.0      0.0   \n",
       "3      0.0     0.0    -0.0      0.0     0.0     0.0       0.0      0.0   \n",
       "4      0.0     0.0    -0.0      0.0     0.0     0.0       0.0      0.0   \n",
       "\n",
       "   Q(g,2n)  Q(g,a)  Q(p,n)  Q(p,2p)  Q(p,pn)    Q(p,d)  Q(p,2n)  Q(p,t)  \\\n",
       "0      0.0     0.0  0.0005      0.0     -0.0  2224.566      0.0     0.0   \n",
       "1      0.0     0.0  0.0005      0.0     -0.0  2224.566      0.0     0.0   \n",
       "2      0.0     0.0  0.0005      0.0     -0.0  2224.566      0.0     0.0   \n",
       "3      0.0     0.0  0.0005      0.0     -0.0  2224.566      0.0     0.0   \n",
       "4      0.0     0.0  0.0005      0.0     -0.0  2224.566      0.0     0.0   \n",
       "\n",
       "   Q(p,3He)  Q(n,2p)  Q(n,np)  Q(n,d)  Q(n,2n)  Q(n,t)  Q(n,3He)    Q(d,t)  \\\n",
       "0       0.0      0.0      0.0     0.0     -0.0     0.0       0.0  6257.229   \n",
       "1       0.0      0.0      0.0     0.0     -0.0     0.0       0.0  6257.229   \n",
       "2       0.0      0.0      0.0     0.0     -0.0     0.0       0.0  6257.229   \n",
       "3       0.0      0.0      0.0     0.0     -0.0     0.0       0.0  6257.229   \n",
       "4       0.0      0.0      0.0     0.0     -0.0     0.0       0.0  6257.229   \n",
       "\n",
       "   Q(d,3He)  Q(3He,t)    Q(3He,a)  Q(t,a)   Unc  Nuc_Radius_fm  \\\n",
       "0       0.0   763.755  20577.6194     0.0  0.01           1.25   \n",
       "1       0.0   763.755  20577.6194     0.0  0.01           1.25   \n",
       "2       0.0   763.755  20577.6194     0.0  0.01           1.25   \n",
       "3       0.0   763.755  20577.6194     0.0  0.01           1.25   \n",
       "4       0.0   763.755  20577.6194     0.0  0.01           1.25   \n",
       "\n",
       "   Neut_Nuc_Rad_Ratio  Compound_Neutrons  Compound_Mass_Number  \\\n",
       "0                 1.0                  2                     2   \n",
       "1                 1.0                  2                     2   \n",
       "2                 1.0                  2                     2   \n",
       "3                 1.0                  2                     2   \n",
       "4                 1.0                  2                     2   \n",
       "\n",
       "   Target_Meta_State_1  Target_Meta_State_2  Target_Meta_State_G  \\\n",
       "0                    0                    0                    1   \n",
       "1                    0                    0                    1   \n",
       "2                    0                    0                    1   \n",
       "3                    0                    0                    1   \n",
       "4                    0                    0                    1   \n",
       "\n",
       "   Target_Meta_State_M  MT_1  MT_2  MT_3  MT_4  MT_16  MT_17  MT_18  MT_22  \\\n",
       "0                    0     1     0     0     0      0      0      0      0   \n",
       "1                    0     1     0     0     0      0      0      0      0   \n",
       "2                    0     1     0     0     0      0      0      0      0   \n",
       "3                    0     1     0     0     0      0      0      0      0   \n",
       "4                    0     1     0     0     0      0      0      0      0   \n",
       "\n",
       "   MT_24  MT_28  MT_29  MT_32  MT_33  MT_37  MT_41  MT_51  MT_101  MT_102  \\\n",
       "0      0      0      0      0      0      0      0      0       0       0   \n",
       "1      0      0      0      0      0      0      0      0       0       0   \n",
       "2      0      0      0      0      0      0      0      0       0       0   \n",
       "3      0      0      0      0      0      0      0      0       0       0   \n",
       "4      0      0      0      0      0      0      0      0       0       0   \n",
       "\n",
       "   MT_103  MT_104  MT_105  MT_106  MT_107  MT_108  MT_111  MT_112  MT_113  \\\n",
       "0       0       0       0       0       0       0       0       0       0   \n",
       "1       0       0       0       0       0       0       0       0       0   \n",
       "2       0       0       0       0       0       0       0       0       0   \n",
       "3       0       0       0       0       0       0       0       0       0   \n",
       "4       0       0       0       0       0       0       0       0       0   \n",
       "\n",
       "   MT_152  MT_153  MT_155  MT_158  MT_159  MT_160  MT_161  MT_203  I78_D  \\\n",
       "0       0       0       0       0       0       0       0       0      0   \n",
       "1       0       0       0       0       0       0       0       0      0   \n",
       "2       0       0       0       0       0       0       0       0      0   \n",
       "3       0       0       0       0       0       0       0       0      0   \n",
       "4       0       0       0       0       0       0       0       0      0   \n",
       "\n",
       "   I78_E  I78_L  Product_Meta_State_+  Product_Meta_State_1  \\\n",
       "0      0      1                     0                     0   \n",
       "1      0      1                     0                     0   \n",
       "2      0      1                     0                     0   \n",
       "3      0      1                     0                     0   \n",
       "4      0      1                     0                     0   \n",
       "\n",
       "   Product_Meta_State_2  Product_Meta_State_G  Product_Meta_State_L  \\\n",
       "0                     0                     1                     0   \n",
       "1                     0                     1                     0   \n",
       "2                     0                     1                     0   \n",
       "3                     0                     1                     0   \n",
       "4                     0                     1                     0   \n",
       "\n",
       "   Product_Meta_State_M  Frame_C  Frame_L  Origin_+  Origin_+a  Origin_+n  \\\n",
       "0                     0        0        1         0          0          0   \n",
       "1                     0        0        1         0          0          0   \n",
       "2                     0        0        1         0          0          0   \n",
       "3                     0        0        1         0          0          0   \n",
       "4                     0        0        1         0          0          0   \n",
       "\n",
       "   Origin_+p  Origin_-  Origin_-a  Origin_-n  Origin_-nn  Origin_-p  \\\n",
       "0          0         0          0          0           0          0   \n",
       "1          0         0          0          0           0          0   \n",
       "2          0         0          0          0           0          0   \n",
       "3          0         0          0          0           0          0   \n",
       "4          0         0          0          0           0          0   \n",
       "\n",
       "   Origin_IT  Origin_Other  Origin_x  \n",
       "0          0             1         0  \n",
       "1          0             1         0  \n",
       "2          0             1         0  \n",
       "3          0             1         0  \n",
       "4          0             1         0  "
      ]
     },
     "execution_count": 20,
     "metadata": {},
     "output_type": "execute_result"
    }
   ],
   "source": [
    "df.head()"
   ]
  },
  {
   "cell_type": "code",
   "execution_count": 22,
   "metadata": {},
   "outputs": [],
   "source": [
    "df_less_40 = df[df[\"Target_Mass_Number\"] < 40].sort_values(by='Energy', ascending=True)\n",
    "df_cl_only = df[df[\"Protons\"] == 17].sort_values(by='Energy', ascending=True)\n",
    "df_cl_35_np = df[(df[\"Protons\"] == 17) & (df[\"MT_103\"] == 1) & (df[\"Target_Mass_Number\"] == 35)].sort_values(by='Energy', ascending=True)\n",
    "df_u_238_nf = df[(df[\"Protons\"] == 92) & (df[\"MT_18\"] == 1) & (df[\"Target_Mass_Number\"] == 238)].sort_values(by='Energy', ascending=True)"
   ]
  },
  {
   "cell_type": "markdown",
   "metadata": {},
   "source": [
    "# Creating Training, Validation, and Testing Datasets"
   ]
  },
  {
   "cell_type": "code",
   "execution_count": 24,
   "metadata": {},
   "outputs": [],
   "source": [
    "from sklearn.model_selection import train_test_split"
   ]
  },
  {
   "cell_type": "code",
   "execution_count": 25,
   "metadata": {},
   "outputs": [],
   "source": [
    "x_train, x_test, y_train, y_test = train_test_split(df.drop([\"Data\", \"dData\"], axis=1), df[\"Data\"], test_size=0.20)\n",
    "# x_train, x_val, y_train, y_val = train_test_split(x_train, y_train, test_size=0.20, random_state=0)"
   ]
  },
  {
   "cell_type": "code",
   "execution_count": 27,
   "metadata": {},
   "outputs": [],
   "source": [
    "x_train_40, x_test_40, y_train_40, y_test_40 = train_test_split(df_less_40.drop([\"Data\", \"dData\"], axis=1), df_less_40[\"Data\"], test_size=0.20)\n",
    "x_train_cl, x_test_cl, y_train_cl, y_test_cl = train_test_split(df_cl_only.drop([\"Data\", \"dData\"], axis=1), df_cl_only[\"Data\"], test_size=0.20)\n",
    "x_train_np, x_test_np, y_train_np, y_test_np = train_test_split(df_cl_35_np.drop([\"Data\", \"dData\"], axis=1), df_cl_35_np[\"Data\"], test_size=0.20)\n",
    "x_train_u, x_test_u, y_train_u, y_test_u = train_test_split(df_u_238_nf.drop([\"Data\", \"dData\"], axis=1), df_u_238_nf[\"Data\"], test_size=0.20)"
   ]
  },
  {
   "cell_type": "markdown",
   "metadata": {},
   "source": [
    "# Data Standarization \n",
    "\n",
    "For DT, normalization does not matter generally. However, for other algorithms like simple/multiple linear regression, neural networks, and k-clustering magnitudes of different features can create unexpected biases towards features with larger magnitudes.\n",
    "\n",
    "It is good practice to normalize features that use different scales and ranges. Although the model *might* converge without feature normalization, it makes training more difficult, and it makes the resulting model dependent on the choice of units used in the input.\n",
    "\n",
    "Note: Although we intentionally generate these statistics from only the training dataset, these statistics will also be used to normalize the test dataset. We need to do that to project the test dataset into the same distribution that the model has been trained on."
   ]
  },
  {
   "cell_type": "code",
   "execution_count": 28,
   "metadata": {},
   "outputs": [],
   "source": [
    "from sklearn import preprocessing"
   ]
  },
  {
   "cell_type": "code",
   "execution_count": 32,
   "metadata": {
    "jupyter": {
     "source_hidden": true
    }
   },
   "outputs": [
    {
     "name": "stderr",
     "output_type": "stream",
     "text": [
      "C:\\Users\\Pedro\\Anaconda3\\envs\\data_mining_gpu\\lib\\site-packages\\sklearn\\preprocessing\\data.py:645: DataConversionWarning: Data with input dtype int32, float64 were all converted to float64 by StandardScaler.\n",
      "C:\\Users\\Pedro\\Anaconda3\\envs\\data_mining_gpu\\lib\\site-packages\\sklearn\\preprocessing\\data.py:645: DataConversionWarning: Data with input dtype int32, float64 were all converted to float64 by StandardScaler.\n",
      "C:\\Users\\Pedro\\Anaconda3\\envs\\data_mining_gpu\\lib\\site-packages\\sklearn\\preprocessing\\data.py:645: DataConversionWarning: Data with input dtype int32, float64 were all converted to float64 by StandardScaler.\n",
      "C:\\Users\\Pedro\\Anaconda3\\envs\\data_mining_gpu\\lib\\site-packages\\sklearn\\preprocessing\\data.py:645: DataConversionWarning: Data with input dtype int32, float64 were all converted to float64 by StandardScaler.\n",
      "C:\\Users\\Pedro\\Anaconda3\\envs\\data_mining_gpu\\lib\\site-packages\\sklearn\\preprocessing\\data.py:645: DataConversionWarning: Data with input dtype int32, float64 were all converted to float64 by StandardScaler.\n"
     ]
    }
   ],
   "source": [
    "# Specify columns to scale\n",
    "to_scale = list(x_train.columns)[:71]\n",
    "to_scale_40 = list(x_train_40.columns)[:71]\n",
    "to_scale_cl = list(x_train_cl.columns)[:71]\n",
    "to_scale_np = list(x_train_np.columns)[:71]\n",
    "to_scale_u = list(x_train_u.columns)[:71]\n",
    "scaler = preprocessing.StandardScaler().fit(x_train[to_scale])\n",
    "scaler_40 = preprocessing.StandardScaler().fit(x_train_40[to_scale])\n",
    "scaler_cl = preprocessing.StandardScaler().fit(x_train_cl[to_scale])\n",
    "scaler_np = preprocessing.StandardScaler().fit(x_train_np[to_scale])\n",
    "scaler_u = preprocessing.StandardScaler().fit(x_train_u[to_scale])"
   ]
  },
  {
   "cell_type": "code",
   "execution_count": 33,
   "metadata": {},
   "outputs": [],
   "source": [
    "x_train[to_scale] = scaler.transform(x_train[to_scale])\n",
    "# x_val[to_scale] = scaler.transform(x_val[to_scale])\n",
    "x_test[to_scale] = scaler.transform(x_test[to_scale])\n",
    "\n",
    "x_train_40[to_scale] = scaler.transform(x_train_40[to_scale])\n",
    "x_test_40[to_scale] = scaler.transform(x_test_40[to_scale])\n",
    "\n",
    "x_train_cl[to_scale] = scaler.transform(x_train_cl[to_scale])\n",
    "x_test_cl[to_scale] = scaler.transform(x_test_cl[to_scale])\n",
    "\n",
    "x_train_np[to_scale] = scaler.transform(x_train_np[to_scale])\n",
    "x_test_np[to_scale] = scaler.transform(x_test_np[to_scale])\n",
    "\n",
    "x_train_u[to_scale] = scaler.transform(x_train_u[to_scale])\n",
    "x_test_u[to_scale] = scaler.transform(x_test_u[to_scale])"
   ]
  },
  {
   "cell_type": "markdown",
   "metadata": {},
   "source": [
    "This normalized data is what we will use to train the model.\n",
    "\n",
    "Caution: The statistics used to normalize the inputs here (mean and standard deviation) need to be applied to any other data that is fed to the model, along with the one-hot encoding that we did earlier.  That includes the test set as well as live data when the model is used in production."
   ]
  },
  {
   "cell_type": "markdown",
   "metadata": {},
   "source": [
    "# Prediction and Plotting Function\n",
    "\n",
    "The following functions will be used to easily use the traine model to visualize the results on a particular isotope with a specific reaction type. "
   ]
  },
  {
   "cell_type": "code",
   "execution_count": 34,
   "metadata": {
    "jupyter": {
     "source_hidden": true
    }
   },
   "outputs": [],
   "source": [
    "def DistributionPlot(RedFunction, BlueFunction, RedName, BlueName, Title):\n",
    "    ''' Flexibly plot a univariate distribution of observations. '''\n",
    "    plt.figure(figsize=(12, 10))\n",
    "    ax1 = sns.distplot(RedFunction, hist=False, color=\"r\", label=RedName)\n",
    "    ax2 = sns.distplot(BlueFunction, hist=False, color=\"b\", label=BlueName, ax=ax1)\n",
    "    plt.yscale('log')\n",
    "    plt.xscale('log')\n",
    "    plt.title(Title)\n",
    "    plt.xlabel('Cross Section (b)')\n",
    "    plt.ylabel('Proportion of Data')\n",
    "    plt.show()"
   ]
  },
  {
   "cell_type": "code",
   "execution_count": 35,
   "metadata": {
    "jupyter": {
     "source_hidden": true
    }
   },
   "outputs": [],
   "source": [
    "def predicting_nuclear_xs(Reaction, Z, M, clf, E_min=0.01, E_max=475000):\n",
    "    ''' \n",
    "    Used to plot predictions of the clf model for specific isotope (Z, M) and runs.\n",
    "    MT is the reaction type (e.g 1 is total cross section)\n",
    "    E_min and E_max are the energy region in which to make additional inferences.\n",
    "    '''\n",
    "    # Extracting dataframe to make predictions and creating copy for evaluation\n",
    "    to_infer = df[(df[\"Protons\"] == Z) & (df[Reaction] == 1) & (df[\"Target_Mass_Number\"] == M)]\n",
    "    to_plot = to_infer.copy().sort_values(by='Energy', ascending=True)\n",
    "    \n",
    "    # Dropping XS data for inference and specifying additional energy range to predict\n",
    "    # energy_range = np.linspace((1E6*E_min), (E_max*1E6), 200)\n",
    "    energy_range = np.linspace(np.log10(1E6*E_min), np.log10(E_max*1E6), 50)\n",
    "    to_infer = to_infer.drop(columns=[\"Data\", \"dData\"])\n",
    "    to_infer2 = pd.DataFrame({\"Energy\": energy_range})\n",
    "    for i in list(to_infer.columns)[1:]:\n",
    "        to_infer2[i] = to_infer[i].values[1]\n",
    "    to_infer = to_infer.append(to_infer2, ignore_index=True).sort_values(by='Energy', ascending=True)\n",
    "\n",
    "    # Applying standard scaler method \n",
    "    to_infer[to_scale] = scaler.transform(to_infer[to_scale])\n",
    "    to_plot[to_scale] = scaler.transform(to_plot[to_scale])\n",
    "    new_data[to_scale] = scaler.transform(new_data[to_scale])\n",
    "    \n",
    "    # Making Prediction with given model\n",
    "    y_hat  = clf.predict(to_infer.values)\n",
    "    y_hat2 = clf.predict(to_plot.drop(columns=[\"Data\", \"dData\"]).values)\n",
    "    y_hat3 = clf.predict(new_data.drop(columns=[\"Data\", \"dData\"]).values)\n",
    "    \n",
    "    # Returning features to original values for plotting\n",
    "    to_infer[to_scale] = scaler.inverse_transform(to_infer[to_scale])\n",
    "    to_plot[to_scale] = scaler.inverse_transform(to_plot[to_scale])\n",
    "    new_data[to_scale] = scaler.inverse_transform(new_data[to_scale])\n",
    "\n",
    "    # Initializing Figure and Plotting \n",
    "    plt.figure(figsize=(16,10))\n",
    "    endf_eval = plt.plot(endf_all[\"Energy\"], endf_all[\"Data\"], alpha=0.3, c=\"g\")\n",
    "    true = plt.scatter(to_plot[\"Energy\"], to_plot[\"Data\"], alpha=0.3, c='b')\n",
    "    unseen = plt.scatter(new_data[\"Energy\"], new_data[\"Data\"], alpha=0.3, c=\"b\")\n",
    "    \n",
    "    pred = plt.scatter(to_infer[\"Energy\"], y_hat, alpha=0.5, c=\"orange\")\n",
    "    pred_unseen = plt.scatter(new_data[\"Energy\"], y_hat3, alpha=0.5, c=\"r\")\n",
    "    \n",
    "    plt.ylim(1E-5, 1.5E1)\n",
    "    plt.yscale('log')\n",
    "    plt.title('Cross Section Inference ' + Reaction)\n",
    "    plt.xlabel('Log10 Energy(MeV)')\n",
    "    plt.ylabel('Cross Section (b)')\n",
    "    plt.legend((endf_eval, true, unseen, pred, pred_unseen), ('ENDF', 'EXFOR', \"New Measurments\", \"EXFOR Pred\", \"New Pred\"), loc='upper left')\n",
    "    plt.show()\n",
    "    \n",
    "    \n",
    "    # Initializing Figure and Plotting \n",
    "    plt.figure(figsize=(16,10))\n",
    "    pred_unseen = plt.scatter(new_data[\"Energy\"], y_hat3, alpha=0.5, c=\"orange\")\n",
    "    # unseen = plt.scatter(new_data[\"Energy\"], new_data[\"Data\"], alpha=0.5, label=\"New Data True\", c=\"r\")  \n",
    "    unseen = plt.errorbar(new_data[\"Energy\"], new_data[\"Data\"], yerr=new_data[\"dData\"], c='b', fmt='o', alpha=0.3)\n",
    "    endf_data = plt.plot(endf['Energy'], endf[\"Data\"], c=\"g\", alpha=0.3)\n",
    "#     plt.ylim(1E-5, 1.5E1)\n",
    "#     plt.yscale('log')\n",
    "    plt.title('Cross Section Inference ' + Reaction)\n",
    "    plt.xlabel('Log10 Energy(MeV)')\n",
    "    plt.ylabel('Cross Section (b)')\n",
    "    plt.legend((pred_unseen, unseen, endf_data), (\"New Pred\", \"New\", \"ENDF\"), loc='upper left')\n",
    "    plt.show()\n",
    "    \n",
    "    # Measuring metrics on predictions.\n",
    "    print(\"The MSE is: \", mean_squared_error(to_plot[\"Data\"], y_hat2))\n",
    "    print(\"The R2-Score is: \", r2_score(to_plot[\"Data\"], y_hat2))"
   ]
  },
  {
   "cell_type": "code",
   "execution_count": 196,
   "metadata": {
    "jupyter": {
     "source_hidden": true
    }
   },
   "outputs": [],
   "source": [
    "def predicting_nuclear_xs_e(MT, Z, M, clf, E_min=0.01, E_max=475000):\n",
    "    ''' \n",
    "    Used to plot predictions of the clf model for specific isotope (Z, M) and runs.\n",
    "    MT is the reaction type (e.g 1 is total cross section)\n",
    "    E_min and E_max are the energy region in which to make additional inferences.\n",
    "    '''\n",
    "    # --- Extracting dataframe to make predictions and\n",
    "    #     Copying dataframe to apply model metrics \n",
    "    to_infer = df[(df[\"Protons\"] == Z) & (df[MT] == 1) & (df[\"Target_Mass_Number\"] == M)][[\"Energy\", \"Data\"]]\n",
    "    to_plot = to_infer.copy().sort_values(by='Energy', ascending=True)\n",
    "    \n",
    "    # Dropping Data (XS) for inference\n",
    "    # Creating additional points to plot based on energy range given\n",
    "    energy_range = np.linspace(np.log10(1E6*E_min), np.log10(E_max*1E6), 100)\n",
    "    to_infer = to_infer.drop(columns=[\"Data\"]).append(pd.DataFrame({\"Energy\": energy_range}), ignore_index=True).sort_values(by='Energy', ascending=True)\n",
    "\n",
    "    # Applying standard scaler method \n",
    "    to_infer[\"Energy\"] = e_scaler.transform(to_infer[[\"Energy\"]])\n",
    "    to_plot[\"Energy\"] = e_scaler.transform(to_plot[[\"Energy\"]])\n",
    "        \n",
    "    # Making Prediction with given model\n",
    "    y_hat  = clf.predict(to_infer)\n",
    "    y_hat_2 = clf.predict(to_plot.drop(columns=[\"Data\"]))\n",
    "    \n",
    "    # Returning features to original values for plotting\n",
    "    to_infer[[\"Energy\"]] = e_scaler.inverse_transform(to_infer[[\"Energy\"]])\n",
    "    to_plot[[\"Energy\"]] = e_scaler.inverse_transform(to_plot[[\"Energy\"]])\n",
    "\n",
    "    # Initializing Figure and Plotting \n",
    "    plt.figure(figsize=(15,10))\n",
    "    pred = plt.scatter(to_infer[\"Energy\"], y_hat, alpha=0.5)\n",
    "    true = plt.scatter(to_plot[\"Energy\"], to_plot[\"Data\"], alpha=0.3)\n",
    "    \n",
    "    unseen = plt.scatter(new_data[\"Energy\"], new_data[\"Data\"], alpha=0.5, label=\"New Data\")\n",
    "    \n",
    "    plt.ylim(1E-5, 1.5E1)\n",
    "    plt.yscale('log')\n",
    "    plt.title('Cl-35 Cross Section ' + MT)\n",
    "    plt.xlabel('Energy(eV)')\n",
    "    plt.ylabel('Cross Section (b)')\n",
    "    \n",
    "    plt.legend((pred, true, unseen), ('Predicted', 'True', \"New\"), loc='upper left')\n",
    "    \n",
    "    plt.show()\n",
    "    \n",
    "    # Measuring metrics on predictions.\n",
    "    print(\"The MSE is: \", mean_squared_error(to_plot[\"Data\"], y_hat_2))\n",
    "    print(\"The R2-Score is: \", r2_score(to_plot[\"Data\"], y_hat_2))"
   ]
  },
  {
   "cell_type": "markdown",
   "metadata": {},
   "source": [
    "# Chlorine Data"
   ]
  },
  {
   "cell_type": "code",
   "execution_count": 33,
   "metadata": {},
   "outputs": [
    {
     "name": "stderr",
     "output_type": "stream",
     "text": [
      "C:\\Users\\Pedro\\Anaconda3\\envs\\data_mining_gpu\\lib\\site-packages\\ipykernel_launcher.py:3: DataConversionWarning: Data with input dtype int32, float64 were all converted to float64 by StandardScaler.\n",
      "  This is separate from the ipykernel package so we can avoid doing imports until\n"
     ]
    }
   ],
   "source": [
    "# Chlorine for Training and Testing (Single Isotope)\n",
    "x_cl = to_plot.drop(columns=[\"Data\", \"dData\"])\n",
    "x_cl[to_scale] = scaler.transform(x_cl[to_scale])\n",
    "y_cl = to_plot[\"Data\"]\n",
    "x_cl_train, x_cl_test, y_cl_train, y_cl_test = train_test_split(x_cl, y_cl, test_size=0.20, random_state=0)\n",
    "\n",
    "# Only Energy\n",
    "x_cl_en = x_cl[[\"Energy\"]]"
   ]
  },
  {
   "cell_type": "markdown",
   "metadata": {},
   "source": [
    "# Converting Pandas DataFrame to a TF Dataset"
   ]
  },
  {
   "cell_type": "code",
   "execution_count": 34,
   "metadata": {},
   "outputs": [],
   "source": [
    "# train_dataset = tf.data.Dataset.from_tensor_slices((x_train.values, y_train.values)).shuffle(len(x_train))\n",
    "# val_dataset = tf.data.Dataset.from_tensor_slices((x_val.values, y_val.values)).shuffle(len(x_val))\n",
    "# test_dataset = tf.data.Dataset.from_tensor_slices((x_test.values, y_test.values)).shuffle(len(x_test))"
   ]
  },
  {
   "cell_type": "markdown",
   "metadata": {},
   "source": [
    "# Neural Networks\n",
    "\n",
    "### Build the model\n",
    "\n",
    "Let's build our model. Here, we'll use a `Sequential` model with two densely connected hidden layers, and an output layer that returns a single, continuous value. The model building steps are wrapped in a function, `build_model`, since we'll create a second model, later on."
   ]
  },
  {
   "cell_type": "code",
   "execution_count": 35,
   "metadata": {},
   "outputs": [
    {
     "ename": "AttributeError",
     "evalue": "module 'tensorflow' has no attribute 'config'",
     "output_type": "error",
     "traceback": [
      "\u001b[1;31m---------------------------------------------------------------------------\u001b[0m",
      "\u001b[1;31mAttributeError\u001b[0m                            Traceback (most recent call last)",
      "\u001b[1;32m<ipython-input-35-c316acf769d0>\u001b[0m in \u001b[0;36m<module>\u001b[1;34m\u001b[0m\n\u001b[1;32m----> 1\u001b[1;33m \u001b[0mprint\u001b[0m\u001b[1;33m(\u001b[0m\u001b[1;34m\"Num GPUs Available: \"\u001b[0m\u001b[1;33m,\u001b[0m \u001b[0mlen\u001b[0m\u001b[1;33m(\u001b[0m\u001b[0mtf\u001b[0m\u001b[1;33m.\u001b[0m\u001b[0mconfig\u001b[0m\u001b[1;33m.\u001b[0m\u001b[0mexperimental\u001b[0m\u001b[1;33m.\u001b[0m\u001b[0mlist_physical_devices\u001b[0m\u001b[1;33m(\u001b[0m\u001b[1;34m'GPU'\u001b[0m\u001b[1;33m)\u001b[0m\u001b[1;33m)\u001b[0m\u001b[1;33m)\u001b[0m\u001b[1;33m\u001b[0m\u001b[1;33m\u001b[0m\u001b[0m\n\u001b[0m",
      "\u001b[1;31mAttributeError\u001b[0m: module 'tensorflow' has no attribute 'config'"
     ]
    }
   ],
   "source": [
    "print(\"Num GPUs Available: \", len(tf.config.experimental.list_physical_devices('GPU')))"
   ]
  },
  {
   "cell_type": "code",
   "execution_count": 29,
   "metadata": {},
   "outputs": [],
   "source": [
    "# mirrored_strategy = tf.distribute.MirroredStrategy()\n",
    "# print('Number of devices: {}'.format(mirrored_strategy.num_replicas_in_sync))"
   ]
  },
  {
   "cell_type": "code",
   "execution_count": 44,
   "metadata": {},
   "outputs": [],
   "source": [
    "# BUFFER_SIZE = 10000\n",
    "\n",
    "# BATCH_SIZE_PER_REPLICA = 64\n",
    "# BATCH_SIZE = BATCH_SIZE_PER_REPLICA * mirrored_strategy.num_replicas_in_sync"
   ]
  },
  {
   "cell_type": "code",
   "execution_count": 50,
   "metadata": {},
   "outputs": [
    {
     "data": {
      "text/plain": [
       "133"
      ]
     },
     "execution_count": 50,
     "metadata": {},
     "output_type": "execute_result"
    }
   ],
   "source": [
    "df.shape[1]"
   ]
  },
  {
   "cell_type": "code",
   "execution_count": 71,
   "metadata": {},
   "outputs": [],
   "source": [
    "data_len = df_cl_only.shape[0]\n",
    "feature_len = df_cl_only.shape[1]\n",
    "input_shape = [feature_len-2]\n",
    "\n",
    "early_stop = keras.callbacks.EarlyStopping(monitor='val_loss', patience=100)\n",
    "\n",
    "N_TRAIN = data_len*0.8\n",
    "BATCH_SIZE = 64\n",
    "STEPS_PER_EPOCH = N_TRAIN//BATCH_SIZE\n",
    "\n",
    "lr_schedule = tf.keras.optimizers.schedules.InverseTimeDecay(\n",
    "    0.001,\n",
    "    decay_steps=STEPS_PER_EPOCH*1000,\n",
    "    decay_rate=1,\n",
    "    staircase=False)\n",
    "\n",
    "def get_optimizer():\n",
    "    return tf.keras.optimizers.Adam(lr_schedule)\n",
    "\n",
    "def get_callbacks(name):\n",
    "    return [\n",
    "        tfdocs.modeling.EpochDots(),\n",
    "        tf.keras.callbacks.EarlyStopping(monitor='val_loss', patience=200),\n",
    "        tf.keras.callbacks.TensorBoard(logdir/name)]\n",
    "\n",
    "def compile_and_fit(model, name, x, y, optimizer=None, max_epochs=10000, VERBOSE=0):\n",
    "    if optimizer is None:\n",
    "        optimizer = get_optimizer()\n",
    "\n",
    "    model.compile(optimizer=optimizer,\n",
    "                  loss='mse',\n",
    "                  metrics=['mae', 'mse'])\n",
    "\n",
    "    model.summary()\n",
    "    \n",
    "    history = model.fit(\n",
    "        x, y,\n",
    "        batch_size=BATCH_SIZE, shuffle=True,\n",
    "        steps_per_epoch = STEPS_PER_EPOCH,\n",
    "        epochs=max_epochs, validation_split=0.2, verbose=VERBOSE,\n",
    "        callbacks=[early_stop, tfdocs.modeling.EpochDots()])\n",
    "    \n",
    "    return history"
   ]
  },
  {
   "cell_type": "code",
   "execution_count": 52,
   "metadata": {},
   "outputs": [],
   "source": [
    "size_histories = {}\n",
    "size_histories_gpu = {}"
   ]
  },
  {
   "cell_type": "code",
   "execution_count": 63,
   "metadata": {},
   "outputs": [
    {
     "data": {
      "text/plain": [
       "131"
      ]
     },
     "execution_count": 63,
     "metadata": {},
     "output_type": "execute_result"
    }
   ],
   "source": [
    "feature_len-2"
   ]
  },
  {
   "cell_type": "code",
   "execution_count": 64,
   "metadata": {},
   "outputs": [],
   "source": [
    "# tiny_model = tf.keras.Sequential([\n",
    "#     layers.Dense(16, activation='elu', input_shape=[len(df_cl_only.keys())]),\n",
    "#     layers.Dense(1)])\n",
    "\n",
    "\n",
    "tiny_model = tf.keras.Sequential([\n",
    "    layers.Dense(16, activation='elu', input_shape=[feature_len-2]),\n",
    "    layers.Dense(1)])"
   ]
  },
  {
   "cell_type": "code",
   "execution_count": 65,
   "metadata": {},
   "outputs": [
    {
     "name": "stdout",
     "output_type": "stream",
     "text": [
      "Model: \"sequential_2\"\n",
      "_________________________________________________________________\n",
      "Layer (type)                 Output Shape              Param #   \n",
      "=================================================================\n",
      "dense_5 (Dense)              (None, 16)                2112      \n",
      "_________________________________________________________________\n",
      "dense_6 (Dense)              (None, 1)                 17        \n",
      "=================================================================\n",
      "Total params: 2,129\n",
      "Trainable params: 2,129\n",
      "Non-trainable params: 0\n",
      "_________________________________________________________________\n",
      "\n",
      "Epoch: 0, loss:2589461398.5705,  mae:7098.3794,  mse:2589461248.0000,  val_loss:222669906.1458,  val_mae:1037.2551,  val_mse:222669904.0000,  \n",
      "....................................................................................................Wall time: 1min 13s\n"
     ]
    }
   ],
   "source": [
    "%%time\n",
    "size_histories['Tiny'] = compile_and_fit(tiny_model, 'sizes/Tiny', df_cl_only.drop([\"Data\", \"dData\"], axis=1).values, df_cl_only[\"Data\"].values, max_epochs=100)"
   ]
  },
  {
   "cell_type": "code",
   "execution_count": 55,
   "metadata": {
    "jupyter": {
     "source_hidden": true
    }
   },
   "outputs": [],
   "source": [
    "# strategy = tf.distribute.MirroredStrategy(cross_device_ops=tf.distribute.HierarchicalCopyAllReduce())\n",
    "# print('Number of devices: {}'.format(strategy.num_replicas_in_sync))\n",
    "\n",
    "# %%time\n",
    "# def gpu_compile_and_fit(name, optimizer=None, max_epochs=10000, VERBOSE=0):\n",
    "#     with strategy.scope():\n",
    "#         lr_schedule = tf.keras.optimizers.schedules.InverseTimeDecay(\n",
    "#             0.001,\n",
    "#             decay_steps=STEPS_PER_EPOCH*1000,\n",
    "#             decay_rate=1,\n",
    "#             staircase=False)\n",
    "        \n",
    "#         optimizer = tf.keras.optimizers.Adam(lr_schedule)\n",
    "        \n",
    "#         tiny_model = tf.keras.Sequential([\n",
    "#             layers.Dense(16, activation='elu', input_shape=[len(x_train.keys())]),\n",
    "#             layers.Dense(1)])\n",
    "\n",
    "#         tiny_model.compile(optimizer=optimizer,\n",
    "#                       loss='mse',\n",
    "#                       metrics=['mae', 'mse'])\n",
    "\n",
    "#         tiny_model.summary()\n",
    "        \n",
    "#         callbacks = [tfdocs.modeling.EpochDots(),\n",
    "#             tf.keras.callbacks.EarlyStopping(monitor='val_loss', patience=200),\n",
    "#             tf.keras.callbacks.TensorBoard(logdir/name)]\n",
    "\n",
    "#         history = tiny_model.fit(\n",
    "#             x_train.values, y_train.values,\n",
    "#             batch_size=BATCH_SIZE, shuffle=True,\n",
    "#             steps_per_epoch = STEPS_PER_EPOCH,\n",
    "#             epochs=max_epochs, validation_split=0.2, verbose=VERBOSE,\n",
    "#             callbacks=[early_stop, tfdocs.modeling.EpochDots()])\n",
    "    \n",
    "# size_histories_gpu['Tiny'] = gpu_compile_and_fit('sizes/Tiny', max_epochs=100)"
   ]
  },
  {
   "cell_type": "code",
   "execution_count": 66,
   "metadata": {},
   "outputs": [
    {
     "data": {
      "text/plain": [
       "Text(0, 0.5, 'MSE [XS^2]')"
      ]
     },
     "execution_count": 66,
     "metadata": {},
     "output_type": "execute_result"
    },
    {
     "data": {
      "image/png": "[encoded data removed]",
      "text/plain": [
       "<Figure size 432x288 with 1 Axes>"
      ]
     },
     "metadata": {},
     "output_type": "display_data"
    }
   ],
   "source": [
    "plotter = tfdocs.plots.HistoryPlotter(metric = 'mse', smoothing_std=5)\n",
    "plotter.plot(size_histories)\n",
    "plt.ylim()\n",
    "plt.ylabel('MSE [XS^2]')"
   ]
  },
  {
   "cell_type": "code",
   "execution_count": 68,
   "metadata": {},
   "outputs": [],
   "source": [
    "small_model = tf.keras.Sequential([\n",
    "    # `input_shape` is only required here so that `.summary` works.\n",
    "    layers.Dense(16, activation='elu', input_shape=[feature_len-2]),\n",
    "    layers.Dense(16, activation='elu'),\n",
    "    layers.Dense(1)\n",
    "])"
   ]
  },
  {
   "cell_type": "code",
   "execution_count": 69,
   "metadata": {},
   "outputs": [
    {
     "name": "stdout",
     "output_type": "stream",
     "text": [
      "Model: \"sequential_3\"\n",
      "_________________________________________________________________\n",
      "Layer (type)                 Output Shape              Param #   \n",
      "=================================================================\n",
      "dense_7 (Dense)              (None, 16)                2112      \n",
      "_________________________________________________________________\n",
      "dense_8 (Dense)              (None, 16)                272       \n",
      "_________________________________________________________________\n",
      "dense_9 (Dense)              (None, 1)                 17        \n",
      "=================================================================\n",
      "Total params: 2,401\n",
      "Trainable params: 2,401\n",
      "Non-trainable params: 0\n",
      "_________________________________________________________________\n",
      "\n",
      "Epoch: 0, loss:39151056932.9832,  mae:30368.6641,  mse:39151042560.0000,  val_loss:27444185.7407,  val_mae:362.2831,  val_mse:27444188.0000,  \n",
      "....................................................................................................Wall time: 1min 13s\n"
     ]
    }
   ],
   "source": [
    "%%time\n",
    "# size_histories['Small'] = compile_and_fit(small_model, 'sizes/Small', max_epochs=100)\n",
    "size_histories['Small'] = compile_and_fit(small_model, 'sizes/Small', df_cl_only.drop([\"Data\", \"dData\"], axis=1).values, df_cl_only[\"Data\"].values, max_epochs=100)"
   ]
  },
  {
   "cell_type": "code",
   "execution_count": 66,
   "metadata": {},
   "outputs": [],
   "source": [
    "medium_model = tf.keras.Sequential([\n",
    "    layers.Dense(64, activation='elu', input_shape=input_shape),\n",
    "    layers.Dense(64, activation='elu'),\n",
    "    layers.Dense(64, activation='elu'),\n",
    "    layers.Dense(1)])"
   ]
  },
  {
   "cell_type": "code",
   "execution_count": 67,
   "metadata": {},
   "outputs": [
    {
     "name": "stdout",
     "output_type": "stream",
     "text": [
      "Model: \"sequential_8\"\n",
      "_________________________________________________________________\n",
      "Layer (type)                 Output Shape              Param #   \n",
      "=================================================================\n",
      "dense_17 (Dense)             (None, 64)                8448      \n",
      "_________________________________________________________________\n",
      "dense_18 (Dense)             (None, 64)                4160      \n",
      "_________________________________________________________________\n",
      "dense_19 (Dense)             (None, 64)                4160      \n",
      "_________________________________________________________________\n",
      "dense_20 (Dense)             (None, 1)                 65        \n",
      "=================================================================\n",
      "Total params: 16,833\n",
      "Trainable params: 16,833\n",
      "Non-trainable params: 0\n",
      "_________________________________________________________________\n",
      "\n",
      "Epoch: 0, loss:362047249517.1046,  mae:7891.1987,  mse:362047176704.0000,  val_loss:358978106830.2456,  val_mae:9469.2402,  val_mse:358978125824.0000,  \n",
      "....................................................................................................Wall time: 5min 57s\n"
     ]
    }
   ],
   "source": [
    "%%time\n",
    "size_histories['Medium']  = compile_and_fit(medium_model, \"sizes/Medium\", max_epochs=100)"
   ]
  },
  {
   "cell_type": "code",
   "execution_count": 72,
   "metadata": {},
   "outputs": [],
   "source": [
    "large_model = tf.keras.Sequential([\n",
    "    layers.Dense(512, activation='elu', input_shape=input_shape),\n",
    "    layers.Dense(512, activation='elu'),\n",
    "    layers.Dense(512, activation='elu'),\n",
    "    layers.Dense(512, activation='elu'),\n",
    "    layers.Dense(1)])"
   ]
  },
  {
   "cell_type": "code",
   "execution_count": 73,
   "metadata": {},
   "outputs": [
    {
     "name": "stdout",
     "output_type": "stream",
     "text": [
      "Model: \"sequential_4\"\n",
      "_________________________________________________________________\n",
      "Layer (type)                 Output Shape              Param #   \n",
      "=================================================================\n",
      "dense_10 (Dense)             (None, 512)               67584     \n",
      "_________________________________________________________________\n",
      "dense_11 (Dense)             (None, 512)               262656    \n",
      "_________________________________________________________________\n",
      "dense_12 (Dense)             (None, 512)               262656    \n",
      "_________________________________________________________________\n",
      "dense_13 (Dense)             (None, 512)               262656    \n",
      "_________________________________________________________________\n",
      "dense_14 (Dense)             (None, 1)                 513       \n",
      "=================================================================\n",
      "Total params: 856,065\n",
      "Trainable params: 856,065\n",
      "Non-trainable params: 0\n",
      "_________________________________________________________________\n",
      "\n",
      "Epoch: 0, loss:24656290670.1200,  mae:12275.6680,  mse:24656289792.0000,  val_loss:4956081.7704,  val_mae:469.6517,  val_mse:4956082.0000,  \n",
      "....................................................................................................Wall time: 1min 22s\n"
     ]
    }
   ],
   "source": [
    "%%time\n",
    "# size_histories['large'] = compile_and_fit(large_model, \"sizes/large\", max_epochs=100)\n",
    "size_histories['large'] = compile_and_fit(large_model, 'sizes/large', df_cl_only.drop([\"Data\", \"dData\"], axis=1).values, df_cl_only[\"Data\"].values, max_epochs=100)"
   ]
  },
  {
   "cell_type": "code",
   "execution_count": 73,
   "metadata": {},
   "outputs": [],
   "source": [
    "# from bokeh.plotting import figure, output_file, show\n",
    "# output_file(\"lines.html\")"
   ]
  },
  {
   "cell_type": "code",
   "execution_count": 87,
   "metadata": {},
   "outputs": [],
   "source": [
    "# # create a new plot with a title and axis labels\n",
    "# p = figure(title=\"simple line example\", x_axis_label='x', y_axis_label='y')\n",
    "\n",
    "# # add a line renderer with legend and line thickness\n",
    "# p.line(np.linspace(0, 99, 100), pd.DataFrame(size_histories[\"large\"].history)[\"mse\"], legend=\"Temp.\", line_width=2)\n",
    "\n",
    "# # show the results\n",
    "# show(p)"
   ]
  },
  {
   "cell_type": "code",
   "execution_count": 76,
   "metadata": {},
   "outputs": [
    {
     "data": {
      "text/plain": [
       "Text(0.5, 0, 'Epochs [Log Scale]')"
      ]
     },
     "execution_count": 76,
     "metadata": {},
     "output_type": "execute_result"
    },
    {
     "data": {
      "image/png": "[encoded data removed]",
      "text/plain": [
       "<Figure size 432x288 with 1 Axes>"
      ]
     },
     "metadata": {},
     "output_type": "display_data"
    }
   ],
   "source": [
    "plotter.plot(size_histories)\n",
    "a = plt.xscale('log')\n",
    "plt.xlim([5, max(plt.xlim())])\n",
    "# plt.ylim([0.5, 0.7])\n",
    "plt.yscale('log')\n",
    "plt.xlabel(\"Epochs [Log Scale]\")"
   ]
  },
  {
   "cell_type": "markdown",
   "metadata": {},
   "source": [
    "# Adding Regularization"
   ]
  },
  {
   "cell_type": "code",
   "execution_count": 78,
   "metadata": {},
   "outputs": [],
   "source": [
    "regularizer_histories = {}\n",
    "regularizer_histories['Tiny'] = size_histories['Tiny']"
   ]
  },
  {
   "cell_type": "code",
   "execution_count": 79,
   "metadata": {},
   "outputs": [
    {
     "name": "stdout",
     "output_type": "stream",
     "text": [
      "Model: \"sequential_5\"\n",
      "_________________________________________________________________\n",
      "Layer (type)                 Output Shape              Param #   \n",
      "=================================================================\n",
      "dense_15 (Dense)             (None, 512)               67584     \n",
      "_________________________________________________________________\n",
      "dense_16 (Dense)             (None, 512)               262656    \n",
      "_________________________________________________________________\n",
      "dense_17 (Dense)             (None, 512)               262656    \n",
      "_________________________________________________________________\n",
      "dense_18 (Dense)             (None, 512)               262656    \n",
      "_________________________________________________________________\n",
      "dense_19 (Dense)             (None, 1)                 513       \n",
      "=================================================================\n",
      "Total params: 856,065\n",
      "Trainable params: 856,065\n",
      "Non-trainable params: 0\n",
      "_________________________________________________________________\n",
      "\n",
      "Epoch: 0, loss:43452115383.9267,  mae:16505.1328,  mse:43452104704.0000,  val_loss:8838240.5940,  val_mae:593.0382,  val_mse:8838240.0000,  \n",
      "...................................................................................................."
     ]
    }
   ],
   "source": [
    "l2_model = tf.keras.Sequential([\n",
    "    layers.Dense(512, activation='elu',\n",
    "                 kernel_regularizer=regularizers.l2(0.001),\n",
    "                 input_shape=input_shape),\n",
    "    layers.Dense(512, activation='elu',\n",
    "                 kernel_regularizer=regularizers.l2(0.001)),\n",
    "    layers.Dense(512, activation='elu',\n",
    "                 kernel_regularizer=regularizers.l2(0.001)),\n",
    "    layers.Dense(512, activation='elu',\n",
    "                 kernel_regularizer=regularizers.l2(0.001)),\n",
    "    layers.Dense(1)\n",
    "])\n",
    "\n",
    "regularizer_histories['l2'] = compile_and_fit(l2_model, 'regularizers/l2', df_cl_only.drop([\"Data\", \"dData\"], axis=1).values, df_cl_only[\"Data\"].values, max_epochs=100)"
   ]
  },
  {
   "cell_type": "code",
   "execution_count": 80,
   "metadata": {},
   "outputs": [
    {
     "data": {
      "image/png": "[encoded data removed]",
      "text/plain": [
       "<Figure size 432x288 with 1 Axes>"
      ]
     },
     "metadata": {},
     "output_type": "display_data"
    }
   ],
   "source": [
    "plotter.plot(regularizer_histories)\n",
    "# plt.ylim([0.5, 0.7])"
   ]
  },
  {
   "cell_type": "code",
   "execution_count": 81,
   "metadata": {},
   "outputs": [
    {
     "name": "stdout",
     "output_type": "stream",
     "text": [
      "Model: \"sequential_6\"\n",
      "_________________________________________________________________\n",
      "Layer (type)                 Output Shape              Param #   \n",
      "=================================================================\n",
      "dense_20 (Dense)             (None, 512)               67584     \n",
      "_________________________________________________________________\n",
      "dropout (Dropout)            (None, 512)               0         \n",
      "_________________________________________________________________\n",
      "dense_21 (Dense)             (None, 512)               262656    \n",
      "_________________________________________________________________\n",
      "dropout_1 (Dropout)          (None, 512)               0         \n",
      "_________________________________________________________________\n",
      "dense_22 (Dense)             (None, 512)               262656    \n",
      "_________________________________________________________________\n",
      "dropout_2 (Dropout)          (None, 512)               0         \n",
      "_________________________________________________________________\n",
      "dense_23 (Dense)             (None, 512)               262656    \n",
      "_________________________________________________________________\n",
      "dropout_3 (Dropout)          (None, 512)               0         \n",
      "_________________________________________________________________\n",
      "dense_24 (Dense)             (None, 1)                 513       \n",
      "=================================================================\n",
      "Total params: 856,065\n",
      "Trainable params: 856,065\n",
      "Non-trainable params: 0\n",
      "_________________________________________________________________\n",
      "\n",
      "Epoch: 0, loss:46.0133,  mae:2.6711,  mse:46.0133,  val_loss:3.3181,  val_mae:1.7510,  val_mse:3.3181,  \n",
      "....................................................................................................Wall time: 1min 27s\n"
     ]
    }
   ],
   "source": [
    "%%time\n",
    "dropout_model = tf.keras.Sequential([\n",
    "    layers.Dense(512, activation='elu', input_shape=[len(x_train.keys())]),\n",
    "    layers.Dropout(0.5),\n",
    "    layers.Dense(512, activation='elu'),\n",
    "    layers.Dropout(0.5),\n",
    "    layers.Dense(512, activation='elu'),\n",
    "    layers.Dropout(0.5),\n",
    "    layers.Dense(512, activation='elu'),\n",
    "    layers.Dropout(0.5),\n",
    "    layers.Dense(1, activation='sigmoid')\n",
    "])\n",
    "\n",
    "regularizer_histories['dropout'] = compile_and_fit(dropout_model, 'regularizers/dropout', df_cl_only.drop([\"Data\", \"dData\"], axis=1).values, df_cl_only[\"Data\"].values, max_epochs=100)"
   ]
  },
  {
   "cell_type": "code",
   "execution_count": 82,
   "metadata": {},
   "outputs": [
    {
     "data": {
      "image/png": "[encoded data removed]",
      "text/plain": [
       "<Figure size 432x288 with 1 Axes>"
      ]
     },
     "metadata": {},
     "output_type": "display_data"
    }
   ],
   "source": [
    "plotter.plot(regularizer_histories)\n",
    "# plt.ylim([0.5, 0.7])"
   ]
  },
  {
   "cell_type": "code",
   "execution_count": 83,
   "metadata": {},
   "outputs": [
    {
     "name": "stdout",
     "output_type": "stream",
     "text": [
      "Model: \"sequential_7\"\n",
      "_________________________________________________________________\n",
      "Layer (type)                 Output Shape              Param #   \n",
      "=================================================================\n",
      "dense_25 (Dense)             (None, 512)               67584     \n",
      "_________________________________________________________________\n",
      "dropout_4 (Dropout)          (None, 512)               0         \n",
      "_________________________________________________________________\n",
      "dense_26 (Dense)             (None, 512)               262656    \n",
      "_________________________________________________________________\n",
      "dropout_5 (Dropout)          (None, 512)               0         \n",
      "_________________________________________________________________\n",
      "dense_27 (Dense)             (None, 512)               262656    \n",
      "_________________________________________________________________\n",
      "dropout_6 (Dropout)          (None, 512)               0         \n",
      "_________________________________________________________________\n",
      "dense_28 (Dense)             (None, 512)               262656    \n",
      "_________________________________________________________________\n",
      "dropout_7 (Dropout)          (None, 512)               0         \n",
      "_________________________________________________________________\n",
      "dense_29 (Dense)             (None, 1)                 513       \n",
      "=================================================================\n",
      "Total params: 856,065\n",
      "Trainable params: 856,065\n",
      "Non-trainable params: 0\n",
      "_________________________________________________________________\n",
      "\n",
      "Epoch: 0, loss:45.4162,  mae:2.5896,  mse:45.3852,  val_loss:3.3272,  val_mae:1.7510,  val_mse:3.3181,  \n",
      "....................................................................................................Wall time: 1min 29s\n"
     ]
    }
   ],
   "source": [
    "%%time\n",
    "combined_model = tf.keras.Sequential([\n",
    "    layers.Dense(512, kernel_regularizer=regularizers.l2(0.0001),\n",
    "                 activation='elu', input_shape=[len(x_train.keys())]),\n",
    "    layers.Dropout(0.5),\n",
    "    layers.Dense(512, kernel_regularizer=regularizers.l2(0.0001),\n",
    "                 activation='elu'),\n",
    "    layers.Dropout(0.5),\n",
    "    layers.Dense(512, kernel_regularizer=regularizers.l2(0.0001),\n",
    "                 activation='elu'),\n",
    "    layers.Dropout(0.5),\n",
    "    layers.Dense(512, kernel_regularizer=regularizers.l2(0.0001),\n",
    "                 activation='elu'),\n",
    "    layers.Dropout(0.5),\n",
    "    layers.Dense(1, activation='sigmoid')\n",
    "])\n",
    "\n",
    "regularizer_histories['combined'] = compile_and_fit(combined_model, \"regularizers/combined\", df_cl_only.drop([\"Data\", \"dData\"], axis=1).values, df_cl_only[\"Data\"].values, max_epochs=100)"
   ]
  },
  {
   "cell_type": "code",
   "execution_count": 85,
   "metadata": {},
   "outputs": [
    {
     "data": {
      "image/png": "[encoded data removed]",
      "text/plain": [
       "<Figure size 432x288 with 1 Axes>"
      ]
     },
     "metadata": {},
     "output_type": "display_data"
    }
   ],
   "source": [
    "plotter.plot(regularizer_histories)\n",
    "# plt.ylim([0.5, 0.7])\n",
    "plt.yscale('log')"
   ]
  },
  {
   "cell_type": "markdown",
   "metadata": {},
   "source": [
    "# Expanding L2 Model"
   ]
  },
  {
   "cell_type": "code",
   "execution_count": 216,
   "metadata": {},
   "outputs": [
    {
     "name": "stdout",
     "output_type": "stream",
     "text": [
      "Model: \"sequential_19\"\n",
      "_________________________________________________________________\n",
      "Layer (type)                 Output Shape              Param #   \n",
      "=================================================================\n",
      "dense_119 (Dense)            (None, 512)               67584     \n",
      "_________________________________________________________________\n",
      "dense_120 (Dense)            (None, 512)               262656    \n",
      "_________________________________________________________________\n",
      "dense_121 (Dense)            (None, 1000)              513000    \n",
      "_________________________________________________________________\n",
      "dense_122 (Dense)            (None, 1000)              1001000   \n",
      "_________________________________________________________________\n",
      "dense_123 (Dense)            (None, 512)               512512    \n",
      "_________________________________________________________________\n",
      "dropout_20 (Dropout)         (None, 512)               0         \n",
      "_________________________________________________________________\n",
      "dense_124 (Dense)            (None, 512)               262656    \n",
      "_________________________________________________________________\n",
      "dropout_21 (Dropout)         (None, 512)               0         \n",
      "_________________________________________________________________\n",
      "dense_125 (Dense)            (None, 1000)              513000    \n",
      "_________________________________________________________________\n",
      "dense_126 (Dense)            (None, 1000)              1001000   \n",
      "_________________________________________________________________\n",
      "dense_127 (Dense)            (None, 1000)              1001000   \n",
      "_________________________________________________________________\n",
      "dense_128 (Dense)            (None, 1000)              1001000   \n",
      "_________________________________________________________________\n",
      "dense_129 (Dense)            (None, 1000)              1001000   \n",
      "_________________________________________________________________\n",
      "dense_130 (Dense)            (None, 512)               512512    \n",
      "_________________________________________________________________\n",
      "dropout_22 (Dropout)         (None, 512)               0         \n",
      "_________________________________________________________________\n",
      "dense_131 (Dense)            (None, 512)               262656    \n",
      "_________________________________________________________________\n",
      "dropout_23 (Dropout)         (None, 512)               0         \n",
      "_________________________________________________________________\n",
      "dense_132 (Dense)            (None, 1000)              513000    \n",
      "_________________________________________________________________\n",
      "dense_133 (Dense)            (None, 1000)              1001000   \n",
      "_________________________________________________________________\n",
      "dense_134 (Dense)            (None, 1000)              1001000   \n",
      "_________________________________________________________________\n",
      "dense_135 (Dense)            (None, 1000)              1001000   \n",
      "_________________________________________________________________\n",
      "dense_136 (Dense)            (None, 512)               512512    \n",
      "_________________________________________________________________\n",
      "dropout_24 (Dropout)         (None, 512)               0         \n",
      "_________________________________________________________________\n",
      "dense_137 (Dense)            (None, 512)               262656    \n",
      "_________________________________________________________________\n",
      "dropout_25 (Dropout)         (None, 512)               0         \n",
      "_________________________________________________________________\n",
      "dense_138 (Dense)            (None, 512)               262656    \n",
      "_________________________________________________________________\n",
      "dense_139 (Dense)            (None, 512)               262656    \n",
      "_________________________________________________________________\n",
      "dense_140 (Dense)            (None, 1)                 513       \n",
      "=================================================================\n",
      "Total params: 12,728,569\n",
      "Trainable params: 12,728,569\n",
      "Non-trainable params: 0\n",
      "_________________________________________________________________\n",
      "\n",
      "Epoch: 0, loss:352460211802.9634,  mae:7251.9883,  mse:352459980800.0000,  val_loss:360286480952.6980,  val_mae:6835.1860,  val_mse:360286388224.0000,  \n",
      "..........................................................."
     ]
    },
    {
     "name": "stderr",
     "output_type": "stream",
     "text": [
      "C:\\Users\\Pedro\\Anaconda3\\envs\\data_mining_2\\lib\\site-packages\\tensorflow_core\\python\\keras\\callbacks.py:1225: RuntimeWarning: invalid value encountered in less\n",
      "  if self.monitor_op(current - self.min_delta, self.best):\n"
     ]
    },
    {
     "name": "stdout",
     "output_type": "stream",
     "text": [
      ".........................................\n",
      "Epoch: 100, loss:nan,  mae:nan,  mse:nan,  val_loss:nan,  val_mae:nan,  val_mse:nan,  \n",
      "............."
     ]
    }
   ],
   "source": [
    "activation_fn = \"elu\"\n",
    "l2_model = tf.keras.Sequential([\n",
    "    layers.Dense(512, activation=activation_fn,\n",
    "                 kernel_regularizer=regularizers.l2(0.001),\n",
    "                 input_shape=[len(x_train.keys())]),\n",
    "    layers.Dense(512, activation=activation_fn,\n",
    "                 kernel_regularizer=regularizers.l2(0.001)),\n",
    "    layers.Dense(1000, activation=activation_fn,\n",
    "                 kernel_regularizer=regularizers.l2(0.001)),\n",
    "    layers.Dense(1000, activation=activation_fn,\n",
    "                 kernel_regularizer=regularizers.l2(0.001)),\n",
    "    layers.Dense(512, kernel_regularizer=regularizers.l2(0.0001),\n",
    "                 activation='elu'),\n",
    "    layers.Dropout(0.5),\n",
    "    layers.Dense(512, kernel_regularizer=regularizers.l2(0.0001),\n",
    "                 activation='elu'),\n",
    "    layers.Dropout(0.5),\n",
    "    layers.Dense(1000, activation=activation_fn,\n",
    "                 kernel_regularizer=regularizers.l2(0.001)),\n",
    "    layers.Dense(1000, activation=activation_fn,\n",
    "                 kernel_regularizer=regularizers.l2(0.001)),\n",
    "    layers.Dense(1000, activation=activation_fn,\n",
    "                 kernel_regularizer=regularizers.l2(0.001)),\n",
    "    layers.Dense(1000, activation=activation_fn,\n",
    "                 kernel_regularizer=regularizers.l2(0.001)),\n",
    "    layers.Dense(1000, activation=activation_fn,\n",
    "                 kernel_regularizer=regularizers.l2(0.001)),\n",
    "    layers.Dense(512, kernel_regularizer=regularizers.l2(0.0001),\n",
    "                 activation='elu'),\n",
    "    layers.Dropout(0.5),\n",
    "    layers.Dense(512, kernel_regularizer=regularizers.l2(0.0001),\n",
    "                 activation='elu'),\n",
    "    layers.Dropout(0.5),\n",
    "    layers.Dense(1000, activation=activation_fn,\n",
    "                 kernel_regularizer=regularizers.l2(0.001)),\n",
    "    layers.Dense(1000, activation=activation_fn,\n",
    "                 kernel_regularizer=regularizers.l2(0.001)),\n",
    "    layers.Dense(1000, activation=activation_fn,\n",
    "                 kernel_regularizer=regularizers.l2(0.001)),\n",
    "    layers.Dense(1000, activation=activation_fn,\n",
    "                 kernel_regularizer=regularizers.l2(0.001)),\n",
    "    layers.Dense(512, kernel_regularizer=regularizers.l2(0.0001),\n",
    "                 activation='elu'),\n",
    "    layers.Dropout(0.5),\n",
    "    layers.Dense(512, kernel_regularizer=regularizers.l2(0.0001),\n",
    "                 activation='elu'),\n",
    "    layers.Dropout(0.5),\n",
    "    layers.Dense(512, activation=activation_fn,\n",
    "                 kernel_regularizer=regularizers.l2(0.001)),\n",
    "    layers.Dense(512, activation=activation_fn,\n",
    "                 kernel_regularizer=regularizers.l2(0.001)),\n",
    "    layers.Dense(1)\n",
    "])\n",
    "\n",
    "l2_model_exp = compile_and_fit(l2_model, \"regularizers/l2\")"
   ]
  },
  {
   "cell_type": "code",
   "execution_count": 223,
   "metadata": {},
   "outputs": [
    {
     "ename": "AttributeError",
     "evalue": "'History' object has no attribute 'items'",
     "output_type": "error",
     "traceback": [
      "\u001b[1;31m---------------------------------------------------------------------------\u001b[0m",
      "\u001b[1;31mAttributeError\u001b[0m                            Traceback (most recent call last)",
      "\u001b[1;32m<ipython-input-223-4c05dabe33b5>\u001b[0m in \u001b[0;36m<module>\u001b[1;34m\u001b[0m\n\u001b[1;32m----> 1\u001b[1;33m \u001b[0mplotter\u001b[0m\u001b[1;33m.\u001b[0m\u001b[0mplot\u001b[0m\u001b[1;33m(\u001b[0m\u001b[0ml2_model_exp\u001b[0m\u001b[1;33m)\u001b[0m\u001b[1;33m\u001b[0m\u001b[1;33m\u001b[0m\u001b[0m\n\u001b[0m",
      "\u001b[1;32m~\\Anaconda3\\envs\\data_mining_2\\lib\\site-packages\\tensorflow_docs\\plots\\__init__.py\u001b[0m in \u001b[0;36mplot\u001b[1;34m(self, histories, metric, smoothing_std)\u001b[0m\n\u001b[0;32m     78\u001b[0m       \u001b[0msmoothing_std\u001b[0m \u001b[1;33m=\u001b[0m \u001b[0mself\u001b[0m\u001b[1;33m.\u001b[0m\u001b[0msmoothing_std\u001b[0m\u001b[1;33m\u001b[0m\u001b[1;33m\u001b[0m\u001b[0m\n\u001b[0;32m     79\u001b[0m \u001b[1;33m\u001b[0m\u001b[0m\n\u001b[1;32m---> 80\u001b[1;33m     \u001b[1;32mfor\u001b[0m \u001b[0mname\u001b[0m\u001b[1;33m,\u001b[0m \u001b[0mhistory\u001b[0m \u001b[1;32min\u001b[0m \u001b[0mhistories\u001b[0m\u001b[1;33m.\u001b[0m\u001b[0mitems\u001b[0m\u001b[1;33m(\u001b[0m\u001b[1;33m)\u001b[0m\u001b[1;33m:\u001b[0m\u001b[1;33m\u001b[0m\u001b[1;33m\u001b[0m\u001b[0m\n\u001b[0m\u001b[0;32m     81\u001b[0m       \u001b[1;31m# Remember name->color asociations.\u001b[0m\u001b[1;33m\u001b[0m\u001b[1;33m\u001b[0m\u001b[1;33m\u001b[0m\u001b[0m\n\u001b[0;32m     82\u001b[0m       \u001b[1;32mif\u001b[0m \u001b[0mname\u001b[0m \u001b[1;32min\u001b[0m \u001b[0mself\u001b[0m\u001b[1;33m.\u001b[0m\u001b[0mcolor_table\u001b[0m\u001b[1;33m:\u001b[0m\u001b[1;33m\u001b[0m\u001b[1;33m\u001b[0m\u001b[0m\n",
      "\u001b[1;31mAttributeError\u001b[0m: 'History' object has no attribute 'items'"
     ]
    }
   ],
   "source": [
    "plotter.plot(l2_model_exp)"
   ]
  },
  {
   "cell_type": "code",
   "execution_count": 88,
   "metadata": {},
   "outputs": [
    {
     "name": "stderr",
     "output_type": "stream",
     "text": [
      "C:\\Users\\Pedro\\Anaconda3\\envs\\data_mining_2\\lib\\site-packages\\ipykernel_launcher.py:49: UserWarning: Legend does not support [<matplotlib.lines.Line2D object at 0x00000255FC463648>] instances.\n",
      "A proxy artist may be used instead.\n",
      "See: http://matplotlib.org/users/legend_guide.html#creating-artists-specifically-for-adding-to-the-legend-aka-proxy-artists\n"
     ]
    },
    {
     "data": {
      "image/png": "[encoded data removed]",
      "text/plain": [
       "<Figure size 1152x720 with 1 Axes>"
      ]
     },
     "metadata": {},
     "output_type": "display_data"
    },
    {
     "name": "stderr",
     "output_type": "stream",
     "text": [
      "C:\\Users\\Pedro\\Anaconda3\\envs\\data_mining_2\\lib\\site-packages\\ipykernel_launcher.py:64: UserWarning: Legend does not support [<matplotlib.lines.Line2D object at 0x00000255FD995A08>] instances.\n",
      "A proxy artist may be used instead.\n",
      "See: http://matplotlib.org/users/legend_guide.html#creating-artists-specifically-for-adding-to-the-legend-aka-proxy-artists\n"
     ]
    },
    {
     "data": {
      "image/png": "[encoded data removed]",
      "text/plain": [
       "<Figure size 1152x720 with 1 Axes>"
      ]
     },
     "metadata": {},
     "output_type": "display_data"
    },
    {
     "name": "stdout",
     "output_type": "stream",
     "text": [
      "The MSE is:  57.67489321287504\n",
      "The R2-Score is:  -69.9617736612562\n"
     ]
    }
   ],
   "source": [
    "predicting_nuclear_xs(\"Out_P\", 17, 35, regularizer_histories['l2'].model, E_min=0.14, E_max=16)"
   ]
  },
  {
   "cell_type": "markdown",
   "metadata": {},
   "source": [
    "# Other Strategy"
   ]
  },
  {
   "cell_type": "code",
   "execution_count": 46,
   "metadata": {},
   "outputs": [
    {
     "name": "stdout",
     "output_type": "stream",
     "text": [
      "Number of devices: 2\n"
     ]
    }
   ],
   "source": [
    "strategy = tf.distribute.MirroredStrategy(cross_device_ops=tf.distribute.HierarchicalCopyAllReduce())\n",
    "print('Number of devices: {}'.format(strategy.num_replicas_in_sync))"
   ]
  },
  {
   "cell_type": "code",
   "execution_count": 40,
   "metadata": {},
   "outputs": [],
   "source": [
    "mirrored_strategy = tf.distribute.MirroredStrategy()\n",
    "\n",
    "def build_model():\n",
    "    model = keras.Sequential([\n",
    "        layers.Dense(250, activation='relu', input_shape=[len(x_train.keys())]),\n",
    "        layers.Dense(250, activation='relu'),\n",
    "#         layers.Dense(250, activation='relu'),\n",
    "#         layers.Dense(250, activation='relu'),\n",
    "#         layers.Dense(250, activation='relu'),\n",
    "#         layers.Dense(250, activation='relu'),\n",
    "        layers.Dense(150, activation='relu'),\n",
    "        layers.Dense(64, activation='relu'),\n",
    "        layers.Dense(32, activation='relu'),\n",
    "        layers.Dense(1)])\n",
    "\n",
    "    optimizer = tf.keras.optimizers.RMSprop(0.01)\n",
    "\n",
    "    model.compile(loss='mse',\n",
    "                optimizer=optimizer,\n",
    "                metrics=['mae', 'mse'])\n",
    "    return model\n",
    "\n",
    "\n",
    "def build_gpu_model():\n",
    "    with mirrored_strategy.scope():\n",
    "        model = keras.Sequential([\n",
    "            layers.Dense(150, activation='relu', input_shape=[len(x_train.keys())]),\n",
    "            layers.Dense(250, activation='relu'),\n",
    "            layers.Dense(64, activation='relu'),\n",
    "            layers.Dense(1)])\n",
    "\n",
    "        optimizer = tf.keras.optimizers.RMSprop(0.001)\n",
    "\n",
    "        model.compile(loss='mse',\n",
    "                    optimizer=optimizer,\n",
    "                    metrics=['mae', 'mse'])\n",
    "        return model"
   ]
  },
  {
   "cell_type": "markdown",
   "metadata": {},
   "source": [
    "### Inspect the model\n",
    "\n",
    "Use the `.summary` method to print a simple description of the model"
   ]
  },
  {
   "cell_type": "code",
   "execution_count": 41,
   "metadata": {},
   "outputs": [
    {
     "name": "stdout",
     "output_type": "stream",
     "text": [
      "INFO:tensorflow:Reduce to /job:localhost/replica:0/task:0/device:CPU:0 then broadcast to ('/job:localhost/replica:0/task:0/device:CPU:0',).\n",
      "INFO:tensorflow:Reduce to /job:localhost/replica:0/task:0/device:CPU:0 then broadcast to ('/job:localhost/replica:0/task:0/device:CPU:0',).\n",
      "INFO:tensorflow:Reduce to /job:localhost/replica:0/task:0/device:CPU:0 then broadcast to ('/job:localhost/replica:0/task:0/device:CPU:0',).\n",
      "INFO:tensorflow:Reduce to /job:localhost/replica:0/task:0/device:CPU:0 then broadcast to ('/job:localhost/replica:0/task:0/device:CPU:0',).\n",
      "Model: \"sequential_2\"\n",
      "_________________________________________________________________\n",
      "Layer (type)                 Output Shape              Param #   \n",
      "=================================================================\n",
      "dense_4 (Dense)              (None, 150)               19800     \n",
      "_________________________________________________________________\n",
      "dense_5 (Dense)              (None, 250)               37750     \n",
      "_________________________________________________________________\n",
      "dense_6 (Dense)              (None, 64)                16064     \n",
      "_________________________________________________________________\n",
      "dense_7 (Dense)              (None, 1)                 65        \n",
      "=================================================================\n",
      "Total params: 73,679\n",
      "Trainable params: 73,679\n",
      "Non-trainable params: 0\n",
      "_________________________________________________________________\n"
     ]
    }
   ],
   "source": [
    "# model = build_model()\n",
    "model = build_gpu_model()\n",
    "model.summary()"
   ]
  },
  {
   "cell_type": "code",
   "execution_count": 47,
   "metadata": {},
   "outputs": [],
   "source": [
    "with strategy.scope():\n",
    "    model = keras.Sequential([\n",
    "        layers.Dense(150, activation='relu', input_shape=[len(x_train.keys())]),\n",
    "        layers.Dense(250, activation='relu'),\n",
    "        layers.Dense(64, activation='relu'),\n",
    "        layers.Dense(1)])\n",
    "\n",
    "    optimizer = tf.keras.optimizers.RMSprop(0.001)\n",
    "\n",
    "    model.compile(loss='mse',\n",
    "                optimizer=optimizer,\n",
    "                metrics=['mae', 'mse'])"
   ]
  },
  {
   "cell_type": "markdown",
   "metadata": {},
   "source": [
    "Now try out the model. Take a batch of `10` examples from the training data and call `model.predict` on it."
   ]
  },
  {
   "cell_type": "code",
   "execution_count": 237,
   "metadata": {},
   "outputs": [
    {
     "data": {
      "text/plain": [
       "array([[ 0.01175391],\n",
       "       [-0.12772956],\n",
       "       [-0.02639494],\n",
       "       [-0.09360341],\n",
       "       [ 0.00885992],\n",
       "       [-0.17353778],\n",
       "       [-0.08859062],\n",
       "       [ 0.12745613],\n",
       "       [-0.04629862],\n",
       "       [ 0.01028054]], dtype=float32)"
      ]
     },
     "execution_count": 237,
     "metadata": {},
     "output_type": "execute_result"
    }
   ],
   "source": [
    "example_batch = x_train.values[:10]\n",
    "example_result = model.predict(example_batch)\n",
    "example_result"
   ]
  },
  {
   "cell_type": "markdown",
   "metadata": {},
   "source": [
    "It seems to be working, and it produces a result of the expected shape and type."
   ]
  },
  {
   "cell_type": "code",
   "execution_count": 318,
   "metadata": {},
   "outputs": [
    {
     "data": {
      "text/plain": [
       "array([[ 325.61108],\n",
       "       [-148.68579],\n",
       "       [2240.7556 ],\n",
       "       [-578.2678 ],\n",
       "       [ 138.15405],\n",
       "       [1707.615  ],\n",
       "       [ 563.96655],\n",
       "       [3113.6619 ],\n",
       "       [2050.1619 ],\n",
       "       [1120.029  ]], dtype=float32)"
      ]
     },
     "execution_count": 318,
     "metadata": {},
     "output_type": "execute_result"
    }
   ],
   "source": [
    "example_batch = x_train.values[:10]\n",
    "example_result = large_model.predict(example_batch)\n",
    "example_result"
   ]
  },
  {
   "cell_type": "markdown",
   "metadata": {},
   "source": [
    "# Training the Model\n",
    "\n",
    "Train the model for 1000 epochs, and record the training and validation accuracy in the `history` object."
   ]
  },
  {
   "cell_type": "code",
   "execution_count": 48,
   "metadata": {
    "scrolled": true
   },
   "outputs": [
    {
     "name": "stdout",
     "output_type": "stream",
     "text": [
      "Train on 2901920 samples, validate on 725480 samples\n",
      "Epoch 1/100\n",
      "INFO:tensorflow:batch_all_reduce: 8 all-reduces with algorithm = hierarchical_copy, num_packs = 1, agg_small_grads_max_bytes = 0 and agg_small_grads_max_group = 10\n",
      "INFO:tensorflow:batch_all_reduce: 8 all-reduces with algorithm = hierarchical_copy, num_packs = 1, agg_small_grads_max_bytes = 0 and agg_small_grads_max_group = 10\n",
      "2885000/2901920 [============================>.] - ETA: 0s - loss: 356341206563.8958 - mae: 10315.1885 - mse: 356341153792.0000\n",
      "Epoch: 0, loss:355940946036.8342,  mae:10357.3672,  mse:355940859904.0000,  val_loss:367352837936.4852,  val_mae:15887.8398,  val_mse:367352807424.0000,  \n",
      "2901920/2901920 [==============================] - 17s 6us/sample - loss: 355940946036.8342 - mae: 10357.3672 - mse: 355940859904.0000 - val_loss: 367352837936.4852 - val_mae: 15887.8398 - val_mse: 367352807424.0000\n",
      "Epoch 2/100\n",
      "2901920/2901920 [==============================] - 10s 3us/sample - loss: 352079214548.1275 - mae: 17078.7207 - mse: 352079183872.0000 - val_loss: 359554746016.9721 - val_mae: 18954.5137 - val_mse: 359554777088.0000\n",
      "Epoch 3/100\n",
      "1010000/2901920 [=========>....................] - ETA: 5s - loss: 335163598423.4456 - mae: 16092.5693 - mse: 335163588608.0000WARNING:tensorflow:Early stopping conditioned on metric `val_loss` which is not available. Available metrics are: loss,mae,mse\n",
      "."
     ]
    },
    {
     "ename": "KeyboardInterrupt",
     "evalue": "",
     "output_type": "error",
     "traceback": [
      "\u001b[1;31m---------------------------------------------------------------------------\u001b[0m",
      "\u001b[1;31mKeyboardInterrupt\u001b[0m                         Traceback (most recent call last)",
      "\u001b[1;32m<ipython-input-48-e0877f35696f>\u001b[0m in \u001b[0;36m<module>\u001b[1;34m\u001b[0m\n\u001b[0;32m      8\u001b[0m     \u001b[0mbatch_size\u001b[0m\u001b[1;33m=\u001b[0m\u001b[0mBATCH_SIZE\u001b[0m\u001b[1;33m,\u001b[0m \u001b[0mshuffle\u001b[0m\u001b[1;33m=\u001b[0m\u001b[1;32mTrue\u001b[0m\u001b[1;33m,\u001b[0m\u001b[1;33m\u001b[0m\u001b[1;33m\u001b[0m\u001b[0m\n\u001b[0;32m      9\u001b[0m     \u001b[0mepochs\u001b[0m\u001b[1;33m=\u001b[0m\u001b[0mEPOCHS\u001b[0m\u001b[1;33m,\u001b[0m \u001b[0mvalidation_split\u001b[0m\u001b[1;33m=\u001b[0m\u001b[1;36m0.2\u001b[0m\u001b[1;33m,\u001b[0m \u001b[0mverbose\u001b[0m\u001b[1;33m=\u001b[0m\u001b[1;36m1\u001b[0m\u001b[1;33m,\u001b[0m\u001b[1;33m\u001b[0m\u001b[1;33m\u001b[0m\u001b[0m\n\u001b[1;32m---> 10\u001b[1;33m     callbacks=[early_stop, tfdocs.modeling.EpochDots()])\n\u001b[0m\u001b[0;32m     11\u001b[0m \u001b[1;33m\u001b[0m\u001b[0m\n\u001b[0;32m     12\u001b[0m \u001b[1;31m# history = model.fit(\u001b[0m\u001b[1;33m\u001b[0m\u001b[1;33m\u001b[0m\u001b[1;33m\u001b[0m\u001b[0m\n",
      "\u001b[1;32m~\\Anaconda3\\envs\\data_mining_2\\lib\\site-packages\\tensorflow_core\\python\\keras\\engine\\training.py\u001b[0m in \u001b[0;36mfit\u001b[1;34m(self, x, y, batch_size, epochs, verbose, callbacks, validation_split, validation_data, shuffle, class_weight, sample_weight, initial_epoch, steps_per_epoch, validation_steps, validation_freq, max_queue_size, workers, use_multiprocessing, **kwargs)\u001b[0m\n\u001b[0;32m    726\u001b[0m         \u001b[0mmax_queue_size\u001b[0m\u001b[1;33m=\u001b[0m\u001b[0mmax_queue_size\u001b[0m\u001b[1;33m,\u001b[0m\u001b[1;33m\u001b[0m\u001b[1;33m\u001b[0m\u001b[0m\n\u001b[0;32m    727\u001b[0m         \u001b[0mworkers\u001b[0m\u001b[1;33m=\u001b[0m\u001b[0mworkers\u001b[0m\u001b[1;33m,\u001b[0m\u001b[1;33m\u001b[0m\u001b[1;33m\u001b[0m\u001b[0m\n\u001b[1;32m--> 728\u001b[1;33m         use_multiprocessing=use_multiprocessing)\n\u001b[0m\u001b[0;32m    729\u001b[0m \u001b[1;33m\u001b[0m\u001b[0m\n\u001b[0;32m    730\u001b[0m   def evaluate(self,\n",
      "\u001b[1;32m~\\Anaconda3\\envs\\data_mining_2\\lib\\site-packages\\tensorflow_core\\python\\keras\\engine\\training_v2.py\u001b[0m in \u001b[0;36mfit\u001b[1;34m(self, model, x, y, batch_size, epochs, verbose, callbacks, validation_split, validation_data, shuffle, class_weight, sample_weight, initial_epoch, steps_per_epoch, validation_steps, validation_freq, **kwargs)\u001b[0m\n\u001b[0;32m    322\u001b[0m                 \u001b[0mmode\u001b[0m\u001b[1;33m=\u001b[0m\u001b[0mModeKeys\u001b[0m\u001b[1;33m.\u001b[0m\u001b[0mTRAIN\u001b[0m\u001b[1;33m,\u001b[0m\u001b[1;33m\u001b[0m\u001b[1;33m\u001b[0m\u001b[0m\n\u001b[0;32m    323\u001b[0m                 \u001b[0mtraining_context\u001b[0m\u001b[1;33m=\u001b[0m\u001b[0mtraining_context\u001b[0m\u001b[1;33m,\u001b[0m\u001b[1;33m\u001b[0m\u001b[1;33m\u001b[0m\u001b[0m\n\u001b[1;32m--> 324\u001b[1;33m                 total_epochs=epochs)\n\u001b[0m\u001b[0;32m    325\u001b[0m             \u001b[0mcbks\u001b[0m\u001b[1;33m.\u001b[0m\u001b[0mmake_logs\u001b[0m\u001b[1;33m(\u001b[0m\u001b[0mmodel\u001b[0m\u001b[1;33m,\u001b[0m \u001b[0mepoch_logs\u001b[0m\u001b[1;33m,\u001b[0m \u001b[0mtraining_result\u001b[0m\u001b[1;33m,\u001b[0m \u001b[0mModeKeys\u001b[0m\u001b[1;33m.\u001b[0m\u001b[0mTRAIN\u001b[0m\u001b[1;33m)\u001b[0m\u001b[1;33m\u001b[0m\u001b[1;33m\u001b[0m\u001b[0m\n\u001b[0;32m    326\u001b[0m \u001b[1;33m\u001b[0m\u001b[0m\n",
      "\u001b[1;32m~\\Anaconda3\\envs\\data_mining_2\\lib\\site-packages\\tensorflow_core\\python\\keras\\engine\\training_v2.py\u001b[0m in \u001b[0;36mrun_one_epoch\u001b[1;34m(model, iterator, execution_function, dataset_size, batch_size, strategy, steps_per_epoch, num_samples, mode, training_context, total_epochs)\u001b[0m\n\u001b[0;32m    121\u001b[0m         step=step, mode=mode, size=current_batch_size) as batch_logs:\n\u001b[0;32m    122\u001b[0m       \u001b[1;32mtry\u001b[0m\u001b[1;33m:\u001b[0m\u001b[1;33m\u001b[0m\u001b[1;33m\u001b[0m\u001b[0m\n\u001b[1;32m--> 123\u001b[1;33m         \u001b[0mbatch_outs\u001b[0m \u001b[1;33m=\u001b[0m \u001b[0mexecution_function\u001b[0m\u001b[1;33m(\u001b[0m\u001b[0miterator\u001b[0m\u001b[1;33m)\u001b[0m\u001b[1;33m\u001b[0m\u001b[1;33m\u001b[0m\u001b[0m\n\u001b[0m\u001b[0;32m    124\u001b[0m       \u001b[1;32mexcept\u001b[0m \u001b[1;33m(\u001b[0m\u001b[0mStopIteration\u001b[0m\u001b[1;33m,\u001b[0m \u001b[0merrors\u001b[0m\u001b[1;33m.\u001b[0m\u001b[0mOutOfRangeError\u001b[0m\u001b[1;33m)\u001b[0m\u001b[1;33m:\u001b[0m\u001b[1;33m\u001b[0m\u001b[1;33m\u001b[0m\u001b[0m\n\u001b[0;32m    125\u001b[0m         \u001b[1;31m# TODO(kaftan): File bug about tf function and errors.OutOfRangeError?\u001b[0m\u001b[1;33m\u001b[0m\u001b[1;33m\u001b[0m\u001b[1;33m\u001b[0m\u001b[0m\n",
      "\u001b[1;32m~\\Anaconda3\\envs\\data_mining_2\\lib\\site-packages\\tensorflow_core\\python\\keras\\engine\\training_v2_utils.py\u001b[0m in \u001b[0;36mexecution_function\u001b[1;34m(input_fn)\u001b[0m\n\u001b[0;32m     84\u001b[0m     \u001b[1;31m# `numpy` translates Tensors to values in Eager mode.\u001b[0m\u001b[1;33m\u001b[0m\u001b[1;33m\u001b[0m\u001b[1;33m\u001b[0m\u001b[0m\n\u001b[0;32m     85\u001b[0m     return nest.map_structure(_non_none_constant_value,\n\u001b[1;32m---> 86\u001b[1;33m                               distributed_function(input_fn))\n\u001b[0m\u001b[0;32m     87\u001b[0m \u001b[1;33m\u001b[0m\u001b[0m\n\u001b[0;32m     88\u001b[0m   \u001b[1;32mreturn\u001b[0m \u001b[0mexecution_function\u001b[0m\u001b[1;33m\u001b[0m\u001b[1;33m\u001b[0m\u001b[0m\n",
      "\u001b[1;32m~\\Anaconda3\\envs\\data_mining_2\\lib\\site-packages\\tensorflow_core\\python\\util\\nest.py\u001b[0m in \u001b[0;36mmap_structure\u001b[1;34m(func, *structure, **kwargs)\u001b[0m\n\u001b[0;32m    533\u001b[0m \u001b[1;33m\u001b[0m\u001b[0m\n\u001b[0;32m    534\u001b[0m   return pack_sequence_as(\n\u001b[1;32m--> 535\u001b[1;33m       \u001b[0mstructure\u001b[0m\u001b[1;33m[\u001b[0m\u001b[1;36m0\u001b[0m\u001b[1;33m]\u001b[0m\u001b[1;33m,\u001b[0m \u001b[1;33m[\u001b[0m\u001b[0mfunc\u001b[0m\u001b[1;33m(\u001b[0m\u001b[1;33m*\u001b[0m\u001b[0mx\u001b[0m\u001b[1;33m)\u001b[0m \u001b[1;32mfor\u001b[0m \u001b[0mx\u001b[0m \u001b[1;32min\u001b[0m \u001b[0mentries\u001b[0m\u001b[1;33m]\u001b[0m\u001b[1;33m,\u001b[0m\u001b[1;33m\u001b[0m\u001b[1;33m\u001b[0m\u001b[0m\n\u001b[0m\u001b[0;32m    536\u001b[0m       expand_composites=expand_composites)\n\u001b[0;32m    537\u001b[0m \u001b[1;33m\u001b[0m\u001b[0m\n",
      "\u001b[1;32m~\\Anaconda3\\envs\\data_mining_2\\lib\\site-packages\\tensorflow_core\\python\\util\\nest.py\u001b[0m in \u001b[0;36m<listcomp>\u001b[1;34m(.0)\u001b[0m\n\u001b[0;32m    533\u001b[0m \u001b[1;33m\u001b[0m\u001b[0m\n\u001b[0;32m    534\u001b[0m   return pack_sequence_as(\n\u001b[1;32m--> 535\u001b[1;33m       \u001b[0mstructure\u001b[0m\u001b[1;33m[\u001b[0m\u001b[1;36m0\u001b[0m\u001b[1;33m]\u001b[0m\u001b[1;33m,\u001b[0m \u001b[1;33m[\u001b[0m\u001b[0mfunc\u001b[0m\u001b[1;33m(\u001b[0m\u001b[1;33m*\u001b[0m\u001b[0mx\u001b[0m\u001b[1;33m)\u001b[0m \u001b[1;32mfor\u001b[0m \u001b[0mx\u001b[0m \u001b[1;32min\u001b[0m \u001b[0mentries\u001b[0m\u001b[1;33m]\u001b[0m\u001b[1;33m,\u001b[0m\u001b[1;33m\u001b[0m\u001b[1;33m\u001b[0m\u001b[0m\n\u001b[0m\u001b[0;32m    536\u001b[0m       expand_composites=expand_composites)\n\u001b[0;32m    537\u001b[0m \u001b[1;33m\u001b[0m\u001b[0m\n",
      "\u001b[1;32m~\\Anaconda3\\envs\\data_mining_2\\lib\\site-packages\\tensorflow_core\\python\\keras\\engine\\training_v2_utils.py\u001b[0m in \u001b[0;36m_non_none_constant_value\u001b[1;34m(v)\u001b[0m\n\u001b[0;32m     90\u001b[0m \u001b[1;33m\u001b[0m\u001b[0m\n\u001b[0;32m     91\u001b[0m \u001b[1;32mdef\u001b[0m \u001b[0m_non_none_constant_value\u001b[0m\u001b[1;33m(\u001b[0m\u001b[0mv\u001b[0m\u001b[1;33m)\u001b[0m\u001b[1;33m:\u001b[0m\u001b[1;33m\u001b[0m\u001b[1;33m\u001b[0m\u001b[0m\n\u001b[1;32m---> 92\u001b[1;33m   \u001b[0mconstant_value\u001b[0m \u001b[1;33m=\u001b[0m \u001b[0mtensor_util\u001b[0m\u001b[1;33m.\u001b[0m\u001b[0mconstant_value\u001b[0m\u001b[1;33m(\u001b[0m\u001b[0mv\u001b[0m\u001b[1;33m)\u001b[0m\u001b[1;33m\u001b[0m\u001b[1;33m\u001b[0m\u001b[0m\n\u001b[0m\u001b[0;32m     93\u001b[0m   \u001b[1;32mreturn\u001b[0m \u001b[0mconstant_value\u001b[0m \u001b[1;32mif\u001b[0m \u001b[0mconstant_value\u001b[0m \u001b[1;32mis\u001b[0m \u001b[1;32mnot\u001b[0m \u001b[1;32mNone\u001b[0m \u001b[1;32melse\u001b[0m \u001b[0mv\u001b[0m\u001b[1;33m\u001b[0m\u001b[1;33m\u001b[0m\u001b[0m\n\u001b[0;32m     94\u001b[0m \u001b[1;33m\u001b[0m\u001b[0m\n",
      "\u001b[1;32m~\\Anaconda3\\envs\\data_mining_2\\lib\\site-packages\\tensorflow_core\\python\\framework\\tensor_util.py\u001b[0m in \u001b[0;36mconstant_value\u001b[1;34m(tensor, partial)\u001b[0m\n\u001b[0;32m    790\u001b[0m   \"\"\"\n\u001b[0;32m    791\u001b[0m   \u001b[1;32mif\u001b[0m \u001b[0misinstance\u001b[0m\u001b[1;33m(\u001b[0m\u001b[0mtensor\u001b[0m\u001b[1;33m,\u001b[0m \u001b[0mops\u001b[0m\u001b[1;33m.\u001b[0m\u001b[0mEagerTensor\u001b[0m\u001b[1;33m)\u001b[0m\u001b[1;33m:\u001b[0m\u001b[1;33m\u001b[0m\u001b[1;33m\u001b[0m\u001b[0m\n\u001b[1;32m--> 792\u001b[1;33m     \u001b[1;32mreturn\u001b[0m \u001b[0mtensor\u001b[0m\u001b[1;33m.\u001b[0m\u001b[0mnumpy\u001b[0m\u001b[1;33m(\u001b[0m\u001b[1;33m)\u001b[0m\u001b[1;33m\u001b[0m\u001b[1;33m\u001b[0m\u001b[0m\n\u001b[0m\u001b[0;32m    793\u001b[0m   \u001b[1;32mif\u001b[0m \u001b[1;32mnot\u001b[0m \u001b[0mis_tensor\u001b[0m\u001b[1;33m(\u001b[0m\u001b[0mtensor\u001b[0m\u001b[1;33m)\u001b[0m\u001b[1;33m:\u001b[0m\u001b[1;33m\u001b[0m\u001b[1;33m\u001b[0m\u001b[0m\n\u001b[0;32m    794\u001b[0m     \u001b[1;32mreturn\u001b[0m \u001b[0mtensor\u001b[0m\u001b[1;33m\u001b[0m\u001b[1;33m\u001b[0m\u001b[0m\n",
      "\u001b[1;32m~\\Anaconda3\\envs\\data_mining_2\\lib\\site-packages\\tensorflow_core\\python\\framework\\ops.py\u001b[0m in \u001b[0;36mnumpy\u001b[1;34m(self)\u001b[0m\n\u001b[0;32m    931\u001b[0m       \u001b[0mValueError\u001b[0m\u001b[1;33m:\u001b[0m \u001b[1;32mif\u001b[0m \u001b[0mthe\u001b[0m \u001b[0mtype\u001b[0m \u001b[0mof\u001b[0m \u001b[0mthis\u001b[0m \u001b[0mTensor\u001b[0m \u001b[1;32mis\u001b[0m \u001b[1;32mnot\u001b[0m \u001b[0mrepresentable\u001b[0m \u001b[1;32min\u001b[0m \u001b[0mnumpy\u001b[0m\u001b[1;33m.\u001b[0m\u001b[1;33m\u001b[0m\u001b[1;33m\u001b[0m\u001b[0m\n\u001b[0;32m    932\u001b[0m     \"\"\"\n\u001b[1;32m--> 933\u001b[1;33m     \u001b[0mmaybe_arr\u001b[0m \u001b[1;33m=\u001b[0m \u001b[0mself\u001b[0m\u001b[1;33m.\u001b[0m\u001b[0m_numpy\u001b[0m\u001b[1;33m(\u001b[0m\u001b[1;33m)\u001b[0m  \u001b[1;31m# pylint: disable=protected-access\u001b[0m\u001b[1;33m\u001b[0m\u001b[1;33m\u001b[0m\u001b[0m\n\u001b[0m\u001b[0;32m    934\u001b[0m     \u001b[1;32mreturn\u001b[0m \u001b[0mmaybe_arr\u001b[0m\u001b[1;33m.\u001b[0m\u001b[0mcopy\u001b[0m\u001b[1;33m(\u001b[0m\u001b[1;33m)\u001b[0m \u001b[1;32mif\u001b[0m \u001b[0misinstance\u001b[0m\u001b[1;33m(\u001b[0m\u001b[0mmaybe_arr\u001b[0m\u001b[1;33m,\u001b[0m \u001b[0mnp\u001b[0m\u001b[1;33m.\u001b[0m\u001b[0mndarray\u001b[0m\u001b[1;33m)\u001b[0m \u001b[1;32melse\u001b[0m \u001b[0mmaybe_arr\u001b[0m\u001b[1;33m\u001b[0m\u001b[1;33m\u001b[0m\u001b[0m\n\u001b[0;32m    935\u001b[0m \u001b[1;33m\u001b[0m\u001b[0m\n",
      "\u001b[1;31mKeyboardInterrupt\u001b[0m: "
     ]
    }
   ],
   "source": [
    "EPOCHS = 100\n",
    "\n",
    "# The patience parameter is the amount of epochs to check for improvement\n",
    "early_stop = keras.callbacks.EarlyStopping(monitor='val_loss', patience=50)\n",
    "\n",
    "history = model.fit(\n",
    "    x_train.values, y_train.values,\n",
    "    batch_size=BATCH_SIZE, shuffle=True,\n",
    "    epochs=EPOCHS, validation_split=0.2, verbose=1,\n",
    "    callbacks=[early_stop, tfdocs.modeling.EpochDots()])\n",
    "\n",
    "# history = model.fit(\n",
    "#     train_dataset,\n",
    "#     epochs=EPOCHS, validation_data=val_dataset, verbose=1,\n",
    "#     callbacks=[tfdocs.modeling.EpochDots()])"
   ]
  },
  {
   "cell_type": "code",
   "execution_count": 239,
   "metadata": {},
   "outputs": [
    {
     "data": {
      "text/html": [
       "<div>\n",
       "<style scoped>\n",
       "    .dataframe tbody tr th:only-of-type {\n",
       "        vertical-align: middle;\n",
       "    }\n",
       "\n",
       "    .dataframe tbody tr th {\n",
       "        vertical-align: top;\n",
       "    }\n",
       "\n",
       "    .dataframe thead th {\n",
       "        text-align: right;\n",
       "    }\n",
       "</style>\n",
       "<table border=\"1\" class=\"dataframe\">\n",
       "  <thead>\n",
       "    <tr style=\"text-align: right;\">\n",
       "      <th></th>\n",
       "      <th>loss</th>\n",
       "      <th>mae</th>\n",
       "      <th>mse</th>\n",
       "      <th>val_loss</th>\n",
       "      <th>val_mae</th>\n",
       "      <th>val_mse</th>\n",
       "      <th>epoch</th>\n",
       "    </tr>\n",
       "  </thead>\n",
       "  <tbody>\n",
       "    <tr>\n",
       "      <th>95</th>\n",
       "      <td>4.242948e+10</td>\n",
       "      <td>1530.570190</td>\n",
       "      <td>4.242943e+10</td>\n",
       "      <td>2.113265e+10</td>\n",
       "      <td>1362.614014</td>\n",
       "      <td>2.113266e+10</td>\n",
       "      <td>95</td>\n",
       "    </tr>\n",
       "    <tr>\n",
       "      <th>96</th>\n",
       "      <td>4.244259e+10</td>\n",
       "      <td>1482.934570</td>\n",
       "      <td>4.244253e+10</td>\n",
       "      <td>2.487344e+10</td>\n",
       "      <td>1388.764771</td>\n",
       "      <td>2.487345e+10</td>\n",
       "      <td>96</td>\n",
       "    </tr>\n",
       "    <tr>\n",
       "      <th>97</th>\n",
       "      <td>3.968505e+10</td>\n",
       "      <td>1481.453369</td>\n",
       "      <td>3.968504e+10</td>\n",
       "      <td>2.306018e+10</td>\n",
       "      <td>1376.298096</td>\n",
       "      <td>2.306019e+10</td>\n",
       "      <td>97</td>\n",
       "    </tr>\n",
       "    <tr>\n",
       "      <th>98</th>\n",
       "      <td>4.138000e+10</td>\n",
       "      <td>1448.124268</td>\n",
       "      <td>4.137995e+10</td>\n",
       "      <td>1.991637e+10</td>\n",
       "      <td>1278.174805</td>\n",
       "      <td>1.991636e+10</td>\n",
       "      <td>98</td>\n",
       "    </tr>\n",
       "    <tr>\n",
       "      <th>99</th>\n",
       "      <td>4.304321e+10</td>\n",
       "      <td>1559.144775</td>\n",
       "      <td>4.304319e+10</td>\n",
       "      <td>3.451537e+10</td>\n",
       "      <td>1751.505493</td>\n",
       "      <td>3.451538e+10</td>\n",
       "      <td>99</td>\n",
       "    </tr>\n",
       "  </tbody>\n",
       "</table>\n",
       "</div>"
      ],
      "text/plain": [
       "            loss          mae           mse      val_loss      val_mae  \\\n",
       "95  4.242948e+10  1530.570190  4.242943e+10  2.113265e+10  1362.614014   \n",
       "96  4.244259e+10  1482.934570  4.244253e+10  2.487344e+10  1388.764771   \n",
       "97  3.968505e+10  1481.453369  3.968504e+10  2.306018e+10  1376.298096   \n",
       "98  4.138000e+10  1448.124268  4.137995e+10  1.991637e+10  1278.174805   \n",
       "99  4.304321e+10  1559.144775  4.304319e+10  3.451537e+10  1751.505493   \n",
       "\n",
       "         val_mse  epoch  \n",
       "95  2.113266e+10     95  \n",
       "96  2.487345e+10     96  \n",
       "97  2.306019e+10     97  \n",
       "98  1.991636e+10     98  \n",
       "99  3.451538e+10     99  "
      ]
     },
     "execution_count": 239,
     "metadata": {},
     "output_type": "execute_result"
    }
   ],
   "source": [
    "hist = pd.DataFrame(history.history)\n",
    "hist['epoch'] = history.epoch\n",
    "hist.tail()"
   ]
  },
  {
   "cell_type": "code",
   "execution_count": 240,
   "metadata": {},
   "outputs": [],
   "source": [
    "plotter = tfdocs.plots.HistoryPlotter(smoothing_std=2)"
   ]
  },
  {
   "cell_type": "code",
   "execution_count": 241,
   "metadata": {},
   "outputs": [
    {
     "data": {
      "text/plain": [
       "Text(0, 0.5, 'MAE [XS]')"
      ]
     },
     "execution_count": 241,
     "metadata": {},
     "output_type": "execute_result"
    },
    {
     "data": {
      "image/png": "[encoded data removed]",
      "text/plain": [
       "<Figure size 432x288 with 1 Axes>"
      ]
     },
     "metadata": {},
     "output_type": "display_data"
    }
   ],
   "source": [
    "plotter.plot({'Basic': history}, metric = \"mae\")\n",
    "plt.ylim()\n",
    "plt.ylabel('MAE [XS]')"
   ]
  },
  {
   "cell_type": "code",
   "execution_count": 242,
   "metadata": {},
   "outputs": [
    {
     "data": {
      "text/plain": [
       "Text(0, 0.5, 'MSE [XS^2]')"
      ]
     },
     "execution_count": 242,
     "metadata": {},
     "output_type": "execute_result"
    },
    {
     "data": {
      "image/png": "[encoded data removed]",
      "text/plain": [
       "<Figure size 432x288 with 1 Axes>"
      ]
     },
     "metadata": {},
     "output_type": "display_data"
    }
   ],
   "source": [
    "plotter.plot({'Basic': history}, metric = \"mse\")\n",
    "plt.ylim()\n",
    "plt.ylabel('MSE [XS^2]')"
   ]
  },
  {
   "cell_type": "code",
   "execution_count": 233,
   "metadata": {},
   "outputs": [
    {
     "name": "stdout",
     "output_type": "stream",
     "text": [
      "906851/1 - 67s - loss: 24736169023.6159 - mae: 1594.6564 - mse: 49472081920.0000\n",
      "Testing set Mean Abs Error: 1594.66 MPG\n"
     ]
    }
   ],
   "source": [
    "loss, mae, mse = model.evaluate(x_test.values, y_test.values, verbose=2)\n",
    "\n",
    "print(\"Testing set Mean Abs Error: {:5.2f} MPG\".format(mae))"
   ]
  },
  {
   "cell_type": "code",
   "execution_count": 115,
   "metadata": {},
   "outputs": [
    {
     "ename": "AttributeError",
     "evalue": "'dict' object has no attribute 'predict'",
     "output_type": "error",
     "traceback": [
      "\u001b[1;31m---------------------------------------------------------------------------\u001b[0m",
      "\u001b[1;31mAttributeError\u001b[0m                            Traceback (most recent call last)",
      "\u001b[1;32m<ipython-input-115-57e942adbe31>\u001b[0m in \u001b[0;36m<module>\u001b[1;34m\u001b[0m\n\u001b[0;32m      1\u001b[0m \u001b[1;31m# DistributionPlot(y_cl, y_hat, \"True\", \"Predicted\", \"Linear Model vs True Data\")\u001b[0m\u001b[1;33m\u001b[0m\u001b[1;33m\u001b[0m\u001b[1;33m\u001b[0m\u001b[0m\n\u001b[1;32m----> 2\u001b[1;33m \u001b[0mpredicting_nuclear_xs\u001b[0m\u001b[1;33m(\u001b[0m\u001b[1;34m\"Out_P\"\u001b[0m\u001b[1;33m,\u001b[0m \u001b[1;36m17\u001b[0m\u001b[1;33m,\u001b[0m \u001b[1;36m35\u001b[0m\u001b[1;33m,\u001b[0m \u001b[0msize_histories\u001b[0m\u001b[1;33m,\u001b[0m \u001b[0mE_min\u001b[0m\u001b[1;33m=\u001b[0m\u001b[1;36m0.14\u001b[0m\u001b[1;33m,\u001b[0m \u001b[0mE_max\u001b[0m\u001b[1;33m=\u001b[0m\u001b[1;36m16\u001b[0m\u001b[1;33m)\u001b[0m\u001b[1;33m\u001b[0m\u001b[1;33m\u001b[0m\u001b[0m\n\u001b[0m",
      "\u001b[1;32m<ipython-input-24-103a45bf5d7e>\u001b[0m in \u001b[0;36mpredicting_nuclear_xs\u001b[1;34m(Reaction, Z, M, clf, E_min, E_max)\u001b[0m\n\u001b[0;32m     24\u001b[0m \u001b[1;33m\u001b[0m\u001b[0m\n\u001b[0;32m     25\u001b[0m     \u001b[1;31m# Making Prediction with given model\u001b[0m\u001b[1;33m\u001b[0m\u001b[1;33m\u001b[0m\u001b[1;33m\u001b[0m\u001b[0m\n\u001b[1;32m---> 26\u001b[1;33m     \u001b[0my_hat\u001b[0m  \u001b[1;33m=\u001b[0m \u001b[0mclf\u001b[0m\u001b[1;33m.\u001b[0m\u001b[0mpredict\u001b[0m\u001b[1;33m(\u001b[0m\u001b[0mto_infer\u001b[0m\u001b[1;33m.\u001b[0m\u001b[0mvalues\u001b[0m\u001b[1;33m)\u001b[0m\u001b[1;33m\u001b[0m\u001b[1;33m\u001b[0m\u001b[0m\n\u001b[0m\u001b[0;32m     27\u001b[0m     \u001b[0my_hat2\u001b[0m \u001b[1;33m=\u001b[0m \u001b[0mclf\u001b[0m\u001b[1;33m.\u001b[0m\u001b[0mpredict\u001b[0m\u001b[1;33m(\u001b[0m\u001b[0mto_plot\u001b[0m\u001b[1;33m.\u001b[0m\u001b[0mdrop\u001b[0m\u001b[1;33m(\u001b[0m\u001b[0mcolumns\u001b[0m\u001b[1;33m=\u001b[0m\u001b[1;33m[\u001b[0m\u001b[1;34m\"Data\"\u001b[0m\u001b[1;33m,\u001b[0m \u001b[1;34m\"dData\"\u001b[0m\u001b[1;33m]\u001b[0m\u001b[1;33m)\u001b[0m\u001b[1;33m.\u001b[0m\u001b[0mvalues\u001b[0m\u001b[1;33m)\u001b[0m\u001b[1;33m\u001b[0m\u001b[1;33m\u001b[0m\u001b[0m\n\u001b[0;32m     28\u001b[0m     \u001b[0my_hat3\u001b[0m \u001b[1;33m=\u001b[0m \u001b[0mclf\u001b[0m\u001b[1;33m.\u001b[0m\u001b[0mpredict\u001b[0m\u001b[1;33m(\u001b[0m\u001b[0mnew_data\u001b[0m\u001b[1;33m.\u001b[0m\u001b[0mdrop\u001b[0m\u001b[1;33m(\u001b[0m\u001b[0mcolumns\u001b[0m\u001b[1;33m=\u001b[0m\u001b[1;33m[\u001b[0m\u001b[1;34m\"Data\"\u001b[0m\u001b[1;33m,\u001b[0m \u001b[1;34m\"dData\"\u001b[0m\u001b[1;33m]\u001b[0m\u001b[1;33m)\u001b[0m\u001b[1;33m.\u001b[0m\u001b[0mvalues\u001b[0m\u001b[1;33m)\u001b[0m\u001b[1;33m\u001b[0m\u001b[1;33m\u001b[0m\u001b[0m\n",
      "\u001b[1;31mAttributeError\u001b[0m: 'dict' object has no attribute 'predict'"
     ]
    }
   ],
   "source": [
    "# DistributionPlot(y_cl, y_hat, \"True\", \"Predicted\", \"Linear Model vs True Data\")\n",
    "predicting_nuclear_xs(\"Out_P\", 17, 35, model, E_min=0.14, E_max=16)"
   ]
  },
  {
   "cell_type": "markdown",
   "metadata": {},
   "source": [
    "## Conclusion\n",
    "\n",
    "This notebook introduced a few techniques to handle a regression problem.\n",
    "\n",
    "* Mean Squared Error (MSE) is a common loss function used for regression problems (different loss functions are used for classification problems).\n",
    "* Similarly, evaluation metrics used for regression differ from classification. A common regression metric is Mean Absolute Error (MAE).\n",
    "* When numeric input data features have values with different ranges, each feature should be scaled independently to the same range.\n",
    "* If there is not much training data, one technique is to prefer a small network with few hidden layers to avoid overfitting.\n",
    "* Early stopping is a useful technique to prevent overfitting."
   ]
  },
  {
   "cell_type": "code",
   "execution_count": null,
   "metadata": {},
   "outputs": [],
   "source": []
  }
 ],
 "metadata": {
  "kernelspec": {
   "display_name": "Python 3",
   "language": "python",
   "name": "python3"
  },
  "language_info": {
   "codemirror_mode": {
    "name": "ipython",
    "version": 3
   },
   "file_extension": ".py",
   "mimetype": "text/x-python",
   "name": "python",
   "nbconvert_exporter": "python",
   "pygments_lexer": "ipython3",
   "version": "3.7.3"
  }
 },
 "nbformat": 4,
 "nbformat_minor": 4
}
