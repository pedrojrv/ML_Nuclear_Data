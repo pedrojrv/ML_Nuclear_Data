{
 "cells": [
  {
   "cell_type": "code",
   "execution_count": 1,
   "metadata": {},
   "outputs": [],
   "source": [
    "import pandas as pd\n",
    "import numpy as np\n",
    "import os\n",
    "from natsort import natsorted"
   ]
  },
  {
   "cell_type": "code",
   "execution_count": 347,
   "metadata": {},
   "outputs": [],
   "source": [
    "df = pd.read_csv(\"/../ML_Data/working_xs_v1_unsk.csv\")"
   ]
  },
  {
   "cell_type": "code",
   "execution_count": 348,
   "metadata": {},
   "outputs": [
    {
     "data": {
      "text/plain": [
       "Index(['Target_Meta_State', 'MT', 'Energy', 'dEnergy', 'Data', 'dData',\n",
       "       'ELV/HL', 'dELV/HL', 'I78', 'Refer', 'Protons', 'Product_Meta_State',\n",
       "       'Frame', 'Reaction_Notation', 'Title', 'Year', 'Author', 'Institute',\n",
       "       'Date', 'Reference', 'Out', 'Target_Neutrons', 'Origin', 'Mass_Excess',\n",
       "       'dMass_Excess', 'Binding_Energy', 'dBinding_Energy', 'B_Decay_Energy',\n",
       "       'dB_Decay_Energy', 'Atomic_Mass_Micro', 'dAtomic_Mass_Micro', 'S(2n)',\n",
       "       'dS(2n)', 'S(2p)', 'dS(2p)', 'Q(a)', 'dQ(a)', 'Q(2B-)', 'dQ(2B-)',\n",
       "       'Q(ep)', 'dQ(ep)', 'Q(B-n)', 'dQ(B-n)', 'Target_Mass_Number', 'Element',\n",
       "       'S(n)', 'dS(n)', 'S(p)', 'dS(p)', 'Q(4B-)', 'dQ(4B-)', 'Q(d,a)',\n",
       "       'dQ(d,a)', 'Q(p,a)', 'dQ(p,a)', 'Q(n,a)', 'dQ(n,a)', 'Q(g,p)', 'Q(g,n)',\n",
       "       'Q(g,pn)', 'Q(g,d)', 'Q(g,t)', 'Q(g,He3)', 'Q(g,2p)', 'Q(g,2n)',\n",
       "       'Q(g,a)', 'Q(p,n)', 'Q(p,2p)', 'Q(p,pn)', 'Q(p,d)', 'Q(p,2n)', 'Q(p,t)',\n",
       "       'Q(p,3He)', 'Q(n,2p)', 'Q(n,np)', 'Q(n,d)', 'Q(n,2n)', 'Q(n,t)',\n",
       "       'Q(n,3He)', 'Q(d,t)', 'Q(d,3He)', 'Q(3He,t)', 'Q(3He,a)', 'Q(t,a)',\n",
       "       'Unc', 'Nuc_Radius_fm', 'Neut_Nuc_Rad_Ratio', 'Compound_Neutrons',\n",
       "       'Compound_Mass_Number'],\n",
       "      dtype='object')"
      ]
     },
     "execution_count": 348,
     "metadata": {},
     "output_type": "execute_result"
    }
   ],
   "source": [
    "df.columns"
   ]
  },
  {
   "cell_type": "code",
   "execution_count": 349,
   "metadata": {},
   "outputs": [],
   "source": [
    "df = df[~(df[\"Element\"] == \"0.0\")]"
   ]
  },
  {
   "cell_type": "code",
   "execution_count": 350,
   "metadata": {},
   "outputs": [],
   "source": [
    "df[\"Element_w_A\"] = df[\"Target_Mass_Number\"].astype(str) + df[\"Element\"]"
   ]
  },
  {
   "cell_type": "code",
   "execution_count": 352,
   "metadata": {},
   "outputs": [],
   "source": [
    "elements = df[[\"Element\", \"Target_Mass_Number\"]].copy()\n",
    "elements[\"Target_Mass_Number\"] = elements[\"Target_Mass_Number\"].astype(str)\n",
    "elements[\"Isotopes\"] = elements[\"Target_Mass_Number\"] + elements[\"Element\"]\n",
    "elements = elements[\"Isotopes\"].unique()"
   ]
  },
  {
   "cell_type": "code",
   "execution_count": 356,
   "metadata": {},
   "outputs": [
    {
     "name": "stdout",
     "output_type": "stream",
     "text": [
      "Searching directory for RIPL ENSDF files...\n",
      "Gathered 118 RIPL ENSDF files.\n"
     ]
    }
   ],
   "source": [
    "# Search all files withing the ENSDF directory\n",
    "directory = \"./ENSDF_Files/\"\n",
    "\n",
    "print(\"Searching directory for RIPL ENSDF files...\")\n",
    "names = []\n",
    "for root, dirs, files in os.walk(directory):\n",
    "    for file in files:\n",
    "        if file.endswith(\".dat\"):\n",
    "            names.append(os.path.join(root, file))\n",
    "            \n",
    "print(\"Gathered {} RIPL ENSDF files.\".format(len(names)))\n",
    "names = natsorted(names)"
   ]
  },
  {
   "cell_type": "code",
   "execution_count": 357,
   "metadata": {},
   "outputs": [],
   "source": [
    "resulting_files_dir = \"./Resulting_Files/\""
   ]
  },
  {
   "cell_type": "code",
   "execution_count": 358,
   "metadata": {},
   "outputs": [
    {
     "name": "stdout",
     "output_type": "stream",
     "text": [
      "Extracting ...\n",
      "Finished extracting.\n"
     ]
    }
   ],
   "source": [
    "# We use the list of documents to extract only the data we need\n",
    "print(\"Extracting ENSDF headers ...\")\n",
    "for i in names:\n",
    "    with open(i) as infile, open(resulting_files_dir + 'all_ensdf_headers.txt', 'a') as outfile:\n",
    "        for line in infile:\n",
    "            for z in elements:\n",
    "                if z in line.split():\n",
    "                    outfile.write(line)\n",
    "print(\"Finished extracting headers.\")"
   ]
  },
  {
   "cell_type": "code",
   "execution_count": 359,
   "metadata": {},
   "outputs": [
    {
     "name": "stdout",
     "output_type": "stream",
     "text": [
      "Formatting ENSDF header data...\n",
      "Finished formating data.\n"
     ]
    }
   ],
   "source": [
    "# Using the document with all data we insert commas following the EXFOR format\n",
    "print(\"Formatting ENSDF header data...\")\n",
    "with open(resulting_files_dir + \"all_ensdf_headers.txt\") as infile, open(resulting_files_dir + 'all_ensdf_headers_formatted.csv', 'w') as outfile:\n",
    "    for line in infile:\n",
    "        if line.strip():\n",
    "            string = list(line)\n",
    "            for i, j in enumerate([5, 10, 15, 20, 25, 30, 35, 47]):\n",
    "                string.insert(i + j, ';')\n",
    "            outfile.write(\"\".join(string))\n",
    "print(\"Finished formating data.\")"
   ]
  },
  {
   "cell_type": "code",
   "execution_count": 362,
   "metadata": {},
   "outputs": [],
   "source": [
    "ensdf_index_col = [\"SYMB\", \"A\", \"Z\", \"Nol\", \"Nog\", \"Nmax\", \"Nc\", \"Sn\", \"Sp\"]\n",
    "ensdf_index = pd.read_csv(resulting_files_dir + \"all_ensdf_headers_formatted.csv\", names=ensdf_index_col, sep=\";\")\n",
    "ensdf_index[\"Text_Filenames\"] = ensdf_index[\"SYMB\"].apply(lambda x: x.strip())"
   ]
  },
  {
   "cell_type": "markdown",
   "metadata": {},
   "source": [
    "Verify that all EXFOR isotopes have information avaliable in ENSDF database."
   ]
  },
  {
   "cell_type": "code",
   "execution_count": 363,
   "metadata": {},
   "outputs": [
    {
     "data": {
      "text/plain": [
       "True"
      ]
     },
     "execution_count": 363,
     "metadata": {},
     "output_type": "execute_result"
    }
   ],
   "source": [
    "len(elements) == len(ensdf_index.SYMB.unique())"
   ]
  },
  {
   "cell_type": "code",
   "execution_count": 364,
   "metadata": {},
   "outputs": [],
   "source": [
    "element_list_endf = ensdf_index.SYMB.tolist() # string that files start with\n",
    "element_list_names = ensdf_index.Text_Filenames.tolist() # same strings but stripped"
   ]
  },
  {
   "cell_type": "code",
   "execution_count": 365,
   "metadata": {},
   "outputs": [
    {
     "data": {
      "text/html": [
       "<div>\n",
       "<style scoped>\n",
       "    .dataframe tbody tr th:only-of-type {\n",
       "        vertical-align: middle;\n",
       "    }\n",
       "\n",
       "    .dataframe tbody tr th {\n",
       "        vertical-align: top;\n",
       "    }\n",
       "\n",
       "    .dataframe thead th {\n",
       "        text-align: right;\n",
       "    }\n",
       "</style>\n",
       "<table border=\"1\" class=\"dataframe\">\n",
       "  <thead>\n",
       "    <tr style=\"text-align: right;\">\n",
       "      <th></th>\n",
       "      <th>SYMB</th>\n",
       "      <th>A</th>\n",
       "      <th>Z</th>\n",
       "      <th>Nol</th>\n",
       "      <th>Nog</th>\n",
       "      <th>Nmax</th>\n",
       "      <th>Nc</th>\n",
       "      <th>Sn</th>\n",
       "      <th>Sp</th>\n",
       "      <th>Text_Filenames</th>\n",
       "    </tr>\n",
       "  </thead>\n",
       "  <tbody>\n",
       "    <tr>\n",
       "      <th>0</th>\n",
       "      <td>1n</td>\n",
       "      <td>1</td>\n",
       "      <td>0</td>\n",
       "      <td>1</td>\n",
       "      <td>0</td>\n",
       "      <td>1</td>\n",
       "      <td>1</td>\n",
       "      <td>0.00000</td>\n",
       "      <td>0.00000</td>\n",
       "      <td>1n</td>\n",
       "    </tr>\n",
       "    <tr>\n",
       "      <th>1</th>\n",
       "      <td>1H</td>\n",
       "      <td>1</td>\n",
       "      <td>1</td>\n",
       "      <td>1</td>\n",
       "      <td>0</td>\n",
       "      <td>1</td>\n",
       "      <td>1</td>\n",
       "      <td>0.00000</td>\n",
       "      <td>0.00000</td>\n",
       "      <td>1H</td>\n",
       "    </tr>\n",
       "    <tr>\n",
       "      <th>2</th>\n",
       "      <td>2H</td>\n",
       "      <td>2</td>\n",
       "      <td>1</td>\n",
       "      <td>1</td>\n",
       "      <td>0</td>\n",
       "      <td>1</td>\n",
       "      <td>1</td>\n",
       "      <td>2.22457</td>\n",
       "      <td>2.22457</td>\n",
       "      <td>2H</td>\n",
       "    </tr>\n",
       "    <tr>\n",
       "      <th>3</th>\n",
       "      <td>3H</td>\n",
       "      <td>3</td>\n",
       "      <td>1</td>\n",
       "      <td>1</td>\n",
       "      <td>0</td>\n",
       "      <td>1</td>\n",
       "      <td>1</td>\n",
       "      <td>6.25723</td>\n",
       "      <td>0.00000</td>\n",
       "      <td>3H</td>\n",
       "    </tr>\n",
       "    <tr>\n",
       "      <th>4</th>\n",
       "      <td>3He</td>\n",
       "      <td>3</td>\n",
       "      <td>2</td>\n",
       "      <td>1</td>\n",
       "      <td>0</td>\n",
       "      <td>1</td>\n",
       "      <td>1</td>\n",
       "      <td>0.00000</td>\n",
       "      <td>5.49348</td>\n",
       "      <td>3He</td>\n",
       "    </tr>\n",
       "  </tbody>\n",
       "</table>\n",
       "</div>"
      ],
      "text/plain": [
       "    SYMB  A  Z  Nol  Nog  Nmax  Nc       Sn       Sp Text_Filenames\n",
       "0    1n   1  0    1    0     1   1  0.00000  0.00000             1n\n",
       "1    1H   1  1    1    0     1   1  0.00000  0.00000             1H\n",
       "2    2H   2  1    1    0     1   1  2.22457  2.22457             2H\n",
       "3    3H   3  1    1    0     1   1  6.25723  0.00000             3H\n",
       "4    3He  3  2    1    0     1   1  0.00000  5.49348            3He"
      ]
     },
     "execution_count": 365,
     "metadata": {},
     "output_type": "execute_result"
    }
   ],
   "source": [
    "ensdf_index.head()"
   ]
  },
  {
   "cell_type": "markdown",
   "metadata": {},
   "source": [
    "### Extracting ENSDF Data per Element"
   ]
  },
  {
   "cell_type": "code",
   "execution_count": 366,
   "metadata": {},
   "outputs": [
    {
     "name": "stdout",
     "output_type": "stream",
     "text": [
      "Extracting ENSDF data per element with header ...\n",
      "Finished extracting data per element with header.\n"
     ]
    }
   ],
   "source": [
    "print(\"Extracting ENSDF data per element with header ...\")\n",
    "for e in element_list_endf:\n",
    "    for i in names:\n",
    "        with open(i, \"r\") as infile, open((\"Elemental_ENSDF/\" + str(e).strip() + '.txt'), 'a') as outfile:\n",
    "            lines = infile.readlines()\n",
    "            for z, line in enumerate(lines):\n",
    "                if line.startswith(str(e)):\n",
    "                    for y in range(0, 1 + ensdf_index[ensdf_index[\"SYMB\"] == e][[\"Nol\"]].values[0][0] + ensdf_index[ensdf_index[\"SYMB\"] == e][[\"Nog\"]].values[0][0]):\n",
    "                        outfile.write(lines[z + y])\n",
    "print(\"Finished extracting data per element with header.\")"
   ]
  },
  {
   "cell_type": "markdown",
   "metadata": {},
   "source": [
    "### Extracting Stable States Only"
   ]
  },
  {
   "cell_type": "code",
   "execution_count": 305,
   "metadata": {},
   "outputs": [
    {
     "name": "stdout",
     "output_type": "stream",
     "text": [
      "Extracting stable states ...\n",
      "Finished extracting REACTION NOTATION.\n"
     ]
    }
   ],
   "source": [
    "print(\"Extracting stable states ...\")\n",
    "for e in element_list_endf:\n",
    "    for i in names:\n",
    "        with open(i, \"r\") as infile, open((resulting_files_dir + \"ensdf_stable_state.txt\"), 'a') as outfile:\n",
    "            lines = infile.readlines()\n",
    "            for z, line in enumerate(lines):\n",
    "                if line.startswith(str(e)):\n",
    "                    outfile.write(e + lines[1 + z])\n",
    "print(\"Finished extracting stable states.\")"
   ]
  },
  {
   "cell_type": "code",
   "execution_count": 306,
   "metadata": {},
   "outputs": [
    {
     "name": "stdout",
     "output_type": "stream",
     "text": [
      "Formatting ENSDF data...\n",
      "Finished formating data.\n"
     ]
    }
   ],
   "source": [
    "print(\"Formatting ENSDF stable states file ...\")\n",
    "with open(resulting_files_dir + \"ensdf_stable_state.txt\") as infile, open(resulting_files_dir + 'ensdf_stable_state_formatted.csv', 'w') as outfile:\n",
    "    for line in infile:\n",
    "        if line.strip():\n",
    "            string = list(line)\n",
    "            for i, j in enumerate([5, 10, 19, 25, 28, 39, 42, 44, 46, 59, 68, 71, 74, 85, 93, 96, 107, 115]):\n",
    "                string.insert(i + j, ';')\n",
    "            outfile.write(\"\".join(string))\n",
    "print(\"Finished formating data.\")"
   ]
  },
  {
   "cell_type": "markdown",
   "metadata": {},
   "source": [
    "### Extracting ENSDF Data per Element without Header"
   ]
  },
  {
   "cell_type": "code",
   "execution_count": 367,
   "metadata": {},
   "outputs": [
    {
     "name": "stdout",
     "output_type": "stream",
     "text": [
      "Extracting ENSDF data per element without header ...\n",
      "Finished extracting data per element without header.\n"
     ]
    }
   ],
   "source": [
    "print(\"Extracting ENSDF data per element without header ...\")\n",
    "for e in element_list_endf:\n",
    "    for i in names:\n",
    "        with open(i, \"r\") as infile, open((\"Elemental_ENSDF_v2/\" + str(e).strip() + '.txt'), 'a') as outfile:\n",
    "            lines = infile.readlines()\n",
    "            for z, line in enumerate(lines):\n",
    "                if line.startswith(str(e)):\n",
    "                    for y in range(1, 1 + ensdf_index[ensdf_index[\"SYMB\"] == e][[\"Nol\"]].values[0][0] + ensdf_index[ensdf_index[\"SYMB\"] == e][[\"Nog\"]].values[0][0]):\n",
    "                        outfile.write(lines[z + y])\n",
    "print(\"Finished extracting data per element without header.\")"
   ]
  },
  {
   "cell_type": "code",
   "execution_count": 368,
   "metadata": {},
   "outputs": [
    {
     "name": "stdout",
     "output_type": "stream",
     "text": [
      "Formatting ENSDF data...\n",
      "Finished formating data.\n"
     ]
    }
   ],
   "source": [
    "print(\"Formatting ENSDF data...\")\n",
    "for i in element_list_names:\n",
    "    with open(\"Elemental_ENSDF_v2/\" + i + \".txt\") as infile, open(\"Elemental_ENSDF_v3/\" + i + \".txt\", 'w') as outfile:\n",
    "        for line in infile:\n",
    "            if line.strip():\n",
    "                string = list(line)\n",
    "                for i, j in enumerate([4, 15, 20, 23, 34, 37, 39, 43, 54, 65, 66]):\n",
    "                    string.insert(i + j, ';')\n",
    "                outfile.write(\"\".join(string))\n",
    "print(\"Finished formating data.\")"
   ]
  },
  {
   "cell_type": "markdown",
   "metadata": {},
   "source": [
    "### Making DataFrame for ENSDF Inferal"
   ]
  },
  {
   "cell_type": "code",
   "execution_count": 370,
   "metadata": {},
   "outputs": [
    {
     "name": "stdout",
     "output_type": "stream",
     "text": [
      "Creatign DataFrame with Basic ENSDF data ...\n",
      "Finished creating list of dataframes.\n"
     ]
    }
   ],
   "source": [
    "print(\"Creatign DataFrame with Basic ENSDF data ...\")\n",
    "appended_data = []\n",
    "ensdf_cols = [\"Level_Number\", \"Level_Energy\", \"Spin\", \"Parity\", \"Half_Life\", \n",
    "              \"Number_Gammas\", \"Flag_Spin\", \"Flag_Energy\", \"Other\", \"Other2\", \"Other3\", \"Other4\"]\n",
    "\n",
    "for e in element_list_names:\n",
    "    with open(\"Elemental_ENSDF_v3/\" + e + \".txt\", \"r\") as infile:\n",
    "        element_ensdf = pd.read_csv(infile, sep=\";\", names=ensdf_cols)\n",
    "        element_ensdf[\"Level_Number\"] = element_ensdf[\"Level_Number\"].astype(str)\n",
    "        element_ensdf[\"Level_Number\"] = element_ensdf[\"Level_Number\"].apply(lambda x: x.strip())\n",
    "        element_ensdf[\"Level_Number\"] = element_ensdf[\"Level_Number\"].replace(to_replace=\"\", value=np.nan)\n",
    "        element_ensdf = element_ensdf.dropna().reset_index(drop=True)\n",
    "        element_ensdf[\"Element_w_A\"] = e\n",
    "        appended_data.append(element_ensdf)\n",
    "print(\"Finished creating list of dataframes.\")"
   ]
  },
  {
   "cell_type": "code",
   "execution_count": 371,
   "metadata": {},
   "outputs": [],
   "source": [
    "appended_data = pd.concat(appended_data)"
   ]
  },
  {
   "cell_type": "code",
   "execution_count": 376,
   "metadata": {},
   "outputs": [],
   "source": [
    "appended_data = appended_data[[\"Level_Number\", \"Level_Energy\", \"Spin\", \"Parity\", \"Element_w_A\"]]"
   ]
  },
  {
   "cell_type": "code",
   "execution_count": 377,
   "metadata": {},
   "outputs": [
    {
     "data": {
      "text/html": [
       "<div>\n",
       "<style scoped>\n",
       "    .dataframe tbody tr th:only-of-type {\n",
       "        vertical-align: middle;\n",
       "    }\n",
       "\n",
       "    .dataframe tbody tr th {\n",
       "        vertical-align: top;\n",
       "    }\n",
       "\n",
       "    .dataframe thead th {\n",
       "        text-align: right;\n",
       "    }\n",
       "</style>\n",
       "<table border=\"1\" class=\"dataframe\">\n",
       "  <thead>\n",
       "    <tr style=\"text-align: right;\">\n",
       "      <th></th>\n",
       "      <th>Level_Number</th>\n",
       "      <th>Level_Energy</th>\n",
       "      <th>Spin</th>\n",
       "      <th>Parity</th>\n",
       "      <th>Element_w_A</th>\n",
       "    </tr>\n",
       "  </thead>\n",
       "  <tbody>\n",
       "    <tr>\n",
       "      <th>0</th>\n",
       "      <td>1</td>\n",
       "      <td>0</td>\n",
       "      <td>0.5</td>\n",
       "      <td>1</td>\n",
       "      <td>1n</td>\n",
       "    </tr>\n",
       "    <tr>\n",
       "      <th>0</th>\n",
       "      <td>1</td>\n",
       "      <td>0</td>\n",
       "      <td>0.5</td>\n",
       "      <td>1</td>\n",
       "      <td>1H</td>\n",
       "    </tr>\n",
       "    <tr>\n",
       "      <th>0</th>\n",
       "      <td>1</td>\n",
       "      <td>0</td>\n",
       "      <td>1</td>\n",
       "      <td>1</td>\n",
       "      <td>2H</td>\n",
       "    </tr>\n",
       "    <tr>\n",
       "      <th>0</th>\n",
       "      <td>1</td>\n",
       "      <td>0</td>\n",
       "      <td>0.5</td>\n",
       "      <td>1</td>\n",
       "      <td>3H</td>\n",
       "    </tr>\n",
       "    <tr>\n",
       "      <th>0</th>\n",
       "      <td>1</td>\n",
       "      <td>0</td>\n",
       "      <td>0.5</td>\n",
       "      <td>1</td>\n",
       "      <td>3He</td>\n",
       "    </tr>\n",
       "  </tbody>\n",
       "</table>\n",
       "</div>"
      ],
      "text/plain": [
       "  Level_Number Level_Energy Spin Parity Element_w_A\n",
       "0            1            0  0.5      1          1n\n",
       "0            1            0  0.5      1          1H\n",
       "0            1            0    1      1          2H\n",
       "0            1            0  0.5      1          3H\n",
       "0            1            0  0.5      1         3He"
      ]
     },
     "execution_count": 377,
     "metadata": {},
     "output_type": "execute_result"
    }
   ],
   "source": [
    "appended_data.head()"
   ]
  },
  {
   "cell_type": "code",
   "execution_count": 387,
   "metadata": {},
   "outputs": [
    {
     "data": {
      "text/plain": [
       "530"
      ]
     },
     "execution_count": 387,
     "metadata": {},
     "output_type": "execute_result"
    }
   ],
   "source": [
    "len(appended_data[\"Element_w_A\"].value_counts())"
   ]
  },
  {
   "cell_type": "code",
   "execution_count": 394,
   "metadata": {},
   "outputs": [],
   "source": [
    "appended_data_2 = pd.merge(appended_data, df[[\"Protons\", \"Target_Neutrons\", \"Atomic_Mass_Micro\", \"Target_Mass_Number\", \"Element\", \"Element_w_A\"]].drop_duplicates(subset=['Protons', 'Target_Neutrons']), on='Element_w_A')"
   ]
  },
  {
   "cell_type": "code",
   "execution_count": 398,
   "metadata": {},
   "outputs": [
    {
     "data": {
      "text/plain": [
       "True"
      ]
     },
     "execution_count": 398,
     "metadata": {},
     "output_type": "execute_result"
    }
   ],
   "source": [
    "appended_data.shape[0] == appended_data_2.shape[0]"
   ]
  },
  {
   "cell_type": "code",
   "execution_count": 399,
   "metadata": {},
   "outputs": [],
   "source": [
    "appended_data_2.to_csv(\"ensdf_v1.csv\", index=False)"
   ]
  },
  {
   "cell_type": "markdown",
   "metadata": {},
   "source": [
    "### Adding Stable "
   ]
  },
  {
   "cell_type": "code",
   "execution_count": 264,
   "metadata": {},
   "outputs": [],
   "source": [
    "columns_ensdf = [\"Element_w_A\", \"N1\", \"Elv[MeV]\", \"spin\", \"parity\", \"state_half_life\", \"Ng\", \"J\", \"unc\", \"spins\", \"nd\", \n",
    "                 \"m\", \"percent\", \"mode\", \"other\", \"other1\", \"other2\", \"other3\", \"other4\"]\n",
    "ensdf_final = pd.read_csv(\"ensdf_stable_state_formatted.csv\", names=columns_ensdf, sep=\";\")\n",
    "ensdf_final[\"spin\"] = ensdf_final[\"spin\"].replace(to_replace=-1.0, value=3.5) \n",
    "ensdf_final[\"parity\"] = ensdf_final[\"parity\"].replace(to_replace=0, value=1.0)\n",
    "ensdf_final[\"Element_w_A\"] = ensdf_final[\"Element_w_A\"].apply(lambda x: x.strip())\n",
    "ensdf_final = ensdf_final[[\"Element_w_A\", \"spin\", \"parity\"]]"
   ]
  },
  {
   "cell_type": "code",
   "execution_count": 275,
   "metadata": {},
   "outputs": [],
   "source": [
    "df2 = pd.merge(df, ensdf_final, on='Element_w_A')"
   ]
  },
  {
   "cell_type": "code",
   "execution_count": 276,
   "metadata": {},
   "outputs": [
    {
     "data": {
      "text/html": [
       "<div>\n",
       "<style scoped>\n",
       "    .dataframe tbody tr th:only-of-type {\n",
       "        vertical-align: middle;\n",
       "    }\n",
       "\n",
       "    .dataframe tbody tr th {\n",
       "        vertical-align: top;\n",
       "    }\n",
       "\n",
       "    .dataframe thead th {\n",
       "        text-align: right;\n",
       "    }\n",
       "</style>\n",
       "<table border=\"1\" class=\"dataframe\">\n",
       "  <thead>\n",
       "    <tr style=\"text-align: right;\">\n",
       "      <th></th>\n",
       "      <th>Target_Meta_State</th>\n",
       "      <th>MT</th>\n",
       "      <th>Energy</th>\n",
       "      <th>dEnergy</th>\n",
       "      <th>Data</th>\n",
       "      <th>dData</th>\n",
       "      <th>ELV/HL</th>\n",
       "      <th>dELV/HL</th>\n",
       "      <th>I78</th>\n",
       "      <th>Refer</th>\n",
       "      <th>...</th>\n",
       "      <th>Q(3He,a)</th>\n",
       "      <th>Q(t,a)</th>\n",
       "      <th>Unc</th>\n",
       "      <th>Nuc_Radius_fm</th>\n",
       "      <th>Neut_Nuc_Rad_Ratio</th>\n",
       "      <th>Compound_Neutrons</th>\n",
       "      <th>Compound_Mass_Number</th>\n",
       "      <th>Element_w_A</th>\n",
       "      <th>spin</th>\n",
       "      <th>parity</th>\n",
       "    </tr>\n",
       "  </thead>\n",
       "  <tbody>\n",
       "    <tr>\n",
       "      <th>688816</th>\n",
       "      <td>G</td>\n",
       "      <td>1</td>\n",
       "      <td>-1.513145</td>\n",
       "      <td>-3.602091</td>\n",
       "      <td>45.370</td>\n",
       "      <td>0.00000</td>\n",
       "      <td>0.0</td>\n",
       "      <td>0.0</td>\n",
       "      <td>L</td>\n",
       "      <td>R.M.BRUGGER,ET.AL. (56)</td>\n",
       "      <td>...</td>\n",
       "      <td>11931.288965</td>\n",
       "      <td>10137.979683</td>\n",
       "      <td>0.000000</td>\n",
       "      <td>4.088833</td>\n",
       "      <td>0.305711</td>\n",
       "      <td>19</td>\n",
       "      <td>36</td>\n",
       "      <td>35Cl</td>\n",
       "      <td>1.5</td>\n",
       "      <td>1</td>\n",
       "    </tr>\n",
       "    <tr>\n",
       "      <th>688817</th>\n",
       "      <td>G</td>\n",
       "      <td>1</td>\n",
       "      <td>-1.507519</td>\n",
       "      <td>-3.596465</td>\n",
       "      <td>45.070</td>\n",
       "      <td>0.00000</td>\n",
       "      <td>0.0</td>\n",
       "      <td>0.0</td>\n",
       "      <td>L</td>\n",
       "      <td>R.M.BRUGGER,ET.AL. (56)</td>\n",
       "      <td>...</td>\n",
       "      <td>11931.288965</td>\n",
       "      <td>10137.979683</td>\n",
       "      <td>0.000000</td>\n",
       "      <td>4.088833</td>\n",
       "      <td>0.305711</td>\n",
       "      <td>19</td>\n",
       "      <td>36</td>\n",
       "      <td>35Cl</td>\n",
       "      <td>1.5</td>\n",
       "      <td>1</td>\n",
       "    </tr>\n",
       "    <tr>\n",
       "      <th>688818</th>\n",
       "      <td>G</td>\n",
       "      <td>1</td>\n",
       "      <td>-1.501827</td>\n",
       "      <td>-3.590774</td>\n",
       "      <td>44.690</td>\n",
       "      <td>0.00000</td>\n",
       "      <td>0.0</td>\n",
       "      <td>0.0</td>\n",
       "      <td>L</td>\n",
       "      <td>R.M.BRUGGER,ET.AL. (56)</td>\n",
       "      <td>...</td>\n",
       "      <td>11931.288965</td>\n",
       "      <td>10137.979683</td>\n",
       "      <td>0.000000</td>\n",
       "      <td>4.088833</td>\n",
       "      <td>0.305711</td>\n",
       "      <td>19</td>\n",
       "      <td>36</td>\n",
       "      <td>35Cl</td>\n",
       "      <td>1.5</td>\n",
       "      <td>1</td>\n",
       "    </tr>\n",
       "    <tr>\n",
       "      <th>688819</th>\n",
       "      <td>G</td>\n",
       "      <td>1</td>\n",
       "      <td>-1.496073</td>\n",
       "      <td>-3.585019</td>\n",
       "      <td>44.540</td>\n",
       "      <td>0.00000</td>\n",
       "      <td>0.0</td>\n",
       "      <td>0.0</td>\n",
       "      <td>L</td>\n",
       "      <td>R.M.BRUGGER,ET.AL. (56)</td>\n",
       "      <td>...</td>\n",
       "      <td>11931.288965</td>\n",
       "      <td>10137.979683</td>\n",
       "      <td>0.000000</td>\n",
       "      <td>4.088833</td>\n",
       "      <td>0.305711</td>\n",
       "      <td>19</td>\n",
       "      <td>36</td>\n",
       "      <td>35Cl</td>\n",
       "      <td>1.5</td>\n",
       "      <td>1</td>\n",
       "    </tr>\n",
       "    <tr>\n",
       "      <th>688820</th>\n",
       "      <td>G</td>\n",
       "      <td>1</td>\n",
       "      <td>-1.490260</td>\n",
       "      <td>-3.579206</td>\n",
       "      <td>44.640</td>\n",
       "      <td>0.00000</td>\n",
       "      <td>0.0</td>\n",
       "      <td>0.0</td>\n",
       "      <td>L</td>\n",
       "      <td>R.M.BRUGGER,ET.AL. (56)</td>\n",
       "      <td>...</td>\n",
       "      <td>11931.288965</td>\n",
       "      <td>10137.979683</td>\n",
       "      <td>0.000000</td>\n",
       "      <td>4.088833</td>\n",
       "      <td>0.305711</td>\n",
       "      <td>19</td>\n",
       "      <td>36</td>\n",
       "      <td>35Cl</td>\n",
       "      <td>1.5</td>\n",
       "      <td>1</td>\n",
       "    </tr>\n",
       "    <tr>\n",
       "      <th>...</th>\n",
       "      <td>...</td>\n",
       "      <td>...</td>\n",
       "      <td>...</td>\n",
       "      <td>...</td>\n",
       "      <td>...</td>\n",
       "      <td>...</td>\n",
       "      <td>...</td>\n",
       "      <td>...</td>\n",
       "      <td>...</td>\n",
       "      <td>...</td>\n",
       "      <td>...</td>\n",
       "      <td>...</td>\n",
       "      <td>...</td>\n",
       "      <td>...</td>\n",
       "      <td>...</td>\n",
       "      <td>...</td>\n",
       "      <td>...</td>\n",
       "      <td>...</td>\n",
       "      <td>...</td>\n",
       "      <td>...</td>\n",
       "      <td>...</td>\n",
       "    </tr>\n",
       "    <tr>\n",
       "      <th>703043</th>\n",
       "      <td>G</td>\n",
       "      <td>107</td>\n",
       "      <td>7.161368</td>\n",
       "      <td>5.072422</td>\n",
       "      <td>0.191</td>\n",
       "      <td>0.03056</td>\n",
       "      <td>0.0</td>\n",
       "      <td>0.0</td>\n",
       "      <td>L</td>\n",
       "      <td>E.B.Paul,ET.AL. (53)</td>\n",
       "      <td>...</td>\n",
       "      <td>7932.859400</td>\n",
       "      <td>13443.054900</td>\n",
       "      <td>0.000000</td>\n",
       "      <td>4.088833</td>\n",
       "      <td>0.305711</td>\n",
       "      <td>19</td>\n",
       "      <td>36</td>\n",
       "      <td>35Cl</td>\n",
       "      <td>1.5</td>\n",
       "      <td>1</td>\n",
       "    </tr>\n",
       "    <tr>\n",
       "      <th>703044</th>\n",
       "      <td>G</td>\n",
       "      <td>107</td>\n",
       "      <td>7.164353</td>\n",
       "      <td>5.301030</td>\n",
       "      <td>0.108</td>\n",
       "      <td>0.09000</td>\n",
       "      <td>0.0</td>\n",
       "      <td>0.0</td>\n",
       "      <td>L</td>\n",
       "      <td>R.C.Barrall,ET.AL. (69)</td>\n",
       "      <td>...</td>\n",
       "      <td>7932.859400</td>\n",
       "      <td>13443.054900</td>\n",
       "      <td>0.013699</td>\n",
       "      <td>4.088833</td>\n",
       "      <td>0.305711</td>\n",
       "      <td>19</td>\n",
       "      <td>36</td>\n",
       "      <td>35Cl</td>\n",
       "      <td>1.5</td>\n",
       "      <td>1</td>\n",
       "    </tr>\n",
       "    <tr>\n",
       "      <th>703045</th>\n",
       "      <td>G</td>\n",
       "      <td>107</td>\n",
       "      <td>7.164353</td>\n",
       "      <td>5.301030</td>\n",
       "      <td>0.121</td>\n",
       "      <td>0.02000</td>\n",
       "      <td>0.0</td>\n",
       "      <td>0.0</td>\n",
       "      <td>L</td>\n",
       "      <td>W.Nagel (66)</td>\n",
       "      <td>...</td>\n",
       "      <td>7932.859400</td>\n",
       "      <td>13443.054900</td>\n",
       "      <td>0.013699</td>\n",
       "      <td>4.088833</td>\n",
       "      <td>0.305711</td>\n",
       "      <td>19</td>\n",
       "      <td>36</td>\n",
       "      <td>35Cl</td>\n",
       "      <td>1.5</td>\n",
       "      <td>1</td>\n",
       "    </tr>\n",
       "    <tr>\n",
       "      <th>703046</th>\n",
       "      <td>G</td>\n",
       "      <td>107</td>\n",
       "      <td>7.164353</td>\n",
       "      <td>5.301030</td>\n",
       "      <td>0.117</td>\n",
       "      <td>0.02000</td>\n",
       "      <td>0.0</td>\n",
       "      <td>0.0</td>\n",
       "      <td>L</td>\n",
       "      <td>W.Nagel (66)</td>\n",
       "      <td>...</td>\n",
       "      <td>7932.859400</td>\n",
       "      <td>13443.054900</td>\n",
       "      <td>0.013699</td>\n",
       "      <td>4.088833</td>\n",
       "      <td>0.305711</td>\n",
       "      <td>19</td>\n",
       "      <td>36</td>\n",
       "      <td>35Cl</td>\n",
       "      <td>1.5</td>\n",
       "      <td>1</td>\n",
       "    </tr>\n",
       "    <tr>\n",
       "      <th>703047</th>\n",
       "      <td>G</td>\n",
       "      <td>107</td>\n",
       "      <td>7.170262</td>\n",
       "      <td>5.081315</td>\n",
       "      <td>0.122</td>\n",
       "      <td>0.05600</td>\n",
       "      <td>0.0</td>\n",
       "      <td>0.0</td>\n",
       "      <td>L</td>\n",
       "      <td>R.S.SCALAN,ET.AL. (58)</td>\n",
       "      <td>...</td>\n",
       "      <td>7932.859400</td>\n",
       "      <td>13443.054900</td>\n",
       "      <td>0.000000</td>\n",
       "      <td>4.088833</td>\n",
       "      <td>0.305711</td>\n",
       "      <td>19</td>\n",
       "      <td>36</td>\n",
       "      <td>35Cl</td>\n",
       "      <td>1.5</td>\n",
       "      <td>1</td>\n",
       "    </tr>\n",
       "  </tbody>\n",
       "</table>\n",
       "<p>14232 rows × 92 columns</p>\n",
       "</div>"
      ],
      "text/plain": [
       "       Target_Meta_State   MT    Energy   dEnergy    Data    dData  ELV/HL  \\\n",
       "688816                 G    1 -1.513145 -3.602091  45.370  0.00000     0.0   \n",
       "688817                 G    1 -1.507519 -3.596465  45.070  0.00000     0.0   \n",
       "688818                 G    1 -1.501827 -3.590774  44.690  0.00000     0.0   \n",
       "688819                 G    1 -1.496073 -3.585019  44.540  0.00000     0.0   \n",
       "688820                 G    1 -1.490260 -3.579206  44.640  0.00000     0.0   \n",
       "...                  ...  ...       ...       ...     ...      ...     ...   \n",
       "703043                 G  107  7.161368  5.072422   0.191  0.03056     0.0   \n",
       "703044                 G  107  7.164353  5.301030   0.108  0.09000     0.0   \n",
       "703045                 G  107  7.164353  5.301030   0.121  0.02000     0.0   \n",
       "703046                 G  107  7.164353  5.301030   0.117  0.02000     0.0   \n",
       "703047                 G  107  7.170262  5.081315   0.122  0.05600     0.0   \n",
       "\n",
       "        dELV/HL I78                        Refer  ...      Q(3He,a)  \\\n",
       "688816      0.0   L    R.M.BRUGGER,ET.AL. (56)    ...  11931.288965   \n",
       "688817      0.0   L    R.M.BRUGGER,ET.AL. (56)    ...  11931.288965   \n",
       "688818      0.0   L    R.M.BRUGGER,ET.AL. (56)    ...  11931.288965   \n",
       "688819      0.0   L    R.M.BRUGGER,ET.AL. (56)    ...  11931.288965   \n",
       "688820      0.0   L    R.M.BRUGGER,ET.AL. (56)    ...  11931.288965   \n",
       "...         ...  ..                          ...  ...           ...   \n",
       "703043      0.0   L    E.B.Paul,ET.AL. (53)       ...   7932.859400   \n",
       "703044      0.0   L    R.C.Barrall,ET.AL. (69)    ...   7932.859400   \n",
       "703045      0.0   L    W.Nagel (66)               ...   7932.859400   \n",
       "703046      0.0   L    W.Nagel (66)               ...   7932.859400   \n",
       "703047      0.0   L    R.S.SCALAN,ET.AL. (58)     ...   7932.859400   \n",
       "\n",
       "              Q(t,a)       Unc Nuc_Radius_fm Neut_Nuc_Rad_Ratio  \\\n",
       "688816  10137.979683  0.000000      4.088833           0.305711   \n",
       "688817  10137.979683  0.000000      4.088833           0.305711   \n",
       "688818  10137.979683  0.000000      4.088833           0.305711   \n",
       "688819  10137.979683  0.000000      4.088833           0.305711   \n",
       "688820  10137.979683  0.000000      4.088833           0.305711   \n",
       "...              ...       ...           ...                ...   \n",
       "703043  13443.054900  0.000000      4.088833           0.305711   \n",
       "703044  13443.054900  0.013699      4.088833           0.305711   \n",
       "703045  13443.054900  0.013699      4.088833           0.305711   \n",
       "703046  13443.054900  0.013699      4.088833           0.305711   \n",
       "703047  13443.054900  0.000000      4.088833           0.305711   \n",
       "\n",
       "        Compound_Neutrons Compound_Mass_Number Element_w_A  spin parity  \n",
       "688816                 19                   36        35Cl   1.5      1  \n",
       "688817                 19                   36        35Cl   1.5      1  \n",
       "688818                 19                   36        35Cl   1.5      1  \n",
       "688819                 19                   36        35Cl   1.5      1  \n",
       "688820                 19                   36        35Cl   1.5      1  \n",
       "...                   ...                  ...         ...   ...    ...  \n",
       "703043                 19                   36        35Cl   1.5      1  \n",
       "703044                 19                   36        35Cl   1.5      1  \n",
       "703045                 19                   36        35Cl   1.5      1  \n",
       "703046                 19                   36        35Cl   1.5      1  \n",
       "703047                 19                   36        35Cl   1.5      1  \n",
       "\n",
       "[14232 rows x 92 columns]"
      ]
     },
     "execution_count": 276,
     "metadata": {},
     "output_type": "execute_result"
    }
   ],
   "source": [
    "df2[df2[\"Element_w_A\"] == \"35Cl\"]"
   ]
  },
  {
   "cell_type": "code",
   "execution_count": 277,
   "metadata": {},
   "outputs": [],
   "source": [
    "df2[\"Reference\"] = df2[\"Refer\"] + \" \" + df2[\"Reference\"]"
   ]
  },
  {
   "cell_type": "code",
   "execution_count": 278,
   "metadata": {},
   "outputs": [
    {
     "data": {
      "text/html": [
       "<div>\n",
       "<style scoped>\n",
       "    .dataframe tbody tr th:only-of-type {\n",
       "        vertical-align: middle;\n",
       "    }\n",
       "\n",
       "    .dataframe tbody tr th {\n",
       "        vertical-align: top;\n",
       "    }\n",
       "\n",
       "    .dataframe thead th {\n",
       "        text-align: right;\n",
       "    }\n",
       "</style>\n",
       "<table border=\"1\" class=\"dataframe\">\n",
       "  <thead>\n",
       "    <tr style=\"text-align: right;\">\n",
       "      <th></th>\n",
       "      <th>Refer</th>\n",
       "      <th>Reference</th>\n",
       "      <th>Author</th>\n",
       "    </tr>\n",
       "  </thead>\n",
       "  <tbody>\n",
       "    <tr>\n",
       "      <th>0</th>\n",
       "      <td>D.F.MEASDAY,ET.AL. (66)</td>\n",
       "      <td>D.F.MEASDAY,ET.AL. (66)   Jour. Nuclear Phys...</td>\n",
       "      <td>D.F.Measday+</td>\n",
       "    </tr>\n",
       "    <tr>\n",
       "      <th>1</th>\n",
       "      <td>D.F.MEASDAY,ET.AL. (66)</td>\n",
       "      <td>D.F.MEASDAY,ET.AL. (66)   Jour. Nuclear Phys...</td>\n",
       "      <td>D.F.Measday+</td>\n",
       "    </tr>\n",
       "    <tr>\n",
       "      <th>2</th>\n",
       "      <td>D.F.MEASDAY,ET.AL. (66)</td>\n",
       "      <td>D.F.MEASDAY,ET.AL. (66)   Jour. Nuclear Phys...</td>\n",
       "      <td>D.F.Measday+</td>\n",
       "    </tr>\n",
       "    <tr>\n",
       "      <th>3</th>\n",
       "      <td>D.F.MEASDAY,ET.AL. (66)</td>\n",
       "      <td>D.F.MEASDAY,ET.AL. (66)   Jour. Nuclear Phys...</td>\n",
       "      <td>D.F.Measday+</td>\n",
       "    </tr>\n",
       "    <tr>\n",
       "      <th>4</th>\n",
       "      <td>D.F.MEASDAY,ET.AL. (66)</td>\n",
       "      <td>D.F.MEASDAY,ET.AL. (66)   Jour. Nuclear Phys...</td>\n",
       "      <td>D.F.Measday+</td>\n",
       "    </tr>\n",
       "    <tr>\n",
       "      <th>...</th>\n",
       "      <td>...</td>\n",
       "      <td>...</td>\n",
       "      <td>...</td>\n",
       "    </tr>\n",
       "    <tr>\n",
       "      <th>4533402</th>\n",
       "      <td>S.F.Mughabghab (06)</td>\n",
       "      <td>S.F.Mughabghab (06)       Jour. Physical Rev...</td>\n",
       "      <td>S.F.Mughabghab</td>\n",
       "    </tr>\n",
       "    <tr>\n",
       "      <th>4533403</th>\n",
       "      <td>S.F.Mughabghab (06)</td>\n",
       "      <td>S.F.Mughabghab (06)       0.0</td>\n",
       "      <td>S.F.Mughabghab</td>\n",
       "    </tr>\n",
       "    <tr>\n",
       "      <th>4533404</th>\n",
       "      <td>J.F.Wild,ET.AL. (73)</td>\n",
       "      <td>J.F.Wild,ET.AL. (73)      0.0</td>\n",
       "      <td>J.F.Wild+</td>\n",
       "    </tr>\n",
       "    <tr>\n",
       "      <th>4533405</th>\n",
       "      <td>S.F.Mughabghab (06)</td>\n",
       "      <td>S.F.Mughabghab (06)       0.0</td>\n",
       "      <td>S.F.Mughabghab</td>\n",
       "    </tr>\n",
       "    <tr>\n",
       "      <th>4533406</th>\n",
       "      <td>R.W.Hoff,ET.AL. (68)</td>\n",
       "      <td>R.W.Hoff,ET.AL. (68)      0.0</td>\n",
       "      <td>R.W.Hoff+</td>\n",
       "    </tr>\n",
       "  </tbody>\n",
       "</table>\n",
       "<p>4533407 rows × 3 columns</p>\n",
       "</div>"
      ],
      "text/plain": [
       "                               Refer  \\\n",
       "0          D.F.MEASDAY,ET.AL. (66)     \n",
       "1          D.F.MEASDAY,ET.AL. (66)     \n",
       "2          D.F.MEASDAY,ET.AL. (66)     \n",
       "3          D.F.MEASDAY,ET.AL. (66)     \n",
       "4          D.F.MEASDAY,ET.AL. (66)     \n",
       "...                              ...   \n",
       "4533402    S.F.Mughabghab (06)         \n",
       "4533403    S.F.Mughabghab (06)         \n",
       "4533404    J.F.Wild,ET.AL. (73)        \n",
       "4533405    S.F.Mughabghab (06)         \n",
       "4533406    R.W.Hoff,ET.AL. (68)        \n",
       "\n",
       "                                                 Reference          Author  \n",
       "0          D.F.MEASDAY,ET.AL. (66)   Jour. Nuclear Phys...    D.F.Measday+  \n",
       "1          D.F.MEASDAY,ET.AL. (66)   Jour. Nuclear Phys...    D.F.Measday+  \n",
       "2          D.F.MEASDAY,ET.AL. (66)   Jour. Nuclear Phys...    D.F.Measday+  \n",
       "3          D.F.MEASDAY,ET.AL. (66)   Jour. Nuclear Phys...    D.F.Measday+  \n",
       "4          D.F.MEASDAY,ET.AL. (66)   Jour. Nuclear Phys...    D.F.Measday+  \n",
       "...                                                    ...             ...  \n",
       "4533402    S.F.Mughabghab (06)       Jour. Physical Rev...  S.F.Mughabghab  \n",
       "4533403                      S.F.Mughabghab (06)       0.0  S.F.Mughabghab  \n",
       "4533404                      J.F.Wild,ET.AL. (73)      0.0       J.F.Wild+  \n",
       "4533405                      S.F.Mughabghab (06)       0.0  S.F.Mughabghab  \n",
       "4533406                      R.W.Hoff,ET.AL. (68)      0.0       R.W.Hoff+  \n",
       "\n",
       "[4533407 rows x 3 columns]"
      ]
     },
     "execution_count": 278,
     "metadata": {},
     "output_type": "execute_result"
    }
   ],
   "source": [
    "df2[[\"Refer\", \"Reference\", \"Author\"]]"
   ]
  },
  {
   "cell_type": "code",
   "execution_count": 280,
   "metadata": {},
   "outputs": [],
   "source": [
    "df2 = df2.drop(columns=[\"Refer\", \"Author\"])"
   ]
  },
  {
   "cell_type": "code",
   "execution_count": 282,
   "metadata": {},
   "outputs": [
    {
     "data": {
      "text/plain": [
       "Index(['Target_Meta_State', 'MT', 'Energy', 'dEnergy', 'Data', 'dData',\n",
       "       'ELV/HL', 'dELV/HL', 'I78', 'Protons', 'Product_Meta_State', 'Frame',\n",
       "       'Reaction_Notation', 'Title', 'Year', 'Institute', 'Date', 'Reference',\n",
       "       'Out', 'Target_Neutrons', 'Origin', 'Mass_Excess', 'dMass_Excess',\n",
       "       'Binding_Energy', 'dBinding_Energy', 'B_Decay_Energy',\n",
       "       'dB_Decay_Energy', 'Atomic_Mass_Micro', 'dAtomic_Mass_Micro', 'S(2n)',\n",
       "       'dS(2n)', 'S(2p)', 'dS(2p)', 'Q(a)', 'dQ(a)', 'Q(2B-)', 'dQ(2B-)',\n",
       "       'Q(ep)', 'dQ(ep)', 'Q(B-n)', 'dQ(B-n)', 'Target_Mass_Number', 'Element',\n",
       "       'S(n)', 'dS(n)', 'S(p)', 'dS(p)', 'Q(4B-)', 'dQ(4B-)', 'Q(d,a)',\n",
       "       'dQ(d,a)', 'Q(p,a)', 'dQ(p,a)', 'Q(n,a)', 'dQ(n,a)', 'Q(g,p)', 'Q(g,n)',\n",
       "       'Q(g,pn)', 'Q(g,d)', 'Q(g,t)', 'Q(g,He3)', 'Q(g,2p)', 'Q(g,2n)',\n",
       "       'Q(g,a)', 'Q(p,n)', 'Q(p,2p)', 'Q(p,pn)', 'Q(p,d)', 'Q(p,2n)', 'Q(p,t)',\n",
       "       'Q(p,3He)', 'Q(n,2p)', 'Q(n,np)', 'Q(n,d)', 'Q(n,2n)', 'Q(n,t)',\n",
       "       'Q(n,3He)', 'Q(d,t)', 'Q(d,3He)', 'Q(3He,t)', 'Q(3He,a)', 'Q(t,a)',\n",
       "       'Unc', 'Nuc_Radius_fm', 'Neut_Nuc_Rad_Ratio', 'Compound_Neutrons',\n",
       "       'Compound_Mass_Number', 'Element_w_A', 'spin', 'parity'],\n",
       "      dtype='object')"
      ]
     },
     "execution_count": 282,
     "metadata": {},
     "output_type": "execute_result"
    }
   ],
   "source": [
    "df2.columns"
   ]
  },
  {
   "cell_type": "code",
   "execution_count": 281,
   "metadata": {},
   "outputs": [],
   "source": [
    "df2.to_csv(\"../../ML_Data/working_xs_v2_unsk.csv\", index=False)"
   ]
  },
  {
   "cell_type": "code",
   "execution_count": null,
   "metadata": {},
   "outputs": [],
   "source": []
  }
 ],
 "metadata": {
  "kernelspec": {
   "display_name": "Python 3",
   "language": "python",
   "name": "python3"
  },
  "language_info": {
   "codemirror_mode": {
    "name": "ipython",
    "version": 3
   },
   "file_extension": ".py",
   "mimetype": "text/x-python",
   "name": "python",
   "nbconvert_exporter": "python",
   "pygments_lexer": "ipython3",
   "version": "3.7.6"
  }
 },
 "nbformat": 4,
 "nbformat_minor": 4
}
