{
 "cells": [
  {
   "cell_type": "code",
   "execution_count": 73,
   "metadata": {
    "ExecuteTime": {
     "end_time": "2020-03-31T23:33:30.423211Z",
     "start_time": "2020-03-31T23:33:30.413212Z"
    }
   },
   "outputs": [
    {
     "name": "stdout",
     "output_type": "stream",
     "text": [
      "Libraries reloaded.\n"
     ]
    }
   ],
   "source": [
    "from Utilities import EXFOR_parsing_utilities as exfor_parsing\n",
    "import importlib\n",
    "\n",
    "importlib.reload(exfor_parsing)\n",
    "print(\"Libraries reloaded.\")"
   ]
  },
  {
   "cell_type": "markdown",
   "metadata": {},
   "source": [
    "# Extracting and Formating Data from the EXFOR C4 Files\n",
    "\n",
    "To run this notebook the `natsort` package. The `os` and `shutil` come with the python installation."
   ]
  },
  {
   "cell_type": "code",
   "execution_count": 74,
   "metadata": {
    "ExecuteTime": {
     "end_time": "2020-03-31T23:33:31.278897Z",
     "start_time": "2020-03-31T23:33:31.276888Z"
    }
   },
   "outputs": [],
   "source": [
    "# exfor_directory = input(\"Enter the path to the folder containing the .c4 files: \") # \"./EXFOR/neutrons_2019_07_18/\"\n",
    "# tmp_path = input(\"Enter the path where temporary files should be stored: \") # \"./EXFOR/Extracted_Text/\"\n",
    "# heavy_dir = input(\"Enter the path where resulting files should be stored: \") # '../ML_Data/'"
   ]
  },
  {
   "cell_type": "code",
   "execution_count": 88,
   "metadata": {
    "ExecuteTime": {
     "end_time": "2020-04-01T18:20:42.808101Z",
     "start_time": "2020-04-01T18:20:42.789097Z"
    }
   },
   "outputs": [],
   "source": [
    "exfor_directory =  \"./EXFOR/neutrons_2019_07_18\"\n",
    "tmp_path =  \"./EXFOR/Extracted_Text\"\n",
    "heavy_dir = '../ML_Data'\n",
    "mode = 'neutrons' # protons\n",
    "heavy_dir = heavy_dir + \"/EXFOR_\" + mode"
   ]
  },
  {
   "cell_type": "code",
   "execution_count": 78,
   "metadata": {
    "ExecuteTime": {
     "end_time": "2020-03-31T23:34:02.792269Z",
     "start_time": "2020-03-31T23:34:02.773264Z"
    }
   },
   "outputs": [
    {
     "name": "stdout",
     "output_type": "stream",
     "text": [
      "Searching directory for .c4 files...\n",
      "Gathered 623 .c4 files.\n"
     ]
    }
   ],
   "source": [
    "# Gets a list of all .c4 file names from the EXFOR directory\n",
    "c4_list = exfor_parsing.get_c4_names(exfor_directory)"
   ]
  },
  {
   "cell_type": "code",
   "execution_count": 80,
   "metadata": {
    "ExecuteTime": {
     "end_time": "2020-03-31T23:34:14.604158Z",
     "start_time": "2020-03-31T23:34:14.600166Z"
    }
   },
   "outputs": [
    {
     "name": "stdout",
     "output_type": "stream",
     "text": [
      "Temporary Directory created.\n",
      "Saving Directory created.\n"
     ]
    }
   ],
   "source": [
    "# This will create the dirpath directory if it does not exist\n",
    "# If it exists it will reste the directory by removing all current files\n",
    "exfor_parsing.initialize_directories(tmp_path, heavy_dir)"
   ]
  },
  {
   "cell_type": "markdown",
   "metadata": {},
   "source": [
    "We now extract the experimental data avaliable in each file in the `neutrons` directory and format it to be read by python. The data format is given by EXFOR so we will insert commas at the specified positions. Tools like `pandas` can read character-delimited files but the EXFOR files contain no delimiter. Because of this we insert the commas at position: 5, 11, 12, 15, 19, 22, 31, 40, 49, 58, 67, 76, 85, 94, 95, 122, and 127. "
   ]
  },
  {
   "cell_type": "code",
   "execution_count": 53,
   "metadata": {
    "ExecuteTime": {
     "end_time": "2020-03-31T22:37:31.856585Z",
     "start_time": "2020-03-31T22:36:09.906018Z"
    }
   },
   "outputs": [
    {
     "name": "stdout",
     "output_type": "stream",
     "text": [
      "Extracting experimental data from the c4 EXFOR files ...\n",
      "Finished extracting all experimental data.\n",
      "Formatting extracted data...\n",
      "Finished formating EXFOR data.\n"
     ]
    }
   ],
   "source": [
    "exfor_parsing.get_datapoints(c4_list, heavy_dir)"
   ]
  },
  {
   "cell_type": "markdown",
   "metadata": {},
   "source": [
    "The EXFOR files contain more useful information worth extracting which can be deleted later at convenience. Some of these features can be extracted using the following keywords:\n",
    "\n",
    "- #AUTHOR1\n",
    "- #YEAR\n",
    "- #INSTITUTE \n",
    "- #TITLE\n",
    "- #REFERENCE\n",
    "- #DATE\n",
    "- #REACTION\n",
    "- #DATA (for data points)"
   ]
  },
  {
   "cell_type": "markdown",
   "metadata": {},
   "source": [
    "We now extract the `Author` for each experiment,"
   ]
  },
  {
   "cell_type": "code",
   "execution_count": 54,
   "metadata": {
    "ExecuteTime": {
     "end_time": "2020-03-31T22:37:38.753325Z",
     "start_time": "2020-03-31T22:37:31.857577Z"
    }
   },
   "outputs": [
    {
     "name": "stdout",
     "output_type": "stream",
     "text": [
      "Extracting AUTHORS ...\n",
      "Finished extracting AUTHORS.\n"
     ]
    }
   ],
   "source": [
    "exfor_parsing.get_authors(c4_list, tmp_path)"
   ]
  },
  {
   "cell_type": "markdown",
   "metadata": {},
   "source": [
    "the `Year` when the experiment took place,"
   ]
  },
  {
   "cell_type": "code",
   "execution_count": 55,
   "metadata": {
    "ExecuteTime": {
     "end_time": "2020-03-31T22:37:45.586370Z",
     "start_time": "2020-03-31T22:37:38.755327Z"
    }
   },
   "outputs": [
    {
     "name": "stdout",
     "output_type": "stream",
     "text": [
      "Extracting YEARS ...\n",
      "Finished extracting YEARS.\n"
     ]
    }
   ],
   "source": [
    "exfor_parsing.get_years(c4_list, tmp_path)"
   ]
  },
  {
   "cell_type": "markdown",
   "metadata": {},
   "source": [
    "the `Institute` where the experiment took place,"
   ]
  },
  {
   "cell_type": "code",
   "execution_count": 56,
   "metadata": {
    "ExecuteTime": {
     "end_time": "2020-03-31T22:37:52.436344Z",
     "start_time": "2020-03-31T22:37:45.587371Z"
    }
   },
   "outputs": [
    {
     "name": "stdout",
     "output_type": "stream",
     "text": [
      "Extracting INSTITUTES ...\n",
      "Finished extracting INSTITUTES.\n"
     ]
    }
   ],
   "source": [
    "exfor_parsing.get_institutes(c4_list, tmp_path)"
   ]
  },
  {
   "cell_type": "markdown",
   "metadata": {},
   "source": [
    "the `date` when the experiment took place,"
   ]
  },
  {
   "cell_type": "code",
   "execution_count": 57,
   "metadata": {
    "ExecuteTime": {
     "end_time": "2020-03-31T22:37:59.290640Z",
     "start_time": "2020-03-31T22:37:52.437345Z"
    }
   },
   "outputs": [
    {
     "name": "stdout",
     "output_type": "stream",
     "text": [
      "Extracting DATES ...\n",
      "Finished extracting DATES.\n"
     ]
    }
   ],
   "source": [
    "exfor_parsing.get_dates(c4_list, tmp_path)"
   ]
  },
  {
   "cell_type": "markdown",
   "metadata": {},
   "source": [
    "We now extract the `Title` for each experiment,"
   ]
  },
  {
   "cell_type": "code",
   "execution_count": 58,
   "metadata": {
    "ExecuteTime": {
     "end_time": "2020-03-31T22:38:07.425170Z",
     "start_time": "2020-03-31T22:37:59.291641Z"
    }
   },
   "outputs": [
    {
     "name": "stdout",
     "output_type": "stream",
     "text": [
      "Extracting TITLES ...\n",
      "Finished extracting TITLES.\n"
     ]
    }
   ],
   "source": [
    "exfor_parsing.get_titles(c4_list, tmp_path)"
   ]
  },
  {
   "cell_type": "markdown",
   "metadata": {},
   "source": [
    "and the `reference`."
   ]
  },
  {
   "cell_type": "code",
   "execution_count": 59,
   "metadata": {
    "ExecuteTime": {
     "end_time": "2020-03-31T22:38:15.515095Z",
     "start_time": "2020-03-31T22:38:07.426171Z"
    }
   },
   "outputs": [
    {
     "name": "stdout",
     "output_type": "stream",
     "text": [
      "Extracting REFERENCES ...\n",
      "Finished extracting REFERENCES.\n"
     ]
    }
   ],
   "source": [
    "exfor_parsing.get_references(c4_list, tmp_path)"
   ]
  },
  {
   "cell_type": "markdown",
   "metadata": {},
   "source": [
    "We will now extract the experimental reaction in `reaction notation` avaliable in each EXFOR experimental data entry."
   ]
  },
  {
   "cell_type": "code",
   "execution_count": 60,
   "metadata": {
    "ExecuteTime": {
     "end_time": "2020-03-31T22:38:23.520378Z",
     "start_time": "2020-03-31T22:38:15.517095Z"
    }
   },
   "outputs": [
    {
     "name": "stdout",
     "output_type": "stream",
     "text": [
      "Extracting REACTION NOTATION ...\n",
      "Finished extracting REACTION NOTATION.\n"
     ]
    }
   ],
   "source": [
    "exfor_parsing.get_reaction_notations(c4_list, tmp_path)"
   ]
  },
  {
   "cell_type": "markdown",
   "metadata": {},
   "source": [
    "Next, we extract the `number of datapoints per experiment`."
   ]
  },
  {
   "cell_type": "code",
   "execution_count": 61,
   "metadata": {
    "ExecuteTime": {
     "end_time": "2020-03-31T22:38:31.581438Z",
     "start_time": "2020-03-31T22:38:23.522379Z"
    }
   },
   "outputs": [
    {
     "name": "stdout",
     "output_type": "stream",
     "text": [
      "Extracting Data Points per Experiment ...\n",
      "Finished extracting Data Points per Experiment.\n"
     ]
    }
   ],
   "source": [
    "exfor_parsing.get_datapoints_per_experiment(c4_list, tmp_path)"
   ]
  },
  {
   "cell_type": "markdown",
   "metadata": {},
   "source": [
    "These functions allow to extract the intended information one at a time. If interested, we can get all the data faster rather than one by one by using the following funciton."
   ]
  },
  {
   "cell_type": "markdown",
   "metadata": {},
   "source": [
    "# All-in-one Function\n",
    "\n",
    "This function will save all information needed for later compilation in two directories: the `heavy_dir` and the `tmp_dir`."
   ]
  },
  {
   "cell_type": "code",
   "execution_count": 81,
   "metadata": {
    "ExecuteTime": {
     "end_time": "2020-03-31T23:36:19.320732Z",
     "start_time": "2020-03-31T23:34:32.125476Z"
    }
   },
   "outputs": [
    {
     "name": "stdout",
     "output_type": "stream",
     "text": [
      "Directory restarted.\n",
      "Extracting experimental data, authors, years, institutes, and datas...\n",
      "Finish extracting experimental data, authors, years, institutes, and datas.\n",
      "Extracting titles, references, and number of data points per experiment...\n",
      "Finished extracting titles, references, and number of data points per experiment.\n",
      "Formatting experimental data...\n",
      "Finished formating experimental data.\n",
      "Finished.\n"
     ]
    }
   ],
   "source": [
    "# exfor_parsing.get_all(c4_list, heavy_dir, tmp_path)\n",
    "exfor_parsing.get_all(exfor_parsing.get_c4_names(exfor_directory), heavy_dir, tmp_path)"
   ]
  },
  {
   "cell_type": "code",
   "execution_count": null,
   "metadata": {},
   "outputs": [],
   "source": []
  }
 ],
 "metadata": {
  "kernelspec": {
   "display_name": "Python 3",
   "language": "python",
   "name": "python3"
  },
  "language_info": {
   "codemirror_mode": {
    "name": "ipython",
    "version": 3
   },
   "file_extension": ".py",
   "mimetype": "text/x-python",
   "name": "python",
   "nbconvert_exporter": "python",
   "pygments_lexer": "ipython3",
   "version": "3.7.6"
  }
 },
 "nbformat": 4,
 "nbformat_minor": 4
}
