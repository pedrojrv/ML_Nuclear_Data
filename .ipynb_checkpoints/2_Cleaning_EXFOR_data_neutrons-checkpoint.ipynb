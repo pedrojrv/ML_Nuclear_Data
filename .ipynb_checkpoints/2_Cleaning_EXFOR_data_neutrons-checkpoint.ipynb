{
 "cells": [
  {
   "cell_type": "markdown",
   "metadata": {},
   "source": [
    "# Cleaning Cross Section Data Text File\n",
    "\n",
    "Let us import the necessary modules."
   ]
  },
  {
   "cell_type": "code",
   "execution_count": 88,
   "metadata": {
    "ExecuteTime": {
     "end_time": "2020-04-01T18:57:06.711737Z",
     "start_time": "2020-04-01T18:57:06.706728Z"
    }
   },
   "outputs": [],
   "source": [
    "import pandas as pd\n",
    "import numpy as np\n",
    "pd.set_option('display.max_columns', 500)\n",
    "pd.set_option('display.max_rows', 50)"
   ]
  },
  {
   "cell_type": "code",
   "execution_count": 89,
   "metadata": {
    "ExecuteTime": {
     "end_time": "2020-04-01T18:57:07.214777Z",
     "start_time": "2020-04-01T18:57:07.210786Z"
    }
   },
   "outputs": [],
   "source": [
    "exfor_directory =  \"./EXFOR/neutrons_2019_07_18\"\n",
    "tmp_path =  \"./EXFOR/Extracted_Text\"\n",
    "heavy_dir = '../ML_Data'\n",
    "mode = 'neutrons' # protons\n",
    "heavy_dir = heavy_dir + \"/EXFOR_\" + mode\n",
    "ame_dir = \"./AME_Files\""
   ]
  },
  {
   "cell_type": "markdown",
   "metadata": {},
   "source": [
    "# Cleaning Data\n",
    "\n",
    "Data contains whitespace and special characters that we need to deal with. Additionally, we see that some columns do not have values but they have a value: a string of spaces. Pandas does not recognizes them as NaN values so we have to manually take care of them. We will also drop the references the YY and the SubEntry Number. "
   ]
  },
  {
   "cell_type": "code",
   "execution_count": 90,
   "metadata": {
    "ExecuteTime": {
     "end_time": "2020-04-01T18:57:41.271429Z",
     "start_time": "2020-04-01T18:57:26.721028Z"
    }
   },
   "outputs": [],
   "source": [
    "colnames = [\"Prj\", \"Targ\", \"Target_Meta_State\", \"MF\", \"MT\", \"PXC\",  \"Energy\",  \"dEnergy\",  \"Data\", \\\n",
    "            \"dData\",   \"Cos/LO\",   \"dCos/LO\",   \"ELV/HL\",  \"dELV/HL\", \"I78\", \"Refer\", \"(YY)\", \"EntrySubP\"]\n",
    "df = pd.read_csv(heavy_dir + \"/all_cross_sections_v1.txt\", names=colnames, header=None, index_col=False, sep=\";\")"
   ]
  },
  {
   "cell_type": "code",
   "execution_count": 91,
   "metadata": {
    "ExecuteTime": {
     "end_time": "2020-04-01T18:57:51.370404Z",
     "start_time": "2020-04-01T18:57:41.273429Z"
    }
   },
   "outputs": [],
   "source": [
    "# make string version of original column\n",
    "df['Targ'] = df['Targ'].astype(str)\n",
    "\n",
    "# Making Sure all rows have the same number of values\n",
    "max_length = 5\n",
    "df.Targ = df.Targ.apply(lambda x: '0'*(max_length - len(x)) + x)\n",
    "\n",
    "# Target feature is formated as ZZAAA\n",
    "df['Z'] = df['Targ'].str[0:2].astype(int).fillna(0)\n",
    "df['M'] = df['Targ'].str[2:5].astype(int).fillna(0)\n",
    "\n",
    "# Calculating number of neutrons = mass number - protons\n",
    "df['N'] = df['M'] - df[\"Z\"]"
   ]
  },
  {
   "cell_type": "markdown",
   "metadata": {},
   "source": [
    "We assume that `Target_Meta_State` with unknown values are not Ground State. Instead they are filled with `All` per IAEA instructions."
   ]
  },
  {
   "cell_type": "code",
   "execution_count": 92,
   "metadata": {
    "ExecuteTime": {
     "end_time": "2020-04-01T18:57:51.535476Z",
     "start_time": "2020-04-01T18:57:51.372404Z"
    }
   },
   "outputs": [
    {
     "data": {
      "text/plain": [
       "array([' ', 'M', '1', '2'], dtype=object)"
      ]
     },
     "execution_count": 92,
     "metadata": {},
     "output_type": "execute_result"
    }
   ],
   "source": [
    "df[\"Target_Meta_State\"].unique()"
   ]
  },
  {
   "cell_type": "code",
   "execution_count": 93,
   "metadata": {
    "ExecuteTime": {
     "end_time": "2020-04-01T18:57:51.754518Z",
     "start_time": "2020-04-01T18:57:51.537467Z"
    }
   },
   "outputs": [],
   "source": [
    "# unmarked rows are assumed to be at  ground state so we assign G value\n",
    "df[\"Target_Meta_State\"] = df[\"Target_Meta_State\"].replace(to_replace=\" \", value=\"All\")"
   ]
  },
  {
   "cell_type": "markdown",
   "metadata": {},
   "source": [
    "We assume that the `Frame` feature unknown values are `L` for Lab Frame and `Product_Meta_State`'s missing values are `G` for Ground State."
   ]
  },
  {
   "cell_type": "code",
   "execution_count": 94,
   "metadata": {
    "ExecuteTime": {
     "end_time": "2020-04-01T18:57:57.511016Z",
     "start_time": "2020-04-01T18:57:51.756518Z"
    }
   },
   "outputs": [],
   "source": [
    "# PXC describes three different variables\n",
    "# We extract the data to independent features\n",
    "df['Product_Meta_State'] = df['PXC'].astype(str).str[0:1].replace(to_replace=\" \", value=\"All\")\n",
    "df['EXFOR_Status'] = df['PXC'].astype(str).str[1:2].replace(to_replace=\" \", value=\"Other\")\n",
    "df['Frame'] = df['PXC'].astype(str).str[2:3].replace(to_replace=\" \", value=\"L\")"
   ]
  },
  {
   "cell_type": "code",
   "execution_count": 95,
   "metadata": {
    "ExecuteTime": {
     "end_time": "2020-04-01T18:57:58.282927Z",
     "start_time": "2020-04-01T18:57:57.513016Z"
    }
   },
   "outputs": [],
   "source": [
    "df[\"(YY)\"] = df[\"(YY)\"].astype(str) \n",
    "df[\"EntrySubP\"] = df[\"(YY)\"]"
   ]
  },
  {
   "cell_type": "markdown",
   "metadata": {},
   "source": [
    "# Fixing numerical features formatting."
   ]
  },
  {
   "cell_type": "code",
   "execution_count": 96,
   "metadata": {
    "ExecuteTime": {
     "end_time": "2020-04-01T18:58:06.860539Z",
     "start_time": "2020-04-01T18:57:58.283926Z"
    }
   },
   "outputs": [],
   "source": [
    "# Defining Numerical Columns to Fix and casting them as strings\n",
    "cols = [\"Energy\", \"dEnergy\", \"Data\", \"dData\", \"Cos/LO\", \"dCos/LO\", \"ELV/HL\", \"dELV/HL\"]\n",
    "df[cols] = df[cols].astype(str)"
   ]
  },
  {
   "cell_type": "code",
   "execution_count": 97,
   "metadata": {
    "ExecuteTime": {
     "end_time": "2020-04-01T18:58:36.559092Z",
     "start_time": "2020-04-01T18:58:06.863539Z"
    }
   },
   "outputs": [],
   "source": [
    "# df[cols] = df[cols].replace(to_replace=\"         \", value=\"0.0000000\")\n",
    "df[cols] = df[cols].replace(to_replace=\"         \", value=np.nan)\n",
    "\n",
    "# We now strip values that may contain quatation marks and starting and trailing spaces\n",
    "for col in cols:\n",
    "    df[col] = df[col].str.strip(\"\\\"\")\n",
    "    df[col] = df[col].str.strip()\n",
    "    \n",
    "# df[cols] = df[cols].replace(to_replace=\"\", value=\"0.0000000\")\n",
    "df[cols] = df[cols].replace(to_replace=\"\", value=np.nan)"
   ]
  },
  {
   "cell_type": "code",
   "execution_count": 98,
   "metadata": {
    "ExecuteTime": {
     "end_time": "2020-04-01T18:59:04.258433Z",
     "start_time": "2020-04-01T18:58:36.560084Z"
    }
   },
   "outputs": [],
   "source": [
    "# For the numerical values we know per formatting that each of them should be 9 characters in length\n",
    "max_length = 9\n",
    "\n",
    "for col in cols:\n",
    "    df[col] = df[col].apply(lambda x: x if pd.isnull(x) else ' '*(max_length - len(x)) + x) "
   ]
  },
  {
   "cell_type": "code",
   "execution_count": 99,
   "metadata": {
    "ExecuteTime": {
     "end_time": "2020-04-01T18:59:41.117966Z",
     "start_time": "2020-04-01T18:59:04.259944Z"
    }
   },
   "outputs": [],
   "source": [
    "# Add appropiate formating for python to recognize it as numerical \n",
    "for col in cols:\n",
    "    new_col = []\n",
    "    values = df[col].values\n",
    "    for x in values:\n",
    "        if pd.isnull(x):\n",
    "            new_col.append(x)\n",
    "        elif \"+\" == x[7]:\n",
    "            y = x[0:7]\n",
    "            z = x[7:]\n",
    "            new_col.append(y + \"E\" + z)\n",
    "        elif \"+\" == x[6]:\n",
    "            y = x[0:6]\n",
    "            z = x[6:]\n",
    "            new_col.append(y + \"E\" + z)\n",
    "        elif \"-\" == x[7]:\n",
    "            y = x[0:7]\n",
    "            z = x[7:]\n",
    "            new_col.append(y + \"E\" + z)\n",
    "        elif \"-\" == x[6]:\n",
    "            y = x[0:6]\n",
    "            z = x[6:]\n",
    "            new_col.append(y + \"E\" + z)\n",
    "        else:\n",
    "            new_col.append(x)\n",
    "    df[col] = new_col"
   ]
  },
  {
   "cell_type": "code",
   "execution_count": 100,
   "metadata": {
    "ExecuteTime": {
     "end_time": "2020-04-01T18:59:52.095379Z",
     "start_time": "2020-04-01T18:59:41.118928Z"
    }
   },
   "outputs": [
    {
     "name": "stdout",
     "output_type": "stream",
     "text": [
      "Finish converting Energy to float.\n",
      "Finish converting dEnergy to float.\n",
      "Finish converting Data to float.\n",
      "Finish converting dData to float.\n",
      "Finish converting Cos/LO to float.\n",
      "Finish converting dCos/LO to float.\n",
      "Finish converting ELV/HL to float.\n",
      "Finish converting dELV/HL to float.\n"
     ]
    }
   ],
   "source": [
    "# We now convert the columns to numerical\n",
    "for col in cols:\n",
    "    df[col] = df[col].astype(float)\n",
    "    print(\"Finish converting {} to float.\".format(col))"
   ]
  },
  {
   "cell_type": "markdown",
   "metadata": {},
   "source": [
    "# Specifying Categorical Columns"
   ]
  },
  {
   "cell_type": "code",
   "execution_count": 101,
   "metadata": {
    "ExecuteTime": {
     "end_time": "2020-04-01T19:00:22.525800Z",
     "start_time": "2020-04-01T18:59:52.097380Z"
    }
   },
   "outputs": [],
   "source": [
    "cat_cols = [\"Target_Meta_State\", \"MF\", \"MT\", \"I78\", \"Product_Meta_State\", \"Frame\"]\n",
    "\n",
    "# Convering all columns to strings and stripping whitespace\n",
    "for col in cat_cols:\n",
    "    df[col] = df[col].astype(str)\n",
    "    df[col] = df[col].str.strip(\"\\\"\")\n",
    "    df[col] = df[col].str.strip()"
   ]
  },
  {
   "cell_type": "code",
   "execution_count": 102,
   "metadata": {
    "ExecuteTime": {
     "end_time": "2020-04-01T19:00:22.708842Z",
     "start_time": "2020-04-01T19:00:22.527801Z"
    }
   },
   "outputs": [
    {
     "data": {
      "text/plain": [
       "array(['', 'L', 'E', 'D'], dtype=object)"
      ]
     },
     "execution_count": 102,
     "metadata": {},
     "output_type": "execute_result"
    }
   ],
   "source": [
    "df.I78.unique()"
   ]
  },
  {
   "cell_type": "code",
   "execution_count": 103,
   "metadata": {
    "ExecuteTime": {
     "end_time": "2020-04-01T19:00:22.925891Z",
     "start_time": "2020-04-01T19:00:22.710843Z"
    }
   },
   "outputs": [],
   "source": [
    "# Replace empty values in I78 for L representing Low\n",
    "df[\"I78\"] = df[\"I78\"].replace(to_replace=\"\", value=\"Other\")"
   ]
  },
  {
   "cell_type": "code",
   "execution_count": 104,
   "metadata": {
    "ExecuteTime": {
     "end_time": "2020-04-01T19:00:22.944896Z",
     "start_time": "2020-04-01T19:00:22.926891Z"
    }
   },
   "outputs": [
    {
     "data": {
      "text/html": [
       "<div>\n",
       "<style scoped>\n",
       "    .dataframe tbody tr th:only-of-type {\n",
       "        vertical-align: middle;\n",
       "    }\n",
       "\n",
       "    .dataframe tbody tr th {\n",
       "        vertical-align: top;\n",
       "    }\n",
       "\n",
       "    .dataframe thead th {\n",
       "        text-align: right;\n",
       "    }\n",
       "</style>\n",
       "<table border=\"1\" class=\"dataframe\">\n",
       "  <thead>\n",
       "    <tr style=\"text-align: right;\">\n",
       "      <th></th>\n",
       "      <th>Prj</th>\n",
       "      <th>Targ</th>\n",
       "      <th>Target_Meta_State</th>\n",
       "      <th>MF</th>\n",
       "      <th>MT</th>\n",
       "      <th>PXC</th>\n",
       "      <th>Energy</th>\n",
       "      <th>dEnergy</th>\n",
       "      <th>Data</th>\n",
       "      <th>dData</th>\n",
       "      <th>Cos/LO</th>\n",
       "      <th>dCos/LO</th>\n",
       "      <th>ELV/HL</th>\n",
       "      <th>dELV/HL</th>\n",
       "      <th>I78</th>\n",
       "      <th>Refer</th>\n",
       "      <th>(YY)</th>\n",
       "      <th>EntrySubP</th>\n",
       "      <th>Z</th>\n",
       "      <th>M</th>\n",
       "      <th>N</th>\n",
       "      <th>Product_Meta_State</th>\n",
       "      <th>EXFOR_Status</th>\n",
       "      <th>Frame</th>\n",
       "    </tr>\n",
       "  </thead>\n",
       "  <tbody>\n",
       "    <tr>\n",
       "      <th>0</th>\n",
       "      <td>1</td>\n",
       "      <td>00001</td>\n",
       "      <td>All</td>\n",
       "      <td>3</td>\n",
       "      <td>1</td>\n",
       "      <td>D</td>\n",
       "      <td>88200000.0</td>\n",
       "      <td>882000.0</td>\n",
       "      <td>0.0300</td>\n",
       "      <td>0.001523</td>\n",
       "      <td>NaN</td>\n",
       "      <td>NaN</td>\n",
       "      <td>NaN</td>\n",
       "      <td>NaN</td>\n",
       "      <td>Other</td>\n",
       "      <td>D.F.MEASDAY,ET.AL. (66)</td>\n",
       "      <td>11152</td>\n",
       "      <td>11152</td>\n",
       "      <td>0</td>\n",
       "      <td>1</td>\n",
       "      <td>1</td>\n",
       "      <td>All</td>\n",
       "      <td>D</td>\n",
       "      <td>L</td>\n",
       "    </tr>\n",
       "    <tr>\n",
       "      <th>1</th>\n",
       "      <td>1</td>\n",
       "      <td>00001</td>\n",
       "      <td>All</td>\n",
       "      <td>3</td>\n",
       "      <td>1</td>\n",
       "      <td>D</td>\n",
       "      <td>98100000.0</td>\n",
       "      <td>981000.0</td>\n",
       "      <td>0.0291</td>\n",
       "      <td>0.001516</td>\n",
       "      <td>NaN</td>\n",
       "      <td>NaN</td>\n",
       "      <td>NaN</td>\n",
       "      <td>NaN</td>\n",
       "      <td>Other</td>\n",
       "      <td>D.F.MEASDAY,ET.AL. (66)</td>\n",
       "      <td>11152</td>\n",
       "      <td>11152</td>\n",
       "      <td>0</td>\n",
       "      <td>1</td>\n",
       "      <td>1</td>\n",
       "      <td>All</td>\n",
       "      <td>D</td>\n",
       "      <td>L</td>\n",
       "    </tr>\n",
       "    <tr>\n",
       "      <th>2</th>\n",
       "      <td>1</td>\n",
       "      <td>00001</td>\n",
       "      <td>All</td>\n",
       "      <td>3</td>\n",
       "      <td>1</td>\n",
       "      <td>D</td>\n",
       "      <td>110000000.0</td>\n",
       "      <td>1100000.0</td>\n",
       "      <td>0.0279</td>\n",
       "      <td>0.001415</td>\n",
       "      <td>NaN</td>\n",
       "      <td>NaN</td>\n",
       "      <td>NaN</td>\n",
       "      <td>NaN</td>\n",
       "      <td>Other</td>\n",
       "      <td>D.F.MEASDAY,ET.AL. (66)</td>\n",
       "      <td>11152</td>\n",
       "      <td>11152</td>\n",
       "      <td>0</td>\n",
       "      <td>1</td>\n",
       "      <td>1</td>\n",
       "      <td>All</td>\n",
       "      <td>D</td>\n",
       "      <td>L</td>\n",
       "    </tr>\n",
       "    <tr>\n",
       "      <th>3</th>\n",
       "      <td>1</td>\n",
       "      <td>00001</td>\n",
       "      <td>All</td>\n",
       "      <td>3</td>\n",
       "      <td>1</td>\n",
       "      <td>D</td>\n",
       "      <td>119600000.0</td>\n",
       "      <td>1196000.0</td>\n",
       "      <td>0.0264</td>\n",
       "      <td>0.001403</td>\n",
       "      <td>NaN</td>\n",
       "      <td>NaN</td>\n",
       "      <td>NaN</td>\n",
       "      <td>NaN</td>\n",
       "      <td>Other</td>\n",
       "      <td>D.F.MEASDAY,ET.AL. (66)</td>\n",
       "      <td>11152</td>\n",
       "      <td>11152</td>\n",
       "      <td>0</td>\n",
       "      <td>1</td>\n",
       "      <td>1</td>\n",
       "      <td>All</td>\n",
       "      <td>D</td>\n",
       "      <td>L</td>\n",
       "    </tr>\n",
       "    <tr>\n",
       "      <th>4</th>\n",
       "      <td>1</td>\n",
       "      <td>00001</td>\n",
       "      <td>All</td>\n",
       "      <td>3</td>\n",
       "      <td>1</td>\n",
       "      <td>D</td>\n",
       "      <td>129400000.0</td>\n",
       "      <td>1294000.0</td>\n",
       "      <td>0.0256</td>\n",
       "      <td>0.001397</td>\n",
       "      <td>NaN</td>\n",
       "      <td>NaN</td>\n",
       "      <td>NaN</td>\n",
       "      <td>NaN</td>\n",
       "      <td>Other</td>\n",
       "      <td>D.F.MEASDAY,ET.AL. (66)</td>\n",
       "      <td>11152</td>\n",
       "      <td>11152</td>\n",
       "      <td>0</td>\n",
       "      <td>1</td>\n",
       "      <td>1</td>\n",
       "      <td>All</td>\n",
       "      <td>D</td>\n",
       "      <td>L</td>\n",
       "    </tr>\n",
       "  </tbody>\n",
       "</table>\n",
       "</div>"
      ],
      "text/plain": [
       "   Prj   Targ Target_Meta_State MF MT  PXC       Energy    dEnergy    Data  \\\n",
       "0    1  00001               All  3  1   D    88200000.0   882000.0  0.0300   \n",
       "1    1  00001               All  3  1   D    98100000.0   981000.0  0.0291   \n",
       "2    1  00001               All  3  1   D   110000000.0  1100000.0  0.0279   \n",
       "3    1  00001               All  3  1   D   119600000.0  1196000.0  0.0264   \n",
       "4    1  00001               All  3  1   D   129400000.0  1294000.0  0.0256   \n",
       "\n",
       "      dData  Cos/LO  dCos/LO  ELV/HL  dELV/HL    I78  \\\n",
       "0  0.001523     NaN      NaN     NaN      NaN  Other   \n",
       "1  0.001516     NaN      NaN     NaN      NaN  Other   \n",
       "2  0.001415     NaN      NaN     NaN      NaN  Other   \n",
       "3  0.001403     NaN      NaN     NaN      NaN  Other   \n",
       "4  0.001397     NaN      NaN     NaN      NaN  Other   \n",
       "\n",
       "                         Refer   (YY) EntrySubP  Z  M  N Product_Meta_State  \\\n",
       "0    D.F.MEASDAY,ET.AL. (66)    11152     11152  0  1  1                All   \n",
       "1    D.F.MEASDAY,ET.AL. (66)    11152     11152  0  1  1                All   \n",
       "2    D.F.MEASDAY,ET.AL. (66)    11152     11152  0  1  1                All   \n",
       "3    D.F.MEASDAY,ET.AL. (66)    11152     11152  0  1  1                All   \n",
       "4    D.F.MEASDAY,ET.AL. (66)    11152     11152  0  1  1                All   \n",
       "\n",
       "  EXFOR_Status Frame  \n",
       "0            D     L  \n",
       "1            D     L  \n",
       "2            D     L  \n",
       "3            D     L  \n",
       "4            D     L  "
      ]
     },
     "execution_count": 104,
     "metadata": {},
     "output_type": "execute_result"
    }
   ],
   "source": [
    "df.head()"
   ]
  },
  {
   "cell_type": "code",
   "execution_count": 105,
   "metadata": {
    "ExecuteTime": {
     "end_time": "2020-04-01T19:00:25.784313Z",
     "start_time": "2020-04-01T19:00:22.946896Z"
    }
   },
   "outputs": [],
   "source": [
    "df.drop(columns=[\"(YY)\", 'Targ', \"PXC\"], inplace=True)"
   ]
  },
  {
   "cell_type": "markdown",
   "metadata": {},
   "source": [
    "# Appending Additional Information from EXFOR"
   ]
  },
  {
   "cell_type": "code",
   "execution_count": 106,
   "metadata": {
    "ExecuteTime": {
     "end_time": "2020-04-01T19:00:26.677469Z",
     "start_time": "2020-04-01T19:00:25.785312Z"
    }
   },
   "outputs": [],
   "source": [
    "# Reading experiments reaction notation \n",
    "df1 = pd.read_csv(tmp_path + \"/reaction_notations.txt\", delim_whitespace=True, header=None)\n",
    "df1.columns = [\"Reaction\", \"Type\"]\n",
    "\n",
    "# Reading Experiment Titles\n",
    "df2 = pd.read_csv(tmp_path + \"/titles.txt\", sep=\"#TITLE      \", header=None, engine=\"python\")\n",
    "df2.columns = [\"Keyword\", \"Title\"]\n",
    "\n",
    "# Reading Data Points per Experiment\n",
    "df3 = pd.read_csv(tmp_path + \"/data_points_per_experiment_refined.txt\",  delim_whitespace=True, header=None)\n",
    "df3.columns = [\"Data\", \"Multiple\"]\n",
    "\n",
    "# Reading Experiment Year \n",
    "df4 = pd.read_csv(tmp_path + \"/years.txt\", delim_whitespace=True, header=None)\n",
    "df4.columns = [\"Keyword\", \"Year\"]\n",
    "\n",
    "# Reading Experiment Date \n",
    "df5 = pd.read_csv(tmp_path + \"/authors.txt\", sep=\"    \", header=None, engine=\"python\")\n",
    "df5.columns = [\"Keyword\", \"Author\"]\n",
    "\n",
    "# Reading Experiment Institute \n",
    "df6 = pd.read_csv(tmp_path + \"/institutes.txt\", sep=\"  \", header=None, engine=\"python\")\n",
    "df6.columns = [\"Keyword\", \"Institute\"]\n",
    "\n",
    "# Reading Experiment Year \n",
    "df7 = pd.read_csv(tmp_path + \"/dates.txt\", delim_whitespace=True, header=None)\n",
    "df7.columns = [\"Keyword\", \"Date\"]\n",
    "\n",
    "# Reading Experiment Refere\n",
    "df8 = pd.read_csv(tmp_path + \"/references.txt\", sep=\"#REFERENCE  \", header=None, engine=\"python\")\n",
    "df8.columns = [\"Keyword\", \"Reference\"]"
   ]
  },
  {
   "cell_type": "code",
   "execution_count": 107,
   "metadata": {
    "ExecuteTime": {
     "end_time": "2020-04-01T19:00:42.107836Z",
     "start_time": "2020-04-01T19:00:26.679461Z"
    }
   },
   "outputs": [],
   "source": [
    "# Merging Datapoints, notation and titles and expanding based on datapoints\n",
    "pre_final = pd.concat([df3, df1, df2, df4, df5, df6, df7, df8], axis=1)\n",
    "final = pre_final.reindex(pre_final.index.repeat(pre_final.Multiple))\n",
    "final['position'] = final.groupby(level=0).cumcount() + 1\n",
    "\n",
    "# Extracting projectile and outogoing particle\n",
    "final[\"reaction_notation\"] = final.Type.str.extract('.*\\((.*)\\).*')"
   ]
  },
  {
   "cell_type": "code",
   "execution_count": 108,
   "metadata": {
    "ExecuteTime": {
     "end_time": "2020-04-01T19:01:05.126307Z",
     "start_time": "2020-04-01T19:00:42.109873Z"
    }
   },
   "outputs": [],
   "source": [
    "final[\"reaction_notation2\"] = final[\"reaction_notation\"].apply(lambda x: x.split(')')[0])\n",
    "final = pd.concat([final, final[\"reaction_notation2\"].str.split(',', expand=True)], axis=1)"
   ]
  },
  {
   "cell_type": "code",
   "execution_count": 109,
   "metadata": {
    "ExecuteTime": {
     "end_time": "2020-04-01T19:01:05.131139Z",
     "start_time": "2020-04-01T19:01:05.127308Z"
    }
   },
   "outputs": [],
   "source": [
    "# Formatting Columns\n",
    "new_columns = list(final.columns)[:19]\n",
    "new_columns.extend([\"Projectile\", \"Out\"])\n",
    "final.columns = new_columns"
   ]
  },
  {
   "cell_type": "code",
   "execution_count": 110,
   "metadata": {
    "ExecuteTime": {
     "end_time": "2020-04-01T19:01:09.732614Z",
     "start_time": "2020-04-01T19:01:05.133138Z"
    }
   },
   "outputs": [],
   "source": [
    "# Indexing only required information and saving file\n",
    "final = final[[\"Type\", \"Title\", \"Year\", \"Institute\", \"Author\", \"Date\", \"Reference\", \"Out\"]]\n",
    "\n",
    "# Verify all data matches.\n",
    "df.shape[0] == final.shape[0]\n",
    "\n",
    "# Reset Indexes to make copying faster\n",
    "df = df.reset_index(drop=True)\n",
    "final = final.reset_index(drop=True)"
   ]
  },
  {
   "cell_type": "code",
   "execution_count": 111,
   "metadata": {
    "ExecuteTime": {
     "end_time": "2020-04-01T19:01:09.744617Z",
     "start_time": "2020-04-01T19:01:09.734615Z"
    }
   },
   "outputs": [
    {
     "data": {
      "text/html": [
       "<div>\n",
       "<style scoped>\n",
       "    .dataframe tbody tr th:only-of-type {\n",
       "        vertical-align: middle;\n",
       "    }\n",
       "\n",
       "    .dataframe tbody tr th {\n",
       "        vertical-align: top;\n",
       "    }\n",
       "\n",
       "    .dataframe thead th {\n",
       "        text-align: right;\n",
       "    }\n",
       "</style>\n",
       "<table border=\"1\" class=\"dataframe\">\n",
       "  <thead>\n",
       "    <tr style=\"text-align: right;\">\n",
       "      <th></th>\n",
       "      <th>Type</th>\n",
       "      <th>Title</th>\n",
       "      <th>Year</th>\n",
       "      <th>Institute</th>\n",
       "      <th>Author</th>\n",
       "      <th>Date</th>\n",
       "      <th>Reference</th>\n",
       "      <th>Out</th>\n",
       "    </tr>\n",
       "  </thead>\n",
       "  <tbody>\n",
       "    <tr>\n",
       "      <th>0</th>\n",
       "      <td>0-NN-1(N,TOT),,SIG</td>\n",
       "      <td>NEUTRON TOTAL CROSS SECTIONS FOR NEUTRONS, PRO...</td>\n",
       "      <td>1966</td>\n",
       "      <td>(1USAHRV)</td>\n",
       "      <td>D.F.Measday+</td>\n",
       "      <td>19800804</td>\n",
       "      <td>Jour. Nuclear Physics Vol.85, p.142, 1966</td>\n",
       "      <td>TOT</td>\n",
       "    </tr>\n",
       "    <tr>\n",
       "      <th>1</th>\n",
       "      <td>0-NN-1(N,TOT),,SIG</td>\n",
       "      <td>NEUTRON TOTAL CROSS SECTIONS FOR NEUTRONS, PRO...</td>\n",
       "      <td>1966</td>\n",
       "      <td>(1USAHRV)</td>\n",
       "      <td>D.F.Measday+</td>\n",
       "      <td>19800804</td>\n",
       "      <td>Jour. Nuclear Physics Vol.85, p.142, 1966</td>\n",
       "      <td>TOT</td>\n",
       "    </tr>\n",
       "    <tr>\n",
       "      <th>2</th>\n",
       "      <td>0-NN-1(N,TOT),,SIG</td>\n",
       "      <td>NEUTRON TOTAL CROSS SECTIONS FOR NEUTRONS, PRO...</td>\n",
       "      <td>1966</td>\n",
       "      <td>(1USAHRV)</td>\n",
       "      <td>D.F.Measday+</td>\n",
       "      <td>19800804</td>\n",
       "      <td>Jour. Nuclear Physics Vol.85, p.142, 1966</td>\n",
       "      <td>TOT</td>\n",
       "    </tr>\n",
       "    <tr>\n",
       "      <th>3</th>\n",
       "      <td>0-NN-1(N,TOT),,SIG</td>\n",
       "      <td>NEUTRON TOTAL CROSS SECTIONS FOR NEUTRONS, PRO...</td>\n",
       "      <td>1966</td>\n",
       "      <td>(1USAHRV)</td>\n",
       "      <td>D.F.Measday+</td>\n",
       "      <td>19800804</td>\n",
       "      <td>Jour. Nuclear Physics Vol.85, p.142, 1966</td>\n",
       "      <td>TOT</td>\n",
       "    </tr>\n",
       "    <tr>\n",
       "      <th>4</th>\n",
       "      <td>0-NN-1(N,TOT),,SIG</td>\n",
       "      <td>NEUTRON TOTAL CROSS SECTIONS FOR NEUTRONS, PRO...</td>\n",
       "      <td>1966</td>\n",
       "      <td>(1USAHRV)</td>\n",
       "      <td>D.F.Measday+</td>\n",
       "      <td>19800804</td>\n",
       "      <td>Jour. Nuclear Physics Vol.85, p.142, 1966</td>\n",
       "      <td>TOT</td>\n",
       "    </tr>\n",
       "  </tbody>\n",
       "</table>\n",
       "</div>"
      ],
      "text/plain": [
       "                 Type                                              Title  \\\n",
       "0  0-NN-1(N,TOT),,SIG  NEUTRON TOTAL CROSS SECTIONS FOR NEUTRONS, PRO...   \n",
       "1  0-NN-1(N,TOT),,SIG  NEUTRON TOTAL CROSS SECTIONS FOR NEUTRONS, PRO...   \n",
       "2  0-NN-1(N,TOT),,SIG  NEUTRON TOTAL CROSS SECTIONS FOR NEUTRONS, PRO...   \n",
       "3  0-NN-1(N,TOT),,SIG  NEUTRON TOTAL CROSS SECTIONS FOR NEUTRONS, PRO...   \n",
       "4  0-NN-1(N,TOT),,SIG  NEUTRON TOTAL CROSS SECTIONS FOR NEUTRONS, PRO...   \n",
       "\n",
       "   Year  Institute        Author      Date  \\\n",
       "0  1966  (1USAHRV)  D.F.Measday+  19800804   \n",
       "1  1966  (1USAHRV)  D.F.Measday+  19800804   \n",
       "2  1966  (1USAHRV)  D.F.Measday+  19800804   \n",
       "3  1966  (1USAHRV)  D.F.Measday+  19800804   \n",
       "4  1966  (1USAHRV)  D.F.Measday+  19800804   \n",
       "\n",
       "                                   Reference  Out  \n",
       "0  Jour. Nuclear Physics Vol.85, p.142, 1966  TOT  \n",
       "1  Jour. Nuclear Physics Vol.85, p.142, 1966  TOT  \n",
       "2  Jour. Nuclear Physics Vol.85, p.142, 1966  TOT  \n",
       "3  Jour. Nuclear Physics Vol.85, p.142, 1966  TOT  \n",
       "4  Jour. Nuclear Physics Vol.85, p.142, 1966  TOT  "
      ]
     },
     "execution_count": 111,
     "metadata": {},
     "output_type": "execute_result"
    }
   ],
   "source": [
    "final.head()"
   ]
  },
  {
   "cell_type": "code",
   "execution_count": 112,
   "metadata": {
    "ExecuteTime": {
     "end_time": "2020-04-01T19:01:10.020691Z",
     "start_time": "2020-04-01T19:01:09.748617Z"
    }
   },
   "outputs": [],
   "source": [
    "# Assign newly extracted data to main dataframe\n",
    "df[\"Type\"] = final[\"Type\"]\n",
    "df[\"Title\"] = final[\"Title\"]\n",
    "df[\"Year\"] = final[\"Year\"]\n",
    "df[\"Author\"] = final[\"Author\"]\n",
    "df[\"Institute\"] = final[\"Institute\"]\n",
    "df[\"Date\"] = final[\"Date\"]\n",
    "df[\"Reference\"] = final[\"Reference\"]\n",
    "df[\"Out\"] = final[\"Out\"]"
   ]
  },
  {
   "cell_type": "code",
   "execution_count": 113,
   "metadata": {
    "ExecuteTime": {
     "end_time": "2020-04-01T19:01:10.042743Z",
     "start_time": "2020-04-01T19:01:10.021681Z"
    }
   },
   "outputs": [
    {
     "data": {
      "text/html": [
       "<div>\n",
       "<style scoped>\n",
       "    .dataframe tbody tr th:only-of-type {\n",
       "        vertical-align: middle;\n",
       "    }\n",
       "\n",
       "    .dataframe tbody tr th {\n",
       "        vertical-align: top;\n",
       "    }\n",
       "\n",
       "    .dataframe thead th {\n",
       "        text-align: right;\n",
       "    }\n",
       "</style>\n",
       "<table border=\"1\" class=\"dataframe\">\n",
       "  <thead>\n",
       "    <tr style=\"text-align: right;\">\n",
       "      <th></th>\n",
       "      <th>Prj</th>\n",
       "      <th>Target_Meta_State</th>\n",
       "      <th>MF</th>\n",
       "      <th>MT</th>\n",
       "      <th>Energy</th>\n",
       "      <th>dEnergy</th>\n",
       "      <th>Data</th>\n",
       "      <th>dData</th>\n",
       "      <th>Cos/LO</th>\n",
       "      <th>dCos/LO</th>\n",
       "      <th>ELV/HL</th>\n",
       "      <th>dELV/HL</th>\n",
       "      <th>I78</th>\n",
       "      <th>Refer</th>\n",
       "      <th>EntrySubP</th>\n",
       "      <th>Z</th>\n",
       "      <th>M</th>\n",
       "      <th>N</th>\n",
       "      <th>Product_Meta_State</th>\n",
       "      <th>EXFOR_Status</th>\n",
       "      <th>Frame</th>\n",
       "      <th>Type</th>\n",
       "      <th>Title</th>\n",
       "      <th>Year</th>\n",
       "      <th>Author</th>\n",
       "      <th>Institute</th>\n",
       "      <th>Date</th>\n",
       "      <th>Reference</th>\n",
       "      <th>Out</th>\n",
       "    </tr>\n",
       "  </thead>\n",
       "  <tbody>\n",
       "    <tr>\n",
       "      <th>0</th>\n",
       "      <td>1</td>\n",
       "      <td>All</td>\n",
       "      <td>3</td>\n",
       "      <td>1</td>\n",
       "      <td>88200000.0</td>\n",
       "      <td>882000.0</td>\n",
       "      <td>0.0300</td>\n",
       "      <td>0.001523</td>\n",
       "      <td>NaN</td>\n",
       "      <td>NaN</td>\n",
       "      <td>NaN</td>\n",
       "      <td>NaN</td>\n",
       "      <td>Other</td>\n",
       "      <td>D.F.MEASDAY,ET.AL. (66)</td>\n",
       "      <td>11152</td>\n",
       "      <td>0</td>\n",
       "      <td>1</td>\n",
       "      <td>1</td>\n",
       "      <td>All</td>\n",
       "      <td>D</td>\n",
       "      <td>L</td>\n",
       "      <td>0-NN-1(N,TOT),,SIG</td>\n",
       "      <td>NEUTRON TOTAL CROSS SECTIONS FOR NEUTRONS, PRO...</td>\n",
       "      <td>1966</td>\n",
       "      <td>D.F.Measday+</td>\n",
       "      <td>(1USAHRV)</td>\n",
       "      <td>19800804</td>\n",
       "      <td>Jour. Nuclear Physics Vol.85, p.142, 1966</td>\n",
       "      <td>TOT</td>\n",
       "    </tr>\n",
       "    <tr>\n",
       "      <th>1</th>\n",
       "      <td>1</td>\n",
       "      <td>All</td>\n",
       "      <td>3</td>\n",
       "      <td>1</td>\n",
       "      <td>98100000.0</td>\n",
       "      <td>981000.0</td>\n",
       "      <td>0.0291</td>\n",
       "      <td>0.001516</td>\n",
       "      <td>NaN</td>\n",
       "      <td>NaN</td>\n",
       "      <td>NaN</td>\n",
       "      <td>NaN</td>\n",
       "      <td>Other</td>\n",
       "      <td>D.F.MEASDAY,ET.AL. (66)</td>\n",
       "      <td>11152</td>\n",
       "      <td>0</td>\n",
       "      <td>1</td>\n",
       "      <td>1</td>\n",
       "      <td>All</td>\n",
       "      <td>D</td>\n",
       "      <td>L</td>\n",
       "      <td>0-NN-1(N,TOT),,SIG</td>\n",
       "      <td>NEUTRON TOTAL CROSS SECTIONS FOR NEUTRONS, PRO...</td>\n",
       "      <td>1966</td>\n",
       "      <td>D.F.Measday+</td>\n",
       "      <td>(1USAHRV)</td>\n",
       "      <td>19800804</td>\n",
       "      <td>Jour. Nuclear Physics Vol.85, p.142, 1966</td>\n",
       "      <td>TOT</td>\n",
       "    </tr>\n",
       "    <tr>\n",
       "      <th>2</th>\n",
       "      <td>1</td>\n",
       "      <td>All</td>\n",
       "      <td>3</td>\n",
       "      <td>1</td>\n",
       "      <td>110000000.0</td>\n",
       "      <td>1100000.0</td>\n",
       "      <td>0.0279</td>\n",
       "      <td>0.001415</td>\n",
       "      <td>NaN</td>\n",
       "      <td>NaN</td>\n",
       "      <td>NaN</td>\n",
       "      <td>NaN</td>\n",
       "      <td>Other</td>\n",
       "      <td>D.F.MEASDAY,ET.AL. (66)</td>\n",
       "      <td>11152</td>\n",
       "      <td>0</td>\n",
       "      <td>1</td>\n",
       "      <td>1</td>\n",
       "      <td>All</td>\n",
       "      <td>D</td>\n",
       "      <td>L</td>\n",
       "      <td>0-NN-1(N,TOT),,SIG</td>\n",
       "      <td>NEUTRON TOTAL CROSS SECTIONS FOR NEUTRONS, PRO...</td>\n",
       "      <td>1966</td>\n",
       "      <td>D.F.Measday+</td>\n",
       "      <td>(1USAHRV)</td>\n",
       "      <td>19800804</td>\n",
       "      <td>Jour. Nuclear Physics Vol.85, p.142, 1966</td>\n",
       "      <td>TOT</td>\n",
       "    </tr>\n",
       "    <tr>\n",
       "      <th>3</th>\n",
       "      <td>1</td>\n",
       "      <td>All</td>\n",
       "      <td>3</td>\n",
       "      <td>1</td>\n",
       "      <td>119600000.0</td>\n",
       "      <td>1196000.0</td>\n",
       "      <td>0.0264</td>\n",
       "      <td>0.001403</td>\n",
       "      <td>NaN</td>\n",
       "      <td>NaN</td>\n",
       "      <td>NaN</td>\n",
       "      <td>NaN</td>\n",
       "      <td>Other</td>\n",
       "      <td>D.F.MEASDAY,ET.AL. (66)</td>\n",
       "      <td>11152</td>\n",
       "      <td>0</td>\n",
       "      <td>1</td>\n",
       "      <td>1</td>\n",
       "      <td>All</td>\n",
       "      <td>D</td>\n",
       "      <td>L</td>\n",
       "      <td>0-NN-1(N,TOT),,SIG</td>\n",
       "      <td>NEUTRON TOTAL CROSS SECTIONS FOR NEUTRONS, PRO...</td>\n",
       "      <td>1966</td>\n",
       "      <td>D.F.Measday+</td>\n",
       "      <td>(1USAHRV)</td>\n",
       "      <td>19800804</td>\n",
       "      <td>Jour. Nuclear Physics Vol.85, p.142, 1966</td>\n",
       "      <td>TOT</td>\n",
       "    </tr>\n",
       "    <tr>\n",
       "      <th>4</th>\n",
       "      <td>1</td>\n",
       "      <td>All</td>\n",
       "      <td>3</td>\n",
       "      <td>1</td>\n",
       "      <td>129400000.0</td>\n",
       "      <td>1294000.0</td>\n",
       "      <td>0.0256</td>\n",
       "      <td>0.001397</td>\n",
       "      <td>NaN</td>\n",
       "      <td>NaN</td>\n",
       "      <td>NaN</td>\n",
       "      <td>NaN</td>\n",
       "      <td>Other</td>\n",
       "      <td>D.F.MEASDAY,ET.AL. (66)</td>\n",
       "      <td>11152</td>\n",
       "      <td>0</td>\n",
       "      <td>1</td>\n",
       "      <td>1</td>\n",
       "      <td>All</td>\n",
       "      <td>D</td>\n",
       "      <td>L</td>\n",
       "      <td>0-NN-1(N,TOT),,SIG</td>\n",
       "      <td>NEUTRON TOTAL CROSS SECTIONS FOR NEUTRONS, PRO...</td>\n",
       "      <td>1966</td>\n",
       "      <td>D.F.Measday+</td>\n",
       "      <td>(1USAHRV)</td>\n",
       "      <td>19800804</td>\n",
       "      <td>Jour. Nuclear Physics Vol.85, p.142, 1966</td>\n",
       "      <td>TOT</td>\n",
       "    </tr>\n",
       "  </tbody>\n",
       "</table>\n",
       "</div>"
      ],
      "text/plain": [
       "   Prj Target_Meta_State MF MT       Energy    dEnergy    Data     dData  \\\n",
       "0    1               All  3  1   88200000.0   882000.0  0.0300  0.001523   \n",
       "1    1               All  3  1   98100000.0   981000.0  0.0291  0.001516   \n",
       "2    1               All  3  1  110000000.0  1100000.0  0.0279  0.001415   \n",
       "3    1               All  3  1  119600000.0  1196000.0  0.0264  0.001403   \n",
       "4    1               All  3  1  129400000.0  1294000.0  0.0256  0.001397   \n",
       "\n",
       "   Cos/LO  dCos/LO  ELV/HL  dELV/HL    I78                        Refer  \\\n",
       "0     NaN      NaN     NaN      NaN  Other    D.F.MEASDAY,ET.AL. (66)     \n",
       "1     NaN      NaN     NaN      NaN  Other    D.F.MEASDAY,ET.AL. (66)     \n",
       "2     NaN      NaN     NaN      NaN  Other    D.F.MEASDAY,ET.AL. (66)     \n",
       "3     NaN      NaN     NaN      NaN  Other    D.F.MEASDAY,ET.AL. (66)     \n",
       "4     NaN      NaN     NaN      NaN  Other    D.F.MEASDAY,ET.AL. (66)     \n",
       "\n",
       "  EntrySubP  Z  M  N Product_Meta_State EXFOR_Status Frame  \\\n",
       "0     11152  0  1  1                All            D     L   \n",
       "1     11152  0  1  1                All            D     L   \n",
       "2     11152  0  1  1                All            D     L   \n",
       "3     11152  0  1  1                All            D     L   \n",
       "4     11152  0  1  1                All            D     L   \n",
       "\n",
       "                 Type                                              Title  \\\n",
       "0  0-NN-1(N,TOT),,SIG  NEUTRON TOTAL CROSS SECTIONS FOR NEUTRONS, PRO...   \n",
       "1  0-NN-1(N,TOT),,SIG  NEUTRON TOTAL CROSS SECTIONS FOR NEUTRONS, PRO...   \n",
       "2  0-NN-1(N,TOT),,SIG  NEUTRON TOTAL CROSS SECTIONS FOR NEUTRONS, PRO...   \n",
       "3  0-NN-1(N,TOT),,SIG  NEUTRON TOTAL CROSS SECTIONS FOR NEUTRONS, PRO...   \n",
       "4  0-NN-1(N,TOT),,SIG  NEUTRON TOTAL CROSS SECTIONS FOR NEUTRONS, PRO...   \n",
       "\n",
       "   Year        Author  Institute      Date  \\\n",
       "0  1966  D.F.Measday+  (1USAHRV)  19800804   \n",
       "1  1966  D.F.Measday+  (1USAHRV)  19800804   \n",
       "2  1966  D.F.Measday+  (1USAHRV)  19800804   \n",
       "3  1966  D.F.Measday+  (1USAHRV)  19800804   \n",
       "4  1966  D.F.Measday+  (1USAHRV)  19800804   \n",
       "\n",
       "                                   Reference  Out  \n",
       "0  Jour. Nuclear Physics Vol.85, p.142, 1966  TOT  \n",
       "1  Jour. Nuclear Physics Vol.85, p.142, 1966  TOT  \n",
       "2  Jour. Nuclear Physics Vol.85, p.142, 1966  TOT  \n",
       "3  Jour. Nuclear Physics Vol.85, p.142, 1966  TOT  \n",
       "4  Jour. Nuclear Physics Vol.85, p.142, 1966  TOT  "
      ]
     },
     "execution_count": 113,
     "metadata": {},
     "output_type": "execute_result"
    }
   ],
   "source": [
    "df.head()"
   ]
  },
  {
   "cell_type": "markdown",
   "metadata": {},
   "source": [
    "Shape must be 6007126"
   ]
  },
  {
   "cell_type": "code",
   "execution_count": 114,
   "metadata": {
    "ExecuteTime": {
     "end_time": "2020-04-01T19:01:10.359530Z",
     "start_time": "2020-04-01T19:01:10.044744Z"
    }
   },
   "outputs": [],
   "source": [
    "df.Title = df.Title.fillna(\"No Title\")\n",
    "# df = df[df.N != -1]"
   ]
  },
  {
   "cell_type": "code",
   "execution_count": 115,
   "metadata": {
    "ExecuteTime": {
     "end_time": "2020-04-01T19:01:18.497352Z",
     "start_time": "2020-04-01T19:01:10.360530Z"
    }
   },
   "outputs": [],
   "source": [
    "df[\"Reference\"] = df[\"Author\"] + \" \" + df[\"Reference\"]\n",
    "df = df.drop(columns=[\"Refer\", \"Author\"])\n",
    "df.Reference = df.Reference.fillna(df[\"Title\"])"
   ]
  },
  {
   "cell_type": "code",
   "execution_count": 116,
   "metadata": {
    "ExecuteTime": {
     "end_time": "2020-04-01T19:01:18.503346Z",
     "start_time": "2020-04-01T19:01:18.499343Z"
    }
   },
   "outputs": [
    {
     "data": {
      "text/plain": [
       "(6007126, 27)"
      ]
     },
     "execution_count": 116,
     "metadata": {},
     "output_type": "execute_result"
    }
   ],
   "source": [
    "df.shape"
   ]
  },
  {
   "cell_type": "code",
   "execution_count": 31,
   "metadata": {
    "ExecuteTime": {
     "end_time": "2020-04-01T18:13:06.074227Z",
     "start_time": "2020-04-01T18:11:09.455966Z"
    }
   },
   "outputs": [],
   "source": [
    "# Save Dataframe\n",
    "df.to_csv(heavy_dir + \"/EXFOR_neutrons_ORIGINAL.csv\", index=False)"
   ]
  },
  {
   "cell_type": "code",
   "execution_count": 117,
   "metadata": {
    "ExecuteTime": {
     "end_time": "2020-04-01T19:01:19.293883Z",
     "start_time": "2020-04-01T19:01:18.505344Z"
    }
   },
   "outputs": [],
   "source": [
    "df_orig = df.copy()"
   ]
  },
  {
   "cell_type": "markdown",
   "metadata": {},
   "source": [
    "# Merging EXFOR and AME Data"
   ]
  },
  {
   "cell_type": "code",
   "execution_count": 70,
   "metadata": {
    "ExecuteTime": {
     "end_time": "2020-04-01T18:28:24.324425Z",
     "start_time": "2020-04-01T18:28:22.955031Z"
    }
   },
   "outputs": [],
   "source": [
    "df_workxs = df.copy()\n",
    "# df_workxs = pd.read_csv(\"../ML_Data/working_xs.csv\")"
   ]
  },
  {
   "cell_type": "code",
   "execution_count": 71,
   "metadata": {
    "ExecuteTime": {
     "end_time": "2020-04-01T18:28:24.330419Z",
     "start_time": "2020-04-01T18:28:24.326417Z"
    }
   },
   "outputs": [
    {
     "data": {
      "text/plain": [
       "Index(['Prj', 'Target_Meta_State', 'MF', 'MT', 'Energy', 'dEnergy', 'Data',\n",
       "       'dData', 'Cos/LO', 'dCos/LO', 'ELV/HL', 'dELV/HL', 'I78', 'EntrySubP',\n",
       "       'Z', 'M', 'N', 'Product_Meta_State', 'EXFOR_Status', 'Frame', 'Type',\n",
       "       'Title', 'Year', 'Institute', 'Date', 'Reference', 'Out'],\n",
       "      dtype='object')"
      ]
     },
     "execution_count": 71,
     "metadata": {},
     "output_type": "execute_result"
    }
   ],
   "source": [
    "df_workxs.columns"
   ]
  },
  {
   "cell_type": "code",
   "execution_count": 73,
   "metadata": {
    "ExecuteTime": {
     "end_time": "2020-04-01T18:28:29.743768Z",
     "start_time": "2020-04-01T18:28:29.656916Z"
    }
   },
   "outputs": [
    {
     "data": {
      "text/html": [
       "<div>\n",
       "<style scoped>\n",
       "    .dataframe tbody tr th:only-of-type {\n",
       "        vertical-align: middle;\n",
       "    }\n",
       "\n",
       "    .dataframe tbody tr th {\n",
       "        vertical-align: top;\n",
       "    }\n",
       "\n",
       "    .dataframe thead th {\n",
       "        text-align: right;\n",
       "    }\n",
       "</style>\n",
       "<table border=\"1\" class=\"dataframe\">\n",
       "  <thead>\n",
       "    <tr style=\"text-align: right;\">\n",
       "      <th></th>\n",
       "      <th>Neutrons</th>\n",
       "      <th>Z</th>\n",
       "      <th>Mass_Number</th>\n",
       "      <th>EL</th>\n",
       "      <th>O</th>\n",
       "      <th>Mass_Excess</th>\n",
       "      <th>dMass_Excess</th>\n",
       "      <th>Binding_Energy</th>\n",
       "      <th>dBinding_Energy</th>\n",
       "      <th>B_Decay_Energy</th>\n",
       "      <th>dB_Decay_Energy</th>\n",
       "      <th>Atomic_Mass_Micro</th>\n",
       "      <th>dAtomic_Mass_Micro</th>\n",
       "      <th>S(2n)</th>\n",
       "      <th>dS(2n)</th>\n",
       "      <th>S(2p)</th>\n",
       "      <th>dS(2p)</th>\n",
       "      <th>Q(a)</th>\n",
       "      <th>dQ(a)</th>\n",
       "      <th>Q(2B-)</th>\n",
       "      <th>dQ(2B-)</th>\n",
       "      <th>Q(ep)</th>\n",
       "      <th>dQ(ep)</th>\n",
       "      <th>Q(B-n)</th>\n",
       "      <th>dQ(B-n)</th>\n",
       "      <th>S(n)</th>\n",
       "      <th>dS(n)</th>\n",
       "      <th>S(p)</th>\n",
       "      <th>dS(p)</th>\n",
       "      <th>Q(4B-)</th>\n",
       "      <th>dQ(4B-)</th>\n",
       "      <th>Q(d,a)</th>\n",
       "      <th>dQ(d,a)</th>\n",
       "      <th>Q(p,a)</th>\n",
       "      <th>dQ(p,a)</th>\n",
       "      <th>Q(n,a)</th>\n",
       "      <th>dQ(n,a)</th>\n",
       "      <th>Q(g,p)</th>\n",
       "      <th>Q(g,n)</th>\n",
       "      <th>Q(g,pn)</th>\n",
       "      <th>Q(g,d)</th>\n",
       "      <th>Q(g,t)</th>\n",
       "      <th>Q(g,He3)</th>\n",
       "      <th>Q(g,2p)</th>\n",
       "      <th>Q(g,2n)</th>\n",
       "      <th>Q(g,a)</th>\n",
       "      <th>Q(p,n)</th>\n",
       "      <th>Q(p,2p)</th>\n",
       "      <th>Q(p,pn)</th>\n",
       "      <th>Q(p,d)</th>\n",
       "      <th>Q(p,2n)</th>\n",
       "      <th>Q(p,t)</th>\n",
       "      <th>Q(p,3He)</th>\n",
       "      <th>Q(n,2p)</th>\n",
       "      <th>Q(n,np)</th>\n",
       "      <th>Q(n,d)</th>\n",
       "      <th>Q(n,2n)</th>\n",
       "      <th>Q(n,t)</th>\n",
       "      <th>Q(n,3He)</th>\n",
       "      <th>Q(d,t)</th>\n",
       "      <th>Q(d,3He)</th>\n",
       "      <th>Q(3He,t)</th>\n",
       "      <th>Q(3He,a)</th>\n",
       "      <th>Q(t,a)</th>\n",
       "      <th>N</th>\n",
       "      <th>M</th>\n",
       "      <th>Flag</th>\n",
       "    </tr>\n",
       "  </thead>\n",
       "  <tbody>\n",
       "    <tr>\n",
       "      <th>0</th>\n",
       "      <td>1</td>\n",
       "      <td>0</td>\n",
       "      <td>1</td>\n",
       "      <td>n</td>\n",
       "      <td>Other</td>\n",
       "      <td>8071.31713</td>\n",
       "      <td>0.00046</td>\n",
       "      <td>0.000</td>\n",
       "      <td>0.0</td>\n",
       "      <td>782.347</td>\n",
       "      <td>0.0</td>\n",
       "      <td>1.008665e+06</td>\n",
       "      <td>0.00049</td>\n",
       "      <td>NaN</td>\n",
       "      <td>NaN</td>\n",
       "      <td>NaN</td>\n",
       "      <td>NaN</td>\n",
       "      <td>NaN</td>\n",
       "      <td>NaN</td>\n",
       "      <td>NaN</td>\n",
       "      <td>NaN</td>\n",
       "      <td>NaN</td>\n",
       "      <td>NaN</td>\n",
       "      <td>NaN</td>\n",
       "      <td>NaN</td>\n",
       "      <td>0.00</td>\n",
       "      <td>0.0</td>\n",
       "      <td>NaN</td>\n",
       "      <td>NaN</td>\n",
       "      <td>NaN</td>\n",
       "      <td>NaN</td>\n",
       "      <td>NaN</td>\n",
       "      <td>NaN</td>\n",
       "      <td>NaN</td>\n",
       "      <td>NaN</td>\n",
       "      <td>NaN</td>\n",
       "      <td>NaN</td>\n",
       "      <td>NaN</td>\n",
       "      <td>-0.00</td>\n",
       "      <td>NaN</td>\n",
       "      <td>NaN</td>\n",
       "      <td>NaN</td>\n",
       "      <td>NaN</td>\n",
       "      <td>NaN</td>\n",
       "      <td>NaN</td>\n",
       "      <td>NaN</td>\n",
       "      <td>0.0005</td>\n",
       "      <td>NaN</td>\n",
       "      <td>-0.00</td>\n",
       "      <td>2224.566</td>\n",
       "      <td>NaN</td>\n",
       "      <td>NaN</td>\n",
       "      <td>NaN</td>\n",
       "      <td>NaN</td>\n",
       "      <td>NaN</td>\n",
       "      <td>NaN</td>\n",
       "      <td>-0.00</td>\n",
       "      <td>NaN</td>\n",
       "      <td>NaN</td>\n",
       "      <td>6257.229</td>\n",
       "      <td>NaN</td>\n",
       "      <td>763.755</td>\n",
       "      <td>20577.6194</td>\n",
       "      <td>NaN</td>\n",
       "      <td>1</td>\n",
       "      <td>1</td>\n",
       "      <td>I</td>\n",
       "    </tr>\n",
       "    <tr>\n",
       "      <th>1</th>\n",
       "      <td>0</td>\n",
       "      <td>1</td>\n",
       "      <td>1</td>\n",
       "      <td>H</td>\n",
       "      <td>Other</td>\n",
       "      <td>7288.97061</td>\n",
       "      <td>0.00009</td>\n",
       "      <td>0.000</td>\n",
       "      <td>0.0</td>\n",
       "      <td>NaN</td>\n",
       "      <td>NaN</td>\n",
       "      <td>1.007825e+06</td>\n",
       "      <td>0.00009</td>\n",
       "      <td>NaN</td>\n",
       "      <td>NaN</td>\n",
       "      <td>NaN</td>\n",
       "      <td>NaN</td>\n",
       "      <td>NaN</td>\n",
       "      <td>NaN</td>\n",
       "      <td>NaN</td>\n",
       "      <td>NaN</td>\n",
       "      <td>NaN</td>\n",
       "      <td>NaN</td>\n",
       "      <td>NaN</td>\n",
       "      <td>NaN</td>\n",
       "      <td>NaN</td>\n",
       "      <td>NaN</td>\n",
       "      <td>0.00</td>\n",
       "      <td>0.0</td>\n",
       "      <td>NaN</td>\n",
       "      <td>NaN</td>\n",
       "      <td>NaN</td>\n",
       "      <td>NaN</td>\n",
       "      <td>NaN</td>\n",
       "      <td>NaN</td>\n",
       "      <td>NaN</td>\n",
       "      <td>NaN</td>\n",
       "      <td>-0.00</td>\n",
       "      <td>NaN</td>\n",
       "      <td>NaN</td>\n",
       "      <td>NaN</td>\n",
       "      <td>NaN</td>\n",
       "      <td>NaN</td>\n",
       "      <td>NaN</td>\n",
       "      <td>NaN</td>\n",
       "      <td>NaN</td>\n",
       "      <td>NaN</td>\n",
       "      <td>-0.00</td>\n",
       "      <td>NaN</td>\n",
       "      <td>NaN</td>\n",
       "      <td>NaN</td>\n",
       "      <td>NaN</td>\n",
       "      <td>NaN</td>\n",
       "      <td>NaN</td>\n",
       "      <td>-0.00</td>\n",
       "      <td>2224.566</td>\n",
       "      <td>NaN</td>\n",
       "      <td>NaN</td>\n",
       "      <td>NaN</td>\n",
       "      <td>NaN</td>\n",
       "      <td>5493.4744</td>\n",
       "      <td>NaN</td>\n",
       "      <td>NaN</td>\n",
       "      <td>19813.8649</td>\n",
       "      <td>0</td>\n",
       "      <td>1</td>\n",
       "      <td>I</td>\n",
       "    </tr>\n",
       "    <tr>\n",
       "      <th>2</th>\n",
       "      <td>1</td>\n",
       "      <td>1</td>\n",
       "      <td>2</td>\n",
       "      <td>H</td>\n",
       "      <td>Other</td>\n",
       "      <td>13135.72176</td>\n",
       "      <td>0.00011</td>\n",
       "      <td>1112.283</td>\n",
       "      <td>0.0</td>\n",
       "      <td>NaN</td>\n",
       "      <td>NaN</td>\n",
       "      <td>2.014102e+06</td>\n",
       "      <td>0.00012</td>\n",
       "      <td>NaN</td>\n",
       "      <td>NaN</td>\n",
       "      <td>NaN</td>\n",
       "      <td>NaN</td>\n",
       "      <td>NaN</td>\n",
       "      <td>NaN</td>\n",
       "      <td>NaN</td>\n",
       "      <td>NaN</td>\n",
       "      <td>NaN</td>\n",
       "      <td>NaN</td>\n",
       "      <td>NaN</td>\n",
       "      <td>NaN</td>\n",
       "      <td>2224.57</td>\n",
       "      <td>0.0</td>\n",
       "      <td>2224.57</td>\n",
       "      <td>0.0</td>\n",
       "      <td>NaN</td>\n",
       "      <td>NaN</td>\n",
       "      <td>23846.53</td>\n",
       "      <td>0.0</td>\n",
       "      <td>NaN</td>\n",
       "      <td>NaN</td>\n",
       "      <td>NaN</td>\n",
       "      <td>NaN</td>\n",
       "      <td>-2224.57</td>\n",
       "      <td>-2224.57</td>\n",
       "      <td>-2224.5639</td>\n",
       "      <td>0.0021</td>\n",
       "      <td>NaN</td>\n",
       "      <td>NaN</td>\n",
       "      <td>NaN</td>\n",
       "      <td>NaN</td>\n",
       "      <td>NaN</td>\n",
       "      <td>NaN</td>\n",
       "      <td>-2224.57</td>\n",
       "      <td>-2224.57</td>\n",
       "      <td>-0.004</td>\n",
       "      <td>NaN</td>\n",
       "      <td>NaN</td>\n",
       "      <td>5493.4765</td>\n",
       "      <td>NaN</td>\n",
       "      <td>-2224.57</td>\n",
       "      <td>-0.004</td>\n",
       "      <td>-2224.57</td>\n",
       "      <td>6257.2311</td>\n",
       "      <td>NaN</td>\n",
       "      <td>4032.659</td>\n",
       "      <td>3268.9044</td>\n",
       "      <td>NaN</td>\n",
       "      <td>18353.0494</td>\n",
       "      <td>17589.2949</td>\n",
       "      <td>1</td>\n",
       "      <td>2</td>\n",
       "      <td>I</td>\n",
       "    </tr>\n",
       "    <tr>\n",
       "      <th>3</th>\n",
       "      <td>2</td>\n",
       "      <td>1</td>\n",
       "      <td>3</td>\n",
       "      <td>H</td>\n",
       "      <td>Other</td>\n",
       "      <td>14949.80993</td>\n",
       "      <td>0.00022</td>\n",
       "      <td>2827.265</td>\n",
       "      <td>0.0</td>\n",
       "      <td>18.592</td>\n",
       "      <td>0.0</td>\n",
       "      <td>3.016049e+06</td>\n",
       "      <td>0.00023</td>\n",
       "      <td>8481.79</td>\n",
       "      <td>0.0</td>\n",
       "      <td>NaN</td>\n",
       "      <td>NaN</td>\n",
       "      <td>NaN</td>\n",
       "      <td>NaN</td>\n",
       "      <td>-13717.0</td>\n",
       "      <td>2000.0</td>\n",
       "      <td>NaN</td>\n",
       "      <td>NaN</td>\n",
       "      <td>NaN</td>\n",
       "      <td>NaN</td>\n",
       "      <td>6257.23</td>\n",
       "      <td>0.0</td>\n",
       "      <td>NaN</td>\n",
       "      <td>NaN</td>\n",
       "      <td>NaN</td>\n",
       "      <td>NaN</td>\n",
       "      <td>17589.30</td>\n",
       "      <td>0.0</td>\n",
       "      <td>19813.86</td>\n",
       "      <td>0.0</td>\n",
       "      <td>NaN</td>\n",
       "      <td>NaN</td>\n",
       "      <td>NaN</td>\n",
       "      <td>-6257.23</td>\n",
       "      <td>-8481.7939</td>\n",
       "      <td>-6257.2279</td>\n",
       "      <td>-0.0049</td>\n",
       "      <td>NaN</td>\n",
       "      <td>NaN</td>\n",
       "      <td>-8481.79</td>\n",
       "      <td>NaN</td>\n",
       "      <td>-763.7545</td>\n",
       "      <td>NaN</td>\n",
       "      <td>-6257.23</td>\n",
       "      <td>-4032.664</td>\n",
       "      <td>NaN</td>\n",
       "      <td>0.0049</td>\n",
       "      <td>-763.7535</td>\n",
       "      <td>NaN</td>\n",
       "      <td>NaN</td>\n",
       "      <td>NaN</td>\n",
       "      <td>-6257.23</td>\n",
       "      <td>0.0011</td>\n",
       "      <td>NaN</td>\n",
       "      <td>-0.001</td>\n",
       "      <td>NaN</td>\n",
       "      <td>0.000</td>\n",
       "      <td>14320.3894</td>\n",
       "      <td>NaN</td>\n",
       "      <td>2</td>\n",
       "      <td>3</td>\n",
       "      <td>I</td>\n",
       "    </tr>\n",
       "    <tr>\n",
       "      <th>4</th>\n",
       "      <td>1</td>\n",
       "      <td>2</td>\n",
       "      <td>3</td>\n",
       "      <td>He</td>\n",
       "      <td>Other</td>\n",
       "      <td>14931.21793</td>\n",
       "      <td>0.00021</td>\n",
       "      <td>2572.680</td>\n",
       "      <td>0.0</td>\n",
       "      <td>-13736.000</td>\n",
       "      <td>2000.0</td>\n",
       "      <td>3.016029e+06</td>\n",
       "      <td>0.00022</td>\n",
       "      <td>NaN</td>\n",
       "      <td>NaN</td>\n",
       "      <td>7718.04</td>\n",
       "      <td>0.0</td>\n",
       "      <td>NaN</td>\n",
       "      <td>NaN</td>\n",
       "      <td>NaN</td>\n",
       "      <td>NaN</td>\n",
       "      <td>NaN</td>\n",
       "      <td>NaN</td>\n",
       "      <td>NaN</td>\n",
       "      <td>NaN</td>\n",
       "      <td>NaN</td>\n",
       "      <td>NaN</td>\n",
       "      <td>5493.47</td>\n",
       "      <td>0.0</td>\n",
       "      <td>NaN</td>\n",
       "      <td>NaN</td>\n",
       "      <td>18353.05</td>\n",
       "      <td>0.0</td>\n",
       "      <td>NaN</td>\n",
       "      <td>NaN</td>\n",
       "      <td>20577.62</td>\n",
       "      <td>0.0</td>\n",
       "      <td>-5493.47</td>\n",
       "      <td>NaN</td>\n",
       "      <td>-7718.0439</td>\n",
       "      <td>-5493.4779</td>\n",
       "      <td>NaN</td>\n",
       "      <td>0.0006</td>\n",
       "      <td>-7718.04</td>\n",
       "      <td>NaN</td>\n",
       "      <td>NaN</td>\n",
       "      <td>-14518.3465</td>\n",
       "      <td>-5493.47</td>\n",
       "      <td>NaN</td>\n",
       "      <td>NaN</td>\n",
       "      <td>NaN</td>\n",
       "      <td>NaN</td>\n",
       "      <td>-0.0035</td>\n",
       "      <td>NaN</td>\n",
       "      <td>-5493.47</td>\n",
       "      <td>-3268.904</td>\n",
       "      <td>NaN</td>\n",
       "      <td>763.7511</td>\n",
       "      <td>0.0004</td>\n",
       "      <td>NaN</td>\n",
       "      <td>0.0044</td>\n",
       "      <td>-13754.592</td>\n",
       "      <td>NaN</td>\n",
       "      <td>14320.3949</td>\n",
       "      <td>1</td>\n",
       "      <td>3</td>\n",
       "      <td>I</td>\n",
       "    </tr>\n",
       "  </tbody>\n",
       "</table>\n",
       "</div>"
      ],
      "text/plain": [
       "   Neutrons  Z  Mass_Number  EL      O  Mass_Excess  dMass_Excess  \\\n",
       "0         1  0            1   n  Other   8071.31713       0.00046   \n",
       "1         0  1            1   H  Other   7288.97061       0.00009   \n",
       "2         1  1            2   H  Other  13135.72176       0.00011   \n",
       "3         2  1            3   H  Other  14949.80993       0.00022   \n",
       "4         1  2            3  He  Other  14931.21793       0.00021   \n",
       "\n",
       "   Binding_Energy  dBinding_Energy  B_Decay_Energy  dB_Decay_Energy  \\\n",
       "0           0.000              0.0         782.347              0.0   \n",
       "1           0.000              0.0             NaN              NaN   \n",
       "2        1112.283              0.0             NaN              NaN   \n",
       "3        2827.265              0.0          18.592              0.0   \n",
       "4        2572.680              0.0      -13736.000           2000.0   \n",
       "\n",
       "   Atomic_Mass_Micro  dAtomic_Mass_Micro    S(2n)  dS(2n)    S(2p)  dS(2p)  \\\n",
       "0       1.008665e+06             0.00049      NaN     NaN      NaN     NaN   \n",
       "1       1.007825e+06             0.00009      NaN     NaN      NaN     NaN   \n",
       "2       2.014102e+06             0.00012      NaN     NaN      NaN     NaN   \n",
       "3       3.016049e+06             0.00023  8481.79     0.0      NaN     NaN   \n",
       "4       3.016029e+06             0.00022      NaN     NaN  7718.04     0.0   \n",
       "\n",
       "   Q(a)  dQ(a)   Q(2B-)  dQ(2B-)  Q(ep)  dQ(ep)  Q(B-n)  dQ(B-n)     S(n)  \\\n",
       "0   NaN    NaN      NaN      NaN    NaN     NaN     NaN      NaN     0.00   \n",
       "1   NaN    NaN      NaN      NaN    NaN     NaN     NaN      NaN      NaN   \n",
       "2   NaN    NaN      NaN      NaN    NaN     NaN     NaN      NaN  2224.57   \n",
       "3   NaN    NaN -13717.0   2000.0    NaN     NaN     NaN      NaN  6257.23   \n",
       "4   NaN    NaN      NaN      NaN    NaN     NaN     NaN      NaN      NaN   \n",
       "\n",
       "   dS(n)     S(p)  dS(p)  Q(4B-)  dQ(4B-)    Q(d,a)  dQ(d,a)    Q(p,a)  \\\n",
       "0    0.0      NaN    NaN     NaN      NaN       NaN      NaN       NaN   \n",
       "1    NaN     0.00    0.0     NaN      NaN       NaN      NaN       NaN   \n",
       "2    0.0  2224.57    0.0     NaN      NaN  23846.53      0.0       NaN   \n",
       "3    0.0      NaN    NaN     NaN      NaN  17589.30      0.0  19813.86   \n",
       "4    NaN  5493.47    0.0     NaN      NaN  18353.05      0.0       NaN   \n",
       "\n",
       "   dQ(p,a)    Q(n,a)  dQ(n,a)   Q(g,p)   Q(g,n)    Q(g,pn)     Q(g,d)  Q(g,t)  \\\n",
       "0      NaN       NaN      NaN      NaN    -0.00        NaN        NaN     NaN   \n",
       "1      NaN       NaN      NaN    -0.00      NaN        NaN        NaN     NaN   \n",
       "2      NaN       NaN      NaN -2224.57 -2224.57 -2224.5639     0.0021     NaN   \n",
       "3      0.0       NaN      NaN      NaN -6257.23 -8481.7939 -6257.2279 -0.0049   \n",
       "4      NaN  20577.62      0.0 -5493.47      NaN -7718.0439 -5493.4779     NaN   \n",
       "\n",
       "   Q(g,He3)  Q(g,2p)  Q(g,2n)  Q(g,a)      Q(p,n)  Q(p,2p)  Q(p,pn)    Q(p,d)  \\\n",
       "0       NaN      NaN      NaN     NaN      0.0005      NaN    -0.00  2224.566   \n",
       "1       NaN      NaN      NaN     NaN         NaN    -0.00      NaN       NaN   \n",
       "2       NaN      NaN      NaN     NaN         NaN -2224.57 -2224.57    -0.004   \n",
       "3       NaN      NaN -8481.79     NaN   -763.7545      NaN -6257.23 -4032.664   \n",
       "4    0.0006 -7718.04      NaN     NaN -14518.3465 -5493.47      NaN       NaN   \n",
       "\n",
       "   Q(p,2n)  Q(p,t)   Q(p,3He)  Q(n,2p)  Q(n,np)    Q(n,d)  Q(n,2n)     Q(n,t)  \\\n",
       "0      NaN     NaN        NaN      NaN      NaN       NaN    -0.00        NaN   \n",
       "1      NaN     NaN        NaN      NaN    -0.00  2224.566      NaN        NaN   \n",
       "2      NaN     NaN  5493.4765      NaN -2224.57    -0.004 -2224.57  6257.2311   \n",
       "3      NaN  0.0049  -763.7535      NaN      NaN       NaN -6257.23     0.0011   \n",
       "4      NaN     NaN    -0.0035      NaN -5493.47 -3268.904      NaN   763.7511   \n",
       "\n",
       "   Q(n,3He)    Q(d,t)   Q(d,3He)   Q(3He,t)    Q(3He,a)      Q(t,a)  N  M Flag  \n",
       "0       NaN  6257.229        NaN    763.755  20577.6194         NaN  1  1    I  \n",
       "1       NaN       NaN  5493.4744        NaN         NaN  19813.8649  0  1    I  \n",
       "2       NaN  4032.659  3268.9044        NaN  18353.0494  17589.2949  1  2    I  \n",
       "3       NaN    -0.001        NaN      0.000  14320.3894         NaN  2  3    I  \n",
       "4    0.0004       NaN     0.0044 -13754.592         NaN  14320.3949  1  3    I  "
      ]
     },
     "execution_count": 73,
     "metadata": {},
     "output_type": "execute_result"
    }
   ],
   "source": [
    "masses = pd.read_csv(ame_dir + \"/AME_Isotopic_Properties_w_NaN.csv\").rename(\n",
    "    columns={'N': 'Neutrons', 'A': 'Mass_Number', 'Neutrons':'N', 'Mass_Number':'M'})\n",
    "masses.head()"
   ]
  },
  {
   "cell_type": "code",
   "execution_count": 74,
   "metadata": {
    "ExecuteTime": {
     "end_time": "2020-04-01T18:28:44.163482Z",
     "start_time": "2020-04-01T18:28:42.944210Z"
    }
   },
   "outputs": [],
   "source": [
    "df_workxs = df_workxs.reset_index(drop=True)\n",
    "masses = masses.reset_index(drop=True)"
   ]
  },
  {
   "cell_type": "code",
   "execution_count": 75,
   "metadata": {
    "ExecuteTime": {
     "end_time": "2020-04-01T18:28:44.306516Z",
     "start_time": "2020-04-01T18:28:44.301679Z"
    }
   },
   "outputs": [
    {
     "data": {
      "text/plain": [
       "(6007126, 27)"
      ]
     },
     "execution_count": 75,
     "metadata": {},
     "output_type": "execute_result"
    }
   ],
   "source": [
    "df_workxs.shape"
   ]
  },
  {
   "cell_type": "code",
   "execution_count": 76,
   "metadata": {
    "ExecuteTime": {
     "end_time": "2020-04-01T18:29:05.738370Z",
     "start_time": "2020-04-01T18:28:53.160407Z"
    }
   },
   "outputs": [],
   "source": [
    "df = df_workxs.merge(masses, on=['N', 'Z'], how='left')"
   ]
  },
  {
   "cell_type": "code",
   "execution_count": 77,
   "metadata": {
    "ExecuteTime": {
     "end_time": "2020-04-01T18:29:05.744362Z",
     "start_time": "2020-04-01T18:29:05.740362Z"
    }
   },
   "outputs": [
    {
     "data": {
      "text/plain": [
       "(6007126, 92)"
      ]
     },
     "execution_count": 77,
     "metadata": {},
     "output_type": "execute_result"
    }
   ],
   "source": [
    "df.shape"
   ]
  },
  {
   "cell_type": "code",
   "execution_count": 78,
   "metadata": {
    "ExecuteTime": {
     "end_time": "2020-04-01T18:29:33.609521Z",
     "start_time": "2020-04-01T18:29:24.736121Z"
    }
   },
   "outputs": [],
   "source": [
    "columns_drop = [\"MF\", \"Cos/LO\", \"dCos/LO\", \"Prj\", \"M_x\", \"M_y\", \"N\"]\n",
    "df = df.drop(columns=columns_drop)"
   ]
  },
  {
   "cell_type": "code",
   "execution_count": 79,
   "metadata": {
    "ExecuteTime": {
     "end_time": "2020-04-01T18:29:33.852576Z",
     "start_time": "2020-04-01T18:29:33.610522Z"
    }
   },
   "outputs": [],
   "source": [
    "df[\"O\"].fillna(value=\"Other\", inplace=True)"
   ]
  },
  {
   "cell_type": "code",
   "execution_count": 81,
   "metadata": {
    "ExecuteTime": {
     "end_time": "2020-04-01T18:30:00.351728Z",
     "start_time": "2020-04-01T18:29:58.593103Z"
    }
   },
   "outputs": [],
   "source": [
    "df_copy = df.copy()"
   ]
  },
  {
   "cell_type": "code",
   "execution_count": 123,
   "metadata": {},
   "outputs": [],
   "source": [
    "# df = df[~df.Neutrons.isna()]"
   ]
  },
  {
   "cell_type": "code",
   "execution_count": 82,
   "metadata": {
    "ExecuteTime": {
     "end_time": "2020-04-01T18:30:23.405039Z",
     "start_time": "2020-04-01T18:30:23.400048Z"
    }
   },
   "outputs": [
    {
     "data": {
      "text/plain": [
       "(6007126, 85)"
      ]
     },
     "execution_count": 82,
     "metadata": {},
     "output_type": "execute_result"
    }
   ],
   "source": [
    "df.shape"
   ]
  },
  {
   "cell_type": "code",
   "execution_count": 83,
   "metadata": {
    "ExecuteTime": {
     "end_time": "2020-04-01T18:39:16.483501Z",
     "start_time": "2020-04-01T18:31:19.345383Z"
    }
   },
   "outputs": [],
   "source": [
    "# Save Dataframe\n",
    "df.to_csv(heavy_dir + \"/EXFOR_neutrons_ORIGINAL_AME_w_NaN.csv\", index=False)"
   ]
  },
  {
   "cell_type": "markdown",
   "metadata": {},
   "source": [
    "# Creating CSV file with AME, no RAW, and no NaN (ONLY MF3)"
   ]
  },
  {
   "cell_type": "code",
   "execution_count": 136,
   "metadata": {
    "ExecuteTime": {
     "end_time": "2020-04-01T19:11:31.329113Z",
     "start_time": "2020-04-01T19:11:29.099721Z"
    }
   },
   "outputs": [],
   "source": [
    "df = df_orig.copy()\n",
    "df_workxs = df.copy()"
   ]
  },
  {
   "cell_type": "code",
   "execution_count": 137,
   "metadata": {
    "ExecuteTime": {
     "end_time": "2020-04-01T19:11:32.207576Z",
     "start_time": "2020-04-01T19:11:32.202575Z"
    }
   },
   "outputs": [
    {
     "data": {
      "text/plain": [
       "Index(['Prj', 'Target_Meta_State', 'MF', 'MT', 'Energy', 'dEnergy', 'Data',\n",
       "       'dData', 'Cos/LO', 'dCos/LO', 'ELV/HL', 'dELV/HL', 'I78', 'EntrySubP',\n",
       "       'Z', 'M', 'N', 'Product_Meta_State', 'EXFOR_Status', 'Frame', 'Type',\n",
       "       'Title', 'Year', 'Institute', 'Date', 'Reference', 'Out'],\n",
       "      dtype='object')"
      ]
     },
     "execution_count": 137,
     "metadata": {},
     "output_type": "execute_result"
    }
   ],
   "source": [
    "df_workxs.columns"
   ]
  },
  {
   "cell_type": "code",
   "execution_count": 138,
   "metadata": {
    "ExecuteTime": {
     "end_time": "2020-04-01T19:11:49.783138Z",
     "start_time": "2020-04-01T19:11:49.695348Z"
    }
   },
   "outputs": [
    {
     "data": {
      "text/html": [
       "<div>\n",
       "<style scoped>\n",
       "    .dataframe tbody tr th:only-of-type {\n",
       "        vertical-align: middle;\n",
       "    }\n",
       "\n",
       "    .dataframe tbody tr th {\n",
       "        vertical-align: top;\n",
       "    }\n",
       "\n",
       "    .dataframe thead th {\n",
       "        text-align: right;\n",
       "    }\n",
       "</style>\n",
       "<table border=\"1\" class=\"dataframe\">\n",
       "  <thead>\n",
       "    <tr style=\"text-align: right;\">\n",
       "      <th></th>\n",
       "      <th>Neutrons</th>\n",
       "      <th>Z</th>\n",
       "      <th>Mass_Number</th>\n",
       "      <th>EL</th>\n",
       "      <th>O</th>\n",
       "      <th>Mass_Excess</th>\n",
       "      <th>dMass_Excess</th>\n",
       "      <th>Binding_Energy</th>\n",
       "      <th>dBinding_Energy</th>\n",
       "      <th>B_Decay_Energy</th>\n",
       "      <th>dB_Decay_Energy</th>\n",
       "      <th>Atomic_Mass_Micro</th>\n",
       "      <th>dAtomic_Mass_Micro</th>\n",
       "      <th>S(2n)</th>\n",
       "      <th>dS(2n)</th>\n",
       "      <th>S(2p)</th>\n",
       "      <th>dS(2p)</th>\n",
       "      <th>Q(a)</th>\n",
       "      <th>dQ(a)</th>\n",
       "      <th>Q(2B-)</th>\n",
       "      <th>dQ(2B-)</th>\n",
       "      <th>Q(ep)</th>\n",
       "      <th>dQ(ep)</th>\n",
       "      <th>Q(B-n)</th>\n",
       "      <th>dQ(B-n)</th>\n",
       "      <th>S(n)</th>\n",
       "      <th>dS(n)</th>\n",
       "      <th>S(p)</th>\n",
       "      <th>dS(p)</th>\n",
       "      <th>Q(4B-)</th>\n",
       "      <th>dQ(4B-)</th>\n",
       "      <th>Q(d,a)</th>\n",
       "      <th>dQ(d,a)</th>\n",
       "      <th>Q(p,a)</th>\n",
       "      <th>dQ(p,a)</th>\n",
       "      <th>Q(n,a)</th>\n",
       "      <th>dQ(n,a)</th>\n",
       "      <th>Q(g,p)</th>\n",
       "      <th>Q(g,n)</th>\n",
       "      <th>Q(g,pn)</th>\n",
       "      <th>Q(g,d)</th>\n",
       "      <th>Q(g,t)</th>\n",
       "      <th>Q(g,He3)</th>\n",
       "      <th>Q(g,2p)</th>\n",
       "      <th>Q(g,2n)</th>\n",
       "      <th>Q(g,a)</th>\n",
       "      <th>Q(p,n)</th>\n",
       "      <th>Q(p,2p)</th>\n",
       "      <th>Q(p,pn)</th>\n",
       "      <th>Q(p,d)</th>\n",
       "      <th>Q(p,2n)</th>\n",
       "      <th>Q(p,t)</th>\n",
       "      <th>Q(p,3He)</th>\n",
       "      <th>Q(n,2p)</th>\n",
       "      <th>Q(n,np)</th>\n",
       "      <th>Q(n,d)</th>\n",
       "      <th>Q(n,2n)</th>\n",
       "      <th>Q(n,t)</th>\n",
       "      <th>Q(n,3He)</th>\n",
       "      <th>Q(d,t)</th>\n",
       "      <th>Q(d,3He)</th>\n",
       "      <th>Q(3He,t)</th>\n",
       "      <th>Q(3He,a)</th>\n",
       "      <th>Q(t,a)</th>\n",
       "      <th>N</th>\n",
       "      <th>M</th>\n",
       "      <th>Flag</th>\n",
       "    </tr>\n",
       "  </thead>\n",
       "  <tbody>\n",
       "    <tr>\n",
       "      <th>0</th>\n",
       "      <td>1</td>\n",
       "      <td>0</td>\n",
       "      <td>1</td>\n",
       "      <td>n</td>\n",
       "      <td>Other</td>\n",
       "      <td>8071.31713</td>\n",
       "      <td>0.00046</td>\n",
       "      <td>0.000</td>\n",
       "      <td>0.0</td>\n",
       "      <td>782.347</td>\n",
       "      <td>0.0000</td>\n",
       "      <td>1.008665e+06</td>\n",
       "      <td>0.00049</td>\n",
       "      <td>15404.483723</td>\n",
       "      <td>162.252148</td>\n",
       "      <td>13771.880283</td>\n",
       "      <td>158.524008</td>\n",
       "      <td>-1125.3436</td>\n",
       "      <td>142.081942</td>\n",
       "      <td>-232.1475</td>\n",
       "      <td>160.822700</td>\n",
       "      <td>-6859.135662</td>\n",
       "      <td>158.184195</td>\n",
       "      <td>-7754.629285</td>\n",
       "      <td>161.152354</td>\n",
       "      <td>0.000000</td>\n",
       "      <td>0.000000</td>\n",
       "      <td>6889.086305</td>\n",
       "      <td>162.896488</td>\n",
       "      <td>-343.812798</td>\n",
       "      <td>175.128817</td>\n",
       "      <td>11405.545508</td>\n",
       "      <td>176.651049</td>\n",
       "      <td>5916.436032</td>\n",
       "      <td>171.776354</td>\n",
       "      <td>6730.114706</td>\n",
       "      <td>163.516658</td>\n",
       "      <td>-6889.086305</td>\n",
       "      <td>-0.000000</td>\n",
       "      <td>-14665.548392</td>\n",
       "      <td>-12440.982392</td>\n",
       "      <td>-13897.428868</td>\n",
       "      <td>-13847.504694</td>\n",
       "      <td>-13771.880283</td>\n",
       "      <td>-15404.483723</td>\n",
       "      <td>-1125.3436</td>\n",
       "      <td>0.0005</td>\n",
       "      <td>-6889.086305</td>\n",
       "      <td>-0.000000</td>\n",
       "      <td>2224.566000</td>\n",
       "      <td>-8536.975785</td>\n",
       "      <td>-6922.688823</td>\n",
       "      <td>-6947.507992</td>\n",
       "      <td>-6076.789162</td>\n",
       "      <td>-6889.086305</td>\n",
       "      <td>-4664.520305</td>\n",
       "      <td>-0.000000</td>\n",
       "      <td>-6183.753392</td>\n",
       "      <td>-6053.839883</td>\n",
       "      <td>6257.229000</td>\n",
       "      <td>-1395.611905</td>\n",
       "      <td>763.755</td>\n",
       "      <td>20577.619400</td>\n",
       "      <td>12924.778595</td>\n",
       "      <td>1</td>\n",
       "      <td>1</td>\n",
       "      <td>I</td>\n",
       "    </tr>\n",
       "    <tr>\n",
       "      <th>1</th>\n",
       "      <td>0</td>\n",
       "      <td>1</td>\n",
       "      <td>1</td>\n",
       "      <td>H</td>\n",
       "      <td>Other</td>\n",
       "      <td>7288.97061</td>\n",
       "      <td>0.00009</td>\n",
       "      <td>0.000</td>\n",
       "      <td>0.0</td>\n",
       "      <td>18244.328</td>\n",
       "      <td>289.9558</td>\n",
       "      <td>1.007825e+06</td>\n",
       "      <td>0.00009</td>\n",
       "      <td>2025.412000</td>\n",
       "      <td>292.506000</td>\n",
       "      <td>13771.880283</td>\n",
       "      <td>158.524008</td>\n",
       "      <td>-1125.3436</td>\n",
       "      <td>142.081942</td>\n",
       "      <td>13762.2680</td>\n",
       "      <td>719.024000</td>\n",
       "      <td>-6859.135662</td>\n",
       "      <td>158.184195</td>\n",
       "      <td>17514.992500</td>\n",
       "      <td>362.087500</td>\n",
       "      <td>1096.973333</td>\n",
       "      <td>256.595000</td>\n",
       "      <td>0.000000</td>\n",
       "      <td>0.000000</td>\n",
       "      <td>8007.500000</td>\n",
       "      <td>1511.500000</td>\n",
       "      <td>20717.915000</td>\n",
       "      <td>0.000000</td>\n",
       "      <td>20613.860000</td>\n",
       "      <td>50.000000</td>\n",
       "      <td>6730.114706</td>\n",
       "      <td>163.516658</td>\n",
       "      <td>-0.000000</td>\n",
       "      <td>-1096.973333</td>\n",
       "      <td>-5353.178900</td>\n",
       "      <td>-3128.612900</td>\n",
       "      <td>799.995100</td>\n",
       "      <td>-13847.504694</td>\n",
       "      <td>-13771.880283</td>\n",
       "      <td>-2025.412000</td>\n",
       "      <td>-1125.3436</td>\n",
       "      <td>17461.9815</td>\n",
       "      <td>-0.000000</td>\n",
       "      <td>-1096.973333</td>\n",
       "      <td>1127.592667</td>\n",
       "      <td>16732.646000</td>\n",
       "      <td>6456.382900</td>\n",
       "      <td>2364.861500</td>\n",
       "      <td>-6076.789162</td>\n",
       "      <td>-0.000000</td>\n",
       "      <td>2224.566000</td>\n",
       "      <td>-1096.973333</td>\n",
       "      <td>3128.616100</td>\n",
       "      <td>-6053.839883</td>\n",
       "      <td>5160.255667</td>\n",
       "      <td>5493.474400</td>\n",
       "      <td>18225.736</td>\n",
       "      <td>19480.646067</td>\n",
       "      <td>19813.864900</td>\n",
       "      <td>0</td>\n",
       "      <td>1</td>\n",
       "      <td>I</td>\n",
       "    </tr>\n",
       "    <tr>\n",
       "      <th>2</th>\n",
       "      <td>1</td>\n",
       "      <td>1</td>\n",
       "      <td>2</td>\n",
       "      <td>H</td>\n",
       "      <td>Other</td>\n",
       "      <td>13135.72176</td>\n",
       "      <td>0.00011</td>\n",
       "      <td>1112.283</td>\n",
       "      <td>0.0</td>\n",
       "      <td>18244.328</td>\n",
       "      <td>289.9558</td>\n",
       "      <td>2.014102e+06</td>\n",
       "      <td>0.00012</td>\n",
       "      <td>2025.412000</td>\n",
       "      <td>292.506000</td>\n",
       "      <td>13771.880283</td>\n",
       "      <td>158.524008</td>\n",
       "      <td>-1125.3436</td>\n",
       "      <td>142.081942</td>\n",
       "      <td>13762.2680</td>\n",
       "      <td>719.024000</td>\n",
       "      <td>-6859.135662</td>\n",
       "      <td>158.184195</td>\n",
       "      <td>17514.992500</td>\n",
       "      <td>362.087500</td>\n",
       "      <td>2224.570000</td>\n",
       "      <td>0.000000</td>\n",
       "      <td>2224.570000</td>\n",
       "      <td>0.000000</td>\n",
       "      <td>8007.500000</td>\n",
       "      <td>1511.500000</td>\n",
       "      <td>23846.530000</td>\n",
       "      <td>0.000000</td>\n",
       "      <td>20613.860000</td>\n",
       "      <td>50.000000</td>\n",
       "      <td>6730.114706</td>\n",
       "      <td>163.516658</td>\n",
       "      <td>-2224.570000</td>\n",
       "      <td>-2224.570000</td>\n",
       "      <td>-2224.563900</td>\n",
       "      <td>0.002100</td>\n",
       "      <td>799.995100</td>\n",
       "      <td>-13847.504694</td>\n",
       "      <td>-13771.880283</td>\n",
       "      <td>-2025.412000</td>\n",
       "      <td>-1125.3436</td>\n",
       "      <td>17461.9815</td>\n",
       "      <td>-2224.570000</td>\n",
       "      <td>-2224.570000</td>\n",
       "      <td>-0.004000</td>\n",
       "      <td>16732.646000</td>\n",
       "      <td>6456.382900</td>\n",
       "      <td>5493.476500</td>\n",
       "      <td>-6076.789162</td>\n",
       "      <td>-2224.570000</td>\n",
       "      <td>-0.004000</td>\n",
       "      <td>-2224.570000</td>\n",
       "      <td>6257.231100</td>\n",
       "      <td>-6053.839883</td>\n",
       "      <td>4032.659000</td>\n",
       "      <td>3268.904400</td>\n",
       "      <td>18225.736</td>\n",
       "      <td>18353.049400</td>\n",
       "      <td>17589.294900</td>\n",
       "      <td>1</td>\n",
       "      <td>2</td>\n",
       "      <td>I</td>\n",
       "    </tr>\n",
       "    <tr>\n",
       "      <th>3</th>\n",
       "      <td>2</td>\n",
       "      <td>1</td>\n",
       "      <td>3</td>\n",
       "      <td>H</td>\n",
       "      <td>Other</td>\n",
       "      <td>14949.80993</td>\n",
       "      <td>0.00022</td>\n",
       "      <td>2827.265</td>\n",
       "      <td>0.0</td>\n",
       "      <td>18.592</td>\n",
       "      <td>0.0000</td>\n",
       "      <td>3.016049e+06</td>\n",
       "      <td>0.00023</td>\n",
       "      <td>8481.790000</td>\n",
       "      <td>0.000000</td>\n",
       "      <td>13771.880283</td>\n",
       "      <td>158.524008</td>\n",
       "      <td>-1125.3436</td>\n",
       "      <td>142.081942</td>\n",
       "      <td>-13717.0000</td>\n",
       "      <td>2000.000000</td>\n",
       "      <td>-6859.135662</td>\n",
       "      <td>158.184195</td>\n",
       "      <td>17514.992500</td>\n",
       "      <td>362.087500</td>\n",
       "      <td>6257.230000</td>\n",
       "      <td>0.000000</td>\n",
       "      <td>1112.285000</td>\n",
       "      <td>0.000000</td>\n",
       "      <td>8007.500000</td>\n",
       "      <td>1511.500000</td>\n",
       "      <td>17589.300000</td>\n",
       "      <td>0.000000</td>\n",
       "      <td>19813.860000</td>\n",
       "      <td>0.000000</td>\n",
       "      <td>6730.114706</td>\n",
       "      <td>163.516658</td>\n",
       "      <td>-1112.285000</td>\n",
       "      <td>-6257.230000</td>\n",
       "      <td>-8481.793900</td>\n",
       "      <td>-6257.227900</td>\n",
       "      <td>-0.004900</td>\n",
       "      <td>-13847.504694</td>\n",
       "      <td>-13771.880283</td>\n",
       "      <td>-8481.790000</td>\n",
       "      <td>-1125.3436</td>\n",
       "      <td>-763.7545</td>\n",
       "      <td>-1112.285000</td>\n",
       "      <td>-6257.230000</td>\n",
       "      <td>-4032.664000</td>\n",
       "      <td>16732.646000</td>\n",
       "      <td>0.004900</td>\n",
       "      <td>-763.753500</td>\n",
       "      <td>-6076.789162</td>\n",
       "      <td>-1112.285000</td>\n",
       "      <td>1112.281000</td>\n",
       "      <td>-6257.230000</td>\n",
       "      <td>0.001100</td>\n",
       "      <td>-6053.839883</td>\n",
       "      <td>-0.001000</td>\n",
       "      <td>4381.189400</td>\n",
       "      <td>0.000</td>\n",
       "      <td>14320.389400</td>\n",
       "      <td>18701.579900</td>\n",
       "      <td>2</td>\n",
       "      <td>3</td>\n",
       "      <td>I</td>\n",
       "    </tr>\n",
       "    <tr>\n",
       "      <th>4</th>\n",
       "      <td>1</td>\n",
       "      <td>2</td>\n",
       "      <td>3</td>\n",
       "      <td>He</td>\n",
       "      <td>Other</td>\n",
       "      <td>14931.21793</td>\n",
       "      <td>0.00021</td>\n",
       "      <td>2572.680</td>\n",
       "      <td>0.0</td>\n",
       "      <td>-13736.000</td>\n",
       "      <td>2000.0000</td>\n",
       "      <td>3.016029e+06</td>\n",
       "      <td>0.00022</td>\n",
       "      <td>4013.160000</td>\n",
       "      <td>30.300000</td>\n",
       "      <td>7718.040000</td>\n",
       "      <td>0.000000</td>\n",
       "      <td>367.5000</td>\n",
       "      <td>10.000000</td>\n",
       "      <td>12743.2050</td>\n",
       "      <td>359.296667</td>\n",
       "      <td>-6859.135662</td>\n",
       "      <td>158.184195</td>\n",
       "      <td>-2571.224286</td>\n",
       "      <td>344.341429</td>\n",
       "      <td>3176.184286</td>\n",
       "      <td>29.417143</td>\n",
       "      <td>5493.470000</td>\n",
       "      <td>0.000000</td>\n",
       "      <td>14022.910000</td>\n",
       "      <td>52.653333</td>\n",
       "      <td>18353.050000</td>\n",
       "      <td>0.000000</td>\n",
       "      <td>4173.344286</td>\n",
       "      <td>210.882857</td>\n",
       "      <td>20577.620000</td>\n",
       "      <td>0.000000</td>\n",
       "      <td>-5493.470000</td>\n",
       "      <td>-3176.184286</td>\n",
       "      <td>-7718.043900</td>\n",
       "      <td>-5493.477900</td>\n",
       "      <td>-15640.520614</td>\n",
       "      <td>0.000600</td>\n",
       "      <td>-7718.040000</td>\n",
       "      <td>-4013.160000</td>\n",
       "      <td>367.5000</td>\n",
       "      <td>-14518.3465</td>\n",
       "      <td>-5493.470000</td>\n",
       "      <td>-3176.184286</td>\n",
       "      <td>-951.618286</td>\n",
       "      <td>-3353.570786</td>\n",
       "      <td>4468.634900</td>\n",
       "      <td>-0.003500</td>\n",
       "      <td>-6076.789162</td>\n",
       "      <td>-5493.470000</td>\n",
       "      <td>-3268.904000</td>\n",
       "      <td>-3176.184286</td>\n",
       "      <td>763.751100</td>\n",
       "      <td>0.000400</td>\n",
       "      <td>3081.044714</td>\n",
       "      <td>0.004400</td>\n",
       "      <td>-13754.592</td>\n",
       "      <td>17401.435114</td>\n",
       "      <td>14320.394900</td>\n",
       "      <td>1</td>\n",
       "      <td>3</td>\n",
       "      <td>I</td>\n",
       "    </tr>\n",
       "  </tbody>\n",
       "</table>\n",
       "</div>"
      ],
      "text/plain": [
       "   Neutrons  Z  Mass_Number  EL      O  Mass_Excess  dMass_Excess  \\\n",
       "0         1  0            1   n  Other   8071.31713       0.00046   \n",
       "1         0  1            1   H  Other   7288.97061       0.00009   \n",
       "2         1  1            2   H  Other  13135.72176       0.00011   \n",
       "3         2  1            3   H  Other  14949.80993       0.00022   \n",
       "4         1  2            3  He  Other  14931.21793       0.00021   \n",
       "\n",
       "   Binding_Energy  dBinding_Energy  B_Decay_Energy  dB_Decay_Energy  \\\n",
       "0           0.000              0.0         782.347           0.0000   \n",
       "1           0.000              0.0       18244.328         289.9558   \n",
       "2        1112.283              0.0       18244.328         289.9558   \n",
       "3        2827.265              0.0          18.592           0.0000   \n",
       "4        2572.680              0.0      -13736.000        2000.0000   \n",
       "\n",
       "   Atomic_Mass_Micro  dAtomic_Mass_Micro         S(2n)      dS(2n)  \\\n",
       "0       1.008665e+06             0.00049  15404.483723  162.252148   \n",
       "1       1.007825e+06             0.00009   2025.412000  292.506000   \n",
       "2       2.014102e+06             0.00012   2025.412000  292.506000   \n",
       "3       3.016049e+06             0.00023   8481.790000    0.000000   \n",
       "4       3.016029e+06             0.00022   4013.160000   30.300000   \n",
       "\n",
       "          S(2p)      dS(2p)       Q(a)       dQ(a)      Q(2B-)      dQ(2B-)  \\\n",
       "0  13771.880283  158.524008 -1125.3436  142.081942   -232.1475   160.822700   \n",
       "1  13771.880283  158.524008 -1125.3436  142.081942  13762.2680   719.024000   \n",
       "2  13771.880283  158.524008 -1125.3436  142.081942  13762.2680   719.024000   \n",
       "3  13771.880283  158.524008 -1125.3436  142.081942 -13717.0000  2000.000000   \n",
       "4   7718.040000    0.000000   367.5000   10.000000  12743.2050   359.296667   \n",
       "\n",
       "         Q(ep)      dQ(ep)        Q(B-n)     dQ(B-n)         S(n)       dS(n)  \\\n",
       "0 -6859.135662  158.184195  -7754.629285  161.152354     0.000000    0.000000   \n",
       "1 -6859.135662  158.184195  17514.992500  362.087500  1096.973333  256.595000   \n",
       "2 -6859.135662  158.184195  17514.992500  362.087500  2224.570000    0.000000   \n",
       "3 -6859.135662  158.184195  17514.992500  362.087500  6257.230000    0.000000   \n",
       "4 -6859.135662  158.184195  -2571.224286  344.341429  3176.184286   29.417143   \n",
       "\n",
       "          S(p)       dS(p)        Q(4B-)      dQ(4B-)        Q(d,a)  \\\n",
       "0  6889.086305  162.896488   -343.812798   175.128817  11405.545508   \n",
       "1     0.000000    0.000000   8007.500000  1511.500000  20717.915000   \n",
       "2  2224.570000    0.000000   8007.500000  1511.500000  23846.530000   \n",
       "3  1112.285000    0.000000   8007.500000  1511.500000  17589.300000   \n",
       "4  5493.470000    0.000000  14022.910000    52.653333  18353.050000   \n",
       "\n",
       "      dQ(d,a)        Q(p,a)     dQ(p,a)        Q(n,a)     dQ(n,a)  \\\n",
       "0  176.651049   5916.436032  171.776354   6730.114706  163.516658   \n",
       "1    0.000000  20613.860000   50.000000   6730.114706  163.516658   \n",
       "2    0.000000  20613.860000   50.000000   6730.114706  163.516658   \n",
       "3    0.000000  19813.860000    0.000000   6730.114706  163.516658   \n",
       "4    0.000000   4173.344286  210.882857  20577.620000    0.000000   \n",
       "\n",
       "        Q(g,p)       Q(g,n)       Q(g,pn)        Q(g,d)        Q(g,t)  \\\n",
       "0 -6889.086305    -0.000000 -14665.548392 -12440.982392 -13897.428868   \n",
       "1    -0.000000 -1096.973333  -5353.178900  -3128.612900    799.995100   \n",
       "2 -2224.570000 -2224.570000  -2224.563900      0.002100    799.995100   \n",
       "3 -1112.285000 -6257.230000  -8481.793900  -6257.227900     -0.004900   \n",
       "4 -5493.470000 -3176.184286  -7718.043900  -5493.477900 -15640.520614   \n",
       "\n",
       "       Q(g,He3)       Q(g,2p)       Q(g,2n)     Q(g,a)      Q(p,n)  \\\n",
       "0 -13847.504694 -13771.880283 -15404.483723 -1125.3436      0.0005   \n",
       "1 -13847.504694 -13771.880283  -2025.412000 -1125.3436  17461.9815   \n",
       "2 -13847.504694 -13771.880283  -2025.412000 -1125.3436  17461.9815   \n",
       "3 -13847.504694 -13771.880283  -8481.790000 -1125.3436   -763.7545   \n",
       "4      0.000600  -7718.040000  -4013.160000   367.5000 -14518.3465   \n",
       "\n",
       "       Q(p,2p)      Q(p,pn)       Q(p,d)       Q(p,2n)       Q(p,t)  \\\n",
       "0 -6889.086305    -0.000000  2224.566000  -8536.975785 -6922.688823   \n",
       "1    -0.000000 -1096.973333  1127.592667  16732.646000  6456.382900   \n",
       "2 -2224.570000 -2224.570000    -0.004000  16732.646000  6456.382900   \n",
       "3 -1112.285000 -6257.230000 -4032.664000  16732.646000     0.004900   \n",
       "4 -5493.470000 -3176.184286  -951.618286  -3353.570786  4468.634900   \n",
       "\n",
       "      Q(p,3He)      Q(n,2p)      Q(n,np)       Q(n,d)      Q(n,2n)  \\\n",
       "0 -6947.507992 -6076.789162 -6889.086305 -4664.520305    -0.000000   \n",
       "1  2364.861500 -6076.789162    -0.000000  2224.566000 -1096.973333   \n",
       "2  5493.476500 -6076.789162 -2224.570000    -0.004000 -2224.570000   \n",
       "3  -763.753500 -6076.789162 -1112.285000  1112.281000 -6257.230000   \n",
       "4    -0.003500 -6076.789162 -5493.470000 -3268.904000 -3176.184286   \n",
       "\n",
       "        Q(n,t)     Q(n,3He)       Q(d,t)     Q(d,3He)   Q(3He,t)  \\\n",
       "0 -6183.753392 -6053.839883  6257.229000 -1395.611905    763.755   \n",
       "1  3128.616100 -6053.839883  5160.255667  5493.474400  18225.736   \n",
       "2  6257.231100 -6053.839883  4032.659000  3268.904400  18225.736   \n",
       "3     0.001100 -6053.839883    -0.001000  4381.189400      0.000   \n",
       "4   763.751100     0.000400  3081.044714     0.004400 -13754.592   \n",
       "\n",
       "       Q(3He,a)        Q(t,a)  N  M Flag  \n",
       "0  20577.619400  12924.778595  1  1    I  \n",
       "1  19480.646067  19813.864900  0  1    I  \n",
       "2  18353.049400  17589.294900  1  2    I  \n",
       "3  14320.389400  18701.579900  2  3    I  \n",
       "4  17401.435114  14320.394900  1  3    I  "
      ]
     },
     "execution_count": 138,
     "metadata": {},
     "output_type": "execute_result"
    }
   ],
   "source": [
    "masses = pd.read_csv(ame_dir + \"/AME_Isotopic_Properties_no_NaN.csv\").rename(\n",
    "    columns={'N': 'Neutrons', 'A': 'Mass_Number', 'Neutrons':'N', 'Mass_Number':'M'})\n",
    "masses.head()"
   ]
  },
  {
   "cell_type": "code",
   "execution_count": 139,
   "metadata": {
    "ExecuteTime": {
     "end_time": "2020-04-01T19:11:53.285126Z",
     "start_time": "2020-04-01T19:11:52.026240Z"
    }
   },
   "outputs": [],
   "source": [
    "df_workxs = df_workxs.reset_index(drop=True)\n",
    "masses = masses.reset_index(drop=True)"
   ]
  },
  {
   "cell_type": "code",
   "execution_count": 140,
   "metadata": {
    "ExecuteTime": {
     "end_time": "2020-04-01T19:11:53.290651Z",
     "start_time": "2020-04-01T19:11:53.286126Z"
    }
   },
   "outputs": [
    {
     "data": {
      "text/plain": [
       "(6007126, 27)"
      ]
     },
     "execution_count": 140,
     "metadata": {},
     "output_type": "execute_result"
    }
   ],
   "source": [
    "df_workxs.shape"
   ]
  },
  {
   "cell_type": "code",
   "execution_count": 141,
   "metadata": {
    "ExecuteTime": {
     "end_time": "2020-04-01T19:12:06.171588Z",
     "start_time": "2020-04-01T19:11:53.292635Z"
    }
   },
   "outputs": [],
   "source": [
    "df = df_workxs.merge(masses, on=['N', 'Z'], how='left')"
   ]
  },
  {
   "cell_type": "code",
   "execution_count": 142,
   "metadata": {
    "ExecuteTime": {
     "end_time": "2020-04-01T19:12:06.176581Z",
     "start_time": "2020-04-01T19:12:06.172579Z"
    }
   },
   "outputs": [
    {
     "data": {
      "text/plain": [
       "(6007126, 92)"
      ]
     },
     "execution_count": 142,
     "metadata": {},
     "output_type": "execute_result"
    }
   ],
   "source": [
    "df.shape"
   ]
  },
  {
   "cell_type": "code",
   "execution_count": 143,
   "metadata": {
    "ExecuteTime": {
     "end_time": "2020-04-01T19:12:06.423645Z",
     "start_time": "2020-04-01T19:12:06.178580Z"
    }
   },
   "outputs": [],
   "source": [
    "df[\"O\"].fillna(value=\"Other\", inplace=True)"
   ]
  },
  {
   "cell_type": "code",
   "execution_count": 144,
   "metadata": {
    "ExecuteTime": {
     "end_time": "2020-04-01T19:12:06.500654Z",
     "start_time": "2020-04-01T19:12:06.496662Z"
    }
   },
   "outputs": [],
   "source": [
    "# df = df[~df.Neutrons.isna()]"
   ]
  },
  {
   "cell_type": "code",
   "execution_count": 145,
   "metadata": {
    "ExecuteTime": {
     "end_time": "2020-04-01T19:12:07.599287Z",
     "start_time": "2020-04-01T19:12:07.595287Z"
    }
   },
   "outputs": [
    {
     "data": {
      "text/plain": [
       "(6007126, 92)"
      ]
     },
     "execution_count": 145,
     "metadata": {},
     "output_type": "execute_result"
    }
   ],
   "source": [
    "df.shape"
   ]
  },
  {
   "cell_type": "markdown",
   "metadata": {},
   "source": [
    "# Neutron Induced Cross Section vs Energy Data \n",
    "\n",
    "MF are ENDF labels and are used to store different types of data:\n",
    "\n",
    "- MF=1 contains descriptive and miscellaneous data,\n",
    "- MF=2 contains resonance parameter data,\n",
    "- MF=3 contains reaction cross sections vs energy,\n",
    "- MF=4 contains angular distributions,\n",
    "- MF=5 contains energy distributions,\n",
    "- MF=6 contains energy-angle distributions,\n",
    "- MF=7 contains thermal scattering data,\n",
    "- MF=8 contains radioactivity data\n",
    "- MF=9-10 contain nuclide production data,\n",
    "- MF=12-15 contain photon production data, and\n",
    "- MF=30-36 contain covariance data."
   ]
  },
  {
   "cell_type": "code",
   "execution_count": 146,
   "metadata": {
    "ExecuteTime": {
     "end_time": "2020-04-01T19:12:22.357280Z",
     "start_time": "2020-04-01T19:12:20.675393Z"
    }
   },
   "outputs": [],
   "source": [
    "df.MF = df.MF.astype(str)\n",
    "df.MT = df.MT.astype(str)"
   ]
  },
  {
   "cell_type": "code",
   "execution_count": 147,
   "metadata": {
    "ExecuteTime": {
     "end_time": "2020-04-01T19:12:34.744062Z",
     "start_time": "2020-04-01T19:12:25.242437Z"
    }
   },
   "outputs": [],
   "source": [
    "df = df[df[\"MF\"] == \"3\"]"
   ]
  },
  {
   "cell_type": "code",
   "execution_count": 148,
   "metadata": {
    "ExecuteTime": {
     "end_time": "2020-04-01T19:12:41.022330Z",
     "start_time": "2020-04-01T19:12:41.018329Z"
    }
   },
   "outputs": [],
   "source": [
    "# df = df[df[\"MT\"] < 999] # Cross Section Ratios"
   ]
  },
  {
   "cell_type": "code",
   "execution_count": 149,
   "metadata": {
    "ExecuteTime": {
     "end_time": "2020-04-01T19:12:42.150071Z",
     "start_time": "2020-04-01T19:12:42.147070Z"
    }
   },
   "outputs": [
    {
     "data": {
      "text/plain": [
       "(4645678, 92)"
      ]
     },
     "execution_count": 149,
     "metadata": {},
     "output_type": "execute_result"
    }
   ],
   "source": [
    "df.shape"
   ]
  },
  {
   "cell_type": "code",
   "execution_count": 150,
   "metadata": {
    "ExecuteTime": {
     "end_time": "2020-04-01T19:12:44.767738Z",
     "start_time": "2020-04-01T19:12:44.762747Z"
    }
   },
   "outputs": [
    {
     "data": {
      "text/plain": [
       "Index(['Prj', 'Target_Meta_State', 'MF', 'MT', 'Energy', 'dEnergy', 'Data',\n",
       "       'dData', 'Cos/LO', 'dCos/LO', 'ELV/HL', 'dELV/HL', 'I78', 'EntrySubP',\n",
       "       'Z', 'M_x', 'N', 'Product_Meta_State', 'EXFOR_Status', 'Frame', 'Type',\n",
       "       'Title', 'Year', 'Institute', 'Date', 'Reference', 'Out', 'Neutrons',\n",
       "       'Mass_Number', 'EL', 'O', 'Mass_Excess', 'dMass_Excess',\n",
       "       'Binding_Energy', 'dBinding_Energy', 'B_Decay_Energy',\n",
       "       'dB_Decay_Energy', 'Atomic_Mass_Micro', 'dAtomic_Mass_Micro', 'S(2n)',\n",
       "       'dS(2n)', 'S(2p)', 'dS(2p)', 'Q(a)', 'dQ(a)', 'Q(2B-)', 'dQ(2B-)',\n",
       "       'Q(ep)', 'dQ(ep)', 'Q(B-n)', 'dQ(B-n)', 'S(n)', 'dS(n)', 'S(p)',\n",
       "       'dS(p)', 'Q(4B-)', 'dQ(4B-)', 'Q(d,a)', 'dQ(d,a)', 'Q(p,a)', 'dQ(p,a)',\n",
       "       'Q(n,a)', 'dQ(n,a)', 'Q(g,p)', 'Q(g,n)', 'Q(g,pn)', 'Q(g,d)', 'Q(g,t)',\n",
       "       'Q(g,He3)', 'Q(g,2p)', 'Q(g,2n)', 'Q(g,a)', 'Q(p,n)', 'Q(p,2p)',\n",
       "       'Q(p,pn)', 'Q(p,d)', 'Q(p,2n)', 'Q(p,t)', 'Q(p,3He)', 'Q(n,2p)',\n",
       "       'Q(n,np)', 'Q(n,d)', 'Q(n,2n)', 'Q(n,t)', 'Q(n,3He)', 'Q(d,t)',\n",
       "       'Q(d,3He)', 'Q(3He,t)', 'Q(3He,a)', 'Q(t,a)', 'M_y', 'Flag'],\n",
       "      dtype='object')"
      ]
     },
     "execution_count": 150,
     "metadata": {},
     "output_type": "execute_result"
    }
   ],
   "source": [
    "df.columns"
   ]
  },
  {
   "cell_type": "code",
   "execution_count": 151,
   "metadata": {
    "ExecuteTime": {
     "end_time": "2020-04-01T19:12:53.707827Z",
     "start_time": "2020-04-01T19:12:51.355616Z"
    }
   },
   "outputs": [],
   "source": [
    "columns_drop = [\"MF\", \"Cos/LO\", \"dCos/LO\", \"Prj\", \"M_x\", \"M_y\", \"N\"]\n",
    "df = df.drop(columns=columns_drop)"
   ]
  },
  {
   "cell_type": "markdown",
   "metadata": {},
   "source": [
    "# Exploring Missing Values"
   ]
  },
  {
   "cell_type": "code",
   "execution_count": 152,
   "metadata": {
    "ExecuteTime": {
     "end_time": "2020-04-01T19:13:04.379990Z",
     "start_time": "2020-04-01T19:13:01.425999Z"
    }
   },
   "outputs": [],
   "source": [
    "# We get rid of heavy water measurments\n",
    "df = df[~df.EL.isna()]"
   ]
  },
  {
   "cell_type": "code",
   "execution_count": 153,
   "metadata": {
    "ExecuteTime": {
     "end_time": "2020-04-01T19:15:27.661455Z",
     "start_time": "2020-04-01T19:15:25.067434Z"
    }
   },
   "outputs": [],
   "source": [
    "df[\"Neutrons\"] = df[\"Neutrons\"].astype(int)\n",
    "df[\"Mass_Number\"] = df[\"Mass_Number\"].astype(int)"
   ]
  },
  {
   "cell_type": "code",
   "execution_count": 154,
   "metadata": {
    "ExecuteTime": {
     "end_time": "2020-04-01T19:15:31.635042Z",
     "start_time": "2020-04-01T19:15:28.346992Z"
    }
   },
   "outputs": [
    {
     "data": {
      "text/plain": [
       "['dEnergy', 'dData', 'ELV/HL', 'dELV/HL']"
      ]
     },
     "execution_count": 154,
     "metadata": {},
     "output_type": "execute_result"
    }
   ],
   "source": [
    "df.columns[df.isna().any()].tolist()"
   ]
  },
  {
   "cell_type": "code",
   "execution_count": 155,
   "metadata": {
    "ExecuteTime": {
     "end_time": "2020-04-01T19:15:35.539015Z",
     "start_time": "2020-04-01T19:15:31.637042Z"
    }
   },
   "outputs": [],
   "source": [
    "df = df.rename(columns={\"Z\":\"Protons\", \"EL\":\"Element\", \"O\":\"Origin\", \"Type\":\"Reaction_Notation\"})"
   ]
  },
  {
   "cell_type": "code",
   "execution_count": 156,
   "metadata": {
    "ExecuteTime": {
     "end_time": "2020-04-01T19:15:35.546017Z",
     "start_time": "2020-04-01T19:15:35.540015Z"
    }
   },
   "outputs": [
    {
     "data": {
      "text/plain": [
       "Index(['Target_Meta_State', 'MT', 'Energy', 'dEnergy', 'Data', 'dData',\n",
       "       'ELV/HL', 'dELV/HL', 'I78', 'EntrySubP', 'Protons',\n",
       "       'Product_Meta_State', 'EXFOR_Status', 'Frame', 'Reaction_Notation',\n",
       "       'Title', 'Year', 'Institute', 'Date', 'Reference', 'Out', 'Neutrons',\n",
       "       'Mass_Number', 'Element', 'Origin', 'Mass_Excess', 'dMass_Excess',\n",
       "       'Binding_Energy', 'dBinding_Energy', 'B_Decay_Energy',\n",
       "       'dB_Decay_Energy', 'Atomic_Mass_Micro', 'dAtomic_Mass_Micro', 'S(2n)',\n",
       "       'dS(2n)', 'S(2p)', 'dS(2p)', 'Q(a)', 'dQ(a)', 'Q(2B-)', 'dQ(2B-)',\n",
       "       'Q(ep)', 'dQ(ep)', 'Q(B-n)', 'dQ(B-n)', 'S(n)', 'dS(n)', 'S(p)',\n",
       "       'dS(p)', 'Q(4B-)', 'dQ(4B-)', 'Q(d,a)', 'dQ(d,a)', 'Q(p,a)', 'dQ(p,a)',\n",
       "       'Q(n,a)', 'dQ(n,a)', 'Q(g,p)', 'Q(g,n)', 'Q(g,pn)', 'Q(g,d)', 'Q(g,t)',\n",
       "       'Q(g,He3)', 'Q(g,2p)', 'Q(g,2n)', 'Q(g,a)', 'Q(p,n)', 'Q(p,2p)',\n",
       "       'Q(p,pn)', 'Q(p,d)', 'Q(p,2n)', 'Q(p,t)', 'Q(p,3He)', 'Q(n,2p)',\n",
       "       'Q(n,np)', 'Q(n,d)', 'Q(n,2n)', 'Q(n,t)', 'Q(n,3He)', 'Q(d,t)',\n",
       "       'Q(d,3He)', 'Q(3He,t)', 'Q(3He,a)', 'Q(t,a)', 'Flag'],\n",
       "      dtype='object')"
      ]
     },
     "execution_count": 156,
     "metadata": {},
     "output_type": "execute_result"
    }
   ],
   "source": [
    "df.columns"
   ]
  },
  {
   "cell_type": "code",
   "execution_count": 157,
   "metadata": {
    "ExecuteTime": {
     "end_time": "2020-04-01T19:15:35.551017Z",
     "start_time": "2020-04-01T19:15:35.549017Z"
    }
   },
   "outputs": [],
   "source": [
    "# # Assuming Unknown values are ground state\n",
    "# df[\"Product_Meta_State\"] = df[\"Product_Meta_State\"].astype(str)\n",
    "# df[\"Product_Meta_State\"] = df[\"Product_Meta_State\"].replace(to_replace=\"?\", value=\"G\")"
   ]
  },
  {
   "cell_type": "code",
   "execution_count": 158,
   "metadata": {
    "ExecuteTime": {
     "end_time": "2020-04-01T19:15:48.549993Z",
     "start_time": "2020-04-01T19:15:44.627658Z"
    }
   },
   "outputs": [],
   "source": [
    "df[\"Element_w_A\"] = df[\"Mass_Number\"].astype(str) + df.Element"
   ]
  },
  {
   "cell_type": "markdown",
   "metadata": {},
   "source": [
    "# Uncertainty Missing Values\n",
    "\n",
    "The uncertainty is not given for every experiment. Missing values happen when they are not specified in the entries and are given in the respective paper, or are simply not given. In any case, it will be very tidius to go one by one finding uncertanties. For this, we take the mean of the current uncertanties and fill missing values using the mean uncertantity multiply times the energy values. \n",
    "\n",
    "**it would be better to assign mean uncertainty per facility, per author, or per dataset**"
   ]
  },
  {
   "cell_type": "code",
   "execution_count": 159,
   "metadata": {
    "ExecuteTime": {
     "end_time": "2020-04-01T19:15:52.304590Z",
     "start_time": "2020-04-01T19:15:52.298597Z"
    }
   },
   "outputs": [
    {
     "data": {
      "text/plain": [
       "Index(['Target_Meta_State', 'MT', 'Energy', 'dEnergy', 'Data', 'dData',\n",
       "       'ELV/HL', 'dELV/HL', 'I78', 'EntrySubP', 'Protons',\n",
       "       'Product_Meta_State', 'EXFOR_Status', 'Frame', 'Reaction_Notation',\n",
       "       'Title', 'Year', 'Institute', 'Date', 'Reference', 'Out', 'Neutrons',\n",
       "       'Mass_Number', 'Element', 'Origin', 'Mass_Excess', 'dMass_Excess',\n",
       "       'Binding_Energy', 'dBinding_Energy', 'B_Decay_Energy',\n",
       "       'dB_Decay_Energy', 'Atomic_Mass_Micro', 'dAtomic_Mass_Micro', 'S(2n)',\n",
       "       'dS(2n)', 'S(2p)', 'dS(2p)', 'Q(a)', 'dQ(a)', 'Q(2B-)', 'dQ(2B-)',\n",
       "       'Q(ep)', 'dQ(ep)', 'Q(B-n)', 'dQ(B-n)', 'S(n)', 'dS(n)', 'S(p)',\n",
       "       'dS(p)', 'Q(4B-)', 'dQ(4B-)', 'Q(d,a)', 'dQ(d,a)', 'Q(p,a)', 'dQ(p,a)',\n",
       "       'Q(n,a)', 'dQ(n,a)', 'Q(g,p)', 'Q(g,n)', 'Q(g,pn)', 'Q(g,d)', 'Q(g,t)',\n",
       "       'Q(g,He3)', 'Q(g,2p)', 'Q(g,2n)', 'Q(g,a)', 'Q(p,n)', 'Q(p,2p)',\n",
       "       'Q(p,pn)', 'Q(p,d)', 'Q(p,2n)', 'Q(p,t)', 'Q(p,3He)', 'Q(n,2p)',\n",
       "       'Q(n,np)', 'Q(n,d)', 'Q(n,2n)', 'Q(n,t)', 'Q(n,3He)', 'Q(d,t)',\n",
       "       'Q(d,3He)', 'Q(3He,t)', 'Q(3He,a)', 'Q(t,a)', 'Flag', 'Element_w_A'],\n",
       "      dtype='object')"
      ]
     },
     "execution_count": 159,
     "metadata": {},
     "output_type": "execute_result"
    }
   ],
   "source": [
    "df.columns"
   ]
  },
  {
   "cell_type": "code",
   "execution_count": 160,
   "metadata": {
    "ExecuteTime": {
     "end_time": "2020-04-01T19:16:02.337156Z",
     "start_time": "2020-04-01T19:15:57.274924Z"
    }
   },
   "outputs": [
    {
     "data": {
      "text/plain": [
       "['dEnergy', 'dData', 'ELV/HL', 'dELV/HL']"
      ]
     },
     "execution_count": 160,
     "metadata": {},
     "output_type": "execute_result"
    }
   ],
   "source": [
    "df.columns[df.isna().any()].tolist()"
   ]
  },
  {
   "cell_type": "markdown",
   "metadata": {},
   "source": [
    "# Exploring Uncertainty"
   ]
  },
  {
   "cell_type": "code",
   "execution_count": 161,
   "metadata": {
    "ExecuteTime": {
     "end_time": "2020-04-01T19:16:14.861186Z",
     "start_time": "2020-04-01T19:16:14.857674Z"
    }
   },
   "outputs": [],
   "source": [
    "# missing_uncertanties_institute = df[[\"Institute\",\"dEnergy\"]].drop('Institute', 1).isna().groupby(df.Institute, sort=False).sum().reset_index()\n",
    "# missing_uncertanties_institute = missing_uncertanties_institute[missing_uncertanties_institute.dEnergy > 0]\n",
    "# missing_uncertanties_institute = missing_uncertanties_institute.sort_values('dEnergy', ascending=False)\n",
    "\n",
    "# missing_uncertanties_reference = df[[\"Institute\",\"dEnergy\"]].drop('Institute', 1).isna().groupby(df.Institute, sort=False).sum().reset_index()\n",
    "# missing_uncertanties_reference = missing_uncertanties_reference[missing_uncertanties_reference.dEnergy > 0]\n",
    "# missing_uncertanties_reference = missing_uncertanties_reference.sort_values('dEnergy', ascending=False)\n",
    "\n",
    "# missing_uncertanties_reference.to_csv(\"./Extracted_Text/missing_unc_ref.csv\", index=False)\n",
    "# missing_uncertanties_institute.to_csv(\"./Extracted_Text/missing_unc_ins.csv\", index=False)"
   ]
  },
  {
   "cell_type": "code",
   "execution_count": 162,
   "metadata": {
    "ExecuteTime": {
     "end_time": "2020-04-01T19:16:15.617440Z",
     "start_time": "2020-04-01T19:16:15.495501Z"
    }
   },
   "outputs": [],
   "source": [
    "df[\"Uncertainty_E\"] = df[\"dEnergy\"]/df[\"Energy\"]\n",
    "df[\"Uncertainty_D\"] = df[\"dData\"]/df[\"Data\"]\n",
    "df[\"Uncertainty_ELV\"] = df[\"dELV/HL\"]/df[\"ELV/HL\"]"
   ]
  },
  {
   "cell_type": "code",
   "execution_count": 163,
   "metadata": {
    "ExecuteTime": {
     "end_time": "2020-04-01T19:16:27.891956Z",
     "start_time": "2020-04-01T19:16:23.906912Z"
    }
   },
   "outputs": [],
   "source": [
    "df_copy = df.copy()"
   ]
  },
  {
   "cell_type": "code",
   "execution_count": 68,
   "metadata": {
    "ExecuteTime": {
     "end_time": "2020-04-01T17:53:43.163481Z",
     "start_time": "2020-04-01T17:53:40.199110Z"
    }
   },
   "outputs": [],
   "source": [
    "df = df_copy.copy()"
   ]
  },
  {
   "cell_type": "code",
   "execution_count": 164,
   "metadata": {
    "ExecuteTime": {
     "end_time": "2020-04-01T19:16:29.830559Z",
     "start_time": "2020-04-01T19:16:29.826558Z"
    }
   },
   "outputs": [
    {
     "data": {
      "text/plain": [
       "(4644791, 89)"
      ]
     },
     "execution_count": 164,
     "metadata": {},
     "output_type": "execute_result"
    }
   ],
   "source": [
    "df.shape"
   ]
  },
  {
   "cell_type": "code",
   "execution_count": 165,
   "metadata": {
    "ExecuteTime": {
     "end_time": "2020-04-01T19:16:33.795044Z",
     "start_time": "2020-04-01T19:16:33.698558Z"
    }
   },
   "outputs": [
    {
     "data": {
      "text/plain": [
       "Uncertainty_E      3919001\n",
       "Uncertainty_D       830521\n",
       "Uncertainty_ELV    4634484\n",
       "dtype: int64"
      ]
     },
     "execution_count": 165,
     "metadata": {},
     "output_type": "execute_result"
    }
   ],
   "source": [
    "df[[\"Uncertainty_E\", \"Uncertainty_D\", \"Uncertainty_ELV\"]].isna().sum()"
   ]
  },
  {
   "cell_type": "markdown",
   "metadata": {},
   "source": [
    "### Fill by Reaction Channel"
   ]
  },
  {
   "cell_type": "code",
   "execution_count": 166,
   "metadata": {
    "ExecuteTime": {
     "end_time": "2020-04-01T19:17:00.728648Z",
     "start_time": "2020-04-01T19:16:56.129640Z"
    }
   },
   "outputs": [],
   "source": [
    "df[\"Uncertainty_E\"] = df[[\"MT\", \"Uncertainty_E\"]].groupby(\"MT\").transform(lambda x: x.fillna(x.mean()))\n",
    "df[\"Uncertainty_D\"] = df[[\"MT\", \"Uncertainty_D\"]].groupby(\"MT\").transform(lambda x: x.fillna(x.mean()))\n",
    "df[\"Uncertainty_ELV\"] = df[[\"MT\", \"Uncertainty_ELV\"]].groupby(\"MT\").transform(lambda x: x.fillna(x.mean()))"
   ]
  },
  {
   "cell_type": "code",
   "execution_count": 167,
   "metadata": {
    "ExecuteTime": {
     "end_time": "2020-04-01T19:17:00.833681Z",
     "start_time": "2020-04-01T19:17:00.730649Z"
    }
   },
   "outputs": [
    {
     "data": {
      "text/plain": [
       "Uncertainty_E           19\n",
       "Uncertainty_D            0\n",
       "Uncertainty_ELV    3942539\n",
       "dtype: int64"
      ]
     },
     "execution_count": 167,
     "metadata": {},
     "output_type": "execute_result"
    }
   ],
   "source": [
    "df[[\"Uncertainty_E\", \"Uncertainty_D\", \"Uncertainty_ELV\"]].isna().sum()"
   ]
  },
  {
   "cell_type": "markdown",
   "metadata": {},
   "source": [
    "### Fill by Institute"
   ]
  },
  {
   "cell_type": "code",
   "execution_count": 168,
   "metadata": {
    "ExecuteTime": {
     "end_time": "2020-04-01T19:17:08.237365Z",
     "start_time": "2020-04-01T19:17:03.626090Z"
    },
    "scrolled": true
   },
   "outputs": [],
   "source": [
    "df[\"Uncertainty_E\"] = df[[\"Institute\", \"Uncertainty_E\"]].groupby(\"Institute\").transform(lambda x: x.fillna(x.mean()))\n",
    "df[\"Uncertainty_D\"] = df[[\"Institute\", \"Uncertainty_D\"]].groupby(\"Institute\").transform(lambda x: x.fillna(x.mean()))\n",
    "df[\"Uncertainty_ELV\"] = df[[\"Institute\", \"Uncertainty_ELV\"]].groupby(\"Institute\").transform(lambda x: x.fillna(x.mean()))"
   ]
  },
  {
   "cell_type": "code",
   "execution_count": 169,
   "metadata": {
    "ExecuteTime": {
     "end_time": "2020-04-01T19:17:08.984445Z",
     "start_time": "2020-04-01T19:17:08.882422Z"
    },
    "scrolled": true
   },
   "outputs": [
    {
     "data": {
      "text/plain": [
       "Uncertainty_E           0\n",
       "Uncertainty_D           0\n",
       "Uncertainty_ELV    109691\n",
       "dtype: int64"
      ]
     },
     "execution_count": 169,
     "metadata": {},
     "output_type": "execute_result"
    }
   ],
   "source": [
    "df[[\"Uncertainty_E\", \"Uncertainty_D\", \"Uncertainty_ELV\"]].isna().sum()"
   ]
  },
  {
   "cell_type": "markdown",
   "metadata": {},
   "source": [
    "### Fill by Isotope"
   ]
  },
  {
   "cell_type": "code",
   "execution_count": 170,
   "metadata": {
    "ExecuteTime": {
     "end_time": "2020-04-01T19:17:18.451349Z",
     "start_time": "2020-04-01T19:17:13.033783Z"
    }
   },
   "outputs": [],
   "source": [
    "df[\"Uncertainty_E\"] = df[[\"Element_w_A\", \"Uncertainty_E\"]].groupby(\"Element_w_A\").transform(lambda x: x.fillna(x.mean()))\n",
    "df[\"Uncertainty_D\"] = df[[\"Element_w_A\", \"Uncertainty_D\"]].groupby(\"Element_w_A\").transform(lambda x: x.fillna(x.mean()))\n",
    "df[\"Uncertainty_ELV\"] = df[[\"Element_w_A\", \"Uncertainty_ELV\"]].groupby(\"Element_w_A\").transform(lambda x: x.fillna(x.mean()))"
   ]
  },
  {
   "cell_type": "code",
   "execution_count": 171,
   "metadata": {
    "ExecuteTime": {
     "end_time": "2020-04-01T19:17:18.560365Z",
     "start_time": "2020-04-01T19:17:18.452350Z"
    }
   },
   "outputs": [
    {
     "data": {
      "text/plain": [
       "Uncertainty_E      0\n",
       "Uncertainty_D      0\n",
       "Uncertainty_ELV    8\n",
       "dtype: int64"
      ]
     },
     "execution_count": 171,
     "metadata": {},
     "output_type": "execute_result"
    }
   ],
   "source": [
    "df[[\"Uncertainty_E\", \"Uncertainty_D\", \"Uncertainty_ELV\"]].isna().sum()"
   ]
  },
  {
   "cell_type": "code",
   "execution_count": 172,
   "metadata": {
    "ExecuteTime": {
     "end_time": "2020-04-01T19:17:23.061911Z",
     "start_time": "2020-04-01T19:17:21.875785Z"
    }
   },
   "outputs": [],
   "source": [
    "df[\"Uncertainty_ELV\"] = df[[\"I78\", \"Uncertainty_ELV\"]].groupby(\"I78\").transform(lambda x: x.fillna(x.mean()))"
   ]
  },
  {
   "cell_type": "code",
   "execution_count": 173,
   "metadata": {
    "ExecuteTime": {
     "end_time": "2020-04-01T19:17:23.173946Z",
     "start_time": "2020-04-01T19:17:23.063915Z"
    }
   },
   "outputs": [
    {
     "data": {
      "text/plain": [
       "Uncertainty_E      0\n",
       "Uncertainty_D      0\n",
       "Uncertainty_ELV    0\n",
       "dtype: int64"
      ]
     },
     "execution_count": 173,
     "metadata": {},
     "output_type": "execute_result"
    }
   ],
   "source": [
    "df[[\"Uncertainty_E\", \"Uncertainty_D\", \"Uncertainty_ELV\"]].isna().sum()"
   ]
  },
  {
   "cell_type": "code",
   "execution_count": 174,
   "metadata": {
    "ExecuteTime": {
     "end_time": "2020-04-01T19:17:24.823317Z",
     "start_time": "2020-04-01T19:17:24.818325Z"
    }
   },
   "outputs": [
    {
     "data": {
      "text/plain": [
       "(4644791, 89)"
      ]
     },
     "execution_count": 174,
     "metadata": {},
     "output_type": "execute_result"
    }
   ],
   "source": [
    "df.shape"
   ]
  },
  {
   "cell_type": "markdown",
   "metadata": {},
   "source": [
    "### Having Filled Uncertainty Fraction Values let us fill the actual Uncertainties"
   ]
  },
  {
   "cell_type": "code",
   "execution_count": 175,
   "metadata": {
    "ExecuteTime": {
     "end_time": "2020-04-01T19:17:31.851013Z",
     "start_time": "2020-04-01T19:17:31.745989Z"
    }
   },
   "outputs": [
    {
     "data": {
      "text/plain": [
       "dEnergy    3919001\n",
       "dData       830521\n",
       "dELV/HL    4634415\n",
       "dtype: int64"
      ]
     },
     "execution_count": 175,
     "metadata": {},
     "output_type": "execute_result"
    }
   ],
   "source": [
    "df[[\"dEnergy\", \"dData\", \"dELV/HL\"]].isna().sum()"
   ]
  },
  {
   "cell_type": "code",
   "execution_count": 176,
   "metadata": {
    "ExecuteTime": {
     "end_time": "2020-04-01T19:17:39.629690Z",
     "start_time": "2020-04-01T19:17:39.283200Z"
    }
   },
   "outputs": [],
   "source": [
    "df.dEnergy = df.dEnergy.fillna(df.Energy * df.Uncertainty_E)\n",
    "df.dData = df.dData.fillna(df.Data * df.Uncertainty_D)\n",
    "df[\"dELV/HL\"] = df[\"dELV/HL\"].fillna(df[\"ELV/HL\"] * df[\"Uncertainty_ELV\"])"
   ]
  },
  {
   "cell_type": "code",
   "execution_count": 177,
   "metadata": {
    "ExecuteTime": {
     "end_time": "2020-04-01T19:17:41.439193Z",
     "start_time": "2020-04-01T19:17:41.370185Z"
    }
   },
   "outputs": [],
   "source": [
    "df.Uncertainty_D = df.Uncertainty_D.replace(to_replace=np.inf, value=0)"
   ]
  },
  {
   "cell_type": "code",
   "execution_count": 178,
   "metadata": {
    "ExecuteTime": {
     "end_time": "2020-04-01T19:17:42.615359Z",
     "start_time": "2020-04-01T19:17:42.466326Z"
    }
   },
   "outputs": [],
   "source": [
    "df.dData = df.dData.replace(to_replace=np.nan, value=0)\n",
    "df[\"dELV/HL\"] = df[\"dELV/HL\"].replace(to_replace=np.nan, value=0)"
   ]
  },
  {
   "cell_type": "code",
   "execution_count": 179,
   "metadata": {
    "ExecuteTime": {
     "end_time": "2020-04-01T19:17:43.443930Z",
     "start_time": "2020-04-01T19:17:43.346908Z"
    }
   },
   "outputs": [
    {
     "data": {
      "text/plain": [
       "dEnergy    0\n",
       "dData      0\n",
       "dELV/HL    0\n",
       "dtype: int64"
      ]
     },
     "execution_count": 179,
     "metadata": {},
     "output_type": "execute_result"
    }
   ],
   "source": [
    "df[[\"dEnergy\", \"dData\", \"dELV/HL\"]].isna().sum()"
   ]
  },
  {
   "cell_type": "code",
   "execution_count": 180,
   "metadata": {
    "ExecuteTime": {
     "end_time": "2020-04-01T19:17:45.291024Z",
     "start_time": "2020-04-01T19:17:45.218494Z"
    }
   },
   "outputs": [],
   "source": [
    "df[\"ELV/HL\"] = df[\"ELV/HL\"].replace(to_replace=np.nan, value=0)"
   ]
  },
  {
   "cell_type": "code",
   "execution_count": 181,
   "metadata": {
    "ExecuteTime": {
     "end_time": "2020-04-01T19:17:55.109003Z",
     "start_time": "2020-04-01T19:17:50.058560Z"
    }
   },
   "outputs": [],
   "source": [
    "df.fillna(value=0, inplace=True)"
   ]
  },
  {
   "cell_type": "code",
   "execution_count": 182,
   "metadata": {
    "ExecuteTime": {
     "end_time": "2020-04-01T19:17:55.116005Z",
     "start_time": "2020-04-01T19:17:55.110995Z"
    }
   },
   "outputs": [
    {
     "data": {
      "text/plain": [
       "Index(['Target_Meta_State', 'MT', 'Energy', 'dEnergy', 'Data', 'dData',\n",
       "       'ELV/HL', 'dELV/HL', 'I78', 'EntrySubP', 'Protons',\n",
       "       'Product_Meta_State', 'EXFOR_Status', 'Frame', 'Reaction_Notation',\n",
       "       'Title', 'Year', 'Institute', 'Date', 'Reference', 'Out', 'Neutrons',\n",
       "       'Mass_Number', 'Element', 'Origin', 'Mass_Excess', 'dMass_Excess',\n",
       "       'Binding_Energy', 'dBinding_Energy', 'B_Decay_Energy',\n",
       "       'dB_Decay_Energy', 'Atomic_Mass_Micro', 'dAtomic_Mass_Micro', 'S(2n)',\n",
       "       'dS(2n)', 'S(2p)', 'dS(2p)', 'Q(a)', 'dQ(a)', 'Q(2B-)', 'dQ(2B-)',\n",
       "       'Q(ep)', 'dQ(ep)', 'Q(B-n)', 'dQ(B-n)', 'S(n)', 'dS(n)', 'S(p)',\n",
       "       'dS(p)', 'Q(4B-)', 'dQ(4B-)', 'Q(d,a)', 'dQ(d,a)', 'Q(p,a)', 'dQ(p,a)',\n",
       "       'Q(n,a)', 'dQ(n,a)', 'Q(g,p)', 'Q(g,n)', 'Q(g,pn)', 'Q(g,d)', 'Q(g,t)',\n",
       "       'Q(g,He3)', 'Q(g,2p)', 'Q(g,2n)', 'Q(g,a)', 'Q(p,n)', 'Q(p,2p)',\n",
       "       'Q(p,pn)', 'Q(p,d)', 'Q(p,2n)', 'Q(p,t)', 'Q(p,3He)', 'Q(n,2p)',\n",
       "       'Q(n,np)', 'Q(n,d)', 'Q(n,2n)', 'Q(n,t)', 'Q(n,3He)', 'Q(d,t)',\n",
       "       'Q(d,3He)', 'Q(3He,t)', 'Q(3He,a)', 'Q(t,a)', 'Flag', 'Element_w_A',\n",
       "       'Uncertainty_E', 'Uncertainty_D', 'Uncertainty_ELV'],\n",
       "      dtype='object')"
      ]
     },
     "execution_count": 182,
     "metadata": {},
     "output_type": "execute_result"
    }
   ],
   "source": [
    "df.columns"
   ]
  },
  {
   "cell_type": "code",
   "execution_count": 183,
   "metadata": {
    "ExecuteTime": {
     "end_time": "2020-04-01T19:17:59.795785Z",
     "start_time": "2020-04-01T19:17:59.562582Z"
    }
   },
   "outputs": [],
   "source": [
    "df[\"Nuc_Radius_fm\"] = 1.25 * np.power(df[\"Mass_Number\"], 1/3)\n",
    "df[\"Neut_Nuc_Rad_Ratio\"] = 0.8 / df[\"Nuc_Radius_fm\"]"
   ]
  },
  {
   "cell_type": "code",
   "execution_count": 184,
   "metadata": {
    "ExecuteTime": {
     "end_time": "2020-04-01T19:18:07.683267Z",
     "start_time": "2020-04-01T19:18:02.946595Z"
    }
   },
   "outputs": [
    {
     "data": {
      "text/plain": [
       "(311512, 91)"
      ]
     },
     "execution_count": 184,
     "metadata": {},
     "output_type": "execute_result"
    }
   ],
   "source": [
    "df[df.Reaction_Notation.str.contains(\"RAW\")].shape"
   ]
  },
  {
   "cell_type": "markdown",
   "metadata": {},
   "source": [
    "# Ordering and Renaming"
   ]
  },
  {
   "cell_type": "code",
   "execution_count": 185,
   "metadata": {
    "ExecuteTime": {
     "end_time": "2020-04-01T19:23:04.603176Z",
     "start_time": "2020-04-01T19:23:04.597183Z"
    }
   },
   "outputs": [],
   "source": [
    "# Use this for ordering\n",
    "new_order = list(df.columns)[:24]\n",
    "new_order_2 = list(df.columns)[-7:]\n",
    "new_order.extend(new_order_2)\n",
    "nuclear_data_target = list(df.columns)[24:-7]\n",
    "new_order.extend(nuclear_data_target)\n",
    "\n",
    "# use these for renaming\n",
    "nuclear_data_target_cols = [\"Target_\" + s for s in nuclear_data_target]"
   ]
  },
  {
   "cell_type": "code",
   "execution_count": 186,
   "metadata": {
    "ExecuteTime": {
     "end_time": "2020-04-01T19:23:08.272847Z",
     "start_time": "2020-04-01T19:23:06.027182Z"
    }
   },
   "outputs": [],
   "source": [
    "df = df[new_order]"
   ]
  },
  {
   "cell_type": "code",
   "execution_count": 188,
   "metadata": {
    "ExecuteTime": {
     "end_time": "2020-04-01T19:23:18.335822Z",
     "start_time": "2020-04-01T19:23:18.330820Z"
    }
   },
   "outputs": [
    {
     "data": {
      "text/plain": [
       "Index(['Target_Meta_State', 'MT', 'Energy', 'dEnergy', 'Data', 'dData',\n",
       "       'ELV/HL', 'dELV/HL', 'I78', 'EntrySubP', 'Protons',\n",
       "       'Product_Meta_State', 'EXFOR_Status', 'Frame', 'Reaction_Notation',\n",
       "       'Title', 'Year', 'Institute', 'Date', 'Reference', 'Out', 'Neutrons',\n",
       "       'Mass_Number', 'Element', 'Flag', 'Element_w_A', 'Uncertainty_E',\n",
       "       'Uncertainty_D', 'Uncertainty_ELV', 'Nuc_Radius_fm',\n",
       "       'Neut_Nuc_Rad_Ratio', 'Origin', 'Mass_Excess', 'dMass_Excess',\n",
       "       'Binding_Energy', 'dBinding_Energy', 'B_Decay_Energy',\n",
       "       'dB_Decay_Energy', 'Atomic_Mass_Micro', 'dAtomic_Mass_Micro', 'S(2n)',\n",
       "       'dS(2n)', 'S(2p)', 'dS(2p)', 'Q(a)', 'dQ(a)', 'Q(2B-)', 'dQ(2B-)',\n",
       "       'Q(ep)', 'dQ(ep)', 'Q(B-n)', 'dQ(B-n)', 'S(n)', 'dS(n)', 'S(p)',\n",
       "       'dS(p)', 'Q(4B-)', 'dQ(4B-)', 'Q(d,a)', 'dQ(d,a)', 'Q(p,a)', 'dQ(p,a)',\n",
       "       'Q(n,a)', 'dQ(n,a)', 'Q(g,p)', 'Q(g,n)', 'Q(g,pn)', 'Q(g,d)', 'Q(g,t)',\n",
       "       'Q(g,He3)', 'Q(g,2p)', 'Q(g,2n)', 'Q(g,a)', 'Q(p,n)', 'Q(p,2p)',\n",
       "       'Q(p,pn)', 'Q(p,d)', 'Q(p,2n)', 'Q(p,t)', 'Q(p,3He)', 'Q(n,2p)',\n",
       "       'Q(n,np)', 'Q(n,d)', 'Q(n,2n)', 'Q(n,t)', 'Q(n,3He)', 'Q(d,t)',\n",
       "       'Q(d,3He)', 'Q(3He,t)', 'Q(3He,a)', 'Q(t,a)'],\n",
       "      dtype='object')"
      ]
     },
     "execution_count": 188,
     "metadata": {},
     "output_type": "execute_result"
    }
   ],
   "source": [
    "df.columns"
   ]
  },
  {
   "cell_type": "code",
   "execution_count": 189,
   "metadata": {
    "ExecuteTime": {
     "end_time": "2020-04-01T19:23:26.850156Z",
     "start_time": "2020-04-01T19:23:20.163059Z"
    }
   },
   "outputs": [],
   "source": [
    "df = df.rename(columns={\"Protons\":\"Target_Protons\", \"Neutrons\":\"Target_Neutrons\", \n",
    "                        \"Mass_Number\":\"Target_Mass_Number\", \"Element\":\"Target_Element\", \n",
    "                        \"Flag\": \"Target_Flag\", \"Nuc_Radius_fm\":\"Target_Radius\", \n",
    "                        \"Neut_Nuc_Rad_Ratio\":\"Target_Neut_Rad_Ratio\", \"Element_w_A\":\"Target_Element_w_A\"})\n",
    "df = df.drop(columns=[\"Uncertainty_D\", \"Uncertainty_E\", \"Uncertainty_ELV\"])"
   ]
  },
  {
   "cell_type": "code",
   "execution_count": 190,
   "metadata": {
    "ExecuteTime": {
     "end_time": "2020-04-01T19:23:28.007438Z",
     "start_time": "2020-04-01T19:23:28.003429Z"
    }
   },
   "outputs": [],
   "source": [
    "new_order = list(df.columns)[:28]\n",
    "nuclear_data_target = list(df.columns)[28:]\n",
    "nuclear_data_target_cols = [\"Target_\" + s for s in nuclear_data_target]\n",
    "new_order.extend(nuclear_data_target_cols)"
   ]
  },
  {
   "cell_type": "code",
   "execution_count": 191,
   "metadata": {
    "ExecuteTime": {
     "end_time": "2020-04-01T19:23:31.030638Z",
     "start_time": "2020-04-01T19:23:31.027637Z"
    }
   },
   "outputs": [],
   "source": [
    "df.columns = new_order"
   ]
  },
  {
   "cell_type": "markdown",
   "metadata": {},
   "source": [
    "# Adding Compound Nucleus Info"
   ]
  },
  {
   "cell_type": "code",
   "execution_count": 192,
   "metadata": {
    "ExecuteTime": {
     "end_time": "2020-04-01T19:51:13.440495Z",
     "start_time": "2020-04-01T19:51:13.384485Z"
    }
   },
   "outputs": [],
   "source": [
    "df[\"Compound_Neutrons\"] = df.Target_Neutrons + 1\n",
    "df[\"Compound_Mass_Number\"] = df.Target_Mass_Number + 1\n",
    "df[\"Compound_Protons\"] = df.Target_Protons"
   ]
  },
  {
   "cell_type": "code",
   "execution_count": 193,
   "metadata": {
    "ExecuteTime": {
     "end_time": "2020-04-01T19:51:18.520486Z",
     "start_time": "2020-04-01T19:51:15.929128Z"
    }
   },
   "outputs": [],
   "source": [
    "df_copy = df.copy()"
   ]
  },
  {
   "cell_type": "code",
   "execution_count": 194,
   "metadata": {
    "ExecuteTime": {
     "end_time": "2020-04-01T19:51:20.650663Z",
     "start_time": "2020-04-01T19:51:20.217105Z"
    }
   },
   "outputs": [],
   "source": [
    "masses = pd.read_csv(ame_dir + \"/AME_Isotopic_Properties_no_NaN.csv\")\n",
    "masses = masses[masses.Flag == \"I\"]\n",
    "masses = masses.drop(columns=[\"Neutrons\", \"Mass_Number\", \"Flag\"])\n",
    "masses = masses.rename(columns={'N': 'Neutrons', 'A': 'Mass_Number', \"Z\":\"Protons\", \"O\":\"Origin\"})"
   ]
  },
  {
   "cell_type": "code",
   "execution_count": 195,
   "metadata": {
    "ExecuteTime": {
     "end_time": "2020-04-01T19:51:39.133734Z",
     "start_time": "2020-04-01T19:51:39.129733Z"
    }
   },
   "outputs": [],
   "source": [
    "nuclear_data_compound = list(masses.columns)\n",
    "nuclear_data_compound_cols = [\"Compound_\" + s for s in nuclear_data_compound]"
   ]
  },
  {
   "cell_type": "code",
   "execution_count": 196,
   "metadata": {
    "ExecuteTime": {
     "end_time": "2020-04-01T19:51:40.587356Z",
     "start_time": "2020-04-01T19:51:40.584355Z"
    }
   },
   "outputs": [],
   "source": [
    "masses.columns = nuclear_data_compound_cols"
   ]
  },
  {
   "cell_type": "code",
   "execution_count": 197,
   "metadata": {
    "ExecuteTime": {
     "end_time": "2020-04-01T19:51:41.637366Z",
     "start_time": "2020-04-01T19:51:41.596357Z"
    }
   },
   "outputs": [
    {
     "data": {
      "text/html": [
       "<div>\n",
       "<style scoped>\n",
       "    .dataframe tbody tr th:only-of-type {\n",
       "        vertical-align: middle;\n",
       "    }\n",
       "\n",
       "    .dataframe tbody tr th {\n",
       "        vertical-align: top;\n",
       "    }\n",
       "\n",
       "    .dataframe thead th {\n",
       "        text-align: right;\n",
       "    }\n",
       "</style>\n",
       "<table border=\"1\" class=\"dataframe\">\n",
       "  <thead>\n",
       "    <tr style=\"text-align: right;\">\n",
       "      <th></th>\n",
       "      <th>Compound_Neutrons</th>\n",
       "      <th>Compound_Protons</th>\n",
       "      <th>Compound_Mass_Number</th>\n",
       "      <th>Compound_EL</th>\n",
       "      <th>Compound_Origin</th>\n",
       "      <th>Compound_Mass_Excess</th>\n",
       "      <th>Compound_dMass_Excess</th>\n",
       "      <th>Compound_Binding_Energy</th>\n",
       "      <th>Compound_dBinding_Energy</th>\n",
       "      <th>Compound_B_Decay_Energy</th>\n",
       "      <th>Compound_dB_Decay_Energy</th>\n",
       "      <th>Compound_Atomic_Mass_Micro</th>\n",
       "      <th>Compound_dAtomic_Mass_Micro</th>\n",
       "      <th>Compound_S(2n)</th>\n",
       "      <th>Compound_dS(2n)</th>\n",
       "      <th>Compound_S(2p)</th>\n",
       "      <th>Compound_dS(2p)</th>\n",
       "      <th>Compound_Q(a)</th>\n",
       "      <th>Compound_dQ(a)</th>\n",
       "      <th>Compound_Q(2B-)</th>\n",
       "      <th>Compound_dQ(2B-)</th>\n",
       "      <th>Compound_Q(ep)</th>\n",
       "      <th>Compound_dQ(ep)</th>\n",
       "      <th>Compound_Q(B-n)</th>\n",
       "      <th>Compound_dQ(B-n)</th>\n",
       "      <th>Compound_S(n)</th>\n",
       "      <th>Compound_dS(n)</th>\n",
       "      <th>Compound_S(p)</th>\n",
       "      <th>Compound_dS(p)</th>\n",
       "      <th>Compound_Q(4B-)</th>\n",
       "      <th>Compound_dQ(4B-)</th>\n",
       "      <th>Compound_Q(d,a)</th>\n",
       "      <th>Compound_dQ(d,a)</th>\n",
       "      <th>Compound_Q(p,a)</th>\n",
       "      <th>Compound_dQ(p,a)</th>\n",
       "      <th>Compound_Q(n,a)</th>\n",
       "      <th>Compound_dQ(n,a)</th>\n",
       "      <th>Compound_Q(g,p)</th>\n",
       "      <th>Compound_Q(g,n)</th>\n",
       "      <th>Compound_Q(g,pn)</th>\n",
       "      <th>Compound_Q(g,d)</th>\n",
       "      <th>Compound_Q(g,t)</th>\n",
       "      <th>Compound_Q(g,He3)</th>\n",
       "      <th>Compound_Q(g,2p)</th>\n",
       "      <th>Compound_Q(g,2n)</th>\n",
       "      <th>Compound_Q(g,a)</th>\n",
       "      <th>Compound_Q(p,n)</th>\n",
       "      <th>Compound_Q(p,2p)</th>\n",
       "      <th>Compound_Q(p,pn)</th>\n",
       "      <th>Compound_Q(p,d)</th>\n",
       "      <th>Compound_Q(p,2n)</th>\n",
       "      <th>Compound_Q(p,t)</th>\n",
       "      <th>Compound_Q(p,3He)</th>\n",
       "      <th>Compound_Q(n,2p)</th>\n",
       "      <th>Compound_Q(n,np)</th>\n",
       "      <th>Compound_Q(n,d)</th>\n",
       "      <th>Compound_Q(n,2n)</th>\n",
       "      <th>Compound_Q(n,t)</th>\n",
       "      <th>Compound_Q(n,3He)</th>\n",
       "      <th>Compound_Q(d,t)</th>\n",
       "      <th>Compound_Q(d,3He)</th>\n",
       "      <th>Compound_Q(3He,t)</th>\n",
       "      <th>Compound_Q(3He,a)</th>\n",
       "      <th>Compound_Q(t,a)</th>\n",
       "    </tr>\n",
       "  </thead>\n",
       "  <tbody>\n",
       "    <tr>\n",
       "      <th>0</th>\n",
       "      <td>1</td>\n",
       "      <td>0</td>\n",
       "      <td>1</td>\n",
       "      <td>n</td>\n",
       "      <td>Other</td>\n",
       "      <td>8071.31713</td>\n",
       "      <td>0.00046</td>\n",
       "      <td>0.000</td>\n",
       "      <td>0.0</td>\n",
       "      <td>782.347</td>\n",
       "      <td>0.0000</td>\n",
       "      <td>1.008665e+06</td>\n",
       "      <td>0.00049</td>\n",
       "      <td>15404.483723</td>\n",
       "      <td>162.252148</td>\n",
       "      <td>13771.880283</td>\n",
       "      <td>158.524008</td>\n",
       "      <td>-1125.3436</td>\n",
       "      <td>142.081942</td>\n",
       "      <td>-232.1475</td>\n",
       "      <td>160.822700</td>\n",
       "      <td>-6859.135662</td>\n",
       "      <td>158.184195</td>\n",
       "      <td>-7754.629285</td>\n",
       "      <td>161.152354</td>\n",
       "      <td>0.000000</td>\n",
       "      <td>0.000000</td>\n",
       "      <td>6889.086305</td>\n",
       "      <td>162.896488</td>\n",
       "      <td>-343.812798</td>\n",
       "      <td>175.128817</td>\n",
       "      <td>11405.545508</td>\n",
       "      <td>176.651049</td>\n",
       "      <td>5916.436032</td>\n",
       "      <td>171.776354</td>\n",
       "      <td>6730.114706</td>\n",
       "      <td>163.516658</td>\n",
       "      <td>-6889.086305</td>\n",
       "      <td>-0.000000</td>\n",
       "      <td>-14665.548392</td>\n",
       "      <td>-12440.982392</td>\n",
       "      <td>-13897.428868</td>\n",
       "      <td>-13847.504694</td>\n",
       "      <td>-13771.880283</td>\n",
       "      <td>-15404.483723</td>\n",
       "      <td>-1125.3436</td>\n",
       "      <td>0.0005</td>\n",
       "      <td>-6889.086305</td>\n",
       "      <td>-0.000000</td>\n",
       "      <td>2224.566000</td>\n",
       "      <td>-8536.975785</td>\n",
       "      <td>-6922.688823</td>\n",
       "      <td>-6947.507992</td>\n",
       "      <td>-6076.789162</td>\n",
       "      <td>-6889.086305</td>\n",
       "      <td>-4664.520305</td>\n",
       "      <td>-0.000000</td>\n",
       "      <td>-6183.753392</td>\n",
       "      <td>-6053.839883</td>\n",
       "      <td>6257.229000</td>\n",
       "      <td>-1395.611905</td>\n",
       "      <td>763.755</td>\n",
       "      <td>20577.619400</td>\n",
       "      <td>12924.778595</td>\n",
       "    </tr>\n",
       "    <tr>\n",
       "      <th>1</th>\n",
       "      <td>0</td>\n",
       "      <td>1</td>\n",
       "      <td>1</td>\n",
       "      <td>H</td>\n",
       "      <td>Other</td>\n",
       "      <td>7288.97061</td>\n",
       "      <td>0.00009</td>\n",
       "      <td>0.000</td>\n",
       "      <td>0.0</td>\n",
       "      <td>18244.328</td>\n",
       "      <td>289.9558</td>\n",
       "      <td>1.007825e+06</td>\n",
       "      <td>0.00009</td>\n",
       "      <td>2025.412000</td>\n",
       "      <td>292.506000</td>\n",
       "      <td>13771.880283</td>\n",
       "      <td>158.524008</td>\n",
       "      <td>-1125.3436</td>\n",
       "      <td>142.081942</td>\n",
       "      <td>13762.2680</td>\n",
       "      <td>719.024000</td>\n",
       "      <td>-6859.135662</td>\n",
       "      <td>158.184195</td>\n",
       "      <td>17514.992500</td>\n",
       "      <td>362.087500</td>\n",
       "      <td>1096.973333</td>\n",
       "      <td>256.595000</td>\n",
       "      <td>0.000000</td>\n",
       "      <td>0.000000</td>\n",
       "      <td>8007.500000</td>\n",
       "      <td>1511.500000</td>\n",
       "      <td>20717.915000</td>\n",
       "      <td>0.000000</td>\n",
       "      <td>20613.860000</td>\n",
       "      <td>50.000000</td>\n",
       "      <td>6730.114706</td>\n",
       "      <td>163.516658</td>\n",
       "      <td>-0.000000</td>\n",
       "      <td>-1096.973333</td>\n",
       "      <td>-5353.178900</td>\n",
       "      <td>-3128.612900</td>\n",
       "      <td>799.995100</td>\n",
       "      <td>-13847.504694</td>\n",
       "      <td>-13771.880283</td>\n",
       "      <td>-2025.412000</td>\n",
       "      <td>-1125.3436</td>\n",
       "      <td>17461.9815</td>\n",
       "      <td>-0.000000</td>\n",
       "      <td>-1096.973333</td>\n",
       "      <td>1127.592667</td>\n",
       "      <td>16732.646000</td>\n",
       "      <td>6456.382900</td>\n",
       "      <td>2364.861500</td>\n",
       "      <td>-6076.789162</td>\n",
       "      <td>-0.000000</td>\n",
       "      <td>2224.566000</td>\n",
       "      <td>-1096.973333</td>\n",
       "      <td>3128.616100</td>\n",
       "      <td>-6053.839883</td>\n",
       "      <td>5160.255667</td>\n",
       "      <td>5493.474400</td>\n",
       "      <td>18225.736</td>\n",
       "      <td>19480.646067</td>\n",
       "      <td>19813.864900</td>\n",
       "    </tr>\n",
       "    <tr>\n",
       "      <th>2</th>\n",
       "      <td>1</td>\n",
       "      <td>1</td>\n",
       "      <td>2</td>\n",
       "      <td>H</td>\n",
       "      <td>Other</td>\n",
       "      <td>13135.72176</td>\n",
       "      <td>0.00011</td>\n",
       "      <td>1112.283</td>\n",
       "      <td>0.0</td>\n",
       "      <td>18244.328</td>\n",
       "      <td>289.9558</td>\n",
       "      <td>2.014102e+06</td>\n",
       "      <td>0.00012</td>\n",
       "      <td>2025.412000</td>\n",
       "      <td>292.506000</td>\n",
       "      <td>13771.880283</td>\n",
       "      <td>158.524008</td>\n",
       "      <td>-1125.3436</td>\n",
       "      <td>142.081942</td>\n",
       "      <td>13762.2680</td>\n",
       "      <td>719.024000</td>\n",
       "      <td>-6859.135662</td>\n",
       "      <td>158.184195</td>\n",
       "      <td>17514.992500</td>\n",
       "      <td>362.087500</td>\n",
       "      <td>2224.570000</td>\n",
       "      <td>0.000000</td>\n",
       "      <td>2224.570000</td>\n",
       "      <td>0.000000</td>\n",
       "      <td>8007.500000</td>\n",
       "      <td>1511.500000</td>\n",
       "      <td>23846.530000</td>\n",
       "      <td>0.000000</td>\n",
       "      <td>20613.860000</td>\n",
       "      <td>50.000000</td>\n",
       "      <td>6730.114706</td>\n",
       "      <td>163.516658</td>\n",
       "      <td>-2224.570000</td>\n",
       "      <td>-2224.570000</td>\n",
       "      <td>-2224.563900</td>\n",
       "      <td>0.002100</td>\n",
       "      <td>799.995100</td>\n",
       "      <td>-13847.504694</td>\n",
       "      <td>-13771.880283</td>\n",
       "      <td>-2025.412000</td>\n",
       "      <td>-1125.3436</td>\n",
       "      <td>17461.9815</td>\n",
       "      <td>-2224.570000</td>\n",
       "      <td>-2224.570000</td>\n",
       "      <td>-0.004000</td>\n",
       "      <td>16732.646000</td>\n",
       "      <td>6456.382900</td>\n",
       "      <td>5493.476500</td>\n",
       "      <td>-6076.789162</td>\n",
       "      <td>-2224.570000</td>\n",
       "      <td>-0.004000</td>\n",
       "      <td>-2224.570000</td>\n",
       "      <td>6257.231100</td>\n",
       "      <td>-6053.839883</td>\n",
       "      <td>4032.659000</td>\n",
       "      <td>3268.904400</td>\n",
       "      <td>18225.736</td>\n",
       "      <td>18353.049400</td>\n",
       "      <td>17589.294900</td>\n",
       "    </tr>\n",
       "    <tr>\n",
       "      <th>3</th>\n",
       "      <td>2</td>\n",
       "      <td>1</td>\n",
       "      <td>3</td>\n",
       "      <td>H</td>\n",
       "      <td>Other</td>\n",
       "      <td>14949.80993</td>\n",
       "      <td>0.00022</td>\n",
       "      <td>2827.265</td>\n",
       "      <td>0.0</td>\n",
       "      <td>18.592</td>\n",
       "      <td>0.0000</td>\n",
       "      <td>3.016049e+06</td>\n",
       "      <td>0.00023</td>\n",
       "      <td>8481.790000</td>\n",
       "      <td>0.000000</td>\n",
       "      <td>13771.880283</td>\n",
       "      <td>158.524008</td>\n",
       "      <td>-1125.3436</td>\n",
       "      <td>142.081942</td>\n",
       "      <td>-13717.0000</td>\n",
       "      <td>2000.000000</td>\n",
       "      <td>-6859.135662</td>\n",
       "      <td>158.184195</td>\n",
       "      <td>17514.992500</td>\n",
       "      <td>362.087500</td>\n",
       "      <td>6257.230000</td>\n",
       "      <td>0.000000</td>\n",
       "      <td>1112.285000</td>\n",
       "      <td>0.000000</td>\n",
       "      <td>8007.500000</td>\n",
       "      <td>1511.500000</td>\n",
       "      <td>17589.300000</td>\n",
       "      <td>0.000000</td>\n",
       "      <td>19813.860000</td>\n",
       "      <td>0.000000</td>\n",
       "      <td>6730.114706</td>\n",
       "      <td>163.516658</td>\n",
       "      <td>-1112.285000</td>\n",
       "      <td>-6257.230000</td>\n",
       "      <td>-8481.793900</td>\n",
       "      <td>-6257.227900</td>\n",
       "      <td>-0.004900</td>\n",
       "      <td>-13847.504694</td>\n",
       "      <td>-13771.880283</td>\n",
       "      <td>-8481.790000</td>\n",
       "      <td>-1125.3436</td>\n",
       "      <td>-763.7545</td>\n",
       "      <td>-1112.285000</td>\n",
       "      <td>-6257.230000</td>\n",
       "      <td>-4032.664000</td>\n",
       "      <td>16732.646000</td>\n",
       "      <td>0.004900</td>\n",
       "      <td>-763.753500</td>\n",
       "      <td>-6076.789162</td>\n",
       "      <td>-1112.285000</td>\n",
       "      <td>1112.281000</td>\n",
       "      <td>-6257.230000</td>\n",
       "      <td>0.001100</td>\n",
       "      <td>-6053.839883</td>\n",
       "      <td>-0.001000</td>\n",
       "      <td>4381.189400</td>\n",
       "      <td>0.000</td>\n",
       "      <td>14320.389400</td>\n",
       "      <td>18701.579900</td>\n",
       "    </tr>\n",
       "    <tr>\n",
       "      <th>4</th>\n",
       "      <td>1</td>\n",
       "      <td>2</td>\n",
       "      <td>3</td>\n",
       "      <td>He</td>\n",
       "      <td>Other</td>\n",
       "      <td>14931.21793</td>\n",
       "      <td>0.00021</td>\n",
       "      <td>2572.680</td>\n",
       "      <td>0.0</td>\n",
       "      <td>-13736.000</td>\n",
       "      <td>2000.0000</td>\n",
       "      <td>3.016029e+06</td>\n",
       "      <td>0.00022</td>\n",
       "      <td>4013.160000</td>\n",
       "      <td>30.300000</td>\n",
       "      <td>7718.040000</td>\n",
       "      <td>0.000000</td>\n",
       "      <td>367.5000</td>\n",
       "      <td>10.000000</td>\n",
       "      <td>12743.2050</td>\n",
       "      <td>359.296667</td>\n",
       "      <td>-6859.135662</td>\n",
       "      <td>158.184195</td>\n",
       "      <td>-2571.224286</td>\n",
       "      <td>344.341429</td>\n",
       "      <td>3176.184286</td>\n",
       "      <td>29.417143</td>\n",
       "      <td>5493.470000</td>\n",
       "      <td>0.000000</td>\n",
       "      <td>14022.910000</td>\n",
       "      <td>52.653333</td>\n",
       "      <td>18353.050000</td>\n",
       "      <td>0.000000</td>\n",
       "      <td>4173.344286</td>\n",
       "      <td>210.882857</td>\n",
       "      <td>20577.620000</td>\n",
       "      <td>0.000000</td>\n",
       "      <td>-5493.470000</td>\n",
       "      <td>-3176.184286</td>\n",
       "      <td>-7718.043900</td>\n",
       "      <td>-5493.477900</td>\n",
       "      <td>-15640.520614</td>\n",
       "      <td>0.000600</td>\n",
       "      <td>-7718.040000</td>\n",
       "      <td>-4013.160000</td>\n",
       "      <td>367.5000</td>\n",
       "      <td>-14518.3465</td>\n",
       "      <td>-5493.470000</td>\n",
       "      <td>-3176.184286</td>\n",
       "      <td>-951.618286</td>\n",
       "      <td>-3353.570786</td>\n",
       "      <td>4468.634900</td>\n",
       "      <td>-0.003500</td>\n",
       "      <td>-6076.789162</td>\n",
       "      <td>-5493.470000</td>\n",
       "      <td>-3268.904000</td>\n",
       "      <td>-3176.184286</td>\n",
       "      <td>763.751100</td>\n",
       "      <td>0.000400</td>\n",
       "      <td>3081.044714</td>\n",
       "      <td>0.004400</td>\n",
       "      <td>-13754.592</td>\n",
       "      <td>17401.435114</td>\n",
       "      <td>14320.394900</td>\n",
       "    </tr>\n",
       "  </tbody>\n",
       "</table>\n",
       "</div>"
      ],
      "text/plain": [
       "   Compound_Neutrons  Compound_Protons  Compound_Mass_Number Compound_EL  \\\n",
       "0                  1                 0                     1           n   \n",
       "1                  0                 1                     1           H   \n",
       "2                  1                 1                     2           H   \n",
       "3                  2                 1                     3           H   \n",
       "4                  1                 2                     3          He   \n",
       "\n",
       "  Compound_Origin  Compound_Mass_Excess  Compound_dMass_Excess  \\\n",
       "0           Other            8071.31713                0.00046   \n",
       "1           Other            7288.97061                0.00009   \n",
       "2           Other           13135.72176                0.00011   \n",
       "3           Other           14949.80993                0.00022   \n",
       "4           Other           14931.21793                0.00021   \n",
       "\n",
       "   Compound_Binding_Energy  Compound_dBinding_Energy  Compound_B_Decay_Energy  \\\n",
       "0                    0.000                       0.0                  782.347   \n",
       "1                    0.000                       0.0                18244.328   \n",
       "2                 1112.283                       0.0                18244.328   \n",
       "3                 2827.265                       0.0                   18.592   \n",
       "4                 2572.680                       0.0               -13736.000   \n",
       "\n",
       "   Compound_dB_Decay_Energy  Compound_Atomic_Mass_Micro  \\\n",
       "0                    0.0000                1.008665e+06   \n",
       "1                  289.9558                1.007825e+06   \n",
       "2                  289.9558                2.014102e+06   \n",
       "3                    0.0000                3.016049e+06   \n",
       "4                 2000.0000                3.016029e+06   \n",
       "\n",
       "   Compound_dAtomic_Mass_Micro  Compound_S(2n)  Compound_dS(2n)  \\\n",
       "0                      0.00049    15404.483723       162.252148   \n",
       "1                      0.00009     2025.412000       292.506000   \n",
       "2                      0.00012     2025.412000       292.506000   \n",
       "3                      0.00023     8481.790000         0.000000   \n",
       "4                      0.00022     4013.160000        30.300000   \n",
       "\n",
       "   Compound_S(2p)  Compound_dS(2p)  Compound_Q(a)  Compound_dQ(a)  \\\n",
       "0    13771.880283       158.524008     -1125.3436      142.081942   \n",
       "1    13771.880283       158.524008     -1125.3436      142.081942   \n",
       "2    13771.880283       158.524008     -1125.3436      142.081942   \n",
       "3    13771.880283       158.524008     -1125.3436      142.081942   \n",
       "4     7718.040000         0.000000       367.5000       10.000000   \n",
       "\n",
       "   Compound_Q(2B-)  Compound_dQ(2B-)  Compound_Q(ep)  Compound_dQ(ep)  \\\n",
       "0        -232.1475        160.822700    -6859.135662       158.184195   \n",
       "1       13762.2680        719.024000    -6859.135662       158.184195   \n",
       "2       13762.2680        719.024000    -6859.135662       158.184195   \n",
       "3      -13717.0000       2000.000000    -6859.135662       158.184195   \n",
       "4       12743.2050        359.296667    -6859.135662       158.184195   \n",
       "\n",
       "   Compound_Q(B-n)  Compound_dQ(B-n)  Compound_S(n)  Compound_dS(n)  \\\n",
       "0     -7754.629285        161.152354       0.000000        0.000000   \n",
       "1     17514.992500        362.087500    1096.973333      256.595000   \n",
       "2     17514.992500        362.087500    2224.570000        0.000000   \n",
       "3     17514.992500        362.087500    6257.230000        0.000000   \n",
       "4     -2571.224286        344.341429    3176.184286       29.417143   \n",
       "\n",
       "   Compound_S(p)  Compound_dS(p)  Compound_Q(4B-)  Compound_dQ(4B-)  \\\n",
       "0    6889.086305      162.896488      -343.812798        175.128817   \n",
       "1       0.000000        0.000000      8007.500000       1511.500000   \n",
       "2    2224.570000        0.000000      8007.500000       1511.500000   \n",
       "3    1112.285000        0.000000      8007.500000       1511.500000   \n",
       "4    5493.470000        0.000000     14022.910000         52.653333   \n",
       "\n",
       "   Compound_Q(d,a)  Compound_dQ(d,a)  Compound_Q(p,a)  Compound_dQ(p,a)  \\\n",
       "0     11405.545508        176.651049      5916.436032        171.776354   \n",
       "1     20717.915000          0.000000     20613.860000         50.000000   \n",
       "2     23846.530000          0.000000     20613.860000         50.000000   \n",
       "3     17589.300000          0.000000     19813.860000          0.000000   \n",
       "4     18353.050000          0.000000      4173.344286        210.882857   \n",
       "\n",
       "   Compound_Q(n,a)  Compound_dQ(n,a)  Compound_Q(g,p)  Compound_Q(g,n)  \\\n",
       "0      6730.114706        163.516658     -6889.086305        -0.000000   \n",
       "1      6730.114706        163.516658        -0.000000     -1096.973333   \n",
       "2      6730.114706        163.516658     -2224.570000     -2224.570000   \n",
       "3      6730.114706        163.516658     -1112.285000     -6257.230000   \n",
       "4     20577.620000          0.000000     -5493.470000     -3176.184286   \n",
       "\n",
       "   Compound_Q(g,pn)  Compound_Q(g,d)  Compound_Q(g,t)  Compound_Q(g,He3)  \\\n",
       "0     -14665.548392    -12440.982392    -13897.428868      -13847.504694   \n",
       "1      -5353.178900     -3128.612900       799.995100      -13847.504694   \n",
       "2      -2224.563900         0.002100       799.995100      -13847.504694   \n",
       "3      -8481.793900     -6257.227900        -0.004900      -13847.504694   \n",
       "4      -7718.043900     -5493.477900    -15640.520614           0.000600   \n",
       "\n",
       "   Compound_Q(g,2p)  Compound_Q(g,2n)  Compound_Q(g,a)  Compound_Q(p,n)  \\\n",
       "0     -13771.880283     -15404.483723       -1125.3436           0.0005   \n",
       "1     -13771.880283      -2025.412000       -1125.3436       17461.9815   \n",
       "2     -13771.880283      -2025.412000       -1125.3436       17461.9815   \n",
       "3     -13771.880283      -8481.790000       -1125.3436        -763.7545   \n",
       "4      -7718.040000      -4013.160000         367.5000      -14518.3465   \n",
       "\n",
       "   Compound_Q(p,2p)  Compound_Q(p,pn)  Compound_Q(p,d)  Compound_Q(p,2n)  \\\n",
       "0      -6889.086305         -0.000000      2224.566000      -8536.975785   \n",
       "1         -0.000000      -1096.973333      1127.592667      16732.646000   \n",
       "2      -2224.570000      -2224.570000        -0.004000      16732.646000   \n",
       "3      -1112.285000      -6257.230000     -4032.664000      16732.646000   \n",
       "4      -5493.470000      -3176.184286      -951.618286      -3353.570786   \n",
       "\n",
       "   Compound_Q(p,t)  Compound_Q(p,3He)  Compound_Q(n,2p)  Compound_Q(n,np)  \\\n",
       "0     -6922.688823       -6947.507992      -6076.789162      -6889.086305   \n",
       "1      6456.382900        2364.861500      -6076.789162         -0.000000   \n",
       "2      6456.382900        5493.476500      -6076.789162      -2224.570000   \n",
       "3         0.004900        -763.753500      -6076.789162      -1112.285000   \n",
       "4      4468.634900          -0.003500      -6076.789162      -5493.470000   \n",
       "\n",
       "   Compound_Q(n,d)  Compound_Q(n,2n)  Compound_Q(n,t)  Compound_Q(n,3He)  \\\n",
       "0     -4664.520305         -0.000000     -6183.753392       -6053.839883   \n",
       "1      2224.566000      -1096.973333      3128.616100       -6053.839883   \n",
       "2        -0.004000      -2224.570000      6257.231100       -6053.839883   \n",
       "3      1112.281000      -6257.230000         0.001100       -6053.839883   \n",
       "4     -3268.904000      -3176.184286       763.751100           0.000400   \n",
       "\n",
       "   Compound_Q(d,t)  Compound_Q(d,3He)  Compound_Q(3He,t)  Compound_Q(3He,a)  \\\n",
       "0      6257.229000       -1395.611905            763.755       20577.619400   \n",
       "1      5160.255667        5493.474400          18225.736       19480.646067   \n",
       "2      4032.659000        3268.904400          18225.736       18353.049400   \n",
       "3        -0.001000        4381.189400              0.000       14320.389400   \n",
       "4      3081.044714           0.004400         -13754.592       17401.435114   \n",
       "\n",
       "   Compound_Q(t,a)  \n",
       "0     12924.778595  \n",
       "1     19813.864900  \n",
       "2     17589.294900  \n",
       "3     18701.579900  \n",
       "4     14320.394900  "
      ]
     },
     "execution_count": 197,
     "metadata": {},
     "output_type": "execute_result"
    }
   ],
   "source": [
    "masses.head()"
   ]
  },
  {
   "cell_type": "code",
   "execution_count": 198,
   "metadata": {
    "ExecuteTime": {
     "end_time": "2020-04-01T19:52:21.938443Z",
     "start_time": "2020-04-01T19:52:00.557346Z"
    }
   },
   "outputs": [],
   "source": [
    "df = df.reset_index(drop=True)\n",
    "masses = masses.reset_index(drop=True)\n",
    "\n",
    "df = df.merge(masses, on=['Compound_Neutrons', 'Compound_Protons'], how='left')"
   ]
  },
  {
   "cell_type": "code",
   "execution_count": 199,
   "metadata": {
    "ExecuteTime": {
     "end_time": "2020-04-01T19:52:33.833186Z",
     "start_time": "2020-04-01T19:52:21.940496Z"
    }
   },
   "outputs": [
    {
     "data": {
      "text/plain": [
       "array(['1n'], dtype=object)"
      ]
     },
     "execution_count": 199,
     "metadata": {},
     "output_type": "execute_result"
    }
   ],
   "source": [
    "df[df.isna().any(axis=1)].Target_Element_w_A.unique()"
   ]
  },
  {
   "cell_type": "code",
   "execution_count": 200,
   "metadata": {
    "ExecuteTime": {
     "end_time": "2020-04-01T19:52:46.452565Z",
     "start_time": "2020-04-01T19:52:36.727867Z"
    }
   },
   "outputs": [],
   "source": [
    "df = df.drop(columns=[\"Compound_Mass_Number_y\"])\n",
    "df = df.rename(columns={'Compound_Mass_Number_x': 'Compound_Mass_Number'})"
   ]
  },
  {
   "cell_type": "code",
   "execution_count": 201,
   "metadata": {
    "ExecuteTime": {
     "end_time": "2020-04-01T19:52:53.003070Z",
     "start_time": "2020-04-01T19:52:50.744734Z"
    }
   },
   "outputs": [],
   "source": [
    "q_value = [col for col in df.columns if 'Q' in col]\n",
    "df = df.drop(columns=q_value)"
   ]
  },
  {
   "cell_type": "code",
   "execution_count": 202,
   "metadata": {
    "ExecuteTime": {
     "end_time": "2020-04-01T19:52:53.788826Z",
     "start_time": "2020-04-01T19:52:53.784834Z"
    }
   },
   "outputs": [
    {
     "data": {
      "text/plain": [
       "(4644791, 66)"
      ]
     },
     "execution_count": 202,
     "metadata": {},
     "output_type": "execute_result"
    }
   ],
   "source": [
    "df.shape"
   ]
  },
  {
   "cell_type": "markdown",
   "metadata": {},
   "source": [
    "# Without RAW Dataset"
   ]
  },
  {
   "cell_type": "code",
   "execution_count": 203,
   "metadata": {
    "ExecuteTime": {
     "end_time": "2020-04-01T19:53:33.868535Z",
     "start_time": "2020-04-01T19:53:27.759879Z"
    }
   },
   "outputs": [
    {
     "data": {
      "text/plain": [
       "(4255409, 66)"
      ]
     },
     "execution_count": 203,
     "metadata": {},
     "output_type": "execute_result"
    }
   ],
   "source": [
    "df_no_raw = df[~df.Reaction_Notation.str.contains(\"RAW\")]\n",
    "\n",
    "df_no_raw = df_no_raw[~(df_no_raw.Data < 0)]\n",
    "\n",
    "df_no_raw.shape"
   ]
  },
  {
   "cell_type": "code",
   "execution_count": 204,
   "metadata": {
    "ExecuteTime": {
     "end_time": "2020-04-01T19:53:50.674313Z",
     "start_time": "2020-04-01T19:53:50.367889Z"
    }
   },
   "outputs": [
    {
     "data": {
      "text/plain": [
       "Other    2181990\n",
       "A        1691538\n",
       "C         231849\n",
       "D         126722\n",
       "P          20622\n",
       "O           2513\n",
       "R            175\n",
       "Name: EXFOR_Status, dtype: int64"
      ]
     },
     "execution_count": 204,
     "metadata": {},
     "output_type": "execute_result"
    }
   ],
   "source": [
    "df_no_raw.EXFOR_Status.value_counts()"
   ]
  },
  {
   "cell_type": "code",
   "execution_count": 205,
   "metadata": {
    "ExecuteTime": {
     "end_time": "2020-04-01T19:58:32.704705Z",
     "start_time": "2020-04-01T19:54:11.656868Z"
    }
   },
   "outputs": [],
   "source": [
    "df_no_raw.to_csv(heavy_dir + \"/EXFOR_neutrons_MF3_AME_no_NaNRaw.csv\", index=False)"
   ]
  },
  {
   "cell_type": "markdown",
   "metadata": {},
   "source": [
    "# Clever NaN Fillings for Compounds"
   ]
  },
  {
   "cell_type": "code",
   "execution_count": 191,
   "metadata": {},
   "outputs": [
    {
     "data": {
      "text/plain": [
       "Index(['Target_Meta_State', 'MT', 'Energy', 'dEnergy', 'Data', 'dData',\n",
       "       'ELV/HL', 'dELV/HL', 'I78', 'EntrySubP', 'Target_Protons',\n",
       "       'Product_Meta_State', 'EXFOR_Status', 'Frame', 'Reaction_Notation',\n",
       "       'Title', 'Year', 'Institute', 'Date', 'Reference', 'Out',\n",
       "       'Target_Neutrons', 'Target_Mass_Number', 'Target_Element',\n",
       "       'Target_Flag', 'Target_Element_w_A', 'Target_Radius',\n",
       "       'Target_Neut_Rad_Ratio', 'Target_Origin', 'Target_Mass_Excess',\n",
       "       'Target_dMass_Excess', 'Target_Binding_Energy',\n",
       "       'Target_dBinding_Energy', 'Target_B_Decay_Energy',\n",
       "       'Target_dB_Decay_Energy', 'Target_Atomic_Mass_Micro',\n",
       "       'Target_dAtomic_Mass_Micro', 'Target_S(2n)', 'Target_dS(2n)',\n",
       "       'Target_S(2p)', 'Target_dS(2p)', 'Target_S(n)', 'Target_dS(n)',\n",
       "       'Target_S(p)', 'Target_dS(p)', 'Compound_Neutrons',\n",
       "       'Compound_Mass_Number', 'Compound_Protons', 'Compound_EL',\n",
       "       'Compound_Origin', 'Compound_Mass_Excess', 'Compound_dMass_Excess',\n",
       "       'Compound_Binding_Energy', 'Compound_dBinding_Energy',\n",
       "       'Compound_B_Decay_Energy', 'Compound_dB_Decay_Energy',\n",
       "       'Compound_Atomic_Mass_Micro', 'Compound_dAtomic_Mass_Micro',\n",
       "       'Compound_S(2n)', 'Compound_dS(2n)', 'Compound_S(2p)',\n",
       "       'Compound_dS(2p)', 'Compound_S(n)', 'Compound_dS(n)', 'Compound_S(p)',\n",
       "       'Compound_dS(p)'],\n",
       "      dtype='object')"
      ]
     },
     "execution_count": 191,
     "metadata": {},
     "output_type": "execute_result"
    }
   ],
   "source": [
    "df.columns"
   ]
  },
  {
   "cell_type": "markdown",
   "metadata": {},
   "source": [
    "- df[df.Type.str.contains(\"WTR\")]\n",
    "- df[df.Type.str.contains(\"BNZ\")]\n",
    "- df[df.Type.str.contains(\"D2O\")]\n",
    "- df[df.Type.str.contains(\"DXX\")]\n",
    "- df[df.Type.str.contains(\"PLE\")]\n",
    "- df[df.Type.str.contains(\"MTH\")]\n",
    "- df[df.Type.str.contains(\"CXX\")]\n",
    "- df[df.Type.str.contains(\"D2O\")]"
   ]
  },
  {
   "cell_type": "code",
   "execution_count": 256,
   "metadata": {},
   "outputs": [],
   "source": [
    "# df = pd.read_csv(\"../ML_Data/working_xs.csv\")\n",
    "\n",
    "# to_fill = list(df.columns)[25:-1]\n",
    "\n",
    "# df.loc[df.Type.str.contains(\"WTR\"), ['Z', 'Neutrons', 'Mass_Number', 'EL', 'Flag']] = 10, 8, 18, \"Water\", \"C\"\n",
    "# df.loc[df.Type.str.contains(\"D2O\"), ['Z', 'Neutrons', 'Mass_Number', 'EL', 'Flag']] = 10, 10, 20, \"Heavy_Water\", \"C\"\n",
    "# df.loc[df.Type.str.contains(\"BNZ\"), ['Z', 'Neutrons', 'Mass_Number', 'EL', 'Flag']] = 42, 36, 78, \"Benzene\", \"C\"\n",
    "\n",
    "# df.loc[(df.Type.str.contains(\"CXX\")) & (df.Title.str.contains(\"ethanol\")), \n",
    "#        ['Z', 'Neutrons', 'Mass_Number', 'EL', 'Flag']] = 26, 20, 46, \"1H_Ethanol\", \"C\"\n",
    "\n",
    "# df.loc[(df.Type.str.contains(\"CXX\")) & (df.Title.str.contains(\"2-propanol\")), \n",
    "#        ['Z', 'Neutrons', 'Mass_Number', 'EL', 'Flag']] = 34, 26, 60, \"1H_Propanol\", \"C\"\n",
    "\n",
    "# df.loc[(df.Type.str.contains(\"DXX\")) & (df.Title.str.contains(\"ethanol\")), \n",
    "#        ['Z', 'Neutrons', 'Mass_Number', 'EL', 'Flag']] = 26, 26, 52, \"2H_Ethanol\", \"C\"\n",
    "\n",
    "# df.loc[(df.Type.str.contains(\"DXX\")) & (df.Title.str.contains(\"2-propanol\")), \n",
    "#        ['Z', 'Neutrons', 'Mass_Number', 'EL', 'Flag']] = 34, 34, 68, \"2H_Propanol\", \"C\"\n",
    "\n",
    "# df.shape\n",
    "\n",
    "# df = df[~df.Type.str.contains(\"PLE\")]\n",
    "# df = df[~df.Type.str.contains(\"MTH\")]\n",
    "\n",
    "# df.shape\n",
    "\n",
    "# oxygen_16 = df[(df.Neutrons == 8) & (df.Z == 8) & (df.Flag == \"I\")][to_fill].drop_duplicates()\n",
    "# hydrogen_1 = df[(df.Neutrons == 0) & (df.Z == 1) & (df.Flag == \"I\")][to_fill].drop_duplicates()\n",
    "# hydrogen_2 = df[(df.Neutrons == 1) & (df.Z == 1) & (df.Flag == \"I\")][to_fill].drop_duplicates()\n",
    "# carbon_12 = df[(df.Neutrons == 6) & (df.Z == 6) & (df.Flag == \"I\")][to_fill].drop_duplicates()\n",
    "\n",
    "# ethanol_1 = (16/46)*oxygen_16.values + (6/46)*hydrogen_1.values + (24/46)*carbon_12.values # 1 ethanol\n",
    "# propanol_1 = (16/60)*oxygen_16.values + (8/60)*hydrogen_1.values + (36/60)*carbon_12.values # 1 propanol\n",
    "# ethanol_2 = (16/52)*oxygen_16.values + (12/52)*hydrogen_2.values + (24/52)*carbon_12.values # 2 ethanol\n",
    "# propanol_2 = (16/68)*oxygen_16.values + (16/68)*hydrogen_2.values + (36/68)*carbon_12.values # 2 propanol\n",
    "# water = (16/18)*oxygen_16.values + (2/18)*hydrogen_1.values # water\n",
    "# heavy_water = (16/20)*oxygen_16.values + (4/20)*hydrogen_2.values # heavywater\n",
    "# benzene = (72/78)*carbon_12.values + (6/78)*hydrogen_1.values # benzene\n",
    "\n",
    "# df.loc[df.Type.str.contains(\"WTR\"), to_fill] = water\n",
    "# df.loc[df.Type.str.contains(\"D2O\"), to_fill] = heavy_water\n",
    "# df.loc[df.Type.str.contains(\"BNZ\"), to_fill] = benzene\n",
    "# df.loc[(df.Type.str.contains(\"CXX\")) & (df.Title.str.contains(\"ethanol\")), to_fill] = ethanol_1\n",
    "# df.loc[(df.Type.str.contains(\"CXX\")) & (df.Title.str.contains(\"2-propanol\")), to_fill] = propanol_1\n",
    "# df.loc[(df.Type.str.contains(\"DXX\")) & (df.Title.str.contains(\"ethanol\")), to_fill] = ethanol_2\n",
    "# df.loc[(df.Type.str.contains(\"DXX\")) & (df.Title.str.contains(\"2-propanol\")), to_fill] = propanol_2\n",
    "\n",
    "# df.loc[df.Type.str.contains(\"WTR\"), \"Atomic_Mass_Micro\"] = 1.801528E7\n",
    "# df.loc[df.Type.str.contains(\"D2O\"), \"Atomic_Mass_Micro\"] = 2.00276E7\n",
    "# df.loc[df.Type.str.contains(\"BNZ\"), \"Atomic_Mass_Micro\"] = 7.811E7\n",
    "# df.loc[(df.Type.str.contains(\"CXX\")) & (df.Title.str.contains(\"ethanol\")), \"Atomic_Mass_Micro\"] = 4.6069E7\n",
    "# df.loc[(df.Type.str.contains(\"CXX\")) & (df.Title.str.contains(\"2-propanol\")), \"Atomic_Mass_Micro\"] = 6.0096E7\n",
    "# df.loc[(df.Type.str.contains(\"DXX\")) & (df.Title.str.contains(\"ethanol\")), \"Atomic_Mass_Micro\"] = 5.2E7\n",
    "# df.loc[(df.Type.str.contains(\"DXX\")) & (df.Title.str.contains(\"2-propanol\")), \"Atomic_Mass_Micro\"] = 6.8E7\n",
    "\n",
    "# df.loc[df.Type.str.contains(\"WTR\"), to_fill] = np.nan\n",
    "# df.loc[df.Type.str.contains(\"D2O\"), to_fill] = np.nan\n",
    "# df.loc[df.Type.str.contains(\"BNZ\"), to_fill] = np.nan\n",
    "# df.loc[(df.Type.str.contains(\"CXX\")) & (df.Title.str.contains(\"ethanol\")), to_fill] = np.nan\n",
    "# df.loc[(df.Type.str.contains(\"CXX\")) & (df.Title.str.contains(\"2-propanol\")), to_fill] = np.nan\n",
    "# df.loc[(df.Type.str.contains(\"DXX\")) & (df.Title.str.contains(\"ethanol\")), to_fill] = np.nan\n",
    "# df.loc[(df.Type.str.contains(\"DXX\")) & (df.Title.str.contains(\"2-propanol\")), to_fill] = np.nan"
   ]
  }
 ],
 "metadata": {
  "kernelspec": {
   "display_name": "Python 3",
   "language": "python",
   "name": "python3"
  },
  "language_info": {
   "codemirror_mode": {
    "name": "ipython",
    "version": 3
   },
   "file_extension": ".py",
   "mimetype": "text/x-python",
   "name": "python",
   "nbconvert_exporter": "python",
   "pygments_lexer": "ipython3",
   "version": "3.7.6"
  }
 },
 "nbformat": 4,
 "nbformat_minor": 4
}
