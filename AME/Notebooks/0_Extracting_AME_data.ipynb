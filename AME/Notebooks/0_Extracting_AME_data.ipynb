{
 "cells": [
  {
   "cell_type": "markdown",
   "metadata": {},
   "source": [
    "# Atomic Mass Evaluation 2016 Data Extraction Processing\n",
    "\n",
    "This notebook is meant to be an internal resource. An extracted version of AME should already be available in the adequate directories. "
   ]
  },
  {
   "cell_type": "code",
   "execution_count": 4,
   "metadata": {
    "ExecuteTime": {
     "end_time": "2021-02-15T18:49:46.934094Z",
     "start_time": "2021-02-15T18:49:46.930085Z"
    }
   },
   "outputs": [],
   "source": [
    "# PROTOTYPE\n",
    "# import sys\n",
    "# import importlib\n",
    "# sys.path.append(\"../..\")"
   ]
  },
  {
   "cell_type": "code",
   "execution_count": 5,
   "metadata": {
    "ExecuteTime": {
     "end_time": "2021-02-15T18:49:47.461365Z",
     "start_time": "2021-02-15T18:49:47.458363Z"
    }
   },
   "outputs": [],
   "source": [
    "import os\n",
    "\n",
    "import nucml.ame.parsing as ame\n",
    "import nucml.datasets as nuc_data"
   ]
  },
  {
   "cell_type": "markdown",
   "metadata": {},
   "source": [
    "###  You can create the original and processed AME files using the `.get_all()` function. (It may take a couple of minutes)"
   ]
  },
  {
   "cell_type": "code",
   "execution_count": 24,
   "metadata": {
    "ExecuteTime": {
     "end_time": "2020-12-30T21:31:55.044360Z",
     "start_time": "2020-12-30T21:30:12.736357Z"
    }
   },
   "outputs": [
    {
     "name": "stderr",
     "output_type": "stream",
     "text": [
      "INFO:root:AME: Requesting data text files.\n",
      "INFO:root:AME: Saving text files in provided directory.\n",
      "INFO:root:MASS16: Reading data from C:\\Users\\Pedro\\Desktop\\ML_Nuclear_Data\\AME\\Originals\\mass16.txt\n",
      "INFO:root:MASS16: Beginning formatting sequences...\n",
      "INFO:root:MASS16: Formatting done. Saving file to C:\\Users\\Pedro\\Desktop\\ML_Nuclear_Data\\AME\\CSV_Files\\AME_mass16.csv\n",
      "INFO:root:MASS16: Succesfully formated mass16.txt file.\n",
      "INFO:root:RCT1: Reading data from C:\\Users\\Pedro\\Desktop\\ML_Nuclear_Data\\AME\\Originals\\rct1-16.txt\n",
      "INFO:root:RCT1: Beginning formatting sequences...\n",
      "INFO:root:RCT1: Formatting done. Saving file to C:\\Users\\Pedro\\Desktop\\ML_Nuclear_Data\\AME\\CSV_Files\\AME_rct1.csv\n",
      "INFO:root:RCT1: Succesfully formated rct1-16.txt file.\n",
      "INFO:root:RCT2: Reading data from C:\\Users\\Pedro\\Desktop\\ML_Nuclear_Data\\AME\\Originals\\rct2-16.txt\n",
      "INFO:root:RCT2: Beginning formatting sequences...\n",
      "INFO:root:RCT2: Formatting done. Saving file to C:\\Users\\Pedro\\Desktop\\ML_Nuclear_Data\\AME\\CSV_Files\\AME_rct2.csv\n",
      "INFO:root:RCT2: Succesfully formated rct2-16.txt file.\n",
      "INFO:root:MERGE: Initializing. Checking documents...\n",
      "INFO:root:MERGE: Files exists. Reading data into dataframes...\n",
      "INFO:root:MERGE: Checking for consistency among files...\n",
      "INFO:root:MERGE: Q-VALUE CALCULATION: ENABLED. Calculating additional reaction energies...\n",
      "INFO:root:MERGE: Formatting done. Saving file to C:\\Users\\Pedro\\Desktop\\ML_Nuclear_Data\\AME\\CSV_Files\\AME_all_merged.csv\n",
      "INFO:root:MERGE: Succesfully merged files.\n",
      "INFO:root:MERGE: Imputing enabled. Interpolating...\n",
      "INFO:root:MERGE: Succesfully merged files. Imputing missing values...\n",
      "INFO:root:FEAT ENG: Initializing. Checking documents...\n",
      "INFO:root:FEAT ENG: Reading data from C:\\Users\\Pedro\\Desktop\\ML_Nuclear_Data\\AME\\CSV_Files\\AME_all_merged.csv\n",
      "INFO:root:FEAT ENG: Reading data from C:\\Users\\Pedro\\Desktop\\ML_Nuclear_Data\\AME\\Originals\\periodic_table.csv\n",
      "INFO:root:FEAT ENG: Beginning data creation...\n",
      "INFO:root:FEAT ENG: Finished creating natural data. Merging with AME...\n",
      "INFO:root:FEAT ENG: Finishing up...\n",
      "INFO:root:FEAT ENG: Saving file to C:\\Users\\Pedro\\Desktop\\ML_Nuclear_Data\\AME\\CSV_Files\\AME_Natural_Properties_w_NaN.csv\n",
      "INFO:root:FEAT ENG: Filling missing values using ELEMENTAL mode\n",
      "INFO:root:FEAT ENG: Filling remaining NaN values with 0...\n",
      "INFO:root:FEAT ENG: Returning features to original data types...\n",
      "INFO:root:FEAT ENG: Saving imputed file to C:\\Users\\Pedro\\Desktop\\ML_Nuclear_Data\\AME\\CSV_Files\\AME_Natural_Properties_no_NaN.csv\n",
      "INFO:root:FEAT ENG: Sucessfully created natural data. Nan values were imputed.\n"
     ]
    }
   ],
   "source": [
    "# MAKE SURE THE DIRECTORIES ARE ALREADY CREATED\n",
    "ame_csv_path = os.path.abspath(\"../../AME/CSV_Files/\")\n",
    "ame_originals_path = os.path.abspath(\"../../AME/Originals/\")\n",
    "\n",
    "ame.get_all(ame_originals_path, ame_csv_path)"
   ]
  },
  {
   "cell_type": "markdown",
   "metadata": {},
   "source": [
    "# ------------ Tutorial - Creating the AME files -----------\n",
    "\n",
    "### The above function .get_all() downloads, parses, and formats the AME. In addition to the original files, it provides various pre-processed files with imputed missing values and even the creation of natural abundant data. This function is composed of 5 main functions:\n",
    "\n",
    "### 0. Download the AME Text Files (mass16, rct1_16, and rct2_16).\n",
    "\n",
    "These original files can be downloaded from http://amdc.impcas.ac.cn/masstables/Ame2016/filel.html. This script automatically downloads the required files to a given path which we are calling ame_originals_path."
   ]
  },
  {
   "cell_type": "code",
   "execution_count": 59,
   "metadata": {
    "ExecuteTime": {
     "end_time": "2020-12-30T19:55:18.296660Z",
     "start_time": "2020-12-30T19:55:14.308058Z"
    }
   },
   "outputs": [
    {
     "name": "stderr",
     "output_type": "stream",
     "text": [
      "INFO:root:AME: Requesting data text files.\n",
      "INFO:root:AME: Saving text files in provided directory.\n"
     ]
    }
   ],
   "source": [
    "ame_csv_path = os.path.abspath(\"../../AME/CSV_Files/\")\n",
    "ame_originals_path = os.path.abspath(\"../../AME/Originals/\")\n",
    "\n",
    "ame.get_ame_originals(ame_originals_path)"
   ]
  },
  {
   "cell_type": "markdown",
   "metadata": {},
   "source": [
    "### 1. Reading and Formating the MASS16 File"
   ]
  },
  {
   "cell_type": "code",
   "execution_count": 45,
   "metadata": {
    "ExecuteTime": {
     "end_time": "2020-04-02T18:42:54.217647Z",
     "start_time": "2020-04-02T18:42:54.090615Z"
    }
   },
   "outputs": [
    {
     "name": "stdout",
     "output_type": "stream",
     "text": [
      "MASS16: Reading /Users/pedrovicentevaldez/Desktop/ML_Nuclear_Data/AME/For_Extraction/mass16_toparse.txt...\n",
      "MASS16: Formatting file...\n",
      "MASS16: Replacing NaNs with np.nan...\n",
      "MASS16: Dropping unnecessary data...\n",
      "MASS16: Saving to /Users/pedrovicentevaldez/Desktop/ML_Nuclear_Data/AME/AME_atomic_masses_v1.csv...\n",
      "MASS16: Finished.\n"
     ]
    }
   ],
   "source": [
    "# Reading and formatting mass16 file\n",
    "ame.read_mass16(ame_originals_path, ame_csv_path)"
   ]
  },
  {
   "cell_type": "markdown",
   "metadata": {},
   "source": [
    "### 2. Reading and Formating RCT1 and RCT2 files"
   ]
  },
  {
   "cell_type": "code",
   "execution_count": 46,
   "metadata": {
    "ExecuteTime": {
     "end_time": "2020-04-02T05:00:39.395929Z",
     "start_time": "2020-04-02T05:00:38.977843Z"
    }
   },
   "outputs": [
    {
     "name": "stdout",
     "output_type": "stream",
     "text": [
      "RCT1: Reading /Users/pedrovicentevaldez/Desktop/ML_Nuclear_Data/AME/For_Extraction/rct1_16_toparse.txt...\n",
      "RCT1: Formatting file...\n",
      "RCT1: Replacing NaNs with np.nan...\n",
      "RCT1: Dropping unnecessary data...\n",
      "RCT1: Saving to /Users/pedrovicentevaldez/Desktop/ML_Nuclear_Data/AME/AME_atomic_masses_v1_rct1.csv...\n",
      "RCT1: Finished.\n",
      "RCT2: Reading /Users/pedrovicentevaldez/Desktop/ML_Nuclear_Data/AME/For_Extraction/rct2_16_toparse.txt...\n",
      "RCT2: Formatting file...\n",
      "RCT2: Replacing NaNs with np.nan...\n",
      "RCT2: Dropping unnecessary data...\n",
      "RCT2: Saving to /Users/pedrovicentevaldez/Desktop/ML_Nuclear_Data/AME/AME_atomic_masses_v1_rct2.csv...\n",
      "RCT2: Finished.\n"
     ]
    }
   ],
   "source": [
    "ame.read_rct1(ame_originals_path, ame_csv_path)\n",
    "ame.read_rct2(ame_originals_path, ame_csv_path)"
   ]
  },
  {
   "cell_type": "markdown",
   "metadata": {},
   "source": [
    "### 3. Merging All Three AMEs Data Files, Adding Q-values, and Creating Imputed Version"
   ]
  },
  {
   "cell_type": "code",
   "execution_count": 47,
   "metadata": {
    "ExecuteTime": {
     "end_time": "2020-04-02T05:00:42.850197Z",
     "start_time": "2020-04-02T05:00:42.546081Z"
    }
   },
   "outputs": [
    {
     "name": "stdout",
     "output_type": "stream",
     "text": [
      "Reading mass16, rct1, and rct2 CSV files...\n",
      "Calculating additional reaction energies...\n",
      "Saving to CSV...\n",
      "Saving to /Users/pedrovicentevaldez/Desktop/ML_Nuclear_Data/AME/AME_atomic_masses_v2.csv...\n",
      "Finished merging CSV files.\n"
     ]
    }
   ],
   "source": [
    "ame.merge_mass_rct(ame_csv_path, add_qvalues=True, create_imputed=True)"
   ]
  },
  {
   "cell_type": "markdown",
   "metadata": {},
   "source": [
    "### 4. Using Periodic Table  Data to Create Natural Elements Data"
   ]
  },
  {
   "cell_type": "code",
   "execution_count": 48,
   "metadata": {
    "ExecuteTime": {
     "end_time": "2020-04-02T05:00:54.766030Z",
     "start_time": "2020-04-02T05:00:47.970719Z"
    }
   },
   "outputs": [
    {
     "name": "stdout",
     "output_type": "stream",
     "text": [
      "Reading /Users/pedrovicentevaldez/Desktop/ML_Nuclear_Data/AME/AME_atomic_masses_v2.csv...\n",
      "Reading /Users/pedrovicentevaldez/Desktop/ML_Nuclear_Data/AME/For_Extraction/periodic_table.csv...\n",
      "Fromating dataframes...\n",
      "Saving natural element information...\n",
      "Flaggint natural and isotopic rows...\n",
      "Saving final CSV file to /Users/pedrovicentevaldez/Desktop/ML_Nuclear_Data/AME/AME_final_properties_w_NaN.csv...\n",
      "Filling missing values using isotopic mode.\n",
      "Saving imputed final CSV file to /Users/pedrovicentevaldez/Desktop/ML_Nuclear_Data/AME/AME_final_properties_no_NaN.csv...\n",
      "Finished.\n"
     ]
    }
   ],
   "source": [
    "ame.create_natural_element_data(ame_originals_path, ame_csv_path, fillna=True)"
   ]
  }
 ],
 "metadata": {
  "kernelspec": {
   "display_name": "Python 3",
   "language": "python",
   "name": "python3"
  },
  "language_info": {
   "codemirror_mode": {
    "name": "ipython",
    "version": 3
   },
   "file_extension": ".py",
   "mimetype": "text/x-python",
   "name": "python",
   "nbconvert_exporter": "python",
   "pygments_lexer": "ipython3",
   "version": "3.8.5"
  }
 },
 "nbformat": 4,
 "nbformat_minor": 4
}
