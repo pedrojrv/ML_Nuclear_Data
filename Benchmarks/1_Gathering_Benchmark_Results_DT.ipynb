{
 "cells": [
  {
   "cell_type": "markdown",
   "metadata": {},
   "source": [
    "# Analyzing Benchmark Results for Validation"
   ]
  },
  {
   "cell_type": "code",
   "execution_count": 1,
   "metadata": {
    "ExecuteTime": {
     "end_time": "2021-04-29T17:39:17.258780Z",
     "start_time": "2021-04-29T17:39:17.254780Z"
    }
   },
   "outputs": [],
   "source": [
    "import sys\n",
    "# This allows us to import the nucml utilities\n",
    "sys.path.append(\"..\")"
   ]
  },
  {
   "cell_type": "code",
   "execution_count": 2,
   "metadata": {
    "ExecuteTime": {
     "end_time": "2021-04-29T17:39:22.004112Z",
     "start_time": "2021-04-29T17:39:17.430249Z"
    }
   },
   "outputs": [],
   "source": [
    "import pandas as pd\n",
    "import seaborn as sns\n",
    "import matplotlib.pyplot as plt\n",
    "import os\n",
    "\n",
    "pd.set_option('display.max_columns', 500)\n",
    "pd.set_option('display.max_rows', 50)\n",
    "pd.options.mode.chained_assignment = None  # default='warn'\n",
    "sns.set_style(\"white\")\n",
    "\n",
    "import nucml.exfor.data_utilities as exfor_utils\n",
    "import nucml.evaluation.data_utilities as endf_utils\n",
    "import nucml.plot.utilities as plot_utils\n",
    "import nucml.datasets as nuc_data\n",
    "import nucml.ace.data_utilities as ace_utils\n",
    "import nucml.model.building_utils as model_building\n",
    "import nucml.model.utilities as model_utils\n",
    "import nucml.general_utilities as gen_utils\n",
    "import nucml.ace.plot as ace_plots"
   ]
  },
  {
   "cell_type": "code",
   "execution_count": 3,
   "metadata": {
    "ExecuteTime": {
     "end_time": "2021-04-29T17:39:22.023112Z",
     "start_time": "2021-04-29T17:39:22.006111Z"
    }
   },
   "outputs": [
    {
     "name": "stdout",
     "output_type": "stream",
     "text": [
      "Finish re-loading scripts.\n"
     ]
    }
   ],
   "source": [
    "import importlib\n",
    "importlib.reload(exfor_utils)\n",
    "importlib.reload(gen_utils)\n",
    "importlib.reload(endf_utils)\n",
    "importlib.reload(plot_utils)\n",
    "importlib.reload(nuc_data)\n",
    "importlib.reload(ace_utils)\n",
    "importlib.reload(model_building)\n",
    "importlib.reload(model_utils)\n",
    "importlib.reload(ace_plots)\n",
    "print(\"Finish re-loading scripts.\")"
   ]
  },
  {
   "cell_type": "code",
   "execution_count": 4,
   "metadata": {
    "ExecuteTime": {
     "end_time": "2021-04-29T17:39:22.029112Z",
     "start_time": "2021-04-29T17:39:22.026113Z"
    }
   },
   "outputs": [],
   "source": [
    "figure_dir = \"figures/B0/\""
   ]
  },
  {
   "cell_type": "code",
   "execution_count": 5,
   "metadata": {
    "ExecuteTime": {
     "end_time": "2021-04-29T17:39:22.034111Z",
     "start_time": "2021-04-29T17:39:22.031111Z"
    }
   },
   "outputs": [],
   "source": [
    "sns.set(font_scale=2.5)\n",
    "sns.set_style('white')"
   ]
  },
  {
   "cell_type": "markdown",
   "metadata": {},
   "source": [
    "## Gathering Results from Benchmark Calculations"
   ]
  },
  {
   "cell_type": "code",
   "execution_count": 6,
   "metadata": {
    "ExecuteTime": {
     "end_time": "2021-04-29T17:39:37.435730Z",
     "start_time": "2021-04-29T17:39:23.093054Z"
    }
   },
   "outputs": [],
   "source": [
    "model_results_b0 = ace_utils.gather_benchmark_results(\"ml/DT_B0/\")\n",
    "model_results_b1 = ace_utils.gather_benchmark_results(\"ml/DT_B1/\")\n",
    "model_results_b2 = ace_utils.gather_benchmark_results(\"ml/DT_B2/\")\n",
    "model_results_b3 = ace_utils.gather_benchmark_results(\"ml/DT_B3/\")\n",
    "model_results_b4 = ace_utils.gather_benchmark_results(\"ml/DT_B4/\")"
   ]
  },
  {
   "cell_type": "markdown",
   "metadata": {},
   "source": [
    "## Analyzing Decision Tree Results"
   ]
  },
  {
   "cell_type": "code",
   "execution_count": 7,
   "metadata": {
    "ExecuteTime": {
     "end_time": "2021-04-29T17:39:37.508374Z",
     "start_time": "2021-04-29T17:39:37.436727Z"
    }
   },
   "outputs": [],
   "source": [
    "results_b0 = pd.read_csv(\"../ML_EXFOR_neutrons/2_DT/dt_resultsB0.csv\").sort_values(by=\"max_depth\")\n",
    "results_b1 = pd.read_csv(\"../ML_EXFOR_neutrons/2_DT/dt_resultsB1.csv\").sort_values(by=\"max_depth\")\n",
    "results_b2 = pd.read_csv(\"../ML_EXFOR_neutrons/2_DT/dt_resultsB2.csv\").sort_values(by=\"max_depth\")\n",
    "results_b3 = pd.read_csv(\"../ML_EXFOR_neutrons/2_DT/dt_resultsB3.csv\").sort_values(by=\"max_depth\")\n",
    "results_b4 = pd.read_csv(\"../ML_EXFOR_neutrons/2_DT/dt_resultsB4.csv\").sort_values(by=\"max_depth\")"
   ]
  },
  {
   "cell_type": "code",
   "execution_count": 8,
   "metadata": {
    "ExecuteTime": {
     "end_time": "2021-04-29T17:39:37.513363Z",
     "start_time": "2021-04-29T17:39:37.509371Z"
    }
   },
   "outputs": [],
   "source": [
    "results_b0 = results_b0[results_b0.normalizer == \"none\"]"
   ]
  },
  {
   "cell_type": "code",
   "execution_count": 9,
   "metadata": {
    "ExecuteTime": {
     "end_time": "2021-04-22T22:01:15.698203Z",
     "start_time": "2021-04-22T22:01:15.688203Z"
    }
   },
   "outputs": [],
   "source": [
    "results_b0['Model'] = results_b0.model_path.apply(lambda x: os.path.basename(os.path.dirname(x)))\n",
    "results_b0['dataset'] = 'b0'\n",
    "\n",
    "\n",
    "results_b1['Model'] = results_b1.model_path.apply(lambda x: os.path.basename(os.path.dirname(x)))\n",
    "results_b1['dataset'] = 'b1'"
   ]
  },
  {
   "cell_type": "code",
   "execution_count": 9,
   "metadata": {
    "ExecuteTime": {
     "end_time": "2021-04-29T17:39:37.547360Z",
     "start_time": "2021-04-29T17:39:37.515359Z"
    }
   },
   "outputs": [],
   "source": [
    "for df, dataset_tag in zip([results_b0, results_b1, results_b2, results_b3, results_b4], [\"b0\", \"b1\", \"b2\", \"b3\", \"b4\"]):\n",
    "    df['Model'] = df.model_path.apply(lambda x: os.path.basename(os.path.dirname(x)))\n",
    "    df['dataset'] = dataset_tag"
   ]
  },
  {
   "cell_type": "code",
   "execution_count": 10,
   "metadata": {
    "ExecuteTime": {
     "end_time": "2021-04-29T17:39:39.017908Z",
     "start_time": "2021-04-29T17:39:39.005919Z"
    }
   },
   "outputs": [],
   "source": [
    "results_b0 = results_b0[[\"Model\", \"train_mae\", \"val_mae\", \"test_mae\", \"max_depth\", \"mss\", \"msl\", \"dataset\"]]\n",
    "results_b1 = results_b1[[\"Model\", \"train_mae\", \"val_mae\", \"test_mae\", \"max_depth\", \"mss\", \"msl\", \"dataset\"]]\n",
    "results_b2 = results_b2[[\"Model\", \"train_mae\", \"val_mae\", \"test_mae\", \"max_depth\", \"mss\", \"msl\", \"dataset\"]]\n",
    "results_b3 = results_b3[[\"Model\", \"train_mae\", \"val_mae\", \"test_mae\", \"max_depth\", \"mss\", \"msl\", \"dataset\"]]\n",
    "results_b4 = results_b4[[\"Model\", \"train_mae\", \"val_mae\", \"test_mae\", \"max_depth\", \"mss\", \"msl\", \"dataset\"]]"
   ]
  },
  {
   "cell_type": "code",
   "execution_count": 11,
   "metadata": {
    "ExecuteTime": {
     "end_time": "2021-04-29T17:39:39.407518Z",
     "start_time": "2021-04-29T17:39:39.388528Z"
    }
   },
   "outputs": [],
   "source": [
    "final_b0 = model_results_b0.merge(results_b0, on=\"Model\")\n",
    "final_b1 = model_results_b1.merge(results_b1, on=\"Model\")\n",
    "final_b2 = model_results_b2.merge(results_b2, on=\"Model\")\n",
    "final_b3 = model_results_b3.merge(results_b3, on=\"Model\")\n",
    "final_b4 = model_results_b4.merge(results_b4, on=\"Model\")"
   ]
  },
  {
   "cell_type": "code",
   "execution_count": 12,
   "metadata": {
    "ExecuteTime": {
     "end_time": "2021-04-29T17:39:41.540295Z",
     "start_time": "2021-04-29T17:39:41.528295Z"
    }
   },
   "outputs": [],
   "source": [
    "# final_set = final_b0.append(final_b1)\n",
    "final_set = final_b0.append(final_b1).append(final_b2).append(final_b3).append(final_b4)"
   ]
  },
  {
   "cell_type": "code",
   "execution_count": 13,
   "metadata": {
    "ExecuteTime": {
     "end_time": "2021-04-29T17:39:42.677808Z",
     "start_time": "2021-04-29T17:39:42.668809Z"
    }
   },
   "outputs": [],
   "source": [
    "u233_002_001 = final_set[final_set.Benchmark == \"U233_MET_FAST_002_001\"].sort_values(by=\"Deviation_Ana\")\n",
    "u233_002_002 = final_set[final_set.Benchmark == \"U233_MET_FAST_002_002\"].sort_values(by=\"Deviation_Ana\")\n",
    "u233_001 = final_set[final_set.Benchmark == \"U233_MET_FAST_001\"].sort_values(by=\"Deviation_Ana\")"
   ]
  },
  {
   "cell_type": "code",
   "execution_count": 14,
   "metadata": {
    "ExecuteTime": {
     "end_time": "2021-04-29T17:39:43.126850Z",
     "start_time": "2021-04-29T17:39:43.117839Z"
    }
   },
   "outputs": [],
   "source": [
    "u233_001.Deviation_Ana = u233_001.Deviation_Ana * 100\n",
    "u233_002_001.Deviation_Ana = u233_002_001.Deviation_Ana * 100\n",
    "u233_002_002.Deviation_Ana = u233_002_002.Deviation_Ana * 100"
   ]
  },
  {
   "cell_type": "code",
   "execution_count": 16,
   "metadata": {
    "ExecuteTime": {
     "end_time": "2021-04-29T17:39:46.329189Z",
     "start_time": "2021-04-29T17:39:46.303192Z"
    }
   },
   "outputs": [
    {
     "data": {
      "text/html": [
       "<div>\n",
       "<style scoped>\n",
       "    .dataframe tbody tr th:only-of-type {\n",
       "        vertical-align: middle;\n",
       "    }\n",
       "\n",
       "    .dataframe tbody tr th {\n",
       "        vertical-align: top;\n",
       "    }\n",
       "\n",
       "    .dataframe thead th {\n",
       "        text-align: right;\n",
       "    }\n",
       "</style>\n",
       "<table border=\"1\" class=\"dataframe\">\n",
       "  <thead>\n",
       "    <tr style=\"text-align: right;\">\n",
       "      <th></th>\n",
       "      <th>Model</th>\n",
       "      <th>Benchmark</th>\n",
       "      <th>K_eff_ana</th>\n",
       "      <th>Unc_ana</th>\n",
       "      <th>K_eff_imp</th>\n",
       "      <th>Unc_imp</th>\n",
       "      <th>Deviation_Ana</th>\n",
       "      <th>Deviation_Imp</th>\n",
       "      <th>train_mae</th>\n",
       "      <th>val_mae</th>\n",
       "      <th>test_mae</th>\n",
       "      <th>max_depth</th>\n",
       "      <th>mss</th>\n",
       "      <th>msl</th>\n",
       "      <th>dataset</th>\n",
       "    </tr>\n",
       "  </thead>\n",
       "  <tbody>\n",
       "    <tr>\n",
       "      <th>138</th>\n",
       "      <td>DT136_MSS5_MSL3_none_one_hot_B0_v1</td>\n",
       "      <td>U233_MET_FAST_001</td>\n",
       "      <td>0.999906</td>\n",
       "      <td>0.00043</td>\n",
       "      <td>0.999979</td>\n",
       "      <td>0.00029</td>\n",
       "      <td>0.000094</td>\n",
       "      <td>0.000021</td>\n",
       "      <td>0.077729</td>\n",
       "      <td>0.123489</td>\n",
       "      <td>0.122285</td>\n",
       "      <td>136</td>\n",
       "      <td>5</td>\n",
       "      <td>3</td>\n",
       "      <td>b0</td>\n",
       "    </tr>\n",
       "    <tr>\n",
       "      <th>90</th>\n",
       "      <td>DT120_MSS5_MSL3_none_one_hot_B0_v1</td>\n",
       "      <td>U233_MET_FAST_001</td>\n",
       "      <td>0.999637</td>\n",
       "      <td>0.00044</td>\n",
       "      <td>0.999427</td>\n",
       "      <td>0.00029</td>\n",
       "      <td>0.000363</td>\n",
       "      <td>0.000573</td>\n",
       "      <td>0.077731</td>\n",
       "      <td>0.123492</td>\n",
       "      <td>0.122258</td>\n",
       "      <td>120</td>\n",
       "      <td>5</td>\n",
       "      <td>3</td>\n",
       "      <td>b0</td>\n",
       "    </tr>\n",
       "    <tr>\n",
       "      <th>30</th>\n",
       "      <td>DT100_MSS5_MSL3_none_one_hot_B0_v1</td>\n",
       "      <td>U233_MET_FAST_001</td>\n",
       "      <td>0.999544</td>\n",
       "      <td>0.00041</td>\n",
       "      <td>0.999753</td>\n",
       "      <td>0.00028</td>\n",
       "      <td>0.000456</td>\n",
       "      <td>0.000247</td>\n",
       "      <td>0.077741</td>\n",
       "      <td>0.123487</td>\n",
       "      <td>0.122248</td>\n",
       "      <td>100</td>\n",
       "      <td>5</td>\n",
       "      <td>3</td>\n",
       "      <td>b0</td>\n",
       "    </tr>\n",
       "    <tr>\n",
       "      <th>543</th>\n",
       "      <td>DT70_MSS5_MSL3_none_one_hot_B0_v1</td>\n",
       "      <td>U233_MET_FAST_001</td>\n",
       "      <td>0.999485</td>\n",
       "      <td>0.00042</td>\n",
       "      <td>0.999519</td>\n",
       "      <td>0.00028</td>\n",
       "      <td>0.000515</td>\n",
       "      <td>0.000481</td>\n",
       "      <td>0.077826</td>\n",
       "      <td>0.123491</td>\n",
       "      <td>0.122261</td>\n",
       "      <td>70</td>\n",
       "      <td>5</td>\n",
       "      <td>3</td>\n",
       "      <td>b0</td>\n",
       "    </tr>\n",
       "    <tr>\n",
       "      <th>171</th>\n",
       "      <td>DT160_MSS2_MSL1_none_one_hot_B0_v1</td>\n",
       "      <td>U233_MET_FAST_001</td>\n",
       "      <td>1.000560</td>\n",
       "      <td>0.00043</td>\n",
       "      <td>1.000950</td>\n",
       "      <td>0.00030</td>\n",
       "      <td>0.000560</td>\n",
       "      <td>0.000950</td>\n",
       "      <td>0.026063</td>\n",
       "      <td>0.136077</td>\n",
       "      <td>0.134881</td>\n",
       "      <td>160</td>\n",
       "      <td>2</td>\n",
       "      <td>1</td>\n",
       "      <td>b0</td>\n",
       "    </tr>\n",
       "    <tr>\n",
       "      <th>...</th>\n",
       "      <td>...</td>\n",
       "      <td>...</td>\n",
       "      <td>...</td>\n",
       "      <td>...</td>\n",
       "      <td>...</td>\n",
       "      <td>...</td>\n",
       "      <td>...</td>\n",
       "      <td>...</td>\n",
       "      <td>...</td>\n",
       "      <td>...</td>\n",
       "      <td>...</td>\n",
       "      <td>...</td>\n",
       "      <td>...</td>\n",
       "      <td>...</td>\n",
       "      <td>...</td>\n",
       "    </tr>\n",
       "    <tr>\n",
       "      <th>573</th>\n",
       "      <td>DT80_MSS15_MSL7_none_one_hot_B0_v1</td>\n",
       "      <td>U233_MET_FAST_001</td>\n",
       "      <td>0.922260</td>\n",
       "      <td>0.00045</td>\n",
       "      <td>0.922855</td>\n",
       "      <td>0.00028</td>\n",
       "      <td>0.077740</td>\n",
       "      <td>0.077145</td>\n",
       "      <td>0.094767</td>\n",
       "      <td>0.119830</td>\n",
       "      <td>0.118782</td>\n",
       "      <td>80</td>\n",
       "      <td>15</td>\n",
       "      <td>7</td>\n",
       "      <td>b0</td>\n",
       "    </tr>\n",
       "    <tr>\n",
       "      <th>615</th>\n",
       "      <td>DT90_MSS15_MSL7_none_one_hot_B0_v1</td>\n",
       "      <td>U233_MET_FAST_001</td>\n",
       "      <td>0.922235</td>\n",
       "      <td>0.00045</td>\n",
       "      <td>0.922366</td>\n",
       "      <td>0.00029</td>\n",
       "      <td>0.077765</td>\n",
       "      <td>0.077634</td>\n",
       "      <td>0.094765</td>\n",
       "      <td>0.119854</td>\n",
       "      <td>0.118781</td>\n",
       "      <td>90</td>\n",
       "      <td>15</td>\n",
       "      <td>7</td>\n",
       "      <td>b0</td>\n",
       "    </tr>\n",
       "    <tr>\n",
       "      <th>558</th>\n",
       "      <td>DT80_MSS10_MSL7_none_one_hot_B0_v1</td>\n",
       "      <td>U233_MET_FAST_001</td>\n",
       "      <td>0.922203</td>\n",
       "      <td>0.00045</td>\n",
       "      <td>0.922167</td>\n",
       "      <td>0.00029</td>\n",
       "      <td>0.077797</td>\n",
       "      <td>0.077833</td>\n",
       "      <td>0.094441</td>\n",
       "      <td>0.119780</td>\n",
       "      <td>0.118716</td>\n",
       "      <td>80</td>\n",
       "      <td>10</td>\n",
       "      <td>7</td>\n",
       "      <td>b0</td>\n",
       "    </tr>\n",
       "    <tr>\n",
       "      <th>21</th>\n",
       "      <td>DT100_MSS15_MSL7_none_one_hot_B0_v1</td>\n",
       "      <td>U233_MET_FAST_001</td>\n",
       "      <td>0.922193</td>\n",
       "      <td>0.00045</td>\n",
       "      <td>0.922638</td>\n",
       "      <td>0.00029</td>\n",
       "      <td>0.077807</td>\n",
       "      <td>0.077362</td>\n",
       "      <td>0.094764</td>\n",
       "      <td>0.119850</td>\n",
       "      <td>0.118794</td>\n",
       "      <td>100</td>\n",
       "      <td>15</td>\n",
       "      <td>7</td>\n",
       "      <td>b0</td>\n",
       "    </tr>\n",
       "    <tr>\n",
       "      <th>483</th>\n",
       "      <td>DT60_MSS10_MSL7_none_one_hot_B0_v1</td>\n",
       "      <td>U233_MET_FAST_001</td>\n",
       "      <td>0.921677</td>\n",
       "      <td>0.00046</td>\n",
       "      <td>0.921989</td>\n",
       "      <td>0.00030</td>\n",
       "      <td>0.078323</td>\n",
       "      <td>0.078011</td>\n",
       "      <td>0.094494</td>\n",
       "      <td>0.119827</td>\n",
       "      <td>0.118714</td>\n",
       "      <td>60</td>\n",
       "      <td>10</td>\n",
       "      <td>7</td>\n",
       "      <td>b0</td>\n",
       "    </tr>\n",
       "  </tbody>\n",
       "</table>\n",
       "<p>210 rows × 15 columns</p>\n",
       "</div>"
      ],
      "text/plain": [
       "                                   Model          Benchmark  K_eff_ana  \\\n",
       "138   DT136_MSS5_MSL3_none_one_hot_B0_v1  U233_MET_FAST_001   0.999906   \n",
       "90    DT120_MSS5_MSL3_none_one_hot_B0_v1  U233_MET_FAST_001   0.999637   \n",
       "30    DT100_MSS5_MSL3_none_one_hot_B0_v1  U233_MET_FAST_001   0.999544   \n",
       "543    DT70_MSS5_MSL3_none_one_hot_B0_v1  U233_MET_FAST_001   0.999485   \n",
       "171   DT160_MSS2_MSL1_none_one_hot_B0_v1  U233_MET_FAST_001   1.000560   \n",
       "..                                   ...                ...        ...   \n",
       "573   DT80_MSS15_MSL7_none_one_hot_B0_v1  U233_MET_FAST_001   0.922260   \n",
       "615   DT90_MSS15_MSL7_none_one_hot_B0_v1  U233_MET_FAST_001   0.922235   \n",
       "558   DT80_MSS10_MSL7_none_one_hot_B0_v1  U233_MET_FAST_001   0.922203   \n",
       "21   DT100_MSS15_MSL7_none_one_hot_B0_v1  U233_MET_FAST_001   0.922193   \n",
       "483   DT60_MSS10_MSL7_none_one_hot_B0_v1  U233_MET_FAST_001   0.921677   \n",
       "\n",
       "     Unc_ana  K_eff_imp  Unc_imp  Deviation_Ana  Deviation_Imp  train_mae  \\\n",
       "138  0.00043   0.999979  0.00029       0.000094       0.000021   0.077729   \n",
       "90   0.00044   0.999427  0.00029       0.000363       0.000573   0.077731   \n",
       "30   0.00041   0.999753  0.00028       0.000456       0.000247   0.077741   \n",
       "543  0.00042   0.999519  0.00028       0.000515       0.000481   0.077826   \n",
       "171  0.00043   1.000950  0.00030       0.000560       0.000950   0.026063   \n",
       "..       ...        ...      ...            ...            ...        ...   \n",
       "573  0.00045   0.922855  0.00028       0.077740       0.077145   0.094767   \n",
       "615  0.00045   0.922366  0.00029       0.077765       0.077634   0.094765   \n",
       "558  0.00045   0.922167  0.00029       0.077797       0.077833   0.094441   \n",
       "21   0.00045   0.922638  0.00029       0.077807       0.077362   0.094764   \n",
       "483  0.00046   0.921989  0.00030       0.078323       0.078011   0.094494   \n",
       "\n",
       "      val_mae  test_mae  max_depth  mss  msl dataset  \n",
       "138  0.123489  0.122285        136    5    3      b0  \n",
       "90   0.123492  0.122258        120    5    3      b0  \n",
       "30   0.123487  0.122248        100    5    3      b0  \n",
       "543  0.123491  0.122261         70    5    3      b0  \n",
       "171  0.136077  0.134881        160    2    1      b0  \n",
       "..        ...       ...        ...  ...  ...     ...  \n",
       "573  0.119830  0.118782         80   15    7      b0  \n",
       "615  0.119854  0.118781         90   15    7      b0  \n",
       "558  0.119780  0.118716         80   10    7      b0  \n",
       "21   0.119850  0.118794        100   15    7      b0  \n",
       "483  0.119827  0.118714         60   10    7      b0  \n",
       "\n",
       "[210 rows x 15 columns]"
      ]
     },
     "execution_count": 16,
     "metadata": {},
     "output_type": "execute_result"
    }
   ],
   "source": [
    "final_b0[final_b0.Benchmark == \"U233_MET_FAST_001\"].sort_values(by=\"Deviation_Ana\")"
   ]
  },
  {
   "cell_type": "markdown",
   "metadata": {},
   "source": [
    "# U233_001"
   ]
  },
  {
   "cell_type": "code",
   "execution_count": 16,
   "metadata": {
    "ExecuteTime": {
     "end_time": "2021-04-22T22:02:29.347888Z",
     "start_time": "2021-04-22T22:02:29.319879Z"
    }
   },
   "outputs": [
    {
     "name": "stdout",
     "output_type": "stream",
     "text": [
      "\\begin{tabular}{lrrrrrrl}\n",
      "\\toprule\n",
      "                             Model &  K\\_eff\\_ana &  Unc\\_ana &  Deviation\\_Ana &  train\\_mae &  val\\_mae &  test\\_mae &   tag \\\\\n",
      "\\midrule\n",
      "DT400\\_MSS2\\_MSL1\\_none\\_one\\_hot\\_B0\\_v1 &   1.002320 &  0.00043 &         0.2320 &   0.025773 & 0.136140 &  0.135027 & Train \\\\\n",
      "DT70\\_MSS10\\_MSL7\\_none\\_one\\_hot\\_B1\\_v1 &   0.997118 &  0.00044 &         0.2882 &   0.094443 & 0.118699 &  0.119142 &   Val \\\\\n",
      "DT90\\_MSS10\\_MSL7\\_none\\_one\\_hot\\_B0\\_v1 &   0.922530 &  0.00046 &         7.7470 &   0.094439 & 0.119797 &  0.118706 &  Test \\\\\n",
      "\\bottomrule\n",
      "\\end{tabular}\n",
      "\n"
     ]
    }
   ],
   "source": [
    "print(model_utils.get_best_models_df(u233_001[[\"Model\", 'K_eff_ana', 'Unc_ana', 'Deviation_Ana', 'train_mae', 'val_mae', 'test_mae']]).to_latex(index=False))"
   ]
  },
  {
   "cell_type": "code",
   "execution_count": 17,
   "metadata": {
    "ExecuteTime": {
     "end_time": "2021-04-22T22:02:37.371937Z",
     "start_time": "2021-04-22T22:02:37.358938Z"
    }
   },
   "outputs": [
    {
     "name": "stdout",
     "output_type": "stream",
     "text": [
      "\\begin{tabular}{lrrrrrr}\n",
      "\\toprule\n",
      "                             Model &  K\\_eff\\_ana &  Unc\\_ana &  Deviation\\_Ana &  train\\_mae &  val\\_mae &  test\\_mae \\\\\n",
      "\\midrule\n",
      "DT80\\_MSS15\\_MSL3\\_none\\_one\\_hot\\_B1\\_v1 &   0.999943 &  0.00041 &         0.0057 &   0.088061 & 0.120462 &  0.120684 \\\\\n",
      "\\bottomrule\n",
      "\\end{tabular}\n",
      "\n"
     ]
    }
   ],
   "source": [
    "print(u233_001[[\"Model\", 'K_eff_ana', 'Unc_ana', 'Deviation_Ana', 'train_mae', 'val_mae', 'test_mae']].head(1).to_latex(index=False))"
   ]
  },
  {
   "cell_type": "code",
   "execution_count": 54,
   "metadata": {
    "ExecuteTime": {
     "end_time": "2021-04-22T22:41:52.282730Z",
     "start_time": "2021-04-22T22:41:52.278730Z"
    }
   },
   "outputs": [],
   "source": [
    "# import seaborn as sns\n",
    "\n",
    "# sns.set(font_scale=1.5)\n",
    "# sns.set_style(\"white\")\n",
    "# from matplotlib import cm\n",
    "\n",
    "# fig = plt.figure()\n",
    "# ax = fig.gca(projection='3d')\n",
    "# fig.set_size_inches(20, 10.5, forward=True)\n",
    "# surf = ax.plot_trisurf(final_b0.max_depth, final_b0.mss, final_b0.val_mae, linewidth=0.2, antialiased=True, cmap=cm.viridis)\n",
    "# ax.view_init(20, 140)\n",
    "# ax.set_ylabel(\"MSS\", labelpad=15)\n",
    "# ax.set_xlabel(\"Max Depth\", labelpad=10)\n",
    "# ax.set_zlabel(\"Validation MAE\", labelpad=15)\n",
    "\n",
    "# fig.colorbar(surf, shrink=0.5, aspect=5)\n",
    "# plt.savefig(\"figures/dt_val.png\", bbox_inches='tight', dpi=300)\n",
    "\n",
    "# fig = plt.figure()\n",
    "# ax = fig.gca(projection='3d')\n",
    "# fig.set_size_inches(20, 10.5, forward=True)\n",
    "# surf = ax.plot_trisurf(final_b0.max_depth, final_b0.mss, final_b0.Deviation_Ana, linewidth=0.2, antialiased=True, cmap=cm.viridis)\n",
    "# ax.view_init(20, -30)\n",
    "# ax.set_ylabel(\"MSS\", labelpad=15)\n",
    "# ax.set_xlabel(\"Max Depth\", labelpad=10)\n",
    "# ax.set_zlabel(\"K-eff Error\", labelpad=15)\n",
    "\n",
    "# fig.colorbar(surf, shrink=0.5, aspect=5)\n",
    "# plt.savefig(\"figures/dt_keff.png\", bbox_inches='tight', dpi=600)"
   ]
  },
  {
   "cell_type": "markdown",
   "metadata": {},
   "source": [
    "# U233_002_001"
   ]
  },
  {
   "cell_type": "code",
   "execution_count": 20,
   "metadata": {
    "ExecuteTime": {
     "end_time": "2021-04-11T16:27:51.619674Z",
     "start_time": "2021-04-11T16:27:51.594686Z"
    }
   },
   "outputs": [
    {
     "name": "stdout",
     "output_type": "stream",
     "text": [
      "\\begin{tabular}{lrrrrrrl}\n",
      "\\toprule\n",
      "                             Model &  K\\_eff\\_ana &  Unc\\_ana &  Deviation\\_Ana &  train\\_mae &  val\\_mae &  test\\_mae &   tag \\\\\n",
      "\\midrule\n",
      "DT400\\_MSS2\\_MSL1\\_none\\_one\\_hot\\_B0\\_v1 &   1.003330 &  0.00044 &         0.3330 &   0.025773 & 0.136140 &  0.135027 & Train \\\\\n",
      "DT70\\_MSS10\\_MSL7\\_none\\_one\\_hot\\_B1\\_v1 &   0.997767 &  0.00044 &         0.2233 &   0.094443 & 0.118699 &  0.119142 &   Val \\\\\n",
      "DT90\\_MSS10\\_MSL7\\_none\\_one\\_hot\\_B0\\_v1 &   0.929108 &  0.00045 &         7.0892 &   0.094439 & 0.119797 &  0.118706 &  Test \\\\\n",
      "\\bottomrule\n",
      "\\end{tabular}\n",
      "\n"
     ]
    }
   ],
   "source": [
    "print(model_utils.get_best_models_df(u233_002_001[[\"Model\", 'K_eff_ana', 'Unc_ana', 'Deviation_Ana', 'train_mae', 'val_mae', 'test_mae']]).to_latex(index=False))"
   ]
  },
  {
   "cell_type": "code",
   "execution_count": 21,
   "metadata": {
    "ExecuteTime": {
     "end_time": "2021-04-11T16:27:55.232320Z",
     "start_time": "2021-04-11T16:27:55.218320Z"
    }
   },
   "outputs": [
    {
     "name": "stdout",
     "output_type": "stream",
     "text": [
      "\\begin{tabular}{lrrrrrr}\n",
      "\\toprule\n",
      "                             Model &  K\\_eff\\_ana &  Unc\\_ana &  Deviation\\_Ana &  train\\_mae &  val\\_mae &  test\\_mae \\\\\n",
      "\\midrule\n",
      "DT280\\_MSS5\\_MSL1\\_none\\_one\\_hot\\_B0\\_v1 &        1.0 &  0.00041 &            0.0 &    0.05187 & 0.131216 &  0.129827 \\\\\n",
      "\\bottomrule\n",
      "\\end{tabular}\n",
      "\n"
     ]
    }
   ],
   "source": [
    "print(u233_002_001[[\"Model\", 'K_eff_ana', 'Unc_ana', 'Deviation_Ana', 'train_mae', 'val_mae', 'test_mae']].head(1).to_latex(index=False))"
   ]
  },
  {
   "cell_type": "markdown",
   "metadata": {},
   "source": [
    "# U233_002_002"
   ]
  },
  {
   "cell_type": "code",
   "execution_count": 23,
   "metadata": {
    "ExecuteTime": {
     "end_time": "2021-04-11T16:31:09.456701Z",
     "start_time": "2021-04-11T16:31:09.431697Z"
    }
   },
   "outputs": [
    {
     "name": "stdout",
     "output_type": "stream",
     "text": [
      "\\begin{tabular}{lrrrrrrl}\n",
      "\\toprule\n",
      "                             Model &  K\\_eff\\_ana &  Unc\\_ana &  Deviation\\_Ana &  train\\_mae &  val\\_mae &  test\\_mae &   tag \\\\\n",
      "\\midrule\n",
      "DT400\\_MSS2\\_MSL1\\_none\\_one\\_hot\\_B0\\_v1 &   1.005650 &  0.00042 &         0.5650 &   0.025773 & 0.136140 &  0.135027 & Train \\\\\n",
      "DT70\\_MSS10\\_MSL7\\_none\\_one\\_hot\\_B1\\_v1 &   1.000680 &  0.00044 &         0.0680 &   0.094443 & 0.118699 &  0.119142 &   Val \\\\\n",
      "DT90\\_MSS10\\_MSL7\\_none\\_one\\_hot\\_B0\\_v1 &   0.936182 &  0.00046 &         6.3818 &   0.094439 & 0.119797 &  0.118706 &  Test \\\\\n",
      "\\bottomrule\n",
      "\\end{tabular}\n",
      "\n"
     ]
    }
   ],
   "source": [
    "print(model_utils.get_best_models_df(u233_002_002[[\"Model\", 'K_eff_ana', 'Unc_ana', 'Deviation_Ana', 'train_mae', 'val_mae', 'test_mae']]).to_latex(index=False))"
   ]
  },
  {
   "cell_type": "code",
   "execution_count": 41,
   "metadata": {
    "ExecuteTime": {
     "end_time": "2021-04-11T00:03:54.391117Z",
     "start_time": "2021-04-11T00:03:54.376117Z"
    }
   },
   "outputs": [
    {
     "name": "stdout",
     "output_type": "stream",
     "text": [
      "\\begin{tabular}{lrrrrrr}\n",
      "\\toprule\n",
      "                              Model &  K\\_eff\\_ana &  Unc\\_ana &  Deviation\\_Ana &  train\\_mae &  val\\_mae &  test\\_mae \\\\\n",
      "\\midrule\n",
      "DT170\\_MSS10\\_MSL3\\_none\\_one\\_hot\\_B0\\_v1 &    1.00022 &  0.00042 &          0.022 &   0.082419 & 0.121982 &  0.121942 \\\\\n",
      "\\bottomrule\n",
      "\\end{tabular}\n",
      "\n"
     ]
    }
   ],
   "source": [
    "print(u233_002_002[[\"Model\", 'K_eff_ana', 'Unc_ana', 'Deviation_Ana', 'train_mae', 'val_mae', 'test_mae']].head(1).to_latex(index=False))"
   ]
  },
  {
   "cell_type": "markdown",
   "metadata": {},
   "source": [
    "# Best Models Overall"
   ]
  },
  {
   "cell_type": "code",
   "execution_count": 17,
   "metadata": {
    "ExecuteTime": {
     "end_time": "2021-04-29T17:39:52.228951Z",
     "start_time": "2021-04-29T17:39:52.220940Z"
    }
   },
   "outputs": [],
   "source": [
    "model_mean = final_set.groupby(\"Model\").mean()"
   ]
  },
  {
   "cell_type": "code",
   "execution_count": 28,
   "metadata": {
    "ExecuteTime": {
     "end_time": "2021-04-11T16:36:06.424694Z",
     "start_time": "2021-04-11T16:36:06.419694Z"
    }
   },
   "outputs": [],
   "source": [
    "model_mean = model_mean[['K_eff_ana']]"
   ]
  },
  {
   "cell_type": "code",
   "execution_count": 19,
   "metadata": {
    "ExecuteTime": {
     "end_time": "2021-04-29T17:40:03.520379Z",
     "start_time": "2021-04-29T17:40:03.516378Z"
    }
   },
   "outputs": [],
   "source": [
    "model_mean[\"Error\"] = (abs(model_mean.K_eff_ana - 1) /1) * 100"
   ]
  },
  {
   "cell_type": "code",
   "execution_count": null,
   "metadata": {},
   "outputs": [],
   "source": [
    "model_mean[\"Unc_Error\"] = (abs(model_mean.Unc_ana - 1) /1) * 100"
   ]
  },
  {
   "cell_type": "code",
   "execution_count": 20,
   "metadata": {
    "ExecuteTime": {
     "end_time": "2021-04-29T17:40:05.560379Z",
     "start_time": "2021-04-29T17:40:05.556377Z"
    }
   },
   "outputs": [],
   "source": [
    "model_mean = model_mean.reset_index()"
   ]
  },
  {
   "cell_type": "code",
   "execution_count": 21,
   "metadata": {
    "ExecuteTime": {
     "end_time": "2021-04-29T17:40:07.947984Z",
     "start_time": "2021-04-29T17:40:07.932471Z"
    }
   },
   "outputs": [
    {
     "data": {
      "text/html": [
       "<div>\n",
       "<style scoped>\n",
       "    .dataframe tbody tr th:only-of-type {\n",
       "        vertical-align: middle;\n",
       "    }\n",
       "\n",
       "    .dataframe tbody tr th {\n",
       "        vertical-align: top;\n",
       "    }\n",
       "\n",
       "    .dataframe thead th {\n",
       "        text-align: right;\n",
       "    }\n",
       "</style>\n",
       "<table border=\"1\" class=\"dataframe\">\n",
       "  <thead>\n",
       "    <tr style=\"text-align: right;\">\n",
       "      <th></th>\n",
       "      <th>Model</th>\n",
       "      <th>K_eff_ana</th>\n",
       "      <th>Unc_ana</th>\n",
       "      <th>K_eff_imp</th>\n",
       "      <th>Unc_imp</th>\n",
       "      <th>Deviation_Ana</th>\n",
       "      <th>Deviation_Imp</th>\n",
       "      <th>train_mae</th>\n",
       "      <th>val_mae</th>\n",
       "      <th>test_mae</th>\n",
       "      <th>max_depth</th>\n",
       "      <th>mss</th>\n",
       "      <th>msl</th>\n",
       "      <th>Error</th>\n",
       "    </tr>\n",
       "  </thead>\n",
       "  <tbody>\n",
       "    <tr>\n",
       "      <th>27</th>\n",
       "      <td>DT110_MSS5_MSL1_none_one_hot_B0_v1</td>\n",
       "      <td>0.999999</td>\n",
       "      <td>0.000430</td>\n",
       "      <td>1.000269</td>\n",
       "      <td>0.000297</td>\n",
       "      <td>0.002014</td>\n",
       "      <td>0.001611</td>\n",
       "      <td>0.052218</td>\n",
       "      <td>0.131089</td>\n",
       "      <td>0.129714</td>\n",
       "      <td>110</td>\n",
       "      <td>5</td>\n",
       "      <td>1</td>\n",
       "      <td>0.000100</td>\n",
       "    </tr>\n",
       "    <tr>\n",
       "      <th>374</th>\n",
       "      <td>DT90_MSS5_MSL1_none_one_hot_B1_v1</td>\n",
       "      <td>1.000030</td>\n",
       "      <td>0.000440</td>\n",
       "      <td>1.000064</td>\n",
       "      <td>0.000297</td>\n",
       "      <td>0.001430</td>\n",
       "      <td>0.001469</td>\n",
       "      <td>0.052356</td>\n",
       "      <td>0.130018</td>\n",
       "      <td>0.129852</td>\n",
       "      <td>90</td>\n",
       "      <td>5</td>\n",
       "      <td>1</td>\n",
       "      <td>0.003000</td>\n",
       "    </tr>\n",
       "    <tr>\n",
       "      <th>209</th>\n",
       "      <td>DT310_MSS5_MSL1_none_one_hot_B1_v1</td>\n",
       "      <td>1.000034</td>\n",
       "      <td>0.000423</td>\n",
       "      <td>1.000101</td>\n",
       "      <td>0.000290</td>\n",
       "      <td>0.001786</td>\n",
       "      <td>0.001619</td>\n",
       "      <td>0.051868</td>\n",
       "      <td>0.130218</td>\n",
       "      <td>0.130013</td>\n",
       "      <td>310</td>\n",
       "      <td>5</td>\n",
       "      <td>1</td>\n",
       "      <td>0.003400</td>\n",
       "    </tr>\n",
       "    <tr>\n",
       "      <th>302</th>\n",
       "      <td>DT60_MSS5_MSL1_none_one_hot_B0_v1</td>\n",
       "      <td>1.000039</td>\n",
       "      <td>0.000437</td>\n",
       "      <td>1.000160</td>\n",
       "      <td>0.000290</td>\n",
       "      <td>0.001401</td>\n",
       "      <td>0.001600</td>\n",
       "      <td>0.053003</td>\n",
       "      <td>0.131055</td>\n",
       "      <td>0.129657</td>\n",
       "      <td>60</td>\n",
       "      <td>5</td>\n",
       "      <td>1</td>\n",
       "      <td>0.003867</td>\n",
       "    </tr>\n",
       "    <tr>\n",
       "      <th>105</th>\n",
       "      <td>DT180_MSS5_MSL1_none_one_hot_B1_v1</td>\n",
       "      <td>0.999951</td>\n",
       "      <td>0.000423</td>\n",
       "      <td>1.000313</td>\n",
       "      <td>0.000297</td>\n",
       "      <td>0.001769</td>\n",
       "      <td>0.001600</td>\n",
       "      <td>0.051949</td>\n",
       "      <td>0.130154</td>\n",
       "      <td>0.129956</td>\n",
       "      <td>180</td>\n",
       "      <td>5</td>\n",
       "      <td>1</td>\n",
       "      <td>0.004900</td>\n",
       "    </tr>\n",
       "  </tbody>\n",
       "</table>\n",
       "</div>"
      ],
      "text/plain": [
       "                                  Model  K_eff_ana   Unc_ana  K_eff_imp  \\\n",
       "27   DT110_MSS5_MSL1_none_one_hot_B0_v1   0.999999  0.000430   1.000269   \n",
       "374   DT90_MSS5_MSL1_none_one_hot_B1_v1   1.000030  0.000440   1.000064   \n",
       "209  DT310_MSS5_MSL1_none_one_hot_B1_v1   1.000034  0.000423   1.000101   \n",
       "302   DT60_MSS5_MSL1_none_one_hot_B0_v1   1.000039  0.000437   1.000160   \n",
       "105  DT180_MSS5_MSL1_none_one_hot_B1_v1   0.999951  0.000423   1.000313   \n",
       "\n",
       "      Unc_imp  Deviation_Ana  Deviation_Imp  train_mae   val_mae  test_mae  \\\n",
       "27   0.000297       0.002014       0.001611   0.052218  0.131089  0.129714   \n",
       "374  0.000297       0.001430       0.001469   0.052356  0.130018  0.129852   \n",
       "209  0.000290       0.001786       0.001619   0.051868  0.130218  0.130013   \n",
       "302  0.000290       0.001401       0.001600   0.053003  0.131055  0.129657   \n",
       "105  0.000297       0.001769       0.001600   0.051949  0.130154  0.129956   \n",
       "\n",
       "     max_depth  mss  msl     Error  \n",
       "27         110    5    1  0.000100  \n",
       "374         90    5    1  0.003000  \n",
       "209        310    5    1  0.003400  \n",
       "302         60    5    1  0.003867  \n",
       "105        180    5    1  0.004900  "
      ]
     },
     "execution_count": 21,
     "metadata": {},
     "output_type": "execute_result"
    }
   ],
   "source": [
    "model_mean.sort_values(\"Error\").head()"
   ]
  },
  {
   "cell_type": "code",
   "execution_count": 32,
   "metadata": {
    "ExecuteTime": {
     "end_time": "2021-04-11T16:36:10.727688Z",
     "start_time": "2021-04-11T16:36:10.723676Z"
    }
   },
   "outputs": [],
   "source": [
    "model_mean = model_mean[model_mean.Error < ERROR]"
   ]
  },
  {
   "cell_type": "code",
   "execution_count": 34,
   "metadata": {
    "ExecuteTime": {
     "end_time": "2021-04-11T16:47:25.127559Z",
     "start_time": "2021-04-11T16:47:25.123555Z"
    }
   },
   "outputs": [
    {
     "data": {
      "text/plain": [
       "(42, 3)"
      ]
     },
     "execution_count": 34,
     "metadata": {},
     "output_type": "execute_result"
    }
   ],
   "source": [
    "model_mean.shape"
   ]
  },
  {
   "cell_type": "code",
   "execution_count": 33,
   "metadata": {
    "ExecuteTime": {
     "end_time": "2021-04-11T16:36:11.337005Z",
     "start_time": "2021-04-11T16:36:11.324008Z"
    }
   },
   "outputs": [
    {
     "name": "stdout",
     "output_type": "stream",
     "text": [
      "\\begin{tabular}{lrr}\n",
      "\\toprule\n",
      "                              Model &  K\\_eff\\_ana &    Error \\\\\n",
      "\\midrule\n",
      " DT110\\_MSS5\\_MSL1\\_none\\_one\\_hot\\_B0\\_v1 &   0.999999 & 0.000100 \\\\\n",
      "  DT90\\_MSS5\\_MSL1\\_none\\_one\\_hot\\_B1\\_v1 &   1.000030 & 0.003000 \\\\\n",
      " DT310\\_MSS5\\_MSL1\\_none\\_one\\_hot\\_B1\\_v1 &   1.000034 & 0.003400 \\\\\n",
      "  DT60\\_MSS5\\_MSL1\\_none\\_one\\_hot\\_B0\\_v1 &   1.000039 & 0.003867 \\\\\n",
      " DT180\\_MSS5\\_MSL1\\_none\\_one\\_hot\\_B1\\_v1 &   0.999951 & 0.004900 \\\\\n",
      " DT400\\_MSS5\\_MSL1\\_none\\_one\\_hot\\_B1\\_v1 &   1.000057 & 0.005700 \\\\\n",
      "DT126\\_MSS15\\_MSL5\\_none\\_one\\_hot\\_B0\\_v1 &   1.000061 & 0.006133 \\\\\n",
      " DT210\\_MSS5\\_MSL1\\_none\\_one\\_hot\\_B1\\_v1 &   0.999938 & 0.006233 \\\\\n",
      " DT87\\_MSS10\\_MSL5\\_none\\_one\\_hot\\_B1\\_v1 &   1.000065 & 0.006467 \\\\\n",
      " DT200\\_MSS5\\_MSL1\\_none\\_one\\_hot\\_B1\\_v1 &   0.999935 & 0.006500 \\\\\n",
      " DT260\\_MSS5\\_MSL1\\_none\\_one\\_hot\\_B0\\_v1 &   1.000079 & 0.007867 \\\\\n",
      "  DT70\\_MSS5\\_MSL1\\_none\\_one\\_hot\\_B1\\_v1 &   0.999916 & 0.008367 \\\\\n",
      "  DT80\\_MSS5\\_MSL1\\_none\\_one\\_hot\\_B0\\_v1 &   0.999911 & 0.008933 \\\\\n",
      " DT220\\_MSS5\\_MSL1\\_none\\_one\\_hot\\_B1\\_v1 &   1.000090 & 0.008967 \\\\\n",
      "  DT90\\_MSS5\\_MSL3\\_none\\_one\\_hot\\_B0\\_v1 &   1.000092 & 0.009200 \\\\\n",
      " DT260\\_MSS5\\_MSL1\\_none\\_one\\_hot\\_B1\\_v1 &   1.000101 & 0.010100 \\\\\n",
      " DT380\\_MSS5\\_MSL1\\_none\\_one\\_hot\\_B1\\_v1 &   1.000104 & 0.010433 \\\\\n",
      " DT280\\_MSS5\\_MSL1\\_none\\_one\\_hot\\_B1\\_v1 &   1.000107 & 0.010667 \\\\\n",
      " DT340\\_MSS5\\_MSL1\\_none\\_one\\_hot\\_B1\\_v1 &   1.000114 & 0.011400 \\\\\n",
      " DT320\\_MSS5\\_MSL1\\_none\\_one\\_hot\\_B1\\_v1 &   0.999881 & 0.011933 \\\\\n",
      " DT160\\_MSS5\\_MSL1\\_none\\_one\\_hot\\_B0\\_v1 &   1.000128 & 0.012833 \\\\\n",
      " DT70\\_MSS15\\_MSL3\\_none\\_one\\_hot\\_B1\\_v1 &   1.000132 & 0.013167 \\\\\n",
      " DT150\\_MSS5\\_MSL1\\_none\\_one\\_hot\\_B1\\_v1 &   1.000147 & 0.014700 \\\\\n",
      "  DT90\\_MSS5\\_MSL1\\_none\\_one\\_hot\\_B0\\_v1 &   0.999852 & 0.014833 \\\\\n",
      " DT360\\_MSS5\\_MSL1\\_none\\_one\\_hot\\_B1\\_v1 &   0.999847 & 0.015300 \\\\\n",
      " DT380\\_MSS5\\_MSL1\\_none\\_one\\_hot\\_B0\\_v1 &   0.999846 & 0.015367 \\\\\n",
      " DT140\\_MSS5\\_MSL1\\_none\\_one\\_hot\\_B0\\_v1 &   1.000182 & 0.018200 \\\\\n",
      " DT320\\_MSS5\\_MSL1\\_none\\_one\\_hot\\_B0\\_v1 &   0.999809 & 0.019067 \\\\\n",
      " DT290\\_MSS5\\_MSL1\\_none\\_one\\_hot\\_B1\\_v1 &   1.000198 & 0.019800 \\\\\n",
      " DT350\\_MSS5\\_MSL1\\_none\\_one\\_hot\\_B1\\_v1 &   1.000201 & 0.020133 \\\\\n",
      " DT350\\_MSS5\\_MSL1\\_none\\_one\\_hot\\_B0\\_v1 &   0.999792 & 0.020800 \\\\\n",
      " DT220\\_MSS5\\_MSL1\\_none\\_one\\_hot\\_B0\\_v1 &   1.000213 & 0.021300 \\\\\n",
      " DT200\\_MSS5\\_MSL1\\_none\\_one\\_hot\\_B0\\_v1 &   1.000220 & 0.022033 \\\\\n",
      " DT310\\_MSS5\\_MSL1\\_none\\_one\\_hot\\_B0\\_v1 &   0.999765 & 0.023467 \\\\\n",
      "  DT80\\_MSS5\\_MSL1\\_none\\_one\\_hot\\_B1\\_v1 &   1.000235 & 0.023533 \\\\\n",
      " DT140\\_MSS5\\_MSL1\\_none\\_one\\_hot\\_B1\\_v1 &   1.000237 & 0.023667 \\\\\n",
      " DT180\\_MSS5\\_MSL1\\_none\\_one\\_hot\\_B0\\_v1 &   1.000259 & 0.025933 \\\\\n",
      " DT290\\_MSS5\\_MSL1\\_none\\_one\\_hot\\_B0\\_v1 &   1.000269 & 0.026867 \\\\\n",
      " DT120\\_MSS5\\_MSL1\\_none\\_one\\_hot\\_B1\\_v1 &   1.000272 & 0.027167 \\\\\n",
      "DT126\\_MSS10\\_MSL5\\_none\\_one\\_hot\\_B0\\_v1 &   0.999726 & 0.027433 \\\\\n",
      " DT170\\_MSS5\\_MSL1\\_none\\_one\\_hot\\_B1\\_v1 &   1.000280 & 0.028000 \\\\\n",
      " DT390\\_MSS5\\_MSL1\\_none\\_one\\_hot\\_B0\\_v1 &   1.000286 & 0.028567 \\\\\n",
      "\\bottomrule\n",
      "\\end{tabular}\n",
      "\n"
     ]
    }
   ],
   "source": [
    "print(model_mean.sort_values(\"Error\").to_latex(index=False))"
   ]
  },
  {
   "cell_type": "code",
   "execution_count": null,
   "metadata": {},
   "outputs": [],
   "source": []
  },
  {
   "cell_type": "code",
   "execution_count": 87,
   "metadata": {
    "ExecuteTime": {
     "end_time": "2021-04-10T05:37:28.080858Z",
     "start_time": "2021-04-10T05:37:28.077856Z"
    }
   },
   "outputs": [],
   "source": [
    "# ace_plots.dt_dual_keff_plot(\n",
    "#     dt_final[dt_final.Deviation_Ana < 0.03], \n",
    "#     \"train_mae\", \"val_mae\", \"max_depth\", \"Deviation_Ana\", save=False, saving_dir=figure_dir)\n",
    "\n",
    "# ace_plots.dt_dual_keff_plot(\n",
    "#     dt_final[dt_final.Deviation_Ana < 0.03], \n",
    "#     \"train_mae\", \"val_mae\", \"max_depth\", \"Deviation_Ana\", save=True, saving_dir=figure_dir)\n",
    "\n",
    "# ace_plots.dt_keff_plot(dt_final[dt_final.Deviation_Ana < 0.03], \"val_mae\", \"max_depth\", \"Deviation_Ana\", save=True, saving_dir=figure_dir)"
   ]
  }
 ],
 "metadata": {
  "kernelspec": {
   "display_name": "Python 3",
   "language": "python",
   "name": "python3"
  },
  "language_info": {
   "codemirror_mode": {
    "name": "ipython",
    "version": 3
   },
   "file_extension": ".py",
   "mimetype": "text/x-python",
   "name": "python",
   "nbconvert_exporter": "python",
   "pygments_lexer": "ipython3",
   "version": "3.8.8"
  }
 },
 "nbformat": 4,
 "nbformat_minor": 4
}
