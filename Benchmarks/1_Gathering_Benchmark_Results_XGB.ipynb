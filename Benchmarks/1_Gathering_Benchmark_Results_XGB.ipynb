{
 "cells": [
  {
   "cell_type": "markdown",
   "id": "personalized-demonstration",
   "metadata": {},
   "source": [
    "# Analyzing Benchmark Results for Validation"
   ]
  },
  {
   "cell_type": "code",
   "execution_count": 1,
   "id": "baking-navigation",
   "metadata": {
    "ExecuteTime": {
     "end_time": "2021-04-29T17:44:44.864727Z",
     "start_time": "2021-04-29T17:44:44.860738Z"
    }
   },
   "outputs": [],
   "source": [
    "import sys\n",
    "# This allows us to import the nucml utilities\n",
    "sys.path.append(\"..\")"
   ]
  },
  {
   "cell_type": "code",
   "execution_count": 2,
   "id": "automotive-spoke",
   "metadata": {
    "ExecuteTime": {
     "end_time": "2021-04-29T17:44:49.627183Z",
     "start_time": "2021-04-29T17:44:45.017776Z"
    }
   },
   "outputs": [],
   "source": [
    "import pandas as pd\n",
    "import seaborn as sns\n",
    "import matplotlib.pyplot as plt\n",
    "import os\n",
    "\n",
    "pd.set_option('display.max_columns', 500)\n",
    "pd.set_option('display.max_rows', 50)\n",
    "pd.options.mode.chained_assignment = None  # default='warn'\n",
    "sns.set_style(\"white\")\n",
    "\n",
    "import nucml.exfor.data_utilities as exfor_utils\n",
    "import nucml.evaluation.data_utilities as endf_utils\n",
    "import nucml.plot.utilities as plot_utils\n",
    "import nucml.datasets as nuc_data\n",
    "import nucml.ace.data_utilities as ace_utils\n",
    "import nucml.model.building_utils as model_building\n",
    "import nucml.model.utilities as model_utils\n",
    "import nucml.general_utilities as gen_utils\n",
    "import nucml.ace.plot as ace_plots"
   ]
  },
  {
   "cell_type": "code",
   "execution_count": 3,
   "id": "chinese-gilbert",
   "metadata": {
    "ExecuteTime": {
     "end_time": "2021-04-29T17:44:49.644183Z",
     "start_time": "2021-04-29T17:44:49.629185Z"
    }
   },
   "outputs": [
    {
     "name": "stdout",
     "output_type": "stream",
     "text": [
      "Finish re-loading scripts.\n"
     ]
    }
   ],
   "source": [
    "import importlib\n",
    "importlib.reload(exfor_utils)\n",
    "importlib.reload(gen_utils)\n",
    "importlib.reload(endf_utils)\n",
    "importlib.reload(plot_utils)\n",
    "importlib.reload(nuc_data)\n",
    "importlib.reload(ace_utils)\n",
    "importlib.reload(model_building)\n",
    "importlib.reload(model_utils)\n",
    "importlib.reload(ace_plots)\n",
    "print(\"Finish re-loading scripts.\")"
   ]
  },
  {
   "cell_type": "code",
   "execution_count": 4,
   "id": "severe-pressing",
   "metadata": {
    "ExecuteTime": {
     "end_time": "2021-04-29T17:44:49.654184Z",
     "start_time": "2021-04-29T17:44:49.646188Z"
    }
   },
   "outputs": [],
   "source": [
    "figure_dir = \"figures/B0/\""
   ]
  },
  {
   "cell_type": "code",
   "execution_count": 5,
   "id": "driven-microphone",
   "metadata": {
    "ExecuteTime": {
     "end_time": "2021-04-29T17:44:49.674183Z",
     "start_time": "2021-04-29T17:44:49.656186Z"
    }
   },
   "outputs": [],
   "source": [
    "sns.set(font_scale=2.5)\n",
    "sns.set_style('white')"
   ]
  },
  {
   "cell_type": "markdown",
   "id": "afraid-ordering",
   "metadata": {},
   "source": [
    "## Gathering Results from Benchmark Calculations"
   ]
  },
  {
   "cell_type": "code",
   "execution_count": 6,
   "id": "ignored-frank",
   "metadata": {
    "ExecuteTime": {
     "end_time": "2021-04-29T17:45:56.431764Z",
     "start_time": "2021-04-29T17:45:54.207905Z"
    }
   },
   "outputs": [],
   "source": [
    "# model_results_b0 = ace_utils.gather_benchmark_results(\"ml/XGB_B0/\")\n",
    "model_results_b1 = ace_utils.gather_benchmark_results(\"ml/XGB_B1/\")\n",
    "# model_results_b2 = ace_utils.gather_benchmark_results(\"ml/XGB_B2/\")\n",
    "# model_results_b3 = ace_utils.gather_benchmark_results(\"ml/XGB_B3/\")\n",
    "# model_results_b4 = ace_utils.gather_benchmark_results(\"ml/XGB_B4/\")"
   ]
  },
  {
   "cell_type": "markdown",
   "id": "decreased-experiment",
   "metadata": {},
   "source": [
    "## Analyzing Decision Tree Results"
   ]
  },
  {
   "cell_type": "code",
   "execution_count": 7,
   "id": "breeding-suffering",
   "metadata": {
    "ExecuteTime": {
     "end_time": "2021-04-10T23:06:31.367495Z",
     "start_time": "2021-04-10T23:06:31.359575Z"
    }
   },
   "outputs": [],
   "source": [
    "# results_b0 = pd.read_csv(\"../ML_EXFOR_neutrons/3_XGB/xgb_resultsB0.csv\")\n",
    "results_b1 = pd.read_csv(\"../ML_EXFOR_neutrons/3_XGB/xgb_resultsB1.csv\")\n",
    "# results_b2 = pd.read_csv(\"../ML_EXFOR_neutrons/3_XGB/xgb_resultsB2.csv\")\n",
    "# results_b3 = pd.read_csv(\"../ML_EXFOR_neutrons/3_XGB/xgb_resultsB3.csv\")\n",
    "# results_b4 = pd.read_csv(\"../ML_EXFOR_neutrons/3_XGB/xgb_resultsB4.csv\")"
   ]
  },
  {
   "cell_type": "code",
   "execution_count": 9,
   "id": "thermal-jonathan",
   "metadata": {
    "ExecuteTime": {
     "end_time": "2021-04-10T23:06:43.573285Z",
     "start_time": "2021-04-10T23:06:43.567284Z"
    }
   },
   "outputs": [],
   "source": [
    "results_b1['Model'] = results_b1.model_path.apply(lambda x: os.path.basename(os.path.dirname(x)))\n",
    "results_b1['dataset'] = 'b0'"
   ]
  },
  {
   "cell_type": "code",
   "execution_count": 11,
   "id": "banned-opera",
   "metadata": {
    "ExecuteTime": {
     "end_time": "2021-04-10T21:01:37.473336Z",
     "start_time": "2021-04-10T21:01:37.470338Z"
    }
   },
   "outputs": [],
   "source": [
    "# for df, dataset_tag in zip([results_b0, results_b1, results_b2, results_b3, results_b4], [\"b0\", \"b1\", \"b2\", \"b3\", \"b4\"]):\n",
    "#     df['Model'] = df.model_path.apply(lambda x: os.path.basename(os.path.dirname(x)))\n",
    "#     df['dataset'] = dataset_tag"
   ]
  },
  {
   "cell_type": "code",
   "execution_count": 11,
   "id": "sophisticated-knowing",
   "metadata": {
    "ExecuteTime": {
     "end_time": "2021-04-10T23:07:48.860120Z",
     "start_time": "2021-04-10T23:07:48.854121Z"
    }
   },
   "outputs": [],
   "source": [
    "# results_b0 = results_b0[[\"Model\", \"train_mae\", \"val_mae\", \"test_mae\", \"max_bin\", \"max_depth\", \"l2\", \"dataset\"]]\n",
    "results_b1 = results_b1[[\"Model\", \"train_mae\", \"val_mae\", \"test_mae\", \"max_bin\", \"max_depth\", \"l2\", \"dataset\"]]\n",
    "# results_b2 = results_b2[[\"Model\", \"train_mae\", \"val_mae\", \"test_mae\", \"max_bin\", \"max_depth\", \"l2\", \"dataset\"]]\n",
    "# results_b3 = results_b3[[\"Model\", \"train_mae\", \"val_mae\", \"test_mae\", \"max_bin\", \"max_depth\", \"l2\", \"dataset\"]]\n",
    "# results_b4 = results_b4[[\"Model\", \"train_mae\", \"val_mae\", \"test_mae\", \"max_bin\", \"max_depth\", \"l2\", \"dataset\"]]"
   ]
  },
  {
   "cell_type": "code",
   "execution_count": 12,
   "id": "sticky-briefing",
   "metadata": {
    "ExecuteTime": {
     "end_time": "2021-04-10T23:07:54.366080Z",
     "start_time": "2021-04-10T23:07:54.358586Z"
    }
   },
   "outputs": [],
   "source": [
    "# final_b0 = model_results_b0.merge(results_b0, on=\"Model\")\n",
    "final_b1 = model_results_b1.merge(results_b1, on=\"Model\")\n",
    "# final_b2 = model_results_b2.merge(results_b2, on=\"Model\")\n",
    "# final_b3 = model_results_b3.merge(results_b3, on=\"Model\")\n",
    "# final_b4 = model_results_b4.merge(results_b4, on=\"Model\")"
   ]
  },
  {
   "cell_type": "code",
   "execution_count": 14,
   "id": "sustained-myrtle",
   "metadata": {
    "ExecuteTime": {
     "end_time": "2021-04-10T21:01:40.089769Z",
     "start_time": "2021-04-10T21:01:40.085770Z"
    }
   },
   "outputs": [],
   "source": [
    "# final_set = final_b0.append(final_b1).append(final_b2).append(final_b3).append(final_b4)\n",
    "\n",
    "# u233_002_001 = final_set[final_set.Benchmark == \"U233_MET_FAST_002_001\"].sort_values(by=\"Deviation_Ana\")\n",
    "# u233_002_002 = final_set[final_set.Benchmark == \"U233_MET_FAST_002_002\"].sort_values(by=\"Deviation_Ana\")\n",
    "# u233_001 = final_set[final_set.Benchmark == \"U233_MET_FAST_001\"].sort_values(by=\"Deviation_Ana\")"
   ]
  },
  {
   "cell_type": "code",
   "execution_count": 14,
   "id": "mineral-austria",
   "metadata": {
    "ExecuteTime": {
     "end_time": "2021-04-10T23:08:18.582476Z",
     "start_time": "2021-04-10T23:08:18.574475Z"
    }
   },
   "outputs": [],
   "source": [
    "u233_002_001 = final_b1[final_b1.Benchmark == \"U233_MET_FAST_002_001\"].sort_values(by=\"Deviation_Ana\")\n",
    "u233_002_002 = final_b1[final_b1.Benchmark == \"U233_MET_FAST_002_002\"].sort_values(by=\"Deviation_Ana\")\n",
    "u233_001 = final_b1[final_b1.Benchmark == \"U233_MET_FAST_001\"].sort_values(by=\"Deviation_Ana\")"
   ]
  },
  {
   "cell_type": "code",
   "execution_count": 31,
   "id": "stone-siemens",
   "metadata": {
    "ExecuteTime": {
     "end_time": "2021-04-10T23:58:30.936934Z",
     "start_time": "2021-04-10T23:58:30.932402Z"
    }
   },
   "outputs": [],
   "source": [
    "u233_001.Deviation_Ana = u233_001.Deviation_Ana * 100\n",
    "u233_002_001.Deviation_Ana = u233_002_001.Deviation_Ana * 100\n",
    "u233_002_002.Deviation_Ana = u233_002_002.Deviation_Ana * 100"
   ]
  },
  {
   "cell_type": "markdown",
   "id": "accredited-christopher",
   "metadata": {},
   "source": [
    "# U233_001"
   ]
  },
  {
   "cell_type": "code",
   "execution_count": 32,
   "id": "organized-summer",
   "metadata": {
    "ExecuteTime": {
     "end_time": "2021-04-10T23:58:31.500603Z",
     "start_time": "2021-04-10T23:58:31.476082Z"
    }
   },
   "outputs": [
    {
     "name": "stdout",
     "output_type": "stream",
     "text": [
      "\\begin{tabular}{lrrrrrrl}\n",
      "\\toprule\n",
      "                           Model &  K\\_eff\\_ana &  Unc\\_ana &  Deviation\\_Ana &  train\\_mae &  val\\_mae &  test\\_mae &   tag \\\\\n",
      "\\midrule\n",
      "XGB30\\_L0\\_MB30000\\_none\\_rmse\\_B1\\_v1 &   1.004940 &  0.00044 &         0.4940 &   0.065501 & 0.121320 &  0.122416 & Train \\\\\n",
      "XGB30\\_L1\\_MB20000\\_none\\_rmse\\_B1\\_v1 &   0.977935 &  0.00044 &         2.2065 &   0.079715 & 0.114399 &  0.115458 &   Val \\\\\n",
      "XGB30\\_L3\\_MB10000\\_none\\_rmse\\_B1\\_v1 &   0.973408 &  0.00043 &         2.6592 &   0.093639 & 0.115003 &  0.114198 &  Test \\\\\n",
      "\\bottomrule\n",
      "\\end{tabular}\n",
      "\n"
     ]
    }
   ],
   "source": [
    "print(model_utils.get_best_models_df(u233_001[[\"Model\", 'K_eff_ana', 'Unc_ana', 'Deviation_Ana', 'train_mae', 'val_mae', 'test_mae']]).to_latex(index=False))"
   ]
  },
  {
   "cell_type": "code",
   "execution_count": 34,
   "id": "voluntary-primary",
   "metadata": {
    "ExecuteTime": {
     "end_time": "2021-04-10T23:58:47.554091Z",
     "start_time": "2021-04-10T23:58:47.540090Z"
    }
   },
   "outputs": [
    {
     "name": "stdout",
     "output_type": "stream",
     "text": [
      "\\begin{tabular}{lrrrrrr}\n",
      "\\toprule\n",
      "                           Model &  K\\_eff\\_ana &  Unc\\_ana &  Deviation\\_Ana &  train\\_mae &  val\\_mae &  test\\_mae \\\\\n",
      "\\midrule\n",
      "XGB10\\_L3\\_MB20000\\_none\\_rmse\\_B1\\_v1 &   0.997123 &  0.00043 &         0.2877 &   0.196566 & 0.197323 &   0.19741 \\\\\n",
      "\\bottomrule\n",
      "\\end{tabular}\n",
      "\n"
     ]
    }
   ],
   "source": [
    "print(u233_001[[\"Model\", 'K_eff_ana', 'Unc_ana', 'Deviation_Ana', 'train_mae', 'val_mae', 'test_mae']].head(1).to_latex(index=False))"
   ]
  },
  {
   "cell_type": "markdown",
   "id": "indie-teaching",
   "metadata": {},
   "source": [
    "# U233_002_001"
   ]
  },
  {
   "cell_type": "code",
   "execution_count": 45,
   "id": "civic-positive",
   "metadata": {
    "ExecuteTime": {
     "end_time": "2021-04-11T00:30:17.692967Z",
     "start_time": "2021-04-11T00:30:17.666963Z"
    }
   },
   "outputs": [
    {
     "name": "stdout",
     "output_type": "stream",
     "text": [
      "\\begin{tabular}{lrrrrrrl}\n",
      "\\toprule\n",
      "                           Model &  K\\_eff\\_ana &  Unc\\_ana &  Deviation\\_Ana &  train\\_mae &  val\\_mae &  test\\_mae &   tag \\\\\n",
      "\\midrule\n",
      "XGB30\\_L0\\_MB30000\\_none\\_rmse\\_B1\\_v1 &   1.006340 &  0.00044 &         0.6340 &   0.065501 & 0.121320 &  0.122416 & Train \\\\\n",
      "XGB30\\_L1\\_MB20000\\_none\\_rmse\\_B1\\_v1 &   0.980368 &  0.00046 &         1.9632 &   0.079715 & 0.114399 &  0.115458 &   Val \\\\\n",
      "XGB30\\_L3\\_MB10000\\_none\\_rmse\\_B1\\_v1 &   0.975967 &  0.00044 &         2.4033 &   0.093639 & 0.115003 &  0.114198 &  Test \\\\\n",
      "\\bottomrule\n",
      "\\end{tabular}\n",
      "\n"
     ]
    }
   ],
   "source": [
    "print(model_utils.get_best_models_df(u233_002_001[[\"Model\", 'K_eff_ana', 'Unc_ana', 'Deviation_Ana', 'train_mae', 'val_mae', 'test_mae']]).to_latex(index=False))"
   ]
  },
  {
   "cell_type": "code",
   "execution_count": 46,
   "id": "western-fitness",
   "metadata": {
    "ExecuteTime": {
     "end_time": "2021-04-11T00:30:18.062285Z",
     "start_time": "2021-04-11T00:30:18.050286Z"
    }
   },
   "outputs": [
    {
     "name": "stdout",
     "output_type": "stream",
     "text": [
      "\\begin{tabular}{lrrrrrr}\n",
      "\\toprule\n",
      "                           Model &  K\\_eff\\_ana &  Unc\\_ana &  Deviation\\_Ana &  train\\_mae &  val\\_mae &  test\\_mae \\\\\n",
      "\\midrule\n",
      "XGB10\\_L3\\_MB20000\\_none\\_rmse\\_B1\\_v1 &     1.0011 &  0.00044 &           0.11 &   0.196566 & 0.197323 &   0.19741 \\\\\n",
      "\\bottomrule\n",
      "\\end{tabular}\n",
      "\n"
     ]
    }
   ],
   "source": [
    "print(u233_002_001[[\"Model\", 'K_eff_ana', 'Unc_ana', 'Deviation_Ana', 'train_mae', 'val_mae', 'test_mae']].head(1).to_latex(index=False))"
   ]
  },
  {
   "cell_type": "markdown",
   "id": "armed-richardson",
   "metadata": {},
   "source": [
    "# U233_002_002"
   ]
  },
  {
   "cell_type": "code",
   "execution_count": 47,
   "id": "adult-russian",
   "metadata": {
    "ExecuteTime": {
     "end_time": "2021-04-11T00:33:52.522788Z",
     "start_time": "2021-04-11T00:33:52.497785Z"
    }
   },
   "outputs": [
    {
     "name": "stdout",
     "output_type": "stream",
     "text": [
      "\\begin{tabular}{lrrrrrrl}\n",
      "\\toprule\n",
      "                           Model &  K\\_eff\\_ana &  Unc\\_ana &  Deviation\\_Ana &  train\\_mae &  val\\_mae &  test\\_mae &   tag \\\\\n",
      "\\midrule\n",
      "XGB30\\_L0\\_MB30000\\_none\\_rmse\\_B1\\_v1 &   1.008750 &  0.00039 &         0.8750 &   0.065501 & 0.121320 &  0.122416 & Train \\\\\n",
      "XGB30\\_L1\\_MB20000\\_none\\_rmse\\_B1\\_v1 &   0.985785 &  0.00044 &         1.4215 &   0.079715 & 0.114399 &  0.115458 &   Val \\\\\n",
      "XGB30\\_L3\\_MB10000\\_none\\_rmse\\_B1\\_v1 &   0.981589 &  0.00046 &         1.8411 &   0.093639 & 0.115003 &  0.114198 &  Test \\\\\n",
      "\\bottomrule\n",
      "\\end{tabular}\n",
      "\n"
     ]
    }
   ],
   "source": [
    "print(model_utils.get_best_models_df(u233_002_002[[\"Model\", 'K_eff_ana', 'Unc_ana', 'Deviation_Ana', 'train_mae', 'val_mae', 'test_mae']]).to_latex(index=False))"
   ]
  },
  {
   "cell_type": "code",
   "execution_count": 48,
   "id": "voluntary-yacht",
   "metadata": {
    "ExecuteTime": {
     "end_time": "2021-04-11T00:33:52.828786Z",
     "start_time": "2021-04-11T00:33:52.815786Z"
    }
   },
   "outputs": [
    {
     "name": "stdout",
     "output_type": "stream",
     "text": [
      "\\begin{tabular}{lrrrrrr}\n",
      "\\toprule\n",
      "                           Model &  K\\_eff\\_ana &  Unc\\_ana &  Deviation\\_Ana &  train\\_mae &  val\\_mae &  test\\_mae \\\\\n",
      "\\midrule\n",
      "XGB10\\_L2\\_MB40000\\_none\\_rmse\\_B1\\_v1 &   0.998213 &  0.00042 &         0.1787 &   0.196634 & 0.197023 &  0.197088 \\\\\n",
      "\\bottomrule\n",
      "\\end{tabular}\n",
      "\n"
     ]
    }
   ],
   "source": [
    "print(u233_002_002[[\"Model\", 'K_eff_ana', 'Unc_ana', 'Deviation_Ana', 'train_mae', 'val_mae', 'test_mae']].head(1).to_latex(index=False))"
   ]
  },
  {
   "cell_type": "markdown",
   "id": "controversial-earth",
   "metadata": {},
   "source": [
    "# Best Models Overall"
   ]
  },
  {
   "cell_type": "code",
   "execution_count": 49,
   "id": "express-reputation",
   "metadata": {
    "ExecuteTime": {
     "end_time": "2021-04-11T01:14:52.058498Z",
     "start_time": "2021-04-11T01:14:52.055498Z"
    }
   },
   "outputs": [],
   "source": [
    "import numpy as np"
   ]
  },
  {
   "cell_type": "code",
   "execution_count": 50,
   "id": "described-victory",
   "metadata": {
    "ExecuteTime": {
     "end_time": "2021-04-11T01:14:52.222676Z",
     "start_time": "2021-04-11T01:14:52.217677Z"
    }
   },
   "outputs": [
    {
     "data": {
      "text/plain": [
       "0.9997116666666667"
      ]
     },
     "execution_count": 50,
     "metadata": {},
     "output_type": "execute_result"
    }
   ],
   "source": [
    "np.array([0.998075, 1.00086, 1.000200]).mean()"
   ]
  },
  {
   "cell_type": "code",
   "execution_count": 51,
   "id": "cloudy-flood",
   "metadata": {
    "ExecuteTime": {
     "end_time": "2021-04-11T01:14:52.974612Z",
     "start_time": "2021-04-11T01:14:52.969613Z"
    }
   },
   "outputs": [],
   "source": [
    "ERROR = 0.0288333"
   ]
  },
  {
   "cell_type": "code",
   "execution_count": 52,
   "id": "organic-thumb",
   "metadata": {
    "ExecuteTime": {
     "end_time": "2021-04-11T01:14:54.421564Z",
     "start_time": "2021-04-11T01:14:54.414564Z"
    }
   },
   "outputs": [],
   "source": [
    "model_mean = final_b1.groupby(\"Model\").mean()"
   ]
  },
  {
   "cell_type": "code",
   "execution_count": 53,
   "id": "indian-banking",
   "metadata": {
    "ExecuteTime": {
     "end_time": "2021-04-11T01:14:58.508401Z",
     "start_time": "2021-04-11T01:14:58.503403Z"
    }
   },
   "outputs": [],
   "source": [
    "model_mean = model_mean[['K_eff_ana']]"
   ]
  },
  {
   "cell_type": "code",
   "execution_count": 54,
   "id": "arranged-strain",
   "metadata": {
    "ExecuteTime": {
     "end_time": "2021-04-11T01:14:58.973582Z",
     "start_time": "2021-04-11T01:14:58.968587Z"
    }
   },
   "outputs": [],
   "source": [
    "model_mean[\"Error\"] = (abs(model_mean.K_eff_ana - 1) /1) * 100"
   ]
  },
  {
   "cell_type": "code",
   "execution_count": 55,
   "id": "fabulous-vintage",
   "metadata": {
    "ExecuteTime": {
     "end_time": "2021-04-11T01:15:01.413707Z",
     "start_time": "2021-04-11T01:15:01.407182Z"
    }
   },
   "outputs": [],
   "source": [
    "model_mean = model_mean.reset_index()"
   ]
  },
  {
   "cell_type": "code",
   "execution_count": 56,
   "id": "digital-victorian",
   "metadata": {
    "ExecuteTime": {
     "end_time": "2021-04-11T01:15:01.616822Z",
     "start_time": "2021-04-11T01:15:01.607724Z"
    }
   },
   "outputs": [
    {
     "data": {
      "text/html": [
       "<div>\n",
       "<style scoped>\n",
       "    .dataframe tbody tr th:only-of-type {\n",
       "        vertical-align: middle;\n",
       "    }\n",
       "\n",
       "    .dataframe tbody tr th {\n",
       "        vertical-align: top;\n",
       "    }\n",
       "\n",
       "    .dataframe thead th {\n",
       "        text-align: right;\n",
       "    }\n",
       "</style>\n",
       "<table border=\"1\" class=\"dataframe\">\n",
       "  <thead>\n",
       "    <tr style=\"text-align: right;\">\n",
       "      <th></th>\n",
       "      <th>Model</th>\n",
       "      <th>K_eff_ana</th>\n",
       "      <th>Error</th>\n",
       "    </tr>\n",
       "  </thead>\n",
       "  <tbody>\n",
       "    <tr>\n",
       "      <th>15</th>\n",
       "      <td>XGB10_L3_MB20000_none_rmse_B1_v1</td>\n",
       "      <td>1.001158</td>\n",
       "      <td>0.115767</td>\n",
       "    </tr>\n",
       "    <tr>\n",
       "      <th>0</th>\n",
       "      <td>XGB10_L0_MB10000_none_rmse_B1_v1</td>\n",
       "      <td>0.998326</td>\n",
       "      <td>0.167433</td>\n",
       "    </tr>\n",
       "    <tr>\n",
       "      <th>19</th>\n",
       "      <td>XGB10_L3_MB50000_none_rmse_B1_v1</td>\n",
       "      <td>0.998114</td>\n",
       "      <td>0.188633</td>\n",
       "    </tr>\n",
       "    <tr>\n",
       "      <th>12</th>\n",
       "      <td>XGB10_L2_MB40000_none_rmse_B1_v1</td>\n",
       "      <td>0.995217</td>\n",
       "      <td>0.478333</td>\n",
       "    </tr>\n",
       "    <tr>\n",
       "      <th>30</th>\n",
       "      <td>XGB20_L2_MB30000_none_rmse_B1_v1</td>\n",
       "      <td>0.994857</td>\n",
       "      <td>0.514267</td>\n",
       "    </tr>\n",
       "  </tbody>\n",
       "</table>\n",
       "</div>"
      ],
      "text/plain": [
       "                               Model  K_eff_ana     Error\n",
       "15  XGB10_L3_MB20000_none_rmse_B1_v1   1.001158  0.115767\n",
       "0   XGB10_L0_MB10000_none_rmse_B1_v1   0.998326  0.167433\n",
       "19  XGB10_L3_MB50000_none_rmse_B1_v1   0.998114  0.188633\n",
       "12  XGB10_L2_MB40000_none_rmse_B1_v1   0.995217  0.478333\n",
       "30  XGB20_L2_MB30000_none_rmse_B1_v1   0.994857  0.514267"
      ]
     },
     "execution_count": 56,
     "metadata": {},
     "output_type": "execute_result"
    }
   ],
   "source": [
    "model_mean.sort_values(\"Error\").head()"
   ]
  },
  {
   "cell_type": "code",
   "execution_count": 57,
   "id": "empty-olive",
   "metadata": {
    "ExecuteTime": {
     "end_time": "2021-04-11T01:15:10.171345Z",
     "start_time": "2021-04-11T01:15:10.166344Z"
    }
   },
   "outputs": [],
   "source": [
    "model_mean = model_mean[model_mean.Error < ERROR]"
   ]
  },
  {
   "cell_type": "code",
   "execution_count": 58,
   "id": "detailed-steering",
   "metadata": {
    "ExecuteTime": {
     "end_time": "2021-04-11T01:15:10.715926Z",
     "start_time": "2021-04-11T01:15:10.710922Z"
    }
   },
   "outputs": [
    {
     "name": "stdout",
     "output_type": "stream",
     "text": [
      "\\begin{tabular}{lrr}\n",
      "\\toprule\n",
      "Empty DataFrame\n",
      "Columns: Index(['Model', 'K\\_eff\\_ana', 'Error'], dtype='object')\n",
      "Index: Int64Index([], dtype='int64') \\\\\n",
      "\\bottomrule\n",
      "\\end{tabular}\n",
      "\n"
     ]
    }
   ],
   "source": [
    "print(model_mean.sort_values(\"Error\").to_latex(index=False))"
   ]
  },
  {
   "cell_type": "code",
   "execution_count": null,
   "id": "consistent-counter",
   "metadata": {},
   "outputs": [],
   "source": []
  }
 ],
 "metadata": {
  "kernelspec": {
   "display_name": "Python 3",
   "language": "python",
   "name": "python3"
  },
  "language_info": {
   "codemirror_mode": {
    "name": "ipython",
    "version": 3
   },
   "file_extension": ".py",
   "mimetype": "text/x-python",
   "name": "python",
   "nbconvert_exporter": "python",
   "pygments_lexer": "ipython3",
   "version": "3.8.8"
  }
 },
 "nbformat": 4,
 "nbformat_minor": 5
}
