{
 "cells": [
  {
   "cell_type": "markdown",
   "id": "swedish-commander",
   "metadata": {},
   "source": [
    "# Analyzing Benchmark Results for Validation"
   ]
  },
  {
   "cell_type": "code",
   "execution_count": 1,
   "id": "indie-liability",
   "metadata": {
    "ExecuteTime": {
     "end_time": "2021-04-29T17:43:20.177002Z",
     "start_time": "2021-04-29T17:43:20.173003Z"
    }
   },
   "outputs": [],
   "source": [
    "import sys\n",
    "# This allows us to import the nucml utilities\n",
    "sys.path.append(\"..\")"
   ]
  },
  {
   "cell_type": "code",
   "execution_count": 2,
   "id": "everyday-shopping",
   "metadata": {
    "ExecuteTime": {
     "end_time": "2021-04-29T17:43:24.647292Z",
     "start_time": "2021-04-29T17:43:20.370039Z"
    }
   },
   "outputs": [],
   "source": [
    "import pandas as pd\n",
    "import seaborn as sns\n",
    "import matplotlib.pyplot as plt\n",
    "import os\n",
    "\n",
    "pd.set_option('display.max_columns', 500)\n",
    "pd.set_option('display.max_rows', 50)\n",
    "pd.options.mode.chained_assignment = None  # default='warn'\n",
    "sns.set_style(\"white\")\n",
    "\n",
    "import nucml.exfor.data_utilities as exfor_utils\n",
    "import nucml.evaluation.data_utilities as endf_utils\n",
    "import nucml.plot.utilities as plot_utils\n",
    "import nucml.datasets as nuc_data\n",
    "import nucml.ace.data_utilities as ace_utils\n",
    "import nucml.model.building_utils as model_building\n",
    "import nucml.model.utilities as model_utils\n",
    "import nucml.general_utilities as gen_utils\n",
    "import nucml.ace.plot as ace_plots"
   ]
  },
  {
   "cell_type": "code",
   "execution_count": 3,
   "id": "equivalent-marina",
   "metadata": {
    "ExecuteTime": {
     "end_time": "2021-04-29T17:43:24.663295Z",
     "start_time": "2021-04-29T17:43:24.649292Z"
    }
   },
   "outputs": [
    {
     "name": "stdout",
     "output_type": "stream",
     "text": [
      "Finish re-loading scripts.\n"
     ]
    }
   ],
   "source": [
    "import importlib\n",
    "importlib.reload(exfor_utils)\n",
    "importlib.reload(gen_utils)\n",
    "importlib.reload(endf_utils)\n",
    "importlib.reload(plot_utils)\n",
    "importlib.reload(nuc_data)\n",
    "importlib.reload(ace_utils)\n",
    "importlib.reload(model_building)\n",
    "importlib.reload(model_utils)\n",
    "importlib.reload(ace_plots)\n",
    "print(\"Finish re-loading scripts.\")"
   ]
  },
  {
   "cell_type": "code",
   "execution_count": 4,
   "id": "bacterial-toolbox",
   "metadata": {
    "ExecuteTime": {
     "end_time": "2021-04-29T17:43:24.671295Z",
     "start_time": "2021-04-29T17:43:24.665296Z"
    }
   },
   "outputs": [],
   "source": [
    "figure_dir = \"figures/B0/\""
   ]
  },
  {
   "cell_type": "code",
   "execution_count": 5,
   "id": "quick-circumstances",
   "metadata": {
    "ExecuteTime": {
     "end_time": "2021-04-29T17:43:25.349384Z",
     "start_time": "2021-04-29T17:43:25.346375Z"
    }
   },
   "outputs": [],
   "source": [
    "sns.set(font_scale=2.5)\n",
    "sns.set_style('white')"
   ]
  },
  {
   "cell_type": "markdown",
   "id": "tired-london",
   "metadata": {},
   "source": [
    "## Gathering Results from Benchmark Calculations"
   ]
  },
  {
   "cell_type": "code",
   "execution_count": 6,
   "id": "funky-spice",
   "metadata": {
    "ExecuteTime": {
     "end_time": "2021-04-29T17:43:31.645711Z",
     "start_time": "2021-04-29T17:43:27.706480Z"
    }
   },
   "outputs": [],
   "source": [
    "model_results_b0 = ace_utils.gather_benchmark_results(\"ml/KNN_B0/\")\n",
    "model_results_b1 = ace_utils.gather_benchmark_results(\"ml/KNN_B1/\")\n",
    "# model_results_b2 = ace_utils.gather_benchmark_results(\"ml/KNN_B2/\")\n",
    "# model_results_b3 = ace_utils.gather_benchmark_results(\"ml/KNN_B3/\")\n",
    "# model_results_b4 = ace_utils.gather_benchmark_results(\"ml/KNN_B4/\")"
   ]
  },
  {
   "cell_type": "markdown",
   "id": "furnished-tattoo",
   "metadata": {},
   "source": [
    "## Analyzing Decision Tree Results"
   ]
  },
  {
   "cell_type": "code",
   "execution_count": 7,
   "id": "mighty-paste",
   "metadata": {
    "ExecuteTime": {
     "end_time": "2021-04-29T17:43:33.839816Z",
     "start_time": "2021-04-29T17:43:33.809696Z"
    }
   },
   "outputs": [],
   "source": [
    "results_b0 = pd.read_csv(\"../ML_EXFOR_neutrons/1_KNN/knn_results_B0.csv\")\n",
    "results_b1 = pd.read_csv(\"../ML_EXFOR_neutrons/1_KNN/knn_results_B1.csv\")\n",
    "# results_b2 = pd.read_csv(\"../ML_EXFOR_neutrons/1_KNN/knn_results_B2.csv\")\n",
    "# results_b3 = pd.read_csv(\"../ML_EXFOR_neutrons/1_KNN/knn_results_B3.csv\")\n",
    "# results_b4 = pd.read_csv(\"../ML_EXFOR_neutrons/1_KNN/knn_results_B4.csv\")"
   ]
  },
  {
   "cell_type": "code",
   "execution_count": 8,
   "id": "substantial-image",
   "metadata": {
    "ExecuteTime": {
     "end_time": "2021-04-29T17:43:33.972875Z",
     "start_time": "2021-04-29T17:43:33.969875Z"
    }
   },
   "outputs": [],
   "source": [
    "# results_b0[\"scale_energy\"] = results_b0.run_name.apply(lambda x: True if \"v2\" in x else False)\n",
    "# results_b0 = results_b0[results_b0.normalizer == \"minmax\"]\n",
    "# results_b0 = results_b0[results_b0.scale_energy == True]\n",
    "# results_b0 = results_b0[results_b0.distance_metric == 'manhattan']"
   ]
  },
  {
   "cell_type": "code",
   "execution_count": 9,
   "id": "french-pierre",
   "metadata": {
    "ExecuteTime": {
     "end_time": "2021-04-29T17:43:34.155491Z",
     "start_time": "2021-04-29T17:43:34.145492Z"
    }
   },
   "outputs": [],
   "source": [
    "results_b0['Model'] = results_b0.model_path.apply(lambda x: os.path.basename(os.path.dirname(x)))\n",
    "results_b0['dataset'] = 'b0'"
   ]
  },
  {
   "cell_type": "code",
   "execution_count": 10,
   "id": "urban-memorial",
   "metadata": {
    "ExecuteTime": {
     "end_time": "2021-04-29T17:43:34.493762Z",
     "start_time": "2021-04-29T17:43:34.489761Z"
    }
   },
   "outputs": [],
   "source": [
    "results_b1['Model'] = results_b1.model_path.apply(lambda x: os.path.basename(os.path.dirname(x)))\n",
    "results_b1['dataset'] = 'b1'"
   ]
  },
  {
   "cell_type": "code",
   "execution_count": 11,
   "id": "automotive-winner",
   "metadata": {
    "ExecuteTime": {
     "end_time": "2021-04-29T17:43:34.861660Z",
     "start_time": "2021-04-29T17:43:34.857658Z"
    }
   },
   "outputs": [],
   "source": [
    "# for df, dataset_tag in zip([results_b0, results_b1, results_b2, results_b3, results_b4], [\"b0\", \"b1\", \"b2\", \"b3\", \"b4\"]):\n",
    "#     df['Model'] = df.model_path.apply(lambda x: os.path.basename(os.path.dirname(x)))\n",
    "#     df['dataset'] = dataset_tag"
   ]
  },
  {
   "cell_type": "code",
   "execution_count": 12,
   "id": "danish-parking",
   "metadata": {
    "ExecuteTime": {
     "end_time": "2021-04-29T17:43:35.063500Z",
     "start_time": "2021-04-29T17:43:35.057510Z"
    }
   },
   "outputs": [],
   "source": [
    "results_b0 = results_b0[[\"Model\", \"train_mae\", \"val_mae\", \"test_mae\", \"dataset\"]]\n",
    "results_b1 = results_b1[[\"Model\", \"train_mae\", \"val_mae\", \"test_mae\", \"dataset\"]]\n",
    "# results_b2 = results_b2[[\"Model\", \"train_mae\", \"val_mae\", \"test_mae\", \"dataset\"]]\n",
    "# results_b3 = results_b3[[\"Model\", \"train_mae\", \"val_mae\", \"test_mae\", \"dataset\"]]\n",
    "# results_b4 = results_b4[[\"Model\", \"train_mae\", \"val_mae\", \"test_mae\", \"dataset\"]]"
   ]
  },
  {
   "cell_type": "code",
   "execution_count": 13,
   "id": "conscious-jacksonville",
   "metadata": {
    "ExecuteTime": {
     "end_time": "2021-04-29T17:43:35.307819Z",
     "start_time": "2021-04-29T17:43:35.297819Z"
    }
   },
   "outputs": [],
   "source": [
    "final_b0 = model_results_b0.merge(results_b0, on=\"Model\")\n",
    "final_b1 = model_results_b1.merge(results_b1, on=\"Model\")\n",
    "# final_b2 = model_results_b2.merge(results_b2, on=\"Model\")\n",
    "# final_b3 = model_results_b3.merge(results_b3, on=\"Model\")\n",
    "# final_b4 = model_results_b4.merge(results_b4, on=\"Model\")"
   ]
  },
  {
   "cell_type": "code",
   "execution_count": 14,
   "id": "antique-triumph",
   "metadata": {
    "ExecuteTime": {
     "end_time": "2021-04-29T17:43:35.566621Z",
     "start_time": "2021-04-29T17:43:35.561619Z"
    }
   },
   "outputs": [],
   "source": [
    "final_set = final_b0.append(final_b1)\n",
    "\n",
    "# final_set = final_b0.append(final_b1).append(final_b2).append(final_b3).append(final_b4)\n",
    "\n",
    "# final_set[\"k\"] = final_set.Model.apply(lambda x: x.split(\"_\")[0][1:]).astype(int)"
   ]
  },
  {
   "cell_type": "code",
   "execution_count": 15,
   "id": "weighted-contact",
   "metadata": {
    "ExecuteTime": {
     "end_time": "2021-04-29T17:43:36.248110Z",
     "start_time": "2021-04-29T17:43:36.243108Z"
    }
   },
   "outputs": [],
   "source": [
    "# final_b1[\"k\"] = final_b1.Model.apply(lambda x: x.split(\"_\")[0][1:]).astype(int)\n",
    "\n",
    "final_set[\"k\"] = final_set.Model.apply(lambda x: x.split(\"_\")[0][1:]).astype(int)\n"
   ]
  },
  {
   "cell_type": "code",
   "execution_count": 16,
   "id": "published-office",
   "metadata": {
    "ExecuteTime": {
     "end_time": "2021-04-29T17:43:37.237206Z",
     "start_time": "2021-04-29T17:43:37.234204Z"
    }
   },
   "outputs": [],
   "source": [
    "# u233_002_001 = final_set[final_set.Benchmark == \"U233_MET_FAST_002_001\"].sort_values(by=\"Deviation_Ana\")\n",
    "# u233_002_002 = final_set[final_set.Benchmark == \"U233_MET_FAST_002_002\"].sort_values(by=\"Deviation_Ana\")\n",
    "# u233_001 = final_set[final_set.Benchmark == \"U233_MET_FAST_001\"].sort_values(by=\"Deviation_Ana\")"
   ]
  },
  {
   "cell_type": "code",
   "execution_count": 17,
   "id": "opening-divide",
   "metadata": {
    "ExecuteTime": {
     "end_time": "2021-04-29T17:43:38.284878Z",
     "start_time": "2021-04-29T17:43:38.281878Z"
    }
   },
   "outputs": [],
   "source": [
    "# u233_002_001 = final_b1[final_b1.Benchmark == \"U233_MET_FAST_002_001\"].sort_values(by=\"Deviation_Ana\")[['k', 'K_eff_ana', 'Unc_ana', 'Deviation_Ana', 'train_mae', 'val_mae', 'test_mae']]\n",
    "# u233_002_002 = final_b1[final_b1.Benchmark == \"U233_MET_FAST_002_002\"].sort_values(by=\"Deviation_Ana\")[['k', 'K_eff_ana', 'Unc_ana', 'Deviation_Ana', 'train_mae', 'val_mae', 'test_mae']]\n",
    "# u233_001 = final_b1[final_b1.Benchmark == \"U233_MET_FAST_001\"].sort_values(by=\"Deviation_Ana\")[['k', 'K_eff_ana', 'Unc_ana', 'Deviation_Ana', 'train_mae', 'val_mae', 'test_mae']]"
   ]
  },
  {
   "cell_type": "code",
   "execution_count": 18,
   "id": "circular-basin",
   "metadata": {
    "ExecuteTime": {
     "end_time": "2021-04-29T17:43:38.731582Z",
     "start_time": "2021-04-29T17:43:38.721582Z"
    }
   },
   "outputs": [],
   "source": [
    "u233_002_001 = final_set[final_set.Benchmark == \"U233_MET_FAST_002_001\"].sort_values(by=\"Deviation_Ana\")[['Model', 'K_eff_ana', 'Unc_ana', 'Deviation_Ana', 'train_mae', 'val_mae', 'test_mae']]\n",
    "u233_002_002 = final_set[final_set.Benchmark == \"U233_MET_FAST_002_002\"].sort_values(by=\"Deviation_Ana\")[['Model', 'K_eff_ana', 'Unc_ana', 'Deviation_Ana', 'train_mae', 'val_mae', 'test_mae']]\n",
    "u233_001 = final_set[final_set.Benchmark == \"U233_MET_FAST_001\"].sort_values(by=\"Deviation_Ana\")[['Model', 'K_eff_ana', 'Unc_ana', 'Deviation_Ana', 'train_mae', 'val_mae', 'test_mae']]"
   ]
  },
  {
   "cell_type": "code",
   "execution_count": 19,
   "id": "adaptive-scanner",
   "metadata": {
    "ExecuteTime": {
     "end_time": "2021-04-29T17:43:39.593634Z",
     "start_time": "2021-04-29T17:43:39.585606Z"
    }
   },
   "outputs": [],
   "source": [
    "u233_001.Deviation_Ana = u233_001.Deviation_Ana * 100\n",
    "u233_002_001.Deviation_Ana = u233_002_001.Deviation_Ana * 100\n",
    "u233_002_002.Deviation_Ana = u233_002_002.Deviation_Ana * 100"
   ]
  },
  {
   "cell_type": "markdown",
   "id": "general-western",
   "metadata": {},
   "source": [
    "# U233_001"
   ]
  },
  {
   "cell_type": "code",
   "execution_count": 41,
   "id": "worthy-parish",
   "metadata": {
    "ExecuteTime": {
     "end_time": "2021-04-22T22:49:54.045291Z",
     "start_time": "2021-04-22T22:49:54.023288Z"
    }
   },
   "outputs": [
    {
     "name": "stdout",
     "output_type": "stream",
     "text": [
      "\\begin{tabular}{lrrrrrrl}\n",
      "\\toprule\n",
      "                                      Model &  K\\_eff\\_ana &  Unc\\_ana &  Deviation\\_Ana &  train\\_mae &  val\\_mae &  test\\_mae &   tag \\\\\n",
      "\\midrule\n",
      "k20\\_distance\\_manhattan\\_minmax\\_one\\_hot\\_B1\\_v1 &   0.997505 &  0.00043 &         0.2495 &   0.025814 & 0.121110 &  0.120706 & Train \\\\\n",
      " k9\\_distance\\_manhattan\\_minmax\\_one\\_hot\\_B1\\_v1 &   1.005510 &  0.00042 &         0.5510 &   0.025921 & 0.119010 &  0.118578 &   Val \\\\\n",
      " k8\\_distance\\_manhattan\\_minmax\\_one\\_hot\\_B1\\_v1 &   1.006040 &  0.00044 &         0.6040 &   0.025952 & 0.119074 &  0.118461 &  Test \\\\\n",
      "\\bottomrule\n",
      "\\end{tabular}\n",
      "\n"
     ]
    }
   ],
   "source": [
    "print(model_utils.get_best_models_df(u233_001).to_latex(index=False))"
   ]
  },
  {
   "cell_type": "code",
   "execution_count": 42,
   "id": "recorded-store",
   "metadata": {
    "ExecuteTime": {
     "end_time": "2021-04-22T22:49:55.876219Z",
     "start_time": "2021-04-22T22:49:55.863222Z"
    }
   },
   "outputs": [
    {
     "name": "stdout",
     "output_type": "stream",
     "text": [
      "\\begin{tabular}{lrrrrrr}\n",
      "\\toprule\n",
      "                                      Model &  K\\_eff\\_ana &  Unc\\_ana &  Deviation\\_Ana &  train\\_mae &  val\\_mae &  test\\_mae \\\\\n",
      "\\midrule\n",
      "k18\\_distance\\_manhattan\\_minmax\\_one\\_hot\\_B1\\_v1 &    0.99989 &  0.00045 &          0.011 &   0.025818 & 0.120711 &  0.120294 \\\\\n",
      "\\bottomrule\n",
      "\\end{tabular}\n",
      "\n"
     ]
    }
   ],
   "source": [
    "print(u233_001.head(1).to_latex(index=False))"
   ]
  },
  {
   "cell_type": "markdown",
   "id": "dutch-threat",
   "metadata": {},
   "source": [
    "# U233_002_001"
   ]
  },
  {
   "cell_type": "code",
   "execution_count": 67,
   "id": "identified-absence",
   "metadata": {
    "ExecuteTime": {
     "end_time": "2021-04-11T00:17:03.970944Z",
     "start_time": "2021-04-11T00:17:03.948934Z"
    }
   },
   "outputs": [
    {
     "name": "stdout",
     "output_type": "stream",
     "text": [
      "\\begin{tabular}{rrrrrrrl}\n",
      "\\toprule\n",
      " k &  K\\_eff\\_ana &  Unc\\_ana &  Deviation\\_Ana &  train\\_mae &  val\\_mae &  test\\_mae &   tag \\\\\n",
      "\\midrule\n",
      "20 &   0.998708 &  0.00044 &         0.1292 &   0.025814 & 0.121110 &  0.120706 & Train \\\\\n",
      " 9 &   1.006410 &  0.00043 &         0.6410 &   0.025921 & 0.119010 &  0.118578 &   Val \\\\\n",
      " 8 &   1.007830 &  0.00042 &         0.7830 &   0.025952 & 0.119074 &  0.118461 &  Test \\\\\n",
      "\\bottomrule\n",
      "\\end{tabular}\n",
      "\n"
     ]
    }
   ],
   "source": [
    "print(model_utils.get_best_models_df(u233_002_001).to_latex(index=False))"
   ]
  },
  {
   "cell_type": "code",
   "execution_count": 68,
   "id": "exact-serial",
   "metadata": {
    "ExecuteTime": {
     "end_time": "2021-04-11T00:17:06.136458Z",
     "start_time": "2021-04-11T00:17:06.125455Z"
    }
   },
   "outputs": [
    {
     "name": "stdout",
     "output_type": "stream",
     "text": [
      "\\begin{tabular}{rrrrrrr}\n",
      "\\toprule\n",
      " k &  K\\_eff\\_ana &  Unc\\_ana &  Deviation\\_Ana &  train\\_mae &  val\\_mae &  test\\_mae \\\\\n",
      "\\midrule\n",
      "17 &    1.00021 &  0.00044 &          0.021 &   0.025822 & 0.120527 &  0.120098 \\\\\n",
      "\\bottomrule\n",
      "\\end{tabular}\n",
      "\n"
     ]
    }
   ],
   "source": [
    "print(u233_002_001.head(1).to_latex(index=False))"
   ]
  },
  {
   "cell_type": "markdown",
   "id": "separate-video",
   "metadata": {},
   "source": [
    "# U233_002_002"
   ]
  },
  {
   "cell_type": "code",
   "execution_count": 69,
   "id": "capital-apparatus",
   "metadata": {
    "ExecuteTime": {
     "end_time": "2021-04-11T00:32:49.627178Z",
     "start_time": "2021-04-11T00:32:49.602175Z"
    }
   },
   "outputs": [
    {
     "name": "stdout",
     "output_type": "stream",
     "text": [
      "\\begin{tabular}{rrrrrrrl}\n",
      "\\toprule\n",
      " k &  K\\_eff\\_ana &  Unc\\_ana &  Deviation\\_Ana &  train\\_mae &  val\\_mae &  test\\_mae &   tag \\\\\n",
      "\\midrule\n",
      "20 &    1.00154 &  0.00044 &          0.154 &   0.025814 & 0.121110 &  0.120706 & Train \\\\\n",
      " 9 &    1.00874 &  0.00045 &          0.874 &   0.025921 & 0.119010 &  0.118578 &   Val \\\\\n",
      " 8 &    1.00996 &  0.00044 &          0.996 &   0.025952 & 0.119074 &  0.118461 &  Test \\\\\n",
      "\\bottomrule\n",
      "\\end{tabular}\n",
      "\n"
     ]
    }
   ],
   "source": [
    "print(model_utils.get_best_models_df(u233_002_002).to_latex(index=False))"
   ]
  },
  {
   "cell_type": "code",
   "execution_count": 70,
   "id": "announced-african",
   "metadata": {
    "ExecuteTime": {
     "end_time": "2021-04-11T00:32:50.027794Z",
     "start_time": "2021-04-11T00:32:50.010752Z"
    }
   },
   "outputs": [
    {
     "name": "stdout",
     "output_type": "stream",
     "text": [
      "\\begin{tabular}{rrrrrrr}\n",
      "\\toprule\n",
      " k &  K\\_eff\\_ana &  Unc\\_ana &  Deviation\\_Ana &  train\\_mae &  val\\_mae &  test\\_mae \\\\\n",
      "\\midrule\n",
      "20 &    1.00154 &  0.00044 &          0.154 &   0.025814 &  0.12111 &  0.120706 \\\\\n",
      "\\bottomrule\n",
      "\\end{tabular}\n",
      "\n"
     ]
    }
   ],
   "source": [
    "print(u233_002_002.head(1).to_latex(index=False))"
   ]
  },
  {
   "cell_type": "markdown",
   "id": "modified-sponsorship",
   "metadata": {},
   "source": [
    "# Best Models Overall"
   ]
  },
  {
   "cell_type": "code",
   "execution_count": 73,
   "id": "increased-employee",
   "metadata": {
    "ExecuteTime": {
     "end_time": "2021-04-11T01:00:50.900928Z",
     "start_time": "2021-04-11T01:00:50.897926Z"
    }
   },
   "outputs": [],
   "source": [
    "import numpy as np"
   ]
  },
  {
   "cell_type": "code",
   "execution_count": 74,
   "id": "exterior-comedy",
   "metadata": {
    "ExecuteTime": {
     "end_time": "2021-04-11T01:00:51.183194Z",
     "start_time": "2021-04-11T01:00:51.178197Z"
    }
   },
   "outputs": [
    {
     "data": {
      "text/plain": [
       "0.9997116666666667"
      ]
     },
     "execution_count": 74,
     "metadata": {},
     "output_type": "execute_result"
    }
   ],
   "source": [
    "np.array([0.998075, 1.00086, 1.000200]).mean()"
   ]
  },
  {
   "cell_type": "code",
   "execution_count": 20,
   "id": "endangered-donor",
   "metadata": {
    "ExecuteTime": {
     "end_time": "2021-04-29T17:43:45.878140Z",
     "start_time": "2021-04-29T17:43:45.874140Z"
    }
   },
   "outputs": [],
   "source": [
    "ERROR = 0.0288333"
   ]
  },
  {
   "cell_type": "code",
   "execution_count": 21,
   "id": "compatible-import",
   "metadata": {
    "ExecuteTime": {
     "end_time": "2021-04-29T17:43:46.055140Z",
     "start_time": "2021-04-29T17:43:46.050137Z"
    }
   },
   "outputs": [],
   "source": [
    "model_mean = final_b1.groupby(\"Model\").mean()"
   ]
  },
  {
   "cell_type": "code",
   "execution_count": 93,
   "id": "exposed-speech",
   "metadata": {
    "ExecuteTime": {
     "end_time": "2021-04-11T01:10:24.976798Z",
     "start_time": "2021-04-11T01:10:24.971781Z"
    }
   },
   "outputs": [],
   "source": [
    "model_mean = model_mean[['K_eff_ana']]"
   ]
  },
  {
   "cell_type": "code",
   "execution_count": 22,
   "id": "centered-procedure",
   "metadata": {
    "ExecuteTime": {
     "end_time": "2021-04-29T17:43:47.390667Z",
     "start_time": "2021-04-29T17:43:47.385677Z"
    }
   },
   "outputs": [],
   "source": [
    "model_mean[\"Error\"] = (abs(model_mean.K_eff_ana - 1) /1) * 100"
   ]
  },
  {
   "cell_type": "code",
   "execution_count": 23,
   "id": "deluxe-version",
   "metadata": {
    "ExecuteTime": {
     "end_time": "2021-04-29T17:43:48.413070Z",
     "start_time": "2021-04-29T17:43:48.409068Z"
    }
   },
   "outputs": [],
   "source": [
    "model_mean = model_mean.reset_index()"
   ]
  },
  {
   "cell_type": "code",
   "execution_count": 24,
   "id": "difficult-senior",
   "metadata": {
    "ExecuteTime": {
     "end_time": "2021-04-29T17:43:49.298410Z",
     "start_time": "2021-04-29T17:43:49.279410Z"
    }
   },
   "outputs": [
    {
     "data": {
      "text/html": [
       "<div>\n",
       "<style scoped>\n",
       "    .dataframe tbody tr th:only-of-type {\n",
       "        vertical-align: middle;\n",
       "    }\n",
       "\n",
       "    .dataframe tbody tr th {\n",
       "        vertical-align: top;\n",
       "    }\n",
       "\n",
       "    .dataframe thead th {\n",
       "        text-align: right;\n",
       "    }\n",
       "</style>\n",
       "<table border=\"1\" class=\"dataframe\">\n",
       "  <thead>\n",
       "    <tr style=\"text-align: right;\">\n",
       "      <th></th>\n",
       "      <th>Model</th>\n",
       "      <th>K_eff_ana</th>\n",
       "      <th>Unc_ana</th>\n",
       "      <th>K_eff_imp</th>\n",
       "      <th>Unc_imp</th>\n",
       "      <th>Deviation_Ana</th>\n",
       "      <th>Deviation_Imp</th>\n",
       "      <th>train_mae</th>\n",
       "      <th>val_mae</th>\n",
       "      <th>test_mae</th>\n",
       "      <th>Error</th>\n",
       "    </tr>\n",
       "  </thead>\n",
       "  <tbody>\n",
       "    <tr>\n",
       "      <th>9</th>\n",
       "      <td>k19_distance_manhattan_minmax_one_hot_B1_v1</td>\n",
       "      <td>0.999910</td>\n",
       "      <td>0.000440</td>\n",
       "      <td>0.999908</td>\n",
       "      <td>0.000303</td>\n",
       "      <td>0.001956</td>\n",
       "      <td>0.001838</td>\n",
       "      <td>0.025817</td>\n",
       "      <td>0.120899</td>\n",
       "      <td>0.120494</td>\n",
       "      <td>0.008967</td>\n",
       "    </tr>\n",
       "    <tr>\n",
       "      <th>10</th>\n",
       "      <td>k1_distance_manhattan_minmax_one_hot_B1_v1</td>\n",
       "      <td>0.999706</td>\n",
       "      <td>0.000427</td>\n",
       "      <td>0.999953</td>\n",
       "      <td>0.000287</td>\n",
       "      <td>0.001540</td>\n",
       "      <td>0.001734</td>\n",
       "      <td>0.029016</td>\n",
       "      <td>0.140824</td>\n",
       "      <td>0.141952</td>\n",
       "      <td>0.029367</td>\n",
       "    </tr>\n",
       "    <tr>\n",
       "      <th>11</th>\n",
       "      <td>k20_distance_manhattan_minmax_one_hot_B1_v1</td>\n",
       "      <td>0.999251</td>\n",
       "      <td>0.000437</td>\n",
       "      <td>0.999333</td>\n",
       "      <td>0.000300</td>\n",
       "      <td>0.001776</td>\n",
       "      <td>0.001700</td>\n",
       "      <td>0.025814</td>\n",
       "      <td>0.121110</td>\n",
       "      <td>0.120706</td>\n",
       "      <td>0.074900</td>\n",
       "    </tr>\n",
       "    <tr>\n",
       "      <th>8</th>\n",
       "      <td>k18_distance_manhattan_minmax_one_hot_B1_v1</td>\n",
       "      <td>1.000766</td>\n",
       "      <td>0.000437</td>\n",
       "      <td>1.000475</td>\n",
       "      <td>0.000300</td>\n",
       "      <td>0.001081</td>\n",
       "      <td>0.001298</td>\n",
       "      <td>0.025818</td>\n",
       "      <td>0.120711</td>\n",
       "      <td>0.120294</td>\n",
       "      <td>0.076600</td>\n",
       "    </tr>\n",
       "    <tr>\n",
       "      <th>7</th>\n",
       "      <td>k17_distance_manhattan_minmax_one_hot_B1_v1</td>\n",
       "      <td>1.000776</td>\n",
       "      <td>0.000440</td>\n",
       "      <td>1.001030</td>\n",
       "      <td>0.000293</td>\n",
       "      <td>0.001004</td>\n",
       "      <td>0.001250</td>\n",
       "      <td>0.025822</td>\n",
       "      <td>0.120527</td>\n",
       "      <td>0.120098</td>\n",
       "      <td>0.077567</td>\n",
       "    </tr>\n",
       "  </tbody>\n",
       "</table>\n",
       "</div>"
      ],
      "text/plain": [
       "                                          Model  K_eff_ana   Unc_ana  \\\n",
       "9   k19_distance_manhattan_minmax_one_hot_B1_v1   0.999910  0.000440   \n",
       "10   k1_distance_manhattan_minmax_one_hot_B1_v1   0.999706  0.000427   \n",
       "11  k20_distance_manhattan_minmax_one_hot_B1_v1   0.999251  0.000437   \n",
       "8   k18_distance_manhattan_minmax_one_hot_B1_v1   1.000766  0.000437   \n",
       "7   k17_distance_manhattan_minmax_one_hot_B1_v1   1.000776  0.000440   \n",
       "\n",
       "    K_eff_imp   Unc_imp  Deviation_Ana  Deviation_Imp  train_mae   val_mae  \\\n",
       "9    0.999908  0.000303       0.001956       0.001838   0.025817  0.120899   \n",
       "10   0.999953  0.000287       0.001540       0.001734   0.029016  0.140824   \n",
       "11   0.999333  0.000300       0.001776       0.001700   0.025814  0.121110   \n",
       "8    1.000475  0.000300       0.001081       0.001298   0.025818  0.120711   \n",
       "7    1.001030  0.000293       0.001004       0.001250   0.025822  0.120527   \n",
       "\n",
       "    test_mae     Error  \n",
       "9   0.120494  0.008967  \n",
       "10  0.141952  0.029367  \n",
       "11  0.120706  0.074900  \n",
       "8   0.120294  0.076600  \n",
       "7   0.120098  0.077567  "
      ]
     },
     "execution_count": 24,
     "metadata": {},
     "output_type": "execute_result"
    }
   ],
   "source": [
    "model_mean.sort_values(\"Error\").head()"
   ]
  },
  {
   "cell_type": "code",
   "execution_count": 90,
   "id": "fabulous-companion",
   "metadata": {
    "ExecuteTime": {
     "end_time": "2021-04-11T01:10:14.624257Z",
     "start_time": "2021-04-11T01:10:14.620239Z"
    }
   },
   "outputs": [],
   "source": [
    "model_mean = model_mean[model_mean.Error < ERROR]"
   ]
  },
  {
   "cell_type": "code",
   "execution_count": 91,
   "id": "weekly-health",
   "metadata": {
    "ExecuteTime": {
     "end_time": "2021-04-11T01:10:15.571073Z",
     "start_time": "2021-04-11T01:10:15.562034Z"
    }
   },
   "outputs": [
    {
     "name": "stdout",
     "output_type": "stream",
     "text": [
      "\\begin{tabular}{lrr}\n",
      "\\toprule\n",
      "                                      Model &  K\\_eff\\_ana &    Error \\\\\n",
      "\\midrule\n",
      "k19\\_distance\\_manhattan\\_minmax\\_one\\_hot\\_B1\\_v1 &    0.99991 & 0.008967 \\\\\n",
      "\\bottomrule\n",
      "\\end{tabular}\n",
      "\n"
     ]
    }
   ],
   "source": [
    "print(model_mean.sort_values(\"Error\").to_latex(index=False))"
   ]
  },
  {
   "cell_type": "code",
   "execution_count": 1,
   "id": "static-jewelry",
   "metadata": {
    "ExecuteTime": {
     "end_time": "2021-04-10T21:04:02.208459Z",
     "start_time": "2021-04-10T21:04:02.205458Z"
    }
   },
   "outputs": [],
   "source": [
    "# ace_plots.knn_dual_plot(\n",
    "#     knn_robust_euclidean, \"k\", \"train_mae\", \"val_mae\", \"Deviation_Ana\", save=False, saving_dir=figure_dir)\n",
    "\n",
    "# # ace_plot_utils.knn_dual_plot(\n",
    "# #     knn_robust_euclidean, \"k\", \"train_mae\", \"val_mae\", \"K_eff_ana\", save=False, saving_dir=figure_dir)\n",
    "\n",
    "# ace_plots.knn_keff_plot(\n",
    "#     knn_robust_euclidean, \"k\", \"val_mae\", \"Deviation_Ana\", save=True, saving_dir=figure_dir)"
   ]
  },
  {
   "cell_type": "code",
   "execution_count": 107,
   "id": "nominated-section",
   "metadata": {
    "ExecuteTime": {
     "end_time": "2021-04-05T03:48:09.408080Z",
     "start_time": "2021-04-05T03:48:09.385081Z"
    }
   },
   "outputs": [],
   "source": [
    "# not_to_delete = knn_final.sort_values(by=\"Deviation_Ana\").head()\n",
    "# not_to_delete = not_to_delete.append(model_utils.get_best_models_df(knn_robust_euclidean))\n",
    "\n",
    "# to_delete = []\n",
    "\n",
    "# for i in knn_final.model_path.values:\n",
    "#     if i not in not_to_delete.model_path.values:\n",
    "#         to_delete.append(os.path.dirname(i))\n",
    "\n",
    "# import shutil\n",
    "\n",
    "# for i in to_delete:\n",
    "#     shutil.rmtree(i) "
   ]
  },
  {
   "cell_type": "code",
   "execution_count": null,
   "id": "institutional-burton",
   "metadata": {},
   "outputs": [],
   "source": []
  }
 ],
 "metadata": {
  "kernelspec": {
   "display_name": "Python 3",
   "language": "python",
   "name": "python3"
  },
  "language_info": {
   "codemirror_mode": {
    "name": "ipython",
    "version": 3
   },
   "file_extension": ".py",
   "mimetype": "text/x-python",
   "name": "python",
   "nbconvert_exporter": "python",
   "pygments_lexer": "ipython3",
   "version": "3.8.8"
  }
 },
 "nbformat": 4,
 "nbformat_minor": 5
}
