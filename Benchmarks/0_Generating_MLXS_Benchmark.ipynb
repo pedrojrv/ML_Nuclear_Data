{
 "cells": [
  {
   "cell_type": "markdown",
   "metadata": {},
   "source": [
    "# Generating ML XS, ACE Files, Benchmark Inputs and Serpent Scripts"
   ]
  },
  {
   "cell_type": "code",
   "execution_count": 127,
   "metadata": {
    "ExecuteTime": {
     "end_time": "2021-01-18T23:15:18.215589Z",
     "start_time": "2021-01-18T23:15:18.211589Z"
    }
   },
   "outputs": [],
   "source": [
    "import pandas as pd\n",
    "import os\n",
    "import logging\n",
    "\n",
    "pd.set_option('display.max_columns', 500)\n",
    "pd.set_option('display.max_rows', 50)\n",
    "pd.options.mode.chained_assignment = None  # default='warn'\n",
    "\n",
    "import sys\n",
    "# This allows us to import the nucml utilities\n",
    "sys.path.append(\"..\")\n",
    "\n",
    "\n",
    "import nucml.datasets as nuc_data\n",
    "import nucml.ace.data_utilities as ace_utils\n",
    "import nucml.model.model_utilities as model_utils"
   ]
  },
  {
   "cell_type": "code",
   "execution_count": 128,
   "metadata": {
    "ExecuteTime": {
     "end_time": "2021-01-18T23:15:18.478646Z",
     "start_time": "2021-01-18T23:15:18.475646Z"
    }
   },
   "outputs": [],
   "source": [
    "figure_dir = \"Figures/\""
   ]
  },
  {
   "cell_type": "code",
   "execution_count": 129,
   "metadata": {
    "ExecuteTime": {
     "end_time": "2021-01-18T23:15:18.799644Z",
     "start_time": "2021-01-18T23:15:18.796642Z"
    }
   },
   "outputs": [],
   "source": [
    "import logging\n",
    "logger = logging.getLogger()\n",
    "logger.setLevel(logging.CRITICAL)"
   ]
  },
  {
   "cell_type": "code",
   "execution_count": 215,
   "metadata": {
    "ExecuteTime": {
     "end_time": "2021-01-19T02:27:38.270655Z",
     "start_time": "2021-01-19T02:27:38.263654Z"
    }
   },
   "outputs": [
    {
     "name": "stdout",
     "output_type": "stream",
     "text": [
      "Finish re-loading scripts.\n"
     ]
    }
   ],
   "source": [
    "import importlib\n",
    "importlib.reload(nuc_data)\n",
    "importlib.reload(ace_utils)\n",
    "importlib.reload(model_utils)\n",
    "print(\"Finish re-loading scripts.\")"
   ]
  },
  {
   "cell_type": "code",
   "execution_count": 216,
   "metadata": {
    "ExecuteTime": {
     "end_time": "2021-01-19T02:27:38.445079Z",
     "start_time": "2021-01-19T02:27:38.436076Z"
    }
   },
   "outputs": [
    {
     "data": {
      "text/plain": [
       "<module 'nucml.exfor.data_utilities' from '..\\\\nucml\\\\exfor\\\\data_utilities.py'>"
      ]
     },
     "execution_count": 216,
     "metadata": {},
     "output_type": "execute_result"
    }
   ],
   "source": [
    "import nucml.exfor.data_utilities as exfor_utils\n",
    "import nucml.general_utilities as gen_utils\n",
    "importlib.reload(gen_utils)\n",
    "importlib.reload(exfor_utils)"
   ]
  },
  {
   "cell_type": "markdown",
   "metadata": {},
   "source": [
    "# B0 Dataset"
   ]
  },
  {
   "cell_type": "code",
   "execution_count": 32,
   "metadata": {
    "ExecuteTime": {
     "end_time": "2021-01-18T20:09:20.079444Z",
     "start_time": "2021-01-18T20:07:26.730646Z"
    }
   },
   "outputs": [],
   "source": [
    "# LOADING DATASET\n",
    "df_b0, _, _, _, _, to_scale_b0, _ = nuc_data.load_exfor(pedro=True, basic=0)"
   ]
  },
  {
   "cell_type": "markdown",
   "metadata": {},
   "source": [
    "## Decision Tree"
   ]
  },
  {
   "cell_type": "code",
   "execution_count": 212,
   "metadata": {
    "ExecuteTime": {
     "end_time": "2021-01-19T02:08:39.955586Z",
     "start_time": "2021-01-19T02:08:39.953585Z"
    }
   },
   "outputs": [],
   "source": [
    "dt_ml_ace_dir = \"ml/DT_B0/\""
   ]
  },
  {
   "cell_type": "code",
   "execution_count": 213,
   "metadata": {
    "ExecuteTime": {
     "end_time": "2021-01-19T02:08:40.939438Z",
     "start_time": "2021-01-19T02:08:40.883425Z"
    }
   },
   "outputs": [
    {
     "data": {
      "text/html": [
       "<div>\n",
       "<style scoped>\n",
       "    .dataframe tbody tr th:only-of-type {\n",
       "        vertical-align: middle;\n",
       "    }\n",
       "\n",
       "    .dataframe tbody tr th {\n",
       "        vertical-align: top;\n",
       "    }\n",
       "\n",
       "    .dataframe thead th {\n",
       "        text-align: right;\n",
       "    }\n",
       "</style>\n",
       "<table border=\"1\" class=\"dataframe\">\n",
       "  <thead>\n",
       "    <tr style=\"text-align: right;\">\n",
       "      <th></th>\n",
       "      <th>id</th>\n",
       "      <th>max_depth</th>\n",
       "      <th>mss</th>\n",
       "      <th>mslmt_strategy</th>\n",
       "      <th>normalizer</th>\n",
       "      <th>train_mae</th>\n",
       "      <th>train_mse</th>\n",
       "      <th>train_evs</th>\n",
       "      <th>train_mae_m</th>\n",
       "      <th>train_r2</th>\n",
       "      <th>val_mae</th>\n",
       "      <th>val_mse</th>\n",
       "      <th>val_evs</th>\n",
       "      <th>val_mae_m</th>\n",
       "      <th>val_r2</th>\n",
       "      <th>test_mae</th>\n",
       "      <th>test_mse</th>\n",
       "      <th>test_evs</th>\n",
       "      <th>test_mae_m</th>\n",
       "      <th>test_r2</th>\n",
       "      <th>model_path</th>\n",
       "      <th>training_time</th>\n",
       "      <th>scaler_path</th>\n",
       "      <th>mt_strategy</th>\n",
       "      <th>msl</th>\n",
       "      <th>tag</th>\n",
       "    </tr>\n",
       "  </thead>\n",
       "  <tbody>\n",
       "    <tr>\n",
       "      <th>986</th>\n",
       "      <td>681</td>\n",
       "      <td>400.0</td>\n",
       "      <td>2.0</td>\n",
       "      <td>NaN</td>\n",
       "      <td>robust</td>\n",
       "      <td>0.025735</td>\n",
       "      <td>0.010784</td>\n",
       "      <td>0.986006</td>\n",
       "      <td>0.000000</td>\n",
       "      <td>0.986006</td>\n",
       "      <td>0.136552</td>\n",
       "      <td>0.082771</td>\n",
       "      <td>0.893108</td>\n",
       "      <td>0.047504</td>\n",
       "      <td>0.893105</td>\n",
       "      <td>0.135758</td>\n",
       "      <td>0.081491</td>\n",
       "      <td>0.894834</td>\n",
       "      <td>0.047654</td>\n",
       "      <td>0.894834</td>\n",
       "      <td>E:\\ML_Models_EXFOR\\DT_B0\\DT400_MSS2_MSL1_robus...</td>\n",
       "      <td>37.492463</td>\n",
       "      <td>E:\\ML_Models_EXFOR\\DT_B0\\DT400_MSS2_MSL1_robus...</td>\n",
       "      <td>one_hot</td>\n",
       "      <td>1.0</td>\n",
       "      <td>Train</td>\n",
       "    </tr>\n",
       "    <tr>\n",
       "      <th>252</th>\n",
       "      <td>74</td>\n",
       "      <td>90.0</td>\n",
       "      <td>10.0</td>\n",
       "      <td>NaN</td>\n",
       "      <td>minmax</td>\n",
       "      <td>0.094541</td>\n",
       "      <td>0.038049</td>\n",
       "      <td>0.948882</td>\n",
       "      <td>0.036003</td>\n",
       "      <td>0.948882</td>\n",
       "      <td>0.118665</td>\n",
       "      <td>0.057489</td>\n",
       "      <td>0.922504</td>\n",
       "      <td>0.046883</td>\n",
       "      <td>0.922504</td>\n",
       "      <td>0.119339</td>\n",
       "      <td>0.058362</td>\n",
       "      <td>0.920611</td>\n",
       "      <td>0.046796</td>\n",
       "      <td>0.920610</td>\n",
       "      <td>E:\\ML_Models_EXFOR\\DT_B0\\DT90_MSS10_MSL7_minma...</td>\n",
       "      <td>37.602498</td>\n",
       "      <td>E:\\ML_Models_EXFOR\\DT_B0\\DT90_MSS10_MSL7_minma...</td>\n",
       "      <td>one_hot</td>\n",
       "      <td>7.0</td>\n",
       "      <td>Val</td>\n",
       "    </tr>\n",
       "    <tr>\n",
       "      <th>322</th>\n",
       "      <td>94</td>\n",
       "      <td>99.0</td>\n",
       "      <td>10.0</td>\n",
       "      <td>NaN</td>\n",
       "      <td>robust</td>\n",
       "      <td>0.094423</td>\n",
       "      <td>0.038064</td>\n",
       "      <td>0.948795</td>\n",
       "      <td>0.035960</td>\n",
       "      <td>0.948795</td>\n",
       "      <td>0.120346</td>\n",
       "      <td>0.059165</td>\n",
       "      <td>0.920348</td>\n",
       "      <td>0.047123</td>\n",
       "      <td>0.920347</td>\n",
       "      <td>0.119189</td>\n",
       "      <td>0.057920</td>\n",
       "      <td>0.922201</td>\n",
       "      <td>0.046670</td>\n",
       "      <td>0.922201</td>\n",
       "      <td>E:\\ML_Models_EXFOR\\DT_B0\\DT99_MSS10_MSL7_robus...</td>\n",
       "      <td>37.116284</td>\n",
       "      <td>E:\\ML_Models_EXFOR\\DT_B0\\DT99_MSS10_MSL7_robus...</td>\n",
       "      <td>one_hot</td>\n",
       "      <td>7.0</td>\n",
       "      <td>Test</td>\n",
       "    </tr>\n",
       "  </tbody>\n",
       "</table>\n",
       "</div>"
      ],
      "text/plain": [
       "      id  max_depth   mss  mslmt_strategy normalizer  train_mae  train_mse  \\\n",
       "986  681      400.0   2.0             NaN     robust   0.025735   0.010784   \n",
       "252   74       90.0  10.0             NaN     minmax   0.094541   0.038049   \n",
       "322   94       99.0  10.0             NaN     robust   0.094423   0.038064   \n",
       "\n",
       "     train_evs  train_mae_m  train_r2   val_mae   val_mse   val_evs  \\\n",
       "986   0.986006     0.000000  0.986006  0.136552  0.082771  0.893108   \n",
       "252   0.948882     0.036003  0.948882  0.118665  0.057489  0.922504   \n",
       "322   0.948795     0.035960  0.948795  0.120346  0.059165  0.920348   \n",
       "\n",
       "     val_mae_m    val_r2  test_mae  test_mse  test_evs  test_mae_m   test_r2  \\\n",
       "986   0.047504  0.893105  0.135758  0.081491  0.894834    0.047654  0.894834   \n",
       "252   0.046883  0.922504  0.119339  0.058362  0.920611    0.046796  0.920610   \n",
       "322   0.047123  0.920347  0.119189  0.057920  0.922201    0.046670  0.922201   \n",
       "\n",
       "                                            model_path  training_time  \\\n",
       "986  E:\\ML_Models_EXFOR\\DT_B0\\DT400_MSS2_MSL1_robus...      37.492463   \n",
       "252  E:\\ML_Models_EXFOR\\DT_B0\\DT90_MSS10_MSL7_minma...      37.602498   \n",
       "322  E:\\ML_Models_EXFOR\\DT_B0\\DT99_MSS10_MSL7_robus...      37.116284   \n",
       "\n",
       "                                           scaler_path mt_strategy  msl    tag  \n",
       "986  E:\\ML_Models_EXFOR\\DT_B0\\DT400_MSS2_MSL1_robus...     one_hot  1.0  Train  \n",
       "252  E:\\ML_Models_EXFOR\\DT_B0\\DT90_MSS10_MSL7_minma...     one_hot  7.0    Val  \n",
       "322  E:\\ML_Models_EXFOR\\DT_B0\\DT99_MSS10_MSL7_robus...     one_hot  7.0   Test  "
      ]
     },
     "execution_count": 213,
     "metadata": {},
     "output_type": "execute_result"
    }
   ],
   "source": [
    "dt_results_filepath = \"../ML_EXFOR_neutrons/2_DT/dt_resultsB0.csv\"\n",
    "dt_results = pd.read_csv(dt_results_filepath)\n",
    "\n",
    "# filter down to just three for testing purposes:\n",
    "dt_results = model_utils.get_best_models_df(dt_results)\n",
    "\n",
    "dt_results"
   ]
  },
  {
   "cell_type": "code",
   "execution_count": 214,
   "metadata": {
    "ExecuteTime": {
     "end_time": "2021-01-19T02:09:26.226602Z",
     "start_time": "2021-01-19T02:08:41.530203Z"
    }
   },
   "outputs": [],
   "source": [
    "ace_utils.generate_bench_ml_xs(df_b0, dt_results, \"U233-MET-FAST-001\", to_scale_b0, dt_ml_ace_dir, reset=True)"
   ]
  },
  {
   "cell_type": "code",
   "execution_count": 224,
   "metadata": {
    "ExecuteTime": {
     "end_time": "2021-01-19T02:47:55.137657Z",
     "start_time": "2021-01-19T02:47:55.120636Z"
    }
   },
   "outputs": [],
   "source": [
    "ace_utils.generate_serpent_bash(\"ml/DT_B0/\")"
   ]
  },
  {
   "cell_type": "markdown",
   "metadata": {},
   "source": [
    "## K-Nearest-Neighbors"
   ]
  },
  {
   "cell_type": "code",
   "execution_count": 49,
   "metadata": {
    "ExecuteTime": {
     "end_time": "2021-01-18T20:31:25.608668Z",
     "start_time": "2021-01-18T20:31:25.606668Z"
    }
   },
   "outputs": [],
   "source": [
    "knn_ml_ace_dir = \"ml/KNN_B0/\""
   ]
  },
  {
   "cell_type": "code",
   "execution_count": 48,
   "metadata": {
    "ExecuteTime": {
     "end_time": "2021-01-18T20:31:05.322676Z",
     "start_time": "2021-01-18T20:31:05.272664Z"
    }
   },
   "outputs": [
    {
     "data": {
      "text/html": [
       "<div>\n",
       "<style scoped>\n",
       "    .dataframe tbody tr th:only-of-type {\n",
       "        vertical-align: middle;\n",
       "    }\n",
       "\n",
       "    .dataframe tbody tr th {\n",
       "        vertical-align: top;\n",
       "    }\n",
       "\n",
       "    .dataframe thead th {\n",
       "        text-align: right;\n",
       "    }\n",
       "</style>\n",
       "<table border=\"1\" class=\"dataframe\">\n",
       "  <thead>\n",
       "    <tr style=\"text-align: right;\">\n",
       "      <th></th>\n",
       "      <th>id</th>\n",
       "      <th>distance_metric</th>\n",
       "      <th>mt_strategy</th>\n",
       "      <th>normalizer</th>\n",
       "      <th>train_mae</th>\n",
       "      <th>train_mse</th>\n",
       "      <th>train_evs</th>\n",
       "      <th>train_mae_m</th>\n",
       "      <th>train_r2</th>\n",
       "      <th>val_mae</th>\n",
       "      <th>val_mse</th>\n",
       "      <th>val_evs</th>\n",
       "      <th>val_mae_m</th>\n",
       "      <th>val_r2</th>\n",
       "      <th>test_mae</th>\n",
       "      <th>test_mse</th>\n",
       "      <th>test_evs</th>\n",
       "      <th>test_mae_m</th>\n",
       "      <th>test_r2</th>\n",
       "      <th>model_path</th>\n",
       "      <th>training_time</th>\n",
       "      <th>scaler_path</th>\n",
       "      <th>run_name</th>\n",
       "      <th>tag</th>\n",
       "    </tr>\n",
       "  </thead>\n",
       "  <tbody>\n",
       "    <tr>\n",
       "      <th>28</th>\n",
       "      <td>16</td>\n",
       "      <td>euclidean</td>\n",
       "      <td>one_hot</td>\n",
       "      <td>standard</td>\n",
       "      <td>0.025762</td>\n",
       "      <td>0.010797</td>\n",
       "      <td>0.985991</td>\n",
       "      <td>0.0</td>\n",
       "      <td>0.985991</td>\n",
       "      <td>0.120330</td>\n",
       "      <td>0.064944</td>\n",
       "      <td>0.913541</td>\n",
       "      <td>0.042944</td>\n",
       "      <td>0.913538</td>\n",
       "      <td>0.119925</td>\n",
       "      <td>0.063432</td>\n",
       "      <td>0.915093</td>\n",
       "      <td>0.043245</td>\n",
       "      <td>0.915092</td>\n",
       "      <td>E:\\ML_Models_EXFOR\\KNN_B0\\k16_distance_euclide...</td>\n",
       "      <td>5255.165533</td>\n",
       "      <td>E:\\ML_Models_EXFOR\\KNN_B0\\k16_distance_euclide...</td>\n",
       "      <td>k16_distance_euclidean_standard_one_hot_B0_v1</td>\n",
       "      <td>Train</td>\n",
       "    </tr>\n",
       "    <tr>\n",
       "      <th>33</th>\n",
       "      <td>16</td>\n",
       "      <td>manhattan</td>\n",
       "      <td>one_hot</td>\n",
       "      <td>standard</td>\n",
       "      <td>0.025762</td>\n",
       "      <td>0.010797</td>\n",
       "      <td>0.985991</td>\n",
       "      <td>0.0</td>\n",
       "      <td>0.985991</td>\n",
       "      <td>0.118842</td>\n",
       "      <td>0.062905</td>\n",
       "      <td>0.916375</td>\n",
       "      <td>0.042591</td>\n",
       "      <td>0.916372</td>\n",
       "      <td>0.118412</td>\n",
       "      <td>0.061384</td>\n",
       "      <td>0.917932</td>\n",
       "      <td>0.042845</td>\n",
       "      <td>0.917931</td>\n",
       "      <td>E:\\ML_Models_EXFOR\\KNN_B0\\k16_distance_manhatt...</td>\n",
       "      <td>5162.847080</td>\n",
       "      <td>E:\\ML_Models_EXFOR\\KNN_B0\\k16_distance_manhatt...</td>\n",
       "      <td>k16_distance_manhattan_standard_one_hot_B0_v1</td>\n",
       "      <td>Train</td>\n",
       "    </tr>\n",
       "    <tr>\n",
       "      <th>9</th>\n",
       "      <td>9</td>\n",
       "      <td>manhattan</td>\n",
       "      <td>one_hot</td>\n",
       "      <td>standard</td>\n",
       "      <td>0.025882</td>\n",
       "      <td>0.010964</td>\n",
       "      <td>0.985770</td>\n",
       "      <td>0.0</td>\n",
       "      <td>0.985770</td>\n",
       "      <td>0.117340</td>\n",
       "      <td>0.062017</td>\n",
       "      <td>0.917800</td>\n",
       "      <td>0.041271</td>\n",
       "      <td>0.917800</td>\n",
       "      <td>0.117377</td>\n",
       "      <td>0.061497</td>\n",
       "      <td>0.918433</td>\n",
       "      <td>0.041257</td>\n",
       "      <td>0.918433</td>\n",
       "      <td>E:\\ML_Models_EXFOR\\KNN_B0\\k9_distance_manhatta...</td>\n",
       "      <td>5361.724394</td>\n",
       "      <td>E:\\ML_Models_EXFOR\\KNN_B0\\k9_distance_manhatta...</td>\n",
       "      <td>k9_distance_manhattan_standard_one_hot_B0_v1</td>\n",
       "      <td>Val</td>\n",
       "    </tr>\n",
       "    <tr>\n",
       "      <th>37</th>\n",
       "      <td>8</td>\n",
       "      <td>manhattan</td>\n",
       "      <td>one_hot</td>\n",
       "      <td>standard</td>\n",
       "      <td>0.025939</td>\n",
       "      <td>0.011031</td>\n",
       "      <td>0.985707</td>\n",
       "      <td>0.0</td>\n",
       "      <td>0.985707</td>\n",
       "      <td>0.117952</td>\n",
       "      <td>0.062309</td>\n",
       "      <td>0.917605</td>\n",
       "      <td>0.041305</td>\n",
       "      <td>0.917605</td>\n",
       "      <td>0.117185</td>\n",
       "      <td>0.061773</td>\n",
       "      <td>0.916968</td>\n",
       "      <td>0.041113</td>\n",
       "      <td>0.916968</td>\n",
       "      <td>E:\\ML_Models_EXFOR\\KNN_B0\\k8_distance_manhatta...</td>\n",
       "      <td>4762.610942</td>\n",
       "      <td>E:\\ML_Models_EXFOR\\KNN_B0\\k8_distance_manhatta...</td>\n",
       "      <td>k8_distance_manhattan_standard_one_hot_B0_v1</td>\n",
       "      <td>Test</td>\n",
       "    </tr>\n",
       "  </tbody>\n",
       "</table>\n",
       "</div>"
      ],
      "text/plain": [
       "    id distance_metric mt_strategy normalizer  train_mae  train_mse  \\\n",
       "28  16       euclidean     one_hot   standard   0.025762   0.010797   \n",
       "33  16       manhattan     one_hot   standard   0.025762   0.010797   \n",
       "9    9       manhattan     one_hot   standard   0.025882   0.010964   \n",
       "37   8       manhattan     one_hot   standard   0.025939   0.011031   \n",
       "\n",
       "    train_evs  train_mae_m  train_r2   val_mae   val_mse   val_evs  val_mae_m  \\\n",
       "28   0.985991          0.0  0.985991  0.120330  0.064944  0.913541   0.042944   \n",
       "33   0.985991          0.0  0.985991  0.118842  0.062905  0.916375   0.042591   \n",
       "9    0.985770          0.0  0.985770  0.117340  0.062017  0.917800   0.041271   \n",
       "37   0.985707          0.0  0.985707  0.117952  0.062309  0.917605   0.041305   \n",
       "\n",
       "      val_r2  test_mae  test_mse  test_evs  test_mae_m   test_r2  \\\n",
       "28  0.913538  0.119925  0.063432  0.915093    0.043245  0.915092   \n",
       "33  0.916372  0.118412  0.061384  0.917932    0.042845  0.917931   \n",
       "9   0.917800  0.117377  0.061497  0.918433    0.041257  0.918433   \n",
       "37  0.917605  0.117185  0.061773  0.916968    0.041113  0.916968   \n",
       "\n",
       "                                           model_path  training_time  \\\n",
       "28  E:\\ML_Models_EXFOR\\KNN_B0\\k16_distance_euclide...    5255.165533   \n",
       "33  E:\\ML_Models_EXFOR\\KNN_B0\\k16_distance_manhatt...    5162.847080   \n",
       "9   E:\\ML_Models_EXFOR\\KNN_B0\\k9_distance_manhatta...    5361.724394   \n",
       "37  E:\\ML_Models_EXFOR\\KNN_B0\\k8_distance_manhatta...    4762.610942   \n",
       "\n",
       "                                          scaler_path  \\\n",
       "28  E:\\ML_Models_EXFOR\\KNN_B0\\k16_distance_euclide...   \n",
       "33  E:\\ML_Models_EXFOR\\KNN_B0\\k16_distance_manhatt...   \n",
       "9   E:\\ML_Models_EXFOR\\KNN_B0\\k9_distance_manhatta...   \n",
       "37  E:\\ML_Models_EXFOR\\KNN_B0\\k8_distance_manhatta...   \n",
       "\n",
       "                                         run_name    tag  \n",
       "28  k16_distance_euclidean_standard_one_hot_B0_v1  Train  \n",
       "33  k16_distance_manhattan_standard_one_hot_B0_v1  Train  \n",
       "9    k9_distance_manhattan_standard_one_hot_B0_v1    Val  \n",
       "37   k8_distance_manhattan_standard_one_hot_B0_v1   Test  "
      ]
     },
     "execution_count": 48,
     "metadata": {},
     "output_type": "execute_result"
    }
   ],
   "source": [
    "knn_results_filepath = \"../ML_EXFOR_neutrons/1_KNN/knn_results_B0.csv\"\n",
    "knn_results = pd.read_csv(knn_results_filepath)\n",
    "knn_results = model_utils.get_best_models_df(knn_results)\n",
    "knn_results"
   ]
  },
  {
   "cell_type": "code",
   "execution_count": 51,
   "metadata": {
    "ExecuteTime": {
     "end_time": "2021-01-18T20:34:13.080767Z",
     "start_time": "2021-01-18T20:31:41.742642Z"
    }
   },
   "outputs": [],
   "source": [
    "ace_utils.generate_bench_ml_xs(df_b0, knn_results, \"U233-MET-FAST-001\", to_scale_b0, knn_ml_ace_dir, reset=True)"
   ]
  },
  {
   "cell_type": "code",
   "execution_count": null,
   "metadata": {},
   "outputs": [],
   "source": [
    "ace_utils.generate_serpent_bash(\"ml/KNN_B0/\")"
   ]
  }
 ],
 "metadata": {
  "kernelspec": {
   "display_name": "Python 3",
   "language": "python",
   "name": "python3"
  },
  "language_info": {
   "codemirror_mode": {
    "name": "ipython",
    "version": 3
   },
   "file_extension": ".py",
   "mimetype": "text/x-python",
   "name": "python",
   "nbconvert_exporter": "python",
   "pygments_lexer": "ipython3",
   "version": "3.7.9"
  }
 },
 "nbformat": 4,
 "nbformat_minor": 4
}
