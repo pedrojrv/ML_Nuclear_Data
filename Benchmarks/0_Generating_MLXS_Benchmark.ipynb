{
 "cells": [
  {
   "cell_type": "markdown",
   "metadata": {},
   "source": [
    "# Generating ML XS, ACE Files, Benchmark Inputs and Serpent Scripts"
   ]
  },
  {
   "cell_type": "code",
   "execution_count": 100,
   "metadata": {
    "ExecuteTime": {
     "end_time": "2021-04-10T05:29:08.410965Z",
     "start_time": "2021-04-10T05:29:08.406964Z"
    }
   },
   "outputs": [],
   "source": [
    "import pandas as pd\n",
    "import os\n",
    "import logging\n",
    "\n",
    "pd.set_option('display.max_columns', 500)\n",
    "pd.set_option('display.max_rows', 50)\n",
    "pd.options.mode.chained_assignment = None  # default='warn'\n",
    "\n",
    "import sys\n",
    "# This allows us to import the nucml utilities\n",
    "sys.path.append(\"..\")\n",
    "\n",
    "\n",
    "import nucml.datasets as nuc_data\n",
    "import nucml.ace.data_utilities as ace_utils\n",
    "import nucml.model.utilities as model_utils"
   ]
  },
  {
   "cell_type": "code",
   "execution_count": 101,
   "metadata": {
    "ExecuteTime": {
     "end_time": "2021-04-10T05:29:08.574005Z",
     "start_time": "2021-04-10T05:29:08.570004Z"
    }
   },
   "outputs": [],
   "source": [
    "figure_dir = \"Figures/\""
   ]
  },
  {
   "cell_type": "code",
   "execution_count": 102,
   "metadata": {
    "ExecuteTime": {
     "end_time": "2021-04-10T05:29:08.730163Z",
     "start_time": "2021-04-10T05:29:08.727164Z"
    }
   },
   "outputs": [],
   "source": [
    "import logging\n",
    "logger = logging.getLogger()\n",
    "logger.setLevel(logging.CRITICAL)"
   ]
  },
  {
   "cell_type": "code",
   "execution_count": 103,
   "metadata": {
    "ExecuteTime": {
     "end_time": "2021-04-10T05:29:08.926036Z",
     "start_time": "2021-04-10T05:29:08.913037Z"
    }
   },
   "outputs": [
    {
     "name": "stdout",
     "output_type": "stream",
     "text": [
      "Finish re-loading scripts.\n"
     ]
    }
   ],
   "source": [
    "import importlib\n",
    "importlib.reload(nuc_data)\n",
    "importlib.reload(ace_utils)\n",
    "importlib.reload(model_utils)\n",
    "print(\"Finish re-loading scripts.\")"
   ]
  },
  {
   "cell_type": "code",
   "execution_count": 104,
   "metadata": {
    "ExecuteTime": {
     "end_time": "2021-04-10T05:29:09.545810Z",
     "start_time": "2021-04-10T05:29:09.535810Z"
    }
   },
   "outputs": [
    {
     "data": {
      "text/plain": [
       "<module 'nucml.exfor.data_utilities' from '..\\\\nucml\\\\exfor\\\\data_utilities.py'>"
      ]
     },
     "execution_count": 104,
     "metadata": {},
     "output_type": "execute_result"
    }
   ],
   "source": [
    "import nucml.exfor.data_utilities as exfor_utils\n",
    "import nucml.general_utilities as gen_utils\n",
    "import nucml.config as config\n",
    "importlib.reload(config)\n",
    "importlib.reload(gen_utils)\n",
    "importlib.reload(exfor_utils)"
   ]
  },
  {
   "cell_type": "markdown",
   "metadata": {},
   "source": [
    "## Loading Datasets Dataset"
   ]
  },
  {
   "cell_type": "code",
   "execution_count": 6,
   "metadata": {
    "ExecuteTime": {
     "end_time": "2021-04-09T02:20:33.992108Z",
     "start_time": "2021-04-09T02:09:46.504840Z"
    }
   },
   "outputs": [],
   "source": [
    "# LOADING DATASET\n",
    "df_b0, _, _, _, _, to_scale_b0, _ = nuc_data.load_exfor(pedro=True, basic=0, normalize=False)\n",
    "df_b1, _, _, _, _, to_scale_b1, _ = nuc_data.load_exfor(pedro=True, basic=1, normalize=False)\n",
    "df_b2, _, _, _, _, to_scale_b2, _ = nuc_data.load_exfor(pedro=True, basic=2, normalize=False)\n",
    "df_b3, _, _, _, _, to_scale_b3, _ = nuc_data.load_exfor(pedro=True, basic=3, normalize=False)\n",
    "df_b4, _, _, _, _, to_scale_b4, _ = nuc_data.load_exfor(pedro=True, basic=4, normalize=False)"
   ]
  },
  {
   "cell_type": "markdown",
   "metadata": {},
   "source": [
    "## Decision Tree"
   ]
  },
  {
   "cell_type": "code",
   "execution_count": 9,
   "metadata": {
    "ExecuteTime": {
     "end_time": "2021-04-09T02:33:29.671649Z",
     "start_time": "2021-04-09T02:33:29.668647Z"
    }
   },
   "outputs": [],
   "source": [
    "dt_ml_ace_dir_b0 = \"ml/DT_B0/\"\n",
    "dt_ml_ace_dir_b1 = \"ml/DT_B1/\"\n",
    "dt_ml_ace_dir_b2 = \"ml/DT_B2/\"\n",
    "dt_ml_ace_dir_b3 = \"ml/DT_B3/\"\n",
    "dt_ml_ace_dir_b4 = \"ml/DT_B4/\""
   ]
  },
  {
   "cell_type": "code",
   "execution_count": 39,
   "metadata": {
    "ExecuteTime": {
     "end_time": "2021-04-09T03:03:20.775051Z",
     "start_time": "2021-04-09T03:03:20.742065Z"
    }
   },
   "outputs": [],
   "source": [
    "results_b0 = pd.read_csv(\"../ML_EXFOR_neutrons/2_DT/dt_resultsB0.csv\").sort_values(by=\"max_depth\")\n",
    "results_b1 = pd.read_csv(\"../ML_EXFOR_neutrons/2_DT/dt_resultsB1.csv\").sort_values(by=\"max_depth\")\n",
    "results_b2 = pd.read_csv(\"../ML_EXFOR_neutrons/2_DT/dt_resultsB2.csv\").sort_values(by=\"max_depth\")\n",
    "results_b3 = pd.read_csv(\"../ML_EXFOR_neutrons/2_DT/dt_resultsB3.csv\").sort_values(by=\"max_depth\")\n",
    "results_b4 = pd.read_csv(\"../ML_EXFOR_neutrons/2_DT/dt_resultsB4.csv\").sort_values(by=\"max_depth\")\n",
    "\n",
    "results_b0 = results_b0[results_b0.normalizer == \"none\"]"
   ]
  },
  {
   "cell_type": "code",
   "execution_count": 54,
   "metadata": {
    "ExecuteTime": {
     "end_time": "2021-04-09T19:42:22.279369Z",
     "start_time": "2021-04-09T19:42:22.255369Z"
    }
   },
   "outputs": [],
   "source": [
    "# filter down to just three for testing purposes:\n",
    "dt_results = model_utils.get_best_models_df(results_b1).iloc[[0]]\n",
    "\n",
    "# BENCHMARK_NAME = \"U233_MET_FAST_001\"\n",
    "# BENCHMARK_NAME_2 = \"U233_MET_FAST_002_001\"\n",
    "BENCHMARK_NAME = \"PU_MET_FAST_005\"\n",
    "ace_utils.generate_bench_ml_xs(df_b1, dt_results, BENCHMARK_NAME, to_scale_b1, \"TESTING\", reset=True)"
   ]
  },
  {
   "cell_type": "code",
   "execution_count": 52,
   "metadata": {
    "ExecuteTime": {
     "end_time": "2021-04-09T19:42:00.282970Z",
     "start_time": "2021-04-09T19:42:00.279970Z"
    }
   },
   "outputs": [],
   "source": [
    "BENCHMARK_NAME = \"U233_MET_FAST_001\""
   ]
  },
  {
   "cell_type": "code",
   "execution_count": null,
   "metadata": {
    "ExecuteTime": {
     "end_time": "2021-04-09T06:31:25.515909Z",
     "start_time": "2021-04-09T03:04:44.347972Z"
    },
    "scrolled": true
   },
   "outputs": [],
   "source": [
    "ace_utils.generate_bench_ml_xs(df_b0, results_b0, BENCHMARK_NAME, to_scale_b0, dt_ml_ace_dir_b0, reset=True)\n",
    "ace_utils.generate_bench_ml_xs(df_b1, results_b1, BENCHMARK_NAME, to_scale_b1, dt_ml_ace_dir_b1, reset=True)\n",
    "ace_utils.generate_bench_ml_xs(df_b2, results_b2, BENCHMARK_NAME, to_scale_b2, dt_ml_ace_dir_b2, reset=True)\n",
    "ace_utils.generate_bench_ml_xs(df_b3, results_b3, BENCHMARK_NAME, to_scale_b3, dt_ml_ace_dir_b3, reset=True)\n",
    "ace_utils.generate_bench_ml_xs(df_b4, results_b4, BENCHMARK_NAME, to_scale_b4, dt_ml_ace_dir_b4, reset=True)"
   ]
  },
  {
   "cell_type": "code",
   "execution_count": 53,
   "metadata": {
    "ExecuteTime": {
     "end_time": "2021-04-09T19:42:02.769358Z",
     "start_time": "2021-04-09T19:42:01.790369Z"
    }
   },
   "outputs": [],
   "source": [
    "ace_utils.generate_serpent_bash(dt_ml_ace_dir_b0, BENCHMARK_NAME, benchmark=BENCHMARK_NAME)\n",
    "ace_utils.generate_serpent_bash(dt_ml_ace_dir_b1, BENCHMARK_NAME, benchmark=BENCHMARK_NAME)\n",
    "ace_utils.generate_serpent_bash(dt_ml_ace_dir_b2, BENCHMARK_NAME, benchmark=BENCHMARK_NAME)\n",
    "ace_utils.generate_serpent_bash(dt_ml_ace_dir_b3, BENCHMARK_NAME, benchmark=BENCHMARK_NAME)\n",
    "ace_utils.generate_serpent_bash(dt_ml_ace_dir_b4, BENCHMARK_NAME, benchmark=BENCHMARK_NAME)"
   ]
  },
  {
   "cell_type": "code",
   "execution_count": 48,
   "metadata": {
    "ExecuteTime": {
     "end_time": "2021-04-09T19:41:40.667968Z",
     "start_time": "2021-04-09T19:41:40.663970Z"
    }
   },
   "outputs": [],
   "source": [
    "BENCHMARK_NAME = \"U233_MET_FAST_002_001\""
   ]
  },
  {
   "cell_type": "code",
   "execution_count": 45,
   "metadata": {
    "ExecuteTime": {
     "end_time": "2021-04-09T12:51:32.531642Z",
     "start_time": "2021-04-09T06:31:25.527910Z"
    }
   },
   "outputs": [],
   "source": [
    "ace_utils.generate_bench_ml_xs(df_b0, results_b0, BENCHMARK_NAME, to_scale_b0, dt_ml_ace_dir_b0, reset=True)\n",
    "ace_utils.generate_bench_ml_xs(df_b1, results_b1, BENCHMARK_NAME, to_scale_b1, dt_ml_ace_dir_b1, reset=True)\n",
    "ace_utils.generate_bench_ml_xs(df_b2, results_b2, BENCHMARK_NAME, to_scale_b2, dt_ml_ace_dir_b2, reset=True)\n",
    "ace_utils.generate_bench_ml_xs(df_b3, results_b3, BENCHMARK_NAME, to_scale_b3, dt_ml_ace_dir_b3, reset=True)\n",
    "ace_utils.generate_bench_ml_xs(df_b4, results_b4, BENCHMARK_NAME, to_scale_b4, dt_ml_ace_dir_b4, reset=True)"
   ]
  },
  {
   "cell_type": "code",
   "execution_count": 49,
   "metadata": {
    "ExecuteTime": {
     "end_time": "2021-04-09T19:41:43.076968Z",
     "start_time": "2021-04-09T19:41:42.110970Z"
    }
   },
   "outputs": [],
   "source": [
    "ace_utils.generate_serpent_bash(dt_ml_ace_dir_b0, BENCHMARK_NAME, benchmark=BENCHMARK_NAME)\n",
    "ace_utils.generate_serpent_bash(dt_ml_ace_dir_b1, BENCHMARK_NAME, benchmark=BENCHMARK_NAME)\n",
    "ace_utils.generate_serpent_bash(dt_ml_ace_dir_b2, BENCHMARK_NAME, benchmark=BENCHMARK_NAME)\n",
    "ace_utils.generate_serpent_bash(dt_ml_ace_dir_b3, BENCHMARK_NAME, benchmark=BENCHMARK_NAME)\n",
    "ace_utils.generate_serpent_bash(dt_ml_ace_dir_b4, BENCHMARK_NAME, benchmark=BENCHMARK_NAME)"
   ]
  },
  {
   "cell_type": "code",
   "execution_count": 50,
   "metadata": {
    "ExecuteTime": {
     "end_time": "2021-04-09T19:41:49.097969Z",
     "start_time": "2021-04-09T19:41:49.094969Z"
    }
   },
   "outputs": [],
   "source": [
    "BENCHMARK_NAME = \"U233_MET_FAST_002_002\""
   ]
  },
  {
   "cell_type": "code",
   "execution_count": 46,
   "metadata": {
    "ExecuteTime": {
     "end_time": "2021-04-09T19:21:07.005488Z",
     "start_time": "2021-04-09T12:51:32.533642Z"
    }
   },
   "outputs": [],
   "source": [
    "ace_utils.generate_bench_ml_xs(df_b0, results_b0, BENCHMARK_NAME, to_scale_b0, dt_ml_ace_dir_b0, reset=True)\n",
    "ace_utils.generate_bench_ml_xs(df_b1, results_b1, BENCHMARK_NAME, to_scale_b1, dt_ml_ace_dir_b1, reset=True)\n",
    "ace_utils.generate_bench_ml_xs(df_b2, results_b2, BENCHMARK_NAME, to_scale_b2, dt_ml_ace_dir_b2, reset=True)\n",
    "ace_utils.generate_bench_ml_xs(df_b3, results_b3, BENCHMARK_NAME, to_scale_b3, dt_ml_ace_dir_b3, reset=True)\n",
    "ace_utils.generate_bench_ml_xs(df_b4, results_b4, BENCHMARK_NAME, to_scale_b4, dt_ml_ace_dir_b4, reset=True)"
   ]
  },
  {
   "cell_type": "code",
   "execution_count": 51,
   "metadata": {
    "ExecuteTime": {
     "end_time": "2021-04-09T19:41:51.425969Z",
     "start_time": "2021-04-09T19:41:50.446970Z"
    }
   },
   "outputs": [],
   "source": [
    "ace_utils.generate_serpent_bash(dt_ml_ace_dir_b0, BENCHMARK_NAME, benchmark=BENCHMARK_NAME)\n",
    "ace_utils.generate_serpent_bash(dt_ml_ace_dir_b1, BENCHMARK_NAME, benchmark=BENCHMARK_NAME)\n",
    "ace_utils.generate_serpent_bash(dt_ml_ace_dir_b2, BENCHMARK_NAME, benchmark=BENCHMARK_NAME)\n",
    "ace_utils.generate_serpent_bash(dt_ml_ace_dir_b3, BENCHMARK_NAME, benchmark=BENCHMARK_NAME)\n",
    "ace_utils.generate_serpent_bash(dt_ml_ace_dir_b4, BENCHMARK_NAME, benchmark=BENCHMARK_NAME)"
   ]
  },
  {
   "cell_type": "code",
   "execution_count": null,
   "metadata": {},
   "outputs": [],
   "source": [
    "BENCHMARK_NAME = \"PU_MET_FAST_005\""
   ]
  },
  {
   "cell_type": "markdown",
   "metadata": {},
   "source": [
    "## K-Nearest-Neighbors"
   ]
  },
  {
   "cell_type": "code",
   "execution_count": 112,
   "metadata": {
    "ExecuteTime": {
     "end_time": "2021-04-10T05:31:22.024924Z",
     "start_time": "2021-04-10T05:31:22.020933Z"
    }
   },
   "outputs": [],
   "source": [
    "knn_ml_ace_dir_b0 = \"ml/KNN_B0/\"\n",
    "knn_ml_ace_dir_b1 = \"ml/KNN_B1/\"\n",
    "knn_ml_ace_dir_b2 = \"ml/KNN_B2/\"\n",
    "knn_ml_ace_dir_b3 = \"ml/KNN_B3/\"\n",
    "knn_ml_ace_dir_b4 = \"ml/KNN_B4/\""
   ]
  },
  {
   "cell_type": "code",
   "execution_count": 113,
   "metadata": {
    "ExecuteTime": {
     "end_time": "2021-04-10T05:31:42.793622Z",
     "start_time": "2021-04-10T05:31:42.772362Z"
    }
   },
   "outputs": [],
   "source": [
    "# results_b0 = pd.read_csv(\"../ML_EXFOR_neutrons/1_KNN/knn_results_B0.csv\").sort_values(by=\"id\")\n",
    "results_b1 = pd.read_csv(\"../ML_EXFOR_neutrons/1_KNN/knn_results_B1.csv\").sort_values(by=\"id\")\n",
    "results_b2 = pd.read_csv(\"../ML_EXFOR_neutrons/1_KNN/knn_results_B2.csv\").sort_values(by=\"id\")\n",
    "results_b3 = pd.read_csv(\"../ML_EXFOR_neutrons/1_KNN/knn_results_B3.csv\").sort_values(by=\"id\")\n",
    "results_b4 = pd.read_csv(\"../ML_EXFOR_neutrons/1_KNN/knn_results_B4.csv\").sort_values(by=\"id\")\n",
    "\n",
    "# results_b0[\"scale_energy\"] = results_b0.run_name.apply(lambda x: True if \"v2\" in x else False)\n",
    "# results_b0[\"Model\"] = results_b0.model_path.apply(lambda x: os.path.basename(os.path.dirname(x)))\n",
    "\n",
    "# results_b0 = results_b0[results_b0.normalizer == \"minmax\"]\n",
    "# results_b0 = results_b0[results_b0.scale_energy == True]\n",
    "# results_b0 = results_b0[results_b0.distance_metric == 'manhattan']"
   ]
  },
  {
   "cell_type": "code",
   "execution_count": 114,
   "metadata": {
    "ExecuteTime": {
     "end_time": "2021-04-10T05:31:44.463441Z",
     "start_time": "2021-04-10T05:31:44.460430Z"
    }
   },
   "outputs": [],
   "source": [
    "BENCHMARK_NAME = \"U233_MET_FAST_001\""
   ]
  },
  {
   "cell_type": "code",
   "execution_count": 69,
   "metadata": {
    "ExecuteTime": {
     "end_time": "2021-04-10T04:15:13.536830Z",
     "start_time": "2021-04-10T01:55:48.363619Z"
    }
   },
   "outputs": [],
   "source": [
    "# ace_utils.generate_bench_ml_xs(df_b0, results_b0, BENCHMARK_NAME, to_scale_b0, knn_ml_ace_dir_b0, reset=True)\n",
    "ace_utils.generate_bench_ml_xs(df_b1, results_b1, BENCHMARK_NAME, to_scale_b1, knn_ml_ace_dir_b1, reset=True)\n",
    "ace_utils.generate_bench_ml_xs(df_b2, results_b2, BENCHMARK_NAME, to_scale_b2, knn_ml_ace_dir_b2, reset=True)\n",
    "ace_utils.generate_bench_ml_xs(df_b3, results_b3, BENCHMARK_NAME, to_scale_b3, knn_ml_ace_dir_b3, reset=True)\n",
    "ace_utils.generate_bench_ml_xs(df_b4, results_b4, BENCHMARK_NAME, to_scale_b4, knn_ml_ace_dir_b4, reset=True)"
   ]
  },
  {
   "cell_type": "code",
   "execution_count": 71,
   "metadata": {
    "ExecuteTime": {
     "end_time": "2021-04-10T04:15:55.349310Z",
     "start_time": "2021-04-10T04:15:55.216866Z"
    }
   },
   "outputs": [],
   "source": [
    "# ace_utils.generate_serpent_bash(knn_ml_ace_dir_b0, BENCHMARK_NAME, benchmark=BENCHMARK_NAME)\n",
    "ace_utils.generate_serpent_bash(knn_ml_ace_dir_b1, BENCHMARK_NAME, benchmark=BENCHMARK_NAME)\n",
    "ace_utils.generate_serpent_bash(knn_ml_ace_dir_b2, BENCHMARK_NAME, benchmark=BENCHMARK_NAME)\n",
    "ace_utils.generate_serpent_bash(knn_ml_ace_dir_b3, BENCHMARK_NAME, benchmark=BENCHMARK_NAME)\n",
    "ace_utils.generate_serpent_bash(knn_ml_ace_dir_b4, BENCHMARK_NAME, benchmark=BENCHMARK_NAME)"
   ]
  },
  {
   "cell_type": "code",
   "execution_count": 115,
   "metadata": {
    "ExecuteTime": {
     "end_time": "2021-04-10T05:32:04.390877Z",
     "start_time": "2021-04-10T05:32:04.387877Z"
    }
   },
   "outputs": [],
   "source": [
    "BENCHMARK_NAME = \"U233_MET_FAST_002_001\""
   ]
  },
  {
   "cell_type": "code",
   "execution_count": 116,
   "metadata": {
    "ExecuteTime": {
     "end_time": "2021-04-10T10:37:29.952710Z",
     "start_time": "2021-04-10T05:32:20.614116Z"
    }
   },
   "outputs": [],
   "source": [
    "# ace_utils.generate_bench_ml_xs(df_b0, results_b0, BENCHMARK_NAME, to_scale_b0, knn_ml_ace_dir_b0, reset=True)\n",
    "ace_utils.generate_bench_ml_xs(df_b1, results_b1[3:], BENCHMARK_NAME, to_scale_b1, knn_ml_ace_dir_b1, reset=True)\n",
    "# ace_utils.generate_bench_ml_xs(df_b2, results_b2, BENCHMARK_NAME, to_scale_b2, knn_ml_ace_dir_b2, reset=True)\n",
    "# ace_utils.generate_bench_ml_xs(df_b3, results_b3, BENCHMARK_NAME, to_scale_b3, knn_ml_ace_dir_b3, reset=True)\n",
    "# ace_utils.generate_bench_ml_xs(df_b4, results_b4, BENCHMARK_NAME, to_scale_b4, knn_ml_ace_dir_b4, reset=True)"
   ]
  },
  {
   "cell_type": "code",
   "execution_count": 117,
   "metadata": {
    "ExecuteTime": {
     "end_time": "2021-04-10T10:37:29.989709Z",
     "start_time": "2021-04-10T10:37:29.954710Z"
    }
   },
   "outputs": [],
   "source": [
    "# ace_utils.generate_serpent_bash(knn_ml_ace_dir_b0, BENCHMARK_NAME, benchmark=BENCHMARK_NAME)\n",
    "ace_utils.generate_serpent_bash(knn_ml_ace_dir_b1, BENCHMARK_NAME, benchmark=BENCHMARK_NAME)\n",
    "# ace_utils.generate_serpent_bash(knn_ml_ace_dir_b2, BENCHMARK_NAME, benchmark=BENCHMARK_NAME)\n",
    "# ace_utils.generate_serpent_bash(knn_ml_ace_dir_b3, BENCHMARK_NAME, benchmark=BENCHMARK_NAME)\n",
    "# ace_utils.generate_serpent_bash(knn_ml_ace_dir_b4, BENCHMARK_NAME, benchmark=BENCHMARK_NAME)"
   ]
  },
  {
   "cell_type": "code",
   "execution_count": 118,
   "metadata": {
    "ExecuteTime": {
     "end_time": "2021-04-10T10:37:29.995709Z",
     "start_time": "2021-04-10T10:37:29.991709Z"
    }
   },
   "outputs": [],
   "source": [
    "BENCHMARK_NAME = \"U233_MET_FAST_002_002\""
   ]
  },
  {
   "cell_type": "code",
   "execution_count": 119,
   "metadata": {
    "ExecuteTime": {
     "end_time": "2021-04-10T16:29:13.200690Z",
     "start_time": "2021-04-10T10:37:29.997711Z"
    }
   },
   "outputs": [],
   "source": [
    "# ace_utils.generate_bench_ml_xs(df_b0, results_b0, BENCHMARK_NAME, to_scale_b0, knn_ml_ace_dir_b0, reset=True)\n",
    "ace_utils.generate_bench_ml_xs(df_b1, results_b1, BENCHMARK_NAME, to_scale_b1, knn_ml_ace_dir_b1, reset=True)\n",
    "# ace_utils.generate_bench_ml_xs(df_b2, results_b2, BENCHMARK_NAME, to_scale_b2, knn_ml_ace_dir_b2, reset=True)\n",
    "# ace_utils.generate_bench_ml_xs(df_b3, results_b3, BENCHMARK_NAME, to_scale_b3, knn_ml_ace_dir_b3, reset=True)\n",
    "# ace_utils.generate_bench_ml_xs(df_b4, results_b4, BENCHMARK_NAME, to_scale_b4, knn_ml_ace_dir_b4, reset=True)"
   ]
  },
  {
   "cell_type": "code",
   "execution_count": 120,
   "metadata": {
    "ExecuteTime": {
     "end_time": "2021-04-10T16:29:13.236687Z",
     "start_time": "2021-04-10T16:29:13.201674Z"
    }
   },
   "outputs": [],
   "source": [
    "# ace_utils.generate_serpent_bash(knn_ml_ace_dir_b0, BENCHMARK_NAME, benchmark=BENCHMARK_NAME)\n",
    "ace_utils.generate_serpent_bash(knn_ml_ace_dir_b1, BENCHMARK_NAME, benchmark=BENCHMARK_NAME)\n",
    "# ace_utils.generate_serpent_bash(knn_ml_ace_dir_b2, BENCHMARK_NAME, benchmark=BENCHMARK_NAME)\n",
    "# ace_utils.generate_serpent_bash(knn_ml_ace_dir_b3, BENCHMARK_NAME, benchmark=BENCHMARK_NAME)\n",
    "# ace_utils.generate_serpent_bash(knn_ml_ace_dir_b4, BENCHMARK_NAME, benchmark=BENCHMARK_NAME)"
   ]
  },
  {
   "cell_type": "markdown",
   "metadata": {},
   "source": [
    "## XGBoost"
   ]
  },
  {
   "cell_type": "code",
   "execution_count": 121,
   "metadata": {
    "ExecuteTime": {
     "end_time": "2021-04-10T16:29:13.242675Z",
     "start_time": "2021-04-10T16:29:13.237675Z"
    }
   },
   "outputs": [],
   "source": [
    "xgb_ml_ace_dir_b0 = \"ml/XGB_B0/\"\n",
    "xgb_ml_ace_dir_b1 = \"ml/XGB_B1/\"\n",
    "xgb_ml_ace_dir_b2 = \"ml/XGB_B2/\"\n",
    "xgb_ml_ace_dir_b3 = \"ml/XGB_B3/\"\n",
    "xgb_ml_ace_dir_b4 = \"ml/XGB_B4/\""
   ]
  },
  {
   "cell_type": "code",
   "execution_count": 122,
   "metadata": {
    "ExecuteTime": {
     "end_time": "2021-04-10T16:29:13.308222Z",
     "start_time": "2021-04-10T16:29:13.244675Z"
    }
   },
   "outputs": [],
   "source": [
    "results_b0 = pd.read_csv(\"../ML_EXFOR_neutrons/3_XGB/xgb_resultsB0.csv\")\n",
    "results_b1 = pd.read_csv(\"../ML_EXFOR_neutrons/3_XGB/xgb_resultsB1.csv\")\n",
    "results_b2 = pd.read_csv(\"../ML_EXFOR_neutrons/3_XGB/xgb_resultsB2.csv\")\n",
    "results_b3 = pd.read_csv(\"../ML_EXFOR_neutrons/3_XGB/xgb_resultsB3.csv\")\n",
    "results_b4 = pd.read_csv(\"../ML_EXFOR_neutrons/3_XGB/xgb_resultsB4.csv\")"
   ]
  },
  {
   "cell_type": "code",
   "execution_count": 123,
   "metadata": {
    "ExecuteTime": {
     "end_time": "2021-04-10T16:29:13.313846Z",
     "start_time": "2021-04-10T16:29:13.310223Z"
    }
   },
   "outputs": [],
   "source": [
    "BENCHMARK_NAME = \"U233_MET_FAST_001\""
   ]
  },
  {
   "cell_type": "code",
   "execution_count": 124,
   "metadata": {
    "ExecuteTime": {
     "end_time": "2021-04-10T16:48:22.933720Z",
     "start_time": "2021-04-10T16:29:13.316850Z"
    },
    "scrolled": false
   },
   "outputs": [],
   "source": [
    "ace_utils.generate_bench_ml_xs(df_b0, results_b0, BENCHMARK_NAME, to_scale_b0, xgb_ml_ace_dir_b0, reset=True)\n",
    "# ace_utils.generate_bench_ml_xs(df_b1, results_b1, BENCHMARK_NAME, to_scale_b1, xgb_ml_ace_dir_b1, reset=True)\n",
    "ace_utils.generate_bench_ml_xs(df_b2, results_b2, BENCHMARK_NAME, to_scale_b2, xgb_ml_ace_dir_b2, reset=True)\n",
    "ace_utils.generate_bench_ml_xs(df_b3, results_b3, BENCHMARK_NAME, to_scale_b3, xgb_ml_ace_dir_b3, reset=True)\n",
    "ace_utils.generate_bench_ml_xs(df_b4, results_b4, BENCHMARK_NAME, to_scale_b4, xgb_ml_ace_dir_b4, reset=True)"
   ]
  },
  {
   "cell_type": "code",
   "execution_count": 125,
   "metadata": {
    "ExecuteTime": {
     "end_time": "2021-04-10T16:48:22.973721Z",
     "start_time": "2021-04-10T16:48:22.934721Z"
    }
   },
   "outputs": [],
   "source": [
    "ace_utils.generate_serpent_bash(xgb_ml_ace_dir_b0, BENCHMARK_NAME, benchmark=BENCHMARK_NAME)\n",
    "# ace_utils.generate_serpent_bash(xgb_ml_ace_dir_b1, BENCHMARK_NAME, benchmark=BENCHMARK_NAME)\n",
    "ace_utils.generate_serpent_bash(xgb_ml_ace_dir_b2, BENCHMARK_NAME, benchmark=BENCHMARK_NAME)\n",
    "ace_utils.generate_serpent_bash(xgb_ml_ace_dir_b3, BENCHMARK_NAME, benchmark=BENCHMARK_NAME)\n",
    "ace_utils.generate_serpent_bash(xgb_ml_ace_dir_b4, BENCHMARK_NAME, benchmark=BENCHMARK_NAME)"
   ]
  },
  {
   "cell_type": "code",
   "execution_count": 126,
   "metadata": {
    "ExecuteTime": {
     "end_time": "2021-04-10T16:48:22.977711Z",
     "start_time": "2021-04-10T16:48:22.974720Z"
    }
   },
   "outputs": [],
   "source": [
    "BENCHMARK_NAME = \"U233_MET_FAST_002_001\""
   ]
  },
  {
   "cell_type": "code",
   "execution_count": 127,
   "metadata": {
    "ExecuteTime": {
     "end_time": "2021-04-10T17:21:03.641538Z",
     "start_time": "2021-04-10T16:48:22.978711Z"
    },
    "scrolled": true
   },
   "outputs": [],
   "source": [
    "# ace_utils.generate_bench_ml_xs(df_b0, results_b0, BENCHMARK_NAME, to_scale_b0, xgb_ml_ace_dir_b0, reset=True)\n",
    "ace_utils.generate_bench_ml_xs(df_b1, results_b1, BENCHMARK_NAME, to_scale_b1, xgb_ml_ace_dir_b1, reset=True)\n",
    "# ace_utils.generate_bench_ml_xs(df_b2, results_b2, BENCHMARK_NAME, to_scale_b2, xgb_ml_ace_dir_b2, reset=True)\n",
    "# ace_utils.generate_bench_ml_xs(df_b3, results_b3, BENCHMARK_NAME, to_scale_b3, xgb_ml_ace_dir_b3, reset=True)\n",
    "# ace_utils.generate_bench_ml_xs(df_b4, results_b4, BENCHMARK_NAME, to_scale_b4, xgb_ml_ace_dir_b4, reset=True)"
   ]
  },
  {
   "cell_type": "code",
   "execution_count": 128,
   "metadata": {
    "ExecuteTime": {
     "end_time": "2021-04-10T17:21:03.699539Z",
     "start_time": "2021-04-10T17:21:03.642527Z"
    }
   },
   "outputs": [],
   "source": [
    "# ace_utils.generate_serpent_bash(xgb_ml_ace_dir_b0, BENCHMARK_NAME, benchmark=BENCHMARK_NAME)\n",
    "ace_utils.generate_serpent_bash(xgb_ml_ace_dir_b1, BENCHMARK_NAME, benchmark=BENCHMARK_NAME)\n",
    "# ace_utils.generate_serpent_bash(xgb_ml_ace_dir_b2, BENCHMARK_NAME, benchmark=BENCHMARK_NAME)\n",
    "# ace_utils.generate_serpent_bash(xgb_ml_ace_dir_b3, BENCHMARK_NAME, benchmark=BENCHMARK_NAME)\n",
    "# ace_utils.generate_serpent_bash(xgb_ml_ace_dir_b4, BENCHMARK_NAME, benchmark=BENCHMARK_NAME)"
   ]
  },
  {
   "cell_type": "code",
   "execution_count": 129,
   "metadata": {
    "ExecuteTime": {
     "end_time": "2021-04-10T17:21:03.703528Z",
     "start_time": "2021-04-10T17:21:03.701528Z"
    }
   },
   "outputs": [],
   "source": [
    "BENCHMARK_NAME = \"U233_MET_FAST_002_002\""
   ]
  },
  {
   "cell_type": "code",
   "execution_count": 130,
   "metadata": {
    "ExecuteTime": {
     "end_time": "2021-04-10T17:53:40.597496Z",
     "start_time": "2021-04-10T17:21:03.704527Z"
    },
    "scrolled": true
   },
   "outputs": [],
   "source": [
    "# ace_utils.generate_bench_ml_xs(df_b0, results_b0, BENCHMARK_NAME, to_scale_b0, xgb_ml_ace_dir_b0, reset=True)\n",
    "ace_utils.generate_bench_ml_xs(df_b1, results_b1, BENCHMARK_NAME, to_scale_b1, xgb_ml_ace_dir_b1, reset=True)\n",
    "# ace_utils.generate_bench_ml_xs(df_b2, results_b2, BENCHMARK_NAME, to_scale_b2, xgb_ml_ace_dir_b2, reset=True)\n",
    "# ace_utils.generate_bench_ml_xs(df_b3, results_b3, BENCHMARK_NAME, to_scale_b3, xgb_ml_ace_dir_b3, reset=True)\n",
    "# ace_utils.generate_bench_ml_xs(df_b4, results_b4, BENCHMARK_NAME, to_scale_b4, xgb_ml_ace_dir_b4, reset=True)"
   ]
  },
  {
   "cell_type": "code",
   "execution_count": 131,
   "metadata": {
    "ExecuteTime": {
     "end_time": "2021-04-10T17:53:40.674500Z",
     "start_time": "2021-04-10T17:53:40.598498Z"
    }
   },
   "outputs": [],
   "source": [
    "# ace_utils.generate_serpent_bash(xgb_ml_ace_dir_b0, BENCHMARK_NAME, benchmark=BENCHMARK_NAME)\n",
    "ace_utils.generate_serpent_bash(xgb_ml_ace_dir_b1, BENCHMARK_NAME, benchmark=BENCHMARK_NAME)\n",
    "# ace_utils.generate_serpent_bash(xgb_ml_ace_dir_b2, BENCHMARK_NAME, benchmark=BENCHMARK_NAME)\n",
    "# ace_utils.generate_serpent_bash(xgb_ml_ace_dir_b3, BENCHMARK_NAME, benchmark=BENCHMARK_NAME)\n",
    "# ace_utils.generate_serpent_bash(xgb_ml_ace_dir_b4, BENCHMARK_NAME, benchmark=BENCHMARK_NAME)"
   ]
  },
  {
   "cell_type": "code",
   "execution_count": 11,
   "metadata": {
    "ExecuteTime": {
     "end_time": "2021-03-10T19:28:36.079940Z",
     "start_time": "2021-03-10T19:28:36.076935Z"
    }
   },
   "outputs": [],
   "source": [
    "# all_serpent_files = []\n",
    "\n",
    "# for root, _, files in os.walk(\"ml/DT_B0\"):\n",
    "#     for file in files:\n",
    "#         if \"U233_MET_FAST_001_001\" in root:\n",
    "#             all_serpent_files.append(os.path.abspath(os.path.join(root, file)))"
   ]
  }
 ],
 "metadata": {
  "kernelspec": {
   "display_name": "Python 3",
   "language": "python",
   "name": "python3"
  },
  "language_info": {
   "codemirror_mode": {
    "name": "ipython",
    "version": 3
   },
   "file_extension": ".py",
   "mimetype": "text/x-python",
   "name": "python",
   "nbconvert_exporter": "python",
   "pygments_lexer": "ipython3",
   "version": "3.8.8"
  }
 },
 "nbformat": 4,
 "nbformat_minor": 4
}
