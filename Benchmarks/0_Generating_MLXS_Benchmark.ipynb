{
 "cells": [
  {
   "cell_type": "markdown",
   "metadata": {},
   "source": [
    "# Generating ML XS, ACE Files, Benchmark Inputs and Serpent Scripts"
   ]
  },
  {
   "cell_type": "code",
   "execution_count": 52,
   "metadata": {
    "ExecuteTime": {
     "end_time": "2021-02-26T03:01:14.364354Z",
     "start_time": "2021-02-26T03:01:14.360354Z"
    }
   },
   "outputs": [],
   "source": [
    "import pandas as pd\n",
    "import os\n",
    "import logging\n",
    "\n",
    "pd.set_option('display.max_columns', 500)\n",
    "pd.set_option('display.max_rows', 50)\n",
    "pd.options.mode.chained_assignment = None  # default='warn'\n",
    "\n",
    "import sys\n",
    "# This allows us to import the nucml utilities\n",
    "sys.path.append(\"..\")\n",
    "\n",
    "\n",
    "import nucml.datasets as nuc_data\n",
    "import nucml.ace.data_utilities as ace_utils\n",
    "import nucml.model.utilities as model_utils"
   ]
  },
  {
   "cell_type": "code",
   "execution_count": 53,
   "metadata": {
    "ExecuteTime": {
     "end_time": "2021-02-26T03:01:14.563353Z",
     "start_time": "2021-02-26T03:01:14.559353Z"
    }
   },
   "outputs": [],
   "source": [
    "figure_dir = \"Figures/\""
   ]
  },
  {
   "cell_type": "code",
   "execution_count": 54,
   "metadata": {
    "ExecuteTime": {
     "end_time": "2021-02-26T03:01:14.743008Z",
     "start_time": "2021-02-26T03:01:14.736009Z"
    }
   },
   "outputs": [],
   "source": [
    "import logging\n",
    "logger = logging.getLogger()\n",
    "logger.setLevel(logging.CRITICAL)"
   ]
  },
  {
   "cell_type": "code",
   "execution_count": 82,
   "metadata": {
    "ExecuteTime": {
     "end_time": "2021-02-26T17:20:40.181961Z",
     "start_time": "2021-02-26T17:20:40.163961Z"
    }
   },
   "outputs": [
    {
     "name": "stdout",
     "output_type": "stream",
     "text": [
      "Finish re-loading scripts.\n"
     ]
    }
   ],
   "source": [
    "import importlib\n",
    "importlib.reload(nuc_data)\n",
    "importlib.reload(ace_utils)\n",
    "importlib.reload(model_utils)\n",
    "print(\"Finish re-loading scripts.\")"
   ]
  },
  {
   "cell_type": "code",
   "execution_count": 83,
   "metadata": {
    "ExecuteTime": {
     "end_time": "2021-02-26T17:20:40.333960Z",
     "start_time": "2021-02-26T17:20:40.324961Z"
    }
   },
   "outputs": [
    {
     "data": {
      "text/plain": [
       "<module 'nucml.exfor.data_utilities' from '..\\\\nucml\\\\exfor\\\\data_utilities.py'>"
      ]
     },
     "execution_count": 83,
     "metadata": {},
     "output_type": "execute_result"
    }
   ],
   "source": [
    "import nucml.exfor.data_utilities as exfor_utils\n",
    "import nucml.general_utilities as gen_utils\n",
    "import nucml.config as config\n",
    "importlib.reload(config)\n",
    "importlib.reload(gen_utils)\n",
    "importlib.reload(exfor_utils)"
   ]
  },
  {
   "cell_type": "markdown",
   "metadata": {},
   "source": [
    "## B0 Dataset"
   ]
  },
  {
   "cell_type": "code",
   "execution_count": null,
   "metadata": {
    "ExecuteTime": {
     "end_time": "2021-02-26T03:01:23.208804Z",
     "start_time": "2021-02-26T03:01:15.400166Z"
    }
   },
   "outputs": [],
   "source": [
    "# LOADING DATASET\n",
    "df_b0, _, _, _, _, to_scale_b0, _ = nuc_data.load_exfor(pedro=True, basic=0)"
   ]
  },
  {
   "cell_type": "markdown",
   "metadata": {},
   "source": [
    "### Decision Tree"
   ]
  },
  {
   "cell_type": "code",
   "execution_count": null,
   "metadata": {
    "ExecuteTime": {
     "end_time": "2021-02-26T03:01:23.211805Z",
     "start_time": "2021-02-26T03:01:15.885Z"
    }
   },
   "outputs": [],
   "source": [
    "dt_ml_ace_dir = \"ml/DT_B0/\""
   ]
  },
  {
   "cell_type": "code",
   "execution_count": null,
   "metadata": {
    "ExecuteTime": {
     "end_time": "2021-02-26T03:01:23.212805Z",
     "start_time": "2021-02-26T03:01:16.103Z"
    }
   },
   "outputs": [],
   "source": [
    "dt_results_filepath = \"../ML_EXFOR_neutrons/2_DT/dt_resultsB0.csv\"\n",
    "dt_results = pd.read_csv(dt_results_filepath)\n",
    "\n",
    "# filter down to just three for testing purposes:\n",
    "# dt_results = model_utils.get_best_models_df(dt_results)\n",
    "\n",
    "dt_results"
   ]
  },
  {
   "cell_type": "code",
   "execution_count": null,
   "metadata": {
    "ExecuteTime": {
     "end_time": "2021-02-26T03:01:23.213793Z",
     "start_time": "2021-02-26T03:01:16.589Z"
    }
   },
   "outputs": [],
   "source": [
    "ace_utils.generate_bench_ml_xs(df_b0, dt_results, \"U233-MET-FAST-001\", to_scale_b0, dt_ml_ace_dir, reset=True)"
   ]
  },
  {
   "cell_type": "code",
   "execution_count": null,
   "metadata": {
    "ExecuteTime": {
     "end_time": "2021-02-26T03:01:23.214792Z",
     "start_time": "2021-02-26T03:01:16.765Z"
    }
   },
   "outputs": [],
   "source": [
    "ace_utils.generate_serpent_bash(\"ml/DT_B0/\")"
   ]
  },
  {
   "cell_type": "markdown",
   "metadata": {},
   "source": [
    "### K-Nearest-Neighbors"
   ]
  },
  {
   "cell_type": "code",
   "execution_count": 37,
   "metadata": {
    "ExecuteTime": {
     "end_time": "2021-02-26T02:53:06.704369Z",
     "start_time": "2021-02-26T02:53:06.702369Z"
    }
   },
   "outputs": [],
   "source": [
    "knn_ml_ace_dir = \"ml/KNN_B0/\""
   ]
  },
  {
   "cell_type": "code",
   "execution_count": 38,
   "metadata": {
    "ExecuteTime": {
     "end_time": "2021-02-26T02:53:08.242416Z",
     "start_time": "2021-02-26T02:53:07.833317Z"
    }
   },
   "outputs": [
    {
     "data": {
      "text/html": [
       "<div>\n",
       "<style scoped>\n",
       "    .dataframe tbody tr th:only-of-type {\n",
       "        vertical-align: middle;\n",
       "    }\n",
       "\n",
       "    .dataframe tbody tr th {\n",
       "        vertical-align: top;\n",
       "    }\n",
       "\n",
       "    .dataframe thead th {\n",
       "        text-align: right;\n",
       "    }\n",
       "</style>\n",
       "<table border=\"1\" class=\"dataframe\">\n",
       "  <thead>\n",
       "    <tr style=\"text-align: right;\">\n",
       "      <th></th>\n",
       "      <th>id</th>\n",
       "      <th>distance_metric</th>\n",
       "      <th>mt_strategy</th>\n",
       "      <th>normalizer</th>\n",
       "      <th>train_mae</th>\n",
       "      <th>train_mse</th>\n",
       "      <th>train_evs</th>\n",
       "      <th>train_mae_m</th>\n",
       "      <th>train_r2</th>\n",
       "      <th>val_mae</th>\n",
       "      <th>val_mse</th>\n",
       "      <th>val_evs</th>\n",
       "      <th>val_mae_m</th>\n",
       "      <th>val_r2</th>\n",
       "      <th>test_mae</th>\n",
       "      <th>test_mse</th>\n",
       "      <th>test_evs</th>\n",
       "      <th>test_mae_m</th>\n",
       "      <th>test_r2</th>\n",
       "      <th>model_path</th>\n",
       "      <th>training_time</th>\n",
       "      <th>scaler_path</th>\n",
       "      <th>run_name</th>\n",
       "    </tr>\n",
       "  </thead>\n",
       "  <tbody>\n",
       "    <tr>\n",
       "      <th>0</th>\n",
       "      <td>13</td>\n",
       "      <td>euclidean</td>\n",
       "      <td>one_hot</td>\n",
       "      <td>standard</td>\n",
       "      <td>0.025880</td>\n",
       "      <td>0.010936</td>\n",
       "      <td>0.985814</td>\n",
       "      <td>0.0</td>\n",
       "      <td>0.985814</td>\n",
       "      <td>0.118292</td>\n",
       "      <td>0.062828</td>\n",
       "      <td>0.915687</td>\n",
       "      <td>0.042361</td>\n",
       "      <td>0.915686</td>\n",
       "      <td>0.118816</td>\n",
       "      <td>0.063698</td>\n",
       "      <td>0.914577</td>\n",
       "      <td>0.042778</td>\n",
       "      <td>0.914573</td>\n",
       "      <td>E:\\ML_Models_EXFOR\\KNN_B0\\k13_distance_euclide...</td>\n",
       "      <td>3671.971000</td>\n",
       "      <td>E:\\ML_Models_EXFOR\\KNN_B0\\k13_distance_euclide...</td>\n",
       "      <td>k13_distance_euclidean_standard_one_hot_B0_v1</td>\n",
       "    </tr>\n",
       "    <tr>\n",
       "      <th>1</th>\n",
       "      <td>9</td>\n",
       "      <td>euclidean</td>\n",
       "      <td>one_hot</td>\n",
       "      <td>standard</td>\n",
       "      <td>0.025931</td>\n",
       "      <td>0.010999</td>\n",
       "      <td>0.985734</td>\n",
       "      <td>0.0</td>\n",
       "      <td>0.985734</td>\n",
       "      <td>0.118136</td>\n",
       "      <td>0.062010</td>\n",
       "      <td>0.917756</td>\n",
       "      <td>0.041772</td>\n",
       "      <td>0.917756</td>\n",
       "      <td>0.118899</td>\n",
       "      <td>0.064408</td>\n",
       "      <td>0.913698</td>\n",
       "      <td>0.041733</td>\n",
       "      <td>0.913698</td>\n",
       "      <td>E:\\ML_Models_EXFOR\\KNN_B0\\k9_distance_euclidea...</td>\n",
       "      <td>4992.854609</td>\n",
       "      <td>E:\\ML_Models_EXFOR\\KNN_B0\\k9_distance_euclidea...</td>\n",
       "      <td>k9_distance_euclidean_standard_one_hot_B0_v1</td>\n",
       "    </tr>\n",
       "    <tr>\n",
       "      <th>2</th>\n",
       "      <td>1</td>\n",
       "      <td>euclidean</td>\n",
       "      <td>one_hot</td>\n",
       "      <td>standard</td>\n",
       "      <td>0.029060</td>\n",
       "      <td>0.021444</td>\n",
       "      <td>0.972555</td>\n",
       "      <td>0.0</td>\n",
       "      <td>0.972555</td>\n",
       "      <td>0.140604</td>\n",
       "      <td>0.090440</td>\n",
       "      <td>0.885060</td>\n",
       "      <td>0.047921</td>\n",
       "      <td>0.885059</td>\n",
       "      <td>0.140549</td>\n",
       "      <td>0.091576</td>\n",
       "      <td>0.882881</td>\n",
       "      <td>0.047418</td>\n",
       "      <td>0.882880</td>\n",
       "      <td>E:\\ML_Models_EXFOR\\KNN_B0\\k1_distance_euclidea...</td>\n",
       "      <td>6258.326797</td>\n",
       "      <td>E:\\ML_Models_EXFOR\\KNN_B0\\k1_distance_euclidea...</td>\n",
       "      <td>k1_distance_euclidean_standard_one_hot_B0_v1</td>\n",
       "    </tr>\n",
       "    <tr>\n",
       "      <th>3</th>\n",
       "      <td>5</td>\n",
       "      <td>euclidean</td>\n",
       "      <td>one_hot</td>\n",
       "      <td>standard</td>\n",
       "      <td>0.026062</td>\n",
       "      <td>0.011286</td>\n",
       "      <td>0.985346</td>\n",
       "      <td>0.0</td>\n",
       "      <td>0.985346</td>\n",
       "      <td>0.119661</td>\n",
       "      <td>0.066503</td>\n",
       "      <td>0.911902</td>\n",
       "      <td>0.041176</td>\n",
       "      <td>0.911900</td>\n",
       "      <td>0.119958</td>\n",
       "      <td>0.067081</td>\n",
       "      <td>0.911042</td>\n",
       "      <td>0.041299</td>\n",
       "      <td>0.911040</td>\n",
       "      <td>E:\\ML_Models_EXFOR\\KNN_B0\\k5_distance_euclidea...</td>\n",
       "      <td>6381.527638</td>\n",
       "      <td>E:\\ML_Models_EXFOR\\KNN_B0\\k5_distance_euclidea...</td>\n",
       "      <td>k5_distance_euclidean_standard_one_hot_B0_v1</td>\n",
       "    </tr>\n",
       "    <tr>\n",
       "      <th>4</th>\n",
       "      <td>17</td>\n",
       "      <td>euclidean</td>\n",
       "      <td>one_hot</td>\n",
       "      <td>standard</td>\n",
       "      <td>0.025844</td>\n",
       "      <td>0.010874</td>\n",
       "      <td>0.985899</td>\n",
       "      <td>0.0</td>\n",
       "      <td>0.985899</td>\n",
       "      <td>0.119776</td>\n",
       "      <td>0.064781</td>\n",
       "      <td>0.912524</td>\n",
       "      <td>0.043461</td>\n",
       "      <td>0.912522</td>\n",
       "      <td>0.119740</td>\n",
       "      <td>0.064122</td>\n",
       "      <td>0.913774</td>\n",
       "      <td>0.043261</td>\n",
       "      <td>0.913773</td>\n",
       "      <td>E:\\ML_Models_EXFOR\\KNN_B0\\k17_distance_euclide...</td>\n",
       "      <td>6478.077649</td>\n",
       "      <td>E:\\ML_Models_EXFOR\\KNN_B0\\k17_distance_euclide...</td>\n",
       "      <td>k17_distance_euclidean_standard_one_hot_B0_v1</td>\n",
       "    </tr>\n",
       "    <tr>\n",
       "      <th>...</th>\n",
       "      <td>...</td>\n",
       "      <td>...</td>\n",
       "      <td>...</td>\n",
       "      <td>...</td>\n",
       "      <td>...</td>\n",
       "      <td>...</td>\n",
       "      <td>...</td>\n",
       "      <td>...</td>\n",
       "      <td>...</td>\n",
       "      <td>...</td>\n",
       "      <td>...</td>\n",
       "      <td>...</td>\n",
       "      <td>...</td>\n",
       "      <td>...</td>\n",
       "      <td>...</td>\n",
       "      <td>...</td>\n",
       "      <td>...</td>\n",
       "      <td>...</td>\n",
       "      <td>...</td>\n",
       "      <td>...</td>\n",
       "      <td>...</td>\n",
       "      <td>...</td>\n",
       "      <td>...</td>\n",
       "    </tr>\n",
       "    <tr>\n",
       "      <th>235</th>\n",
       "      <td>4</td>\n",
       "      <td>euclidean</td>\n",
       "      <td>one_hot</td>\n",
       "      <td>poweryeo</td>\n",
       "      <td>0.026177</td>\n",
       "      <td>0.011525</td>\n",
       "      <td>0.985066</td>\n",
       "      <td>0.0</td>\n",
       "      <td>0.985066</td>\n",
       "      <td>0.119833</td>\n",
       "      <td>0.064985</td>\n",
       "      <td>0.914021</td>\n",
       "      <td>0.041146</td>\n",
       "      <td>0.914021</td>\n",
       "      <td>0.122327</td>\n",
       "      <td>0.069519</td>\n",
       "      <td>0.908057</td>\n",
       "      <td>0.041276</td>\n",
       "      <td>0.908057</td>\n",
       "      <td>E:\\ML_Models_EXFOR\\KNN_B0\\k4_distance_euclidea...</td>\n",
       "      <td>4689.427485</td>\n",
       "      <td>E:\\ML_Models_EXFOR\\KNN_B0\\k4_distance_euclidea...</td>\n",
       "      <td>k4_distance_euclidean_poweryeo_one_hot_B0_v1</td>\n",
       "    </tr>\n",
       "    <tr>\n",
       "      <th>236</th>\n",
       "      <td>12</td>\n",
       "      <td>manhattan</td>\n",
       "      <td>one_hot</td>\n",
       "      <td>poweryeo</td>\n",
       "      <td>0.025880</td>\n",
       "      <td>0.010946</td>\n",
       "      <td>0.985802</td>\n",
       "      <td>0.0</td>\n",
       "      <td>0.985802</td>\n",
       "      <td>0.116669</td>\n",
       "      <td>0.060714</td>\n",
       "      <td>0.919100</td>\n",
       "      <td>0.041426</td>\n",
       "      <td>0.919100</td>\n",
       "      <td>0.117653</td>\n",
       "      <td>0.061809</td>\n",
       "      <td>0.917578</td>\n",
       "      <td>0.041976</td>\n",
       "      <td>0.917578</td>\n",
       "      <td>E:\\ML_Models_EXFOR\\KNN_B0\\k12_distance_manhatt...</td>\n",
       "      <td>4026.879315</td>\n",
       "      <td>E:\\ML_Models_EXFOR\\KNN_B0\\k12_distance_manhatt...</td>\n",
       "      <td>k12_distance_manhattan_poweryeo_one_hot_B0_v1</td>\n",
       "    </tr>\n",
       "    <tr>\n",
       "      <th>237</th>\n",
       "      <td>20</td>\n",
       "      <td>manhattan</td>\n",
       "      <td>one_hot</td>\n",
       "      <td>poweryeo</td>\n",
       "      <td>0.025807</td>\n",
       "      <td>0.010868</td>\n",
       "      <td>0.985892</td>\n",
       "      <td>0.0</td>\n",
       "      <td>0.985892</td>\n",
       "      <td>0.119447</td>\n",
       "      <td>0.062881</td>\n",
       "      <td>0.916508</td>\n",
       "      <td>0.042951</td>\n",
       "      <td>0.916507</td>\n",
       "      <td>0.118795</td>\n",
       "      <td>0.061770</td>\n",
       "      <td>0.917453</td>\n",
       "      <td>0.043462</td>\n",
       "      <td>0.917453</td>\n",
       "      <td>E:\\ML_Models_EXFOR\\KNN_B0\\k20_distance_manhatt...</td>\n",
       "      <td>4028.695213</td>\n",
       "      <td>E:\\ML_Models_EXFOR\\KNN_B0\\k20_distance_manhatt...</td>\n",
       "      <td>k20_distance_manhattan_poweryeo_one_hot_B0_v1</td>\n",
       "    </tr>\n",
       "    <tr>\n",
       "      <th>238</th>\n",
       "      <td>8</td>\n",
       "      <td>manhattan</td>\n",
       "      <td>one_hot</td>\n",
       "      <td>poweryeo</td>\n",
       "      <td>0.025991</td>\n",
       "      <td>0.011075</td>\n",
       "      <td>0.985616</td>\n",
       "      <td>0.0</td>\n",
       "      <td>0.985616</td>\n",
       "      <td>0.117456</td>\n",
       "      <td>0.062003</td>\n",
       "      <td>0.917772</td>\n",
       "      <td>0.041294</td>\n",
       "      <td>0.917771</td>\n",
       "      <td>0.117578</td>\n",
       "      <td>0.064348</td>\n",
       "      <td>0.914507</td>\n",
       "      <td>0.041225</td>\n",
       "      <td>0.914504</td>\n",
       "      <td>E:\\ML_Models_EXFOR\\KNN_B0\\k8_distance_manhatta...</td>\n",
       "      <td>3805.134805</td>\n",
       "      <td>E:\\ML_Models_EXFOR\\KNN_B0\\k8_distance_manhatta...</td>\n",
       "      <td>k8_distance_manhattan_poweryeo_one_hot_B0_v1</td>\n",
       "    </tr>\n",
       "    <tr>\n",
       "      <th>239</th>\n",
       "      <td>4</td>\n",
       "      <td>manhattan</td>\n",
       "      <td>one_hot</td>\n",
       "      <td>poweryeo</td>\n",
       "      <td>0.026177</td>\n",
       "      <td>0.011525</td>\n",
       "      <td>0.985066</td>\n",
       "      <td>0.0</td>\n",
       "      <td>0.985066</td>\n",
       "      <td>0.118874</td>\n",
       "      <td>0.063671</td>\n",
       "      <td>0.915808</td>\n",
       "      <td>0.040971</td>\n",
       "      <td>0.915808</td>\n",
       "      <td>0.121321</td>\n",
       "      <td>0.067905</td>\n",
       "      <td>0.910210</td>\n",
       "      <td>0.041089</td>\n",
       "      <td>0.910210</td>\n",
       "      <td>E:\\ML_Models_EXFOR\\KNN_B0\\k4_distance_manhatta...</td>\n",
       "      <td>4147.947073</td>\n",
       "      <td>E:\\ML_Models_EXFOR\\KNN_B0\\k4_distance_manhatta...</td>\n",
       "      <td>k4_distance_manhattan_poweryeo_one_hot_B0_v1</td>\n",
       "    </tr>\n",
       "  </tbody>\n",
       "</table>\n",
       "<p>240 rows × 23 columns</p>\n",
       "</div>"
      ],
      "text/plain": [
       "     id distance_metric mt_strategy normalizer  train_mae  train_mse  \\\n",
       "0    13       euclidean     one_hot   standard   0.025880   0.010936   \n",
       "1     9       euclidean     one_hot   standard   0.025931   0.010999   \n",
       "2     1       euclidean     one_hot   standard   0.029060   0.021444   \n",
       "3     5       euclidean     one_hot   standard   0.026062   0.011286   \n",
       "4    17       euclidean     one_hot   standard   0.025844   0.010874   \n",
       "..   ..             ...         ...        ...        ...        ...   \n",
       "235   4       euclidean     one_hot   poweryeo   0.026177   0.011525   \n",
       "236  12       manhattan     one_hot   poweryeo   0.025880   0.010946   \n",
       "237  20       manhattan     one_hot   poweryeo   0.025807   0.010868   \n",
       "238   8       manhattan     one_hot   poweryeo   0.025991   0.011075   \n",
       "239   4       manhattan     one_hot   poweryeo   0.026177   0.011525   \n",
       "\n",
       "     train_evs  train_mae_m  train_r2   val_mae   val_mse   val_evs  \\\n",
       "0     0.985814          0.0  0.985814  0.118292  0.062828  0.915687   \n",
       "1     0.985734          0.0  0.985734  0.118136  0.062010  0.917756   \n",
       "2     0.972555          0.0  0.972555  0.140604  0.090440  0.885060   \n",
       "3     0.985346          0.0  0.985346  0.119661  0.066503  0.911902   \n",
       "4     0.985899          0.0  0.985899  0.119776  0.064781  0.912524   \n",
       "..         ...          ...       ...       ...       ...       ...   \n",
       "235   0.985066          0.0  0.985066  0.119833  0.064985  0.914021   \n",
       "236   0.985802          0.0  0.985802  0.116669  0.060714  0.919100   \n",
       "237   0.985892          0.0  0.985892  0.119447  0.062881  0.916508   \n",
       "238   0.985616          0.0  0.985616  0.117456  0.062003  0.917772   \n",
       "239   0.985066          0.0  0.985066  0.118874  0.063671  0.915808   \n",
       "\n",
       "     val_mae_m    val_r2  test_mae  test_mse  test_evs  test_mae_m   test_r2  \\\n",
       "0     0.042361  0.915686  0.118816  0.063698  0.914577    0.042778  0.914573   \n",
       "1     0.041772  0.917756  0.118899  0.064408  0.913698    0.041733  0.913698   \n",
       "2     0.047921  0.885059  0.140549  0.091576  0.882881    0.047418  0.882880   \n",
       "3     0.041176  0.911900  0.119958  0.067081  0.911042    0.041299  0.911040   \n",
       "4     0.043461  0.912522  0.119740  0.064122  0.913774    0.043261  0.913773   \n",
       "..         ...       ...       ...       ...       ...         ...       ...   \n",
       "235   0.041146  0.914021  0.122327  0.069519  0.908057    0.041276  0.908057   \n",
       "236   0.041426  0.919100  0.117653  0.061809  0.917578    0.041976  0.917578   \n",
       "237   0.042951  0.916507  0.118795  0.061770  0.917453    0.043462  0.917453   \n",
       "238   0.041294  0.917771  0.117578  0.064348  0.914507    0.041225  0.914504   \n",
       "239   0.040971  0.915808  0.121321  0.067905  0.910210    0.041089  0.910210   \n",
       "\n",
       "                                            model_path  training_time  \\\n",
       "0    E:\\ML_Models_EXFOR\\KNN_B0\\k13_distance_euclide...    3671.971000   \n",
       "1    E:\\ML_Models_EXFOR\\KNN_B0\\k9_distance_euclidea...    4992.854609   \n",
       "2    E:\\ML_Models_EXFOR\\KNN_B0\\k1_distance_euclidea...    6258.326797   \n",
       "3    E:\\ML_Models_EXFOR\\KNN_B0\\k5_distance_euclidea...    6381.527638   \n",
       "4    E:\\ML_Models_EXFOR\\KNN_B0\\k17_distance_euclide...    6478.077649   \n",
       "..                                                 ...            ...   \n",
       "235  E:\\ML_Models_EXFOR\\KNN_B0\\k4_distance_euclidea...    4689.427485   \n",
       "236  E:\\ML_Models_EXFOR\\KNN_B0\\k12_distance_manhatt...    4026.879315   \n",
       "237  E:\\ML_Models_EXFOR\\KNN_B0\\k20_distance_manhatt...    4028.695213   \n",
       "238  E:\\ML_Models_EXFOR\\KNN_B0\\k8_distance_manhatta...    3805.134805   \n",
       "239  E:\\ML_Models_EXFOR\\KNN_B0\\k4_distance_manhatta...    4147.947073   \n",
       "\n",
       "                                           scaler_path  \\\n",
       "0    E:\\ML_Models_EXFOR\\KNN_B0\\k13_distance_euclide...   \n",
       "1    E:\\ML_Models_EXFOR\\KNN_B0\\k9_distance_euclidea...   \n",
       "2    E:\\ML_Models_EXFOR\\KNN_B0\\k1_distance_euclidea...   \n",
       "3    E:\\ML_Models_EXFOR\\KNN_B0\\k5_distance_euclidea...   \n",
       "4    E:\\ML_Models_EXFOR\\KNN_B0\\k17_distance_euclide...   \n",
       "..                                                 ...   \n",
       "235  E:\\ML_Models_EXFOR\\KNN_B0\\k4_distance_euclidea...   \n",
       "236  E:\\ML_Models_EXFOR\\KNN_B0\\k12_distance_manhatt...   \n",
       "237  E:\\ML_Models_EXFOR\\KNN_B0\\k20_distance_manhatt...   \n",
       "238  E:\\ML_Models_EXFOR\\KNN_B0\\k8_distance_manhatta...   \n",
       "239  E:\\ML_Models_EXFOR\\KNN_B0\\k4_distance_manhatta...   \n",
       "\n",
       "                                          run_name  \n",
       "0    k13_distance_euclidean_standard_one_hot_B0_v1  \n",
       "1     k9_distance_euclidean_standard_one_hot_B0_v1  \n",
       "2     k1_distance_euclidean_standard_one_hot_B0_v1  \n",
       "3     k5_distance_euclidean_standard_one_hot_B0_v1  \n",
       "4    k17_distance_euclidean_standard_one_hot_B0_v1  \n",
       "..                                             ...  \n",
       "235   k4_distance_euclidean_poweryeo_one_hot_B0_v1  \n",
       "236  k12_distance_manhattan_poweryeo_one_hot_B0_v1  \n",
       "237  k20_distance_manhattan_poweryeo_one_hot_B0_v1  \n",
       "238   k8_distance_manhattan_poweryeo_one_hot_B0_v1  \n",
       "239   k4_distance_manhattan_poweryeo_one_hot_B0_v1  \n",
       "\n",
       "[240 rows x 23 columns]"
      ]
     },
     "execution_count": 38,
     "metadata": {},
     "output_type": "execute_result"
    }
   ],
   "source": [
    "knn_results_filepath = \"../ML_EXFOR_neutrons/1_KNN/knn_results_B0.csv\"\n",
    "knn_results = pd.read_csv(knn_results_filepath)\n",
    "# knn_results = model_utils.get_best_models_df(knn_results)\n",
    "knn_results"
   ]
  },
  {
   "cell_type": "code",
   "execution_count": 64,
   "metadata": {
    "ExecuteTime": {
     "end_time": "2021-02-26T08:54:03.747416Z",
     "start_time": "2021-02-26T03:02:40.833573Z"
    },
    "scrolled": false
   },
   "outputs": [],
   "source": [
    "ace_utils.generate_bench_ml_xs(df_b0, knn_results, \"U233-MET-FAST-001\", to_scale_b0, knn_ml_ace_dir, reset=True)"
   ]
  },
  {
   "cell_type": "code",
   "execution_count": 84,
   "metadata": {
    "ExecuteTime": {
     "end_time": "2021-02-26T17:20:42.365972Z",
     "start_time": "2021-02-26T17:20:42.235973Z"
    }
   },
   "outputs": [],
   "source": [
    "ace_utils.generate_serpent_bash(\"ml/KNN_B0/\")"
   ]
  },
  {
   "cell_type": "code",
   "execution_count": null,
   "metadata": {},
   "outputs": [],
   "source": []
  }
 ],
 "metadata": {
  "kernelspec": {
   "display_name": "Python 3",
   "language": "python",
   "name": "python3"
  },
  "language_info": {
   "codemirror_mode": {
    "name": "ipython",
    "version": 3
   },
   "file_extension": ".py",
   "mimetype": "text/x-python",
   "name": "python",
   "nbconvert_exporter": "python",
   "pygments_lexer": "ipython3",
   "version": "3.8.5"
  }
 },
 "nbformat": 4,
 "nbformat_minor": 4
}
