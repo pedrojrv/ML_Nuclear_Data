{
 "cells": [
  {
   "cell_type": "markdown",
   "metadata": {},
   "source": [
    "# Generating ML XS, ACE Files, Benchmark Inputs and Serpent Scripts"
   ]
  },
  {
   "cell_type": "code",
   "execution_count": 1,
   "metadata": {
    "ExecuteTime": {
     "end_time": "2021-04-09T02:09:09.675381Z",
     "start_time": "2021-04-09T02:09:05.932260Z"
    }
   },
   "outputs": [],
   "source": [
    "import pandas as pd\n",
    "import os\n",
    "import logging\n",
    "\n",
    "pd.set_option('display.max_columns', 500)\n",
    "pd.set_option('display.max_rows', 50)\n",
    "pd.options.mode.chained_assignment = None  # default='warn'\n",
    "\n",
    "import sys\n",
    "# This allows us to import the nucml utilities\n",
    "sys.path.append(\"..\")\n",
    "\n",
    "\n",
    "import nucml.datasets as nuc_data\n",
    "import nucml.ace.data_utilities as ace_utils\n",
    "import nucml.model.utilities as model_utils"
   ]
  },
  {
   "cell_type": "code",
   "execution_count": 2,
   "metadata": {
    "ExecuteTime": {
     "end_time": "2021-04-09T02:09:09.679384Z",
     "start_time": "2021-04-09T02:09:09.676384Z"
    }
   },
   "outputs": [],
   "source": [
    "figure_dir = \"Figures/\""
   ]
  },
  {
   "cell_type": "code",
   "execution_count": 3,
   "metadata": {
    "ExecuteTime": {
     "end_time": "2021-04-09T02:09:09.701385Z",
     "start_time": "2021-04-09T02:09:09.681388Z"
    }
   },
   "outputs": [],
   "source": [
    "import logging\n",
    "logger = logging.getLogger()\n",
    "logger.setLevel(logging.CRITICAL)"
   ]
  },
  {
   "cell_type": "code",
   "execution_count": 4,
   "metadata": {
    "ExecuteTime": {
     "end_time": "2021-04-09T02:09:09.905383Z",
     "start_time": "2021-04-09T02:09:09.896385Z"
    }
   },
   "outputs": [
    {
     "name": "stdout",
     "output_type": "stream",
     "text": [
      "Finish re-loading scripts.\n"
     ]
    }
   ],
   "source": [
    "import importlib\n",
    "importlib.reload(nuc_data)\n",
    "importlib.reload(ace_utils)\n",
    "importlib.reload(model_utils)\n",
    "print(\"Finish re-loading scripts.\")"
   ]
  },
  {
   "cell_type": "code",
   "execution_count": 5,
   "metadata": {
    "ExecuteTime": {
     "end_time": "2021-04-09T02:09:10.778383Z",
     "start_time": "2021-04-09T02:09:10.769383Z"
    }
   },
   "outputs": [
    {
     "data": {
      "text/plain": [
       "<module 'nucml.exfor.data_utilities' from '..\\\\nucml\\\\exfor\\\\data_utilities.py'>"
      ]
     },
     "execution_count": 5,
     "metadata": {},
     "output_type": "execute_result"
    }
   ],
   "source": [
    "import nucml.exfor.data_utilities as exfor_utils\n",
    "import nucml.general_utilities as gen_utils\n",
    "import nucml.config as config\n",
    "importlib.reload(config)\n",
    "importlib.reload(gen_utils)\n",
    "importlib.reload(exfor_utils)"
   ]
  },
  {
   "cell_type": "markdown",
   "metadata": {},
   "source": [
    "## Loading Datasets Dataset"
   ]
  },
  {
   "cell_type": "code",
   "execution_count": 6,
   "metadata": {
    "ExecuteTime": {
     "end_time": "2021-04-09T02:20:33.992108Z",
     "start_time": "2021-04-09T02:09:46.504840Z"
    }
   },
   "outputs": [],
   "source": [
    "# LOADING DATASET\n",
    "df_b0, _, _, _, _, to_scale_b0, _ = nuc_data.load_exfor(pedro=True, basic=0, normalize=False)\n",
    "df_b1, _, _, _, _, to_scale_b1, _ = nuc_data.load_exfor(pedro=True, basic=1, normalize=False)\n",
    "df_b2, _, _, _, _, to_scale_b2, _ = nuc_data.load_exfor(pedro=True, basic=2, normalize=False)\n",
    "df_b3, _, _, _, _, to_scale_b3, _ = nuc_data.load_exfor(pedro=True, basic=3, normalize=False)\n",
    "df_b4, _, _, _, _, to_scale_b4, _ = nuc_data.load_exfor(pedro=True, basic=4, normalize=False)"
   ]
  },
  {
   "cell_type": "markdown",
   "metadata": {},
   "source": [
    "## Decision Tree"
   ]
  },
  {
   "cell_type": "code",
   "execution_count": 9,
   "metadata": {
    "ExecuteTime": {
     "end_time": "2021-04-09T02:33:29.671649Z",
     "start_time": "2021-04-09T02:33:29.668647Z"
    }
   },
   "outputs": [],
   "source": [
    "dt_ml_ace_dir_b0 = \"ml/DT_B0/\"\n",
    "dt_ml_ace_dir_b1 = \"ml/DT_B1/\"\n",
    "dt_ml_ace_dir_b2 = \"ml/DT_B2/\"\n",
    "dt_ml_ace_dir_b3 = \"ml/DT_B3/\"\n",
    "dt_ml_ace_dir_b4 = \"ml/DT_B4/\""
   ]
  },
  {
   "cell_type": "code",
   "execution_count": 11,
   "metadata": {
    "ExecuteTime": {
     "end_time": "2021-04-09T02:34:40.688684Z",
     "start_time": "2021-04-09T02:34:40.654682Z"
    }
   },
   "outputs": [],
   "source": [
    "results_b0 = pd.read_csv(\"../ML_EXFOR_neutrons/2_DT/dt_resultsB0.csv\").sort_values(by=\"max_depth\")\n",
    "results_b1 = pd.read_csv(\"../ML_EXFOR_neutrons/2_DT/dt_resultsB1.csv\").sort_values(by=\"max_depth\")\n",
    "results_b2 = pd.read_csv(\"../ML_EXFOR_neutrons/2_DT/dt_resultsB2.csv\").sort_values(by=\"max_depth\")\n",
    "results_b3 = pd.read_csv(\"../ML_EXFOR_neutrons/2_DT/dt_resultsB3.csv\").sort_values(by=\"max_depth\")\n",
    "results_b4 = pd.read_csv(\"../ML_EXFOR_neutrons/2_DT/dt_resultsB4.csv\").sort_values(by=\"max_depth\")\n",
    "\n",
    "results_b0 = results_b0[results_b0.normalizer == \"none\"]"
   ]
  },
  {
   "cell_type": "code",
   "execution_count": 21,
   "metadata": {
    "ExecuteTime": {
     "end_time": "2021-04-09T02:40:11.390168Z",
     "start_time": "2021-04-09T02:40:11.367173Z"
    }
   },
   "outputs": [],
   "source": [
    "# filter down to just three for testing purposes:\n",
    "dt_results = model_utils.get_best_models_df(results_b0).iloc[[0]]"
   ]
  },
  {
   "cell_type": "code",
   "execution_count": 22,
   "metadata": {
    "ExecuteTime": {
     "end_time": "2021-04-09T02:40:14.217197Z",
     "start_time": "2021-04-09T02:40:14.214192Z"
    }
   },
   "outputs": [],
   "source": [
    "BENCHMARK_NAME = \"U233_MET_FAST_001\""
   ]
  },
  {
   "cell_type": "code",
   "execution_count": null,
   "metadata": {},
   "outputs": [],
   "source": [
    "BENCHMARK_NAME_2 = \"U233_MET_FAST_002\""
   ]
  },
  {
   "cell_type": "code",
   "execution_count": 17,
   "metadata": {
    "ExecuteTime": {
     "end_time": "2021-04-09T02:39:56.454134Z",
     "start_time": "2021-04-09T02:39:14.335682Z"
    }
   },
   "outputs": [],
   "source": [
    "ace_utils.generate_bench_ml_xs(df_b0, dt_results, BENCHMARK_NAME, to_scale_b0, dt_ml_ace_dir_b0, reset=True)"
   ]
  },
  {
   "cell_type": "code",
   "execution_count": 16,
   "metadata": {
    "ExecuteTime": {
     "end_time": "2021-04-09T02:39:08.757228Z",
     "start_time": "2021-04-09T02:39:08.740239Z"
    }
   },
   "outputs": [
    {
     "ename": "NameError",
     "evalue": "name 'dt_results_b0' is not defined",
     "output_type": "error",
     "traceback": [
      "\u001b[1;31m---------------------------------------------------------------------------\u001b[0m",
      "\u001b[1;31mNameError\u001b[0m                                 Traceback (most recent call last)",
      "\u001b[1;32m<ipython-input-16-eb5c368e2cbc>\u001b[0m in \u001b[0;36m<module>\u001b[1;34m\u001b[0m\n\u001b[0;32m      1\u001b[0m \u001b[0mBENCHMARK_NAME\u001b[0m \u001b[1;33m=\u001b[0m \u001b[1;34m\"U233_MET_FAST_001\"\u001b[0m\u001b[1;33m\u001b[0m\u001b[1;33m\u001b[0m\u001b[0m\n\u001b[0;32m      2\u001b[0m \u001b[1;33m\u001b[0m\u001b[0m\n\u001b[1;32m----> 3\u001b[1;33m \u001b[0mace_utils\u001b[0m\u001b[1;33m.\u001b[0m\u001b[0mgenerate_bench_ml_xs\u001b[0m\u001b[1;33m(\u001b[0m\u001b[0mdf_b0\u001b[0m\u001b[1;33m,\u001b[0m \u001b[0mdt_results_b0\u001b[0m\u001b[1;33m,\u001b[0m \u001b[0mBENCHMARK_NAME\u001b[0m\u001b[1;33m,\u001b[0m \u001b[0mto_scale_b0\u001b[0m\u001b[1;33m,\u001b[0m \u001b[0mdt_ml_ace_dir_b0\u001b[0m\u001b[1;33m,\u001b[0m \u001b[0mreset\u001b[0m\u001b[1;33m=\u001b[0m\u001b[1;32mTrue\u001b[0m\u001b[1;33m)\u001b[0m\u001b[1;33m\u001b[0m\u001b[1;33m\u001b[0m\u001b[0m\n\u001b[0m\u001b[0;32m      4\u001b[0m \u001b[1;31m# ace_utils.generate_bench_ml_xs(df_b1, dt_results_b1, BENCHMARK_NAME, to_scale_b1, dt_ml_ace_dir_b1, reset=True)\u001b[0m\u001b[1;33m\u001b[0m\u001b[1;33m\u001b[0m\u001b[1;33m\u001b[0m\u001b[0m\n\u001b[0;32m      5\u001b[0m \u001b[1;31m# ace_utils.generate_bench_ml_xs(df_b2, dt_results_b2, BENCHMARK_NAME, to_scale_b2, dt_ml_ace_dir_b2, reset=True)\u001b[0m\u001b[1;33m\u001b[0m\u001b[1;33m\u001b[0m\u001b[1;33m\u001b[0m\u001b[0m\n",
      "\u001b[1;31mNameError\u001b[0m: name 'dt_results_b0' is not defined"
     ]
    }
   ],
   "source": [
    "BENCHMARK_NAME = \"U233_MET_FAST_001\"\n",
    "\n",
    "ace_utils.generate_bench_ml_xs(df_b0, dt_results_b0, BENCHMARK_NAME, to_scale_b0, dt_ml_ace_dir_b0, reset=True)\n",
    "# ace_utils.generate_bench_ml_xs(df_b1, dt_results_b1, BENCHMARK_NAME, to_scale_b1, dt_ml_ace_dir_b1, reset=True)\n",
    "# ace_utils.generate_bench_ml_xs(df_b2, dt_results_b2, BENCHMARK_NAME, to_scale_b2, dt_ml_ace_dir_b2, reset=True)\n",
    "# ace_utils.generate_bench_ml_xs(df_b3, dt_results_b3, BENCHMARK_NAME, to_scale_b3, dt_ml_ace_dir_b3, reset=True)\n",
    "# ace_utils.generate_bench_ml_xs(df_b4, dt_results_b4, BENCHMARK_NAME, to_scale_b4, dt_ml_ace_dir_b4, reset=True)"
   ]
  },
  {
   "cell_type": "code",
   "execution_count": 18,
   "metadata": {
    "ExecuteTime": {
     "end_time": "2021-03-10T21:00:19.164530Z",
     "start_time": "2021-03-10T21:00:18.942532Z"
    }
   },
   "outputs": [],
   "source": [
    "ace_utils.generate_serpent_bash(dt_ml_ace_dir_b0, BENCHMARK_NAME, benchmark=BENCHMARK_NAME)\n",
    "ace_utils.generate_serpent_bash(dt_ml_ace_dir_b1, BENCHMARK_NAME, benchmark=BENCHMARK_NAME)\n",
    "ace_utils.generate_serpent_bash(dt_ml_ace_dir_b2, BENCHMARK_NAME, benchmark=BENCHMARK_NAME)\n",
    "ace_utils.generate_serpent_bash(dt_ml_ace_dir_b3, BENCHMARK_NAME, benchmark=BENCHMARK_NAME)\n",
    "ace_utils.generate_serpent_bash(dt_ml_ace_dir_b4, BENCHMARK_NAME, benchmark=BENCHMARK_NAME)"
   ]
  },
  {
   "cell_type": "markdown",
   "metadata": {},
   "source": [
    "### K-Nearest-Neighbors"
   ]
  },
  {
   "cell_type": "code",
   "execution_count": 9,
   "metadata": {
    "ExecuteTime": {
     "end_time": "2021-03-13T06:31:22.762893Z",
     "start_time": "2021-03-13T06:31:22.758903Z"
    }
   },
   "outputs": [],
   "source": [
    "knn_ml_ace_dir = \"ml/KNN_B0/\""
   ]
  },
  {
   "cell_type": "code",
   "execution_count": 10,
   "metadata": {
    "ExecuteTime": {
     "end_time": "2021-03-13T06:31:23.311837Z",
     "start_time": "2021-03-13T06:31:23.265096Z"
    }
   },
   "outputs": [
    {
     "data": {
      "text/html": [
       "<div>\n",
       "<style scoped>\n",
       "    .dataframe tbody tr th:only-of-type {\n",
       "        vertical-align: middle;\n",
       "    }\n",
       "\n",
       "    .dataframe tbody tr th {\n",
       "        vertical-align: top;\n",
       "    }\n",
       "\n",
       "    .dataframe thead th {\n",
       "        text-align: right;\n",
       "    }\n",
       "</style>\n",
       "<table border=\"1\" class=\"dataframe\">\n",
       "  <thead>\n",
       "    <tr style=\"text-align: right;\">\n",
       "      <th></th>\n",
       "      <th>id</th>\n",
       "      <th>distance_metric</th>\n",
       "      <th>mt_strategy</th>\n",
       "      <th>normalizer</th>\n",
       "      <th>train_mae</th>\n",
       "      <th>train_mse</th>\n",
       "      <th>train_evs</th>\n",
       "      <th>train_mae_m</th>\n",
       "      <th>train_r2</th>\n",
       "      <th>val_mae</th>\n",
       "      <th>val_mse</th>\n",
       "      <th>val_evs</th>\n",
       "      <th>val_mae_m</th>\n",
       "      <th>val_r2</th>\n",
       "      <th>test_mae</th>\n",
       "      <th>test_mse</th>\n",
       "      <th>test_evs</th>\n",
       "      <th>test_mae_m</th>\n",
       "      <th>test_r2</th>\n",
       "      <th>model_path</th>\n",
       "      <th>training_time</th>\n",
       "      <th>scaler_path</th>\n",
       "      <th>run_name</th>\n",
       "      <th>scale_energy</th>\n",
       "    </tr>\n",
       "  </thead>\n",
       "  <tbody>\n",
       "    <tr>\n",
       "      <th>0</th>\n",
       "      <td>13</td>\n",
       "      <td>euclidean</td>\n",
       "      <td>one_hot</td>\n",
       "      <td>standard</td>\n",
       "      <td>0.025880</td>\n",
       "      <td>0.010936</td>\n",
       "      <td>0.985814</td>\n",
       "      <td>0.0</td>\n",
       "      <td>0.985814</td>\n",
       "      <td>0.118292</td>\n",
       "      <td>0.062828</td>\n",
       "      <td>0.915687</td>\n",
       "      <td>0.042361</td>\n",
       "      <td>0.915686</td>\n",
       "      <td>0.118816</td>\n",
       "      <td>0.063698</td>\n",
       "      <td>0.914577</td>\n",
       "      <td>0.042778</td>\n",
       "      <td>0.914573</td>\n",
       "      <td>E:\\ML_Models_EXFOR\\KNN_B0\\k13_distance_euclide...</td>\n",
       "      <td>3671.971000</td>\n",
       "      <td>E:\\ML_Models_EXFOR\\KNN_B0\\k13_distance_euclide...</td>\n",
       "      <td>k13_distance_euclidean_standard_one_hot_B0_v1</td>\n",
       "      <td>False</td>\n",
       "    </tr>\n",
       "    <tr>\n",
       "      <th>1</th>\n",
       "      <td>9</td>\n",
       "      <td>euclidean</td>\n",
       "      <td>one_hot</td>\n",
       "      <td>standard</td>\n",
       "      <td>0.025931</td>\n",
       "      <td>0.010999</td>\n",
       "      <td>0.985734</td>\n",
       "      <td>0.0</td>\n",
       "      <td>0.985734</td>\n",
       "      <td>0.118136</td>\n",
       "      <td>0.062010</td>\n",
       "      <td>0.917756</td>\n",
       "      <td>0.041772</td>\n",
       "      <td>0.917756</td>\n",
       "      <td>0.118899</td>\n",
       "      <td>0.064408</td>\n",
       "      <td>0.913698</td>\n",
       "      <td>0.041733</td>\n",
       "      <td>0.913698</td>\n",
       "      <td>E:\\ML_Models_EXFOR\\KNN_B0\\k9_distance_euclidea...</td>\n",
       "      <td>4992.854609</td>\n",
       "      <td>E:\\ML_Models_EXFOR\\KNN_B0\\k9_distance_euclidea...</td>\n",
       "      <td>k9_distance_euclidean_standard_one_hot_B0_v1</td>\n",
       "      <td>False</td>\n",
       "    </tr>\n",
       "    <tr>\n",
       "      <th>2</th>\n",
       "      <td>1</td>\n",
       "      <td>euclidean</td>\n",
       "      <td>one_hot</td>\n",
       "      <td>standard</td>\n",
       "      <td>0.029060</td>\n",
       "      <td>0.021444</td>\n",
       "      <td>0.972555</td>\n",
       "      <td>0.0</td>\n",
       "      <td>0.972555</td>\n",
       "      <td>0.140604</td>\n",
       "      <td>0.090440</td>\n",
       "      <td>0.885060</td>\n",
       "      <td>0.047921</td>\n",
       "      <td>0.885059</td>\n",
       "      <td>0.140549</td>\n",
       "      <td>0.091576</td>\n",
       "      <td>0.882881</td>\n",
       "      <td>0.047418</td>\n",
       "      <td>0.882880</td>\n",
       "      <td>E:\\ML_Models_EXFOR\\KNN_B0\\k1_distance_euclidea...</td>\n",
       "      <td>6258.326797</td>\n",
       "      <td>E:\\ML_Models_EXFOR\\KNN_B0\\k1_distance_euclidea...</td>\n",
       "      <td>k1_distance_euclidean_standard_one_hot_B0_v1</td>\n",
       "      <td>False</td>\n",
       "    </tr>\n",
       "    <tr>\n",
       "      <th>3</th>\n",
       "      <td>5</td>\n",
       "      <td>euclidean</td>\n",
       "      <td>one_hot</td>\n",
       "      <td>standard</td>\n",
       "      <td>0.026062</td>\n",
       "      <td>0.011286</td>\n",
       "      <td>0.985346</td>\n",
       "      <td>0.0</td>\n",
       "      <td>0.985346</td>\n",
       "      <td>0.119661</td>\n",
       "      <td>0.066503</td>\n",
       "      <td>0.911902</td>\n",
       "      <td>0.041176</td>\n",
       "      <td>0.911900</td>\n",
       "      <td>0.119958</td>\n",
       "      <td>0.067081</td>\n",
       "      <td>0.911042</td>\n",
       "      <td>0.041299</td>\n",
       "      <td>0.911040</td>\n",
       "      <td>E:\\ML_Models_EXFOR\\KNN_B0\\k5_distance_euclidea...</td>\n",
       "      <td>6381.527638</td>\n",
       "      <td>E:\\ML_Models_EXFOR\\KNN_B0\\k5_distance_euclidea...</td>\n",
       "      <td>k5_distance_euclidean_standard_one_hot_B0_v1</td>\n",
       "      <td>False</td>\n",
       "    </tr>\n",
       "    <tr>\n",
       "      <th>4</th>\n",
       "      <td>17</td>\n",
       "      <td>euclidean</td>\n",
       "      <td>one_hot</td>\n",
       "      <td>standard</td>\n",
       "      <td>0.025844</td>\n",
       "      <td>0.010874</td>\n",
       "      <td>0.985899</td>\n",
       "      <td>0.0</td>\n",
       "      <td>0.985899</td>\n",
       "      <td>0.119776</td>\n",
       "      <td>0.064781</td>\n",
       "      <td>0.912524</td>\n",
       "      <td>0.043461</td>\n",
       "      <td>0.912522</td>\n",
       "      <td>0.119740</td>\n",
       "      <td>0.064122</td>\n",
       "      <td>0.913774</td>\n",
       "      <td>0.043261</td>\n",
       "      <td>0.913773</td>\n",
       "      <td>E:\\ML_Models_EXFOR\\KNN_B0\\k17_distance_euclide...</td>\n",
       "      <td>6478.077649</td>\n",
       "      <td>E:\\ML_Models_EXFOR\\KNN_B0\\k17_distance_euclide...</td>\n",
       "      <td>k17_distance_euclidean_standard_one_hot_B0_v1</td>\n",
       "      <td>False</td>\n",
       "    </tr>\n",
       "    <tr>\n",
       "      <th>...</th>\n",
       "      <td>...</td>\n",
       "      <td>...</td>\n",
       "      <td>...</td>\n",
       "      <td>...</td>\n",
       "      <td>...</td>\n",
       "      <td>...</td>\n",
       "      <td>...</td>\n",
       "      <td>...</td>\n",
       "      <td>...</td>\n",
       "      <td>...</td>\n",
       "      <td>...</td>\n",
       "      <td>...</td>\n",
       "      <td>...</td>\n",
       "      <td>...</td>\n",
       "      <td>...</td>\n",
       "      <td>...</td>\n",
       "      <td>...</td>\n",
       "      <td>...</td>\n",
       "      <td>...</td>\n",
       "      <td>...</td>\n",
       "      <td>...</td>\n",
       "      <td>...</td>\n",
       "      <td>...</td>\n",
       "      <td>...</td>\n",
       "    </tr>\n",
       "    <tr>\n",
       "      <th>275</th>\n",
       "      <td>4</td>\n",
       "      <td>euclidean</td>\n",
       "      <td>one_hot</td>\n",
       "      <td>minmax</td>\n",
       "      <td>0.026206</td>\n",
       "      <td>0.011535</td>\n",
       "      <td>0.985050</td>\n",
       "      <td>0.0</td>\n",
       "      <td>0.985050</td>\n",
       "      <td>0.119090</td>\n",
       "      <td>0.063827</td>\n",
       "      <td>0.916232</td>\n",
       "      <td>0.040870</td>\n",
       "      <td>0.916232</td>\n",
       "      <td>0.118699</td>\n",
       "      <td>0.064212</td>\n",
       "      <td>0.914864</td>\n",
       "      <td>0.040746</td>\n",
       "      <td>0.914864</td>\n",
       "      <td>E:\\ML_Models_EXFOR\\KNN_B0\\k4_distance_euclidea...</td>\n",
       "      <td>52908.405799</td>\n",
       "      <td>E:\\ML_Models_EXFOR\\KNN_B0\\k4_distance_euclidea...</td>\n",
       "      <td>k4_distance_euclidean_minmax_one_hot_B0_v2</td>\n",
       "      <td>True</td>\n",
       "    </tr>\n",
       "    <tr>\n",
       "      <th>276</th>\n",
       "      <td>8</td>\n",
       "      <td>manhattan</td>\n",
       "      <td>one_hot</td>\n",
       "      <td>minmax</td>\n",
       "      <td>0.025926</td>\n",
       "      <td>0.011033</td>\n",
       "      <td>0.985687</td>\n",
       "      <td>0.0</td>\n",
       "      <td>0.985687</td>\n",
       "      <td>0.116317</td>\n",
       "      <td>0.060090</td>\n",
       "      <td>0.920073</td>\n",
       "      <td>0.041105</td>\n",
       "      <td>0.920073</td>\n",
       "      <td>0.115661</td>\n",
       "      <td>0.058934</td>\n",
       "      <td>0.921851</td>\n",
       "      <td>0.040820</td>\n",
       "      <td>0.921849</td>\n",
       "      <td>E:\\ML_Models_EXFOR\\KNN_B0\\k8_distance_manhatta...</td>\n",
       "      <td>45342.842937</td>\n",
       "      <td>E:\\ML_Models_EXFOR\\KNN_B0\\k8_distance_manhatta...</td>\n",
       "      <td>k8_distance_manhattan_minmax_one_hot_B0_v2</td>\n",
       "      <td>True</td>\n",
       "    </tr>\n",
       "    <tr>\n",
       "      <th>277</th>\n",
       "      <td>12</td>\n",
       "      <td>manhattan</td>\n",
       "      <td>one_hot</td>\n",
       "      <td>minmax</td>\n",
       "      <td>0.025839</td>\n",
       "      <td>0.010890</td>\n",
       "      <td>0.985876</td>\n",
       "      <td>0.0</td>\n",
       "      <td>0.985876</td>\n",
       "      <td>0.115830</td>\n",
       "      <td>0.059749</td>\n",
       "      <td>0.920521</td>\n",
       "      <td>0.041403</td>\n",
       "      <td>0.920521</td>\n",
       "      <td>0.115695</td>\n",
       "      <td>0.059854</td>\n",
       "      <td>0.920381</td>\n",
       "      <td>0.041307</td>\n",
       "      <td>0.920381</td>\n",
       "      <td>E:\\ML_Models_EXFOR\\KNN_B0\\k12_distance_manhatt...</td>\n",
       "      <td>48068.513939</td>\n",
       "      <td>E:\\ML_Models_EXFOR\\KNN_B0\\k12_distance_manhatt...</td>\n",
       "      <td>k12_distance_manhattan_minmax_one_hot_B0_v2</td>\n",
       "      <td>True</td>\n",
       "    </tr>\n",
       "    <tr>\n",
       "      <th>278</th>\n",
       "      <td>16</td>\n",
       "      <td>manhattan</td>\n",
       "      <td>one_hot</td>\n",
       "      <td>minmax</td>\n",
       "      <td>0.025825</td>\n",
       "      <td>0.010862</td>\n",
       "      <td>0.985911</td>\n",
       "      <td>0.0</td>\n",
       "      <td>0.985911</td>\n",
       "      <td>0.115843</td>\n",
       "      <td>0.059055</td>\n",
       "      <td>0.921012</td>\n",
       "      <td>0.041857</td>\n",
       "      <td>0.921012</td>\n",
       "      <td>0.116128</td>\n",
       "      <td>0.059337</td>\n",
       "      <td>0.921421</td>\n",
       "      <td>0.042361</td>\n",
       "      <td>0.921421</td>\n",
       "      <td>E:\\ML_Models_EXFOR\\KNN_B0\\k16_distance_manhatt...</td>\n",
       "      <td>46104.734946</td>\n",
       "      <td>E:\\ML_Models_EXFOR\\KNN_B0\\k16_distance_manhatt...</td>\n",
       "      <td>k16_distance_manhattan_minmax_one_hot_B0_v2</td>\n",
       "      <td>True</td>\n",
       "    </tr>\n",
       "    <tr>\n",
       "      <th>279</th>\n",
       "      <td>4</td>\n",
       "      <td>manhattan</td>\n",
       "      <td>one_hot</td>\n",
       "      <td>minmax</td>\n",
       "      <td>0.026206</td>\n",
       "      <td>0.011535</td>\n",
       "      <td>0.985050</td>\n",
       "      <td>0.0</td>\n",
       "      <td>0.985050</td>\n",
       "      <td>0.119005</td>\n",
       "      <td>0.063776</td>\n",
       "      <td>0.916301</td>\n",
       "      <td>0.040848</td>\n",
       "      <td>0.916300</td>\n",
       "      <td>0.118559</td>\n",
       "      <td>0.064014</td>\n",
       "      <td>0.915124</td>\n",
       "      <td>0.040717</td>\n",
       "      <td>0.915124</td>\n",
       "      <td>E:\\ML_Models_EXFOR\\KNN_B0\\k4_distance_manhatta...</td>\n",
       "      <td>46117.840434</td>\n",
       "      <td>E:\\ML_Models_EXFOR\\KNN_B0\\k4_distance_manhatta...</td>\n",
       "      <td>k4_distance_manhattan_minmax_one_hot_B0_v2</td>\n",
       "      <td>True</td>\n",
       "    </tr>\n",
       "  </tbody>\n",
       "</table>\n",
       "<p>280 rows × 24 columns</p>\n",
       "</div>"
      ],
      "text/plain": [
       "     id distance_metric mt_strategy normalizer  train_mae  train_mse  \\\n",
       "0    13       euclidean     one_hot   standard   0.025880   0.010936   \n",
       "1     9       euclidean     one_hot   standard   0.025931   0.010999   \n",
       "2     1       euclidean     one_hot   standard   0.029060   0.021444   \n",
       "3     5       euclidean     one_hot   standard   0.026062   0.011286   \n",
       "4    17       euclidean     one_hot   standard   0.025844   0.010874   \n",
       "..   ..             ...         ...        ...        ...        ...   \n",
       "275   4       euclidean     one_hot     minmax   0.026206   0.011535   \n",
       "276   8       manhattan     one_hot     minmax   0.025926   0.011033   \n",
       "277  12       manhattan     one_hot     minmax   0.025839   0.010890   \n",
       "278  16       manhattan     one_hot     minmax   0.025825   0.010862   \n",
       "279   4       manhattan     one_hot     minmax   0.026206   0.011535   \n",
       "\n",
       "     train_evs  train_mae_m  train_r2   val_mae   val_mse   val_evs  \\\n",
       "0     0.985814          0.0  0.985814  0.118292  0.062828  0.915687   \n",
       "1     0.985734          0.0  0.985734  0.118136  0.062010  0.917756   \n",
       "2     0.972555          0.0  0.972555  0.140604  0.090440  0.885060   \n",
       "3     0.985346          0.0  0.985346  0.119661  0.066503  0.911902   \n",
       "4     0.985899          0.0  0.985899  0.119776  0.064781  0.912524   \n",
       "..         ...          ...       ...       ...       ...       ...   \n",
       "275   0.985050          0.0  0.985050  0.119090  0.063827  0.916232   \n",
       "276   0.985687          0.0  0.985687  0.116317  0.060090  0.920073   \n",
       "277   0.985876          0.0  0.985876  0.115830  0.059749  0.920521   \n",
       "278   0.985911          0.0  0.985911  0.115843  0.059055  0.921012   \n",
       "279   0.985050          0.0  0.985050  0.119005  0.063776  0.916301   \n",
       "\n",
       "     val_mae_m    val_r2  test_mae  test_mse  test_evs  test_mae_m   test_r2  \\\n",
       "0     0.042361  0.915686  0.118816  0.063698  0.914577    0.042778  0.914573   \n",
       "1     0.041772  0.917756  0.118899  0.064408  0.913698    0.041733  0.913698   \n",
       "2     0.047921  0.885059  0.140549  0.091576  0.882881    0.047418  0.882880   \n",
       "3     0.041176  0.911900  0.119958  0.067081  0.911042    0.041299  0.911040   \n",
       "4     0.043461  0.912522  0.119740  0.064122  0.913774    0.043261  0.913773   \n",
       "..         ...       ...       ...       ...       ...         ...       ...   \n",
       "275   0.040870  0.916232  0.118699  0.064212  0.914864    0.040746  0.914864   \n",
       "276   0.041105  0.920073  0.115661  0.058934  0.921851    0.040820  0.921849   \n",
       "277   0.041403  0.920521  0.115695  0.059854  0.920381    0.041307  0.920381   \n",
       "278   0.041857  0.921012  0.116128  0.059337  0.921421    0.042361  0.921421   \n",
       "279   0.040848  0.916300  0.118559  0.064014  0.915124    0.040717  0.915124   \n",
       "\n",
       "                                            model_path  training_time  \\\n",
       "0    E:\\ML_Models_EXFOR\\KNN_B0\\k13_distance_euclide...    3671.971000   \n",
       "1    E:\\ML_Models_EXFOR\\KNN_B0\\k9_distance_euclidea...    4992.854609   \n",
       "2    E:\\ML_Models_EXFOR\\KNN_B0\\k1_distance_euclidea...    6258.326797   \n",
       "3    E:\\ML_Models_EXFOR\\KNN_B0\\k5_distance_euclidea...    6381.527638   \n",
       "4    E:\\ML_Models_EXFOR\\KNN_B0\\k17_distance_euclide...    6478.077649   \n",
       "..                                                 ...            ...   \n",
       "275  E:\\ML_Models_EXFOR\\KNN_B0\\k4_distance_euclidea...   52908.405799   \n",
       "276  E:\\ML_Models_EXFOR\\KNN_B0\\k8_distance_manhatta...   45342.842937   \n",
       "277  E:\\ML_Models_EXFOR\\KNN_B0\\k12_distance_manhatt...   48068.513939   \n",
       "278  E:\\ML_Models_EXFOR\\KNN_B0\\k16_distance_manhatt...   46104.734946   \n",
       "279  E:\\ML_Models_EXFOR\\KNN_B0\\k4_distance_manhatta...   46117.840434   \n",
       "\n",
       "                                           scaler_path  \\\n",
       "0    E:\\ML_Models_EXFOR\\KNN_B0\\k13_distance_euclide...   \n",
       "1    E:\\ML_Models_EXFOR\\KNN_B0\\k9_distance_euclidea...   \n",
       "2    E:\\ML_Models_EXFOR\\KNN_B0\\k1_distance_euclidea...   \n",
       "3    E:\\ML_Models_EXFOR\\KNN_B0\\k5_distance_euclidea...   \n",
       "4    E:\\ML_Models_EXFOR\\KNN_B0\\k17_distance_euclide...   \n",
       "..                                                 ...   \n",
       "275  E:\\ML_Models_EXFOR\\KNN_B0\\k4_distance_euclidea...   \n",
       "276  E:\\ML_Models_EXFOR\\KNN_B0\\k8_distance_manhatta...   \n",
       "277  E:\\ML_Models_EXFOR\\KNN_B0\\k12_distance_manhatt...   \n",
       "278  E:\\ML_Models_EXFOR\\KNN_B0\\k16_distance_manhatt...   \n",
       "279  E:\\ML_Models_EXFOR\\KNN_B0\\k4_distance_manhatta...   \n",
       "\n",
       "                                          run_name  scale_energy  \n",
       "0    k13_distance_euclidean_standard_one_hot_B0_v1         False  \n",
       "1     k9_distance_euclidean_standard_one_hot_B0_v1         False  \n",
       "2     k1_distance_euclidean_standard_one_hot_B0_v1         False  \n",
       "3     k5_distance_euclidean_standard_one_hot_B0_v1         False  \n",
       "4    k17_distance_euclidean_standard_one_hot_B0_v1         False  \n",
       "..                                             ...           ...  \n",
       "275     k4_distance_euclidean_minmax_one_hot_B0_v2          True  \n",
       "276     k8_distance_manhattan_minmax_one_hot_B0_v2          True  \n",
       "277    k12_distance_manhattan_minmax_one_hot_B0_v2          True  \n",
       "278    k16_distance_manhattan_minmax_one_hot_B0_v2          True  \n",
       "279     k4_distance_manhattan_minmax_one_hot_B0_v2          True  \n",
       "\n",
       "[280 rows x 24 columns]"
      ]
     },
     "execution_count": 10,
     "metadata": {},
     "output_type": "execute_result"
    }
   ],
   "source": [
    "knn_results_filepath = \"../ML_EXFOR_neutrons/1_KNN/knn_results_B0.csv\"\n",
    "knn_results = pd.read_csv(knn_results_filepath)\n",
    "knn_results[\"scale_energy\"] = knn_results.run_name.apply(lambda x: True if \"v2\" in x else False)\n",
    "# knn_results = model_utils.get_best_models_df(knn_results)\n",
    "knn_results"
   ]
  },
  {
   "cell_type": "code",
   "execution_count": 11,
   "metadata": {
    "ExecuteTime": {
     "end_time": "2021-03-13T13:00:44.463638Z",
     "start_time": "2021-03-13T06:31:48.422748Z"
    }
   },
   "outputs": [],
   "source": [
    "BENCHMARK_NAME = \"U233-MET-FAST-001\"\n",
    "ace_utils.generate_bench_ml_xs(df_b0, knn_results, BENCHMARK_NAME, to_scale_b0, knn_ml_ace_dir, reset=True)"
   ]
  },
  {
   "cell_type": "code",
   "execution_count": 13,
   "metadata": {
    "ExecuteTime": {
     "end_time": "2021-03-13T17:18:26.386358Z",
     "start_time": "2021-03-13T17:18:26.250346Z"
    }
   },
   "outputs": [],
   "source": [
    "ace_utils.generate_serpent_bash(knn_ml_ace_dir, BENCHMARK_NAME, benchmark=BENCHMARK_NAME)"
   ]
  },
  {
   "cell_type": "markdown",
   "metadata": {},
   "source": [
    "# XGBoost"
   ]
  },
  {
   "cell_type": "code",
   "execution_count": null,
   "metadata": {},
   "outputs": [],
   "source": []
  },
  {
   "cell_type": "code",
   "execution_count": 11,
   "metadata": {
    "ExecuteTime": {
     "end_time": "2021-03-10T19:28:36.079940Z",
     "start_time": "2021-03-10T19:28:36.076935Z"
    }
   },
   "outputs": [],
   "source": [
    "# all_serpent_files = []\n",
    "\n",
    "# for root, _, files in os.walk(\"ml/DT_B0\"):\n",
    "#     for file in files:\n",
    "#         if \"U233_MET_FAST_001_001\" in root:\n",
    "#             all_serpent_files.append(os.path.abspath(os.path.join(root, file)))"
   ]
  }
 ],
 "metadata": {
  "kernelspec": {
   "display_name": "Python 3",
   "language": "python",
   "name": "python3"
  },
  "language_info": {
   "codemirror_mode": {
    "name": "ipython",
    "version": 3
   },
   "file_extension": ".py",
   "mimetype": "text/x-python",
   "name": "python",
   "nbconvert_exporter": "python",
   "pygments_lexer": "ipython3",
   "version": "3.8.8"
  }
 },
 "nbformat": 4,
 "nbformat_minor": 4
}
