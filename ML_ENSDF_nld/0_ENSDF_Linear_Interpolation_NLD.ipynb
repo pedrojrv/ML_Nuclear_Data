{
 "cells": [
  {
   "cell_type": "markdown",
   "metadata": {},
   "source": [
    "# ENSDF Nuclear Level Density Interpolation\n",
    "\n",
    "In the effort to use ML to predict cross section data, a very important feature that comes to mind are the nuclear levels. These are directly correlated to resonance location. How can we represent available data correctly and incorporate it into our EXFOR datasets? In this example, we go through a very simple approach where we load the cut-off ENSDF dataset and fit linear models to available nuclear level densities. It is not only the predictions that we save but also the models since we need to query them at the EXFOR datapoint energies."
   ]
  },
  {
   "cell_type": "code",
   "execution_count": 2,
   "metadata": {
    "ExecuteTime": {
     "end_time": "2021-05-06T21:35:21.015343Z",
     "start_time": "2021-05-06T21:35:21.012343Z"
    }
   },
   "outputs": [],
   "source": [
    "# # Prototype\n",
    "# import sys\n",
    "# sys.path.append(\"../..\")"
   ]
  },
  {
   "cell_type": "code",
   "execution_count": 4,
   "metadata": {
    "ExecuteTime": {
     "end_time": "2021-05-06T21:35:36.148792Z",
     "start_time": "2021-05-06T21:35:32.780767Z"
    }
   },
   "outputs": [],
   "source": [
    "import pandas as pd\n",
    "import numpy as np\n",
    "\n",
    "pd.set_option('display.max_columns', 500)\n",
    "pd.set_option('display.max_rows', 50)\n",
    "\n",
    "import logging\n",
    "import os\n",
    "\n",
    "import nucml.datasets as nuc_data\n",
    "import nucml.ensdf.plot as ensdf_plot\n",
    "import nucml.ensdf.data_utilities as ensdf_utils\n",
    "import nucml.ame.parsing_utilities as ame_utils\n",
    "import nucml.model.model_building as model_building\n",
    "import nucml.general_utilities as gen_utils"
   ]
  },
  {
   "cell_type": "code",
   "execution_count": 5,
   "metadata": {
    "ExecuteTime": {
     "end_time": "2021-05-06T21:35:38.543048Z",
     "start_time": "2021-05-06T21:35:38.539547Z"
    }
   },
   "outputs": [],
   "source": [
    "figure_dir = \"../Figures/\""
   ]
  },
  {
   "cell_type": "markdown",
   "metadata": {},
   "source": [
    "With the modules imported, let us load the RIPL-cut ENSDF data."
   ]
  },
  {
   "cell_type": "code",
   "execution_count": 7,
   "metadata": {
    "ExecuteTime": {
     "end_time": "2021-05-06T21:37:33.405782Z",
     "start_time": "2021-05-06T21:37:33.282780Z"
    }
   },
   "outputs": [
    {
     "name": "stderr",
     "output_type": "stream",
     "text": [
      "INFO:root:Dropping Ground State...\n",
      "INFO:root:AME: Reading and loading Atomic Mass Evaluation files from: \n",
      " C:/Users/Pedro/Desktop/ML_Nuclear_Data/AME/CSV_Files\\AME_all_merged_no_NaN.csv\n",
      "INFO:root:Finished. Resulting dataset has shape (20825, 75)\n"
     ]
    }
   ],
   "source": [
    "ensdf_cutoff_df = nuc_data.load_ensdf_ml(cutoff=True, log=True, append_ame=True, basic=-1, num=False)"
   ]
  },
  {
   "cell_type": "markdown",
   "metadata": {},
   "source": [
    "Also, let us create a unique ID for each dataset:"
   ]
  },
  {
   "cell_type": "code",
   "execution_count": 13,
   "metadata": {
    "ExecuteTime": {
     "end_time": "2021-05-06T21:38:29.759571Z",
     "start_time": "2021-05-06T21:38:29.714573Z"
    }
   },
   "outputs": [],
   "source": [
    "ensdf_cutoff_df[\"ID\"] = ensdf_cutoff_df.Z.astype(str) + \"_\" + ensdf_cutoff_df.A.astype(str)\n",
    "unique_ids = ensdf_cutoff_df.ID.unique()"
   ]
  },
  {
   "cell_type": "markdown",
   "metadata": {},
   "source": [
    "## Fitting a Linear Model to NLD ENSDF Cut-Off Data "
   ]
  },
  {
   "cell_type": "code",
   "execution_count": 15,
   "metadata": {
    "ExecuteTime": {
     "end_time": "2021-05-06T21:46:33.983551Z",
     "start_time": "2021-05-06T21:46:33.883555Z"
    }
   },
   "outputs": [
    {
     "name": "stderr",
     "output_type": "stream",
     "text": [
      "INFO:root:Extracting samples from dataframe.\n"
     ]
    },
    {
     "ename": "KeyError",
     "evalue": "'Protons'",
     "output_type": "error",
     "traceback": [
      "\u001b[1;31m---------------------------------------------------------------------------\u001b[0m",
      "\u001b[1;31mKeyError\u001b[0m                                  Traceback (most recent call last)",
      "\u001b[1;32m~\\Anaconda3\\envs\\nucml\\lib\\site-packages\\pandas\\core\\indexes\\base.py\u001b[0m in \u001b[0;36mget_loc\u001b[1;34m(self, key, method, tolerance)\u001b[0m\n\u001b[0;32m   3079\u001b[0m             \u001b[1;32mtry\u001b[0m\u001b[1;33m:\u001b[0m\u001b[1;33m\u001b[0m\u001b[1;33m\u001b[0m\u001b[0m\n\u001b[1;32m-> 3080\u001b[1;33m                 \u001b[1;32mreturn\u001b[0m \u001b[0mself\u001b[0m\u001b[1;33m.\u001b[0m\u001b[0m_engine\u001b[0m\u001b[1;33m.\u001b[0m\u001b[0mget_loc\u001b[0m\u001b[1;33m(\u001b[0m\u001b[0mcasted_key\u001b[0m\u001b[1;33m)\u001b[0m\u001b[1;33m\u001b[0m\u001b[1;33m\u001b[0m\u001b[0m\n\u001b[0m\u001b[0;32m   3081\u001b[0m             \u001b[1;32mexcept\u001b[0m \u001b[0mKeyError\u001b[0m \u001b[1;32mas\u001b[0m \u001b[0merr\u001b[0m\u001b[1;33m:\u001b[0m\u001b[1;33m\u001b[0m\u001b[1;33m\u001b[0m\u001b[0m\n",
      "\u001b[1;32mpandas\\_libs\\index.pyx\u001b[0m in \u001b[0;36mpandas._libs.index.IndexEngine.get_loc\u001b[1;34m()\u001b[0m\n",
      "\u001b[1;32mpandas\\_libs\\index.pyx\u001b[0m in \u001b[0;36mpandas._libs.index.IndexEngine.get_loc\u001b[1;34m()\u001b[0m\n",
      "\u001b[1;32mpandas\\_libs\\hashtable_class_helper.pxi\u001b[0m in \u001b[0;36mpandas._libs.hashtable.PyObjectHashTable.get_item\u001b[1;34m()\u001b[0m\n",
      "\u001b[1;32mpandas\\_libs\\hashtable_class_helper.pxi\u001b[0m in \u001b[0;36mpandas._libs.hashtable.PyObjectHashTable.get_item\u001b[1;34m()\u001b[0m\n",
      "\u001b[1;31mKeyError\u001b[0m: 'Protons'",
      "\nThe above exception was the direct cause of the following exception:\n",
      "\u001b[1;31mKeyError\u001b[0m                                  Traceback (most recent call last)",
      "\u001b[1;32m<ipython-input-15-ea32bfbbd612>\u001b[0m in \u001b[0;36m<module>\u001b[1;34m\u001b[0m\n\u001b[1;32m----> 1\u001b[1;33m \u001b[0mpred_v1\u001b[0m \u001b[1;33m=\u001b[0m \u001b[0mensdf_utils\u001b[0m\u001b[1;33m.\u001b[0m\u001b[0mgenerate_level_density_csv\u001b[0m\u001b[1;33m(\u001b[0m\u001b[0mensdf_cutoff_df\u001b[0m\u001b[1;33m,\u001b[0m \u001b[1;36m92\u001b[0m\u001b[1;33m,\u001b[0m \u001b[1;36m233\u001b[0m\u001b[1;33m,\u001b[0m \u001b[0mplot\u001b[0m\u001b[1;33m=\u001b[0m\u001b[1;32mTrue\u001b[0m\u001b[1;33m)\u001b[0m\u001b[1;33m\u001b[0m\u001b[1;33m\u001b[0m\u001b[0m\n\u001b[0m",
      "\u001b[1;32mc:\\users\\pedro\\desktop\\nucml\\nucml\\ensdf\\data_utilities.py\u001b[0m in \u001b[0;36mgenerate_level_density_csv\u001b[1;34m(df, Z, A, nodata, upper_energy_mev, get_upper, tot_num_levels, it_limit, plot, save, saving_dir)\u001b[0m\n\u001b[0;32m    171\u001b[0m         \u001b[0moriginal\u001b[0m \u001b[1;33m=\u001b[0m \u001b[0mdf\u001b[0m\u001b[1;33m.\u001b[0m\u001b[0mcopy\u001b[0m\u001b[1;33m(\u001b[0m\u001b[1;33m)\u001b[0m\u001b[1;33m\u001b[0m\u001b[1;33m\u001b[0m\u001b[0m\n\u001b[0;32m    172\u001b[0m     \u001b[1;32melse\u001b[0m\u001b[1;33m:\u001b[0m\u001b[1;33m\u001b[0m\u001b[1;33m\u001b[0m\u001b[0m\n\u001b[1;32m--> 173\u001b[1;33m         \u001b[0moriginal\u001b[0m \u001b[1;33m=\u001b[0m \u001b[0mload_ensdf_samples\u001b[0m\u001b[1;33m(\u001b[0m\u001b[0mdf\u001b[0m\u001b[1;33m,\u001b[0m \u001b[0mZ\u001b[0m\u001b[1;33m,\u001b[0m \u001b[0mA\u001b[0m\u001b[1;33m)\u001b[0m\u001b[1;33m\u001b[0m\u001b[1;33m\u001b[0m\u001b[0m\n\u001b[0m\u001b[0;32m    174\u001b[0m \u001b[1;33m\u001b[0m\u001b[0m\n\u001b[0;32m    175\u001b[0m     \u001b[0melement\u001b[0m \u001b[1;33m=\u001b[0m \u001b[0moriginal\u001b[0m\u001b[1;33m.\u001b[0m\u001b[0mTarget_Element_w_A\u001b[0m\u001b[1;33m.\u001b[0m\u001b[0mvalues\u001b[0m\u001b[1;33m[\u001b[0m\u001b[1;36m0\u001b[0m\u001b[1;33m]\u001b[0m\u001b[1;33m\u001b[0m\u001b[1;33m\u001b[0m\u001b[0m\n",
      "\u001b[1;32mc:\\users\\pedro\\desktop\\nucml\\nucml\\ensdf\\data_utilities.py\u001b[0m in \u001b[0;36mload_ensdf_samples\u001b[1;34m(df, Z, A, scale, scaler, to_scale)\u001b[0m\n\u001b[0;32m     30\u001b[0m     \"\"\"\n\u001b[0;32m     31\u001b[0m     \u001b[0mlogging\u001b[0m\u001b[1;33m.\u001b[0m\u001b[0minfo\u001b[0m\u001b[1;33m(\u001b[0m\u001b[1;34m\"Extracting samples from dataframe.\"\u001b[0m\u001b[1;33m)\u001b[0m\u001b[1;33m\u001b[0m\u001b[1;33m\u001b[0m\u001b[0m\n\u001b[1;32m---> 32\u001b[1;33m     \u001b[0msample\u001b[0m \u001b[1;33m=\u001b[0m \u001b[0mdf\u001b[0m\u001b[1;33m[\u001b[0m\u001b[1;33m(\u001b[0m\u001b[0mdf\u001b[0m\u001b[1;33m[\u001b[0m\u001b[1;34m\"Protons\"\u001b[0m\u001b[1;33m]\u001b[0m \u001b[1;33m==\u001b[0m \u001b[0mZ\u001b[0m\u001b[1;33m)\u001b[0m \u001b[1;33m&\u001b[0m \u001b[1;33m(\u001b[0m\u001b[0mdf\u001b[0m\u001b[1;33m[\u001b[0m\u001b[1;34m\"Mass_Number\"\u001b[0m\u001b[1;33m]\u001b[0m \u001b[1;33m==\u001b[0m \u001b[0mA\u001b[0m\u001b[1;33m)\u001b[0m\u001b[1;33m]\u001b[0m\u001b[1;33m.\u001b[0m\u001b[0msort_values\u001b[0m\u001b[1;33m(\u001b[0m\u001b[0mby\u001b[0m\u001b[1;33m=\u001b[0m\u001b[1;34m'Level_Number'\u001b[0m\u001b[1;33m,\u001b[0m \u001b[0mascending\u001b[0m\u001b[1;33m=\u001b[0m\u001b[1;32mTrue\u001b[0m\u001b[1;33m)\u001b[0m\u001b[1;33m\u001b[0m\u001b[1;33m\u001b[0m\u001b[0m\n\u001b[0m\u001b[0;32m     33\u001b[0m     \u001b[1;32mif\u001b[0m \u001b[0mscale\u001b[0m\u001b[1;33m:\u001b[0m\u001b[1;33m\u001b[0m\u001b[1;33m\u001b[0m\u001b[0m\n\u001b[0;32m     34\u001b[0m         \u001b[0mlogging\u001b[0m\u001b[1;33m.\u001b[0m\u001b[0minfo\u001b[0m\u001b[1;33m(\u001b[0m\u001b[1;34m\"Scaling dataset...\"\u001b[0m\u001b[1;33m)\u001b[0m\u001b[1;33m\u001b[0m\u001b[1;33m\u001b[0m\u001b[0m\n",
      "\u001b[1;32m~\\Anaconda3\\envs\\nucml\\lib\\site-packages\\pandas\\core\\frame.py\u001b[0m in \u001b[0;36m__getitem__\u001b[1;34m(self, key)\u001b[0m\n\u001b[0;32m   3022\u001b[0m             \u001b[1;32mif\u001b[0m \u001b[0mself\u001b[0m\u001b[1;33m.\u001b[0m\u001b[0mcolumns\u001b[0m\u001b[1;33m.\u001b[0m\u001b[0mnlevels\u001b[0m \u001b[1;33m>\u001b[0m \u001b[1;36m1\u001b[0m\u001b[1;33m:\u001b[0m\u001b[1;33m\u001b[0m\u001b[1;33m\u001b[0m\u001b[0m\n\u001b[0;32m   3023\u001b[0m                 \u001b[1;32mreturn\u001b[0m \u001b[0mself\u001b[0m\u001b[1;33m.\u001b[0m\u001b[0m_getitem_multilevel\u001b[0m\u001b[1;33m(\u001b[0m\u001b[0mkey\u001b[0m\u001b[1;33m)\u001b[0m\u001b[1;33m\u001b[0m\u001b[1;33m\u001b[0m\u001b[0m\n\u001b[1;32m-> 3024\u001b[1;33m             \u001b[0mindexer\u001b[0m \u001b[1;33m=\u001b[0m \u001b[0mself\u001b[0m\u001b[1;33m.\u001b[0m\u001b[0mcolumns\u001b[0m\u001b[1;33m.\u001b[0m\u001b[0mget_loc\u001b[0m\u001b[1;33m(\u001b[0m\u001b[0mkey\u001b[0m\u001b[1;33m)\u001b[0m\u001b[1;33m\u001b[0m\u001b[1;33m\u001b[0m\u001b[0m\n\u001b[0m\u001b[0;32m   3025\u001b[0m             \u001b[1;32mif\u001b[0m \u001b[0mis_integer\u001b[0m\u001b[1;33m(\u001b[0m\u001b[0mindexer\u001b[0m\u001b[1;33m)\u001b[0m\u001b[1;33m:\u001b[0m\u001b[1;33m\u001b[0m\u001b[1;33m\u001b[0m\u001b[0m\n\u001b[0;32m   3026\u001b[0m                 \u001b[0mindexer\u001b[0m \u001b[1;33m=\u001b[0m \u001b[1;33m[\u001b[0m\u001b[0mindexer\u001b[0m\u001b[1;33m]\u001b[0m\u001b[1;33m\u001b[0m\u001b[1;33m\u001b[0m\u001b[0m\n",
      "\u001b[1;32m~\\Anaconda3\\envs\\nucml\\lib\\site-packages\\pandas\\core\\indexes\\base.py\u001b[0m in \u001b[0;36mget_loc\u001b[1;34m(self, key, method, tolerance)\u001b[0m\n\u001b[0;32m   3080\u001b[0m                 \u001b[1;32mreturn\u001b[0m \u001b[0mself\u001b[0m\u001b[1;33m.\u001b[0m\u001b[0m_engine\u001b[0m\u001b[1;33m.\u001b[0m\u001b[0mget_loc\u001b[0m\u001b[1;33m(\u001b[0m\u001b[0mcasted_key\u001b[0m\u001b[1;33m)\u001b[0m\u001b[1;33m\u001b[0m\u001b[1;33m\u001b[0m\u001b[0m\n\u001b[0;32m   3081\u001b[0m             \u001b[1;32mexcept\u001b[0m \u001b[0mKeyError\u001b[0m \u001b[1;32mas\u001b[0m \u001b[0merr\u001b[0m\u001b[1;33m:\u001b[0m\u001b[1;33m\u001b[0m\u001b[1;33m\u001b[0m\u001b[0m\n\u001b[1;32m-> 3082\u001b[1;33m                 \u001b[1;32mraise\u001b[0m \u001b[0mKeyError\u001b[0m\u001b[1;33m(\u001b[0m\u001b[0mkey\u001b[0m\u001b[1;33m)\u001b[0m \u001b[1;32mfrom\u001b[0m \u001b[0merr\u001b[0m\u001b[1;33m\u001b[0m\u001b[1;33m\u001b[0m\u001b[0m\n\u001b[0m\u001b[0;32m   3083\u001b[0m \u001b[1;33m\u001b[0m\u001b[0m\n\u001b[0;32m   3084\u001b[0m         \u001b[1;32mif\u001b[0m \u001b[0mtolerance\u001b[0m \u001b[1;32mis\u001b[0m \u001b[1;32mnot\u001b[0m \u001b[1;32mNone\u001b[0m\u001b[1;33m:\u001b[0m\u001b[1;33m\u001b[0m\u001b[1;33m\u001b[0m\u001b[0m\n",
      "\u001b[1;31mKeyError\u001b[0m: 'Protons'"
     ]
    }
   ],
   "source": [
    "pred_v1 = ensdf_utils.generate_level_density_csv(ensdf_cutoff_df, 92, 233, plot=True)"
   ]
  },
  {
   "cell_type": "markdown",
   "metadata": {},
   "source": [
    "The same function as above is being used but this time I am giving the total number of levels to generate. "
   ]
  },
  {
   "cell_type": "code",
   "execution_count": 70,
   "metadata": {
    "ExecuteTime": {
     "end_time": "2020-09-09T18:01:24.678908Z",
     "start_time": "2020-09-09T18:01:24.244810Z"
    }
   },
   "outputs": [
    {
     "name": "stderr",
     "output_type": "stream",
     "text": [
      "INFO:root:Extracting samples from dataframe.\n",
      "INFO:root:ENSDF extracted DataFrame has shape: (36, 77)\n",
      "INFO:root:Generating level density for 233U\n",
      "INFO:root:Extracting samples from dataframe.\n",
      "INFO:root:ENSDF extracted DataFrame has shape: (36, 77)\n",
      "INFO:root:Expanded Dataset has shape: (500, 76)\n"
     ]
    },
    {
     "data": {
      "image/png": "[encoded data removed]",
      "text/plain": [
       "<Figure size 1080x720 with 1 Axes>"
      ]
     },
     "metadata": {},
     "output_type": "display_data"
    }
   ],
   "source": [
    "pred_v1 = ensdf_utils.generate_level_density_csv(ensdf_cutoff_df, 92, 233, tot_num_levels=500, plot=True)"
   ]
  },
  {
   "cell_type": "markdown",
   "metadata": {},
   "source": [
    "What if we want to get the NLD datapoints until a certain MeV. The model is trained to predict the energy given an level number. We cannot just use the model to predict NLD although you could fit a linear model also to the generated NLD. That makes more sence but here I will opt for brute force. My purpose is to use this datapoints to append to EXFOR therefore I wrote a function that will keep increasing levels until the predicted energy reaches 20 MeV. Let us obtain the NLD for U233."
   ]
  },
  {
   "cell_type": "code",
   "execution_count": 73,
   "metadata": {
    "ExecuteTime": {
     "end_time": "2020-09-09T18:10:33.560574Z",
     "start_time": "2020-09-09T18:10:33.556581Z"
    }
   },
   "outputs": [],
   "source": [
    "# Since each iteration will generate a lot of output we will turn off the logger for now\n",
    "logger = logging.getLogger()\n",
    "logger.setLevel(logging.CRITICAL)"
   ]
  },
  {
   "cell_type": "code",
   "execution_count": 169,
   "metadata": {
    "ExecuteTime": {
     "end_time": "2020-09-11T16:14:27.496022Z",
     "start_time": "2020-09-11T16:14:25.918504Z"
    }
   },
   "outputs": [
    {
     "data": {
      "image/png": "[encoded data removed]",
      "text/plain": [
       "<Figure size 1080x720 with 1 Axes>"
      ]
     },
     "metadata": {},
     "output_type": "display_data"
    }
   ],
   "source": [
    "pred_v1 = ensdf_utils.generate_level_density_csv(ensdf_cutoff_df, 92, 233, tot_num_levels=500,\n",
    "                                                 # Notice I want to get the NLD up to a certain energy\n",
    "                                                 # so we set get_upper=True and the target upper_energy_mev \n",
    "                                                 # to 20 MeV. The it_limit means how many times should we \n",
    "                                                 # increase the tot_num_levels by 100 before giving up. \n",
    "                                                 get_upper=True, upper_energy_mev=20, it_limit=500, \n",
    "                                                 plot=True)"
   ]
  },
  {
   "cell_type": "markdown",
   "metadata": {},
   "source": [
    "We can use this function to iterate through all elements in the ensdf_cutoff_df dataframe. The same function allows for us to save predicted datapoints as a CSV for later use. "
   ]
  },
  {
   "cell_type": "code",
   "execution_count": 92,
   "metadata": {
    "ExecuteTime": {
     "end_time": "2020-09-09T19:28:53.361952Z",
     "start_time": "2020-09-09T19:09:37.453574Z"
    }
   },
   "outputs": [
    {
     "data": {
      "text/plain": [
       "[]"
      ]
     },
     "execution_count": 92,
     "metadata": {},
     "output_type": "execute_result"
    }
   ],
   "source": [
    "# This list will allow us to obtain those isotopes for which we could not reach the target energy\n",
    "not_reached = []\n",
    "\n",
    "for i in unique_ids:\n",
    "    Z, A = i.split(\"_\")\n",
    "    df_str = ensdf_utils.generate_level_density_csv(ensdf_cutoff_df, int(Z), int(A), save=True, tot_num_levels=500, \n",
    "                                                    get_upper=True, upper_energy_mev=20, it_limit=500,\n",
    "                                                    saving_dir=\"../CSV_Files/Level_Density/\")\n",
    "    if type(df_str) == str:\n",
    "        not_reached.append(df_str)\n",
    "\n",
    "not_reached"
   ]
  },
  {
   "cell_type": "markdown",
   "metadata": {},
   "source": [
    "You will notice that the not_reached is empty. I found that 500 tot_num_levels and it_limit of 500 allowed enough iterations for every element to reach 20 MeV. We can take a look at the directory and see that we succesfully generated various isotopic files with level density data."
   ]
  },
  {
   "cell_type": "code",
   "execution_count": 76,
   "metadata": {
    "ExecuteTime": {
     "end_time": "2020-09-09T18:15:39.106962Z",
     "start_time": "2020-09-09T18:15:39.100960Z"
    }
   },
   "outputs": [
    {
     "data": {
      "text/plain": [
       "['100Mo_Level_Density.csv',\n",
       " '100Ru_Level_Density.csv',\n",
       " '101Ru_Level_Density.csv',\n",
       " '102Pd_Level_Density.csv',\n",
       " '102Ru_Level_Density.csv',\n",
       " '103Rh_Level_Density.csv',\n",
       " '103Ru_Level_Density.csv',\n",
       " '104Pd_Level_Density.csv',\n",
       " '104Rh_Level_Density.csv',\n",
       " '104Ru_Level_Density.csv']"
      ]
     },
     "execution_count": 76,
     "metadata": {},
     "output_type": "execute_result"
    }
   ],
   "source": [
    "os.listdir(\"../CSV_Files/Level_Density/\")[:10]"
   ]
  },
  {
   "cell_type": "code",
   "execution_count": 170,
   "metadata": {
    "ExecuteTime": {
     "end_time": "2020-09-11T16:14:32.321566Z",
     "start_time": "2020-09-11T16:14:32.310572Z"
    }
   },
   "outputs": [
    {
     "data": {
      "text/html": [
       "<div>\n",
       "<style scoped>\n",
       "    .dataframe tbody tr th:only-of-type {\n",
       "        vertical-align: middle;\n",
       "    }\n",
       "\n",
       "    .dataframe tbody tr th {\n",
       "        vertical-align: top;\n",
       "    }\n",
       "\n",
       "    .dataframe thead th {\n",
       "        text-align: right;\n",
       "    }\n",
       "</style>\n",
       "<table border=\"1\" class=\"dataframe\">\n",
       "  <thead>\n",
       "    <tr style=\"text-align: right;\">\n",
       "      <th></th>\n",
       "      <th>Level_Number</th>\n",
       "      <th>Level_Energy</th>\n",
       "      <th>N</th>\n",
       "    </tr>\n",
       "  </thead>\n",
       "  <tbody>\n",
       "    <tr>\n",
       "      <th>0</th>\n",
       "      <td>0.000000</td>\n",
       "      <td>-1.297970</td>\n",
       "      <td>0.000000</td>\n",
       "    </tr>\n",
       "    <tr>\n",
       "      <th>1</th>\n",
       "      <td>0.301030</td>\n",
       "      <td>-1.078108</td>\n",
       "      <td>0.301030</td>\n",
       "    </tr>\n",
       "    <tr>\n",
       "      <th>2</th>\n",
       "      <td>0.477121</td>\n",
       "      <td>-0.949497</td>\n",
       "      <td>0.778151</td>\n",
       "    </tr>\n",
       "    <tr>\n",
       "      <th>3</th>\n",
       "      <td>0.602060</td>\n",
       "      <td>-0.858246</td>\n",
       "      <td>1.380211</td>\n",
       "    </tr>\n",
       "    <tr>\n",
       "      <th>4</th>\n",
       "      <td>0.698970</td>\n",
       "      <td>-0.787467</td>\n",
       "      <td>2.079181</td>\n",
       "    </tr>\n",
       "    <tr>\n",
       "      <th>...</th>\n",
       "      <td>...</td>\n",
       "      <td>...</td>\n",
       "      <td>...</td>\n",
       "    </tr>\n",
       "    <tr>\n",
       "      <th>3695</th>\n",
       "      <td>3.567732</td>\n",
       "      <td>1.307778</td>\n",
       "      <td>11583.367894</td>\n",
       "    </tr>\n",
       "    <tr>\n",
       "      <th>3696</th>\n",
       "      <td>3.567849</td>\n",
       "      <td>1.307864</td>\n",
       "      <td>11586.935744</td>\n",
       "    </tr>\n",
       "    <tr>\n",
       "      <th>3697</th>\n",
       "      <td>3.567967</td>\n",
       "      <td>1.307950</td>\n",
       "      <td>11590.503711</td>\n",
       "    </tr>\n",
       "    <tr>\n",
       "      <th>3698</th>\n",
       "      <td>3.568084</td>\n",
       "      <td>1.308036</td>\n",
       "      <td>11594.071795</td>\n",
       "    </tr>\n",
       "    <tr>\n",
       "      <th>3699</th>\n",
       "      <td>3.568202</td>\n",
       "      <td>1.308121</td>\n",
       "      <td>11597.639997</td>\n",
       "    </tr>\n",
       "  </tbody>\n",
       "</table>\n",
       "<p>3700 rows × 3 columns</p>\n",
       "</div>"
      ],
      "text/plain": [
       "      Level_Number  Level_Energy             N\n",
       "0         0.000000     -1.297970      0.000000\n",
       "1         0.301030     -1.078108      0.301030\n",
       "2         0.477121     -0.949497      0.778151\n",
       "3         0.602060     -0.858246      1.380211\n",
       "4         0.698970     -0.787467      2.079181\n",
       "...            ...           ...           ...\n",
       "3695      3.567732      1.307778  11583.367894\n",
       "3696      3.567849      1.307864  11586.935744\n",
       "3697      3.567967      1.307950  11590.503711\n",
       "3698      3.568084      1.308036  11594.071795\n",
       "3699      3.568202      1.308121  11597.639997\n",
       "\n",
       "[3700 rows x 3 columns]"
      ]
     },
     "execution_count": 170,
     "metadata": {},
     "output_type": "execute_result"
    }
   ],
   "source": [
    "pred_v1"
   ]
  },
  {
   "cell_type": "code",
   "execution_count": 171,
   "metadata": {
    "ExecuteTime": {
     "end_time": "2020-09-11T16:14:38.404895Z",
     "start_time": "2020-09-11T16:14:38.397904Z"
    }
   },
   "outputs": [],
   "source": [
    "def transform_back(df):\n",
    "    df[\"Level_Number\"] = 10**df.Level_Number.values\n",
    "    df[\"Level_Energy\"] = 10**df.Level_Energy.values\n",
    "    return df\n",
    "\n",
    "pred_v1_nolog = transform_back(pred_v1.copy())"
   ]
  },
  {
   "cell_type": "code",
   "execution_count": 172,
   "metadata": {
    "ExecuteTime": {
     "end_time": "2020-09-11T16:14:42.599922Z",
     "start_time": "2020-09-11T16:14:42.590928Z"
    }
   },
   "outputs": [
    {
     "data": {
      "text/html": [
       "<div>\n",
       "<style scoped>\n",
       "    .dataframe tbody tr th:only-of-type {\n",
       "        vertical-align: middle;\n",
       "    }\n",
       "\n",
       "    .dataframe tbody tr th {\n",
       "        vertical-align: top;\n",
       "    }\n",
       "\n",
       "    .dataframe thead th {\n",
       "        text-align: right;\n",
       "    }\n",
       "</style>\n",
       "<table border=\"1\" class=\"dataframe\">\n",
       "  <thead>\n",
       "    <tr style=\"text-align: right;\">\n",
       "      <th></th>\n",
       "      <th>Level_Number</th>\n",
       "      <th>Level_Energy</th>\n",
       "      <th>N</th>\n",
       "    </tr>\n",
       "  </thead>\n",
       "  <tbody>\n",
       "    <tr>\n",
       "      <th>0</th>\n",
       "      <td>1.0</td>\n",
       "      <td>0.050353</td>\n",
       "      <td>0.000000</td>\n",
       "    </tr>\n",
       "    <tr>\n",
       "      <th>1</th>\n",
       "      <td>2.0</td>\n",
       "      <td>0.083539</td>\n",
       "      <td>0.301030</td>\n",
       "    </tr>\n",
       "    <tr>\n",
       "      <th>2</th>\n",
       "      <td>3.0</td>\n",
       "      <td>0.112332</td>\n",
       "      <td>0.778151</td>\n",
       "    </tr>\n",
       "    <tr>\n",
       "      <th>3</th>\n",
       "      <td>4.0</td>\n",
       "      <td>0.138597</td>\n",
       "      <td>1.380211</td>\n",
       "    </tr>\n",
       "    <tr>\n",
       "      <th>4</th>\n",
       "      <td>5.0</td>\n",
       "      <td>0.163130</td>\n",
       "      <td>2.079181</td>\n",
       "    </tr>\n",
       "    <tr>\n",
       "      <th>...</th>\n",
       "      <td>...</td>\n",
       "      <td>...</td>\n",
       "      <td>...</td>\n",
       "    </tr>\n",
       "    <tr>\n",
       "      <th>3695</th>\n",
       "      <td>3696.0</td>\n",
       "      <td>20.313199</td>\n",
       "      <td>11583.367894</td>\n",
       "    </tr>\n",
       "    <tr>\n",
       "      <th>3696</th>\n",
       "      <td>3697.0</td>\n",
       "      <td>20.317213</td>\n",
       "      <td>11586.935744</td>\n",
       "    </tr>\n",
       "    <tr>\n",
       "      <th>3697</th>\n",
       "      <td>3698.0</td>\n",
       "      <td>20.321227</td>\n",
       "      <td>11590.503711</td>\n",
       "    </tr>\n",
       "    <tr>\n",
       "      <th>3698</th>\n",
       "      <td>3699.0</td>\n",
       "      <td>20.325240</td>\n",
       "      <td>11594.071795</td>\n",
       "    </tr>\n",
       "    <tr>\n",
       "      <th>3699</th>\n",
       "      <td>3700.0</td>\n",
       "      <td>20.329253</td>\n",
       "      <td>11597.639997</td>\n",
       "    </tr>\n",
       "  </tbody>\n",
       "</table>\n",
       "<p>3700 rows × 3 columns</p>\n",
       "</div>"
      ],
      "text/plain": [
       "      Level_Number  Level_Energy             N\n",
       "0              1.0      0.050353      0.000000\n",
       "1              2.0      0.083539      0.301030\n",
       "2              3.0      0.112332      0.778151\n",
       "3              4.0      0.138597      1.380211\n",
       "4              5.0      0.163130      2.079181\n",
       "...            ...           ...           ...\n",
       "3695        3696.0     20.313199  11583.367894\n",
       "3696        3697.0     20.317213  11586.935744\n",
       "3697        3698.0     20.321227  11590.503711\n",
       "3698        3699.0     20.325240  11594.071795\n",
       "3699        3700.0     20.329253  11597.639997\n",
       "\n",
       "[3700 rows x 3 columns]"
      ]
     },
     "execution_count": 172,
     "metadata": {},
     "output_type": "execute_result"
    }
   ],
   "source": [
    "pred_v1_nolog"
   ]
  },
  {
   "cell_type": "code",
   "execution_count": 174,
   "metadata": {
    "ExecuteTime": {
     "end_time": "2020-09-11T16:15:14.205770Z",
     "start_time": "2020-09-11T16:15:14.197781Z"
    }
   },
   "outputs": [],
   "source": [
    "pred_v1_nolog = pred_v1_nolog.append({\"Level_Number\": 0, \"Level_Energy\": 0, \"N\": 0}, ignore_index=True).sort_values(by=\"Level_Number\").reset_index(drop=True)"
   ]
  },
  {
   "cell_type": "code",
   "execution_count": 176,
   "metadata": {
    "ExecuteTime": {
     "end_time": "2020-09-11T16:15:23.897940Z",
     "start_time": "2020-09-11T16:15:23.893948Z"
    }
   },
   "outputs": [],
   "source": [
    "pred_v1_nolog.iloc[1,2] = np.nan"
   ]
  },
  {
   "cell_type": "code",
   "execution_count": 177,
   "metadata": {
    "ExecuteTime": {
     "end_time": "2020-09-11T16:15:24.259099Z",
     "start_time": "2020-09-11T16:15:24.254106Z"
    }
   },
   "outputs": [],
   "source": [
    "pred_v1_nolog[\"N\"] = pred_v1_nolog.N.interpolate()"
   ]
  },
  {
   "cell_type": "code",
   "execution_count": 178,
   "metadata": {
    "ExecuteTime": {
     "end_time": "2020-09-11T16:15:29.968105Z",
     "start_time": "2020-09-11T16:15:29.959103Z"
    }
   },
   "outputs": [
    {
     "data": {
      "text/html": [
       "<div>\n",
       "<style scoped>\n",
       "    .dataframe tbody tr th:only-of-type {\n",
       "        vertical-align: middle;\n",
       "    }\n",
       "\n",
       "    .dataframe tbody tr th {\n",
       "        vertical-align: top;\n",
       "    }\n",
       "\n",
       "    .dataframe thead th {\n",
       "        text-align: right;\n",
       "    }\n",
       "</style>\n",
       "<table border=\"1\" class=\"dataframe\">\n",
       "  <thead>\n",
       "    <tr style=\"text-align: right;\">\n",
       "      <th></th>\n",
       "      <th>Level_Number</th>\n",
       "      <th>Level_Energy</th>\n",
       "      <th>N</th>\n",
       "    </tr>\n",
       "  </thead>\n",
       "  <tbody>\n",
       "    <tr>\n",
       "      <th>0</th>\n",
       "      <td>0.0</td>\n",
       "      <td>0.000000</td>\n",
       "      <td>0.000000</td>\n",
       "    </tr>\n",
       "    <tr>\n",
       "      <th>1</th>\n",
       "      <td>1.0</td>\n",
       "      <td>0.050353</td>\n",
       "      <td>0.150515</td>\n",
       "    </tr>\n",
       "    <tr>\n",
       "      <th>2</th>\n",
       "      <td>2.0</td>\n",
       "      <td>0.083539</td>\n",
       "      <td>0.301030</td>\n",
       "    </tr>\n",
       "    <tr>\n",
       "      <th>3</th>\n",
       "      <td>3.0</td>\n",
       "      <td>0.112332</td>\n",
       "      <td>0.778151</td>\n",
       "    </tr>\n",
       "    <tr>\n",
       "      <th>4</th>\n",
       "      <td>4.0</td>\n",
       "      <td>0.138597</td>\n",
       "      <td>1.380211</td>\n",
       "    </tr>\n",
       "  </tbody>\n",
       "</table>\n",
       "</div>"
      ],
      "text/plain": [
       "   Level_Number  Level_Energy         N\n",
       "0           0.0      0.000000  0.000000\n",
       "1           1.0      0.050353  0.150515\n",
       "2           2.0      0.083539  0.301030\n",
       "3           3.0      0.112332  0.778151\n",
       "4           4.0      0.138597  1.380211"
      ]
     },
     "execution_count": 178,
     "metadata": {},
     "output_type": "execute_result"
    }
   ],
   "source": [
    "pred_v1_nolog.head()"
   ]
  },
  {
   "cell_type": "code",
   "execution_count": 150,
   "metadata": {
    "ExecuteTime": {
     "end_time": "2020-09-11T16:03:18.105463Z",
     "start_time": "2020-09-11T16:03:18.102386Z"
    }
   },
   "outputs": [],
   "source": [
    "pred_v1_nolog.set_index('Level_Energy', inplace=True)"
   ]
  },
  {
   "cell_type": "code",
   "execution_count": 151,
   "metadata": {
    "ExecuteTime": {
     "end_time": "2020-09-11T16:03:24.119162Z",
     "start_time": "2020-09-11T16:03:24.110172Z"
    }
   },
   "outputs": [
    {
     "data": {
      "text/html": [
       "<div>\n",
       "<style scoped>\n",
       "    .dataframe tbody tr th:only-of-type {\n",
       "        vertical-align: middle;\n",
       "    }\n",
       "\n",
       "    .dataframe tbody tr th {\n",
       "        vertical-align: top;\n",
       "    }\n",
       "\n",
       "    .dataframe thead th {\n",
       "        text-align: right;\n",
       "    }\n",
       "</style>\n",
       "<table border=\"1\" class=\"dataframe\">\n",
       "  <thead>\n",
       "    <tr style=\"text-align: right;\">\n",
       "      <th></th>\n",
       "      <th>Level_Number</th>\n",
       "      <th>N</th>\n",
       "    </tr>\n",
       "    <tr>\n",
       "      <th>Level_Energy</th>\n",
       "      <th></th>\n",
       "      <th></th>\n",
       "    </tr>\n",
       "  </thead>\n",
       "  <tbody>\n",
       "    <tr>\n",
       "      <th>0.000000</th>\n",
       "      <td>0.0</td>\n",
       "      <td>0.000000</td>\n",
       "    </tr>\n",
       "    <tr>\n",
       "      <th>0.050353</th>\n",
       "      <td>1.0</td>\n",
       "      <td>0.150515</td>\n",
       "    </tr>\n",
       "    <tr>\n",
       "      <th>0.083539</th>\n",
       "      <td>2.0</td>\n",
       "      <td>0.301030</td>\n",
       "    </tr>\n",
       "    <tr>\n",
       "      <th>0.112332</th>\n",
       "      <td>3.0</td>\n",
       "      <td>0.778151</td>\n",
       "    </tr>\n",
       "    <tr>\n",
       "      <th>0.138597</th>\n",
       "      <td>4.0</td>\n",
       "      <td>1.380211</td>\n",
       "    </tr>\n",
       "  </tbody>\n",
       "</table>\n",
       "</div>"
      ],
      "text/plain": [
       "              Level_Number         N\n",
       "Level_Energy                        \n",
       "0.000000               0.0  0.000000\n",
       "0.050353               1.0  0.150515\n",
       "0.083539               2.0  0.301030\n",
       "0.112332               3.0  0.778151\n",
       "0.138597               4.0  1.380211"
      ]
     },
     "execution_count": 151,
     "metadata": {},
     "output_type": "execute_result"
    }
   ],
   "source": [
    "pred_v1_nolog.head()"
   ]
  },
  {
   "cell_type": "code",
   "execution_count": 159,
   "metadata": {
    "ExecuteTime": {
     "end_time": "2020-09-11T16:09:08.836073Z",
     "start_time": "2020-09-11T16:09:08.831073Z"
    }
   },
   "outputs": [],
   "source": [
    "new_to_append = pd.DataFrame({\"Level_Number\":[np.nan], \"Level_Energy\": [0.03], \"N\":[np.nan]}).set_index('Level_Energy')"
   ]
  },
  {
   "cell_type": "code",
   "execution_count": 160,
   "metadata": {
    "ExecuteTime": {
     "end_time": "2020-09-11T16:09:09.420077Z",
     "start_time": "2020-09-11T16:09:09.414074Z"
    }
   },
   "outputs": [
    {
     "data": {
      "text/html": [
       "<div>\n",
       "<style scoped>\n",
       "    .dataframe tbody tr th:only-of-type {\n",
       "        vertical-align: middle;\n",
       "    }\n",
       "\n",
       "    .dataframe tbody tr th {\n",
       "        vertical-align: top;\n",
       "    }\n",
       "\n",
       "    .dataframe thead th {\n",
       "        text-align: right;\n",
       "    }\n",
       "</style>\n",
       "<table border=\"1\" class=\"dataframe\">\n",
       "  <thead>\n",
       "    <tr style=\"text-align: right;\">\n",
       "      <th></th>\n",
       "      <th>Level_Number</th>\n",
       "      <th>N</th>\n",
       "    </tr>\n",
       "    <tr>\n",
       "      <th>Level_Energy</th>\n",
       "      <th></th>\n",
       "      <th></th>\n",
       "    </tr>\n",
       "  </thead>\n",
       "  <tbody>\n",
       "    <tr>\n",
       "      <th>0.03</th>\n",
       "      <td>NaN</td>\n",
       "      <td>NaN</td>\n",
       "    </tr>\n",
       "  </tbody>\n",
       "</table>\n",
       "</div>"
      ],
      "text/plain": [
       "              Level_Number   N\n",
       "Level_Energy                  \n",
       "0.03                   NaN NaN"
      ]
     },
     "execution_count": 160,
     "metadata": {},
     "output_type": "execute_result"
    }
   ],
   "source": [
    "new_to_append"
   ]
  },
  {
   "cell_type": "code",
   "execution_count": 161,
   "metadata": {
    "ExecuteTime": {
     "end_time": "2020-09-11T16:09:19.003925Z",
     "start_time": "2020-09-11T16:09:18.989921Z"
    }
   },
   "outputs": [
    {
     "data": {
      "text/html": [
       "<div>\n",
       "<style scoped>\n",
       "    .dataframe tbody tr th:only-of-type {\n",
       "        vertical-align: middle;\n",
       "    }\n",
       "\n",
       "    .dataframe tbody tr th {\n",
       "        vertical-align: top;\n",
       "    }\n",
       "\n",
       "    .dataframe thead th {\n",
       "        text-align: right;\n",
       "    }\n",
       "</style>\n",
       "<table border=\"1\" class=\"dataframe\">\n",
       "  <thead>\n",
       "    <tr style=\"text-align: right;\">\n",
       "      <th></th>\n",
       "      <th>Level_Number</th>\n",
       "      <th>N</th>\n",
       "    </tr>\n",
       "    <tr>\n",
       "      <th>Level_Energy</th>\n",
       "      <th></th>\n",
       "      <th></th>\n",
       "    </tr>\n",
       "  </thead>\n",
       "  <tbody>\n",
       "    <tr>\n",
       "      <th>0.000000</th>\n",
       "      <td>0.0</td>\n",
       "      <td>0.000000</td>\n",
       "    </tr>\n",
       "    <tr>\n",
       "      <th>0.030000</th>\n",
       "      <td>NaN</td>\n",
       "      <td>NaN</td>\n",
       "    </tr>\n",
       "    <tr>\n",
       "      <th>0.050353</th>\n",
       "      <td>1.0</td>\n",
       "      <td>0.150515</td>\n",
       "    </tr>\n",
       "    <tr>\n",
       "      <th>0.083539</th>\n",
       "      <td>2.0</td>\n",
       "      <td>0.301030</td>\n",
       "    </tr>\n",
       "    <tr>\n",
       "      <th>0.112332</th>\n",
       "      <td>3.0</td>\n",
       "      <td>0.778151</td>\n",
       "    </tr>\n",
       "    <tr>\n",
       "      <th>...</th>\n",
       "      <td>...</td>\n",
       "      <td>...</td>\n",
       "    </tr>\n",
       "    <tr>\n",
       "      <th>20.313199</th>\n",
       "      <td>3696.0</td>\n",
       "      <td>11583.367894</td>\n",
       "    </tr>\n",
       "    <tr>\n",
       "      <th>20.317213</th>\n",
       "      <td>3697.0</td>\n",
       "      <td>11586.935744</td>\n",
       "    </tr>\n",
       "    <tr>\n",
       "      <th>20.321227</th>\n",
       "      <td>3698.0</td>\n",
       "      <td>11590.503711</td>\n",
       "    </tr>\n",
       "    <tr>\n",
       "      <th>20.325240</th>\n",
       "      <td>3699.0</td>\n",
       "      <td>11594.071795</td>\n",
       "    </tr>\n",
       "    <tr>\n",
       "      <th>20.329253</th>\n",
       "      <td>3700.0</td>\n",
       "      <td>11597.639997</td>\n",
       "    </tr>\n",
       "  </tbody>\n",
       "</table>\n",
       "<p>3702 rows × 2 columns</p>\n",
       "</div>"
      ],
      "text/plain": [
       "              Level_Number             N\n",
       "Level_Energy                            \n",
       "0.000000               0.0      0.000000\n",
       "0.030000               NaN           NaN\n",
       "0.050353               1.0      0.150515\n",
       "0.083539               2.0      0.301030\n",
       "0.112332               3.0      0.778151\n",
       "...                    ...           ...\n",
       "20.313199           3696.0  11583.367894\n",
       "20.317213           3697.0  11586.935744\n",
       "20.321227           3698.0  11590.503711\n",
       "20.325240           3699.0  11594.071795\n",
       "20.329253           3700.0  11597.639997\n",
       "\n",
       "[3702 rows x 2 columns]"
      ]
     },
     "execution_count": 161,
     "metadata": {},
     "output_type": "execute_result"
    }
   ],
   "source": [
    "pred_v1_nolog.append(pd.DataFrame({\"Level_Number\":[np.nan], \"Level_Energy\": [0.03], \"N\":[np.nan]}).set_index('Level_Energy')).sort_index()"
   ]
  },
  {
   "cell_type": "code",
   "execution_count": 195,
   "metadata": {
    "ExecuteTime": {
     "end_time": "2020-09-11T16:24:45.420320Z",
     "start_time": "2020-09-11T16:24:45.407306Z"
    }
   },
   "outputs": [
    {
     "data": {
      "text/plain": [
       "array([0.089675])"
      ]
     },
     "execution_count": 195,
     "metadata": {},
     "output_type": "execute_result"
    }
   ],
   "source": [
    "def get_level_density(energy_mev, pred_df, log=False):\n",
    "    if log:\n",
    "        energy = np.log10(energy_mev)\n",
    "    else:\n",
    "        energy = energy_mev\n",
    "\n",
    "    to_append = pd.DataFrame({\"Level_Number\":[np.nan], \"Level_Energy\": [energy], \"N\":[np.nan]})\n",
    "    to_interpolate = pred_df.append(to_append)\n",
    "    to_interpolate = to_interpolate.set_index('Level_Energy').sort_index()\n",
    "    to_interpolate.interpolate(method='index', inplace=True)\n",
    "    to_interpolate = to_interpolate.reset_index()\n",
    "    return to_interpolate[to_interpolate.Level_Energy == energy].N.to_numpy()\n",
    "    \n",
    "#     new_index = len(to_interpolate) - 1\n",
    "#     to_interpolate = to_interpolate.interpolate()\n",
    "#     level_density = to_interpolate.loc[new_index][\"N\"]\n",
    "#     return level_density\n",
    "\n",
    "nld = get_level_density(0.03, pred_v1_nolog.copy())\n",
    "nld"
   ]
  },
  {
   "cell_type": "code",
   "execution_count": null,
   "metadata": {},
   "outputs": [],
   "source": []
  }
 ],
 "metadata": {
  "kernelspec": {
   "display_name": "Python 3",
   "language": "python",
   "name": "python3"
  },
  "language_info": {
   "codemirror_mode": {
    "name": "ipython",
    "version": 3
   },
   "file_extension": ".py",
   "mimetype": "text/x-python",
   "name": "python",
   "nbconvert_exporter": "python",
   "pygments_lexer": "ipython3",
   "version": "3.8.8"
  }
 },
 "nbformat": 4,
 "nbformat_minor": 4
}
