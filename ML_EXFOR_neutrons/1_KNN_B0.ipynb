{
 "cells": [
  {
   "cell_type": "code",
   "execution_count": 1,
   "metadata": {
    "ExecuteTime": {
     "end_time": "2020-10-16T22:54:06.015359Z",
     "start_time": "2020-10-16T22:54:06.013358Z"
    }
   },
   "outputs": [],
   "source": [
    "# from comet_ml import Experiment\n",
    "# import wandb"
   ]
  },
  {
   "cell_type": "markdown",
   "metadata": {},
   "source": [
    "# Modeling Cross Section Data with KNN, DT, and Random Forest"
   ]
  },
  {
   "cell_type": "code",
   "execution_count": 1,
   "metadata": {
    "ExecuteTime": {
     "end_time": "2021-01-06T04:23:58.646481Z",
     "start_time": "2021-01-06T04:23:58.641980Z"
    }
   },
   "outputs": [],
   "source": [
    "COMMET_PROJECT_NAME = \"ml-scikit-exfor\"\n",
    "WANDB_PROJECT_NAME = COMMET_PROJECT_NAME\n",
    "DATASET = 'B0'\n",
    "VERSION = '_' + \"v4\" # args.version\n",
    "DATASET_DICT = {\"B0\":0, \"B1\":1, \"B2\":2}\n",
    "NORMALIZER_TYPE = \"maxabs\"\n",
    "MT_STRATEGY = \"one_hot\"\n",
    "TRAIN_FRACTION = 0.9\n",
    "K_LIST = [1, 2, 3] # args.k_list\n",
    "DISTANCE_METRIC = [\"euclidean\", \"manhattan\"]"
   ]
  },
  {
   "cell_type": "code",
   "execution_count": 25,
   "metadata": {
    "ExecuteTime": {
     "end_time": "2021-01-06T07:35:57.604851Z",
     "start_time": "2021-01-06T07:35:57.600355Z"
    }
   },
   "outputs": [],
   "source": [
    "import pandas as pd\n",
    "import itertools\n",
    "import numpy as np\n",
    "import os\n",
    "from joblib import dump\n",
    "import time\n",
    "from sklearn.neighbors import KNeighborsRegressor\n",
    "import sys\n",
    "from sklearn.model_selection import train_test_split\n",
    "\n",
    "# This allows us to import the nucml utilities\n",
    "sys.path.append(\"../../..\")\n",
    "\n",
    "import nucml.exfor.data_utilities as exfor_utils \n",
    "import nucml.datasets as nuc_data \n",
    "import nucml.general_utilities as gen_utils"
   ]
  },
  {
   "cell_type": "code",
   "execution_count": 26,
   "metadata": {
    "ExecuteTime": {
     "end_time": "2021-01-06T07:36:06.314377Z",
     "start_time": "2021-01-06T07:36:06.303874Z"
    }
   },
   "outputs": [
    {
     "name": "stdout",
     "output_type": "stream",
     "text": [
      "Finish re-loading scripts.\n"
     ]
    }
   ],
   "source": [
    "import importlib\n",
    "importlib.reload(exfor_utils)\n",
    "importlib.reload(nuc_data)\n",
    "importlib.reload(gen_utils)\n",
    "print(\"Finish re-loading scripts.\")"
   ]
  },
  {
   "cell_type": "markdown",
   "metadata": {},
   "source": [
    "# Loading EXFOR Data"
   ]
  },
  {
   "cell_type": "code",
   "execution_count": 3,
   "metadata": {
    "ExecuteTime": {
     "end_time": "2021-01-06T04:47:58.868325Z",
     "start_time": "2021-01-06T04:46:06.769687Z"
    }
   },
   "outputs": [
    {
     "name": "stderr",
     "output_type": "stream",
     "text": [
      "INFO:root: MODE: neutrons\n",
      "INFO:root: LOW ENERGY: True\n",
      "INFO:root: LOG: True\n",
      "INFO:root: BASIC: 0\n",
      "INFO:root: SCALER: MAXABS\n",
      "INFO:root:Reading data from C:/Users/Pedro/Desktop/ML_Nuclear_Data/EXFOR/CSV_Files\\EXFOR_neutrons\\EXFOR_neutrons_MF3_AME_no_RawNaN.csv\n",
      "INFO:root:Data read into dataframe with shape: (4184115, 8)\n",
      "INFO:root:Splitting dataset into training and testing...\n",
      "INFO:root:Normalizing dataset...\n",
      "INFO:root:Fitting new scaler.\n"
     ]
    }
   ],
   "source": [
    "df, x_train, x_test, y_train, y_test, to_scale, scaler = nuc_data.load_exfor(\n",
    "    pedro=True, basic=DATASET_DICT[DATASET], frac=1-TRAIN_FRACTION, scaling_type=NORMALIZER_TYPE, mt_coding=MT_STRATEGY)"
   ]
  },
  {
   "cell_type": "markdown",
   "metadata": {},
   "source": [
    "# Newly Measured Chlorine (n,p) Unseen Data \n",
    "\n",
    "These data points are not in the current EXFOR data package and will be used to test the new modeling capabilities."
   ]
  },
  {
   "cell_type": "code",
   "execution_count": 27,
   "metadata": {
    "ExecuteTime": {
     "end_time": "2021-01-06T07:36:09.156676Z",
     "start_time": "2021-01-06T07:36:09.063660Z"
    }
   },
   "outputs": [
    {
     "name": "stderr",
     "output_type": "stream",
     "text": [
      "INFO:root:Extracting samples from dataframe.\n",
      "INFO:root:EXFOR extracted DataFrame has shape: (215, 40)\n",
      "INFO:root:Scaling dataset...\n",
      "INFO:root:EXFOR extracted DataFrame has shape: (12, 40)\n"
     ]
    },
    {
     "name": "stdout",
     "output_type": "stream",
     "text": [
      "103\n"
     ]
    },
    {
     "data": {
      "text/html": [
       "<div>\n",
       "<style scoped>\n",
       "    .dataframe tbody tr th:only-of-type {\n",
       "        vertical-align: middle;\n",
       "    }\n",
       "\n",
       "    .dataframe tbody tr th {\n",
       "        vertical-align: top;\n",
       "    }\n",
       "\n",
       "    .dataframe thead th {\n",
       "        text-align: right;\n",
       "    }\n",
       "</style>\n",
       "<table border=\"1\" class=\"dataframe\">\n",
       "  <thead>\n",
       "    <tr style=\"text-align: right;\">\n",
       "      <th></th>\n",
       "      <th>Energy</th>\n",
       "      <th>Data</th>\n",
       "      <th>Z</th>\n",
       "      <th>N</th>\n",
       "      <th>A</th>\n",
       "      <th>MT_1</th>\n",
       "      <th>MT_101</th>\n",
       "      <th>MT_102</th>\n",
       "      <th>MT_103</th>\n",
       "      <th>MT_104</th>\n",
       "      <th>...</th>\n",
       "      <th>MT_33</th>\n",
       "      <th>MT_4</th>\n",
       "      <th>MT_41</th>\n",
       "      <th>MT_51</th>\n",
       "      <th>MT_9000</th>\n",
       "      <th>MT_9001</th>\n",
       "      <th>Center_of_Mass_Flag_Center_of_Mass</th>\n",
       "      <th>Center_of_Mass_Flag_Lab</th>\n",
       "      <th>Element_Flag_I</th>\n",
       "      <th>Element_Flag_N</th>\n",
       "    </tr>\n",
       "  </thead>\n",
       "  <tbody>\n",
       "    <tr>\n",
       "      <th>0</th>\n",
       "      <td>6.383815</td>\n",
       "      <td>-1.779892</td>\n",
       "      <td>0.171717</td>\n",
       "      <td>0.115385</td>\n",
       "      <td>0.137795</td>\n",
       "      <td>0</td>\n",
       "      <td>0</td>\n",
       "      <td>0</td>\n",
       "      <td>1</td>\n",
       "      <td>0</td>\n",
       "      <td>...</td>\n",
       "      <td>0</td>\n",
       "      <td>0</td>\n",
       "      <td>0</td>\n",
       "      <td>0</td>\n",
       "      <td>0</td>\n",
       "      <td>0</td>\n",
       "      <td>0</td>\n",
       "      <td>1</td>\n",
       "      <td>1</td>\n",
       "      <td>0</td>\n",
       "    </tr>\n",
       "    <tr>\n",
       "      <th>1</th>\n",
       "      <td>6.383815</td>\n",
       "      <td>-1.707744</td>\n",
       "      <td>0.171717</td>\n",
       "      <td>0.115385</td>\n",
       "      <td>0.137795</td>\n",
       "      <td>0</td>\n",
       "      <td>0</td>\n",
       "      <td>0</td>\n",
       "      <td>1</td>\n",
       "      <td>0</td>\n",
       "      <td>...</td>\n",
       "      <td>0</td>\n",
       "      <td>0</td>\n",
       "      <td>0</td>\n",
       "      <td>0</td>\n",
       "      <td>0</td>\n",
       "      <td>0</td>\n",
       "      <td>0</td>\n",
       "      <td>1</td>\n",
       "      <td>1</td>\n",
       "      <td>0</td>\n",
       "    </tr>\n",
       "    <tr>\n",
       "      <th>2</th>\n",
       "      <td>6.401401</td>\n",
       "      <td>-1.583359</td>\n",
       "      <td>0.171717</td>\n",
       "      <td>0.115385</td>\n",
       "      <td>0.137795</td>\n",
       "      <td>0</td>\n",
       "      <td>0</td>\n",
       "      <td>0</td>\n",
       "      <td>1</td>\n",
       "      <td>0</td>\n",
       "      <td>...</td>\n",
       "      <td>0</td>\n",
       "      <td>0</td>\n",
       "      <td>0</td>\n",
       "      <td>0</td>\n",
       "      <td>0</td>\n",
       "      <td>0</td>\n",
       "      <td>0</td>\n",
       "      <td>1</td>\n",
       "      <td>1</td>\n",
       "      <td>0</td>\n",
       "    </tr>\n",
       "    <tr>\n",
       "      <th>3</th>\n",
       "      <td>6.401401</td>\n",
       "      <td>-1.590067</td>\n",
       "      <td>0.171717</td>\n",
       "      <td>0.115385</td>\n",
       "      <td>0.137795</td>\n",
       "      <td>0</td>\n",
       "      <td>0</td>\n",
       "      <td>0</td>\n",
       "      <td>1</td>\n",
       "      <td>0</td>\n",
       "      <td>...</td>\n",
       "      <td>0</td>\n",
       "      <td>0</td>\n",
       "      <td>0</td>\n",
       "      <td>0</td>\n",
       "      <td>0</td>\n",
       "      <td>0</td>\n",
       "      <td>0</td>\n",
       "      <td>1</td>\n",
       "      <td>1</td>\n",
       "      <td>0</td>\n",
       "    </tr>\n",
       "    <tr>\n",
       "      <th>4</th>\n",
       "      <td>6.411620</td>\n",
       "      <td>-1.350665</td>\n",
       "      <td>0.171717</td>\n",
       "      <td>0.115385</td>\n",
       "      <td>0.137795</td>\n",
       "      <td>0</td>\n",
       "      <td>0</td>\n",
       "      <td>0</td>\n",
       "      <td>1</td>\n",
       "      <td>0</td>\n",
       "      <td>...</td>\n",
       "      <td>0</td>\n",
       "      <td>0</td>\n",
       "      <td>0</td>\n",
       "      <td>0</td>\n",
       "      <td>0</td>\n",
       "      <td>0</td>\n",
       "      <td>0</td>\n",
       "      <td>1</td>\n",
       "      <td>1</td>\n",
       "      <td>0</td>\n",
       "    </tr>\n",
       "  </tbody>\n",
       "</table>\n",
       "<p>5 rows × 40 columns</p>\n",
       "</div>"
      ],
      "text/plain": [
       "     Energy      Data         Z         N         A  MT_1  MT_101  MT_102  \\\n",
       "0  6.383815 -1.779892  0.171717  0.115385  0.137795     0       0       0   \n",
       "1  6.383815 -1.707744  0.171717  0.115385  0.137795     0       0       0   \n",
       "2  6.401401 -1.583359  0.171717  0.115385  0.137795     0       0       0   \n",
       "3  6.401401 -1.590067  0.171717  0.115385  0.137795     0       0       0   \n",
       "4  6.411620 -1.350665  0.171717  0.115385  0.137795     0       0       0   \n",
       "\n",
       "   MT_103  MT_104  ...  MT_33  MT_4  MT_41  MT_51  MT_9000  MT_9001  \\\n",
       "0       1       0  ...      0     0      0      0        0        0   \n",
       "1       1       0  ...      0     0      0      0        0        0   \n",
       "2       1       0  ...      0     0      0      0        0        0   \n",
       "3       1       0  ...      0     0      0      0        0        0   \n",
       "4       1       0  ...      0     0      0      0        0        0   \n",
       "\n",
       "   Center_of_Mass_Flag_Center_of_Mass  Center_of_Mass_Flag_Lab  \\\n",
       "0                                   0                        1   \n",
       "1                                   0                        1   \n",
       "2                                   0                        1   \n",
       "3                                   0                        1   \n",
       "4                                   0                        1   \n",
       "\n",
       "   Element_Flag_I  Element_Flag_N  \n",
       "0               1               0  \n",
       "1               1               0  \n",
       "2               1               0  \n",
       "3               1               0  \n",
       "4               1               0  \n",
       "\n",
       "[5 rows x 40 columns]"
      ]
     },
     "execution_count": 27,
     "metadata": {},
     "output_type": "execute_result"
    }
   ],
   "source": [
    "new_cl_data_kwargs = {\"Z\":17, \"A\":35, \"MT\":103, \"log\":True, \"scale\":True, \"scaler\":scaler, \"to_scale\":to_scale, \"one_hot\":True}\n",
    "new_cl_data = exfor_utils.load_newdata(\"../../../EXFOR/New_Data/Chlorine_Data/new_cl_np.csv\", df, **new_cl_data_kwargs)\n",
    "new_cl_data.head()"
   ]
  },
  {
   "cell_type": "code",
   "execution_count": null,
   "metadata": {},
   "outputs": [],
   "source": []
  },
  {
   "cell_type": "code",
   "execution_count": 28,
   "metadata": {
    "ExecuteTime": {
     "end_time": "2021-01-06T07:40:57.248523Z",
     "start_time": "2021-01-06T07:40:57.240521Z"
    }
   },
   "outputs": [
    {
     "name": "stdout",
     "output_type": "stream",
     "text": [
      "Iteration 1/6\n",
      "Iteration 1/6\n",
      "Iteration 1/6\n",
      "Iteration 1/6\n",
      "Iteration 1/6\n",
      "Iteration 1/6\n"
     ]
    }
   ],
   "source": [
    "a = [list(K_LIST), list(DISTANCE_METRIC)]\n",
    "total_num_iterations = len(list(itertools.product(*a)))\n",
    "loop_number = 1 # ORIGINAL INDENT\n",
    "for k_number in K_LIST:   \n",
    "    for distance_metric in DISTANCE_METRIC:\n",
    "\n",
    "        GROUP_NAME = \"KNN_{}\".format(DATASET) # CHANGED\n",
    "        RUN_NAME = 'k{}_{}_{}_{}_{}{}'.format(\n",
    "            k_number, distance_metric, NORMALIZER_TYPE, MT_STRATEGY, DATASET, VERSION) \n",
    "\n",
    "        \n",
    "        if RUN_NAME in os.listdir(\"E:ML_Models_EXFOR/KNN_{}/\".format(DATASET)):\n",
    "            print(\"Duplicate Training. Skipping\")\n",
    "            loop_number = loop_number + 1\n",
    "            continue\n",
    "\n",
    "        print(\"Iteration {}/{}\".format(loop_number, total_num_iterations))"
   ]
  },
  {
   "cell_type": "code",
   "execution_count": null,
   "metadata": {},
   "outputs": [],
   "source": []
  }
 ],
 "metadata": {
  "kernelspec": {
   "display_name": "Python 3",
   "language": "python",
   "name": "python3"
  },
  "language_info": {
   "codemirror_mode": {
    "name": "ipython",
    "version": 3
   },
   "file_extension": ".py",
   "mimetype": "text/x-python",
   "name": "python",
   "nbconvert_exporter": "python",
   "pygments_lexer": "ipython3",
   "version": "3.7.9"
  }
 },
 "nbformat": 4,
 "nbformat_minor": 4
}
