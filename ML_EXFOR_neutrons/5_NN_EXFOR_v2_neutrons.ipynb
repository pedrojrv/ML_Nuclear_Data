{
 "cells": [
  {
   "cell_type": "markdown",
   "metadata": {},
   "source": [
    "# Setting Up GPU and ML Management Tools"
   ]
  },
  {
   "cell_type": "code",
   "execution_count": 1,
   "metadata": {
    "ExecuteTime": {
     "end_time": "2020-07-16T18:46:35.411973Z",
     "start_time": "2020-07-16T18:46:35.408971Z"
    }
   },
   "outputs": [],
   "source": [
    "import os\n",
    "os.environ[\"CUDA_DEVICE_ORDER\"]=\"PCI_BUS_ID\"   # see issue #152\n",
    "os.environ[\"CUDA_VISIBLE_DEVICES\"]=\"0\"\n",
    "# If you don't want your script to sync to the cloud\n",
    "os.environ['WANDB_IGNORE_GLOBS'] = \"*.patch\""
   ]
  },
  {
   "cell_type": "code",
   "execution_count": 2,
   "metadata": {
    "ExecuteTime": {
     "end_time": "2020-07-16T18:46:36.531667Z",
     "start_time": "2020-07-16T18:46:35.413973Z"
    }
   },
   "outputs": [],
   "source": [
    "from comet_ml import Experiment\n",
    "import wandb"
   ]
  },
  {
   "cell_type": "markdown",
   "metadata": {},
   "source": [
    "# Importing Modules"
   ]
  },
  {
   "cell_type": "code",
   "execution_count": 3,
   "metadata": {
    "ExecuteTime": {
     "end_time": "2020-07-16T18:46:37.684635Z",
     "start_time": "2020-07-16T18:46:36.533669Z"
    }
   },
   "outputs": [],
   "source": [
    "import pandas as pd\n",
    "import numpy as np\n",
    "import seaborn as sns\n",
    "import matplotlib.pyplot as plt\n",
    "import importlib\n",
    "from joblib import dump, load\n",
    "from  IPython import display\n",
    "import shutil\n",
    "import tempfile\n",
    "import pathlib\n",
    "import sys\n",
    "\n",
    "# This allows us to import the nucml utilities\n",
    "sys.path.append(\"..\")\n",
    "pd.set_option('display.max_columns', 500)\n",
    "pd.set_option('display.max_rows', 50)\n",
    "pd.options.mode.chained_assignment = None  # default='warn'"
   ]
  },
  {
   "cell_type": "code",
   "execution_count": 4,
   "metadata": {
    "ExecuteTime": {
     "end_time": "2020-07-16T18:46:39.885456Z",
     "start_time": "2020-07-16T18:46:37.687636Z"
    }
   },
   "outputs": [
    {
     "name": "stdout",
     "output_type": "stream",
     "text": [
      "Finish importing scripts.\n"
     ]
    }
   ],
   "source": [
    "import nucml.exfor.data_utilities as exfor_utils\n",
    "import nucml.endf.data_utilities as endf_utils\n",
    "import nucml.plot.plotting_utilities as plot_utils\n",
    "import nucml.datasets as nuc_data\n",
    "import nucml.ace.data_utilities as ace_utils\n",
    "import nucml.model.model_building_nn as model_tools\n",
    "importlib.reload(model_tools)\n",
    "importlib.reload(exfor_utils)\n",
    "importlib.reload(endf_utils)\n",
    "importlib.reload(plot_utils)\n",
    "importlib.reload(nuc_data)\n",
    "importlib.reload(ace_utils)\n",
    "print(\"Finish importing scripts.\")"
   ]
  },
  {
   "cell_type": "code",
   "execution_count": 5,
   "metadata": {
    "ExecuteTime": {
     "end_time": "2020-07-16T18:46:39.892458Z",
     "start_time": "2020-07-16T18:46:39.886957Z"
    }
   },
   "outputs": [],
   "source": [
    "# Load the TensorBoard notebook extension\n",
    "%load_ext tensorboard"
   ]
  },
  {
   "cell_type": "code",
   "execution_count": 6,
   "metadata": {
    "ExecuteTime": {
     "end_time": "2020-07-15T21:05:24.150569Z",
     "start_time": "2020-07-15T21:04:24.060334Z"
    },
    "scrolled": true
   },
   "outputs": [],
   "source": [
    "%tensorboard --logdir wandb --port=6006"
   ]
  },
  {
   "cell_type": "markdown",
   "metadata": {},
   "source": [
    "# Loading EXFOR data (Energy in eV and Data in b)"
   ]
  },
  {
   "cell_type": "code",
   "execution_count": 6,
   "metadata": {
    "ExecuteTime": {
     "end_time": "2020-07-16T18:47:54.938557Z",
     "start_time": "2020-07-16T18:46:53.213179Z"
    },
    "scrolled": true
   },
   "outputs": [
    {
     "name": "stdout",
     "output_type": "stream",
     "text": [
      "C:\\Users\\Pedro\\Desktop\\ML_Nuclear_Data\\ML_Data\\EXFOR_neutrons\\EXFOR_neutrons_MF3_AME_no_NaNRaw.csv\n",
      "Reading data into dataframe...\n",
      " MODE: neutrons\n",
      " LOW ENERGY: True\n",
      " LOG: True\n",
      " BASIC: 1\n",
      " SCALER: std\n",
      "Data read into dataframe with shape:  (4184245, 19)\n",
      "Dropping unnecessary features and one-hot encoding categorical columns...\n",
      "Splitting dataset into training and testing...\n",
      "Normalizing dataset...\n",
      "Finished. Resulting dataset has shape  (4184245, 58) \n",
      "Training and Testing dataset shapes are (3765820, 57) and (418425, 57) respesctively.\n"
     ]
    }
   ],
   "source": [
    "# df, x_train, x_test, y_train, y_test, to_scale, scaler = nuc_data.load_exfor(log=True, basic=1, num=True, low_en=True, scaler_dir='../ML_Data/Models/NN/scaler_ext.pkl')\n",
    "df, x_train, x_test, y_train, y_test, to_scale, scaler = nuc_data.load_exfor(\n",
    "    log=True, basic=1, num=True, low_en=True, scaling_type=\"std\")"
   ]
  },
  {
   "cell_type": "code",
   "execution_count": 7,
   "metadata": {
    "ExecuteTime": {
     "end_time": "2020-07-16T18:47:54.945558Z",
     "start_time": "2020-07-16T18:47:54.940058Z"
    }
   },
   "outputs": [],
   "source": [
    "nn_saving_dir = '../ML_Data/Models/NN/'\n",
    "\n",
    "dump(scaler, open(os.path.join(nn_saving_dir, 'scaler_ext_std.pkl'), 'wb'))"
   ]
  },
  {
   "cell_type": "markdown",
   "metadata": {},
   "source": [
    "# Sampling Chlorine (n,p) and U-233(n,f) Data for Visualization\n",
    "\n",
    "The model will be trained in the entire data therefore getting the total MSE. As an example, we will see the model predictions for both the mentioned reactions. "
   ]
  },
  {
   "cell_type": "code",
   "execution_count": 8,
   "metadata": {
    "ExecuteTime": {
     "end_time": "2020-07-16T18:47:55.488154Z",
     "start_time": "2020-07-16T18:47:54.948060Z"
    }
   },
   "outputs": [
    {
     "name": "stdout",
     "output_type": "stream",
     "text": [
      "Extracting samples from dataframe.\n",
      "Scaling dataset...\n",
      "EXFOR extracted DataFrame has shape:  (215, 58)\n",
      "Extracting samples from dataframe.\n",
      "Scaling dataset...\n",
      "EXFOR extracted DataFrame has shape:  (40108, 58)\n",
      "Extracting samples from dataframe.\n",
      "Scaling dataset...\n",
      "EXFOR extracted DataFrame has shape:  (94567, 58)\n",
      "Extracting samples from dataframe.\n",
      "EXFOR extracted DataFrame has shape:  (33384, 58)\n"
     ]
    }
   ],
   "source": [
    "kwargs = {\"nat_iso\": \"I\", \"one_hot\": True, \"scale\": True, \"scaler\": scaler, \"to_scale\": to_scale}\n",
    "\n",
    "chlorine_35_np = exfor_utils.load_exfor_samples(df, 17, 35, \"MT_103\", **kwargs)\n",
    "uranium_235_nt = exfor_utils.load_exfor_samples(df, 92, 235, \"MT_1\", **kwargs)\n",
    "uranium_233_nf = exfor_utils.load_exfor_samples(df, 92, 233, \"MT_18\", **kwargs)\n",
    "uranium_233_nt = exfor_utils.load_exfor_samples(df, 92, 233, \"MT_1\", one_hot=True)"
   ]
  },
  {
   "cell_type": "code",
   "execution_count": 9,
   "metadata": {
    "ExecuteTime": {
     "end_time": "2020-07-16T18:47:56.706369Z",
     "start_time": "2020-07-16T18:47:55.489654Z"
    }
   },
   "outputs": [
    {
     "name": "stdout",
     "output_type": "stream",
     "text": [
      "Extracting samples from dataframe.\n",
      "Scaling dataset...\n",
      "EXFOR extracted DataFrame has shape:  (468123, 58)\n"
     ]
    }
   ],
   "source": [
    "kwargs = {\"nat_iso\": \"I\", \"one_hot\": True, \"scale\": True, \"scaler\": scaler, \"to_scale\": to_scale}\n",
    "uranium = exfor_utils.load_exfor_element(df, 92, **kwargs)"
   ]
  },
  {
   "cell_type": "markdown",
   "metadata": {},
   "source": [
    "# Newly Measured Chlorine (n,p) Unseen Data \n",
    "\n",
    "These data points are not in the current EXFOR data package and will be used to test the new modeling capabilities."
   ]
  },
  {
   "cell_type": "code",
   "execution_count": 10,
   "metadata": {
    "ExecuteTime": {
     "end_time": "2020-07-16T18:47:56.817888Z",
     "start_time": "2020-07-16T18:47:56.707369Z"
    }
   },
   "outputs": [
    {
     "name": "stdout",
     "output_type": "stream",
     "text": [
      "Extracting samples from dataframe.\n",
      "EXFOR extracted DataFrame has shape:  (215, 58)\n",
      "Expanded Dataset has shape:  (12, 58)\n"
     ]
    },
    {
     "data": {
      "text/html": [
       "<div>\n",
       "<style scoped>\n",
       "    .dataframe tbody tr th:only-of-type {\n",
       "        vertical-align: middle;\n",
       "    }\n",
       "\n",
       "    .dataframe tbody tr th {\n",
       "        vertical-align: top;\n",
       "    }\n",
       "\n",
       "    .dataframe thead th {\n",
       "        text-align: right;\n",
       "    }\n",
       "</style>\n",
       "<table border=\"1\" class=\"dataframe\">\n",
       "  <thead>\n",
       "    <tr style=\"text-align: right;\">\n",
       "      <th></th>\n",
       "      <th>Energy</th>\n",
       "      <th>Data</th>\n",
       "      <th>Target_Protons</th>\n",
       "      <th>Target_Neutrons</th>\n",
       "      <th>Target_Mass_Number</th>\n",
       "      <th>Target_Radius</th>\n",
       "      <th>Target_Neut_Rad_Ratio</th>\n",
       "      <th>Target_Mass_Excess</th>\n",
       "      <th>Target_Binding_Energy</th>\n",
       "      <th>Target_B_Decay_Energy</th>\n",
       "      <th>Target_Atomic_Mass_Micro</th>\n",
       "      <th>Target_S(2n)</th>\n",
       "      <th>Target_S(n)</th>\n",
       "      <th>Target_S(p)</th>\n",
       "      <th>MT_1</th>\n",
       "      <th>MT_102</th>\n",
       "      <th>MT_16</th>\n",
       "      <th>MT_17</th>\n",
       "      <th>MT_2</th>\n",
       "      <th>MT_3</th>\n",
       "      <th>MT_4</th>\n",
       "      <th>MT_101</th>\n",
       "      <th>MT_103</th>\n",
       "      <th>MT_104</th>\n",
       "      <th>MT_41</th>\n",
       "      <th>MT_9000</th>\n",
       "      <th>MT_105</th>\n",
       "      <th>MT_32</th>\n",
       "      <th>MT_51</th>\n",
       "      <th>MT_33</th>\n",
       "      <th>MT_107</th>\n",
       "      <th>MT_24</th>\n",
       "      <th>MT_155</th>\n",
       "      <th>MT_158</th>\n",
       "      <th>MT_159</th>\n",
       "      <th>MT_108</th>\n",
       "      <th>MT_29</th>\n",
       "      <th>MT_1108</th>\n",
       "      <th>MT_113</th>\n",
       "      <th>MT_106</th>\n",
       "      <th>MT_22</th>\n",
       "      <th>MT_1003</th>\n",
       "      <th>MT_9001</th>\n",
       "      <th>MT_28</th>\n",
       "      <th>MT_111</th>\n",
       "      <th>MT_203</th>\n",
       "      <th>MT_2103</th>\n",
       "      <th>MT_112</th>\n",
       "      <th>MT_37</th>\n",
       "      <th>MT_161</th>\n",
       "      <th>MT_152</th>\n",
       "      <th>MT_153</th>\n",
       "      <th>MT_18</th>\n",
       "      <th>MT_160</th>\n",
       "      <th>Frame_L</th>\n",
       "      <th>Frame_C</th>\n",
       "      <th>Target_Flag_I</th>\n",
       "      <th>Target_Flag_N</th>\n",
       "    </tr>\n",
       "  </thead>\n",
       "  <tbody>\n",
       "    <tr>\n",
       "      <th>0</th>\n",
       "      <td>6.383815</td>\n",
       "      <td>-1.779892</td>\n",
       "      <td>17</td>\n",
       "      <td>18</td>\n",
       "      <td>35</td>\n",
       "      <td>4.088833</td>\n",
       "      <td>0.195655</td>\n",
       "      <td>-29013.528</td>\n",
       "      <td>8520.278</td>\n",
       "      <td>-5966.243</td>\n",
       "      <td>3.496885e+07</td>\n",
       "      <td>24152.83</td>\n",
       "      <td>12644.76</td>\n",
       "      <td>6370.81</td>\n",
       "      <td>0</td>\n",
       "      <td>0</td>\n",
       "      <td>0</td>\n",
       "      <td>0</td>\n",
       "      <td>0</td>\n",
       "      <td>0</td>\n",
       "      <td>0</td>\n",
       "      <td>0</td>\n",
       "      <td>1</td>\n",
       "      <td>0</td>\n",
       "      <td>0</td>\n",
       "      <td>0</td>\n",
       "      <td>0</td>\n",
       "      <td>0</td>\n",
       "      <td>0</td>\n",
       "      <td>0</td>\n",
       "      <td>0</td>\n",
       "      <td>0</td>\n",
       "      <td>0</td>\n",
       "      <td>0</td>\n",
       "      <td>0</td>\n",
       "      <td>0</td>\n",
       "      <td>0</td>\n",
       "      <td>0</td>\n",
       "      <td>0</td>\n",
       "      <td>0</td>\n",
       "      <td>0</td>\n",
       "      <td>0</td>\n",
       "      <td>0</td>\n",
       "      <td>0</td>\n",
       "      <td>0</td>\n",
       "      <td>0</td>\n",
       "      <td>0</td>\n",
       "      <td>0</td>\n",
       "      <td>0</td>\n",
       "      <td>0</td>\n",
       "      <td>0</td>\n",
       "      <td>0</td>\n",
       "      <td>0</td>\n",
       "      <td>0</td>\n",
       "      <td>1</td>\n",
       "      <td>0</td>\n",
       "      <td>1</td>\n",
       "      <td>0</td>\n",
       "    </tr>\n",
       "    <tr>\n",
       "      <th>1</th>\n",
       "      <td>6.383815</td>\n",
       "      <td>-1.707744</td>\n",
       "      <td>17</td>\n",
       "      <td>18</td>\n",
       "      <td>35</td>\n",
       "      <td>4.088833</td>\n",
       "      <td>0.195655</td>\n",
       "      <td>-29013.528</td>\n",
       "      <td>8520.278</td>\n",
       "      <td>-5966.243</td>\n",
       "      <td>3.496885e+07</td>\n",
       "      <td>24152.83</td>\n",
       "      <td>12644.76</td>\n",
       "      <td>6370.81</td>\n",
       "      <td>0</td>\n",
       "      <td>0</td>\n",
       "      <td>0</td>\n",
       "      <td>0</td>\n",
       "      <td>0</td>\n",
       "      <td>0</td>\n",
       "      <td>0</td>\n",
       "      <td>0</td>\n",
       "      <td>1</td>\n",
       "      <td>0</td>\n",
       "      <td>0</td>\n",
       "      <td>0</td>\n",
       "      <td>0</td>\n",
       "      <td>0</td>\n",
       "      <td>0</td>\n",
       "      <td>0</td>\n",
       "      <td>0</td>\n",
       "      <td>0</td>\n",
       "      <td>0</td>\n",
       "      <td>0</td>\n",
       "      <td>0</td>\n",
       "      <td>0</td>\n",
       "      <td>0</td>\n",
       "      <td>0</td>\n",
       "      <td>0</td>\n",
       "      <td>0</td>\n",
       "      <td>0</td>\n",
       "      <td>0</td>\n",
       "      <td>0</td>\n",
       "      <td>0</td>\n",
       "      <td>0</td>\n",
       "      <td>0</td>\n",
       "      <td>0</td>\n",
       "      <td>0</td>\n",
       "      <td>0</td>\n",
       "      <td>0</td>\n",
       "      <td>0</td>\n",
       "      <td>0</td>\n",
       "      <td>0</td>\n",
       "      <td>0</td>\n",
       "      <td>1</td>\n",
       "      <td>0</td>\n",
       "      <td>1</td>\n",
       "      <td>0</td>\n",
       "    </tr>\n",
       "    <tr>\n",
       "      <th>2</th>\n",
       "      <td>6.401401</td>\n",
       "      <td>-1.583359</td>\n",
       "      <td>17</td>\n",
       "      <td>18</td>\n",
       "      <td>35</td>\n",
       "      <td>4.088833</td>\n",
       "      <td>0.195655</td>\n",
       "      <td>-29013.528</td>\n",
       "      <td>8520.278</td>\n",
       "      <td>-5966.243</td>\n",
       "      <td>3.496885e+07</td>\n",
       "      <td>24152.83</td>\n",
       "      <td>12644.76</td>\n",
       "      <td>6370.81</td>\n",
       "      <td>0</td>\n",
       "      <td>0</td>\n",
       "      <td>0</td>\n",
       "      <td>0</td>\n",
       "      <td>0</td>\n",
       "      <td>0</td>\n",
       "      <td>0</td>\n",
       "      <td>0</td>\n",
       "      <td>1</td>\n",
       "      <td>0</td>\n",
       "      <td>0</td>\n",
       "      <td>0</td>\n",
       "      <td>0</td>\n",
       "      <td>0</td>\n",
       "      <td>0</td>\n",
       "      <td>0</td>\n",
       "      <td>0</td>\n",
       "      <td>0</td>\n",
       "      <td>0</td>\n",
       "      <td>0</td>\n",
       "      <td>0</td>\n",
       "      <td>0</td>\n",
       "      <td>0</td>\n",
       "      <td>0</td>\n",
       "      <td>0</td>\n",
       "      <td>0</td>\n",
       "      <td>0</td>\n",
       "      <td>0</td>\n",
       "      <td>0</td>\n",
       "      <td>0</td>\n",
       "      <td>0</td>\n",
       "      <td>0</td>\n",
       "      <td>0</td>\n",
       "      <td>0</td>\n",
       "      <td>0</td>\n",
       "      <td>0</td>\n",
       "      <td>0</td>\n",
       "      <td>0</td>\n",
       "      <td>0</td>\n",
       "      <td>0</td>\n",
       "      <td>1</td>\n",
       "      <td>0</td>\n",
       "      <td>1</td>\n",
       "      <td>0</td>\n",
       "    </tr>\n",
       "    <tr>\n",
       "      <th>3</th>\n",
       "      <td>6.401401</td>\n",
       "      <td>-1.590067</td>\n",
       "      <td>17</td>\n",
       "      <td>18</td>\n",
       "      <td>35</td>\n",
       "      <td>4.088833</td>\n",
       "      <td>0.195655</td>\n",
       "      <td>-29013.528</td>\n",
       "      <td>8520.278</td>\n",
       "      <td>-5966.243</td>\n",
       "      <td>3.496885e+07</td>\n",
       "      <td>24152.83</td>\n",
       "      <td>12644.76</td>\n",
       "      <td>6370.81</td>\n",
       "      <td>0</td>\n",
       "      <td>0</td>\n",
       "      <td>0</td>\n",
       "      <td>0</td>\n",
       "      <td>0</td>\n",
       "      <td>0</td>\n",
       "      <td>0</td>\n",
       "      <td>0</td>\n",
       "      <td>1</td>\n",
       "      <td>0</td>\n",
       "      <td>0</td>\n",
       "      <td>0</td>\n",
       "      <td>0</td>\n",
       "      <td>0</td>\n",
       "      <td>0</td>\n",
       "      <td>0</td>\n",
       "      <td>0</td>\n",
       "      <td>0</td>\n",
       "      <td>0</td>\n",
       "      <td>0</td>\n",
       "      <td>0</td>\n",
       "      <td>0</td>\n",
       "      <td>0</td>\n",
       "      <td>0</td>\n",
       "      <td>0</td>\n",
       "      <td>0</td>\n",
       "      <td>0</td>\n",
       "      <td>0</td>\n",
       "      <td>0</td>\n",
       "      <td>0</td>\n",
       "      <td>0</td>\n",
       "      <td>0</td>\n",
       "      <td>0</td>\n",
       "      <td>0</td>\n",
       "      <td>0</td>\n",
       "      <td>0</td>\n",
       "      <td>0</td>\n",
       "      <td>0</td>\n",
       "      <td>0</td>\n",
       "      <td>0</td>\n",
       "      <td>1</td>\n",
       "      <td>0</td>\n",
       "      <td>1</td>\n",
       "      <td>0</td>\n",
       "    </tr>\n",
       "    <tr>\n",
       "      <th>4</th>\n",
       "      <td>6.411620</td>\n",
       "      <td>-1.350665</td>\n",
       "      <td>17</td>\n",
       "      <td>18</td>\n",
       "      <td>35</td>\n",
       "      <td>4.088833</td>\n",
       "      <td>0.195655</td>\n",
       "      <td>-29013.528</td>\n",
       "      <td>8520.278</td>\n",
       "      <td>-5966.243</td>\n",
       "      <td>3.496885e+07</td>\n",
       "      <td>24152.83</td>\n",
       "      <td>12644.76</td>\n",
       "      <td>6370.81</td>\n",
       "      <td>0</td>\n",
       "      <td>0</td>\n",
       "      <td>0</td>\n",
       "      <td>0</td>\n",
       "      <td>0</td>\n",
       "      <td>0</td>\n",
       "      <td>0</td>\n",
       "      <td>0</td>\n",
       "      <td>1</td>\n",
       "      <td>0</td>\n",
       "      <td>0</td>\n",
       "      <td>0</td>\n",
       "      <td>0</td>\n",
       "      <td>0</td>\n",
       "      <td>0</td>\n",
       "      <td>0</td>\n",
       "      <td>0</td>\n",
       "      <td>0</td>\n",
       "      <td>0</td>\n",
       "      <td>0</td>\n",
       "      <td>0</td>\n",
       "      <td>0</td>\n",
       "      <td>0</td>\n",
       "      <td>0</td>\n",
       "      <td>0</td>\n",
       "      <td>0</td>\n",
       "      <td>0</td>\n",
       "      <td>0</td>\n",
       "      <td>0</td>\n",
       "      <td>0</td>\n",
       "      <td>0</td>\n",
       "      <td>0</td>\n",
       "      <td>0</td>\n",
       "      <td>0</td>\n",
       "      <td>0</td>\n",
       "      <td>0</td>\n",
       "      <td>0</td>\n",
       "      <td>0</td>\n",
       "      <td>0</td>\n",
       "      <td>0</td>\n",
       "      <td>1</td>\n",
       "      <td>0</td>\n",
       "      <td>1</td>\n",
       "      <td>0</td>\n",
       "    </tr>\n",
       "  </tbody>\n",
       "</table>\n",
       "</div>"
      ],
      "text/plain": [
       "     Energy      Data  Target_Protons  Target_Neutrons  Target_Mass_Number  \\\n",
       "0  6.383815 -1.779892              17               18                  35   \n",
       "1  6.383815 -1.707744              17               18                  35   \n",
       "2  6.401401 -1.583359              17               18                  35   \n",
       "3  6.401401 -1.590067              17               18                  35   \n",
       "4  6.411620 -1.350665              17               18                  35   \n",
       "\n",
       "   Target_Radius  Target_Neut_Rad_Ratio  Target_Mass_Excess  \\\n",
       "0       4.088833               0.195655          -29013.528   \n",
       "1       4.088833               0.195655          -29013.528   \n",
       "2       4.088833               0.195655          -29013.528   \n",
       "3       4.088833               0.195655          -29013.528   \n",
       "4       4.088833               0.195655          -29013.528   \n",
       "\n",
       "   Target_Binding_Energy  Target_B_Decay_Energy  Target_Atomic_Mass_Micro  \\\n",
       "0               8520.278              -5966.243              3.496885e+07   \n",
       "1               8520.278              -5966.243              3.496885e+07   \n",
       "2               8520.278              -5966.243              3.496885e+07   \n",
       "3               8520.278              -5966.243              3.496885e+07   \n",
       "4               8520.278              -5966.243              3.496885e+07   \n",
       "\n",
       "   Target_S(2n)  Target_S(n)  Target_S(p)  MT_1  MT_102  MT_16  MT_17  MT_2  \\\n",
       "0      24152.83     12644.76      6370.81     0       0      0      0     0   \n",
       "1      24152.83     12644.76      6370.81     0       0      0      0     0   \n",
       "2      24152.83     12644.76      6370.81     0       0      0      0     0   \n",
       "3      24152.83     12644.76      6370.81     0       0      0      0     0   \n",
       "4      24152.83     12644.76      6370.81     0       0      0      0     0   \n",
       "\n",
       "   MT_3  MT_4  MT_101  MT_103  MT_104  MT_41  MT_9000  MT_105  MT_32  MT_51  \\\n",
       "0     0     0       0       1       0      0        0       0      0      0   \n",
       "1     0     0       0       1       0      0        0       0      0      0   \n",
       "2     0     0       0       1       0      0        0       0      0      0   \n",
       "3     0     0       0       1       0      0        0       0      0      0   \n",
       "4     0     0       0       1       0      0        0       0      0      0   \n",
       "\n",
       "   MT_33  MT_107  MT_24  MT_155  MT_158  MT_159  MT_108  MT_29  MT_1108  \\\n",
       "0      0       0      0       0       0       0       0      0        0   \n",
       "1      0       0      0       0       0       0       0      0        0   \n",
       "2      0       0      0       0       0       0       0      0        0   \n",
       "3      0       0      0       0       0       0       0      0        0   \n",
       "4      0       0      0       0       0       0       0      0        0   \n",
       "\n",
       "   MT_113  MT_106  MT_22  MT_1003  MT_9001  MT_28  MT_111  MT_203  MT_2103  \\\n",
       "0       0       0      0        0        0      0       0       0        0   \n",
       "1       0       0      0        0        0      0       0       0        0   \n",
       "2       0       0      0        0        0      0       0       0        0   \n",
       "3       0       0      0        0        0      0       0       0        0   \n",
       "4       0       0      0        0        0      0       0       0        0   \n",
       "\n",
       "   MT_112  MT_37  MT_161  MT_152  MT_153  MT_18  MT_160  Frame_L  Frame_C  \\\n",
       "0       0      0       0       0       0      0       0        1        0   \n",
       "1       0      0       0       0       0      0       0        1        0   \n",
       "2       0      0       0       0       0      0       0        1        0   \n",
       "3       0      0       0       0       0      0       0        1        0   \n",
       "4       0      0       0       0       0      0       0        1        0   \n",
       "\n",
       "   Target_Flag_I  Target_Flag_N  \n",
       "0              1              0  \n",
       "1              1              0  \n",
       "2              1              0  \n",
       "3              1              0  \n",
       "4              1              0  "
      ]
     },
     "execution_count": 10,
     "metadata": {},
     "output_type": "execute_result"
    }
   ],
   "source": [
    "new_cl_data_kwargs = {\"Z\":17, \"A\":35, \"MT\":\"MT_103\", \"log\":True, \"scale\":False, \"scaler\":scaler, \"to_scale\":to_scale}\n",
    "new_cl_data = exfor_utils.load_exfor_newdata(\"../EXFOR/New_Data/Chlorine_Data/new_cl_np.csv\", df, **new_cl_data_kwargs)\n",
    "new_cl_data.head()"
   ]
  },
  {
   "cell_type": "markdown",
   "metadata": {},
   "source": [
    "# ENDF Evaluation Cross Section Data for Chlorine (n,p) Reaction\n",
    "\n",
    "These data points will serve to plot the current ENDFb5 data and compare it to the newly measured points along with the predictions"
   ]
  },
  {
   "cell_type": "code",
   "execution_count": 11,
   "metadata": {
    "ExecuteTime": {
     "end_time": "2020-07-16T18:47:57.077935Z",
     "start_time": "2020-07-16T18:47:56.818889Z"
    }
   },
   "outputs": [
    {
     "name": "stdout",
     "output_type": "stream",
     "text": [
      "C:\\Users\\Pedro\\Desktop\\ML_Nuclear_Data\\ML_Data\\ENDF_neutrons\\Cl035\\endfb8.0\\tables\\xs\\n-Cl035-MT103.endfb8.0\n",
      "Converting MeV to eV...\n",
      "Convering mb to b...\n",
      "Finish reading ENDF data with shape:  (8791, 2)\n",
      "C:\\Users\\Pedro\\Desktop\\ML_Nuclear_Data\\ML_Data\\ENDF_neutrons\\U233\\endfb8.0\\tables\\xs\\n-U233-MT018.endfb8.0\n",
      "Converting MeV to eV...\n",
      "Convering mb to b...\n",
      "Finish reading ENDF data with shape:  (15345, 2)\n",
      "C:\\Users\\Pedro\\Desktop\\ML_Nuclear_Data\\ML_Data\\ENDF_neutrons\\Cl037\\endfb8.0\\tables\\xs\\n-Cl037-MT102.endfb8.0\n",
      "Converting MeV to eV...\n",
      "Convering mb to b...\n",
      "Finish reading ENDF data with shape:  (20121, 2)\n",
      "C:\\Users\\Pedro\\Desktop\\ML_Nuclear_Data\\ML_Data\\ENDF_neutrons\\Fe056\\endfb8.0\\tables\\xs\\n-Fe056-MT002.endfb8.0\n",
      "Converting MeV to eV...\n",
      "Convering mb to b...\n",
      "Finish reading ENDF data with shape:  (46021, 2)\n"
     ]
    }
   ],
   "source": [
    "# ENDF EXTRACTION IMPLEMENTED INTO ANOTHER FUNCTION, NO NEED TO OBTAIN MANUALLY IN FUTURE VERSIONS\n",
    "\n",
    "endf_cl = nuc_data.load_endf(\"Cl035\", \"MT103\", log=True)\n",
    "endf_u  = nuc_data.load_endf(\"U233\", \"MT018\", log=True)\n",
    "endf_cl_37 = nuc_data.load_endf(\"Cl037\", \"MT102\", log=True)\n",
    "endf_fe_56 = nuc_data.load_endf(\"Fe056\", \"MT002\", log=True)"
   ]
  },
  {
   "cell_type": "markdown",
   "metadata": {},
   "source": [
    "# Reading ACE Energies"
   ]
  },
  {
   "cell_type": "code",
   "execution_count": 12,
   "metadata": {
    "ExecuteTime": {
     "end_time": "2020-07-16T18:48:09.191069Z",
     "start_time": "2020-07-16T18:47:57.079936Z"
    }
   },
   "outputs": [],
   "source": [
    "# ACE EXTRACTION IMPLEMENTED INTO ANOTHER FUNCTION, NO NEED TO OBTAIN MANUALLY IN FUTURE VERSIONS\n",
    "\n",
    "ace_u = ace_utils.get_energies(\"92233\", ev=True, log=True)\n",
    "ace_cl = ace_utils.get_energies(\"17035\", ev=True, log=True)\n",
    "ace_cl_37 = ace_utils.get_energies(\"17037\", ev=True, log=True)\n",
    "ace_fe_56 = ace_utils.get_energies(\"26056\", ev=True, log=True)"
   ]
  },
  {
   "cell_type": "markdown",
   "metadata": {},
   "source": [
    "# Setting up Chlorine and Uranium Prediction Tools"
   ]
  },
  {
   "cell_type": "code",
   "execution_count": 13,
   "metadata": {
    "ExecuteTime": {
     "end_time": "2020-07-16T18:48:09.201572Z",
     "start_time": "2020-07-16T18:48:09.193070Z"
    }
   },
   "outputs": [],
   "source": [
    "order = {\n",
    "    \"3\":\"endf\", \n",
    "    \"1\":\"exfor_ml_original\", \n",
    "    \"2\":\"exfor_ml\", \n",
    "    \"4\":\"exfor_new\"}\n",
    "\n",
    "def run_chlorine(model):\n",
    "    cl_kwargs =  {\"Z\":17, \"A\":35, \"MT\":\"MT_103\", \"clf_type\":\"tf\", \"scaler\":scaler, \"to_scale\":to_scale, \"html\":False,\n",
    "                  \"e_array\":\"ace\", \"log\":True, \"show\":False, \"render\":False, \"save\":False, \"inv_trans\":True}\n",
    "    results_cl = exfor_utils.predicting_nuclear_xs_v2(df, clf=model, new_data=new_cl_data, get_endf=True, **cl_kwargs)\n",
    "    fig = plot_utils.plotly_ml_results(results_cl, show=True)\n",
    "    return fig\n",
    "\n",
    "def run_uranium(model):\n",
    "    u_kwargs =  {\"Z\":92, \"A\":233, \"MT\":\"MT_18\", \"clf_type\":\"tf\", \"scaler\":scaler, \"to_scale\":to_scale, \"html\":False,\n",
    "                  \"e_array\":\"ace\", \"log\":True, \"show\":False, \"render\":False, \"save\":False, \"inv_trans\":True}\n",
    "    results_u = exfor_utils.predicting_nuclear_xs_v2(df, clf=model, get_endf=True, **u_kwargs)\n",
    "    fig = plot_utils.plotly_ml_results(results_u, order_dict=order, show=True)\n",
    "    return fig"
   ]
  },
  {
   "cell_type": "markdown",
   "metadata": {},
   "source": [
    "# Using TensorFlow"
   ]
  },
  {
   "cell_type": "code",
   "execution_count": 14,
   "metadata": {
    "ExecuteTime": {
     "end_time": "2020-07-16T18:48:09.208573Z",
     "start_time": "2020-07-16T18:48:09.204572Z"
    }
   },
   "outputs": [
    {
     "name": "stdout",
     "output_type": "stream",
     "text": [
      "2.1.0\n"
     ]
    }
   ],
   "source": [
    "import tensorflow as tf\n",
    "from tensorflow import keras\n",
    "from tensorflow.keras import layers, regularizers\n",
    "import tensorflow_docs as tfdocs\n",
    "import tensorflow_docs.plots\n",
    "import tensorflow_docs.modeling\n",
    "print(tf.__version__)"
   ]
  },
  {
   "cell_type": "code",
   "execution_count": 15,
   "metadata": {
    "ExecuteTime": {
     "end_time": "2020-07-16T18:48:09.386604Z",
     "start_time": "2020-07-16T18:48:09.210073Z"
    }
   },
   "outputs": [
    {
     "name": "stdout",
     "output_type": "stream",
     "text": [
      "Num GPUs Available:  1\n"
     ]
    }
   ],
   "source": [
    "print(\"Num GPUs Available: \", len(tf.config.experimental.list_physical_devices('GPU')))"
   ]
  },
  {
   "cell_type": "markdown",
   "metadata": {},
   "source": [
    "### Setting up Output Folder for Checkpoints and Checkpoint Callback"
   ]
  },
  {
   "cell_type": "code",
   "execution_count": 16,
   "metadata": {
    "ExecuteTime": {
     "end_time": "2020-07-16T18:48:09.390605Z",
     "start_time": "2020-07-16T18:48:09.388104Z"
    }
   },
   "outputs": [],
   "source": [
    "histories = {}"
   ]
  },
  {
   "cell_type": "code",
   "execution_count": 17,
   "metadata": {
    "ExecuteTime": {
     "end_time": "2020-07-16T18:48:09.394606Z",
     "start_time": "2020-07-16T18:48:09.391605Z"
    }
   },
   "outputs": [],
   "source": [
    "# x_train_t = x_train[:10000]\n",
    "# y_train_t = y_train[:10000]\n",
    "# x_test_t = x_test[:10000]\n",
    "# y_test_t = y_test[:10000]"
   ]
  },
  {
   "cell_type": "code",
   "execution_count": 23,
   "metadata": {
    "ExecuteTime": {
     "end_time": "2020-07-16T23:57:23.446327Z",
     "start_time": "2020-07-16T23:57:23.439826Z"
    },
    "scrolled": true
   },
   "outputs": [],
   "source": [
    "COMMET_PROJECT_NAME = \"ml-nuclear-data\"\n",
    "WANDB_PROJECT_NAME = \"ml-nuclear-data\"\n",
    "GROUP_NAME = \"EXFOR_Basic_1\" # CHANGED\n",
    "NUM_FEATURES = x_train.shape[1]\n",
    "BATCH_SIZE = 300\n",
    "EPOCHS = 100\n",
    "ACTIVATION = \"relu\"\n",
    "OPTIMIZER = \"ITD\"\n",
    "LR_DECAY_EPOCHS = 10\n",
    "STEPS_PER_EPOCH = len(x_train) // BATCH_SIZE\n",
    "SCALER_TYPE = \"std\""
   ]
  },
  {
   "cell_type": "code",
   "execution_count": null,
   "metadata": {
    "ExecuteTime": {
     "start_time": "2020-07-16T23:58:03.857Z"
    }
   },
   "outputs": [],
   "source": [
    "for num_layers_to_try in np.linspace(1,5, 5, dtype=int): # FOR 1 TO 5 LAYERS   \n",
    "    for num_units in [55, 70, 85]:  # FOR 100 TO 500 NEURONS\n",
    "        params = {}\n",
    "        \n",
    "        # ------------------------------------------ TENSORFLOW ----------------------------------------------\n",
    "        # BUILDING MODEL AND LOGGING NUMBER OF LAYERS AND UNITS\n",
    "        model = tf.keras.Sequential() \n",
    "        for num_layers in np.linspace(1, num_layers_to_try, num_layers_to_try, dtype=int):\n",
    "            model.add(tf.keras.layers.Dense(num_units, activation='relu'))\n",
    "            params[\"Layer_{}_Units\".format(num_layers)] = num_units\n",
    "        model.add(tf.keras.layers.Dense(1))\n",
    "        model.build((None, NUM_FEATURES))\n",
    "        # ----------------------------------------------------------------------------------------------------\n",
    "        \n",
    "        # --------------------------------------- COMET and WANDB --------------------------------------------\n",
    "        # DEFINING NAME OF RUN/EXPERIMENT\n",
    "        RUN_NAME = '{}_Layers_{}_Units_B1_{}'.format(num_layers_to_try, num_units, SCALER_TYPE) \n",
    "        \n",
    "        # CREATING AND ADDING HYPERPARAMETRES TO PARAMS DICT FOR LOGGING\n",
    "        TO_ADD = {'Batch_Size':BATCH_SIZE,\n",
    "                  'Activation':ACTIVATION,\n",
    "                  'Optimizer':OPTIMIZER,\n",
    "                  'LR_Decay_Epochs':LR_DECAY_EPOCHS,\n",
    "                  'Steps_per_Epoch':STEPS_PER_EPOCH,\n",
    "                  \"Layer_{}_Units\".format(num_layers + 1):1,\n",
    "                  \"Number_of_Layers\":num_layers + 1}\n",
    "        params.update(TO_ADD)\n",
    "        # ----------------------------------------------------------------------------------------------------\n",
    "        \n",
    "        # -------------------------------------------- WANDB -------------------------------------------------\n",
    "        # INITIATING WANDB RUN AND UPDATING CONFIG WITH HYPERPARAMETER VALUES\n",
    "        wandb.init(project=WANDB_PROJECT_NAME, name=RUN_NAME, sync_tensorboard=True, reinit=True, \n",
    "                   group=GROUP_NAME, id=RUN_NAME) # config=TO_ADD)\n",
    "        os.environ['WANDB_NOTEBOOK_NAME'] = '5_NN_EXFOR_v2_neutrons'\n",
    "        wandb.config.update(TO_ADD)\n",
    "        # ----------------------------------------------------------------------------------------------------\n",
    "        \n",
    "        # -------------------------------------------- COMET -------------------------------------------------\n",
    "        # COMET ML WORKS BY INITIATING EXPERIMENT AND BY LOGGING A DICTIONARY\n",
    "        comet_experiment = Experiment(api_key=\"fJ314gp1hdwdnn3632Z3VCZ2B\",\n",
    "                        project_name=COMMET_PROJECT_NAME, workspace=\"pedrojrv\")\n",
    "        comet_experiment.set_name(RUN_NAME)\n",
    "        comet_experiment.log_parameters(params) # LOGGING HYPERPARAMETERS TO COMET EXPERIMENT\n",
    "        LOGGING_DIR_NAME =  wandb.run.dir  # SETTING DIRECTORY TO SAVE CHECKPOINTS, TENSORBOARD, AND CSV\n",
    "        # ----------------------------------------------------------------------------------------------------\n",
    "        \n",
    "        # ------------------------------------------ TENSORFLOW ----------------------------------------------\n",
    "        histories[RUN_NAME] = model_tools.compile_and_fit(model, RUN_NAME, \n",
    "            x_train.values, y_train.values, x_test.values, y_test.values, \n",
    "            BATCH_SIZE=BATCH_SIZE, max_epochs=EPOCHS, DECAY_EPOCHS=LR_DECAY_EPOCHS, lr_method=OPTIMIZER, \n",
    "            logs_dir_name=LOGGING_DIR_NAME, append_wandb=True, comet=True, comet_exp=comet_experiment)\n",
    "        # ----------------------------------------------------------------------------------------------------\n",
    "        \n",
    "        # ------------------------------------------ WANDB ----------------------------------------------\n",
    "        # LOGGING CHLORINE PLOTLY PLOT\n",
    "        fig_to_log_cl = run_chlorine(histories[RUN_NAME].model)\n",
    "        fig_to_log_u = run_uranium(histories[RUN_NAME].model)\n",
    "        wandb.log({'Chlorine_35_NP': fig_to_log_cl})\n",
    "        wandb.log({'Uranium_233_NF': fig_to_log_u})\n",
    "        \n",
    "        # EVERY RUN WANDB CREATES A DIFF.PATCH, WE REMOVE IT TO SAVE TIME WHEN UPLAODING ASSET WITH COMET\n",
    "        os.remove(os.path.join(LOGGING_DIR_NAME, \"diff.patch\"))\n",
    "        # ----------------------------------------------------------------------------------------------------\n",
    "        \n",
    "        # -------------------------------------------- COMET -------------------------------------------------\n",
    "        # COMET DOES NOT SAVE MODEL OR ANY OTHER DATA FILES, MUST BE LOGGED MANUALLY\n",
    "        # HERE WE LOG THE MODEL, THE TRAINING CSV, THE ENTIRE WANDB FOLDER,\n",
    "        # A PIL VERSION OF THE PLOTLY IMAGE AND THE DATASET VERSION\n",
    "        comet_experiment.log_model(RUN_NAME, os.path.join(wandb.run.dir, \"model-best.h5\")) \n",
    "        comet_experiment.log_asset_folder(LOGGING_DIR_NAME) \n",
    "        comet_experiment.log_table(os.path.join(wandb.run.dir, \"training_metrics.csv\")) \n",
    "        comet_experiment.log_dataset_info(name=\"EXFOR_Basic\", version=\"1\")\n",
    "        \n",
    "        # LOGGING FIGURES TO COMET (DOES NOT ACCEPT PLOTLY)\n",
    "        pil_fig_cl = plot_utils.plotly_fig2pil(fig_to_log_cl)\n",
    "        pil_fig_u = plot_utils.plotly_fig2pil(fig_to_log_u)\n",
    "        comet_experiment.log_image(pil_fig_cl, name=\"Chlorine_35_NP\") # MAPTLOTLIB PYPLOT USING LOG_FIGURE\n",
    "        comet_experiment.log_image(pil_fig_u, name=\"Uranium_233_NF\")\n",
    "        # ----------------------------------------------------------------------------------------------------\n",
    "        \n",
    "        wandb.join()\n",
    "        comet_experiment.end()"
   ]
  },
  {
   "cell_type": "code",
   "execution_count": 32,
   "metadata": {
    "ExecuteTime": {
     "end_time": "2020-07-18T07:30:35.979152Z",
     "start_time": "2020-07-18T07:30:35.974652Z"
    }
   },
   "outputs": [
    {
     "data": {
      "text/plain": [
       "'0005'"
      ]
     },
     "execution_count": 32,
     "metadata": {},
     "output_type": "execute_result"
    },
    {
     "name": "stderr",
     "output_type": "stream",
     "text": [
      "requests_with_retry encountered retryable exception: ('Connection aborted.', TimeoutError(10060, 'A connection attempt failed because the connected party did not properly respond after a period of time, or established connection failed because connected host has failed to respond', None, 10060, None)). args: ('https://api.wandb.ai/files/pvicentevaldez/ml-nuclear-data/1_Layers_70_Units_B1_std/file_stream',), kwargs: {'json': {'files': {'wandb-events.jsonl': {'offset': 3755, 'content': ['{\"system.cpu\": 3.81, \"system.memory\": 43.39, \"system.disk\": 56.67, \"system.proc.memory.availableMB\": 37024.09, \"system.proc.memory.rssMB\": 1891.86, \"system.proc.memory.percent\": 2.89, \"system.proc.cpu.threads\": 263.33, \"system.network.sent\": 14775432283311, \"system.network.recv\": 32897454097212, \"_wandb\": true, \"_timestamp\": 1595063711, \"_runtime\": 130193}\\n']}}}}\n",
      "requests_with_retry encountered retryable exception: ('Connection aborted.', TimeoutError(10060, 'A connection attempt failed because the connected party did not properly respond after a period of time, or established connection failed because connected host has failed to respond', None, 10060, None)). args: ('https://api.wandb.ai/files/pvicentevaldez/ml-nuclear-data/3_Layers_70_Units_B1_std/file_stream',), kwargs: {'json': {'complete': False, 'failed': False}}\n",
      "requests_with_retry encountered retryable exception: ('Connection aborted.', TimeoutError(10060, 'A connection attempt failed because the connected party did not properly respond after a period of time, or established connection failed because connected host has failed to respond', None, 10060, None)). args: ('https://api.wandb.ai/files/pvicentevaldez/ml-nuclear-data/4_Layers_70_Units_B1_std/file_stream',), kwargs: {'json': {'complete': False, 'failed': False}}\n",
      "requests_with_retry encountered retryable exception: ('Connection aborted.', TimeoutError(10060, 'A connection attempt failed because the connected party did not properly respond after a period of time, or established connection failed because connected host has failed to respond', None, 10060, None)). args: ('https://api.wandb.ai/files/pvicentevaldez/ml-nuclear-data/5_Layers_55_Units_B1_std/file_stream',), kwargs: {'json': {'complete': False, 'failed': False}}\n",
      "requests_with_retry encountered retryable exception: ('Connection aborted.', TimeoutError(10060, 'A connection attempt failed because the connected party did not properly respond after a period of time, or established connection failed because connected host has failed to respond', None, 10060, None)). args: ('https://api.wandb.ai/files/pvicentevaldez/ml-nuclear-data/1_Layers_55_Units_B1_std/file_stream',), kwargs: {'json': {'complete': False, 'failed': False}}\n",
      "requests_with_retry encountered retryable exception: ('Connection aborted.', TimeoutError(10060, 'A connection attempt failed because the connected party did not properly respond after a period of time, or established connection failed because connected host has failed to respond', None, 10060, None)). args: ('https://api.wandb.ai/files/pvicentevaldez/ml-nuclear-data/2_Layers_70_Units_B1_std/file_stream',), kwargs: {'json': {'complete': False, 'failed': False}}\n"
     ]
    }
   ],
   "source": [
    "str(0.0005).replace(\"0.\", \"\")"
   ]
  },
  {
   "cell_type": "code",
   "execution_count": null,
   "metadata": {
    "ExecuteTime": {
     "end_time": "2020-07-16T22:39:04.127117Z",
     "start_time": "2020-07-16T20:51:49.101256Z"
    }
   },
   "outputs": [],
   "source": [
    "# TAG = \"ASYM500_5_v3\"\n",
    "# params = {}\n",
    "\n",
    "# # ------------------------------------------ TENSORFLOW ----------------------------------------------\n",
    "# # BUILDING MODEL AND LOGGING NUMBER OF LAYERS AND UNITS\n",
    "# params[\"Layer_1_Units\"] = 500\n",
    "# params[\"Layer_2_Units\"] = 400\n",
    "# params[\"Layer_3_Units\"] = 300\n",
    "# params[\"Layer_4_Units\"] = 200\n",
    "# params[\"Layer_5_Units\"] = 100\n",
    "# params[\"Layer_6_Units\"] = 50\n",
    "# params[\"Layer_7_Units\"] = 25\n",
    "# params[\"Layer_8_Units\"] = 15\n",
    "# params[\"Layer_9_Units\"] = 10\n",
    "# params[\"Layer_10_Units\"] = 5\n",
    "# params[\"Layer_11_Units\"] = 1\n",
    "\n",
    "\n",
    "# model = tf.keras.models.Sequential([\n",
    "#     tf.keras.layers.Dense(params[\"Layer_1_Units\"], activation=ACTIVATION), \n",
    "#     tf.keras.layers.Dense(params[\"Layer_2_Units\"], activation=ACTIVATION),\n",
    "#     tf.keras.layers.Dense(params[\"Layer_3_Units\"], activation=ACTIVATION), \n",
    "#     tf.keras.layers.Dense(params[\"Layer_4_Units\"], activation=ACTIVATION),\n",
    "#     tf.keras.layers.Dense(params[\"Layer_5_Units\"], activation=ACTIVATION),\n",
    "#     tf.keras.layers.Dense(params[\"Layer_6_Units\"], activation=ACTIVATION),\n",
    "#     tf.keras.layers.Dense(params[\"Layer_7_Units\"], activation=ACTIVATION), \n",
    "#     tf.keras.layers.Dense(params[\"Layer_8_Units\"], activation=ACTIVATION), \n",
    "#     tf.keras.layers.Dense(params[\"Layer_9_Units\"], activation=ACTIVATION), \n",
    "#     tf.keras.layers.Dense(params[\"Layer_10_Units\"], activation=ACTIVATION), \n",
    "#     tf.keras.layers.Dense(params[\"Layer_11_Units\"])])\n",
    "# # ----------------------------------------------------------------------------------------------------\n",
    "\n",
    "# # --------------------------------------- COMET and WANDB --------------------------------------------\n",
    "# # DEFINING NAME OF RUN/EXPERIMENT\n",
    "# RUN_NAME = '{}_Layers_{}_B1_{}'.format(len(params)-1, TAG, SCALER_TYPE) \n",
    "\n",
    "# # CREATING AND ADDING HYPERPARAMETRES TO PARAMS DICT FOR LOGGING\n",
    "# TO_ADD = {'Batch_Size':BATCH_SIZE,\n",
    "#           'Activation':ACTIVATION,\n",
    "#           'Optimizer':OPTIMIZER,\n",
    "#           'LR_Decay_Epochs':LR_DECAY_EPOCHS,\n",
    "#           'Steps_per_Epoch':STEPS_PER_EPOCH,\n",
    "#           \"Number_of_Layers\":len(params)}\n",
    "# params.update(TO_ADD)\n",
    "# # ----------------------------------------------------------------------------------------------------\n",
    "\n",
    "# # -------------------------------------------- WANDB -------------------------------------------------\n",
    "# # INITIATING WANDB RUN AND UPDATING CONFIG WITH HYPERPARAMETER VALUES\n",
    "# wandb.init(project=WANDB_PROJECT_NAME, name=RUN_NAME, sync_tensorboard=True, reinit=True, \n",
    "#            group=GROUP_NAME, id=RUN_NAME) # config=TO_ADD)\n",
    "# os.environ['WANDB_NOTEBOOK_NAME'] = '5_NN_EXFOR_v2_neutrons'\n",
    "# wandb.config.update(TO_ADD)\n",
    "# # ----------------------------------------------------------------------------------------------------\n",
    "\n",
    "# # -------------------------------------------- COMET -------------------------------------------------\n",
    "# # COMET ML WORKS BY INITIATING EXPERIMENT AND BY LOGGING A DICTIONARY\n",
    "# comet_experiment = Experiment(api_key=\"fJ314gp1hdwdnn3632Z3VCZ2B\",\n",
    "#                 project_name=COMMET_PROJECT_NAME, workspace=\"pedrojrv\")\n",
    "# comet_experiment.set_name(RUN_NAME)\n",
    "# comet_experiment.log_parameters(params) # LOGGING HYPERPARAMETERS TO COMET EXPERIMENT\n",
    "# LOGGING_DIR_NAME =  wandb.run.dir  # SETTING DIRECTORY TO SAVE CHECKPOINTS, TENSORBOARD, AND CSV\n",
    "# # ----------------------------------------------------------------------------------------------------\n",
    "\n",
    "# # ------------------------------------------ TENSORFLOW ----------------------------------------------\n",
    "# histories[RUN_NAME] = model_tools.compile_and_fit(model, RUN_NAME, \n",
    "#     x_train.values, y_train.values, x_test.values, y_test.values, \n",
    "#     BATCH_SIZE=BATCH_SIZE, max_epochs=EPOCHS, DECAY_EPOCHS=LR_DECAY_EPOCHS, lr_method=OPTIMIZER, \n",
    "#     logs_dir_name=LOGGING_DIR_NAME, append_wandb=True, comet=True, comet_exp=comet_experiment)\n",
    "# # ----------------------------------------------------------------------------------------------------\n",
    "\n",
    "# # ------------------------------------------ WANDB ----------------------------------------------\n",
    "# # LOGGING CHLORINE PLOTLY PLOT\n",
    "# fig_to_log_cl = run_chlorine(histories[RUN_NAME].model)\n",
    "# fig_to_log_u = run_uranium(histories[RUN_NAME].model)\n",
    "# wandb.log({'Chlorine_35_NP': fig_to_log_cl})\n",
    "# wandb.log({'Uranium_233_NF': fig_to_log_u})\n",
    "\n",
    "# # EVERY RUN WANDB CREATES A DIFF.PATCH, WE REMOVE IT TO SAVE TIME WHEN UPLAODING ASSET WITH COMET\n",
    "# os.remove(os.path.join(LOGGING_DIR_NAME, \"diff.patch\"))\n",
    "# # ----------------------------------------------------------------------------------------------------\n",
    "\n",
    "# # -------------------------------------------- COMET -------------------------------------------------\n",
    "# # COMET DOES NOT SAVE MODEL OR ANY OTHER DATA FILES, MUST BE LOGGED MANUALLY\n",
    "# # HERE WE LOG THE MODEL, THE TRAINING CSV, THE ENTIRE WANDB FOLDER,\n",
    "# # A PIL VERSION OF THE PLOTLY IMAGE AND THE DATASET VERSION\n",
    "# comet_experiment.log_model(RUN_NAME, os.path.join(wandb.run.dir, \"model-best.h5\")) \n",
    "# comet_experiment.log_asset_folder(LOGGING_DIR_NAME) \n",
    "# comet_experiment.log_table(os.path.join(wandb.run.dir, \"training_metrics.csv\")) \n",
    "# comet_experiment.log_dataset_info(name=\"EXFOR_Basic\", version=\"1\")\n",
    "\n",
    "# # LOGGING FIGURES TO COMET (DOES NOT ACCEPT PLOTLY)\n",
    "# pil_fig_cl = plot_utils.plotly_fig2pil(fig_to_log_cl)\n",
    "# pil_fig_u = plot_utils.plotly_fig2pil(fig_to_log_u)\n",
    "# comet_experiment.log_image(pil_fig_cl, name=\"Chlorine_35_NP\") # MAPTLOTLIB PYPLOT USING LOG_FIGURE\n",
    "# comet_experiment.log_image(pil_fig_u, name=\"Uranium_233_NF\")\n",
    "# # ----------------------------------------------------------------------------------------------------\n",
    "\n",
    "# wandb.join()\n",
    "# comet_experiment.end()"
   ]
  },
  {
   "cell_type": "markdown",
   "metadata": {},
   "source": [
    "# Loading Model"
   ]
  },
  {
   "cell_type": "code",
   "execution_count": 22,
   "metadata": {
    "ExecuteTime": {
     "end_time": "2020-07-16T22:39:04.150621Z",
     "start_time": "2020-07-16T22:39:04.137618Z"
    }
   },
   "outputs": [],
   "source": [
    "# def run_chlorine(model):\n",
    "#     cl_kwargs =  {\"Z\":17, \"A\":35, \"MT\":\"MT_103\", \"clf_type\":\"tf\", \"scaler\":scaler, \"to_scale\":to_scale, \"html\":False,\n",
    "#                   \"e_array\":\"ace\", \"log\":True, \"show\":False, \"render\":False, \"save\":False}\n",
    "#     results_cl = exfor_utils.predicting_nuclear_xs_v2(df, clf=model, new_data=new_cl_data, get_endf=True, **cl_kwargs)\n",
    "#     fig = plot_utils.plotly_ml_results(results_cl, show=True)\n",
    "#     return fig\n",
    "\n",
    "# best_model = tf.keras.models.load_model('./wandb/run-20200705_013609-7_Layers_200_Units_B1/model-best.h5')\n",
    "# best_model_comet = tf.keras.models.load_model('./wandb/run-20200705_013609-7_Layers_200_Units_B1/checkpoints/best_model.hdf5')\n",
    "\n",
    "# fig_to_log_cl = run_chlorine(best_model)"
   ]
  },
  {
   "cell_type": "code",
   "execution_count": null,
   "metadata": {},
   "outputs": [],
   "source": [
    "# cl_kwargs =  {\"Z\":17, \"A\":35, \"MT\":\"MT_103\", \"clf_type\":\"tf\", \"scaler\":scaler, \"to_scale\":to_scale, \"html\":False,\n",
    "#               \"e_array\":\"ace\", \"log\":True, \"show\":True, \"render\":True, \"save\":False}\n",
    "# results_cl = exfor_utils.predicting_nuclear_xs_v2(df, clf=best_model, new_data=new_cl_data, get_endf=True, **cl_kwargs)\n",
    "\n",
    "# order = {\n",
    "#     \"3\":\"endf\", \n",
    "#     \"1\":\"exfor_ml_original\", \n",
    "#     \"2\":\"exfor_ml\", \n",
    "#     \"4\":\"exfor_new\"}\n",
    "\n",
    "# u_kwargs =  {\"Z\":92, \"A\":233, \"MT\":\"MT_18\", \"clf_type\":\"tf\", \"scaler\":scaler, \"to_scale\":to_scale, \"html\":False,\n",
    "#               \"e_array\":\"ace\", \"log\":True, \"show\":True, \"render\":True, \"save\":False}\n",
    "# results_u = exfor_utils.predicting_nuclear_xs_v2(df, clf=best_model, get_endf=True, order_dict=order, **u_kwargs)"
   ]
  }
 ],
 "metadata": {
  "kernelspec": {
   "display_name": "Python 3",
   "language": "python",
   "name": "python3"
  },
  "language_info": {
   "codemirror_mode": {
    "name": "ipython",
    "version": 3
   },
   "file_extension": ".py",
   "mimetype": "text/x-python",
   "name": "python",
   "nbconvert_exporter": "python",
   "pygments_lexer": "ipython3",
   "version": "3.7.7"
  }
 },
 "nbformat": 4,
 "nbformat_minor": 4
}
