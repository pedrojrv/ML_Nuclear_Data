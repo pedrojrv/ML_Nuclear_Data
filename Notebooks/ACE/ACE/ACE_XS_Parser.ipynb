{
 "cells": [
  {
   "cell_type": "code",
   "execution_count": 1,
   "metadata": {
    "ExecuteTime": {
     "end_time": "2020-06-25T02:28:37.817297Z",
     "start_time": "2020-06-25T02:28:37.157682Z"
    }
   },
   "outputs": [],
   "source": [
    "import pandas as pd\n",
    "import matplotlib.pyplot as plt\n",
    "pd.set_option('display.max_columns', 500)\n",
    "import numpy as np"
   ]
  },
  {
   "cell_type": "markdown",
   "metadata": {},
   "source": [
    "# Path to Ace Files"
   ]
  },
  {
   "cell_type": "code",
   "execution_count": 2,
   "metadata": {
    "ExecuteTime": {
     "end_time": "2020-06-25T02:28:37.821800Z",
     "start_time": "2020-06-25T02:28:37.819298Z"
    }
   },
   "outputs": [],
   "source": [
    "ace_dir = \"C:/Users/Pedro/Documents/Serpent/xsdata/endfb7/acedata\""
   ]
  },
  {
   "cell_type": "markdown",
   "metadata": {},
   "source": [
    "# Processing"
   ]
  },
  {
   "cell_type": "code",
   "execution_count": 3,
   "metadata": {
    "ExecuteTime": {
     "end_time": "2020-06-25T02:28:37.827300Z",
     "start_time": "2020-06-25T02:28:37.824299Z"
    }
   },
   "outputs": [],
   "source": [
    "path = \"./17035ENDF7.ace\"\n",
    "path = \"./92235ENDF7.ace\"\n",
    "path = \"./92233ENDF7 - Copy.ace\""
   ]
  },
  {
   "cell_type": "code",
   "execution_count": 4,
   "metadata": {
    "ExecuteTime": {
     "end_time": "2020-06-25T02:28:37.834801Z",
     "start_time": "2020-06-25T02:28:37.829300Z"
    }
   },
   "outputs": [],
   "source": [
    "def get_to_skip_lines(path, element, temp):\n",
    "    with open(path, \"r\") as ace_file:\n",
    "        points = []\n",
    "        indexes = []\n",
    "        for index, line in enumerate(ace_file):\n",
    "            # if line.startswith(\" 17035.\"):\n",
    "            if line.startswith(\" \" + element + \".\"):\n",
    "                points.append(line[1:10])\n",
    "                indexes.append(index)\n",
    "    \n",
    "    to_skip = indexes[points.index(element + \".\" + temp)]\n",
    "    lines = indexes[points.index(element + \".\" + temp) + 1] - to_skip - 12\n",
    "    \n",
    "    return to_skip, lines"
   ]
  },
  {
   "cell_type": "code",
   "execution_count": 5,
   "metadata": {
    "ExecuteTime": {
     "end_time": "2020-06-25T02:28:38.110349Z",
     "start_time": "2020-06-25T02:28:37.836301Z"
    }
   },
   "outputs": [],
   "source": [
    "to_skip, lines = get_to_skip_lines(path, \"92233\", \"03c\")"
   ]
  },
  {
   "cell_type": "code",
   "execution_count": 6,
   "metadata": {
    "ExecuteTime": {
     "end_time": "2020-06-25T02:28:38.116351Z",
     "start_time": "2020-06-25T02:28:38.111850Z"
    }
   },
   "outputs": [],
   "source": [
    "def read_nsx_jxs_xss(path, to_skip, lines):\n",
    "    nsx = pd.read_csv(path, delim_whitespace=True, skiprows=to_skip+6, nrows=2, header=None) # .values.flatten()\n",
    "    jxs = pd.read_csv(path, delim_whitespace=True, skiprows=to_skip+8, nrows=4, header=None)\n",
    "    xss = pd.read_csv(path, delim_whitespace=True, skiprows=to_skip+12, nrows=lines, header=None).values.flatten()\n",
    "    xss = xss[~np.isnan(xss)]\n",
    "    return nsx, jxs, xss"
   ]
  },
  {
   "cell_type": "code",
   "execution_count": 7,
   "metadata": {
    "ExecuteTime": {
     "end_time": "2020-06-25T02:28:40.245722Z",
     "start_time": "2020-06-25T02:28:38.117850Z"
    }
   },
   "outputs": [],
   "source": [
    "nsx, jxs, xss = read_nsx_jxs_xss(path, to_skip, lines)"
   ]
  },
  {
   "cell_type": "code",
   "execution_count": 8,
   "metadata": {
    "ExecuteTime": {
     "end_time": "2020-06-25T02:28:40.254224Z",
     "start_time": "2020-06-25T02:28:40.248223Z"
    }
   },
   "outputs": [],
   "source": [
    "def get_pointers(nsx, jxs):\n",
    "    nes = nsx.iloc[0,2] # NES (3)\n",
    "    ntr = nsx.iloc[0,3] # NTR: Number of Reactions excluding elastic scattering MT2 (4)\n",
    "\n",
    "    # JSX These are the indexes in the continuous array where stuff starts\n",
    "    energy_pointer = jxs.iloc[0,0] - 1           # ESZ (1)\n",
    "    mt_array_pointer = jxs.iloc[0,2] - 1         # MTR (3)\n",
    "    xs_pointers = jxs.iloc[0,5] - 1              # LSIG (6)\n",
    "    xs_table_pointer = jxs.iloc[0,6] - 1         # SIG (7)\n",
    "    mt_18_pointer = (jxs.iloc[2,4] - 1).clip(0)  # FIS (21)\n",
    "    \n",
    "    return nes, ntr, energy_pointer, mt_array_pointer, xs_pointers, xs_table_pointer, mt_18_pointer"
   ]
  },
  {
   "cell_type": "code",
   "execution_count": 9,
   "metadata": {
    "ExecuteTime": {
     "end_time": "2020-06-25T02:28:40.260226Z",
     "start_time": "2020-06-25T02:28:40.256225Z"
    }
   },
   "outputs": [],
   "source": [
    "nes, ntr, energy_pointer, mt_array_pointer, xs_pointers, xs_table_pointer, mt_18_pointer = get_pointers(nsx, jxs)"
   ]
  },
  {
   "cell_type": "code",
   "execution_count": 10,
   "metadata": {
    "ExecuteTime": {
     "end_time": "2020-06-25T02:28:40.267227Z",
     "start_time": "2020-06-25T02:28:40.262226Z"
    }
   },
   "outputs": [],
   "source": [
    "def get_energies_mt_array_lsig(xss, energy_pointer, nes, mt_array_pointer, ntr, xs_pointers):\n",
    "    # XSS is the array contining ALL information\n",
    "    energies = xss[energy_pointer:energy_pointer+nes]\n",
    "    mt_array = xss[mt_array_pointer:mt_array_pointer+ntr]\n",
    "    lsig = xss[xs_pointers:xs_pointers+ntr].astype(int)\n",
    "    return energies, mt_array, lsig\n",
    "    \n",
    "def get_mt1_mt101_mt2(xss, nes):\n",
    "    mt1 = xss[nes:nes*2]\n",
    "    mt101 = xss[nes*2:nes*3]\n",
    "    mt2 = xss[nes*3:nes*4]\n",
    "    return mt1, mt101, mt2"
   ]
  },
  {
   "cell_type": "code",
   "execution_count": 11,
   "metadata": {
    "ExecuteTime": {
     "end_time": "2020-06-25T02:28:40.272228Z",
     "start_time": "2020-06-25T02:28:40.269227Z"
    }
   },
   "outputs": [],
   "source": [
    "energies, mt_array, lsig = get_energies_mt_array_lsig(xss, energy_pointer, nes, mt_array_pointer, ntr, xs_pointers)"
   ]
  },
  {
   "cell_type": "code",
   "execution_count": 12,
   "metadata": {
    "ExecuteTime": {
     "end_time": "2020-06-25T02:28:40.276729Z",
     "start_time": "2020-06-25T02:28:40.274228Z"
    }
   },
   "outputs": [],
   "source": [
    "mt1, mt101, mt2 = get_mt1_mt101_mt2(xss, nes)\n",
    "mt3 = mt1 - mt2"
   ]
  },
  {
   "cell_type": "code",
   "execution_count": 13,
   "metadata": {
    "ExecuteTime": {
     "end_time": "2020-06-25T02:28:40.782318Z",
     "start_time": "2020-06-25T02:28:40.278229Z"
    }
   },
   "outputs": [
    {
     "data": {
      "text/plain": [
       "[<matplotlib.lines.Line2D at 0x1bb25d93b88>]"
      ]
     },
     "execution_count": 13,
     "metadata": {},
     "output_type": "execute_result"
    },
    {
     "data": {
      "image/png": "[encoded data removed]",
      "text/plain": [
       "<Figure size 432x288 with 1 Axes>"
      ]
     },
     "metadata": {
      "needs_background": "light"
     },
     "output_type": "display_data"
    }
   ],
   "source": [
    "plt.loglog(energies, mt3)\n",
    "plt.loglog(energies, mt101)"
   ]
  },
  {
   "cell_type": "code",
   "execution_count": 14,
   "metadata": {
    "ExecuteTime": {
     "end_time": "2020-06-25T02:28:40.786818Z",
     "start_time": "2020-06-25T02:28:40.784317Z"
    }
   },
   "outputs": [],
   "source": [
    "# for_ml = pd.DataFrame({\"Energy\": energies})\n",
    "# for_ml.to_csv(\"U233_Energy.csv\", index=False)"
   ]
  },
  {
   "cell_type": "markdown",
   "metadata": {},
   "source": [
    "# Exploring Different Reaction Summations"
   ]
  },
  {
   "cell_type": "code",
   "execution_count": 15,
   "metadata": {
    "ExecuteTime": {
     "end_time": "2020-06-25T02:28:40.792319Z",
     "start_time": "2020-06-25T02:28:40.789318Z"
    }
   },
   "outputs": [],
   "source": [
    "import re"
   ]
  },
  {
   "cell_type": "code",
   "execution_count": 16,
   "metadata": {
    "ExecuteTime": {
     "end_time": "2020-06-25T02:28:40.800821Z",
     "start_time": "2020-06-25T02:28:40.794319Z"
    }
   },
   "outputs": [],
   "source": [
    "def sig_mt(MT, mt_array, lsig):\n",
    "    mt_index = np.where(mt_array==MT)[0][0]\n",
    "    if MT == mt_array[-1]:\n",
    "        start_index = xs_table_pointer + lsig[mt_index] - 1\n",
    "        end_index = jxs.iloc[0,7] - 1\n",
    "        mt_data = xss[start_index: end_index]\n",
    "    else:\n",
    "        start_index = xs_table_pointer + lsig[mt_index] - 1\n",
    "        end_index = xs_table_pointer + lsig[mt_index+1] - 1\n",
    "        mt_data = xss[start_index: end_index]\n",
    "    energy_index = int(mt_data[0])\n",
    "    energy_points = int(mt_data[1])\n",
    "    energy = xss[energy_index - 1 : energy_index + energy_points - 1]\n",
    "    xs_data = mt_data[2:]\n",
    "    print(\"{} Energy and {} Cross Section Points Avaliable.\".format(len(energy), len(xs_data)))\n",
    "    return xs_data, energy, start_index, end_index"
   ]
  },
  {
   "cell_type": "code",
   "execution_count": 17,
   "metadata": {
    "ExecuteTime": {
     "end_time": "2020-06-25T02:28:40.818323Z",
     "start_time": "2020-06-25T02:28:40.802821Z"
    }
   },
   "outputs": [],
   "source": [
    "u233_ml = pd.read_csv(\"U233_Data_ML.csv\")"
   ]
  },
  {
   "cell_type": "code",
   "execution_count": 18,
   "metadata": {
    "ExecuteTime": {
     "end_time": "2020-06-25T02:28:40.825824Z",
     "start_time": "2020-06-25T02:28:40.820324Z"
    }
   },
   "outputs": [],
   "source": [
    "def fill_ml_xs(MT, ml_xs, ace_xs):\n",
    "    ml_xs.loc[0:ml_xs[ml_xs[MT] == ml_xs[MT].values[0]].shape[0], MT] = ace_xs[\n",
    "        0:ml_xs[ml_xs[MT] == ml_xs[MT].values[0]].shape[0]+1]\n",
    "    ml_xs.iloc[-ml_xs[ml_xs[MT] == ml_xs[MT].values[-1]].shape[0]:, ml_xs.columns.get_loc(MT)] = ace_xs[\n",
    "        -ml_xs[ml_xs[MT] == ml_xs[MT].values[-1]].shape[0] - 1:-1]\n",
    "    return ml_xs"
   ]
  },
  {
   "cell_type": "code",
   "execution_count": 19,
   "metadata": {
    "ExecuteTime": {
     "end_time": "2020-06-25T02:28:40.924843Z",
     "start_time": "2020-06-25T02:28:40.827826Z"
    }
   },
   "outputs": [
    {
     "name": "stdout",
     "output_type": "stream",
     "text": [
      "8742 Energy and 8742 Cross Section Points Avaliable.\n",
      "8742 Energy and 8742 Cross Section Points Avaliable.\n"
     ]
    },
    {
     "ename": "NameError",
     "evalue": "name 'sig_3' is not defined",
     "output_type": "error",
     "traceback": [
      "\u001b[1;31m---------------------------------------------------------------------------\u001b[0m",
      "\u001b[1;31mNameError\u001b[0m                                 Traceback (most recent call last)",
      "\u001b[1;32m<ipython-input-19-8685995ca5ce>\u001b[0m in \u001b[0;36m<module>\u001b[1;34m\u001b[0m\n\u001b[0;32m      5\u001b[0m         \u001b[0mu233_ml\u001b[0m \u001b[1;33m=\u001b[0m \u001b[0mfill_ml_xs\u001b[0m\u001b[1;33m(\u001b[0m\u001b[0mi\u001b[0m\u001b[1;33m,\u001b[0m \u001b[0mu233_ml\u001b[0m\u001b[1;33m,\u001b[0m \u001b[0mmt2\u001b[0m\u001b[1;33m)\u001b[0m\u001b[1;33m\u001b[0m\u001b[1;33m\u001b[0m\u001b[0m\n\u001b[0;32m      6\u001b[0m     \u001b[1;32melif\u001b[0m \u001b[0mi\u001b[0m \u001b[1;33m==\u001b[0m \u001b[1;34m\"Data_3\"\u001b[0m\u001b[1;33m:\u001b[0m\u001b[1;33m\u001b[0m\u001b[1;33m\u001b[0m\u001b[0m\n\u001b[1;32m----> 7\u001b[1;33m         \u001b[0mu233_ml\u001b[0m \u001b[1;33m=\u001b[0m \u001b[0mfill_ml_xs\u001b[0m\u001b[1;33m(\u001b[0m\u001b[0mi\u001b[0m\u001b[1;33m,\u001b[0m \u001b[0mu233_ml\u001b[0m\u001b[1;33m,\u001b[0m \u001b[0msig_3\u001b[0m\u001b[1;33m)\u001b[0m\u001b[1;33m\u001b[0m\u001b[1;33m\u001b[0m\u001b[0m\n\u001b[0m\u001b[0;32m      8\u001b[0m     \u001b[1;32melse\u001b[0m\u001b[1;33m:\u001b[0m\u001b[1;33m\u001b[0m\u001b[1;33m\u001b[0m\u001b[0m\n\u001b[0;32m      9\u001b[0m         \u001b[0mMT\u001b[0m \u001b[1;33m=\u001b[0m \u001b[0mre\u001b[0m\u001b[1;33m.\u001b[0m\u001b[0msub\u001b[0m\u001b[1;33m(\u001b[0m\u001b[1;34m\"[^0-9]\"\u001b[0m\u001b[1;33m,\u001b[0m \u001b[1;34m\"\"\u001b[0m\u001b[1;33m,\u001b[0m \u001b[0mi\u001b[0m\u001b[1;33m)\u001b[0m\u001b[1;33m\u001b[0m\u001b[1;33m\u001b[0m\u001b[0m\n",
      "\u001b[1;31mNameError\u001b[0m: name 'sig_3' is not defined"
     ]
    }
   ],
   "source": [
    "for i in list(u233_ml.columns)[1:]:\n",
    "    if i == \"Data_1\":\n",
    "        u233_ml = fill_ml_xs(i, u233_ml, mt1)\n",
    "    elif i == \"Data_2\":\n",
    "        u233_ml = fill_ml_xs(i, u233_ml, mt2)\n",
    "    elif i == \"Data_3\":\n",
    "        u233_ml = fill_ml_xs(i, u233_ml, sig_3)\n",
    "    else:\n",
    "        MT = re.sub(\"[^0-9]\", \"\", i)\n",
    "        sig, en, _, _ = sig_mt(int(MT), mt_array, lsig)\n",
    "        u233_ml = fill_ml_xs(i, u233_ml, sig)"
   ]
  },
  {
   "cell_type": "code",
   "execution_count": 20,
   "metadata": {
    "ExecuteTime": {
     "end_time": "2020-06-25T02:28:46.155416Z",
     "start_time": "2020-06-25T02:28:46.142913Z"
    }
   },
   "outputs": [
    {
     "data": {
      "text/html": [
       "<div>\n",
       "<style scoped>\n",
       "    .dataframe tbody tr th:only-of-type {\n",
       "        vertical-align: middle;\n",
       "    }\n",
       "\n",
       "    .dataframe tbody tr th {\n",
       "        vertical-align: top;\n",
       "    }\n",
       "\n",
       "    .dataframe thead th {\n",
       "        text-align: right;\n",
       "    }\n",
       "</style>\n",
       "<table border=\"1\" class=\"dataframe\">\n",
       "  <thead>\n",
       "    <tr style=\"text-align: right;\">\n",
       "      <th></th>\n",
       "      <th>Energy</th>\n",
       "      <th>Data_18</th>\n",
       "      <th>Data_102</th>\n",
       "      <th>Data_1</th>\n",
       "      <th>Data_2</th>\n",
       "      <th>Data_3</th>\n",
       "    </tr>\n",
       "  </thead>\n",
       "  <tbody>\n",
       "    <tr>\n",
       "      <th>0</th>\n",
       "      <td>1.000000e-11</td>\n",
       "      <td>26877.52</td>\n",
       "      <td>2232.315</td>\n",
       "      <td>29157.2074</td>\n",
       "      <td>47.37239</td>\n",
       "      <td>2807.02</td>\n",
       "    </tr>\n",
       "    <tr>\n",
       "      <th>1</th>\n",
       "      <td>1.125000e-11</td>\n",
       "      <td>25340.36</td>\n",
       "      <td>2104.648</td>\n",
       "      <td>27489.8289</td>\n",
       "      <td>44.82091</td>\n",
       "      <td>2807.02</td>\n",
       "    </tr>\n",
       "    <tr>\n",
       "      <th>2</th>\n",
       "      <td>1.250000e-11</td>\n",
       "      <td>24039.97</td>\n",
       "      <td>1996.647</td>\n",
       "      <td>26079.2872</td>\n",
       "      <td>42.67022</td>\n",
       "      <td>2807.02</td>\n",
       "    </tr>\n",
       "    <tr>\n",
       "      <th>3</th>\n",
       "      <td>1.375000e-11</td>\n",
       "      <td>22921.21</td>\n",
       "      <td>1903.729</td>\n",
       "      <td>24865.7656</td>\n",
       "      <td>40.82659</td>\n",
       "      <td>2807.02</td>\n",
       "    </tr>\n",
       "    <tr>\n",
       "      <th>4</th>\n",
       "      <td>1.500000e-11</td>\n",
       "      <td>21945.39</td>\n",
       "      <td>1822.684</td>\n",
       "      <td>23807.2983</td>\n",
       "      <td>39.22426</td>\n",
       "      <td>2807.02</td>\n",
       "    </tr>\n",
       "  </tbody>\n",
       "</table>\n",
       "</div>"
      ],
      "text/plain": [
       "         Energy   Data_18  Data_102      Data_1    Data_2   Data_3\n",
       "0  1.000000e-11  26877.52  2232.315  29157.2074  47.37239  2807.02\n",
       "1  1.125000e-11  25340.36  2104.648  27489.8289  44.82091  2807.02\n",
       "2  1.250000e-11  24039.97  1996.647  26079.2872  42.67022  2807.02\n",
       "3  1.375000e-11  22921.21  1903.729  24865.7656  40.82659  2807.02\n",
       "4  1.500000e-11  21945.39  1822.684  23807.2983  39.22426  2807.02"
      ]
     },
     "execution_count": 20,
     "metadata": {},
     "output_type": "execute_result"
    }
   ],
   "source": [
    "u233_ml.head()"
   ]
  },
  {
   "cell_type": "code",
   "execution_count": 21,
   "metadata": {
    "ExecuteTime": {
     "end_time": "2020-06-25T02:28:46.445467Z",
     "start_time": "2020-06-25T02:28:46.435464Z"
    }
   },
   "outputs": [
    {
     "data": {
      "text/html": [
       "<div>\n",
       "<style scoped>\n",
       "    .dataframe tbody tr th:only-of-type {\n",
       "        vertical-align: middle;\n",
       "    }\n",
       "\n",
       "    .dataframe tbody tr th {\n",
       "        vertical-align: top;\n",
       "    }\n",
       "\n",
       "    .dataframe thead th {\n",
       "        text-align: right;\n",
       "    }\n",
       "</style>\n",
       "<table border=\"1\" class=\"dataframe\">\n",
       "  <thead>\n",
       "    <tr style=\"text-align: right;\">\n",
       "      <th></th>\n",
       "      <th>Energy</th>\n",
       "      <th>Data_18</th>\n",
       "      <th>Data_102</th>\n",
       "      <th>Data_1</th>\n",
       "      <th>Data_2</th>\n",
       "      <th>Data_3</th>\n",
       "    </tr>\n",
       "  </thead>\n",
       "  <tbody>\n",
       "    <tr>\n",
       "      <th>0</th>\n",
       "      <td>1.000000e-11</td>\n",
       "      <td>26877.52</td>\n",
       "      <td>2232.315</td>\n",
       "      <td>29157.2074</td>\n",
       "      <td>47.37239</td>\n",
       "      <td>2807.02</td>\n",
       "    </tr>\n",
       "    <tr>\n",
       "      <th>1</th>\n",
       "      <td>1.125000e-11</td>\n",
       "      <td>25340.36</td>\n",
       "      <td>2104.648</td>\n",
       "      <td>27489.8289</td>\n",
       "      <td>44.82091</td>\n",
       "      <td>2807.02</td>\n",
       "    </tr>\n",
       "    <tr>\n",
       "      <th>2</th>\n",
       "      <td>1.250000e-11</td>\n",
       "      <td>24039.97</td>\n",
       "      <td>1996.647</td>\n",
       "      <td>26079.2872</td>\n",
       "      <td>42.67022</td>\n",
       "      <td>2807.02</td>\n",
       "    </tr>\n",
       "    <tr>\n",
       "      <th>3</th>\n",
       "      <td>1.375000e-11</td>\n",
       "      <td>22921.21</td>\n",
       "      <td>1903.729</td>\n",
       "      <td>24865.7656</td>\n",
       "      <td>40.82659</td>\n",
       "      <td>2807.02</td>\n",
       "    </tr>\n",
       "    <tr>\n",
       "      <th>4</th>\n",
       "      <td>1.500000e-11</td>\n",
       "      <td>21945.39</td>\n",
       "      <td>1822.684</td>\n",
       "      <td>23807.2983</td>\n",
       "      <td>39.22426</td>\n",
       "      <td>2807.02</td>\n",
       "    </tr>\n",
       "  </tbody>\n",
       "</table>\n",
       "</div>"
      ],
      "text/plain": [
       "         Energy   Data_18  Data_102      Data_1    Data_2   Data_3\n",
       "0  1.000000e-11  26877.52  2232.315  29157.2074  47.37239  2807.02\n",
       "1  1.125000e-11  25340.36  2104.648  27489.8289  44.82091  2807.02\n",
       "2  1.250000e-11  24039.97  1996.647  26079.2872  42.67022  2807.02\n",
       "3  1.375000e-11  22921.21  1903.729  24865.7656  40.82659  2807.02\n",
       "4  1.500000e-11  21945.39  1822.684  23807.2983  39.22426  2807.02"
      ]
     },
     "execution_count": 21,
     "metadata": {},
     "output_type": "execute_result"
    }
   ],
   "source": [
    "u233_ml.head()"
   ]
  },
  {
   "cell_type": "code",
   "execution_count": 22,
   "metadata": {
    "ExecuteTime": {
     "end_time": "2020-06-25T02:28:47.154090Z",
     "start_time": "2020-06-25T02:28:46.631999Z"
    }
   },
   "outputs": [],
   "source": [
    "from sklearn.metrics import mean_absolute_error"
   ]
  },
  {
   "cell_type": "markdown",
   "metadata": {},
   "source": [
    "# Fixing MT1"
   ]
  },
  {
   "cell_type": "code",
   "execution_count": 23,
   "metadata": {
    "ExecuteTime": {
     "end_time": "2020-06-25T02:28:47.162591Z",
     "start_time": "2020-06-25T02:28:47.159591Z"
    }
   },
   "outputs": [],
   "source": [
    "# u233_ml = fill_ml_xs(\"Data_1\", u233_ml, mt1)"
   ]
  },
  {
   "cell_type": "code",
   "execution_count": 24,
   "metadata": {
    "ExecuteTime": {
     "end_time": "2020-06-25T02:28:47.719689Z",
     "start_time": "2020-06-25T02:28:47.335122Z"
    }
   },
   "outputs": [
    {
     "data": {
      "text/plain": [
       "[<matplotlib.lines.Line2D at 0x1bb282a7f88>]"
      ]
     },
     "execution_count": 24,
     "metadata": {},
     "output_type": "execute_result"
    },
    {
     "data": {
      "image/png": "[encoded data removed]",
      "text/plain": [
       "<Figure size 432x288 with 1 Axes>"
      ]
     },
     "metadata": {
      "needs_background": "light"
     },
     "output_type": "display_data"
    }
   ],
   "source": [
    "plt.loglog(energies, mt1)\n",
    "plt.loglog(u233_ml.Energy, u233_ml.Data_1)"
   ]
  },
  {
   "cell_type": "markdown",
   "metadata": {},
   "source": [
    "# Fixing MT18"
   ]
  },
  {
   "cell_type": "code",
   "execution_count": 25,
   "metadata": {
    "ExecuteTime": {
     "end_time": "2020-06-25T02:28:50.154602Z",
     "start_time": "2020-06-25T02:28:50.151101Z"
    }
   },
   "outputs": [
    {
     "name": "stdout",
     "output_type": "stream",
     "text": [
      "8742 Energy and 8742 Cross Section Points Avaliable.\n"
     ]
    }
   ],
   "source": [
    "sig_18, en_18, start_18, end_18 = sig_mt(18, mt_array, lsig)"
   ]
  },
  {
   "cell_type": "code",
   "execution_count": 56,
   "metadata": {
    "ExecuteTime": {
     "end_time": "2020-06-25T02:49:03.433398Z",
     "start_time": "2020-06-25T02:49:03.367886Z"
    }
   },
   "outputs": [],
   "source": [
    "import seaborn as sns\n",
    "sns.set(font_scale=2)\n",
    "sns.set_style('white')"
   ]
  },
  {
   "cell_type": "code",
   "execution_count": 69,
   "metadata": {
    "ExecuteTime": {
     "end_time": "2020-06-25T03:04:04.293426Z",
     "start_time": "2020-06-25T03:04:00.145037Z"
    }
   },
   "outputs": [
    {
     "data": {
      "image/png": "[encoded data removed]",
      "text/plain": [
       "<Figure size 1008x720 with 5 Axes>"
      ]
     },
     "metadata": {},
     "output_type": "display_data"
    }
   ],
   "source": [
    "fig, axs = plt.subplots(2, 2, sharex=True, figsize=(14,10))\n",
    "axs[0, 0].loglog(en_18, sig_18, label=\"ENDF\")\n",
    "axs[0, 0].loglog(u233_ml.Energy, u233_ml.Data_18, label=\"ML\")\n",
    "axs[0, 0].legend()\n",
    "axs[0, 0].set_title('MT 18')\n",
    "\n",
    "axs[0, 1].loglog(en_102, sig_102)\n",
    "axs[0, 1].loglog(u233_ml.Energy, u233_ml.Data_102)\n",
    "axs[0, 1].set_title('MT 102')\n",
    "\n",
    "axs[1, 0].plot(en_18, absolute_diff_sig_18)\n",
    "axs[1, 0].set_xscale('log')\n",
    "\n",
    "axs[1, 1].plot(en_102, absolute_diff_sig_102)\n",
    "axs[1, 1].set_xscale('log')\n",
    "\n",
    "axs[0,0].set(ylabel='Cross Section (b)')\n",
    "axs[1,0].set(ylabel='Absolute Diff. (b)')\n",
    "\n",
    "\n",
    "fig.add_subplot(111, frameon=False)\n",
    "plt.tick_params(labelcolor='none', top=False, bottom=False, left=False, right=False)\n",
    "plt.xlabel(\"Energy (MeV)\")\n",
    "\n",
    "plt.tight_layout()\n",
    "\n",
    "plt.savefig(\"endf_ml_diff.png\", dpi=500, bbox_inches=\"tight\")"
   ]
  },
  {
   "cell_type": "code",
   "execution_count": 26,
   "metadata": {
    "ExecuteTime": {
     "end_time": "2020-06-25T02:28:51.121271Z",
     "start_time": "2020-06-25T02:28:50.703698Z"
    }
   },
   "outputs": [
    {
     "data": {
      "text/plain": [
       "[<matplotlib.lines.Line2D at 0x1bb28427d48>]"
      ]
     },
     "execution_count": 26,
     "metadata": {},
     "output_type": "execute_result"
    },
    {
     "data": {
      "image/png": "[encoded data removed]",
      "text/plain": [
       "<Figure size 432x288 with 1 Axes>"
      ]
     },
     "metadata": {
      "needs_background": "light"
     },
     "output_type": "display_data"
    }
   ],
   "source": [
    "plt.loglog(en_18, sig_18)\n",
    "plt.loglog(u233_ml.Energy, u233_ml.Data_18)"
   ]
  },
  {
   "cell_type": "code",
   "execution_count": 42,
   "metadata": {
    "ExecuteTime": {
     "end_time": "2020-06-25T02:37:28.410821Z",
     "start_time": "2020-06-25T02:37:28.407820Z"
    }
   },
   "outputs": [],
   "source": [
    "sig_18_ml = u233_ml.Data_18.values\n",
    "diff_sig_18 = sig_18 - sig_18_ml\n",
    "absolute_diff_sig_18 = np.absolute(diff_sig_18)"
   ]
  },
  {
   "cell_type": "code",
   "execution_count": 43,
   "metadata": {
    "ExecuteTime": {
     "end_time": "2020-06-25T02:37:30.565199Z",
     "start_time": "2020-06-25T02:37:30.344160Z"
    }
   },
   "outputs": [
    {
     "data": {
      "image/png": "[encoded data removed]",
      "text/plain": [
       "<Figure size 432x288 with 1 Axes>"
      ]
     },
     "metadata": {
      "needs_background": "light"
     },
     "output_type": "display_data"
    }
   ],
   "source": [
    "plt.plot(en_18, absolute_diff_sig_18)\n",
    "plt.xscale('log')"
   ]
  },
  {
   "cell_type": "code",
   "execution_count": null,
   "metadata": {
    "ExecuteTime": {
     "start_time": "2020-06-25T02:28:18.765Z"
    }
   },
   "outputs": [],
   "source": [
    "# u233_ml[u233_ml.Data_18 == u233_ml.Data_18.values[0]].shape[0]\n",
    "\n",
    "# u233_ml.Data_18.values[:u233_ml[u233_ml.Data_18 == u233_ml.Data_18.values[0]].shape[0]+5]\n",
    "\n",
    "# u233_ml.loc[0:u233_ml[u233_ml.Data_18 == u233_ml.Data_18.values[0]].shape[0], \"Data_18\"] = sig_18[\n",
    "#     0:u233_ml[u233_ml.Data_18 == u233_ml.Data_18.values[0]].shape[0]+1]"
   ]
  },
  {
   "cell_type": "markdown",
   "metadata": {},
   "source": [
    "# Fixing MT102"
   ]
  },
  {
   "cell_type": "code",
   "execution_count": 38,
   "metadata": {
    "ExecuteTime": {
     "end_time": "2020-06-25T02:35:48.435838Z",
     "start_time": "2020-06-25T02:35:48.432339Z"
    }
   },
   "outputs": [
    {
     "name": "stdout",
     "output_type": "stream",
     "text": [
      "8742 Energy and 8742 Cross Section Points Avaliable.\n"
     ]
    }
   ],
   "source": [
    "sig_102, en_102, start_102, end_102 = sig_mt(102, mt_array, lsig)"
   ]
  },
  {
   "cell_type": "code",
   "execution_count": 39,
   "metadata": {
    "ExecuteTime": {
     "end_time": "2020-06-25T02:35:49.685057Z",
     "start_time": "2020-06-25T02:35:49.163466Z"
    }
   },
   "outputs": [
    {
     "data": {
      "text/plain": [
       "[<matplotlib.lines.Line2D at 0x1bb2a47ab48>]"
      ]
     },
     "execution_count": 39,
     "metadata": {},
     "output_type": "execute_result"
    },
    {
     "data": {
      "image/png": "[encoded data removed]",
      "text/plain": [
       "<Figure size 432x288 with 1 Axes>"
      ]
     },
     "metadata": {
      "needs_background": "light"
     },
     "output_type": "display_data"
    }
   ],
   "source": [
    "plt.loglog(en_102, sig_102)\n",
    "plt.loglog(u233_ml.Energy, u233_ml.Data_102)"
   ]
  },
  {
   "cell_type": "code",
   "execution_count": 44,
   "metadata": {
    "ExecuteTime": {
     "end_time": "2020-06-25T02:37:46.139316Z",
     "start_time": "2020-06-25T02:37:46.135816Z"
    }
   },
   "outputs": [],
   "source": [
    "sig_102_ml = u233_ml.Data_102.values\n",
    "diff_sig_102 = sig_102 - sig_102_ml\n",
    "absolute_diff_sig_102 = np.absolute(diff_sig_102)"
   ]
  },
  {
   "cell_type": "code",
   "execution_count": 46,
   "metadata": {
    "ExecuteTime": {
     "end_time": "2020-06-25T02:37:59.059950Z",
     "start_time": "2020-06-25T02:37:58.851914Z"
    }
   },
   "outputs": [
    {
     "data": {
      "image/png": "[encoded data removed]",
      "text/plain": [
       "<Figure size 432x288 with 1 Axes>"
      ]
     },
     "metadata": {
      "needs_background": "light"
     },
     "output_type": "display_data"
    }
   ],
   "source": [
    "plt.plot(en_102, absolute_diff_sig_102)\n",
    "plt.xscale('log')"
   ]
  },
  {
   "cell_type": "code",
   "execution_count": 47,
   "metadata": {
    "ExecuteTime": {
     "end_time": "2020-06-25T02:38:23.152914Z",
     "start_time": "2020-06-25T02:38:22.935377Z"
    }
   },
   "outputs": [
    {
     "data": {
      "image/png": "[encoded data removed]",
      "text/plain": [
       "<Figure size 432x288 with 1 Axes>"
      ]
     },
     "metadata": {
      "needs_background": "light"
     },
     "output_type": "display_data"
    }
   ],
   "source": [
    "plt.plot(en_18, absolute_diff_sig_18)\n",
    "plt.plot(en_102, absolute_diff_sig_102)\n",
    "plt.xscale('log')"
   ]
  },
  {
   "cell_type": "code",
   "execution_count": 1,
   "metadata": {
    "ExecuteTime": {
     "end_time": "2020-06-25T02:28:26.059511Z",
     "start_time": "2020-06-25T02:28:26.056510Z"
    }
   },
   "outputs": [],
   "source": [
    "# u233_ml[u233_ml.Data_102 == u233_ml.Data_102.values[0]].shape[0]\n",
    "\n",
    "# u233_ml[u233_ml.Data_102 == u233_ml.Data_102.values[-1]].shape[0]\n",
    "\n",
    "# u233_ml.Data_102.values[:u233_ml[u233_ml.Data_102 == u233_ml.Data_102.values[0]].shape[0]]\n",
    "\n",
    "# u233_ml.Data_102.values[-u233_ml[u233_ml.Data_102 == u233_ml.Data_102.values[-1]].shape[0]:-1]\n",
    "\n",
    "# u233_ml.loc[0:u233_ml[u233_ml.Data_102 == u233_ml.Data_102.values[0]].shape[0], \"Data_102\"] = sig_102[\n",
    "#     0:u233_ml[u233_ml.Data_102 == u233_ml.Data_102.values[0]].shape[0]+1]\n",
    "\n",
    "# u233_ml.iloc[-u233_ml[u233_ml.Data_102 == u233_ml.Data_102.values[-1]].shape[0]:, 2] = sig_102[\n",
    "#     -u233_ml[u233_ml.Data_102 == u233_ml.Data_102.values[-1]].shape[0] - 1:-1]"
   ]
  },
  {
   "cell_type": "markdown",
   "metadata": {},
   "source": [
    "# Fixing MT3"
   ]
  },
  {
   "cell_type": "code",
   "execution_count": 30,
   "metadata": {
    "ExecuteTime": {
     "end_time": "2020-06-05T20:18:21.114147Z",
     "start_time": "2020-06-05T20:18:20.671070Z"
    }
   },
   "outputs": [
    {
     "name": "stdout",
     "output_type": "stream",
     "text": [
      "139 Energy and 139 Cross Section Points Avaliable.\n",
      "63 Energy and 63 Cross Section Points Avaliable.\n",
      "8742 Energy and 8742 Cross Section Points Avaliable.\n",
      "26 Energy and 26 Cross Section Points Avaliable.\n",
      "364 Energy and 364 Cross Section Points Avaliable.\n",
      "340 Energy and 340 Cross Section Points Avaliable.\n",
      "329 Energy and 329 Cross Section Points Avaliable.\n",
      "321 Energy and 321 Cross Section Points Avaliable.\n",
      "315 Energy and 315 Cross Section Points Avaliable.\n",
      "305 Energy and 305 Cross Section Points Avaliable.\n",
      "301 Energy and 301 Cross Section Points Avaliable.\n",
      "299 Energy and 299 Cross Section Points Avaliable.\n",
      "296 Energy and 296 Cross Section Points Avaliable.\n",
      "292 Energy and 292 Cross Section Points Avaliable.\n",
      "289 Energy and 289 Cross Section Points Avaliable.\n",
      "284 Energy and 284 Cross Section Points Avaliable.\n",
      "281 Energy and 281 Cross Section Points Avaliable.\n",
      "278 Energy and 278 Cross Section Points Avaliable.\n",
      "275 Energy and 275 Cross Section Points Avaliable.\n",
      "273 Energy and 273 Cross Section Points Avaliable.\n",
      "269 Energy and 269 Cross Section Points Avaliable.\n",
      "265 Energy and 265 Cross Section Points Avaliable.\n",
      "259 Energy and 259 Cross Section Points Avaliable.\n",
      "256 Energy and 256 Cross Section Points Avaliable.\n",
      "254 Energy and 254 Cross Section Points Avaliable.\n",
      "252 Energy and 252 Cross Section Points Avaliable.\n",
      "249 Energy and 249 Cross Section Points Avaliable.\n",
      "246 Energy and 246 Cross Section Points Avaliable.\n",
      "244 Energy and 244 Cross Section Points Avaliable.\n",
      "241 Energy and 241 Cross Section Points Avaliable.\n",
      "239 Energy and 239 Cross Section Points Avaliable.\n",
      "236 Energy and 236 Cross Section Points Avaliable.\n",
      "234 Energy and 234 Cross Section Points Avaliable.\n",
      "231 Energy and 231 Cross Section Points Avaliable.\n",
      "229 Energy and 229 Cross Section Points Avaliable.\n",
      "226 Energy and 226 Cross Section Points Avaliable.\n",
      "222 Energy and 222 Cross Section Points Avaliable.\n",
      "214 Energy and 214 Cross Section Points Avaliable.\n",
      "208 Energy and 208 Cross Section Points Avaliable.\n",
      "204 Energy and 204 Cross Section Points Avaliable.\n",
      "194 Energy and 194 Cross Section Points Avaliable.\n",
      "189 Energy and 189 Cross Section Points Avaliable.\n",
      "222 Energy and 222 Cross Section Points Avaliable.\n",
      "8742 Energy and 8742 Cross Section Points Avaliable.\n",
      "364 Energy and 364 Cross Section Points Avaliable.\n"
     ]
    }
   ],
   "source": [
    "Energy_Grid = pd.DataFrame({\"Energy\": energies})\n",
    "Energy_Grid = Energy_Grid.set_index(\"Energy\")\n",
    "\n",
    "for i in mt_array:\n",
    "    xs, en, _, _ = sig_mt(i, mt_array, lsig)\n",
    "    to_add = pd.DataFrame({\"Energy\": en, \"Data_\" + str(int(i)): xs})\n",
    "    to_add = to_add.set_index(\"Energy\")\n",
    "    Energy_Grid = pd.merge(Energy_Grid, to_add, left_index=True, right_index=True, how=\"outer\")"
   ]
  },
  {
   "cell_type": "code",
   "execution_count": 31,
   "metadata": {
    "ExecuteTime": {
     "end_time": "2020-06-05T20:18:25.460746Z",
     "start_time": "2020-06-05T20:18:25.448745Z"
    }
   },
   "outputs": [],
   "source": [
    "Energy_Grid = Energy_Grid.fillna(value=0)"
   ]
  },
  {
   "cell_type": "code",
   "execution_count": 32,
   "metadata": {
    "ExecuteTime": {
     "end_time": "2020-06-05T20:18:25.999224Z",
     "start_time": "2020-06-05T20:18:25.995723Z"
    }
   },
   "outputs": [],
   "source": [
    "Energy_Grid[\"Data_18\"] = u233_ml.Data_18.values\n",
    "Energy_Grid[\"Data_102\"] = u233_ml.Data_102.values"
   ]
  },
  {
   "cell_type": "code",
   "execution_count": 33,
   "metadata": {
    "ExecuteTime": {
     "end_time": "2020-06-05T20:18:26.483309Z",
     "start_time": "2020-06-05T20:18:26.479807Z"
    }
   },
   "outputs": [],
   "source": [
    "# Energy_Grid[\"Data_3\"] = Energy_Grid.sum(axis=1)"
   ]
  },
  {
   "cell_type": "code",
   "execution_count": 34,
   "metadata": {
    "ExecuteTime": {
     "end_time": "2020-06-05T20:18:27.285454Z",
     "start_time": "2020-06-05T20:18:27.279953Z"
    }
   },
   "outputs": [
    {
     "data": {
      "text/plain": [
       "array([102, 103, 104, 105, 106, 107, 108, 109, 110, 111, 112, 113, 114,\n",
       "       115, 116, 117])"
      ]
     },
     "execution_count": 34,
     "metadata": {},
     "output_type": "execute_result"
    }
   ],
   "source": [
    "np.linspace(102,117,117-102+1).astype(int)"
   ]
  },
  {
   "cell_type": "code",
   "execution_count": 35,
   "metadata": {
    "ExecuteTime": {
     "end_time": "2020-06-05T20:18:29.807083Z",
     "start_time": "2020-06-05T20:18:29.799581Z"
    }
   },
   "outputs": [],
   "source": [
    "def make_MT(rx_grid, MT):\n",
    "    df = pd.DataFrame(index=rx_grid.index)\n",
    "    df[MT] = 0\n",
    "    if MT == \"Data_3\":\n",
    "        for i in [4, 5, 11, 16, 17, 18, 22, 23, 24, 25, 26, 28, 29, 30, 31, 32, 33, 34, 35, 36, 37, \n",
    "                  41, 42, 44, 45, 102, 103, 104, 105, 106, 107, 108, 109, 110, 111, 112, 113, 114, 115, 116, 117]:\n",
    "            if i in mt_array:\n",
    "                df[MT] = df[MT].values + rx_grid[\"Data_\" + str(i)].values\n",
    "        return df\n",
    "    elif MT == \"Data_101\":\n",
    "        for i in np.linspace(102,117,117-102+1).astype(int):\n",
    "            if i in mt_array:\n",
    "                df[MT] = df[MT].values + rx_grid[\"Data_\" + str(i)].values\n",
    "        return df"
   ]
  },
  {
   "cell_type": "code",
   "execution_count": 36,
   "metadata": {
    "ExecuteTime": {
     "end_time": "2020-06-05T20:18:30.429841Z",
     "start_time": "2020-06-05T20:18:30.423839Z"
    }
   },
   "outputs": [],
   "source": [
    "Energy_Grid[\"Data_3\"] = make_MT(Energy_Grid, \"Data_3\")"
   ]
  },
  {
   "cell_type": "code",
   "execution_count": 37,
   "metadata": {
    "ExecuteTime": {
     "end_time": "2020-06-05T20:18:31.253985Z",
     "start_time": "2020-06-05T20:18:31.247984Z"
    }
   },
   "outputs": [],
   "source": [
    "Energy_Grid[\"Data_101\"] = make_MT(Energy_Grid, \"Data_101\")"
   ]
  },
  {
   "cell_type": "code",
   "execution_count": 38,
   "metadata": {
    "ExecuteTime": {
     "end_time": "2020-06-05T20:18:32.299849Z",
     "start_time": "2020-06-05T20:18:32.295848Z"
    }
   },
   "outputs": [],
   "source": [
    "Energy_Grid[\"Data_1\"] = u233_ml[\"Data_1\"].values"
   ]
  },
  {
   "cell_type": "code",
   "execution_count": 39,
   "metadata": {
    "ExecuteTime": {
     "end_time": "2020-06-05T20:18:33.554351Z",
     "start_time": "2020-06-05T20:18:33.509843Z"
    }
   },
   "outputs": [
    {
     "data": {
      "text/html": [
       "<div>\n",
       "<style scoped>\n",
       "    .dataframe tbody tr th:only-of-type {\n",
       "        vertical-align: middle;\n",
       "    }\n",
       "\n",
       "    .dataframe tbody tr th {\n",
       "        vertical-align: top;\n",
       "    }\n",
       "\n",
       "    .dataframe thead th {\n",
       "        text-align: right;\n",
       "    }\n",
       "</style>\n",
       "<table border=\"1\" class=\"dataframe\">\n",
       "  <thead>\n",
       "    <tr style=\"text-align: right;\">\n",
       "      <th></th>\n",
       "      <th>Data_16</th>\n",
       "      <th>Data_17</th>\n",
       "      <th>Data_18</th>\n",
       "      <th>Data_37</th>\n",
       "      <th>Data_51</th>\n",
       "      <th>Data_52</th>\n",
       "      <th>Data_53</th>\n",
       "      <th>Data_54</th>\n",
       "      <th>Data_55</th>\n",
       "      <th>Data_56</th>\n",
       "      <th>Data_57</th>\n",
       "      <th>Data_58</th>\n",
       "      <th>Data_59</th>\n",
       "      <th>Data_60</th>\n",
       "      <th>Data_61</th>\n",
       "      <th>Data_62</th>\n",
       "      <th>Data_63</th>\n",
       "      <th>Data_64</th>\n",
       "      <th>Data_65</th>\n",
       "      <th>Data_66</th>\n",
       "      <th>Data_67</th>\n",
       "      <th>Data_68</th>\n",
       "      <th>Data_69</th>\n",
       "      <th>Data_70</th>\n",
       "      <th>Data_71</th>\n",
       "      <th>Data_72</th>\n",
       "      <th>Data_73</th>\n",
       "      <th>Data_74</th>\n",
       "      <th>Data_75</th>\n",
       "      <th>Data_76</th>\n",
       "      <th>Data_77</th>\n",
       "      <th>Data_78</th>\n",
       "      <th>Data_79</th>\n",
       "      <th>Data_80</th>\n",
       "      <th>Data_81</th>\n",
       "      <th>Data_82</th>\n",
       "      <th>Data_83</th>\n",
       "      <th>Data_84</th>\n",
       "      <th>Data_85</th>\n",
       "      <th>Data_86</th>\n",
       "      <th>Data_87</th>\n",
       "      <th>Data_88</th>\n",
       "      <th>Data_91</th>\n",
       "      <th>Data_102</th>\n",
       "      <th>Data_4</th>\n",
       "      <th>Data_3</th>\n",
       "      <th>Data_101</th>\n",
       "      <th>Data_1</th>\n",
       "    </tr>\n",
       "    <tr>\n",
       "      <th>Energy</th>\n",
       "      <th></th>\n",
       "      <th></th>\n",
       "      <th></th>\n",
       "      <th></th>\n",
       "      <th></th>\n",
       "      <th></th>\n",
       "      <th></th>\n",
       "      <th></th>\n",
       "      <th></th>\n",
       "      <th></th>\n",
       "      <th></th>\n",
       "      <th></th>\n",
       "      <th></th>\n",
       "      <th></th>\n",
       "      <th></th>\n",
       "      <th></th>\n",
       "      <th></th>\n",
       "      <th></th>\n",
       "      <th></th>\n",
       "      <th></th>\n",
       "      <th></th>\n",
       "      <th></th>\n",
       "      <th></th>\n",
       "      <th></th>\n",
       "      <th></th>\n",
       "      <th></th>\n",
       "      <th></th>\n",
       "      <th></th>\n",
       "      <th></th>\n",
       "      <th></th>\n",
       "      <th></th>\n",
       "      <th></th>\n",
       "      <th></th>\n",
       "      <th></th>\n",
       "      <th></th>\n",
       "      <th></th>\n",
       "      <th></th>\n",
       "      <th></th>\n",
       "      <th></th>\n",
       "      <th></th>\n",
       "      <th></th>\n",
       "      <th></th>\n",
       "      <th></th>\n",
       "      <th></th>\n",
       "      <th></th>\n",
       "      <th></th>\n",
       "      <th></th>\n",
       "      <th></th>\n",
       "    </tr>\n",
       "  </thead>\n",
       "  <tbody>\n",
       "    <tr>\n",
       "      <th>1.000000e-11</th>\n",
       "      <td>0.000000</td>\n",
       "      <td>0.000000</td>\n",
       "      <td>26877.520000</td>\n",
       "      <td>0.000000</td>\n",
       "      <td>0.000000</td>\n",
       "      <td>0.000000</td>\n",
       "      <td>0.000000</td>\n",
       "      <td>0.000000</td>\n",
       "      <td>0.000000</td>\n",
       "      <td>0.000000</td>\n",
       "      <td>0.000000</td>\n",
       "      <td>0.000000</td>\n",
       "      <td>0.000000</td>\n",
       "      <td>0.000000</td>\n",
       "      <td>0.000000</td>\n",
       "      <td>0.000000</td>\n",
       "      <td>0.000000</td>\n",
       "      <td>0.000000</td>\n",
       "      <td>0.000000</td>\n",
       "      <td>0.000000</td>\n",
       "      <td>0.000000</td>\n",
       "      <td>0.000000</td>\n",
       "      <td>0.000000</td>\n",
       "      <td>0.000000</td>\n",
       "      <td>0.000000</td>\n",
       "      <td>0.000000</td>\n",
       "      <td>0.000000</td>\n",
       "      <td>0.000000</td>\n",
       "      <td>0.00000</td>\n",
       "      <td>0.000000</td>\n",
       "      <td>0.000000</td>\n",
       "      <td>0.000000</td>\n",
       "      <td>0.000000</td>\n",
       "      <td>0.000000</td>\n",
       "      <td>0.000000</td>\n",
       "      <td>0.000000</td>\n",
       "      <td>0.000000</td>\n",
       "      <td>0.000000</td>\n",
       "      <td>0.000000</td>\n",
       "      <td>0.000000</td>\n",
       "      <td>0.000000</td>\n",
       "      <td>0.000000</td>\n",
       "      <td>0.000000</td>\n",
       "      <td>2232.315000</td>\n",
       "      <td>0.000000</td>\n",
       "      <td>29109.835000</td>\n",
       "      <td>2232.315000</td>\n",
       "      <td>29157.207400</td>\n",
       "    </tr>\n",
       "    <tr>\n",
       "      <th>1.125000e-11</th>\n",
       "      <td>0.000000</td>\n",
       "      <td>0.000000</td>\n",
       "      <td>25340.360000</td>\n",
       "      <td>0.000000</td>\n",
       "      <td>0.000000</td>\n",
       "      <td>0.000000</td>\n",
       "      <td>0.000000</td>\n",
       "      <td>0.000000</td>\n",
       "      <td>0.000000</td>\n",
       "      <td>0.000000</td>\n",
       "      <td>0.000000</td>\n",
       "      <td>0.000000</td>\n",
       "      <td>0.000000</td>\n",
       "      <td>0.000000</td>\n",
       "      <td>0.000000</td>\n",
       "      <td>0.000000</td>\n",
       "      <td>0.000000</td>\n",
       "      <td>0.000000</td>\n",
       "      <td>0.000000</td>\n",
       "      <td>0.000000</td>\n",
       "      <td>0.000000</td>\n",
       "      <td>0.000000</td>\n",
       "      <td>0.000000</td>\n",
       "      <td>0.000000</td>\n",
       "      <td>0.000000</td>\n",
       "      <td>0.000000</td>\n",
       "      <td>0.000000</td>\n",
       "      <td>0.000000</td>\n",
       "      <td>0.00000</td>\n",
       "      <td>0.000000</td>\n",
       "      <td>0.000000</td>\n",
       "      <td>0.000000</td>\n",
       "      <td>0.000000</td>\n",
       "      <td>0.000000</td>\n",
       "      <td>0.000000</td>\n",
       "      <td>0.000000</td>\n",
       "      <td>0.000000</td>\n",
       "      <td>0.000000</td>\n",
       "      <td>0.000000</td>\n",
       "      <td>0.000000</td>\n",
       "      <td>0.000000</td>\n",
       "      <td>0.000000</td>\n",
       "      <td>0.000000</td>\n",
       "      <td>2104.648000</td>\n",
       "      <td>0.000000</td>\n",
       "      <td>27445.008000</td>\n",
       "      <td>2104.648000</td>\n",
       "      <td>27489.828900</td>\n",
       "    </tr>\n",
       "    <tr>\n",
       "      <th>1.250000e-11</th>\n",
       "      <td>0.000000</td>\n",
       "      <td>0.000000</td>\n",
       "      <td>24039.970000</td>\n",
       "      <td>0.000000</td>\n",
       "      <td>0.000000</td>\n",
       "      <td>0.000000</td>\n",
       "      <td>0.000000</td>\n",
       "      <td>0.000000</td>\n",
       "      <td>0.000000</td>\n",
       "      <td>0.000000</td>\n",
       "      <td>0.000000</td>\n",
       "      <td>0.000000</td>\n",
       "      <td>0.000000</td>\n",
       "      <td>0.000000</td>\n",
       "      <td>0.000000</td>\n",
       "      <td>0.000000</td>\n",
       "      <td>0.000000</td>\n",
       "      <td>0.000000</td>\n",
       "      <td>0.000000</td>\n",
       "      <td>0.000000</td>\n",
       "      <td>0.000000</td>\n",
       "      <td>0.000000</td>\n",
       "      <td>0.000000</td>\n",
       "      <td>0.000000</td>\n",
       "      <td>0.000000</td>\n",
       "      <td>0.000000</td>\n",
       "      <td>0.000000</td>\n",
       "      <td>0.000000</td>\n",
       "      <td>0.00000</td>\n",
       "      <td>0.000000</td>\n",
       "      <td>0.000000</td>\n",
       "      <td>0.000000</td>\n",
       "      <td>0.000000</td>\n",
       "      <td>0.000000</td>\n",
       "      <td>0.000000</td>\n",
       "      <td>0.000000</td>\n",
       "      <td>0.000000</td>\n",
       "      <td>0.000000</td>\n",
       "      <td>0.000000</td>\n",
       "      <td>0.000000</td>\n",
       "      <td>0.000000</td>\n",
       "      <td>0.000000</td>\n",
       "      <td>0.000000</td>\n",
       "      <td>1996.647000</td>\n",
       "      <td>0.000000</td>\n",
       "      <td>26036.617000</td>\n",
       "      <td>1996.647000</td>\n",
       "      <td>26079.287200</td>\n",
       "    </tr>\n",
       "    <tr>\n",
       "      <th>1.375000e-11</th>\n",
       "      <td>0.000000</td>\n",
       "      <td>0.000000</td>\n",
       "      <td>22921.210000</td>\n",
       "      <td>0.000000</td>\n",
       "      <td>0.000000</td>\n",
       "      <td>0.000000</td>\n",
       "      <td>0.000000</td>\n",
       "      <td>0.000000</td>\n",
       "      <td>0.000000</td>\n",
       "      <td>0.000000</td>\n",
       "      <td>0.000000</td>\n",
       "      <td>0.000000</td>\n",
       "      <td>0.000000</td>\n",
       "      <td>0.000000</td>\n",
       "      <td>0.000000</td>\n",
       "      <td>0.000000</td>\n",
       "      <td>0.000000</td>\n",
       "      <td>0.000000</td>\n",
       "      <td>0.000000</td>\n",
       "      <td>0.000000</td>\n",
       "      <td>0.000000</td>\n",
       "      <td>0.000000</td>\n",
       "      <td>0.000000</td>\n",
       "      <td>0.000000</td>\n",
       "      <td>0.000000</td>\n",
       "      <td>0.000000</td>\n",
       "      <td>0.000000</td>\n",
       "      <td>0.000000</td>\n",
       "      <td>0.00000</td>\n",
       "      <td>0.000000</td>\n",
       "      <td>0.000000</td>\n",
       "      <td>0.000000</td>\n",
       "      <td>0.000000</td>\n",
       "      <td>0.000000</td>\n",
       "      <td>0.000000</td>\n",
       "      <td>0.000000</td>\n",
       "      <td>0.000000</td>\n",
       "      <td>0.000000</td>\n",
       "      <td>0.000000</td>\n",
       "      <td>0.000000</td>\n",
       "      <td>0.000000</td>\n",
       "      <td>0.000000</td>\n",
       "      <td>0.000000</td>\n",
       "      <td>1903.729000</td>\n",
       "      <td>0.000000</td>\n",
       "      <td>24824.939000</td>\n",
       "      <td>1903.729000</td>\n",
       "      <td>24865.765600</td>\n",
       "    </tr>\n",
       "    <tr>\n",
       "      <th>1.500000e-11</th>\n",
       "      <td>0.000000</td>\n",
       "      <td>0.000000</td>\n",
       "      <td>21945.390000</td>\n",
       "      <td>0.000000</td>\n",
       "      <td>0.000000</td>\n",
       "      <td>0.000000</td>\n",
       "      <td>0.000000</td>\n",
       "      <td>0.000000</td>\n",
       "      <td>0.000000</td>\n",
       "      <td>0.000000</td>\n",
       "      <td>0.000000</td>\n",
       "      <td>0.000000</td>\n",
       "      <td>0.000000</td>\n",
       "      <td>0.000000</td>\n",
       "      <td>0.000000</td>\n",
       "      <td>0.000000</td>\n",
       "      <td>0.000000</td>\n",
       "      <td>0.000000</td>\n",
       "      <td>0.000000</td>\n",
       "      <td>0.000000</td>\n",
       "      <td>0.000000</td>\n",
       "      <td>0.000000</td>\n",
       "      <td>0.000000</td>\n",
       "      <td>0.000000</td>\n",
       "      <td>0.000000</td>\n",
       "      <td>0.000000</td>\n",
       "      <td>0.000000</td>\n",
       "      <td>0.000000</td>\n",
       "      <td>0.00000</td>\n",
       "      <td>0.000000</td>\n",
       "      <td>0.000000</td>\n",
       "      <td>0.000000</td>\n",
       "      <td>0.000000</td>\n",
       "      <td>0.000000</td>\n",
       "      <td>0.000000</td>\n",
       "      <td>0.000000</td>\n",
       "      <td>0.000000</td>\n",
       "      <td>0.000000</td>\n",
       "      <td>0.000000</td>\n",
       "      <td>0.000000</td>\n",
       "      <td>0.000000</td>\n",
       "      <td>0.000000</td>\n",
       "      <td>0.000000</td>\n",
       "      <td>1822.684000</td>\n",
       "      <td>0.000000</td>\n",
       "      <td>23768.074000</td>\n",
       "      <td>1822.684000</td>\n",
       "      <td>23807.298300</td>\n",
       "    </tr>\n",
       "    <tr>\n",
       "      <th>...</th>\n",
       "      <td>...</td>\n",
       "      <td>...</td>\n",
       "      <td>...</td>\n",
       "      <td>...</td>\n",
       "      <td>...</td>\n",
       "      <td>...</td>\n",
       "      <td>...</td>\n",
       "      <td>...</td>\n",
       "      <td>...</td>\n",
       "      <td>...</td>\n",
       "      <td>...</td>\n",
       "      <td>...</td>\n",
       "      <td>...</td>\n",
       "      <td>...</td>\n",
       "      <td>...</td>\n",
       "      <td>...</td>\n",
       "      <td>...</td>\n",
       "      <td>...</td>\n",
       "      <td>...</td>\n",
       "      <td>...</td>\n",
       "      <td>...</td>\n",
       "      <td>...</td>\n",
       "      <td>...</td>\n",
       "      <td>...</td>\n",
       "      <td>...</td>\n",
       "      <td>...</td>\n",
       "      <td>...</td>\n",
       "      <td>...</td>\n",
       "      <td>...</td>\n",
       "      <td>...</td>\n",
       "      <td>...</td>\n",
       "      <td>...</td>\n",
       "      <td>...</td>\n",
       "      <td>...</td>\n",
       "      <td>...</td>\n",
       "      <td>...</td>\n",
       "      <td>...</td>\n",
       "      <td>...</td>\n",
       "      <td>...</td>\n",
       "      <td>...</td>\n",
       "      <td>...</td>\n",
       "      <td>...</td>\n",
       "      <td>...</td>\n",
       "      <td>...</td>\n",
       "      <td>...</td>\n",
       "      <td>...</td>\n",
       "      <td>...</td>\n",
       "      <td>...</td>\n",
       "    </tr>\n",
       "    <tr>\n",
       "      <th>2.800000e+01</th>\n",
       "      <td>0.056734</td>\n",
       "      <td>0.045851</td>\n",
       "      <td>2.296800</td>\n",
       "      <td>0.149627</td>\n",
       "      <td>0.089681</td>\n",
       "      <td>0.039340</td>\n",
       "      <td>0.009014</td>\n",
       "      <td>0.000025</td>\n",
       "      <td>0.004165</td>\n",
       "      <td>0.000036</td>\n",
       "      <td>0.000007</td>\n",
       "      <td>0.001449</td>\n",
       "      <td>0.000013</td>\n",
       "      <td>0.000016</td>\n",
       "      <td>0.000020</td>\n",
       "      <td>0.000024</td>\n",
       "      <td>0.000011</td>\n",
       "      <td>0.000008</td>\n",
       "      <td>0.000659</td>\n",
       "      <td>0.000012</td>\n",
       "      <td>0.000024</td>\n",
       "      <td>0.000041</td>\n",
       "      <td>0.000032</td>\n",
       "      <td>0.000014</td>\n",
       "      <td>0.000013</td>\n",
       "      <td>0.000021</td>\n",
       "      <td>0.000029</td>\n",
       "      <td>0.000019</td>\n",
       "      <td>0.00001</td>\n",
       "      <td>0.000020</td>\n",
       "      <td>0.000028</td>\n",
       "      <td>0.000018</td>\n",
       "      <td>0.000021</td>\n",
       "      <td>0.000022</td>\n",
       "      <td>0.000021</td>\n",
       "      <td>0.000046</td>\n",
       "      <td>0.000031</td>\n",
       "      <td>0.024502</td>\n",
       "      <td>0.001733</td>\n",
       "      <td>0.010878</td>\n",
       "      <td>0.010814</td>\n",
       "      <td>0.001975</td>\n",
       "      <td>0.062356</td>\n",
       "      <td>0.000155</td>\n",
       "      <td>0.257150</td>\n",
       "      <td>2.806318</td>\n",
       "      <td>0.000155</td>\n",
       "      <td>5.928545</td>\n",
       "    </tr>\n",
       "    <tr>\n",
       "      <th>2.850000e+01</th>\n",
       "      <td>0.055079</td>\n",
       "      <td>0.041571</td>\n",
       "      <td>2.296800</td>\n",
       "      <td>0.163561</td>\n",
       "      <td>0.089224</td>\n",
       "      <td>0.039059</td>\n",
       "      <td>0.008865</td>\n",
       "      <td>0.000024</td>\n",
       "      <td>0.004089</td>\n",
       "      <td>0.000036</td>\n",
       "      <td>0.000007</td>\n",
       "      <td>0.001415</td>\n",
       "      <td>0.000012</td>\n",
       "      <td>0.000016</td>\n",
       "      <td>0.000020</td>\n",
       "      <td>0.000023</td>\n",
       "      <td>0.000011</td>\n",
       "      <td>0.000008</td>\n",
       "      <td>0.000639</td>\n",
       "      <td>0.000012</td>\n",
       "      <td>0.000024</td>\n",
       "      <td>0.000041</td>\n",
       "      <td>0.000032</td>\n",
       "      <td>0.000014</td>\n",
       "      <td>0.000013</td>\n",
       "      <td>0.000020</td>\n",
       "      <td>0.000029</td>\n",
       "      <td>0.000019</td>\n",
       "      <td>0.00001</td>\n",
       "      <td>0.000019</td>\n",
       "      <td>0.000027</td>\n",
       "      <td>0.000018</td>\n",
       "      <td>0.000020</td>\n",
       "      <td>0.000021</td>\n",
       "      <td>0.000021</td>\n",
       "      <td>0.000045</td>\n",
       "      <td>0.000030</td>\n",
       "      <td>0.024305</td>\n",
       "      <td>0.001711</td>\n",
       "      <td>0.010791</td>\n",
       "      <td>0.010729</td>\n",
       "      <td>0.001960</td>\n",
       "      <td>0.061695</td>\n",
       "      <td>0.000141</td>\n",
       "      <td>0.255056</td>\n",
       "      <td>2.812208</td>\n",
       "      <td>0.000141</td>\n",
       "      <td>5.881533</td>\n",
       "    </tr>\n",
       "    <tr>\n",
       "      <th>2.900000e+01</th>\n",
       "      <td>0.053518</td>\n",
       "      <td>0.037741</td>\n",
       "      <td>2.280800</td>\n",
       "      <td>0.176420</td>\n",
       "      <td>0.088789</td>\n",
       "      <td>0.038800</td>\n",
       "      <td>0.008731</td>\n",
       "      <td>0.000024</td>\n",
       "      <td>0.004018</td>\n",
       "      <td>0.000035</td>\n",
       "      <td>0.000007</td>\n",
       "      <td>0.001381</td>\n",
       "      <td>0.000012</td>\n",
       "      <td>0.000016</td>\n",
       "      <td>0.000019</td>\n",
       "      <td>0.000023</td>\n",
       "      <td>0.000011</td>\n",
       "      <td>0.000007</td>\n",
       "      <td>0.000620</td>\n",
       "      <td>0.000012</td>\n",
       "      <td>0.000024</td>\n",
       "      <td>0.000040</td>\n",
       "      <td>0.000031</td>\n",
       "      <td>0.000014</td>\n",
       "      <td>0.000012</td>\n",
       "      <td>0.000020</td>\n",
       "      <td>0.000028</td>\n",
       "      <td>0.000019</td>\n",
       "      <td>0.00001</td>\n",
       "      <td>0.000019</td>\n",
       "      <td>0.000027</td>\n",
       "      <td>0.000018</td>\n",
       "      <td>0.000020</td>\n",
       "      <td>0.000021</td>\n",
       "      <td>0.000020</td>\n",
       "      <td>0.000043</td>\n",
       "      <td>0.000028</td>\n",
       "      <td>0.024077</td>\n",
       "      <td>0.001686</td>\n",
       "      <td>0.010690</td>\n",
       "      <td>0.010632</td>\n",
       "      <td>0.001942</td>\n",
       "      <td>0.061031</td>\n",
       "      <td>0.000130</td>\n",
       "      <td>0.252959</td>\n",
       "      <td>2.801567</td>\n",
       "      <td>0.000130</td>\n",
       "      <td>5.834610</td>\n",
       "    </tr>\n",
       "    <tr>\n",
       "      <th>2.950000e+01</th>\n",
       "      <td>0.052122</td>\n",
       "      <td>0.034419</td>\n",
       "      <td>2.214292</td>\n",
       "      <td>0.188032</td>\n",
       "      <td>0.088386</td>\n",
       "      <td>0.038567</td>\n",
       "      <td>0.008612</td>\n",
       "      <td>0.000024</td>\n",
       "      <td>0.003952</td>\n",
       "      <td>0.000035</td>\n",
       "      <td>0.000007</td>\n",
       "      <td>0.001346</td>\n",
       "      <td>0.000012</td>\n",
       "      <td>0.000016</td>\n",
       "      <td>0.000019</td>\n",
       "      <td>0.000023</td>\n",
       "      <td>0.000011</td>\n",
       "      <td>0.000007</td>\n",
       "      <td>0.000600</td>\n",
       "      <td>0.000012</td>\n",
       "      <td>0.000023</td>\n",
       "      <td>0.000040</td>\n",
       "      <td>0.000031</td>\n",
       "      <td>0.000014</td>\n",
       "      <td>0.000012</td>\n",
       "      <td>0.000020</td>\n",
       "      <td>0.000028</td>\n",
       "      <td>0.000018</td>\n",
       "      <td>0.00001</td>\n",
       "      <td>0.000019</td>\n",
       "      <td>0.000027</td>\n",
       "      <td>0.000018</td>\n",
       "      <td>0.000020</td>\n",
       "      <td>0.000021</td>\n",
       "      <td>0.000020</td>\n",
       "      <td>0.000040</td>\n",
       "      <td>0.000026</td>\n",
       "      <td>0.023833</td>\n",
       "      <td>0.001660</td>\n",
       "      <td>0.010582</td>\n",
       "      <td>0.010529</td>\n",
       "      <td>0.001924</td>\n",
       "      <td>0.060303</td>\n",
       "      <td>0.000119</td>\n",
       "      <td>0.250845</td>\n",
       "      <td>2.739829</td>\n",
       "      <td>0.000119</td>\n",
       "      <td>5.788014</td>\n",
       "    </tr>\n",
       "    <tr>\n",
       "      <th>3.000000e+01</th>\n",
       "      <td>0.050909</td>\n",
       "      <td>0.031594</td>\n",
       "      <td>2.210290</td>\n",
       "      <td>0.198460</td>\n",
       "      <td>0.088024</td>\n",
       "      <td>0.038365</td>\n",
       "      <td>0.008510</td>\n",
       "      <td>0.000023</td>\n",
       "      <td>0.003893</td>\n",
       "      <td>0.000034</td>\n",
       "      <td>0.000007</td>\n",
       "      <td>0.001312</td>\n",
       "      <td>0.000012</td>\n",
       "      <td>0.000016</td>\n",
       "      <td>0.000019</td>\n",
       "      <td>0.000022</td>\n",
       "      <td>0.000010</td>\n",
       "      <td>0.000007</td>\n",
       "      <td>0.000582</td>\n",
       "      <td>0.000012</td>\n",
       "      <td>0.000023</td>\n",
       "      <td>0.000039</td>\n",
       "      <td>0.000030</td>\n",
       "      <td>0.000013</td>\n",
       "      <td>0.000012</td>\n",
       "      <td>0.000019</td>\n",
       "      <td>0.000027</td>\n",
       "      <td>0.000018</td>\n",
       "      <td>0.00001</td>\n",
       "      <td>0.000018</td>\n",
       "      <td>0.000026</td>\n",
       "      <td>0.000017</td>\n",
       "      <td>0.000020</td>\n",
       "      <td>0.000020</td>\n",
       "      <td>0.000019</td>\n",
       "      <td>0.000036</td>\n",
       "      <td>0.000023</td>\n",
       "      <td>0.023569</td>\n",
       "      <td>0.001632</td>\n",
       "      <td>0.010465</td>\n",
       "      <td>0.010419</td>\n",
       "      <td>0.001904</td>\n",
       "      <td>0.059545</td>\n",
       "      <td>0.000109</td>\n",
       "      <td>0.248755</td>\n",
       "      <td>2.740118</td>\n",
       "      <td>0.000109</td>\n",
       "      <td>5.741329</td>\n",
       "    </tr>\n",
       "  </tbody>\n",
       "</table>\n",
       "<p>8742 rows × 48 columns</p>\n",
       "</div>"
      ],
      "text/plain": [
       "               Data_16   Data_17       Data_18   Data_37   Data_51   Data_52  \\\n",
       "Energy                                                                         \n",
       "1.000000e-11  0.000000  0.000000  26877.520000  0.000000  0.000000  0.000000   \n",
       "1.125000e-11  0.000000  0.000000  25340.360000  0.000000  0.000000  0.000000   \n",
       "1.250000e-11  0.000000  0.000000  24039.970000  0.000000  0.000000  0.000000   \n",
       "1.375000e-11  0.000000  0.000000  22921.210000  0.000000  0.000000  0.000000   \n",
       "1.500000e-11  0.000000  0.000000  21945.390000  0.000000  0.000000  0.000000   \n",
       "...                ...       ...           ...       ...       ...       ...   \n",
       "2.800000e+01  0.056734  0.045851      2.296800  0.149627  0.089681  0.039340   \n",
       "2.850000e+01  0.055079  0.041571      2.296800  0.163561  0.089224  0.039059   \n",
       "2.900000e+01  0.053518  0.037741      2.280800  0.176420  0.088789  0.038800   \n",
       "2.950000e+01  0.052122  0.034419      2.214292  0.188032  0.088386  0.038567   \n",
       "3.000000e+01  0.050909  0.031594      2.210290  0.198460  0.088024  0.038365   \n",
       "\n",
       "               Data_53   Data_54   Data_55   Data_56   Data_57   Data_58  \\\n",
       "Energy                                                                     \n",
       "1.000000e-11  0.000000  0.000000  0.000000  0.000000  0.000000  0.000000   \n",
       "1.125000e-11  0.000000  0.000000  0.000000  0.000000  0.000000  0.000000   \n",
       "1.250000e-11  0.000000  0.000000  0.000000  0.000000  0.000000  0.000000   \n",
       "1.375000e-11  0.000000  0.000000  0.000000  0.000000  0.000000  0.000000   \n",
       "1.500000e-11  0.000000  0.000000  0.000000  0.000000  0.000000  0.000000   \n",
       "...                ...       ...       ...       ...       ...       ...   \n",
       "2.800000e+01  0.009014  0.000025  0.004165  0.000036  0.000007  0.001449   \n",
       "2.850000e+01  0.008865  0.000024  0.004089  0.000036  0.000007  0.001415   \n",
       "2.900000e+01  0.008731  0.000024  0.004018  0.000035  0.000007  0.001381   \n",
       "2.950000e+01  0.008612  0.000024  0.003952  0.000035  0.000007  0.001346   \n",
       "3.000000e+01  0.008510  0.000023  0.003893  0.000034  0.000007  0.001312   \n",
       "\n",
       "               Data_59   Data_60   Data_61   Data_62   Data_63   Data_64  \\\n",
       "Energy                                                                     \n",
       "1.000000e-11  0.000000  0.000000  0.000000  0.000000  0.000000  0.000000   \n",
       "1.125000e-11  0.000000  0.000000  0.000000  0.000000  0.000000  0.000000   \n",
       "1.250000e-11  0.000000  0.000000  0.000000  0.000000  0.000000  0.000000   \n",
       "1.375000e-11  0.000000  0.000000  0.000000  0.000000  0.000000  0.000000   \n",
       "1.500000e-11  0.000000  0.000000  0.000000  0.000000  0.000000  0.000000   \n",
       "...                ...       ...       ...       ...       ...       ...   \n",
       "2.800000e+01  0.000013  0.000016  0.000020  0.000024  0.000011  0.000008   \n",
       "2.850000e+01  0.000012  0.000016  0.000020  0.000023  0.000011  0.000008   \n",
       "2.900000e+01  0.000012  0.000016  0.000019  0.000023  0.000011  0.000007   \n",
       "2.950000e+01  0.000012  0.000016  0.000019  0.000023  0.000011  0.000007   \n",
       "3.000000e+01  0.000012  0.000016  0.000019  0.000022  0.000010  0.000007   \n",
       "\n",
       "               Data_65   Data_66   Data_67   Data_68   Data_69   Data_70  \\\n",
       "Energy                                                                     \n",
       "1.000000e-11  0.000000  0.000000  0.000000  0.000000  0.000000  0.000000   \n",
       "1.125000e-11  0.000000  0.000000  0.000000  0.000000  0.000000  0.000000   \n",
       "1.250000e-11  0.000000  0.000000  0.000000  0.000000  0.000000  0.000000   \n",
       "1.375000e-11  0.000000  0.000000  0.000000  0.000000  0.000000  0.000000   \n",
       "1.500000e-11  0.000000  0.000000  0.000000  0.000000  0.000000  0.000000   \n",
       "...                ...       ...       ...       ...       ...       ...   \n",
       "2.800000e+01  0.000659  0.000012  0.000024  0.000041  0.000032  0.000014   \n",
       "2.850000e+01  0.000639  0.000012  0.000024  0.000041  0.000032  0.000014   \n",
       "2.900000e+01  0.000620  0.000012  0.000024  0.000040  0.000031  0.000014   \n",
       "2.950000e+01  0.000600  0.000012  0.000023  0.000040  0.000031  0.000014   \n",
       "3.000000e+01  0.000582  0.000012  0.000023  0.000039  0.000030  0.000013   \n",
       "\n",
       "               Data_71   Data_72   Data_73   Data_74  Data_75   Data_76  \\\n",
       "Energy                                                                    \n",
       "1.000000e-11  0.000000  0.000000  0.000000  0.000000  0.00000  0.000000   \n",
       "1.125000e-11  0.000000  0.000000  0.000000  0.000000  0.00000  0.000000   \n",
       "1.250000e-11  0.000000  0.000000  0.000000  0.000000  0.00000  0.000000   \n",
       "1.375000e-11  0.000000  0.000000  0.000000  0.000000  0.00000  0.000000   \n",
       "1.500000e-11  0.000000  0.000000  0.000000  0.000000  0.00000  0.000000   \n",
       "...                ...       ...       ...       ...      ...       ...   \n",
       "2.800000e+01  0.000013  0.000021  0.000029  0.000019  0.00001  0.000020   \n",
       "2.850000e+01  0.000013  0.000020  0.000029  0.000019  0.00001  0.000019   \n",
       "2.900000e+01  0.000012  0.000020  0.000028  0.000019  0.00001  0.000019   \n",
       "2.950000e+01  0.000012  0.000020  0.000028  0.000018  0.00001  0.000019   \n",
       "3.000000e+01  0.000012  0.000019  0.000027  0.000018  0.00001  0.000018   \n",
       "\n",
       "               Data_77   Data_78   Data_79   Data_80   Data_81   Data_82  \\\n",
       "Energy                                                                     \n",
       "1.000000e-11  0.000000  0.000000  0.000000  0.000000  0.000000  0.000000   \n",
       "1.125000e-11  0.000000  0.000000  0.000000  0.000000  0.000000  0.000000   \n",
       "1.250000e-11  0.000000  0.000000  0.000000  0.000000  0.000000  0.000000   \n",
       "1.375000e-11  0.000000  0.000000  0.000000  0.000000  0.000000  0.000000   \n",
       "1.500000e-11  0.000000  0.000000  0.000000  0.000000  0.000000  0.000000   \n",
       "...                ...       ...       ...       ...       ...       ...   \n",
       "2.800000e+01  0.000028  0.000018  0.000021  0.000022  0.000021  0.000046   \n",
       "2.850000e+01  0.000027  0.000018  0.000020  0.000021  0.000021  0.000045   \n",
       "2.900000e+01  0.000027  0.000018  0.000020  0.000021  0.000020  0.000043   \n",
       "2.950000e+01  0.000027  0.000018  0.000020  0.000021  0.000020  0.000040   \n",
       "3.000000e+01  0.000026  0.000017  0.000020  0.000020  0.000019  0.000036   \n",
       "\n",
       "               Data_83   Data_84   Data_85   Data_86   Data_87   Data_88  \\\n",
       "Energy                                                                     \n",
       "1.000000e-11  0.000000  0.000000  0.000000  0.000000  0.000000  0.000000   \n",
       "1.125000e-11  0.000000  0.000000  0.000000  0.000000  0.000000  0.000000   \n",
       "1.250000e-11  0.000000  0.000000  0.000000  0.000000  0.000000  0.000000   \n",
       "1.375000e-11  0.000000  0.000000  0.000000  0.000000  0.000000  0.000000   \n",
       "1.500000e-11  0.000000  0.000000  0.000000  0.000000  0.000000  0.000000   \n",
       "...                ...       ...       ...       ...       ...       ...   \n",
       "2.800000e+01  0.000031  0.024502  0.001733  0.010878  0.010814  0.001975   \n",
       "2.850000e+01  0.000030  0.024305  0.001711  0.010791  0.010729  0.001960   \n",
       "2.900000e+01  0.000028  0.024077  0.001686  0.010690  0.010632  0.001942   \n",
       "2.950000e+01  0.000026  0.023833  0.001660  0.010582  0.010529  0.001924   \n",
       "3.000000e+01  0.000023  0.023569  0.001632  0.010465  0.010419  0.001904   \n",
       "\n",
       "               Data_91     Data_102    Data_4        Data_3     Data_101  \\\n",
       "Energy                                                                     \n",
       "1.000000e-11  0.000000  2232.315000  0.000000  29109.835000  2232.315000   \n",
       "1.125000e-11  0.000000  2104.648000  0.000000  27445.008000  2104.648000   \n",
       "1.250000e-11  0.000000  1996.647000  0.000000  26036.617000  1996.647000   \n",
       "1.375000e-11  0.000000  1903.729000  0.000000  24824.939000  1903.729000   \n",
       "1.500000e-11  0.000000  1822.684000  0.000000  23768.074000  1822.684000   \n",
       "...                ...          ...       ...           ...          ...   \n",
       "2.800000e+01  0.062356     0.000155  0.257150      2.806318     0.000155   \n",
       "2.850000e+01  0.061695     0.000141  0.255056      2.812208     0.000141   \n",
       "2.900000e+01  0.061031     0.000130  0.252959      2.801567     0.000130   \n",
       "2.950000e+01  0.060303     0.000119  0.250845      2.739829     0.000119   \n",
       "3.000000e+01  0.059545     0.000109  0.248755      2.740118     0.000109   \n",
       "\n",
       "                    Data_1  \n",
       "Energy                      \n",
       "1.000000e-11  29157.207400  \n",
       "1.125000e-11  27489.828900  \n",
       "1.250000e-11  26079.287200  \n",
       "1.375000e-11  24865.765600  \n",
       "1.500000e-11  23807.298300  \n",
       "...                    ...  \n",
       "2.800000e+01      5.928545  \n",
       "2.850000e+01      5.881533  \n",
       "2.900000e+01      5.834610  \n",
       "2.950000e+01      5.788014  \n",
       "3.000000e+01      5.741329  \n",
       "\n",
       "[8742 rows x 48 columns]"
      ]
     },
     "execution_count": 39,
     "metadata": {},
     "output_type": "execute_result"
    }
   ],
   "source": [
    "Energy_Grid"
   ]
  },
  {
   "cell_type": "markdown",
   "metadata": {},
   "source": [
    "# Fix MT2"
   ]
  },
  {
   "cell_type": "code",
   "execution_count": 40,
   "metadata": {
    "ExecuteTime": {
     "end_time": "2020-06-05T20:18:34.819931Z",
     "start_time": "2020-06-05T20:18:34.807427Z"
    }
   },
   "outputs": [],
   "source": [
    "def good_ace(path_to_ace, path_to_ml, ZZAAA, temp):\n",
    "    to_skip, lines = get_to_skip_lines(path_to_ace, \"92233\", \"03c\")\n",
    "    nsx, jxs, xss = read_nsx_jxs_xss(path_to_ace, to_skip, lines)\n",
    "    nes, ntr, energy_pointer, mt_array_pointer, xs_pointers, xs_table_pointer, mt_18_pointer = get_pointers(nsx, jxs)\n",
    "    energies, mt_array, lsig = get_energies_mt_array_lsig(xss, energy_pointer, nes, mt_array_pointer, ntr, xs_pointers)\n",
    "    mt1, mt101, mt2 = get_mt1_mt101_mt2(xss, nes)\n",
    "    mt3 = mt1 - mt2\n",
    "    \n",
    "    ml_df = pd.read_csv(path_to_ml)\n",
    "    \n",
    "    for i in list(ml_df.columns)[1:]:\n",
    "        if i == \"Data_1\":\n",
    "            ml_df = fill_ml_xs(i, ml_df, mt1)\n",
    "        elif i == \"Data_2\":\n",
    "            ml_df = fill_ml_xs(i, ml_df, mt2)\n",
    "        elif i == \"Data_3\":\n",
    "            ml_df = fill_ml_xs(i, ml_df, mt3)\n",
    "        else:\n",
    "            MT = re.sub(\"[^0-9]\", \"\", i)\n",
    "            sig, en, _, _ = sig_mt(int(MT), mt_array, lsig)\n",
    "            ml_df = fill_ml_xs(i, ml_df, sig)\n",
    "        \n",
    "        \n",
    "    sig_18, en_18, start_18, end_18 = sig_mt(18, mt_array, lsig, xs_table_pointer, jsx, xss)\n",
    "    sig_102, en_102, start_102, end_102 = sig_mt(102, mt_array, lsig, xs_table_pointer, jsx, xss)\n",
    "    \n",
    "    Energy_Grid = pd.DataFrame({\"Energy\": energies})\n",
    "    Energy_Grid = Energy_Grid.set_index(\"Energy\")\n",
    "\n",
    "    for i in mt_array:\n",
    "        xs, en, _, _ = sig_mt(i, mt_array, lsig)\n",
    "        to_add = pd.DataFrame({\"Energy\": en, \"Data_\" + str(int(i)): xs})\n",
    "        to_add = to_add.set_index(\"Energy\")\n",
    "        Energy_Grid = pd.merge(Energy_Grid, to_add, left_index=True, right_index=True, how=\"outer\")\n",
    "        \n",
    "    Energy_Grid = Energy_Grid.fillna(value=0)\n",
    "    \n",
    "    Energy_Grid[\"Data_18\"]  = u233_ml.Data_18.values\n",
    "    Energy_Grid[\"Data_102\"] = u233_ml.Data_102.values\n",
    "    \n",
    "    Energy_Grid[\"Data_3\"]   = make_MT(Energy_Grid, \"Data_3\")\n",
    "    Energy_Grid[\"Data_101\"] = make_MT(Energy_Grid, \"Data_101\")\n",
    "    Energy_Grid[\"Data_1\"]   = ml_df[\"Data_1\"].values"
   ]
  },
  {
   "cell_type": "markdown",
   "metadata": {},
   "source": [
    "- Replace negatives with nan interpolate"
   ]
  },
  {
   "cell_type": "code",
   "execution_count": 41,
   "metadata": {
    "ExecuteTime": {
     "end_time": "2020-06-05T20:18:37.132314Z",
     "start_time": "2020-06-05T20:18:37.126813Z"
    }
   },
   "outputs": [],
   "source": [
    "adjusting_mt1 = pd.DataFrame({\"Data_1\":Energy_Grid.Data_1.values, \"Data_3\":Energy_Grid.Data_3.values})\n",
    "adjusting_mt1[\"Data_2\"] = adjusting_mt1.Data_1.values - adjusting_mt1.Data_3.values"
   ]
  },
  {
   "cell_type": "code",
   "execution_count": 42,
   "metadata": {
    "ExecuteTime": {
     "end_time": "2020-06-05T20:18:38.300419Z",
     "start_time": "2020-06-05T20:18:38.295918Z"
    }
   },
   "outputs": [],
   "source": [
    "neg_ix = adjusting_mt1[adjusting_mt1.Data_2 < 0].index.tolist()"
   ]
  },
  {
   "cell_type": "code",
   "execution_count": 43,
   "metadata": {
    "ExecuteTime": {
     "end_time": "2020-06-05T20:18:41.949644Z",
     "start_time": "2020-06-05T20:18:41.944143Z"
    }
   },
   "outputs": [],
   "source": [
    "adjusting_mt1[\"Data_2\"] = adjusting_mt1[\"Data_2\"].apply(lambda x: x if x > 0 else -1)"
   ]
  },
  {
   "cell_type": "code",
   "execution_count": 44,
   "metadata": {
    "ExecuteTime": {
     "end_time": "2020-06-05T20:18:42.450231Z",
     "start_time": "2020-06-05T20:18:42.445731Z"
    }
   },
   "outputs": [],
   "source": [
    "adjusting_mt1 = adjusting_mt1.replace(to_replace=-1, value=np.nan)"
   ]
  },
  {
   "cell_type": "code",
   "execution_count": 45,
   "metadata": {
    "ExecuteTime": {
     "end_time": "2020-06-05T20:18:42.555750Z",
     "start_time": "2020-06-05T20:18:42.551250Z"
    }
   },
   "outputs": [],
   "source": [
    "adjusting_mt1 = adjusting_mt1.interpolate()"
   ]
  },
  {
   "cell_type": "code",
   "execution_count": 46,
   "metadata": {
    "ExecuteTime": {
     "end_time": "2020-06-05T20:18:42.860804Z",
     "start_time": "2020-06-05T20:18:42.850804Z"
    }
   },
   "outputs": [],
   "source": [
    "adjusting_mt1[\"Data_1_int\"] = adjusting_mt1[\"Data_2\"] + adjusting_mt1[\"Data_3\"]"
   ]
  },
  {
   "cell_type": "code",
   "execution_count": 47,
   "metadata": {
    "ExecuteTime": {
     "end_time": "2020-06-05T20:18:43.171857Z",
     "start_time": "2020-06-05T20:18:43.167359Z"
    }
   },
   "outputs": [],
   "source": [
    "adjusting_mt1[\"Data_1_to_add\"] = adjusting_mt1[\"Data_1_int\"] - adjusting_mt1[\"Data_1\"]"
   ]
  },
  {
   "cell_type": "code",
   "execution_count": 48,
   "metadata": {
    "ExecuteTime": {
     "end_time": "2020-06-05T20:18:43.694450Z",
     "start_time": "2020-06-05T20:18:43.689949Z"
    }
   },
   "outputs": [],
   "source": [
    "adjusting_mt1[\"Data_1_Final\"] = adjusting_mt1[\"Data_1\"] + adjusting_mt1[\"Data_1_to_add\"]"
   ]
  },
  {
   "cell_type": "code",
   "execution_count": 49,
   "metadata": {
    "ExecuteTime": {
     "end_time": "2020-06-05T20:18:44.200037Z",
     "start_time": "2020-06-05T20:18:44.189537Z"
    }
   },
   "outputs": [
    {
     "data": {
      "text/html": [
       "<div>\n",
       "<style scoped>\n",
       "    .dataframe tbody tr th:only-of-type {\n",
       "        vertical-align: middle;\n",
       "    }\n",
       "\n",
       "    .dataframe tbody tr th {\n",
       "        vertical-align: top;\n",
       "    }\n",
       "\n",
       "    .dataframe thead th {\n",
       "        text-align: right;\n",
       "    }\n",
       "</style>\n",
       "<table border=\"1\" class=\"dataframe\">\n",
       "  <thead>\n",
       "    <tr style=\"text-align: right;\">\n",
       "      <th></th>\n",
       "      <th>Data_1</th>\n",
       "      <th>Data_3</th>\n",
       "      <th>Data_2</th>\n",
       "      <th>Data_1_int</th>\n",
       "      <th>Data_1_to_add</th>\n",
       "      <th>Data_1_Final</th>\n",
       "    </tr>\n",
       "  </thead>\n",
       "  <tbody>\n",
       "    <tr>\n",
       "      <th>0</th>\n",
       "      <td>29157.2074</td>\n",
       "      <td>29109.835</td>\n",
       "      <td>47.3724</td>\n",
       "      <td>29157.2074</td>\n",
       "      <td>0.0</td>\n",
       "      <td>29157.2074</td>\n",
       "    </tr>\n",
       "    <tr>\n",
       "      <th>1</th>\n",
       "      <td>27489.8289</td>\n",
       "      <td>27445.008</td>\n",
       "      <td>44.8209</td>\n",
       "      <td>27489.8289</td>\n",
       "      <td>0.0</td>\n",
       "      <td>27489.8289</td>\n",
       "    </tr>\n",
       "    <tr>\n",
       "      <th>2</th>\n",
       "      <td>26079.2872</td>\n",
       "      <td>26036.617</td>\n",
       "      <td>42.6702</td>\n",
       "      <td>26079.2872</td>\n",
       "      <td>0.0</td>\n",
       "      <td>26079.2872</td>\n",
       "    </tr>\n",
       "    <tr>\n",
       "      <th>3</th>\n",
       "      <td>24865.7656</td>\n",
       "      <td>24824.939</td>\n",
       "      <td>40.8266</td>\n",
       "      <td>24865.7656</td>\n",
       "      <td>0.0</td>\n",
       "      <td>24865.7656</td>\n",
       "    </tr>\n",
       "    <tr>\n",
       "      <th>4</th>\n",
       "      <td>23807.2983</td>\n",
       "      <td>23768.074</td>\n",
       "      <td>39.2243</td>\n",
       "      <td>23807.2983</td>\n",
       "      <td>0.0</td>\n",
       "      <td>23807.2983</td>\n",
       "    </tr>\n",
       "  </tbody>\n",
       "</table>\n",
       "</div>"
      ],
      "text/plain": [
       "       Data_1     Data_3   Data_2  Data_1_int  Data_1_to_add  Data_1_Final\n",
       "0  29157.2074  29109.835  47.3724  29157.2074            0.0    29157.2074\n",
       "1  27489.8289  27445.008  44.8209  27489.8289            0.0    27489.8289\n",
       "2  26079.2872  26036.617  42.6702  26079.2872            0.0    26079.2872\n",
       "3  24865.7656  24824.939  40.8266  24865.7656            0.0    24865.7656\n",
       "4  23807.2983  23768.074  39.2243  23807.2983            0.0    23807.2983"
      ]
     },
     "execution_count": 49,
     "metadata": {},
     "output_type": "execute_result"
    }
   ],
   "source": [
    "adjusting_mt1.head()"
   ]
  },
  {
   "cell_type": "code",
   "execution_count": 50,
   "metadata": {
    "ExecuteTime": {
     "end_time": "2020-06-05T20:18:46.373847Z",
     "start_time": "2020-06-05T20:18:46.361344Z"
    }
   },
   "outputs": [
    {
     "data": {
      "text/html": [
       "<div>\n",
       "<style scoped>\n",
       "    .dataframe tbody tr th:only-of-type {\n",
       "        vertical-align: middle;\n",
       "    }\n",
       "\n",
       "    .dataframe tbody tr th {\n",
       "        vertical-align: top;\n",
       "    }\n",
       "\n",
       "    .dataframe thead th {\n",
       "        text-align: right;\n",
       "    }\n",
       "</style>\n",
       "<table border=\"1\" class=\"dataframe\">\n",
       "  <thead>\n",
       "    <tr style=\"text-align: right;\">\n",
       "      <th></th>\n",
       "      <th>Data_1</th>\n",
       "      <th>Data_3</th>\n",
       "      <th>Data_2</th>\n",
       "      <th>Data_1_int</th>\n",
       "      <th>Data_1_to_add</th>\n",
       "      <th>Data_1_Final</th>\n",
       "    </tr>\n",
       "  </thead>\n",
       "  <tbody>\n",
       "    <tr>\n",
       "      <th>51</th>\n",
       "      <td>2386.0400</td>\n",
       "      <td>2482.06750</td>\n",
       "      <td>11.206465</td>\n",
       "      <td>2493.273965</td>\n",
       "      <td>107.233965</td>\n",
       "      <td>2493.273965</td>\n",
       "    </tr>\n",
       "    <tr>\n",
       "      <th>58</th>\n",
       "      <td>1640.5600</td>\n",
       "      <td>1850.84030</td>\n",
       "      <td>314.858900</td>\n",
       "      <td>2165.699200</td>\n",
       "      <td>525.139200</td>\n",
       "      <td>2165.699200</td>\n",
       "    </tr>\n",
       "    <tr>\n",
       "      <th>62</th>\n",
       "      <td>1419.6800</td>\n",
       "      <td>1463.80380</td>\n",
       "      <td>271.545100</td>\n",
       "      <td>1735.348900</td>\n",
       "      <td>315.668900</td>\n",
       "      <td>1735.348900</td>\n",
       "    </tr>\n",
       "    <tr>\n",
       "      <th>64</th>\n",
       "      <td>1250.5800</td>\n",
       "      <td>1378.92970</td>\n",
       "      <td>22.829482</td>\n",
       "      <td>1401.759182</td>\n",
       "      <td>151.179182</td>\n",
       "      <td>1401.759182</td>\n",
       "    </tr>\n",
       "    <tr>\n",
       "      <th>65</th>\n",
       "      <td>1242.8800</td>\n",
       "      <td>1304.39520</td>\n",
       "      <td>19.697564</td>\n",
       "      <td>1324.092764</td>\n",
       "      <td>81.212764</td>\n",
       "      <td>1324.092764</td>\n",
       "    </tr>\n",
       "    <tr>\n",
       "      <th>...</th>\n",
       "      <td>...</td>\n",
       "      <td>...</td>\n",
       "      <td>...</td>\n",
       "      <td>...</td>\n",
       "      <td>...</td>\n",
       "      <td>...</td>\n",
       "    </tr>\n",
       "    <tr>\n",
       "      <th>8250</th>\n",
       "      <td>30.2942</td>\n",
       "      <td>34.41278</td>\n",
       "      <td>2.201923</td>\n",
       "      <td>36.614703</td>\n",
       "      <td>6.320503</td>\n",
       "      <td>36.614703</td>\n",
       "    </tr>\n",
       "    <tr>\n",
       "      <th>8251</th>\n",
       "      <td>28.3446</td>\n",
       "      <td>33.86298</td>\n",
       "      <td>2.170757</td>\n",
       "      <td>36.033737</td>\n",
       "      <td>7.689137</td>\n",
       "      <td>36.033737</td>\n",
       "    </tr>\n",
       "    <tr>\n",
       "      <th>8252</th>\n",
       "      <td>26.7518</td>\n",
       "      <td>32.47478</td>\n",
       "      <td>2.139591</td>\n",
       "      <td>34.614371</td>\n",
       "      <td>7.862571</td>\n",
       "      <td>34.614371</td>\n",
       "    </tr>\n",
       "    <tr>\n",
       "      <th>8253</th>\n",
       "      <td>26.7518</td>\n",
       "      <td>28.21312</td>\n",
       "      <td>2.108426</td>\n",
       "      <td>30.321546</td>\n",
       "      <td>3.569746</td>\n",
       "      <td>30.321546</td>\n",
       "    </tr>\n",
       "    <tr>\n",
       "      <th>8335</th>\n",
       "      <td>11.0651</td>\n",
       "      <td>28.78900</td>\n",
       "      <td>6.398900</td>\n",
       "      <td>35.187900</td>\n",
       "      <td>24.122800</td>\n",
       "      <td>35.187900</td>\n",
       "    </tr>\n",
       "  </tbody>\n",
       "</table>\n",
       "<p>825 rows × 6 columns</p>\n",
       "</div>"
      ],
      "text/plain": [
       "         Data_1      Data_3      Data_2   Data_1_int  Data_1_to_add  \\\n",
       "51    2386.0400  2482.06750   11.206465  2493.273965     107.233965   \n",
       "58    1640.5600  1850.84030  314.858900  2165.699200     525.139200   \n",
       "62    1419.6800  1463.80380  271.545100  1735.348900     315.668900   \n",
       "64    1250.5800  1378.92970   22.829482  1401.759182     151.179182   \n",
       "65    1242.8800  1304.39520   19.697564  1324.092764      81.212764   \n",
       "...         ...         ...         ...          ...            ...   \n",
       "8250    30.2942    34.41278    2.201923    36.614703       6.320503   \n",
       "8251    28.3446    33.86298    2.170757    36.033737       7.689137   \n",
       "8252    26.7518    32.47478    2.139591    34.614371       7.862571   \n",
       "8253    26.7518    28.21312    2.108426    30.321546       3.569746   \n",
       "8335    11.0651    28.78900    6.398900    35.187900      24.122800   \n",
       "\n",
       "      Data_1_Final  \n",
       "51     2493.273965  \n",
       "58     2165.699200  \n",
       "62     1735.348900  \n",
       "64     1401.759182  \n",
       "65     1324.092764  \n",
       "...            ...  \n",
       "8250     36.614703  \n",
       "8251     36.033737  \n",
       "8252     34.614371  \n",
       "8253     30.321546  \n",
       "8335     35.187900  \n",
       "\n",
       "[825 rows x 6 columns]"
      ]
     },
     "execution_count": 50,
     "metadata": {},
     "output_type": "execute_result"
    }
   ],
   "source": [
    "adjusting_mt1.iloc[neg_ix]"
   ]
  },
  {
   "cell_type": "code",
   "execution_count": 51,
   "metadata": {
    "ExecuteTime": {
     "end_time": "2020-06-05T20:18:48.396914Z",
     "start_time": "2020-06-05T20:18:48.392412Z"
    }
   },
   "outputs": [],
   "source": [
    "Energy_Grid[\"Data_1\"] = adjusting_mt1[\"Data_1_Final\"].values\n",
    "Energy_Grid[\"Data_2\"] = adjusting_mt1[\"Data_2\"].values"
   ]
  },
  {
   "cell_type": "code",
   "execution_count": 52,
   "metadata": {
    "ExecuteTime": {
     "end_time": "2020-06-05T20:18:49.723215Z",
     "start_time": "2020-06-05T20:18:49.256134Z"
    }
   },
   "outputs": [
    {
     "data": {
      "text/plain": [
       "[<matplotlib.lines.Line2D at 0x2ec5832a408>]"
      ]
     },
     "execution_count": 52,
     "metadata": {},
     "output_type": "execute_result"
    },
    {
     "data": {
      "image/png": "[encoded data removed]",
      "text/plain": [
       "<Figure size 432x288 with 1 Axes>"
      ]
     },
     "metadata": {
      "needs_background": "light"
     },
     "output_type": "display_data"
    }
   ],
   "source": [
    "plt.loglog(energies, mt1)\n",
    "plt.loglog(energies, Energy_Grid.Data_1)"
   ]
  },
  {
   "cell_type": "code",
   "execution_count": 53,
   "metadata": {
    "ExecuteTime": {
     "end_time": "2020-06-05T20:18:58.097584Z",
     "start_time": "2020-06-05T20:18:57.680509Z"
    }
   },
   "outputs": [
    {
     "data": {
      "text/plain": [
       "Text(0, 0.5, 'Cross Section (b)')"
      ]
     },
     "execution_count": 53,
     "metadata": {},
     "output_type": "execute_result"
    },
    {
     "data": {
      "image/png": "[encoded data removed]",
      "text/plain": [
       "<Figure size 432x288 with 1 Axes>"
      ]
     },
     "metadata": {
      "needs_background": "light"
     },
     "output_type": "display_data"
    }
   ],
   "source": [
    "plt.loglog(energies, Energy_Grid.Data_2)\n",
    "plt.loglog(energies, mt2)\n",
    "plt.xlabel(\"Energy (MeV)\")\n",
    "plt.ylabel(\"Cross Section (b)\")"
   ]
  },
  {
   "cell_type": "code",
   "execution_count": 54,
   "metadata": {
    "ExecuteTime": {
     "end_time": "2020-06-05T20:18:59.195713Z",
     "start_time": "2020-06-05T20:18:59.191712Z"
    }
   },
   "outputs": [
    {
     "name": "stdout",
     "output_type": "stream",
     "text": [
      "8742 Energy and 8742 Cross Section Points Avaliable.\n"
     ]
    }
   ],
   "source": [
    "sig_18, en_18, _, _ = sig_mt(18, mt_array, lsig)"
   ]
  },
  {
   "cell_type": "code",
   "execution_count": 55,
   "metadata": {
    "ExecuteTime": {
     "end_time": "2020-06-05T20:19:08.381597Z",
     "start_time": "2020-06-05T20:19:08.376595Z"
    }
   },
   "outputs": [],
   "source": [
    "diff_18 = np.abs(Energy_Grid.Data_18 - sig_18)\n",
    "diff_102 = np.abs(Energy_Grid.Data_102 - sig_102)\n",
    "diff_1 = np.abs(Energy_Grid.Data_1 - mt1)"
   ]
  },
  {
   "cell_type": "code",
   "execution_count": 57,
   "metadata": {
    "ExecuteTime": {
     "end_time": "2020-06-05T20:19:17.767082Z",
     "start_time": "2020-06-05T20:19:17.720572Z"
    }
   },
   "outputs": [],
   "source": [
    "%matplotlib qt\n",
    "import matplotlib.pyplot as plt"
   ]
  },
  {
   "cell_type": "code",
   "execution_count": 58,
   "metadata": {
    "ExecuteTime": {
     "end_time": "2020-06-05T20:19:25.578983Z",
     "start_time": "2020-06-05T20:19:25.576482Z"
    }
   },
   "outputs": [],
   "source": [
    "# import seaborn as sns\n",
    "\n",
    "# sns.set(font_scale=2, style=\"white\")"
   ]
  },
  {
   "cell_type": "code",
   "execution_count": 59,
   "metadata": {
    "ExecuteTime": {
     "end_time": "2020-06-05T20:19:26.870450Z",
     "start_time": "2020-06-05T20:19:26.729425Z"
    }
   },
   "outputs": [
    {
     "data": {
      "text/plain": [
       "Text(0.04, 0.5, 'Cross Section (b)')"
      ]
     },
     "execution_count": 59,
     "metadata": {},
     "output_type": "execute_result"
    }
   ],
   "source": [
    "fig, axs = plt.subplots(2, 2, figsize=(18,10))\n",
    "# fig.suptitle('ENDF vs ML Cross Sections for U-233')\n",
    "\n",
    "axs[0, 0].loglog(energies, Energy_Grid.Data_18, linestyle=\"dotted\", linewidth=5, label=\"ML\")\n",
    "axs[0, 0].loglog(energies, sig_18, linestyle=\"dashed\", linewidth=2, label=\"ENDF\")\n",
    "axs[0, 0].set_title(\"MT 18\")\n",
    "axs[0, 0].legend()\n",
    "\n",
    "axs[0, 1].loglog(energies, Energy_Grid.Data_102, linestyle=\"dotted\", linewidth=5, label=\"ML\")\n",
    "axs[0, 1].loglog(energies, sig_102, linestyle=\"dashed\", linewidth=2, label=\"ENDF\")\n",
    "axs[0, 1].set_title(\"MT 102\")\n",
    "axs[0, 1].legend()\n",
    "\n",
    "axs[1, 0].plot(energies, diff_18, label=\"Abs. Diff.\")\n",
    "axs[1, 0].set_xscale('log')\n",
    "axs[1, 0].legend()\n",
    "\n",
    "axs[1, 1].plot(energies, diff_102, label=\"Abs. Diff.\")\n",
    "axs[1, 1].set_xscale('log')\n",
    "axs[1, 1].legend()\n",
    "\n",
    "fig.text(0.5, 0.04, 'Energy (MeV)', ha='center')\n",
    "fig.text(0.04, 0.5, 'Cross Section (b)', va='center', rotation='vertical')"
   ]
  },
  {
   "cell_type": "code",
   "execution_count": 65,
   "metadata": {
    "ExecuteTime": {
     "end_time": "2020-06-05T20:23:36.245237Z",
     "start_time": "2020-06-05T20:23:36.176726Z"
    }
   },
   "outputs": [
    {
     "data": {
      "text/plain": [
       "(array([1.e-03, 1.e-02, 1.e-01, 1.e+00, 1.e+01, 1.e+02, 1.e+03, 1.e+04]),\n",
       " <a list of 8 Text yticklabel objects>)"
      ]
     },
     "execution_count": 65,
     "metadata": {},
     "output_type": "execute_result"
    }
   ],
   "source": [
    "plt.figure(figsize=(14,10))\n",
    "plt.loglog(energies, Energy_Grid.Data_2, linestyle=\"dotted\", linewidth=5, label=\"ML\")\n",
    "plt.loglog(energies, mt2, linestyle=\"dashed\", linewidth=2, label=\"ENDF\")\n",
    "plt.legend()\n",
    "plt.xlabel(\"Energy (MeV)\", fontsize=18)\n",
    "plt.ylabel(\"Cross Section (b)\", fontsize=18)\n",
    "plt.xticks(fontsize=14)\n",
    "plt.yticks(fontsize=14)"
   ]
  },
  {
   "cell_type": "code",
   "execution_count": 665,
   "metadata": {},
   "outputs": [
    {
     "data": {
      "text/plain": [
       "<matplotlib.legend.Legend at 0x14f0cea9c48>"
      ]
     },
     "execution_count": 665,
     "metadata": {},
     "output_type": "execute_result"
    },
    {
     "data": {
      "image/png": "[encoded data removed]",
      "text/plain": [
       "<Figure size 1008x720 with 1 Axes>"
      ]
     },
     "metadata": {
      "needs_background": "light"
     },
     "output_type": "display_data"
    }
   ],
   "source": [
    "plt.figure(figsize=(14,10))\n",
    "plt.loglog(energies, Energy_Grid.Data_18, linestyle=\"dotted\", linewidth=5, label=\"ML\")\n",
    "plt.loglog(energies, sig_18, linestyle=\"dashed\", linewidth=2, label=\"ENDF\")\n",
    "plt.legend()"
   ]
  },
  {
   "cell_type": "code",
   "execution_count": 666,
   "metadata": {},
   "outputs": [
    {
     "data": {
      "text/plain": [
       "<matplotlib.legend.Legend at 0x14f0c831448>"
      ]
     },
     "execution_count": 666,
     "metadata": {},
     "output_type": "execute_result"
    },
    {
     "data": {
      "image/png": "[encoded data removed]",
      "text/plain": [
       "<Figure size 1008x720 with 1 Axes>"
      ]
     },
     "metadata": {
      "needs_background": "light"
     },
     "output_type": "display_data"
    }
   ],
   "source": [
    "plt.figure(figsize=(14,10))\n",
    "plt.loglog(energies, Energy_Grid.Data_1, linestyle=\"dotted\", linewidth=5, label=\"ML\")\n",
    "plt.loglog(energies, mt1, linestyle=\"dashed\", linewidth=2, label=\"ENDF\")\n",
    "plt.legend()"
   ]
  },
  {
   "cell_type": "code",
   "execution_count": 667,
   "metadata": {},
   "outputs": [
    {
     "name": "stdout",
     "output_type": "stream",
     "text": [
      "8742 Energy and 8742 Cross Section Points Avaliable.\n"
     ]
    }
   ],
   "source": [
    "sig_102, en_102, _, _ = sig_mt(102, mt_array, lsig)"
   ]
  },
  {
   "cell_type": "code",
   "execution_count": 668,
   "metadata": {},
   "outputs": [
    {
     "data": {
      "text/plain": [
       "<matplotlib.legend.Legend at 0x14f05c6a608>"
      ]
     },
     "execution_count": 668,
     "metadata": {},
     "output_type": "execute_result"
    },
    {
     "data": {
      "image/png": "[encoded data removed]",
      "text/plain": [
       "<Figure size 1008x720 with 1 Axes>"
      ]
     },
     "metadata": {
      "needs_background": "light"
     },
     "output_type": "display_data"
    }
   ],
   "source": [
    "plt.figure(figsize=(14,10))\n",
    "plt.loglog(energies, Energy_Grid.Data_102, linestyle=\"dotted\", linewidth=5, label=\"ML\")\n",
    "plt.loglog(energies, sig_102, linestyle=\"dashed\", linewidth=2, label=\"ENDF\")\n",
    "plt.legend()"
   ]
  },
  {
   "cell_type": "code",
   "execution_count": 670,
   "metadata": {},
   "outputs": [
    {
     "data": {
      "text/plain": [
       "<matplotlib.legend.Legend at 0x14f094ebd08>"
      ]
     },
     "execution_count": 670,
     "metadata": {},
     "output_type": "execute_result"
    },
    {
     "data": {
      "image/png": "[encoded data removed]",
      "text/plain": [
       "<Figure size 1008x720 with 1 Axes>"
      ]
     },
     "metadata": {
      "needs_background": "light"
     },
     "output_type": "display_data"
    }
   ],
   "source": [
    "plt.figure(figsize=(14,10))\n",
    "plt.loglog(energies, Energy_Grid.Data_101, linestyle=\"dotted\", linewidth=5, label=\"ML\")\n",
    "plt.loglog(energies, mt101, linestyle=\"dashed\", linewidth=2, label=\"ENDF\")\n",
    "plt.legend()"
   ]
  },
  {
   "cell_type": "code",
   "execution_count": 689,
   "metadata": {},
   "outputs": [],
   "source": [
    "%matplotlib qt\n",
    "import matplotlib.pyplot as plt"
   ]
  },
  {
   "cell_type": "code",
   "execution_count": 719,
   "metadata": {},
   "outputs": [],
   "source": [
    "import seaborn as sns"
   ]
  },
  {
   "cell_type": "code",
   "execution_count": 727,
   "metadata": {},
   "outputs": [],
   "source": [
    "sns.set(font_scale=2)\n",
    "sns.set_style(\"white\")"
   ]
  },
  {
   "cell_type": "code",
   "execution_count": 732,
   "metadata": {},
   "outputs": [
    {
     "data": {
      "text/plain": [
       "<module 'seaborn' from 'C:\\\\Users\\\\Pedro\\\\Anaconda3\\\\envs\\\\data_mining_gpu\\\\lib\\\\site-packages\\\\seaborn\\\\__init__.py'>"
      ]
     },
     "execution_count": 732,
     "metadata": {},
     "output_type": "execute_result"
    }
   ],
   "source": [
    "import importlib\n",
    "importlib.reload(plt)\n",
    "importlib.reload(sns)"
   ]
  },
  {
   "cell_type": "code",
   "execution_count": 734,
   "metadata": {},
   "outputs": [],
   "source": [
    "Energy_Grid.to_csv(\"ML_GRID.csv\", index=False)"
   ]
  },
  {
   "cell_type": "code",
   "execution_count": 735,
   "metadata": {},
   "outputs": [
    {
     "data": {
      "text/html": [
       "<div>\n",
       "<style scoped>\n",
       "    .dataframe tbody tr th:only-of-type {\n",
       "        vertical-align: middle;\n",
       "    }\n",
       "\n",
       "    .dataframe tbody tr th {\n",
       "        vertical-align: top;\n",
       "    }\n",
       "\n",
       "    .dataframe thead th {\n",
       "        text-align: right;\n",
       "    }\n",
       "</style>\n",
       "<table border=\"1\" class=\"dataframe\">\n",
       "  <thead>\n",
       "    <tr style=\"text-align: right;\">\n",
       "      <th></th>\n",
       "      <th>Data_16</th>\n",
       "      <th>Data_17</th>\n",
       "      <th>Data_18</th>\n",
       "      <th>Data_37</th>\n",
       "      <th>Data_51</th>\n",
       "      <th>Data_52</th>\n",
       "      <th>Data_53</th>\n",
       "      <th>Data_54</th>\n",
       "      <th>Data_55</th>\n",
       "      <th>Data_56</th>\n",
       "      <th>Data_57</th>\n",
       "      <th>Data_58</th>\n",
       "      <th>Data_59</th>\n",
       "      <th>Data_60</th>\n",
       "      <th>Data_61</th>\n",
       "      <th>Data_62</th>\n",
       "      <th>Data_63</th>\n",
       "      <th>Data_64</th>\n",
       "      <th>Data_65</th>\n",
       "      <th>Data_66</th>\n",
       "      <th>Data_67</th>\n",
       "      <th>Data_68</th>\n",
       "      <th>Data_69</th>\n",
       "      <th>Data_70</th>\n",
       "      <th>Data_71</th>\n",
       "      <th>Data_72</th>\n",
       "      <th>Data_73</th>\n",
       "      <th>Data_74</th>\n",
       "      <th>Data_75</th>\n",
       "      <th>Data_76</th>\n",
       "      <th>Data_77</th>\n",
       "      <th>Data_78</th>\n",
       "      <th>Data_79</th>\n",
       "      <th>Data_80</th>\n",
       "      <th>Data_81</th>\n",
       "      <th>Data_82</th>\n",
       "      <th>Data_83</th>\n",
       "      <th>Data_84</th>\n",
       "      <th>Data_85</th>\n",
       "      <th>Data_86</th>\n",
       "      <th>Data_87</th>\n",
       "      <th>Data_88</th>\n",
       "      <th>Data_91</th>\n",
       "      <th>Data_102</th>\n",
       "      <th>Data_4</th>\n",
       "      <th>Data_3</th>\n",
       "      <th>Data_101</th>\n",
       "      <th>Data_1</th>\n",
       "      <th>Data_2</th>\n",
       "    </tr>\n",
       "    <tr>\n",
       "      <th>Energy</th>\n",
       "      <th></th>\n",
       "      <th></th>\n",
       "      <th></th>\n",
       "      <th></th>\n",
       "      <th></th>\n",
       "      <th></th>\n",
       "      <th></th>\n",
       "      <th></th>\n",
       "      <th></th>\n",
       "      <th></th>\n",
       "      <th></th>\n",
       "      <th></th>\n",
       "      <th></th>\n",
       "      <th></th>\n",
       "      <th></th>\n",
       "      <th></th>\n",
       "      <th></th>\n",
       "      <th></th>\n",
       "      <th></th>\n",
       "      <th></th>\n",
       "      <th></th>\n",
       "      <th></th>\n",
       "      <th></th>\n",
       "      <th></th>\n",
       "      <th></th>\n",
       "      <th></th>\n",
       "      <th></th>\n",
       "      <th></th>\n",
       "      <th></th>\n",
       "      <th></th>\n",
       "      <th></th>\n",
       "      <th></th>\n",
       "      <th></th>\n",
       "      <th></th>\n",
       "      <th></th>\n",
       "      <th></th>\n",
       "      <th></th>\n",
       "      <th></th>\n",
       "      <th></th>\n",
       "      <th></th>\n",
       "      <th></th>\n",
       "      <th></th>\n",
       "      <th></th>\n",
       "      <th></th>\n",
       "      <th></th>\n",
       "      <th></th>\n",
       "      <th></th>\n",
       "      <th></th>\n",
       "      <th></th>\n",
       "    </tr>\n",
       "  </thead>\n",
       "  <tbody>\n",
       "    <tr>\n",
       "      <th>1.000000e-11</th>\n",
       "      <td>0.000000</td>\n",
       "      <td>0.000000</td>\n",
       "      <td>26877.520000</td>\n",
       "      <td>0.000000</td>\n",
       "      <td>0.000000</td>\n",
       "      <td>0.000000</td>\n",
       "      <td>0.000000</td>\n",
       "      <td>0.000000</td>\n",
       "      <td>0.000000</td>\n",
       "      <td>0.000000</td>\n",
       "      <td>0.000000</td>\n",
       "      <td>0.000000</td>\n",
       "      <td>0.000000</td>\n",
       "      <td>0.000000</td>\n",
       "      <td>0.000000</td>\n",
       "      <td>0.000000</td>\n",
       "      <td>0.000000</td>\n",
       "      <td>0.000000</td>\n",
       "      <td>0.000000</td>\n",
       "      <td>0.000000</td>\n",
       "      <td>0.000000</td>\n",
       "      <td>0.000000</td>\n",
       "      <td>0.000000</td>\n",
       "      <td>0.000000</td>\n",
       "      <td>0.000000</td>\n",
       "      <td>0.000000</td>\n",
       "      <td>0.000000</td>\n",
       "      <td>0.000000</td>\n",
       "      <td>0.00000</td>\n",
       "      <td>0.000000</td>\n",
       "      <td>0.000000</td>\n",
       "      <td>0.000000</td>\n",
       "      <td>0.000000</td>\n",
       "      <td>0.000000</td>\n",
       "      <td>0.000000</td>\n",
       "      <td>0.000000</td>\n",
       "      <td>0.000000</td>\n",
       "      <td>0.000000</td>\n",
       "      <td>0.000000</td>\n",
       "      <td>0.000000</td>\n",
       "      <td>0.000000</td>\n",
       "      <td>0.000000</td>\n",
       "      <td>0.000000</td>\n",
       "      <td>2232.315000</td>\n",
       "      <td>0.000000</td>\n",
       "      <td>29109.835000</td>\n",
       "      <td>2232.315000</td>\n",
       "      <td>29157.207400</td>\n",
       "      <td>47.372400</td>\n",
       "    </tr>\n",
       "    <tr>\n",
       "      <th>1.125000e-11</th>\n",
       "      <td>0.000000</td>\n",
       "      <td>0.000000</td>\n",
       "      <td>25340.360000</td>\n",
       "      <td>0.000000</td>\n",
       "      <td>0.000000</td>\n",
       "      <td>0.000000</td>\n",
       "      <td>0.000000</td>\n",
       "      <td>0.000000</td>\n",
       "      <td>0.000000</td>\n",
       "      <td>0.000000</td>\n",
       "      <td>0.000000</td>\n",
       "      <td>0.000000</td>\n",
       "      <td>0.000000</td>\n",
       "      <td>0.000000</td>\n",
       "      <td>0.000000</td>\n",
       "      <td>0.000000</td>\n",
       "      <td>0.000000</td>\n",
       "      <td>0.000000</td>\n",
       "      <td>0.000000</td>\n",
       "      <td>0.000000</td>\n",
       "      <td>0.000000</td>\n",
       "      <td>0.000000</td>\n",
       "      <td>0.000000</td>\n",
       "      <td>0.000000</td>\n",
       "      <td>0.000000</td>\n",
       "      <td>0.000000</td>\n",
       "      <td>0.000000</td>\n",
       "      <td>0.000000</td>\n",
       "      <td>0.00000</td>\n",
       "      <td>0.000000</td>\n",
       "      <td>0.000000</td>\n",
       "      <td>0.000000</td>\n",
       "      <td>0.000000</td>\n",
       "      <td>0.000000</td>\n",
       "      <td>0.000000</td>\n",
       "      <td>0.000000</td>\n",
       "      <td>0.000000</td>\n",
       "      <td>0.000000</td>\n",
       "      <td>0.000000</td>\n",
       "      <td>0.000000</td>\n",
       "      <td>0.000000</td>\n",
       "      <td>0.000000</td>\n",
       "      <td>0.000000</td>\n",
       "      <td>2104.648000</td>\n",
       "      <td>0.000000</td>\n",
       "      <td>27445.008000</td>\n",
       "      <td>2104.648000</td>\n",
       "      <td>27489.828900</td>\n",
       "      <td>44.820900</td>\n",
       "    </tr>\n",
       "    <tr>\n",
       "      <th>1.250000e-11</th>\n",
       "      <td>0.000000</td>\n",
       "      <td>0.000000</td>\n",
       "      <td>24039.970000</td>\n",
       "      <td>0.000000</td>\n",
       "      <td>0.000000</td>\n",
       "      <td>0.000000</td>\n",
       "      <td>0.000000</td>\n",
       "      <td>0.000000</td>\n",
       "      <td>0.000000</td>\n",
       "      <td>0.000000</td>\n",
       "      <td>0.000000</td>\n",
       "      <td>0.000000</td>\n",
       "      <td>0.000000</td>\n",
       "      <td>0.000000</td>\n",
       "      <td>0.000000</td>\n",
       "      <td>0.000000</td>\n",
       "      <td>0.000000</td>\n",
       "      <td>0.000000</td>\n",
       "      <td>0.000000</td>\n",
       "      <td>0.000000</td>\n",
       "      <td>0.000000</td>\n",
       "      <td>0.000000</td>\n",
       "      <td>0.000000</td>\n",
       "      <td>0.000000</td>\n",
       "      <td>0.000000</td>\n",
       "      <td>0.000000</td>\n",
       "      <td>0.000000</td>\n",
       "      <td>0.000000</td>\n",
       "      <td>0.00000</td>\n",
       "      <td>0.000000</td>\n",
       "      <td>0.000000</td>\n",
       "      <td>0.000000</td>\n",
       "      <td>0.000000</td>\n",
       "      <td>0.000000</td>\n",
       "      <td>0.000000</td>\n",
       "      <td>0.000000</td>\n",
       "      <td>0.000000</td>\n",
       "      <td>0.000000</td>\n",
       "      <td>0.000000</td>\n",
       "      <td>0.000000</td>\n",
       "      <td>0.000000</td>\n",
       "      <td>0.000000</td>\n",
       "      <td>0.000000</td>\n",
       "      <td>1996.647000</td>\n",
       "      <td>0.000000</td>\n",
       "      <td>26036.617000</td>\n",
       "      <td>1996.647000</td>\n",
       "      <td>26079.287200</td>\n",
       "      <td>42.670200</td>\n",
       "    </tr>\n",
       "    <tr>\n",
       "      <th>1.375000e-11</th>\n",
       "      <td>0.000000</td>\n",
       "      <td>0.000000</td>\n",
       "      <td>22921.210000</td>\n",
       "      <td>0.000000</td>\n",
       "      <td>0.000000</td>\n",
       "      <td>0.000000</td>\n",
       "      <td>0.000000</td>\n",
       "      <td>0.000000</td>\n",
       "      <td>0.000000</td>\n",
       "      <td>0.000000</td>\n",
       "      <td>0.000000</td>\n",
       "      <td>0.000000</td>\n",
       "      <td>0.000000</td>\n",
       "      <td>0.000000</td>\n",
       "      <td>0.000000</td>\n",
       "      <td>0.000000</td>\n",
       "      <td>0.000000</td>\n",
       "      <td>0.000000</td>\n",
       "      <td>0.000000</td>\n",
       "      <td>0.000000</td>\n",
       "      <td>0.000000</td>\n",
       "      <td>0.000000</td>\n",
       "      <td>0.000000</td>\n",
       "      <td>0.000000</td>\n",
       "      <td>0.000000</td>\n",
       "      <td>0.000000</td>\n",
       "      <td>0.000000</td>\n",
       "      <td>0.000000</td>\n",
       "      <td>0.00000</td>\n",
       "      <td>0.000000</td>\n",
       "      <td>0.000000</td>\n",
       "      <td>0.000000</td>\n",
       "      <td>0.000000</td>\n",
       "      <td>0.000000</td>\n",
       "      <td>0.000000</td>\n",
       "      <td>0.000000</td>\n",
       "      <td>0.000000</td>\n",
       "      <td>0.000000</td>\n",
       "      <td>0.000000</td>\n",
       "      <td>0.000000</td>\n",
       "      <td>0.000000</td>\n",
       "      <td>0.000000</td>\n",
       "      <td>0.000000</td>\n",
       "      <td>1903.729000</td>\n",
       "      <td>0.000000</td>\n",
       "      <td>24824.939000</td>\n",
       "      <td>1903.729000</td>\n",
       "      <td>24865.765600</td>\n",
       "      <td>40.826600</td>\n",
       "    </tr>\n",
       "    <tr>\n",
       "      <th>1.500000e-11</th>\n",
       "      <td>0.000000</td>\n",
       "      <td>0.000000</td>\n",
       "      <td>21945.390000</td>\n",
       "      <td>0.000000</td>\n",
       "      <td>0.000000</td>\n",
       "      <td>0.000000</td>\n",
       "      <td>0.000000</td>\n",
       "      <td>0.000000</td>\n",
       "      <td>0.000000</td>\n",
       "      <td>0.000000</td>\n",
       "      <td>0.000000</td>\n",
       "      <td>0.000000</td>\n",
       "      <td>0.000000</td>\n",
       "      <td>0.000000</td>\n",
       "      <td>0.000000</td>\n",
       "      <td>0.000000</td>\n",
       "      <td>0.000000</td>\n",
       "      <td>0.000000</td>\n",
       "      <td>0.000000</td>\n",
       "      <td>0.000000</td>\n",
       "      <td>0.000000</td>\n",
       "      <td>0.000000</td>\n",
       "      <td>0.000000</td>\n",
       "      <td>0.000000</td>\n",
       "      <td>0.000000</td>\n",
       "      <td>0.000000</td>\n",
       "      <td>0.000000</td>\n",
       "      <td>0.000000</td>\n",
       "      <td>0.00000</td>\n",
       "      <td>0.000000</td>\n",
       "      <td>0.000000</td>\n",
       "      <td>0.000000</td>\n",
       "      <td>0.000000</td>\n",
       "      <td>0.000000</td>\n",
       "      <td>0.000000</td>\n",
       "      <td>0.000000</td>\n",
       "      <td>0.000000</td>\n",
       "      <td>0.000000</td>\n",
       "      <td>0.000000</td>\n",
       "      <td>0.000000</td>\n",
       "      <td>0.000000</td>\n",
       "      <td>0.000000</td>\n",
       "      <td>0.000000</td>\n",
       "      <td>1822.684000</td>\n",
       "      <td>0.000000</td>\n",
       "      <td>23768.074000</td>\n",
       "      <td>1822.684000</td>\n",
       "      <td>23807.298300</td>\n",
       "      <td>39.224300</td>\n",
       "    </tr>\n",
       "    <tr>\n",
       "      <th>...</th>\n",
       "      <td>...</td>\n",
       "      <td>...</td>\n",
       "      <td>...</td>\n",
       "      <td>...</td>\n",
       "      <td>...</td>\n",
       "      <td>...</td>\n",
       "      <td>...</td>\n",
       "      <td>...</td>\n",
       "      <td>...</td>\n",
       "      <td>...</td>\n",
       "      <td>...</td>\n",
       "      <td>...</td>\n",
       "      <td>...</td>\n",
       "      <td>...</td>\n",
       "      <td>...</td>\n",
       "      <td>...</td>\n",
       "      <td>...</td>\n",
       "      <td>...</td>\n",
       "      <td>...</td>\n",
       "      <td>...</td>\n",
       "      <td>...</td>\n",
       "      <td>...</td>\n",
       "      <td>...</td>\n",
       "      <td>...</td>\n",
       "      <td>...</td>\n",
       "      <td>...</td>\n",
       "      <td>...</td>\n",
       "      <td>...</td>\n",
       "      <td>...</td>\n",
       "      <td>...</td>\n",
       "      <td>...</td>\n",
       "      <td>...</td>\n",
       "      <td>...</td>\n",
       "      <td>...</td>\n",
       "      <td>...</td>\n",
       "      <td>...</td>\n",
       "      <td>...</td>\n",
       "      <td>...</td>\n",
       "      <td>...</td>\n",
       "      <td>...</td>\n",
       "      <td>...</td>\n",
       "      <td>...</td>\n",
       "      <td>...</td>\n",
       "      <td>...</td>\n",
       "      <td>...</td>\n",
       "      <td>...</td>\n",
       "      <td>...</td>\n",
       "      <td>...</td>\n",
       "      <td>...</td>\n",
       "    </tr>\n",
       "    <tr>\n",
       "      <th>2.800000e+01</th>\n",
       "      <td>0.056734</td>\n",
       "      <td>0.045851</td>\n",
       "      <td>2.296800</td>\n",
       "      <td>0.149627</td>\n",
       "      <td>0.089681</td>\n",
       "      <td>0.039340</td>\n",
       "      <td>0.009014</td>\n",
       "      <td>0.000025</td>\n",
       "      <td>0.004165</td>\n",
       "      <td>0.000036</td>\n",
       "      <td>0.000007</td>\n",
       "      <td>0.001449</td>\n",
       "      <td>0.000013</td>\n",
       "      <td>0.000016</td>\n",
       "      <td>0.000020</td>\n",
       "      <td>0.000024</td>\n",
       "      <td>0.000011</td>\n",
       "      <td>0.000008</td>\n",
       "      <td>0.000659</td>\n",
       "      <td>0.000012</td>\n",
       "      <td>0.000024</td>\n",
       "      <td>0.000041</td>\n",
       "      <td>0.000032</td>\n",
       "      <td>0.000014</td>\n",
       "      <td>0.000013</td>\n",
       "      <td>0.000021</td>\n",
       "      <td>0.000029</td>\n",
       "      <td>0.000019</td>\n",
       "      <td>0.00001</td>\n",
       "      <td>0.000020</td>\n",
       "      <td>0.000028</td>\n",
       "      <td>0.000018</td>\n",
       "      <td>0.000021</td>\n",
       "      <td>0.000022</td>\n",
       "      <td>0.000021</td>\n",
       "      <td>0.000046</td>\n",
       "      <td>0.000031</td>\n",
       "      <td>0.024502</td>\n",
       "      <td>0.001733</td>\n",
       "      <td>0.010878</td>\n",
       "      <td>0.010814</td>\n",
       "      <td>0.001975</td>\n",
       "      <td>0.062356</td>\n",
       "      <td>0.000155</td>\n",
       "      <td>0.257150</td>\n",
       "      <td>2.806318</td>\n",
       "      <td>0.000155</td>\n",
       "      <td>5.928545</td>\n",
       "      <td>3.122227</td>\n",
       "    </tr>\n",
       "    <tr>\n",
       "      <th>2.850000e+01</th>\n",
       "      <td>0.055079</td>\n",
       "      <td>0.041571</td>\n",
       "      <td>2.296800</td>\n",
       "      <td>0.163561</td>\n",
       "      <td>0.089224</td>\n",
       "      <td>0.039059</td>\n",
       "      <td>0.008865</td>\n",
       "      <td>0.000024</td>\n",
       "      <td>0.004089</td>\n",
       "      <td>0.000036</td>\n",
       "      <td>0.000007</td>\n",
       "      <td>0.001415</td>\n",
       "      <td>0.000012</td>\n",
       "      <td>0.000016</td>\n",
       "      <td>0.000020</td>\n",
       "      <td>0.000023</td>\n",
       "      <td>0.000011</td>\n",
       "      <td>0.000008</td>\n",
       "      <td>0.000639</td>\n",
       "      <td>0.000012</td>\n",
       "      <td>0.000024</td>\n",
       "      <td>0.000041</td>\n",
       "      <td>0.000032</td>\n",
       "      <td>0.000014</td>\n",
       "      <td>0.000013</td>\n",
       "      <td>0.000020</td>\n",
       "      <td>0.000029</td>\n",
       "      <td>0.000019</td>\n",
       "      <td>0.00001</td>\n",
       "      <td>0.000019</td>\n",
       "      <td>0.000027</td>\n",
       "      <td>0.000018</td>\n",
       "      <td>0.000020</td>\n",
       "      <td>0.000021</td>\n",
       "      <td>0.000021</td>\n",
       "      <td>0.000045</td>\n",
       "      <td>0.000030</td>\n",
       "      <td>0.024305</td>\n",
       "      <td>0.001711</td>\n",
       "      <td>0.010791</td>\n",
       "      <td>0.010729</td>\n",
       "      <td>0.001960</td>\n",
       "      <td>0.061695</td>\n",
       "      <td>0.000141</td>\n",
       "      <td>0.255056</td>\n",
       "      <td>2.812208</td>\n",
       "      <td>0.000141</td>\n",
       "      <td>5.881533</td>\n",
       "      <td>3.069325</td>\n",
       "    </tr>\n",
       "    <tr>\n",
       "      <th>2.900000e+01</th>\n",
       "      <td>0.053518</td>\n",
       "      <td>0.037741</td>\n",
       "      <td>2.280800</td>\n",
       "      <td>0.176420</td>\n",
       "      <td>0.088789</td>\n",
       "      <td>0.038800</td>\n",
       "      <td>0.008731</td>\n",
       "      <td>0.000024</td>\n",
       "      <td>0.004018</td>\n",
       "      <td>0.000035</td>\n",
       "      <td>0.000007</td>\n",
       "      <td>0.001381</td>\n",
       "      <td>0.000012</td>\n",
       "      <td>0.000016</td>\n",
       "      <td>0.000019</td>\n",
       "      <td>0.000023</td>\n",
       "      <td>0.000011</td>\n",
       "      <td>0.000007</td>\n",
       "      <td>0.000620</td>\n",
       "      <td>0.000012</td>\n",
       "      <td>0.000024</td>\n",
       "      <td>0.000040</td>\n",
       "      <td>0.000031</td>\n",
       "      <td>0.000014</td>\n",
       "      <td>0.000012</td>\n",
       "      <td>0.000020</td>\n",
       "      <td>0.000028</td>\n",
       "      <td>0.000019</td>\n",
       "      <td>0.00001</td>\n",
       "      <td>0.000019</td>\n",
       "      <td>0.000027</td>\n",
       "      <td>0.000018</td>\n",
       "      <td>0.000020</td>\n",
       "      <td>0.000021</td>\n",
       "      <td>0.000020</td>\n",
       "      <td>0.000043</td>\n",
       "      <td>0.000028</td>\n",
       "      <td>0.024077</td>\n",
       "      <td>0.001686</td>\n",
       "      <td>0.010690</td>\n",
       "      <td>0.010632</td>\n",
       "      <td>0.001942</td>\n",
       "      <td>0.061031</td>\n",
       "      <td>0.000130</td>\n",
       "      <td>0.252959</td>\n",
       "      <td>2.801567</td>\n",
       "      <td>0.000130</td>\n",
       "      <td>5.834610</td>\n",
       "      <td>3.033042</td>\n",
       "    </tr>\n",
       "    <tr>\n",
       "      <th>2.950000e+01</th>\n",
       "      <td>0.052122</td>\n",
       "      <td>0.034419</td>\n",
       "      <td>2.214292</td>\n",
       "      <td>0.188032</td>\n",
       "      <td>0.088386</td>\n",
       "      <td>0.038567</td>\n",
       "      <td>0.008612</td>\n",
       "      <td>0.000024</td>\n",
       "      <td>0.003952</td>\n",
       "      <td>0.000035</td>\n",
       "      <td>0.000007</td>\n",
       "      <td>0.001346</td>\n",
       "      <td>0.000012</td>\n",
       "      <td>0.000016</td>\n",
       "      <td>0.000019</td>\n",
       "      <td>0.000023</td>\n",
       "      <td>0.000011</td>\n",
       "      <td>0.000007</td>\n",
       "      <td>0.000600</td>\n",
       "      <td>0.000012</td>\n",
       "      <td>0.000023</td>\n",
       "      <td>0.000040</td>\n",
       "      <td>0.000031</td>\n",
       "      <td>0.000014</td>\n",
       "      <td>0.000012</td>\n",
       "      <td>0.000020</td>\n",
       "      <td>0.000028</td>\n",
       "      <td>0.000018</td>\n",
       "      <td>0.00001</td>\n",
       "      <td>0.000019</td>\n",
       "      <td>0.000027</td>\n",
       "      <td>0.000018</td>\n",
       "      <td>0.000020</td>\n",
       "      <td>0.000021</td>\n",
       "      <td>0.000020</td>\n",
       "      <td>0.000040</td>\n",
       "      <td>0.000026</td>\n",
       "      <td>0.023833</td>\n",
       "      <td>0.001660</td>\n",
       "      <td>0.010582</td>\n",
       "      <td>0.010529</td>\n",
       "      <td>0.001924</td>\n",
       "      <td>0.060303</td>\n",
       "      <td>0.000119</td>\n",
       "      <td>0.250845</td>\n",
       "      <td>2.739829</td>\n",
       "      <td>0.000119</td>\n",
       "      <td>5.788014</td>\n",
       "      <td>3.048185</td>\n",
       "    </tr>\n",
       "    <tr>\n",
       "      <th>3.000000e+01</th>\n",
       "      <td>0.050909</td>\n",
       "      <td>0.031594</td>\n",
       "      <td>2.210290</td>\n",
       "      <td>0.198460</td>\n",
       "      <td>0.088024</td>\n",
       "      <td>0.038365</td>\n",
       "      <td>0.008510</td>\n",
       "      <td>0.000023</td>\n",
       "      <td>0.003893</td>\n",
       "      <td>0.000034</td>\n",
       "      <td>0.000007</td>\n",
       "      <td>0.001312</td>\n",
       "      <td>0.000012</td>\n",
       "      <td>0.000016</td>\n",
       "      <td>0.000019</td>\n",
       "      <td>0.000022</td>\n",
       "      <td>0.000010</td>\n",
       "      <td>0.000007</td>\n",
       "      <td>0.000582</td>\n",
       "      <td>0.000012</td>\n",
       "      <td>0.000023</td>\n",
       "      <td>0.000039</td>\n",
       "      <td>0.000030</td>\n",
       "      <td>0.000013</td>\n",
       "      <td>0.000012</td>\n",
       "      <td>0.000019</td>\n",
       "      <td>0.000027</td>\n",
       "      <td>0.000018</td>\n",
       "      <td>0.00001</td>\n",
       "      <td>0.000018</td>\n",
       "      <td>0.000026</td>\n",
       "      <td>0.000017</td>\n",
       "      <td>0.000020</td>\n",
       "      <td>0.000020</td>\n",
       "      <td>0.000019</td>\n",
       "      <td>0.000036</td>\n",
       "      <td>0.000023</td>\n",
       "      <td>0.023569</td>\n",
       "      <td>0.001632</td>\n",
       "      <td>0.010465</td>\n",
       "      <td>0.010419</td>\n",
       "      <td>0.001904</td>\n",
       "      <td>0.059545</td>\n",
       "      <td>0.000109</td>\n",
       "      <td>0.248755</td>\n",
       "      <td>2.740118</td>\n",
       "      <td>0.000109</td>\n",
       "      <td>5.741329</td>\n",
       "      <td>3.001211</td>\n",
       "    </tr>\n",
       "  </tbody>\n",
       "</table>\n",
       "<p>8742 rows × 49 columns</p>\n",
       "</div>"
      ],
      "text/plain": [
       "               Data_16   Data_17       Data_18   Data_37   Data_51   Data_52  \\\n",
       "Energy                                                                         \n",
       "1.000000e-11  0.000000  0.000000  26877.520000  0.000000  0.000000  0.000000   \n",
       "1.125000e-11  0.000000  0.000000  25340.360000  0.000000  0.000000  0.000000   \n",
       "1.250000e-11  0.000000  0.000000  24039.970000  0.000000  0.000000  0.000000   \n",
       "1.375000e-11  0.000000  0.000000  22921.210000  0.000000  0.000000  0.000000   \n",
       "1.500000e-11  0.000000  0.000000  21945.390000  0.000000  0.000000  0.000000   \n",
       "...                ...       ...           ...       ...       ...       ...   \n",
       "2.800000e+01  0.056734  0.045851      2.296800  0.149627  0.089681  0.039340   \n",
       "2.850000e+01  0.055079  0.041571      2.296800  0.163561  0.089224  0.039059   \n",
       "2.900000e+01  0.053518  0.037741      2.280800  0.176420  0.088789  0.038800   \n",
       "2.950000e+01  0.052122  0.034419      2.214292  0.188032  0.088386  0.038567   \n",
       "3.000000e+01  0.050909  0.031594      2.210290  0.198460  0.088024  0.038365   \n",
       "\n",
       "               Data_53   Data_54   Data_55   Data_56   Data_57   Data_58  \\\n",
       "Energy                                                                     \n",
       "1.000000e-11  0.000000  0.000000  0.000000  0.000000  0.000000  0.000000   \n",
       "1.125000e-11  0.000000  0.000000  0.000000  0.000000  0.000000  0.000000   \n",
       "1.250000e-11  0.000000  0.000000  0.000000  0.000000  0.000000  0.000000   \n",
       "1.375000e-11  0.000000  0.000000  0.000000  0.000000  0.000000  0.000000   \n",
       "1.500000e-11  0.000000  0.000000  0.000000  0.000000  0.000000  0.000000   \n",
       "...                ...       ...       ...       ...       ...       ...   \n",
       "2.800000e+01  0.009014  0.000025  0.004165  0.000036  0.000007  0.001449   \n",
       "2.850000e+01  0.008865  0.000024  0.004089  0.000036  0.000007  0.001415   \n",
       "2.900000e+01  0.008731  0.000024  0.004018  0.000035  0.000007  0.001381   \n",
       "2.950000e+01  0.008612  0.000024  0.003952  0.000035  0.000007  0.001346   \n",
       "3.000000e+01  0.008510  0.000023  0.003893  0.000034  0.000007  0.001312   \n",
       "\n",
       "               Data_59   Data_60   Data_61   Data_62   Data_63   Data_64  \\\n",
       "Energy                                                                     \n",
       "1.000000e-11  0.000000  0.000000  0.000000  0.000000  0.000000  0.000000   \n",
       "1.125000e-11  0.000000  0.000000  0.000000  0.000000  0.000000  0.000000   \n",
       "1.250000e-11  0.000000  0.000000  0.000000  0.000000  0.000000  0.000000   \n",
       "1.375000e-11  0.000000  0.000000  0.000000  0.000000  0.000000  0.000000   \n",
       "1.500000e-11  0.000000  0.000000  0.000000  0.000000  0.000000  0.000000   \n",
       "...                ...       ...       ...       ...       ...       ...   \n",
       "2.800000e+01  0.000013  0.000016  0.000020  0.000024  0.000011  0.000008   \n",
       "2.850000e+01  0.000012  0.000016  0.000020  0.000023  0.000011  0.000008   \n",
       "2.900000e+01  0.000012  0.000016  0.000019  0.000023  0.000011  0.000007   \n",
       "2.950000e+01  0.000012  0.000016  0.000019  0.000023  0.000011  0.000007   \n",
       "3.000000e+01  0.000012  0.000016  0.000019  0.000022  0.000010  0.000007   \n",
       "\n",
       "               Data_65   Data_66   Data_67   Data_68   Data_69   Data_70  \\\n",
       "Energy                                                                     \n",
       "1.000000e-11  0.000000  0.000000  0.000000  0.000000  0.000000  0.000000   \n",
       "1.125000e-11  0.000000  0.000000  0.000000  0.000000  0.000000  0.000000   \n",
       "1.250000e-11  0.000000  0.000000  0.000000  0.000000  0.000000  0.000000   \n",
       "1.375000e-11  0.000000  0.000000  0.000000  0.000000  0.000000  0.000000   \n",
       "1.500000e-11  0.000000  0.000000  0.000000  0.000000  0.000000  0.000000   \n",
       "...                ...       ...       ...       ...       ...       ...   \n",
       "2.800000e+01  0.000659  0.000012  0.000024  0.000041  0.000032  0.000014   \n",
       "2.850000e+01  0.000639  0.000012  0.000024  0.000041  0.000032  0.000014   \n",
       "2.900000e+01  0.000620  0.000012  0.000024  0.000040  0.000031  0.000014   \n",
       "2.950000e+01  0.000600  0.000012  0.000023  0.000040  0.000031  0.000014   \n",
       "3.000000e+01  0.000582  0.000012  0.000023  0.000039  0.000030  0.000013   \n",
       "\n",
       "               Data_71   Data_72   Data_73   Data_74  Data_75   Data_76  \\\n",
       "Energy                                                                    \n",
       "1.000000e-11  0.000000  0.000000  0.000000  0.000000  0.00000  0.000000   \n",
       "1.125000e-11  0.000000  0.000000  0.000000  0.000000  0.00000  0.000000   \n",
       "1.250000e-11  0.000000  0.000000  0.000000  0.000000  0.00000  0.000000   \n",
       "1.375000e-11  0.000000  0.000000  0.000000  0.000000  0.00000  0.000000   \n",
       "1.500000e-11  0.000000  0.000000  0.000000  0.000000  0.00000  0.000000   \n",
       "...                ...       ...       ...       ...      ...       ...   \n",
       "2.800000e+01  0.000013  0.000021  0.000029  0.000019  0.00001  0.000020   \n",
       "2.850000e+01  0.000013  0.000020  0.000029  0.000019  0.00001  0.000019   \n",
       "2.900000e+01  0.000012  0.000020  0.000028  0.000019  0.00001  0.000019   \n",
       "2.950000e+01  0.000012  0.000020  0.000028  0.000018  0.00001  0.000019   \n",
       "3.000000e+01  0.000012  0.000019  0.000027  0.000018  0.00001  0.000018   \n",
       "\n",
       "               Data_77   Data_78   Data_79   Data_80   Data_81   Data_82  \\\n",
       "Energy                                                                     \n",
       "1.000000e-11  0.000000  0.000000  0.000000  0.000000  0.000000  0.000000   \n",
       "1.125000e-11  0.000000  0.000000  0.000000  0.000000  0.000000  0.000000   \n",
       "1.250000e-11  0.000000  0.000000  0.000000  0.000000  0.000000  0.000000   \n",
       "1.375000e-11  0.000000  0.000000  0.000000  0.000000  0.000000  0.000000   \n",
       "1.500000e-11  0.000000  0.000000  0.000000  0.000000  0.000000  0.000000   \n",
       "...                ...       ...       ...       ...       ...       ...   \n",
       "2.800000e+01  0.000028  0.000018  0.000021  0.000022  0.000021  0.000046   \n",
       "2.850000e+01  0.000027  0.000018  0.000020  0.000021  0.000021  0.000045   \n",
       "2.900000e+01  0.000027  0.000018  0.000020  0.000021  0.000020  0.000043   \n",
       "2.950000e+01  0.000027  0.000018  0.000020  0.000021  0.000020  0.000040   \n",
       "3.000000e+01  0.000026  0.000017  0.000020  0.000020  0.000019  0.000036   \n",
       "\n",
       "               Data_83   Data_84   Data_85   Data_86   Data_87   Data_88  \\\n",
       "Energy                                                                     \n",
       "1.000000e-11  0.000000  0.000000  0.000000  0.000000  0.000000  0.000000   \n",
       "1.125000e-11  0.000000  0.000000  0.000000  0.000000  0.000000  0.000000   \n",
       "1.250000e-11  0.000000  0.000000  0.000000  0.000000  0.000000  0.000000   \n",
       "1.375000e-11  0.000000  0.000000  0.000000  0.000000  0.000000  0.000000   \n",
       "1.500000e-11  0.000000  0.000000  0.000000  0.000000  0.000000  0.000000   \n",
       "...                ...       ...       ...       ...       ...       ...   \n",
       "2.800000e+01  0.000031  0.024502  0.001733  0.010878  0.010814  0.001975   \n",
       "2.850000e+01  0.000030  0.024305  0.001711  0.010791  0.010729  0.001960   \n",
       "2.900000e+01  0.000028  0.024077  0.001686  0.010690  0.010632  0.001942   \n",
       "2.950000e+01  0.000026  0.023833  0.001660  0.010582  0.010529  0.001924   \n",
       "3.000000e+01  0.000023  0.023569  0.001632  0.010465  0.010419  0.001904   \n",
       "\n",
       "               Data_91     Data_102    Data_4        Data_3     Data_101  \\\n",
       "Energy                                                                     \n",
       "1.000000e-11  0.000000  2232.315000  0.000000  29109.835000  2232.315000   \n",
       "1.125000e-11  0.000000  2104.648000  0.000000  27445.008000  2104.648000   \n",
       "1.250000e-11  0.000000  1996.647000  0.000000  26036.617000  1996.647000   \n",
       "1.375000e-11  0.000000  1903.729000  0.000000  24824.939000  1903.729000   \n",
       "1.500000e-11  0.000000  1822.684000  0.000000  23768.074000  1822.684000   \n",
       "...                ...          ...       ...           ...          ...   \n",
       "2.800000e+01  0.062356     0.000155  0.257150      2.806318     0.000155   \n",
       "2.850000e+01  0.061695     0.000141  0.255056      2.812208     0.000141   \n",
       "2.900000e+01  0.061031     0.000130  0.252959      2.801567     0.000130   \n",
       "2.950000e+01  0.060303     0.000119  0.250845      2.739829     0.000119   \n",
       "3.000000e+01  0.059545     0.000109  0.248755      2.740118     0.000109   \n",
       "\n",
       "                    Data_1     Data_2  \n",
       "Energy                                 \n",
       "1.000000e-11  29157.207400  47.372400  \n",
       "1.125000e-11  27489.828900  44.820900  \n",
       "1.250000e-11  26079.287200  42.670200  \n",
       "1.375000e-11  24865.765600  40.826600  \n",
       "1.500000e-11  23807.298300  39.224300  \n",
       "...                    ...        ...  \n",
       "2.800000e+01      5.928545   3.122227  \n",
       "2.850000e+01      5.881533   3.069325  \n",
       "2.900000e+01      5.834610   3.033042  \n",
       "2.950000e+01      5.788014   3.048185  \n",
       "3.000000e+01      5.741329   3.001211  \n",
       "\n",
       "[8742 rows x 49 columns]"
      ]
     },
     "execution_count": 735,
     "metadata": {},
     "output_type": "execute_result"
    }
   ],
   "source": [
    "Energy_Grid"
   ]
  },
  {
   "cell_type": "code",
   "execution_count": 733,
   "metadata": {},
   "outputs": [
    {
     "data": {
      "text/plain": [
       "Text(0.04, 0.5, 'Cross Section (mb)')"
      ]
     },
     "execution_count": 733,
     "metadata": {},
     "output_type": "execute_result"
    }
   ],
   "source": [
    "fig, axs = plt.subplots(2, 3, figsize=(15,10))\n",
    "# fig.suptitle('ENDF vs ML Cross Sections for U-233')\n",
    "\n",
    "axs[0, 0].loglog(energies, Energy_Grid.Data_18, linestyle=\"dotted\", linewidth=5, label=\"ML\")\n",
    "axs[0, 0].loglog(energies, sig_18, linestyle=\"dashed\", linewidth=2, label=\"ENDF\")\n",
    "axs[0, 0].set_title(\"MT 18\")\n",
    "axs[0, 0].legend()\n",
    "\n",
    "axs[0, 1].loglog(energies, Energy_Grid.Data_1, linestyle=\"dotted\", linewidth=5, label=\"ML\")\n",
    "axs[0, 1].loglog(energies, mt1, linestyle=\"dashed\", linewidth=2, label=\"ENDF\")\n",
    "axs[0, 1].set_title(\"MT 1\")\n",
    "axs[0, 1].legend()\n",
    "\n",
    "axs[0, 2].loglog(energies, Energy_Grid.Data_102, linestyle=\"dotted\", linewidth=5, label=\"ML\")\n",
    "axs[0, 2].loglog(energies, sig_102, linestyle=\"dashed\", linewidth=2, label=\"ENDF\")\n",
    "axs[0, 2].set_title(\"MT 102\")\n",
    "axs[0, 2].legend()\n",
    "\n",
    "axs[1, 0].loglog(energies, Energy_Grid.Data_101, linestyle=\"dotted\", linewidth=5, label=\"ML\")\n",
    "axs[1, 0].loglog(energies, mt101, linestyle=\"dashed\", linewidth=2, label=\"ENDF\")\n",
    "axs[1, 0].set_title(\"MT 101\")\n",
    "axs[1, 0].legend()\n",
    "\n",
    "axs[1, 1].loglog(energies, Energy_Grid.Data_2, linestyle=\"dotted\", linewidth=5, label=\"ML\")\n",
    "axs[1, 1].loglog(energies, mt2, linestyle=\"dashed\", linewidth=2, label=\"ENDF\")\n",
    "axs[1, 1].set_title(\"MT 2\")\n",
    "axs[1, 1].legend()\n",
    "\n",
    "axs[1, 2].loglog(energies, Energy_Grid.Data_3, linestyle=\"dotted\", linewidth=5, label=\"ML\")\n",
    "axs[1, 2].loglog(energies, mt3, linestyle=\"dashed\", linewidth=2, label=\"ENDF\")\n",
    "axs[1, 2].set_title(\"MT 3\")\n",
    "axs[1, 2].legend()\n",
    "\n",
    "\n",
    "# axs[0, 0].annotate('A', xy=get_axis_limits(axs[0, 0]))\n",
    "# axs[0, 1].annotate('B', xy=get_axis_limits(axs[0, 1]))\n",
    "# axs[0, 2].annotate('C', xy=get_axis_limits(axs[0, 2]))\n",
    "# axs[1, 0].annotate('D', xy=get_axis_limits(axs[1, 0]))\n",
    "# axs[1, 1].annotate('E', xy=get_axis_limits(axs[1, 1]))\n",
    "# axs[1, 2].annotate('F', xy=get_axis_limits(axs[1, 2]))\n",
    "                   \n",
    "# axs[0, 0].annotate('A')\n",
    "# axs[0, 1].annotate('B')\n",
    "# axs[0, 2].annotate('C')\n",
    "# axs[1, 0].annotate('D')\n",
    "# axs[1, 1].annotate('E')\n",
    "# axs[1, 2].annotate('F')\n",
    "\n",
    "\n",
    "fig.text(0.5, 0.04, 'Energy (MeV)', ha='center')\n",
    "fig.text(0.04, 0.5, 'Cross Section (mb)', va='center', rotation='vertical')\n",
    "\n",
    "\n",
    "# for ax in axs.flat:\n",
    "#     ax.set(xlabel='Energy (MeV)', ylabel='Cross Section (mb)')"
   ]
  },
  {
   "cell_type": "code",
   "execution_count": 672,
   "metadata": {},
   "outputs": [
    {
     "data": {
      "text/plain": [
       "<matplotlib.legend.Legend at 0x14f0d723c08>"
      ]
     },
     "execution_count": 672,
     "metadata": {},
     "output_type": "execute_result"
    },
    {
     "data": {
      "image/png": "[encoded data removed]",
      "text/plain": [
       "<Figure size 1008x720 with 1 Axes>"
      ]
     },
     "metadata": {
      "needs_background": "light"
     },
     "output_type": "display_data"
    }
   ],
   "source": [
    "plt.figure(figsize=(14,10))\n",
    "plt.loglog(energies, Energy_Grid.Data_3, linestyle=\"dotted\", linewidth=5, label=\"ML\")\n",
    "plt.loglog(energies, mt3, linestyle=\"dashed\", linewidth=2, label=\"ENDF\")\n",
    "plt.legend()"
   ]
  },
  {
   "cell_type": "code",
   "execution_count": 615,
   "metadata": {},
   "outputs": [
    {
     "data": {
      "text/html": [
       "<div>\n",
       "<style scoped>\n",
       "    .dataframe tbody tr th:only-of-type {\n",
       "        vertical-align: middle;\n",
       "    }\n",
       "\n",
       "    .dataframe tbody tr th {\n",
       "        vertical-align: top;\n",
       "    }\n",
       "\n",
       "    .dataframe thead th {\n",
       "        text-align: right;\n",
       "    }\n",
       "</style>\n",
       "<table border=\"1\" class=\"dataframe\">\n",
       "  <thead>\n",
       "    <tr style=\"text-align: right;\">\n",
       "      <th></th>\n",
       "      <th>Data_16</th>\n",
       "      <th>Data_17</th>\n",
       "      <th>Data_18</th>\n",
       "      <th>Data_37</th>\n",
       "      <th>Data_51</th>\n",
       "      <th>Data_52</th>\n",
       "      <th>Data_53</th>\n",
       "      <th>Data_54</th>\n",
       "      <th>Data_55</th>\n",
       "      <th>Data_56</th>\n",
       "      <th>Data_57</th>\n",
       "      <th>Data_58</th>\n",
       "      <th>Data_59</th>\n",
       "      <th>Data_60</th>\n",
       "      <th>Data_61</th>\n",
       "      <th>Data_62</th>\n",
       "      <th>Data_63</th>\n",
       "      <th>Data_64</th>\n",
       "      <th>Data_65</th>\n",
       "      <th>Data_66</th>\n",
       "      <th>Data_67</th>\n",
       "      <th>Data_68</th>\n",
       "      <th>Data_69</th>\n",
       "      <th>Data_70</th>\n",
       "      <th>Data_71</th>\n",
       "      <th>Data_72</th>\n",
       "      <th>Data_73</th>\n",
       "      <th>Data_74</th>\n",
       "      <th>Data_75</th>\n",
       "      <th>Data_76</th>\n",
       "      <th>Data_77</th>\n",
       "      <th>Data_78</th>\n",
       "      <th>Data_79</th>\n",
       "      <th>Data_80</th>\n",
       "      <th>Data_81</th>\n",
       "      <th>Data_82</th>\n",
       "      <th>Data_83</th>\n",
       "      <th>Data_84</th>\n",
       "      <th>Data_85</th>\n",
       "      <th>Data_86</th>\n",
       "      <th>Data_87</th>\n",
       "      <th>Data_88</th>\n",
       "      <th>Data_91</th>\n",
       "      <th>Data_102</th>\n",
       "      <th>Data_4</th>\n",
       "      <th>Data_3</th>\n",
       "      <th>Data_101</th>\n",
       "      <th>Data_1</th>\n",
       "      <th>Data_2</th>\n",
       "    </tr>\n",
       "    <tr>\n",
       "      <th>Energy</th>\n",
       "      <th></th>\n",
       "      <th></th>\n",
       "      <th></th>\n",
       "      <th></th>\n",
       "      <th></th>\n",
       "      <th></th>\n",
       "      <th></th>\n",
       "      <th></th>\n",
       "      <th></th>\n",
       "      <th></th>\n",
       "      <th></th>\n",
       "      <th></th>\n",
       "      <th></th>\n",
       "      <th></th>\n",
       "      <th></th>\n",
       "      <th></th>\n",
       "      <th></th>\n",
       "      <th></th>\n",
       "      <th></th>\n",
       "      <th></th>\n",
       "      <th></th>\n",
       "      <th></th>\n",
       "      <th></th>\n",
       "      <th></th>\n",
       "      <th></th>\n",
       "      <th></th>\n",
       "      <th></th>\n",
       "      <th></th>\n",
       "      <th></th>\n",
       "      <th></th>\n",
       "      <th></th>\n",
       "      <th></th>\n",
       "      <th></th>\n",
       "      <th></th>\n",
       "      <th></th>\n",
       "      <th></th>\n",
       "      <th></th>\n",
       "      <th></th>\n",
       "      <th></th>\n",
       "      <th></th>\n",
       "      <th></th>\n",
       "      <th></th>\n",
       "      <th></th>\n",
       "      <th></th>\n",
       "      <th></th>\n",
       "      <th></th>\n",
       "      <th></th>\n",
       "      <th></th>\n",
       "      <th></th>\n",
       "    </tr>\n",
       "  </thead>\n",
       "  <tbody>\n",
       "    <tr>\n",
       "      <th>1.000000e-11</th>\n",
       "      <td>0.000000</td>\n",
       "      <td>0.000000</td>\n",
       "      <td>26877.520000</td>\n",
       "      <td>0.000000</td>\n",
       "      <td>0.000000</td>\n",
       "      <td>0.000000</td>\n",
       "      <td>0.000000</td>\n",
       "      <td>0.000000</td>\n",
       "      <td>0.000000</td>\n",
       "      <td>0.000000</td>\n",
       "      <td>0.000000</td>\n",
       "      <td>0.000000</td>\n",
       "      <td>0.000000</td>\n",
       "      <td>0.000000</td>\n",
       "      <td>0.000000</td>\n",
       "      <td>0.000000</td>\n",
       "      <td>0.000000</td>\n",
       "      <td>0.000000</td>\n",
       "      <td>0.000000</td>\n",
       "      <td>0.000000</td>\n",
       "      <td>0.000000</td>\n",
       "      <td>0.000000</td>\n",
       "      <td>0.000000</td>\n",
       "      <td>0.000000</td>\n",
       "      <td>0.000000</td>\n",
       "      <td>0.000000</td>\n",
       "      <td>0.000000</td>\n",
       "      <td>0.000000</td>\n",
       "      <td>0.00000</td>\n",
       "      <td>0.000000</td>\n",
       "      <td>0.000000</td>\n",
       "      <td>0.000000</td>\n",
       "      <td>0.000000</td>\n",
       "      <td>0.000000</td>\n",
       "      <td>0.000000</td>\n",
       "      <td>0.000000</td>\n",
       "      <td>0.000000</td>\n",
       "      <td>0.000000</td>\n",
       "      <td>0.000000</td>\n",
       "      <td>0.000000</td>\n",
       "      <td>0.000000</td>\n",
       "      <td>0.000000</td>\n",
       "      <td>0.000000</td>\n",
       "      <td>2232.315000</td>\n",
       "      <td>0.000000</td>\n",
       "      <td>29109.835000</td>\n",
       "      <td>2232.315000</td>\n",
       "      <td>29157.207400</td>\n",
       "      <td>47.372400</td>\n",
       "    </tr>\n",
       "    <tr>\n",
       "      <th>1.125000e-11</th>\n",
       "      <td>0.000000</td>\n",
       "      <td>0.000000</td>\n",
       "      <td>25340.360000</td>\n",
       "      <td>0.000000</td>\n",
       "      <td>0.000000</td>\n",
       "      <td>0.000000</td>\n",
       "      <td>0.000000</td>\n",
       "      <td>0.000000</td>\n",
       "      <td>0.000000</td>\n",
       "      <td>0.000000</td>\n",
       "      <td>0.000000</td>\n",
       "      <td>0.000000</td>\n",
       "      <td>0.000000</td>\n",
       "      <td>0.000000</td>\n",
       "      <td>0.000000</td>\n",
       "      <td>0.000000</td>\n",
       "      <td>0.000000</td>\n",
       "      <td>0.000000</td>\n",
       "      <td>0.000000</td>\n",
       "      <td>0.000000</td>\n",
       "      <td>0.000000</td>\n",
       "      <td>0.000000</td>\n",
       "      <td>0.000000</td>\n",
       "      <td>0.000000</td>\n",
       "      <td>0.000000</td>\n",
       "      <td>0.000000</td>\n",
       "      <td>0.000000</td>\n",
       "      <td>0.000000</td>\n",
       "      <td>0.00000</td>\n",
       "      <td>0.000000</td>\n",
       "      <td>0.000000</td>\n",
       "      <td>0.000000</td>\n",
       "      <td>0.000000</td>\n",
       "      <td>0.000000</td>\n",
       "      <td>0.000000</td>\n",
       "      <td>0.000000</td>\n",
       "      <td>0.000000</td>\n",
       "      <td>0.000000</td>\n",
       "      <td>0.000000</td>\n",
       "      <td>0.000000</td>\n",
       "      <td>0.000000</td>\n",
       "      <td>0.000000</td>\n",
       "      <td>0.000000</td>\n",
       "      <td>2104.648000</td>\n",
       "      <td>0.000000</td>\n",
       "      <td>27445.008000</td>\n",
       "      <td>2104.648000</td>\n",
       "      <td>27489.828900</td>\n",
       "      <td>44.820900</td>\n",
       "    </tr>\n",
       "    <tr>\n",
       "      <th>1.250000e-11</th>\n",
       "      <td>0.000000</td>\n",
       "      <td>0.000000</td>\n",
       "      <td>24039.970000</td>\n",
       "      <td>0.000000</td>\n",
       "      <td>0.000000</td>\n",
       "      <td>0.000000</td>\n",
       "      <td>0.000000</td>\n",
       "      <td>0.000000</td>\n",
       "      <td>0.000000</td>\n",
       "      <td>0.000000</td>\n",
       "      <td>0.000000</td>\n",
       "      <td>0.000000</td>\n",
       "      <td>0.000000</td>\n",
       "      <td>0.000000</td>\n",
       "      <td>0.000000</td>\n",
       "      <td>0.000000</td>\n",
       "      <td>0.000000</td>\n",
       "      <td>0.000000</td>\n",
       "      <td>0.000000</td>\n",
       "      <td>0.000000</td>\n",
       "      <td>0.000000</td>\n",
       "      <td>0.000000</td>\n",
       "      <td>0.000000</td>\n",
       "      <td>0.000000</td>\n",
       "      <td>0.000000</td>\n",
       "      <td>0.000000</td>\n",
       "      <td>0.000000</td>\n",
       "      <td>0.000000</td>\n",
       "      <td>0.00000</td>\n",
       "      <td>0.000000</td>\n",
       "      <td>0.000000</td>\n",
       "      <td>0.000000</td>\n",
       "      <td>0.000000</td>\n",
       "      <td>0.000000</td>\n",
       "      <td>0.000000</td>\n",
       "      <td>0.000000</td>\n",
       "      <td>0.000000</td>\n",
       "      <td>0.000000</td>\n",
       "      <td>0.000000</td>\n",
       "      <td>0.000000</td>\n",
       "      <td>0.000000</td>\n",
       "      <td>0.000000</td>\n",
       "      <td>0.000000</td>\n",
       "      <td>1996.647000</td>\n",
       "      <td>0.000000</td>\n",
       "      <td>26036.617000</td>\n",
       "      <td>1996.647000</td>\n",
       "      <td>26079.287200</td>\n",
       "      <td>42.670200</td>\n",
       "    </tr>\n",
       "    <tr>\n",
       "      <th>1.375000e-11</th>\n",
       "      <td>0.000000</td>\n",
       "      <td>0.000000</td>\n",
       "      <td>22921.210000</td>\n",
       "      <td>0.000000</td>\n",
       "      <td>0.000000</td>\n",
       "      <td>0.000000</td>\n",
       "      <td>0.000000</td>\n",
       "      <td>0.000000</td>\n",
       "      <td>0.000000</td>\n",
       "      <td>0.000000</td>\n",
       "      <td>0.000000</td>\n",
       "      <td>0.000000</td>\n",
       "      <td>0.000000</td>\n",
       "      <td>0.000000</td>\n",
       "      <td>0.000000</td>\n",
       "      <td>0.000000</td>\n",
       "      <td>0.000000</td>\n",
       "      <td>0.000000</td>\n",
       "      <td>0.000000</td>\n",
       "      <td>0.000000</td>\n",
       "      <td>0.000000</td>\n",
       "      <td>0.000000</td>\n",
       "      <td>0.000000</td>\n",
       "      <td>0.000000</td>\n",
       "      <td>0.000000</td>\n",
       "      <td>0.000000</td>\n",
       "      <td>0.000000</td>\n",
       "      <td>0.000000</td>\n",
       "      <td>0.00000</td>\n",
       "      <td>0.000000</td>\n",
       "      <td>0.000000</td>\n",
       "      <td>0.000000</td>\n",
       "      <td>0.000000</td>\n",
       "      <td>0.000000</td>\n",
       "      <td>0.000000</td>\n",
       "      <td>0.000000</td>\n",
       "      <td>0.000000</td>\n",
       "      <td>0.000000</td>\n",
       "      <td>0.000000</td>\n",
       "      <td>0.000000</td>\n",
       "      <td>0.000000</td>\n",
       "      <td>0.000000</td>\n",
       "      <td>0.000000</td>\n",
       "      <td>1903.729000</td>\n",
       "      <td>0.000000</td>\n",
       "      <td>24824.939000</td>\n",
       "      <td>1903.729000</td>\n",
       "      <td>24865.765600</td>\n",
       "      <td>40.826600</td>\n",
       "    </tr>\n",
       "    <tr>\n",
       "      <th>1.500000e-11</th>\n",
       "      <td>0.000000</td>\n",
       "      <td>0.000000</td>\n",
       "      <td>21945.390000</td>\n",
       "      <td>0.000000</td>\n",
       "      <td>0.000000</td>\n",
       "      <td>0.000000</td>\n",
       "      <td>0.000000</td>\n",
       "      <td>0.000000</td>\n",
       "      <td>0.000000</td>\n",
       "      <td>0.000000</td>\n",
       "      <td>0.000000</td>\n",
       "      <td>0.000000</td>\n",
       "      <td>0.000000</td>\n",
       "      <td>0.000000</td>\n",
       "      <td>0.000000</td>\n",
       "      <td>0.000000</td>\n",
       "      <td>0.000000</td>\n",
       "      <td>0.000000</td>\n",
       "      <td>0.000000</td>\n",
       "      <td>0.000000</td>\n",
       "      <td>0.000000</td>\n",
       "      <td>0.000000</td>\n",
       "      <td>0.000000</td>\n",
       "      <td>0.000000</td>\n",
       "      <td>0.000000</td>\n",
       "      <td>0.000000</td>\n",
       "      <td>0.000000</td>\n",
       "      <td>0.000000</td>\n",
       "      <td>0.00000</td>\n",
       "      <td>0.000000</td>\n",
       "      <td>0.000000</td>\n",
       "      <td>0.000000</td>\n",
       "      <td>0.000000</td>\n",
       "      <td>0.000000</td>\n",
       "      <td>0.000000</td>\n",
       "      <td>0.000000</td>\n",
       "      <td>0.000000</td>\n",
       "      <td>0.000000</td>\n",
       "      <td>0.000000</td>\n",
       "      <td>0.000000</td>\n",
       "      <td>0.000000</td>\n",
       "      <td>0.000000</td>\n",
       "      <td>0.000000</td>\n",
       "      <td>1822.684000</td>\n",
       "      <td>0.000000</td>\n",
       "      <td>23768.074000</td>\n",
       "      <td>1822.684000</td>\n",
       "      <td>23807.298300</td>\n",
       "      <td>39.224300</td>\n",
       "    </tr>\n",
       "    <tr>\n",
       "      <th>...</th>\n",
       "      <td>...</td>\n",
       "      <td>...</td>\n",
       "      <td>...</td>\n",
       "      <td>...</td>\n",
       "      <td>...</td>\n",
       "      <td>...</td>\n",
       "      <td>...</td>\n",
       "      <td>...</td>\n",
       "      <td>...</td>\n",
       "      <td>...</td>\n",
       "      <td>...</td>\n",
       "      <td>...</td>\n",
       "      <td>...</td>\n",
       "      <td>...</td>\n",
       "      <td>...</td>\n",
       "      <td>...</td>\n",
       "      <td>...</td>\n",
       "      <td>...</td>\n",
       "      <td>...</td>\n",
       "      <td>...</td>\n",
       "      <td>...</td>\n",
       "      <td>...</td>\n",
       "      <td>...</td>\n",
       "      <td>...</td>\n",
       "      <td>...</td>\n",
       "      <td>...</td>\n",
       "      <td>...</td>\n",
       "      <td>...</td>\n",
       "      <td>...</td>\n",
       "      <td>...</td>\n",
       "      <td>...</td>\n",
       "      <td>...</td>\n",
       "      <td>...</td>\n",
       "      <td>...</td>\n",
       "      <td>...</td>\n",
       "      <td>...</td>\n",
       "      <td>...</td>\n",
       "      <td>...</td>\n",
       "      <td>...</td>\n",
       "      <td>...</td>\n",
       "      <td>...</td>\n",
       "      <td>...</td>\n",
       "      <td>...</td>\n",
       "      <td>...</td>\n",
       "      <td>...</td>\n",
       "      <td>...</td>\n",
       "      <td>...</td>\n",
       "      <td>...</td>\n",
       "      <td>...</td>\n",
       "    </tr>\n",
       "    <tr>\n",
       "      <th>2.800000e+01</th>\n",
       "      <td>0.056734</td>\n",
       "      <td>0.045851</td>\n",
       "      <td>2.296800</td>\n",
       "      <td>0.149627</td>\n",
       "      <td>0.089681</td>\n",
       "      <td>0.039340</td>\n",
       "      <td>0.009014</td>\n",
       "      <td>0.000025</td>\n",
       "      <td>0.004165</td>\n",
       "      <td>0.000036</td>\n",
       "      <td>0.000007</td>\n",
       "      <td>0.001449</td>\n",
       "      <td>0.000013</td>\n",
       "      <td>0.000016</td>\n",
       "      <td>0.000020</td>\n",
       "      <td>0.000024</td>\n",
       "      <td>0.000011</td>\n",
       "      <td>0.000008</td>\n",
       "      <td>0.000659</td>\n",
       "      <td>0.000012</td>\n",
       "      <td>0.000024</td>\n",
       "      <td>0.000041</td>\n",
       "      <td>0.000032</td>\n",
       "      <td>0.000014</td>\n",
       "      <td>0.000013</td>\n",
       "      <td>0.000021</td>\n",
       "      <td>0.000029</td>\n",
       "      <td>0.000019</td>\n",
       "      <td>0.00001</td>\n",
       "      <td>0.000020</td>\n",
       "      <td>0.000028</td>\n",
       "      <td>0.000018</td>\n",
       "      <td>0.000021</td>\n",
       "      <td>0.000022</td>\n",
       "      <td>0.000021</td>\n",
       "      <td>0.000046</td>\n",
       "      <td>0.000031</td>\n",
       "      <td>0.024502</td>\n",
       "      <td>0.001733</td>\n",
       "      <td>0.010878</td>\n",
       "      <td>0.010814</td>\n",
       "      <td>0.001975</td>\n",
       "      <td>0.062356</td>\n",
       "      <td>0.000155</td>\n",
       "      <td>0.257150</td>\n",
       "      <td>2.806318</td>\n",
       "      <td>0.000155</td>\n",
       "      <td>5.928545</td>\n",
       "      <td>3.122227</td>\n",
       "    </tr>\n",
       "    <tr>\n",
       "      <th>2.850000e+01</th>\n",
       "      <td>0.055079</td>\n",
       "      <td>0.041571</td>\n",
       "      <td>2.296800</td>\n",
       "      <td>0.163561</td>\n",
       "      <td>0.089224</td>\n",
       "      <td>0.039059</td>\n",
       "      <td>0.008865</td>\n",
       "      <td>0.000024</td>\n",
       "      <td>0.004089</td>\n",
       "      <td>0.000036</td>\n",
       "      <td>0.000007</td>\n",
       "      <td>0.001415</td>\n",
       "      <td>0.000012</td>\n",
       "      <td>0.000016</td>\n",
       "      <td>0.000020</td>\n",
       "      <td>0.000023</td>\n",
       "      <td>0.000011</td>\n",
       "      <td>0.000008</td>\n",
       "      <td>0.000639</td>\n",
       "      <td>0.000012</td>\n",
       "      <td>0.000024</td>\n",
       "      <td>0.000041</td>\n",
       "      <td>0.000032</td>\n",
       "      <td>0.000014</td>\n",
       "      <td>0.000013</td>\n",
       "      <td>0.000020</td>\n",
       "      <td>0.000029</td>\n",
       "      <td>0.000019</td>\n",
       "      <td>0.00001</td>\n",
       "      <td>0.000019</td>\n",
       "      <td>0.000027</td>\n",
       "      <td>0.000018</td>\n",
       "      <td>0.000020</td>\n",
       "      <td>0.000021</td>\n",
       "      <td>0.000021</td>\n",
       "      <td>0.000045</td>\n",
       "      <td>0.000030</td>\n",
       "      <td>0.024305</td>\n",
       "      <td>0.001711</td>\n",
       "      <td>0.010791</td>\n",
       "      <td>0.010729</td>\n",
       "      <td>0.001960</td>\n",
       "      <td>0.061695</td>\n",
       "      <td>0.000141</td>\n",
       "      <td>0.255056</td>\n",
       "      <td>2.812208</td>\n",
       "      <td>0.000141</td>\n",
       "      <td>5.881533</td>\n",
       "      <td>3.069325</td>\n",
       "    </tr>\n",
       "    <tr>\n",
       "      <th>2.900000e+01</th>\n",
       "      <td>0.053518</td>\n",
       "      <td>0.037741</td>\n",
       "      <td>2.280800</td>\n",
       "      <td>0.176420</td>\n",
       "      <td>0.088789</td>\n",
       "      <td>0.038800</td>\n",
       "      <td>0.008731</td>\n",
       "      <td>0.000024</td>\n",
       "      <td>0.004018</td>\n",
       "      <td>0.000035</td>\n",
       "      <td>0.000007</td>\n",
       "      <td>0.001381</td>\n",
       "      <td>0.000012</td>\n",
       "      <td>0.000016</td>\n",
       "      <td>0.000019</td>\n",
       "      <td>0.000023</td>\n",
       "      <td>0.000011</td>\n",
       "      <td>0.000007</td>\n",
       "      <td>0.000620</td>\n",
       "      <td>0.000012</td>\n",
       "      <td>0.000024</td>\n",
       "      <td>0.000040</td>\n",
       "      <td>0.000031</td>\n",
       "      <td>0.000014</td>\n",
       "      <td>0.000012</td>\n",
       "      <td>0.000020</td>\n",
       "      <td>0.000028</td>\n",
       "      <td>0.000019</td>\n",
       "      <td>0.00001</td>\n",
       "      <td>0.000019</td>\n",
       "      <td>0.000027</td>\n",
       "      <td>0.000018</td>\n",
       "      <td>0.000020</td>\n",
       "      <td>0.000021</td>\n",
       "      <td>0.000020</td>\n",
       "      <td>0.000043</td>\n",
       "      <td>0.000028</td>\n",
       "      <td>0.024077</td>\n",
       "      <td>0.001686</td>\n",
       "      <td>0.010690</td>\n",
       "      <td>0.010632</td>\n",
       "      <td>0.001942</td>\n",
       "      <td>0.061031</td>\n",
       "      <td>0.000130</td>\n",
       "      <td>0.252959</td>\n",
       "      <td>2.801567</td>\n",
       "      <td>0.000130</td>\n",
       "      <td>5.834610</td>\n",
       "      <td>3.033042</td>\n",
       "    </tr>\n",
       "    <tr>\n",
       "      <th>2.950000e+01</th>\n",
       "      <td>0.052122</td>\n",
       "      <td>0.034419</td>\n",
       "      <td>2.214292</td>\n",
       "      <td>0.188032</td>\n",
       "      <td>0.088386</td>\n",
       "      <td>0.038567</td>\n",
       "      <td>0.008612</td>\n",
       "      <td>0.000024</td>\n",
       "      <td>0.003952</td>\n",
       "      <td>0.000035</td>\n",
       "      <td>0.000007</td>\n",
       "      <td>0.001346</td>\n",
       "      <td>0.000012</td>\n",
       "      <td>0.000016</td>\n",
       "      <td>0.000019</td>\n",
       "      <td>0.000023</td>\n",
       "      <td>0.000011</td>\n",
       "      <td>0.000007</td>\n",
       "      <td>0.000600</td>\n",
       "      <td>0.000012</td>\n",
       "      <td>0.000023</td>\n",
       "      <td>0.000040</td>\n",
       "      <td>0.000031</td>\n",
       "      <td>0.000014</td>\n",
       "      <td>0.000012</td>\n",
       "      <td>0.000020</td>\n",
       "      <td>0.000028</td>\n",
       "      <td>0.000018</td>\n",
       "      <td>0.00001</td>\n",
       "      <td>0.000019</td>\n",
       "      <td>0.000027</td>\n",
       "      <td>0.000018</td>\n",
       "      <td>0.000020</td>\n",
       "      <td>0.000021</td>\n",
       "      <td>0.000020</td>\n",
       "      <td>0.000040</td>\n",
       "      <td>0.000026</td>\n",
       "      <td>0.023833</td>\n",
       "      <td>0.001660</td>\n",
       "      <td>0.010582</td>\n",
       "      <td>0.010529</td>\n",
       "      <td>0.001924</td>\n",
       "      <td>0.060303</td>\n",
       "      <td>0.000119</td>\n",
       "      <td>0.250845</td>\n",
       "      <td>2.739829</td>\n",
       "      <td>0.000119</td>\n",
       "      <td>5.788014</td>\n",
       "      <td>3.048185</td>\n",
       "    </tr>\n",
       "    <tr>\n",
       "      <th>3.000000e+01</th>\n",
       "      <td>0.050909</td>\n",
       "      <td>0.031594</td>\n",
       "      <td>2.210290</td>\n",
       "      <td>0.198460</td>\n",
       "      <td>0.088024</td>\n",
       "      <td>0.038365</td>\n",
       "      <td>0.008510</td>\n",
       "      <td>0.000023</td>\n",
       "      <td>0.003893</td>\n",
       "      <td>0.000034</td>\n",
       "      <td>0.000007</td>\n",
       "      <td>0.001312</td>\n",
       "      <td>0.000012</td>\n",
       "      <td>0.000016</td>\n",
       "      <td>0.000019</td>\n",
       "      <td>0.000022</td>\n",
       "      <td>0.000010</td>\n",
       "      <td>0.000007</td>\n",
       "      <td>0.000582</td>\n",
       "      <td>0.000012</td>\n",
       "      <td>0.000023</td>\n",
       "      <td>0.000039</td>\n",
       "      <td>0.000030</td>\n",
       "      <td>0.000013</td>\n",
       "      <td>0.000012</td>\n",
       "      <td>0.000019</td>\n",
       "      <td>0.000027</td>\n",
       "      <td>0.000018</td>\n",
       "      <td>0.00001</td>\n",
       "      <td>0.000018</td>\n",
       "      <td>0.000026</td>\n",
       "      <td>0.000017</td>\n",
       "      <td>0.000020</td>\n",
       "      <td>0.000020</td>\n",
       "      <td>0.000019</td>\n",
       "      <td>0.000036</td>\n",
       "      <td>0.000023</td>\n",
       "      <td>0.023569</td>\n",
       "      <td>0.001632</td>\n",
       "      <td>0.010465</td>\n",
       "      <td>0.010419</td>\n",
       "      <td>0.001904</td>\n",
       "      <td>0.059545</td>\n",
       "      <td>0.000109</td>\n",
       "      <td>0.248755</td>\n",
       "      <td>2.740118</td>\n",
       "      <td>0.000109</td>\n",
       "      <td>5.741329</td>\n",
       "      <td>3.001211</td>\n",
       "    </tr>\n",
       "  </tbody>\n",
       "</table>\n",
       "<p>8742 rows × 49 columns</p>\n",
       "</div>"
      ],
      "text/plain": [
       "               Data_16   Data_17       Data_18   Data_37   Data_51   Data_52  \\\n",
       "Energy                                                                         \n",
       "1.000000e-11  0.000000  0.000000  26877.520000  0.000000  0.000000  0.000000   \n",
       "1.125000e-11  0.000000  0.000000  25340.360000  0.000000  0.000000  0.000000   \n",
       "1.250000e-11  0.000000  0.000000  24039.970000  0.000000  0.000000  0.000000   \n",
       "1.375000e-11  0.000000  0.000000  22921.210000  0.000000  0.000000  0.000000   \n",
       "1.500000e-11  0.000000  0.000000  21945.390000  0.000000  0.000000  0.000000   \n",
       "...                ...       ...           ...       ...       ...       ...   \n",
       "2.800000e+01  0.056734  0.045851      2.296800  0.149627  0.089681  0.039340   \n",
       "2.850000e+01  0.055079  0.041571      2.296800  0.163561  0.089224  0.039059   \n",
       "2.900000e+01  0.053518  0.037741      2.280800  0.176420  0.088789  0.038800   \n",
       "2.950000e+01  0.052122  0.034419      2.214292  0.188032  0.088386  0.038567   \n",
       "3.000000e+01  0.050909  0.031594      2.210290  0.198460  0.088024  0.038365   \n",
       "\n",
       "               Data_53   Data_54   Data_55   Data_56   Data_57   Data_58  \\\n",
       "Energy                                                                     \n",
       "1.000000e-11  0.000000  0.000000  0.000000  0.000000  0.000000  0.000000   \n",
       "1.125000e-11  0.000000  0.000000  0.000000  0.000000  0.000000  0.000000   \n",
       "1.250000e-11  0.000000  0.000000  0.000000  0.000000  0.000000  0.000000   \n",
       "1.375000e-11  0.000000  0.000000  0.000000  0.000000  0.000000  0.000000   \n",
       "1.500000e-11  0.000000  0.000000  0.000000  0.000000  0.000000  0.000000   \n",
       "...                ...       ...       ...       ...       ...       ...   \n",
       "2.800000e+01  0.009014  0.000025  0.004165  0.000036  0.000007  0.001449   \n",
       "2.850000e+01  0.008865  0.000024  0.004089  0.000036  0.000007  0.001415   \n",
       "2.900000e+01  0.008731  0.000024  0.004018  0.000035  0.000007  0.001381   \n",
       "2.950000e+01  0.008612  0.000024  0.003952  0.000035  0.000007  0.001346   \n",
       "3.000000e+01  0.008510  0.000023  0.003893  0.000034  0.000007  0.001312   \n",
       "\n",
       "               Data_59   Data_60   Data_61   Data_62   Data_63   Data_64  \\\n",
       "Energy                                                                     \n",
       "1.000000e-11  0.000000  0.000000  0.000000  0.000000  0.000000  0.000000   \n",
       "1.125000e-11  0.000000  0.000000  0.000000  0.000000  0.000000  0.000000   \n",
       "1.250000e-11  0.000000  0.000000  0.000000  0.000000  0.000000  0.000000   \n",
       "1.375000e-11  0.000000  0.000000  0.000000  0.000000  0.000000  0.000000   \n",
       "1.500000e-11  0.000000  0.000000  0.000000  0.000000  0.000000  0.000000   \n",
       "...                ...       ...       ...       ...       ...       ...   \n",
       "2.800000e+01  0.000013  0.000016  0.000020  0.000024  0.000011  0.000008   \n",
       "2.850000e+01  0.000012  0.000016  0.000020  0.000023  0.000011  0.000008   \n",
       "2.900000e+01  0.000012  0.000016  0.000019  0.000023  0.000011  0.000007   \n",
       "2.950000e+01  0.000012  0.000016  0.000019  0.000023  0.000011  0.000007   \n",
       "3.000000e+01  0.000012  0.000016  0.000019  0.000022  0.000010  0.000007   \n",
       "\n",
       "               Data_65   Data_66   Data_67   Data_68   Data_69   Data_70  \\\n",
       "Energy                                                                     \n",
       "1.000000e-11  0.000000  0.000000  0.000000  0.000000  0.000000  0.000000   \n",
       "1.125000e-11  0.000000  0.000000  0.000000  0.000000  0.000000  0.000000   \n",
       "1.250000e-11  0.000000  0.000000  0.000000  0.000000  0.000000  0.000000   \n",
       "1.375000e-11  0.000000  0.000000  0.000000  0.000000  0.000000  0.000000   \n",
       "1.500000e-11  0.000000  0.000000  0.000000  0.000000  0.000000  0.000000   \n",
       "...                ...       ...       ...       ...       ...       ...   \n",
       "2.800000e+01  0.000659  0.000012  0.000024  0.000041  0.000032  0.000014   \n",
       "2.850000e+01  0.000639  0.000012  0.000024  0.000041  0.000032  0.000014   \n",
       "2.900000e+01  0.000620  0.000012  0.000024  0.000040  0.000031  0.000014   \n",
       "2.950000e+01  0.000600  0.000012  0.000023  0.000040  0.000031  0.000014   \n",
       "3.000000e+01  0.000582  0.000012  0.000023  0.000039  0.000030  0.000013   \n",
       "\n",
       "               Data_71   Data_72   Data_73   Data_74  Data_75   Data_76  \\\n",
       "Energy                                                                    \n",
       "1.000000e-11  0.000000  0.000000  0.000000  0.000000  0.00000  0.000000   \n",
       "1.125000e-11  0.000000  0.000000  0.000000  0.000000  0.00000  0.000000   \n",
       "1.250000e-11  0.000000  0.000000  0.000000  0.000000  0.00000  0.000000   \n",
       "1.375000e-11  0.000000  0.000000  0.000000  0.000000  0.00000  0.000000   \n",
       "1.500000e-11  0.000000  0.000000  0.000000  0.000000  0.00000  0.000000   \n",
       "...                ...       ...       ...       ...      ...       ...   \n",
       "2.800000e+01  0.000013  0.000021  0.000029  0.000019  0.00001  0.000020   \n",
       "2.850000e+01  0.000013  0.000020  0.000029  0.000019  0.00001  0.000019   \n",
       "2.900000e+01  0.000012  0.000020  0.000028  0.000019  0.00001  0.000019   \n",
       "2.950000e+01  0.000012  0.000020  0.000028  0.000018  0.00001  0.000019   \n",
       "3.000000e+01  0.000012  0.000019  0.000027  0.000018  0.00001  0.000018   \n",
       "\n",
       "               Data_77   Data_78   Data_79   Data_80   Data_81   Data_82  \\\n",
       "Energy                                                                     \n",
       "1.000000e-11  0.000000  0.000000  0.000000  0.000000  0.000000  0.000000   \n",
       "1.125000e-11  0.000000  0.000000  0.000000  0.000000  0.000000  0.000000   \n",
       "1.250000e-11  0.000000  0.000000  0.000000  0.000000  0.000000  0.000000   \n",
       "1.375000e-11  0.000000  0.000000  0.000000  0.000000  0.000000  0.000000   \n",
       "1.500000e-11  0.000000  0.000000  0.000000  0.000000  0.000000  0.000000   \n",
       "...                ...       ...       ...       ...       ...       ...   \n",
       "2.800000e+01  0.000028  0.000018  0.000021  0.000022  0.000021  0.000046   \n",
       "2.850000e+01  0.000027  0.000018  0.000020  0.000021  0.000021  0.000045   \n",
       "2.900000e+01  0.000027  0.000018  0.000020  0.000021  0.000020  0.000043   \n",
       "2.950000e+01  0.000027  0.000018  0.000020  0.000021  0.000020  0.000040   \n",
       "3.000000e+01  0.000026  0.000017  0.000020  0.000020  0.000019  0.000036   \n",
       "\n",
       "               Data_83   Data_84   Data_85   Data_86   Data_87   Data_88  \\\n",
       "Energy                                                                     \n",
       "1.000000e-11  0.000000  0.000000  0.000000  0.000000  0.000000  0.000000   \n",
       "1.125000e-11  0.000000  0.000000  0.000000  0.000000  0.000000  0.000000   \n",
       "1.250000e-11  0.000000  0.000000  0.000000  0.000000  0.000000  0.000000   \n",
       "1.375000e-11  0.000000  0.000000  0.000000  0.000000  0.000000  0.000000   \n",
       "1.500000e-11  0.000000  0.000000  0.000000  0.000000  0.000000  0.000000   \n",
       "...                ...       ...       ...       ...       ...       ...   \n",
       "2.800000e+01  0.000031  0.024502  0.001733  0.010878  0.010814  0.001975   \n",
       "2.850000e+01  0.000030  0.024305  0.001711  0.010791  0.010729  0.001960   \n",
       "2.900000e+01  0.000028  0.024077  0.001686  0.010690  0.010632  0.001942   \n",
       "2.950000e+01  0.000026  0.023833  0.001660  0.010582  0.010529  0.001924   \n",
       "3.000000e+01  0.000023  0.023569  0.001632  0.010465  0.010419  0.001904   \n",
       "\n",
       "               Data_91     Data_102    Data_4        Data_3     Data_101  \\\n",
       "Energy                                                                     \n",
       "1.000000e-11  0.000000  2232.315000  0.000000  29109.835000  2232.315000   \n",
       "1.125000e-11  0.000000  2104.648000  0.000000  27445.008000  2104.648000   \n",
       "1.250000e-11  0.000000  1996.647000  0.000000  26036.617000  1996.647000   \n",
       "1.375000e-11  0.000000  1903.729000  0.000000  24824.939000  1903.729000   \n",
       "1.500000e-11  0.000000  1822.684000  0.000000  23768.074000  1822.684000   \n",
       "...                ...          ...       ...           ...          ...   \n",
       "2.800000e+01  0.062356     0.000155  0.257150      2.806318     0.000155   \n",
       "2.850000e+01  0.061695     0.000141  0.255056      2.812208     0.000141   \n",
       "2.900000e+01  0.061031     0.000130  0.252959      2.801567     0.000130   \n",
       "2.950000e+01  0.060303     0.000119  0.250845      2.739829     0.000119   \n",
       "3.000000e+01  0.059545     0.000109  0.248755      2.740118     0.000109   \n",
       "\n",
       "                    Data_1     Data_2  \n",
       "Energy                                 \n",
       "1.000000e-11  29157.207400  47.372400  \n",
       "1.125000e-11  27489.828900  44.820900  \n",
       "1.250000e-11  26079.287200  42.670200  \n",
       "1.375000e-11  24865.765600  40.826600  \n",
       "1.500000e-11  23807.298300  39.224300  \n",
       "...                    ...        ...  \n",
       "2.800000e+01      5.928545   3.122227  \n",
       "2.850000e+01      5.881533   3.069325  \n",
       "2.900000e+01      5.834610   3.033042  \n",
       "2.950000e+01      5.788014   3.048185  \n",
       "3.000000e+01      5.741329   3.001211  \n",
       "\n",
       "[8742 rows x 49 columns]"
      ]
     },
     "execution_count": 615,
     "metadata": {},
     "output_type": "execute_result"
    }
   ],
   "source": [
    "Energy_Grid"
   ]
  },
  {
   "cell_type": "code",
   "execution_count": 325,
   "metadata": {},
   "outputs": [],
   "source": [
    "# def subsitute_mt3(x):\n",
    "#     if x[0] < x[1]:\n",
    "#         return x[0], x[0]\n",
    "#     else:\n",
    "#         return x[0], x[1]\n",
    "    \n",
    "# u233_ml[[\"Data_1\", \"Data_3\"]] = u233_ml[[\"Data_1\", \"Data_3\"]].apply(subsitute_mt3, axis=1, result_type=\"expand\")"
   ]
  },
  {
   "cell_type": "markdown",
   "metadata": {},
   "source": [
    "# Adjusting MT102\n",
    "\n",
    "We are calculating MT3 based on MT102 so we dont have to adjust MT102 now (we are throwing away ML on MT3)"
   ]
  },
  {
   "cell_type": "code",
   "execution_count": 326,
   "metadata": {},
   "outputs": [],
   "source": [
    "# u233_ml[u233_ml.Data_102 > u233_ml.Data_3]\n",
    "\n",
    "# def subsitute_mt102(x):\n",
    "#     if x[0] < x[1]:\n",
    "#         return x[0], x[0]\n",
    "#     else:\n",
    "#         return x[0], x[1]\n",
    "    \n",
    "# u233_ml[[\"Data_3\", \"Data_102\"]] = u233_ml[[\"Data_3\", \"Data_102\"]].apply(subsitute_mt102, axis=1, result_type=\"expand\")"
   ]
  },
  {
   "cell_type": "markdown",
   "metadata": {},
   "source": [
    "# Implementing changes to XSS"
   ]
  },
  {
   "cell_type": "markdown",
   "metadata": {},
   "source": [
    "We changed:\n",
    "- MT1\n",
    "- MT2\n",
    "- MT101\n",
    "- MT102\n",
    "- MT18"
   ]
  },
  {
   "cell_type": "code",
   "execution_count": 328,
   "metadata": {},
   "outputs": [],
   "source": [
    "def changing_xss(MT, xss, xs_grid):\n",
    "    if MT == 1:\n",
    "        xss[nes:nes*2] = xs_grid[\"Data_\" + str(i)].values\n",
    "        return xss\n",
    "    elif MT == 2:\n",
    "        xss[nes*3:nes*4] = xs_grid[\"Data_\" + str(i)].values\n",
    "        return xss\n",
    "    elif MT == 101:\n",
    "        xss[nes*2:nes*3] = xs_grid[\"Data_\" + str(i)].values\n",
    "        return xss\n",
    "    else:\n",
    "        _, _, start, end = sig_mt(MT, mt_array, lsig)\n",
    "        # We sum up 2 since the first are just energy pointers\n",
    "        xss[start + 2 : end] = xs_grid[\"Data_\" + str(i)].values\n",
    "        return xss"
   ]
  },
  {
   "cell_type": "code",
   "execution_count": 329,
   "metadata": {},
   "outputs": [
    {
     "name": "stdout",
     "output_type": "stream",
     "text": [
      "8742 Energy and 8742 Cross Section Points Avaliable.\n",
      "8742 Energy and 8742 Cross Section Points Avaliable.\n"
     ]
    }
   ],
   "source": [
    "for i in [1, 2, 101, 102, 18]:\n",
    "    xss = changing_xss(i, xss, Energy_Grid)"
   ]
  },
  {
   "cell_type": "code",
   "execution_count": 330,
   "metadata": {},
   "outputs": [],
   "source": [
    "if (len(xss)/4 - len(xss)//4)/0.25 == 0:\n",
    "    print(\"It is wokring\")\n",
    "elif 4 - (len(xss)/4 - len(xss)//4)/0.25 == 3:\n",
    "    xss = np.append(xss, (np.nan, np.nan, np.nan))\n",
    "elif 4 - (len(xss)/4 - len(xss)//4)/0.25 == 2:\n",
    "    xss = np.append(xss, (np.nan, np.nan))\n",
    "elif 4 - (len(xss)/4 - len(xss)//4)/0.25 == 1:\n",
    "    xss = np.append(xss, (np.nan))"
   ]
  },
  {
   "cell_type": "code",
   "execution_count": 331,
   "metadata": {},
   "outputs": [
    {
     "data": {
      "text/plain": [
       "array([1.000e-11, 1.125e-11, 1.250e-11, ...,       nan,       nan,\n",
       "             nan])"
      ]
     },
     "execution_count": 331,
     "metadata": {},
     "output_type": "execute_result"
    }
   ],
   "source": [
    "xss"
   ]
  },
  {
   "cell_type": "markdown",
   "metadata": {},
   "source": [
    "# Visualizaing MT2 to confirm changes"
   ]
  },
  {
   "cell_type": "code",
   "execution_count": 332,
   "metadata": {},
   "outputs": [],
   "source": [
    "mt1, mt101, mt2 = get_mt1_mt101_mt2(xss, nes)"
   ]
  },
  {
   "cell_type": "code",
   "execution_count": 335,
   "metadata": {},
   "outputs": [
    {
     "data": {
      "text/plain": [
       "[<matplotlib.lines.Line2D at 0x14f63de89c8>]"
      ]
     },
     "execution_count": 335,
     "metadata": {},
     "output_type": "execute_result"
    },
    {
     "data": {
      "image/png": "[encoded data removed]",
      "text/plain": [
       "<Figure size 432x288 with 1 Axes>"
      ]
     },
     "metadata": {
      "needs_background": "light"
     },
     "output_type": "display_data"
    }
   ],
   "source": [
    "plt.loglog(energies, mt1)\n",
    "plt.loglog(energies, mt2)"
   ]
  },
  {
   "cell_type": "markdown",
   "metadata": {},
   "source": [
    "# Compiling new ACE file"
   ]
  },
  {
   "cell_type": "code",
   "execution_count": 526,
   "metadata": {},
   "outputs": [],
   "source": [
    "import math"
   ]
  },
  {
   "cell_type": "code",
   "execution_count": 576,
   "metadata": {},
   "outputs": [],
   "source": [
    "xss_reshaped = xss.reshape((-1,4))"
   ]
  },
  {
   "cell_type": "code",
   "execution_count": 598,
   "metadata": {},
   "outputs": [],
   "source": [
    "to_write = pd.DataFrame(xss.reshape((-1,4)))\n",
    "to_write.columns = [\"column_1\", \"column_2\", \"column_3\", \"column_4\"]"
   ]
  },
  {
   "cell_type": "code",
   "execution_count": 599,
   "metadata": {},
   "outputs": [],
   "source": [
    "# to_write = to_write.loc[:6]\n",
    "to_write = to_write.astype(\"object\")\n",
    "# to_write.iloc[0,0] = 0\n",
    "# to_write.iloc[0,1] = to_write.iloc[0,1] * -1"
   ]
  },
  {
   "cell_type": "code",
   "execution_count": 600,
   "metadata": {},
   "outputs": [
    {
     "data": {
      "text/html": [
       "<div>\n",
       "<style scoped>\n",
       "    .dataframe tbody tr th:only-of-type {\n",
       "        vertical-align: middle;\n",
       "    }\n",
       "\n",
       "    .dataframe tbody tr th {\n",
       "        vertical-align: top;\n",
       "    }\n",
       "\n",
       "    .dataframe thead th {\n",
       "        text-align: right;\n",
       "    }\n",
       "</style>\n",
       "<table border=\"1\" class=\"dataframe\">\n",
       "  <thead>\n",
       "    <tr style=\"text-align: right;\">\n",
       "      <th></th>\n",
       "      <th>column_1</th>\n",
       "      <th>column_2</th>\n",
       "      <th>column_3</th>\n",
       "      <th>column_4</th>\n",
       "    </tr>\n",
       "  </thead>\n",
       "  <tbody>\n",
       "    <tr>\n",
       "      <th>0</th>\n",
       "      <td>1e-11</td>\n",
       "      <td>1.125e-11</td>\n",
       "      <td>1.25e-11</td>\n",
       "      <td>1.375e-11</td>\n",
       "    </tr>\n",
       "    <tr>\n",
       "      <th>1</th>\n",
       "      <td>1.5e-11</td>\n",
       "      <td>1.625e-11</td>\n",
       "      <td>1.75e-11</td>\n",
       "      <td>2e-11</td>\n",
       "    </tr>\n",
       "    <tr>\n",
       "      <th>2</th>\n",
       "      <td>2.1875e-11</td>\n",
       "      <td>2.375e-11</td>\n",
       "      <td>2.5625e-11</td>\n",
       "      <td>2.75e-11</td>\n",
       "    </tr>\n",
       "    <tr>\n",
       "      <th>3</th>\n",
       "      <td>3.125e-11</td>\n",
       "      <td>3.5e-11</td>\n",
       "      <td>3.875e-11</td>\n",
       "      <td>4.25e-11</td>\n",
       "    </tr>\n",
       "    <tr>\n",
       "      <th>4</th>\n",
       "      <td>4.625e-11</td>\n",
       "      <td>5e-11</td>\n",
       "      <td>5.625e-11</td>\n",
       "      <td>6.25e-11</td>\n",
       "    </tr>\n",
       "    <tr>\n",
       "      <th>...</th>\n",
       "      <td>...</td>\n",
       "      <td>...</td>\n",
       "      <td>...</td>\n",
       "      <td>...</td>\n",
       "    </tr>\n",
       "    <tr>\n",
       "      <th>74355</th>\n",
       "      <td>0.977134</td>\n",
       "      <td>0.981989</td>\n",
       "      <td>0.985747</td>\n",
       "      <td>0.988695</td>\n",
       "    </tr>\n",
       "    <tr>\n",
       "      <th>74356</th>\n",
       "      <td>0.991033</td>\n",
       "      <td>0.992905</td>\n",
       "      <td>0.99441</td>\n",
       "      <td>0.995611</td>\n",
       "    </tr>\n",
       "    <tr>\n",
       "      <th>74357</th>\n",
       "      <td>0.997357</td>\n",
       "      <td>0.998468</td>\n",
       "      <td>0.999183</td>\n",
       "      <td>0.999641</td>\n",
       "    </tr>\n",
       "    <tr>\n",
       "      <th>74358</th>\n",
       "      <td>1</td>\n",
       "      <td>3</td>\n",
       "      <td>4</td>\n",
       "      <td>18</td>\n",
       "    </tr>\n",
       "    <tr>\n",
       "      <th>74359</th>\n",
       "      <td>102</td>\n",
       "      <td>NaN</td>\n",
       "      <td>NaN</td>\n",
       "      <td>NaN</td>\n",
       "    </tr>\n",
       "  </tbody>\n",
       "</table>\n",
       "<p>74360 rows × 4 columns</p>\n",
       "</div>"
      ],
      "text/plain": [
       "         column_1   column_2    column_3   column_4\n",
       "0           1e-11  1.125e-11    1.25e-11  1.375e-11\n",
       "1         1.5e-11  1.625e-11    1.75e-11      2e-11\n",
       "2      2.1875e-11  2.375e-11  2.5625e-11   2.75e-11\n",
       "3       3.125e-11    3.5e-11   3.875e-11   4.25e-11\n",
       "4       4.625e-11      5e-11   5.625e-11   6.25e-11\n",
       "...           ...        ...         ...        ...\n",
       "74355    0.977134   0.981989    0.985747   0.988695\n",
       "74356    0.991033   0.992905     0.99441   0.995611\n",
       "74357    0.997357   0.998468    0.999183   0.999641\n",
       "74358           1          3           4         18\n",
       "74359         102        NaN         NaN        NaN\n",
       "\n",
       "[74360 rows x 4 columns]"
      ]
     },
     "execution_count": 600,
     "metadata": {},
     "output_type": "execute_result"
    }
   ],
   "source": [
    "to_write"
   ]
  },
  {
   "cell_type": "code",
   "execution_count": 601,
   "metadata": {},
   "outputs": [],
   "source": [
    "# def parsing_datatypes(x):\n",
    "#     if math.isnan(x):\n",
    "#         return \"\"\n",
    "#     elif isinstance(x, int):\n",
    "#         return \"{:20}\".format(x)\n",
    "#     else:\n",
    "#         return \"{:20.11E}\".format(x)\n",
    "    \n",
    "def parsing_datatypes(x):\n",
    "    if math.isnan(x):\n",
    "        return \"\"\n",
    "    elif x - int(x) == 0:\n",
    "        return \"{:20}\".format(int(x))\n",
    "    else:\n",
    "        return \"{:20.11E}\".format(x)"
   ]
  },
  {
   "cell_type": "code",
   "execution_count": 574,
   "metadata": {},
   "outputs": [],
   "source": [
    "def parsing_datatypes_2(x):\n",
    "    x[0] = parsing_datatypes(x[0])\n",
    "    x[1] = parsing_datatypes(x[1])\n",
    "    x[2] = parsing_datatypes(x[2])\n",
    "    x[3] = parsing_datatypes(x[3])\n",
    "    return x[0], x[1], x[2], x[3]\n",
    "    \n",
    "to_write[[\"column_1\", \"column_2\", \"column_3\", \"column_4\"]] = to_write[[\"column_1\", \"column_2\", \"column_3\", \"column_4\"]].apply(parsing_datatypes_2, axis=1, result_type=\"expand\")"
   ]
  },
  {
   "cell_type": "code",
   "execution_count": 605,
   "metadata": {},
   "outputs": [],
   "source": [
    "to_write = to_write.applymap(parsing_datatypes)"
   ]
  },
  {
   "cell_type": "code",
   "execution_count": 607,
   "metadata": {},
   "outputs": [
    {
     "data": {
      "text/plain": [
       "20"
      ]
     },
     "execution_count": 607,
     "metadata": {},
     "output_type": "execute_result"
    }
   ],
   "source": [
    "len(to_write.iloc[-1,:][0])"
   ]
  },
  {
   "cell_type": "code",
   "execution_count": 610,
   "metadata": {},
   "outputs": [],
   "source": [
    "to_write.to_csv(\"NEWU233.txt\", float_format=\"%.11E\", sep=\"\\t\", index=False, header=False)\n",
    "with open('NEWU233.txt') as fin, open('NEWU233_Final.txt', 'w') as fout:\n",
    "    for line in fin:\n",
    "        fout.write(line.replace('\\t', ''))"
   ]
  },
  {
   "cell_type": "code",
   "execution_count": 608,
   "metadata": {},
   "outputs": [],
   "source": [
    "to_write.to_csv(\"NEWU233.txt\", float_format=\"{:20.18E}\", sep=\"\\t\", index=False, header=False)"
   ]
  },
  {
   "cell_type": "code",
   "execution_count": 484,
   "metadata": {},
   "outputs": [],
   "source": [
    "to_write.to_csv(\"NEWU233.txt\", float_format=\"%.11E\", sep=\"\\t\", index=False, header=False)"
   ]
  },
  {
   "cell_type": "code",
   "execution_count": 457,
   "metadata": {},
   "outputs": [],
   "source": [
    "# decimal.Decimal(str(17.000)).as_tuple().exponent == -1\n",
    "\n",
    "# def parsing_datatypes(x):\n",
    "#     if decimal.Decimal(str(x)).as_tuple().exponent == -1:\n",
    "#         x = int(x)\n",
    "#         return x\n",
    "#     else:\n",
    "#         return x"
   ]
  },
  {
   "cell_type": "code",
   "execution_count": 458,
   "metadata": {},
   "outputs": [],
   "source": [
    "def parsing_datatypes(x):\n",
    "    if math.isnan(x):\n",
    "        return x\n",
    "    if x - int(x) == 0.0:\n",
    "        return int(x)\n",
    "    else:\n",
    "        return x"
   ]
  },
  {
   "cell_type": "code",
   "execution_count": 459,
   "metadata": {},
   "outputs": [],
   "source": [
    "to_write = to_write.applymap(parsing_datatypes)"
   ]
  },
  {
   "cell_type": "code",
   "execution_count": 460,
   "metadata": {},
   "outputs": [
    {
     "name": "stdout",
     "output_type": "stream",
     "text": [
      "<class 'pandas.core.frame.DataFrame'>\n",
      "RangeIndex: 74360 entries, 0 to 74359\n",
      "Data columns (total 4 columns):\n",
      "column_1    74360 non-null float64\n",
      "column_2    74359 non-null float64\n",
      "column_3    74359 non-null float64\n",
      "column_4    74359 non-null float64\n",
      "dtypes: float64(4)\n",
      "memory usage: 2.3 MB\n"
     ]
    }
   ],
   "source": [
    "to_write.info()"
   ]
  },
  {
   "cell_type": "code",
   "execution_count": 461,
   "metadata": {},
   "outputs": [
    {
     "data": {
      "text/html": [
       "<div>\n",
       "<style scoped>\n",
       "    .dataframe tbody tr th:only-of-type {\n",
       "        vertical-align: middle;\n",
       "    }\n",
       "\n",
       "    .dataframe tbody tr th {\n",
       "        vertical-align: top;\n",
       "    }\n",
       "\n",
       "    .dataframe thead th {\n",
       "        text-align: right;\n",
       "    }\n",
       "</style>\n",
       "<table border=\"1\" class=\"dataframe\">\n",
       "  <thead>\n",
       "    <tr style=\"text-align: right;\">\n",
       "      <th></th>\n",
       "      <th>column_1</th>\n",
       "      <th>column_2</th>\n",
       "      <th>column_3</th>\n",
       "      <th>column_4</th>\n",
       "    </tr>\n",
       "  </thead>\n",
       "  <tbody>\n",
       "    <tr>\n",
       "      <th>10942</th>\n",
       "      <td>6.086589</td>\n",
       "      <td>16.0000</td>\n",
       "      <td>17.00000</td>\n",
       "      <td>18.00000</td>\n",
       "    </tr>\n",
       "    <tr>\n",
       "      <th>10943</th>\n",
       "      <td>37.000000</td>\n",
       "      <td>51.0000</td>\n",
       "      <td>52.00000</td>\n",
       "      <td>53.00000</td>\n",
       "    </tr>\n",
       "    <tr>\n",
       "      <th>10944</th>\n",
       "      <td>54.000000</td>\n",
       "      <td>55.0000</td>\n",
       "      <td>56.00000</td>\n",
       "      <td>57.00000</td>\n",
       "    </tr>\n",
       "    <tr>\n",
       "      <th>10945</th>\n",
       "      <td>58.000000</td>\n",
       "      <td>59.0000</td>\n",
       "      <td>60.00000</td>\n",
       "      <td>61.00000</td>\n",
       "    </tr>\n",
       "    <tr>\n",
       "      <th>10946</th>\n",
       "      <td>62.000000</td>\n",
       "      <td>63.0000</td>\n",
       "      <td>64.00000</td>\n",
       "      <td>65.00000</td>\n",
       "    </tr>\n",
       "    <tr>\n",
       "      <th>10947</th>\n",
       "      <td>66.000000</td>\n",
       "      <td>67.0000</td>\n",
       "      <td>68.00000</td>\n",
       "      <td>69.00000</td>\n",
       "    </tr>\n",
       "    <tr>\n",
       "      <th>10948</th>\n",
       "      <td>70.000000</td>\n",
       "      <td>71.0000</td>\n",
       "      <td>72.00000</td>\n",
       "      <td>73.00000</td>\n",
       "    </tr>\n",
       "    <tr>\n",
       "      <th>10949</th>\n",
       "      <td>74.000000</td>\n",
       "      <td>75.0000</td>\n",
       "      <td>76.00000</td>\n",
       "      <td>77.00000</td>\n",
       "    </tr>\n",
       "    <tr>\n",
       "      <th>10950</th>\n",
       "      <td>78.000000</td>\n",
       "      <td>79.0000</td>\n",
       "      <td>80.00000</td>\n",
       "      <td>81.00000</td>\n",
       "    </tr>\n",
       "    <tr>\n",
       "      <th>10951</th>\n",
       "      <td>82.000000</td>\n",
       "      <td>83.0000</td>\n",
       "      <td>84.00000</td>\n",
       "      <td>85.00000</td>\n",
       "    </tr>\n",
       "    <tr>\n",
       "      <th>10952</th>\n",
       "      <td>86.000000</td>\n",
       "      <td>87.0000</td>\n",
       "      <td>88.00000</td>\n",
       "      <td>91.00000</td>\n",
       "    </tr>\n",
       "    <tr>\n",
       "      <th>10953</th>\n",
       "      <td>102.000000</td>\n",
       "      <td>4.0000</td>\n",
       "      <td>-5.75950</td>\n",
       "      <td>-13.03250</td>\n",
       "    </tr>\n",
       "    <tr>\n",
       "      <th>10954</th>\n",
       "      <td>191.040000</td>\n",
       "      <td>-18.9039</td>\n",
       "      <td>-0.04035</td>\n",
       "      <td>-0.09219</td>\n",
       "    </tr>\n",
       "    <tr>\n",
       "      <th>10955</th>\n",
       "      <td>-0.155270</td>\n",
       "      <td>-0.1970</td>\n",
       "      <td>-0.22940</td>\n",
       "      <td>-0.29890</td>\n",
       "    </tr>\n",
       "    <tr>\n",
       "      <th>10956</th>\n",
       "      <td>-0.312200</td>\n",
       "      <td>-0.3147</td>\n",
       "      <td>-0.32075</td>\n",
       "      <td>-0.34070</td>\n",
       "    </tr>\n",
       "    <tr>\n",
       "      <th>10957</th>\n",
       "      <td>-0.353800</td>\n",
       "      <td>-0.3790</td>\n",
       "      <td>-0.39760</td>\n",
       "      <td>-0.39860</td>\n",
       "    </tr>\n",
       "    <tr>\n",
       "      <th>10958</th>\n",
       "      <td>-0.411100</td>\n",
       "      <td>-0.4158</td>\n",
       "      <td>-0.43200</td>\n",
       "      <td>-0.45600</td>\n",
       "    </tr>\n",
       "    <tr>\n",
       "      <th>10959</th>\n",
       "      <td>-0.497000</td>\n",
       "      <td>-0.5038</td>\n",
       "      <td>-0.51770</td>\n",
       "      <td>-0.52200</td>\n",
       "    </tr>\n",
       "    <tr>\n",
       "      <th>10960</th>\n",
       "      <td>-0.546600</td>\n",
       "      <td>-0.5615</td>\n",
       "      <td>-0.57200</td>\n",
       "      <td>-0.57500</td>\n",
       "    </tr>\n",
       "    <tr>\n",
       "      <th>10961</th>\n",
       "      <td>-0.597200</td>\n",
       "      <td>-0.6100</td>\n",
       "      <td>-0.62000</td>\n",
       "      <td>-0.63520</td>\n",
       "    </tr>\n",
       "    <tr>\n",
       "      <th>10962</th>\n",
       "      <td>-0.646000</td>\n",
       "      <td>-0.6600</td>\n",
       "      <td>0.00000</td>\n",
       "      <td>-0.84900</td>\n",
       "    </tr>\n",
       "  </tbody>\n",
       "</table>\n",
       "</div>"
      ],
      "text/plain": [
       "         column_1  column_2  column_3  column_4\n",
       "10942    6.086589   16.0000  17.00000  18.00000\n",
       "10943   37.000000   51.0000  52.00000  53.00000\n",
       "10944   54.000000   55.0000  56.00000  57.00000\n",
       "10945   58.000000   59.0000  60.00000  61.00000\n",
       "10946   62.000000   63.0000  64.00000  65.00000\n",
       "10947   66.000000   67.0000  68.00000  69.00000\n",
       "10948   70.000000   71.0000  72.00000  73.00000\n",
       "10949   74.000000   75.0000  76.00000  77.00000\n",
       "10950   78.000000   79.0000  80.00000  81.00000\n",
       "10951   82.000000   83.0000  84.00000  85.00000\n",
       "10952   86.000000   87.0000  88.00000  91.00000\n",
       "10953  102.000000    4.0000  -5.75950 -13.03250\n",
       "10954  191.040000  -18.9039  -0.04035  -0.09219\n",
       "10955   -0.155270   -0.1970  -0.22940  -0.29890\n",
       "10956   -0.312200   -0.3147  -0.32075  -0.34070\n",
       "10957   -0.353800   -0.3790  -0.39760  -0.39860\n",
       "10958   -0.411100   -0.4158  -0.43200  -0.45600\n",
       "10959   -0.497000   -0.5038  -0.51770  -0.52200\n",
       "10960   -0.546600   -0.5615  -0.57200  -0.57500\n",
       "10961   -0.597200   -0.6100  -0.62000  -0.63520\n",
       "10962   -0.646000   -0.6600   0.00000  -0.84900"
      ]
     },
     "execution_count": 461,
     "metadata": {},
     "output_type": "execute_result"
    }
   ],
   "source": [
    "to_write.loc[int(mt_array_pointer/4):int(mt_array_pointer/4)+20, :]"
   ]
  },
  {
   "cell_type": "code",
   "execution_count": 467,
   "metadata": {},
   "outputs": [],
   "source": [
    "to_write[\"column_0\"] = \"\""
   ]
  },
  {
   "cell_type": "code",
   "execution_count": 468,
   "metadata": {},
   "outputs": [],
   "source": [
    "to_write = to_write[[\"column_0\", \"column_1\", \"column_2\", \"column_3\", \"column_4\"]]"
   ]
  },
  {
   "cell_type": "code",
   "execution_count": 469,
   "metadata": {},
   "outputs": [
    {
     "data": {
      "text/plain": [
       "''"
      ]
     },
     "execution_count": 469,
     "metadata": {},
     "output_type": "execute_result"
    }
   ],
   "source": [
    "to_write.iloc[0,0]"
   ]
  },
  {
   "cell_type": "code",
   "execution_count": 470,
   "metadata": {},
   "outputs": [],
   "source": [
    "# to_write.update(to_write.select_dtypes(include=np.number).applymap('{:,g}'.format))"
   ]
  },
  {
   "cell_type": "code",
   "execution_count": 471,
   "metadata": {},
   "outputs": [
    {
     "data": {
      "text/html": [
       "<div>\n",
       "<style scoped>\n",
       "    .dataframe tbody tr th:only-of-type {\n",
       "        vertical-align: middle;\n",
       "    }\n",
       "\n",
       "    .dataframe tbody tr th {\n",
       "        vertical-align: top;\n",
       "    }\n",
       "\n",
       "    .dataframe thead th {\n",
       "        text-align: right;\n",
       "    }\n",
       "</style>\n",
       "<table border=\"1\" class=\"dataframe\">\n",
       "  <thead>\n",
       "    <tr style=\"text-align: right;\">\n",
       "      <th></th>\n",
       "      <th>column_0</th>\n",
       "      <th>column_1</th>\n",
       "      <th>column_2</th>\n",
       "      <th>column_3</th>\n",
       "      <th>column_4</th>\n",
       "    </tr>\n",
       "  </thead>\n",
       "  <tbody>\n",
       "    <tr>\n",
       "      <th>0</th>\n",
       "      <td></td>\n",
       "      <td>1e-11</td>\n",
       "      <td>1.125e-11</td>\n",
       "      <td>1.25e-11</td>\n",
       "      <td>1.375e-11</td>\n",
       "    </tr>\n",
       "    <tr>\n",
       "      <th>1</th>\n",
       "      <td></td>\n",
       "      <td>1.5e-11</td>\n",
       "      <td>1.625e-11</td>\n",
       "      <td>1.75e-11</td>\n",
       "      <td>2e-11</td>\n",
       "    </tr>\n",
       "    <tr>\n",
       "      <th>2</th>\n",
       "      <td></td>\n",
       "      <td>2.1875e-11</td>\n",
       "      <td>2.375e-11</td>\n",
       "      <td>2.5625e-11</td>\n",
       "      <td>2.75e-11</td>\n",
       "    </tr>\n",
       "    <tr>\n",
       "      <th>3</th>\n",
       "      <td></td>\n",
       "      <td>3.125e-11</td>\n",
       "      <td>3.5e-11</td>\n",
       "      <td>3.875e-11</td>\n",
       "      <td>4.25e-11</td>\n",
       "    </tr>\n",
       "    <tr>\n",
       "      <th>4</th>\n",
       "      <td></td>\n",
       "      <td>4.625e-11</td>\n",
       "      <td>5e-11</td>\n",
       "      <td>5.625e-11</td>\n",
       "      <td>6.25e-11</td>\n",
       "    </tr>\n",
       "    <tr>\n",
       "      <th>...</th>\n",
       "      <td>...</td>\n",
       "      <td>...</td>\n",
       "      <td>...</td>\n",
       "      <td>...</td>\n",
       "      <td>...</td>\n",
       "    </tr>\n",
       "    <tr>\n",
       "      <th>74355</th>\n",
       "      <td></td>\n",
       "      <td>0.977134</td>\n",
       "      <td>0.981989</td>\n",
       "      <td>0.985747</td>\n",
       "      <td>0.988695</td>\n",
       "    </tr>\n",
       "    <tr>\n",
       "      <th>74356</th>\n",
       "      <td></td>\n",
       "      <td>0.991033</td>\n",
       "      <td>0.992905</td>\n",
       "      <td>0.99441</td>\n",
       "      <td>0.995611</td>\n",
       "    </tr>\n",
       "    <tr>\n",
       "      <th>74357</th>\n",
       "      <td></td>\n",
       "      <td>0.997357</td>\n",
       "      <td>0.998468</td>\n",
       "      <td>0.999183</td>\n",
       "      <td>0.999641</td>\n",
       "    </tr>\n",
       "    <tr>\n",
       "      <th>74358</th>\n",
       "      <td></td>\n",
       "      <td>1</td>\n",
       "      <td>3</td>\n",
       "      <td>4</td>\n",
       "      <td>18</td>\n",
       "    </tr>\n",
       "    <tr>\n",
       "      <th>74359</th>\n",
       "      <td></td>\n",
       "      <td>102</td>\n",
       "      <td>NaN</td>\n",
       "      <td>NaN</td>\n",
       "      <td>NaN</td>\n",
       "    </tr>\n",
       "  </tbody>\n",
       "</table>\n",
       "<p>74360 rows × 5 columns</p>\n",
       "</div>"
      ],
      "text/plain": [
       "      column_0    column_1   column_2    column_3   column_4\n",
       "0                    1e-11  1.125e-11    1.25e-11  1.375e-11\n",
       "1                  1.5e-11  1.625e-11    1.75e-11      2e-11\n",
       "2               2.1875e-11  2.375e-11  2.5625e-11   2.75e-11\n",
       "3                3.125e-11    3.5e-11   3.875e-11   4.25e-11\n",
       "4                4.625e-11      5e-11   5.625e-11   6.25e-11\n",
       "...        ...         ...        ...         ...        ...\n",
       "74355             0.977134   0.981989    0.985747   0.988695\n",
       "74356             0.991033   0.992905     0.99441   0.995611\n",
       "74357             0.997357   0.998468    0.999183   0.999641\n",
       "74358                    1          3           4         18\n",
       "74359                  102        NaN         NaN        NaN\n",
       "\n",
       "[74360 rows x 5 columns]"
      ]
     },
     "execution_count": 471,
     "metadata": {},
     "output_type": "execute_result"
    }
   ],
   "source": [
    "to_write"
   ]
  },
  {
   "cell_type": "code",
   "execution_count": 472,
   "metadata": {},
   "outputs": [
    {
     "data": {
      "text/plain": [
       "1.25e-11"
      ]
     },
     "execution_count": 472,
     "metadata": {},
     "output_type": "execute_result"
    }
   ],
   "source": [
    "to_write.iloc[0,3]"
   ]
  },
  {
   "cell_type": "code",
   "execution_count": 473,
   "metadata": {},
   "outputs": [],
   "source": [
    "to_write.to_csv(\"NEWU233.txt\", float_format=\"%.11E\", sep=\"\\t\", index=False, header=False)\n",
    "with open('NEWU233.txt') as fin, open('NEWU233_Final.txt', 'w') as fout:\n",
    "    for line in fin:\n",
    "        fout.write(line.replace('\\t', '   '))"
   ]
  },
  {
   "cell_type": "code",
   "execution_count": 342,
   "metadata": {},
   "outputs": [
    {
     "data": {
      "text/plain": [
       "array([ 16.,  17.,  18.,  37.,  51.,  52.,  53.,  54.,  55.,  56.,  57.,\n",
       "        58.,  59.,  60.,  61.,  62.,  63.,  64.,  65.,  66.,  67.,  68.,\n",
       "        69.,  70.,  71.,  72.,  73.,  74.,  75.,  76.,  77.,  78.,  79.,\n",
       "        80.,  81.,  82.,  83.,  84.,  85.,  86.,  87.,  88.,  91., 102.,\n",
       "         4.])"
      ]
     },
     "execution_count": 342,
     "metadata": {},
     "output_type": "execute_result"
    }
   ],
   "source": [
    "mt_array"
   ]
  },
  {
   "cell_type": "markdown",
   "metadata": {},
   "source": [
    "# SAVING WITH PADDING"
   ]
  },
  {
   "cell_type": "code",
   "execution_count": 573,
   "metadata": {},
   "outputs": [],
   "source": [
    "nsx_string = nsx.copy()"
   ]
  },
  {
   "cell_type": "code",
   "execution_count": 574,
   "metadata": {},
   "outputs": [],
   "source": [
    "nsx_string = nsx_string.astype(str)"
   ]
  },
  {
   "cell_type": "code",
   "execution_count": 575,
   "metadata": {},
   "outputs": [],
   "source": [
    "for x in nsx_string.columns:\n",
    "    nsx_string[x] = nsx_string[x].str.pad(9, side='left')"
   ]
  },
  {
   "cell_type": "code",
   "execution_count": 577,
   "metadata": {},
   "outputs": [],
   "source": [
    "nsx_string.to_csv(\"testing_df.txt\", sep='\\t', index=False)"
   ]
  },
  {
   "cell_type": "code",
   "execution_count": 579,
   "metadata": {},
   "outputs": [],
   "source": [
    "with open('testing_df.txt') as fin, open('testing_df_notab.txt', 'w') as fout:\n",
    "    for line in fin:\n",
    "        fout.write(line.replace('\\t', ''))"
   ]
  },
  {
   "cell_type": "markdown",
   "metadata": {},
   "source": [
    "# SAVING XSS"
   ]
  },
  {
   "cell_type": "code",
   "execution_count": 605,
   "metadata": {},
   "outputs": [],
   "source": [
    "xss2 = pd.read_csv(\"./17035ENDF7.ace\", delim_whitespace=True, skiprows=12, nrows=lines, header=None) # .values.flatten()\n",
    "# xss2 = testing_xss[~np.isnan(testing_xss)]"
   ]
  },
  {
   "cell_type": "code",
   "execution_count": 635,
   "metadata": {},
   "outputs": [],
   "source": [
    "xss2.to_csv(\"to_string.txt\", float_format=\"%.11E\", sep=\"\\t\", index=False, header=False)"
   ]
  },
  {
   "cell_type": "code",
   "execution_count": 636,
   "metadata": {},
   "outputs": [],
   "source": [
    "# with open('testing_fortran.txt') as fin, open('testing_fortran_E.txt', 'w') as fout:\n",
    "#     for line in fin:\n",
    "#         fout.write(line.replace('e', 'E'))"
   ]
  },
  {
   "cell_type": "markdown",
   "metadata": {},
   "source": [
    "# Testing Replacement"
   ]
  },
  {
   "cell_type": "code",
   "execution_count": 609,
   "metadata": {},
   "outputs": [],
   "source": [
    "replacement = pd.read_csv(\"./17035ENDF7.ace\", delim_whitespace=True, skiprows=12, nrows=lines, header=None)"
   ]
  },
  {
   "cell_type": "code",
   "execution_count": 633,
   "metadata": {},
   "outputs": [
    {
     "data": {
      "text/html": [
       "<div>\n",
       "<style scoped>\n",
       "    .dataframe tbody tr th:only-of-type {\n",
       "        vertical-align: middle;\n",
       "    }\n",
       "\n",
       "    .dataframe tbody tr th {\n",
       "        vertical-align: top;\n",
       "    }\n",
       "\n",
       "    .dataframe thead th {\n",
       "        text-align: right;\n",
       "    }\n",
       "</style>\n",
       "<table border=\"1\" class=\"dataframe\">\n",
       "  <thead>\n",
       "    <tr style=\"text-align: right;\">\n",
       "      <th></th>\n",
       "      <th>0</th>\n",
       "      <th>1</th>\n",
       "      <th>2</th>\n",
       "      <th>3</th>\n",
       "    </tr>\n",
       "  </thead>\n",
       "  <tbody>\n",
       "    <tr>\n",
       "      <th>0</th>\n",
       "      <td>1.000000e-11</td>\n",
       "      <td>1.125000e-11</td>\n",
       "      <td>1.250000e-11</td>\n",
       "      <td>1.375000e-11</td>\n",
       "    </tr>\n",
       "    <tr>\n",
       "      <th>1</th>\n",
       "      <td>1.500000e-11</td>\n",
       "      <td>1.625000e-11</td>\n",
       "      <td>1.750000e-11</td>\n",
       "      <td>2.000000e-11</td>\n",
       "    </tr>\n",
       "    <tr>\n",
       "      <th>2</th>\n",
       "      <td>2.187500e-11</td>\n",
       "      <td>2.375000e-11</td>\n",
       "      <td>2.562500e-11</td>\n",
       "      <td>2.750000e-11</td>\n",
       "    </tr>\n",
       "    <tr>\n",
       "      <th>3</th>\n",
       "      <td>3.125000e-11</td>\n",
       "      <td>5.000000e+00</td>\n",
       "      <td>3.875000e-11</td>\n",
       "      <td>4.250000e-11</td>\n",
       "    </tr>\n",
       "    <tr>\n",
       "      <th>4</th>\n",
       "      <td>4.615080e-11</td>\n",
       "      <td>4.625000e-11</td>\n",
       "      <td>4.648438e-11</td>\n",
       "      <td>4.671875e-11</td>\n",
       "    </tr>\n",
       "  </tbody>\n",
       "</table>\n",
       "</div>"
      ],
      "text/plain": [
       "              0             1             2             3\n",
       "0  1.000000e-11  1.125000e-11  1.250000e-11  1.375000e-11\n",
       "1  1.500000e-11  1.625000e-11  1.750000e-11  2.000000e-11\n",
       "2  2.187500e-11  2.375000e-11  2.562500e-11  2.750000e-11\n",
       "3  3.125000e-11  5.000000e+00  3.875000e-11  4.250000e-11\n",
       "4  4.615080e-11  4.625000e-11  4.648438e-11  4.671875e-11"
      ]
     },
     "execution_count": 633,
     "metadata": {},
     "output_type": "execute_result"
    }
   ],
   "source": [
    "replacement.head()"
   ]
  },
  {
   "cell_type": "code",
   "execution_count": 629,
   "metadata": {},
   "outputs": [],
   "source": [
    "replacement.iat[round(13/4), int((13/4 - round(13/4))/0.25)] = 5"
   ]
  },
  {
   "cell_type": "code",
   "execution_count": 634,
   "metadata": {},
   "outputs": [
    {
     "data": {
      "text/html": [
       "<div>\n",
       "<style scoped>\n",
       "    .dataframe tbody tr th:only-of-type {\n",
       "        vertical-align: middle;\n",
       "    }\n",
       "\n",
       "    .dataframe tbody tr th {\n",
       "        vertical-align: top;\n",
       "    }\n",
       "\n",
       "    .dataframe thead th {\n",
       "        text-align: right;\n",
       "    }\n",
       "</style>\n",
       "<table border=\"1\" class=\"dataframe\">\n",
       "  <thead>\n",
       "    <tr style=\"text-align: right;\">\n",
       "      <th></th>\n",
       "      <th>0</th>\n",
       "      <th>1</th>\n",
       "      <th>2</th>\n",
       "      <th>3</th>\n",
       "    </tr>\n",
       "  </thead>\n",
       "  <tbody>\n",
       "    <tr>\n",
       "      <th>0</th>\n",
       "      <td>1.000000e-11</td>\n",
       "      <td>1.125000e-11</td>\n",
       "      <td>1.250000e-11</td>\n",
       "      <td>1.375000e-11</td>\n",
       "    </tr>\n",
       "    <tr>\n",
       "      <th>1</th>\n",
       "      <td>1.500000e-11</td>\n",
       "      <td>1.625000e-11</td>\n",
       "      <td>1.750000e-11</td>\n",
       "      <td>2.000000e-11</td>\n",
       "    </tr>\n",
       "    <tr>\n",
       "      <th>2</th>\n",
       "      <td>2.187500e-11</td>\n",
       "      <td>2.375000e-11</td>\n",
       "      <td>2.562500e-11</td>\n",
       "      <td>2.750000e-11</td>\n",
       "    </tr>\n",
       "    <tr>\n",
       "      <th>3</th>\n",
       "      <td>3.125000e-11</td>\n",
       "      <td>5.000000e+00</td>\n",
       "      <td>3.875000e-11</td>\n",
       "      <td>4.250000e-11</td>\n",
       "    </tr>\n",
       "    <tr>\n",
       "      <th>4</th>\n",
       "      <td>4.615080e-11</td>\n",
       "      <td>4.625000e-11</td>\n",
       "      <td>4.648438e-11</td>\n",
       "      <td>4.671875e-11</td>\n",
       "    </tr>\n",
       "  </tbody>\n",
       "</table>\n",
       "</div>"
      ],
      "text/plain": [
       "              0             1             2             3\n",
       "0  1.000000e-11  1.125000e-11  1.250000e-11  1.375000e-11\n",
       "1  1.500000e-11  1.625000e-11  1.750000e-11  2.000000e-11\n",
       "2  2.187500e-11  2.375000e-11  2.562500e-11  2.750000e-11\n",
       "3  3.125000e-11  5.000000e+00  3.875000e-11  4.250000e-11\n",
       "4  4.615080e-11  4.625000e-11  4.648438e-11  4.671875e-11"
      ]
     },
     "execution_count": 634,
     "metadata": {},
     "output_type": "execute_result"
    }
   ],
   "source": [
    "replacement.head()"
   ]
  },
  {
   "cell_type": "markdown",
   "metadata": {},
   "source": [
    "# Automating"
   ]
  },
  {
   "cell_type": "raw",
   "metadata": {},
   "source": [
    "\"\"\"\n",
    "calc 107 = 800:849\n",
    "calc 106 = 750:799\n",
    "calc 105 = 700:749\n",
    "calc 104 = 650:699\n",
    "calc 103 = 600:649 #  if I modify 103 then calc 600 103 - 601:649\n",
    "calc 101 = 102:117\n",
    "calc 18 = 19:21\n",
    "calc 18 = 18+38\n",
    "calc 27 = 18+101\n",
    "make4\n",
    "calc 3 = 4+16\n",
    "calc 3 = 3+22\n",
    "calc 3 = 3+28\n",
    "calc 3 = 3+32\n",
    "calc 3 = 3+102\n",
    "calc 3 = 3+103\n",
    "calc 3 = 3+104\n",
    "calc 3 = 3+105\n",
    "calc 3 = 3+106\n",
    "calc 3 = 3+107\n",
    "calc 3 = 3+111\n",
    "calc 3 = 3+112\n",
    "calc 2 = 1-3  \n",
    "quit\n",
    "\"\"\")"
   ]
  },
  {
   "cell_type": "code",
   "execution_count": 525,
   "metadata": {},
   "outputs": [],
   "source": [
    "dataframes_chlorine_35 = {}\n",
    "data_arrays_chlorine_35 = {}\n",
    "\n",
    "ace = \"./17035ENDF7.ace\"\n",
    "with open(ace, \"r\") as ace_file:\n",
    "    nsx_dataframes = {}\n",
    "    jxs_dataframes = {}\n",
    "    xss_dataframes = {}\n",
    "    points = []\n",
    "    indexes = []\n",
    "    for index, line in enumerate(ace_file):\n",
    "        if line.startswith(\" 17035.\"):\n",
    "            points.append(line[1:10])\n",
    "            indexes.append(index)\n",
    "    for x in range(0, len(indexes) - 1):\n",
    "        nsx = pd.read_csv(ace, delim_whitespace=True, skiprows=indexes[x]+6, nrows=2, header=None) # .values.flatten()\n",
    "        jxs = pd.read_csv(ace, delim_whitespace=True, skiprows=indexes[x]+8, nrows=4, header=None)\n",
    "        xss = pd.read_csv(ace, delim_whitespace=True, skiprows=indexes[x]+12, nrows=indexes[x+1]-indexes[x]-12, header=None).values.flatten()\n",
    "        xss = testing_xss[~np.isnan(testing_xss)]\n",
    "        nsx_dataframes[points[x]] = nsx\n",
    "        jxs_dataframes[points[x]] = jxs\n",
    "        xss_dataframes[points[x]] = xss"
   ]
  },
  {
   "cell_type": "code",
   "execution_count": null,
   "metadata": {},
   "outputs": [],
   "source": [
    "# XSS\n",
    "xss_length = int(np.ceil(nsx.iloc[0,0]/4))  # (1)\n",
    "nes = nsx.iloc[0,2] # NES (3)\n",
    "ntr = nsx.iloc[0,3] # NTR: Number of Reactions excluding elastic scattering MT2 (4)\n",
    "nr = nsx.iloc[0,4] # NR: # of reactions having second. neutrons exlcuding elastic scattering (5)\n",
    "ntrp = nsx.iloc[0,5] # NTRP: # of photon production reactions (6)\n",
    "\n",
    "# JSX These are the indexes in the continuous array where stuff starts\n",
    "energy_pointer = jxs.iloc[0,0] - 1           # ESZ (1)\n",
    "fission_v_data = jxs.iloc[0,1] - 1           # NU (2)\n",
    "mt_array_pointer = jxs.iloc[0,2] - 1         # MTR (3)\n",
    "q_values_pointer = jxs.iloc[0,3] - 1         # LQR (4)\n",
    "rx_type_array = jxs.iloc[0,4] - 1            # TYR (5)\n",
    "xs_pointers = jxs.iloc[0,5] - 1              # LSIG (6)\n",
    "xs_table_pointer = jxs.iloc[0,6] - 1         # SIG (7)\n",
    "mt_18_pointer = (jxs.iloc[2,4] - 1).clip(0)  # FIS (21)\n",
    "\n",
    "q_values_per_mt = xss[q_values_pointer:q_values_pointer+ntr]\n",
    "frames = xss[rx_type_array:rx_type_array+ntr]\n",
    "\n",
    "energies = xss[energy_pointer:energy_pointer+nes]\n",
    "mt1 = xss[nes:nes*2]\n",
    "mt101 = xss[nes*2:nes*3]\n",
    "mt2 = xss[nes*3:nes*4]\n",
    "avg_heating = xss[nes*4:nes*5]\n",
    "\n",
    "LMT = mt_array_pointer # LENGTH OF REACTION TYPES\n",
    "NMT = ntr # MT REACTIONS\n",
    "LXS = xs_pointers\n",
    "\n",
    "mt_array = xss[mt_array_pointer:mt_array_pointer+ntr]\n",
    "\n",
    "lsig = xss[LXS:LXS+NMT].astype(int)\n",
    "\n",
    "sig = xss[xs_table_pointer:xs_table_pointer + 100]\n",
    "\n",
    "def sig_mt(mt):\n",
    "    mt_data = xss[xs_table_pointer + lsig[mt] - 1 : xs_table_pointer + lsig[mt+1] - 1] \n",
    "    energy_index = int(mt_data[0])\n",
    "    energy_points = int(mt_data[1])\n",
    "    xs_data = mt_data[2:]\n",
    "    # We substract from energy_index since it is from ACE to Python\n",
    "    energy = xss[energy_index - 1:energy_index+energy_points-1]\n",
    "    print(\"{} Energy and {} Cross Section Points Avaliable.\".format(len(energy), len(xs_data)))\n",
    "    return xs_data, energy"
   ]
  },
  {
   "cell_type": "code",
   "execution_count": null,
   "metadata": {},
   "outputs": [],
   "source": []
  }
 ],
 "metadata": {
  "kernelspec": {
   "display_name": "Python 3",
   "language": "python",
   "name": "python3"
  },
  "language_info": {
   "codemirror_mode": {
    "name": "ipython",
    "version": 3
   },
   "file_extension": ".py",
   "mimetype": "text/x-python",
   "name": "python",
   "nbconvert_exporter": "python",
   "pygments_lexer": "ipython3",
   "version": "3.7.7"
  }
 },
 "nbformat": 4,
 "nbformat_minor": 4
}
