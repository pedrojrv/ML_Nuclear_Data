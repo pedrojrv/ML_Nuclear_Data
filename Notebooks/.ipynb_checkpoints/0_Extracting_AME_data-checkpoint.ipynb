{
 "cells": [
  {
   "cell_type": "markdown",
   "metadata": {},
   "source": [
    "# Atomic Mass Evaluation 2016 Data Extraction Processing"
   ]
  },
  {
   "cell_type": "markdown",
   "metadata": {},
   "source": [
    "Let us first import our parsing utilities."
   ]
  },
  {
   "cell_type": "code",
   "execution_count": 9,
   "metadata": {
    "ExecuteTime": {
     "end_time": "2020-07-30T05:32:42.349466Z",
     "start_time": "2020-07-30T05:32:42.346461Z"
    }
   },
   "outputs": [],
   "source": [
    "import sys\n",
    "import os\n",
    "import importlib\n",
    "sys.path.append(\"..\")\n",
    "\n",
    "import nucml.ame.parsing_utilities as ame\n",
    "import nucml.datasets as nuc_data"
   ]
  },
  {
   "cell_type": "code",
   "execution_count": 10,
   "metadata": {
    "ExecuteTime": {
     "end_time": "2020-07-30T05:32:43.231164Z",
     "start_time": "2020-07-30T05:32:43.210158Z"
    }
   },
   "outputs": [
    {
     "name": "stdout",
     "output_type": "stream",
     "text": [
      "Libraries reloaded.\n"
     ]
    }
   ],
   "source": [
    "importlib.reload(ame)\n",
    "importlib.reload(nuc_data)\n",
    "print(\"Libraries reloaded.\")"
   ]
  },
  {
   "cell_type": "markdown",
   "metadata": {},
   "source": [
    "# Loading the AME Data"
   ]
  },
  {
   "cell_type": "code",
   "execution_count": 11,
   "metadata": {
    "ExecuteTime": {
     "end_time": "2020-07-30T05:32:48.910498Z",
     "start_time": "2020-07-30T05:32:48.866618Z"
    }
   },
   "outputs": [
    {
     "name": "stderr",
     "output_type": "stream",
     "text": [
      "INFO:root:AME: Reading and loading Atomic Mass Evaluation files from: \n",
      " C:\\Users\\Pedro\\Desktop\\ML_Nuclear_Data\\AME\\AME_Natural_Properties_no_NaN.csv\n"
     ]
    }
   ],
   "source": [
    "ame2016 = nuc_data.load_ame()"
   ]
  },
  {
   "cell_type": "code",
   "execution_count": 6,
   "metadata": {
    "ExecuteTime": {
     "end_time": "2020-07-29T19:17:30.822696Z",
     "start_time": "2020-07-29T19:17:30.784687Z"
    }
   },
   "outputs": [
    {
     "data": {
      "text/html": [
       "<div>\n",
       "<style scoped>\n",
       "    .dataframe tbody tr th:only-of-type {\n",
       "        vertical-align: middle;\n",
       "    }\n",
       "\n",
       "    .dataframe tbody tr th {\n",
       "        vertical-align: top;\n",
       "    }\n",
       "\n",
       "    .dataframe thead th {\n",
       "        text-align: right;\n",
       "    }\n",
       "</style>\n",
       "<table border=\"1\" class=\"dataframe\">\n",
       "  <thead>\n",
       "    <tr style=\"text-align: right;\">\n",
       "      <th></th>\n",
       "      <th>N</th>\n",
       "      <th>Z</th>\n",
       "      <th>A</th>\n",
       "      <th>EL</th>\n",
       "      <th>O</th>\n",
       "      <th>Mass_Excess</th>\n",
       "      <th>dMass_Excess</th>\n",
       "      <th>Binding_Energy</th>\n",
       "      <th>dBinding_Energy</th>\n",
       "      <th>B_Decay_Energy</th>\n",
       "      <th>...</th>\n",
       "      <th>Q(n,t)</th>\n",
       "      <th>Q(n,3He)</th>\n",
       "      <th>Q(d,t)</th>\n",
       "      <th>Q(d,3He)</th>\n",
       "      <th>Q(3He,t)</th>\n",
       "      <th>Q(3He,a)</th>\n",
       "      <th>Q(t,a)</th>\n",
       "      <th>Neutrons</th>\n",
       "      <th>Mass_Number</th>\n",
       "      <th>Flag</th>\n",
       "    </tr>\n",
       "  </thead>\n",
       "  <tbody>\n",
       "    <tr>\n",
       "      <th>0</th>\n",
       "      <td>1</td>\n",
       "      <td>0</td>\n",
       "      <td>1</td>\n",
       "      <td>n</td>\n",
       "      <td>Other</td>\n",
       "      <td>8071.317130</td>\n",
       "      <td>0.000460</td>\n",
       "      <td>0.000000</td>\n",
       "      <td>0.000000</td>\n",
       "      <td>782.347000</td>\n",
       "      <td>...</td>\n",
       "      <td>0.000000</td>\n",
       "      <td>0.0000</td>\n",
       "      <td>6257.229000</td>\n",
       "      <td>0.00000</td>\n",
       "      <td>763.755000</td>\n",
       "      <td>20577.619400</td>\n",
       "      <td>0.000000</td>\n",
       "      <td>1</td>\n",
       "      <td>1</td>\n",
       "      <td>I</td>\n",
       "    </tr>\n",
       "    <tr>\n",
       "      <th>1</th>\n",
       "      <td>0</td>\n",
       "      <td>1</td>\n",
       "      <td>1</td>\n",
       "      <td>H</td>\n",
       "      <td>Other</td>\n",
       "      <td>-2437.418042</td>\n",
       "      <td>-308.875124</td>\n",
       "      <td>1124.312708</td>\n",
       "      <td>-43.336286</td>\n",
       "      <td>-5842.787372</td>\n",
       "      <td>...</td>\n",
       "      <td>5065.377773</td>\n",
       "      <td>0.0000</td>\n",
       "      <td>1666.915910</td>\n",
       "      <td>4540.08726</td>\n",
       "      <td>-5861.379204</td>\n",
       "      <td>15987.306327</td>\n",
       "      <td>18860.477844</td>\n",
       "      <td>-1</td>\n",
       "      <td>0</td>\n",
       "      <td>N</td>\n",
       "    </tr>\n",
       "    <tr>\n",
       "      <th>2</th>\n",
       "      <td>0</td>\n",
       "      <td>1</td>\n",
       "      <td>1</td>\n",
       "      <td>H</td>\n",
       "      <td>Other</td>\n",
       "      <td>7288.970610</td>\n",
       "      <td>0.000090</td>\n",
       "      <td>0.000000</td>\n",
       "      <td>0.000000</td>\n",
       "      <td>-1025.364293</td>\n",
       "      <td>...</td>\n",
       "      <td>4171.487772</td>\n",
       "      <td>0.0000</td>\n",
       "      <td>2443.213634</td>\n",
       "      <td>5493.47440</td>\n",
       "      <td>-1043.956164</td>\n",
       "      <td>16763.604053</td>\n",
       "      <td>19813.864900</td>\n",
       "      <td>0</td>\n",
       "      <td>1</td>\n",
       "      <td>I</td>\n",
       "    </tr>\n",
       "    <tr>\n",
       "      <th>3</th>\n",
       "      <td>1</td>\n",
       "      <td>1</td>\n",
       "      <td>2</td>\n",
       "      <td>H</td>\n",
       "      <td>Other</td>\n",
       "      <td>13135.721760</td>\n",
       "      <td>0.000110</td>\n",
       "      <td>1112.283000</td>\n",
       "      <td>0.000000</td>\n",
       "      <td>3792.058787</td>\n",
       "      <td>...</td>\n",
       "      <td>6257.231100</td>\n",
       "      <td>0.0000</td>\n",
       "      <td>4032.659000</td>\n",
       "      <td>3268.90440</td>\n",
       "      <td>3773.466876</td>\n",
       "      <td>18353.049400</td>\n",
       "      <td>17589.294900</td>\n",
       "      <td>1</td>\n",
       "      <td>2</td>\n",
       "      <td>I</td>\n",
       "    </tr>\n",
       "    <tr>\n",
       "      <th>4</th>\n",
       "      <td>2</td>\n",
       "      <td>1</td>\n",
       "      <td>3</td>\n",
       "      <td>H</td>\n",
       "      <td>Other</td>\n",
       "      <td>14949.809930</td>\n",
       "      <td>0.000220</td>\n",
       "      <td>2827.265000</td>\n",
       "      <td>0.000000</td>\n",
       "      <td>18.592000</td>\n",
       "      <td>...</td>\n",
       "      <td>0.001100</td>\n",
       "      <td>0.0000</td>\n",
       "      <td>-0.001000</td>\n",
       "      <td>3268.90440</td>\n",
       "      <td>0.000000</td>\n",
       "      <td>14320.389400</td>\n",
       "      <td>17589.294900</td>\n",
       "      <td>2</td>\n",
       "      <td>3</td>\n",
       "      <td>I</td>\n",
       "    </tr>\n",
       "    <tr>\n",
       "      <th>...</th>\n",
       "      <td>...</td>\n",
       "      <td>...</td>\n",
       "      <td>...</td>\n",
       "      <td>...</td>\n",
       "      <td>...</td>\n",
       "      <td>...</td>\n",
       "      <td>...</td>\n",
       "      <td>...</td>\n",
       "      <td>...</td>\n",
       "      <td>...</td>\n",
       "      <td>...</td>\n",
       "      <td>...</td>\n",
       "      <td>...</td>\n",
       "      <td>...</td>\n",
       "      <td>...</td>\n",
       "      <td>...</td>\n",
       "      <td>...</td>\n",
       "      <td>...</td>\n",
       "      <td>...</td>\n",
       "      <td>...</td>\n",
       "      <td>...</td>\n",
       "    </tr>\n",
       "    <tr>\n",
       "      <th>3549</th>\n",
       "      <td>178</td>\n",
       "      <td>117</td>\n",
       "      <td>295</td>\n",
       "      <td>Ts</td>\n",
       "      <td>Other</td>\n",
       "      <td>196521.000000</td>\n",
       "      <td>660.000000</td>\n",
       "      <td>7092.000000</td>\n",
       "      <td>2.000000</td>\n",
       "      <td>-2942.000000</td>\n",
       "      <td>...</td>\n",
       "      <td>1401.701100</td>\n",
       "      <td>3534.0404</td>\n",
       "      <td>322.229000</td>\n",
       "      <td>4056.47440</td>\n",
       "      <td>-2960.592000</td>\n",
       "      <td>14642.619400</td>\n",
       "      <td>18376.864900</td>\n",
       "      <td>-117</td>\n",
       "      <td>0</td>\n",
       "      <td>N</td>\n",
       "    </tr>\n",
       "    <tr>\n",
       "      <th>3550</th>\n",
       "      <td>175</td>\n",
       "      <td>118</td>\n",
       "      <td>293</td>\n",
       "      <td>Ei</td>\n",
       "      <td>-a</td>\n",
       "      <td>198873.000000</td>\n",
       "      <td>702.000000</td>\n",
       "      <td>7077.000000</td>\n",
       "      <td>2.000000</td>\n",
       "      <td>0.000000</td>\n",
       "      <td>...</td>\n",
       "      <td>193.701100</td>\n",
       "      <td>4625.0404</td>\n",
       "      <td>-1953.271000</td>\n",
       "      <td>3501.47440</td>\n",
       "      <td>0.000000</td>\n",
       "      <td>12367.119400</td>\n",
       "      <td>17821.864900</td>\n",
       "      <td>175</td>\n",
       "      <td>293</td>\n",
       "      <td>I</td>\n",
       "    </tr>\n",
       "    <tr>\n",
       "      <th>3551</th>\n",
       "      <td>176</td>\n",
       "      <td>118</td>\n",
       "      <td>294</td>\n",
       "      <td>Ei</td>\n",
       "      <td>-a</td>\n",
       "      <td>199463.000000</td>\n",
       "      <td>663.000000</td>\n",
       "      <td>7079.000000</td>\n",
       "      <td>2.000000</td>\n",
       "      <td>0.000000</td>\n",
       "      <td>...</td>\n",
       "      <td>-991.298900</td>\n",
       "      <td>4362.0404</td>\n",
       "      <td>-1223.771000</td>\n",
       "      <td>3283.47440</td>\n",
       "      <td>0.000000</td>\n",
       "      <td>13096.619400</td>\n",
       "      <td>17603.864900</td>\n",
       "      <td>176</td>\n",
       "      <td>294</td>\n",
       "      <td>I</td>\n",
       "    </tr>\n",
       "    <tr>\n",
       "      <th>3552</th>\n",
       "      <td>176</td>\n",
       "      <td>118</td>\n",
       "      <td>294</td>\n",
       "      <td>Og</td>\n",
       "      <td>Other</td>\n",
       "      <td>200487.500000</td>\n",
       "      <td>653.500000</td>\n",
       "      <td>7077.000000</td>\n",
       "      <td>2.000000</td>\n",
       "      <td>0.000000</td>\n",
       "      <td>...</td>\n",
       "      <td>-370.798900</td>\n",
       "      <td>4173.0404</td>\n",
       "      <td>-494.271000</td>\n",
       "      <td>3239.47440</td>\n",
       "      <td>0.000000</td>\n",
       "      <td>13826.119400</td>\n",
       "      <td>17559.864900</td>\n",
       "      <td>-118</td>\n",
       "      <td>0</td>\n",
       "      <td>N</td>\n",
       "    </tr>\n",
       "    <tr>\n",
       "      <th>3553</th>\n",
       "      <td>177</td>\n",
       "      <td>118</td>\n",
       "      <td>295</td>\n",
       "      <td>Ei</td>\n",
       "      <td>-a</td>\n",
       "      <td>201512.000000</td>\n",
       "      <td>644.000000</td>\n",
       "      <td>7075.000000</td>\n",
       "      <td>2.000000</td>\n",
       "      <td>0.000000</td>\n",
       "      <td>...</td>\n",
       "      <td>249.701100</td>\n",
       "      <td>3984.0404</td>\n",
       "      <td>235.229000</td>\n",
       "      <td>3195.47440</td>\n",
       "      <td>0.000000</td>\n",
       "      <td>14555.619400</td>\n",
       "      <td>17515.864900</td>\n",
       "      <td>177</td>\n",
       "      <td>295</td>\n",
       "      <td>I</td>\n",
       "    </tr>\n",
       "  </tbody>\n",
       "</table>\n",
       "<p>3554 rows × 67 columns</p>\n",
       "</div>"
      ],
      "text/plain": [
       "        N    Z    A  EL      O    Mass_Excess  dMass_Excess  Binding_Energy  \\\n",
       "0       1    0    1   n  Other    8071.317130      0.000460        0.000000   \n",
       "1       0    1    1   H  Other   -2437.418042   -308.875124     1124.312708   \n",
       "2       0    1    1   H  Other    7288.970610      0.000090        0.000000   \n",
       "3       1    1    2   H  Other   13135.721760      0.000110     1112.283000   \n",
       "4       2    1    3   H  Other   14949.809930      0.000220     2827.265000   \n",
       "...   ...  ...  ...  ..    ...            ...           ...             ...   \n",
       "3549  178  117  295  Ts  Other  196521.000000    660.000000     7092.000000   \n",
       "3550  175  118  293  Ei     -a  198873.000000    702.000000     7077.000000   \n",
       "3551  176  118  294  Ei     -a  199463.000000    663.000000     7079.000000   \n",
       "3552  176  118  294  Og  Other  200487.500000    653.500000     7077.000000   \n",
       "3553  177  118  295  Ei     -a  201512.000000    644.000000     7075.000000   \n",
       "\n",
       "      dBinding_Energy  B_Decay_Energy  ...       Q(n,t)   Q(n,3He)  \\\n",
       "0            0.000000      782.347000  ...     0.000000     0.0000   \n",
       "1          -43.336286    -5842.787372  ...  5065.377773     0.0000   \n",
       "2            0.000000    -1025.364293  ...  4171.487772     0.0000   \n",
       "3            0.000000     3792.058787  ...  6257.231100     0.0000   \n",
       "4            0.000000       18.592000  ...     0.001100     0.0000   \n",
       "...               ...             ...  ...          ...        ...   \n",
       "3549         2.000000    -2942.000000  ...  1401.701100  3534.0404   \n",
       "3550         2.000000        0.000000  ...   193.701100  4625.0404   \n",
       "3551         2.000000        0.000000  ...  -991.298900  4362.0404   \n",
       "3552         2.000000        0.000000  ...  -370.798900  4173.0404   \n",
       "3553         2.000000        0.000000  ...   249.701100  3984.0404   \n",
       "\n",
       "           Q(d,t)    Q(d,3He)     Q(3He,t)      Q(3He,a)        Q(t,a)  \\\n",
       "0     6257.229000     0.00000   763.755000  20577.619400      0.000000   \n",
       "1     1666.915910  4540.08726 -5861.379204  15987.306327  18860.477844   \n",
       "2     2443.213634  5493.47440 -1043.956164  16763.604053  19813.864900   \n",
       "3     4032.659000  3268.90440  3773.466876  18353.049400  17589.294900   \n",
       "4       -0.001000  3268.90440     0.000000  14320.389400  17589.294900   \n",
       "...           ...         ...          ...           ...           ...   \n",
       "3549   322.229000  4056.47440 -2960.592000  14642.619400  18376.864900   \n",
       "3550 -1953.271000  3501.47440     0.000000  12367.119400  17821.864900   \n",
       "3551 -1223.771000  3283.47440     0.000000  13096.619400  17603.864900   \n",
       "3552  -494.271000  3239.47440     0.000000  13826.119400  17559.864900   \n",
       "3553   235.229000  3195.47440     0.000000  14555.619400  17515.864900   \n",
       "\n",
       "      Neutrons  Mass_Number  Flag  \n",
       "0            1            1     I  \n",
       "1           -1            0     N  \n",
       "2            0            1     I  \n",
       "3            1            2     I  \n",
       "4            2            3     I  \n",
       "...        ...          ...   ...  \n",
       "3549      -117            0     N  \n",
       "3550       175          293     I  \n",
       "3551       176          294     I  \n",
       "3552      -118            0     N  \n",
       "3553       177          295     I  \n",
       "\n",
       "[3554 rows x 67 columns]"
      ]
     },
     "execution_count": 6,
     "metadata": {},
     "output_type": "execute_result"
    }
   ],
   "source": [
    "ame2016"
   ]
  },
  {
   "cell_type": "markdown",
   "metadata": {},
   "source": [
    "###  In case you misplaced or just want to update it with a new file, you can re-create the proccesed AME files using the `.get_all()` function."
   ]
  },
  {
   "cell_type": "code",
   "execution_count": 4,
   "metadata": {
    "ExecuteTime": {
     "end_time": "2020-07-29T07:10:14.758217Z",
     "start_time": "2020-07-29T07:09:49.209840Z"
    }
   },
   "outputs": [
    {
     "name": "stderr",
     "output_type": "stream",
     "text": [
      "INFO:root:MASS16: Reading data from C:\\Users\\Pedro\\Desktop\\ML_Nuclear_Data\\AME\\Originals\\mass16.txt\n",
      "INFO:root:MASS16: Beginning formatting sequences...\n",
      "INFO:root:MASS16: Formatting done. Saving file to C:\\Users\\Pedro\\Desktop\\ML_Nuclear_Data\\AME\\AME_mass16.csv\n",
      "INFO:root:MASS16: Succesfully formated mass16.txt file.\n",
      "INFO:root:RCT1: Reading data from C:\\Users\\Pedro\\Desktop\\ML_Nuclear_Data\\AME\\Originals\\rct1-16.txt\n",
      "INFO:root:RCT1: Beginning formatting sequences...\n",
      "INFO:root:RCT1: Formatting done. Saving file to C:\\Users\\Pedro\\Desktop\\ML_Nuclear_Data\\AME\\AME_rct1.csv\n",
      "INFO:root:RCT1: Succesfully formated rct1-16.txt file.\n",
      "INFO:root:RCT2: Reading data from C:\\Users\\Pedro\\Desktop\\ML_Nuclear_Data\\AME\\Originals\\rct2-16.txt\n",
      "INFO:root:RCT2: Beginning formatting sequences...\n",
      "INFO:root:RCT2: Formatting done. Saving file to C:\\Users\\Pedro\\Desktop\\ML_Nuclear_Data\\AME\\AME_rct2.csv\n",
      "INFO:root:RCT2: Succesfully formated rct2-16.txt file.\n",
      "INFO:root:MERGE: Initializing. Checking documents...\n",
      "INFO:root:MERGE: Files exists. Reading data into dataframes...\n",
      "INFO:root:MERGE: Checking for consistency among files...\n",
      "INFO:root:MERGE: Q-VALUE CALCULATION: ENABLED \n",
      " Calculating additional reaction energies...\n",
      "INFO:root:MERGE: Formatting done. Saving file to C:\\Users\\Pedro\\Desktop\\ML_Nuclear_Data\\AME\\AME_all_merged.csv\n",
      "INFO:root:MERGE: Succesfully merged files.\n",
      "INFO:root:FEAT ENG: Initializing. Checking documents...\n",
      "INFO:root:FEAT ENG: Reading data from C:\\Users\\Pedro\\Desktop\\ML_Nuclear_Data\\AME\\AME_all_merged.csv\n",
      "INFO:root:FEAT ENG: Reading data from C:\\Users\\Pedro\\Desktop\\ML_Nuclear_Data\\AME\\Originals\\periodic_table.csv\n",
      "INFO:root:FEAT ENG: Beginning data creation...\n",
      "INFO:root:FEAT ENG: Finished creating natural data. Merging with AME...\n",
      "INFO:root:FEAT ENG: Finishing up...\n",
      "INFO:root:FEAT ENG: Saving file to C:\\Users\\Pedro\\Desktop\\ML_Nuclear_Data\\AME\\AME_Natural_Properties_w_NaN.csv\n",
      "INFO:root:FEAT ENG: Filling missing values using ELEMENTAL mode\n",
      "C:\\Users\\Pedro\\Anaconda3\\envs\\data_mining_gpu\\lib\\site-packages\\scipy\\optimize\\minpack.py:829: OptimizeWarning: Covariance of the parameters could not be estimated\n",
      "  category=OptimizeWarning)\n",
      "..\\nucml\\ame\\parsing_utilities.py:456: SettingWithCopyWarning: \n",
      "A value is trying to be set on a copy of a slice from a DataFrame\n",
      "\n",
      "See the caveats in the documentation: https://pandas.pydata.org/pandas-docs/stable/user_guide/indexing.html#returning-a-view-versus-a-copy\n",
      "  fit_df_original[col][x] = func(x, *col_params[col])\n",
      "INFO:root:FEAT ENG: Filling remaining NaN values with 0...\n",
      "INFO:root:FEAT ENG: Returning features to original data types...\n",
      "INFO:root:FEAT ENG: Saving imputed file to C:\\Users\\Pedro\\Desktop\\ML_Nuclear_Data\\AME\\AME_Natural_Properties_no_NaN.csv\n",
      "INFO:root:FEAT ENG: Sucessfully created natural data. Nan values were imputed.\n"
     ]
    }
   ],
   "source": [
    "ame_dir_path = os.path.abspath(\"../AME/\")\n",
    "ame_originals_path = os.path.abspath(\"../AME/Originals/\")\n",
    "\n",
    "ame.get_all(originals_directory=ame_originals_path, saving_directory=ame_dir_path, \n",
    "            fillna=True, add_qvalues=True, mode=\"elemental\", fill_value=0)"
   ]
  },
  {
   "cell_type": "markdown",
   "metadata": {},
   "source": [
    "# ------------ Tutorial - Creating the AME files from Scratch -----------"
   ]
  },
  {
   "cell_type": "markdown",
   "metadata": {},
   "source": [
    "### This notebook explains what each of the AME_parsing_utilities.py functions do and how to use it in both a notebook environment and the command line if preferred. \n",
    "\n",
    "When using the code, it assumes the following directory exists by default, which is true if downloaded from github."
   ]
  },
  {
   "cell_type": "raw",
   "metadata": {},
   "source": [
    "| ML_Nuclear_Data\n",
    "    | AME\n",
    "\t    - AME_atomic_masses_v1.csv          (CREATED)\n",
    "\t    - AME_atomic_masses_v1_rct1.csv     (CREATED)\n",
    "\t    - AME_atomic_masses_v1_rct2.csv     (CREATED)\n",
    "\t    - AME_atomic_masses_v2.csv          (CREATED)\n",
    "\t    - AME_final_properties_w_NaN.csv    (CREATED)\n",
    "\t    - AME_final_properties_no_NaN.csv   (CREATED)\n",
    "        | For Extraction\n",
    "            - mass16_toparse.txt\n",
    "            - rct1_16_toparse.txt\n",
    "            - rct2_16_toparse.txt\n",
    "            - periodic_Table.csv\n",
    "            | Originals\n",
    "                - mass16.txt\n",
    "                - rct1_16.txt\n",
    "                - rct2_16.txt"
   ]
  },
  {
   "cell_type": "markdown",
   "metadata": {},
   "source": [
    "# ---------------- STEP-BY-STEP ---------------- "
   ]
  },
  {
   "cell_type": "markdown",
   "metadata": {},
   "source": [
    "# The mass16, rct1_16, and rct2_16 files.\n",
    "\n",
    "These original files can be downloaded from http://amdc.impcas.ac.cn/masstables/Ame2016/filel.html. The GitHub repository for NucML already contains the preprocessed files however you are welcome to download them again. The header just needs to be removed for each file. Lets take a look at the first 10 lines of the original and pre-processed files:"
   ]
  },
  {
   "cell_type": "code",
   "execution_count": 42,
   "metadata": {
    "ExecuteTime": {
     "end_time": "2020-04-01T22:17:56.231042Z",
     "start_time": "2020-04-01T22:17:56.226049Z"
    }
   },
   "outputs": [
    {
     "name": "stdout",
     "output_type": "stream",
     "text": [
      "['1    a0boogfu                                 A T O M I C   M A S S   A D J U S T M E N T\\n', '0                                                     DATE  1 Mar 2017 TIME 17:26\\n', '0        *********************                               A=   0 TO 295\\n', '         * file : mass16.txt *\\n', '         *********************\\n', '\\n', '   This is one file out of a series of 3 files published in:\\n', '       \"The Ame2016 atomic mass evaluation (I)\"   by W.J.Huang, G.Audi, M.Wang, F.G.Kondev, S.Naimi and X.Xu\\n', '           Chinese Physics C41 030002, March 2017.\\n', '       \"The Ame2016 atomic mass evaluation (II)\"  by M.Wang, G.Audi, F.G.Kondev, W.J.Huang, S.Naimi and X.Xu\\n']\n"
     ]
    }
   ],
   "source": [
    "with open(ame_dir + \"/For_Extraction/Originals/mass16.txt\") as myfile:\n",
    "    head = [next(myfile) for x in range(10)]\n",
    "print(head)"
   ]
  },
  {
   "cell_type": "markdown",
   "metadata": {},
   "source": [
    "The header information is not needed for parsing the files and it was therefore removed. "
   ]
  },
  {
   "cell_type": "code",
   "execution_count": 44,
   "metadata": {
    "ExecuteTime": {
     "end_time": "2020-04-01T22:15:52.407440Z",
     "start_time": "2020-04-01T22:15:52.393412Z"
    }
   },
   "outputs": [
    {
     "name": "stdout",
     "output_type": "stream",
     "text": [
      "['0  1    1    0    1  n         8071.31713    0.00046      0.0      0.0   B-    782.347    0.000   1 008664.91582    0.00049\\n', '  -1    0    1    1 H          7288.97061    0.00009      0.0      0.0   B-      ?                1 007825.03224    0.00009\\n', '0  0    1    1    2 H         13135.72176    0.00011   1112.283    0.000 B-      ?                2 014101.77811    0.00012\\n', '0  1    2    1    3 H         14949.80993    0.00022   2827.265    0.000 B-     18.592    0.000   3 016049.28199    0.00023\\n', '  -1    1    2    3 He        14931.21793    0.00021   2572.680    0.000 B- -13736.    2000.      3 016029.32265    0.00022\\n', '  -3    0    3    3 Li  -pp   28667.      2000.       -2267.     667.    B-      ?                3 030775.      2147.\\n', '0  2    3    1    4 H    -n   24621.127    100.000     1720.449   25.000 B-  22196.211  100.000   4 026431.868    107.354\\n', '   0    2    2    4 He         2424.91561    0.00006   7073.915    0.000 B- -22898.273  212.132   4 002603.25413    0.00006\\n', '  -2    1    3    4 Li   -p   25323.189    212.132     1153.760   53.033 B-      ?                4 027185.562    227.733\\n', '0  3    4    1    5 H   -nn   32892.444     89.443     1336.359   17.889 B-  21661.211   91.652   5 035311.493     96.020\\n']\n"
     ]
    }
   ],
   "source": [
    "with open(ame_dir + \"/For_Extraction/mass16_toparse.txt\") as myfile:\n",
    "    head = [next(myfile) for x in range(10)]\n",
    "print(head)"
   ]
  },
  {
   "cell_type": "markdown",
   "metadata": {},
   "source": [
    "### 1. Reading and Formating the MASS16 File"
   ]
  },
  {
   "cell_type": "code",
   "execution_count": 45,
   "metadata": {
    "ExecuteTime": {
     "end_time": "2020-04-02T18:42:54.217647Z",
     "start_time": "2020-04-02T18:42:54.090615Z"
    }
   },
   "outputs": [
    {
     "name": "stdout",
     "output_type": "stream",
     "text": [
      "MASS16: Reading /Users/pedrovicentevaldez/Desktop/ML_Nuclear_Data/AME/For_Extraction/mass16_toparse.txt...\n",
      "MASS16: Formatting file...\n",
      "MASS16: Replacing NaNs with np.nan...\n",
      "MASS16: Dropping unnecessary data...\n",
      "MASS16: Saving to /Users/pedrovicentevaldez/Desktop/ML_Nuclear_Data/AME/AME_atomic_masses_v1.csv...\n",
      "MASS16: Finished.\n"
     ]
    }
   ],
   "source": [
    "# Reading and formatting mass16 file\n",
    "ame.read_mass16()"
   ]
  },
  {
   "cell_type": "markdown",
   "metadata": {},
   "source": [
    "### 2. Reading and Formating RCT1 and RCT2 files"
   ]
  },
  {
   "cell_type": "code",
   "execution_count": 46,
   "metadata": {
    "ExecuteTime": {
     "end_time": "2020-04-02T05:00:39.395929Z",
     "start_time": "2020-04-02T05:00:38.977843Z"
    }
   },
   "outputs": [
    {
     "name": "stdout",
     "output_type": "stream",
     "text": [
      "RCT1: Reading /Users/pedrovicentevaldez/Desktop/ML_Nuclear_Data/AME/For_Extraction/rct1_16_toparse.txt...\n",
      "RCT1: Formatting file...\n",
      "RCT1: Replacing NaNs with np.nan...\n",
      "RCT1: Dropping unnecessary data...\n",
      "RCT1: Saving to /Users/pedrovicentevaldez/Desktop/ML_Nuclear_Data/AME/AME_atomic_masses_v1_rct1.csv...\n",
      "RCT1: Finished.\n",
      "RCT2: Reading /Users/pedrovicentevaldez/Desktop/ML_Nuclear_Data/AME/For_Extraction/rct2_16_toparse.txt...\n",
      "RCT2: Formatting file...\n",
      "RCT2: Replacing NaNs with np.nan...\n",
      "RCT2: Dropping unnecessary data...\n",
      "RCT2: Saving to /Users/pedrovicentevaldez/Desktop/ML_Nuclear_Data/AME/AME_atomic_masses_v1_rct2.csv...\n",
      "RCT2: Finished.\n"
     ]
    }
   ],
   "source": [
    "ame.read_rct1()\n",
    "ame.read_rct2()"
   ]
  },
  {
   "cell_type": "markdown",
   "metadata": {},
   "source": [
    "### 3. Merging All Three AMEs datafiles and Adding Q values"
   ]
  },
  {
   "cell_type": "code",
   "execution_count": 47,
   "metadata": {
    "ExecuteTime": {
     "end_time": "2020-04-02T05:00:42.850197Z",
     "start_time": "2020-04-02T05:00:42.546081Z"
    }
   },
   "outputs": [
    {
     "name": "stdout",
     "output_type": "stream",
     "text": [
      "Reading mass16, rct1, and rct2 CSV files...\n",
      "Calculating additional reaction energies...\n",
      "Saving to CSV...\n",
      "Saving to /Users/pedrovicentevaldez/Desktop/ML_Nuclear_Data/AME/AME_atomic_masses_v2.csv...\n",
      "Finished merging CSV files.\n"
     ]
    }
   ],
   "source": [
    "ame.merge_mass_rct(add_qvalues=True)"
   ]
  },
  {
   "cell_type": "markdown",
   "metadata": {},
   "source": [
    "### 4. Using Periodic Table to Create Natural Elements Data"
   ]
  },
  {
   "cell_type": "code",
   "execution_count": 48,
   "metadata": {
    "ExecuteTime": {
     "end_time": "2020-04-02T05:00:54.766030Z",
     "start_time": "2020-04-02T05:00:47.970719Z"
    }
   },
   "outputs": [
    {
     "name": "stdout",
     "output_type": "stream",
     "text": [
      "Reading /Users/pedrovicentevaldez/Desktop/ML_Nuclear_Data/AME/AME_atomic_masses_v2.csv...\n",
      "Reading /Users/pedrovicentevaldez/Desktop/ML_Nuclear_Data/AME/For_Extraction/periodic_table.csv...\n",
      "Fromating dataframes...\n",
      "Saving natural element information...\n",
      "Flaggint natural and isotopic rows...\n",
      "Saving final CSV file to /Users/pedrovicentevaldez/Desktop/ML_Nuclear_Data/AME/AME_final_properties_w_NaN.csv...\n",
      "Filling missing values using isotopic mode.\n",
      "Saving imputed final CSV file to /Users/pedrovicentevaldez/Desktop/ML_Nuclear_Data/AME/AME_final_properties_no_NaN.csv...\n",
      "Finished.\n"
     ]
    }
   ],
   "source": [
    "ame.create_natural_element_data(fillna=True)"
   ]
  }
 ],
 "metadata": {
  "kernelspec": {
   "display_name": "Python 3",
   "language": "python",
   "name": "python3"
  },
  "language_info": {
   "codemirror_mode": {
    "name": "ipython",
    "version": 3
   },
   "file_extension": ".py",
   "mimetype": "text/x-python",
   "name": "python",
   "nbconvert_exporter": "python",
   "pygments_lexer": "ipython3",
   "version": "3.7.7"
  }
 },
 "nbformat": 4,
 "nbformat_minor": 4
}
