{
 "cells": [
  {
   "cell_type": "markdown",
   "metadata": {},
   "source": [
    "# This Notebook Explains the EXFOR Transformation Process\n",
    "\n",
    "For this we will need the AME and EXFOR parsing capabilities of `Nuc-ML`."
   ]
  },
  {
   "cell_type": "code",
   "execution_count": 9,
   "metadata": {
    "ExecuteTime": {
     "end_time": "2020-04-02T21:19:26.757043Z",
     "start_time": "2020-04-02T21:19:26.755042Z"
    }
   },
   "outputs": [],
   "source": [
    "import sys\n",
    "# This allows us to import the nucml utilities\n",
    "sys.path.append(\"..\")\n",
    "\n",
    "import nucml.exfor.parsing_utilities as exfor_parsing\n",
    "\n",
    "import importlib\n",
    "importlib.reload(exfor_parsing)\n",
    "print(\"Libraries reloaded.\")"
   ]
  },
  {
   "cell_type": "markdown",
   "metadata": {},
   "source": [
    "We need to define several directories:"
   ]
  },
  {
   "cell_type": "code",
   "execution_count": 38,
   "metadata": {
    "ExecuteTime": {
     "end_time": "2020-04-02T22:23:42.043875Z",
     "start_time": "2020-04-02T22:23:42.039874Z"
    }
   },
   "outputs": [],
   "source": [
    "exfor_directory =  \"../EXFOR/neutrons_2019_07_18\"\n",
    "ame_dir = \"../AME\"\n",
    "\n",
    "# I am going to define two different paths \n",
    "# (1) one to store temporary light files needed for later compilation\n",
    "# (2) one to store resulting files using data from the temporary directory (big files).\n",
    "# Notice that if size is not an issue you can define both directories as the same one.\n",
    "tmp_path =  \"../EXFOR/tmp/Extracted_Text\"\n",
    "heavy_dir = '../ML_Data'\n",
    "\n",
    "# This will be appended to the previous directories\n",
    "mode = 'neutrons' # protons\n",
    "tmp_path = tmp_path + \"_\" + mode\n",
    "heavy_dir = heavy_dir + \"/EXFOR_\" + mode"
   ]
  },
  {
   "cell_type": "markdown",
   "metadata": {},
   "source": [
    "# All-in-one Function\n",
    "\n",
    "This function will save all information needed for later compilation in two directories: the `heavy_dir` and the `tmp_dir`. Notice this will also reset current information in both folders."
   ]
  },
  {
   "cell_type": "code",
   "execution_count": 37,
   "metadata": {
    "ExecuteTime": {
     "end_time": "2020-04-02T21:46:06.263200Z",
     "start_time": "2020-04-02T21:44:17.472281Z"
    }
   },
   "outputs": [
    {
     "name": "stdout",
     "output_type": "stream",
     "text": [
      "Searching ../EXFOR/neutrons_2019_07_18 directory for .c4 files...\n",
      "Finished. Found 623 .c4 files.\n",
      "Directory created.\n",
      "Directory restarted.\n",
      "Extracting experimental data, authors, years, institutes, and datas...\n",
      "Finish extracting experimental data, authors, years, institutes, and datas.\n",
      "Extracting titles, references, and number of data points per experiment...\n",
      "Finished extracting titles, references, and number of data points per experiment.\n",
      "Formatting experimental data...\n",
      "Finished formating experimental data.\n",
      "Finished.\n"
     ]
    }
   ],
   "source": [
    "# exfor_parsing.get_all(c4_list, heavy_dir, tmp_path)\n",
    "exfor_parsing.get_all(exfor_parsing.get_c4_names(exfor_directory), heavy_dir, tmp_path)"
   ]
  },
  {
   "cell_type": "markdown",
   "metadata": {},
   "source": [
    "# Formatting extracted data from EXFOR\n",
    "\n",
    "The extracted data does not have much use in the current state. We need to bring it together to create a CSV file that we can use for any purpose. All the formatting can be done with the following function:"
   ]
  },
  {
   "cell_type": "code",
   "execution_count": null,
   "metadata": {
    "ExecuteTime": {
     "start_time": "2020-04-02T22:11:38.325Z"
    }
   },
   "outputs": [
    {
     "name": "stdout",
     "output_type": "stream",
     "text": [
      "Reading data points from ../ML_Data/EXFOR_neutrons/all_cross_sections_v1.txt file into a DataFrame...\n",
      "Formatting data (this may take a couple minutes)...\n"
     ]
    }
   ],
   "source": [
    "exfor_parsing.csv_creator(heavy_dir, tmp_path, ame_dir, append_ame=True, fillna=True)"
   ]
  },
  {
   "cell_type": "markdown",
   "metadata": {},
   "source": [
    "If you are interested in knowing what it does you are welcoime to follow this notebook which goes step by step into the above function."
   ]
  },
  {
   "cell_type": "markdown",
   "metadata": {},
   "source": [
    "# Extracting and Formating Data from the EXFOR files\n",
    "\n",
    "We first import the necessary modules."
   ]
  },
  {
   "cell_type": "code",
   "execution_count": 1,
   "metadata": {},
   "outputs": [],
   "source": [
    "import natsort\n",
    "from natsort import natsorted\n",
    "import os\n",
    "import shutil"
   ]
  },
  {
   "cell_type": "markdown",
   "metadata": {},
   "source": [
    "First we create a list containing the file names of all entries per element in the `neutrons` directory which was extracted from the EXFOR database."
   ]
  },
  {
   "cell_type": "code",
   "execution_count": 3,
   "metadata": {},
   "outputs": [
    {
     "name": "stdout",
     "output_type": "stream",
     "text": [
      "Searching directory for .c4 files...\n",
      "Gathered 364 .c4 files.\n"
     ]
    }
   ],
   "source": [
    "# Search all files withing the EXFOR neutrons directory\n",
    "exfor_directory = \"./EXFOR/protons/\"\n",
    "\n",
    "print(\"Searching directory for .c4 files...\")\n",
    "names = []\n",
    "for root, dirs, files in os.walk(exfor_directory):\n",
    "    for file in files:\n",
    "        if file.endswith(\".c4\"):\n",
    "            names.append(os.path.join(root, file))\n",
    "            \n",
    "print(\"Gathered {} .c4 files.\".format(len(names)))\n",
    "names = natsorted(names)"
   ]
  },
  {
   "cell_type": "markdown",
   "metadata": {},
   "source": [
    "A directory will be specified to store all our extracted text data."
   ]
  },
  {
   "cell_type": "code",
   "execution_count": 5,
   "metadata": {},
   "outputs": [
    {
     "name": "stdout",
     "output_type": "stream",
     "text": [
      "Resetting Extracted_Test directory...\n"
     ]
    }
   ],
   "source": [
    "dirpath = \"../EXFOR/Extracted_Text_Protons\"\n",
    "if os.path.isdir(dirpath):\n",
    "    print(\"Resetting Extracted_Test directory...\")\n",
    "    shutil.rmtree(dirpath)\n",
    "    os.makedirs(dirpath)\n",
    "else:\n",
    "    os.makedirs(dirpath)"
   ]
  },
  {
   "cell_type": "markdown",
   "metadata": {},
   "source": [
    "We now extract the experimental data avaliable in each file in the `neutrons` directory and format it to be read by python. The data format is given by EXFOR so we will insert commas at the specified positions. Tools like `pandas` can read character-delimited files but the EXFOR files contain no delimiter. Because of this we insert the commas at position: 5, 11, 12, 15, 19, 22, 31, 40, 49, 58, 67, 76, 85, 94, 95, 122, and 127. "
   ]
  },
  {
   "cell_type": "code",
   "execution_count": 6,
   "metadata": {},
   "outputs": [
    {
     "name": "stdout",
     "output_type": "stream",
     "text": [
      "Extracting numerical experimental data from collected EXFOR neutron files ...\n",
      "Finished extracting all experimental data.\n"
     ]
    }
   ],
   "source": [
    "print(\"Extracting numerical experimental data from collected EXFOR neutron files ...\")\n",
    "for i in names:\n",
    "    with open(i) as infile, open('../../ML_Data/all_p_cross_sections.txt', 'a') as outfile:\n",
    "        copy = False\n",
    "        for line in infile:\n",
    "            if line.startswith(r\"#---><---->o<-><-->ooo<-------><-------><-------><-------><-------><-------><-------><-------><-><-----------------------><---><->o\"):\n",
    "                copy = True\n",
    "                continue\n",
    "            elif line.startswith(r\"#/DATA\"):\n",
    "                copy = False\n",
    "                continue\n",
    "            elif copy:\n",
    "                outfile.write(line)\n",
    "print(\"Finished extracting all experimental data.\")"
   ]
  },
  {
   "cell_type": "code",
   "execution_count": 8,
   "metadata": {},
   "outputs": [],
   "source": [
    "# Using the document with all data we insert commas following the EXFOR format\n",
    "print(\"Formatting EXFOR cross section data...\")\n",
    "with open('../../ML_Data/all_p_cross_sections.txt') as infile, open('../../ML_Data/all_p_cross_sections_v1.txt', 'w') as outfile:\n",
    "    for line in infile:\n",
    "        if line.strip():\n",
    "            string = list(line)\n",
    "            for i, j in enumerate([5, 11, 12, 15, 19, 22, 31, 40, 49, 58, 67, 76, 85, 94, 95, 122, 127]):\n",
    "                string.insert(i + j, ';')\n",
    "            outfile.write(\"\".join(string))\n",
    "print(\"Finished formating EXFOR data.\")\n",
    "os.remove('../../ML_Data/all_p_cross_sections.txt')"
   ]
  },
  {
   "cell_type": "markdown",
   "metadata": {},
   "source": [
    "The EXFOR files contain more useful information worth extracting which can be deleted later at convenience. Some of these features include:\n",
    "\n",
    "- #AUTHOR1\n",
    "- #YEAR\n",
    "- #INSTITUTE \n",
    "- #TITLE\n",
    "- #REFERENCE\n",
    "- #DATE\n",
    "- #REACTION\n",
    "- #DATA (for data points)"
   ]
  },
  {
   "cell_type": "markdown",
   "metadata": {},
   "source": [
    "We now extract the `Author` for each experiment,"
   ]
  },
  {
   "cell_type": "code",
   "execution_count": 9,
   "metadata": {},
   "outputs": [
    {
     "name": "stdout",
     "output_type": "stream",
     "text": [
      "Extracting AUTHOR1 ...\n",
      "Finished extracting AUTHOR1s.\n"
     ]
    }
   ],
   "source": [
    "print(\"Extracting AUTHOR1 ...\")\n",
    "for i in names:\n",
    "    with open(i) as infile, open(dirpath + '/authors.txt', 'a') as outfile:\n",
    "        for line in infile:\n",
    "            if line.startswith(r\"#AUTHOR1\"):\n",
    "                outfile.write(line)\n",
    "print(\"Finished extracting AUTHOR1s.\")"
   ]
  },
  {
   "cell_type": "markdown",
   "metadata": {},
   "source": [
    "the `Year` when the experiment took place,"
   ]
  },
  {
   "cell_type": "code",
   "execution_count": 10,
   "metadata": {},
   "outputs": [
    {
     "name": "stdout",
     "output_type": "stream",
     "text": [
      "Extracting YEAR ...\n",
      "Finished extracting YEARs.\n"
     ]
    }
   ],
   "source": [
    "print(\"Extracting YEAR ...\")\n",
    "for i in names:\n",
    "    with open(i) as infile, open(dirpath + '/years.txt', 'a') as outfile:\n",
    "        for line in infile:\n",
    "            if line.startswith(r\"#YEAR\"):\n",
    "                outfile.write(line)\n",
    "print(\"Finished extracting YEARs.\")"
   ]
  },
  {
   "cell_type": "markdown",
   "metadata": {},
   "source": [
    "the `Institute` where the experiment took place,"
   ]
  },
  {
   "cell_type": "code",
   "execution_count": 11,
   "metadata": {},
   "outputs": [
    {
     "name": "stdout",
     "output_type": "stream",
     "text": [
      "Extracting Institute ...\n",
      "Finished extracting Institudes.\n"
     ]
    }
   ],
   "source": [
    "# #INSTITUTE\n",
    "print(\"Extracting Institute ...\")\n",
    "for i in names:\n",
    "    with open(i) as infile, open(dirpath + '/institude.txt', 'a') as outfile:\n",
    "        for line in infile:\n",
    "            if line.startswith(r\"#INSTITUTE\"):\n",
    "                outfile.write(line)\n",
    "print(\"Finished extracting Institudes.\")"
   ]
  },
  {
   "cell_type": "markdown",
   "metadata": {},
   "source": [
    "the `date` when the experiment took place,"
   ]
  },
  {
   "cell_type": "code",
   "execution_count": 12,
   "metadata": {},
   "outputs": [
    {
     "name": "stdout",
     "output_type": "stream",
     "text": [
      "Extracting DATE ...\n",
      "Finished extracting DATEs.\n"
     ]
    }
   ],
   "source": [
    "# We use the list of documents to extract only the data we need\n",
    "print(\"Extracting DATE ...\")\n",
    "for i in names:\n",
    "    with open(i) as infile, open(dirpath + '/dates.txt', 'a') as outfile:\n",
    "        for line in infile:\n",
    "            if line.startswith(r\"#DATE\"):\n",
    "                outfile.write(line)\n",
    "print(\"Finished extracting DATEs.\")"
   ]
  },
  {
   "cell_type": "markdown",
   "metadata": {},
   "source": [
    "We now extract the `Title` for each experiment,"
   ]
  },
  {
   "cell_type": "code",
   "execution_count": 13,
   "metadata": {},
   "outputs": [
    {
     "name": "stdout",
     "output_type": "stream",
     "text": [
      "Extracting TITLE ...\n",
      "Finished extracting TITLEs.\n"
     ]
    }
   ],
   "source": [
    "# #AUTHOR1\n",
    "print(\"Extracting TITLE ...\")\n",
    "for i in names:\n",
    "    with open(i, \"r\") as infile, open(dirpath + '/titles.txt', 'a') as outfile:\n",
    "        lines = infile.readlines()\n",
    "        for z, line in enumerate(lines):\n",
    "            if line.startswith(r\"#TITLE\"):\n",
    "                if lines[z + 2].startswith(r\"#+\"):\n",
    "                    if lines[z + 4].startswith(r\"#+\"):\n",
    "                        if lines[z + 6].startswith(r\"#+\"):\n",
    "                            outfile.write(str(line.strip('\\n')) + \" \" + str(lines[z+2].strip('#+').strip()) + \" \" + \n",
    "                                          str(lines[z+4].strip('#+').strip()) + \" \" +\n",
    "                                          str(lines[z+6].strip('#+').strip()) + \"\\n\")\n",
    "                        else:\n",
    "                            outfile.write(str(line.strip('\\n')) + \" \" + str(lines[z+2].strip('#+').strip()) + \" \" +\n",
    "                                          str(lines[z+4].strip('#+').strip()) + \"\\n\")\n",
    "                    else:\n",
    "                        outfile.write(str(line.strip('\\n')) + \" \" + str(lines[z+2].strip('#+').strip()) + \"\\n\")\n",
    "                else:\n",
    "                    outfile.write(line)\n",
    "print(\"Finished extracting TITLEs.\")"
   ]
  },
  {
   "cell_type": "markdown",
   "metadata": {},
   "source": [
    "and the `reference`."
   ]
  },
  {
   "cell_type": "code",
   "execution_count": 14,
   "metadata": {},
   "outputs": [
    {
     "name": "stdout",
     "output_type": "stream",
     "text": [
      "Extracting References ...\n",
      "Finished extracting references.\n"
     ]
    }
   ],
   "source": [
    "# #AUTHOR1\n",
    "print(\"Extracting References ...\")\n",
    "for i in names:\n",
    "    with open(i, \"r\") as infile, open(dirpath + '/references.txt', 'a') as outfile:\n",
    "        lines = infile.readlines()\n",
    "        for z, line in enumerate(lines):\n",
    "            if line.startswith(r\"#REFERENCE\"):\n",
    "                if lines[z + 2].startswith(r\"#+\"):\n",
    "                    if lines[z + 4].startswith(r\"#+\"):\n",
    "                        if lines[z + 6].startswith(r\"#+\"):\n",
    "                            outfile.write(str(line.strip('\\n')) + \" \" + str(lines[z+2].strip('#+').strip()) + \" \" + \n",
    "                                          str(lines[z+4].strip('#+').strip()) + \" \" +\n",
    "                                          str(lines[z+6].strip('#+').strip()) + \"\\n\")\n",
    "                        else:\n",
    "                            outfile.write(str(line.strip('\\n')) + \" \" + str(lines[z+2].strip('#+').strip()) + \" \" +\n",
    "                                          str(lines[z+4].strip('#+').strip()) + \"\\n\")\n",
    "                    else:\n",
    "                        outfile.write(str(line.strip('\\n')) + \" \" + str(lines[z+2].strip('#+').strip()) + \"\\n\")\n",
    "                else:\n",
    "                    outfile.write(line)\n",
    "print(\"Finished extracting references.\")"
   ]
  },
  {
   "cell_type": "markdown",
   "metadata": {},
   "source": [
    "We will now extract the experimental reaction in `reaction notation` avaliable in each EXFOR experimental data entry."
   ]
  },
  {
   "cell_type": "code",
   "execution_count": 15,
   "metadata": {},
   "outputs": [
    {
     "name": "stdout",
     "output_type": "stream",
     "text": [
      "Extracting reaction notation ...\n",
      "Finished extracting REACTION NOTATION.\n"
     ]
    }
   ],
   "source": [
    "# Rection Notation\n",
    "print(\"Extracting reaction notation ...\")\n",
    "for i in names:\n",
    "    with open(i, \"r\") as infile, open(dirpath + '/reaction_notation.txt', 'a') as outfile:\n",
    "        lines = infile.readlines()\n",
    "        for z, line in enumerate(lines):\n",
    "            if line.startswith(r\"#REACTION\"):\n",
    "                if lines[z + 2].startswith(r\"#+\"):\n",
    "                    if lines[z + 4].startswith(r\"#+\"):\n",
    "                        if lines[z + 6].startswith(r\"#+\"):\n",
    "                            outfile.write(str(line.strip('\\n')) + \" \" + str(lines[z+2].strip('#+').strip()) + \" \" + \n",
    "                                          str(lines[z+4].strip('#+').strip()) + \" \" +\n",
    "                                          str(lines[z+6].strip('#+').strip()) + \"\\n\")\n",
    "                        else:\n",
    "                            outfile.write(str(line.strip('\\n')) + \" \" + str(lines[z+2].strip('#+').strip()) + \" \" +\n",
    "                                          str(lines[z+4].strip('#+').strip()) + \"\\n\")\n",
    "                    else:\n",
    "                        outfile.write(str(line.strip('\\n')) + \" \" + str(lines[z+2].strip('#+').strip()) + \"\\n\")\n",
    "                else:\n",
    "                    outfile.write(line)\n",
    "print(\"Finished extracting REACTION NOTATION.\")"
   ]
  },
  {
   "cell_type": "markdown",
   "metadata": {},
   "source": [
    "Next, we extract the `number of datapoints per experiment`."
   ]
  },
  {
   "cell_type": "code",
   "execution_count": 16,
   "metadata": {},
   "outputs": [
    {
     "name": "stdout",
     "output_type": "stream",
     "text": [
      "Extracting reaction notation ...\n",
      "Finished extracting REACTION NOTATION.\n"
     ]
    }
   ],
   "source": [
    "# #AUTHOR1\n",
    "print(\"Extracting reaction notation ...\")\n",
    "for i in names:\n",
    "    with open(i, \"r\") as infile, open(dirpath + '/data_points_per_experiment_refined.txt', 'a') as outfile:\n",
    "        lines = infile.readlines()\n",
    "        for z, line in enumerate(lines):\n",
    "            if line.startswith(r\"#DATA \"):\n",
    "                if lines[z + 2].startswith(r\"#+\"):\n",
    "                    if lines[z + 4].startswith(r\"#+\"):\n",
    "                        if lines[z + 6].startswith(r\"#+\"):\n",
    "                            outfile.write(str(line.strip('\\n')) + \" \" + str(lines[z+2].strip('#+').strip()) + \" \" + \n",
    "                                          str(lines[z+4].strip('#+').strip()) + \" \" +\n",
    "                                          str(lines[z+6].strip('#+').strip()) + \"\\n\")\n",
    "                        else:\n",
    "                            outfile.write(str(line.strip('\\n')) + \" \" + str(lines[z+2].strip('#+').strip()) + \" \" +\n",
    "                                          str(lines[z+4].strip('#+').strip()) + \"\\n\")\n",
    "                    else:\n",
    "                        outfile.write(str(line.strip('\\n')) + \" \" + str(lines[z+2].strip('#+').strip()) + \"\\n\")\n",
    "                else:\n",
    "                    outfile.write(line)\n",
    "print(\"Finished extracting REACTION NOTATION.\")"
   ]
  },
  {
   "cell_type": "code",
   "execution_count": null,
   "metadata": {},
   "outputs": [],
   "source": []
  }
 ],
 "metadata": {
  "kernelspec": {
   "display_name": "Python 3",
   "language": "python",
   "name": "python3"
  },
  "language_info": {
   "codemirror_mode": {
    "name": "ipython",
    "version": 3
   },
   "file_extension": ".py",
   "mimetype": "text/x-python",
   "name": "python",
   "nbconvert_exporter": "python",
   "pygments_lexer": "ipython3",
   "version": "3.7.6"
  }
 },
 "nbformat": 4,
 "nbformat_minor": 4
}
