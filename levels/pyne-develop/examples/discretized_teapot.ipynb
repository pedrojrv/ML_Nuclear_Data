{
 "metadata": {
  "name": "",
  "signature": "sha256:0518b844828ebbae8725734d1e781c14fe1bafc0e7a05b41cc9bdb46aa55d345"
 },
 "nbformat": 3,
 "nbformat_minor": 0,
 "worksheets": [
  {
   "cells": [
    {
     "cell_type": "code",
     "collapsed": false,
     "input": [
      "from urllib import urlretrieve\n",
      "from os import path, getcwd, remove\n",
      "from numpy import linspace, bitwise_or\n",
      "\n",
      "from pyne.mesh import Mesh, NativeMeshTag\n",
      "from pyne.dagmc import load, discretize_geom\n",
      "\n",
      "from yt.config import ytcfg; ytcfg[\"yt\",\"suppressStreamLogging\"] = \"True\"\n",
      "from yt.frontends.moab.api import PyneMoabHex8Dataset\n",
      "from yt.visualization.plot_window import SlicePlot"
     ],
     "language": "python",
     "metadata": {},
     "outputs": [],
     "prompt_number": 10
    },
    {
     "cell_type": "code",
     "collapsed": false,
     "input": [
      "faceted_file = path.join(getcwd(), 'teapot.h5m')\n",
      "if not path.isfile(faceted_file):\n",
      "    url = \"http://data.pyne.io/teapot.h5m\"\n",
      "    urlretrieve(url, faceted_file)\n",
      "load(faceted_file)"
     ],
     "language": "python",
     "metadata": {},
     "outputs": [],
     "prompt_number": 11
    },
    {
     "cell_type": "code",
     "collapsed": false,
     "input": [
      "num_divisions = 50\n",
      "num_rays = 3\n",
      "\n",
      "coords0 = linspace(-6, 6, num_divisions)\n",
      "coords1 = linspace(0, 7, num_divisions)\n",
      "coords2 = linspace(-4, 4, num_divisions)"
     ],
     "language": "python",
     "metadata": {},
     "outputs": [],
     "prompt_number": 12
    },
    {
     "cell_type": "code",
     "collapsed": false,
     "input": [
      "m = Mesh(structured=True, structured_coords=[coords0, coords1, coords2], structured_ordering='zyx')"
     ],
     "language": "python",
     "metadata": {},
     "outputs": []
    },
    {
     "cell_type": "code",
     "collapsed": false,
     "input": [
      "results = discretize_geom(m, num_rays=num_rays, grid=False)"
     ],
     "language": "python",
     "metadata": {},
     "outputs": []
    },
    {
     "cell_type": "code",
     "collapsed": false,
     "input": [
      "m.vols = NativeMeshTag(1, float)\n",
      "mask = bitwise_or(results['cell'] == 1, results['cell'] == 2)\n",
      "m.vols[results['idx'][mask]] = results[mask]['vol_frac']"
     ],
     "language": "python",
     "metadata": {},
     "outputs": []
    },
    {
     "cell_type": "code",
     "collapsed": false,
     "input": [
      "pf = PyneMoabHex8Dataset(m)"
     ],
     "language": "python",
     "metadata": {},
     "outputs": []
    },
    {
     "cell_type": "code",
     "collapsed": false,
     "input": [
      "s = SlicePlot(pf, 'z', 'vols')\n",
      "s.display()"
     ],
     "language": "python",
     "metadata": {},
     "outputs": []
    }
   ],
   "metadata": {}
  }
 ]
}