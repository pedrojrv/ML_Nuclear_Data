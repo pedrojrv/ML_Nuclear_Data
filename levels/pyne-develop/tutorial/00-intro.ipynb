{
 "metadata": {
  "name": "",
  "signature": "sha256:099c3b8b44f9323821face39eb5882f59de878fbacb335333756a34643e18fa0"
 },
 "nbformat": 3,
 "nbformat_minor": 0,
 "worksheets": [
  {
   "cells": [
    {
     "cell_type": "markdown",
     "metadata": {},
     "source": [
      "PyNE Tutorial\n",
      "=============\n",
      "\n",
      "Welcome to the PyNE tutorial! \n",
      "\n",
      "![PyNE Tree](https://raw.github.com/pyne/pyne/develop/img/pyne_icon_big.png)\n"
     ]
    },
    {
     "cell_type": "markdown",
     "metadata": {},
     "source": [
      "# Before you begin\n",
      "* Hopefully you've installed the virtual machine if necessary. \n",
      "    - If not, please go to http://pyne.io/install/vb.html#vb to install a virtual machine.\n",
      "    - If so, open it now and open Accessories -> LXTerminal, navigate to ~/opt/pyne"
     ]
    },
    {
     "cell_type": "markdown",
     "metadata": {},
     "source": [
      "# Is PyNE Installed?\n",
      "\n",
      "You can verify that PyNE is successfully installed by running the following: \n"
     ]
    },
    {
     "cell_type": "code",
     "collapsed": false,
     "input": [
      "from pyne import data\n",
      "print data.atomic_mass('U235')"
     ],
     "language": "python",
     "metadata": {},
     "outputs": [
      {
       "output_type": "stream",
       "stream": "stdout",
       "text": [
        "235.043930131\n"
       ]
      }
     ],
     "prompt_number": 2
    },
    {
     "cell_type": "markdown",
     "metadata": {},
     "source": [
      "# Open the tutorial\n",
      "\n",
      "You can start the tutorial by navigating to `~/opt/pyne/tutorial` and entering\n",
      "\n",
      "```bash\n",
      "$ ipython notebook --matplotlib=inline\n",
      "```\n",
      "\n",
      "This should open the tutorial in a web browser. We'll start with `00-intro`."
     ]
    },
    {
     "cell_type": "markdown",
     "metadata": {},
     "source": [
      "# What is PyNE?\n",
      "\n",
      "As our tagline says, PyNE is the open source nuclear engineering toolkit.  \n",
      "\n",
      "* PyNE is intended as a library of composable tools that is used to build nuclear science and engineering applications.\n",
      "* It is permissively licensed (2-clause BSD).\n",
      "* It supports both a C++ and a Python API.\n",
      "* The name 'PyNE' is a bit of a misnomer since most of the code base is in C++ but most daily usage happens in Python.\n",
      "* The v0.5 code is the current stable release.\n",
      "* As an organization, PyNE was born in April 2011.  However, core parts of PyNE have existed since 2007."
     ]
    },
    {
     "cell_type": "markdown",
     "metadata": {},
     "source": [
      "# What are the goals of PyNE?\n",
      "\n",
      "To help nuclear engineers:\n",
      "\n",
      "* be more productive,\n",
      "* have the *best* solvers,\n",
      "* have a beautiful API,\n",
      "* write really great code,\n",
      "* and teach the next generation.\n",
      "\n",
      "And of course, to perform neat tricks like this:"
     ]
    },
    {
     "cell_type": "code",
     "collapsed": false,
     "input": [
      "import numpy as np\n",
      "from pyne import mesh, material \n",
      "from pyne.xs.channels import sigma_t\n",
      "\n",
      "# import a few things necessary for plotting in the notebook\n",
      "from yt.config import ytcfg; ytcfg[\"yt\",\"suppressStreamLogging\"] = \"True\"\n",
      "from yt.frontends.moab.api import PyneMoabHex8Dataset\n",
      "from yt.mods import SlicePlot\n",
      "\n",
      "# create reactor mesh\n",
      "m = mesh.Mesh(structured_coords=[np.linspace(0.0, 1.0, 101), np.linspace(0.0, 1.0, 101), [0.0, 1.0]], structured=True)\n",
      "fuel = material.from_atom_frac({'U235': 0.045, 'U238': 0.955, 'O16': 2.0}, mass=1.0, density=10.7)\n",
      "cool = material.from_atom_frac({'H1': 2.0, 'O16': 1.0}, mass=1.0, density=1.0)\n",
      "for i, mat, ve in m:\n",
      "    coord = m.mesh.getVtxCoords(ve)\n",
      "    m.mats[i] = fuel if (coord[0]**2 + coord[1]**2) <= 0.5**2 else cool\n",
      "\n",
      "# create a total cross section tag on the mesh\n",
      "m.sigma_t = mesh.ComputedTag(lambda mesh, i: sigma_t(mesh.mats[i], group_struct=[10.0, 1e-6], phi_g=[1.0])[0])\n",
      "\n",
      "# create a uranium mass tag on the mesh\n",
      "m.u_mass = mesh.ComputedTag(lambda mesh, i: max(mesh.mats[i]['U':'Np'].mass, 0.0))\n",
      "\n",
      "# plot the total cross section\n",
      "SlicePlot(PyneMoabHex8Dataset(m), 'z', 'sigma_t', origin='native').display()\n",
      "\n",
      "# print the total mass of uranium in the reactor mesh\n",
      "print \"U Content of Mesh:\", sum(m.u_mass[:]), \"grams\"\n"
     ],
     "language": "python",
     "metadata": {},
     "outputs": [
      {
       "html": [
        "<img src=\"data:image/png;base64,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\"><br>"
       ],
       "metadata": {},
       "output_type": "display_data",
       "text": [
        "<yt.visualization.plot_window.AxisAlignedSlicePlot at 0x7f4acb299050>"
       ]
      },
      {
       "output_type": "stream",
       "stream": "stdout",
       "text": [
        "U Content of Mesh: "
       ]
      },
      {
       "output_type": "stream",
       "stream": "stdout",
       "text": [
        "1732.10345314 grams\n"
       ]
      }
     ],
     "prompt_number": 9
    },
    {
     "cell_type": "markdown",
     "metadata": {},
     "source": [
      "# What could you do with PyNE?\n",
      "\n",
      "As a **user** you could do your work or research with PyNE.  Even if you have your own software that looks and behaves similarly to some aspects of PyNE, using PyNE will mean that you no longer have to develop AND maintain that functionality.\n",
      "\n",
      "As a **developer** you should be selfish.  Contribute to PyNE in ways that support the work that you are doing. If a feature you want is not in PyNE right now, chances are that other people want to see that feature too! This will help your future self as much as future other people."
     ]
    },
    {
     "cell_type": "markdown",
     "metadata": {},
     "source": [
      "# What goes into PyNE?\n",
      "\n",
      "Anything that is not export controllable, proprietary, or under HIPAA restrictions!  (If you have questions, ask.)"
     ]
    },
    {
     "cell_type": "markdown",
     "metadata": {},
     "source": [
      "# Contact PyNE\n",
      "\n",
      "**Website:** http://pyne.io/\n",
      "\n",
      "**User's Mailing List:** pyne-users@googlegroups.com\n",
      "\n",
      "**Developer's List:** pyne-dev@googlegroups.com"
     ]
    },
    {
     "cell_type": "markdown",
     "metadata": {},
     "source": [
      "# Questions?"
     ]
    }
   ],
   "metadata": {}
  }
 ]
}
