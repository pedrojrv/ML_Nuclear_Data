{
 "metadata": {
  "name": "",
  "signature": "sha256:1fa8a77810b2499de2da83e129920371f4aa86473cf5f978d0e4e9f1ed6d703e"
 },
 "nbformat": 3,
 "nbformat_minor": 0,
 "worksheets": [
  {
   "cells": [
    {
     "cell_type": "markdown",
     "metadata": {},
     "source": [
      "The PyNE ```mesh``` module provides generic mesh creation and manipulation capabilities. Both Cartesian and tetrahedral mesh are supported. PyNE meshes can be tagged with scalar and vector quantities and also PyNE `Material` objects. Tagged data can all be easily accessed with a common syntax.\n",
      "\n",
      "Under the hood, the PyNE `Mesh` class is a wrapper around a [MOAB](https://press3.mcs.anl.gov/sigma/moab-library) mesh.\n",
      "A `Mesh` object stores a mesh instance, and additionally a PyNE `MaterialLibrary` object (to map PyNE `Material`s to mesh volume elements).\n",
      "\n",
      "The notebook will provide some basic examples of PyNE mesh usage. First let's import the necessary components of PyNE and a few other things that will be explained in this notebook:\n"
     ]
    },
    {
     "cell_type": "code",
     "collapsed": false,
     "input": [
      "# Import some classes from pyne.mesh\n",
      "from pyne.mesh import Mesh, NativeMeshTag, MetadataTag, ComputedTag\n",
      "from pyne.material import Material, from_atom_frac\n",
      "from pyne.xs.channels import sigma_t\n",
      "import numpy as np\n",
      "\n",
      "# import plotting utilities\n",
      "from yt.config import ytcfg; ytcfg[\"yt\",\"suppressStreamLogging\"] = \"True\"\n",
      "from yt.frontends.moab.api import PyneMoabHex8Dataset\n",
      "from yt.mods import SlicePlot"
     ],
     "language": "python",
     "metadata": {},
     "outputs": [
      {
       "output_type": "stream",
       "stream": "stderr",
       "text": [
        "/home/pyne-user/.local/lib/python2.7/site-packages/pyne/mesh.py:12: QAWarning: pyne.mesh is not yet QA compliant.\n",
        "  warn(__name__ + \" is not yet QA compliant.\", QAWarning)\n",
        "/home/pyne-user/.local/lib/python2.7/site-packages/pyne/mesh.py:20: QAWarning: pyne.data is not yet QA compliant.\n",
        "  from pyne.material import Material, MaterialLibrary, MultiMaterial\n"
       ]
      },
      {
       "output_type": "stream",
       "stream": "stderr",
       "text": [
        "/home/pyne-user/.local/lib/python2.7/site-packages/pyne/mesh.py:20: QAWarning: pyne.material is not yet QA compliant.\n",
        "  from pyne.material import Material, MaterialLibrary, MultiMaterial\n",
        "/home/pyne-user/.local/lib/python2.7/site-packages/pyne/xs/channels.py:20: QAWarning: pyne.rxname is not yet QA compliant.\n",
        "  from .. import rxname\n"
       ]
      },
      {
       "output_type": "stream",
       "stream": "stderr",
       "text": [
        "/home/pyne-user/.local/lib/python2.7/site-packages/pyne/xs/channels.py:22: QAWarning: pyne.xs.models is not yet QA compliant.\n",
        "  from . import models\n",
        "/home/pyne-user/.local/lib/python2.7/site-packages/pyne/openmc.py:18: QAWarning: pyne.openmc is not yet QA compliant.\n",
        "  warn(__name__ + \" is not yet QA compliant.\", QAWarning)\n",
        "/home/pyne-user/.local/lib/python2.7/site-packages/pyne/rxdata.py:5: QAWarning: pyne.rxdata is not yet QA compliant.\n",
        "  warn(__name__ + \" is not yet QA compliant.\", QAWarning)\n"
       ]
      },
      {
       "output_type": "stream",
       "stream": "stderr",
       "text": [
        "/home/pyne-user/.local/lib/python2.7/site-packages/pyne/xs/data_source.py:23: QAWarning: pyne.endf is not yet QA compliant.\n",
        "  from pyne import endf\n",
        "/home/pyne-user/.local/lib/python2.7/site-packages/pyne/xs/data_source.py:24: QAWarning: pyne.bins is not yet QA compliant.\n",
        "  from pyne import bins\n",
        "/home/pyne-user/.local/lib/python2.7/site-packages/pyne/xs/data_source.py:25: QAWarning: pyne.ace is not yet QA compliant.\n",
        "  from pyne import ace\n",
        "/home/pyne-user/.local/lib/python2.7/site-packages/pyne/xs/data_source.py:29: QAWarning: pyne.xs.data_source is not yet QA compliant.\n",
        "  warn(__name__ + \" is not yet QA compliant.\", QAWarning)\n",
        "/home/pyne-user/.local/lib/python2.7/site-packages/pyne/xs/cache.py:19: QAWarning: pyne.xs.cache is not yet QA compliant.\n",
        "  warn(__name__ + \" is not yet QA compliant.\", QAWarning)\n",
        "/home/pyne-user/.local/lib/python2.7/site-packages/pyne/xs/channels.py:26: QAWarning: pyne.xs.channels is not yet QA compliant.\n",
        "  warn(__name__ + \" is not yet QA compliant.\", QAWarning)\n"
       ]
      }
     ],
     "prompt_number": 1
    },
    {
     "cell_type": "heading",
     "level": 1,
     "metadata": {},
     "source": [
      "Basics"
     ]
    },
    {
     "cell_type": "markdown",
     "metadata": {},
     "source": [
      "Let's make a simple Cartesian mesh that is 4 x 3 x 1:"
     ]
    },
    {
     "cell_type": "code",
     "collapsed": false,
     "input": [
      "coords = [[0, 1, 2, 3, 4], [0, 1, 2, 3], [0,1]]\n",
      "m = Mesh(structured=True, structured_coords=coords) # here \"structured\" means Cartesian"
     ],
     "language": "python",
     "metadata": {},
     "outputs": [],
     "prompt_number": 249
    },
    {
     "cell_type": "markdown",
     "metadata": {},
     "source": [
      "Tags -- sometimes known as fields -- are a way of storing data on a mesh. Both scalar and vector quantities can be tagged on each volume element of the mesh using PyNE NativeMeshTags. Here we create a scalar, floating point tag to describe the neutron flux on a mesh:"
     ]
    },
    {
     "cell_type": "code",
     "collapsed": false,
     "input": [
      "m.neutron_flux = NativeMeshTag(size=1, dtype=float)"
     ],
     "language": "python",
     "metadata": {},
     "outputs": [],
     "prompt_number": 250
    },
    {
     "cell_type": "markdown",
     "metadata": {},
     "source": [
      "Some fictitious neutron flux data can now be applied to the mesh:"
     ]
    },
    {
     "cell_type": "code",
     "collapsed": false,
     "input": [
      "m.neutron_flux[:] = [0.0, 2.0, 4.0, 6.0, 8.0, 10.0, 12.0, 14.0, 16.0, 18.0, 20.0, 22.0]"
     ],
     "language": "python",
     "metadata": {},
     "outputs": [],
     "prompt_number": 251
    },
    {
     "cell_type": "markdown",
     "metadata": {},
     "source": [
      "PyNE meshes are supported by the [yt project](http://yt-project.org/).  Here we use yt's plotting infrastructure to display the mesh tag that was just created:"
     ]
    },
    {
     "cell_type": "code",
     "collapsed": false,
     "input": [
      "pf = PyneMoabHex8Dataset(m)\n",
      "s = SlicePlot(pf, 'z', 'neutron_flux', origin='native')\n",
      "s.set_cmap('neutron_flux', 'Purples')\n",
      "s.display()"
     ],
     "language": "python",
     "metadata": {},
     "outputs": [
      {
       "html": [
        "<img src=\"data:image/png;base64,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\"><br>"
       ],
       "metadata": {},
       "output_type": "display_data",
       "text": [
        "<yt.visualization.plot_window.AxisAlignedSlicePlot at 0x7faab8a05810>"
       ]
      }
     ],
     "prompt_number": 252
    },
    {
     "cell_type": "markdown",
     "metadata": {},
     "source": [
      "The volume elements within the mesh are kept track of using the volume element index (`i`). The volume element index is defined on the range from 0 (inclusive) to the number of volumes in the mesh (exclusive).\n",
      "\n",
      "The flux for the volume element `i=7` can be retrieved (and similarly set) using the following syntax:"
     ]
    },
    {
     "cell_type": "code",
     "collapsed": false,
     "input": [
      "m.neutron_flux[7]"
     ],
     "language": "python",
     "metadata": {},
     "outputs": [
      {
       "metadata": {},
       "output_type": "pyout",
       "prompt_number": 253,
       "text": [
        "14.0"
       ]
      }
     ],
     "prompt_number": 253
    },
    {
     "cell_type": "markdown",
     "metadata": {},
     "source": [
      "\"Fancy\" indexing can be used. This means that multiple indicies can be provided, yielding the tag value for each:"
     ]
    },
    {
     "cell_type": "code",
     "collapsed": false,
     "input": [
      "m.neutron_flux[2, 3, 4]"
     ],
     "language": "python",
     "metadata": {},
     "outputs": [
      {
       "metadata": {},
       "output_type": "pyout",
       "prompt_number": 254,
       "text": [
        "array([ 4.,  6.,  8.])"
       ]
      }
     ],
     "prompt_number": 254
    },
    {
     "cell_type": "markdown",
     "metadata": {},
     "source": [
      "Masking can be used to return only values that match some criteria. Here we request all flux values above 10.0:"
     ]
    },
    {
     "cell_type": "code",
     "collapsed": false,
     "input": [
      "m.neutron_flux[m.neutron_flux[:] >= 10.0]"
     ],
     "language": "python",
     "metadata": {},
     "outputs": [
      {
       "metadata": {},
       "output_type": "pyout",
       "prompt_number": 255,
       "text": [
        "array([ 10.,  12.,  14.,  16.,  18.,  20.,  22.])"
       ]
      }
     ],
     "prompt_number": 255
    },
    {
     "cell_type": "heading",
     "level": 1,
     "metadata": {},
     "source": [
      "PyNE Mesh + PyNE Materials"
     ]
    },
    {
     "cell_type": "markdown",
     "metadata": {},
     "source": [
      "PyNE meshes can natively store PyNE `Material` objects. This can be used to represent discretized versions of geometries. First we create a new mesh, `m2`, that is a slightly larger mesh than our previous example. This one is 9x9x1:"
     ]
    },
    {
     "cell_type": "code",
     "collapsed": false,
     "input": [
      "coords2 = [np.linspace(0,9,10), np.linspace(0,9,10), [0, 10]]\n",
      "m2 = Mesh(structured=True, structured_coords=coords2)"
     ],
     "language": "python",
     "metadata": {},
     "outputs": [],
     "prompt_number": 2
    },
    {
     "cell_type": "markdown",
     "metadata": {},
     "source": [
      "Create a few materials that will be assigned to the mesh:"
     ]
    },
    {
     "cell_type": "code",
     "collapsed": false,
     "input": [
      "fuel = from_atom_frac({'U235': 0.045, 'U238': 0.955, 'O16': 2.0}, density=10.7)\n",
      "mod = from_atom_frac({'H1': 2.0, 'O16': 1.0}, density=1.0)"
     ],
     "language": "python",
     "metadata": {},
     "outputs": [],
     "prompt_number": 3
    },
    {
     "cell_type": "markdown",
     "metadata": {},
     "source": [
      "Loop through the mesh and assign materials in a reactor-like pattern:"
     ]
    },
    {
     "cell_type": "code",
     "collapsed": false,
     "input": [
      "for i in range(len(m2)):\n",
      "    if (i+1)%2 != 0 and np.floor((i)/9)%2 != 0:\n",
      "        m2.mats[i] = fuel\n",
      "    else:    \n",
      "        m2.mats[i] = mod"
     ],
     "language": "python",
     "metadata": {},
     "outputs": [],
     "prompt_number": 4
    },
    {
     "cell_type": "markdown",
     "metadata": {},
     "source": [
      "Plot the density. Here the fuel appears red (high density) and the moderator appears blue (low density)."
     ]
    },
    {
     "cell_type": "code",
     "collapsed": false,
     "input": [
      "pf2 = PyneMoabHex8Dataset(m2)\n",
      "s2 = SlicePlot(pf2, 'z', 'density', origin='native')\n",
      "s2.set_cmap('density', 'RdBu_r')\n",
      "s2.display()"
     ],
     "language": "python",
     "metadata": {},
     "outputs": [
      {
       "html": [
        "<img src=\"data:image/png;base64,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\"><br>"
       ],
       "metadata": {},
       "output_type": "display_data",
       "text": [
        "<yt.visualization.plot_window.AxisAlignedSlicePlot at 0x7f9a4949ac50>"
       ]
      }
     ],
     "prompt_number": 5
    },
    {
     "cell_type": "markdown",
     "metadata": {},
     "source": [
      "The materials that we've added to the mesh can be accesssed via the same syntax used for NativeMeshTags. The material on the the mesh volume element with index `i=12` is retrieved:"
     ]
    },
    {
     "cell_type": "code",
     "collapsed": false,
     "input": [
      "m2.mats[12]"
     ],
     "language": "python",
     "metadata": {},
     "outputs": [
      {
       "metadata": {},
       "output_type": "pyout",
       "prompt_number": 235,
       "text": [
        "pyne.material.Material({80160000: 0.11852241570586383, 922350000: 0.03918773177732002, 922380000: 0.8422898525168162}, 269.905309039, 10.7, 3.0, {})"
       ]
      }
     ],
     "prompt_number": 235
    },
    {
     "cell_type": "markdown",
     "metadata": {},
     "source": [
      "The attributes of this material can be accessed:"
     ]
    },
    {
     "cell_type": "code",
     "collapsed": false,
     "input": [
      "m2.mats[12].density"
     ],
     "language": "python",
     "metadata": {},
     "outputs": [
      {
       "metadata": {},
       "output_type": "pyout",
       "prompt_number": 234,
       "text": [
        "10.7"
       ]
      }
     ],
     "prompt_number": 234
    },
    {
     "cell_type": "markdown",
     "metadata": {},
     "source": [
      "Equivalently the density can be accessed via the generic tag syntax:"
     ]
    },
    {
     "cell_type": "code",
     "collapsed": false,
     "input": [
      "m2.density[3]"
     ],
     "language": "python",
     "metadata": {},
     "outputs": [
      {
       "metadata": {},
       "output_type": "pyout",
       "prompt_number": 223,
       "text": [
        "1.0"
       ]
      }
     ],
     "prompt_number": 223
    },
    {
     "cell_type": "markdown",
     "metadata": {},
     "source": [
      "The same is true of the composition of the material (another attribute of the `Material` class):"
     ]
    },
    {
     "cell_type": "code",
     "collapsed": false,
     "input": [
      "m2.comp[3]"
     ],
     "language": "python",
     "metadata": {},
     "outputs": [
      {
       "metadata": {},
       "output_type": "pyout",
       "prompt_number": 6,
       "text": [
        "{10010000: 0.11191487328808077, 80160000: 0.8880851267119192}"
       ]
      }
     ],
     "prompt_number": 6
    },
    {
     "cell_type": "markdown",
     "metadata": {},
     "source": [
      "In fact, all `Material` attributes are treated as tags. A list of all tags, including these material properties treated as tags is shown here:"
     ]
    },
    {
     "cell_type": "code",
     "collapsed": false,
     "input": [
      "m2.tags.keys()"
     ],
     "language": "python",
     "metadata": {},
     "outputs": [
      {
       "metadata": {},
       "output_type": "pyout",
       "prompt_number": 266,
       "text": [
        "['sub_act',\n",
        " 'expand_elements',\n",
        " 'number_density',\n",
        " 'sub_tru',\n",
        " 'idx',\n",
        " 'density',\n",
        " 'comp',\n",
        " 'atoms_per_molecule',\n",
        " 'to_atom_frac',\n",
        " 'sub_lan',\n",
        " 'molecular_mass',\n",
        " 'mass',\n",
        " 'sub_fp',\n",
        " 'mult_by_mass',\n",
        " 'sub_ma',\n",
        " 'mass_density',\n",
        " 'metadata']"
       ]
      }
     ],
     "prompt_number": 266
    },
    {
     "cell_type": "heading",
     "level": 1,
     "metadata": {},
     "source": [
      "Advanced Feature: Computed Tags"
     ]
    },
    {
     "cell_type": "markdown",
     "metadata": {},
     "source": [
      "Computed tags (also known as \"derived fields\") are a way of creating a \"virtual\" tag. That is, computed tags to not require tag data to be actually stored on the mesh, or even computed ahead of time. When data is requested from a computed tag, it is calculated and returned on-the-fly (this is known as \"lazy evaluation\"). This convenient feature when dealing with extremely large data.\n",
      "\n",
      "A computed tag is defined with a function, lambda (a.k.a an \"anonymous\" function), or any other callable object. The function must have the following interface:\n",
      "\n",
      "```python\n",
      "def f(mesh, i):\n",
      "    \"\"\"mesh is a pyne.mesh.Mesh() object and i is the volume element index\n",
      "    to compute.\n",
      "    \"\"\"\n",
      "    # ... do some work ...\n",
      "    return anything_you_want\n",
      "```\n",
      "\n",
      "Computed tags are probably best-understood through example. Here is a simple, somewhat silly example that creates a computed tag `i_plus_density` which is simply the sum of the mesh volume element index `i` and density:"
     ]
    },
    {
     "cell_type": "code",
     "collapsed": false,
     "input": [
      "m2.i_plus_density = ComputedTag(lambda mesh, i: i + mesh.density[i])"
     ],
     "language": "python",
     "metadata": {},
     "outputs": [],
     "prompt_number": 7
    },
    {
     "cell_type": "markdown",
     "metadata": {},
     "source": [
      "Plotting `i_plus_density`:"
     ]
    },
    {
     "cell_type": "code",
     "collapsed": false,
     "input": [
      "pf3 = PyneMoabHex8Dataset(m2)\n",
      "s3 = SlicePlot(pf3, 'z', 'i_plus_density', origin='native')\n",
      "s3.set_cmap('i_plus_density', 'RdBu_r')\n",
      "s3.display()"
     ],
     "language": "python",
     "metadata": {},
     "outputs": [
      {
       "html": [
        "<img src=\"data:image/png;base64,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\"><br>"
       ],
       "metadata": {},
       "output_type": "display_data",
       "text": [
        "<yt.visualization.plot_window.AxisAlignedSlicePlot at 0x7faac805f350>"
       ]
      }
     ],
     "prompt_number": 285
    },
    {
     "cell_type": "markdown",
     "metadata": {},
     "source": [
      "Here is a more serious example which uses PyNE's cross section tools to compute the one-group total cross section $\\sigma_t$ everywhere on the mesh."
     ]
    },
    {
     "cell_type": "code",
     "collapsed": false,
     "input": [
      "m2.sigma_t = ComputedTag(lambda mesh, i: sigma_t(mesh.mats[i], group_struct=[10.0, 1e-6], phi_g=[1.0])[0])"
     ],
     "language": "python",
     "metadata": {},
     "outputs": [],
     "prompt_number": 288
    },
    {
     "cell_type": "code",
     "collapsed": false,
     "input": [
      "pf4 = PyneMoabHex8Dataset(m2)\n",
      "s4 = SlicePlot(pf4, 'z', 'sigma_t', origin='native')\n",
      "s4.set_cmap('sigma_t', 'RdBu_r')\n",
      "s4.display()"
     ],
     "language": "python",
     "metadata": {},
     "outputs": [
      {
       "html": [
        "<img src=\"data:image/png;base64,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\"><br>"
       ],
       "metadata": {},
       "output_type": "display_data",
       "text": [
        "<yt.visualization.plot_window.AxisAlignedSlicePlot at 0x7faac80e17d0>"
       ]
      }
     ],
     "prompt_number": 291
    },
    {
     "cell_type": "markdown",
     "metadata": {},
     "source": [
      "This plot shows that the one-group total cross section is highest in the moderater -- all from a computed tag generated in one line of code!"
     ]
    }
   ],
   "metadata": {}
  }
 ]
}
