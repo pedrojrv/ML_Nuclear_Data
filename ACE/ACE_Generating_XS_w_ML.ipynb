{
 "cells": [
  {
   "cell_type": "markdown",
   "metadata": {},
   "source": [
    "# Modeling Cross Section Data with KNN, DT, and Random Forest"
   ]
  },
  {
   "cell_type": "code",
   "execution_count": 1,
   "metadata": {
    "ExecuteTime": {
     "end_time": "2020-06-23T23:05:49.701270Z",
     "start_time": "2020-06-23T23:05:47.711492Z"
    }
   },
   "outputs": [],
   "source": [
    "import pandas as pd\n",
    "import numpy as np\n",
    "import seaborn as sns\n",
    "import matplotlib.pyplot as plt\n",
    "import importlib\n",
    "from sklearn.model_selection import train_test_split\n",
    "from sklearn.metrics import mean_absolute_error\n",
    "import natsort\n",
    "\n",
    "pd.set_option('display.max_columns', 500)\n",
    "pd.set_option('display.max_rows', 50)\n",
    "pd.options.mode.chained_assignment = None  # default='warn'\n",
    "sns.set_style(\"white\")"
   ]
  },
  {
   "cell_type": "code",
   "execution_count": 2,
   "metadata": {
    "ExecuteTime": {
     "end_time": "2020-06-23T23:05:53.174755Z",
     "start_time": "2020-06-23T23:05:49.703770Z"
    }
   },
   "outputs": [],
   "source": [
    "import sys\n",
    "# This allows us to import the nucml utilities\n",
    "sys.path.append(\"..\")\n",
    "\n",
    "import nucml.exfor.data_utilities as exfor_utils\n",
    "import nucml.endf.data_utilities as endf_utils\n",
    "import nucml.plot.plotting_utilities as plot_utils\n",
    "import nucml.datasets as nuc_data\n",
    "import nucml.ace.data_utilities as ace_utils\n",
    "import nucml.model.model_building as model_building\n",
    "import nucml.general_utilities as gen_utils"
   ]
  },
  {
   "cell_type": "code",
   "execution_count": 3,
   "metadata": {
    "ExecuteTime": {
     "end_time": "2020-06-23T23:05:53.190258Z",
     "start_time": "2020-06-23T23:05:53.176758Z"
    }
   },
   "outputs": [
    {
     "name": "stdout",
     "output_type": "stream",
     "text": [
      "Finish re-loading scripts.\n"
     ]
    }
   ],
   "source": [
    "importlib.reload(exfor_utils)\n",
    "importlib.reload(gen_utils)\n",
    "importlib.reload(endf_utils)\n",
    "importlib.reload(plot_utils)\n",
    "importlib.reload(nuc_data)\n",
    "importlib.reload(ace_utils)\n",
    "importlib.reload(model_building)\n",
    "print(\"Finish re-loading scripts.\")"
   ]
  },
  {
   "cell_type": "code",
   "execution_count": 4,
   "metadata": {
    "ExecuteTime": {
     "end_time": "2020-06-23T23:05:53.195764Z",
     "start_time": "2020-06-23T23:05:53.193258Z"
    }
   },
   "outputs": [],
   "source": [
    "figure_dir = \"../Figures/EXFOR_N/ACE/\""
   ]
  },
  {
   "cell_type": "markdown",
   "metadata": {},
   "source": [
    "# Loading Normalized One-Hot Encoded Training, Validation, and Testing Datasets"
   ]
  },
  {
   "cell_type": "code",
   "execution_count": 5,
   "metadata": {
    "ExecuteTime": {
     "end_time": "2020-06-23T23:07:23.963249Z",
     "start_time": "2020-06-23T23:05:59.310435Z"
    }
   },
   "outputs": [
    {
     "name": "stdout",
     "output_type": "stream",
     "text": [
      "C:\\Users\\Pedro\\Desktop\\ML_Nuclear_Data\\ML_Data\\EXFOR_neutrons\\EXFOR_neutrons_MF3_AME_no_NaNRaw.csv\n",
      "Reading data into dataframe...\n",
      " MODE: neutrons\n",
      " LOW ENERGY: True\n",
      " LOG: True\n",
      " BASIC: 0\n",
      "Data read into dataframe with shape:  (4184245, 10)\n",
      "Dropping unnecessary features and one-hot encoding categorical columns...\n",
      "Splitting dataset into training and testing...\n",
      "Normalizing dataset...\n",
      "Finished. Resulting dataset has shape  (4184245, 49) \n",
      "Training and Testing dataset shapes are (3765820, 48) and (418425, 48) respesctively.\n"
     ]
    }
   ],
   "source": [
    "df, x_train, x_test, y_train, y_test, to_scale, scaler = nuc_data.load_exfor(log=True, basic=0, num=True, low_en=True)"
   ]
  },
  {
   "cell_type": "markdown",
   "metadata": {},
   "source": [
    "# Sampling Chlorine (n,p) and U-233(n,f) Data for Visualization\n",
    "\n",
    "The model will be trained in the entire data therefore getting the total MSE. As an example, we will see the model predictions for both the mentioned reactions. "
   ]
  },
  {
   "cell_type": "code",
   "execution_count": 5,
   "metadata": {
    "ExecuteTime": {
     "end_time": "2020-06-18T19:11:31.918267Z",
     "start_time": "2020-06-18T19:11:31.597211Z"
    }
   },
   "outputs": [
    {
     "name": "stdout",
     "output_type": "stream",
     "text": [
      "Extracting samples from dataframe.\n",
      "Scaling dataset...\n",
      "EXFOR extracted DataFrame has shape:  (215, 49)\n",
      "Extracting samples from dataframe.\n",
      "Scaling dataset...\n",
      "EXFOR extracted DataFrame has shape:  (40108, 49)\n",
      "Extracting samples from dataframe.\n",
      "Scaling dataset...\n",
      "EXFOR extracted DataFrame has shape:  (94567, 49)\n",
      "Extracting samples from dataframe.\n",
      "EXFOR extracted DataFrame has shape:  (33384, 49)\n"
     ]
    }
   ],
   "source": [
    "kwargs = {\"nat_iso\": \"I\", \"one_hot\": True, \"scale\": True, \"scaler\": scaler, \"to_scale\": to_scale}\n",
    "\n",
    "chlorine_35_np = exfor_utils.load_exfor_samples(df, 17, 35, \"MT_103\", **kwargs)\n",
    "uranium_235_nt = exfor_utils.load_exfor_samples(df, 92, 235, \"MT_1\", **kwargs)\n",
    "uranium_233_nf = exfor_utils.load_exfor_samples(df, 92, 233, \"MT_18\", **kwargs)\n",
    "uranium_233_nt = exfor_utils.load_exfor_samples(df, 92, 233, \"MT_1\", one_hot=True)"
   ]
  },
  {
   "cell_type": "code",
   "execution_count": 6,
   "metadata": {
    "ExecuteTime": {
     "end_time": "2020-06-18T19:11:32.418855Z",
     "start_time": "2020-06-18T19:11:31.920267Z"
    }
   },
   "outputs": [
    {
     "name": "stdout",
     "output_type": "stream",
     "text": [
      "Extracting samples from dataframe.\n",
      "Scaling dataset...\n",
      "EXFOR extracted DataFrame has shape:  (468123, 49)\n"
     ]
    }
   ],
   "source": [
    "kwargs = {\"nat_iso\": \"I\", \"one_hot\": True, \"scale\": True, \"scaler\": scaler, \"to_scale\": to_scale}\n",
    "uranium = exfor_utils.load_exfor_element(df, 92, **kwargs)"
   ]
  },
  {
   "cell_type": "markdown",
   "metadata": {},
   "source": [
    "# Newly Measured Chlorine (n,p) Unseen Data \n",
    "\n",
    "These data points are not in the current EXFOR data package and will be used to test the new modeling capabilities."
   ]
  },
  {
   "cell_type": "code",
   "execution_count": 38,
   "metadata": {
    "ExecuteTime": {
     "end_time": "2020-06-19T21:42:42.198380Z",
     "start_time": "2020-06-19T21:42:42.094362Z"
    }
   },
   "outputs": [
    {
     "name": "stdout",
     "output_type": "stream",
     "text": [
      "Extracting samples from dataframe.\n",
      "EXFOR extracted DataFrame has shape:  (215, 49)\n",
      "Scaling dataset...\n",
      "Expanded Dataset has shape:  (12, 49)\n"
     ]
    },
    {
     "data": {
      "text/html": [
       "<div>\n",
       "<style scoped>\n",
       "    .dataframe tbody tr th:only-of-type {\n",
       "        vertical-align: middle;\n",
       "    }\n",
       "\n",
       "    .dataframe tbody tr th {\n",
       "        vertical-align: top;\n",
       "    }\n",
       "\n",
       "    .dataframe thead th {\n",
       "        text-align: right;\n",
       "    }\n",
       "</style>\n",
       "<table border=\"1\" class=\"dataframe\">\n",
       "  <thead>\n",
       "    <tr style=\"text-align: right;\">\n",
       "      <th></th>\n",
       "      <th>Energy</th>\n",
       "      <th>Data</th>\n",
       "      <th>Target_Protons</th>\n",
       "      <th>Target_Neutrons</th>\n",
       "      <th>Target_Mass_Number</th>\n",
       "      <th>MT_1</th>\n",
       "      <th>MT_102</th>\n",
       "      <th>MT_16</th>\n",
       "      <th>MT_17</th>\n",
       "      <th>MT_2</th>\n",
       "      <th>MT_3</th>\n",
       "      <th>MT_4</th>\n",
       "      <th>MT_101</th>\n",
       "      <th>MT_103</th>\n",
       "      <th>MT_104</th>\n",
       "      <th>MT_41</th>\n",
       "      <th>MT_9000</th>\n",
       "      <th>MT_105</th>\n",
       "      <th>MT_32</th>\n",
       "      <th>MT_51</th>\n",
       "      <th>MT_33</th>\n",
       "      <th>MT_107</th>\n",
       "      <th>MT_24</th>\n",
       "      <th>MT_155</th>\n",
       "      <th>MT_158</th>\n",
       "      <th>MT_159</th>\n",
       "      <th>MT_108</th>\n",
       "      <th>MT_29</th>\n",
       "      <th>MT_1108</th>\n",
       "      <th>MT_113</th>\n",
       "      <th>MT_106</th>\n",
       "      <th>MT_22</th>\n",
       "      <th>MT_1003</th>\n",
       "      <th>MT_9001</th>\n",
       "      <th>MT_28</th>\n",
       "      <th>MT_111</th>\n",
       "      <th>MT_203</th>\n",
       "      <th>MT_2103</th>\n",
       "      <th>MT_112</th>\n",
       "      <th>MT_37</th>\n",
       "      <th>MT_161</th>\n",
       "      <th>MT_152</th>\n",
       "      <th>MT_153</th>\n",
       "      <th>MT_18</th>\n",
       "      <th>MT_160</th>\n",
       "      <th>Frame_L</th>\n",
       "      <th>Frame_C</th>\n",
       "      <th>Target_Flag_I</th>\n",
       "      <th>Target_Flag_N</th>\n",
       "    </tr>\n",
       "  </thead>\n",
       "  <tbody>\n",
       "    <tr>\n",
       "      <th>0</th>\n",
       "      <td>6.383815</td>\n",
       "      <td>-1.779892</td>\n",
       "      <td>-1.148362</td>\n",
       "      <td>-1.171466</td>\n",
       "      <td>-1.158608</td>\n",
       "      <td>0</td>\n",
       "      <td>0</td>\n",
       "      <td>0</td>\n",
       "      <td>0</td>\n",
       "      <td>0</td>\n",
       "      <td>0</td>\n",
       "      <td>0</td>\n",
       "      <td>0</td>\n",
       "      <td>1</td>\n",
       "      <td>0</td>\n",
       "      <td>0</td>\n",
       "      <td>0</td>\n",
       "      <td>0</td>\n",
       "      <td>0</td>\n",
       "      <td>0</td>\n",
       "      <td>0</td>\n",
       "      <td>0</td>\n",
       "      <td>0</td>\n",
       "      <td>0</td>\n",
       "      <td>0</td>\n",
       "      <td>0</td>\n",
       "      <td>0</td>\n",
       "      <td>0</td>\n",
       "      <td>0</td>\n",
       "      <td>0</td>\n",
       "      <td>0</td>\n",
       "      <td>0</td>\n",
       "      <td>0</td>\n",
       "      <td>0</td>\n",
       "      <td>0</td>\n",
       "      <td>0</td>\n",
       "      <td>0</td>\n",
       "      <td>0</td>\n",
       "      <td>0</td>\n",
       "      <td>0</td>\n",
       "      <td>0</td>\n",
       "      <td>0</td>\n",
       "      <td>0</td>\n",
       "      <td>0</td>\n",
       "      <td>0</td>\n",
       "      <td>1</td>\n",
       "      <td>0</td>\n",
       "      <td>1</td>\n",
       "      <td>0</td>\n",
       "    </tr>\n",
       "    <tr>\n",
       "      <th>1</th>\n",
       "      <td>6.383815</td>\n",
       "      <td>-1.707744</td>\n",
       "      <td>-1.148362</td>\n",
       "      <td>-1.171466</td>\n",
       "      <td>-1.158608</td>\n",
       "      <td>0</td>\n",
       "      <td>0</td>\n",
       "      <td>0</td>\n",
       "      <td>0</td>\n",
       "      <td>0</td>\n",
       "      <td>0</td>\n",
       "      <td>0</td>\n",
       "      <td>0</td>\n",
       "      <td>1</td>\n",
       "      <td>0</td>\n",
       "      <td>0</td>\n",
       "      <td>0</td>\n",
       "      <td>0</td>\n",
       "      <td>0</td>\n",
       "      <td>0</td>\n",
       "      <td>0</td>\n",
       "      <td>0</td>\n",
       "      <td>0</td>\n",
       "      <td>0</td>\n",
       "      <td>0</td>\n",
       "      <td>0</td>\n",
       "      <td>0</td>\n",
       "      <td>0</td>\n",
       "      <td>0</td>\n",
       "      <td>0</td>\n",
       "      <td>0</td>\n",
       "      <td>0</td>\n",
       "      <td>0</td>\n",
       "      <td>0</td>\n",
       "      <td>0</td>\n",
       "      <td>0</td>\n",
       "      <td>0</td>\n",
       "      <td>0</td>\n",
       "      <td>0</td>\n",
       "      <td>0</td>\n",
       "      <td>0</td>\n",
       "      <td>0</td>\n",
       "      <td>0</td>\n",
       "      <td>0</td>\n",
       "      <td>0</td>\n",
       "      <td>1</td>\n",
       "      <td>0</td>\n",
       "      <td>1</td>\n",
       "      <td>0</td>\n",
       "    </tr>\n",
       "    <tr>\n",
       "      <th>2</th>\n",
       "      <td>6.401401</td>\n",
       "      <td>-1.583359</td>\n",
       "      <td>-1.148362</td>\n",
       "      <td>-1.171466</td>\n",
       "      <td>-1.158608</td>\n",
       "      <td>0</td>\n",
       "      <td>0</td>\n",
       "      <td>0</td>\n",
       "      <td>0</td>\n",
       "      <td>0</td>\n",
       "      <td>0</td>\n",
       "      <td>0</td>\n",
       "      <td>0</td>\n",
       "      <td>1</td>\n",
       "      <td>0</td>\n",
       "      <td>0</td>\n",
       "      <td>0</td>\n",
       "      <td>0</td>\n",
       "      <td>0</td>\n",
       "      <td>0</td>\n",
       "      <td>0</td>\n",
       "      <td>0</td>\n",
       "      <td>0</td>\n",
       "      <td>0</td>\n",
       "      <td>0</td>\n",
       "      <td>0</td>\n",
       "      <td>0</td>\n",
       "      <td>0</td>\n",
       "      <td>0</td>\n",
       "      <td>0</td>\n",
       "      <td>0</td>\n",
       "      <td>0</td>\n",
       "      <td>0</td>\n",
       "      <td>0</td>\n",
       "      <td>0</td>\n",
       "      <td>0</td>\n",
       "      <td>0</td>\n",
       "      <td>0</td>\n",
       "      <td>0</td>\n",
       "      <td>0</td>\n",
       "      <td>0</td>\n",
       "      <td>0</td>\n",
       "      <td>0</td>\n",
       "      <td>0</td>\n",
       "      <td>0</td>\n",
       "      <td>1</td>\n",
       "      <td>0</td>\n",
       "      <td>1</td>\n",
       "      <td>0</td>\n",
       "    </tr>\n",
       "    <tr>\n",
       "      <th>3</th>\n",
       "      <td>6.401401</td>\n",
       "      <td>-1.590067</td>\n",
       "      <td>-1.148362</td>\n",
       "      <td>-1.171466</td>\n",
       "      <td>-1.158608</td>\n",
       "      <td>0</td>\n",
       "      <td>0</td>\n",
       "      <td>0</td>\n",
       "      <td>0</td>\n",
       "      <td>0</td>\n",
       "      <td>0</td>\n",
       "      <td>0</td>\n",
       "      <td>0</td>\n",
       "      <td>1</td>\n",
       "      <td>0</td>\n",
       "      <td>0</td>\n",
       "      <td>0</td>\n",
       "      <td>0</td>\n",
       "      <td>0</td>\n",
       "      <td>0</td>\n",
       "      <td>0</td>\n",
       "      <td>0</td>\n",
       "      <td>0</td>\n",
       "      <td>0</td>\n",
       "      <td>0</td>\n",
       "      <td>0</td>\n",
       "      <td>0</td>\n",
       "      <td>0</td>\n",
       "      <td>0</td>\n",
       "      <td>0</td>\n",
       "      <td>0</td>\n",
       "      <td>0</td>\n",
       "      <td>0</td>\n",
       "      <td>0</td>\n",
       "      <td>0</td>\n",
       "      <td>0</td>\n",
       "      <td>0</td>\n",
       "      <td>0</td>\n",
       "      <td>0</td>\n",
       "      <td>0</td>\n",
       "      <td>0</td>\n",
       "      <td>0</td>\n",
       "      <td>0</td>\n",
       "      <td>0</td>\n",
       "      <td>0</td>\n",
       "      <td>1</td>\n",
       "      <td>0</td>\n",
       "      <td>1</td>\n",
       "      <td>0</td>\n",
       "    </tr>\n",
       "    <tr>\n",
       "      <th>4</th>\n",
       "      <td>6.411620</td>\n",
       "      <td>-1.350665</td>\n",
       "      <td>-1.148362</td>\n",
       "      <td>-1.171466</td>\n",
       "      <td>-1.158608</td>\n",
       "      <td>0</td>\n",
       "      <td>0</td>\n",
       "      <td>0</td>\n",
       "      <td>0</td>\n",
       "      <td>0</td>\n",
       "      <td>0</td>\n",
       "      <td>0</td>\n",
       "      <td>0</td>\n",
       "      <td>1</td>\n",
       "      <td>0</td>\n",
       "      <td>0</td>\n",
       "      <td>0</td>\n",
       "      <td>0</td>\n",
       "      <td>0</td>\n",
       "      <td>0</td>\n",
       "      <td>0</td>\n",
       "      <td>0</td>\n",
       "      <td>0</td>\n",
       "      <td>0</td>\n",
       "      <td>0</td>\n",
       "      <td>0</td>\n",
       "      <td>0</td>\n",
       "      <td>0</td>\n",
       "      <td>0</td>\n",
       "      <td>0</td>\n",
       "      <td>0</td>\n",
       "      <td>0</td>\n",
       "      <td>0</td>\n",
       "      <td>0</td>\n",
       "      <td>0</td>\n",
       "      <td>0</td>\n",
       "      <td>0</td>\n",
       "      <td>0</td>\n",
       "      <td>0</td>\n",
       "      <td>0</td>\n",
       "      <td>0</td>\n",
       "      <td>0</td>\n",
       "      <td>0</td>\n",
       "      <td>0</td>\n",
       "      <td>0</td>\n",
       "      <td>1</td>\n",
       "      <td>0</td>\n",
       "      <td>1</td>\n",
       "      <td>0</td>\n",
       "    </tr>\n",
       "  </tbody>\n",
       "</table>\n",
       "</div>"
      ],
      "text/plain": [
       "     Energy      Data  Target_Protons  Target_Neutrons  Target_Mass_Number  \\\n",
       "0  6.383815 -1.779892       -1.148362        -1.171466           -1.158608   \n",
       "1  6.383815 -1.707744       -1.148362        -1.171466           -1.158608   \n",
       "2  6.401401 -1.583359       -1.148362        -1.171466           -1.158608   \n",
       "3  6.401401 -1.590067       -1.148362        -1.171466           -1.158608   \n",
       "4  6.411620 -1.350665       -1.148362        -1.171466           -1.158608   \n",
       "\n",
       "   MT_1  MT_102  MT_16  MT_17  MT_2  MT_3  MT_4  MT_101  MT_103  MT_104  \\\n",
       "0     0       0      0      0     0     0     0       0       1       0   \n",
       "1     0       0      0      0     0     0     0       0       1       0   \n",
       "2     0       0      0      0     0     0     0       0       1       0   \n",
       "3     0       0      0      0     0     0     0       0       1       0   \n",
       "4     0       0      0      0     0     0     0       0       1       0   \n",
       "\n",
       "   MT_41  MT_9000  MT_105  MT_32  MT_51  MT_33  MT_107  MT_24  MT_155  MT_158  \\\n",
       "0      0        0       0      0      0      0       0      0       0       0   \n",
       "1      0        0       0      0      0      0       0      0       0       0   \n",
       "2      0        0       0      0      0      0       0      0       0       0   \n",
       "3      0        0       0      0      0      0       0      0       0       0   \n",
       "4      0        0       0      0      0      0       0      0       0       0   \n",
       "\n",
       "   MT_159  MT_108  MT_29  MT_1108  MT_113  MT_106  MT_22  MT_1003  MT_9001  \\\n",
       "0       0       0      0        0       0       0      0        0        0   \n",
       "1       0       0      0        0       0       0      0        0        0   \n",
       "2       0       0      0        0       0       0      0        0        0   \n",
       "3       0       0      0        0       0       0      0        0        0   \n",
       "4       0       0      0        0       0       0      0        0        0   \n",
       "\n",
       "   MT_28  MT_111  MT_203  MT_2103  MT_112  MT_37  MT_161  MT_152  MT_153  \\\n",
       "0      0       0       0        0       0      0       0       0       0   \n",
       "1      0       0       0        0       0      0       0       0       0   \n",
       "2      0       0       0        0       0      0       0       0       0   \n",
       "3      0       0       0        0       0      0       0       0       0   \n",
       "4      0       0       0        0       0      0       0       0       0   \n",
       "\n",
       "   MT_18  MT_160  Frame_L  Frame_C  Target_Flag_I  Target_Flag_N  \n",
       "0      0       0        1        0              1              0  \n",
       "1      0       0        1        0              1              0  \n",
       "2      0       0        1        0              1              0  \n",
       "3      0       0        1        0              1              0  \n",
       "4      0       0        1        0              1              0  "
      ]
     },
     "execution_count": 38,
     "metadata": {},
     "output_type": "execute_result"
    }
   ],
   "source": [
    "new_cl_data_kwargs = {\"Z\":17, \"A\":35, \"MT\":\"MT_103\", \"log\":True, \"scale\":True, \"scaler\":scaler, \"to_scale\":to_scale}\n",
    "new_cl_data = exfor_utils.load_exfor_newdata(\"../EXFOR/New_Data/Chlorine_Data/new_cl_np.csv\", df, **new_cl_data_kwargs)\n",
    "new_cl_data.head()"
   ]
  },
  {
   "cell_type": "markdown",
   "metadata": {},
   "source": [
    "# ENDF Evaluation Cross Section Data for Chlorine (n,p) Reaction\n",
    "\n",
    "These data points will serve to plot the current ENDFb5 data and compare it to the newly measured points along with the predictions"
   ]
  },
  {
   "cell_type": "code",
   "execution_count": 8,
   "metadata": {
    "ExecuteTime": {
     "end_time": "2020-06-18T19:11:32.646394Z",
     "start_time": "2020-06-18T19:11:32.522373Z"
    }
   },
   "outputs": [
    {
     "name": "stdout",
     "output_type": "stream",
     "text": [
      "C:\\Users\\Pedro\\Desktop\\ML_Nuclear_Data\\ML_Data\\ENDF_neutrons\\Cl035\\endfb8.0\\tables\\xs\\n-Cl035-MT103.endfb8.0\n",
      "Converting MeV to eV...\n",
      "Convering mb to b...\n",
      "Finish reading ENDF data with shape:  (8791, 2)\n",
      "C:\\Users\\Pedro\\Desktop\\ML_Nuclear_Data\\ML_Data\\ENDF_neutrons\\U233\\endfb8.0\\tables\\xs\\n-U233-MT018.endfb8.0\n",
      "Converting MeV to eV...\n",
      "Convering mb to b...\n",
      "Finish reading ENDF data with shape:  (15345, 2)\n",
      "C:\\Users\\Pedro\\Desktop\\ML_Nuclear_Data\\ML_Data\\ENDF_neutrons\\U233\\endfb8.0\\tables\\xs\\n-U233-MT003.endfb8.0\n",
      "Converting MeV to eV...\n",
      "Convering mb to b...\n",
      "Finish reading ENDF data with shape:  (33329, 2)\n"
     ]
    }
   ],
   "source": [
    "endf_cl = nuc_data.load_endf(\"Cl035\", \"MT103\", log=True)\n",
    "endf_u  = nuc_data.load_endf(\"U233\", \"MT018\", log=True)\n",
    "endf_u_nonelastic  = nuc_data.load_endf(\"U233\", \"MT003\", log=True)"
   ]
  },
  {
   "cell_type": "markdown",
   "metadata": {},
   "source": [
    "# Importing Error Metrics and Loading ACE Energy Arrays"
   ]
  },
  {
   "cell_type": "code",
   "execution_count": 9,
   "metadata": {
    "ExecuteTime": {
     "end_time": "2020-06-18T19:11:40.200873Z",
     "start_time": "2020-06-18T19:11:32.648395Z"
    }
   },
   "outputs": [],
   "source": [
    "ace_u = ace_utils.get_energies(\"92233\") * 1E6\n",
    "ace_cl = ace_utils.get_energies(\"17035\") * 1E6"
   ]
  },
  {
   "cell_type": "markdown",
   "metadata": {},
   "source": [
    "# Nearest Neighbors Regression"
   ]
  },
  {
   "cell_type": "code",
   "execution_count": 6,
   "metadata": {
    "ExecuteTime": {
     "end_time": "2020-06-23T23:07:23.969250Z",
     "start_time": "2020-06-23T23:07:23.965250Z"
    }
   },
   "outputs": [],
   "source": [
    "from joblib import dump, load"
   ]
  },
  {
   "cell_type": "code",
   "execution_count": 7,
   "metadata": {
    "ExecuteTime": {
     "end_time": "2020-06-23T23:07:24.008258Z",
     "start_time": "2020-06-23T23:07:23.971750Z"
    }
   },
   "outputs": [],
   "source": [
    "knn_results = pd.read_csv(\"../ML_Data/Models/KNN/knn_results.csv\").sort_values(by=\"id\")\n",
    "dt_results = pd.read_csv(\"../ML_Data/Models/DT/dt_results.csv\")"
   ]
  },
  {
   "cell_type": "code",
   "execution_count": 9,
   "metadata": {
    "ExecuteTime": {
     "end_time": "2020-06-23T23:43:43.531060Z",
     "start_time": "2020-06-23T23:43:38.165624Z"
    }
   },
   "outputs": [
    {
     "name": "stdout",
     "output_type": "stream",
     "text": [
      "Loading model saved at: C:\\Users\\Pedro\\Desktop\\ML_Nuclear_Data\\ML_Data\\Models\\KNN\\neigh_model_k18.joblib\n",
      "Loading model saved at: C:\\Users\\Pedro\\Desktop\\ML_Nuclear_Data\\ML_Data\\Models\\KNN\\neigh_model_k3.joblib\n",
      "Loading model saved at: C:\\Users\\Pedro\\Desktop\\ML_Nuclear_Data\\ML_Data\\Models\\DT\\dt_model_md300_mss2_msl1.joblib\n",
      "Loading model saved at: C:\\Users\\Pedro\\Desktop\\ML_Nuclear_Data\\ML_Data\\Models\\DT\\dt_model_md80_mss10_msl7.joblib\n"
     ]
    }
   ],
   "source": [
    "path_to_best_train_model_KNN = knn_results[knn_results.train_mae == knn_results.train_mae.min()][\"model_path\"].values[0]\n",
    "print(\"Loading model saved at: {}\".format(path_to_best_train_model_KNN))\n",
    "train_model_knn = load(path_to_best_train_model_KNN) \n",
    "\n",
    "path_to_best_test_model_KNN = knn_results[knn_results.test_mae == knn_results.test_mae.min()][\"model_path\"].values[0]\n",
    "print(\"Loading model saved at: {}\".format(path_to_best_test_model_KNN))\n",
    "test_model_knn = load(path_to_best_test_model_KNN) \n",
    "\n",
    "path_to_best_train_model_DT = dt_results[dt_results.train_mae == dt_results.train_mae.min()][\"model_path\"].values[0]\n",
    "print(\"Loading model saved at: {}\".format(path_to_best_train_model_DT))\n",
    "train_model_dt = load(path_to_best_train_model_DT) \n",
    "\n",
    "path_to_best_test_model_DT = dt_results[dt_results.test_mae == dt_results.test_mae.min()][\"model_path\"].values[0]\n",
    "print(\"Loading model saved at: {}\".format(path_to_best_test_model_DT))\n",
    "test_model_dt = load(path_to_best_test_model_DT) "
   ]
  },
  {
   "cell_type": "code",
   "execution_count": 97,
   "metadata": {
    "ExecuteTime": {
     "end_time": "2020-06-24T05:13:36.951682Z",
     "start_time": "2020-06-24T05:13:36.025020Z"
    }
   },
   "outputs": [
    {
     "name": "stdout",
     "output_type": "stream",
     "text": [
      "Extracting samples from dataframe.\n",
      "Scaling dataset...\n",
      "EXFOR extracted DataFrame has shape:  (132828, 49)\n",
      "Extracting samples from dataframe.\n",
      "Scaling dataset...\n",
      "EXFOR extracted DataFrame has shape:  (33384, 49)\n",
      "Extracting samples from dataframe.\n",
      "Scaling dataset...\n",
      "EXFOR extracted DataFrame has shape:  (4588, 49)\n",
      "Extracting samples from dataframe.\n",
      "Scaling dataset...\n",
      "EXFOR extracted DataFrame has shape:  (261, 49)\n",
      "Extracting samples from dataframe.\n",
      "Scaling dataset...\n",
      "EXFOR extracted DataFrame has shape:  (2, 49)\n",
      "Extracting samples from dataframe.\n",
      "Scaling dataset...\n",
      "EXFOR extracted DataFrame has shape:  (5, 49)\n",
      "Extracting samples from dataframe.\n",
      "Scaling dataset...\n",
      "EXFOR extracted DataFrame has shape:  (7, 49)\n",
      "Extracting samples from dataframe.\n",
      "Scaling dataset...\n",
      "EXFOR extracted DataFrame has shape:  (11, 49)\n",
      "Extracting samples from dataframe.\n",
      "Scaling dataset...\n",
      "EXFOR extracted DataFrame has shape:  (3, 49)\n",
      "Extracting samples from dataframe.\n",
      "Scaling dataset...\n",
      "EXFOR extracted DataFrame has shape:  (94567, 49)\n"
     ]
    }
   ],
   "source": [
    "errors_exfor_ml = exfor_utils.get_mt_errors_exfor_ml(df, 92, 233, scaler, to_scale, train_model_dt)"
   ]
  },
  {
   "cell_type": "code",
   "execution_count": 98,
   "metadata": {
    "ExecuteTime": {
     "end_time": "2020-06-24T05:13:41.257434Z",
     "start_time": "2020-06-24T05:13:41.248432Z"
    }
   },
   "outputs": [
    {
     "data": {
      "text/html": [
       "<div>\n",
       "<style scoped>\n",
       "    .dataframe tbody tr th:only-of-type {\n",
       "        vertical-align: middle;\n",
       "    }\n",
       "\n",
       "    .dataframe tbody tr th {\n",
       "        vertical-align: top;\n",
       "    }\n",
       "\n",
       "    .dataframe thead th {\n",
       "        text-align: right;\n",
       "    }\n",
       "</style>\n",
       "<table border=\"1\" class=\"dataframe\">\n",
       "  <thead>\n",
       "    <tr style=\"text-align: right;\">\n",
       "      <th></th>\n",
       "      <th>MT</th>\n",
       "      <th>MAE</th>\n",
       "    </tr>\n",
       "  </thead>\n",
       "  <tbody>\n",
       "    <tr>\n",
       "      <th>0</th>\n",
       "      <td>MT_1</td>\n",
       "      <td>0.071657</td>\n",
       "    </tr>\n",
       "    <tr>\n",
       "      <th>0</th>\n",
       "      <td>MT_102</td>\n",
       "      <td>0.027254</td>\n",
       "    </tr>\n",
       "    <tr>\n",
       "      <th>0</th>\n",
       "      <td>MT_2</td>\n",
       "      <td>0.012790</td>\n",
       "    </tr>\n",
       "    <tr>\n",
       "      <th>0</th>\n",
       "      <td>MT_3</td>\n",
       "      <td>0.000000</td>\n",
       "    </tr>\n",
       "    <tr>\n",
       "      <th>0</th>\n",
       "      <td>MT_4</td>\n",
       "      <td>0.000000</td>\n",
       "    </tr>\n",
       "    <tr>\n",
       "      <th>0</th>\n",
       "      <td>MT_101</td>\n",
       "      <td>0.025348</td>\n",
       "    </tr>\n",
       "    <tr>\n",
       "      <th>0</th>\n",
       "      <td>MT_9000</td>\n",
       "      <td>0.000296</td>\n",
       "    </tr>\n",
       "    <tr>\n",
       "      <th>0</th>\n",
       "      <td>MT_51</td>\n",
       "      <td>0.060431</td>\n",
       "    </tr>\n",
       "    <tr>\n",
       "      <th>0</th>\n",
       "      <td>MT_18</td>\n",
       "      <td>0.025023</td>\n",
       "    </tr>\n",
       "  </tbody>\n",
       "</table>\n",
       "</div>"
      ],
      "text/plain": [
       "        MT       MAE\n",
       "0     MT_1  0.071657\n",
       "0   MT_102  0.027254\n",
       "0     MT_2  0.012790\n",
       "0     MT_3  0.000000\n",
       "0     MT_4  0.000000\n",
       "0   MT_101  0.025348\n",
       "0  MT_9000  0.000296\n",
       "0    MT_51  0.060431\n",
       "0    MT_18  0.025023"
      ]
     },
     "execution_count": 98,
     "metadata": {},
     "output_type": "execute_result"
    }
   ],
   "source": [
    "errors_exfor_ml"
   ]
  },
  {
   "cell_type": "code",
   "execution_count": 100,
   "metadata": {
    "ExecuteTime": {
     "end_time": "2020-06-24T05:14:55.012343Z",
     "start_time": "2020-06-24T05:14:53.880646Z"
    }
   },
   "outputs": [
    {
     "name": "stdout",
     "output_type": "stream",
     "text": [
      "Extracting samples from dataframe.\n",
      "Scaling dataset...\n",
      "EXFOR extracted DataFrame has shape:  (132828, 49)\n",
      "Extracting samples from dataframe.\n",
      "Scaling dataset...\n",
      "EXFOR extracted DataFrame has shape:  (33384, 49)\n",
      "C:\\Users\\Pedro\\Desktop\\ML_Nuclear_Data\\ML_Data\\ENDF_neutrons\\U233\\endfb8.0\\tables\\xs\\n-U233-MT001.endfb8.0\n",
      "Converting MeV to eV...\n",
      "Convering mb to b...\n",
      "Finish reading ENDF data with shape:  (12617, 2)\n",
      "Extracting samples from dataframe.\n",
      "Scaling dataset...\n",
      "EXFOR extracted DataFrame has shape:  (4588, 49)\n",
      "C:\\Users\\Pedro\\Desktop\\ML_Nuclear_Data\\ML_Data\\ENDF_neutrons\\U233\\endfb8.0\\tables\\xs\\n-U233-MT102.endfb8.0\n",
      "Converting MeV to eV...\n",
      "Convering mb to b...\n",
      "Finish reading ENDF data with shape:  (19513, 2)\n",
      "Extracting samples from dataframe.\n",
      "Scaling dataset...\n",
      "EXFOR extracted DataFrame has shape:  (261, 49)\n",
      "C:\\Users\\Pedro\\Desktop\\ML_Nuclear_Data\\ML_Data\\ENDF_neutrons\\U233\\endfb8.0\\tables\\xs\\n-U233-MT002.endfb8.0\n",
      "Converting MeV to eV...\n",
      "Convering mb to b...\n",
      "Finish reading ENDF data with shape:  (5590, 2)\n",
      "Extracting samples from dataframe.\n",
      "Scaling dataset...\n",
      "EXFOR extracted DataFrame has shape:  (2, 49)\n",
      "C:\\Users\\Pedro\\Desktop\\ML_Nuclear_Data\\ML_Data\\ENDF_neutrons\\U233\\endfb8.0\\tables\\xs\\n-U233-MT003.endfb8.0\n",
      "Converting MeV to eV...\n",
      "Convering mb to b...\n",
      "Finish reading ENDF data with shape:  (33329, 2)\n",
      "Extracting samples from dataframe.\n",
      "Scaling dataset...\n",
      "EXFOR extracted DataFrame has shape:  (5, 49)\n",
      "C:\\Users\\Pedro\\Desktop\\ML_Nuclear_Data\\ML_Data\\ENDF_neutrons\\U233\\endfb8.0\\tables\\xs\\n-U233-MT004.endfb8.0\n",
      "Converting MeV to eV...\n",
      "Convering mb to b...\n",
      "Finish reading ENDF data with shape:  (95, 2)\n",
      "Extracting samples from dataframe.\n",
      "Scaling dataset...\n",
      "EXFOR extracted DataFrame has shape: "
     ]
    },
    {
     "name": "stderr",
     "output_type": "stream",
     "text": [
      "C:\\Users\\Pedro\\Anaconda3\\envs\\data_mining_gpu\\lib\\site-packages\\pandas\\core\\series.py:679: RuntimeWarning: divide by zero encountered in log10\n",
      "  result = getattr(ufunc, method)(*inputs, **kwargs)\n",
      "C:\\Users\\Pedro\\Anaconda3\\envs\\data_mining_gpu\\lib\\site-packages\\pandas\\core\\series.py:679: RuntimeWarning: divide by zero encountered in log10\n",
      "  result = getattr(ufunc, method)(*inputs, **kwargs)\n"
     ]
    },
    {
     "name": "stdout",
     "output_type": "stream",
     "text": [
      " (3, 49)\n",
      "C:\\Users\\Pedro\\Desktop\\ML_Nuclear_Data\\ML_Data\\ENDF_neutrons\\U233\\endfb8.0\\tables\\xs\\n-U233-MT051.endfb8.0\n",
      "Converting MeV to eV...\n",
      "Convering mb to b...\n",
      "Finish reading ENDF data with shape:  (94, 2)\n",
      "Extracting samples from dataframe.\n",
      "Scaling dataset...\n",
      "EXFOR extracted DataFrame has shape:  (94567, 49)\n",
      "C:\\Users\\Pedro\\Desktop\\ML_Nuclear_Data\\ML_Data\\ENDF_neutrons\\U233\\endfb8.0\\tables\\xs\\n-U233-MT018.endfb8.0\n",
      "Converting MeV to eV...\n",
      "Convering mb to b...\n",
      "Finish reading ENDF data with shape:  (15345, 2)\n"
     ]
    }
   ],
   "source": [
    "errors_exfor_endf = exfor_utils.get_mt_error_exfor_endf(df, 92, 233, scaler, to_scale)"
   ]
  },
  {
   "cell_type": "code",
   "execution_count": 101,
   "metadata": {
    "ExecuteTime": {
     "end_time": "2020-06-24T05:14:59.878195Z",
     "start_time": "2020-06-24T05:14:59.865193Z"
    }
   },
   "outputs": [
    {
     "data": {
      "text/html": [
       "<div>\n",
       "<style scoped>\n",
       "    .dataframe tbody tr th:only-of-type {\n",
       "        vertical-align: middle;\n",
       "    }\n",
       "\n",
       "    .dataframe tbody tr th {\n",
       "        vertical-align: top;\n",
       "    }\n",
       "\n",
       "    .dataframe thead th {\n",
       "        text-align: right;\n",
       "    }\n",
       "</style>\n",
       "<table border=\"1\" class=\"dataframe\">\n",
       "  <thead>\n",
       "    <tr style=\"text-align: right;\">\n",
       "      <th></th>\n",
       "      <th>id</th>\n",
       "      <th>mae</th>\n",
       "      <th>mse</th>\n",
       "      <th>evs</th>\n",
       "      <th>mae_m</th>\n",
       "      <th>r2</th>\n",
       "      <th>MT</th>\n",
       "    </tr>\n",
       "  </thead>\n",
       "  <tbody>\n",
       "    <tr>\n",
       "      <th>0</th>\n",
       "      <td>EXFOR VS ENDF</td>\n",
       "      <td>0.122255</td>\n",
       "      <td>0.053374</td>\n",
       "      <td>0.785871</td>\n",
       "      <td>0.051340</td>\n",
       "      <td>0.785843</td>\n",
       "      <td>MT_1</td>\n",
       "    </tr>\n",
       "    <tr>\n",
       "      <th>0</th>\n",
       "      <td>EXFOR VS ENDF</td>\n",
       "      <td>0.220991</td>\n",
       "      <td>0.119830</td>\n",
       "      <td>0.750434</td>\n",
       "      <td>0.140106</td>\n",
       "      <td>0.741655</td>\n",
       "      <td>MT_102</td>\n",
       "    </tr>\n",
       "    <tr>\n",
       "      <th>0</th>\n",
       "      <td>EXFOR VS ENDF</td>\n",
       "      <td>0.064535</td>\n",
       "      <td>0.005982</td>\n",
       "      <td>0.687744</td>\n",
       "      <td>0.060474</td>\n",
       "      <td>0.203517</td>\n",
       "      <td>MT_2</td>\n",
       "    </tr>\n",
       "    <tr>\n",
       "      <th>0</th>\n",
       "      <td>EXFOR VS ENDF</td>\n",
       "      <td>0.052568</td>\n",
       "      <td>0.004289</td>\n",
       "      <td>-0.315432</td>\n",
       "      <td>0.052568</td>\n",
       "      <td>-2.697823</td>\n",
       "      <td>MT_3</td>\n",
       "    </tr>\n",
       "    <tr>\n",
       "      <th>0</th>\n",
       "      <td>EXFOR VS ENDF</td>\n",
       "      <td>0.191249</td>\n",
       "      <td>0.040123</td>\n",
       "      <td>0.647989</td>\n",
       "      <td>0.158440</td>\n",
       "      <td>-2.981742</td>\n",
       "      <td>MT_4</td>\n",
       "    </tr>\n",
       "    <tr>\n",
       "      <th>0</th>\n",
       "      <td>EXFOR VS ENDF</td>\n",
       "      <td>0.112621</td>\n",
       "      <td>0.013708</td>\n",
       "      <td>0.569741</td>\n",
       "      <td>0.097065</td>\n",
       "      <td>0.436689</td>\n",
       "      <td>MT_51</td>\n",
       "    </tr>\n",
       "    <tr>\n",
       "      <th>0</th>\n",
       "      <td>EXFOR VS ENDF</td>\n",
       "      <td>0.091057</td>\n",
       "      <td>0.020448</td>\n",
       "      <td>0.946378</td>\n",
       "      <td>0.054106</td>\n",
       "      <td>0.945942</td>\n",
       "      <td>MT_18</td>\n",
       "    </tr>\n",
       "  </tbody>\n",
       "</table>\n",
       "</div>"
      ],
      "text/plain": [
       "              id       mae       mse       evs     mae_m        r2      MT\n",
       "0  EXFOR VS ENDF  0.122255  0.053374  0.785871  0.051340  0.785843    MT_1\n",
       "0  EXFOR VS ENDF  0.220991  0.119830  0.750434  0.140106  0.741655  MT_102\n",
       "0  EXFOR VS ENDF  0.064535  0.005982  0.687744  0.060474  0.203517    MT_2\n",
       "0  EXFOR VS ENDF  0.052568  0.004289 -0.315432  0.052568 -2.697823    MT_3\n",
       "0  EXFOR VS ENDF  0.191249  0.040123  0.647989  0.158440 -2.981742    MT_4\n",
       "0  EXFOR VS ENDF  0.112621  0.013708  0.569741  0.097065  0.436689   MT_51\n",
       "0  EXFOR VS ENDF  0.091057  0.020448  0.946378  0.054106  0.945942   MT_18"
      ]
     },
     "execution_count": 101,
     "metadata": {},
     "output_type": "execute_result"
    }
   ],
   "source": [
    "errors_exfor_endf"
   ]
  },
  {
   "cell_type": "markdown",
   "metadata": {},
   "source": [
    "# Predicting using ACE Energy Grid\n",
    "\n",
    "to save are:\n",
    "\n",
    "- MT102\n",
    "- MT18\n",
    "- MT1\n",
    "- MT2\n",
    "- MT3"
   ]
  },
  {
   "cell_type": "code",
   "execution_count": 126,
   "metadata": {
    "ExecuteTime": {
     "end_time": "2020-06-24T05:56:35.744541Z",
     "start_time": "2020-06-24T05:56:35.720037Z"
    }
   },
   "outputs": [
    {
     "data": {
      "text/plain": [
       "<module 'nucml.exfor.data_utilities' from '..\\\\nucml\\\\exfor\\\\data_utilities.py'>"
      ]
     },
     "execution_count": 126,
     "metadata": {},
     "output_type": "execute_result"
    }
   ],
   "source": [
    "importlib.reload(exfor_utils)"
   ]
  },
  {
   "cell_type": "code",
   "execution_count": 136,
   "metadata": {
    "ExecuteTime": {
     "end_time": "2020-06-24T05:58:59.185800Z",
     "start_time": "2020-06-24T05:58:55.680186Z"
    }
   },
   "outputs": [
    {
     "name": "stdout",
     "output_type": "stream",
     "text": [
      "Extracting samples from dataframe.\n",
      "Scaling dataset...\n",
      "EXFOR extracted DataFrame has shape:  (132828, 49)\n",
      "MT_1\n",
      "Extracting samples from dataframe.\n",
      "EXFOR extracted DataFrame has shape:  (33384, 49)\n",
      "Expanded Dataset has shape:  (8742, 48)\n",
      "Scaling dataset...\n",
      "Extracting samples from dataframe.\n",
      "EXFOR extracted DataFrame has shape:  (33384, 49)\n",
      "MT_102\n",
      "Extracting samples from dataframe.\n",
      "EXFOR extracted DataFrame has shape:  (4588, 49)\n",
      "Expanded Dataset has shape:  (8742, 48)\n",
      "Scaling dataset...\n",
      "Extracting samples from dataframe.\n",
      "EXFOR extracted DataFrame has shape:  (4588, 49)\n",
      "MT_2\n",
      "Extracting samples from dataframe.\n",
      "EXFOR extracted DataFrame has shape:  (261, 49)\n",
      "Expanded Dataset has shape:  (8742, 48)\n",
      "Scaling dataset...\n",
      "Extracting samples from dataframe.\n",
      "EXFOR extracted DataFrame has shape:  (261, 49)\n",
      "MT_3\n",
      "Extracting samples from dataframe.\n",
      "EXFOR extracted DataFrame has shape:  (2, 49)\n",
      "Expanded Dataset has shape:  (8742, 48)\n",
      "Scaling dataset...\n",
      "Extracting samples from dataframe.\n",
      "EXFOR extracted DataFrame has shape:  (2, 49)\n",
      "MT_4\n",
      "Extracting samples from dataframe.\n",
      "EXFOR extracted DataFrame has shape:  (5, 49)\n",
      "Expanded Dataset has shape:  (8742, 48)\n",
      "Scaling dataset...\n",
      "Extracting samples from dataframe.\n",
      "EXFOR extracted DataFrame has shape:  (5, 49)\n",
      "MT_51\n",
      "Extracting samples from dataframe.\n",
      "EXFOR extracted DataFrame has shape:  (3, 49)\n",
      "Expanded Dataset has shape:  (8742, 48)\n",
      "Scaling dataset...\n",
      "Extracting samples from dataframe.\n",
      "EXFOR extracted DataFrame has shape:  (3, 49)\n",
      "MT_18\n",
      "Extracting samples from dataframe.\n",
      "EXFOR extracted DataFrame has shape:  (94567, 49)\n",
      "Expanded Dataset has shape:  (8742, 48)\n",
      "Scaling dataset...\n",
      "Extracting samples from dataframe.\n",
      "EXFOR extracted DataFrame has shape:  (94567, 49)\n"
     ]
    }
   ],
   "source": [
    "ace_df = exfor_utils.get_csv_for_ace(df, 92, 233, scaler, to_scale, train_model_dt)"
   ]
  },
  {
   "cell_type": "code",
   "execution_count": 137,
   "metadata": {
    "ExecuteTime": {
     "end_time": "2020-06-24T05:59:09.566118Z",
     "start_time": "2020-06-24T05:59:09.559615Z"
    }
   },
   "outputs": [],
   "source": [
    "ace_df = 10**ace_df\n",
    "\n",
    "# ace_df[\"Energy\"] = ace_df[\"Energy\"] / 1E6"
   ]
  },
  {
   "cell_type": "code",
   "execution_count": 138,
   "metadata": {
    "ExecuteTime": {
     "end_time": "2020-06-24T05:59:11.154396Z",
     "start_time": "2020-06-24T05:59:10.967863Z"
    }
   },
   "outputs": [
    {
     "data": {
      "text/plain": [
       "[<matplotlib.lines.Line2D at 0x21dab1fdbc8>]"
      ]
     },
     "execution_count": 138,
     "metadata": {},
     "output_type": "execute_result"
    },
    {
     "data": {
      "image/png": "[encoded data removed]",
      "text/plain": [
       "<Figure size 432x288 with 1 Axes>"
      ]
     },
     "metadata": {},
     "output_type": "display_data"
    }
   ],
   "source": [
    "plt.plot(endf_mt18.Energy, endf_mt18.Data)"
   ]
  },
  {
   "cell_type": "code",
   "execution_count": 139,
   "metadata": {
    "ExecuteTime": {
     "end_time": "2020-06-24T05:59:12.953212Z",
     "start_time": "2020-06-24T05:59:12.944709Z"
    }
   },
   "outputs": [
    {
     "data": {
      "text/html": [
       "<div>\n",
       "<style scoped>\n",
       "    .dataframe tbody tr th:only-of-type {\n",
       "        vertical-align: middle;\n",
       "    }\n",
       "\n",
       "    .dataframe tbody tr th {\n",
       "        vertical-align: top;\n",
       "    }\n",
       "\n",
       "    .dataframe thead th {\n",
       "        text-align: right;\n",
       "    }\n",
       "</style>\n",
       "<table border=\"1\" class=\"dataframe\">\n",
       "  <thead>\n",
       "    <tr style=\"text-align: right;\">\n",
       "      <th></th>\n",
       "      <th>Energy</th>\n",
       "      <th>Data</th>\n",
       "    </tr>\n",
       "  </thead>\n",
       "  <tbody>\n",
       "    <tr>\n",
       "      <th>0</th>\n",
       "      <td>-5.000000</td>\n",
       "      <td>4.431410</td>\n",
       "    </tr>\n",
       "    <tr>\n",
       "      <th>1</th>\n",
       "      <td>-4.986224</td>\n",
       "      <td>4.424521</td>\n",
       "    </tr>\n",
       "    <tr>\n",
       "      <th>2</th>\n",
       "      <td>-4.972451</td>\n",
       "      <td>4.417634</td>\n",
       "    </tr>\n",
       "    <tr>\n",
       "      <th>3</th>\n",
       "      <td>-4.958670</td>\n",
       "      <td>4.410747</td>\n",
       "    </tr>\n",
       "    <tr>\n",
       "      <th>4</th>\n",
       "      <td>-4.944901</td>\n",
       "      <td>4.403860</td>\n",
       "    </tr>\n",
       "    <tr>\n",
       "      <th>...</th>\n",
       "      <td>...</td>\n",
       "      <td>...</td>\n",
       "    </tr>\n",
       "    <tr>\n",
       "      <th>15340</th>\n",
       "      <td>7.278754</td>\n",
       "      <td>0.361803</td>\n",
       "    </tr>\n",
       "    <tr>\n",
       "      <th>15341</th>\n",
       "      <td>7.284839</td>\n",
       "      <td>0.360124</td>\n",
       "    </tr>\n",
       "    <tr>\n",
       "      <th>15342</th>\n",
       "      <td>7.290035</td>\n",
       "      <td>0.358666</td>\n",
       "    </tr>\n",
       "    <tr>\n",
       "      <th>15343</th>\n",
       "      <td>7.296119</td>\n",
       "      <td>0.356941</td>\n",
       "    </tr>\n",
       "    <tr>\n",
       "      <th>15344</th>\n",
       "      <td>7.301030</td>\n",
       "      <td>0.355528</td>\n",
       "    </tr>\n",
       "  </tbody>\n",
       "</table>\n",
       "<p>15345 rows × 2 columns</p>\n",
       "</div>"
      ],
      "text/plain": [
       "         Energy      Data\n",
       "0     -5.000000  4.431410\n",
       "1     -4.986224  4.424521\n",
       "2     -4.972451  4.417634\n",
       "3     -4.958670  4.410747\n",
       "4     -4.944901  4.403860\n",
       "...         ...       ...\n",
       "15340  7.278754  0.361803\n",
       "15341  7.284839  0.360124\n",
       "15342  7.290035  0.358666\n",
       "15343  7.296119  0.356941\n",
       "15344  7.301030  0.355528\n",
       "\n",
       "[15345 rows x 2 columns]"
      ]
     },
     "execution_count": 139,
     "metadata": {},
     "output_type": "execute_result"
    }
   ],
   "source": [
    "endf_mt18"
   ]
  },
  {
   "cell_type": "code",
   "execution_count": 140,
   "metadata": {
    "ExecuteTime": {
     "end_time": "2020-06-24T05:59:14.029898Z",
     "start_time": "2020-06-24T05:59:13.831864Z"
    }
   },
   "outputs": [
    {
     "data": {
      "text/plain": [
       "[<matplotlib.lines.Line2D at 0x21dab273048>]"
      ]
     },
     "execution_count": 140,
     "metadata": {},
     "output_type": "execute_result"
    },
    {
     "data": {
      "image/png": "[encoded data removed]",
      "text/plain": [
       "<Figure size 432x288 with 1 Axes>"
      ]
     },
     "metadata": {},
     "output_type": "display_data"
    }
   ],
   "source": [
    "plt.plot(np.log10(ace_df.Energy), np.log10(ace_df.MT_18))\n",
    "plt.plot(endf_mt18.Energy, endf_mt18.Data)"
   ]
  },
  {
   "cell_type": "code",
   "execution_count": 120,
   "metadata": {
    "ExecuteTime": {
     "end_time": "2020-06-24T05:38:09.654445Z",
     "start_time": "2020-06-24T05:38:09.639942Z"
    }
   },
   "outputs": [
    {
     "data": {
      "text/html": [
       "<div>\n",
       "<style scoped>\n",
       "    .dataframe tbody tr th:only-of-type {\n",
       "        vertical-align: middle;\n",
       "    }\n",
       "\n",
       "    .dataframe tbody tr th {\n",
       "        vertical-align: top;\n",
       "    }\n",
       "\n",
       "    .dataframe thead th {\n",
       "        text-align: right;\n",
       "    }\n",
       "</style>\n",
       "<table border=\"1\" class=\"dataframe\">\n",
       "  <thead>\n",
       "    <tr style=\"text-align: right;\">\n",
       "      <th></th>\n",
       "      <th>Energy</th>\n",
       "      <th>MT_1</th>\n",
       "      <th>MT_102</th>\n",
       "      <th>MT_2</th>\n",
       "      <th>MT_3</th>\n",
       "      <th>MT_4</th>\n",
       "      <th>MT_51</th>\n",
       "      <th>MT_18</th>\n",
       "    </tr>\n",
       "  </thead>\n",
       "  <tbody>\n",
       "    <tr>\n",
       "      <th>0</th>\n",
       "      <td>1.000000e-11</td>\n",
       "      <td>34700.000</td>\n",
       "      <td>34700.000</td>\n",
       "      <td>34700.0000</td>\n",
       "      <td>34700.00</td>\n",
       "      <td>34700.00</td>\n",
       "      <td>34700.000000</td>\n",
       "      <td>34700.00</td>\n",
       "    </tr>\n",
       "    <tr>\n",
       "      <th>1</th>\n",
       "      <td>1.125000e-11</td>\n",
       "      <td>32500.000</td>\n",
       "      <td>32500.000</td>\n",
       "      <td>32500.0000</td>\n",
       "      <td>32500.00</td>\n",
       "      <td>32500.00</td>\n",
       "      <td>32500.000000</td>\n",
       "      <td>32500.00</td>\n",
       "    </tr>\n",
       "    <tr>\n",
       "      <th>2</th>\n",
       "      <td>1.250000e-11</td>\n",
       "      <td>29600.000</td>\n",
       "      <td>29600.000</td>\n",
       "      <td>29600.0000</td>\n",
       "      <td>29600.00</td>\n",
       "      <td>29600.00</td>\n",
       "      <td>29600.000000</td>\n",
       "      <td>29600.00</td>\n",
       "    </tr>\n",
       "    <tr>\n",
       "      <th>3</th>\n",
       "      <td>1.375000e-11</td>\n",
       "      <td>29600.000</td>\n",
       "      <td>29600.000</td>\n",
       "      <td>29600.0000</td>\n",
       "      <td>29600.00</td>\n",
       "      <td>29600.00</td>\n",
       "      <td>29600.000000</td>\n",
       "      <td>29600.00</td>\n",
       "    </tr>\n",
       "    <tr>\n",
       "      <th>4</th>\n",
       "      <td>1.500000e-11</td>\n",
       "      <td>29600.000</td>\n",
       "      <td>29600.000</td>\n",
       "      <td>29600.0000</td>\n",
       "      <td>29600.00</td>\n",
       "      <td>29600.00</td>\n",
       "      <td>29600.000000</td>\n",
       "      <td>29600.00</td>\n",
       "    </tr>\n",
       "    <tr>\n",
       "      <th>...</th>\n",
       "      <td>...</td>\n",
       "      <td>...</td>\n",
       "      <td>...</td>\n",
       "      <td>...</td>\n",
       "      <td>...</td>\n",
       "      <td>...</td>\n",
       "      <td>...</td>\n",
       "      <td>...</td>\n",
       "    </tr>\n",
       "    <tr>\n",
       "      <th>8737</th>\n",
       "      <td>2.800000e+01</td>\n",
       "      <td>6.031</td>\n",
       "      <td>0.058</td>\n",
       "      <td>2.5343</td>\n",
       "      <td>2.65</td>\n",
       "      <td>1.13</td>\n",
       "      <td>0.204529</td>\n",
       "      <td>2.66</td>\n",
       "    </tr>\n",
       "    <tr>\n",
       "      <th>8738</th>\n",
       "      <td>2.850000e+01</td>\n",
       "      <td>6.031</td>\n",
       "      <td>0.058</td>\n",
       "      <td>2.5343</td>\n",
       "      <td>2.65</td>\n",
       "      <td>1.13</td>\n",
       "      <td>0.204529</td>\n",
       "      <td>2.66</td>\n",
       "    </tr>\n",
       "    <tr>\n",
       "      <th>8739</th>\n",
       "      <td>2.900000e+01</td>\n",
       "      <td>6.031</td>\n",
       "      <td>0.058</td>\n",
       "      <td>2.5343</td>\n",
       "      <td>2.65</td>\n",
       "      <td>1.13</td>\n",
       "      <td>0.204529</td>\n",
       "      <td>2.66</td>\n",
       "    </tr>\n",
       "    <tr>\n",
       "      <th>8740</th>\n",
       "      <td>2.950000e+01</td>\n",
       "      <td>6.031</td>\n",
       "      <td>0.058</td>\n",
       "      <td>2.5343</td>\n",
       "      <td>2.65</td>\n",
       "      <td>1.13</td>\n",
       "      <td>0.204529</td>\n",
       "      <td>2.66</td>\n",
       "    </tr>\n",
       "    <tr>\n",
       "      <th>8741</th>\n",
       "      <td>3.000000e+01</td>\n",
       "      <td>6.031</td>\n",
       "      <td>0.058</td>\n",
       "      <td>2.5343</td>\n",
       "      <td>2.65</td>\n",
       "      <td>1.13</td>\n",
       "      <td>0.204529</td>\n",
       "      <td>2.66</td>\n",
       "    </tr>\n",
       "  </tbody>\n",
       "</table>\n",
       "<p>8742 rows × 8 columns</p>\n",
       "</div>"
      ],
      "text/plain": [
       "            Energy       MT_1     MT_102        MT_2      MT_3      MT_4  \\\n",
       "0     1.000000e-11  34700.000  34700.000  34700.0000  34700.00  34700.00   \n",
       "1     1.125000e-11  32500.000  32500.000  32500.0000  32500.00  32500.00   \n",
       "2     1.250000e-11  29600.000  29600.000  29600.0000  29600.00  29600.00   \n",
       "3     1.375000e-11  29600.000  29600.000  29600.0000  29600.00  29600.00   \n",
       "4     1.500000e-11  29600.000  29600.000  29600.0000  29600.00  29600.00   \n",
       "...            ...        ...        ...         ...       ...       ...   \n",
       "8737  2.800000e+01      6.031      0.058      2.5343      2.65      1.13   \n",
       "8738  2.850000e+01      6.031      0.058      2.5343      2.65      1.13   \n",
       "8739  2.900000e+01      6.031      0.058      2.5343      2.65      1.13   \n",
       "8740  2.950000e+01      6.031      0.058      2.5343      2.65      1.13   \n",
       "8741  3.000000e+01      6.031      0.058      2.5343      2.65      1.13   \n",
       "\n",
       "             MT_51     MT_18  \n",
       "0     34700.000000  34700.00  \n",
       "1     32500.000000  32500.00  \n",
       "2     29600.000000  29600.00  \n",
       "3     29600.000000  29600.00  \n",
       "4     29600.000000  29600.00  \n",
       "...            ...       ...  \n",
       "8737      0.204529      2.66  \n",
       "8738      0.204529      2.66  \n",
       "8739      0.204529      2.66  \n",
       "8740      0.204529      2.66  \n",
       "8741      0.204529      2.66  \n",
       "\n",
       "[8742 rows x 8 columns]"
      ]
     },
     "execution_count": 120,
     "metadata": {},
     "output_type": "execute_result"
    }
   ],
   "source": [
    "ace_df"
   ]
  },
  {
   "cell_type": "code",
   "execution_count": 159,
   "metadata": {
    "ExecuteTime": {
     "end_time": "2020-05-21T20:34:27.602698Z",
     "start_time": "2020-05-21T20:34:25.986295Z"
    }
   },
   "outputs": [
    {
     "name": "stdout",
     "output_type": "stream",
     "text": [
      "Extracting samples from dataframe.\n",
      "EXFOR extracted DataFrame has shape:  (94567, 49)\n",
      "Expanded Dataset has shape:  (8742, 48)\n",
      "Scaling dataset...\n",
      "Extracting samples from dataframe.\n",
      "EXFOR extracted DataFrame has shape:  (94567, 49)\n"
     ]
    },
    {
     "data": {
      "image/png": "[encoded data removed]",
      "text/plain": [
       "<Figure size 432x288 with 1 Axes>"
      ]
     },
     "metadata": {},
     "output_type": "display_data"
    }
   ],
   "source": [
    "mt_18 = exfor_utils.make_predictions_w_energy(ace_u, 92, 233, \"MT_18\", df, neigh_all, \n",
    "                                              None, scaler, to_scale, log=True, show=True)"
   ]
  },
  {
   "cell_type": "code",
   "execution_count": 256,
   "metadata": {
    "ExecuteTime": {
     "end_time": "2020-05-22T05:58:12.026758Z",
     "start_time": "2020-05-22T05:58:12.022757Z"
    },
    "scrolled": false
   },
   "outputs": [],
   "source": [
    "mt_102 = exfor_utils.make_predictions_w_energy(ace_u, 92, 233, \"MT_102\", df, neigh_all, \n",
    "                                               None, scaler, to_scale, log=True, show=True)\n",
    "\n",
    "mt_1 = exfor_utils.make_predictions_w_energy(ace_u, 92, 233, \"MT_1\", df, neigh_all, None, \n",
    "                                             scaler, to_scale, log=True, show=True)\n",
    "plt.show()\n",
    "plt.close()\n",
    "mt_2 = exfor_utils.make_predictions_w_energy(ace_u, 92, 233, \"MT_2\", df, neigh_all, \n",
    "                                             None, scaler, to_scale, log=True, show=True)\n",
    "plt.show()\n",
    "plt.close()\n",
    "mt_3 = exfor_utils.make_predictions_w_energy(ace_u, 92, 233, \"MT_3\", df, neigh_all, \n",
    "                                             None, scaler, to_scale, log=True, show=True)\n",
    "plt.plot(endf_u_nonelastic.Energy, endf_u_nonelastic.Data)\n",
    "\n",
    "mt_101 = exfor_utils.make_predictions_w_energy(ace_u, 92, 233, \"MT_101\", df, neigh_all, \n",
    "                                               None, scaler, to_scale, log=True, show=True)\n",
    "\n",
    "mt_1 = exfor_utils.make_predictions_w_energy(ace_u, 92, 233, \"MT_1\", df, neigh_all, None, \n",
    "                                             scaler, to_scale, log=True, show=True)\n",
    "plt.show()\n",
    "plt.close()\n",
    "mt_2 = exfor_utils.make_predictions_w_energy(ace_u, 92, 233, \"MT_2\", df, neigh_all, \n",
    "                                             None, scaler, to_scale, log=True, show=True)\n",
    "plt.show()\n",
    "plt.close()\n",
    "mt_3 = exfor_utils.make_predictions_w_energy(ace_u, 92, 233, \"MT_3\", df, neigh_all, \n",
    "                                             None, scaler, to_scale, log=True, show=True)\n",
    "plt.plot(endf_u_nonelastic.Energy, endf_u_nonelastic.Data)\n",
    "\n",
    "mt_101 = exfor_utils.make_predictions_w_energy(ace_u, 92, 233, \"MT_101\", df, neigh_all, \n",
    "                                               None, scaler, to_scale, log=True, show=True)"
   ]
  },
  {
   "cell_type": "code",
   "execution_count": 177,
   "metadata": {
    "ExecuteTime": {
     "end_time": "2020-05-21T20:53:26.039360Z",
     "start_time": "2020-05-21T20:53:26.035367Z"
    }
   },
   "outputs": [],
   "source": [
    "data_interest = pd.DataFrame({\"Energy\":ace_u})\n",
    "\n",
    "data_interest[\"Data_18\"] = mt_18\n",
    "data_interest[\"Data_102\"] = mt_102\n",
    "data_interest[\"Data_1\"] = mt_1\n",
    "data_interest[\"Data_2\"] = mt_2\n",
    "data_interest[\"Data_3\"] = mt_3\n",
    "\n",
    "# data_interest.to_csv(\"U233_Data_ML.csv\", index=False)"
   ]
  },
  {
   "cell_type": "code",
   "execution_count": null,
   "metadata": {},
   "outputs": [],
   "source": [
    "# endf_mt1 = nuc_data.load_endf(\"U233\", \"MT001\", log=True)\n",
    "# endf_mt2  = nuc_data.load_endf(\"U233\", \"MT002\", log=True)\n",
    "# endf_mt3  = nuc_data.load_endf(\"U233\", \"MT003\", log=True)\n",
    "# endf_mt18 = nuc_data.load_endf(\"U233\", \"MT018\", log=True)\n",
    "# endf_mt101  = nuc_data.load_endf(\"U233\", \"MT101\", log=True)\n",
    "# endf_mt102  = nuc_data.load_endf(\"U233\", \"MT102\", log=True)\n",
    "\n",
    "# mt_18 = exfor_utils.make_predictions_from_df(92, 233, \"MT_18\", df, neigh_all, \n",
    "#                                               None, scaler, to_scale, log=True, show=True)\n",
    "\n",
    "# plt.figure(figsize=(15,10))\n",
    "# cl_mt_101 = exfor_utils.make_predictions_w_energy(ace_cl, 17, 35, \"MT_103\", df, neigh_all, \n",
    "#                                               None, scaler, to_scale, log=True, show=True)\n",
    "# plt.plot(endf_cl.Energy, endf_cl.Data)"
   ]
  }
 ],
 "metadata": {
  "kernelspec": {
   "display_name": "Python 3",
   "language": "python",
   "name": "python3"
  },
  "language_info": {
   "codemirror_mode": {
    "name": "ipython",
    "version": 3
   },
   "file_extension": ".py",
   "mimetype": "text/x-python",
   "name": "python",
   "nbconvert_exporter": "python",
   "pygments_lexer": "ipython3",
   "version": "3.7.7"
  }
 },
 "nbformat": 4,
 "nbformat_minor": 4
}
