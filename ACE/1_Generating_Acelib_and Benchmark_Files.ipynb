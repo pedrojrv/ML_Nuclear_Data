{
 "cells": [
  {
   "cell_type": "code",
   "execution_count": 124,
   "metadata": {
    "ExecuteTime": {
     "end_time": "2020-11-11T04:54:19.235379Z",
     "start_time": "2020-11-11T04:54:19.227378Z"
    }
   },
   "outputs": [],
   "source": [
    "import pandas as pd\n",
    "import numpy as np\n",
    "import seaborn as sns\n",
    "import matplotlib.pyplot as plt\n",
    "import importlib\n",
    "import os\n",
    "\n",
    "pd.set_option('display.max_columns', 500)\n",
    "pd.set_option('display.max_rows', 50)\n",
    "pd.options.mode.chained_assignment = None  # default='warn'\n",
    "sns.set_style(\"white\")\n",
    "\n",
    "import sys\n",
    "# This allows us to import the nucml utilities\n",
    "sys.path.append(\"..\")\n",
    "\n",
    "import nucml.exfor.data_utilities as exfor_utils\n",
    "import nucml.endf.data_utilities as endf_utils\n",
    "import nucml.plot.plotting_utilities as plot_utils\n",
    "import nucml.datasets as nuc_data\n",
    "import nucml.ace.data_utilities as ace_utils\n",
    "import nucml.model.model_building as model_building\n",
    "import nucml.model.model_utilities as model_utils\n",
    "import nucml.general_utilities as gen_utils"
   ]
  },
  {
   "cell_type": "code",
   "execution_count": 130,
   "metadata": {
    "ExecuteTime": {
     "end_time": "2020-11-11T16:05:39.259087Z",
     "start_time": "2020-11-11T16:05:39.155283Z"
    }
   },
   "outputs": [
    {
     "name": "stdout",
     "output_type": "stream",
     "text": [
      "Finish re-loading scripts.\n"
     ]
    }
   ],
   "source": [
    "importlib.reload(exfor_utils)\n",
    "importlib.reload(gen_utils)\n",
    "importlib.reload(endf_utils)\n",
    "importlib.reload(plot_utils)\n",
    "importlib.reload(nuc_data)\n",
    "importlib.reload(ace_utils)\n",
    "importlib.reload(model_building)\n",
    "importlib.reload(model_utils)\n",
    "print(\"Finish re-loading scripts.\")"
   ]
  },
  {
   "cell_type": "code",
   "execution_count": 126,
   "metadata": {
    "ExecuteTime": {
     "end_time": "2020-11-11T04:54:19.853354Z",
     "start_time": "2020-11-11T04:54:19.851353Z"
    }
   },
   "outputs": [],
   "source": [
    "figure_dir = \"Figures/\""
   ]
  },
  {
   "cell_type": "markdown",
   "metadata": {},
   "source": [
    "# Loading EXFOR Dataset"
   ]
  },
  {
   "cell_type": "code",
   "execution_count": 25,
   "metadata": {
    "ExecuteTime": {
     "end_time": "2020-11-05T23:34:33.638165Z",
     "start_time": "2020-11-05T23:34:33.634762Z"
    }
   },
   "outputs": [],
   "source": [
    "import logging\n",
    "logger = logging.getLogger()\n",
    "logger.setLevel(logging.CRITICAL)"
   ]
  },
  {
   "cell_type": "markdown",
   "metadata": {},
   "source": [
    "# B0 Dataset\n",
    "\n",
    "## Generating ACELIB"
   ]
  },
  {
   "cell_type": "code",
   "execution_count": null,
   "metadata": {
    "ExecuteTime": {
     "end_time": "2020-11-05T23:47:23.498154Z",
     "start_time": "2020-11-05T23:34:34.139983Z"
    },
    "scrolled": true
   },
   "outputs": [],
   "source": [
    "knn_inventory = \"acedata_ml/U233/KNN_B0/model_ace_inventory.csv\"\n",
    "ace_utils.generate_acelib(knn_inventory, \"92233\", reset=True)"
   ]
  },
  {
   "cell_type": "code",
   "execution_count": 28,
   "metadata": {
    "ExecuteTime": {
     "end_time": "2020-11-06T00:27:43.492686Z",
     "start_time": "2020-11-05T23:48:30.835125Z"
    }
   },
   "outputs": [],
   "source": [
    "dt_inventory = \"acedata_ml/U233/DT_B0/model_ace_inventory.csv\"\n",
    "ace_utils.generate_acelib(dt_inventory, \"92233\")"
   ]
  },
  {
   "cell_type": "markdown",
   "metadata": {},
   "source": [
    "## Generating U233 Jezzebel Benchmark Files"
   ]
  },
  {
   "cell_type": "code",
   "execution_count": 39,
   "metadata": {
    "ExecuteTime": {
     "end_time": "2020-11-06T00:45:56.534514Z",
     "start_time": "2020-11-06T00:45:55.351775Z"
    }
   },
   "outputs": [],
   "source": [
    "ace_utils.generate_benchmark_files(knn_inventory, \"u233_jezebel\")"
   ]
  },
  {
   "cell_type": "code",
   "execution_count": 40,
   "metadata": {
    "ExecuteTime": {
     "end_time": "2020-11-06T00:46:00.598218Z",
     "start_time": "2020-11-06T00:45:57.167950Z"
    }
   },
   "outputs": [],
   "source": [
    "ace_utils.generate_benchmark_files(dt_inventory, \"u233_jezebel\")"
   ]
  },
  {
   "cell_type": "markdown",
   "metadata": {},
   "source": [
    "## Generating Bash Script for Serpent"
   ]
  },
  {
   "cell_type": "code",
   "execution_count": 41,
   "metadata": {
    "ExecuteTime": {
     "end_time": "2020-11-06T00:46:03.329263Z",
     "start_time": "2020-11-06T00:46:03.247916Z"
    }
   },
   "outputs": [],
   "source": [
    "ace_utils.generate_serpent_bash(os.path.dirname(knn_inventory), \"u233_jezebel\")"
   ]
  },
  {
   "cell_type": "code",
   "execution_count": 42,
   "metadata": {
    "ExecuteTime": {
     "end_time": "2020-11-06T00:46:03.959982Z",
     "start_time": "2020-11-06T00:46:03.754320Z"
    }
   },
   "outputs": [],
   "source": [
    "ace_utils.generate_serpent_bash(os.path.dirname(dt_inventory), \"u233_jezebel\")"
   ]
  },
  {
   "cell_type": "markdown",
   "metadata": {},
   "source": [
    "# B1 Dataset\n",
    "\n",
    "## Generating ACELIB"
   ]
  },
  {
   "cell_type": "code",
   "execution_count": 127,
   "metadata": {
    "ExecuteTime": {
     "end_time": "2020-11-11T04:58:44.445722Z",
     "start_time": "2020-11-11T04:54:26.697331Z"
    },
    "scrolled": true
   },
   "outputs": [],
   "source": [
    "knn_inventory = \"acedata_ml/U233/KNN_B1/model_ace_inventory.csv\"\n",
    "ace_utils.generate_acelib(knn_inventory, \"92233\", reset=True)"
   ]
  },
  {
   "cell_type": "code",
   "execution_count": 110,
   "metadata": {
    "ExecuteTime": {
     "end_time": "2020-11-09T02:51:53.740595Z",
     "start_time": "2020-11-09T02:30:20.164856Z"
    }
   },
   "outputs": [],
   "source": [
    "dt_inventory = \"acedata_ml/U233/DT_B1/model_ace_inventory.csv\"\n",
    "ace_utils.generate_acelib(dt_inventory, \"92233\")"
   ]
  },
  {
   "cell_type": "markdown",
   "metadata": {},
   "source": [
    "## Generating U233 Jezzebel Benchmark Files"
   ]
  },
  {
   "cell_type": "code",
   "execution_count": 128,
   "metadata": {
    "ExecuteTime": {
     "end_time": "2020-11-11T04:58:44.811728Z",
     "start_time": "2020-11-11T04:58:44.447699Z"
    }
   },
   "outputs": [],
   "source": [
    "ace_utils.generate_benchmark_files(knn_inventory, \"u233_jezebel\")"
   ]
  },
  {
   "cell_type": "code",
   "execution_count": 112,
   "metadata": {
    "ExecuteTime": {
     "end_time": "2020-11-09T02:51:55.477081Z",
     "start_time": "2020-11-09T02:51:53.744696Z"
    }
   },
   "outputs": [],
   "source": [
    "ace_utils.generate_benchmark_files(dt_inventory, \"u233_jezebel\")"
   ]
  },
  {
   "cell_type": "markdown",
   "metadata": {},
   "source": [
    "## Generating Bash Script for Serpent"
   ]
  },
  {
   "cell_type": "code",
   "execution_count": 129,
   "metadata": {
    "ExecuteTime": {
     "end_time": "2020-11-11T04:58:44.843838Z",
     "start_time": "2020-11-11T04:58:44.812728Z"
    }
   },
   "outputs": [],
   "source": [
    "ace_utils.generate_serpent_bash(os.path.dirname(knn_inventory), \"u233_jezebel\")"
   ]
  },
  {
   "cell_type": "code",
   "execution_count": 114,
   "metadata": {
    "ExecuteTime": {
     "end_time": "2020-11-09T02:51:55.596213Z",
     "start_time": "2020-11-09T02:51:55.483125Z"
    }
   },
   "outputs": [],
   "source": [
    "ace_utils.generate_serpent_bash(os.path.dirname(dt_inventory), \"u233_jezebel\")"
   ]
  },
  {
   "cell_type": "markdown",
   "metadata": {},
   "source": [
    "# B2 Dataset\n",
    "\n",
    "## Generating ACELIB"
   ]
  },
  {
   "cell_type": "code",
   "execution_count": 115,
   "metadata": {
    "ExecuteTime": {
     "end_time": "2020-11-09T02:51:55.599214Z",
     "start_time": "2020-11-09T02:51:55.597213Z"
    },
    "scrolled": true
   },
   "outputs": [],
   "source": [
    "# knn_inventory = \"acedata_ml/U233/KNN_B2/model_ace_inventory.csv\"\n",
    "# ace_utils.generate_acelib(knn_inventory, \"92233\", reset=True)"
   ]
  },
  {
   "cell_type": "code",
   "execution_count": 116,
   "metadata": {
    "ExecuteTime": {
     "end_time": "2020-11-09T03:12:51.160401Z",
     "start_time": "2020-11-09T02:51:55.600214Z"
    }
   },
   "outputs": [],
   "source": [
    "dt_inventory = \"acedata_ml/U233/DT_B2/model_ace_inventory.csv\"\n",
    "ace_utils.generate_acelib(dt_inventory, \"92233\")"
   ]
  },
  {
   "cell_type": "markdown",
   "metadata": {},
   "source": [
    "## Generating U233 Jezzebel Benchmark Files"
   ]
  },
  {
   "cell_type": "code",
   "execution_count": 117,
   "metadata": {
    "ExecuteTime": {
     "end_time": "2020-11-09T03:12:51.164915Z",
     "start_time": "2020-11-09T03:12:51.162919Z"
    }
   },
   "outputs": [],
   "source": [
    "# ace_utils.generate_benchmark_files(knn_inventory, \"u233_jezebel\")"
   ]
  },
  {
   "cell_type": "code",
   "execution_count": 118,
   "metadata": {
    "ExecuteTime": {
     "end_time": "2020-11-09T03:12:52.854033Z",
     "start_time": "2020-11-09T03:12:51.166432Z"
    }
   },
   "outputs": [],
   "source": [
    "ace_utils.generate_benchmark_files(dt_inventory, \"u233_jezebel\")"
   ]
  },
  {
   "cell_type": "markdown",
   "metadata": {},
   "source": [
    "## Generating Bash Script for Serpent"
   ]
  },
  {
   "cell_type": "code",
   "execution_count": 119,
   "metadata": {
    "ExecuteTime": {
     "end_time": "2020-11-09T03:12:52.859190Z",
     "start_time": "2020-11-09T03:12:52.855032Z"
    }
   },
   "outputs": [],
   "source": [
    "# ace_utils.generate_serpent_bash(os.path.dirname(knn_inventory), \"u233_jezebel\")"
   ]
  },
  {
   "cell_type": "code",
   "execution_count": 120,
   "metadata": {
    "ExecuteTime": {
     "end_time": "2020-11-09T03:12:52.961964Z",
     "start_time": "2020-11-09T03:12:52.861191Z"
    }
   },
   "outputs": [],
   "source": [
    "ace_utils.generate_serpent_bash(os.path.dirname(dt_inventory), \"u233_jezebel\")"
   ]
  },
  {
   "cell_type": "markdown",
   "metadata": {},
   "source": [
    "# B3 Dataset\n",
    "\n",
    "## Generating ACELIB"
   ]
  },
  {
   "cell_type": "code",
   "execution_count": 131,
   "metadata": {
    "ExecuteTime": {
     "end_time": "2020-11-11T16:25:01.900752Z",
     "start_time": "2020-11-11T16:05:57.064612Z"
    },
    "scrolled": true
   },
   "outputs": [],
   "source": [
    "knn_inventory = \"acedata_ml/U233/KNN_B3/model_ace_inventory.csv\"\n",
    "ace_utils.generate_acelib(knn_inventory, \"92233\", reset=True)"
   ]
  },
  {
   "cell_type": "code",
   "execution_count": 116,
   "metadata": {
    "ExecuteTime": {
     "end_time": "2020-11-09T03:12:51.160401Z",
     "start_time": "2020-11-09T02:51:55.600214Z"
    }
   },
   "outputs": [],
   "source": [
    "dt_inventory = \"acedata_ml/U233/DT_B3/model_ace_inventory.csv\"\n",
    "ace_utils.generate_acelib(dt_inventory, \"92233\")"
   ]
  },
  {
   "cell_type": "markdown",
   "metadata": {},
   "source": [
    "## Generating U233 Jezzebel Benchmark Files"
   ]
  },
  {
   "cell_type": "code",
   "execution_count": 132,
   "metadata": {
    "ExecuteTime": {
     "end_time": "2020-11-11T16:25:02.359286Z",
     "start_time": "2020-11-11T16:25:01.901875Z"
    }
   },
   "outputs": [],
   "source": [
    "ace_utils.generate_benchmark_files(knn_inventory, \"u233_jezebel\")"
   ]
  },
  {
   "cell_type": "code",
   "execution_count": 118,
   "metadata": {
    "ExecuteTime": {
     "end_time": "2020-11-09T03:12:52.854033Z",
     "start_time": "2020-11-09T03:12:51.166432Z"
    }
   },
   "outputs": [],
   "source": [
    "ace_utils.generate_benchmark_files(dt_inventory, \"u233_jezebel\")"
   ]
  },
  {
   "cell_type": "markdown",
   "metadata": {},
   "source": [
    "## Generating Bash Script for Serpent"
   ]
  },
  {
   "cell_type": "code",
   "execution_count": 133,
   "metadata": {
    "ExecuteTime": {
     "end_time": "2020-11-11T16:25:02.392957Z",
     "start_time": "2020-11-11T16:25:02.361264Z"
    }
   },
   "outputs": [],
   "source": [
    "ace_utils.generate_serpent_bash(os.path.dirname(knn_inventory), \"u233_jezebel\")"
   ]
  },
  {
   "cell_type": "code",
   "execution_count": 120,
   "metadata": {
    "ExecuteTime": {
     "end_time": "2020-11-09T03:12:52.961964Z",
     "start_time": "2020-11-09T03:12:52.861191Z"
    }
   },
   "outputs": [],
   "source": [
    "ace_utils.generate_serpent_bash(os.path.dirname(dt_inventory), \"u233_jezebel\")"
   ]
  },
  {
   "cell_type": "code",
   "execution_count": null,
   "metadata": {},
   "outputs": [],
   "source": []
  }
 ],
 "metadata": {
  "kernelspec": {
   "display_name": "Python 3",
   "language": "python",
   "name": "python3"
  },
  "language_info": {
   "codemirror_mode": {
    "name": "ipython",
    "version": 3
   },
   "file_extension": ".py",
   "mimetype": "text/x-python",
   "name": "python",
   "nbconvert_exporter": "python",
   "pygments_lexer": "ipython3",
   "version": "3.7.9"
  }
 },
 "nbformat": 4,
 "nbformat_minor": 4
}
