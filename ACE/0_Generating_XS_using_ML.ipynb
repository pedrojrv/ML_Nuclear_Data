{
 "cells": [
  {
   "cell_type": "code",
   "execution_count": 16,
   "metadata": {
    "ExecuteTime": {
     "end_time": "2021-01-08T07:27:45.256127Z",
     "start_time": "2021-01-08T07:27:45.249125Z"
    }
   },
   "outputs": [],
   "source": [
    "import pandas as pd\n",
    "import os\n",
    "import logging\n",
    "\n",
    "pd.set_option('display.max_columns', 500)\n",
    "pd.set_option('display.max_rows', 50)\n",
    "pd.options.mode.chained_assignment = None  # default='warn'\n",
    "\n",
    "import sys\n",
    "# This allows us to import the nucml utilities\n",
    "sys.path.append(\"..\")\n",
    "\n",
    "\n",
    "import nucml.datasets as nuc_data\n",
    "import nucml.ace.data_utilities as ace_utils\n",
    "import nucml.model.model_utilities as model_utils"
   ]
  },
  {
   "cell_type": "code",
   "execution_count": 18,
   "metadata": {
    "ExecuteTime": {
     "end_time": "2021-01-08T07:27:49.884172Z",
     "start_time": "2021-01-08T07:27:49.880171Z"
    }
   },
   "outputs": [],
   "source": [
    "figure_dir = \"Figures/\""
   ]
  },
  {
   "cell_type": "code",
   "execution_count": 19,
   "metadata": {
    "ExecuteTime": {
     "end_time": "2021-01-08T07:27:50.062212Z",
     "start_time": "2021-01-08T07:27:50.058211Z"
    }
   },
   "outputs": [],
   "source": [
    "import logging\n",
    "logger = logging.getLogger()\n",
    "logger.setLevel(logging.CRITICAL)"
   ]
  },
  {
   "cell_type": "code",
   "execution_count": 20,
   "metadata": {
    "ExecuteTime": {
     "end_time": "2021-01-08T07:27:51.481533Z",
     "start_time": "2021-01-08T07:27:51.472540Z"
    }
   },
   "outputs": [
    {
     "name": "stdout",
     "output_type": "stream",
     "text": [
      "Finish re-loading scripts.\n"
     ]
    }
   ],
   "source": [
    "import importlib\n",
    "importlib.reload(nuc_data)\n",
    "importlib.reload(ace_utils)\n",
    "importlib.reload(model_utils)\n",
    "print(\"Finish re-loading scripts.\")"
   ]
  },
  {
   "cell_type": "markdown",
   "metadata": {},
   "source": [
    "# Loading EXFOR Dataset"
   ]
  },
  {
   "cell_type": "code",
   "execution_count": 11,
   "metadata": {
    "ExecuteTime": {
     "end_time": "2021-01-08T05:53:12.580566Z",
     "start_time": "2021-01-08T05:51:16.328238Z"
    }
   },
   "outputs": [
    {
     "name": "stderr",
     "output_type": "stream",
     "text": [
      "INFO:root: MODE: neutrons\n",
      "INFO:root: LOW ENERGY: True\n",
      "INFO:root: LOG: True\n",
      "INFO:root: BASIC: 0\n",
      "INFO:root: SCALER: STANDARD\n",
      "INFO:root:Reading data from C:/Users/Pedro/Desktop/ML_Nuclear_Data/EXFOR/CSV_Files\\EXFOR_neutrons\\EXFOR_neutrons_MF3_AME_no_RawNaN.csv\n",
      "INFO:root:Data read into dataframe with shape: (4184115, 8)\n",
      "INFO:root:Splitting dataset into training and testing...\n",
      "INFO:root:Normalizing dataset...\n",
      "INFO:root:Fitting new scaler.\n"
     ]
    }
   ],
   "source": [
    "df, x_train, x_test, y_train, y_test, to_scale, scaler = nuc_data.load_exfor(pedro=True, basic=0)"
   ]
  },
  {
   "cell_type": "markdown",
   "metadata": {},
   "source": [
    "# Generating XS from Results - B0"
   ]
  },
  {
   "cell_type": "code",
   "execution_count": 15,
   "metadata": {
    "ExecuteTime": {
     "end_time": "2021-01-08T07:12:43.650593Z",
     "start_time": "2021-01-08T07:12:43.648591Z"
    }
   },
   "outputs": [],
   "source": [
    "dt_ml_ace_dir = \"acedata_ml/U233/DT_B0/\""
   ]
  },
  {
   "cell_type": "code",
   "execution_count": 22,
   "metadata": {
    "ExecuteTime": {
     "end_time": "2021-01-08T07:28:45.711775Z",
     "start_time": "2021-01-08T07:28:45.649761Z"
    }
   },
   "outputs": [
    {
     "data": {
      "text/html": [
       "<div>\n",
       "<style scoped>\n",
       "    .dataframe tbody tr th:only-of-type {\n",
       "        vertical-align: middle;\n",
       "    }\n",
       "\n",
       "    .dataframe tbody tr th {\n",
       "        vertical-align: top;\n",
       "    }\n",
       "\n",
       "    .dataframe thead th {\n",
       "        text-align: right;\n",
       "    }\n",
       "</style>\n",
       "<table border=\"1\" class=\"dataframe\">\n",
       "  <thead>\n",
       "    <tr style=\"text-align: right;\">\n",
       "      <th></th>\n",
       "      <th>id</th>\n",
       "      <th>max_depth</th>\n",
       "      <th>mss</th>\n",
       "      <th>mslmt_strategy</th>\n",
       "      <th>normalizer</th>\n",
       "      <th>train_mae</th>\n",
       "      <th>train_mse</th>\n",
       "      <th>train_evs</th>\n",
       "      <th>train_mae_m</th>\n",
       "      <th>train_r2</th>\n",
       "      <th>val_mae</th>\n",
       "      <th>val_mse</th>\n",
       "      <th>val_evs</th>\n",
       "      <th>val_mae_m</th>\n",
       "      <th>val_r2</th>\n",
       "      <th>test_mae</th>\n",
       "      <th>test_mse</th>\n",
       "      <th>test_evs</th>\n",
       "      <th>test_mae_m</th>\n",
       "      <th>test_r2</th>\n",
       "      <th>model_path</th>\n",
       "      <th>training_time</th>\n",
       "      <th>scaler_path</th>\n",
       "      <th>mt_strategy</th>\n",
       "      <th>msl</th>\n",
       "      <th>tag</th>\n",
       "    </tr>\n",
       "  </thead>\n",
       "  <tbody>\n",
       "    <tr>\n",
       "      <th>986</th>\n",
       "      <td>681</td>\n",
       "      <td>400.0</td>\n",
       "      <td>2.0</td>\n",
       "      <td>NaN</td>\n",
       "      <td>robust</td>\n",
       "      <td>0.025735</td>\n",
       "      <td>0.010784</td>\n",
       "      <td>0.986006</td>\n",
       "      <td>0.000000</td>\n",
       "      <td>0.986006</td>\n",
       "      <td>0.136552</td>\n",
       "      <td>0.082771</td>\n",
       "      <td>0.893108</td>\n",
       "      <td>0.047504</td>\n",
       "      <td>0.893105</td>\n",
       "      <td>0.135758</td>\n",
       "      <td>0.081491</td>\n",
       "      <td>0.894834</td>\n",
       "      <td>0.047654</td>\n",
       "      <td>0.894834</td>\n",
       "      <td>E:\\ML_Models_EXFOR\\DT_B0\\DT400_MSS2_MSL1_robus...</td>\n",
       "      <td>37.492463</td>\n",
       "      <td>E:\\ML_Models_EXFOR\\DT_B0\\DT400_MSS2_MSL1_robus...</td>\n",
       "      <td>one_hot</td>\n",
       "      <td>1.0</td>\n",
       "      <td>Train</td>\n",
       "    </tr>\n",
       "    <tr>\n",
       "      <th>252</th>\n",
       "      <td>74</td>\n",
       "      <td>90.0</td>\n",
       "      <td>10.0</td>\n",
       "      <td>NaN</td>\n",
       "      <td>minmax</td>\n",
       "      <td>0.094541</td>\n",
       "      <td>0.038049</td>\n",
       "      <td>0.948882</td>\n",
       "      <td>0.036003</td>\n",
       "      <td>0.948882</td>\n",
       "      <td>0.118665</td>\n",
       "      <td>0.057489</td>\n",
       "      <td>0.922504</td>\n",
       "      <td>0.046883</td>\n",
       "      <td>0.922504</td>\n",
       "      <td>0.119339</td>\n",
       "      <td>0.058362</td>\n",
       "      <td>0.920611</td>\n",
       "      <td>0.046796</td>\n",
       "      <td>0.920610</td>\n",
       "      <td>E:\\ML_Models_EXFOR\\DT_B0\\DT90_MSS10_MSL7_minma...</td>\n",
       "      <td>37.602498</td>\n",
       "      <td>E:\\ML_Models_EXFOR\\DT_B0\\DT90_MSS10_MSL7_minma...</td>\n",
       "      <td>one_hot</td>\n",
       "      <td>7.0</td>\n",
       "      <td>Val</td>\n",
       "    </tr>\n",
       "    <tr>\n",
       "      <th>322</th>\n",
       "      <td>94</td>\n",
       "      <td>99.0</td>\n",
       "      <td>10.0</td>\n",
       "      <td>NaN</td>\n",
       "      <td>robust</td>\n",
       "      <td>0.094423</td>\n",
       "      <td>0.038064</td>\n",
       "      <td>0.948795</td>\n",
       "      <td>0.035960</td>\n",
       "      <td>0.948795</td>\n",
       "      <td>0.120346</td>\n",
       "      <td>0.059165</td>\n",
       "      <td>0.920348</td>\n",
       "      <td>0.047123</td>\n",
       "      <td>0.920347</td>\n",
       "      <td>0.119189</td>\n",
       "      <td>0.057920</td>\n",
       "      <td>0.922201</td>\n",
       "      <td>0.046670</td>\n",
       "      <td>0.922201</td>\n",
       "      <td>E:\\ML_Models_EXFOR\\DT_B0\\DT99_MSS10_MSL7_robus...</td>\n",
       "      <td>37.116284</td>\n",
       "      <td>E:\\ML_Models_EXFOR\\DT_B0\\DT99_MSS10_MSL7_robus...</td>\n",
       "      <td>one_hot</td>\n",
       "      <td>7.0</td>\n",
       "      <td>Test</td>\n",
       "    </tr>\n",
       "  </tbody>\n",
       "</table>\n",
       "</div>"
      ],
      "text/plain": [
       "      id  max_depth   mss  mslmt_strategy normalizer  train_mae  train_mse  \\\n",
       "986  681      400.0   2.0             NaN     robust   0.025735   0.010784   \n",
       "252   74       90.0  10.0             NaN     minmax   0.094541   0.038049   \n",
       "322   94       99.0  10.0             NaN     robust   0.094423   0.038064   \n",
       "\n",
       "     train_evs  train_mae_m  train_r2   val_mae   val_mse   val_evs  \\\n",
       "986   0.986006     0.000000  0.986006  0.136552  0.082771  0.893108   \n",
       "252   0.948882     0.036003  0.948882  0.118665  0.057489  0.922504   \n",
       "322   0.948795     0.035960  0.948795  0.120346  0.059165  0.920348   \n",
       "\n",
       "     val_mae_m    val_r2  test_mae  test_mse  test_evs  test_mae_m   test_r2  \\\n",
       "986   0.047504  0.893105  0.135758  0.081491  0.894834    0.047654  0.894834   \n",
       "252   0.046883  0.922504  0.119339  0.058362  0.920611    0.046796  0.920610   \n",
       "322   0.047123  0.920347  0.119189  0.057920  0.922201    0.046670  0.922201   \n",
       "\n",
       "                                            model_path  training_time  \\\n",
       "986  E:\\ML_Models_EXFOR\\DT_B0\\DT400_MSS2_MSL1_robus...      37.492463   \n",
       "252  E:\\ML_Models_EXFOR\\DT_B0\\DT90_MSS10_MSL7_minma...      37.602498   \n",
       "322  E:\\ML_Models_EXFOR\\DT_B0\\DT99_MSS10_MSL7_robus...      37.116284   \n",
       "\n",
       "                                           scaler_path mt_strategy  msl    tag  \n",
       "986  E:\\ML_Models_EXFOR\\DT_B0\\DT400_MSS2_MSL1_robus...     one_hot  1.0  Train  \n",
       "252  E:\\ML_Models_EXFOR\\DT_B0\\DT90_MSS10_MSL7_minma...     one_hot  7.0    Val  \n",
       "322  E:\\ML_Models_EXFOR\\DT_B0\\DT99_MSS10_MSL7_robus...     one_hot  7.0   Test  "
      ]
     },
     "execution_count": 22,
     "metadata": {},
     "output_type": "execute_result"
    }
   ],
   "source": [
    "dt_results_filepath = \"../ML_EXFOR_neutrons/2_DT/dt_resultsB0.csv\"\n",
    "dt_results = pd.read_csv(dt_results_filepath)\n",
    "dt_results = model_utils.get_best_models_df(dt_results)\n",
    "dt_results\n",
    "\n",
    "# ace_utils.generate_ml_xs(df, 92, 233, dt_results, to_scale, dt_ml_ace_dir)"
   ]
  },
  {
   "cell_type": "code",
   "execution_count": 39,
   "metadata": {
    "ExecuteTime": {
     "end_time": "2020-11-04T03:53:06.021478Z",
     "start_time": "2020-11-04T03:28:19.980004Z"
    }
   },
   "outputs": [],
   "source": [
    "ace_utils.generate_ml_xs(df, 92, 233, dt_results_filepath, to_scale, dt_ml_ace_dir)"
   ]
  },
  {
   "cell_type": "code",
   "execution_count": 40,
   "metadata": {
    "ExecuteTime": {
     "end_time": "2020-11-04T03:59:52.198070Z",
     "start_time": "2020-11-04T03:59:52.194556Z"
    }
   },
   "outputs": [],
   "source": [
    "knn_ml_ace_dir = \"acedata_ml/U233/KNN_B0/\""
   ]
  },
  {
   "cell_type": "code",
   "execution_count": 41,
   "metadata": {
    "ExecuteTime": {
     "end_time": "2020-11-04T03:59:53.499253Z",
     "start_time": "2020-11-04T03:59:53.496743Z"
    }
   },
   "outputs": [],
   "source": [
    "knn_results_filepath = \"../ML_EXFOR_neutrons/1_KNN/KNN_B0/knn_results.csv\"\n",
    "# knn_results = pd.read_csv(knn_results_filepath)\n",
    "# knn_results = model_utils.get_best_models_df(knn_results)\n",
    "# knn_results\n",
    "\n",
    "# ace_utils.generate_ml_xs(df, 92, 233, knn_results, to_scale, knn_ml_ace_dir)"
   ]
  },
  {
   "cell_type": "code",
   "execution_count": null,
   "metadata": {},
   "outputs": [],
   "source": [
    "ace_utils.generate_ml_xs(df, 92, 233, knn_results_filepath, to_scale, knn_ml_ace_dir)"
   ]
  },
  {
   "cell_type": "markdown",
   "metadata": {},
   "source": [
    "# Generating XS from Results - B1"
   ]
  },
  {
   "cell_type": "code",
   "execution_count": 69,
   "metadata": {
    "ExecuteTime": {
     "end_time": "2020-11-11T04:13:09.982889Z",
     "start_time": "2020-11-11T04:11:04.043528Z"
    }
   },
   "outputs": [],
   "source": [
    "df, x_train, x_test, y_train, y_test, to_scale, scaler = nuc_data.load_exfor(\n",
    "    log=True, basic=1, num=True, low_en=True, filters=True)"
   ]
  },
  {
   "cell_type": "code",
   "execution_count": 54,
   "metadata": {
    "ExecuteTime": {
     "end_time": "2020-11-08T06:37:18.402343Z",
     "start_time": "2020-11-08T06:37:18.400342Z"
    }
   },
   "outputs": [],
   "source": [
    "dt_ml_ace_dir = \"acedata_ml/U233/DT_B1/\"\n",
    "dt_results_filepath = \"../ML_EXFOR_neutrons/2_DT/DT_B1/dt_results.csv\""
   ]
  },
  {
   "cell_type": "code",
   "execution_count": 55,
   "metadata": {
    "ExecuteTime": {
     "end_time": "2020-11-08T06:53:14.012145Z",
     "start_time": "2020-11-08T06:37:26.153202Z"
    },
    "scrolled": true
   },
   "outputs": [],
   "source": [
    "ace_utils.generate_ml_xs(df, 92, 233, dt_results_filepath, to_scale, dt_ml_ace_dir)"
   ]
  },
  {
   "cell_type": "code",
   "execution_count": 70,
   "metadata": {
    "ExecuteTime": {
     "end_time": "2020-11-11T04:13:09.987876Z",
     "start_time": "2020-11-11T04:13:09.984409Z"
    }
   },
   "outputs": [],
   "source": [
    "knn_ml_ace_dir = \"acedata_ml/U233/KNN_B1/\"\n",
    "knn_results_filepath = \"../ML_EXFOR_neutrons/1_KNN/KNN_B1/knn_results.csv\""
   ]
  },
  {
   "cell_type": "code",
   "execution_count": 71,
   "metadata": {
    "ExecuteTime": {
     "end_time": "2020-11-11T04:47:10.761104Z",
     "start_time": "2020-11-11T04:13:12.047541Z"
    },
    "scrolled": true
   },
   "outputs": [],
   "source": [
    "ace_utils.generate_ml_xs(df, 92, 233, knn_results_filepath, to_scale, knn_ml_ace_dir)"
   ]
  },
  {
   "cell_type": "markdown",
   "metadata": {},
   "source": [
    "# Generating XS from Results - B2"
   ]
  },
  {
   "cell_type": "code",
   "execution_count": 61,
   "metadata": {
    "ExecuteTime": {
     "end_time": "2020-11-08T23:51:20.451644Z",
     "start_time": "2020-11-08T23:48:39.643740Z"
    }
   },
   "outputs": [],
   "source": [
    "df, x_train, x_test, y_train, y_test, to_scale, scaler = nuc_data.load_exfor(\n",
    "    log=True, basic=2, num=True, low_en=True, filters=True)"
   ]
  },
  {
   "cell_type": "code",
   "execution_count": 64,
   "metadata": {
    "ExecuteTime": {
     "end_time": "2020-11-08T23:51:20.465694Z",
     "start_time": "2020-11-08T23:51:20.463382Z"
    }
   },
   "outputs": [],
   "source": [
    "dt_ml_ace_dir = \"acedata_ml/U233/DT_B2/\"\n",
    "dt_results_filepath = \"../ML_EXFOR_neutrons/2_DT/DT_B2/dt_results.csv\""
   ]
  },
  {
   "cell_type": "code",
   "execution_count": 65,
   "metadata": {
    "ExecuteTime": {
     "end_time": "2020-11-09T00:11:31.282569Z",
     "start_time": "2020-11-08T23:51:24.550277Z"
    },
    "scrolled": true
   },
   "outputs": [],
   "source": [
    "ace_utils.generate_ml_xs(df, 92, 233, dt_results_filepath, to_scale, dt_ml_ace_dir)"
   ]
  },
  {
   "cell_type": "code",
   "execution_count": 62,
   "metadata": {
    "ExecuteTime": {
     "end_time": "2020-11-08T23:51:20.455636Z",
     "start_time": "2020-11-08T23:51:20.452644Z"
    }
   },
   "outputs": [],
   "source": [
    "# knn_ml_ace_dir = \"acedata_ml/U233/KNN_B2/\"\n",
    "# knn_results_filepath = \"../ML_EXFOR_neutrons/1_KNN/KNN_B2/knn_results.csv\""
   ]
  },
  {
   "cell_type": "code",
   "execution_count": 63,
   "metadata": {
    "ExecuteTime": {
     "end_time": "2020-11-08T23:51:20.461381Z",
     "start_time": "2020-11-08T23:51:20.457637Z"
    },
    "scrolled": true
   },
   "outputs": [],
   "source": [
    "# ace_utils.generate_ml_xs(df, 92, 233, knn_results_filepath, to_scale, knn_ml_ace_dir)"
   ]
  },
  {
   "cell_type": "markdown",
   "metadata": {},
   "source": [
    "# Generating XS from Results - B3"
   ]
  },
  {
   "cell_type": "code",
   "execution_count": 73,
   "metadata": {
    "ExecuteTime": {
     "end_time": "2020-11-11T15:29:30.695028Z",
     "start_time": "2020-11-11T15:27:31.161047Z"
    }
   },
   "outputs": [],
   "source": [
    "df, x_train, x_test, y_train, y_test, to_scale, scaler = nuc_data.load_exfor(\n",
    "    log=True, basic=3, num=True, low_en=True, filters=True)"
   ]
  },
  {
   "cell_type": "code",
   "execution_count": 64,
   "metadata": {
    "ExecuteTime": {
     "end_time": "2020-11-08T23:51:20.465694Z",
     "start_time": "2020-11-08T23:51:20.463382Z"
    }
   },
   "outputs": [],
   "source": [
    "dt_ml_ace_dir = \"acedata_ml/U233/DT_B2/\"\n",
    "dt_results_filepath = \"../ML_EXFOR_neutrons/2_DT/DT_B2/dt_results.csv\""
   ]
  },
  {
   "cell_type": "code",
   "execution_count": 65,
   "metadata": {
    "ExecuteTime": {
     "end_time": "2020-11-09T00:11:31.282569Z",
     "start_time": "2020-11-08T23:51:24.550277Z"
    },
    "scrolled": true
   },
   "outputs": [],
   "source": [
    "ace_utils.generate_ml_xs(df, 92, 233, dt_results_filepath, to_scale, dt_ml_ace_dir)"
   ]
  },
  {
   "cell_type": "code",
   "execution_count": 74,
   "metadata": {
    "ExecuteTime": {
     "end_time": "2020-11-11T15:32:03.613815Z",
     "start_time": "2020-11-11T15:32:03.609303Z"
    }
   },
   "outputs": [],
   "source": [
    "knn_ml_ace_dir = \"acedata_ml/U233/KNN_B3/\"\n",
    "knn_results_filepath = \"../ML_EXFOR_neutrons/1_KNN/KNN_B3/knn_results.csv\""
   ]
  },
  {
   "cell_type": "code",
   "execution_count": 75,
   "metadata": {
    "ExecuteTime": {
     "end_time": "2020-11-11T16:01:35.259224Z",
     "start_time": "2020-11-11T15:32:17.265158Z"
    },
    "scrolled": true
   },
   "outputs": [],
   "source": [
    "ace_utils.generate_ml_xs(df, 92, 233, knn_results_filepath, to_scale, knn_ml_ace_dir)"
   ]
  },
  {
   "cell_type": "code",
   "execution_count": null,
   "metadata": {},
   "outputs": [],
   "source": []
  }
 ],
 "metadata": {
  "kernelspec": {
   "display_name": "Python 3",
   "language": "python",
   "name": "python3"
  },
  "language_info": {
   "codemirror_mode": {
    "name": "ipython",
    "version": 3
   },
   "file_extension": ".py",
   "mimetype": "text/x-python",
   "name": "python",
   "nbconvert_exporter": "python",
   "pygments_lexer": "ipython3",
   "version": "3.7.9"
  }
 },
 "nbformat": 4,
 "nbformat_minor": 4
}
