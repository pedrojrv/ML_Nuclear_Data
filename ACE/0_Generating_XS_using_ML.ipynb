{
 "cells": [
  {
   "cell_type": "code",
   "execution_count": 66,
   "metadata": {
    "ExecuteTime": {
     "end_time": "2020-11-11T04:10:44.072300Z",
     "start_time": "2020-11-11T04:10:44.022287Z"
    }
   },
   "outputs": [],
   "source": [
    "import pandas as pd\n",
    "import numpy as np\n",
    "import seaborn as sns\n",
    "import matplotlib.pyplot as plt\n",
    "import importlib\n",
    "import os\n",
    "import logging\n",
    "\n",
    "pd.set_option('display.max_columns', 500)\n",
    "pd.set_option('display.max_rows', 50)\n",
    "pd.options.mode.chained_assignment = None  # default='warn'\n",
    "sns.set_style(\"white\")\n",
    "\n",
    "import sys\n",
    "# This allows us to import the nucml utilities\n",
    "sys.path.append(\"..\")\n",
    "\n",
    "import nucml.exfor.data_utilities as exfor_utils\n",
    "import nucml.endf.data_utilities as endf_utils\n",
    "import nucml.plot.plotting_utilities as plot_utils\n",
    "import nucml.datasets as nuc_data\n",
    "import nucml.ace.data_utilities as ace_utils\n",
    "import nucml.model.model_building as model_building\n",
    "import nucml.model.model_utilities as model_utils\n",
    "import nucml.general_utilities as gen_utils"
   ]
  },
  {
   "cell_type": "code",
   "execution_count": 72,
   "metadata": {
    "ExecuteTime": {
     "end_time": "2020-11-11T15:27:23.306019Z",
     "start_time": "2020-11-11T15:27:23.226954Z"
    }
   },
   "outputs": [
    {
     "name": "stdout",
     "output_type": "stream",
     "text": [
      "Finish re-loading scripts.\n"
     ]
    }
   ],
   "source": [
    "importlib.reload(exfor_utils)\n",
    "importlib.reload(gen_utils)\n",
    "importlib.reload(endf_utils)\n",
    "importlib.reload(plot_utils)\n",
    "importlib.reload(nuc_data)\n",
    "importlib.reload(ace_utils)\n",
    "importlib.reload(model_building)\n",
    "importlib.reload(model_utils)\n",
    "print(\"Finish re-loading scripts.\")"
   ]
  },
  {
   "cell_type": "code",
   "execution_count": 68,
   "metadata": {
    "ExecuteTime": {
     "end_time": "2020-11-11T04:10:44.871393Z",
     "start_time": "2020-11-11T04:10:44.867047Z"
    }
   },
   "outputs": [],
   "source": [
    "figure_dir = \"Figures/\""
   ]
  },
  {
   "cell_type": "markdown",
   "metadata": {},
   "source": [
    "# Loading EXFOR Dataset"
   ]
  },
  {
   "cell_type": "code",
   "execution_count": 4,
   "metadata": {
    "ExecuteTime": {
     "end_time": "2020-10-28T07:39:22.931251Z",
     "start_time": "2020-10-28T07:37:38.398538Z"
    }
   },
   "outputs": [
    {
     "name": "stderr",
     "output_type": "stream",
     "text": [
      "INFO:root: MODE: neutrons\n",
      "INFO:root: LOW ENERGY: True\n",
      "INFO:root: LOG: True\n",
      "INFO:root: BASIC: 0\n",
      "INFO:root: SCALER: STANDARD\n",
      "INFO:root:Reading data from C:\\Users\\Pedro\\Desktop\\ML_Nuclear_Data\\EXFOR\\CSV_Files\\EXFOR_neutrons\\EXFOR_neutrons_MF3_AME_no_RawNaN.csv\n",
      "INFO:root:Data read into dataframe with shape: (4184115, 10)\n",
      "INFO:root:Dropping unnecessary features and one-hot encoding categorical columns...\n",
      "INFO:root:Splitting dataset into training and testing...\n",
      "INFO:root:Normalizing dataset...\n",
      "INFO:root:Fitting new scaler.\n"
     ]
    }
   ],
   "source": [
    "df, x_train, x_test, y_train, y_test, to_scale, scaler = nuc_data.load_exfor(\n",
    "    log=True, basic=0, num=True, low_en=True, filters=True)"
   ]
  },
  {
   "cell_type": "markdown",
   "metadata": {},
   "source": [
    "# Generating XS from Results - B0"
   ]
  },
  {
   "cell_type": "code",
   "execution_count": 36,
   "metadata": {
    "ExecuteTime": {
     "end_time": "2020-11-04T03:27:15.629845Z",
     "start_time": "2020-11-04T03:27:15.625669Z"
    }
   },
   "outputs": [],
   "source": [
    "import logging\n",
    "logger = logging.getLogger()\n",
    "logger.setLevel(logging.CRITICAL)"
   ]
  },
  {
   "cell_type": "code",
   "execution_count": 37,
   "metadata": {
    "ExecuteTime": {
     "end_time": "2020-11-04T03:27:15.844467Z",
     "start_time": "2020-11-04T03:27:15.842480Z"
    }
   },
   "outputs": [],
   "source": [
    "dt_ml_ace_dir = \"acedata_ml/U233/DT_B0/\""
   ]
  },
  {
   "cell_type": "code",
   "execution_count": 38,
   "metadata": {
    "ExecuteTime": {
     "end_time": "2020-11-04T03:27:25.996926Z",
     "start_time": "2020-11-04T03:27:25.993925Z"
    }
   },
   "outputs": [],
   "source": [
    "dt_results_filepath = \"../ML_EXFOR_neutrons/2_DT/DT_B0/dt_results.csv\"\n",
    "# dt_results = pd.read_csv(dt_results_filepath)\n",
    "# dt_results = model_utils.get_best_models_df(dt_results)\n",
    "# dt_results\n",
    "\n",
    "# ace_utils.generate_ml_xs(df, 92, 233, dt_results, to_scale, dt_ml_ace_dir)"
   ]
  },
  {
   "cell_type": "code",
   "execution_count": 39,
   "metadata": {
    "ExecuteTime": {
     "end_time": "2020-11-04T03:53:06.021478Z",
     "start_time": "2020-11-04T03:28:19.980004Z"
    }
   },
   "outputs": [],
   "source": [
    "ace_utils.generate_ml_xs(df, 92, 233, dt_results_filepath, to_scale, dt_ml_ace_dir)"
   ]
  },
  {
   "cell_type": "code",
   "execution_count": 40,
   "metadata": {
    "ExecuteTime": {
     "end_time": "2020-11-04T03:59:52.198070Z",
     "start_time": "2020-11-04T03:59:52.194556Z"
    }
   },
   "outputs": [],
   "source": [
    "knn_ml_ace_dir = \"acedata_ml/U233/KNN_B0/\""
   ]
  },
  {
   "cell_type": "code",
   "execution_count": 41,
   "metadata": {
    "ExecuteTime": {
     "end_time": "2020-11-04T03:59:53.499253Z",
     "start_time": "2020-11-04T03:59:53.496743Z"
    }
   },
   "outputs": [],
   "source": [
    "knn_results_filepath = \"../ML_EXFOR_neutrons/1_KNN/KNN_B0/knn_results.csv\"\n",
    "# knn_results = pd.read_csv(knn_results_filepath)\n",
    "# knn_results = model_utils.get_best_models_df(knn_results)\n",
    "# knn_results\n",
    "\n",
    "# ace_utils.generate_ml_xs(df, 92, 233, knn_results, to_scale, knn_ml_ace_dir)"
   ]
  },
  {
   "cell_type": "code",
   "execution_count": null,
   "metadata": {},
   "outputs": [],
   "source": [
    "ace_utils.generate_ml_xs(df, 92, 233, knn_results_filepath, to_scale, knn_ml_ace_dir)"
   ]
  },
  {
   "cell_type": "markdown",
   "metadata": {},
   "source": [
    "# Generating XS from Results - B1"
   ]
  },
  {
   "cell_type": "code",
   "execution_count": 69,
   "metadata": {
    "ExecuteTime": {
     "end_time": "2020-11-11T04:13:09.982889Z",
     "start_time": "2020-11-11T04:11:04.043528Z"
    }
   },
   "outputs": [],
   "source": [
    "df, x_train, x_test, y_train, y_test, to_scale, scaler = nuc_data.load_exfor(\n",
    "    log=True, basic=1, num=True, low_en=True, filters=True)"
   ]
  },
  {
   "cell_type": "code",
   "execution_count": 54,
   "metadata": {
    "ExecuteTime": {
     "end_time": "2020-11-08T06:37:18.402343Z",
     "start_time": "2020-11-08T06:37:18.400342Z"
    }
   },
   "outputs": [],
   "source": [
    "dt_ml_ace_dir = \"acedata_ml/U233/DT_B1/\"\n",
    "dt_results_filepath = \"../ML_EXFOR_neutrons/2_DT/DT_B1/dt_results.csv\""
   ]
  },
  {
   "cell_type": "code",
   "execution_count": 55,
   "metadata": {
    "ExecuteTime": {
     "end_time": "2020-11-08T06:53:14.012145Z",
     "start_time": "2020-11-08T06:37:26.153202Z"
    },
    "scrolled": true
   },
   "outputs": [],
   "source": [
    "ace_utils.generate_ml_xs(df, 92, 233, dt_results_filepath, to_scale, dt_ml_ace_dir)"
   ]
  },
  {
   "cell_type": "code",
   "execution_count": 70,
   "metadata": {
    "ExecuteTime": {
     "end_time": "2020-11-11T04:13:09.987876Z",
     "start_time": "2020-11-11T04:13:09.984409Z"
    }
   },
   "outputs": [],
   "source": [
    "knn_ml_ace_dir = \"acedata_ml/U233/KNN_B1/\"\n",
    "knn_results_filepath = \"../ML_EXFOR_neutrons/1_KNN/KNN_B1/knn_results.csv\""
   ]
  },
  {
   "cell_type": "code",
   "execution_count": 71,
   "metadata": {
    "ExecuteTime": {
     "end_time": "2020-11-11T04:47:10.761104Z",
     "start_time": "2020-11-11T04:13:12.047541Z"
    },
    "scrolled": true
   },
   "outputs": [],
   "source": [
    "ace_utils.generate_ml_xs(df, 92, 233, knn_results_filepath, to_scale, knn_ml_ace_dir)"
   ]
  },
  {
   "cell_type": "markdown",
   "metadata": {},
   "source": [
    "# Generating XS from Results - B2"
   ]
  },
  {
   "cell_type": "code",
   "execution_count": 61,
   "metadata": {
    "ExecuteTime": {
     "end_time": "2020-11-08T23:51:20.451644Z",
     "start_time": "2020-11-08T23:48:39.643740Z"
    }
   },
   "outputs": [],
   "source": [
    "df, x_train, x_test, y_train, y_test, to_scale, scaler = nuc_data.load_exfor(\n",
    "    log=True, basic=2, num=True, low_en=True, filters=True)"
   ]
  },
  {
   "cell_type": "code",
   "execution_count": 64,
   "metadata": {
    "ExecuteTime": {
     "end_time": "2020-11-08T23:51:20.465694Z",
     "start_time": "2020-11-08T23:51:20.463382Z"
    }
   },
   "outputs": [],
   "source": [
    "dt_ml_ace_dir = \"acedata_ml/U233/DT_B2/\"\n",
    "dt_results_filepath = \"../ML_EXFOR_neutrons/2_DT/DT_B2/dt_results.csv\""
   ]
  },
  {
   "cell_type": "code",
   "execution_count": 65,
   "metadata": {
    "ExecuteTime": {
     "end_time": "2020-11-09T00:11:31.282569Z",
     "start_time": "2020-11-08T23:51:24.550277Z"
    },
    "scrolled": true
   },
   "outputs": [],
   "source": [
    "ace_utils.generate_ml_xs(df, 92, 233, dt_results_filepath, to_scale, dt_ml_ace_dir)"
   ]
  },
  {
   "cell_type": "code",
   "execution_count": 62,
   "metadata": {
    "ExecuteTime": {
     "end_time": "2020-11-08T23:51:20.455636Z",
     "start_time": "2020-11-08T23:51:20.452644Z"
    }
   },
   "outputs": [],
   "source": [
    "# knn_ml_ace_dir = \"acedata_ml/U233/KNN_B2/\"\n",
    "# knn_results_filepath = \"../ML_EXFOR_neutrons/1_KNN/KNN_B2/knn_results.csv\""
   ]
  },
  {
   "cell_type": "code",
   "execution_count": 63,
   "metadata": {
    "ExecuteTime": {
     "end_time": "2020-11-08T23:51:20.461381Z",
     "start_time": "2020-11-08T23:51:20.457637Z"
    },
    "scrolled": true
   },
   "outputs": [],
   "source": [
    "# ace_utils.generate_ml_xs(df, 92, 233, knn_results_filepath, to_scale, knn_ml_ace_dir)"
   ]
  },
  {
   "cell_type": "markdown",
   "metadata": {},
   "source": [
    "# Generating XS from Results - B3"
   ]
  },
  {
   "cell_type": "code",
   "execution_count": 73,
   "metadata": {
    "ExecuteTime": {
     "end_time": "2020-11-11T15:29:30.695028Z",
     "start_time": "2020-11-11T15:27:31.161047Z"
    }
   },
   "outputs": [],
   "source": [
    "df, x_train, x_test, y_train, y_test, to_scale, scaler = nuc_data.load_exfor(\n",
    "    log=True, basic=3, num=True, low_en=True, filters=True)"
   ]
  },
  {
   "cell_type": "code",
   "execution_count": 64,
   "metadata": {
    "ExecuteTime": {
     "end_time": "2020-11-08T23:51:20.465694Z",
     "start_time": "2020-11-08T23:51:20.463382Z"
    }
   },
   "outputs": [],
   "source": [
    "dt_ml_ace_dir = \"acedata_ml/U233/DT_B2/\"\n",
    "dt_results_filepath = \"../ML_EXFOR_neutrons/2_DT/DT_B2/dt_results.csv\""
   ]
  },
  {
   "cell_type": "code",
   "execution_count": 65,
   "metadata": {
    "ExecuteTime": {
     "end_time": "2020-11-09T00:11:31.282569Z",
     "start_time": "2020-11-08T23:51:24.550277Z"
    },
    "scrolled": true
   },
   "outputs": [],
   "source": [
    "ace_utils.generate_ml_xs(df, 92, 233, dt_results_filepath, to_scale, dt_ml_ace_dir)"
   ]
  },
  {
   "cell_type": "code",
   "execution_count": 74,
   "metadata": {
    "ExecuteTime": {
     "end_time": "2020-11-11T15:32:03.613815Z",
     "start_time": "2020-11-11T15:32:03.609303Z"
    }
   },
   "outputs": [],
   "source": [
    "knn_ml_ace_dir = \"acedata_ml/U233/KNN_B3/\"\n",
    "knn_results_filepath = \"../ML_EXFOR_neutrons/1_KNN/KNN_B3/knn_results.csv\""
   ]
  },
  {
   "cell_type": "code",
   "execution_count": 75,
   "metadata": {
    "ExecuteTime": {
     "end_time": "2020-11-11T16:01:35.259224Z",
     "start_time": "2020-11-11T15:32:17.265158Z"
    },
    "scrolled": true
   },
   "outputs": [],
   "source": [
    "ace_utils.generate_ml_xs(df, 92, 233, knn_results_filepath, to_scale, knn_ml_ace_dir)"
   ]
  },
  {
   "cell_type": "code",
   "execution_count": null,
   "metadata": {},
   "outputs": [],
   "source": []
  }
 ],
 "metadata": {
  "kernelspec": {
   "display_name": "Python 3",
   "language": "python",
   "name": "python3"
  },
  "language_info": {
   "codemirror_mode": {
    "name": "ipython",
    "version": 3
   },
   "file_extension": ".py",
   "mimetype": "text/x-python",
   "name": "python",
   "nbconvert_exporter": "python",
   "pygments_lexer": "ipython3",
   "version": "3.7.9"
  }
 },
 "nbformat": 4,
 "nbformat_minor": 4
}
