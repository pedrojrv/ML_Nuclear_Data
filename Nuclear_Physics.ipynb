{
 "cells": [
  {
   "cell_type": "code",
   "execution_count": 1,
   "metadata": {},
   "outputs": [],
   "source": [
    "import numpy as np"
   ]
  },
  {
   "cell_type": "markdown",
   "metadata": {},
   "source": [
    "### Reduced de Broglie Wave Length for Neutron-Nucleus Center-of-Mass System\n",
    "$$ \\lambda = \\sqrt{\\div{\\lambda^2}{2*m*E} $$"
   ]
  },
  {
   "cell_type": "code",
   "execution_count": 15,
   "metadata": {},
   "outputs": [],
   "source": [
    "def de_brog_wave(A, E):\n",
    "    '''Reduced de Broglie wave length of the neutron-nucleus CM system'''\n",
    "    h_bar = 1.054571E-34 # J*s\n",
    "    m_n = 1.674927E-27 # Kg\n",
    "    m = (A/(A+1))*m_n # Kg\n",
    "    lambda_db = (np.sqrt(np.power(h_bar,2)/(2*m*E)))*(1E9)\n",
    "    print(lambda_db, \"nm\")"
   ]
  },
  {
   "cell_type": "markdown",
   "metadata": {},
   "source": [
    "For Carbon the atomic radii is 0.067 nm. For the meV range the wave length has the size of the order of the psacing between the nuclei in their material. Let us calculate this wavelength for Carbon-12."
   ]
  },
  {
   "cell_type": "code",
   "execution_count": 19,
   "metadata": {},
   "outputs": [
    {
     "name": "stdout",
     "output_type": "stream",
     "text": [
      "0.09482305477483921 nm\n"
     ]
    }
   ],
   "source": [
    "de_brog_wave(12, 4E-22) # 1meV"
   ]
  },
  {
   "cell_type": "markdown",
   "metadata": {},
   "source": [
    "The size of the proton is 8.414E-7 nm. As we increase the energy the wavelength becomes in the order of a single nucleon size."
   ]
  },
  {
   "cell_type": "code",
   "execution_count": 21,
   "metadata": {},
   "outputs": [
    {
     "name": "stdout",
     "output_type": "stream",
     "text": [
      "1.4982637941438557e-06 nm\n"
     ]
    }
   ],
   "source": [
    "de_brog_wave(12, 1.60218E-12) # 10MeV"
   ]
  },
  {
   "cell_type": "code",
   "execution_count": null,
   "metadata": {},
   "outputs": [],
   "source": []
  }
 ],
 "metadata": {
  "kernelspec": {
   "display_name": "Python 3",
   "language": "python",
   "name": "python3"
  },
  "language_info": {
   "codemirror_mode": {
    "name": "ipython",
    "version": 3
   },
   "file_extension": ".py",
   "mimetype": "text/x-python",
   "name": "python",
   "nbconvert_exporter": "python",
   "pygments_lexer": "ipython3",
   "version": "3.7.6"
  }
 },
 "nbformat": 4,
 "nbformat_minor": 2
}
