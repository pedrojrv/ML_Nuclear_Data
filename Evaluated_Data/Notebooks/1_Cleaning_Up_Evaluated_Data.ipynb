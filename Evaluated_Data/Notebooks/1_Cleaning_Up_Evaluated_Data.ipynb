{
 "cells": [
  {
   "cell_type": "code",
   "execution_count": null,
   "metadata": {},
   "outputs": [],
   "source": [
    "# HERE WE DELETE PLOTS AND EXFOR FROM THE EVALUATED DATA SINCE WE DONT NEED THEM\n",
    "\n",
    "import glob, os, shutil\n",
    "# dirs = glob.glob(\"../../Evaluated_Data/*/*/*/plots\")\n",
    "# dirs = glob.glob(\"../../Evaluated_Data/*/*/*/exfor\")\n",
    "# dirs = glob.glob(\"../../Evaluated_Data/*/*/*/files\")\n",
    "# dirs = glob.glob(\"../../Evaluated_Data/*/*/*/*/resonance\")\n",
    "# dirs = glob.glob(\"../../Evaluated_Data/*/*/*/*/info\")\n",
    "# dirs = glob.glob(\"../../Evaluated_Data/*/*/*/*/residual\")\n",
    "# dirs = glob.glob(\"../../Evaluated_Data/*/*/exfor\")\n",
    "dirs = glob.glob(\"../../Evaluated_Data/*/*/plots\")"
   ]
  },
  {
   "cell_type": "code",
   "execution_count": null,
   "metadata": {},
   "outputs": [],
   "source": [
    "for dir_to_remove in dirs:\n",
    "    shutil.rmtree(dir_to_remove)"
   ]
  }
 ],
 "metadata": {
  "kernelspec": {
   "display_name": "Python 3",
   "language": "python",
   "name": "python3"
  },
  "language_info": {
   "codemirror_mode": {
    "name": "ipython",
    "version": 3
   },
   "file_extension": ".py",
   "mimetype": "text/x-python",
   "name": "python",
   "nbconvert_exporter": "python",
   "pygments_lexer": "ipython3",
   "version": "3.7.7"
  }
 },
 "nbformat": 4,
 "nbformat_minor": 4
}
