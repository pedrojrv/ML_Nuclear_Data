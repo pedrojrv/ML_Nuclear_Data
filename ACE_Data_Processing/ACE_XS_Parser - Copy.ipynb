{
 "cells": [
  {
   "cell_type": "code",
   "execution_count": 9,
   "metadata": {
    "ExecuteTime": {
     "end_time": "2020-07-20T22:59:21.988810Z",
     "start_time": "2020-07-20T22:59:21.986310Z"
    }
   },
   "outputs": [],
   "source": [
    "import collections"
   ]
  },
  {
   "cell_type": "code",
   "execution_count": 10,
   "metadata": {
    "ExecuteTime": {
     "end_time": "2020-07-20T22:59:22.877279Z",
     "start_time": "2020-07-20T22:59:22.874778Z"
    }
   },
   "outputs": [],
   "source": [
    "x = collections.OrderedDict(hyperparameter_defaults.items())"
   ]
  },
  {
   "cell_type": "code",
   "execution_count": 11,
   "metadata": {
    "ExecuteTime": {
     "end_time": "2020-07-20T22:59:24.896444Z",
     "start_time": "2020-07-20T22:59:24.891444Z"
    }
   },
   "outputs": [
    {
     "data": {
      "text/plain": [
       "OrderedDict([('layer_1_size', 100),\n",
       "             ('layer_2_size', 100),\n",
       "             ('layer_3_size', 100),\n",
       "             ('layer_4_size', 100),\n",
       "             ('layer_5_size', 100),\n",
       "             ('layer_6_size', 100),\n",
       "             ('layer_7_size', 100),\n",
       "             ('layer_8_size', 100),\n",
       "             ('layer_9_size', 100),\n",
       "             ('layer_10_size', 100),\n",
       "             ('activation_fn', 'relu'),\n",
       "             ('batch_size', 500),\n",
       "             ('learning_rate', 0.005),\n",
       "             ('epochs', 150),\n",
       "             ('scaler_type', 'std'),\n",
       "             ('dataset_type', 1),\n",
       "             ('lr_schedule_type', 'ITD'),\n",
       "             ('lr_decay_epochs', 10),\n",
       "             ('lr_decay_rate', 0.5),\n",
       "             ('loss_metric', 'mse')])"
      ]
     },
     "execution_count": 11,
     "metadata": {},
     "output_type": "execute_result"
    }
   ],
   "source": [
    "x"
   ]
  },
  {
   "cell_type": "code",
   "execution_count": 1,
   "metadata": {
    "ExecuteTime": {
     "end_time": "2020-07-20T22:42:44.287975Z",
     "start_time": "2020-07-20T22:42:44.283473Z"
    }
   },
   "outputs": [],
   "source": [
    "hyperparameter_defaults = dict(\n",
    "    layer_1_size = 100,\n",
    "    layer_2_size = 100,\n",
    "    layer_3_size = 100,\n",
    "    layer_4_size = 100,\n",
    "    layer_5_size = 100,\n",
    "    layer_6_size = 100,\n",
    "    layer_7_size = 100,\n",
    "    layer_8_size = 100,\n",
    "    layer_9_size = 100,\n",
    "    layer_10_size = 100,\n",
    "    activation_fn = \"relu\",\n",
    "    batch_size = 500,\n",
    "    learning_rate = 0.005,\n",
    "    epochs = 150,\n",
    "    scaler_type = \"std\",\n",
    "    dataset_type = 1,\n",
    "    lr_schedule_type = \"ITD\",\n",
    "    lr_decay_epochs = 10,\n",
    "    lr_decay_rate = 0.5,\n",
    "    loss_metric = \"mse\"\n",
    "    )"
   ]
  },
  {
   "cell_type": "code",
   "execution_count": 7,
   "metadata": {
    "ExecuteTime": {
     "end_time": "2020-07-20T22:59:06.014360Z",
     "start_time": "2020-07-20T22:59:06.010360Z"
    }
   },
   "outputs": [
    {
     "data": {
      "text/plain": [
       "dict_items([('layer_1_size', 100), ('layer_2_size', 100), ('layer_3_size', 100), ('layer_4_size', 100), ('layer_5_size', 100), ('layer_6_size', 100), ('layer_7_size', 100), ('layer_8_size', 100), ('layer_9_size', 100), ('layer_10_size', 100), ('activation_fn', 'relu'), ('batch_size', 500), ('learning_rate', 0.005), ('epochs', 150), ('scaler_type', 'std'), ('dataset_type', 1), ('lr_schedule_type', 'ITD'), ('lr_decay_epochs', 10), ('lr_decay_rate', 0.5), ('loss_metric', 'mse')])"
      ]
     },
     "execution_count": 7,
     "metadata": {},
     "output_type": "execute_result"
    }
   ],
   "source": [
    "hyperparameter_defaults.items()"
   ]
  },
  {
   "cell_type": "code",
   "execution_count": 5,
   "metadata": {
    "ExecuteTime": {
     "end_time": "2020-07-20T22:45:00.085892Z",
     "start_time": "2020-07-20T22:45:00.081392Z"
    }
   },
   "outputs": [],
   "source": [
    "hyperparameter_defaults = {\n",
    "    \"layer_1_size\":100,\n",
    "    \"layer_2_size\":100,\n",
    "    \"layer_3_size\":100,\n",
    "    \"layer_4_size\":100,\n",
    "    \"layer_5_size\":100,\n",
    "    \"layer_6_size\":100,\n",
    "    \"layer_7_size\":100,\n",
    "    \"layer_8_size\":100,\n",
    "    \"layer_9_size\":100,\n",
    "    \"layer_10_size\":100,\n",
    "    \"activation_fn\":\"relu\",\n",
    "    \"batch_size\":500,\n",
    "    \"learning_rate\":0.005,\n",
    "    \"epochs\":150,\n",
    "    \"scaler_type\":\"std\",\n",
    "    \"dataset_type\":1,\n",
    "    \"lr_schedule_type\":\"ITD\",\n",
    "    \"lr_decay_epochs\":10,\n",
    "    \"lr_decay_rate\":0.5,\n",
    "    \"loss_metric\":\"mse\"\n",
    "    }"
   ]
  },
  {
   "cell_type": "code",
   "execution_count": 6,
   "metadata": {
    "ExecuteTime": {
     "end_time": "2020-07-20T22:45:06.174440Z",
     "start_time": "2020-07-20T22:45:06.170939Z"
    }
   },
   "outputs": [
    {
     "data": {
      "text/plain": [
       "{'layer_1_size': 100,\n",
       " 'layer_2_size': 100,\n",
       " 'layer_3_size': 100,\n",
       " 'layer_4_size': 100,\n",
       " 'layer_5_size': 100,\n",
       " 'layer_6_size': 100,\n",
       " 'layer_7_size': 100,\n",
       " 'layer_8_size': 100,\n",
       " 'layer_9_size': 100,\n",
       " 'layer_10_size': 100,\n",
       " 'activation_fn': 'relu',\n",
       " 'batch_size': 500,\n",
       " 'learning_rate': 0.005,\n",
       " 'epochs': 150,\n",
       " 'scaler_type': 'std',\n",
       " 'dataset_type': 1,\n",
       " 'lr_schedule_type': 'ITD',\n",
       " 'lr_decay_epochs': 10,\n",
       " 'lr_decay_rate': 0.5,\n",
       " 'loss_metric': 'mse'}"
      ]
     },
     "execution_count": 6,
     "metadata": {},
     "output_type": "execute_result"
    }
   ],
   "source": [
    "hyperparameter_defaults"
   ]
  },
  {
   "cell_type": "code",
   "execution_count": 1,
   "metadata": {
    "ExecuteTime": {
     "end_time": "2020-07-18T21:51:39.389439Z",
     "start_time": "2020-07-18T21:51:38.312389Z"
    }
   },
   "outputs": [],
   "source": [
    "import pandas as pd\n",
    "import matplotlib.pyplot as plt\n",
    "pd.set_option('display.max_columns', 500)\n",
    "import numpy as np"
   ]
  },
  {
   "cell_type": "code",
   "execution_count": 4,
   "metadata": {
    "ExecuteTime": {
     "end_time": "2020-07-18T21:57:33.403489Z",
     "start_time": "2020-07-18T21:57:33.401488Z"
    }
   },
   "outputs": [],
   "source": [
    "import os"
   ]
  },
  {
   "cell_type": "code",
   "execution_count": 5,
   "metadata": {
    "ExecuteTime": {
     "end_time": "2020-07-18T21:57:45.869911Z",
     "start_time": "2020-07-18T21:57:45.864909Z"
    }
   },
   "outputs": [],
   "source": [
    "os.makedirs(\"experiment1/experiment2\")"
   ]
  },
  {
   "cell_type": "markdown",
   "metadata": {},
   "source": [
    "# Path to Ace Files"
   ]
  },
  {
   "cell_type": "code",
   "execution_count": 3,
   "metadata": {},
   "outputs": [],
   "source": [
    "ace_dir = \"C:/Users/Pedro/Documents/Serpent/xsdata/endfb7/acedata\""
   ]
  },
  {
   "cell_type": "code",
   "execution_count": 966,
   "metadata": {},
   "outputs": [],
   "source": [
    "# with open(\"./17035ENDF7.ace\",\"r\") as ace_file:\n",
    "#     points = []\n",
    "#     indexes = []\n",
    "#     for index, line in enumerate(ace_file):\n",
    "#         if line.startswith(\" 17035.\"):\n",
    "#             points.append(line[1:10])\n",
    "#             indexes.append(index)\n",
    "\n",
    "# lines = 154305\n",
    "# nsx = pd.read_csv(\"./17035ENDF7.ace\", delim_whitespace=True, skiprows=6, nrows=2, header=None) # .values.flatten()\n",
    "# jxs = pd.read_csv(\"./17035ENDF7.ace\", delim_whitespace=True, skiprows=8, nrows=4, header=None)\n",
    "# xss = pd.read_csv(\"./17035ENDF7.ace\", delim_whitespace=True, skiprows=12, nrows=lines, header=None).values.flatten()\n",
    "# xss = testing_xss[~np.isnan(testing_xss)]\n",
    "\n",
    "# LMT = mt_array_pointer # LENGTH OF REACTION TYPES\n",
    "# NMT = ntr # MT REACTIONS\n",
    "# LXS = xs_pointers\n",
    "\n",
    "\n",
    "# def sig_mt(MT, mt_array, lsig):\n",
    "#     mt_index = np.where(mt_array==MT)[0][0]\n",
    "#     if MT == mt_array[-1]:\n",
    "#         mt_data = xss[xs_table_pointer + lsig[mt_index] - 1 : jxs.iloc[0,7] - 1]\n",
    "#     else:\n",
    "#         mt_data = xss[xs_table_pointer + lsig[mt_index] - 1 : xs_table_pointer + lsig[mt_index+1] - 1] \n",
    "#     energy_index = int(mt_data[0])\n",
    "#     energy_points = int(mt_data[1])\n",
    "#     xs_data = mt_data[2:]\n",
    "#     # We substract from energy_index since it is from ACE to Python\n",
    "#     energy = xss[energy_index - 1:energy_index+energy_points-1]\n",
    "#     print(\"{} Energy and {} Cross Section Points Avaliable.\".format(len(energy), len(xs_data)))\n",
    "#     return xs_data, energy\n",
    "\n",
    "# nsx = pd.read_csv(\"./17035ENDF7.ace\", delim_whitespace=True, skiprows=to_skip+6, nrows=2, header=None) # .values.flatten()\n",
    "# jxs = pd.read_csv(\"./17035ENDF7.ace\", delim_whitespace=True, skiprows=to_skip+8, nrows=4, header=None)\n",
    "# xss = pd.read_csv(\"./17035ENDF7.ace\", delim_whitespace=True, skiprows=to_skip+12, nrows=lines, header=None).values.flatten()\n",
    "# xss = xss[~np.isnan(xss)]"
   ]
  },
  {
   "cell_type": "markdown",
   "metadata": {},
   "source": [
    "# Processing"
   ]
  },
  {
   "cell_type": "code",
   "execution_count": 1405,
   "metadata": {},
   "outputs": [],
   "source": [
    "path = \"./17035ENDF7.ace\"\n",
    "path = \"./92235ENDF7.ace\"\n",
    "path = \"./92233ENDF7.ace\""
   ]
  },
  {
   "cell_type": "code",
   "execution_count": 1406,
   "metadata": {},
   "outputs": [],
   "source": [
    "def get_to_skip_lines(path, element, temp):\n",
    "    with open(path, \"r\") as ace_file:\n",
    "        points = []\n",
    "        indexes = []\n",
    "        for index, line in enumerate(ace_file):\n",
    "            # if line.startswith(\" 17035.\"):\n",
    "            if line.startswith(\" \" + element + \".\"):\n",
    "                points.append(line[1:10])\n",
    "                indexes.append(index)\n",
    "    \n",
    "    to_skip = indexes[points.index(element + \".\" + temp)]\n",
    "    lines = indexes[points.index(element + \".\" + temp) + 1] - to_skip - 12\n",
    "    \n",
    "    return to_skip, lines"
   ]
  },
  {
   "cell_type": "code",
   "execution_count": 1407,
   "metadata": {},
   "outputs": [],
   "source": [
    "to_skip, lines = get_to_skip_lines(path, \"92233\", \"03c\")"
   ]
  },
  {
   "cell_type": "code",
   "execution_count": 1408,
   "metadata": {},
   "outputs": [],
   "source": [
    "def read_nsx_jxs_xss(path, to_skip, lines):\n",
    "    nsx = pd.read_csv(path, delim_whitespace=True, skiprows=to_skip+6, nrows=2, header=None) # .values.flatten()\n",
    "    jxs = pd.read_csv(path, delim_whitespace=True, skiprows=to_skip+8, nrows=4, header=None)\n",
    "    xss = pd.read_csv(path, delim_whitespace=True, skiprows=to_skip+12, nrows=lines, header=None).values.flatten()\n",
    "    xss = xss[~np.isnan(xss)]\n",
    "    return nsx, jxs, xss"
   ]
  },
  {
   "cell_type": "code",
   "execution_count": 1409,
   "metadata": {},
   "outputs": [],
   "source": [
    "nsx, jxs, xss = read_nsx_jxs_xss(path, to_skip, lines)"
   ]
  },
  {
   "cell_type": "code",
   "execution_count": 1410,
   "metadata": {},
   "outputs": [],
   "source": [
    "def get_pointers(nsx, jxs):\n",
    "    nes = nsx.iloc[0,2] # NES (3)\n",
    "    ntr = nsx.iloc[0,3] # NTR: Number of Reactions excluding elastic scattering MT2 (4)\n",
    "\n",
    "    # JSX These are the indexes in the continuous array where stuff starts\n",
    "    energy_pointer = jxs.iloc[0,0] - 1           # ESZ (1)\n",
    "    mt_array_pointer = jxs.iloc[0,2] - 1         # MTR (3)\n",
    "    xs_pointers = jxs.iloc[0,5] - 1              # LSIG (6)\n",
    "    xs_table_pointer = jxs.iloc[0,6] - 1         # SIG (7)\n",
    "    mt_18_pointer = (jxs.iloc[2,4] - 1).clip(0)  # FIS (21)\n",
    "    \n",
    "    return nes, ntr, energy_pointer, mt_array_pointer, xs_pointers, xs_table_pointer, mt_18_pointer"
   ]
  },
  {
   "cell_type": "code",
   "execution_count": 1411,
   "metadata": {},
   "outputs": [],
   "source": [
    "nes, ntr, energy_pointer, mt_array_pointer, xs_pointers, xs_table_pointer, mt_18_pointer = get_pointers(nsx, jxs)"
   ]
  },
  {
   "cell_type": "code",
   "execution_count": 1412,
   "metadata": {},
   "outputs": [],
   "source": [
    "def get_energies_mt_array_lsig(xss, energy_pointer, nes, mt_array_pointer, ntr, xs_pointers):\n",
    "    # XSS is the array contining ALL information\n",
    "    energies = xss[energy_pointer:energy_pointer+nes]\n",
    "    mt_array = xss[mt_array_pointer:mt_array_pointer+ntr]\n",
    "    lsig = xss[xs_pointers:xs_pointers+ntr].astype(int)\n",
    "    return energies, mt_array, lsig\n",
    "    \n",
    "def get_mt1_mt101_mt2(xss, nes):\n",
    "    mt1 = xss[nes:nes*2]\n",
    "    mt101 = xss[nes*2:nes*3]\n",
    "    mt2 = xss[nes*3:nes*4]\n",
    "    return mt1, mt101, mt2"
   ]
  },
  {
   "cell_type": "code",
   "execution_count": 1413,
   "metadata": {},
   "outputs": [],
   "source": [
    "energies, mt_array, lsig = get_energies_mt_array_lsig(xss, energy_pointer, nes, mt_array_pointer, ntr, xs_pointers)"
   ]
  },
  {
   "cell_type": "code",
   "execution_count": 1414,
   "metadata": {},
   "outputs": [],
   "source": [
    "mt1, mt101, mt2 = get_mt1_mt101_mt2(xss, nes)"
   ]
  },
  {
   "cell_type": "code",
   "execution_count": 1415,
   "metadata": {},
   "outputs": [
    {
     "data": {
      "text/plain": [
       "[<matplotlib.lines.Line2D at 0x1a70bdf01c8>]"
      ]
     },
     "execution_count": 1415,
     "metadata": {},
     "output_type": "execute_result"
    },
    {
     "data": {
      "image/png": "[encoded data removed]",
      "text/plain": [
       "<Figure size 432x288 with 1 Axes>"
      ]
     },
     "metadata": {
      "needs_background": "light"
     },
     "output_type": "display_data"
    }
   ],
   "source": [
    "sig_1, en_1 = mt1, energies\n",
    "sig_2, en_2 = mt2, energies\n",
    "sig_3 = sig_1 - sig_2\n",
    "plt.loglog(energies, sig_3)"
   ]
  },
  {
   "cell_type": "code",
   "execution_count": 1400,
   "metadata": {},
   "outputs": [],
   "source": [
    "for_ml = pd.DataFrame({\"Energy\": energies})\n",
    "for_ml.to_csv(\"U233_Energy.csv\", index=False)"
   ]
  },
  {
   "cell_type": "markdown",
   "metadata": {},
   "source": [
    "# Exploring Different Reaction Summations"
   ]
  },
  {
   "cell_type": "code",
   "execution_count": 1358,
   "metadata": {},
   "outputs": [],
   "source": [
    "def sig_mt(MT, mt_array, lsig):\n",
    "    mt_index = np.where(mt_array==MT)[0][0]\n",
    "    if MT == mt_array[-1]:\n",
    "        start_index = xs_table_pointer + lsig[mt_index] - 1\n",
    "        end_index = jxs.iloc[0,7] - 1\n",
    "        mt_data = xss[start_index: end_index]\n",
    "    else:\n",
    "        start_index = xs_table_pointer + lsig[mt_index] - 1\n",
    "        end_index = xs_table_pointer + lsig[mt_index+1] - 1\n",
    "        mt_data = xss[start_index: end_index]\n",
    "    energy_index = int(mt_data[0])\n",
    "    energy_points = int(mt_data[1])\n",
    "    energy = xss[energy_index - 1 : energy_index + energy_points - 1]\n",
    "    xs_data = mt_data[2:]\n",
    "    print(\"{} Energy and {} Cross Section Points Avaliable.\".format(len(energy), len(xs_data)))\n",
    "    return xs_data, energy, start_index, end_index"
   ]
  },
  {
   "cell_type": "code",
   "execution_count": 1674,
   "metadata": {},
   "outputs": [],
   "source": [
    "u233_ml = pd.read_csv(\"U233_Data_ML.csv\")"
   ]
  },
  {
   "cell_type": "code",
   "execution_count": 1675,
   "metadata": {},
   "outputs": [
    {
     "data": {
      "text/plain": [
       "array([ 16.,  17.,  18.,  37.,  51.,  52.,  53.,  54.,  55.,  56.,  57.,\n",
       "        58.,  59.,  60.,  61.,  62.,  63.,  64.,  65.,  66.,  67.,  68.,\n",
       "        69.,  70.,  71.,  72.,  73.,  74.,  75.,  76.,  77.,  78.,  79.,\n",
       "        80.,  81.,  82.,  83.,  84.,  85.,  86.,  87.,  88.,  91., 102.,\n",
       "         4.])"
      ]
     },
     "execution_count": 1675,
     "metadata": {},
     "output_type": "execute_result"
    }
   ],
   "source": [
    "mt_array"
   ]
  },
  {
   "cell_type": "markdown",
   "metadata": {},
   "source": [
    "# Fixing MT1"
   ]
  },
  {
   "cell_type": "code",
   "execution_count": 1676,
   "metadata": {},
   "outputs": [
    {
     "data": {
      "text/plain": [
       "[<matplotlib.lines.Line2D at 0x1a71afec048>]"
      ]
     },
     "execution_count": 1676,
     "metadata": {},
     "output_type": "execute_result"
    },
    {
     "data": {
      "image/png": "[encoded data removed]",
      "text/plain": [
       "<Figure size 432x288 with 1 Axes>"
      ]
     },
     "metadata": {
      "needs_background": "light"
     },
     "output_type": "display_data"
    }
   ],
   "source": [
    "plt.loglog(energies, mt1)\n",
    "plt.loglog(u233_ml.Energy, u233_ml.Data_1)"
   ]
  },
  {
   "cell_type": "code",
   "execution_count": 1677,
   "metadata": {},
   "outputs": [
    {
     "data": {
      "text/plain": [
       "50"
      ]
     },
     "execution_count": 1677,
     "metadata": {},
     "output_type": "execute_result"
    }
   ],
   "source": [
    "u233_ml[u233_ml.Data_1 == u233_ml.Data_1.values[0]].shape[0]"
   ]
  },
  {
   "cell_type": "code",
   "execution_count": 1678,
   "metadata": {},
   "outputs": [
    {
     "data": {
      "text/plain": [
       "array([2807.02, 2807.02, 2807.02, 2807.02, 2807.02, 2807.02, 2807.02,\n",
       "       2807.02, 2807.02, 2807.02, 2807.02, 2807.02, 2807.02, 2807.02,\n",
       "       2807.02, 2807.02, 2807.02, 2807.02, 2807.02, 2807.02, 2807.02,\n",
       "       2807.02, 2807.02, 2807.02, 2807.02, 2807.02, 2807.02, 2807.02,\n",
       "       2807.02, 2807.02, 2807.02, 2807.02, 2807.02, 2807.02, 2807.02,\n",
       "       2807.02, 2807.02, 2807.02, 2807.02, 2807.02, 2807.02, 2807.02,\n",
       "       2807.02, 2807.02, 2807.02, 2807.02, 2807.02, 2807.02, 2807.02,\n",
       "       2807.02, 2807.02, 2386.04, 2386.04, 2386.04, 2201.6 ])"
      ]
     },
     "execution_count": 1678,
     "metadata": {},
     "output_type": "execute_result"
    }
   ],
   "source": [
    "u233_ml.Data_1.values[:u233_ml[u233_ml.Data_1 == u233_ml.Data_1.values[0]].shape[0]+5]"
   ]
  },
  {
   "cell_type": "code",
   "execution_count": 1679,
   "metadata": {},
   "outputs": [],
   "source": [
    "u233_ml.loc[0:u233_ml[u233_ml.Data_1 == u233_ml.Data_1.values[0]].shape[0], \"Data_1\"] = mt1[\n",
    "    0:u233_ml[u233_ml.Data_1 == u233_ml.Data_1.values[0]].shape[0]+1]"
   ]
  },
  {
   "cell_type": "code",
   "execution_count": 1680,
   "metadata": {},
   "outputs": [
    {
     "data": {
      "text/plain": [
       "[<matplotlib.lines.Line2D at 0x1a7211c0cc8>]"
      ]
     },
     "execution_count": 1680,
     "metadata": {},
     "output_type": "execute_result"
    },
    {
     "data": {
      "image/png": "[encoded data removed]",
      "text/plain": [
       "<Figure size 432x288 with 1 Axes>"
      ]
     },
     "metadata": {
      "needs_background": "light"
     },
     "output_type": "display_data"
    }
   ],
   "source": [
    "plt.loglog(energies, mt1)\n",
    "plt.loglog(u233_ml.Energy, u233_ml.Data_1)"
   ]
  },
  {
   "cell_type": "markdown",
   "metadata": {},
   "source": [
    "# Fixing MT3"
   ]
  },
  {
   "cell_type": "code",
   "execution_count": 1681,
   "metadata": {},
   "outputs": [
    {
     "data": {
      "text/plain": [
       "[<matplotlib.lines.Line2D at 0x1a726138d88>]"
      ]
     },
     "execution_count": 1681,
     "metadata": {},
     "output_type": "execute_result"
    },
    {
     "data": {
      "image/png": "[encoded data removed]",
      "text/plain": [
       "<Figure size 432x288 with 1 Axes>"
      ]
     },
     "metadata": {
      "needs_background": "light"
     },
     "output_type": "display_data"
    }
   ],
   "source": [
    "plt.loglog(energies, sig_3)\n",
    "plt.loglog(u233_ml.Energy, u233_ml.Data_3)"
   ]
  },
  {
   "cell_type": "code",
   "execution_count": 1682,
   "metadata": {},
   "outputs": [
    {
     "data": {
      "text/plain": [
       "49"
      ]
     },
     "execution_count": 1682,
     "metadata": {},
     "output_type": "execute_result"
    }
   ],
   "source": [
    "u233_ml[u233_ml.Data_3 == u233_ml.Data_3.values[0]].shape[0]"
   ]
  },
  {
   "cell_type": "code",
   "execution_count": 1683,
   "metadata": {},
   "outputs": [
    {
     "data": {
      "text/plain": [
       "array([2807.02, 2807.02, 2807.02, 2807.02, 2807.02, 2807.02, 2807.02,\n",
       "       2807.02, 2807.02, 2807.02, 2807.02, 2807.02, 2807.02, 2807.02,\n",
       "       2807.02, 2807.02, 2807.02, 2807.02, 2807.02, 2807.02, 2807.02,\n",
       "       2807.02, 2807.02, 2807.02, 2807.02, 2807.02, 2807.02, 2807.02,\n",
       "       2807.02, 2807.02, 2807.02, 2807.02, 2807.02, 2807.02, 2807.02,\n",
       "       2807.02, 2807.02, 2807.02, 2807.02, 2807.02, 2807.02, 2807.02,\n",
       "       2807.02, 2807.02, 2807.02, 2807.02, 2807.02, 2807.02, 2807.02,\n",
       "       2807.02, 2807.02, 2386.04, 2386.04, 2386.04])"
      ]
     },
     "execution_count": 1683,
     "metadata": {},
     "output_type": "execute_result"
    }
   ],
   "source": [
    "u233_ml.Data_3.values[:u233_ml[u233_ml.Data_3 == u233_ml.Data_3.values[0]].shape[0]+5]"
   ]
  },
  {
   "cell_type": "code",
   "execution_count": 1684,
   "metadata": {},
   "outputs": [],
   "source": [
    "u233_ml.loc[0:u233_ml[u233_ml.Data_3 == u233_ml.Data_3.values[0]].shape[0], \"Data_3\"] = sig_3[\n",
    "    0:u233_ml[u233_ml.Data_3 == u233_ml.Data_3.values[0]].shape[0]+1]"
   ]
  },
  {
   "cell_type": "code",
   "execution_count": 1685,
   "metadata": {},
   "outputs": [
    {
     "data": {
      "text/plain": [
       "[<matplotlib.lines.Line2D at 0x1a7262ec848>]"
      ]
     },
     "execution_count": 1685,
     "metadata": {},
     "output_type": "execute_result"
    },
    {
     "data": {
      "image/png": "[encoded data removed]",
      "text/plain": [
       "<Figure size 432x288 with 1 Axes>"
      ]
     },
     "metadata": {
      "needs_background": "light"
     },
     "output_type": "display_data"
    }
   ],
   "source": [
    "plt.loglog(energies, sig_3)\n",
    "plt.loglog(u233_ml.Energy, u233_ml.Data_3)"
   ]
  },
  {
   "cell_type": "code",
   "execution_count": 1686,
   "metadata": {},
   "outputs": [],
   "source": [
    "def subsitute_mt3(x):\n",
    "    if x[0] < x[1]:\n",
    "        return x[0], x[0]\n",
    "    else:\n",
    "        return x[0], x[1]\n",
    "    \n",
    "u233_ml[[\"Data_1\", \"Data_3\"]] = u233_ml[[\"Data_1\", \"Data_3\"]].apply(subsitute_mt3, axis=1, result_type=\"expand\")"
   ]
  },
  {
   "cell_type": "markdown",
   "metadata": {},
   "source": [
    "# Calculating MT2"
   ]
  },
  {
   "cell_type": "code",
   "execution_count": 1687,
   "metadata": {},
   "outputs": [],
   "source": [
    "sig_2_ml = u233_ml[\"Data_1\"] - u233_ml[\"Data_3\"]\n",
    "sig_2_ml = pd.DataFrame(sig_2_ml, columns=[\"Data_2\"])"
   ]
  },
  {
   "cell_type": "code",
   "execution_count": 1688,
   "metadata": {},
   "outputs": [],
   "source": [
    "# sig_2_ml[sig_2_ml < 0] = np.nan\n",
    "# sig_2_ml[sig_2_ml < 0] = 0"
   ]
  },
  {
   "cell_type": "code",
   "execution_count": 1689,
   "metadata": {},
   "outputs": [],
   "source": [
    "# sig_2_ml = sig_2_ml.interpolate()"
   ]
  },
  {
   "cell_type": "code",
   "execution_count": 1690,
   "metadata": {},
   "outputs": [
    {
     "data": {
      "text/plain": [
       "[<matplotlib.lines.Line2D at 0x1a72e5633c8>]"
      ]
     },
     "execution_count": 1690,
     "metadata": {},
     "output_type": "execute_result"
    },
    {
     "data": {
      "image/png": "[encoded data removed]",
      "text/plain": [
       "<Figure size 432x288 with 1 Axes>"
      ]
     },
     "metadata": {
      "needs_background": "light"
     },
     "output_type": "display_data"
    }
   ],
   "source": [
    "plt.loglog(energies, mt2)\n",
    "plt.loglog(u233_ml.Energy, u233_ml.Data_2)\n",
    "plt.loglog(energies, sig_2_ml)"
   ]
  },
  {
   "cell_type": "markdown",
   "metadata": {},
   "source": [
    "# Fixing MT18"
   ]
  },
  {
   "cell_type": "code",
   "execution_count": 1691,
   "metadata": {},
   "outputs": [
    {
     "name": "stdout",
     "output_type": "stream",
     "text": [
      "8742 Energy and 8742 Cross Section Points Avaliable.\n"
     ]
    }
   ],
   "source": [
    "sig_18, en_18, start_18, end_18 = sig_mt(18, mt_array, lsig)"
   ]
  },
  {
   "cell_type": "code",
   "execution_count": 1692,
   "metadata": {},
   "outputs": [
    {
     "data": {
      "text/plain": [
       "[<matplotlib.lines.Line2D at 0x1a72e9ebdc8>]"
      ]
     },
     "execution_count": 1692,
     "metadata": {},
     "output_type": "execute_result"
    },
    {
     "data": {
      "image/png": "[encoded data removed]",
      "text/plain": [
       "<Figure size 432x288 with 1 Axes>"
      ]
     },
     "metadata": {
      "needs_background": "light"
     },
     "output_type": "display_data"
    }
   ],
   "source": [
    "plt.loglog(en_18, sig_18)\n",
    "plt.loglog(u233_ml.Energy, u233_ml.Data_18)"
   ]
  },
  {
   "cell_type": "code",
   "execution_count": 1693,
   "metadata": {},
   "outputs": [
    {
     "data": {
      "text/plain": [
       "56"
      ]
     },
     "execution_count": 1693,
     "metadata": {},
     "output_type": "execute_result"
    }
   ],
   "source": [
    "u233_ml[u233_ml.Data_18 == u233_ml.Data_18.values[0]].shape[0]"
   ]
  },
  {
   "cell_type": "code",
   "execution_count": 1694,
   "metadata": {},
   "outputs": [
    {
     "data": {
      "text/plain": [
       "array([1875.74, 1875.74, 1875.74, 1875.74, 1875.74, 1875.74, 1875.74,\n",
       "       1875.74, 1875.74, 1875.74, 1875.74, 1875.74, 1875.74, 1875.74,\n",
       "       1875.74, 1875.74, 1875.74, 1875.74, 1875.74, 1875.74, 1875.74,\n",
       "       1875.74, 1875.74, 1875.74, 1875.74, 1875.74, 1875.74, 1875.74,\n",
       "       1875.74, 1875.74, 1875.74, 1875.74, 1875.74, 1875.74, 1875.74,\n",
       "       1875.74, 1875.74, 1875.74, 1875.74, 1875.74, 1875.74, 1875.74,\n",
       "       1875.74, 1875.74, 1875.74, 1875.74, 1875.74, 1875.74, 1875.74,\n",
       "       1875.74, 1875.74, 1875.74, 1875.74, 1875.74, 1875.74, 1875.74,\n",
       "       1764.94, 1755.1 , 1711.16, 1605.78, 1456.42])"
      ]
     },
     "execution_count": 1694,
     "metadata": {},
     "output_type": "execute_result"
    }
   ],
   "source": [
    "u233_ml.Data_18.values[:u233_ml[u233_ml.Data_18 == u233_ml.Data_18.values[0]].shape[0]+5]"
   ]
  },
  {
   "cell_type": "code",
   "execution_count": 1695,
   "metadata": {},
   "outputs": [],
   "source": [
    "u233_ml.loc[0:u233_ml[u233_ml.Data_18 == u233_ml.Data_18.values[0]].shape[0], \"Data_18\"] = sig_18[\n",
    "    0:u233_ml[u233_ml.Data_18 == u233_ml.Data_18.values[0]].shape[0]+1]"
   ]
  },
  {
   "cell_type": "code",
   "execution_count": 1696,
   "metadata": {},
   "outputs": [
    {
     "data": {
      "text/plain": [
       "[<matplotlib.lines.Line2D at 0x1a72e6c6788>]"
      ]
     },
     "execution_count": 1696,
     "metadata": {},
     "output_type": "execute_result"
    },
    {
     "data": {
      "image/png": "[encoded data removed]",
      "text/plain": [
       "<Figure size 432x288 with 1 Axes>"
      ]
     },
     "metadata": {
      "needs_background": "light"
     },
     "output_type": "display_data"
    }
   ],
   "source": [
    "plt.loglog(energies, sig_18)\n",
    "plt.loglog(u233_ml.Energy, u233_ml.Data_18)"
   ]
  },
  {
   "cell_type": "markdown",
   "metadata": {},
   "source": [
    "# Fixing MT102"
   ]
  },
  {
   "cell_type": "code",
   "execution_count": 1697,
   "metadata": {},
   "outputs": [
    {
     "name": "stdout",
     "output_type": "stream",
     "text": [
      "8742 Energy and 8742 Cross Section Points Avaliable.\n"
     ]
    }
   ],
   "source": [
    "sig_102, en_102, start_102, end_102 = sig_mt(102, mt_array, lsig)"
   ]
  },
  {
   "cell_type": "code",
   "execution_count": 1698,
   "metadata": {},
   "outputs": [
    {
     "data": {
      "text/plain": [
       "[<matplotlib.lines.Line2D at 0x1a72e5c0fc8>]"
      ]
     },
     "execution_count": 1698,
     "metadata": {},
     "output_type": "execute_result"
    },
    {
     "data": {
      "image/png": "[encoded data removed]",
      "text/plain": [
       "<Figure size 432x288 with 1 Axes>"
      ]
     },
     "metadata": {
      "needs_background": "light"
     },
     "output_type": "display_data"
    }
   ],
   "source": [
    "plt.loglog(en_102, sig_102)\n",
    "plt.loglog(u233_ml.Energy, u233_ml.Data_102)"
   ]
  },
  {
   "cell_type": "code",
   "execution_count": 1699,
   "metadata": {},
   "outputs": [
    {
     "data": {
      "text/plain": [
       "80"
      ]
     },
     "execution_count": 1699,
     "metadata": {},
     "output_type": "execute_result"
    }
   ],
   "source": [
    "u233_ml[u233_ml.Data_102 == u233_ml.Data_102.values[0]].shape[0]"
   ]
  },
  {
   "cell_type": "code",
   "execution_count": 1700,
   "metadata": {},
   "outputs": [
    {
     "data": {
      "text/plain": [
       "257"
      ]
     },
     "execution_count": 1700,
     "metadata": {},
     "output_type": "execute_result"
    }
   ],
   "source": [
    "u233_ml[u233_ml.Data_102 == u233_ml.Data_102.values[-1]].shape[0]"
   ]
  },
  {
   "cell_type": "code",
   "execution_count": 1703,
   "metadata": {},
   "outputs": [
    {
     "data": {
      "text/plain": [
       "array([51.22046, 51.22046, 51.22046, 51.22046, 51.22046, 51.22046,\n",
       "       51.22046, 51.22046, 51.22046, 51.22046, 51.22046, 51.22046,\n",
       "       51.22046, 51.22046, 51.22046, 51.22046, 51.22046, 51.22046,\n",
       "       51.22046, 51.22046, 51.22046, 51.22046, 51.22046, 51.22046,\n",
       "       51.22046, 51.22046, 51.22046, 51.22046, 51.22046, 51.22046,\n",
       "       51.22046, 51.22046, 51.22046, 51.22046, 51.22046, 51.22046,\n",
       "       51.22046, 51.22046, 51.22046, 51.22046, 51.22046, 51.22046,\n",
       "       51.22046, 51.22046, 51.22046, 51.22046, 51.22046, 51.22046,\n",
       "       51.22046, 51.22046, 51.22046, 51.22046, 51.22046, 51.22046,\n",
       "       51.22046, 51.22046, 51.22046, 51.22046, 51.22046, 51.22046,\n",
       "       51.22046, 51.22046, 51.22046, 51.22046, 51.22046, 51.22046,\n",
       "       51.22046, 51.22046, 51.22046, 51.22046, 51.22046, 51.22046,\n",
       "       51.22046, 51.22046, 51.22046, 51.22046, 51.22046, 51.22046,\n",
       "       51.22046, 51.22046])"
      ]
     },
     "execution_count": 1703,
     "metadata": {},
     "output_type": "execute_result"
    }
   ],
   "source": [
    "u233_ml.Data_102.values[:u233_ml[u233_ml.Data_102 == u233_ml.Data_102.values[0]].shape[0]]"
   ]
  },
  {
   "cell_type": "code",
   "execution_count": 1707,
   "metadata": {},
   "outputs": [
    {
     "data": {
      "text/plain": [
       "array([0.1096, 0.1096, 0.1096, 0.1096, 0.1096, 0.1096, 0.1096, 0.1096,\n",
       "       0.1096, 0.1096, 0.1096, 0.1096, 0.1096, 0.1096, 0.1096, 0.1096,\n",
       "       0.1096, 0.1096, 0.1096, 0.1096, 0.1096, 0.1096, 0.1096, 0.1096,\n",
       "       0.1096, 0.1096, 0.1096, 0.1096, 0.1096, 0.1096, 0.1096, 0.1096,\n",
       "       0.1096, 0.1096, 0.1096, 0.1096, 0.1096, 0.1096, 0.1096, 0.1096,\n",
       "       0.1096, 0.1096, 0.1096, 0.1096, 0.1096, 0.1096, 0.1096, 0.1096,\n",
       "       0.1096, 0.1096, 0.1096, 0.1096, 0.1096, 0.1096, 0.1096, 0.1096,\n",
       "       0.1096, 0.1096, 0.1096, 0.1096, 0.1096, 0.1096, 0.1096, 0.1096,\n",
       "       0.1096, 0.1096, 0.1096, 0.1096, 0.1096, 0.1096, 0.1096, 0.1096,\n",
       "       0.1096, 0.1096, 0.1096, 0.1096, 0.1096, 0.1096, 0.1096, 0.1096,\n",
       "       0.1096, 0.1096, 0.1096, 0.1096, 0.1096, 0.1096, 0.1096, 0.1096,\n",
       "       0.1096, 0.1096, 0.1096, 0.1096, 0.1096, 0.1096, 0.1096, 0.1096,\n",
       "       0.1096, 0.1096, 0.1096, 0.1096, 0.1096, 0.1096, 0.1096, 0.1096,\n",
       "       0.1096, 0.1096, 0.1096, 0.1096, 0.1096, 0.1096, 0.1096, 0.1096,\n",
       "       0.1096, 0.1096, 0.1096, 0.1096, 0.1096, 0.1096, 0.1096, 0.1096,\n",
       "       0.1096, 0.1096, 0.1096, 0.1096, 0.1096, 0.1096, 0.1096, 0.1096,\n",
       "       0.1096, 0.1096, 0.1096, 0.1096, 0.1096, 0.1096, 0.1096, 0.1096,\n",
       "       0.1096, 0.1096, 0.1096, 0.1096, 0.1096, 0.1096, 0.1096, 0.1096,\n",
       "       0.1096, 0.1096, 0.1096, 0.1096, 0.1096, 0.1096, 0.1096, 0.1096,\n",
       "       0.1096, 0.1096, 0.1096, 0.1096, 0.1096, 0.1096, 0.1096, 0.1096,\n",
       "       0.1096, 0.1096, 0.1096, 0.1096, 0.1096, 0.1096, 0.1096, 0.1096,\n",
       "       0.1096, 0.1096, 0.1096, 0.1096, 0.1096, 0.1096, 0.1096, 0.1096,\n",
       "       0.1096, 0.1096, 0.1096, 0.1096, 0.1096, 0.1096, 0.1096, 0.1096,\n",
       "       0.1096, 0.1096, 0.1096, 0.1096, 0.1096, 0.1096, 0.1096, 0.1096,\n",
       "       0.1096, 0.1096, 0.1096, 0.1096, 0.1096, 0.1096, 0.1096, 0.1096,\n",
       "       0.1096, 0.1096, 0.1096, 0.1096, 0.1096, 0.1096, 0.1096, 0.1096,\n",
       "       0.1096, 0.1096, 0.1096, 0.1096, 0.1096, 0.1096, 0.1096, 0.1096,\n",
       "       0.1096, 0.1096, 0.1096, 0.1096, 0.1096, 0.1096, 0.1096, 0.1096,\n",
       "       0.1096, 0.1096, 0.1096, 0.1096, 0.1096, 0.1096, 0.1096, 0.1096,\n",
       "       0.1096, 0.1096, 0.1096, 0.1096, 0.1096, 0.1096, 0.1096, 0.1096,\n",
       "       0.1096, 0.1096, 0.1096, 0.1096, 0.1096, 0.1096, 0.1096, 0.1096,\n",
       "       0.1096, 0.1096, 0.1096, 0.1096, 0.1096, 0.1096, 0.1096, 0.1096])"
      ]
     },
     "execution_count": 1707,
     "metadata": {},
     "output_type": "execute_result"
    }
   ],
   "source": [
    "u233_ml.Data_102.values[-u233_ml[u233_ml.Data_102 == u233_ml.Data_102.values[-1]].shape[0]:-1]"
   ]
  },
  {
   "cell_type": "code",
   "execution_count": 1708,
   "metadata": {},
   "outputs": [],
   "source": [
    "u233_ml.loc[0:u233_ml[u233_ml.Data_102 == u233_ml.Data_102.values[0]].shape[0], \"Data_102\"] = sig_102[\n",
    "    0:u233_ml[u233_ml.Data_102 == u233_ml.Data_102.values[0]].shape[0]+1]"
   ]
  },
  {
   "cell_type": "code",
   "execution_count": 1714,
   "metadata": {},
   "outputs": [
    {
     "data": {
      "text/plain": [
       "8485    0.1096\n",
       "8486    0.1096\n",
       "8487    0.1096\n",
       "8488    0.1096\n",
       "8489    0.1096\n",
       "         ...  \n",
       "8737    0.1096\n",
       "8738    0.1096\n",
       "8739    0.1096\n",
       "8740    0.1096\n",
       "8741    0.1096\n",
       "Name: Data_102, Length: 257, dtype: float64"
      ]
     },
     "execution_count": 1714,
     "metadata": {},
     "output_type": "execute_result"
    }
   ],
   "source": [
    "u233_ml.iloc[-u233_ml[u233_ml.Data_102 == u233_ml.Data_102.values[-1]].shape[0]:, 2]"
   ]
  },
  {
   "cell_type": "code",
   "execution_count": 1716,
   "metadata": {},
   "outputs": [],
   "source": [
    "u233_ml.iloc[-u233_ml[u233_ml.Data_102 == u233_ml.Data_102.values[-1]].shape[0]:, 2] = sig_102[\n",
    "    -u233_ml[u233_ml.Data_102 == u233_ml.Data_102.values[-1]].shape[0] - 1:-1]"
   ]
  },
  {
   "cell_type": "code",
   "execution_count": 1717,
   "metadata": {},
   "outputs": [
    {
     "data": {
      "text/plain": [
       "[<matplotlib.lines.Line2D at 0x1a72ffa1a08>]"
      ]
     },
     "execution_count": 1717,
     "metadata": {},
     "output_type": "execute_result"
    },
    {
     "data": {
      "image/png": "[encoded data removed]",
      "text/plain": [
       "<Figure size 432x288 with 1 Axes>"
      ]
     },
     "metadata": {
      "needs_background": "light"
     },
     "output_type": "display_data"
    }
   ],
   "source": [
    "plt.loglog(en_102, sig_102)\n",
    "plt.loglog(u233_ml.Energy, u233_ml.Data_102)"
   ]
  },
  {
   "cell_type": "markdown",
   "metadata": {},
   "source": [
    "# Checking that everything sums up to or is less than MT1 AND MT3"
   ]
  },
  {
   "cell_type": "code",
   "execution_count": 1741,
   "metadata": {},
   "outputs": [
    {
     "data": {
      "text/plain": [
       "array([ 16.,  17.,  18.,  37.,  51.,  52.,  53.,  54.,  55.,  56.,  57.,\n",
       "        58.,  59.,  60.,  61.,  62.,  63.,  64.,  65.,  66.,  67.,  68.,\n",
       "        69.,  70.,  71.,  72.,  73.,  74.,  75.,  76.,  77.,  78.,  79.,\n",
       "        80.,  81.,  82.,  83.,  84.,  85.,  86.,  87.,  88.,  91., 102.,\n",
       "         4.])"
      ]
     },
     "execution_count": 1741,
     "metadata": {},
     "output_type": "execute_result"
    }
   ],
   "source": [
    "mt_array"
   ]
  },
  {
   "cell_type": "code",
   "execution_count": 1742,
   "metadata": {},
   "outputs": [
    {
     "name": "stdout",
     "output_type": "stream",
     "text": [
      "139 Energy and 139 Cross Section Points Avaliable.\n",
      "63 Energy and 63 Cross Section Points Avaliable.\n",
      "8742 Energy and 8742 Cross Section Points Avaliable.\n",
      "26 Energy and 26 Cross Section Points Avaliable.\n",
      "364 Energy and 364 Cross Section Points Avaliable.\n",
      "340 Energy and 340 Cross Section Points Avaliable.\n",
      "329 Energy and 329 Cross Section Points Avaliable.\n",
      "321 Energy and 321 Cross Section Points Avaliable.\n",
      "315 Energy and 315 Cross Section Points Avaliable.\n",
      "305 Energy and 305 Cross Section Points Avaliable.\n",
      "301 Energy and 301 Cross Section Points Avaliable.\n",
      "299 Energy and 299 Cross Section Points Avaliable.\n",
      "296 Energy and 296 Cross Section Points Avaliable.\n",
      "292 Energy and 292 Cross Section Points Avaliable.\n",
      "289 Energy and 289 Cross Section Points Avaliable.\n",
      "284 Energy and 284 Cross Section Points Avaliable.\n",
      "281 Energy and 281 Cross Section Points Avaliable.\n",
      "278 Energy and 278 Cross Section Points Avaliable.\n",
      "275 Energy and 275 Cross Section Points Avaliable.\n",
      "273 Energy and 273 Cross Section Points Avaliable.\n",
      "269 Energy and 269 Cross Section Points Avaliable.\n",
      "265 Energy and 265 Cross Section Points Avaliable.\n",
      "259 Energy and 259 Cross Section Points Avaliable.\n",
      "256 Energy and 256 Cross Section Points Avaliable.\n",
      "254 Energy and 254 Cross Section Points Avaliable.\n",
      "252 Energy and 252 Cross Section Points Avaliable.\n",
      "249 Energy and 249 Cross Section Points Avaliable.\n",
      "246 Energy and 246 Cross Section Points Avaliable.\n",
      "244 Energy and 244 Cross Section Points Avaliable.\n",
      "241 Energy and 241 Cross Section Points Avaliable.\n",
      "239 Energy and 239 Cross Section Points Avaliable.\n",
      "236 Energy and 236 Cross Section Points Avaliable.\n",
      "234 Energy and 234 Cross Section Points Avaliable.\n",
      "231 Energy and 231 Cross Section Points Avaliable.\n",
      "229 Energy and 229 Cross Section Points Avaliable.\n",
      "226 Energy and 226 Cross Section Points Avaliable.\n",
      "222 Energy and 222 Cross Section Points Avaliable.\n",
      "214 Energy and 214 Cross Section Points Avaliable.\n",
      "208 Energy and 208 Cross Section Points Avaliable.\n",
      "204 Energy and 204 Cross Section Points Avaliable.\n",
      "194 Energy and 194 Cross Section Points Avaliable.\n",
      "189 Energy and 189 Cross Section Points Avaliable.\n",
      "222 Energy and 222 Cross Section Points Avaliable.\n",
      "8742 Energy and 8742 Cross Section Points Avaliable.\n",
      "364 Energy and 364 Cross Section Points Avaliable.\n"
     ]
    }
   ],
   "source": [
    "Energy_Grid = pd.DataFrame({\"Energy\": energies})\n",
    "Energy_Grid = Energy_Grid.set_index(\"Energy\")\n",
    "\n",
    "for i in mt_array:\n",
    "    xs, en, _, _ = sig_mt(i, mt_array, lsig)\n",
    "    to_add = pd.DataFrame({\"Energy\": en, \"Data_\" + str(i): xs})\n",
    "    to_add = to_add.set_index(\"Energy\")\n",
    "    Energy_Grid = pd.merge(Energy_Grid, to_add, left_index=True, right_index=True, how=\"outer\")"
   ]
  },
  {
   "cell_type": "code",
   "execution_count": 1744,
   "metadata": {},
   "outputs": [
    {
     "data": {
      "text/html": [
       "<div>\n",
       "<style scoped>\n",
       "    .dataframe tbody tr th:only-of-type {\n",
       "        vertical-align: middle;\n",
       "    }\n",
       "\n",
       "    .dataframe tbody tr th {\n",
       "        vertical-align: top;\n",
       "    }\n",
       "\n",
       "    .dataframe thead th {\n",
       "        text-align: right;\n",
       "    }\n",
       "</style>\n",
       "<table border=\"1\" class=\"dataframe\">\n",
       "  <thead>\n",
       "    <tr style=\"text-align: right;\">\n",
       "      <th></th>\n",
       "      <th>Data_16.0</th>\n",
       "      <th>Data_17.0</th>\n",
       "      <th>Data_18.0</th>\n",
       "      <th>Data_37.0</th>\n",
       "      <th>Data_51.0</th>\n",
       "      <th>Data_52.0</th>\n",
       "      <th>Data_53.0</th>\n",
       "      <th>Data_54.0</th>\n",
       "      <th>Data_55.0</th>\n",
       "      <th>Data_56.0</th>\n",
       "      <th>Data_57.0</th>\n",
       "      <th>Data_58.0</th>\n",
       "      <th>Data_59.0</th>\n",
       "      <th>Data_60.0</th>\n",
       "      <th>Data_61.0</th>\n",
       "      <th>Data_62.0</th>\n",
       "      <th>Data_63.0</th>\n",
       "      <th>Data_64.0</th>\n",
       "      <th>Data_65.0</th>\n",
       "      <th>Data_66.0</th>\n",
       "      <th>Data_67.0</th>\n",
       "      <th>Data_68.0</th>\n",
       "      <th>Data_69.0</th>\n",
       "      <th>Data_70.0</th>\n",
       "      <th>Data_71.0</th>\n",
       "      <th>Data_72.0</th>\n",
       "      <th>Data_73.0</th>\n",
       "      <th>Data_74.0</th>\n",
       "      <th>Data_75.0</th>\n",
       "      <th>Data_76.0</th>\n",
       "      <th>Data_77.0</th>\n",
       "      <th>Data_78.0</th>\n",
       "      <th>Data_79.0</th>\n",
       "      <th>Data_80.0</th>\n",
       "      <th>Data_81.0</th>\n",
       "      <th>Data_82.0</th>\n",
       "      <th>Data_83.0</th>\n",
       "      <th>Data_84.0</th>\n",
       "      <th>Data_85.0</th>\n",
       "      <th>Data_86.0</th>\n",
       "      <th>Data_87.0</th>\n",
       "      <th>Data_88.0</th>\n",
       "      <th>Data_91.0</th>\n",
       "      <th>Data_102.0</th>\n",
       "      <th>Data_4.0</th>\n",
       "    </tr>\n",
       "    <tr>\n",
       "      <th>Energy</th>\n",
       "      <th></th>\n",
       "      <th></th>\n",
       "      <th></th>\n",
       "      <th></th>\n",
       "      <th></th>\n",
       "      <th></th>\n",
       "      <th></th>\n",
       "      <th></th>\n",
       "      <th></th>\n",
       "      <th></th>\n",
       "      <th></th>\n",
       "      <th></th>\n",
       "      <th></th>\n",
       "      <th></th>\n",
       "      <th></th>\n",
       "      <th></th>\n",
       "      <th></th>\n",
       "      <th></th>\n",
       "      <th></th>\n",
       "      <th></th>\n",
       "      <th></th>\n",
       "      <th></th>\n",
       "      <th></th>\n",
       "      <th></th>\n",
       "      <th></th>\n",
       "      <th></th>\n",
       "      <th></th>\n",
       "      <th></th>\n",
       "      <th></th>\n",
       "      <th></th>\n",
       "      <th></th>\n",
       "      <th></th>\n",
       "      <th></th>\n",
       "      <th></th>\n",
       "      <th></th>\n",
       "      <th></th>\n",
       "      <th></th>\n",
       "      <th></th>\n",
       "      <th></th>\n",
       "      <th></th>\n",
       "      <th></th>\n",
       "      <th></th>\n",
       "      <th></th>\n",
       "      <th></th>\n",
       "      <th></th>\n",
       "    </tr>\n",
       "  </thead>\n",
       "  <tbody>\n",
       "    <tr>\n",
       "      <th>1.000000e-11</th>\n",
       "      <td>NaN</td>\n",
       "      <td>NaN</td>\n",
       "      <td>26877.520000</td>\n",
       "      <td>NaN</td>\n",
       "      <td>NaN</td>\n",
       "      <td>NaN</td>\n",
       "      <td>NaN</td>\n",
       "      <td>NaN</td>\n",
       "      <td>NaN</td>\n",
       "      <td>NaN</td>\n",
       "      <td>NaN</td>\n",
       "      <td>NaN</td>\n",
       "      <td>NaN</td>\n",
       "      <td>NaN</td>\n",
       "      <td>NaN</td>\n",
       "      <td>NaN</td>\n",
       "      <td>NaN</td>\n",
       "      <td>NaN</td>\n",
       "      <td>NaN</td>\n",
       "      <td>NaN</td>\n",
       "      <td>NaN</td>\n",
       "      <td>NaN</td>\n",
       "      <td>NaN</td>\n",
       "      <td>NaN</td>\n",
       "      <td>NaN</td>\n",
       "      <td>NaN</td>\n",
       "      <td>NaN</td>\n",
       "      <td>NaN</td>\n",
       "      <td>NaN</td>\n",
       "      <td>NaN</td>\n",
       "      <td>NaN</td>\n",
       "      <td>NaN</td>\n",
       "      <td>NaN</td>\n",
       "      <td>NaN</td>\n",
       "      <td>NaN</td>\n",
       "      <td>NaN</td>\n",
       "      <td>NaN</td>\n",
       "      <td>NaN</td>\n",
       "      <td>NaN</td>\n",
       "      <td>NaN</td>\n",
       "      <td>NaN</td>\n",
       "      <td>NaN</td>\n",
       "      <td>NaN</td>\n",
       "      <td>2232.315000</td>\n",
       "      <td>NaN</td>\n",
       "    </tr>\n",
       "    <tr>\n",
       "      <th>1.125000e-11</th>\n",
       "      <td>NaN</td>\n",
       "      <td>NaN</td>\n",
       "      <td>25340.360000</td>\n",
       "      <td>NaN</td>\n",
       "      <td>NaN</td>\n",
       "      <td>NaN</td>\n",
       "      <td>NaN</td>\n",
       "      <td>NaN</td>\n",
       "      <td>NaN</td>\n",
       "      <td>NaN</td>\n",
       "      <td>NaN</td>\n",
       "      <td>NaN</td>\n",
       "      <td>NaN</td>\n",
       "      <td>NaN</td>\n",
       "      <td>NaN</td>\n",
       "      <td>NaN</td>\n",
       "      <td>NaN</td>\n",
       "      <td>NaN</td>\n",
       "      <td>NaN</td>\n",
       "      <td>NaN</td>\n",
       "      <td>NaN</td>\n",
       "      <td>NaN</td>\n",
       "      <td>NaN</td>\n",
       "      <td>NaN</td>\n",
       "      <td>NaN</td>\n",
       "      <td>NaN</td>\n",
       "      <td>NaN</td>\n",
       "      <td>NaN</td>\n",
       "      <td>NaN</td>\n",
       "      <td>NaN</td>\n",
       "      <td>NaN</td>\n",
       "      <td>NaN</td>\n",
       "      <td>NaN</td>\n",
       "      <td>NaN</td>\n",
       "      <td>NaN</td>\n",
       "      <td>NaN</td>\n",
       "      <td>NaN</td>\n",
       "      <td>NaN</td>\n",
       "      <td>NaN</td>\n",
       "      <td>NaN</td>\n",
       "      <td>NaN</td>\n",
       "      <td>NaN</td>\n",
       "      <td>NaN</td>\n",
       "      <td>2104.648000</td>\n",
       "      <td>NaN</td>\n",
       "    </tr>\n",
       "    <tr>\n",
       "      <th>1.250000e-11</th>\n",
       "      <td>NaN</td>\n",
       "      <td>NaN</td>\n",
       "      <td>24039.970000</td>\n",
       "      <td>NaN</td>\n",
       "      <td>NaN</td>\n",
       "      <td>NaN</td>\n",
       "      <td>NaN</td>\n",
       "      <td>NaN</td>\n",
       "      <td>NaN</td>\n",
       "      <td>NaN</td>\n",
       "      <td>NaN</td>\n",
       "      <td>NaN</td>\n",
       "      <td>NaN</td>\n",
       "      <td>NaN</td>\n",
       "      <td>NaN</td>\n",
       "      <td>NaN</td>\n",
       "      <td>NaN</td>\n",
       "      <td>NaN</td>\n",
       "      <td>NaN</td>\n",
       "      <td>NaN</td>\n",
       "      <td>NaN</td>\n",
       "      <td>NaN</td>\n",
       "      <td>NaN</td>\n",
       "      <td>NaN</td>\n",
       "      <td>NaN</td>\n",
       "      <td>NaN</td>\n",
       "      <td>NaN</td>\n",
       "      <td>NaN</td>\n",
       "      <td>NaN</td>\n",
       "      <td>NaN</td>\n",
       "      <td>NaN</td>\n",
       "      <td>NaN</td>\n",
       "      <td>NaN</td>\n",
       "      <td>NaN</td>\n",
       "      <td>NaN</td>\n",
       "      <td>NaN</td>\n",
       "      <td>NaN</td>\n",
       "      <td>NaN</td>\n",
       "      <td>NaN</td>\n",
       "      <td>NaN</td>\n",
       "      <td>NaN</td>\n",
       "      <td>NaN</td>\n",
       "      <td>NaN</td>\n",
       "      <td>1996.647000</td>\n",
       "      <td>NaN</td>\n",
       "    </tr>\n",
       "    <tr>\n",
       "      <th>1.375000e-11</th>\n",
       "      <td>NaN</td>\n",
       "      <td>NaN</td>\n",
       "      <td>22921.210000</td>\n",
       "      <td>NaN</td>\n",
       "      <td>NaN</td>\n",
       "      <td>NaN</td>\n",
       "      <td>NaN</td>\n",
       "      <td>NaN</td>\n",
       "      <td>NaN</td>\n",
       "      <td>NaN</td>\n",
       "      <td>NaN</td>\n",
       "      <td>NaN</td>\n",
       "      <td>NaN</td>\n",
       "      <td>NaN</td>\n",
       "      <td>NaN</td>\n",
       "      <td>NaN</td>\n",
       "      <td>NaN</td>\n",
       "      <td>NaN</td>\n",
       "      <td>NaN</td>\n",
       "      <td>NaN</td>\n",
       "      <td>NaN</td>\n",
       "      <td>NaN</td>\n",
       "      <td>NaN</td>\n",
       "      <td>NaN</td>\n",
       "      <td>NaN</td>\n",
       "      <td>NaN</td>\n",
       "      <td>NaN</td>\n",
       "      <td>NaN</td>\n",
       "      <td>NaN</td>\n",
       "      <td>NaN</td>\n",
       "      <td>NaN</td>\n",
       "      <td>NaN</td>\n",
       "      <td>NaN</td>\n",
       "      <td>NaN</td>\n",
       "      <td>NaN</td>\n",
       "      <td>NaN</td>\n",
       "      <td>NaN</td>\n",
       "      <td>NaN</td>\n",
       "      <td>NaN</td>\n",
       "      <td>NaN</td>\n",
       "      <td>NaN</td>\n",
       "      <td>NaN</td>\n",
       "      <td>NaN</td>\n",
       "      <td>1903.729000</td>\n",
       "      <td>NaN</td>\n",
       "    </tr>\n",
       "    <tr>\n",
       "      <th>1.500000e-11</th>\n",
       "      <td>NaN</td>\n",
       "      <td>NaN</td>\n",
       "      <td>21945.390000</td>\n",
       "      <td>NaN</td>\n",
       "      <td>NaN</td>\n",
       "      <td>NaN</td>\n",
       "      <td>NaN</td>\n",
       "      <td>NaN</td>\n",
       "      <td>NaN</td>\n",
       "      <td>NaN</td>\n",
       "      <td>NaN</td>\n",
       "      <td>NaN</td>\n",
       "      <td>NaN</td>\n",
       "      <td>NaN</td>\n",
       "      <td>NaN</td>\n",
       "      <td>NaN</td>\n",
       "      <td>NaN</td>\n",
       "      <td>NaN</td>\n",
       "      <td>NaN</td>\n",
       "      <td>NaN</td>\n",
       "      <td>NaN</td>\n",
       "      <td>NaN</td>\n",
       "      <td>NaN</td>\n",
       "      <td>NaN</td>\n",
       "      <td>NaN</td>\n",
       "      <td>NaN</td>\n",
       "      <td>NaN</td>\n",
       "      <td>NaN</td>\n",
       "      <td>NaN</td>\n",
       "      <td>NaN</td>\n",
       "      <td>NaN</td>\n",
       "      <td>NaN</td>\n",
       "      <td>NaN</td>\n",
       "      <td>NaN</td>\n",
       "      <td>NaN</td>\n",
       "      <td>NaN</td>\n",
       "      <td>NaN</td>\n",
       "      <td>NaN</td>\n",
       "      <td>NaN</td>\n",
       "      <td>NaN</td>\n",
       "      <td>NaN</td>\n",
       "      <td>NaN</td>\n",
       "      <td>NaN</td>\n",
       "      <td>1822.684000</td>\n",
       "      <td>NaN</td>\n",
       "    </tr>\n",
       "    <tr>\n",
       "      <th>...</th>\n",
       "      <td>...</td>\n",
       "      <td>...</td>\n",
       "      <td>...</td>\n",
       "      <td>...</td>\n",
       "      <td>...</td>\n",
       "      <td>...</td>\n",
       "      <td>...</td>\n",
       "      <td>...</td>\n",
       "      <td>...</td>\n",
       "      <td>...</td>\n",
       "      <td>...</td>\n",
       "      <td>...</td>\n",
       "      <td>...</td>\n",
       "      <td>...</td>\n",
       "      <td>...</td>\n",
       "      <td>...</td>\n",
       "      <td>...</td>\n",
       "      <td>...</td>\n",
       "      <td>...</td>\n",
       "      <td>...</td>\n",
       "      <td>...</td>\n",
       "      <td>...</td>\n",
       "      <td>...</td>\n",
       "      <td>...</td>\n",
       "      <td>...</td>\n",
       "      <td>...</td>\n",
       "      <td>...</td>\n",
       "      <td>...</td>\n",
       "      <td>...</td>\n",
       "      <td>...</td>\n",
       "      <td>...</td>\n",
       "      <td>...</td>\n",
       "      <td>...</td>\n",
       "      <td>...</td>\n",
       "      <td>...</td>\n",
       "      <td>...</td>\n",
       "      <td>...</td>\n",
       "      <td>...</td>\n",
       "      <td>...</td>\n",
       "      <td>...</td>\n",
       "      <td>...</td>\n",
       "      <td>...</td>\n",
       "      <td>...</td>\n",
       "      <td>...</td>\n",
       "      <td>...</td>\n",
       "    </tr>\n",
       "    <tr>\n",
       "      <th>2.800000e+01</th>\n",
       "      <td>0.056734</td>\n",
       "      <td>0.045851</td>\n",
       "      <td>2.222499</td>\n",
       "      <td>0.149627</td>\n",
       "      <td>0.089681</td>\n",
       "      <td>0.039340</td>\n",
       "      <td>0.009014</td>\n",
       "      <td>0.000025</td>\n",
       "      <td>0.004165</td>\n",
       "      <td>0.000036</td>\n",
       "      <td>0.000007</td>\n",
       "      <td>0.001449</td>\n",
       "      <td>0.000013</td>\n",
       "      <td>0.000016</td>\n",
       "      <td>0.000020</td>\n",
       "      <td>0.000024</td>\n",
       "      <td>0.000011</td>\n",
       "      <td>0.000008</td>\n",
       "      <td>0.000659</td>\n",
       "      <td>0.000012</td>\n",
       "      <td>0.000024</td>\n",
       "      <td>0.000041</td>\n",
       "      <td>0.000032</td>\n",
       "      <td>0.000014</td>\n",
       "      <td>0.000013</td>\n",
       "      <td>0.000021</td>\n",
       "      <td>0.000029</td>\n",
       "      <td>0.000019</td>\n",
       "      <td>0.00001</td>\n",
       "      <td>0.000020</td>\n",
       "      <td>0.000028</td>\n",
       "      <td>0.000018</td>\n",
       "      <td>0.000021</td>\n",
       "      <td>0.000022</td>\n",
       "      <td>0.000021</td>\n",
       "      <td>0.000046</td>\n",
       "      <td>0.000031</td>\n",
       "      <td>0.024502</td>\n",
       "      <td>0.001733</td>\n",
       "      <td>0.010878</td>\n",
       "      <td>0.010814</td>\n",
       "      <td>0.001975</td>\n",
       "      <td>0.062356</td>\n",
       "      <td>0.000141</td>\n",
       "      <td>0.257150</td>\n",
       "    </tr>\n",
       "    <tr>\n",
       "      <th>2.850000e+01</th>\n",
       "      <td>0.055079</td>\n",
       "      <td>0.041571</td>\n",
       "      <td>2.218188</td>\n",
       "      <td>0.163561</td>\n",
       "      <td>0.089224</td>\n",
       "      <td>0.039059</td>\n",
       "      <td>0.008865</td>\n",
       "      <td>0.000024</td>\n",
       "      <td>0.004089</td>\n",
       "      <td>0.000036</td>\n",
       "      <td>0.000007</td>\n",
       "      <td>0.001415</td>\n",
       "      <td>0.000012</td>\n",
       "      <td>0.000016</td>\n",
       "      <td>0.000020</td>\n",
       "      <td>0.000023</td>\n",
       "      <td>0.000011</td>\n",
       "      <td>0.000008</td>\n",
       "      <td>0.000639</td>\n",
       "      <td>0.000012</td>\n",
       "      <td>0.000024</td>\n",
       "      <td>0.000041</td>\n",
       "      <td>0.000032</td>\n",
       "      <td>0.000014</td>\n",
       "      <td>0.000013</td>\n",
       "      <td>0.000020</td>\n",
       "      <td>0.000029</td>\n",
       "      <td>0.000019</td>\n",
       "      <td>0.00001</td>\n",
       "      <td>0.000019</td>\n",
       "      <td>0.000027</td>\n",
       "      <td>0.000018</td>\n",
       "      <td>0.000020</td>\n",
       "      <td>0.000021</td>\n",
       "      <td>0.000021</td>\n",
       "      <td>0.000045</td>\n",
       "      <td>0.000030</td>\n",
       "      <td>0.024305</td>\n",
       "      <td>0.001711</td>\n",
       "      <td>0.010791</td>\n",
       "      <td>0.010729</td>\n",
       "      <td>0.001960</td>\n",
       "      <td>0.061695</td>\n",
       "      <td>0.000130</td>\n",
       "      <td>0.255056</td>\n",
       "    </tr>\n",
       "    <tr>\n",
       "      <th>2.900000e+01</th>\n",
       "      <td>0.053518</td>\n",
       "      <td>0.037741</td>\n",
       "      <td>2.214292</td>\n",
       "      <td>0.176420</td>\n",
       "      <td>0.088789</td>\n",
       "      <td>0.038800</td>\n",
       "      <td>0.008731</td>\n",
       "      <td>0.000024</td>\n",
       "      <td>0.004018</td>\n",
       "      <td>0.000035</td>\n",
       "      <td>0.000007</td>\n",
       "      <td>0.001381</td>\n",
       "      <td>0.000012</td>\n",
       "      <td>0.000016</td>\n",
       "      <td>0.000019</td>\n",
       "      <td>0.000023</td>\n",
       "      <td>0.000011</td>\n",
       "      <td>0.000007</td>\n",
       "      <td>0.000620</td>\n",
       "      <td>0.000012</td>\n",
       "      <td>0.000024</td>\n",
       "      <td>0.000040</td>\n",
       "      <td>0.000031</td>\n",
       "      <td>0.000014</td>\n",
       "      <td>0.000012</td>\n",
       "      <td>0.000020</td>\n",
       "      <td>0.000028</td>\n",
       "      <td>0.000019</td>\n",
       "      <td>0.00001</td>\n",
       "      <td>0.000019</td>\n",
       "      <td>0.000027</td>\n",
       "      <td>0.000018</td>\n",
       "      <td>0.000020</td>\n",
       "      <td>0.000021</td>\n",
       "      <td>0.000020</td>\n",
       "      <td>0.000043</td>\n",
       "      <td>0.000028</td>\n",
       "      <td>0.024077</td>\n",
       "      <td>0.001686</td>\n",
       "      <td>0.010690</td>\n",
       "      <td>0.010632</td>\n",
       "      <td>0.001942</td>\n",
       "      <td>0.061031</td>\n",
       "      <td>0.000119</td>\n",
       "      <td>0.252959</td>\n",
       "    </tr>\n",
       "    <tr>\n",
       "      <th>2.950000e+01</th>\n",
       "      <td>0.052122</td>\n",
       "      <td>0.034419</td>\n",
       "      <td>2.210290</td>\n",
       "      <td>0.188032</td>\n",
       "      <td>0.088386</td>\n",
       "      <td>0.038567</td>\n",
       "      <td>0.008612</td>\n",
       "      <td>0.000024</td>\n",
       "      <td>0.003952</td>\n",
       "      <td>0.000035</td>\n",
       "      <td>0.000007</td>\n",
       "      <td>0.001346</td>\n",
       "      <td>0.000012</td>\n",
       "      <td>0.000016</td>\n",
       "      <td>0.000019</td>\n",
       "      <td>0.000023</td>\n",
       "      <td>0.000011</td>\n",
       "      <td>0.000007</td>\n",
       "      <td>0.000600</td>\n",
       "      <td>0.000012</td>\n",
       "      <td>0.000023</td>\n",
       "      <td>0.000040</td>\n",
       "      <td>0.000031</td>\n",
       "      <td>0.000014</td>\n",
       "      <td>0.000012</td>\n",
       "      <td>0.000020</td>\n",
       "      <td>0.000028</td>\n",
       "      <td>0.000018</td>\n",
       "      <td>0.00001</td>\n",
       "      <td>0.000019</td>\n",
       "      <td>0.000027</td>\n",
       "      <td>0.000018</td>\n",
       "      <td>0.000020</td>\n",
       "      <td>0.000021</td>\n",
       "      <td>0.000020</td>\n",
       "      <td>0.000040</td>\n",
       "      <td>0.000026</td>\n",
       "      <td>0.023833</td>\n",
       "      <td>0.001660</td>\n",
       "      <td>0.010582</td>\n",
       "      <td>0.010529</td>\n",
       "      <td>0.001924</td>\n",
       "      <td>0.060303</td>\n",
       "      <td>0.000109</td>\n",
       "      <td>0.250845</td>\n",
       "    </tr>\n",
       "    <tr>\n",
       "      <th>3.000000e+01</th>\n",
       "      <td>0.050909</td>\n",
       "      <td>0.031594</td>\n",
       "      <td>2.206299</td>\n",
       "      <td>0.198460</td>\n",
       "      <td>0.088024</td>\n",
       "      <td>0.038365</td>\n",
       "      <td>0.008510</td>\n",
       "      <td>0.000023</td>\n",
       "      <td>0.003893</td>\n",
       "      <td>0.000034</td>\n",
       "      <td>0.000007</td>\n",
       "      <td>0.001312</td>\n",
       "      <td>0.000012</td>\n",
       "      <td>0.000016</td>\n",
       "      <td>0.000019</td>\n",
       "      <td>0.000022</td>\n",
       "      <td>0.000010</td>\n",
       "      <td>0.000007</td>\n",
       "      <td>0.000582</td>\n",
       "      <td>0.000012</td>\n",
       "      <td>0.000023</td>\n",
       "      <td>0.000039</td>\n",
       "      <td>0.000030</td>\n",
       "      <td>0.000013</td>\n",
       "      <td>0.000012</td>\n",
       "      <td>0.000019</td>\n",
       "      <td>0.000027</td>\n",
       "      <td>0.000018</td>\n",
       "      <td>0.00001</td>\n",
       "      <td>0.000018</td>\n",
       "      <td>0.000026</td>\n",
       "      <td>0.000017</td>\n",
       "      <td>0.000020</td>\n",
       "      <td>0.000020</td>\n",
       "      <td>0.000019</td>\n",
       "      <td>0.000036</td>\n",
       "      <td>0.000023</td>\n",
       "      <td>0.023569</td>\n",
       "      <td>0.001632</td>\n",
       "      <td>0.010465</td>\n",
       "      <td>0.010419</td>\n",
       "      <td>0.001904</td>\n",
       "      <td>0.059545</td>\n",
       "      <td>0.000100</td>\n",
       "      <td>0.248755</td>\n",
       "    </tr>\n",
       "  </tbody>\n",
       "</table>\n",
       "<p>8742 rows × 45 columns</p>\n",
       "</div>"
      ],
      "text/plain": [
       "              Data_16.0  Data_17.0     Data_18.0  Data_37.0  Data_51.0  \\\n",
       "Energy                                                                   \n",
       "1.000000e-11        NaN        NaN  26877.520000        NaN        NaN   \n",
       "1.125000e-11        NaN        NaN  25340.360000        NaN        NaN   \n",
       "1.250000e-11        NaN        NaN  24039.970000        NaN        NaN   \n",
       "1.375000e-11        NaN        NaN  22921.210000        NaN        NaN   \n",
       "1.500000e-11        NaN        NaN  21945.390000        NaN        NaN   \n",
       "...                 ...        ...           ...        ...        ...   \n",
       "2.800000e+01   0.056734   0.045851      2.222499   0.149627   0.089681   \n",
       "2.850000e+01   0.055079   0.041571      2.218188   0.163561   0.089224   \n",
       "2.900000e+01   0.053518   0.037741      2.214292   0.176420   0.088789   \n",
       "2.950000e+01   0.052122   0.034419      2.210290   0.188032   0.088386   \n",
       "3.000000e+01   0.050909   0.031594      2.206299   0.198460   0.088024   \n",
       "\n",
       "              Data_52.0  Data_53.0  Data_54.0  Data_55.0  Data_56.0  \\\n",
       "Energy                                                                \n",
       "1.000000e-11        NaN        NaN        NaN        NaN        NaN   \n",
       "1.125000e-11        NaN        NaN        NaN        NaN        NaN   \n",
       "1.250000e-11        NaN        NaN        NaN        NaN        NaN   \n",
       "1.375000e-11        NaN        NaN        NaN        NaN        NaN   \n",
       "1.500000e-11        NaN        NaN        NaN        NaN        NaN   \n",
       "...                 ...        ...        ...        ...        ...   \n",
       "2.800000e+01   0.039340   0.009014   0.000025   0.004165   0.000036   \n",
       "2.850000e+01   0.039059   0.008865   0.000024   0.004089   0.000036   \n",
       "2.900000e+01   0.038800   0.008731   0.000024   0.004018   0.000035   \n",
       "2.950000e+01   0.038567   0.008612   0.000024   0.003952   0.000035   \n",
       "3.000000e+01   0.038365   0.008510   0.000023   0.003893   0.000034   \n",
       "\n",
       "              Data_57.0  Data_58.0  Data_59.0  Data_60.0  Data_61.0  \\\n",
       "Energy                                                                \n",
       "1.000000e-11        NaN        NaN        NaN        NaN        NaN   \n",
       "1.125000e-11        NaN        NaN        NaN        NaN        NaN   \n",
       "1.250000e-11        NaN        NaN        NaN        NaN        NaN   \n",
       "1.375000e-11        NaN        NaN        NaN        NaN        NaN   \n",
       "1.500000e-11        NaN        NaN        NaN        NaN        NaN   \n",
       "...                 ...        ...        ...        ...        ...   \n",
       "2.800000e+01   0.000007   0.001449   0.000013   0.000016   0.000020   \n",
       "2.850000e+01   0.000007   0.001415   0.000012   0.000016   0.000020   \n",
       "2.900000e+01   0.000007   0.001381   0.000012   0.000016   0.000019   \n",
       "2.950000e+01   0.000007   0.001346   0.000012   0.000016   0.000019   \n",
       "3.000000e+01   0.000007   0.001312   0.000012   0.000016   0.000019   \n",
       "\n",
       "              Data_62.0  Data_63.0  Data_64.0  Data_65.0  Data_66.0  \\\n",
       "Energy                                                                \n",
       "1.000000e-11        NaN        NaN        NaN        NaN        NaN   \n",
       "1.125000e-11        NaN        NaN        NaN        NaN        NaN   \n",
       "1.250000e-11        NaN        NaN        NaN        NaN        NaN   \n",
       "1.375000e-11        NaN        NaN        NaN        NaN        NaN   \n",
       "1.500000e-11        NaN        NaN        NaN        NaN        NaN   \n",
       "...                 ...        ...        ...        ...        ...   \n",
       "2.800000e+01   0.000024   0.000011   0.000008   0.000659   0.000012   \n",
       "2.850000e+01   0.000023   0.000011   0.000008   0.000639   0.000012   \n",
       "2.900000e+01   0.000023   0.000011   0.000007   0.000620   0.000012   \n",
       "2.950000e+01   0.000023   0.000011   0.000007   0.000600   0.000012   \n",
       "3.000000e+01   0.000022   0.000010   0.000007   0.000582   0.000012   \n",
       "\n",
       "              Data_67.0  Data_68.0  Data_69.0  Data_70.0  Data_71.0  \\\n",
       "Energy                                                                \n",
       "1.000000e-11        NaN        NaN        NaN        NaN        NaN   \n",
       "1.125000e-11        NaN        NaN        NaN        NaN        NaN   \n",
       "1.250000e-11        NaN        NaN        NaN        NaN        NaN   \n",
       "1.375000e-11        NaN        NaN        NaN        NaN        NaN   \n",
       "1.500000e-11        NaN        NaN        NaN        NaN        NaN   \n",
       "...                 ...        ...        ...        ...        ...   \n",
       "2.800000e+01   0.000024   0.000041   0.000032   0.000014   0.000013   \n",
       "2.850000e+01   0.000024   0.000041   0.000032   0.000014   0.000013   \n",
       "2.900000e+01   0.000024   0.000040   0.000031   0.000014   0.000012   \n",
       "2.950000e+01   0.000023   0.000040   0.000031   0.000014   0.000012   \n",
       "3.000000e+01   0.000023   0.000039   0.000030   0.000013   0.000012   \n",
       "\n",
       "              Data_72.0  Data_73.0  Data_74.0  Data_75.0  Data_76.0  \\\n",
       "Energy                                                                \n",
       "1.000000e-11        NaN        NaN        NaN        NaN        NaN   \n",
       "1.125000e-11        NaN        NaN        NaN        NaN        NaN   \n",
       "1.250000e-11        NaN        NaN        NaN        NaN        NaN   \n",
       "1.375000e-11        NaN        NaN        NaN        NaN        NaN   \n",
       "1.500000e-11        NaN        NaN        NaN        NaN        NaN   \n",
       "...                 ...        ...        ...        ...        ...   \n",
       "2.800000e+01   0.000021   0.000029   0.000019    0.00001   0.000020   \n",
       "2.850000e+01   0.000020   0.000029   0.000019    0.00001   0.000019   \n",
       "2.900000e+01   0.000020   0.000028   0.000019    0.00001   0.000019   \n",
       "2.950000e+01   0.000020   0.000028   0.000018    0.00001   0.000019   \n",
       "3.000000e+01   0.000019   0.000027   0.000018    0.00001   0.000018   \n",
       "\n",
       "              Data_77.0  Data_78.0  Data_79.0  Data_80.0  Data_81.0  \\\n",
       "Energy                                                                \n",
       "1.000000e-11        NaN        NaN        NaN        NaN        NaN   \n",
       "1.125000e-11        NaN        NaN        NaN        NaN        NaN   \n",
       "1.250000e-11        NaN        NaN        NaN        NaN        NaN   \n",
       "1.375000e-11        NaN        NaN        NaN        NaN        NaN   \n",
       "1.500000e-11        NaN        NaN        NaN        NaN        NaN   \n",
       "...                 ...        ...        ...        ...        ...   \n",
       "2.800000e+01   0.000028   0.000018   0.000021   0.000022   0.000021   \n",
       "2.850000e+01   0.000027   0.000018   0.000020   0.000021   0.000021   \n",
       "2.900000e+01   0.000027   0.000018   0.000020   0.000021   0.000020   \n",
       "2.950000e+01   0.000027   0.000018   0.000020   0.000021   0.000020   \n",
       "3.000000e+01   0.000026   0.000017   0.000020   0.000020   0.000019   \n",
       "\n",
       "              Data_82.0  Data_83.0  Data_84.0  Data_85.0  Data_86.0  \\\n",
       "Energy                                                                \n",
       "1.000000e-11        NaN        NaN        NaN        NaN        NaN   \n",
       "1.125000e-11        NaN        NaN        NaN        NaN        NaN   \n",
       "1.250000e-11        NaN        NaN        NaN        NaN        NaN   \n",
       "1.375000e-11        NaN        NaN        NaN        NaN        NaN   \n",
       "1.500000e-11        NaN        NaN        NaN        NaN        NaN   \n",
       "...                 ...        ...        ...        ...        ...   \n",
       "2.800000e+01   0.000046   0.000031   0.024502   0.001733   0.010878   \n",
       "2.850000e+01   0.000045   0.000030   0.024305   0.001711   0.010791   \n",
       "2.900000e+01   0.000043   0.000028   0.024077   0.001686   0.010690   \n",
       "2.950000e+01   0.000040   0.000026   0.023833   0.001660   0.010582   \n",
       "3.000000e+01   0.000036   0.000023   0.023569   0.001632   0.010465   \n",
       "\n",
       "              Data_87.0  Data_88.0  Data_91.0   Data_102.0  Data_4.0  \n",
       "Energy                                                                \n",
       "1.000000e-11        NaN        NaN        NaN  2232.315000       NaN  \n",
       "1.125000e-11        NaN        NaN        NaN  2104.648000       NaN  \n",
       "1.250000e-11        NaN        NaN        NaN  1996.647000       NaN  \n",
       "1.375000e-11        NaN        NaN        NaN  1903.729000       NaN  \n",
       "1.500000e-11        NaN        NaN        NaN  1822.684000       NaN  \n",
       "...                 ...        ...        ...          ...       ...  \n",
       "2.800000e+01   0.010814   0.001975   0.062356     0.000141  0.257150  \n",
       "2.850000e+01   0.010729   0.001960   0.061695     0.000130  0.255056  \n",
       "2.900000e+01   0.010632   0.001942   0.061031     0.000119  0.252959  \n",
       "2.950000e+01   0.010529   0.001924   0.060303     0.000109  0.250845  \n",
       "3.000000e+01   0.010419   0.001904   0.059545     0.000100  0.248755  \n",
       "\n",
       "[8742 rows x 45 columns]"
      ]
     },
     "execution_count": 1744,
     "metadata": {},
     "output_type": "execute_result"
    }
   ],
   "source": [
    "Energy_Grid"
   ]
  },
  {
   "cell_type": "code",
   "execution_count": 1745,
   "metadata": {},
   "outputs": [],
   "source": [
    "Energy_Grid[\"Data_18\"] = u233_ml.Data_18.values\n",
    "Energy_Grid[\"Data_102\"] = u233_ml.Data_102.values"
   ]
  },
  {
   "cell_type": "code",
   "execution_count": 1746,
   "metadata": {},
   "outputs": [],
   "source": [
    "Energy_Grid[\"Data_3\"] = Energy_Grid.sum(axis=1)"
   ]
  },
  {
   "cell_type": "code",
   "execution_count": 1747,
   "metadata": {},
   "outputs": [
    {
     "data": {
      "text/plain": [
       "[<matplotlib.lines.Line2D at 0x1a7222e75c8>]"
      ]
     },
     "execution_count": 1747,
     "metadata": {},
     "output_type": "execute_result"
    },
    {
     "data": {
      "image/png": "[encoded data removed]",
      "text/plain": [
       "<Figure size 432x288 with 1 Axes>"
      ]
     },
     "metadata": {
      "needs_background": "light"
     },
     "output_type": "display_data"
    }
   ],
   "source": [
    "plt.loglog(energies, Energy_Grid.Data_3)\n",
    "plt.loglog(energies, u233_ml.Data_3)"
   ]
  },
  {
   "cell_type": "code",
   "execution_count": 1735,
   "metadata": {},
   "outputs": [],
   "source": [
    "differences_mt3 = u233_ml[\"Data_3\"].values - Energy_Grid[\"Data_3\"].values\n",
    "differences_mt3 = pd.DataFrame({\"Differences_MT3\": differences_mt3})"
   ]
  },
  {
   "cell_type": "code",
   "execution_count": 1736,
   "metadata": {},
   "outputs": [
    {
     "data": {
      "text/html": [
       "<div>\n",
       "<style scoped>\n",
       "    .dataframe tbody tr th:only-of-type {\n",
       "        vertical-align: middle;\n",
       "    }\n",
       "\n",
       "    .dataframe tbody tr th {\n",
       "        vertical-align: top;\n",
       "    }\n",
       "\n",
       "    .dataframe thead th {\n",
       "        text-align: right;\n",
       "    }\n",
       "</style>\n",
       "<table border=\"1\" class=\"dataframe\">\n",
       "  <thead>\n",
       "    <tr style=\"text-align: right;\">\n",
       "      <th></th>\n",
       "      <th>Differences_MT3</th>\n",
       "    </tr>\n",
       "  </thead>\n",
       "  <tbody>\n",
       "    <tr>\n",
       "      <th>0</th>\n",
       "      <td>0.000010</td>\n",
       "    </tr>\n",
       "    <tr>\n",
       "      <th>1</th>\n",
       "      <td>-0.000010</td>\n",
       "    </tr>\n",
       "    <tr>\n",
       "      <th>2</th>\n",
       "      <td>-0.000020</td>\n",
       "    </tr>\n",
       "    <tr>\n",
       "      <th>3</th>\n",
       "      <td>0.000010</td>\n",
       "    </tr>\n",
       "    <tr>\n",
       "      <th>4</th>\n",
       "      <td>0.000040</td>\n",
       "    </tr>\n",
       "    <tr>\n",
       "      <th>...</th>\n",
       "      <td>...</td>\n",
       "    </tr>\n",
       "    <tr>\n",
       "      <th>8737</th>\n",
       "      <td>-0.458553</td>\n",
       "    </tr>\n",
       "    <tr>\n",
       "      <th>8738</th>\n",
       "      <td>-0.467241</td>\n",
       "    </tr>\n",
       "    <tr>\n",
       "      <th>8739</th>\n",
       "      <td>-0.480206</td>\n",
       "    </tr>\n",
       "    <tr>\n",
       "      <th>8740</th>\n",
       "      <td>-0.478863</td>\n",
       "    </tr>\n",
       "    <tr>\n",
       "      <th>8741</th>\n",
       "      <td>-0.488873</td>\n",
       "    </tr>\n",
       "  </tbody>\n",
       "</table>\n",
       "<p>8742 rows × 1 columns</p>\n",
       "</div>"
      ],
      "text/plain": [
       "      Differences_MT3\n",
       "0            0.000010\n",
       "1           -0.000010\n",
       "2           -0.000020\n",
       "3            0.000010\n",
       "4            0.000040\n",
       "...               ...\n",
       "8737        -0.458553\n",
       "8738        -0.467241\n",
       "8739        -0.480206\n",
       "8740        -0.478863\n",
       "8741        -0.488873\n",
       "\n",
       "[8742 rows x 1 columns]"
      ]
     },
     "execution_count": 1736,
     "metadata": {},
     "output_type": "execute_result"
    }
   ],
   "source": [
    "differences_mt3"
   ]
  },
  {
   "cell_type": "markdown",
   "metadata": {},
   "source": [
    "# Adjusting MT102"
   ]
  },
  {
   "cell_type": "code",
   "execution_count": 1740,
   "metadata": {},
   "outputs": [
    {
     "data": {
      "text/html": [
       "<div>\n",
       "<style scoped>\n",
       "    .dataframe tbody tr th:only-of-type {\n",
       "        vertical-align: middle;\n",
       "    }\n",
       "\n",
       "    .dataframe tbody tr th {\n",
       "        vertical-align: top;\n",
       "    }\n",
       "\n",
       "    .dataframe thead th {\n",
       "        text-align: right;\n",
       "    }\n",
       "</style>\n",
       "<table border=\"1\" class=\"dataframe\">\n",
       "  <thead>\n",
       "    <tr style=\"text-align: right;\">\n",
       "      <th></th>\n",
       "      <th>Energy</th>\n",
       "      <th>Data_18</th>\n",
       "      <th>Data_102</th>\n",
       "      <th>Data_1</th>\n",
       "      <th>Data_2</th>\n",
       "      <th>Data_3</th>\n",
       "    </tr>\n",
       "  </thead>\n",
       "  <tbody>\n",
       "    <tr>\n",
       "      <th>1183</th>\n",
       "      <td>0.000048</td>\n",
       "      <td>10.96836</td>\n",
       "      <td>21.0498</td>\n",
       "      <td>44.03900</td>\n",
       "      <td>16.92</td>\n",
       "      <td>20.45218</td>\n",
       "    </tr>\n",
       "    <tr>\n",
       "      <th>1184</th>\n",
       "      <td>0.000048</td>\n",
       "      <td>12.92560</td>\n",
       "      <td>21.0498</td>\n",
       "      <td>18.58522</td>\n",
       "      <td>16.92</td>\n",
       "      <td>12.30038</td>\n",
       "    </tr>\n",
       "    <tr>\n",
       "      <th>1187</th>\n",
       "      <td>0.000048</td>\n",
       "      <td>12.84122</td>\n",
       "      <td>25.7106</td>\n",
       "      <td>32.05600</td>\n",
       "      <td>16.92</td>\n",
       "      <td>15.55522</td>\n",
       "    </tr>\n",
       "    <tr>\n",
       "      <th>1188</th>\n",
       "      <td>0.000048</td>\n",
       "      <td>15.79600</td>\n",
       "      <td>25.7106</td>\n",
       "      <td>24.99370</td>\n",
       "      <td>16.92</td>\n",
       "      <td>15.38750</td>\n",
       "    </tr>\n",
       "    <tr>\n",
       "      <th>1189</th>\n",
       "      <td>0.000048</td>\n",
       "      <td>22.62840</td>\n",
       "      <td>27.9804</td>\n",
       "      <td>27.39390</td>\n",
       "      <td>16.92</td>\n",
       "      <td>27.39390</td>\n",
       "    </tr>\n",
       "    <tr>\n",
       "      <th>1775</th>\n",
       "      <td>0.000083</td>\n",
       "      <td>17.84182</td>\n",
       "      <td>26.8526</td>\n",
       "      <td>69.12720</td>\n",
       "      <td>16.92</td>\n",
       "      <td>21.94982</td>\n",
       "    </tr>\n",
       "    <tr>\n",
       "      <th>1777</th>\n",
       "      <td>0.000083</td>\n",
       "      <td>13.47270</td>\n",
       "      <td>26.8526</td>\n",
       "      <td>43.63240</td>\n",
       "      <td>16.92</td>\n",
       "      <td>13.47270</td>\n",
       "    </tr>\n",
       "    <tr>\n",
       "      <th>1778</th>\n",
       "      <td>0.000083</td>\n",
       "      <td>12.44118</td>\n",
       "      <td>26.8526</td>\n",
       "      <td>43.57940</td>\n",
       "      <td>16.92</td>\n",
       "      <td>12.44118</td>\n",
       "    </tr>\n",
       "    <tr>\n",
       "      <th>1779</th>\n",
       "      <td>0.000083</td>\n",
       "      <td>11.28598</td>\n",
       "      <td>26.8526</td>\n",
       "      <td>47.71460</td>\n",
       "      <td>16.92</td>\n",
       "      <td>14.40370</td>\n",
       "    </tr>\n",
       "    <tr>\n",
       "      <th>1784</th>\n",
       "      <td>0.000084</td>\n",
       "      <td>11.56740</td>\n",
       "      <td>13.6556</td>\n",
       "      <td>30.88140</td>\n",
       "      <td>16.92</td>\n",
       "      <td>13.64340</td>\n",
       "    </tr>\n",
       "    <tr>\n",
       "      <th>1786</th>\n",
       "      <td>0.000084</td>\n",
       "      <td>9.61640</td>\n",
       "      <td>13.6556</td>\n",
       "      <td>39.62060</td>\n",
       "      <td>16.92</td>\n",
       "      <td>13.14634</td>\n",
       "    </tr>\n",
       "    <tr>\n",
       "      <th>2049</th>\n",
       "      <td>0.000097</td>\n",
       "      <td>31.53740</td>\n",
       "      <td>34.0718</td>\n",
       "      <td>37.97640</td>\n",
       "      <td>16.92</td>\n",
       "      <td>25.70580</td>\n",
       "    </tr>\n",
       "    <tr>\n",
       "      <th>2840</th>\n",
       "      <td>0.000145</td>\n",
       "      <td>21.82020</td>\n",
       "      <td>14.0244</td>\n",
       "      <td>37.25252</td>\n",
       "      <td>16.92</td>\n",
       "      <td>10.78712</td>\n",
       "    </tr>\n",
       "    <tr>\n",
       "      <th>2873</th>\n",
       "      <td>0.000146</td>\n",
       "      <td>10.96076</td>\n",
       "      <td>11.6118</td>\n",
       "      <td>64.76540</td>\n",
       "      <td>16.92</td>\n",
       "      <td>10.08294</td>\n",
       "    </tr>\n",
       "  </tbody>\n",
       "</table>\n",
       "</div>"
      ],
      "text/plain": [
       "        Energy   Data_18  Data_102    Data_1  Data_2    Data_3\n",
       "1183  0.000048  10.96836   21.0498  44.03900   16.92  20.45218\n",
       "1184  0.000048  12.92560   21.0498  18.58522   16.92  12.30038\n",
       "1187  0.000048  12.84122   25.7106  32.05600   16.92  15.55522\n",
       "1188  0.000048  15.79600   25.7106  24.99370   16.92  15.38750\n",
       "1189  0.000048  22.62840   27.9804  27.39390   16.92  27.39390\n",
       "1775  0.000083  17.84182   26.8526  69.12720   16.92  21.94982\n",
       "1777  0.000083  13.47270   26.8526  43.63240   16.92  13.47270\n",
       "1778  0.000083  12.44118   26.8526  43.57940   16.92  12.44118\n",
       "1779  0.000083  11.28598   26.8526  47.71460   16.92  14.40370\n",
       "1784  0.000084  11.56740   13.6556  30.88140   16.92  13.64340\n",
       "1786  0.000084   9.61640   13.6556  39.62060   16.92  13.14634\n",
       "2049  0.000097  31.53740   34.0718  37.97640   16.92  25.70580\n",
       "2840  0.000145  21.82020   14.0244  37.25252   16.92  10.78712\n",
       "2873  0.000146  10.96076   11.6118  64.76540   16.92  10.08294"
      ]
     },
     "execution_count": 1740,
     "metadata": {},
     "output_type": "execute_result"
    }
   ],
   "source": [
    "u233_ml[u233_ml.Data_102 > u233_ml.Data_3]"
   ]
  },
  {
   "cell_type": "code",
   "execution_count": null,
   "metadata": {},
   "outputs": [],
   "source": [
    "def subsitute_mt102(x):\n",
    "    if x[0] < x[1]:\n",
    "        return x[0], x[0]\n",
    "    else:\n",
    "        return x[0], x[1]\n",
    "    \n",
    "u233_ml[[\"Data_3\", \"Data_102\"]] = u233_ml[[\"Data_3\", \"Data_102\"]].apply(subsitute_mt102, axis=1, result_type=\"expand\")"
   ]
  },
  {
   "cell_type": "markdown",
   "metadata": {},
   "source": [
    "# Other"
   ]
  },
  {
   "cell_type": "code",
   "execution_count": 1260,
   "metadata": {},
   "outputs": [
    {
     "name": "stdout",
     "output_type": "stream",
     "text": [
      "21591 Energy and 21591 Cross Section Points Avaliable.\n"
     ]
    }
   ],
   "source": [
    "mt_107, en_107, start_107, end_107 = sig_mt(107, mt_array, lsig)"
   ]
  },
  {
   "cell_type": "code",
   "execution_count": 1261,
   "metadata": {},
   "outputs": [],
   "source": [
    "sum800_849 = list(np.linspace(800, 849).astype(int))"
   ]
  },
  {
   "cell_type": "code",
   "execution_count": 1262,
   "metadata": {},
   "outputs": [
    {
     "name": "stdout",
     "output_type": "stream",
     "text": [
      "21591 Energy and 21591 Cross Section Points Avaliable.\n",
      "16825 Energy and 16825 Cross Section Points Avaliable.\n",
      "16825 Energy and 16825 Cross Section Points Avaliable.\n",
      "16824 Energy and 16824 Cross Section Points Avaliable.\n",
      "11978 Energy and 11978 Cross Section Points Avaliable.\n",
      "3903 Energy and 3903 Cross Section Points Avaliable.\n",
      "383 Energy and 383 Cross Section Points Avaliable.\n",
      "379 Energy and 379 Cross Section Points Avaliable.\n",
      "375 Energy and 375 Cross Section Points Avaliable.\n",
      "366 Energy and 366 Cross Section Points Avaliable.\n",
      "359 Energy and 359 Cross Section Points Avaliable.\n",
      "356 Energy and 356 Cross Section Points Avaliable.\n",
      "349 Energy and 349 Cross Section Points Avaliable.\n",
      "345 Energy and 345 Cross Section Points Avaliable.\n",
      "343 Energy and 343 Cross Section Points Avaliable.\n",
      "340 Energy and 340 Cross Section Points Avaliable.\n",
      "339 Energy and 339 Cross Section Points Avaliable.\n",
      "328 Energy and 328 Cross Section Points Avaliable.\n",
      "324 Energy and 324 Cross Section Points Avaliable.\n",
      "312 Energy and 312 Cross Section Points Avaliable.\n",
      "307 Energy and 307 Cross Section Points Avaliable.\n",
      "307 Energy and 307 Cross Section Points Avaliable.\n"
     ]
    }
   ],
   "source": [
    "Energy_Grid = pd.DataFrame({\"Energy\": en_107})\n",
    "Energy_Grid = Energy_Grid.set_index(\"Energy\")\n",
    "\n",
    "for i in sum800_849:\n",
    "    if i in mt_array:\n",
    "        xs, en, _, _ = sig_mt(i, mt_array, lsig)\n",
    "        to_add = pd.DataFrame({\"Energy\": en, \"Data_\" + str(i): xs})\n",
    "        to_add = to_add.set_index(\"Energy\")\n",
    "        Energy_Grid = pd.merge(Energy_Grid, to_add, left_index=True, right_index=True, how=\"outer\")"
   ]
  },
  {
   "cell_type": "code",
   "execution_count": 1263,
   "metadata": {},
   "outputs": [],
   "source": [
    "Energy_Grid[\"Data_107\"] = Energy_Grid.sum(axis=1)"
   ]
  },
  {
   "cell_type": "code",
   "execution_count": 1266,
   "metadata": {},
   "outputs": [
    {
     "data": {
      "text/plain": [
       "(160174, 181767)"
      ]
     },
     "execution_count": 1266,
     "metadata": {},
     "output_type": "execute_result"
    }
   ],
   "source": [
    "start_107, end_107"
   ]
  },
  {
   "cell_type": "code",
   "execution_count": 1268,
   "metadata": {},
   "outputs": [],
   "source": [
    "Energy_Grid[\"Data_107\"] = Energy_Grid[\"Data_107\"] * 2"
   ]
  },
  {
   "cell_type": "code",
   "execution_count": 1269,
   "metadata": {},
   "outputs": [
    {
     "data": {
      "text/plain": [
       "array([0.00805313, 0.00759256, 0.00720294, ..., 0.06135014, 0.05372125,\n",
       "       0.04723138])"
      ]
     },
     "execution_count": 1269,
     "metadata": {},
     "output_type": "execute_result"
    }
   ],
   "source": [
    "Energy_Grid[\"Data_107\"].values"
   ]
  },
  {
   "cell_type": "code",
   "execution_count": 1270,
   "metadata": {},
   "outputs": [],
   "source": [
    "xss[start_107+2:end_107] = Energy_Grid[\"Data_107\"].values"
   ]
  },
  {
   "cell_type": "code",
   "execution_count": 1291,
   "metadata": {},
   "outputs": [
    {
     "data": {
      "text/plain": [
       "array([1.000e-11, 1.125e-11, 1.250e-11, ..., 8.190e+02, 8.200e+02,\n",
       "       8.490e+02])"
      ]
     },
     "execution_count": 1291,
     "metadata": {},
     "output_type": "execute_result"
    }
   ],
   "source": [
    "xss"
   ]
  },
  {
   "cell_type": "code",
   "execution_count": 1295,
   "metadata": {},
   "outputs": [],
   "source": [
    "if (len(xss)/4 - len(xss)//4)/0.25 == 0:\n",
    "    print(\"It is wokring\")\n",
    "elif 4 - (len(xss)/4 - len(xss)//4)/0.25 == 3:\n",
    "    xss = np.append(xss, (np.nan, np.nan, np.nan))\n",
    "elif 4 - (len(xss)/4 - len(xss)//4)/0.25 == 2:\n",
    "    xss = np.append(xss, (np.nan, np.nan))\n",
    "elif 4 - (len(xss)/4 - len(xss)//4)/0.25 == 1:\n",
    "    xss = np.append(xss, (np.nan))"
   ]
  },
  {
   "cell_type": "code",
   "execution_count": 1296,
   "metadata": {},
   "outputs": [
    {
     "data": {
      "text/plain": [
       "array([1.000e-11, 1.125e-11, 1.250e-11, ...,       nan,       nan,\n",
       "             nan])"
      ]
     },
     "execution_count": 1296,
     "metadata": {},
     "output_type": "execute_result"
    }
   ],
   "source": [
    "xss"
   ]
  },
  {
   "cell_type": "code",
   "execution_count": 1321,
   "metadata": {},
   "outputs": [],
   "source": [
    "to_write = pd.DataFrame(xss.reshape((-1,4)))"
   ]
  },
  {
   "cell_type": "code",
   "execution_count": 1322,
   "metadata": {},
   "outputs": [],
   "source": [
    "to_write.columns = [\"column_1\", \"column_2\", \"column_3\", \"column_4\"]"
   ]
  },
  {
   "cell_type": "code",
   "execution_count": 1323,
   "metadata": {},
   "outputs": [],
   "source": [
    "to_write[\"column_0\"] = \"\""
   ]
  },
  {
   "cell_type": "code",
   "execution_count": 1324,
   "metadata": {},
   "outputs": [],
   "source": [
    "to_write = to_write[[\"column_0\", \"column_1\", \"column_2\", \"column_3\", \"column_4\"]]"
   ]
  },
  {
   "cell_type": "code",
   "execution_count": 1325,
   "metadata": {},
   "outputs": [
    {
     "data": {
      "text/plain": [
       "''"
      ]
     },
     "execution_count": 1325,
     "metadata": {},
     "output_type": "execute_result"
    }
   ],
   "source": [
    "to_write.iloc[0,0]"
   ]
  },
  {
   "cell_type": "code",
   "execution_count": 1326,
   "metadata": {},
   "outputs": [],
   "source": [
    "to_write.to_csv(\"testing.txt\", float_format=\"%.11E\", sep=\"\\t\", index=False, header=False)\n",
    "with open('testing.txt') as fin, open('testing_notab.txt', 'w') as fout:\n",
    "    for line in fin:\n",
    "        fout.write(line.replace('\\t', '   '))"
   ]
  },
  {
   "cell_type": "code",
   "execution_count": 1303,
   "metadata": {},
   "outputs": [
    {
     "data": {
      "text/plain": [
       "array([ 16.,  22.,  28.,  32.,  51.,  52.,  53.,  54.,  55.,  56.,  57.,\n",
       "        58.,  59.,  60.,  61.,  62.,  63.,  64.,  65.,  66.,  67.,  68.,\n",
       "        69.,  70.,  71.,  72.,  73.,  74.,  75.,  76.,  77.,  78.,  79.,\n",
       "        80.,  91., 102., 103., 104., 105., 107., 111., 112., 203., 204.,\n",
       "       205., 207., 600., 601., 602., 603., 604., 605., 606., 607., 608.,\n",
       "       609., 610., 611., 612., 613., 614., 615., 616., 617., 618., 619.,\n",
       "       620., 621., 622., 623., 624., 625., 626., 627., 628., 629., 649.,\n",
       "       650., 651., 652., 653., 654., 655., 656., 657., 658., 659., 660.,\n",
       "       661., 662., 663., 664., 665., 666., 667., 668., 669., 670., 671.,\n",
       "       672., 673., 674., 675., 676., 677., 678., 679., 680., 699., 700.,\n",
       "       701., 702., 703., 704., 705., 706., 707., 708., 709., 710., 711.,\n",
       "       712., 713., 714., 715., 716., 717., 718., 719., 720., 721., 722.,\n",
       "       723., 724., 725., 726., 727., 728., 729., 730., 749., 800., 801.,\n",
       "       802., 803., 804., 805., 806., 807., 808., 809., 810., 811., 812.,\n",
       "       813., 814., 815., 816., 817., 818., 819., 820., 849.])"
      ]
     },
     "execution_count": 1303,
     "metadata": {},
     "output_type": "execute_result"
    }
   ],
   "source": [
    "mt_array"
   ]
  },
  {
   "cell_type": "raw",
   "metadata": {},
   "source": [
    "\"\"\"\n",
    "calc 107 = 800:849\n",
    "calc 106 = 750:799\n",
    "calc 105 = 700:749\n",
    "calc 104 = 650:699\n",
    "calc 103 = 600:649 #  if I modify 103 then calc 600 103 - 601:649\n",
    "calc 101 = 102:117\n",
    "calc 18 = 19:21\n",
    "calc 18 = 18+38\n",
    "calc 27 = 18+101\n",
    "make4\n",
    "calc 3 = 4+16\n",
    "calc 3 = 3+22\n",
    "calc 3 = 3+28\n",
    "calc 3 = 3+32\n",
    "calc 3 = 3+102\n",
    "calc 3 = 3+103\n",
    "calc 3 = 3+104\n",
    "calc 3 = 3+105\n",
    "calc 3 = 3+106\n",
    "calc 3 = 3+107\n",
    "calc 3 = 3+111\n",
    "calc 3 = 3+112\n",
    "calc 2 = 1-3  \n",
    "quit\n",
    "\"\"\")"
   ]
  },
  {
   "cell_type": "markdown",
   "metadata": {},
   "source": [
    "# SAVING WITH PADDING"
   ]
  },
  {
   "cell_type": "code",
   "execution_count": 573,
   "metadata": {},
   "outputs": [],
   "source": [
    "nsx_string = nsx.copy()"
   ]
  },
  {
   "cell_type": "code",
   "execution_count": 574,
   "metadata": {},
   "outputs": [],
   "source": [
    "nsx_string = nsx_string.astype(str)"
   ]
  },
  {
   "cell_type": "code",
   "execution_count": 575,
   "metadata": {},
   "outputs": [],
   "source": [
    "for x in nsx_string.columns:\n",
    "    nsx_string[x] = nsx_string[x].str.pad(9, side='left')"
   ]
  },
  {
   "cell_type": "code",
   "execution_count": 577,
   "metadata": {},
   "outputs": [],
   "source": [
    "nsx_string.to_csv(\"testing_df.txt\", sep='\\t', index=False)"
   ]
  },
  {
   "cell_type": "code",
   "execution_count": 579,
   "metadata": {},
   "outputs": [],
   "source": [
    "with open('testing_df.txt') as fin, open('testing_df_notab.txt', 'w') as fout:\n",
    "    for line in fin:\n",
    "        fout.write(line.replace('\\t', ''))"
   ]
  },
  {
   "cell_type": "markdown",
   "metadata": {},
   "source": [
    "# SAVING XSS"
   ]
  },
  {
   "cell_type": "code",
   "execution_count": 605,
   "metadata": {},
   "outputs": [],
   "source": [
    "xss2 = pd.read_csv(\"./17035ENDF7.ace\", delim_whitespace=True, skiprows=12, nrows=lines, header=None) # .values.flatten()\n",
    "# xss2 = testing_xss[~np.isnan(testing_xss)]"
   ]
  },
  {
   "cell_type": "code",
   "execution_count": 635,
   "metadata": {},
   "outputs": [],
   "source": [
    "xss2.to_csv(\"to_string.txt\", float_format=\"%.11E\", sep=\"\\t\", index=False, header=False)"
   ]
  },
  {
   "cell_type": "code",
   "execution_count": 636,
   "metadata": {},
   "outputs": [],
   "source": [
    "# with open('testing_fortran.txt') as fin, open('testing_fortran_E.txt', 'w') as fout:\n",
    "#     for line in fin:\n",
    "#         fout.write(line.replace('e', 'E'))"
   ]
  },
  {
   "cell_type": "markdown",
   "metadata": {},
   "source": [
    "# Testing Replacement"
   ]
  },
  {
   "cell_type": "code",
   "execution_count": 609,
   "metadata": {},
   "outputs": [],
   "source": [
    "replacement = pd.read_csv(\"./17035ENDF7.ace\", delim_whitespace=True, skiprows=12, nrows=lines, header=None)"
   ]
  },
  {
   "cell_type": "code",
   "execution_count": 633,
   "metadata": {},
   "outputs": [
    {
     "data": {
      "text/html": [
       "<div>\n",
       "<style scoped>\n",
       "    .dataframe tbody tr th:only-of-type {\n",
       "        vertical-align: middle;\n",
       "    }\n",
       "\n",
       "    .dataframe tbody tr th {\n",
       "        vertical-align: top;\n",
       "    }\n",
       "\n",
       "    .dataframe thead th {\n",
       "        text-align: right;\n",
       "    }\n",
       "</style>\n",
       "<table border=\"1\" class=\"dataframe\">\n",
       "  <thead>\n",
       "    <tr style=\"text-align: right;\">\n",
       "      <th></th>\n",
       "      <th>0</th>\n",
       "      <th>1</th>\n",
       "      <th>2</th>\n",
       "      <th>3</th>\n",
       "    </tr>\n",
       "  </thead>\n",
       "  <tbody>\n",
       "    <tr>\n",
       "      <th>0</th>\n",
       "      <td>1.000000e-11</td>\n",
       "      <td>1.125000e-11</td>\n",
       "      <td>1.250000e-11</td>\n",
       "      <td>1.375000e-11</td>\n",
       "    </tr>\n",
       "    <tr>\n",
       "      <th>1</th>\n",
       "      <td>1.500000e-11</td>\n",
       "      <td>1.625000e-11</td>\n",
       "      <td>1.750000e-11</td>\n",
       "      <td>2.000000e-11</td>\n",
       "    </tr>\n",
       "    <tr>\n",
       "      <th>2</th>\n",
       "      <td>2.187500e-11</td>\n",
       "      <td>2.375000e-11</td>\n",
       "      <td>2.562500e-11</td>\n",
       "      <td>2.750000e-11</td>\n",
       "    </tr>\n",
       "    <tr>\n",
       "      <th>3</th>\n",
       "      <td>3.125000e-11</td>\n",
       "      <td>5.000000e+00</td>\n",
       "      <td>3.875000e-11</td>\n",
       "      <td>4.250000e-11</td>\n",
       "    </tr>\n",
       "    <tr>\n",
       "      <th>4</th>\n",
       "      <td>4.615080e-11</td>\n",
       "      <td>4.625000e-11</td>\n",
       "      <td>4.648438e-11</td>\n",
       "      <td>4.671875e-11</td>\n",
       "    </tr>\n",
       "  </tbody>\n",
       "</table>\n",
       "</div>"
      ],
      "text/plain": [
       "              0             1             2             3\n",
       "0  1.000000e-11  1.125000e-11  1.250000e-11  1.375000e-11\n",
       "1  1.500000e-11  1.625000e-11  1.750000e-11  2.000000e-11\n",
       "2  2.187500e-11  2.375000e-11  2.562500e-11  2.750000e-11\n",
       "3  3.125000e-11  5.000000e+00  3.875000e-11  4.250000e-11\n",
       "4  4.615080e-11  4.625000e-11  4.648438e-11  4.671875e-11"
      ]
     },
     "execution_count": 633,
     "metadata": {},
     "output_type": "execute_result"
    }
   ],
   "source": [
    "replacement.head()"
   ]
  },
  {
   "cell_type": "code",
   "execution_count": 629,
   "metadata": {},
   "outputs": [],
   "source": [
    "replacement.iat[round(13/4), int((13/4 - round(13/4))/0.25)] = 5"
   ]
  },
  {
   "cell_type": "code",
   "execution_count": 634,
   "metadata": {},
   "outputs": [
    {
     "data": {
      "text/html": [
       "<div>\n",
       "<style scoped>\n",
       "    .dataframe tbody tr th:only-of-type {\n",
       "        vertical-align: middle;\n",
       "    }\n",
       "\n",
       "    .dataframe tbody tr th {\n",
       "        vertical-align: top;\n",
       "    }\n",
       "\n",
       "    .dataframe thead th {\n",
       "        text-align: right;\n",
       "    }\n",
       "</style>\n",
       "<table border=\"1\" class=\"dataframe\">\n",
       "  <thead>\n",
       "    <tr style=\"text-align: right;\">\n",
       "      <th></th>\n",
       "      <th>0</th>\n",
       "      <th>1</th>\n",
       "      <th>2</th>\n",
       "      <th>3</th>\n",
       "    </tr>\n",
       "  </thead>\n",
       "  <tbody>\n",
       "    <tr>\n",
       "      <th>0</th>\n",
       "      <td>1.000000e-11</td>\n",
       "      <td>1.125000e-11</td>\n",
       "      <td>1.250000e-11</td>\n",
       "      <td>1.375000e-11</td>\n",
       "    </tr>\n",
       "    <tr>\n",
       "      <th>1</th>\n",
       "      <td>1.500000e-11</td>\n",
       "      <td>1.625000e-11</td>\n",
       "      <td>1.750000e-11</td>\n",
       "      <td>2.000000e-11</td>\n",
       "    </tr>\n",
       "    <tr>\n",
       "      <th>2</th>\n",
       "      <td>2.187500e-11</td>\n",
       "      <td>2.375000e-11</td>\n",
       "      <td>2.562500e-11</td>\n",
       "      <td>2.750000e-11</td>\n",
       "    </tr>\n",
       "    <tr>\n",
       "      <th>3</th>\n",
       "      <td>3.125000e-11</td>\n",
       "      <td>5.000000e+00</td>\n",
       "      <td>3.875000e-11</td>\n",
       "      <td>4.250000e-11</td>\n",
       "    </tr>\n",
       "    <tr>\n",
       "      <th>4</th>\n",
       "      <td>4.615080e-11</td>\n",
       "      <td>4.625000e-11</td>\n",
       "      <td>4.648438e-11</td>\n",
       "      <td>4.671875e-11</td>\n",
       "    </tr>\n",
       "  </tbody>\n",
       "</table>\n",
       "</div>"
      ],
      "text/plain": [
       "              0             1             2             3\n",
       "0  1.000000e-11  1.125000e-11  1.250000e-11  1.375000e-11\n",
       "1  1.500000e-11  1.625000e-11  1.750000e-11  2.000000e-11\n",
       "2  2.187500e-11  2.375000e-11  2.562500e-11  2.750000e-11\n",
       "3  3.125000e-11  5.000000e+00  3.875000e-11  4.250000e-11\n",
       "4  4.615080e-11  4.625000e-11  4.648438e-11  4.671875e-11"
      ]
     },
     "execution_count": 634,
     "metadata": {},
     "output_type": "execute_result"
    }
   ],
   "source": [
    "replacement.head()"
   ]
  },
  {
   "cell_type": "markdown",
   "metadata": {},
   "source": [
    "# Automating"
   ]
  },
  {
   "cell_type": "code",
   "execution_count": 525,
   "metadata": {},
   "outputs": [],
   "source": [
    "dataframes_chlorine_35 = {}\n",
    "data_arrays_chlorine_35 = {}\n",
    "\n",
    "ace = \"./17035ENDF7.ace\"\n",
    "with open(ace, \"r\") as ace_file:\n",
    "    nsx_dataframes = {}\n",
    "    jxs_dataframes = {}\n",
    "    xss_dataframes = {}\n",
    "    points = []\n",
    "    indexes = []\n",
    "    for index, line in enumerate(ace_file):\n",
    "        if line.startswith(\" 17035.\"):\n",
    "            points.append(line[1:10])\n",
    "            indexes.append(index)\n",
    "    for x in range(0, len(indexes) - 1):\n",
    "        nsx = pd.read_csv(ace, delim_whitespace=True, skiprows=indexes[x]+6, nrows=2, header=None) # .values.flatten()\n",
    "        jxs = pd.read_csv(ace, delim_whitespace=True, skiprows=indexes[x]+8, nrows=4, header=None)\n",
    "        xss = pd.read_csv(ace, delim_whitespace=True, skiprows=indexes[x]+12, nrows=indexes[x+1]-indexes[x]-12, header=None).values.flatten()\n",
    "        xss = testing_xss[~np.isnan(testing_xss)]\n",
    "        nsx_dataframes[points[x]] = nsx\n",
    "        jxs_dataframes[points[x]] = jxs\n",
    "        xss_dataframes[points[x]] = xss"
   ]
  },
  {
   "cell_type": "code",
   "execution_count": null,
   "metadata": {},
   "outputs": [],
   "source": [
    "# XSS\n",
    "xss_length = int(np.ceil(nsx.iloc[0,0]/4))  # (1)\n",
    "nes = nsx.iloc[0,2] # NES (3)\n",
    "ntr = nsx.iloc[0,3] # NTR: Number of Reactions excluding elastic scattering MT2 (4)\n",
    "nr = nsx.iloc[0,4] # NR: # of reactions having second. neutrons exlcuding elastic scattering (5)\n",
    "ntrp = nsx.iloc[0,5] # NTRP: # of photon production reactions (6)\n",
    "\n",
    "# JSX These are the indexes in the continuous array where stuff starts\n",
    "energy_pointer = jxs.iloc[0,0] - 1           # ESZ (1)\n",
    "fission_v_data = jxs.iloc[0,1] - 1           # NU (2)\n",
    "mt_array_pointer = jxs.iloc[0,2] - 1         # MTR (3)\n",
    "q_values_pointer = jxs.iloc[0,3] - 1         # LQR (4)\n",
    "rx_type_array = jxs.iloc[0,4] - 1            # TYR (5)\n",
    "xs_pointers = jxs.iloc[0,5] - 1              # LSIG (6)\n",
    "xs_table_pointer = jxs.iloc[0,6] - 1         # SIG (7)\n",
    "mt_18_pointer = (jxs.iloc[2,4] - 1).clip(0)  # FIS (21)\n",
    "\n",
    "q_values_per_mt = xss[q_values_pointer:q_values_pointer+ntr]\n",
    "frames = xss[rx_type_array:rx_type_array+ntr]\n",
    "\n",
    "energies = xss[energy_pointer:energy_pointer+nes]\n",
    "mt1 = xss[nes:nes*2]\n",
    "mt101 = xss[nes*2:nes*3]\n",
    "mt2 = xss[nes*3:nes*4]\n",
    "avg_heating = xss[nes*4:nes*5]\n",
    "\n",
    "LMT = mt_array_pointer # LENGTH OF REACTION TYPES\n",
    "NMT = ntr # MT REACTIONS\n",
    "LXS = xs_pointers\n",
    "\n",
    "mt_array = xss[mt_array_pointer:mt_array_pointer+ntr]\n",
    "\n",
    "lsig = xss[LXS:LXS+NMT].astype(int)\n",
    "\n",
    "sig = xss[xs_table_pointer:xs_table_pointer + 100]\n",
    "\n",
    "def sig_mt(mt):\n",
    "    mt_data = xss[xs_table_pointer + lsig[mt] - 1 : xs_table_pointer + lsig[mt+1] - 1] \n",
    "    energy_index = int(mt_data[0])\n",
    "    energy_points = int(mt_data[1])\n",
    "    xs_data = mt_data[2:]\n",
    "    # We substract from energy_index since it is from ACE to Python\n",
    "    energy = xss[energy_index - 1:energy_index+energy_points-1]\n",
    "    print(\"{} Energy and {} Cross Section Points Avaliable.\".format(len(energy), len(xs_data)))\n",
    "    return xs_data, energy"
   ]
  },
  {
   "cell_type": "code",
   "execution_count": null,
   "metadata": {},
   "outputs": [],
   "source": []
  }
 ],
 "metadata": {
  "kernelspec": {
   "display_name": "Python 3",
   "language": "python",
   "name": "python3"
  },
  "language_info": {
   "codemirror_mode": {
    "name": "ipython",
    "version": 3
   },
   "file_extension": ".py",
   "mimetype": "text/x-python",
   "name": "python",
   "nbconvert_exporter": "python",
   "pygments_lexer": "ipython3",
   "version": "3.7.7"
  }
 },
 "nbformat": 4,
 "nbformat_minor": 4
}
