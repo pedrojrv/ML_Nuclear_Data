{
 "cells": [
  {
   "cell_type": "markdown",
   "metadata": {},
   "source": [
    "# ENSDF and RIPL Parsing\n",
    "\n",
    "This notebook demonstrates the use of the ENSDF utilities to parse and generate the ENSDF csv files. It also demonstrates the use of the RIPL level parameteres file to cut-off the ENSDF csv file."
   ]
  },
  {
   "cell_type": "code",
   "execution_count": 1,
   "metadata": {
    "ExecuteTime": {
     "end_time": "2021-01-02T03:31:27.670897Z",
     "start_time": "2021-01-02T03:31:26.423898Z"
    }
   },
   "outputs": [],
   "source": [
    "import sys\n",
    "sys.path.append(\"../..\")\n",
    "\n",
    "import nucml.datasets as nuc_data\n",
    "import nucml.ensdf.parsing_utilities as ensdf_parser"
   ]
  },
  {
   "cell_type": "code",
   "execution_count": 2,
   "metadata": {
    "ExecuteTime": {
     "end_time": "2021-01-02T03:31:27.684400Z",
     "start_time": "2021-01-02T03:31:27.672398Z"
    }
   },
   "outputs": [
    {
     "data": {
      "text/plain": [
       "<module 'nucml.ensdf.parsing_utilities' from '../..\\\\nucml\\\\ensdf\\\\parsing_utilities.py'>"
      ]
     },
     "execution_count": 2,
     "metadata": {},
     "output_type": "execute_result"
    }
   ],
   "source": [
    "import importlib\n",
    "importlib.reload(nuc_data)\n",
    "importlib.reload(ensdf_parser)"
   ]
  },
  {
   "cell_type": "markdown",
   "metadata": {},
   "source": [
    "# Parsing ENSDF/RIPL Data\n",
    "\n",
    "The ENSDF data is being extracted from the RIPL formated zXXX.dat files. "
   ]
  },
  {
   "cell_type": "code",
   "execution_count": 3,
   "metadata": {
    "ExecuteTime": {
     "end_time": "2021-01-02T03:31:27.689401Z",
     "start_time": "2021-01-02T03:31:27.686901Z"
    }
   },
   "outputs": [],
   "source": [
    "# the `nuc_data` module contains all unique exfor elements\n",
    "elements = nuc_data.exfor_elements"
   ]
  },
  {
   "cell_type": "markdown",
   "metadata": {},
   "source": [
    "The `get_ripl_names()` function allows to get the path to all `.dat` files in the levels directory. We will use these to create our dataset. "
   ]
  },
  {
   "cell_type": "code",
   "execution_count": 5,
   "metadata": {
    "ExecuteTime": {
     "end_time": "2021-01-02T03:31:32.351360Z",
     "start_time": "2021-01-02T03:31:32.343857Z"
    }
   },
   "outputs": [
    {
     "name": "stderr",
     "output_type": "stream",
     "text": [
      "INFO:root:RIPL: Searching ../RIPL_3/levels/levels/ directory for .dat files...\n",
      "INFO:root:RIPL: Finished. Found 118 .dat files.\n"
     ]
    }
   ],
   "source": [
    "ripl_levels_dir = \"../RIPL_3/levels/levels/\"\n",
    "names = ensdf_parser.get_ripl_dat_paths(ripl_levels_dir)"
   ]
  },
  {
   "cell_type": "markdown",
   "metadata": {},
   "source": [
    "We can now extract the header for each file which contains information we will be useful like the number of levels per isotope. "
   ]
  },
  {
   "cell_type": "code",
   "execution_count": 57,
   "metadata": {
    "ExecuteTime": {
     "end_time": "2020-08-14T01:25:11.235940Z",
     "start_time": "2020-08-14T01:23:05.296130Z"
    }
   },
   "outputs": [
    {
     "name": "stderr",
     "output_type": "stream",
     "text": [
      "INFO:root:HEADER: Extracting ENSDF headers ...\n",
      "INFO:root:HEADER: Finished. Saved to ../tmp/all_ensdf_headers_formatted.csv\n"
     ]
    }
   ],
   "source": [
    "saving_directory = \"../CSV_Files/\"\n",
    "ensdf_utils.get_headers(names, saving_directory)"
   ]
  },
  {
   "cell_type": "markdown",
   "metadata": {},
   "source": [
    "We now specify the directory we're the element-wise ensdf files will be stored. Whatever directory is specified, the `generate_elemental_ensdf()` function will create three directories where different types of files will be stored."
   ]
  },
  {
   "cell_type": "code",
   "execution_count": 60,
   "metadata": {
    "ExecuteTime": {
     "end_time": "2020-08-14T02:51:35.933630Z",
     "start_time": "2020-08-14T02:43:55.122163Z"
    }
   },
   "outputs": [
    {
     "name": "stderr",
     "output_type": "stream",
     "text": [
      "INFO:root:GEN UTILS: Directory already exists. Re-initializing...\n",
      "INFO:root:GEN UTILS: Directory restarted.\n",
      "INFO:root:ENSDF Elemental: Extracting ENSDF data per element with header...\n",
      "INFO:root:GEN UTILS: Directory already exists. Re-initializing...\n",
      "INFO:root:GEN UTILS: Directory restarted.\n",
      "INFO:root:ENSDF Elemental: Removing header from ENSDF elemental files...\n",
      "INFO:root:GEN UTILS: Directory already exists. Re-initializing...\n",
      "INFO:root:GEN UTILS: Directory restarted.\n",
      "INFO:root:ENSDF Elemental: Formatting files...\n",
      "INFO:root:ENSDF Elemental: Finished formating data.\n"
     ]
    }
   ],
   "source": [
    "elemental_dir = \"../Elemental_ENSDF/\"\n",
    "ensdf_utils.generate_elemental_ensdf(names, saving_directory, elemental_dir)"
   ]
  },
  {
   "cell_type": "markdown",
   "metadata": {},
   "source": [
    "The elemental files contain all known nuclear levels, if for some reason you only need a ground state CSV file. This can be created using the `get_stable_states()` utility."
   ]
  },
  {
   "cell_type": "code",
   "execution_count": 67,
   "metadata": {
    "ExecuteTime": {
     "end_time": "2020-08-14T04:03:43.954328Z",
     "start_time": "2020-08-14T03:59:13.504978Z"
    }
   },
   "outputs": [
    {
     "name": "stdout",
     "output_type": "stream",
     "text": [
      "STABLE STATES: Extracting stable states from .dat files...\n",
      "STABLE STATES: Formatting text file...\n",
      "STABLE STATES: Finished.\n"
     ]
    }
   ],
   "source": [
    "ensdf_utils.get_stable_states(names, saving_directory)"
   ]
  },
  {
   "cell_type": "markdown",
   "metadata": {},
   "source": [
    "With the elemental files created, we can know get a single ENSDF file containing all nuclear levels for all isotopes."
   ]
  },
  {
   "cell_type": "code",
   "execution_count": 69,
   "metadata": {
    "ExecuteTime": {
     "end_time": "2020-08-14T08:04:50.113432Z",
     "start_time": "2020-08-14T08:04:42.091407Z"
    }
   },
   "outputs": [
    {
     "name": "stderr",
     "output_type": "stream",
     "text": [
      "INFO:root:Creatign DataFrame with Basic ENSDF data ...\n",
      "INFO:root:Finished creating list of dataframes.\n"
     ]
    }
   ],
   "source": [
    "ensdf_utils.generate_ensdf_csv(saving_directory, elemental_dir)"
   ]
  },
  {
   "cell_type": "markdown",
   "metadata": {},
   "source": [
    "# Cutting ENSDF using RIPL CutOff Parameters\n",
    "\n",
    "We can easily remove nuclear levels above the given parameteres using the the RIPL level-params.dat file. If you wish to create your own cut-off parameters be sure to modify the level-params.dat following the original formatting, otherwise this script will not work.\n",
    "\n",
    "First we start by parsing the levels-params.data file from RIPL:"
   ]
  },
  {
   "cell_type": "code",
   "execution_count": null,
   "metadata": {},
   "outputs": [],
   "source": [
    "ripl_level_params_dir = \"../RIPL_3/levels/\"\n",
    "ensdf_utils.get_level_parameters(ripl_level_params_dir, saving_directory=saving_directory)"
   ]
  },
  {
   "cell_type": "markdown",
   "metadata": {},
   "source": [
    "Now we can use the created cut-off csv file to remove nuclear levels from the previuosly created ensdf.csv file."
   ]
  },
  {
   "cell_type": "code",
   "execution_count": 87,
   "metadata": {
    "ExecuteTime": {
     "end_time": "2020-08-15T18:44:53.138108Z",
     "start_time": "2020-08-15T18:44:44.275928Z"
    }
   },
   "outputs": [
    {
     "name": "stderr",
     "output_type": "stream",
     "text": [
      "INFO:root:ENSDF CutOff: Loading ENSDF and RIPL parameters...\n",
      "INFO:root:ENSDF CutOff: Cutting off ENSDF...\n",
      "INFO:root:ENSDF CutOff: Finished.\n"
     ]
    }
   ],
   "source": [
    "elemental_hf_dir = \"../Elemental_ENSDF/Elemental_ENSDF_no_Header_F/\"\n",
    "ensdf_utils.generate_cutoff_ensdf(saving_directory, elemental_hf_dir)"
   ]
  }
 ],
 "metadata": {
  "kernelspec": {
   "display_name": "Python 3",
   "language": "python",
   "name": "python3"
  },
  "language_info": {
   "codemirror_mode": {
    "name": "ipython",
    "version": 3
   },
   "file_extension": ".py",
   "mimetype": "text/x-python",
   "name": "python",
   "nbconvert_exporter": "python",
   "pygments_lexer": "ipython3",
   "version": "3.7.9"
  }
 },
 "nbformat": 4,
 "nbformat_minor": 4
}
