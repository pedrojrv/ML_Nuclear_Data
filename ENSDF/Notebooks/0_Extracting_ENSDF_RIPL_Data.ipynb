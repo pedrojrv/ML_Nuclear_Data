{
 "cells": [
  {
   "cell_type": "markdown",
   "metadata": {},
   "source": [
    "# ENSDF and RIPL Parsing\n",
    "\n",
    "This notebook demonstrates the use of the ENSDF utilities to parse and generate the ENSDF csv files. It also demonstrates the use of the RIPL level parameteres file to cut-off the ENSDF csv file."
   ]
  },
  {
   "cell_type": "code",
   "execution_count": 78,
   "metadata": {
    "ExecuteTime": {
     "end_time": "2021-01-03T00:55:55.654628Z",
     "start_time": "2021-01-03T00:55:55.651623Z"
    }
   },
   "outputs": [],
   "source": [
    "import sys\n",
    "sys.path.append(\"../..\")\n",
    "\n",
    "import nucml.datasets as nuc_data\n",
    "import nucml.ensdf.parsing_utilities as ensdf_parser"
   ]
  },
  {
   "cell_type": "code",
   "execution_count": 79,
   "metadata": {
    "ExecuteTime": {
     "end_time": "2021-01-03T00:55:55.863160Z",
     "start_time": "2021-01-03T00:55:55.851658Z"
    }
   },
   "outputs": [
    {
     "data": {
      "text/plain": [
       "<module 'nucml.ensdf.parsing_utilities' from '../..\\\\nucml\\\\ensdf\\\\parsing_utilities.py'>"
      ]
     },
     "execution_count": 79,
     "metadata": {},
     "output_type": "execute_result"
    }
   ],
   "source": [
    "import importlib\n",
    "importlib.reload(nuc_data)\n",
    "importlib.reload(ensdf_parser)"
   ]
  },
  {
   "cell_type": "markdown",
   "metadata": {},
   "source": [
    "# Searching for .dat Files\n",
    "\n",
    "The ENSDF data is being extracted from the RIPL formated zXXX.dat files. "
   ]
  },
  {
   "cell_type": "code",
   "execution_count": 26,
   "metadata": {
    "ExecuteTime": {
     "end_time": "2021-01-03T00:04:04.839359Z",
     "start_time": "2021-01-03T00:04:04.836359Z"
    }
   },
   "outputs": [],
   "source": [
    "# the `nuc_data` module contains all unique exfor elements\n",
    "elements = nuc_data.exfor_elements"
   ]
  },
  {
   "cell_type": "markdown",
   "metadata": {},
   "source": [
    "The `get_ripl_names()` function allows to get the path to all `.dat` files in the levels directory. We will use these to create our dataset. "
   ]
  },
  {
   "cell_type": "code",
   "execution_count": 27,
   "metadata": {
    "ExecuteTime": {
     "end_time": "2021-01-03T00:04:05.159843Z",
     "start_time": "2021-01-03T00:04:05.156843Z"
    }
   },
   "outputs": [],
   "source": [
    "ripl_levels_dir = \"../RIPL/levels/levels/\""
   ]
  },
  {
   "cell_type": "code",
   "execution_count": 28,
   "metadata": {
    "ExecuteTime": {
     "end_time": "2021-01-03T00:04:05.372245Z",
     "start_time": "2021-01-03T00:04:05.365242Z"
    }
   },
   "outputs": [
    {
     "name": "stderr",
     "output_type": "stream",
     "text": [
      "INFO:root:RIPL: Searching ../RIPL/levels/levels/ directory for .dat files...\n",
      "INFO:root:RIPL: Finished. Found 118 .dat files.\n"
     ]
    }
   ],
   "source": [
    "names = ensdf_parser.get_ripl_dat_paths(ripl_levels_dir)"
   ]
  },
  {
   "cell_type": "markdown",
   "metadata": {},
   "source": [
    "# Extracting the Headers Only"
   ]
  },
  {
   "cell_type": "markdown",
   "metadata": {},
   "source": [
    "We can now extract the header for each file which contains information we will be useful like the number of levels per isotope. "
   ]
  },
  {
   "cell_type": "code",
   "execution_count": 29,
   "metadata": {
    "ExecuteTime": {
     "end_time": "2021-01-03T00:04:06.207485Z",
     "start_time": "2021-01-03T00:04:06.204485Z"
    }
   },
   "outputs": [],
   "source": [
    "saving_directory = \"../CSV_Files/\""
   ]
  },
  {
   "cell_type": "code",
   "execution_count": 30,
   "metadata": {
    "ExecuteTime": {
     "end_time": "2021-01-03T00:06:11.850920Z",
     "start_time": "2021-01-03T00:04:06.388845Z"
    }
   },
   "outputs": [
    {
     "name": "stderr",
     "output_type": "stream",
     "text": [
      "INFO:root:ENSDF: Extracting headers ...\n",
      "INFO:root:ENSDF: Finished. Saved to ../CSV_Files/all_ensdf_headers_formatted.csv\n"
     ]
    }
   ],
   "source": [
    "ensdf_parser.get_headers(names, saving_directory)"
   ]
  },
  {
   "cell_type": "markdown",
   "metadata": {},
   "source": [
    "# Generating Elemental Files"
   ]
  },
  {
   "cell_type": "markdown",
   "metadata": {},
   "source": [
    "We now specify the directory we're the element-wise ensdf files will be stored. Currently, the .dat files are stored proton-wise. Whatever directory is specified, the `generate_elemental_ensdf()` function will create three directories where different types of files will be stored."
   ]
  },
  {
   "cell_type": "code",
   "execution_count": 31,
   "metadata": {
    "ExecuteTime": {
     "end_time": "2021-01-03T00:07:48.223853Z",
     "start_time": "2021-01-03T00:07:48.221353Z"
    }
   },
   "outputs": [],
   "source": [
    "elemental_dir = \"../Elemental_ENSDF/\""
   ]
  },
  {
   "cell_type": "code",
   "execution_count": 33,
   "metadata": {
    "ExecuteTime": {
     "end_time": "2021-01-03T00:17:27.160017Z",
     "start_time": "2021-01-03T00:08:05.549626Z"
    }
   },
   "outputs": [
    {
     "name": "stderr",
     "output_type": "stream",
     "text": [
      "INFO:root:GEN UTILS: Directory does not exists. Creating...\n",
      "INFO:root:GEN UTILS: Directory created.\n",
      "INFO:root:ENSDF Elemental: Extracting ENSDF data per element with header...\n",
      "INFO:root:GEN UTILS: Directory does not exists. Creating...\n",
      "INFO:root:GEN UTILS: Directory created.\n",
      "INFO:root:ENSDF Elemental: Removing header from ENSDF elemental files...\n",
      "INFO:root:GEN UTILS: Directory does not exists. Creating...\n",
      "INFO:root:GEN UTILS: Directory created.\n",
      "INFO:root:ENSDF Elemental: Formatting files...\n",
      "INFO:root:ENSDF Elemental: Finished formating data.\n"
     ]
    }
   ],
   "source": [
    "ensdf_parser.generate_elemental_ensdf(names, saving_directory, elemental_dir)"
   ]
  },
  {
   "cell_type": "markdown",
   "metadata": {},
   "source": [
    "# Generating Ground State File"
   ]
  },
  {
   "cell_type": "markdown",
   "metadata": {},
   "source": [
    "The elemental files contain all known nuclear levels, if for some reason you only need a ground state CSV file. This can be created using the `get_stable_states()` utility."
   ]
  },
  {
   "cell_type": "code",
   "execution_count": 35,
   "metadata": {
    "ExecuteTime": {
     "end_time": "2021-01-03T00:27:29.363454Z",
     "start_time": "2021-01-03T00:22:54.268471Z"
    }
   },
   "outputs": [
    {
     "name": "stderr",
     "output_type": "stream",
     "text": [
      "INFO:root:STABLE STATES: Extracting stable states from .dat files...\n",
      "INFO:root:STABLE STATES: Formatting text file...\n",
      "INFO:root:STABLE STATES: Finished.\n"
     ]
    }
   ],
   "source": [
    "ensdf_parser.get_stable_states(names, saving_directory)"
   ]
  },
  {
   "cell_type": "markdown",
   "metadata": {},
   "source": [
    "# Generating ENSDF CSV File"
   ]
  },
  {
   "cell_type": "markdown",
   "metadata": {},
   "source": [
    "With the elemental files created, we can know get a single ENSDF file containing all nuclear levels for all isotopes."
   ]
  },
  {
   "cell_type": "code",
   "execution_count": 46,
   "metadata": {
    "ExecuteTime": {
     "end_time": "2021-01-03T00:35:05.298650Z",
     "start_time": "2021-01-03T00:34:57.820843Z"
    }
   },
   "outputs": [
    {
     "name": "stderr",
     "output_type": "stream",
     "text": [
      "INFO:root:ENSDF CSV: Creatign DataFrame with Basic ENSDF data ...\n",
      "INFO:root:ENSDF CSV: Finished creating list of dataframes.\n"
     ]
    }
   ],
   "source": [
    "ensdf_parser.generate_ensdf_csv(saving_directory, elemental_dir)"
   ]
  },
  {
   "cell_type": "markdown",
   "metadata": {},
   "source": [
    "# Cutting ENSDF using RIPL CutOff Parameters\n",
    "\n",
    "We can easily remove nuclear levels above the given parameteres using the the RIPL level-params.dat file. If you wish to create your own cut-off parameters be sure to modify the level-params.dat following the original formatting, otherwise this script will not work.\n",
    "\n",
    "First we start by parsing the levels-params.data file from RIPL:"
   ]
  },
  {
   "cell_type": "code",
   "execution_count": 62,
   "metadata": {
    "ExecuteTime": {
     "end_time": "2021-01-03T00:51:13.434787Z",
     "start_time": "2021-01-03T00:51:13.332769Z"
    }
   },
   "outputs": [
    {
     "name": "stderr",
     "output_type": "stream",
     "text": [
      "INFO:root:ENSDF RIPL: Parsing and formatting level parameters...\n",
      "INFO:root:ENSDF RIPL: Finished formating data. Converting to CSV...\n",
      "INFO:root:ENSDF RIPL: Finished.\n"
     ]
    }
   ],
   "source": [
    "ripl_level_params_dir = \"../RIPL/levels/\"\n",
    "ensdf_parser.get_level_parameters(ripl_level_params_dir, saving_directory=saving_directory)"
   ]
  },
  {
   "cell_type": "markdown",
   "metadata": {},
   "source": [
    "Now we can use the created cut-off csv file to remove nuclear levels from the previuosly created ensdf.csv file."
   ]
  },
  {
   "cell_type": "code",
   "execution_count": 80,
   "metadata": {
    "ExecuteTime": {
     "end_time": "2021-01-03T00:56:06.591578Z",
     "start_time": "2021-01-03T00:55:58.715882Z"
    }
   },
   "outputs": [
    {
     "name": "stderr",
     "output_type": "stream",
     "text": [
      "INFO:root:ENSDF CutOff: Loading ENSDF and RIPL parameters...\n",
      "INFO:root:ENSDF CutOff: Cutting off ENSDF...\n",
      "INFO:root:ENSDF CutOff: Finished.\n"
     ]
    }
   ],
   "source": [
    "elemental_hf_dir = \"../Elemental_ENSDF/Elemental_ENSDF_no_Header_F/\"\n",
    "ensdf_parser.generate_cutoff_ensdf(saving_directory, elemental_hf_dir)"
   ]
  },
  {
   "cell_type": "code",
   "execution_count": null,
   "metadata": {},
   "outputs": [],
   "source": []
  }
 ],
 "metadata": {
  "kernelspec": {
   "display_name": "Python 3",
   "language": "python",
   "name": "python3"
  },
  "language_info": {
   "codemirror_mode": {
    "name": "ipython",
    "version": 3
   },
   "file_extension": ".py",
   "mimetype": "text/x-python",
   "name": "python",
   "nbconvert_exporter": "python",
   "pygments_lexer": "ipython3",
   "version": "3.7.9"
  }
 },
 "nbformat": 4,
 "nbformat_minor": 4
}
