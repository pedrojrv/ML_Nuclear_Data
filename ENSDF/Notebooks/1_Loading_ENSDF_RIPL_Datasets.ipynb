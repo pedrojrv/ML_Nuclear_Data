{
 "cells": [
  {
   "cell_type": "code",
   "execution_count": 2,
   "metadata": {
    "ExecuteTime": {
     "end_time": "2021-01-03T05:02:04.888276Z",
     "start_time": "2021-01-03T05:02:03.644648Z"
    }
   },
   "outputs": [],
   "source": [
    "import sys\n",
    "import pandas as pd\n",
    "sys.path.append(\"../..\")\n",
    "\n",
    "import nucml.datasets as nuc_data"
   ]
  },
  {
   "cell_type": "code",
   "execution_count": 3,
   "metadata": {
    "ExecuteTime": {
     "end_time": "2021-01-03T05:02:04.899782Z",
     "start_time": "2021-01-03T05:02:04.890280Z"
    }
   },
   "outputs": [
    {
     "data": {
      "text/plain": [
       "<module 'nucml.datasets' from '../..\\\\nucml\\\\datasets.py'>"
      ]
     },
     "execution_count": 3,
     "metadata": {},
     "output_type": "execute_result"
    }
   ],
   "source": [
    "import importlib\n",
    "importlib.reload(nuc_data)"
   ]
  },
  {
   "cell_type": "markdown",
   "metadata": {},
   "source": [
    "# Loading ENSDF Headers"
   ]
  },
  {
   "cell_type": "code",
   "execution_count": 48,
   "metadata": {
    "ExecuteTime": {
     "end_time": "2021-01-03T00:22:05.346300Z",
     "start_time": "2021-01-03T00:22:05.340299Z"
    }
   },
   "outputs": [],
   "source": [
    "ensdf_headers = nuc_data.load_ensdf_headers()"
   ]
  },
  {
   "cell_type": "code",
   "execution_count": 49,
   "metadata": {
    "ExecuteTime": {
     "end_time": "2021-01-03T00:22:05.550836Z",
     "start_time": "2021-01-03T00:22:05.541334Z"
    }
   },
   "outputs": [
    {
     "data": {
      "text/html": [
       "<div>\n",
       "<style scoped>\n",
       "    .dataframe tbody tr th:only-of-type {\n",
       "        vertical-align: middle;\n",
       "    }\n",
       "\n",
       "    .dataframe tbody tr th {\n",
       "        vertical-align: top;\n",
       "    }\n",
       "\n",
       "    .dataframe thead th {\n",
       "        text-align: right;\n",
       "    }\n",
       "</style>\n",
       "<table border=\"1\" class=\"dataframe\">\n",
       "  <thead>\n",
       "    <tr style=\"text-align: right;\">\n",
       "      <th></th>\n",
       "      <th>Element_w_A</th>\n",
       "      <th>A</th>\n",
       "      <th>Z</th>\n",
       "      <th>Number_of_Levels</th>\n",
       "      <th>Number_of_Gammas</th>\n",
       "      <th>N_max</th>\n",
       "      <th>N_c</th>\n",
       "      <th>Sn</th>\n",
       "      <th>Sp</th>\n",
       "    </tr>\n",
       "  </thead>\n",
       "  <tbody>\n",
       "    <tr>\n",
       "      <th>0</th>\n",
       "      <td>1H</td>\n",
       "      <td>1</td>\n",
       "      <td>1</td>\n",
       "      <td>1</td>\n",
       "      <td>0</td>\n",
       "      <td>1</td>\n",
       "      <td>1</td>\n",
       "      <td>0.00000</td>\n",
       "      <td>0.00000</td>\n",
       "    </tr>\n",
       "    <tr>\n",
       "      <th>1</th>\n",
       "      <td>2H</td>\n",
       "      <td>2</td>\n",
       "      <td>1</td>\n",
       "      <td>1</td>\n",
       "      <td>0</td>\n",
       "      <td>1</td>\n",
       "      <td>1</td>\n",
       "      <td>2.22457</td>\n",
       "      <td>2.22457</td>\n",
       "    </tr>\n",
       "    <tr>\n",
       "      <th>2</th>\n",
       "      <td>3H</td>\n",
       "      <td>3</td>\n",
       "      <td>1</td>\n",
       "      <td>1</td>\n",
       "      <td>0</td>\n",
       "      <td>1</td>\n",
       "      <td>1</td>\n",
       "      <td>6.25723</td>\n",
       "      <td>0.00000</td>\n",
       "    </tr>\n",
       "    <tr>\n",
       "      <th>3</th>\n",
       "      <td>3He</td>\n",
       "      <td>3</td>\n",
       "      <td>2</td>\n",
       "      <td>1</td>\n",
       "      <td>0</td>\n",
       "      <td>1</td>\n",
       "      <td>1</td>\n",
       "      <td>0.00000</td>\n",
       "      <td>5.49348</td>\n",
       "    </tr>\n",
       "    <tr>\n",
       "      <th>4</th>\n",
       "      <td>4He</td>\n",
       "      <td>4</td>\n",
       "      <td>2</td>\n",
       "      <td>16</td>\n",
       "      <td>0</td>\n",
       "      <td>1</td>\n",
       "      <td>16</td>\n",
       "      <td>20.57762</td>\n",
       "      <td>19.81386</td>\n",
       "    </tr>\n",
       "  </tbody>\n",
       "</table>\n",
       "</div>"
      ],
      "text/plain": [
       "  Element_w_A  A  Z  Number_of_Levels  Number_of_Gammas  N_max  N_c        Sn  \\\n",
       "0         1H   1  1                 1                 0      1    1   0.00000   \n",
       "1         2H   2  1                 1                 0      1    1   2.22457   \n",
       "2         3H   3  1                 1                 0      1    1   6.25723   \n",
       "3         3He  3  2                 1                 0      1    1   0.00000   \n",
       "4         4He  4  2                16                 0      1   16  20.57762   \n",
       "\n",
       "         Sp  \n",
       "0   0.00000  \n",
       "1   2.22457  \n",
       "2   0.00000  \n",
       "3   5.49348  \n",
       "4  19.81386  "
      ]
     },
     "execution_count": 49,
     "metadata": {},
     "output_type": "execute_result"
    }
   ],
   "source": [
    "ensdf_headers.head()"
   ]
  },
  {
   "cell_type": "markdown",
   "metadata": {},
   "source": [
    "# Loading Elemental File"
   ]
  },
  {
   "cell_type": "code",
   "execution_count": 50,
   "metadata": {
    "ExecuteTime": {
     "end_time": "2021-01-03T00:22:06.653028Z",
     "start_time": "2021-01-03T00:22:06.628524Z"
    }
   },
   "outputs": [],
   "source": [
    "u236_levels = nuc_data.load_ensdf_isotopic(\"u236\")"
   ]
  },
  {
   "cell_type": "code",
   "execution_count": 51,
   "metadata": {
    "ExecuteTime": {
     "end_time": "2021-01-03T00:22:07.145502Z",
     "start_time": "2021-01-03T00:22:07.133499Z"
    }
   },
   "outputs": [
    {
     "data": {
      "text/html": [
       "<div>\n",
       "<style scoped>\n",
       "    .dataframe tbody tr th:only-of-type {\n",
       "        vertical-align: middle;\n",
       "    }\n",
       "\n",
       "    .dataframe tbody tr th {\n",
       "        vertical-align: top;\n",
       "    }\n",
       "\n",
       "    .dataframe thead th {\n",
       "        text-align: right;\n",
       "    }\n",
       "</style>\n",
       "<table border=\"1\" class=\"dataframe\">\n",
       "  <thead>\n",
       "    <tr style=\"text-align: right;\">\n",
       "      <th></th>\n",
       "      <th>Level_Number</th>\n",
       "      <th>Energy</th>\n",
       "      <th>Spin</th>\n",
       "      <th>Parity</th>\n",
       "      <th>Half_Life</th>\n",
       "      <th>Gammas</th>\n",
       "      <th>Flag</th>\n",
       "      <th>ENSDF_Spin</th>\n",
       "      <th>Num_Decay_Modes</th>\n",
       "      <th>Decay_Info</th>\n",
       "    </tr>\n",
       "  </thead>\n",
       "  <tbody>\n",
       "    <tr>\n",
       "      <th>0</th>\n",
       "      <td>1.0</td>\n",
       "      <td>0.000000</td>\n",
       "      <td>0.0</td>\n",
       "      <td>1</td>\n",
       "      <td>7.391000e+14</td>\n",
       "      <td>0</td>\n",
       "      <td>u</td>\n",
       "      <td>0+</td>\n",
       "      <td>2</td>\n",
       "      <td>=  1.0000E+02 %A      =  9.4000E-08 %SF       ...</td>\n",
       "    </tr>\n",
       "    <tr>\n",
       "      <th>1</th>\n",
       "      <td>2.0</td>\n",
       "      <td>0.045244</td>\n",
       "      <td>2.0</td>\n",
       "      <td>1</td>\n",
       "      <td>2.340000e-10</td>\n",
       "      <td>1</td>\n",
       "      <td>u</td>\n",
       "      <td>2+</td>\n",
       "      <td>0</td>\n",
       "      <td>0.000000  0</td>\n",
       "    </tr>\n",
       "    <tr>\n",
       "      <th>2</th>\n",
       "      <td>3.0</td>\n",
       "      <td>0.149477</td>\n",
       "      <td>4.0</td>\n",
       "      <td>1</td>\n",
       "      <td>1.240000e-10</td>\n",
       "      <td>1</td>\n",
       "      <td>u</td>\n",
       "      <td>4+</td>\n",
       "      <td>0</td>\n",
       "      <td>0.000000  0</td>\n",
       "    </tr>\n",
       "    <tr>\n",
       "      <th>3</th>\n",
       "      <td>4.0</td>\n",
       "      <td>0.309785</td>\n",
       "      <td>6.0</td>\n",
       "      <td>1</td>\n",
       "      <td>5.800000e-11</td>\n",
       "      <td>1</td>\n",
       "      <td>u</td>\n",
       "      <td>6+</td>\n",
       "      <td>0</td>\n",
       "      <td>0.000000  0</td>\n",
       "    </tr>\n",
       "    <tr>\n",
       "      <th>4</th>\n",
       "      <td>5.0</td>\n",
       "      <td>0.522250</td>\n",
       "      <td>8.0</td>\n",
       "      <td>1</td>\n",
       "      <td>2.400000e-11</td>\n",
       "      <td>1</td>\n",
       "      <td>u</td>\n",
       "      <td>8+</td>\n",
       "      <td>0</td>\n",
       "      <td>0.000000  0</td>\n",
       "    </tr>\n",
       "  </tbody>\n",
       "</table>\n",
       "</div>"
      ],
      "text/plain": [
       "   Level_Number    Energy  Spin  Parity     Half_Life  Gammas Flag ENSDF_Spin  \\\n",
       "0           1.0  0.000000   0.0       1  7.391000e+14       0    u         0+   \n",
       "1           2.0  0.045244   2.0       1  2.340000e-10       1    u         2+   \n",
       "2           3.0  0.149477   4.0       1  1.240000e-10       1    u         4+   \n",
       "3           4.0  0.309785   6.0       1  5.800000e-11       1    u         6+   \n",
       "4           5.0  0.522250   8.0       1  2.400000e-11       1    u         8+   \n",
       "\n",
       "   Num_Decay_Modes                                         Decay_Info  \n",
       "0                2  =  1.0000E+02 %A      =  9.4000E-08 %SF       ...  \n",
       "1                0                                        0.000000  0  \n",
       "2                0                                        0.000000  0  \n",
       "3                0                                        0.000000  0  \n",
       "4                0                                        0.000000  0  "
      ]
     },
     "execution_count": 51,
     "metadata": {},
     "output_type": "execute_result"
    }
   ],
   "source": [
    "u236_levels.head()"
   ]
  },
  {
   "cell_type": "markdown",
   "metadata": {},
   "source": [
    "# Loading Elemental Gammas"
   ]
  },
  {
   "cell_type": "code",
   "execution_count": 54,
   "metadata": {
    "ExecuteTime": {
     "end_time": "2021-01-03T00:22:22.002330Z",
     "start_time": "2021-01-03T00:22:21.979825Z"
    }
   },
   "outputs": [],
   "source": [
    "u235_gammas = nuc_data.load_ensdf_isotopic(\"u235\", filetype='gammas')"
   ]
  },
  {
   "cell_type": "code",
   "execution_count": 55,
   "metadata": {
    "ExecuteTime": {
     "end_time": "2021-01-03T00:22:22.390782Z",
     "start_time": "2021-01-03T00:22:22.381280Z"
    }
   },
   "outputs": [
    {
     "data": {
      "text/html": [
       "<div>\n",
       "<style scoped>\n",
       "    .dataframe tbody tr th:only-of-type {\n",
       "        vertical-align: middle;\n",
       "    }\n",
       "\n",
       "    .dataframe tbody tr th {\n",
       "        vertical-align: top;\n",
       "    }\n",
       "\n",
       "    .dataframe thead th {\n",
       "        text-align: right;\n",
       "    }\n",
       "</style>\n",
       "<table border=\"1\" class=\"dataframe\">\n",
       "  <thead>\n",
       "    <tr style=\"text-align: right;\">\n",
       "      <th></th>\n",
       "      <th>Level_Record</th>\n",
       "      <th>Final_State</th>\n",
       "      <th>Energy</th>\n",
       "      <th>Gamma_Decay_Prob</th>\n",
       "      <th>Electromag_Decay_Prob</th>\n",
       "      <th>ICC</th>\n",
       "    </tr>\n",
       "  </thead>\n",
       "  <tbody>\n",
       "    <tr>\n",
       "      <th>2</th>\n",
       "      <td>2.0</td>\n",
       "      <td>1</td>\n",
       "      <td>0.000</td>\n",
       "      <td>1.000000e-10</td>\n",
       "      <td>1.0000</td>\n",
       "      <td>1.000000e+10</td>\n",
       "    </tr>\n",
       "    <tr>\n",
       "      <th>4</th>\n",
       "      <td>3.0</td>\n",
       "      <td>2</td>\n",
       "      <td>0.013</td>\n",
       "      <td>9.990000e-04</td>\n",
       "      <td>1.0000</td>\n",
       "      <td>1.000000e+03</td>\n",
       "    </tr>\n",
       "    <tr>\n",
       "      <th>6</th>\n",
       "      <td>4.0</td>\n",
       "      <td>1</td>\n",
       "      <td>0.046</td>\n",
       "      <td>1.515000e-02</td>\n",
       "      <td>1.0000</td>\n",
       "      <td>6.500000e+01</td>\n",
       "    </tr>\n",
       "    <tr>\n",
       "      <th>8</th>\n",
       "      <td>5.0</td>\n",
       "      <td>3</td>\n",
       "      <td>0.039</td>\n",
       "      <td>8.712000e-04</td>\n",
       "      <td>0.2709</td>\n",
       "      <td>3.100000e+02</td>\n",
       "    </tr>\n",
       "    <tr>\n",
       "      <th>9</th>\n",
       "      <td>5.0</td>\n",
       "      <td>2</td>\n",
       "      <td>0.052</td>\n",
       "      <td>2.293000e-03</td>\n",
       "      <td>0.7291</td>\n",
       "      <td>3.170000e+02</td>\n",
       "    </tr>\n",
       "  </tbody>\n",
       "</table>\n",
       "</div>"
      ],
      "text/plain": [
       "   Level_Record  Final_State  Energy  Gamma_Decay_Prob  Electromag_Decay_Prob  \\\n",
       "2           2.0            1   0.000      1.000000e-10                 1.0000   \n",
       "4           3.0            2   0.013      9.990000e-04                 1.0000   \n",
       "6           4.0            1   0.046      1.515000e-02                 1.0000   \n",
       "8           5.0            3   0.039      8.712000e-04                 0.2709   \n",
       "9           5.0            2   0.052      2.293000e-03                 0.7291   \n",
       "\n",
       "            ICC  \n",
       "2  1.000000e+10  \n",
       "4  1.000000e+03  \n",
       "6  6.500000e+01  \n",
       "8  3.100000e+02  \n",
       "9  3.170000e+02  "
      ]
     },
     "execution_count": 55,
     "metadata": {},
     "output_type": "execute_result"
    }
   ],
   "source": [
    "u235_gammas.head()"
   ]
  },
  {
   "cell_type": "markdown",
   "metadata": {},
   "source": [
    "# Loading Ground State Data Only"
   ]
  },
  {
   "cell_type": "code",
   "execution_count": 57,
   "metadata": {
    "ExecuteTime": {
     "end_time": "2021-01-03T00:31:23.199345Z",
     "start_time": "2021-01-03T00:31:23.171050Z"
    }
   },
   "outputs": [],
   "source": [
    "ground_states = nuc_data.load_ensdf_ground_states()"
   ]
  },
  {
   "cell_type": "code",
   "execution_count": 58,
   "metadata": {
    "ExecuteTime": {
     "end_time": "2021-01-03T00:31:23.687630Z",
     "start_time": "2021-01-03T00:31:23.676627Z"
    }
   },
   "outputs": [
    {
     "data": {
      "text/html": [
       "<div>\n",
       "<style scoped>\n",
       "    .dataframe tbody tr th:only-of-type {\n",
       "        vertical-align: middle;\n",
       "    }\n",
       "\n",
       "    .dataframe tbody tr th {\n",
       "        vertical-align: top;\n",
       "    }\n",
       "\n",
       "    .dataframe thead th {\n",
       "        text-align: right;\n",
       "    }\n",
       "</style>\n",
       "<table border=\"1\" class=\"dataframe\">\n",
       "  <thead>\n",
       "    <tr style=\"text-align: right;\">\n",
       "      <th></th>\n",
       "      <th>Element_w_A</th>\n",
       "      <th>Spin</th>\n",
       "      <th>Parity</th>\n",
       "      <th>Half_Life</th>\n",
       "      <th>Flag</th>\n",
       "      <th>ENSDF_Spin</th>\n",
       "      <th>Num_Decay_Modes</th>\n",
       "      <th>Modifier</th>\n",
       "      <th>Decay_Info</th>\n",
       "    </tr>\n",
       "  </thead>\n",
       "  <tbody>\n",
       "    <tr>\n",
       "      <th>0</th>\n",
       "      <td>1H</td>\n",
       "      <td>0.5</td>\n",
       "      <td>1</td>\n",
       "      <td>-1.0</td>\n",
       "      <td></td>\n",
       "      <td>1/2+</td>\n",
       "      <td>0</td>\n",
       "      <td></td>\n",
       "      <td>0.000000</td>\n",
       "    </tr>\n",
       "    <tr>\n",
       "      <th>1</th>\n",
       "      <td>2H</td>\n",
       "      <td>1.0</td>\n",
       "      <td>1</td>\n",
       "      <td>-1.0</td>\n",
       "      <td></td>\n",
       "      <td>1+</td>\n",
       "      <td>0</td>\n",
       "      <td></td>\n",
       "      <td>0.000000</td>\n",
       "    </tr>\n",
       "    <tr>\n",
       "      <th>2</th>\n",
       "      <td>3H</td>\n",
       "      <td>0.5</td>\n",
       "      <td>1</td>\n",
       "      <td>388800000.0</td>\n",
       "      <td></td>\n",
       "      <td>1/2+</td>\n",
       "      <td>1</td>\n",
       "      <td>=</td>\n",
       "      <td>1.0000E+02 %B-                                ...</td>\n",
       "    </tr>\n",
       "    <tr>\n",
       "      <th>3</th>\n",
       "      <td>3He</td>\n",
       "      <td>0.5</td>\n",
       "      <td>1</td>\n",
       "      <td>-1.0</td>\n",
       "      <td></td>\n",
       "      <td>1/2+</td>\n",
       "      <td>0</td>\n",
       "      <td></td>\n",
       "      <td>0.000000</td>\n",
       "    </tr>\n",
       "    <tr>\n",
       "      <th>4</th>\n",
       "      <td>4He</td>\n",
       "      <td>0.0</td>\n",
       "      <td>1</td>\n",
       "      <td>-1.0</td>\n",
       "      <td></td>\n",
       "      <td>0+</td>\n",
       "      <td>0</td>\n",
       "      <td></td>\n",
       "      <td>0.000000</td>\n",
       "    </tr>\n",
       "  </tbody>\n",
       "</table>\n",
       "</div>"
      ],
      "text/plain": [
       "  Element_w_A  Spin  Parity    Half_Life Flag ENSDF_Spin  Num_Decay_Modes  \\\n",
       "0          1H   0.5       1         -1.0            1/2+                0   \n",
       "1          2H   1.0       1         -1.0              1+                0   \n",
       "2          3H   0.5       1  388800000.0            1/2+                1   \n",
       "3         3He   0.5       1         -1.0            1/2+                0   \n",
       "4         4He   0.0       1         -1.0              0+                0   \n",
       "\n",
       "  Modifier                                         Decay_Info  \n",
       "0                                                    0.000000  \n",
       "1                                                    0.000000  \n",
       "2        =  1.0000E+02 %B-                                ...  \n",
       "3                                                    0.000000  \n",
       "4                                                    0.000000  "
      ]
     },
     "execution_count": 58,
     "metadata": {},
     "output_type": "execute_result"
    }
   ],
   "source": [
    "ground_states.head()"
   ]
  },
  {
   "cell_type": "markdown",
   "metadata": {},
   "source": [
    "# Loading RIPL Cut-Off Parameteres"
   ]
  },
  {
   "cell_type": "code",
   "execution_count": 61,
   "metadata": {
    "ExecuteTime": {
     "end_time": "2021-01-03T00:43:01.668190Z",
     "start_time": "2021-01-03T00:43:01.652187Z"
    }
   },
   "outputs": [],
   "source": [
    "ripl_cutoff = nuc_data.load_ripl_parameters()"
   ]
  },
  {
   "cell_type": "code",
   "execution_count": 62,
   "metadata": {
    "ExecuteTime": {
     "end_time": "2021-01-03T00:43:02.157275Z",
     "start_time": "2021-01-03T00:43:02.140772Z"
    }
   },
   "outputs": [
    {
     "data": {
      "text/html": [
       "<div>\n",
       "<style scoped>\n",
       "    .dataframe tbody tr th:only-of-type {\n",
       "        vertical-align: middle;\n",
       "    }\n",
       "\n",
       "    .dataframe tbody tr th {\n",
       "        vertical-align: top;\n",
       "    }\n",
       "\n",
       "    .dataframe thead th {\n",
       "        text-align: right;\n",
       "    }\n",
       "</style>\n",
       "<table border=\"1\" class=\"dataframe\">\n",
       "  <thead>\n",
       "    <tr style=\"text-align: right;\">\n",
       "      <th></th>\n",
       "      <th>Z</th>\n",
       "      <th>A</th>\n",
       "      <th>Element</th>\n",
       "      <th>Temperature_MeV</th>\n",
       "      <th>Temperature_U</th>\n",
       "      <th>Black_Shift</th>\n",
       "      <th>Black_Shift_U</th>\n",
       "      <th>N_Lev_ENSDF</th>\n",
       "      <th>N_Max_Lev_Complete</th>\n",
       "      <th>Min_Lev_Complete</th>\n",
       "      <th>Num_Lev_Unique_Spin</th>\n",
       "      <th>E_Max_N_Max</th>\n",
       "      <th>E_Num_Lev_U_Spin</th>\n",
       "      <th>Chi</th>\n",
       "      <th>Fit</th>\n",
       "      <th>Flag</th>\n",
       "      <th>Nox</th>\n",
       "      <th>Xm_Ex</th>\n",
       "      <th>Sigma</th>\n",
       "      <th>Target_Element_w_A</th>\n",
       "    </tr>\n",
       "  </thead>\n",
       "  <tbody>\n",
       "    <tr>\n",
       "      <th>0</th>\n",
       "      <td>0</td>\n",
       "      <td>1</td>\n",
       "      <td>n</td>\n",
       "      <td>0.0</td>\n",
       "      <td>0.0</td>\n",
       "      <td>0.0</td>\n",
       "      <td>0.0</td>\n",
       "      <td>1</td>\n",
       "      <td>1</td>\n",
       "      <td>1</td>\n",
       "      <td>1</td>\n",
       "      <td>0.0</td>\n",
       "      <td>0.0</td>\n",
       "      <td></td>\n",
       "      <td></td>\n",
       "      <td></td>\n",
       "      <td>0</td>\n",
       "      <td></td>\n",
       "      <td>0.0</td>\n",
       "      <td>1n</td>\n",
       "    </tr>\n",
       "    <tr>\n",
       "      <th>1</th>\n",
       "      <td>1</td>\n",
       "      <td>1</td>\n",
       "      <td>H</td>\n",
       "      <td>0.0</td>\n",
       "      <td>0.0</td>\n",
       "      <td>0.0</td>\n",
       "      <td>0.0</td>\n",
       "      <td>1</td>\n",
       "      <td>1</td>\n",
       "      <td>1</td>\n",
       "      <td>1</td>\n",
       "      <td>0.0</td>\n",
       "      <td>0.0</td>\n",
       "      <td></td>\n",
       "      <td></td>\n",
       "      <td></td>\n",
       "      <td>0</td>\n",
       "      <td></td>\n",
       "      <td>0.0</td>\n",
       "      <td>1H</td>\n",
       "    </tr>\n",
       "    <tr>\n",
       "      <th>2</th>\n",
       "      <td>1</td>\n",
       "      <td>2</td>\n",
       "      <td>H</td>\n",
       "      <td>0.0</td>\n",
       "      <td>0.0</td>\n",
       "      <td>0.0</td>\n",
       "      <td>0.0</td>\n",
       "      <td>1</td>\n",
       "      <td>1</td>\n",
       "      <td>1</td>\n",
       "      <td>1</td>\n",
       "      <td>0.0</td>\n",
       "      <td>0.0</td>\n",
       "      <td></td>\n",
       "      <td></td>\n",
       "      <td></td>\n",
       "      <td>0</td>\n",
       "      <td></td>\n",
       "      <td>0.0</td>\n",
       "      <td>2H</td>\n",
       "    </tr>\n",
       "    <tr>\n",
       "      <th>3</th>\n",
       "      <td>1</td>\n",
       "      <td>3</td>\n",
       "      <td>H</td>\n",
       "      <td>0.0</td>\n",
       "      <td>0.0</td>\n",
       "      <td>0.0</td>\n",
       "      <td>0.0</td>\n",
       "      <td>1</td>\n",
       "      <td>1</td>\n",
       "      <td>1</td>\n",
       "      <td>1</td>\n",
       "      <td>0.0</td>\n",
       "      <td>0.0</td>\n",
       "      <td></td>\n",
       "      <td></td>\n",
       "      <td></td>\n",
       "      <td>0</td>\n",
       "      <td></td>\n",
       "      <td>0.0</td>\n",
       "      <td>3H</td>\n",
       "    </tr>\n",
       "    <tr>\n",
       "      <th>4</th>\n",
       "      <td>2</td>\n",
       "      <td>3</td>\n",
       "      <td>He</td>\n",
       "      <td>0.0</td>\n",
       "      <td>0.0</td>\n",
       "      <td>0.0</td>\n",
       "      <td>0.0</td>\n",
       "      <td>1</td>\n",
       "      <td>1</td>\n",
       "      <td>1</td>\n",
       "      <td>1</td>\n",
       "      <td>0.0</td>\n",
       "      <td>0.0</td>\n",
       "      <td></td>\n",
       "      <td></td>\n",
       "      <td></td>\n",
       "      <td>0</td>\n",
       "      <td></td>\n",
       "      <td>0.0</td>\n",
       "      <td>3He</td>\n",
       "    </tr>\n",
       "  </tbody>\n",
       "</table>\n",
       "</div>"
      ],
      "text/plain": [
       "   Z  A Element  Temperature_MeV  Temperature_U  Black_Shift  Black_Shift_U  \\\n",
       "0  0  1       n              0.0            0.0          0.0            0.0   \n",
       "1  1  1       H              0.0            0.0          0.0            0.0   \n",
       "2  1  2       H              0.0            0.0          0.0            0.0   \n",
       "3  1  3       H              0.0            0.0          0.0            0.0   \n",
       "4  2  3      He              0.0            0.0          0.0            0.0   \n",
       "\n",
       "   N_Lev_ENSDF  N_Max_Lev_Complete  Min_Lev_Complete  Num_Lev_Unique_Spin  \\\n",
       "0            1                   1                 1                    1   \n",
       "1            1                   1                 1                    1   \n",
       "2            1                   1                 1                    1   \n",
       "3            1                   1                 1                    1   \n",
       "4            1                   1                 1                    1   \n",
       "\n",
       "   E_Max_N_Max  E_Num_Lev_U_Spin          Chi Fit Flag  Nox         Xm_Ex  \\\n",
       "0          0.0               0.0                          0                 \n",
       "1          0.0               0.0                          0                 \n",
       "2          0.0               0.0                          0                 \n",
       "3          0.0               0.0                          0                 \n",
       "4          0.0               0.0                          0                 \n",
       "\n",
       "   Sigma Target_Element_w_A  \n",
       "0    0.0                 1n  \n",
       "1    0.0                 1H  \n",
       "2    0.0                 2H  \n",
       "3    0.0                 3H  \n",
       "4    0.0                3He  "
      ]
     },
     "execution_count": 62,
     "metadata": {},
     "output_type": "execute_result"
    }
   ],
   "source": [
    "ripl_cutoff.head()"
   ]
  },
  {
   "cell_type": "markdown",
   "metadata": {},
   "source": [
    "# Loading ENSDF Data"
   ]
  },
  {
   "cell_type": "code",
   "execution_count": 4,
   "metadata": {
    "ExecuteTime": {
     "end_time": "2021-01-03T05:02:09.119169Z",
     "start_time": "2021-01-03T05:02:09.019651Z"
    }
   },
   "outputs": [
    {
     "name": "stderr",
     "output_type": "stream",
     "text": [
      "INFO:root:Reading data from C:\\Users\\Pedro\\Desktop\\ML_Nuclear_Data\\ENSDF\\CSV_Files/ensdf.csv\n"
     ]
    }
   ],
   "source": [
    "ensdf = nuc_data.load_ensdf()"
   ]
  }
 ],
 "metadata": {
  "kernelspec": {
   "display_name": "Python 3",
   "language": "python",
   "name": "python3"
  },
  "language_info": {
   "codemirror_mode": {
    "name": "ipython",
    "version": 3
   },
   "file_extension": ".py",
   "mimetype": "text/x-python",
   "name": "python",
   "nbconvert_exporter": "python",
   "pygments_lexer": "ipython3",
   "version": "3.7.9"
  }
 },
 "nbformat": 4,
 "nbformat_minor": 4
}
