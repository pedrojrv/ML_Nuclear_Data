{
 "cells": [
  {
   "cell_type": "code",
   "execution_count": 2,
   "id": "fluid-innocent",
   "metadata": {
    "ExecuteTime": {
     "end_time": "2021-02-10T04:11:37.874326Z",
     "start_time": "2021-02-10T04:11:07.905087Z"
    }
   },
   "outputs": [
    {
     "name": "stderr",
     "output_type": "stream",
     "text": [
      "C:\\Users\\Pedro\\Anaconda3\\envs\\tf_nightly\\lib\\site-packages\\IPython\\core\\interactiveshell.py:3146: DtypeWarning: Columns (17,30,31) have mixed types.Specify dtype option on import or set low_memory=False.\n",
      "  has_raised = await self.run_ast_nodes(code_ast.body, cell_name,\n"
     ]
    }
   ],
   "source": [
    "neutrons = pd.read_csv(\"../CSV_Files/EXFOR_neutrons/EXFOR_neutrons_ORIGINAL.csv\")\n",
    "protons = pd.read_csv(\"../CSV_Files/EXFOR_protons/EXFOR_protons_ORIGINAL.csv\")\n",
    "alphas = pd.read_csv(\"../CSV_Files/EXFOR_alphas/EXFOR_alphas_ORIGINAL.csv\")\n",
    "deuterons = pd.read_csv(\"../CSV_Files/EXFOR_deuterons/EXFOR_deuterons_ORIGINAL.csv\")\n",
    "gammas = pd.read_csv(\"../CSV_Files/EXFOR_gammas/EXFOR_gammas_ORIGINAL.csv\")\n",
    "helions = pd.read_csv(\"../CSV_Files/EXFOR_helions/EXFOR_helions_ORIGINAL.csv\")"
   ]
  },
  {
   "cell_type": "code",
   "execution_count": 124,
   "id": "threaded-rough",
   "metadata": {
    "ExecuteTime": {
     "end_time": "2021-02-10T06:23:13.417151Z",
     "start_time": "2021-02-10T06:23:12.137197Z"
    }
   },
   "outputs": [],
   "source": [
    "NEW_NAMES = {\"Cos/LO\":\"Cos_LO\", \"dCos/LO\":\"dCos_LO\", \"ELV/HL\":\"ELV_HL\", \"dELV/HL\":\"dELV_HL\"}\n",
    "\n",
    "neutrons = neutrons.rename(NEW_NAMES, axis=1)\n",
    "protons = protons.rename(NEW_NAMES, axis=1)\n",
    "alphas = alphas.rename(NEW_NAMES, axis=1)\n",
    "deuterons = deuterons.rename(NEW_NAMES, axis=1)\n",
    "gammas = gammas.rename(NEW_NAMES, axis=1)\n",
    "helions = helions.rename(NEW_NAMES, axis=1)"
   ]
  },
  {
   "cell_type": "code",
   "execution_count": 126,
   "id": "designing-regard",
   "metadata": {
    "ExecuteTime": {
     "end_time": "2021-02-10T06:27:39.829819Z",
     "start_time": "2021-02-10T06:25:35.774085Z"
    }
   },
   "outputs": [],
   "source": [
    "neutrons.to_csv(\"EXFOR_neutrons_ORIGINAL.csv\", index=False)\n",
    "protons.to_csv(\"EXFOR_protons_ORIGINAL.csv\", index=False)\n",
    "alphas.to_csv(\"EXFOR_alphas_ORIGINAL.csv\", index=False)\n",
    "deuterons.to_csv(\"EXFOR_deuterons_ORIGINAL.csv\", index=False)\n",
    "gammas.to_csv(\"EXFOR_gammas_ORIGINAL.csv\", index=False)\n",
    "helions.to_csv(\"EXFOR_helions_ORIGINAL.csv\", index=False)"
   ]
  },
  {
   "cell_type": "code",
   "execution_count": 157,
   "id": "herbal-catholic",
   "metadata": {
    "ExecuteTime": {
     "end_time": "2021-02-10T06:50:15.171463Z",
     "start_time": "2021-02-10T06:50:15.168463Z"
    }
   },
   "outputs": [],
   "source": [
    "import os"
   ]
  },
  {
   "cell_type": "code",
   "execution_count": 158,
   "id": "vanilla-institution",
   "metadata": {
    "ExecuteTime": {
     "end_time": "2021-02-10T06:50:28.077856Z",
     "start_time": "2021-02-10T06:50:28.073855Z"
    }
   },
   "outputs": [
    {
     "data": {
      "text/plain": [
       "'AME_Natural_Properties_no_NaN.csv'"
      ]
     },
     "execution_count": 158,
     "metadata": {},
     "output_type": "execute_result"
    }
   ],
   "source": [
    "os.path.basename(\"../../AME/CSV_Files/AME_Natural_Properties_no_NaN.csv\")"
   ]
  },
  {
   "cell_type": "code",
   "execution_count": 160,
   "id": "ignored-elizabeth",
   "metadata": {
    "ExecuteTime": {
     "end_time": "2021-02-10T06:51:19.968615Z",
     "start_time": "2021-02-10T06:51:19.161105Z"
    }
   },
   "outputs": [],
   "source": [
    "for name in ['../../AME/CSV_Files/AME_Natural_Properties_no_NaN.csv', \n",
    "             '../../AME/CSV_Files/AME_Natural_Properties_w_NaN.csv', \n",
    "             '../../AME/CSV_Files/AME_all_merged.csv']:\n",
    "    ame = pd.read_csv(name)\n",
    "    for i in ame.columns:\n",
    "        if \"(\" in i:\n",
    "            ame = ame.rename({i: i.replace(\"(\", \"_\").replace(\")\", \"\").replace(\",\", \"_\").replace(\"-\", \"\")}, axis=1)\n",
    "    ame.to_csv(os.path.basename(name), index=False)"
   ]
  },
  {
   "cell_type": "code",
   "execution_count": null,
   "id": "british-single",
   "metadata": {},
   "outputs": [],
   "source": []
  }
 ],
 "metadata": {
  "kernelspec": {
   "display_name": "Python 3",
   "language": "python",
   "name": "python3"
  },
  "language_info": {
   "codemirror_mode": {
    "name": "ipython",
    "version": 3
   },
   "file_extension": ".py",
   "mimetype": "text/x-python",
   "name": "python",
   "nbconvert_exporter": "python",
   "pygments_lexer": "ipython3",
   "version": "3.8.5"
  }
 },
 "nbformat": 4,
 "nbformat_minor": 5
}
