{
 "cells": [
  {
   "cell_type": "markdown",
   "metadata": {},
   "source": [
    "# Processing C4 Files and Generating usable EXFOR Data\n",
    "\n",
    "This notebook is the template for which the `.csv_creator()` function is based on. For an actual example of extracting and processing exfor data look at notebook number 1. "
   ]
  },
  {
   "cell_type": "code",
   "execution_count": 5,
   "metadata": {
    "ExecuteTime": {
     "end_time": "2020-09-26T05:28:14.193799Z",
     "start_time": "2020-09-26T05:28:14.188811Z"
    }
   },
   "outputs": [],
   "source": [
    "import os\n",
    "import sys\n",
    "import logging\n",
    "import pandas as pd\n",
    "import numpy as np\n",
    "import importlib\n",
    "\n",
    "pd.set_option('display.max_columns', 500)\n",
    "pd.set_option('display.max_rows', 50)\n",
    "sys.path.append(\"../../\")\n",
    "\n",
    "import nucml.exfor.parsing_utilities as exfor_parsing\n",
    "import nucml.general_utilities as gen_utils\n",
    "import nucml.objects.objects as objects"
   ]
  },
  {
   "cell_type": "code",
   "execution_count": 6,
   "metadata": {
    "ExecuteTime": {
     "end_time": "2020-09-26T05:28:14.734719Z",
     "start_time": "2020-09-26T05:28:14.731730Z"
    }
   },
   "outputs": [],
   "source": [
    "# FOR PROTOTYPE\n",
    "logger = logging.getLogger()\n",
    "logger.setLevel(logging.DEBUG)"
   ]
  },
  {
   "cell_type": "code",
   "execution_count": 7,
   "metadata": {
    "ExecuteTime": {
     "end_time": "2020-09-26T05:28:15.105812Z",
     "start_time": "2020-09-26T05:28:15.098810Z"
    }
   },
   "outputs": [
    {
     "name": "stdout",
     "output_type": "stream",
     "text": [
      "Libraries reloaded.\n"
     ]
    }
   ],
   "source": [
    "importlib.reload(exfor_parsing)\n",
    "importlib.reload(gen_utils)\n",
    "importlib.reload(objects)\n",
    "print(\"Libraries reloaded.\")"
   ]
  },
  {
   "cell_type": "markdown",
   "metadata": {},
   "source": [
    "# All-in-one Function:  Extracting C4 Content\n",
    "\n",
    "`NucML` comes with the `.get_all()` function. This function will save all information needed for later compilation in two directories: a directory where the heavy resulting files will be stored (given by the `heavy_path`) and a temporary folder where files generated during the processing are stored (given by the `tmp_path`). \n",
    "\n",
    "Be sure to specify a full path to a non-existent directory as whatever path is given the script will erease and re-create.\n",
    "\n",
    "The function extracts the experimental data avaliable in each file in the `neutrons` directory and format it to be read by python. The data format is given by EXFOR so we will insert commas at the specified positions. Tools like `pandas` can read character-delimited files but the EXFOR files contain no delimiter. Because of this we insert the commas at position: 5, 11, 12, 15, 19, 22, 31, 40, 49, 58, 67, 76, 85, 94, 95, 122, and 127. \n",
    "\n",
    "The EXFOR files contain more information in the header of each experimental campaign. These needs to be extracted. Some of these features can be extracted using the following keywords:\n",
    "\n",
    "- #AUTHOR1\n",
    "- #YEAR\n",
    "- #INSTITUTE \n",
    "- #TITLE\n",
    "- #REFERENCE\n",
    "- #DATE\n",
    "- #REACTION\n",
    "- #DATA (for number of data points in each experimental campaing)\n",
    "\n",
    "All of these will result in light files therefore storing them in our tmp_path.\n",
    "\n",
    "These functions show how to extract the intended information one at a time. We can get the same data faster by using the following optimized funciton."
   ]
  },
  {
   "cell_type": "code",
   "execution_count": 11,
   "metadata": {
    "ExecuteTime": {
     "end_time": "2020-09-26T05:29:39.493782Z",
     "start_time": "2020-09-26T05:29:39.488781Z"
    }
   },
   "outputs": [],
   "source": [
    "exfor_directory = \"../C4_Files/neutrons_2019_07_18/\" # Path to the c4 files\n",
    "mode = 'neutrons' # type of data that you are extracting\n",
    "\n",
    "# I am going to define two different paths \n",
    "# Notice that if size is not an issue you can define both directories as the same one.\n",
    "tmp_dir = \"../tmp/\"\n",
    "heavy_dir = \"../CSV_Files/\"\n",
    "\n",
    "# This will be appended to the previous directories\n",
    "tmp_path = os.path.join(tmp_dir, \"Extracted_Text_\" + mode + \"/\")\n",
    "heavy_path = os.path.join(heavy_dir, \"EXFOR_\" + mode + \"/\")\n",
    "\n",
    "ame_dir = \"../../AME/CSV_Files/\""
   ]
  },
  {
   "cell_type": "code",
   "execution_count": 12,
   "metadata": {
    "ExecuteTime": {
     "end_time": "2020-09-26T05:31:46.014530Z",
     "start_time": "2020-09-26T05:29:48.705630Z"
    }
   },
   "outputs": [
    {
     "name": "stderr",
     "output_type": "stream",
     "text": [
      "INFO:root:C4: Searching ../C4_Files/neutrons_2019_07_18/ directory for .c4 files...\n",
      "INFO:root:C4: Finished. Found 623 .c4 files.\n",
      "INFO:root:GEN UTILS: Directory does not exists. Creating...\n",
      "INFO:root:GEN UTILS: Directory created.\n",
      "INFO:root:GEN UTILS: Directory does not exists. Creating...\n",
      "INFO:root:GEN UTILS: Directory created.\n",
      "INFO:root:EXFOR: Extracting experimental data, authors, years, institutes, and dates...\n",
      "INFO:root:EXFOR: Finished extracting experimental data, authors, years, institutes, and dates.\n",
      "INFO:root:EXFOR: Extracting titles, references, and number of data points per experiment...\n",
      "INFO:root:EXFOR: Finished extracting titles, references, and number of data points per experiment.\n",
      "INFO:root:EXFOR: Formatting experimental data...\n",
      "INFO:root:EXFOR: Finished formating experimental data.\n",
      "INFO:root:EXFOR: Finished.\n"
     ]
    }
   ],
   "source": [
    "# Gets a list of all .c4 file names from the EXFOR directory\n",
    "c4_list = exfor_parsing.get_c4_names(exfor_directory)\n",
    "exfor_parsing.get_all(c4_list, heavy_dir, tmp_path)"
   ]
  },
  {
   "cell_type": "markdown",
   "metadata": {},
   "source": [
    "# Formatting the Extracted Data\n",
    "\n",
    "The extracted data does not have much use in the current state. We need to bring it together to create a CSV file that we can use for any purpose. As mentioned, this notebook goes step by step into the `csv_creator()` function. It is the template for said function. For an actual example look at the next notebook.\n",
    "\n",
    "### Cleaning Data\n",
    "\n",
    "Data contains whitespace and special characters that we need to deal with. Additionally, we see that some columns do not have values but they have a value: a string of spaces. Pandas does not recognizes them as NaN values so we have to manually take care of them. We will also drop the references the YY and the SubEntry Number. "
   ]
  },
  {
   "cell_type": "code",
   "execution_count": 13,
   "metadata": {
    "ExecuteTime": {
     "end_time": "2020-09-26T05:32:38.351179Z",
     "start_time": "2020-09-26T05:32:22.522810Z"
    }
   },
   "outputs": [
    {
     "name": "stderr",
     "output_type": "stream",
     "text": [
      "C:\\Users\\Pedro\\Anaconda3\\envs\\data_mining_gpu\\lib\\site-packages\\IPython\\core\\interactiveshell.py:3072: DtypeWarning: Columns (8,10,11,12,13,18,20) have mixed types.Specify dtype option on import or set low_memory=False.\n",
      "  interactivity=interactivity, compiler=compiler, result=result)\n"
     ]
    }
   ],
   "source": [
    "colnames = [\"Projectile\", \"Target_ZA\", \"Target_Metastable_State\", \"MF\", \"MT\", \"Product_Metastable_State\", \\\n",
    "            \"EXFOR_Status\", \"Center_of_Mass_Flag\", \"Energy\",  \"dEnergy\",  \"Data\", \"dData\",   \"Cos/LO\",   \"dCos/LO\", \\\n",
    "            \"ELV/HL\",  \"dELV/HL\", \"I78\", \"Short_Reference\", \"EXFOR_Accession_Number\", \"EXFOR_SubAccession_Number\", \\\n",
    "            \"EXFOR_Pointer\"]\n",
    "df = pd.read_csv(os.path.join(heavy_path, \"all_cross_sections_v1.txt\"), names=colnames, header=None, \n",
    "                 index_col=False, sep=\";\")"
   ]
  },
  {
   "cell_type": "code",
   "execution_count": 14,
   "metadata": {
    "ExecuteTime": {
     "end_time": "2020-09-26T05:32:38.378186Z",
     "start_time": "2020-09-26T05:32:38.352170Z"
    }
   },
   "outputs": [
    {
     "data": {
      "text/html": [
       "<div>\n",
       "<style scoped>\n",
       "    .dataframe tbody tr th:only-of-type {\n",
       "        vertical-align: middle;\n",
       "    }\n",
       "\n",
       "    .dataframe tbody tr th {\n",
       "        vertical-align: top;\n",
       "    }\n",
       "\n",
       "    .dataframe thead th {\n",
       "        text-align: right;\n",
       "    }\n",
       "</style>\n",
       "<table border=\"1\" class=\"dataframe\">\n",
       "  <thead>\n",
       "    <tr style=\"text-align: right;\">\n",
       "      <th></th>\n",
       "      <th>Projectile</th>\n",
       "      <th>Target_ZA</th>\n",
       "      <th>Target_Metastable_State</th>\n",
       "      <th>MF</th>\n",
       "      <th>MT</th>\n",
       "      <th>Product_Metastable_State</th>\n",
       "      <th>EXFOR_Status</th>\n",
       "      <th>Center_of_Mass_Flag</th>\n",
       "      <th>Energy</th>\n",
       "      <th>dEnergy</th>\n",
       "      <th>Data</th>\n",
       "      <th>dData</th>\n",
       "      <th>Cos/LO</th>\n",
       "      <th>dCos/LO</th>\n",
       "      <th>ELV/HL</th>\n",
       "      <th>dELV/HL</th>\n",
       "      <th>I78</th>\n",
       "      <th>Short_Reference</th>\n",
       "      <th>EXFOR_Accession_Number</th>\n",
       "      <th>EXFOR_SubAccession_Number</th>\n",
       "      <th>EXFOR_Pointer</th>\n",
       "    </tr>\n",
       "  </thead>\n",
       "  <tbody>\n",
       "    <tr>\n",
       "      <th>0</th>\n",
       "      <td>1</td>\n",
       "      <td>1</td>\n",
       "      <td></td>\n",
       "      <td>3</td>\n",
       "      <td>1</td>\n",
       "      <td></td>\n",
       "      <td>D</td>\n",
       "      <td></td>\n",
       "      <td>8.8200+7</td>\n",
       "      <td>882000.0</td>\n",
       "      <td>0.030000</td>\n",
       "      <td>1.5232-3</td>\n",
       "      <td></td>\n",
       "      <td></td>\n",
       "      <td></td>\n",
       "      <td></td>\n",
       "      <td></td>\n",
       "      <td>D.F.MEASDAY,ET.AL. (66)</td>\n",
       "      <td>11152</td>\n",
       "      <td>2</td>\n",
       "      <td>NaN</td>\n",
       "    </tr>\n",
       "    <tr>\n",
       "      <th>1</th>\n",
       "      <td>1</td>\n",
       "      <td>1</td>\n",
       "      <td></td>\n",
       "      <td>3</td>\n",
       "      <td>1</td>\n",
       "      <td></td>\n",
       "      <td>D</td>\n",
       "      <td></td>\n",
       "      <td>9.8100+7</td>\n",
       "      <td>981000.0</td>\n",
       "      <td>0.029100</td>\n",
       "      <td>1.5162-3</td>\n",
       "      <td></td>\n",
       "      <td></td>\n",
       "      <td></td>\n",
       "      <td></td>\n",
       "      <td></td>\n",
       "      <td>D.F.MEASDAY,ET.AL. (66)</td>\n",
       "      <td>11152</td>\n",
       "      <td>2</td>\n",
       "      <td>NaN</td>\n",
       "    </tr>\n",
       "    <tr>\n",
       "      <th>2</th>\n",
       "      <td>1</td>\n",
       "      <td>1</td>\n",
       "      <td></td>\n",
       "      <td>3</td>\n",
       "      <td>1</td>\n",
       "      <td></td>\n",
       "      <td>D</td>\n",
       "      <td></td>\n",
       "      <td>1.1000+8</td>\n",
       "      <td>1100000.</td>\n",
       "      <td>0.027900</td>\n",
       "      <td>1.4147-3</td>\n",
       "      <td></td>\n",
       "      <td></td>\n",
       "      <td></td>\n",
       "      <td></td>\n",
       "      <td></td>\n",
       "      <td>D.F.MEASDAY,ET.AL. (66)</td>\n",
       "      <td>11152</td>\n",
       "      <td>2</td>\n",
       "      <td>NaN</td>\n",
       "    </tr>\n",
       "    <tr>\n",
       "      <th>3</th>\n",
       "      <td>1</td>\n",
       "      <td>1</td>\n",
       "      <td></td>\n",
       "      <td>3</td>\n",
       "      <td>1</td>\n",
       "      <td></td>\n",
       "      <td>D</td>\n",
       "      <td></td>\n",
       "      <td>1.1960+8</td>\n",
       "      <td>1196000.</td>\n",
       "      <td>0.026400</td>\n",
       "      <td>1.4031-3</td>\n",
       "      <td></td>\n",
       "      <td></td>\n",
       "      <td></td>\n",
       "      <td></td>\n",
       "      <td></td>\n",
       "      <td>D.F.MEASDAY,ET.AL. (66)</td>\n",
       "      <td>11152</td>\n",
       "      <td>2</td>\n",
       "      <td>NaN</td>\n",
       "    </tr>\n",
       "    <tr>\n",
       "      <th>4</th>\n",
       "      <td>1</td>\n",
       "      <td>1</td>\n",
       "      <td></td>\n",
       "      <td>3</td>\n",
       "      <td>1</td>\n",
       "      <td></td>\n",
       "      <td>D</td>\n",
       "      <td></td>\n",
       "      <td>1.2940+8</td>\n",
       "      <td>1294000.</td>\n",
       "      <td>0.025600</td>\n",
       "      <td>1.3972-3</td>\n",
       "      <td></td>\n",
       "      <td></td>\n",
       "      <td></td>\n",
       "      <td></td>\n",
       "      <td></td>\n",
       "      <td>D.F.MEASDAY,ET.AL. (66)</td>\n",
       "      <td>11152</td>\n",
       "      <td>2</td>\n",
       "      <td>NaN</td>\n",
       "    </tr>\n",
       "  </tbody>\n",
       "</table>\n",
       "</div>"
      ],
      "text/plain": [
       "   Projectile  Target_ZA Target_Metastable_State  MF  MT  \\\n",
       "0           1          1                           3   1   \n",
       "1           1          1                           3   1   \n",
       "2           1          1                           3   1   \n",
       "3           1          1                           3   1   \n",
       "4           1          1                           3   1   \n",
       "\n",
       "  Product_Metastable_State EXFOR_Status Center_of_Mass_Flag     Energy  \\\n",
       "0                                     D                       8.8200+7   \n",
       "1                                     D                       9.8100+7   \n",
       "2                                     D                       1.1000+8   \n",
       "3                                     D                       1.1960+8   \n",
       "4                                     D                       1.2940+8   \n",
       "\n",
       "     dEnergy       Data      dData     Cos/LO    dCos/LO     ELV/HL  \\\n",
       "0   882000.0   0.030000   1.5232-3                                    \n",
       "1   981000.0   0.029100   1.5162-3                                    \n",
       "2   1100000.   0.027900   1.4147-3                                    \n",
       "3   1196000.   0.026400   1.4031-3                                    \n",
       "4   1294000.   0.025600   1.3972-3                                    \n",
       "\n",
       "     dELV/HL  I78            Short_Reference EXFOR_Accession_Number  \\\n",
       "0                  D.F.MEASDAY,ET.AL. (66)                    11152   \n",
       "1                  D.F.MEASDAY,ET.AL. (66)                    11152   \n",
       "2                  D.F.MEASDAY,ET.AL. (66)                    11152   \n",
       "3                  D.F.MEASDAY,ET.AL. (66)                    11152   \n",
       "4                  D.F.MEASDAY,ET.AL. (66)                    11152   \n",
       "\n",
       "   EXFOR_SubAccession_Number EXFOR_Pointer  \n",
       "0                          2           NaN  \n",
       "1                          2           NaN  \n",
       "2                          2           NaN  \n",
       "3                          2           NaN  \n",
       "4                          2           NaN  "
      ]
     },
     "execution_count": 14,
     "metadata": {},
     "output_type": "execute_result"
    }
   ],
   "source": [
    "df.head()"
   ]
  },
  {
   "cell_type": "code",
   "execution_count": 15,
   "metadata": {
    "ExecuteTime": {
     "end_time": "2020-09-26T05:32:47.984450Z",
     "start_time": "2020-09-26T05:32:38.379177Z"
    }
   },
   "outputs": [],
   "source": [
    "# make string version of original column\n",
    "df['Target_ZA'] = df['Target_ZA'].astype(str)\n",
    "\n",
    "# Making Sure all rows have the same number of values\n",
    "max_length = 5\n",
    "df.Target_ZA = df.Target_ZA.apply(lambda x: '0'*(max_length - len(x)) + x)\n",
    "\n",
    "# Target feature is formated as ZZAAA\n",
    "df['Z'] = df['Target_ZA'].str[0:2].astype(int).fillna(0)\n",
    "df['A'] = df['Target_ZA'].str[2:5].astype(int).fillna(0)\n",
    "\n",
    "# Calculating number of neutrons = mass number - protons\n",
    "df['N'] = df['A'] - df[\"Z\"]"
   ]
  },
  {
   "cell_type": "markdown",
   "metadata": {},
   "source": [
    "We assume that `Target_Metastable_State` with unknown values are not Ground State. Instead they are filled with `All` per IAEA instructions."
   ]
  },
  {
   "cell_type": "code",
   "execution_count": 16,
   "metadata": {
    "ExecuteTime": {
     "end_time": "2020-09-26T05:32:48.145487Z",
     "start_time": "2020-09-26T05:32:47.985441Z"
    }
   },
   "outputs": [
    {
     "data": {
      "text/plain": [
       "array([' ', 'M', '1', '2'], dtype=object)"
      ]
     },
     "execution_count": 16,
     "metadata": {},
     "output_type": "execute_result"
    }
   ],
   "source": [
    "df[\"Target_Metastable_State\"].unique()"
   ]
  },
  {
   "cell_type": "code",
   "execution_count": 17,
   "metadata": {
    "ExecuteTime": {
     "end_time": "2020-09-26T05:32:48.305523Z",
     "start_time": "2020-09-26T05:32:48.146487Z"
    }
   },
   "outputs": [
    {
     "data": {
      "text/plain": [
       "array([' ', 'L', 'M', 'G', '2', '?', '+', '1'], dtype=object)"
      ]
     },
     "execution_count": 17,
     "metadata": {},
     "output_type": "execute_result"
    }
   ],
   "source": [
    "df[\"Product_Metastable_State\"].unique()"
   ]
  },
  {
   "cell_type": "code",
   "execution_count": 18,
   "metadata": {
    "ExecuteTime": {
     "end_time": "2020-09-26T05:32:53.175020Z",
     "start_time": "2020-09-26T05:32:48.306523Z"
    }
   },
   "outputs": [],
   "source": [
    "metastate_dict = {\" \": \"All_or_Total\", \"G\": \"Ground\", \"1\": \"M1\", \"2\": \"M2\", \"3\": \"M3\", \"4\": \"M4\", \n",
    "                  \"5\": \"M5\", \"?\": \"Unknown\", \"+\": \"More_than_1\", \"T\": \"All_or_Total\"}\n",
    "df = df.replace({\"Target_Metastable_State\": metastate_dict, \"Product_Metastable_State\": metastate_dict})"
   ]
  },
  {
   "cell_type": "code",
   "execution_count": 19,
   "metadata": {
    "ExecuteTime": {
     "end_time": "2020-09-26T05:32:53.448082Z",
     "start_time": "2020-09-26T05:32:53.176020Z"
    }
   },
   "outputs": [
    {
     "data": {
      "text/plain": [
       "array(['All_or_Total', 'M', 'M1', 'M2'], dtype=object)"
      ]
     },
     "execution_count": 19,
     "metadata": {},
     "output_type": "execute_result"
    }
   ],
   "source": [
    "df[\"Target_Metastable_State\"].unique()"
   ]
  },
  {
   "cell_type": "code",
   "execution_count": 20,
   "metadata": {
    "ExecuteTime": {
     "end_time": "2020-09-26T05:32:53.719143Z",
     "start_time": "2020-09-26T05:32:53.450083Z"
    }
   },
   "outputs": [
    {
     "data": {
      "text/plain": [
       "array(['All_or_Total', 'L', 'M', 'Ground', 'M2', 'Unknown', 'More_than_1',\n",
       "       'M1'], dtype=object)"
      ]
     },
     "execution_count": 20,
     "metadata": {},
     "output_type": "execute_result"
    }
   ],
   "source": [
    "df[\"Product_Metastable_State\"].unique()"
   ]
  },
  {
   "cell_type": "markdown",
   "metadata": {},
   "source": [
    "We assume that the `Frame` feature unknown values are `L` for Lab Frame."
   ]
  },
  {
   "cell_type": "code",
   "execution_count": 21,
   "metadata": {
    "ExecuteTime": {
     "end_time": "2020-09-26T05:32:53.880180Z",
     "start_time": "2020-09-26T05:32:53.720144Z"
    }
   },
   "outputs": [
    {
     "data": {
      "text/plain": [
       "array(['D', ' ', 'A', 'P', 'C', 'O', 'U', 'R'], dtype=object)"
      ]
     },
     "execution_count": 21,
     "metadata": {},
     "output_type": "execute_result"
    }
   ],
   "source": [
    "df[\"EXFOR_Status\"].unique()"
   ]
  },
  {
   "cell_type": "code",
   "execution_count": 22,
   "metadata": {
    "ExecuteTime": {
     "end_time": "2020-09-26T05:32:56.170707Z",
     "start_time": "2020-09-26T05:32:53.881180Z"
    }
   },
   "outputs": [],
   "source": [
    "exfor_status_dict = {\"U\":\"Un_normalized\", \"A\":\"Approved_by_Author\", \"C\":\"Correlated\", \"D\":\"Dependent\", \n",
    "                     \"O\":\"Outdated\", \"P\":\"Preliminary\", \"R\":\"Re_normalized\", \"S\":\"Superseded\", \" \":\"Other\"}\n",
    "df = df.replace({\"EXFOR_Status\": exfor_status_dict})"
   ]
  },
  {
   "cell_type": "code",
   "execution_count": 23,
   "metadata": {
    "ExecuteTime": {
     "end_time": "2020-09-26T05:32:56.428757Z",
     "start_time": "2020-09-26T05:32:56.171699Z"
    }
   },
   "outputs": [
    {
     "data": {
      "text/plain": [
       "array(['Dependent', 'Other', 'Approved_by_Author', 'Preliminary',\n",
       "       'Correlated', 'Outdated', 'Un_normalized', 'Re_normalized'],\n",
       "      dtype=object)"
      ]
     },
     "execution_count": 23,
     "metadata": {},
     "output_type": "execute_result"
    }
   ],
   "source": [
    "df[\"EXFOR_Status\"].unique()"
   ]
  },
  {
   "cell_type": "code",
   "execution_count": 24,
   "metadata": {
    "ExecuteTime": {
     "end_time": "2020-09-26T05:32:56.590794Z",
     "start_time": "2020-09-26T05:32:56.430757Z"
    }
   },
   "outputs": [
    {
     "data": {
      "text/plain": [
       "array([' ', 'C'], dtype=object)"
      ]
     },
     "execution_count": 24,
     "metadata": {},
     "output_type": "execute_result"
    }
   ],
   "source": [
    "df['Center_of_Mass_Flag'].unique()"
   ]
  },
  {
   "cell_type": "code",
   "execution_count": 25,
   "metadata": {
    "ExecuteTime": {
     "end_time": "2020-09-26T05:32:58.001125Z",
     "start_time": "2020-09-26T05:32:56.591794Z"
    }
   },
   "outputs": [],
   "source": [
    "df = df.replace({\"Center_of_Mass_Flag\": {\"C\":\"Center_of_Mass\", \" \":\"Lab\"}})"
   ]
  },
  {
   "cell_type": "code",
   "execution_count": 26,
   "metadata": {
    "ExecuteTime": {
     "end_time": "2020-09-26T05:32:58.179153Z",
     "start_time": "2020-09-26T05:32:58.003114Z"
    }
   },
   "outputs": [
    {
     "data": {
      "text/plain": [
       "array(['Lab', 'Center_of_Mass'], dtype=object)"
      ]
     },
     "execution_count": 26,
     "metadata": {},
     "output_type": "execute_result"
    }
   ],
   "source": [
    "df['Center_of_Mass_Flag'].unique()"
   ]
  },
  {
   "cell_type": "code",
   "execution_count": 27,
   "metadata": {
    "ExecuteTime": {
     "end_time": "2020-09-26T05:32:58.199158Z",
     "start_time": "2020-09-26T05:32:58.180154Z"
    }
   },
   "outputs": [
    {
     "data": {
      "text/html": [
       "<div>\n",
       "<style scoped>\n",
       "    .dataframe tbody tr th:only-of-type {\n",
       "        vertical-align: middle;\n",
       "    }\n",
       "\n",
       "    .dataframe tbody tr th {\n",
       "        vertical-align: top;\n",
       "    }\n",
       "\n",
       "    .dataframe thead th {\n",
       "        text-align: right;\n",
       "    }\n",
       "</style>\n",
       "<table border=\"1\" class=\"dataframe\">\n",
       "  <thead>\n",
       "    <tr style=\"text-align: right;\">\n",
       "      <th></th>\n",
       "      <th>Projectile</th>\n",
       "      <th>Target_ZA</th>\n",
       "      <th>Target_Metastable_State</th>\n",
       "      <th>MF</th>\n",
       "      <th>MT</th>\n",
       "      <th>Product_Metastable_State</th>\n",
       "      <th>EXFOR_Status</th>\n",
       "      <th>Center_of_Mass_Flag</th>\n",
       "      <th>Energy</th>\n",
       "      <th>dEnergy</th>\n",
       "      <th>Data</th>\n",
       "      <th>dData</th>\n",
       "      <th>Cos/LO</th>\n",
       "      <th>dCos/LO</th>\n",
       "      <th>ELV/HL</th>\n",
       "      <th>dELV/HL</th>\n",
       "      <th>I78</th>\n",
       "      <th>Short_Reference</th>\n",
       "      <th>EXFOR_Accession_Number</th>\n",
       "      <th>EXFOR_SubAccession_Number</th>\n",
       "      <th>EXFOR_Pointer</th>\n",
       "      <th>Z</th>\n",
       "      <th>A</th>\n",
       "      <th>N</th>\n",
       "    </tr>\n",
       "  </thead>\n",
       "  <tbody>\n",
       "    <tr>\n",
       "      <th>0</th>\n",
       "      <td>1</td>\n",
       "      <td>00001</td>\n",
       "      <td>All_or_Total</td>\n",
       "      <td>3</td>\n",
       "      <td>1</td>\n",
       "      <td>All_or_Total</td>\n",
       "      <td>Dependent</td>\n",
       "      <td>Lab</td>\n",
       "      <td>8.8200+7</td>\n",
       "      <td>882000.0</td>\n",
       "      <td>0.030000</td>\n",
       "      <td>1.5232-3</td>\n",
       "      <td></td>\n",
       "      <td></td>\n",
       "      <td></td>\n",
       "      <td></td>\n",
       "      <td></td>\n",
       "      <td>D.F.MEASDAY,ET.AL. (66)</td>\n",
       "      <td>11152</td>\n",
       "      <td>2</td>\n",
       "      <td>NaN</td>\n",
       "      <td>0</td>\n",
       "      <td>1</td>\n",
       "      <td>1</td>\n",
       "    </tr>\n",
       "    <tr>\n",
       "      <th>1</th>\n",
       "      <td>1</td>\n",
       "      <td>00001</td>\n",
       "      <td>All_or_Total</td>\n",
       "      <td>3</td>\n",
       "      <td>1</td>\n",
       "      <td>All_or_Total</td>\n",
       "      <td>Dependent</td>\n",
       "      <td>Lab</td>\n",
       "      <td>9.8100+7</td>\n",
       "      <td>981000.0</td>\n",
       "      <td>0.029100</td>\n",
       "      <td>1.5162-3</td>\n",
       "      <td></td>\n",
       "      <td></td>\n",
       "      <td></td>\n",
       "      <td></td>\n",
       "      <td></td>\n",
       "      <td>D.F.MEASDAY,ET.AL. (66)</td>\n",
       "      <td>11152</td>\n",
       "      <td>2</td>\n",
       "      <td>NaN</td>\n",
       "      <td>0</td>\n",
       "      <td>1</td>\n",
       "      <td>1</td>\n",
       "    </tr>\n",
       "    <tr>\n",
       "      <th>2</th>\n",
       "      <td>1</td>\n",
       "      <td>00001</td>\n",
       "      <td>All_or_Total</td>\n",
       "      <td>3</td>\n",
       "      <td>1</td>\n",
       "      <td>All_or_Total</td>\n",
       "      <td>Dependent</td>\n",
       "      <td>Lab</td>\n",
       "      <td>1.1000+8</td>\n",
       "      <td>1100000.</td>\n",
       "      <td>0.027900</td>\n",
       "      <td>1.4147-3</td>\n",
       "      <td></td>\n",
       "      <td></td>\n",
       "      <td></td>\n",
       "      <td></td>\n",
       "      <td></td>\n",
       "      <td>D.F.MEASDAY,ET.AL. (66)</td>\n",
       "      <td>11152</td>\n",
       "      <td>2</td>\n",
       "      <td>NaN</td>\n",
       "      <td>0</td>\n",
       "      <td>1</td>\n",
       "      <td>1</td>\n",
       "    </tr>\n",
       "    <tr>\n",
       "      <th>3</th>\n",
       "      <td>1</td>\n",
       "      <td>00001</td>\n",
       "      <td>All_or_Total</td>\n",
       "      <td>3</td>\n",
       "      <td>1</td>\n",
       "      <td>All_or_Total</td>\n",
       "      <td>Dependent</td>\n",
       "      <td>Lab</td>\n",
       "      <td>1.1960+8</td>\n",
       "      <td>1196000.</td>\n",
       "      <td>0.026400</td>\n",
       "      <td>1.4031-3</td>\n",
       "      <td></td>\n",
       "      <td></td>\n",
       "      <td></td>\n",
       "      <td></td>\n",
       "      <td></td>\n",
       "      <td>D.F.MEASDAY,ET.AL. (66)</td>\n",
       "      <td>11152</td>\n",
       "      <td>2</td>\n",
       "      <td>NaN</td>\n",
       "      <td>0</td>\n",
       "      <td>1</td>\n",
       "      <td>1</td>\n",
       "    </tr>\n",
       "    <tr>\n",
       "      <th>4</th>\n",
       "      <td>1</td>\n",
       "      <td>00001</td>\n",
       "      <td>All_or_Total</td>\n",
       "      <td>3</td>\n",
       "      <td>1</td>\n",
       "      <td>All_or_Total</td>\n",
       "      <td>Dependent</td>\n",
       "      <td>Lab</td>\n",
       "      <td>1.2940+8</td>\n",
       "      <td>1294000.</td>\n",
       "      <td>0.025600</td>\n",
       "      <td>1.3972-3</td>\n",
       "      <td></td>\n",
       "      <td></td>\n",
       "      <td></td>\n",
       "      <td></td>\n",
       "      <td></td>\n",
       "      <td>D.F.MEASDAY,ET.AL. (66)</td>\n",
       "      <td>11152</td>\n",
       "      <td>2</td>\n",
       "      <td>NaN</td>\n",
       "      <td>0</td>\n",
       "      <td>1</td>\n",
       "      <td>1</td>\n",
       "    </tr>\n",
       "  </tbody>\n",
       "</table>\n",
       "</div>"
      ],
      "text/plain": [
       "   Projectile Target_ZA Target_Metastable_State  MF  MT  \\\n",
       "0           1     00001            All_or_Total   3   1   \n",
       "1           1     00001            All_or_Total   3   1   \n",
       "2           1     00001            All_or_Total   3   1   \n",
       "3           1     00001            All_or_Total   3   1   \n",
       "4           1     00001            All_or_Total   3   1   \n",
       "\n",
       "  Product_Metastable_State EXFOR_Status Center_of_Mass_Flag     Energy  \\\n",
       "0             All_or_Total    Dependent                 Lab   8.8200+7   \n",
       "1             All_or_Total    Dependent                 Lab   9.8100+7   \n",
       "2             All_or_Total    Dependent                 Lab   1.1000+8   \n",
       "3             All_or_Total    Dependent                 Lab   1.1960+8   \n",
       "4             All_or_Total    Dependent                 Lab   1.2940+8   \n",
       "\n",
       "     dEnergy       Data      dData     Cos/LO    dCos/LO     ELV/HL  \\\n",
       "0   882000.0   0.030000   1.5232-3                                    \n",
       "1   981000.0   0.029100   1.5162-3                                    \n",
       "2   1100000.   0.027900   1.4147-3                                    \n",
       "3   1196000.   0.026400   1.4031-3                                    \n",
       "4   1294000.   0.025600   1.3972-3                                    \n",
       "\n",
       "     dELV/HL  I78            Short_Reference EXFOR_Accession_Number  \\\n",
       "0                  D.F.MEASDAY,ET.AL. (66)                    11152   \n",
       "1                  D.F.MEASDAY,ET.AL. (66)                    11152   \n",
       "2                  D.F.MEASDAY,ET.AL. (66)                    11152   \n",
       "3                  D.F.MEASDAY,ET.AL. (66)                    11152   \n",
       "4                  D.F.MEASDAY,ET.AL. (66)                    11152   \n",
       "\n",
       "   EXFOR_SubAccession_Number EXFOR_Pointer  Z  A  N  \n",
       "0                          2           NaN  0  1  1  \n",
       "1                          2           NaN  0  1  1  \n",
       "2                          2           NaN  0  1  1  \n",
       "3                          2           NaN  0  1  1  \n",
       "4                          2           NaN  0  1  1  "
      ]
     },
     "execution_count": 27,
     "metadata": {},
     "output_type": "execute_result"
    }
   ],
   "source": [
    "df.head()"
   ]
  },
  {
   "cell_type": "markdown",
   "metadata": {},
   "source": [
    "## Fixing numerical features formatting."
   ]
  },
  {
   "cell_type": "code",
   "execution_count": 28,
   "metadata": {
    "ExecuteTime": {
     "end_time": "2020-09-26T05:33:03.943471Z",
     "start_time": "2020-09-26T05:32:58.201158Z"
    }
   },
   "outputs": [],
   "source": [
    "# Defining Numerical Columns to Fix and casting them as strings\n",
    "cols = [\"Energy\", \"dEnergy\", \"Data\", \"dData\", \"Cos/LO\", \"dCos/LO\", \"ELV/HL\", \"dELV/HL\"]\n",
    "df[cols] = df[cols].astype(str)"
   ]
  },
  {
   "cell_type": "code",
   "execution_count": 29,
   "metadata": {
    "ExecuteTime": {
     "end_time": "2020-09-26T05:33:28.577193Z",
     "start_time": "2020-09-26T05:33:03.944458Z"
    }
   },
   "outputs": [],
   "source": [
    "# df[cols] = df[cols].replace(to_replace=\"         \", value=\"0.0000000\")\n",
    "df[cols] = df[cols].replace(to_replace=\"         \", value=np.nan)\n",
    "\n",
    "# We now strip values that may contain quatation marks and starting and trailing spaces\n",
    "for col in cols:\n",
    "    df[col] = df[col].str.strip(\"\\\"\")\n",
    "    df[col] = df[col].str.strip()\n",
    "    \n",
    "# df[cols] = df[cols].replace(to_replace=\"\", value=\"0.0000000\")\n",
    "df[cols] = df[cols].replace(to_replace=\"\", value=np.nan)"
   ]
  },
  {
   "cell_type": "code",
   "execution_count": 30,
   "metadata": {
    "ExecuteTime": {
     "end_time": "2020-09-26T05:33:53.017928Z",
     "start_time": "2020-09-26T05:33:28.578195Z"
    }
   },
   "outputs": [],
   "source": [
    "# For the numerical values we know per formatting that each of them should be 9 characters in length\n",
    "max_length = 9\n",
    "\n",
    "for col in cols:\n",
    "    df[col] = df[col].apply(lambda x: x if pd.isnull(x) else ' '*(max_length - len(x)) + x) "
   ]
  },
  {
   "cell_type": "code",
   "execution_count": 31,
   "metadata": {
    "ExecuteTime": {
     "end_time": "2020-09-26T05:34:22.798752Z",
     "start_time": "2020-09-26T05:33:53.018730Z"
    }
   },
   "outputs": [],
   "source": [
    "# Add appropiate formating for python to recognize it as numerical \n",
    "for col in cols:\n",
    "    new_col = []\n",
    "    values = df[col].values\n",
    "    for x in values:\n",
    "        if pd.isnull(x):\n",
    "            new_col.append(x)\n",
    "        elif \"+\" == x[7]:\n",
    "            y = x[0:7]\n",
    "            z = x[7:]\n",
    "            new_col.append(y + \"E\" + z)\n",
    "        elif \"+\" == x[6]:\n",
    "            y = x[0:6]\n",
    "            z = x[6:]\n",
    "            new_col.append(y + \"E\" + z)\n",
    "        elif \"-\" == x[7]:\n",
    "            y = x[0:7]\n",
    "            z = x[7:]\n",
    "            new_col.append(y + \"E\" + z)\n",
    "        elif \"-\" == x[6]:\n",
    "            y = x[0:6]\n",
    "            z = x[6:]\n",
    "            new_col.append(y + \"E\" + z)\n",
    "        else:\n",
    "            new_col.append(x)\n",
    "    df[col] = new_col"
   ]
  },
  {
   "cell_type": "code",
   "execution_count": 32,
   "metadata": {
    "ExecuteTime": {
     "end_time": "2020-09-26T05:34:32.159299Z",
     "start_time": "2020-09-26T05:34:22.799744Z"
    }
   },
   "outputs": [
    {
     "name": "stdout",
     "output_type": "stream",
     "text": [
      "Finish converting Energy to float.\n",
      "Finish converting dEnergy to float.\n",
      "Finish converting Data to float.\n",
      "Finish converting dData to float.\n",
      "Finish converting Cos/LO to float.\n",
      "Finish converting dCos/LO to float.\n",
      "Finish converting ELV/HL to float.\n",
      "Finish converting dELV/HL to float.\n"
     ]
    }
   ],
   "source": [
    "# We now convert the columns to numerical\n",
    "for col in cols:\n",
    "    df[col] = df[col].astype(float)\n",
    "    print(\"Finish converting {} to float.\".format(col))"
   ]
  },
  {
   "cell_type": "markdown",
   "metadata": {},
   "source": [
    "## Specifying Categorical Columns"
   ]
  },
  {
   "cell_type": "code",
   "execution_count": 33,
   "metadata": {
    "ExecuteTime": {
     "end_time": "2020-09-26T05:34:59.596815Z",
     "start_time": "2020-09-26T05:34:32.160290Z"
    }
   },
   "outputs": [],
   "source": [
    "cat_cols = [\"Target_Metastable_State\", \"MF\", \"MT\", \"I78\", \"Product_Metastable_State\", \"Center_of_Mass_Flag\"]\n",
    "\n",
    "# Convering all columns to strings and stripping whitespace\n",
    "for col in cat_cols:\n",
    "    df[col] = df[col].astype(str)\n",
    "    df[col] = df[col].str.strip(\"\\\"\")\n",
    "    df[col] = df[col].str.strip()"
   ]
  },
  {
   "cell_type": "code",
   "execution_count": 34,
   "metadata": {
    "ExecuteTime": {
     "end_time": "2020-09-26T05:34:59.756843Z",
     "start_time": "2020-09-26T05:34:59.597815Z"
    }
   },
   "outputs": [
    {
     "data": {
      "text/plain": [
       "array(['', 'E2', 'LVL', 'EXC', 'DE2', 'HL'], dtype=object)"
      ]
     },
     "execution_count": 34,
     "metadata": {},
     "output_type": "execute_result"
    }
   ],
   "source": [
    "df.I78.unique()"
   ]
  },
  {
   "cell_type": "code",
   "execution_count": 35,
   "metadata": {
    "ExecuteTime": {
     "end_time": "2020-09-26T05:35:02.968750Z",
     "start_time": "2020-09-26T05:34:59.759852Z"
    }
   },
   "outputs": [],
   "source": [
    "df = df.replace({\"I78\": {\"E2\":\"Secondary_Energy\", \"LVL\":\"Level\", \"HL\":\"Half_Life\", \"DLV\":\"Level_Range\", \n",
    "                         \"EXC\":\"Excitation\", \"DE2\":\"Secondary_Energy_Range\", \"MIN\":\"Minimum_Energy\", \n",
    "                         \"MAX\":\"Maximum_Energy\", \"\":\"Other\"}})"
   ]
  },
  {
   "cell_type": "code",
   "execution_count": 36,
   "metadata": {
    "ExecuteTime": {
     "end_time": "2020-09-26T05:35:03.172784Z",
     "start_time": "2020-09-26T05:35:02.969738Z"
    }
   },
   "outputs": [
    {
     "data": {
      "text/plain": [
       "array(['Other', 'Secondary_Energy', 'Level', 'Excitation',\n",
       "       'Secondary_Energy_Range', 'Half_Life'], dtype=object)"
      ]
     },
     "execution_count": 36,
     "metadata": {},
     "output_type": "execute_result"
    }
   ],
   "source": [
    "df.I78.unique()"
   ]
  },
  {
   "cell_type": "code",
   "execution_count": 37,
   "metadata": {
    "ExecuteTime": {
     "end_time": "2020-09-26T05:35:04.447073Z",
     "start_time": "2020-09-26T05:35:03.173785Z"
    }
   },
   "outputs": [],
   "source": [
    "df.drop(columns=['Target_ZA'], inplace=True)"
   ]
  },
  {
   "cell_type": "code",
   "execution_count": 38,
   "metadata": {
    "ExecuteTime": {
     "end_time": "2020-09-26T05:35:04.468078Z",
     "start_time": "2020-09-26T05:35:04.448073Z"
    }
   },
   "outputs": [
    {
     "data": {
      "text/html": [
       "<div>\n",
       "<style scoped>\n",
       "    .dataframe tbody tr th:only-of-type {\n",
       "        vertical-align: middle;\n",
       "    }\n",
       "\n",
       "    .dataframe tbody tr th {\n",
       "        vertical-align: top;\n",
       "    }\n",
       "\n",
       "    .dataframe thead th {\n",
       "        text-align: right;\n",
       "    }\n",
       "</style>\n",
       "<table border=\"1\" class=\"dataframe\">\n",
       "  <thead>\n",
       "    <tr style=\"text-align: right;\">\n",
       "      <th></th>\n",
       "      <th>Projectile</th>\n",
       "      <th>Target_Metastable_State</th>\n",
       "      <th>MF</th>\n",
       "      <th>MT</th>\n",
       "      <th>Product_Metastable_State</th>\n",
       "      <th>EXFOR_Status</th>\n",
       "      <th>Center_of_Mass_Flag</th>\n",
       "      <th>Energy</th>\n",
       "      <th>dEnergy</th>\n",
       "      <th>Data</th>\n",
       "      <th>dData</th>\n",
       "      <th>Cos/LO</th>\n",
       "      <th>dCos/LO</th>\n",
       "      <th>ELV/HL</th>\n",
       "      <th>dELV/HL</th>\n",
       "      <th>I78</th>\n",
       "      <th>Short_Reference</th>\n",
       "      <th>EXFOR_Accession_Number</th>\n",
       "      <th>EXFOR_SubAccession_Number</th>\n",
       "      <th>EXFOR_Pointer</th>\n",
       "      <th>Z</th>\n",
       "      <th>A</th>\n",
       "      <th>N</th>\n",
       "    </tr>\n",
       "  </thead>\n",
       "  <tbody>\n",
       "    <tr>\n",
       "      <th>0</th>\n",
       "      <td>1</td>\n",
       "      <td>All_or_Total</td>\n",
       "      <td>3</td>\n",
       "      <td>1</td>\n",
       "      <td>All_or_Total</td>\n",
       "      <td>Dependent</td>\n",
       "      <td>Lab</td>\n",
       "      <td>88200000.0</td>\n",
       "      <td>882000.0</td>\n",
       "      <td>0.0300</td>\n",
       "      <td>0.001523</td>\n",
       "      <td>NaN</td>\n",
       "      <td>NaN</td>\n",
       "      <td>NaN</td>\n",
       "      <td>NaN</td>\n",
       "      <td>Other</td>\n",
       "      <td>D.F.MEASDAY,ET.AL. (66)</td>\n",
       "      <td>11152</td>\n",
       "      <td>2</td>\n",
       "      <td>NaN</td>\n",
       "      <td>0</td>\n",
       "      <td>1</td>\n",
       "      <td>1</td>\n",
       "    </tr>\n",
       "    <tr>\n",
       "      <th>1</th>\n",
       "      <td>1</td>\n",
       "      <td>All_or_Total</td>\n",
       "      <td>3</td>\n",
       "      <td>1</td>\n",
       "      <td>All_or_Total</td>\n",
       "      <td>Dependent</td>\n",
       "      <td>Lab</td>\n",
       "      <td>98100000.0</td>\n",
       "      <td>981000.0</td>\n",
       "      <td>0.0291</td>\n",
       "      <td>0.001516</td>\n",
       "      <td>NaN</td>\n",
       "      <td>NaN</td>\n",
       "      <td>NaN</td>\n",
       "      <td>NaN</td>\n",
       "      <td>Other</td>\n",
       "      <td>D.F.MEASDAY,ET.AL. (66)</td>\n",
       "      <td>11152</td>\n",
       "      <td>2</td>\n",
       "      <td>NaN</td>\n",
       "      <td>0</td>\n",
       "      <td>1</td>\n",
       "      <td>1</td>\n",
       "    </tr>\n",
       "    <tr>\n",
       "      <th>2</th>\n",
       "      <td>1</td>\n",
       "      <td>All_or_Total</td>\n",
       "      <td>3</td>\n",
       "      <td>1</td>\n",
       "      <td>All_or_Total</td>\n",
       "      <td>Dependent</td>\n",
       "      <td>Lab</td>\n",
       "      <td>110000000.0</td>\n",
       "      <td>1100000.0</td>\n",
       "      <td>0.0279</td>\n",
       "      <td>0.001415</td>\n",
       "      <td>NaN</td>\n",
       "      <td>NaN</td>\n",
       "      <td>NaN</td>\n",
       "      <td>NaN</td>\n",
       "      <td>Other</td>\n",
       "      <td>D.F.MEASDAY,ET.AL. (66)</td>\n",
       "      <td>11152</td>\n",
       "      <td>2</td>\n",
       "      <td>NaN</td>\n",
       "      <td>0</td>\n",
       "      <td>1</td>\n",
       "      <td>1</td>\n",
       "    </tr>\n",
       "    <tr>\n",
       "      <th>3</th>\n",
       "      <td>1</td>\n",
       "      <td>All_or_Total</td>\n",
       "      <td>3</td>\n",
       "      <td>1</td>\n",
       "      <td>All_or_Total</td>\n",
       "      <td>Dependent</td>\n",
       "      <td>Lab</td>\n",
       "      <td>119600000.0</td>\n",
       "      <td>1196000.0</td>\n",
       "      <td>0.0264</td>\n",
       "      <td>0.001403</td>\n",
       "      <td>NaN</td>\n",
       "      <td>NaN</td>\n",
       "      <td>NaN</td>\n",
       "      <td>NaN</td>\n",
       "      <td>Other</td>\n",
       "      <td>D.F.MEASDAY,ET.AL. (66)</td>\n",
       "      <td>11152</td>\n",
       "      <td>2</td>\n",
       "      <td>NaN</td>\n",
       "      <td>0</td>\n",
       "      <td>1</td>\n",
       "      <td>1</td>\n",
       "    </tr>\n",
       "    <tr>\n",
       "      <th>4</th>\n",
       "      <td>1</td>\n",
       "      <td>All_or_Total</td>\n",
       "      <td>3</td>\n",
       "      <td>1</td>\n",
       "      <td>All_or_Total</td>\n",
       "      <td>Dependent</td>\n",
       "      <td>Lab</td>\n",
       "      <td>129400000.0</td>\n",
       "      <td>1294000.0</td>\n",
       "      <td>0.0256</td>\n",
       "      <td>0.001397</td>\n",
       "      <td>NaN</td>\n",
       "      <td>NaN</td>\n",
       "      <td>NaN</td>\n",
       "      <td>NaN</td>\n",
       "      <td>Other</td>\n",
       "      <td>D.F.MEASDAY,ET.AL. (66)</td>\n",
       "      <td>11152</td>\n",
       "      <td>2</td>\n",
       "      <td>NaN</td>\n",
       "      <td>0</td>\n",
       "      <td>1</td>\n",
       "      <td>1</td>\n",
       "    </tr>\n",
       "  </tbody>\n",
       "</table>\n",
       "</div>"
      ],
      "text/plain": [
       "   Projectile Target_Metastable_State MF MT Product_Metastable_State  \\\n",
       "0           1            All_or_Total  3  1             All_or_Total   \n",
       "1           1            All_or_Total  3  1             All_or_Total   \n",
       "2           1            All_or_Total  3  1             All_or_Total   \n",
       "3           1            All_or_Total  3  1             All_or_Total   \n",
       "4           1            All_or_Total  3  1             All_or_Total   \n",
       "\n",
       "  EXFOR_Status Center_of_Mass_Flag       Energy    dEnergy    Data     dData  \\\n",
       "0    Dependent                 Lab   88200000.0   882000.0  0.0300  0.001523   \n",
       "1    Dependent                 Lab   98100000.0   981000.0  0.0291  0.001516   \n",
       "2    Dependent                 Lab  110000000.0  1100000.0  0.0279  0.001415   \n",
       "3    Dependent                 Lab  119600000.0  1196000.0  0.0264  0.001403   \n",
       "4    Dependent                 Lab  129400000.0  1294000.0  0.0256  0.001397   \n",
       "\n",
       "   Cos/LO  dCos/LO  ELV/HL  dELV/HL    I78            Short_Reference  \\\n",
       "0     NaN      NaN     NaN      NaN  Other  D.F.MEASDAY,ET.AL. (66)     \n",
       "1     NaN      NaN     NaN      NaN  Other  D.F.MEASDAY,ET.AL. (66)     \n",
       "2     NaN      NaN     NaN      NaN  Other  D.F.MEASDAY,ET.AL. (66)     \n",
       "3     NaN      NaN     NaN      NaN  Other  D.F.MEASDAY,ET.AL. (66)     \n",
       "4     NaN      NaN     NaN      NaN  Other  D.F.MEASDAY,ET.AL. (66)     \n",
       "\n",
       "  EXFOR_Accession_Number  EXFOR_SubAccession_Number EXFOR_Pointer  Z  A  N  \n",
       "0                  11152                          2           NaN  0  1  1  \n",
       "1                  11152                          2           NaN  0  1  1  \n",
       "2                  11152                          2           NaN  0  1  1  \n",
       "3                  11152                          2           NaN  0  1  1  \n",
       "4                  11152                          2           NaN  0  1  1  "
      ]
     },
     "execution_count": 38,
     "metadata": {},
     "output_type": "execute_result"
    }
   ],
   "source": [
    "df.head()"
   ]
  },
  {
   "cell_type": "markdown",
   "metadata": {},
   "source": [
    "## Appending Additional Information from EXFOR"
   ]
  },
  {
   "cell_type": "code",
   "execution_count": 39,
   "metadata": {
    "ExecuteTime": {
     "end_time": "2020-09-26T05:35:05.935422Z",
     "start_time": "2020-09-26T05:35:04.469078Z"
    }
   },
   "outputs": [],
   "source": [
    "# Reading experiments reaction notation\n",
    "df1 = pd.read_csv(os.path.join(tmp_path, \"reaction_notations.txt\"), delim_whitespace=True, header=None)\n",
    "df1.columns = [\"Reaction\", \"Reaction_Notation\"]\n",
    "\n",
    "# Reading Experiment Titles\n",
    "df2 = pd.read_csv(os.path.join(tmp_path, \"titles.txt\"), sep=\"#TITLE      \", header=None, engine=\"python\")\n",
    "df2.columns = [\"Keyword\", \"Title\"]\n",
    "\n",
    "# Reading Data Points per Experiment\n",
    "df3 = pd.read_csv(os.path.join(tmp_path, \"data_points_per_experiment_refined.txt\"),  delim_whitespace=True, header=None)\n",
    "df3.columns = [\"Data\", \"Multiple\"]\n",
    "\n",
    "# Reading Experiment Year\n",
    "df4 = pd.read_csv(os.path.join(tmp_path, \"years.txt\"), delim_whitespace=True, header=None)\n",
    "df4.columns = [\"Keyword\", \"Year\"]\n",
    "\n",
    "# Reading Experiment Date\n",
    "df5 = pd.read_csv(os.path.join(tmp_path, \"authors.txt\"), sep=\"    \", header=None, engine=\"python\")\n",
    "df5.columns = [\"Keyword\", \"Author\"]\n",
    "\n",
    "# Reading Experiment Institute\n",
    "df6 = pd.read_csv(os.path.join(tmp_path, \"institutes.txt\"), sep=\"  \", header=None, engine=\"python\")\n",
    "df6.columns = [\"Keyword\", \"Institute\"]\n",
    "\n",
    "# Reading Experiment Year\n",
    "df7 = pd.read_csv(os.path.join(tmp_path, \"dates.txt\"), delim_whitespace=True, header=None)\n",
    "df7.columns = [\"Keyword\", \"Date\"]\n",
    "\n",
    "# Reading Experiment Refere\n",
    "df8 = pd.read_csv(os.path.join(tmp_path, \"references.txt\"), sep=\"#REFERENCE  \", header=None, engine=\"python\")\n",
    "df8.columns = [\"Keyword\", \"Reference\"]\n",
    "\n",
    "# Reading Dataset Number\n",
    "df9 = pd.read_csv(os.path.join(tmp_path, \"dataset_num.txt\"), sep=\"#DATASET    \", header=None, engine=\"python\")\n",
    "df9.columns = [\"Keyword\", \"Dataset_Number\"]\n",
    "\n",
    "# Reading EXFOR entry number\n",
    "df10 = pd.read_csv(os.path.join(tmp_path, \"entry.txt\"), sep=\"#ENTRY      \", header=None, engine=\"python\")\n",
    "df10.columns = [\"Keyword\", \"EXFOR_Entry\"]\n",
    "\n",
    "# Reading reference code\n",
    "df11 = pd.read_csv(os.path.join(tmp_path, \"refcode.txt\"), sep=\"#REF-CODE   \", header=None, engine=\"python\")\n",
    "df11.columns = [\"Keyword\", \"Reference_Code\"]"
   ]
  },
  {
   "cell_type": "code",
   "execution_count": 40,
   "metadata": {
    "ExecuteTime": {
     "end_time": "2020-09-26T05:35:07.806834Z",
     "start_time": "2020-09-26T05:35:05.936410Z"
    }
   },
   "outputs": [
    {
     "name": "stderr",
     "output_type": "stream",
     "text": [
      "INFO:root:EXFOR CSV: Expanding information based on the number of datapoints per experimental campaign...\n"
     ]
    }
   ],
   "source": [
    "# Merging Datapoints, notation and titles and expanding based on datapoints\n",
    "logging.info(\"EXFOR CSV: Expanding information based on the number of datapoints per experimental campaign...\")\n",
    "pre_final = pd.concat([df3, df1, df2, df4, df5, df6, df7, df8, df9, df10, df11], axis=1)\n",
    "final = pre_final.reindex(pre_final.index.repeat(pre_final.Multiple))\n",
    "final['position'] = final.groupby(level=0).cumcount() + 1"
   ]
  },
  {
   "cell_type": "code",
   "execution_count": 41,
   "metadata": {
    "ExecuteTime": {
     "end_time": "2020-09-26T05:35:07.809836Z",
     "start_time": "2020-09-26T05:35:07.807834Z"
    }
   },
   "outputs": [],
   "source": [
    "# # Extracting projectile and outogoing particle\n",
    "# final[\"reaction_notation\"] = final.Type.str.extract('.*\\((.*)\\).*')\n",
    "\n",
    "# final[\"reaction_notation2\"] = final[\"reaction_notation\"].apply(lambda x: x.split(')')[0])\n",
    "# final = pd.concat([final, final[\"reaction_notation2\"].str.split(',', expand=True)], axis=1)"
   ]
  },
  {
   "cell_type": "code",
   "execution_count": 42,
   "metadata": {
    "ExecuteTime": {
     "end_time": "2020-09-26T05:35:07.818837Z",
     "start_time": "2020-09-26T05:35:07.810835Z"
    }
   },
   "outputs": [],
   "source": [
    "# # Formatting Columns\n",
    "# new_columns = list(final.columns)\n",
    "# new_columns.extend([\"Projectile\", \"Out\"])\n",
    "# final.columns = new_columns"
   ]
  },
  {
   "cell_type": "code",
   "execution_count": 43,
   "metadata": {
    "ExecuteTime": {
     "end_time": "2020-09-26T05:35:08.791056Z",
     "start_time": "2020-09-26T05:35:07.819837Z"
    }
   },
   "outputs": [],
   "source": [
    "# Indexing only required information and saving file\n",
    "final = final[[\"Reaction_Notation\", \"Title\", \"Year\", \"Author\", \"Institute\", \"Date\", \"Reference\", \n",
    "               \"Dataset_Number\", \"EXFOR_Entry\", \"Reference_Code\"]]"
   ]
  },
  {
   "cell_type": "code",
   "execution_count": 44,
   "metadata": {
    "ExecuteTime": {
     "end_time": "2020-09-26T05:35:09.687268Z",
     "start_time": "2020-09-26T05:35:08.792057Z"
    }
   },
   "outputs": [],
   "source": [
    "# Verify all data matches.\n",
    "df.shape[0] == final.shape[0]\n",
    "\n",
    "# Reset Indexes to make copying faster\n",
    "df = df.reset_index(drop=True)\n",
    "final = final.reset_index(drop=True)"
   ]
  },
  {
   "cell_type": "code",
   "execution_count": 45,
   "metadata": {
    "ExecuteTime": {
     "end_time": "2020-09-26T05:35:09.700263Z",
     "start_time": "2020-09-26T05:35:09.688259Z"
    }
   },
   "outputs": [
    {
     "data": {
      "text/html": [
       "<div>\n",
       "<style scoped>\n",
       "    .dataframe tbody tr th:only-of-type {\n",
       "        vertical-align: middle;\n",
       "    }\n",
       "\n",
       "    .dataframe tbody tr th {\n",
       "        vertical-align: top;\n",
       "    }\n",
       "\n",
       "    .dataframe thead th {\n",
       "        text-align: right;\n",
       "    }\n",
       "</style>\n",
       "<table border=\"1\" class=\"dataframe\">\n",
       "  <thead>\n",
       "    <tr style=\"text-align: right;\">\n",
       "      <th></th>\n",
       "      <th>Reaction_Notation</th>\n",
       "      <th>Title</th>\n",
       "      <th>Year</th>\n",
       "      <th>Author</th>\n",
       "      <th>Institute</th>\n",
       "      <th>Date</th>\n",
       "      <th>Reference</th>\n",
       "      <th>Dataset_Number</th>\n",
       "      <th>EXFOR_Entry</th>\n",
       "      <th>Reference_Code</th>\n",
       "    </tr>\n",
       "  </thead>\n",
       "  <tbody>\n",
       "    <tr>\n",
       "      <th>0</th>\n",
       "      <td>0-NN-1(N,TOT),,SIG</td>\n",
       "      <td>NEUTRON TOTAL CROSS SECTIONS FOR NEUTRONS, PRO...</td>\n",
       "      <td>1966</td>\n",
       "      <td>D.F.Measday+</td>\n",
       "      <td>(1USAHRV)</td>\n",
       "      <td>19800804</td>\n",
       "      <td>Jour. Nuclear Physics Vol.85, p.142, 1966</td>\n",
       "      <td>11152002</td>\n",
       "      <td>11152</td>\n",
       "      <td>(J,NP,85,142,6609)</td>\n",
       "    </tr>\n",
       "    <tr>\n",
       "      <th>1</th>\n",
       "      <td>0-NN-1(N,TOT),,SIG</td>\n",
       "      <td>NEUTRON TOTAL CROSS SECTIONS FOR NEUTRONS, PRO...</td>\n",
       "      <td>1966</td>\n",
       "      <td>D.F.Measday+</td>\n",
       "      <td>(1USAHRV)</td>\n",
       "      <td>19800804</td>\n",
       "      <td>Jour. Nuclear Physics Vol.85, p.142, 1966</td>\n",
       "      <td>11152002</td>\n",
       "      <td>11152</td>\n",
       "      <td>(J,NP,85,142,6609)</td>\n",
       "    </tr>\n",
       "    <tr>\n",
       "      <th>2</th>\n",
       "      <td>0-NN-1(N,TOT),,SIG</td>\n",
       "      <td>NEUTRON TOTAL CROSS SECTIONS FOR NEUTRONS, PRO...</td>\n",
       "      <td>1966</td>\n",
       "      <td>D.F.Measday+</td>\n",
       "      <td>(1USAHRV)</td>\n",
       "      <td>19800804</td>\n",
       "      <td>Jour. Nuclear Physics Vol.85, p.142, 1966</td>\n",
       "      <td>11152002</td>\n",
       "      <td>11152</td>\n",
       "      <td>(J,NP,85,142,6609)</td>\n",
       "    </tr>\n",
       "    <tr>\n",
       "      <th>3</th>\n",
       "      <td>0-NN-1(N,TOT),,SIG</td>\n",
       "      <td>NEUTRON TOTAL CROSS SECTIONS FOR NEUTRONS, PRO...</td>\n",
       "      <td>1966</td>\n",
       "      <td>D.F.Measday+</td>\n",
       "      <td>(1USAHRV)</td>\n",
       "      <td>19800804</td>\n",
       "      <td>Jour. Nuclear Physics Vol.85, p.142, 1966</td>\n",
       "      <td>11152002</td>\n",
       "      <td>11152</td>\n",
       "      <td>(J,NP,85,142,6609)</td>\n",
       "    </tr>\n",
       "    <tr>\n",
       "      <th>4</th>\n",
       "      <td>0-NN-1(N,TOT),,SIG</td>\n",
       "      <td>NEUTRON TOTAL CROSS SECTIONS FOR NEUTRONS, PRO...</td>\n",
       "      <td>1966</td>\n",
       "      <td>D.F.Measday+</td>\n",
       "      <td>(1USAHRV)</td>\n",
       "      <td>19800804</td>\n",
       "      <td>Jour. Nuclear Physics Vol.85, p.142, 1966</td>\n",
       "      <td>11152002</td>\n",
       "      <td>11152</td>\n",
       "      <td>(J,NP,85,142,6609)</td>\n",
       "    </tr>\n",
       "  </tbody>\n",
       "</table>\n",
       "</div>"
      ],
      "text/plain": [
       "    Reaction_Notation                                              Title  \\\n",
       "0  0-NN-1(N,TOT),,SIG  NEUTRON TOTAL CROSS SECTIONS FOR NEUTRONS, PRO...   \n",
       "1  0-NN-1(N,TOT),,SIG  NEUTRON TOTAL CROSS SECTIONS FOR NEUTRONS, PRO...   \n",
       "2  0-NN-1(N,TOT),,SIG  NEUTRON TOTAL CROSS SECTIONS FOR NEUTRONS, PRO...   \n",
       "3  0-NN-1(N,TOT),,SIG  NEUTRON TOTAL CROSS SECTIONS FOR NEUTRONS, PRO...   \n",
       "4  0-NN-1(N,TOT),,SIG  NEUTRON TOTAL CROSS SECTIONS FOR NEUTRONS, PRO...   \n",
       "\n",
       "   Year        Author  Institute      Date  \\\n",
       "0  1966  D.F.Measday+  (1USAHRV)  19800804   \n",
       "1  1966  D.F.Measday+  (1USAHRV)  19800804   \n",
       "2  1966  D.F.Measday+  (1USAHRV)  19800804   \n",
       "3  1966  D.F.Measday+  (1USAHRV)  19800804   \n",
       "4  1966  D.F.Measday+  (1USAHRV)  19800804   \n",
       "\n",
       "                                   Reference Dataset_Number EXFOR_Entry  \\\n",
       "0  Jour. Nuclear Physics Vol.85, p.142, 1966       11152002       11152   \n",
       "1  Jour. Nuclear Physics Vol.85, p.142, 1966       11152002       11152   \n",
       "2  Jour. Nuclear Physics Vol.85, p.142, 1966       11152002       11152   \n",
       "3  Jour. Nuclear Physics Vol.85, p.142, 1966       11152002       11152   \n",
       "4  Jour. Nuclear Physics Vol.85, p.142, 1966       11152002       11152   \n",
       "\n",
       "       Reference_Code  \n",
       "0  (J,NP,85,142,6609)  \n",
       "1  (J,NP,85,142,6609)  \n",
       "2  (J,NP,85,142,6609)  \n",
       "3  (J,NP,85,142,6609)  \n",
       "4  (J,NP,85,142,6609)  "
      ]
     },
     "execution_count": 45,
     "metadata": {},
     "output_type": "execute_result"
    }
   ],
   "source": [
    "final.head()"
   ]
  },
  {
   "cell_type": "code",
   "execution_count": 46,
   "metadata": {
    "ExecuteTime": {
     "end_time": "2020-09-26T05:35:09.972333Z",
     "start_time": "2020-09-26T05:35:09.701263Z"
    }
   },
   "outputs": [],
   "source": [
    "# Assign newly extracted data to main dataframe\n",
    "df[\"Reaction_Notation\"] = final[\"Reaction_Notation\"]\n",
    "df[\"Title\"] = final[\"Title\"]\n",
    "df[\"Year\"] = final[\"Year\"]\n",
    "df[\"Author\"] = final[\"Author\"]\n",
    "df[\"Institute\"] = final[\"Institute\"]\n",
    "df[\"Date\"] = final[\"Date\"]\n",
    "df[\"Reference\"] = final[\"Reference\"]\n",
    "df[\"Dataset_Number\"] = final[\"Dataset_Number\"]\n",
    "df[\"EXFOR_Entry\"] = final[\"EXFOR_Entry\"]\n",
    "df[\"Reference_Code\"] = final[\"Reference_Code\"]"
   ]
  },
  {
   "cell_type": "markdown",
   "metadata": {},
   "source": [
    "Shape must be 6007126"
   ]
  },
  {
   "cell_type": "code",
   "execution_count": 47,
   "metadata": {
    "ExecuteTime": {
     "end_time": "2020-09-26T05:35:11.810740Z",
     "start_time": "2020-09-26T05:35:09.973324Z"
    }
   },
   "outputs": [],
   "source": [
    "# df = df[df.N != -1]\n",
    "# df[\"Reference\"] = df[\"Author\"] + \" \" + df[\"Reference\"]\n",
    "# df = df.drop(columns=[\"Refer\", \"Author\"])\n",
    "\n",
    "df.Title = df.Title.fillna(\"No Title Found. Check EXFOR.\")\n",
    "df.Reference = df.Reference.fillna(\"No Reference Found. Check EXFOR.\")\n",
    "df.Short_Reference = df.Short_Reference.fillna(\"No Reference Found. Check EXFOR.\")\n",
    "df.Reference_Code = df.Reference_Code.fillna(\"No Reference Code Found. Check EXFOR.\")\n",
    "df.Author = df.Author.fillna(\"No Author Found. Check EXFOR.\")\n",
    "df.EXFOR_Pointer = df.EXFOR_Pointer.fillna(\"No Pointer\")"
   ]
  },
  {
   "cell_type": "code",
   "execution_count": 48,
   "metadata": {
    "ExecuteTime": {
     "end_time": "2020-09-26T05:35:11.813742Z",
     "start_time": "2020-09-26T05:35:11.811741Z"
    }
   },
   "outputs": [],
   "source": [
    "import numbers"
   ]
  },
  {
   "cell_type": "code",
   "execution_count": 49,
   "metadata": {
    "ExecuteTime": {
     "end_time": "2020-09-26T05:35:23.696432Z",
     "start_time": "2020-09-26T05:35:11.815743Z"
    }
   },
   "outputs": [],
   "source": [
    "df.EXFOR_Pointer = df.EXFOR_Pointer.apply(lambda x: str(int(x)) if isinstance(x, numbers.Number) else x)\n",
    "df.Date = df.Date.apply(lambda x: str(x)[:4] + \"/\" + str(x)[4:6] + \"/\" + str(x)[6:])\n",
    "df.EXFOR_SubAccession_Number = df.EXFOR_SubAccession_Number.astype(int)\n",
    "df.Institute = df.Institute.apply(lambda x: x.replace(\"(\", \"\").replace(\")\", \"\"))"
   ]
  },
  {
   "cell_type": "code",
   "execution_count": 50,
   "metadata": {
    "ExecuteTime": {
     "end_time": "2020-09-26T05:35:27.572310Z",
     "start_time": "2020-09-26T05:35:23.697433Z"
    }
   },
   "outputs": [],
   "source": [
    "df = df.replace({'Projectile': {1: \"neutron\", 1001: \"proton\", 2003:\"helion\", 0:\"gamma\", 1002:\"deuteron\", 2004:\"alpha\"}})\n",
    "\n",
    "if df.Projectile.unique()[0] == \"neutron\":\n",
    "    Projectile_Z, Projectile_A, Projectile_N = 0, 1, 1\n",
    "elif df.Projectile.unique()[0] == \"proton\":\n",
    "    Projectile_Z, Projectile_A, Projectile_N = 1, 1, 0\n",
    "elif df.Projectile.unique()[0] == \"helion\":\n",
    "    Projectile_Z, Projectile_A, Projectile_N = 2, 3, 1\n",
    "elif df.Projectile.unique()[0] == \"gamma\":\n",
    "    Projectile_Z, Projectile_A, Projectile_N = 0, 0, 0\n",
    "elif df.Projectile.unique()[0] == \"deuteron\":\n",
    "    Projectile_Z, Projectile_A, Projectile_N = 1, 2, 1\n",
    "elif df.Projectile.unique()[0] == \"alpha\":\n",
    "    Projectile_Z, Projectile_A, Projectile_N = 2, 4, 2\n",
    "df[\"Projectile_Z\"] = Projectile_Z\n",
    "df[\"Projectile_A\"] = Projectile_A\n",
    "df[\"Projectile_N\"] = Projectile_N"
   ]
  },
  {
   "cell_type": "code",
   "execution_count": 51,
   "metadata": {
    "ExecuteTime": {
     "end_time": "2020-09-26T05:35:27.599317Z",
     "start_time": "2020-09-26T05:35:27.573311Z"
    }
   },
   "outputs": [
    {
     "data": {
      "text/html": [
       "<div>\n",
       "<style scoped>\n",
       "    .dataframe tbody tr th:only-of-type {\n",
       "        vertical-align: middle;\n",
       "    }\n",
       "\n",
       "    .dataframe tbody tr th {\n",
       "        vertical-align: top;\n",
       "    }\n",
       "\n",
       "    .dataframe thead th {\n",
       "        text-align: right;\n",
       "    }\n",
       "</style>\n",
       "<table border=\"1\" class=\"dataframe\">\n",
       "  <thead>\n",
       "    <tr style=\"text-align: right;\">\n",
       "      <th></th>\n",
       "      <th>Projectile</th>\n",
       "      <th>Target_Metastable_State</th>\n",
       "      <th>MF</th>\n",
       "      <th>MT</th>\n",
       "      <th>Product_Metastable_State</th>\n",
       "      <th>EXFOR_Status</th>\n",
       "      <th>Center_of_Mass_Flag</th>\n",
       "      <th>Energy</th>\n",
       "      <th>dEnergy</th>\n",
       "      <th>Data</th>\n",
       "      <th>dData</th>\n",
       "      <th>Cos/LO</th>\n",
       "      <th>dCos/LO</th>\n",
       "      <th>ELV/HL</th>\n",
       "      <th>dELV/HL</th>\n",
       "      <th>I78</th>\n",
       "      <th>Short_Reference</th>\n",
       "      <th>EXFOR_Accession_Number</th>\n",
       "      <th>EXFOR_SubAccession_Number</th>\n",
       "      <th>EXFOR_Pointer</th>\n",
       "      <th>Z</th>\n",
       "      <th>A</th>\n",
       "      <th>N</th>\n",
       "      <th>Reaction_Notation</th>\n",
       "      <th>Title</th>\n",
       "      <th>Year</th>\n",
       "      <th>Author</th>\n",
       "      <th>Institute</th>\n",
       "      <th>Date</th>\n",
       "      <th>Reference</th>\n",
       "      <th>Dataset_Number</th>\n",
       "      <th>EXFOR_Entry</th>\n",
       "      <th>Reference_Code</th>\n",
       "      <th>Projectile_Z</th>\n",
       "      <th>Projectile_A</th>\n",
       "      <th>Projectile_N</th>\n",
       "    </tr>\n",
       "  </thead>\n",
       "  <tbody>\n",
       "    <tr>\n",
       "      <th>0</th>\n",
       "      <td>neutron</td>\n",
       "      <td>All_or_Total</td>\n",
       "      <td>3</td>\n",
       "      <td>1</td>\n",
       "      <td>All_or_Total</td>\n",
       "      <td>Dependent</td>\n",
       "      <td>Lab</td>\n",
       "      <td>88200000.0</td>\n",
       "      <td>882000.0</td>\n",
       "      <td>0.0300</td>\n",
       "      <td>0.001523</td>\n",
       "      <td>NaN</td>\n",
       "      <td>NaN</td>\n",
       "      <td>NaN</td>\n",
       "      <td>NaN</td>\n",
       "      <td>Other</td>\n",
       "      <td>D.F.MEASDAY,ET.AL. (66)</td>\n",
       "      <td>11152</td>\n",
       "      <td>2</td>\n",
       "      <td>No Pointer</td>\n",
       "      <td>0</td>\n",
       "      <td>1</td>\n",
       "      <td>1</td>\n",
       "      <td>0-NN-1(N,TOT),,SIG</td>\n",
       "      <td>NEUTRON TOTAL CROSS SECTIONS FOR NEUTRONS, PRO...</td>\n",
       "      <td>1966</td>\n",
       "      <td>D.F.Measday+</td>\n",
       "      <td>1USAHRV</td>\n",
       "      <td>1980/08/04</td>\n",
       "      <td>Jour. Nuclear Physics Vol.85, p.142, 1966</td>\n",
       "      <td>11152002</td>\n",
       "      <td>11152</td>\n",
       "      <td>(J,NP,85,142,6609)</td>\n",
       "      <td>0</td>\n",
       "      <td>1</td>\n",
       "      <td>1</td>\n",
       "    </tr>\n",
       "    <tr>\n",
       "      <th>1</th>\n",
       "      <td>neutron</td>\n",
       "      <td>All_or_Total</td>\n",
       "      <td>3</td>\n",
       "      <td>1</td>\n",
       "      <td>All_or_Total</td>\n",
       "      <td>Dependent</td>\n",
       "      <td>Lab</td>\n",
       "      <td>98100000.0</td>\n",
       "      <td>981000.0</td>\n",
       "      <td>0.0291</td>\n",
       "      <td>0.001516</td>\n",
       "      <td>NaN</td>\n",
       "      <td>NaN</td>\n",
       "      <td>NaN</td>\n",
       "      <td>NaN</td>\n",
       "      <td>Other</td>\n",
       "      <td>D.F.MEASDAY,ET.AL. (66)</td>\n",
       "      <td>11152</td>\n",
       "      <td>2</td>\n",
       "      <td>No Pointer</td>\n",
       "      <td>0</td>\n",
       "      <td>1</td>\n",
       "      <td>1</td>\n",
       "      <td>0-NN-1(N,TOT),,SIG</td>\n",
       "      <td>NEUTRON TOTAL CROSS SECTIONS FOR NEUTRONS, PRO...</td>\n",
       "      <td>1966</td>\n",
       "      <td>D.F.Measday+</td>\n",
       "      <td>1USAHRV</td>\n",
       "      <td>1980/08/04</td>\n",
       "      <td>Jour. Nuclear Physics Vol.85, p.142, 1966</td>\n",
       "      <td>11152002</td>\n",
       "      <td>11152</td>\n",
       "      <td>(J,NP,85,142,6609)</td>\n",
       "      <td>0</td>\n",
       "      <td>1</td>\n",
       "      <td>1</td>\n",
       "    </tr>\n",
       "    <tr>\n",
       "      <th>2</th>\n",
       "      <td>neutron</td>\n",
       "      <td>All_or_Total</td>\n",
       "      <td>3</td>\n",
       "      <td>1</td>\n",
       "      <td>All_or_Total</td>\n",
       "      <td>Dependent</td>\n",
       "      <td>Lab</td>\n",
       "      <td>110000000.0</td>\n",
       "      <td>1100000.0</td>\n",
       "      <td>0.0279</td>\n",
       "      <td>0.001415</td>\n",
       "      <td>NaN</td>\n",
       "      <td>NaN</td>\n",
       "      <td>NaN</td>\n",
       "      <td>NaN</td>\n",
       "      <td>Other</td>\n",
       "      <td>D.F.MEASDAY,ET.AL. (66)</td>\n",
       "      <td>11152</td>\n",
       "      <td>2</td>\n",
       "      <td>No Pointer</td>\n",
       "      <td>0</td>\n",
       "      <td>1</td>\n",
       "      <td>1</td>\n",
       "      <td>0-NN-1(N,TOT),,SIG</td>\n",
       "      <td>NEUTRON TOTAL CROSS SECTIONS FOR NEUTRONS, PRO...</td>\n",
       "      <td>1966</td>\n",
       "      <td>D.F.Measday+</td>\n",
       "      <td>1USAHRV</td>\n",
       "      <td>1980/08/04</td>\n",
       "      <td>Jour. Nuclear Physics Vol.85, p.142, 1966</td>\n",
       "      <td>11152002</td>\n",
       "      <td>11152</td>\n",
       "      <td>(J,NP,85,142,6609)</td>\n",
       "      <td>0</td>\n",
       "      <td>1</td>\n",
       "      <td>1</td>\n",
       "    </tr>\n",
       "    <tr>\n",
       "      <th>3</th>\n",
       "      <td>neutron</td>\n",
       "      <td>All_or_Total</td>\n",
       "      <td>3</td>\n",
       "      <td>1</td>\n",
       "      <td>All_or_Total</td>\n",
       "      <td>Dependent</td>\n",
       "      <td>Lab</td>\n",
       "      <td>119600000.0</td>\n",
       "      <td>1196000.0</td>\n",
       "      <td>0.0264</td>\n",
       "      <td>0.001403</td>\n",
       "      <td>NaN</td>\n",
       "      <td>NaN</td>\n",
       "      <td>NaN</td>\n",
       "      <td>NaN</td>\n",
       "      <td>Other</td>\n",
       "      <td>D.F.MEASDAY,ET.AL. (66)</td>\n",
       "      <td>11152</td>\n",
       "      <td>2</td>\n",
       "      <td>No Pointer</td>\n",
       "      <td>0</td>\n",
       "      <td>1</td>\n",
       "      <td>1</td>\n",
       "      <td>0-NN-1(N,TOT),,SIG</td>\n",
       "      <td>NEUTRON TOTAL CROSS SECTIONS FOR NEUTRONS, PRO...</td>\n",
       "      <td>1966</td>\n",
       "      <td>D.F.Measday+</td>\n",
       "      <td>1USAHRV</td>\n",
       "      <td>1980/08/04</td>\n",
       "      <td>Jour. Nuclear Physics Vol.85, p.142, 1966</td>\n",
       "      <td>11152002</td>\n",
       "      <td>11152</td>\n",
       "      <td>(J,NP,85,142,6609)</td>\n",
       "      <td>0</td>\n",
       "      <td>1</td>\n",
       "      <td>1</td>\n",
       "    </tr>\n",
       "    <tr>\n",
       "      <th>4</th>\n",
       "      <td>neutron</td>\n",
       "      <td>All_or_Total</td>\n",
       "      <td>3</td>\n",
       "      <td>1</td>\n",
       "      <td>All_or_Total</td>\n",
       "      <td>Dependent</td>\n",
       "      <td>Lab</td>\n",
       "      <td>129400000.0</td>\n",
       "      <td>1294000.0</td>\n",
       "      <td>0.0256</td>\n",
       "      <td>0.001397</td>\n",
       "      <td>NaN</td>\n",
       "      <td>NaN</td>\n",
       "      <td>NaN</td>\n",
       "      <td>NaN</td>\n",
       "      <td>Other</td>\n",
       "      <td>D.F.MEASDAY,ET.AL. (66)</td>\n",
       "      <td>11152</td>\n",
       "      <td>2</td>\n",
       "      <td>No Pointer</td>\n",
       "      <td>0</td>\n",
       "      <td>1</td>\n",
       "      <td>1</td>\n",
       "      <td>0-NN-1(N,TOT),,SIG</td>\n",
       "      <td>NEUTRON TOTAL CROSS SECTIONS FOR NEUTRONS, PRO...</td>\n",
       "      <td>1966</td>\n",
       "      <td>D.F.Measday+</td>\n",
       "      <td>1USAHRV</td>\n",
       "      <td>1980/08/04</td>\n",
       "      <td>Jour. Nuclear Physics Vol.85, p.142, 1966</td>\n",
       "      <td>11152002</td>\n",
       "      <td>11152</td>\n",
       "      <td>(J,NP,85,142,6609)</td>\n",
       "      <td>0</td>\n",
       "      <td>1</td>\n",
       "      <td>1</td>\n",
       "    </tr>\n",
       "  </tbody>\n",
       "</table>\n",
       "</div>"
      ],
      "text/plain": [
       "  Projectile Target_Metastable_State MF MT Product_Metastable_State  \\\n",
       "0    neutron            All_or_Total  3  1             All_or_Total   \n",
       "1    neutron            All_or_Total  3  1             All_or_Total   \n",
       "2    neutron            All_or_Total  3  1             All_or_Total   \n",
       "3    neutron            All_or_Total  3  1             All_or_Total   \n",
       "4    neutron            All_or_Total  3  1             All_or_Total   \n",
       "\n",
       "  EXFOR_Status Center_of_Mass_Flag       Energy    dEnergy    Data     dData  \\\n",
       "0    Dependent                 Lab   88200000.0   882000.0  0.0300  0.001523   \n",
       "1    Dependent                 Lab   98100000.0   981000.0  0.0291  0.001516   \n",
       "2    Dependent                 Lab  110000000.0  1100000.0  0.0279  0.001415   \n",
       "3    Dependent                 Lab  119600000.0  1196000.0  0.0264  0.001403   \n",
       "4    Dependent                 Lab  129400000.0  1294000.0  0.0256  0.001397   \n",
       "\n",
       "   Cos/LO  dCos/LO  ELV/HL  dELV/HL    I78            Short_Reference  \\\n",
       "0     NaN      NaN     NaN      NaN  Other  D.F.MEASDAY,ET.AL. (66)     \n",
       "1     NaN      NaN     NaN      NaN  Other  D.F.MEASDAY,ET.AL. (66)     \n",
       "2     NaN      NaN     NaN      NaN  Other  D.F.MEASDAY,ET.AL. (66)     \n",
       "3     NaN      NaN     NaN      NaN  Other  D.F.MEASDAY,ET.AL. (66)     \n",
       "4     NaN      NaN     NaN      NaN  Other  D.F.MEASDAY,ET.AL. (66)     \n",
       "\n",
       "  EXFOR_Accession_Number  EXFOR_SubAccession_Number EXFOR_Pointer  Z  A  N  \\\n",
       "0                  11152                          2    No Pointer  0  1  1   \n",
       "1                  11152                          2    No Pointer  0  1  1   \n",
       "2                  11152                          2    No Pointer  0  1  1   \n",
       "3                  11152                          2    No Pointer  0  1  1   \n",
       "4                  11152                          2    No Pointer  0  1  1   \n",
       "\n",
       "    Reaction_Notation                                              Title  \\\n",
       "0  0-NN-1(N,TOT),,SIG  NEUTRON TOTAL CROSS SECTIONS FOR NEUTRONS, PRO...   \n",
       "1  0-NN-1(N,TOT),,SIG  NEUTRON TOTAL CROSS SECTIONS FOR NEUTRONS, PRO...   \n",
       "2  0-NN-1(N,TOT),,SIG  NEUTRON TOTAL CROSS SECTIONS FOR NEUTRONS, PRO...   \n",
       "3  0-NN-1(N,TOT),,SIG  NEUTRON TOTAL CROSS SECTIONS FOR NEUTRONS, PRO...   \n",
       "4  0-NN-1(N,TOT),,SIG  NEUTRON TOTAL CROSS SECTIONS FOR NEUTRONS, PRO...   \n",
       "\n",
       "   Year        Author Institute        Date  \\\n",
       "0  1966  D.F.Measday+   1USAHRV  1980/08/04   \n",
       "1  1966  D.F.Measday+   1USAHRV  1980/08/04   \n",
       "2  1966  D.F.Measday+   1USAHRV  1980/08/04   \n",
       "3  1966  D.F.Measday+   1USAHRV  1980/08/04   \n",
       "4  1966  D.F.Measday+   1USAHRV  1980/08/04   \n",
       "\n",
       "                                   Reference Dataset_Number EXFOR_Entry  \\\n",
       "0  Jour. Nuclear Physics Vol.85, p.142, 1966       11152002       11152   \n",
       "1  Jour. Nuclear Physics Vol.85, p.142, 1966       11152002       11152   \n",
       "2  Jour. Nuclear Physics Vol.85, p.142, 1966       11152002       11152   \n",
       "3  Jour. Nuclear Physics Vol.85, p.142, 1966       11152002       11152   \n",
       "4  Jour. Nuclear Physics Vol.85, p.142, 1966       11152002       11152   \n",
       "\n",
       "       Reference_Code  Projectile_Z  Projectile_A  Projectile_N  \n",
       "0  (J,NP,85,142,6609)             0             1             1  \n",
       "1  (J,NP,85,142,6609)             0             1             1  \n",
       "2  (J,NP,85,142,6609)             0             1             1  \n",
       "3  (J,NP,85,142,6609)             0             1             1  \n",
       "4  (J,NP,85,142,6609)             0             1             1  "
      ]
     },
     "execution_count": 51,
     "metadata": {},
     "output_type": "execute_result"
    }
   ],
   "source": [
    "df.head()"
   ]
  },
  {
   "cell_type": "code",
   "execution_count": 52,
   "metadata": {
    "ExecuteTime": {
     "end_time": "2020-09-26T05:35:27.632333Z",
     "start_time": "2020-09-26T05:35:27.600317Z"
    }
   },
   "outputs": [],
   "source": [
    "element_w_a = objects.load_zan()\n",
    "element_w_a = pd.DataFrame.from_dict(element_w_a, orient='index')\n",
    "element_w_a.loc['12019'] = ['Heavy Water', 19, 1, 20, \"Heavy Water\"]"
   ]
  },
  {
   "cell_type": "code",
   "execution_count": 53,
   "metadata": {
    "ExecuteTime": {
     "end_time": "2020-09-26T05:35:40.073388Z",
     "start_time": "2020-09-26T05:35:27.633324Z"
    }
   },
   "outputs": [],
   "source": [
    "df = df.merge(element_w_a, on=['N', 'Z', 'A'], how='left')"
   ]
  },
  {
   "cell_type": "code",
   "execution_count": 54,
   "metadata": {
    "ExecuteTime": {
     "end_time": "2020-09-26T05:35:44.464555Z",
     "start_time": "2020-09-26T05:35:40.074388Z"
    }
   },
   "outputs": [],
   "source": [
    "df[[\"EXFOR_Accession_Number\", \"Dataset_Number\", \"EXFOR_Entry\"]]  = df[[\"EXFOR_Accession_Number\", \"Dataset_Number\", \"EXFOR_Entry\"]].astype(str)"
   ]
  },
  {
   "cell_type": "code",
   "execution_count": 55,
   "metadata": {
    "ExecuteTime": {
     "end_time": "2020-09-26T05:37:19.294926Z",
     "start_time": "2020-09-26T05:35:44.465546Z"
    }
   },
   "outputs": [
    {
     "name": "stderr",
     "output_type": "stream",
     "text": [
      "INFO:root:EXFOR CSV: Saving EXFOR CSV file to ../CSV_Files/EXFOR_neutrons/EXFOR_neutrons_ORIGINAL.csv...\n"
     ]
    }
   ],
   "source": [
    "# # Save Dataframe\n",
    "# df.to_csv(heavy_dir + \"/EXFOR_neutrons_ORIGINAL.csv\", index=False)\n",
    "\n",
    "csv_name = os.path.join(heavy_path, \"EXFOR_\" + mode + \"_ORIGINAL.csv\")\n",
    "logging.info(\"EXFOR CSV: Saving EXFOR CSV file to {}...\".format(csv_name))\n",
    "df.to_csv(csv_name, index=False)"
   ]
  },
  {
   "cell_type": "code",
   "execution_count": 56,
   "metadata": {
    "ExecuteTime": {
     "end_time": "2020-09-26T05:51:02.036570Z",
     "start_time": "2020-09-26T05:51:01.011338Z"
    }
   },
   "outputs": [],
   "source": [
    "df_copy = df.copy()"
   ]
  },
  {
   "cell_type": "code",
   "execution_count": 57,
   "metadata": {
    "ExecuteTime": {
     "end_time": "2020-09-26T05:51:02.041562Z",
     "start_time": "2020-09-26T05:51:02.037570Z"
    }
   },
   "outputs": [],
   "source": [
    "# df_original = df.copy()"
   ]
  },
  {
   "cell_type": "markdown",
   "metadata": {},
   "source": [
    "## Merging EXFOR and AME Data"
   ]
  },
  {
   "cell_type": "code",
   "execution_count": 58,
   "metadata": {
    "ExecuteTime": {
     "end_time": "2020-09-26T05:51:02.050564Z",
     "start_time": "2020-09-26T05:51:02.043563Z"
    }
   },
   "outputs": [],
   "source": [
    "# csv_name = os.path.join(heavy_dir, \"EXFOR_\" + mode + \"_ORIGINAL.csv\")\n",
    "# df = pd.read_csv(csv_name)"
   ]
  },
  {
   "cell_type": "code",
   "execution_count": 59,
   "metadata": {
    "ExecuteTime": {
     "end_time": "2020-09-26T05:51:03.193823Z",
     "start_time": "2020-09-26T05:51:02.051573Z"
    }
   },
   "outputs": [],
   "source": [
    "df_workxs = df.copy()"
   ]
  },
  {
   "cell_type": "code",
   "execution_count": 60,
   "metadata": {
    "ExecuteTime": {
     "end_time": "2020-09-26T05:51:03.199825Z",
     "start_time": "2020-09-26T05:51:03.195824Z"
    }
   },
   "outputs": [
    {
     "data": {
      "text/plain": [
       "Index(['Projectile', 'Target_Metastable_State', 'MF', 'MT',\n",
       "       'Product_Metastable_State', 'EXFOR_Status', 'Center_of_Mass_Flag',\n",
       "       'Energy', 'dEnergy', 'Data', 'dData', 'Cos/LO', 'dCos/LO', 'ELV/HL',\n",
       "       'dELV/HL', 'I78', 'Short_Reference', 'EXFOR_Accession_Number',\n",
       "       'EXFOR_SubAccession_Number', 'EXFOR_Pointer', 'Z', 'A', 'N',\n",
       "       'Reaction_Notation', 'Title', 'Year', 'Author', 'Institute', 'Date',\n",
       "       'Reference', 'Dataset_Number', 'EXFOR_Entry', 'Reference_Code',\n",
       "       'Projectile_Z', 'Projectile_A', 'Projectile_N', 'Isotope', 'Element'],\n",
       "      dtype='object')"
      ]
     },
     "execution_count": 60,
     "metadata": {},
     "output_type": "execute_result"
    }
   ],
   "source": [
    "df_workxs.columns"
   ]
  },
  {
   "cell_type": "code",
   "execution_count": 61,
   "metadata": {
    "ExecuteTime": {
     "end_time": "2020-09-26T05:51:03.458883Z",
     "start_time": "2020-09-26T05:51:03.350868Z"
    }
   },
   "outputs": [
    {
     "data": {
      "text/html": [
       "<div>\n",
       "<style scoped>\n",
       "    .dataframe tbody tr th:only-of-type {\n",
       "        vertical-align: middle;\n",
       "    }\n",
       "\n",
       "    .dataframe tbody tr th {\n",
       "        vertical-align: top;\n",
       "    }\n",
       "\n",
       "    .dataframe thead th {\n",
       "        text-align: right;\n",
       "    }\n",
       "</style>\n",
       "<table border=\"1\" class=\"dataframe\">\n",
       "  <thead>\n",
       "    <tr style=\"text-align: right;\">\n",
       "      <th></th>\n",
       "      <th>Neutrons</th>\n",
       "      <th>Z</th>\n",
       "      <th>Mass_Number</th>\n",
       "      <th>EL</th>\n",
       "      <th>O</th>\n",
       "      <th>Mass_Excess</th>\n",
       "      <th>dMass_Excess</th>\n",
       "      <th>Binding_Energy</th>\n",
       "      <th>dBinding_Energy</th>\n",
       "      <th>B_Decay_Energy</th>\n",
       "      <th>dB_Decay_Energy</th>\n",
       "      <th>Atomic_Mass_Micro</th>\n",
       "      <th>dAtomic_Mass_Micro</th>\n",
       "      <th>S(2n)</th>\n",
       "      <th>dS(2n)</th>\n",
       "      <th>S(2p)</th>\n",
       "      <th>dS(2p)</th>\n",
       "      <th>Q(a)</th>\n",
       "      <th>dQ(a)</th>\n",
       "      <th>Q(2B-)</th>\n",
       "      <th>dQ(2B-)</th>\n",
       "      <th>Q(ep)</th>\n",
       "      <th>dQ(ep)</th>\n",
       "      <th>Q(B-n)</th>\n",
       "      <th>dQ(B-n)</th>\n",
       "      <th>S(n)</th>\n",
       "      <th>dS(n)</th>\n",
       "      <th>S(p)</th>\n",
       "      <th>dS(p)</th>\n",
       "      <th>Q(4B-)</th>\n",
       "      <th>dQ(4B-)</th>\n",
       "      <th>Q(d,a)</th>\n",
       "      <th>dQ(d,a)</th>\n",
       "      <th>Q(p,a)</th>\n",
       "      <th>dQ(p,a)</th>\n",
       "      <th>Q(n,a)</th>\n",
       "      <th>dQ(n,a)</th>\n",
       "      <th>Q(g,p)</th>\n",
       "      <th>Q(g,n)</th>\n",
       "      <th>Q(g,pn)</th>\n",
       "      <th>Q(g,d)</th>\n",
       "      <th>Q(g,t)</th>\n",
       "      <th>Q(g,He3)</th>\n",
       "      <th>Q(g,2p)</th>\n",
       "      <th>Q(g,2n)</th>\n",
       "      <th>Q(g,a)</th>\n",
       "      <th>Q(p,n)</th>\n",
       "      <th>Q(p,2p)</th>\n",
       "      <th>Q(p,pn)</th>\n",
       "      <th>Q(p,d)</th>\n",
       "      <th>Q(p,2n)</th>\n",
       "      <th>Q(p,t)</th>\n",
       "      <th>Q(p,3He)</th>\n",
       "      <th>Q(n,2p)</th>\n",
       "      <th>Q(n,np)</th>\n",
       "      <th>Q(n,d)</th>\n",
       "      <th>Q(n,2n)</th>\n",
       "      <th>Q(n,t)</th>\n",
       "      <th>Q(n,3He)</th>\n",
       "      <th>Q(d,t)</th>\n",
       "      <th>Q(d,3He)</th>\n",
       "      <th>Q(3He,t)</th>\n",
       "      <th>Q(3He,a)</th>\n",
       "      <th>Q(t,a)</th>\n",
       "      <th>N</th>\n",
       "      <th>A</th>\n",
       "      <th>Element_Flag</th>\n",
       "    </tr>\n",
       "  </thead>\n",
       "  <tbody>\n",
       "    <tr>\n",
       "      <th>0</th>\n",
       "      <td>1</td>\n",
       "      <td>0</td>\n",
       "      <td>1</td>\n",
       "      <td>n</td>\n",
       "      <td>Other</td>\n",
       "      <td>8071.31713</td>\n",
       "      <td>0.00046</td>\n",
       "      <td>0.000</td>\n",
       "      <td>0.000</td>\n",
       "      <td>782.347</td>\n",
       "      <td>0.000</td>\n",
       "      <td>1.008665e+06</td>\n",
       "      <td>0.00049</td>\n",
       "      <td>NaN</td>\n",
       "      <td>NaN</td>\n",
       "      <td>NaN</td>\n",
       "      <td>NaN</td>\n",
       "      <td>NaN</td>\n",
       "      <td>NaN</td>\n",
       "      <td>NaN</td>\n",
       "      <td>NaN</td>\n",
       "      <td>NaN</td>\n",
       "      <td>NaN</td>\n",
       "      <td>NaN</td>\n",
       "      <td>NaN</td>\n",
       "      <td>0.00</td>\n",
       "      <td>0.00</td>\n",
       "      <td>NaN</td>\n",
       "      <td>NaN</td>\n",
       "      <td>NaN</td>\n",
       "      <td>NaN</td>\n",
       "      <td>NaN</td>\n",
       "      <td>NaN</td>\n",
       "      <td>NaN</td>\n",
       "      <td>NaN</td>\n",
       "      <td>NaN</td>\n",
       "      <td>NaN</td>\n",
       "      <td>NaN</td>\n",
       "      <td>0.00</td>\n",
       "      <td>NaN</td>\n",
       "      <td>NaN</td>\n",
       "      <td>NaN</td>\n",
       "      <td>NaN</td>\n",
       "      <td>NaN</td>\n",
       "      <td>NaN</td>\n",
       "      <td>NaN</td>\n",
       "      <td>0.0005</td>\n",
       "      <td>NaN</td>\n",
       "      <td>0.00</td>\n",
       "      <td>2224.566</td>\n",
       "      <td>NaN</td>\n",
       "      <td>NaN</td>\n",
       "      <td>NaN</td>\n",
       "      <td>NaN</td>\n",
       "      <td>NaN</td>\n",
       "      <td>NaN</td>\n",
       "      <td>0.00</td>\n",
       "      <td>NaN</td>\n",
       "      <td>NaN</td>\n",
       "      <td>6257.229</td>\n",
       "      <td>NaN</td>\n",
       "      <td>763.755</td>\n",
       "      <td>20577.6194</td>\n",
       "      <td>NaN</td>\n",
       "      <td>1</td>\n",
       "      <td>1</td>\n",
       "      <td>I</td>\n",
       "    </tr>\n",
       "    <tr>\n",
       "      <th>1</th>\n",
       "      <td>6</td>\n",
       "      <td>1</td>\n",
       "      <td>7</td>\n",
       "      <td>H</td>\n",
       "      <td>-nn</td>\n",
       "      <td>49135.00000</td>\n",
       "      <td>1004.00000</td>\n",
       "      <td>940.000</td>\n",
       "      <td>143.000</td>\n",
       "      <td>23062.000</td>\n",
       "      <td>1004.000</td>\n",
       "      <td>7.052749e+06</td>\n",
       "      <td>1078.00000</td>\n",
       "      <td>-100.00</td>\n",
       "      <td>1000.00</td>\n",
       "      <td>NaN</td>\n",
       "      <td>NaN</td>\n",
       "      <td>NaN</td>\n",
       "      <td>NaN</td>\n",
       "      <td>34228.00</td>\n",
       "      <td>1004.00</td>\n",
       "      <td>NaN</td>\n",
       "      <td>NaN</td>\n",
       "      <td>23472.00</td>\n",
       "      <td>1004.00</td>\n",
       "      <td>812.00</td>\n",
       "      <td>1036.00</td>\n",
       "      <td>NaN</td>\n",
       "      <td>NaN</td>\n",
       "      <td>21459.0</td>\n",
       "      <td>1004.0</td>\n",
       "      <td>NaN</td>\n",
       "      <td>NaN</td>\n",
       "      <td>NaN</td>\n",
       "      <td>NaN</td>\n",
       "      <td>NaN</td>\n",
       "      <td>NaN</td>\n",
       "      <td>NaN</td>\n",
       "      <td>-812.00</td>\n",
       "      <td>NaN</td>\n",
       "      <td>NaN</td>\n",
       "      <td>NaN</td>\n",
       "      <td>NaN</td>\n",
       "      <td>NaN</td>\n",
       "      <td>100.00</td>\n",
       "      <td>NaN</td>\n",
       "      <td>22279.6535</td>\n",
       "      <td>NaN</td>\n",
       "      <td>-812.00</td>\n",
       "      <td>1412.566</td>\n",
       "      <td>22689.6535</td>\n",
       "      <td>8581.7949</td>\n",
       "      <td>NaN</td>\n",
       "      <td>NaN</td>\n",
       "      <td>NaN</td>\n",
       "      <td>NaN</td>\n",
       "      <td>-812.00</td>\n",
       "      <td>NaN</td>\n",
       "      <td>NaN</td>\n",
       "      <td>5445.229</td>\n",
       "      <td>NaN</td>\n",
       "      <td>23043.408</td>\n",
       "      <td>19765.6194</td>\n",
       "      <td>NaN</td>\n",
       "      <td>6</td>\n",
       "      <td>7</td>\n",
       "      <td>I</td>\n",
       "    </tr>\n",
       "    <tr>\n",
       "      <th>2</th>\n",
       "      <td>5</td>\n",
       "      <td>1</td>\n",
       "      <td>6</td>\n",
       "      <td>H</td>\n",
       "      <td>-3n</td>\n",
       "      <td>41875.72100</td>\n",
       "      <td>254.12700</td>\n",
       "      <td>961.639</td>\n",
       "      <td>42.354</td>\n",
       "      <td>24283.626</td>\n",
       "      <td>254.127</td>\n",
       "      <td>6.044955e+06</td>\n",
       "      <td>272.81600</td>\n",
       "      <td>-1111.96</td>\n",
       "      <td>273.09</td>\n",
       "      <td>NaN</td>\n",
       "      <td>NaN</td>\n",
       "      <td>NaN</td>\n",
       "      <td>NaN</td>\n",
       "      <td>27788.84</td>\n",
       "      <td>254.13</td>\n",
       "      <td>NaN</td>\n",
       "      <td>NaN</td>\n",
       "      <td>22573.17</td>\n",
       "      <td>254.91</td>\n",
       "      <td>-911.96</td>\n",
       "      <td>269.41</td>\n",
       "      <td>NaN</td>\n",
       "      <td>NaN</td>\n",
       "      <td>-5444.0</td>\n",
       "      <td>2019.0</td>\n",
       "      <td>NaN</td>\n",
       "      <td>NaN</td>\n",
       "      <td>NaN</td>\n",
       "      <td>NaN</td>\n",
       "      <td>NaN</td>\n",
       "      <td>NaN</td>\n",
       "      <td>NaN</td>\n",
       "      <td>911.96</td>\n",
       "      <td>NaN</td>\n",
       "      <td>NaN</td>\n",
       "      <td>NaN</td>\n",
       "      <td>NaN</td>\n",
       "      <td>NaN</td>\n",
       "      <td>1111.96</td>\n",
       "      <td>NaN</td>\n",
       "      <td>23501.2795</td>\n",
       "      <td>NaN</td>\n",
       "      <td>911.96</td>\n",
       "      <td>3136.526</td>\n",
       "      <td>21790.8235</td>\n",
       "      <td>9593.7549</td>\n",
       "      <td>NaN</td>\n",
       "      <td>NaN</td>\n",
       "      <td>NaN</td>\n",
       "      <td>NaN</td>\n",
       "      <td>911.96</td>\n",
       "      <td>NaN</td>\n",
       "      <td>NaN</td>\n",
       "      <td>7169.189</td>\n",
       "      <td>NaN</td>\n",
       "      <td>24265.034</td>\n",
       "      <td>21489.5794</td>\n",
       "      <td>NaN</td>\n",
       "      <td>5</td>\n",
       "      <td>6</td>\n",
       "      <td>I</td>\n",
       "    </tr>\n",
       "    <tr>\n",
       "      <th>3</th>\n",
       "      <td>4</td>\n",
       "      <td>1</td>\n",
       "      <td>5</td>\n",
       "      <td>H</td>\n",
       "      <td>-nn</td>\n",
       "      <td>32892.44400</td>\n",
       "      <td>89.44300</td>\n",
       "      <td>1336.359</td>\n",
       "      <td>17.889</td>\n",
       "      <td>21661.211</td>\n",
       "      <td>91.652</td>\n",
       "      <td>5.035311e+06</td>\n",
       "      <td>96.02000</td>\n",
       "      <td>-1800.00</td>\n",
       "      <td>89.44</td>\n",
       "      <td>NaN</td>\n",
       "      <td>NaN</td>\n",
       "      <td>NaN</td>\n",
       "      <td>NaN</td>\n",
       "      <td>21213.56</td>\n",
       "      <td>102.47</td>\n",
       "      <td>NaN</td>\n",
       "      <td>NaN</td>\n",
       "      <td>22396.21</td>\n",
       "      <td>89.44</td>\n",
       "      <td>-200.00</td>\n",
       "      <td>134.16</td>\n",
       "      <td>NaN</td>\n",
       "      <td>NaN</td>\n",
       "      <td>NaN</td>\n",
       "      <td>NaN</td>\n",
       "      <td>NaN</td>\n",
       "      <td>NaN</td>\n",
       "      <td>NaN</td>\n",
       "      <td>NaN</td>\n",
       "      <td>NaN</td>\n",
       "      <td>NaN</td>\n",
       "      <td>NaN</td>\n",
       "      <td>200.00</td>\n",
       "      <td>NaN</td>\n",
       "      <td>NaN</td>\n",
       "      <td>NaN</td>\n",
       "      <td>NaN</td>\n",
       "      <td>NaN</td>\n",
       "      <td>1800.00</td>\n",
       "      <td>NaN</td>\n",
       "      <td>20878.8645</td>\n",
       "      <td>NaN</td>\n",
       "      <td>200.00</td>\n",
       "      <td>2424.566</td>\n",
       "      <td>21613.8635</td>\n",
       "      <td>10281.7949</td>\n",
       "      <td>NaN</td>\n",
       "      <td>NaN</td>\n",
       "      <td>NaN</td>\n",
       "      <td>NaN</td>\n",
       "      <td>200.00</td>\n",
       "      <td>NaN</td>\n",
       "      <td>NaN</td>\n",
       "      <td>6457.229</td>\n",
       "      <td>NaN</td>\n",
       "      <td>21642.619</td>\n",
       "      <td>20777.6194</td>\n",
       "      <td>NaN</td>\n",
       "      <td>4</td>\n",
       "      <td>5</td>\n",
       "      <td>I</td>\n",
       "    </tr>\n",
       "    <tr>\n",
       "      <th>4</th>\n",
       "      <td>3</td>\n",
       "      <td>1</td>\n",
       "      <td>4</td>\n",
       "      <td>H</td>\n",
       "      <td>-n</td>\n",
       "      <td>24621.12700</td>\n",
       "      <td>100.00000</td>\n",
       "      <td>1720.449</td>\n",
       "      <td>25.000</td>\n",
       "      <td>22196.211</td>\n",
       "      <td>100.000</td>\n",
       "      <td>4.026432e+06</td>\n",
       "      <td>107.35400</td>\n",
       "      <td>4657.23</td>\n",
       "      <td>100.00</td>\n",
       "      <td>NaN</td>\n",
       "      <td>NaN</td>\n",
       "      <td>NaN</td>\n",
       "      <td>NaN</td>\n",
       "      <td>-702.06</td>\n",
       "      <td>234.52</td>\n",
       "      <td>NaN</td>\n",
       "      <td>NaN</td>\n",
       "      <td>1618.59</td>\n",
       "      <td>100.00</td>\n",
       "      <td>-1600.00</td>\n",
       "      <td>100.00</td>\n",
       "      <td>NaN</td>\n",
       "      <td>NaN</td>\n",
       "      <td>NaN</td>\n",
       "      <td>NaN</td>\n",
       "      <td>NaN</td>\n",
       "      <td>NaN</td>\n",
       "      <td>21413.86</td>\n",
       "      <td>100.0</td>\n",
       "      <td>NaN</td>\n",
       "      <td>NaN</td>\n",
       "      <td>NaN</td>\n",
       "      <td>1600.00</td>\n",
       "      <td>NaN</td>\n",
       "      <td>NaN</td>\n",
       "      <td>1599.9951</td>\n",
       "      <td>NaN</td>\n",
       "      <td>NaN</td>\n",
       "      <td>-4657.23</td>\n",
       "      <td>NaN</td>\n",
       "      <td>21413.8645</td>\n",
       "      <td>NaN</td>\n",
       "      <td>1600.00</td>\n",
       "      <td>3824.566</td>\n",
       "      <td>836.2435</td>\n",
       "      <td>3824.5649</td>\n",
       "      <td>NaN</td>\n",
       "      <td>NaN</td>\n",
       "      <td>NaN</td>\n",
       "      <td>NaN</td>\n",
       "      <td>1600.00</td>\n",
       "      <td>NaN</td>\n",
       "      <td>NaN</td>\n",
       "      <td>7857.229</td>\n",
       "      <td>NaN</td>\n",
       "      <td>22177.619</td>\n",
       "      <td>22177.6194</td>\n",
       "      <td>NaN</td>\n",
       "      <td>3</td>\n",
       "      <td>4</td>\n",
       "      <td>I</td>\n",
       "    </tr>\n",
       "  </tbody>\n",
       "</table>\n",
       "</div>"
      ],
      "text/plain": [
       "   Neutrons  Z  Mass_Number EL      O  Mass_Excess  dMass_Excess  \\\n",
       "0         1  0            1  n  Other   8071.31713       0.00046   \n",
       "1         6  1            7  H    -nn  49135.00000    1004.00000   \n",
       "2         5  1            6  H    -3n  41875.72100     254.12700   \n",
       "3         4  1            5  H    -nn  32892.44400      89.44300   \n",
       "4         3  1            4  H     -n  24621.12700     100.00000   \n",
       "\n",
       "   Binding_Energy  dBinding_Energy  B_Decay_Energy  dB_Decay_Energy  \\\n",
       "0           0.000            0.000         782.347            0.000   \n",
       "1         940.000          143.000       23062.000         1004.000   \n",
       "2         961.639           42.354       24283.626          254.127   \n",
       "3        1336.359           17.889       21661.211           91.652   \n",
       "4        1720.449           25.000       22196.211          100.000   \n",
       "\n",
       "   Atomic_Mass_Micro  dAtomic_Mass_Micro    S(2n)   dS(2n)  S(2p)  dS(2p)  \\\n",
       "0       1.008665e+06             0.00049      NaN      NaN    NaN     NaN   \n",
       "1       7.052749e+06          1078.00000  -100.00  1000.00    NaN     NaN   \n",
       "2       6.044955e+06           272.81600 -1111.96   273.09    NaN     NaN   \n",
       "3       5.035311e+06            96.02000 -1800.00    89.44    NaN     NaN   \n",
       "4       4.026432e+06           107.35400  4657.23   100.00    NaN     NaN   \n",
       "\n",
       "   Q(a)  dQ(a)    Q(2B-)  dQ(2B-)  Q(ep)  dQ(ep)    Q(B-n)  dQ(B-n)     S(n)  \\\n",
       "0   NaN    NaN       NaN      NaN    NaN     NaN       NaN      NaN     0.00   \n",
       "1   NaN    NaN  34228.00  1004.00    NaN     NaN  23472.00  1004.00   812.00   \n",
       "2   NaN    NaN  27788.84   254.13    NaN     NaN  22573.17   254.91  -911.96   \n",
       "3   NaN    NaN  21213.56   102.47    NaN     NaN  22396.21    89.44  -200.00   \n",
       "4   NaN    NaN   -702.06   234.52    NaN     NaN   1618.59   100.00 -1600.00   \n",
       "\n",
       "     dS(n)  S(p)  dS(p)   Q(4B-)  dQ(4B-)  Q(d,a)  dQ(d,a)    Q(p,a)  dQ(p,a)  \\\n",
       "0     0.00   NaN    NaN      NaN      NaN     NaN      NaN       NaN      NaN   \n",
       "1  1036.00   NaN    NaN  21459.0   1004.0     NaN      NaN       NaN      NaN   \n",
       "2   269.41   NaN    NaN  -5444.0   2019.0     NaN      NaN       NaN      NaN   \n",
       "3   134.16   NaN    NaN      NaN      NaN     NaN      NaN       NaN      NaN   \n",
       "4   100.00   NaN    NaN      NaN      NaN     NaN      NaN  21413.86    100.0   \n",
       "\n",
       "   Q(n,a)  dQ(n,a)  Q(g,p)   Q(g,n)  Q(g,pn)  Q(g,d)     Q(g,t)  Q(g,He3)  \\\n",
       "0     NaN      NaN     NaN     0.00      NaN     NaN        NaN       NaN   \n",
       "1     NaN      NaN     NaN  -812.00      NaN     NaN        NaN       NaN   \n",
       "2     NaN      NaN     NaN   911.96      NaN     NaN        NaN       NaN   \n",
       "3     NaN      NaN     NaN   200.00      NaN     NaN        NaN       NaN   \n",
       "4     NaN      NaN     NaN  1600.00      NaN     NaN  1599.9951       NaN   \n",
       "\n",
       "   Q(g,2p)  Q(g,2n)  Q(g,a)      Q(p,n)  Q(p,2p)  Q(p,pn)    Q(p,d)  \\\n",
       "0      NaN      NaN     NaN      0.0005      NaN     0.00  2224.566   \n",
       "1      NaN   100.00     NaN  22279.6535      NaN  -812.00  1412.566   \n",
       "2      NaN  1111.96     NaN  23501.2795      NaN   911.96  3136.526   \n",
       "3      NaN  1800.00     NaN  20878.8645      NaN   200.00  2424.566   \n",
       "4      NaN -4657.23     NaN  21413.8645      NaN  1600.00  3824.566   \n",
       "\n",
       "      Q(p,2n)      Q(p,t)  Q(p,3He)  Q(n,2p)  Q(n,np)  Q(n,d)  Q(n,2n)  \\\n",
       "0         NaN         NaN       NaN      NaN      NaN     NaN     0.00   \n",
       "1  22689.6535   8581.7949       NaN      NaN      NaN     NaN  -812.00   \n",
       "2  21790.8235   9593.7549       NaN      NaN      NaN     NaN   911.96   \n",
       "3  21613.8635  10281.7949       NaN      NaN      NaN     NaN   200.00   \n",
       "4    836.2435   3824.5649       NaN      NaN      NaN     NaN  1600.00   \n",
       "\n",
       "   Q(n,t)  Q(n,3He)    Q(d,t)  Q(d,3He)   Q(3He,t)    Q(3He,a)  Q(t,a)  N  A  \\\n",
       "0     NaN       NaN  6257.229       NaN    763.755  20577.6194     NaN  1  1   \n",
       "1     NaN       NaN  5445.229       NaN  23043.408  19765.6194     NaN  6  7   \n",
       "2     NaN       NaN  7169.189       NaN  24265.034  21489.5794     NaN  5  6   \n",
       "3     NaN       NaN  6457.229       NaN  21642.619  20777.6194     NaN  4  5   \n",
       "4     NaN       NaN  7857.229       NaN  22177.619  22177.6194     NaN  3  4   \n",
       "\n",
       "  Element_Flag  \n",
       "0            I  \n",
       "1            I  \n",
       "2            I  \n",
       "3            I  \n",
       "4            I  "
      ]
     },
     "execution_count": 61,
     "metadata": {},
     "output_type": "execute_result"
    }
   ],
   "source": [
    "masses = pd.read_csv(ame_dir + \"AME_Natural_Properties_w_NaN.csv\").rename(\n",
    "    columns={'N': 'Neutrons', 'A': 'Mass_Number', 'Neutrons':'N', 'Mass_Number':'A', 'Flag':'Element_Flag'})\n",
    "masses.head()\n",
    "# masses = pd.read_csv(ame_dir + \"AME_all_merged.csv\")"
   ]
  },
  {
   "cell_type": "code",
   "execution_count": 62,
   "metadata": {
    "ExecuteTime": {
     "end_time": "2020-09-26T05:51:03.811963Z",
     "start_time": "2020-09-26T05:51:03.807971Z"
    }
   },
   "outputs": [],
   "source": [
    "# masses[\"ZAN\"] = masses.Z.astype(str) + masses.A.astype(str) + masses.N.astype(str)\n",
    "\n",
    "# masses[\"Isotope\"] = masses.Mass_Number.astype(str) + masses.Element\n",
    "\n",
    "# masses = masses[[\"Isotope\", \"N\", \"Z\", \"A\", \"ZAN\", \"Element\"]]\n",
    "# masses = masses.set_index(\"ZAN\")\n",
    "\n",
    "# element_dict = masses.to_dict('index')\n",
    "\n",
    "# with open('element_ZAN.pkl', 'wb') as handle:\n",
    "#     pickle.dump(element_dict, handle, protocol=pickle.HIGHEST_PROTOCOL)"
   ]
  },
  {
   "cell_type": "code",
   "execution_count": 63,
   "metadata": {
    "ExecuteTime": {
     "end_time": "2020-09-26T05:51:06.914666Z",
     "start_time": "2020-09-26T05:51:05.082260Z"
    }
   },
   "outputs": [],
   "source": [
    "df_workxs = df_workxs.reset_index(drop=True)\n",
    "masses = masses.reset_index(drop=True)"
   ]
  },
  {
   "cell_type": "code",
   "execution_count": 64,
   "metadata": {
    "ExecuteTime": {
     "end_time": "2020-09-26T05:51:26.313085Z",
     "start_time": "2020-09-26T05:51:06.916667Z"
    }
   },
   "outputs": [],
   "source": [
    "df = df_workxs.merge(masses, on=['N', 'Z'], how='left')"
   ]
  },
  {
   "cell_type": "code",
   "execution_count": 65,
   "metadata": {
    "ExecuteTime": {
     "end_time": "2020-09-26T05:51:42.698793Z",
     "start_time": "2020-09-26T05:51:26.314083Z"
    }
   },
   "outputs": [],
   "source": [
    "df = df.drop(columns=[\"A_x\", \"A_y\", \"N\", \"EL\"]).rename(columns={'Neutrons': 'N', 'Mass_Number':'A'})"
   ]
  },
  {
   "cell_type": "code",
   "execution_count": 66,
   "metadata": {
    "ExecuteTime": {
     "end_time": "2020-09-26T05:51:47.286833Z",
     "start_time": "2020-09-26T05:51:42.699793Z"
    }
   },
   "outputs": [],
   "source": [
    "df = df[~df['N'].isnull()]"
   ]
  },
  {
   "cell_type": "code",
   "execution_count": 67,
   "metadata": {
    "ExecuteTime": {
     "end_time": "2020-09-26T05:51:50.916655Z",
     "start_time": "2020-09-26T05:51:47.287833Z"
    }
   },
   "outputs": [],
   "source": [
    "df[[\"N\", \"A\"]] = df[[\"N\", \"A\"]].astype(int)"
   ]
  },
  {
   "cell_type": "code",
   "execution_count": 68,
   "metadata": {
    "ExecuteTime": {
     "end_time": "2020-09-26T05:59:40.485438Z",
     "start_time": "2020-09-26T05:51:50.917655Z"
    }
   },
   "outputs": [
    {
     "name": "stderr",
     "output_type": "stream",
     "text": [
      "INFO:root:EXFOR CSV: Saving EXFOR CSV file to ../CSV_Files/EXFOR_neutrons/EXFOR_neutrons_ORIGINAL_w_AME.csv...\n"
     ]
    }
   ],
   "source": [
    "csv_name = os.path.join(heavy_path, \"EXFOR_\" + mode + \"_ORIGINAL_w_AME.csv\")\n",
    "logging.info(\"EXFOR CSV: Saving EXFOR CSV file to {}...\".format(csv_name))\n",
    "df.to_csv(csv_name, index=False)"
   ]
  },
  {
   "cell_type": "markdown",
   "metadata": {},
   "source": [
    "## Creating CSV file with AME, no RAW, and no NaN (ONLY MF3)"
   ]
  },
  {
   "cell_type": "code",
   "execution_count": 128,
   "metadata": {
    "ExecuteTime": {
     "end_time": "2020-09-26T17:59:12.710698Z",
     "start_time": "2020-09-26T17:58:45.322606Z"
    }
   },
   "outputs": [
    {
     "name": "stderr",
     "output_type": "stream",
     "text": [
      "C:\\Users\\Pedro\\Anaconda3\\envs\\data_mining_gpu\\lib\\site-packages\\IPython\\core\\interactiveshell.py:3072: DtypeWarning: Columns (17,30,31) have mixed types.Specify dtype option on import or set low_memory=False.\n",
      "  interactivity=interactivity, compiler=compiler, result=result)\n"
     ]
    }
   ],
   "source": [
    "csv_name = os.path.join(heavy_path, \"EXFOR_\" + mode + \"_ORIGINAL.csv\")\n",
    "df = pd.read_csv(csv_name)"
   ]
  },
  {
   "cell_type": "code",
   "execution_count": 129,
   "metadata": {
    "ExecuteTime": {
     "end_time": "2020-09-26T17:59:14.742168Z",
     "start_time": "2020-09-26T17:59:12.711699Z"
    }
   },
   "outputs": [],
   "source": [
    "# df = df_original.copy()\n",
    "df_workxs = df.copy()"
   ]
  },
  {
   "cell_type": "code",
   "execution_count": 130,
   "metadata": {
    "ExecuteTime": {
     "end_time": "2020-09-26T17:59:14.750161Z",
     "start_time": "2020-09-26T17:59:14.743159Z"
    }
   },
   "outputs": [
    {
     "data": {
      "text/plain": [
       "Index(['Projectile', 'Target_Metastable_State', 'MF', 'MT',\n",
       "       'Product_Metastable_State', 'EXFOR_Status', 'Center_of_Mass_Flag',\n",
       "       'Energy', 'dEnergy', 'Data', 'dData', 'Cos/LO', 'dCos/LO', 'ELV/HL',\n",
       "       'dELV/HL', 'I78', 'Short_Reference', 'EXFOR_Accession_Number',\n",
       "       'EXFOR_SubAccession_Number', 'EXFOR_Pointer', 'Z', 'A', 'N',\n",
       "       'Reaction_Notation', 'Title', 'Year', 'Author', 'Institute', 'Date',\n",
       "       'Reference', 'Dataset_Number', 'EXFOR_Entry', 'Reference_Code',\n",
       "       'Projectile_Z', 'Projectile_A', 'Projectile_N', 'Isotope', 'Element'],\n",
       "      dtype='object')"
      ]
     },
     "execution_count": 130,
     "metadata": {},
     "output_type": "execute_result"
    }
   ],
   "source": [
    "df_workxs.columns"
   ]
  },
  {
   "cell_type": "code",
   "execution_count": 131,
   "metadata": {
    "ExecuteTime": {
     "end_time": "2020-09-26T17:59:14.847183Z",
     "start_time": "2020-09-26T17:59:14.751161Z"
    }
   },
   "outputs": [
    {
     "data": {
      "text/html": [
       "<div>\n",
       "<style scoped>\n",
       "    .dataframe tbody tr th:only-of-type {\n",
       "        vertical-align: middle;\n",
       "    }\n",
       "\n",
       "    .dataframe tbody tr th {\n",
       "        vertical-align: top;\n",
       "    }\n",
       "\n",
       "    .dataframe thead th {\n",
       "        text-align: right;\n",
       "    }\n",
       "</style>\n",
       "<table border=\"1\" class=\"dataframe\">\n",
       "  <thead>\n",
       "    <tr style=\"text-align: right;\">\n",
       "      <th></th>\n",
       "      <th>Neutrons</th>\n",
       "      <th>Z</th>\n",
       "      <th>Mass_Number</th>\n",
       "      <th>EL</th>\n",
       "      <th>O</th>\n",
       "      <th>Mass_Excess</th>\n",
       "      <th>dMass_Excess</th>\n",
       "      <th>Binding_Energy</th>\n",
       "      <th>dBinding_Energy</th>\n",
       "      <th>B_Decay_Energy</th>\n",
       "      <th>dB_Decay_Energy</th>\n",
       "      <th>Atomic_Mass_Micro</th>\n",
       "      <th>dAtomic_Mass_Micro</th>\n",
       "      <th>S(2n)</th>\n",
       "      <th>dS(2n)</th>\n",
       "      <th>S(2p)</th>\n",
       "      <th>dS(2p)</th>\n",
       "      <th>Q(a)</th>\n",
       "      <th>dQ(a)</th>\n",
       "      <th>Q(2B-)</th>\n",
       "      <th>dQ(2B-)</th>\n",
       "      <th>Q(ep)</th>\n",
       "      <th>dQ(ep)</th>\n",
       "      <th>Q(B-n)</th>\n",
       "      <th>dQ(B-n)</th>\n",
       "      <th>S(n)</th>\n",
       "      <th>dS(n)</th>\n",
       "      <th>S(p)</th>\n",
       "      <th>dS(p)</th>\n",
       "      <th>Q(4B-)</th>\n",
       "      <th>dQ(4B-)</th>\n",
       "      <th>Q(d,a)</th>\n",
       "      <th>dQ(d,a)</th>\n",
       "      <th>Q(p,a)</th>\n",
       "      <th>dQ(p,a)</th>\n",
       "      <th>Q(n,a)</th>\n",
       "      <th>dQ(n,a)</th>\n",
       "      <th>Q(g,p)</th>\n",
       "      <th>Q(g,n)</th>\n",
       "      <th>Q(g,pn)</th>\n",
       "      <th>Q(g,d)</th>\n",
       "      <th>Q(g,t)</th>\n",
       "      <th>Q(g,He3)</th>\n",
       "      <th>Q(g,2p)</th>\n",
       "      <th>Q(g,2n)</th>\n",
       "      <th>Q(g,a)</th>\n",
       "      <th>Q(p,n)</th>\n",
       "      <th>Q(p,2p)</th>\n",
       "      <th>Q(p,pn)</th>\n",
       "      <th>Q(p,d)</th>\n",
       "      <th>Q(p,2n)</th>\n",
       "      <th>Q(p,t)</th>\n",
       "      <th>Q(p,3He)</th>\n",
       "      <th>Q(n,2p)</th>\n",
       "      <th>Q(n,np)</th>\n",
       "      <th>Q(n,d)</th>\n",
       "      <th>Q(n,2n)</th>\n",
       "      <th>Q(n,t)</th>\n",
       "      <th>Q(n,3He)</th>\n",
       "      <th>Q(d,t)</th>\n",
       "      <th>Q(d,3He)</th>\n",
       "      <th>Q(3He,t)</th>\n",
       "      <th>Q(3He,a)</th>\n",
       "      <th>Q(t,a)</th>\n",
       "      <th>N</th>\n",
       "      <th>A</th>\n",
       "      <th>Element_Flag</th>\n",
       "    </tr>\n",
       "  </thead>\n",
       "  <tbody>\n",
       "    <tr>\n",
       "      <th>0</th>\n",
       "      <td>1</td>\n",
       "      <td>0</td>\n",
       "      <td>1</td>\n",
       "      <td>n</td>\n",
       "      <td>Other</td>\n",
       "      <td>8071.317130</td>\n",
       "      <td>0.000460</td>\n",
       "      <td>0.000000</td>\n",
       "      <td>0.000000</td>\n",
       "      <td>782.347000</td>\n",
       "      <td>0.000000</td>\n",
       "      <td>1.008665e+06</td>\n",
       "      <td>0.000490</td>\n",
       "      <td>0.000</td>\n",
       "      <td>0.000000</td>\n",
       "      <td>0.0</td>\n",
       "      <td>0.0</td>\n",
       "      <td>0.0</td>\n",
       "      <td>0.0</td>\n",
       "      <td>0.000000</td>\n",
       "      <td>0.000000</td>\n",
       "      <td>0.0</td>\n",
       "      <td>0.0</td>\n",
       "      <td>0.000000</td>\n",
       "      <td>0.000000</td>\n",
       "      <td>0.000000</td>\n",
       "      <td>0.000000</td>\n",
       "      <td>0.000000</td>\n",
       "      <td>0.0</td>\n",
       "      <td>0.0</td>\n",
       "      <td>0.0</td>\n",
       "      <td>0.000000</td>\n",
       "      <td>0.0</td>\n",
       "      <td>0.000000</td>\n",
       "      <td>0.000000e+00</td>\n",
       "      <td>0.0</td>\n",
       "      <td>0.0</td>\n",
       "      <td>0.00000</td>\n",
       "      <td>0.000000</td>\n",
       "      <td>0.000000</td>\n",
       "      <td>0.000000</td>\n",
       "      <td>0.0000</td>\n",
       "      <td>0.0</td>\n",
       "      <td>0.0</td>\n",
       "      <td>0.000000</td>\n",
       "      <td>0.0</td>\n",
       "      <td>0.000500</td>\n",
       "      <td>0.00000</td>\n",
       "      <td>0.000000</td>\n",
       "      <td>2224.566000</td>\n",
       "      <td>0.000000</td>\n",
       "      <td>0.000000</td>\n",
       "      <td>0.000000</td>\n",
       "      <td>0.0</td>\n",
       "      <td>0.00000</td>\n",
       "      <td>0.000000</td>\n",
       "      <td>0.000000</td>\n",
       "      <td>0.000000</td>\n",
       "      <td>0.0</td>\n",
       "      <td>6257.229000</td>\n",
       "      <td>0.00000</td>\n",
       "      <td>763.755000</td>\n",
       "      <td>20577.619400</td>\n",
       "      <td>0.000000</td>\n",
       "      <td>1</td>\n",
       "      <td>1</td>\n",
       "      <td>I</td>\n",
       "    </tr>\n",
       "    <tr>\n",
       "      <th>1</th>\n",
       "      <td>0</td>\n",
       "      <td>1</td>\n",
       "      <td>1</td>\n",
       "      <td>H</td>\n",
       "      <td>Other</td>\n",
       "      <td>-2437.418042</td>\n",
       "      <td>-308.875124</td>\n",
       "      <td>1124.312708</td>\n",
       "      <td>-43.336286</td>\n",
       "      <td>-5842.787372</td>\n",
       "      <td>-791.107704</td>\n",
       "      <td>1.007000e+06</td>\n",
       "      <td>-331.637262</td>\n",
       "      <td>13491.797</td>\n",
       "      <td>-794.039005</td>\n",
       "      <td>0.0</td>\n",
       "      <td>0.0</td>\n",
       "      <td>0.0</td>\n",
       "      <td>0.0</td>\n",
       "      <td>-48428.181945</td>\n",
       "      <td>1705.218991</td>\n",
       "      <td>0.0</td>\n",
       "      <td>0.0</td>\n",
       "      <td>-18640.462072</td>\n",
       "      <td>-1220.521001</td>\n",
       "      <td>4590.313134</td>\n",
       "      <td>-517.712285</td>\n",
       "      <td>953.387144</td>\n",
       "      <td>0.0</td>\n",
       "      <td>-166862.0</td>\n",
       "      <td>8109.0</td>\n",
       "      <td>22654.676628</td>\n",
       "      <td>0.0</td>\n",
       "      <td>19493.859878</td>\n",
       "      <td>-2.000000e+01</td>\n",
       "      <td>0.0</td>\n",
       "      <td>0.0</td>\n",
       "      <td>-953.38715</td>\n",
       "      <td>-4590.313093</td>\n",
       "      <td>-3416.417233</td>\n",
       "      <td>-1191.851220</td>\n",
       "      <td>-320.0049</td>\n",
       "      <td>0.0</td>\n",
       "      <td>0.0</td>\n",
       "      <td>-13491.797066</td>\n",
       "      <td>0.0</td>\n",
       "      <td>-6625.133969</td>\n",
       "      <td>-953.38715</td>\n",
       "      <td>-4590.313093</td>\n",
       "      <td>-2365.746983</td>\n",
       "      <td>-19422.807928</td>\n",
       "      <td>-5010.002166</td>\n",
       "      <td>4301.623148</td>\n",
       "      <td>0.0</td>\n",
       "      <td>-953.38715</td>\n",
       "      <td>1271.178847</td>\n",
       "      <td>-4590.313093</td>\n",
       "      <td>5065.377773</td>\n",
       "      <td>0.0</td>\n",
       "      <td>1666.915910</td>\n",
       "      <td>4540.08726</td>\n",
       "      <td>-5861.379204</td>\n",
       "      <td>15987.306327</td>\n",
       "      <td>18860.477844</td>\n",
       "      <td>-1</td>\n",
       "      <td>0</td>\n",
       "      <td>N</td>\n",
       "    </tr>\n",
       "    <tr>\n",
       "      <th>2</th>\n",
       "      <td>0</td>\n",
       "      <td>1</td>\n",
       "      <td>1</td>\n",
       "      <td>H</td>\n",
       "      <td>Other</td>\n",
       "      <td>7288.970610</td>\n",
       "      <td>0.000090</td>\n",
       "      <td>0.000000</td>\n",
       "      <td>0.000000</td>\n",
       "      <td>-1025.364293</td>\n",
       "      <td>-574.895004</td>\n",
       "      <td>1.007825e+06</td>\n",
       "      <td>0.000090</td>\n",
       "      <td>11198.520</td>\n",
       "      <td>-576.730004</td>\n",
       "      <td>0.0</td>\n",
       "      <td>0.0</td>\n",
       "      <td>0.0</td>\n",
       "      <td>0.0</td>\n",
       "      <td>-35990.091956</td>\n",
       "      <td>1507.979993</td>\n",
       "      <td>0.0</td>\n",
       "      <td>0.0</td>\n",
       "      <td>-12066.743059</td>\n",
       "      <td>-932.774001</td>\n",
       "      <td>3814.015402</td>\n",
       "      <td>-345.643999</td>\n",
       "      <td>0.000000</td>\n",
       "      <td>0.0</td>\n",
       "      <td>-139959.0</td>\n",
       "      <td>7094.0</td>\n",
       "      <td>21760.786636</td>\n",
       "      <td>0.0</td>\n",
       "      <td>19813.859902</td>\n",
       "      <td>4.263256e-14</td>\n",
       "      <td>0.0</td>\n",
       "      <td>0.0</td>\n",
       "      <td>0.00000</td>\n",
       "      <td>-3814.015369</td>\n",
       "      <td>-4310.307233</td>\n",
       "      <td>-2085.741223</td>\n",
       "      <td>-0.0049</td>\n",
       "      <td>0.0</td>\n",
       "      <td>0.0</td>\n",
       "      <td>-11198.520050</td>\n",
       "      <td>0.0</td>\n",
       "      <td>-1807.710875</td>\n",
       "      <td>0.00000</td>\n",
       "      <td>-3814.015369</td>\n",
       "      <td>-1589.449282</td>\n",
       "      <td>-12849.089025</td>\n",
       "      <td>-2716.725154</td>\n",
       "      <td>3407.733152</td>\n",
       "      <td>0.0</td>\n",
       "      <td>0.00000</td>\n",
       "      <td>2224.566000</td>\n",
       "      <td>-3814.015369</td>\n",
       "      <td>4171.487772</td>\n",
       "      <td>0.0</td>\n",
       "      <td>2443.213634</td>\n",
       "      <td>5493.47440</td>\n",
       "      <td>-1043.956164</td>\n",
       "      <td>16763.604053</td>\n",
       "      <td>19813.864900</td>\n",
       "      <td>0</td>\n",
       "      <td>1</td>\n",
       "      <td>I</td>\n",
       "    </tr>\n",
       "    <tr>\n",
       "      <th>3</th>\n",
       "      <td>1</td>\n",
       "      <td>1</td>\n",
       "      <td>2</td>\n",
       "      <td>H</td>\n",
       "      <td>Other</td>\n",
       "      <td>13135.721760</td>\n",
       "      <td>0.000110</td>\n",
       "      <td>1112.283000</td>\n",
       "      <td>0.000000</td>\n",
       "      <td>3792.058787</td>\n",
       "      <td>-358.682304</td>\n",
       "      <td>2.014102e+06</td>\n",
       "      <td>0.000120</td>\n",
       "      <td>8905.243</td>\n",
       "      <td>-359.421003</td>\n",
       "      <td>0.0</td>\n",
       "      <td>0.0</td>\n",
       "      <td>0.0</td>\n",
       "      <td>0.0</td>\n",
       "      <td>-23552.001967</td>\n",
       "      <td>1310.740995</td>\n",
       "      <td>0.0</td>\n",
       "      <td>0.0</td>\n",
       "      <td>-5493.024046</td>\n",
       "      <td>-645.027001</td>\n",
       "      <td>2224.570000</td>\n",
       "      <td>0.000000</td>\n",
       "      <td>2224.570000</td>\n",
       "      <td>0.0</td>\n",
       "      <td>-113056.0</td>\n",
       "      <td>6079.0</td>\n",
       "      <td>23846.530000</td>\n",
       "      <td>0.0</td>\n",
       "      <td>20133.859927</td>\n",
       "      <td>2.000000e+01</td>\n",
       "      <td>0.0</td>\n",
       "      <td>0.0</td>\n",
       "      <td>-2224.57000</td>\n",
       "      <td>-2224.570000</td>\n",
       "      <td>-2224.563900</td>\n",
       "      <td>0.002100</td>\n",
       "      <td>319.9951</td>\n",
       "      <td>0.0</td>\n",
       "      <td>0.0</td>\n",
       "      <td>-8905.243033</td>\n",
       "      <td>0.0</td>\n",
       "      <td>3009.712219</td>\n",
       "      <td>-2224.57000</td>\n",
       "      <td>-2224.570000</td>\n",
       "      <td>-0.004000</td>\n",
       "      <td>-6275.370122</td>\n",
       "      <td>-423.448143</td>\n",
       "      <td>5493.476500</td>\n",
       "      <td>0.0</td>\n",
       "      <td>-2224.57000</td>\n",
       "      <td>-0.004000</td>\n",
       "      <td>-2224.570000</td>\n",
       "      <td>6257.231100</td>\n",
       "      <td>0.0</td>\n",
       "      <td>4032.659000</td>\n",
       "      <td>3268.90440</td>\n",
       "      <td>3773.466876</td>\n",
       "      <td>18353.049400</td>\n",
       "      <td>17589.294900</td>\n",
       "      <td>1</td>\n",
       "      <td>2</td>\n",
       "      <td>I</td>\n",
       "    </tr>\n",
       "    <tr>\n",
       "      <th>4</th>\n",
       "      <td>2</td>\n",
       "      <td>1</td>\n",
       "      <td>3</td>\n",
       "      <td>H</td>\n",
       "      <td>Other</td>\n",
       "      <td>14949.809930</td>\n",
       "      <td>0.000220</td>\n",
       "      <td>2827.265000</td>\n",
       "      <td>0.000000</td>\n",
       "      <td>18.592000</td>\n",
       "      <td>0.000000</td>\n",
       "      <td>3.016049e+06</td>\n",
       "      <td>0.000230</td>\n",
       "      <td>8481.790</td>\n",
       "      <td>0.000000</td>\n",
       "      <td>0.0</td>\n",
       "      <td>0.0</td>\n",
       "      <td>0.0</td>\n",
       "      <td>0.0</td>\n",
       "      <td>-13717.000000</td>\n",
       "      <td>2000.000000</td>\n",
       "      <td>0.0</td>\n",
       "      <td>0.0</td>\n",
       "      <td>1080.694967</td>\n",
       "      <td>-357.280001</td>\n",
       "      <td>6257.230000</td>\n",
       "      <td>0.000000</td>\n",
       "      <td>2224.570000</td>\n",
       "      <td>0.0</td>\n",
       "      <td>-86153.0</td>\n",
       "      <td>5064.0</td>\n",
       "      <td>17589.300000</td>\n",
       "      <td>0.0</td>\n",
       "      <td>19813.860000</td>\n",
       "      <td>0.000000e+00</td>\n",
       "      <td>0.0</td>\n",
       "      <td>0.0</td>\n",
       "      <td>-2224.57000</td>\n",
       "      <td>-6257.230000</td>\n",
       "      <td>-8481.793900</td>\n",
       "      <td>-6257.227900</td>\n",
       "      <td>-0.0049</td>\n",
       "      <td>0.0</td>\n",
       "      <td>0.0</td>\n",
       "      <td>-8481.790000</td>\n",
       "      <td>0.0</td>\n",
       "      <td>-763.754500</td>\n",
       "      <td>-2224.57000</td>\n",
       "      <td>-6257.230000</td>\n",
       "      <td>-4032.664000</td>\n",
       "      <td>298.348781</td>\n",
       "      <td>0.004900</td>\n",
       "      <td>-763.753500</td>\n",
       "      <td>0.0</td>\n",
       "      <td>-2224.57000</td>\n",
       "      <td>-0.004000</td>\n",
       "      <td>-6257.230000</td>\n",
       "      <td>0.001100</td>\n",
       "      <td>0.0</td>\n",
       "      <td>-0.001000</td>\n",
       "      <td>3268.90440</td>\n",
       "      <td>0.000000</td>\n",
       "      <td>14320.389400</td>\n",
       "      <td>17589.294900</td>\n",
       "      <td>2</td>\n",
       "      <td>3</td>\n",
       "      <td>I</td>\n",
       "    </tr>\n",
       "  </tbody>\n",
       "</table>\n",
       "</div>"
      ],
      "text/plain": [
       "   Neutrons  Z  Mass_Number EL      O   Mass_Excess  dMass_Excess  \\\n",
       "0         1  0            1  n  Other   8071.317130      0.000460   \n",
       "1         0  1            1  H  Other  -2437.418042   -308.875124   \n",
       "2         0  1            1  H  Other   7288.970610      0.000090   \n",
       "3         1  1            2  H  Other  13135.721760      0.000110   \n",
       "4         2  1            3  H  Other  14949.809930      0.000220   \n",
       "\n",
       "   Binding_Energy  dBinding_Energy  B_Decay_Energy  dB_Decay_Energy  \\\n",
       "0        0.000000         0.000000      782.347000         0.000000   \n",
       "1     1124.312708       -43.336286    -5842.787372      -791.107704   \n",
       "2        0.000000         0.000000    -1025.364293      -574.895004   \n",
       "3     1112.283000         0.000000     3792.058787      -358.682304   \n",
       "4     2827.265000         0.000000       18.592000         0.000000   \n",
       "\n",
       "   Atomic_Mass_Micro  dAtomic_Mass_Micro      S(2n)      dS(2n)  S(2p)  \\\n",
       "0       1.008665e+06            0.000490      0.000    0.000000    0.0   \n",
       "1       1.007000e+06         -331.637262  13491.797 -794.039005    0.0   \n",
       "2       1.007825e+06            0.000090  11198.520 -576.730004    0.0   \n",
       "3       2.014102e+06            0.000120   8905.243 -359.421003    0.0   \n",
       "4       3.016049e+06            0.000230   8481.790    0.000000    0.0   \n",
       "\n",
       "   dS(2p)  Q(a)  dQ(a)        Q(2B-)      dQ(2B-)  Q(ep)  dQ(ep)  \\\n",
       "0     0.0   0.0    0.0      0.000000     0.000000    0.0     0.0   \n",
       "1     0.0   0.0    0.0 -48428.181945  1705.218991    0.0     0.0   \n",
       "2     0.0   0.0    0.0 -35990.091956  1507.979993    0.0     0.0   \n",
       "3     0.0   0.0    0.0 -23552.001967  1310.740995    0.0     0.0   \n",
       "4     0.0   0.0    0.0 -13717.000000  2000.000000    0.0     0.0   \n",
       "\n",
       "         Q(B-n)      dQ(B-n)         S(n)       dS(n)         S(p)  dS(p)  \\\n",
       "0      0.000000     0.000000     0.000000    0.000000     0.000000    0.0   \n",
       "1 -18640.462072 -1220.521001  4590.313134 -517.712285   953.387144    0.0   \n",
       "2 -12066.743059  -932.774001  3814.015402 -345.643999     0.000000    0.0   \n",
       "3  -5493.024046  -645.027001  2224.570000    0.000000  2224.570000    0.0   \n",
       "4   1080.694967  -357.280001  6257.230000    0.000000  2224.570000    0.0   \n",
       "\n",
       "     Q(4B-)  dQ(4B-)        Q(d,a)  dQ(d,a)        Q(p,a)       dQ(p,a)  \\\n",
       "0       0.0      0.0      0.000000      0.0      0.000000  0.000000e+00   \n",
       "1 -166862.0   8109.0  22654.676628      0.0  19493.859878 -2.000000e+01   \n",
       "2 -139959.0   7094.0  21760.786636      0.0  19813.859902  4.263256e-14   \n",
       "3 -113056.0   6079.0  23846.530000      0.0  20133.859927  2.000000e+01   \n",
       "4  -86153.0   5064.0  17589.300000      0.0  19813.860000  0.000000e+00   \n",
       "\n",
       "   Q(n,a)  dQ(n,a)      Q(g,p)       Q(g,n)      Q(g,pn)       Q(g,d)  \\\n",
       "0     0.0      0.0     0.00000     0.000000     0.000000     0.000000   \n",
       "1     0.0      0.0  -953.38715 -4590.313093 -3416.417233 -1191.851220   \n",
       "2     0.0      0.0     0.00000 -3814.015369 -4310.307233 -2085.741223   \n",
       "3     0.0      0.0 -2224.57000 -2224.570000 -2224.563900     0.002100   \n",
       "4     0.0      0.0 -2224.57000 -6257.230000 -8481.793900 -6257.227900   \n",
       "\n",
       "     Q(g,t)  Q(g,He3)  Q(g,2p)       Q(g,2n)  Q(g,a)       Q(p,n)     Q(p,2p)  \\\n",
       "0    0.0000       0.0      0.0      0.000000     0.0     0.000500     0.00000   \n",
       "1 -320.0049       0.0      0.0 -13491.797066     0.0 -6625.133969  -953.38715   \n",
       "2   -0.0049       0.0      0.0 -11198.520050     0.0 -1807.710875     0.00000   \n",
       "3  319.9951       0.0      0.0  -8905.243033     0.0  3009.712219 -2224.57000   \n",
       "4   -0.0049       0.0      0.0  -8481.790000     0.0  -763.754500 -2224.57000   \n",
       "\n",
       "       Q(p,pn)       Q(p,d)       Q(p,2n)       Q(p,t)     Q(p,3He)  Q(n,2p)  \\\n",
       "0     0.000000  2224.566000      0.000000     0.000000     0.000000      0.0   \n",
       "1 -4590.313093 -2365.746983 -19422.807928 -5010.002166  4301.623148      0.0   \n",
       "2 -3814.015369 -1589.449282 -12849.089025 -2716.725154  3407.733152      0.0   \n",
       "3 -2224.570000    -0.004000  -6275.370122  -423.448143  5493.476500      0.0   \n",
       "4 -6257.230000 -4032.664000    298.348781     0.004900  -763.753500      0.0   \n",
       "\n",
       "      Q(n,np)       Q(n,d)      Q(n,2n)       Q(n,t)  Q(n,3He)       Q(d,t)  \\\n",
       "0     0.00000     0.000000     0.000000     0.000000       0.0  6257.229000   \n",
       "1  -953.38715  1271.178847 -4590.313093  5065.377773       0.0  1666.915910   \n",
       "2     0.00000  2224.566000 -3814.015369  4171.487772       0.0  2443.213634   \n",
       "3 -2224.57000    -0.004000 -2224.570000  6257.231100       0.0  4032.659000   \n",
       "4 -2224.57000    -0.004000 -6257.230000     0.001100       0.0    -0.001000   \n",
       "\n",
       "     Q(d,3He)     Q(3He,t)      Q(3He,a)        Q(t,a)  N  A Element_Flag  \n",
       "0     0.00000   763.755000  20577.619400      0.000000  1  1            I  \n",
       "1  4540.08726 -5861.379204  15987.306327  18860.477844 -1  0            N  \n",
       "2  5493.47440 -1043.956164  16763.604053  19813.864900  0  1            I  \n",
       "3  3268.90440  3773.466876  18353.049400  17589.294900  1  2            I  \n",
       "4  3268.90440     0.000000  14320.389400  17589.294900  2  3            I  "
      ]
     },
     "execution_count": 131,
     "metadata": {},
     "output_type": "execute_result"
    }
   ],
   "source": [
    "masses = pd.read_csv(ame_dir + \"AME_Natural_Properties_no_NaN.csv\").rename(\n",
    "    columns={'N': 'Neutrons', 'A': 'Mass_Number', 'Neutrons':'N', 'Mass_Number':'A', 'Flag':'Element_Flag'})\n",
    "masses.head()"
   ]
  },
  {
   "cell_type": "code",
   "execution_count": 132,
   "metadata": {
    "ExecuteTime": {
     "end_time": "2020-09-26T17:59:16.156483Z",
     "start_time": "2020-09-26T17:59:14.848183Z"
    }
   },
   "outputs": [],
   "source": [
    "df_workxs = df_workxs.reset_index(drop=True)\n",
    "masses = masses.reset_index(drop=True)"
   ]
  },
  {
   "cell_type": "code",
   "execution_count": 133,
   "metadata": {
    "ExecuteTime": {
     "end_time": "2020-09-26T17:59:16.160480Z",
     "start_time": "2020-09-26T17:59:16.157479Z"
    }
   },
   "outputs": [
    {
     "data": {
      "text/plain": [
       "(6007126, 38)"
      ]
     },
     "execution_count": 133,
     "metadata": {},
     "output_type": "execute_result"
    }
   ],
   "source": [
    "df_workxs.shape"
   ]
  },
  {
   "cell_type": "code",
   "execution_count": 134,
   "metadata": {
    "ExecuteTime": {
     "end_time": "2020-09-26T17:59:36.409078Z",
     "start_time": "2020-09-26T17:59:16.161482Z"
    }
   },
   "outputs": [],
   "source": [
    "df = df_workxs.merge(masses, on=['N', 'Z'], how='left')"
   ]
  },
  {
   "cell_type": "code",
   "execution_count": 135,
   "metadata": {
    "ExecuteTime": {
     "end_time": "2020-09-26T17:59:51.584668Z",
     "start_time": "2020-09-26T17:59:36.410066Z"
    }
   },
   "outputs": [],
   "source": [
    "df = df.drop(columns=[\"A_x\", \"A_y\", \"N\", \"EL\"]).rename(columns={'Neutrons': 'N', 'Mass_Number':'A'})"
   ]
  },
  {
   "cell_type": "code",
   "execution_count": 137,
   "metadata": {
    "ExecuteTime": {
     "end_time": "2020-09-26T18:26:07.510909Z",
     "start_time": "2020-09-26T18:26:02.897700Z"
    }
   },
   "outputs": [],
   "source": [
    "df = df[~df['N'].isnull()]"
   ]
  },
  {
   "cell_type": "code",
   "execution_count": 141,
   "metadata": {
    "ExecuteTime": {
     "end_time": "2020-09-26T18:26:16.495391Z",
     "start_time": "2020-09-26T18:26:16.490398Z"
    }
   },
   "outputs": [
    {
     "data": {
      "text/plain": [
       "(6006239, 99)"
      ]
     },
     "execution_count": 141,
     "metadata": {},
     "output_type": "execute_result"
    }
   ],
   "source": [
    "df.shape"
   ]
  },
  {
   "cell_type": "code",
   "execution_count": 138,
   "metadata": {
    "ExecuteTime": {
     "end_time": "2020-09-26T18:26:10.641618Z",
     "start_time": "2020-09-26T18:26:07.511909Z"
    }
   },
   "outputs": [],
   "source": [
    "df[[\"N\", \"A\"]] = df[[\"N\", \"A\"]].astype(int)"
   ]
  },
  {
   "cell_type": "code",
   "execution_count": 139,
   "metadata": {
    "ExecuteTime": {
     "end_time": "2020-09-26T18:26:10.861668Z",
     "start_time": "2020-09-26T18:26:10.642618Z"
    }
   },
   "outputs": [],
   "source": [
    "df[\"O\"].fillna(value=\"Other\", inplace=True)"
   ]
  },
  {
   "cell_type": "code",
   "execution_count": 140,
   "metadata": {
    "ExecuteTime": {
     "end_time": "2020-09-26T18:26:10.864669Z",
     "start_time": "2020-09-26T18:26:10.862668Z"
    }
   },
   "outputs": [],
   "source": [
    "# df = df[~df.Neutrons.isna()]"
   ]
  },
  {
   "cell_type": "markdown",
   "metadata": {},
   "source": [
    "## Neutron Induced Cross Section vs Energy Data \n",
    "\n",
    "MF are ENDF labels and are used to store different types of data:\n",
    "\n",
    "- MF=1 contains descriptive and miscellaneous data,\n",
    "- MF=2 contains resonance parameter data,\n",
    "- MF=3 contains reaction cross sections vs energy,\n",
    "- MF=4 contains angular distributions,\n",
    "- MF=5 contains energy distributions,\n",
    "- MF=6 contains energy-angle distributions,\n",
    "- MF=7 contains thermal scattering data,\n",
    "- MF=8 contains radioactivity data\n",
    "- MF=9-10 contain nuclide production data,\n",
    "- MF=12-15 contain photon production data, and\n",
    "- MF=30-36 contain covariance data."
   ]
  },
  {
   "cell_type": "code",
   "execution_count": 142,
   "metadata": {
    "ExecuteTime": {
     "end_time": "2020-09-26T18:27:30.708483Z",
     "start_time": "2020-09-26T18:27:23.362855Z"
    }
   },
   "outputs": [],
   "source": [
    "df.MF = df.MF.astype(str)\n",
    "df.MT = df.MT.astype(str)"
   ]
  },
  {
   "cell_type": "code",
   "execution_count": 143,
   "metadata": {
    "ExecuteTime": {
     "end_time": "2020-09-26T18:27:37.113957Z",
     "start_time": "2020-09-26T18:27:30.710484Z"
    }
   },
   "outputs": [],
   "source": [
    "df = df[df[\"MF\"] == \"3\"]"
   ]
  },
  {
   "cell_type": "code",
   "execution_count": 144,
   "metadata": {
    "ExecuteTime": {
     "end_time": "2020-09-26T18:27:37.117950Z",
     "start_time": "2020-09-26T18:27:37.116154Z"
    }
   },
   "outputs": [],
   "source": [
    "# df = df[df[\"MT\"] < 999] # Cross Section Ratios"
   ]
  },
  {
   "cell_type": "code",
   "execution_count": 145,
   "metadata": {
    "ExecuteTime": {
     "end_time": "2020-09-26T18:27:37.124951Z",
     "start_time": "2020-09-26T18:27:37.119950Z"
    }
   },
   "outputs": [
    {
     "data": {
      "text/plain": [
       "(4644791, 99)"
      ]
     },
     "execution_count": 145,
     "metadata": {},
     "output_type": "execute_result"
    }
   ],
   "source": [
    "df.shape"
   ]
  },
  {
   "cell_type": "code",
   "execution_count": 146,
   "metadata": {
    "ExecuteTime": {
     "end_time": "2020-09-26T18:27:37.193967Z",
     "start_time": "2020-09-26T18:27:37.126952Z"
    }
   },
   "outputs": [
    {
     "data": {
      "text/html": [
       "<div>\n",
       "<style scoped>\n",
       "    .dataframe tbody tr th:only-of-type {\n",
       "        vertical-align: middle;\n",
       "    }\n",
       "\n",
       "    .dataframe tbody tr th {\n",
       "        vertical-align: top;\n",
       "    }\n",
       "\n",
       "    .dataframe thead th {\n",
       "        text-align: right;\n",
       "    }\n",
       "</style>\n",
       "<table border=\"1\" class=\"dataframe\">\n",
       "  <thead>\n",
       "    <tr style=\"text-align: right;\">\n",
       "      <th></th>\n",
       "      <th>Projectile</th>\n",
       "      <th>Target_Metastable_State</th>\n",
       "      <th>MF</th>\n",
       "      <th>MT</th>\n",
       "      <th>Product_Metastable_State</th>\n",
       "      <th>EXFOR_Status</th>\n",
       "      <th>Center_of_Mass_Flag</th>\n",
       "      <th>Energy</th>\n",
       "      <th>dEnergy</th>\n",
       "      <th>Data</th>\n",
       "      <th>dData</th>\n",
       "      <th>Cos/LO</th>\n",
       "      <th>dCos/LO</th>\n",
       "      <th>ELV/HL</th>\n",
       "      <th>dELV/HL</th>\n",
       "      <th>I78</th>\n",
       "      <th>Short_Reference</th>\n",
       "      <th>EXFOR_Accession_Number</th>\n",
       "      <th>EXFOR_SubAccession_Number</th>\n",
       "      <th>EXFOR_Pointer</th>\n",
       "      <th>Z</th>\n",
       "      <th>Reaction_Notation</th>\n",
       "      <th>Title</th>\n",
       "      <th>Year</th>\n",
       "      <th>Author</th>\n",
       "      <th>Institute</th>\n",
       "      <th>Date</th>\n",
       "      <th>Reference</th>\n",
       "      <th>Dataset_Number</th>\n",
       "      <th>EXFOR_Entry</th>\n",
       "      <th>Reference_Code</th>\n",
       "      <th>Projectile_Z</th>\n",
       "      <th>Projectile_A</th>\n",
       "      <th>Projectile_N</th>\n",
       "      <th>Isotope</th>\n",
       "      <th>Element</th>\n",
       "      <th>N</th>\n",
       "      <th>A</th>\n",
       "      <th>O</th>\n",
       "      <th>Mass_Excess</th>\n",
       "      <th>dMass_Excess</th>\n",
       "      <th>Binding_Energy</th>\n",
       "      <th>dBinding_Energy</th>\n",
       "      <th>B_Decay_Energy</th>\n",
       "      <th>dB_Decay_Energy</th>\n",
       "      <th>Atomic_Mass_Micro</th>\n",
       "      <th>dAtomic_Mass_Micro</th>\n",
       "      <th>S(2n)</th>\n",
       "      <th>dS(2n)</th>\n",
       "      <th>S(2p)</th>\n",
       "      <th>dS(2p)</th>\n",
       "      <th>Q(a)</th>\n",
       "      <th>dQ(a)</th>\n",
       "      <th>Q(2B-)</th>\n",
       "      <th>dQ(2B-)</th>\n",
       "      <th>Q(ep)</th>\n",
       "      <th>dQ(ep)</th>\n",
       "      <th>Q(B-n)</th>\n",
       "      <th>dQ(B-n)</th>\n",
       "      <th>S(n)</th>\n",
       "      <th>dS(n)</th>\n",
       "      <th>S(p)</th>\n",
       "      <th>dS(p)</th>\n",
       "      <th>Q(4B-)</th>\n",
       "      <th>dQ(4B-)</th>\n",
       "      <th>Q(d,a)</th>\n",
       "      <th>dQ(d,a)</th>\n",
       "      <th>Q(p,a)</th>\n",
       "      <th>dQ(p,a)</th>\n",
       "      <th>Q(n,a)</th>\n",
       "      <th>dQ(n,a)</th>\n",
       "      <th>Q(g,p)</th>\n",
       "      <th>Q(g,n)</th>\n",
       "      <th>Q(g,pn)</th>\n",
       "      <th>Q(g,d)</th>\n",
       "      <th>Q(g,t)</th>\n",
       "      <th>Q(g,He3)</th>\n",
       "      <th>Q(g,2p)</th>\n",
       "      <th>Q(g,2n)</th>\n",
       "      <th>Q(g,a)</th>\n",
       "      <th>Q(p,n)</th>\n",
       "      <th>Q(p,2p)</th>\n",
       "      <th>Q(p,pn)</th>\n",
       "      <th>Q(p,d)</th>\n",
       "      <th>Q(p,2n)</th>\n",
       "      <th>Q(p,t)</th>\n",
       "      <th>Q(p,3He)</th>\n",
       "      <th>Q(n,2p)</th>\n",
       "      <th>Q(n,np)</th>\n",
       "      <th>Q(n,d)</th>\n",
       "      <th>Q(n,2n)</th>\n",
       "      <th>Q(n,t)</th>\n",
       "      <th>Q(n,3He)</th>\n",
       "      <th>Q(d,t)</th>\n",
       "      <th>Q(d,3He)</th>\n",
       "      <th>Q(3He,t)</th>\n",
       "      <th>Q(3He,a)</th>\n",
       "      <th>Q(t,a)</th>\n",
       "      <th>Element_Flag</th>\n",
       "    </tr>\n",
       "  </thead>\n",
       "  <tbody>\n",
       "    <tr>\n",
       "      <th>0</th>\n",
       "      <td>neutron</td>\n",
       "      <td>All_or_Total</td>\n",
       "      <td>3</td>\n",
       "      <td>1</td>\n",
       "      <td>All_or_Total</td>\n",
       "      <td>Dependent</td>\n",
       "      <td>Lab</td>\n",
       "      <td>88200000.0</td>\n",
       "      <td>882000.0</td>\n",
       "      <td>0.0300</td>\n",
       "      <td>0.001523</td>\n",
       "      <td>NaN</td>\n",
       "      <td>NaN</td>\n",
       "      <td>NaN</td>\n",
       "      <td>NaN</td>\n",
       "      <td>Other</td>\n",
       "      <td>D.F.MEASDAY,ET.AL. (66)</td>\n",
       "      <td>11152</td>\n",
       "      <td>2</td>\n",
       "      <td>No Pointer</td>\n",
       "      <td>0</td>\n",
       "      <td>0-NN-1(N,TOT),,SIG</td>\n",
       "      <td>NEUTRON TOTAL CROSS SECTIONS FOR NEUTRONS, PRO...</td>\n",
       "      <td>1966</td>\n",
       "      <td>D.F.Measday+</td>\n",
       "      <td>1USAHRV</td>\n",
       "      <td>1980/08/04</td>\n",
       "      <td>Jour. Nuclear Physics Vol.85, p.142, 1966</td>\n",
       "      <td>11152002</td>\n",
       "      <td>11152</td>\n",
       "      <td>(J,NP,85,142,6609)</td>\n",
       "      <td>0</td>\n",
       "      <td>1</td>\n",
       "      <td>1</td>\n",
       "      <td>1n</td>\n",
       "      <td>n</td>\n",
       "      <td>1</td>\n",
       "      <td>1</td>\n",
       "      <td>Other</td>\n",
       "      <td>8071.31713</td>\n",
       "      <td>0.00046</td>\n",
       "      <td>0.0</td>\n",
       "      <td>0.0</td>\n",
       "      <td>782.347</td>\n",
       "      <td>0.0</td>\n",
       "      <td>1.008665e+06</td>\n",
       "      <td>0.00049</td>\n",
       "      <td>0.0</td>\n",
       "      <td>0.0</td>\n",
       "      <td>0.0</td>\n",
       "      <td>0.0</td>\n",
       "      <td>0.0</td>\n",
       "      <td>0.0</td>\n",
       "      <td>0.0</td>\n",
       "      <td>0.0</td>\n",
       "      <td>0.0</td>\n",
       "      <td>0.0</td>\n",
       "      <td>0.0</td>\n",
       "      <td>0.0</td>\n",
       "      <td>0.0</td>\n",
       "      <td>0.0</td>\n",
       "      <td>0.0</td>\n",
       "      <td>0.0</td>\n",
       "      <td>0.0</td>\n",
       "      <td>0.0</td>\n",
       "      <td>0.0</td>\n",
       "      <td>0.0</td>\n",
       "      <td>0.0</td>\n",
       "      <td>0.0</td>\n",
       "      <td>0.0</td>\n",
       "      <td>0.0</td>\n",
       "      <td>0.0</td>\n",
       "      <td>0.0</td>\n",
       "      <td>0.0</td>\n",
       "      <td>0.0</td>\n",
       "      <td>0.0</td>\n",
       "      <td>0.0</td>\n",
       "      <td>0.0</td>\n",
       "      <td>0.0</td>\n",
       "      <td>0.0</td>\n",
       "      <td>0.0005</td>\n",
       "      <td>0.0</td>\n",
       "      <td>0.0</td>\n",
       "      <td>2224.566</td>\n",
       "      <td>0.0</td>\n",
       "      <td>0.0</td>\n",
       "      <td>0.0</td>\n",
       "      <td>0.0</td>\n",
       "      <td>0.0</td>\n",
       "      <td>0.0</td>\n",
       "      <td>0.0</td>\n",
       "      <td>0.0</td>\n",
       "      <td>0.0</td>\n",
       "      <td>6257.229</td>\n",
       "      <td>0.0</td>\n",
       "      <td>763.755</td>\n",
       "      <td>20577.6194</td>\n",
       "      <td>0.0</td>\n",
       "      <td>I</td>\n",
       "    </tr>\n",
       "    <tr>\n",
       "      <th>1</th>\n",
       "      <td>neutron</td>\n",
       "      <td>All_or_Total</td>\n",
       "      <td>3</td>\n",
       "      <td>1</td>\n",
       "      <td>All_or_Total</td>\n",
       "      <td>Dependent</td>\n",
       "      <td>Lab</td>\n",
       "      <td>98100000.0</td>\n",
       "      <td>981000.0</td>\n",
       "      <td>0.0291</td>\n",
       "      <td>0.001516</td>\n",
       "      <td>NaN</td>\n",
       "      <td>NaN</td>\n",
       "      <td>NaN</td>\n",
       "      <td>NaN</td>\n",
       "      <td>Other</td>\n",
       "      <td>D.F.MEASDAY,ET.AL. (66)</td>\n",
       "      <td>11152</td>\n",
       "      <td>2</td>\n",
       "      <td>No Pointer</td>\n",
       "      <td>0</td>\n",
       "      <td>0-NN-1(N,TOT),,SIG</td>\n",
       "      <td>NEUTRON TOTAL CROSS SECTIONS FOR NEUTRONS, PRO...</td>\n",
       "      <td>1966</td>\n",
       "      <td>D.F.Measday+</td>\n",
       "      <td>1USAHRV</td>\n",
       "      <td>1980/08/04</td>\n",
       "      <td>Jour. Nuclear Physics Vol.85, p.142, 1966</td>\n",
       "      <td>11152002</td>\n",
       "      <td>11152</td>\n",
       "      <td>(J,NP,85,142,6609)</td>\n",
       "      <td>0</td>\n",
       "      <td>1</td>\n",
       "      <td>1</td>\n",
       "      <td>1n</td>\n",
       "      <td>n</td>\n",
       "      <td>1</td>\n",
       "      <td>1</td>\n",
       "      <td>Other</td>\n",
       "      <td>8071.31713</td>\n",
       "      <td>0.00046</td>\n",
       "      <td>0.0</td>\n",
       "      <td>0.0</td>\n",
       "      <td>782.347</td>\n",
       "      <td>0.0</td>\n",
       "      <td>1.008665e+06</td>\n",
       "      <td>0.00049</td>\n",
       "      <td>0.0</td>\n",
       "      <td>0.0</td>\n",
       "      <td>0.0</td>\n",
       "      <td>0.0</td>\n",
       "      <td>0.0</td>\n",
       "      <td>0.0</td>\n",
       "      <td>0.0</td>\n",
       "      <td>0.0</td>\n",
       "      <td>0.0</td>\n",
       "      <td>0.0</td>\n",
       "      <td>0.0</td>\n",
       "      <td>0.0</td>\n",
       "      <td>0.0</td>\n",
       "      <td>0.0</td>\n",
       "      <td>0.0</td>\n",
       "      <td>0.0</td>\n",
       "      <td>0.0</td>\n",
       "      <td>0.0</td>\n",
       "      <td>0.0</td>\n",
       "      <td>0.0</td>\n",
       "      <td>0.0</td>\n",
       "      <td>0.0</td>\n",
       "      <td>0.0</td>\n",
       "      <td>0.0</td>\n",
       "      <td>0.0</td>\n",
       "      <td>0.0</td>\n",
       "      <td>0.0</td>\n",
       "      <td>0.0</td>\n",
       "      <td>0.0</td>\n",
       "      <td>0.0</td>\n",
       "      <td>0.0</td>\n",
       "      <td>0.0</td>\n",
       "      <td>0.0</td>\n",
       "      <td>0.0005</td>\n",
       "      <td>0.0</td>\n",
       "      <td>0.0</td>\n",
       "      <td>2224.566</td>\n",
       "      <td>0.0</td>\n",
       "      <td>0.0</td>\n",
       "      <td>0.0</td>\n",
       "      <td>0.0</td>\n",
       "      <td>0.0</td>\n",
       "      <td>0.0</td>\n",
       "      <td>0.0</td>\n",
       "      <td>0.0</td>\n",
       "      <td>0.0</td>\n",
       "      <td>6257.229</td>\n",
       "      <td>0.0</td>\n",
       "      <td>763.755</td>\n",
       "      <td>20577.6194</td>\n",
       "      <td>0.0</td>\n",
       "      <td>I</td>\n",
       "    </tr>\n",
       "    <tr>\n",
       "      <th>2</th>\n",
       "      <td>neutron</td>\n",
       "      <td>All_or_Total</td>\n",
       "      <td>3</td>\n",
       "      <td>1</td>\n",
       "      <td>All_or_Total</td>\n",
       "      <td>Dependent</td>\n",
       "      <td>Lab</td>\n",
       "      <td>110000000.0</td>\n",
       "      <td>1100000.0</td>\n",
       "      <td>0.0279</td>\n",
       "      <td>0.001415</td>\n",
       "      <td>NaN</td>\n",
       "      <td>NaN</td>\n",
       "      <td>NaN</td>\n",
       "      <td>NaN</td>\n",
       "      <td>Other</td>\n",
       "      <td>D.F.MEASDAY,ET.AL. (66)</td>\n",
       "      <td>11152</td>\n",
       "      <td>2</td>\n",
       "      <td>No Pointer</td>\n",
       "      <td>0</td>\n",
       "      <td>0-NN-1(N,TOT),,SIG</td>\n",
       "      <td>NEUTRON TOTAL CROSS SECTIONS FOR NEUTRONS, PRO...</td>\n",
       "      <td>1966</td>\n",
       "      <td>D.F.Measday+</td>\n",
       "      <td>1USAHRV</td>\n",
       "      <td>1980/08/04</td>\n",
       "      <td>Jour. Nuclear Physics Vol.85, p.142, 1966</td>\n",
       "      <td>11152002</td>\n",
       "      <td>11152</td>\n",
       "      <td>(J,NP,85,142,6609)</td>\n",
       "      <td>0</td>\n",
       "      <td>1</td>\n",
       "      <td>1</td>\n",
       "      <td>1n</td>\n",
       "      <td>n</td>\n",
       "      <td>1</td>\n",
       "      <td>1</td>\n",
       "      <td>Other</td>\n",
       "      <td>8071.31713</td>\n",
       "      <td>0.00046</td>\n",
       "      <td>0.0</td>\n",
       "      <td>0.0</td>\n",
       "      <td>782.347</td>\n",
       "      <td>0.0</td>\n",
       "      <td>1.008665e+06</td>\n",
       "      <td>0.00049</td>\n",
       "      <td>0.0</td>\n",
       "      <td>0.0</td>\n",
       "      <td>0.0</td>\n",
       "      <td>0.0</td>\n",
       "      <td>0.0</td>\n",
       "      <td>0.0</td>\n",
       "      <td>0.0</td>\n",
       "      <td>0.0</td>\n",
       "      <td>0.0</td>\n",
       "      <td>0.0</td>\n",
       "      <td>0.0</td>\n",
       "      <td>0.0</td>\n",
       "      <td>0.0</td>\n",
       "      <td>0.0</td>\n",
       "      <td>0.0</td>\n",
       "      <td>0.0</td>\n",
       "      <td>0.0</td>\n",
       "      <td>0.0</td>\n",
       "      <td>0.0</td>\n",
       "      <td>0.0</td>\n",
       "      <td>0.0</td>\n",
       "      <td>0.0</td>\n",
       "      <td>0.0</td>\n",
       "      <td>0.0</td>\n",
       "      <td>0.0</td>\n",
       "      <td>0.0</td>\n",
       "      <td>0.0</td>\n",
       "      <td>0.0</td>\n",
       "      <td>0.0</td>\n",
       "      <td>0.0</td>\n",
       "      <td>0.0</td>\n",
       "      <td>0.0</td>\n",
       "      <td>0.0</td>\n",
       "      <td>0.0005</td>\n",
       "      <td>0.0</td>\n",
       "      <td>0.0</td>\n",
       "      <td>2224.566</td>\n",
       "      <td>0.0</td>\n",
       "      <td>0.0</td>\n",
       "      <td>0.0</td>\n",
       "      <td>0.0</td>\n",
       "      <td>0.0</td>\n",
       "      <td>0.0</td>\n",
       "      <td>0.0</td>\n",
       "      <td>0.0</td>\n",
       "      <td>0.0</td>\n",
       "      <td>6257.229</td>\n",
       "      <td>0.0</td>\n",
       "      <td>763.755</td>\n",
       "      <td>20577.6194</td>\n",
       "      <td>0.0</td>\n",
       "      <td>I</td>\n",
       "    </tr>\n",
       "    <tr>\n",
       "      <th>3</th>\n",
       "      <td>neutron</td>\n",
       "      <td>All_or_Total</td>\n",
       "      <td>3</td>\n",
       "      <td>1</td>\n",
       "      <td>All_or_Total</td>\n",
       "      <td>Dependent</td>\n",
       "      <td>Lab</td>\n",
       "      <td>119600000.0</td>\n",
       "      <td>1196000.0</td>\n",
       "      <td>0.0264</td>\n",
       "      <td>0.001403</td>\n",
       "      <td>NaN</td>\n",
       "      <td>NaN</td>\n",
       "      <td>NaN</td>\n",
       "      <td>NaN</td>\n",
       "      <td>Other</td>\n",
       "      <td>D.F.MEASDAY,ET.AL. (66)</td>\n",
       "      <td>11152</td>\n",
       "      <td>2</td>\n",
       "      <td>No Pointer</td>\n",
       "      <td>0</td>\n",
       "      <td>0-NN-1(N,TOT),,SIG</td>\n",
       "      <td>NEUTRON TOTAL CROSS SECTIONS FOR NEUTRONS, PRO...</td>\n",
       "      <td>1966</td>\n",
       "      <td>D.F.Measday+</td>\n",
       "      <td>1USAHRV</td>\n",
       "      <td>1980/08/04</td>\n",
       "      <td>Jour. Nuclear Physics Vol.85, p.142, 1966</td>\n",
       "      <td>11152002</td>\n",
       "      <td>11152</td>\n",
       "      <td>(J,NP,85,142,6609)</td>\n",
       "      <td>0</td>\n",
       "      <td>1</td>\n",
       "      <td>1</td>\n",
       "      <td>1n</td>\n",
       "      <td>n</td>\n",
       "      <td>1</td>\n",
       "      <td>1</td>\n",
       "      <td>Other</td>\n",
       "      <td>8071.31713</td>\n",
       "      <td>0.00046</td>\n",
       "      <td>0.0</td>\n",
       "      <td>0.0</td>\n",
       "      <td>782.347</td>\n",
       "      <td>0.0</td>\n",
       "      <td>1.008665e+06</td>\n",
       "      <td>0.00049</td>\n",
       "      <td>0.0</td>\n",
       "      <td>0.0</td>\n",
       "      <td>0.0</td>\n",
       "      <td>0.0</td>\n",
       "      <td>0.0</td>\n",
       "      <td>0.0</td>\n",
       "      <td>0.0</td>\n",
       "      <td>0.0</td>\n",
       "      <td>0.0</td>\n",
       "      <td>0.0</td>\n",
       "      <td>0.0</td>\n",
       "      <td>0.0</td>\n",
       "      <td>0.0</td>\n",
       "      <td>0.0</td>\n",
       "      <td>0.0</td>\n",
       "      <td>0.0</td>\n",
       "      <td>0.0</td>\n",
       "      <td>0.0</td>\n",
       "      <td>0.0</td>\n",
       "      <td>0.0</td>\n",
       "      <td>0.0</td>\n",
       "      <td>0.0</td>\n",
       "      <td>0.0</td>\n",
       "      <td>0.0</td>\n",
       "      <td>0.0</td>\n",
       "      <td>0.0</td>\n",
       "      <td>0.0</td>\n",
       "      <td>0.0</td>\n",
       "      <td>0.0</td>\n",
       "      <td>0.0</td>\n",
       "      <td>0.0</td>\n",
       "      <td>0.0</td>\n",
       "      <td>0.0</td>\n",
       "      <td>0.0005</td>\n",
       "      <td>0.0</td>\n",
       "      <td>0.0</td>\n",
       "      <td>2224.566</td>\n",
       "      <td>0.0</td>\n",
       "      <td>0.0</td>\n",
       "      <td>0.0</td>\n",
       "      <td>0.0</td>\n",
       "      <td>0.0</td>\n",
       "      <td>0.0</td>\n",
       "      <td>0.0</td>\n",
       "      <td>0.0</td>\n",
       "      <td>0.0</td>\n",
       "      <td>6257.229</td>\n",
       "      <td>0.0</td>\n",
       "      <td>763.755</td>\n",
       "      <td>20577.6194</td>\n",
       "      <td>0.0</td>\n",
       "      <td>I</td>\n",
       "    </tr>\n",
       "    <tr>\n",
       "      <th>4</th>\n",
       "      <td>neutron</td>\n",
       "      <td>All_or_Total</td>\n",
       "      <td>3</td>\n",
       "      <td>1</td>\n",
       "      <td>All_or_Total</td>\n",
       "      <td>Dependent</td>\n",
       "      <td>Lab</td>\n",
       "      <td>129400000.0</td>\n",
       "      <td>1294000.0</td>\n",
       "      <td>0.0256</td>\n",
       "      <td>0.001397</td>\n",
       "      <td>NaN</td>\n",
       "      <td>NaN</td>\n",
       "      <td>NaN</td>\n",
       "      <td>NaN</td>\n",
       "      <td>Other</td>\n",
       "      <td>D.F.MEASDAY,ET.AL. (66)</td>\n",
       "      <td>11152</td>\n",
       "      <td>2</td>\n",
       "      <td>No Pointer</td>\n",
       "      <td>0</td>\n",
       "      <td>0-NN-1(N,TOT),,SIG</td>\n",
       "      <td>NEUTRON TOTAL CROSS SECTIONS FOR NEUTRONS, PRO...</td>\n",
       "      <td>1966</td>\n",
       "      <td>D.F.Measday+</td>\n",
       "      <td>1USAHRV</td>\n",
       "      <td>1980/08/04</td>\n",
       "      <td>Jour. Nuclear Physics Vol.85, p.142, 1966</td>\n",
       "      <td>11152002</td>\n",
       "      <td>11152</td>\n",
       "      <td>(J,NP,85,142,6609)</td>\n",
       "      <td>0</td>\n",
       "      <td>1</td>\n",
       "      <td>1</td>\n",
       "      <td>1n</td>\n",
       "      <td>n</td>\n",
       "      <td>1</td>\n",
       "      <td>1</td>\n",
       "      <td>Other</td>\n",
       "      <td>8071.31713</td>\n",
       "      <td>0.00046</td>\n",
       "      <td>0.0</td>\n",
       "      <td>0.0</td>\n",
       "      <td>782.347</td>\n",
       "      <td>0.0</td>\n",
       "      <td>1.008665e+06</td>\n",
       "      <td>0.00049</td>\n",
       "      <td>0.0</td>\n",
       "      <td>0.0</td>\n",
       "      <td>0.0</td>\n",
       "      <td>0.0</td>\n",
       "      <td>0.0</td>\n",
       "      <td>0.0</td>\n",
       "      <td>0.0</td>\n",
       "      <td>0.0</td>\n",
       "      <td>0.0</td>\n",
       "      <td>0.0</td>\n",
       "      <td>0.0</td>\n",
       "      <td>0.0</td>\n",
       "      <td>0.0</td>\n",
       "      <td>0.0</td>\n",
       "      <td>0.0</td>\n",
       "      <td>0.0</td>\n",
       "      <td>0.0</td>\n",
       "      <td>0.0</td>\n",
       "      <td>0.0</td>\n",
       "      <td>0.0</td>\n",
       "      <td>0.0</td>\n",
       "      <td>0.0</td>\n",
       "      <td>0.0</td>\n",
       "      <td>0.0</td>\n",
       "      <td>0.0</td>\n",
       "      <td>0.0</td>\n",
       "      <td>0.0</td>\n",
       "      <td>0.0</td>\n",
       "      <td>0.0</td>\n",
       "      <td>0.0</td>\n",
       "      <td>0.0</td>\n",
       "      <td>0.0</td>\n",
       "      <td>0.0</td>\n",
       "      <td>0.0005</td>\n",
       "      <td>0.0</td>\n",
       "      <td>0.0</td>\n",
       "      <td>2224.566</td>\n",
       "      <td>0.0</td>\n",
       "      <td>0.0</td>\n",
       "      <td>0.0</td>\n",
       "      <td>0.0</td>\n",
       "      <td>0.0</td>\n",
       "      <td>0.0</td>\n",
       "      <td>0.0</td>\n",
       "      <td>0.0</td>\n",
       "      <td>0.0</td>\n",
       "      <td>6257.229</td>\n",
       "      <td>0.0</td>\n",
       "      <td>763.755</td>\n",
       "      <td>20577.6194</td>\n",
       "      <td>0.0</td>\n",
       "      <td>I</td>\n",
       "    </tr>\n",
       "  </tbody>\n",
       "</table>\n",
       "</div>"
      ],
      "text/plain": [
       "  Projectile Target_Metastable_State MF MT Product_Metastable_State  \\\n",
       "0    neutron            All_or_Total  3  1             All_or_Total   \n",
       "1    neutron            All_or_Total  3  1             All_or_Total   \n",
       "2    neutron            All_or_Total  3  1             All_or_Total   \n",
       "3    neutron            All_or_Total  3  1             All_or_Total   \n",
       "4    neutron            All_or_Total  3  1             All_or_Total   \n",
       "\n",
       "  EXFOR_Status Center_of_Mass_Flag       Energy    dEnergy    Data     dData  \\\n",
       "0    Dependent                 Lab   88200000.0   882000.0  0.0300  0.001523   \n",
       "1    Dependent                 Lab   98100000.0   981000.0  0.0291  0.001516   \n",
       "2    Dependent                 Lab  110000000.0  1100000.0  0.0279  0.001415   \n",
       "3    Dependent                 Lab  119600000.0  1196000.0  0.0264  0.001403   \n",
       "4    Dependent                 Lab  129400000.0  1294000.0  0.0256  0.001397   \n",
       "\n",
       "   Cos/LO  dCos/LO  ELV/HL  dELV/HL    I78            Short_Reference  \\\n",
       "0     NaN      NaN     NaN      NaN  Other  D.F.MEASDAY,ET.AL. (66)     \n",
       "1     NaN      NaN     NaN      NaN  Other  D.F.MEASDAY,ET.AL. (66)     \n",
       "2     NaN      NaN     NaN      NaN  Other  D.F.MEASDAY,ET.AL. (66)     \n",
       "3     NaN      NaN     NaN      NaN  Other  D.F.MEASDAY,ET.AL. (66)     \n",
       "4     NaN      NaN     NaN      NaN  Other  D.F.MEASDAY,ET.AL. (66)     \n",
       "\n",
       "  EXFOR_Accession_Number  EXFOR_SubAccession_Number EXFOR_Pointer  Z  \\\n",
       "0                  11152                          2    No Pointer  0   \n",
       "1                  11152                          2    No Pointer  0   \n",
       "2                  11152                          2    No Pointer  0   \n",
       "3                  11152                          2    No Pointer  0   \n",
       "4                  11152                          2    No Pointer  0   \n",
       "\n",
       "    Reaction_Notation                                              Title  \\\n",
       "0  0-NN-1(N,TOT),,SIG  NEUTRON TOTAL CROSS SECTIONS FOR NEUTRONS, PRO...   \n",
       "1  0-NN-1(N,TOT),,SIG  NEUTRON TOTAL CROSS SECTIONS FOR NEUTRONS, PRO...   \n",
       "2  0-NN-1(N,TOT),,SIG  NEUTRON TOTAL CROSS SECTIONS FOR NEUTRONS, PRO...   \n",
       "3  0-NN-1(N,TOT),,SIG  NEUTRON TOTAL CROSS SECTIONS FOR NEUTRONS, PRO...   \n",
       "4  0-NN-1(N,TOT),,SIG  NEUTRON TOTAL CROSS SECTIONS FOR NEUTRONS, PRO...   \n",
       "\n",
       "   Year        Author Institute        Date  \\\n",
       "0  1966  D.F.Measday+   1USAHRV  1980/08/04   \n",
       "1  1966  D.F.Measday+   1USAHRV  1980/08/04   \n",
       "2  1966  D.F.Measday+   1USAHRV  1980/08/04   \n",
       "3  1966  D.F.Measday+   1USAHRV  1980/08/04   \n",
       "4  1966  D.F.Measday+   1USAHRV  1980/08/04   \n",
       "\n",
       "                                   Reference Dataset_Number EXFOR_Entry  \\\n",
       "0  Jour. Nuclear Physics Vol.85, p.142, 1966       11152002       11152   \n",
       "1  Jour. Nuclear Physics Vol.85, p.142, 1966       11152002       11152   \n",
       "2  Jour. Nuclear Physics Vol.85, p.142, 1966       11152002       11152   \n",
       "3  Jour. Nuclear Physics Vol.85, p.142, 1966       11152002       11152   \n",
       "4  Jour. Nuclear Physics Vol.85, p.142, 1966       11152002       11152   \n",
       "\n",
       "       Reference_Code  Projectile_Z  Projectile_A  Projectile_N Isotope  \\\n",
       "0  (J,NP,85,142,6609)             0             1             1      1n   \n",
       "1  (J,NP,85,142,6609)             0             1             1      1n   \n",
       "2  (J,NP,85,142,6609)             0             1             1      1n   \n",
       "3  (J,NP,85,142,6609)             0             1             1      1n   \n",
       "4  (J,NP,85,142,6609)             0             1             1      1n   \n",
       "\n",
       "  Element  N  A      O  Mass_Excess  dMass_Excess  Binding_Energy  \\\n",
       "0       n  1  1  Other   8071.31713       0.00046             0.0   \n",
       "1       n  1  1  Other   8071.31713       0.00046             0.0   \n",
       "2       n  1  1  Other   8071.31713       0.00046             0.0   \n",
       "3       n  1  1  Other   8071.31713       0.00046             0.0   \n",
       "4       n  1  1  Other   8071.31713       0.00046             0.0   \n",
       "\n",
       "   dBinding_Energy  B_Decay_Energy  dB_Decay_Energy  Atomic_Mass_Micro  \\\n",
       "0              0.0         782.347              0.0       1.008665e+06   \n",
       "1              0.0         782.347              0.0       1.008665e+06   \n",
       "2              0.0         782.347              0.0       1.008665e+06   \n",
       "3              0.0         782.347              0.0       1.008665e+06   \n",
       "4              0.0         782.347              0.0       1.008665e+06   \n",
       "\n",
       "   dAtomic_Mass_Micro  S(2n)  dS(2n)  S(2p)  dS(2p)  Q(a)  dQ(a)  Q(2B-)  \\\n",
       "0             0.00049    0.0     0.0    0.0     0.0   0.0    0.0     0.0   \n",
       "1             0.00049    0.0     0.0    0.0     0.0   0.0    0.0     0.0   \n",
       "2             0.00049    0.0     0.0    0.0     0.0   0.0    0.0     0.0   \n",
       "3             0.00049    0.0     0.0    0.0     0.0   0.0    0.0     0.0   \n",
       "4             0.00049    0.0     0.0    0.0     0.0   0.0    0.0     0.0   \n",
       "\n",
       "   dQ(2B-)  Q(ep)  dQ(ep)  Q(B-n)  dQ(B-n)  S(n)  dS(n)  S(p)  dS(p)  Q(4B-)  \\\n",
       "0      0.0    0.0     0.0     0.0      0.0   0.0    0.0   0.0    0.0     0.0   \n",
       "1      0.0    0.0     0.0     0.0      0.0   0.0    0.0   0.0    0.0     0.0   \n",
       "2      0.0    0.0     0.0     0.0      0.0   0.0    0.0   0.0    0.0     0.0   \n",
       "3      0.0    0.0     0.0     0.0      0.0   0.0    0.0   0.0    0.0     0.0   \n",
       "4      0.0    0.0     0.0     0.0      0.0   0.0    0.0   0.0    0.0     0.0   \n",
       "\n",
       "   dQ(4B-)  Q(d,a)  dQ(d,a)  Q(p,a)  dQ(p,a)  Q(n,a)  dQ(n,a)  Q(g,p)  Q(g,n)  \\\n",
       "0      0.0     0.0      0.0     0.0      0.0     0.0      0.0     0.0     0.0   \n",
       "1      0.0     0.0      0.0     0.0      0.0     0.0      0.0     0.0     0.0   \n",
       "2      0.0     0.0      0.0     0.0      0.0     0.0      0.0     0.0     0.0   \n",
       "3      0.0     0.0      0.0     0.0      0.0     0.0      0.0     0.0     0.0   \n",
       "4      0.0     0.0      0.0     0.0      0.0     0.0      0.0     0.0     0.0   \n",
       "\n",
       "   Q(g,pn)  Q(g,d)  Q(g,t)  Q(g,He3)  Q(g,2p)  Q(g,2n)  Q(g,a)  Q(p,n)  \\\n",
       "0      0.0     0.0     0.0       0.0      0.0      0.0     0.0  0.0005   \n",
       "1      0.0     0.0     0.0       0.0      0.0      0.0     0.0  0.0005   \n",
       "2      0.0     0.0     0.0       0.0      0.0      0.0     0.0  0.0005   \n",
       "3      0.0     0.0     0.0       0.0      0.0      0.0     0.0  0.0005   \n",
       "4      0.0     0.0     0.0       0.0      0.0      0.0     0.0  0.0005   \n",
       "\n",
       "   Q(p,2p)  Q(p,pn)    Q(p,d)  Q(p,2n)  Q(p,t)  Q(p,3He)  Q(n,2p)  Q(n,np)  \\\n",
       "0      0.0      0.0  2224.566      0.0     0.0       0.0      0.0      0.0   \n",
       "1      0.0      0.0  2224.566      0.0     0.0       0.0      0.0      0.0   \n",
       "2      0.0      0.0  2224.566      0.0     0.0       0.0      0.0      0.0   \n",
       "3      0.0      0.0  2224.566      0.0     0.0       0.0      0.0      0.0   \n",
       "4      0.0      0.0  2224.566      0.0     0.0       0.0      0.0      0.0   \n",
       "\n",
       "   Q(n,d)  Q(n,2n)  Q(n,t)  Q(n,3He)    Q(d,t)  Q(d,3He)  Q(3He,t)  \\\n",
       "0     0.0      0.0     0.0       0.0  6257.229       0.0   763.755   \n",
       "1     0.0      0.0     0.0       0.0  6257.229       0.0   763.755   \n",
       "2     0.0      0.0     0.0       0.0  6257.229       0.0   763.755   \n",
       "3     0.0      0.0     0.0       0.0  6257.229       0.0   763.755   \n",
       "4     0.0      0.0     0.0       0.0  6257.229       0.0   763.755   \n",
       "\n",
       "     Q(3He,a)  Q(t,a) Element_Flag  \n",
       "0  20577.6194     0.0            I  \n",
       "1  20577.6194     0.0            I  \n",
       "2  20577.6194     0.0            I  \n",
       "3  20577.6194     0.0            I  \n",
       "4  20577.6194     0.0            I  "
      ]
     },
     "execution_count": 146,
     "metadata": {},
     "output_type": "execute_result"
    }
   ],
   "source": [
    "df.head()"
   ]
  },
  {
   "cell_type": "code",
   "execution_count": 147,
   "metadata": {
    "ExecuteTime": {
     "end_time": "2020-09-26T18:27:37.198969Z",
     "start_time": "2020-09-26T18:27:37.194967Z"
    }
   },
   "outputs": [
    {
     "data": {
      "text/plain": [
       "Index(['Projectile', 'Target_Metastable_State', 'MF', 'MT',\n",
       "       'Product_Metastable_State', 'EXFOR_Status', 'Center_of_Mass_Flag',\n",
       "       'Energy', 'dEnergy', 'Data', 'dData', 'Cos/LO', 'dCos/LO', 'ELV/HL',\n",
       "       'dELV/HL', 'I78', 'Short_Reference', 'EXFOR_Accession_Number',\n",
       "       'EXFOR_SubAccession_Number', 'EXFOR_Pointer', 'Z', 'Reaction_Notation',\n",
       "       'Title', 'Year', 'Author', 'Institute', 'Date', 'Reference',\n",
       "       'Dataset_Number', 'EXFOR_Entry', 'Reference_Code', 'Projectile_Z',\n",
       "       'Projectile_A', 'Projectile_N', 'Isotope', 'Element', 'N', 'A', 'O',\n",
       "       'Mass_Excess', 'dMass_Excess', 'Binding_Energy', 'dBinding_Energy',\n",
       "       'B_Decay_Energy', 'dB_Decay_Energy', 'Atomic_Mass_Micro',\n",
       "       'dAtomic_Mass_Micro', 'S(2n)', 'dS(2n)', 'S(2p)', 'dS(2p)', 'Q(a)',\n",
       "       'dQ(a)', 'Q(2B-)', 'dQ(2B-)', 'Q(ep)', 'dQ(ep)', 'Q(B-n)', 'dQ(B-n)',\n",
       "       'S(n)', 'dS(n)', 'S(p)', 'dS(p)', 'Q(4B-)', 'dQ(4B-)', 'Q(d,a)',\n",
       "       'dQ(d,a)', 'Q(p,a)', 'dQ(p,a)', 'Q(n,a)', 'dQ(n,a)', 'Q(g,p)', 'Q(g,n)',\n",
       "       'Q(g,pn)', 'Q(g,d)', 'Q(g,t)', 'Q(g,He3)', 'Q(g,2p)', 'Q(g,2n)',\n",
       "       'Q(g,a)', 'Q(p,n)', 'Q(p,2p)', 'Q(p,pn)', 'Q(p,d)', 'Q(p,2n)', 'Q(p,t)',\n",
       "       'Q(p,3He)', 'Q(n,2p)', 'Q(n,np)', 'Q(n,d)', 'Q(n,2n)', 'Q(n,t)',\n",
       "       'Q(n,3He)', 'Q(d,t)', 'Q(d,3He)', 'Q(3He,t)', 'Q(3He,a)', 'Q(t,a)',\n",
       "       'Element_Flag'],\n",
       "      dtype='object')"
      ]
     },
     "execution_count": 147,
     "metadata": {},
     "output_type": "execute_result"
    }
   ],
   "source": [
    "df.columns"
   ]
  },
  {
   "cell_type": "code",
   "execution_count": 148,
   "metadata": {
    "ExecuteTime": {
     "end_time": "2020-09-26T18:27:39.476483Z",
     "start_time": "2020-09-26T18:27:37.199969Z"
    }
   },
   "outputs": [],
   "source": [
    "columns_drop = [\"MF\", \"Cos/LO\", \"dCos/LO\"]\n",
    "df = df.drop(columns=columns_drop)"
   ]
  },
  {
   "cell_type": "markdown",
   "metadata": {},
   "source": [
    "## Exploring Missing Values"
   ]
  },
  {
   "cell_type": "code",
   "execution_count": 149,
   "metadata": {
    "ExecuteTime": {
     "end_time": "2020-09-26T18:27:39.480485Z",
     "start_time": "2020-09-26T18:27:39.478484Z"
    }
   },
   "outputs": [],
   "source": [
    "# df[\"Neutrons\"] = df[\"Neutrons\"].astype(int)\n",
    "# df[\"Mass_Number\"] = df[\"Mass_Number\"].astype(int)"
   ]
  },
  {
   "cell_type": "code",
   "execution_count": 150,
   "metadata": {
    "ExecuteTime": {
     "end_time": "2020-09-26T18:27:39.484486Z",
     "start_time": "2020-09-26T18:27:39.482485Z"
    }
   },
   "outputs": [],
   "source": [
    "# df = df.rename(columns={\"Z\":\"Protons\", \"EL\":\"Element\", \"O\":\"Origin\", \"Type\":\"Reaction_Notation\"})"
   ]
  },
  {
   "cell_type": "code",
   "execution_count": 151,
   "metadata": {
    "ExecuteTime": {
     "end_time": "2020-09-26T18:27:39.490487Z",
     "start_time": "2020-09-26T18:27:39.485486Z"
    }
   },
   "outputs": [
    {
     "data": {
      "text/plain": [
       "Index(['Projectile', 'Target_Metastable_State', 'MT',\n",
       "       'Product_Metastable_State', 'EXFOR_Status', 'Center_of_Mass_Flag',\n",
       "       'Energy', 'dEnergy', 'Data', 'dData', 'ELV/HL', 'dELV/HL', 'I78',\n",
       "       'Short_Reference', 'EXFOR_Accession_Number',\n",
       "       'EXFOR_SubAccession_Number', 'EXFOR_Pointer', 'Z', 'Reaction_Notation',\n",
       "       'Title', 'Year', 'Author', 'Institute', 'Date', 'Reference',\n",
       "       'Dataset_Number', 'EXFOR_Entry', 'Reference_Code', 'Projectile_Z',\n",
       "       'Projectile_A', 'Projectile_N', 'Isotope', 'Element', 'N', 'A', 'O',\n",
       "       'Mass_Excess', 'dMass_Excess', 'Binding_Energy', 'dBinding_Energy',\n",
       "       'B_Decay_Energy', 'dB_Decay_Energy', 'Atomic_Mass_Micro',\n",
       "       'dAtomic_Mass_Micro', 'S(2n)', 'dS(2n)', 'S(2p)', 'dS(2p)', 'Q(a)',\n",
       "       'dQ(a)', 'Q(2B-)', 'dQ(2B-)', 'Q(ep)', 'dQ(ep)', 'Q(B-n)', 'dQ(B-n)',\n",
       "       'S(n)', 'dS(n)', 'S(p)', 'dS(p)', 'Q(4B-)', 'dQ(4B-)', 'Q(d,a)',\n",
       "       'dQ(d,a)', 'Q(p,a)', 'dQ(p,a)', 'Q(n,a)', 'dQ(n,a)', 'Q(g,p)', 'Q(g,n)',\n",
       "       'Q(g,pn)', 'Q(g,d)', 'Q(g,t)', 'Q(g,He3)', 'Q(g,2p)', 'Q(g,2n)',\n",
       "       'Q(g,a)', 'Q(p,n)', 'Q(p,2p)', 'Q(p,pn)', 'Q(p,d)', 'Q(p,2n)', 'Q(p,t)',\n",
       "       'Q(p,3He)', 'Q(n,2p)', 'Q(n,np)', 'Q(n,d)', 'Q(n,2n)', 'Q(n,t)',\n",
       "       'Q(n,3He)', 'Q(d,t)', 'Q(d,3He)', 'Q(3He,t)', 'Q(3He,a)', 'Q(t,a)',\n",
       "       'Element_Flag'],\n",
       "      dtype='object')"
      ]
     },
     "execution_count": 151,
     "metadata": {},
     "output_type": "execute_result"
    }
   ],
   "source": [
    "df.columns"
   ]
  },
  {
   "cell_type": "code",
   "execution_count": 152,
   "metadata": {
    "ExecuteTime": {
     "end_time": "2020-09-26T18:27:39.493489Z",
     "start_time": "2020-09-26T18:27:39.491487Z"
    }
   },
   "outputs": [],
   "source": [
    "# # Assuming Unknown values are ground state\n",
    "# df[\"Product_Meta_State\"] = df[\"Product_Meta_State\"].astype(str)\n",
    "# df[\"Product_Meta_State\"] = df[\"Product_Meta_State\"].replace(to_replace=\"?\", value=\"G\")"
   ]
  },
  {
   "cell_type": "code",
   "execution_count": 153,
   "metadata": {
    "ExecuteTime": {
     "end_time": "2020-09-26T18:27:39.497489Z",
     "start_time": "2020-09-26T18:27:39.494488Z"
    }
   },
   "outputs": [],
   "source": [
    "# df[\"Element_w_A\"] = df[\"Mass_Number\"].astype(str) + df.Element"
   ]
  },
  {
   "cell_type": "markdown",
   "metadata": {},
   "source": [
    "## Uncertainty Missing Values\n",
    "\n",
    "The uncertainty is not given for every experiment. Missing values happen when they are not specified in the entries and are given in the respective paper, or are simply not given. In any case, it will be very tidius to go one by one finding uncertanties. For this, we take the mean of the current uncertanties and fill missing values using the mean uncertantity multiply times the energy values. \n",
    "\n",
    "**it would be better to assign mean uncertainty per facility, per author, or per dataset**"
   ]
  },
  {
   "cell_type": "code",
   "execution_count": 154,
   "metadata": {
    "ExecuteTime": {
     "end_time": "2020-09-26T18:27:43.166320Z",
     "start_time": "2020-09-26T18:27:39.499489Z"
    }
   },
   "outputs": [
    {
     "data": {
      "text/plain": [
       "['dEnergy', 'dData', 'ELV/HL', 'dELV/HL']"
      ]
     },
     "execution_count": 154,
     "metadata": {},
     "output_type": "execute_result"
    }
   ],
   "source": [
    "df.columns[df.isna().any()].tolist()"
   ]
  },
  {
   "cell_type": "markdown",
   "metadata": {},
   "source": [
    "## Exploring Uncertainty"
   ]
  },
  {
   "cell_type": "code",
   "execution_count": 155,
   "metadata": {
    "ExecuteTime": {
     "end_time": "2020-09-26T18:27:43.169321Z",
     "start_time": "2020-09-26T18:27:43.167320Z"
    }
   },
   "outputs": [],
   "source": [
    "# missing_uncertanties_institute = df[[\"Institute\",\"dEnergy\"]].drop('Institute', 1).isna().groupby(df.Institute, sort=False).sum().reset_index()\n",
    "# missing_uncertanties_institute = missing_uncertanties_institute[missing_uncertanties_institute.dEnergy > 0]\n",
    "# missing_uncertanties_institute = missing_uncertanties_institute.sort_values('dEnergy', ascending=False)\n",
    "\n",
    "# missing_uncertanties_reference = df[[\"Institute\",\"dEnergy\"]].drop('Institute', 1).isna().groupby(df.Institute, sort=False).sum().reset_index()\n",
    "# missing_uncertanties_reference = missing_uncertanties_reference[missing_uncertanties_reference.dEnergy > 0]\n",
    "# missing_uncertanties_reference = missing_uncertanties_reference.sort_values('dEnergy', ascending=False)\n",
    "\n",
    "# missing_uncertanties_reference.to_csv(\"./Extracted_Text/missing_unc_ref.csv\", index=False)\n",
    "# missing_uncertanties_institute.to_csv(\"./Extracted_Text/missing_unc_ins.csv\", index=False)"
   ]
  },
  {
   "cell_type": "code",
   "execution_count": 156,
   "metadata": {
    "ExecuteTime": {
     "end_time": "2020-09-26T18:27:43.277345Z",
     "start_time": "2020-09-26T18:27:43.170321Z"
    }
   },
   "outputs": [],
   "source": [
    "df[\"Uncertainty_E\"] = df[\"dEnergy\"]/df[\"Energy\"]\n",
    "df[\"Uncertainty_D\"] = df[\"dData\"]/df[\"Data\"]\n",
    "df[\"Uncertainty_ELV\"] = df[\"dELV/HL\"]/df[\"ELV/HL\"]"
   ]
  },
  {
   "cell_type": "code",
   "execution_count": 157,
   "metadata": {
    "ExecuteTime": {
     "end_time": "2020-09-26T18:27:47.965407Z",
     "start_time": "2020-09-26T18:27:43.278345Z"
    }
   },
   "outputs": [],
   "source": [
    "df_copy = df.copy()"
   ]
  },
  {
   "cell_type": "code",
   "execution_count": 158,
   "metadata": {
    "ExecuteTime": {
     "end_time": "2020-09-26T18:27:49.930851Z",
     "start_time": "2020-09-26T18:27:47.966407Z"
    }
   },
   "outputs": [],
   "source": [
    "df = df_copy.copy()"
   ]
  },
  {
   "cell_type": "code",
   "execution_count": 159,
   "metadata": {
    "ExecuteTime": {
     "end_time": "2020-09-26T18:27:49.934853Z",
     "start_time": "2020-09-26T18:27:49.931852Z"
    }
   },
   "outputs": [
    {
     "data": {
      "text/plain": [
       "(4644791, 99)"
      ]
     },
     "execution_count": 159,
     "metadata": {},
     "output_type": "execute_result"
    }
   ],
   "source": [
    "df.shape"
   ]
  },
  {
   "cell_type": "code",
   "execution_count": 160,
   "metadata": {
    "ExecuteTime": {
     "end_time": "2020-09-26T18:27:50.059881Z",
     "start_time": "2020-09-26T18:27:49.935855Z"
    }
   },
   "outputs": [
    {
     "data": {
      "text/plain": [
       "Uncertainty_E      3919001\n",
       "Uncertainty_D       830521\n",
       "Uncertainty_ELV    4634484\n",
       "dtype: int64"
      ]
     },
     "execution_count": 160,
     "metadata": {},
     "output_type": "execute_result"
    }
   ],
   "source": [
    "df[[\"Uncertainty_E\", \"Uncertainty_D\", \"Uncertainty_ELV\"]].isna().sum()"
   ]
  },
  {
   "cell_type": "markdown",
   "metadata": {},
   "source": [
    "### Fill by Reaction Channel"
   ]
  },
  {
   "cell_type": "code",
   "execution_count": 161,
   "metadata": {
    "ExecuteTime": {
     "end_time": "2020-09-26T18:27:54.290902Z",
     "start_time": "2020-09-26T18:27:50.060882Z"
    }
   },
   "outputs": [],
   "source": [
    "df[\"Uncertainty_E\"] = df[[\"MT\", \"Uncertainty_E\"]].groupby(\"MT\").transform(lambda x: x.fillna(x.mean()))\n",
    "df[\"Uncertainty_D\"] = df[[\"MT\", \"Uncertainty_D\"]].groupby(\"MT\").transform(lambda x: x.fillna(x.mean()))\n",
    "df[\"Uncertainty_ELV\"] = df[[\"MT\", \"Uncertainty_ELV\"]].groupby(\"MT\").transform(lambda x: x.fillna(x.mean()))"
   ]
  },
  {
   "cell_type": "code",
   "execution_count": 162,
   "metadata": {
    "ExecuteTime": {
     "end_time": "2020-09-26T18:27:54.406919Z",
     "start_time": "2020-09-26T18:27:54.291893Z"
    }
   },
   "outputs": [
    {
     "data": {
      "text/plain": [
       "Uncertainty_E           19\n",
       "Uncertainty_D            0\n",
       "Uncertainty_ELV    3942539\n",
       "dtype: int64"
      ]
     },
     "execution_count": 162,
     "metadata": {},
     "output_type": "execute_result"
    }
   ],
   "source": [
    "df[[\"Uncertainty_E\", \"Uncertainty_D\", \"Uncertainty_ELV\"]].isna().sum()"
   ]
  },
  {
   "cell_type": "markdown",
   "metadata": {},
   "source": [
    "### Fill by Institute"
   ]
  },
  {
   "cell_type": "code",
   "execution_count": 163,
   "metadata": {
    "ExecuteTime": {
     "end_time": "2020-09-26T18:27:58.953948Z",
     "start_time": "2020-09-26T18:27:54.408920Z"
    },
    "scrolled": true
   },
   "outputs": [],
   "source": [
    "df[\"Uncertainty_E\"] = df[[\"Institute\", \"Uncertainty_E\"]].groupby(\"Institute\").transform(lambda x: x.fillna(x.mean()))\n",
    "df[\"Uncertainty_D\"] = df[[\"Institute\", \"Uncertainty_D\"]].groupby(\"Institute\").transform(lambda x: x.fillna(x.mean()))\n",
    "df[\"Uncertainty_ELV\"] = df[[\"Institute\", \"Uncertainty_ELV\"]].groupby(\"Institute\").transform(lambda x: x.fillna(x.mean()))"
   ]
  },
  {
   "cell_type": "code",
   "execution_count": 164,
   "metadata": {
    "ExecuteTime": {
     "end_time": "2020-09-26T18:27:59.069975Z",
     "start_time": "2020-09-26T18:27:58.954949Z"
    },
    "scrolled": true
   },
   "outputs": [
    {
     "data": {
      "text/plain": [
       "Uncertainty_E           0\n",
       "Uncertainty_D           0\n",
       "Uncertainty_ELV    109691\n",
       "dtype: int64"
      ]
     },
     "execution_count": 164,
     "metadata": {},
     "output_type": "execute_result"
    }
   ],
   "source": [
    "df[[\"Uncertainty_E\", \"Uncertainty_D\", \"Uncertainty_ELV\"]].isna().sum()"
   ]
  },
  {
   "cell_type": "markdown",
   "metadata": {},
   "source": [
    "### Fill by Isotope"
   ]
  },
  {
   "cell_type": "code",
   "execution_count": 165,
   "metadata": {
    "ExecuteTime": {
     "end_time": "2020-09-26T18:28:03.668029Z",
     "start_time": "2020-09-26T18:27:59.070975Z"
    }
   },
   "outputs": [],
   "source": [
    "df[\"Uncertainty_E\"] = df[[\"Isotope\", \"Uncertainty_E\"]].groupby(\"Isotope\").transform(lambda x: x.fillna(x.mean()))\n",
    "df[\"Uncertainty_D\"] = df[[\"Isotope\", \"Uncertainty_D\"]].groupby(\"Isotope\").transform(lambda x: x.fillna(x.mean()))\n",
    "df[\"Uncertainty_ELV\"] = df[[\"Isotope\", \"Uncertainty_ELV\"]].groupby(\"Isotope\").transform(lambda x: x.fillna(x.mean()))"
   ]
  },
  {
   "cell_type": "code",
   "execution_count": 166,
   "metadata": {
    "ExecuteTime": {
     "end_time": "2020-09-26T18:28:03.785042Z",
     "start_time": "2020-09-26T18:28:03.669017Z"
    }
   },
   "outputs": [
    {
     "data": {
      "text/plain": [
       "Uncertainty_E      0\n",
       "Uncertainty_D      0\n",
       "Uncertainty_ELV    8\n",
       "dtype: int64"
      ]
     },
     "execution_count": 166,
     "metadata": {},
     "output_type": "execute_result"
    }
   ],
   "source": [
    "df[[\"Uncertainty_E\", \"Uncertainty_D\", \"Uncertainty_ELV\"]].isna().sum()"
   ]
  },
  {
   "cell_type": "code",
   "execution_count": 167,
   "metadata": {
    "ExecuteTime": {
     "end_time": "2020-09-26T18:28:05.004328Z",
     "start_time": "2020-09-26T18:28:03.786043Z"
    }
   },
   "outputs": [],
   "source": [
    "df[\"Uncertainty_ELV\"] = df[[\"I78\", \"Uncertainty_ELV\"]].groupby(\"I78\").transform(lambda x: x.fillna(x.mean()))"
   ]
  },
  {
   "cell_type": "code",
   "execution_count": 168,
   "metadata": {
    "ExecuteTime": {
     "end_time": "2020-09-26T18:28:05.121346Z",
     "start_time": "2020-09-26T18:28:05.005319Z"
    }
   },
   "outputs": [
    {
     "data": {
      "text/plain": [
       "Uncertainty_E      0\n",
       "Uncertainty_D      0\n",
       "Uncertainty_ELV    0\n",
       "dtype: int64"
      ]
     },
     "execution_count": 168,
     "metadata": {},
     "output_type": "execute_result"
    }
   ],
   "source": [
    "df[[\"Uncertainty_E\", \"Uncertainty_D\", \"Uncertainty_ELV\"]].isna().sum()"
   ]
  },
  {
   "cell_type": "code",
   "execution_count": 169,
   "metadata": {
    "ExecuteTime": {
     "end_time": "2020-09-26T18:28:05.126347Z",
     "start_time": "2020-09-26T18:28:05.122346Z"
    }
   },
   "outputs": [
    {
     "data": {
      "text/plain": [
       "(4644791, 99)"
      ]
     },
     "execution_count": 169,
     "metadata": {},
     "output_type": "execute_result"
    }
   ],
   "source": [
    "df.shape"
   ]
  },
  {
   "cell_type": "markdown",
   "metadata": {},
   "source": [
    "### Having Filled Uncertainty Fraction Values let us fill the actual Uncertainties"
   ]
  },
  {
   "cell_type": "code",
   "execution_count": 170,
   "metadata": {
    "ExecuteTime": {
     "end_time": "2020-09-26T18:28:05.242373Z",
     "start_time": "2020-09-26T18:28:05.127347Z"
    }
   },
   "outputs": [
    {
     "data": {
      "text/plain": [
       "dEnergy    3919001\n",
       "dData       830521\n",
       "dELV/HL    4634415\n",
       "dtype: int64"
      ]
     },
     "execution_count": 170,
     "metadata": {},
     "output_type": "execute_result"
    }
   ],
   "source": [
    "df[[\"dEnergy\", \"dData\", \"dELV/HL\"]].isna().sum()"
   ]
  },
  {
   "cell_type": "code",
   "execution_count": 171,
   "metadata": {
    "ExecuteTime": {
     "end_time": "2020-09-26T18:28:09.617628Z",
     "start_time": "2020-09-26T18:28:09.274550Z"
    }
   },
   "outputs": [],
   "source": [
    "df.dEnergy = df.dEnergy.fillna(df.Energy * df.Uncertainty_E)\n",
    "df.dData = df.dData.fillna(df.Data * df.Uncertainty_D)\n",
    "df[\"dELV/HL\"] = df[\"dELV/HL\"].fillna(df[\"ELV/HL\"] * df[\"Uncertainty_ELV\"])"
   ]
  },
  {
   "cell_type": "code",
   "execution_count": 172,
   "metadata": {
    "ExecuteTime": {
     "end_time": "2020-09-26T18:30:23.395565Z",
     "start_time": "2020-09-26T18:30:23.322545Z"
    }
   },
   "outputs": [],
   "source": [
    "df.Uncertainty_D = df.Uncertainty_D.replace(to_replace=np.inf, value=0)"
   ]
  },
  {
   "cell_type": "code",
   "execution_count": 173,
   "metadata": {
    "ExecuteTime": {
     "end_time": "2020-09-26T18:30:25.106871Z",
     "start_time": "2020-09-26T18:30:24.954784Z"
    }
   },
   "outputs": [],
   "source": [
    "df.dData = df.dData.replace(to_replace=np.nan, value=0)\n",
    "df[\"dELV/HL\"] = df[\"dELV/HL\"].replace(to_replace=np.nan, value=0)"
   ]
  },
  {
   "cell_type": "code",
   "execution_count": 174,
   "metadata": {
    "ExecuteTime": {
     "end_time": "2020-09-26T18:30:25.409755Z",
     "start_time": "2020-09-26T18:30:25.305731Z"
    }
   },
   "outputs": [
    {
     "data": {
      "text/plain": [
       "dEnergy    0\n",
       "dData      0\n",
       "dELV/HL    0\n",
       "dtype: int64"
      ]
     },
     "execution_count": 174,
     "metadata": {},
     "output_type": "execute_result"
    }
   ],
   "source": [
    "df[[\"dEnergy\", \"dData\", \"dELV/HL\"]].isna().sum()"
   ]
  },
  {
   "cell_type": "code",
   "execution_count": 175,
   "metadata": {
    "ExecuteTime": {
     "end_time": "2020-09-26T18:30:28.411141Z",
     "start_time": "2020-09-26T18:30:28.338116Z"
    }
   },
   "outputs": [],
   "source": [
    "df[\"ELV/HL\"] = df[\"ELV/HL\"].replace(to_replace=np.nan, value=0)"
   ]
  },
  {
   "cell_type": "code",
   "execution_count": 176,
   "metadata": {
    "ExecuteTime": {
     "end_time": "2020-09-26T18:30:33.113386Z",
     "start_time": "2020-09-26T18:30:29.242704Z"
    }
   },
   "outputs": [],
   "source": [
    "df.fillna(value=0, inplace=True)"
   ]
  },
  {
   "cell_type": "code",
   "execution_count": 177,
   "metadata": {
    "ExecuteTime": {
     "end_time": "2020-09-26T18:30:33.120378Z",
     "start_time": "2020-09-26T18:30:33.114386Z"
    }
   },
   "outputs": [
    {
     "data": {
      "text/plain": [
       "Index(['Projectile', 'Target_Metastable_State', 'MT',\n",
       "       'Product_Metastable_State', 'EXFOR_Status', 'Center_of_Mass_Flag',\n",
       "       'Energy', 'dEnergy', 'Data', 'dData', 'ELV/HL', 'dELV/HL', 'I78',\n",
       "       'Short_Reference', 'EXFOR_Accession_Number',\n",
       "       'EXFOR_SubAccession_Number', 'EXFOR_Pointer', 'Z', 'Reaction_Notation',\n",
       "       'Title', 'Year', 'Author', 'Institute', 'Date', 'Reference',\n",
       "       'Dataset_Number', 'EXFOR_Entry', 'Reference_Code', 'Projectile_Z',\n",
       "       'Projectile_A', 'Projectile_N', 'Isotope', 'Element', 'N', 'A', 'O',\n",
       "       'Mass_Excess', 'dMass_Excess', 'Binding_Energy', 'dBinding_Energy',\n",
       "       'B_Decay_Energy', 'dB_Decay_Energy', 'Atomic_Mass_Micro',\n",
       "       'dAtomic_Mass_Micro', 'S(2n)', 'dS(2n)', 'S(2p)', 'dS(2p)', 'Q(a)',\n",
       "       'dQ(a)', 'Q(2B-)', 'dQ(2B-)', 'Q(ep)', 'dQ(ep)', 'Q(B-n)', 'dQ(B-n)',\n",
       "       'S(n)', 'dS(n)', 'S(p)', 'dS(p)', 'Q(4B-)', 'dQ(4B-)', 'Q(d,a)',\n",
       "       'dQ(d,a)', 'Q(p,a)', 'dQ(p,a)', 'Q(n,a)', 'dQ(n,a)', 'Q(g,p)', 'Q(g,n)',\n",
       "       'Q(g,pn)', 'Q(g,d)', 'Q(g,t)', 'Q(g,He3)', 'Q(g,2p)', 'Q(g,2n)',\n",
       "       'Q(g,a)', 'Q(p,n)', 'Q(p,2p)', 'Q(p,pn)', 'Q(p,d)', 'Q(p,2n)', 'Q(p,t)',\n",
       "       'Q(p,3He)', 'Q(n,2p)', 'Q(n,np)', 'Q(n,d)', 'Q(n,2n)', 'Q(n,t)',\n",
       "       'Q(n,3He)', 'Q(d,t)', 'Q(d,3He)', 'Q(3He,t)', 'Q(3He,a)', 'Q(t,a)',\n",
       "       'Element_Flag', 'Uncertainty_E', 'Uncertainty_D', 'Uncertainty_ELV'],\n",
       "      dtype='object')"
      ]
     },
     "execution_count": 177,
     "metadata": {},
     "output_type": "execute_result"
    }
   ],
   "source": [
    "df.columns"
   ]
  },
  {
   "cell_type": "code",
   "execution_count": 178,
   "metadata": {
    "ExecuteTime": {
     "end_time": "2020-09-26T18:30:35.208798Z",
     "start_time": "2020-09-26T18:30:34.986739Z"
    }
   },
   "outputs": [],
   "source": [
    "df[\"Nucleus_Radius\"] = 1.25 * np.power(df[\"A\"], 1/3)\n",
    "df[\"Neutron_Nucleus_Radius_Ratio\"] = 0.8 / df[\"Nucleus_Radius\"]"
   ]
  },
  {
   "cell_type": "code",
   "execution_count": 179,
   "metadata": {
    "ExecuteTime": {
     "end_time": "2020-09-26T18:31:25.834639Z",
     "start_time": "2020-09-26T18:31:19.971321Z"
    }
   },
   "outputs": [
    {
     "data": {
      "text/plain": [
       "(311512, 101)"
      ]
     },
     "execution_count": 179,
     "metadata": {},
     "output_type": "execute_result"
    }
   ],
   "source": [
    "df[df.Reaction_Notation.str.contains(\"RAW\")].shape"
   ]
  },
  {
   "cell_type": "markdown",
   "metadata": {},
   "source": [
    "## Ordering and Renaming"
   ]
  },
  {
   "cell_type": "code",
   "execution_count": 180,
   "metadata": {
    "ExecuteTime": {
     "end_time": "2020-09-26T18:31:25.894653Z",
     "start_time": "2020-09-26T18:31:25.835640Z"
    }
   },
   "outputs": [
    {
     "data": {
      "text/html": [
       "<div>\n",
       "<style scoped>\n",
       "    .dataframe tbody tr th:only-of-type {\n",
       "        vertical-align: middle;\n",
       "    }\n",
       "\n",
       "    .dataframe tbody tr th {\n",
       "        vertical-align: top;\n",
       "    }\n",
       "\n",
       "    .dataframe thead th {\n",
       "        text-align: right;\n",
       "    }\n",
       "</style>\n",
       "<table border=\"1\" class=\"dataframe\">\n",
       "  <thead>\n",
       "    <tr style=\"text-align: right;\">\n",
       "      <th></th>\n",
       "      <th>Projectile</th>\n",
       "      <th>Target_Metastable_State</th>\n",
       "      <th>MT</th>\n",
       "      <th>Product_Metastable_State</th>\n",
       "      <th>EXFOR_Status</th>\n",
       "      <th>Center_of_Mass_Flag</th>\n",
       "      <th>Energy</th>\n",
       "      <th>dEnergy</th>\n",
       "      <th>Data</th>\n",
       "      <th>dData</th>\n",
       "      <th>ELV/HL</th>\n",
       "      <th>dELV/HL</th>\n",
       "      <th>I78</th>\n",
       "      <th>Short_Reference</th>\n",
       "      <th>EXFOR_Accession_Number</th>\n",
       "      <th>EXFOR_SubAccession_Number</th>\n",
       "      <th>EXFOR_Pointer</th>\n",
       "      <th>Z</th>\n",
       "      <th>Reaction_Notation</th>\n",
       "      <th>Title</th>\n",
       "      <th>Year</th>\n",
       "      <th>Author</th>\n",
       "      <th>Institute</th>\n",
       "      <th>Date</th>\n",
       "      <th>Reference</th>\n",
       "      <th>Dataset_Number</th>\n",
       "      <th>EXFOR_Entry</th>\n",
       "      <th>Reference_Code</th>\n",
       "      <th>Projectile_Z</th>\n",
       "      <th>Projectile_A</th>\n",
       "      <th>Projectile_N</th>\n",
       "      <th>Isotope</th>\n",
       "      <th>Element</th>\n",
       "      <th>N</th>\n",
       "      <th>A</th>\n",
       "      <th>O</th>\n",
       "      <th>Mass_Excess</th>\n",
       "      <th>dMass_Excess</th>\n",
       "      <th>Binding_Energy</th>\n",
       "      <th>dBinding_Energy</th>\n",
       "      <th>B_Decay_Energy</th>\n",
       "      <th>dB_Decay_Energy</th>\n",
       "      <th>Atomic_Mass_Micro</th>\n",
       "      <th>dAtomic_Mass_Micro</th>\n",
       "      <th>S(2n)</th>\n",
       "      <th>dS(2n)</th>\n",
       "      <th>S(2p)</th>\n",
       "      <th>dS(2p)</th>\n",
       "      <th>Q(a)</th>\n",
       "      <th>dQ(a)</th>\n",
       "      <th>Q(2B-)</th>\n",
       "      <th>dQ(2B-)</th>\n",
       "      <th>Q(ep)</th>\n",
       "      <th>dQ(ep)</th>\n",
       "      <th>Q(B-n)</th>\n",
       "      <th>dQ(B-n)</th>\n",
       "      <th>S(n)</th>\n",
       "      <th>dS(n)</th>\n",
       "      <th>S(p)</th>\n",
       "      <th>dS(p)</th>\n",
       "      <th>Q(4B-)</th>\n",
       "      <th>dQ(4B-)</th>\n",
       "      <th>Q(d,a)</th>\n",
       "      <th>dQ(d,a)</th>\n",
       "      <th>Q(p,a)</th>\n",
       "      <th>dQ(p,a)</th>\n",
       "      <th>Q(n,a)</th>\n",
       "      <th>dQ(n,a)</th>\n",
       "      <th>Q(g,p)</th>\n",
       "      <th>Q(g,n)</th>\n",
       "      <th>Q(g,pn)</th>\n",
       "      <th>Q(g,d)</th>\n",
       "      <th>Q(g,t)</th>\n",
       "      <th>Q(g,He3)</th>\n",
       "      <th>Q(g,2p)</th>\n",
       "      <th>Q(g,2n)</th>\n",
       "      <th>Q(g,a)</th>\n",
       "      <th>Q(p,n)</th>\n",
       "      <th>Q(p,2p)</th>\n",
       "      <th>Q(p,pn)</th>\n",
       "      <th>Q(p,d)</th>\n",
       "      <th>Q(p,2n)</th>\n",
       "      <th>Q(p,t)</th>\n",
       "      <th>Q(p,3He)</th>\n",
       "      <th>Q(n,2p)</th>\n",
       "      <th>Q(n,np)</th>\n",
       "      <th>Q(n,d)</th>\n",
       "      <th>Q(n,2n)</th>\n",
       "      <th>Q(n,t)</th>\n",
       "      <th>Q(n,3He)</th>\n",
       "      <th>Q(d,t)</th>\n",
       "      <th>Q(d,3He)</th>\n",
       "      <th>Q(3He,t)</th>\n",
       "      <th>Q(3He,a)</th>\n",
       "      <th>Q(t,a)</th>\n",
       "      <th>Element_Flag</th>\n",
       "      <th>Uncertainty_E</th>\n",
       "      <th>Uncertainty_D</th>\n",
       "      <th>Uncertainty_ELV</th>\n",
       "      <th>Nucleus_Radius</th>\n",
       "      <th>Neutron_Nucleus_Radius_Ratio</th>\n",
       "    </tr>\n",
       "  </thead>\n",
       "  <tbody>\n",
       "    <tr>\n",
       "      <th>0</th>\n",
       "      <td>neutron</td>\n",
       "      <td>All_or_Total</td>\n",
       "      <td>1</td>\n",
       "      <td>All_or_Total</td>\n",
       "      <td>Dependent</td>\n",
       "      <td>Lab</td>\n",
       "      <td>88200000.0</td>\n",
       "      <td>882000.0</td>\n",
       "      <td>0.0300</td>\n",
       "      <td>0.001523</td>\n",
       "      <td>0.0</td>\n",
       "      <td>0.0</td>\n",
       "      <td>Other</td>\n",
       "      <td>D.F.MEASDAY,ET.AL. (66)</td>\n",
       "      <td>11152</td>\n",
       "      <td>2</td>\n",
       "      <td>No Pointer</td>\n",
       "      <td>0</td>\n",
       "      <td>0-NN-1(N,TOT),,SIG</td>\n",
       "      <td>NEUTRON TOTAL CROSS SECTIONS FOR NEUTRONS, PRO...</td>\n",
       "      <td>1966</td>\n",
       "      <td>D.F.Measday+</td>\n",
       "      <td>1USAHRV</td>\n",
       "      <td>1980/08/04</td>\n",
       "      <td>Jour. Nuclear Physics Vol.85, p.142, 1966</td>\n",
       "      <td>11152002</td>\n",
       "      <td>11152</td>\n",
       "      <td>(J,NP,85,142,6609)</td>\n",
       "      <td>0</td>\n",
       "      <td>1</td>\n",
       "      <td>1</td>\n",
       "      <td>1n</td>\n",
       "      <td>n</td>\n",
       "      <td>1</td>\n",
       "      <td>1</td>\n",
       "      <td>Other</td>\n",
       "      <td>8071.31713</td>\n",
       "      <td>0.00046</td>\n",
       "      <td>0.0</td>\n",
       "      <td>0.0</td>\n",
       "      <td>782.347</td>\n",
       "      <td>0.0</td>\n",
       "      <td>1.008665e+06</td>\n",
       "      <td>0.00049</td>\n",
       "      <td>0.0</td>\n",
       "      <td>0.0</td>\n",
       "      <td>0.0</td>\n",
       "      <td>0.0</td>\n",
       "      <td>0.0</td>\n",
       "      <td>0.0</td>\n",
       "      <td>0.0</td>\n",
       "      <td>0.0</td>\n",
       "      <td>0.0</td>\n",
       "      <td>0.0</td>\n",
       "      <td>0.0</td>\n",
       "      <td>0.0</td>\n",
       "      <td>0.0</td>\n",
       "      <td>0.0</td>\n",
       "      <td>0.0</td>\n",
       "      <td>0.0</td>\n",
       "      <td>0.0</td>\n",
       "      <td>0.0</td>\n",
       "      <td>0.0</td>\n",
       "      <td>0.0</td>\n",
       "      <td>0.0</td>\n",
       "      <td>0.0</td>\n",
       "      <td>0.0</td>\n",
       "      <td>0.0</td>\n",
       "      <td>0.0</td>\n",
       "      <td>0.0</td>\n",
       "      <td>0.0</td>\n",
       "      <td>0.0</td>\n",
       "      <td>0.0</td>\n",
       "      <td>0.0</td>\n",
       "      <td>0.0</td>\n",
       "      <td>0.0</td>\n",
       "      <td>0.0</td>\n",
       "      <td>0.0005</td>\n",
       "      <td>0.0</td>\n",
       "      <td>0.0</td>\n",
       "      <td>2224.566</td>\n",
       "      <td>0.0</td>\n",
       "      <td>0.0</td>\n",
       "      <td>0.0</td>\n",
       "      <td>0.0</td>\n",
       "      <td>0.0</td>\n",
       "      <td>0.0</td>\n",
       "      <td>0.0</td>\n",
       "      <td>0.0</td>\n",
       "      <td>0.0</td>\n",
       "      <td>6257.229</td>\n",
       "      <td>0.0</td>\n",
       "      <td>763.755</td>\n",
       "      <td>20577.6194</td>\n",
       "      <td>0.0</td>\n",
       "      <td>I</td>\n",
       "      <td>0.01</td>\n",
       "      <td>0.050773</td>\n",
       "      <td>0.701151</td>\n",
       "      <td>1.25</td>\n",
       "      <td>0.64</td>\n",
       "    </tr>\n",
       "    <tr>\n",
       "      <th>1</th>\n",
       "      <td>neutron</td>\n",
       "      <td>All_or_Total</td>\n",
       "      <td>1</td>\n",
       "      <td>All_or_Total</td>\n",
       "      <td>Dependent</td>\n",
       "      <td>Lab</td>\n",
       "      <td>98100000.0</td>\n",
       "      <td>981000.0</td>\n",
       "      <td>0.0291</td>\n",
       "      <td>0.001516</td>\n",
       "      <td>0.0</td>\n",
       "      <td>0.0</td>\n",
       "      <td>Other</td>\n",
       "      <td>D.F.MEASDAY,ET.AL. (66)</td>\n",
       "      <td>11152</td>\n",
       "      <td>2</td>\n",
       "      <td>No Pointer</td>\n",
       "      <td>0</td>\n",
       "      <td>0-NN-1(N,TOT),,SIG</td>\n",
       "      <td>NEUTRON TOTAL CROSS SECTIONS FOR NEUTRONS, PRO...</td>\n",
       "      <td>1966</td>\n",
       "      <td>D.F.Measday+</td>\n",
       "      <td>1USAHRV</td>\n",
       "      <td>1980/08/04</td>\n",
       "      <td>Jour. Nuclear Physics Vol.85, p.142, 1966</td>\n",
       "      <td>11152002</td>\n",
       "      <td>11152</td>\n",
       "      <td>(J,NP,85,142,6609)</td>\n",
       "      <td>0</td>\n",
       "      <td>1</td>\n",
       "      <td>1</td>\n",
       "      <td>1n</td>\n",
       "      <td>n</td>\n",
       "      <td>1</td>\n",
       "      <td>1</td>\n",
       "      <td>Other</td>\n",
       "      <td>8071.31713</td>\n",
       "      <td>0.00046</td>\n",
       "      <td>0.0</td>\n",
       "      <td>0.0</td>\n",
       "      <td>782.347</td>\n",
       "      <td>0.0</td>\n",
       "      <td>1.008665e+06</td>\n",
       "      <td>0.00049</td>\n",
       "      <td>0.0</td>\n",
       "      <td>0.0</td>\n",
       "      <td>0.0</td>\n",
       "      <td>0.0</td>\n",
       "      <td>0.0</td>\n",
       "      <td>0.0</td>\n",
       "      <td>0.0</td>\n",
       "      <td>0.0</td>\n",
       "      <td>0.0</td>\n",
       "      <td>0.0</td>\n",
       "      <td>0.0</td>\n",
       "      <td>0.0</td>\n",
       "      <td>0.0</td>\n",
       "      <td>0.0</td>\n",
       "      <td>0.0</td>\n",
       "      <td>0.0</td>\n",
       "      <td>0.0</td>\n",
       "      <td>0.0</td>\n",
       "      <td>0.0</td>\n",
       "      <td>0.0</td>\n",
       "      <td>0.0</td>\n",
       "      <td>0.0</td>\n",
       "      <td>0.0</td>\n",
       "      <td>0.0</td>\n",
       "      <td>0.0</td>\n",
       "      <td>0.0</td>\n",
       "      <td>0.0</td>\n",
       "      <td>0.0</td>\n",
       "      <td>0.0</td>\n",
       "      <td>0.0</td>\n",
       "      <td>0.0</td>\n",
       "      <td>0.0</td>\n",
       "      <td>0.0</td>\n",
       "      <td>0.0005</td>\n",
       "      <td>0.0</td>\n",
       "      <td>0.0</td>\n",
       "      <td>2224.566</td>\n",
       "      <td>0.0</td>\n",
       "      <td>0.0</td>\n",
       "      <td>0.0</td>\n",
       "      <td>0.0</td>\n",
       "      <td>0.0</td>\n",
       "      <td>0.0</td>\n",
       "      <td>0.0</td>\n",
       "      <td>0.0</td>\n",
       "      <td>0.0</td>\n",
       "      <td>6257.229</td>\n",
       "      <td>0.0</td>\n",
       "      <td>763.755</td>\n",
       "      <td>20577.6194</td>\n",
       "      <td>0.0</td>\n",
       "      <td>I</td>\n",
       "      <td>0.01</td>\n",
       "      <td>0.052103</td>\n",
       "      <td>0.701151</td>\n",
       "      <td>1.25</td>\n",
       "      <td>0.64</td>\n",
       "    </tr>\n",
       "  </tbody>\n",
       "</table>\n",
       "</div>"
      ],
      "text/plain": [
       "  Projectile Target_Metastable_State MT Product_Metastable_State EXFOR_Status  \\\n",
       "0    neutron            All_or_Total  1             All_or_Total    Dependent   \n",
       "1    neutron            All_or_Total  1             All_or_Total    Dependent   \n",
       "\n",
       "  Center_of_Mass_Flag      Energy   dEnergy    Data     dData  ELV/HL  \\\n",
       "0                 Lab  88200000.0  882000.0  0.0300  0.001523     0.0   \n",
       "1                 Lab  98100000.0  981000.0  0.0291  0.001516     0.0   \n",
       "\n",
       "   dELV/HL    I78            Short_Reference EXFOR_Accession_Number  \\\n",
       "0      0.0  Other  D.F.MEASDAY,ET.AL. (66)                    11152   \n",
       "1      0.0  Other  D.F.MEASDAY,ET.AL. (66)                    11152   \n",
       "\n",
       "   EXFOR_SubAccession_Number EXFOR_Pointer  Z   Reaction_Notation  \\\n",
       "0                          2    No Pointer  0  0-NN-1(N,TOT),,SIG   \n",
       "1                          2    No Pointer  0  0-NN-1(N,TOT),,SIG   \n",
       "\n",
       "                                               Title  Year        Author  \\\n",
       "0  NEUTRON TOTAL CROSS SECTIONS FOR NEUTRONS, PRO...  1966  D.F.Measday+   \n",
       "1  NEUTRON TOTAL CROSS SECTIONS FOR NEUTRONS, PRO...  1966  D.F.Measday+   \n",
       "\n",
       "  Institute        Date                                  Reference  \\\n",
       "0   1USAHRV  1980/08/04  Jour. Nuclear Physics Vol.85, p.142, 1966   \n",
       "1   1USAHRV  1980/08/04  Jour. Nuclear Physics Vol.85, p.142, 1966   \n",
       "\n",
       "  Dataset_Number EXFOR_Entry      Reference_Code  Projectile_Z  Projectile_A  \\\n",
       "0       11152002       11152  (J,NP,85,142,6609)             0             1   \n",
       "1       11152002       11152  (J,NP,85,142,6609)             0             1   \n",
       "\n",
       "   Projectile_N Isotope Element  N  A      O  Mass_Excess  dMass_Excess  \\\n",
       "0             1      1n       n  1  1  Other   8071.31713       0.00046   \n",
       "1             1      1n       n  1  1  Other   8071.31713       0.00046   \n",
       "\n",
       "   Binding_Energy  dBinding_Energy  B_Decay_Energy  dB_Decay_Energy  \\\n",
       "0             0.0              0.0         782.347              0.0   \n",
       "1             0.0              0.0         782.347              0.0   \n",
       "\n",
       "   Atomic_Mass_Micro  dAtomic_Mass_Micro  S(2n)  dS(2n)  S(2p)  dS(2p)  Q(a)  \\\n",
       "0       1.008665e+06             0.00049    0.0     0.0    0.0     0.0   0.0   \n",
       "1       1.008665e+06             0.00049    0.0     0.0    0.0     0.0   0.0   \n",
       "\n",
       "   dQ(a)  Q(2B-)  dQ(2B-)  Q(ep)  dQ(ep)  Q(B-n)  dQ(B-n)  S(n)  dS(n)  S(p)  \\\n",
       "0    0.0     0.0      0.0    0.0     0.0     0.0      0.0   0.0    0.0   0.0   \n",
       "1    0.0     0.0      0.0    0.0     0.0     0.0      0.0   0.0    0.0   0.0   \n",
       "\n",
       "   dS(p)  Q(4B-)  dQ(4B-)  Q(d,a)  dQ(d,a)  Q(p,a)  dQ(p,a)  Q(n,a)  dQ(n,a)  \\\n",
       "0    0.0     0.0      0.0     0.0      0.0     0.0      0.0     0.0      0.0   \n",
       "1    0.0     0.0      0.0     0.0      0.0     0.0      0.0     0.0      0.0   \n",
       "\n",
       "   Q(g,p)  Q(g,n)  Q(g,pn)  Q(g,d)  Q(g,t)  Q(g,He3)  Q(g,2p)  Q(g,2n)  \\\n",
       "0     0.0     0.0      0.0     0.0     0.0       0.0      0.0      0.0   \n",
       "1     0.0     0.0      0.0     0.0     0.0       0.0      0.0      0.0   \n",
       "\n",
       "   Q(g,a)  Q(p,n)  Q(p,2p)  Q(p,pn)    Q(p,d)  Q(p,2n)  Q(p,t)  Q(p,3He)  \\\n",
       "0     0.0  0.0005      0.0      0.0  2224.566      0.0     0.0       0.0   \n",
       "1     0.0  0.0005      0.0      0.0  2224.566      0.0     0.0       0.0   \n",
       "\n",
       "   Q(n,2p)  Q(n,np)  Q(n,d)  Q(n,2n)  Q(n,t)  Q(n,3He)    Q(d,t)  Q(d,3He)  \\\n",
       "0      0.0      0.0     0.0      0.0     0.0       0.0  6257.229       0.0   \n",
       "1      0.0      0.0     0.0      0.0     0.0       0.0  6257.229       0.0   \n",
       "\n",
       "   Q(3He,t)    Q(3He,a)  Q(t,a) Element_Flag  Uncertainty_E  Uncertainty_D  \\\n",
       "0   763.755  20577.6194     0.0            I           0.01       0.050773   \n",
       "1   763.755  20577.6194     0.0            I           0.01       0.052103   \n",
       "\n",
       "   Uncertainty_ELV  Nucleus_Radius  Neutron_Nucleus_Radius_Ratio  \n",
       "0         0.701151            1.25                          0.64  \n",
       "1         0.701151            1.25                          0.64  "
      ]
     },
     "execution_count": 180,
     "metadata": {},
     "output_type": "execute_result"
    }
   ],
   "source": [
    "df.head(2)"
   ]
  },
  {
   "cell_type": "code",
   "execution_count": 181,
   "metadata": {
    "ExecuteTime": {
     "end_time": "2020-09-26T18:31:25.901654Z",
     "start_time": "2020-09-26T18:31:25.896653Z"
    }
   },
   "outputs": [],
   "source": [
    "# Use this for ordering\n",
    "new_order = list(df.columns)[:35]\n",
    "new_order_2 = list(df.columns)[-6:]\n",
    "new_order.extend(new_order_2)\n",
    "nuclear_data_target = list(df.columns)[35:-6]\n",
    "new_order.extend(nuclear_data_target)\n",
    "\n",
    "# # use these for renaming\n",
    "# nuclear_data_target_cols = [\"Target_\" + s for s in nuclear_data_target]"
   ]
  },
  {
   "cell_type": "code",
   "execution_count": 182,
   "metadata": {
    "ExecuteTime": {
     "end_time": "2020-09-26T18:31:28.187064Z",
     "start_time": "2020-09-26T18:31:25.902655Z"
    }
   },
   "outputs": [],
   "source": [
    "df = df[new_order]"
   ]
  },
  {
   "cell_type": "code",
   "execution_count": 183,
   "metadata": {
    "ExecuteTime": {
     "end_time": "2020-09-26T18:31:28.191066Z",
     "start_time": "2020-09-26T18:31:28.189065Z"
    }
   },
   "outputs": [],
   "source": [
    "# df = df.rename(columns={\"Protons\":\"Target_Protons\", \"Neutrons\":\"Target_Neutrons\", \n",
    "#                         \"Mass_Number\":\"Target_Mass_Number\", \"Element\":\"Target_Element\", \n",
    "#                         \"Flag\": \"Target_Flag\", \"Nuc_Radius_fm\":\"Target_Radius\", \n",
    "#                         \"Neut_Nuc_Rad_Ratio\":\"Target_Neut_Rad_Ratio\", \"Element_w_A\":\"Target_Element_w_A\"})\n",
    "df = df.drop(columns=[\"Uncertainty_D\", \"Uncertainty_E\", \"Uncertainty_ELV\"])"
   ]
  },
  {
   "cell_type": "code",
   "execution_count": 184,
   "metadata": {
    "ExecuteTime": {
     "end_time": "2020-09-26T18:31:28.196067Z",
     "start_time": "2020-09-26T18:31:28.192066Z"
    }
   },
   "outputs": [],
   "source": [
    "# new_order = list(df.columns)[:28]\n",
    "# nuclear_data_target = list(df.columns)[28:]\n",
    "# nuclear_data_target_cols = [\"Target_\" + s for s in nuclear_data_target]\n",
    "# new_order.extend(nuclear_data_target_cols)"
   ]
  },
  {
   "cell_type": "code",
   "execution_count": 185,
   "metadata": {
    "ExecuteTime": {
     "end_time": "2020-09-26T18:31:28.199067Z",
     "start_time": "2020-09-26T18:31:28.197067Z"
    }
   },
   "outputs": [],
   "source": [
    "# df.columns = new_order"
   ]
  },
  {
   "cell_type": "code",
   "execution_count": 186,
   "metadata": {
    "ExecuteTime": {
     "end_time": "2020-09-26T18:31:39.717695Z",
     "start_time": "2020-09-26T18:31:34.210439Z"
    }
   },
   "outputs": [
    {
     "name": "stderr",
     "output_type": "stream",
     "text": [
      "INFO:root:EXFOR CSV: Dropping RAW experimental datapoints...\n"
     ]
    }
   ],
   "source": [
    "logging.info(\"EXFOR CSV: Dropping RAW experimental datapoints...\")\n",
    "df = df[~df.Reaction_Notation.str.contains(\"RAW\")]"
   ]
  },
  {
   "cell_type": "code",
   "execution_count": 187,
   "metadata": {
    "ExecuteTime": {
     "end_time": "2020-09-26T18:31:40.686888Z",
     "start_time": "2020-09-26T18:31:40.682888Z"
    }
   },
   "outputs": [
    {
     "data": {
      "text/plain": [
       "(4333279, 101)"
      ]
     },
     "execution_count": 187,
     "metadata": {},
     "output_type": "execute_result"
    }
   ],
   "source": [
    "df.shape"
   ]
  },
  {
   "cell_type": "code",
   "execution_count": 188,
   "metadata": {
    "ExecuteTime": {
     "end_time": "2020-09-26T18:31:59.455552Z",
     "start_time": "2020-09-26T18:31:55.626685Z"
    }
   },
   "outputs": [],
   "source": [
    "df = df[~(df.Data < 0)]"
   ]
  },
  {
   "cell_type": "code",
   "execution_count": 189,
   "metadata": {
    "ExecuteTime": {
     "end_time": "2020-09-26T18:31:59.459541Z",
     "start_time": "2020-09-26T18:31:59.456705Z"
    }
   },
   "outputs": [
    {
     "data": {
      "text/plain": [
       "(4255409, 101)"
      ]
     },
     "execution_count": 189,
     "metadata": {},
     "output_type": "execute_result"
    }
   ],
   "source": [
    "df.shape"
   ]
  },
  {
   "cell_type": "code",
   "execution_count": 126,
   "metadata": {
    "ExecuteTime": {
     "end_time": "2020-09-26T06:09:30.007569Z",
     "start_time": "2020-09-26T06:02:47.505981Z"
    }
   },
   "outputs": [
    {
     "name": "stderr",
     "output_type": "stream",
     "text": [
      "INFO:root:EXFOR CSV: Saving MF3 NaN Imputed RAW Free EXFOR CSV...\n",
      "INFO:root:Finished\n"
     ]
    }
   ],
   "source": [
    "logging.info(\"EXFOR CSV: Saving MF3 NaN Imputed RAW Free EXFOR CSV...\")\n",
    "df.to_csv(os.path.join(heavy_path, \"EXFOR_\" + mode + \"_MF3_AME_no_RawNaN.csv\"), index=False)\n",
    "logging.info(\"Finished\")"
   ]
  },
  {
   "cell_type": "markdown",
   "metadata": {},
   "source": [
    "# ------------------ EXTRA ------------------\n",
    "## Adding Compound Nucleus Info"
   ]
  },
  {
   "cell_type": "code",
   "execution_count": 192,
   "metadata": {
    "ExecuteTime": {
     "end_time": "2020-04-01T19:51:13.440495Z",
     "start_time": "2020-04-01T19:51:13.384485Z"
    }
   },
   "outputs": [],
   "source": [
    "df[\"Compound_Neutrons\"] = df.Target_Neutrons + 1\n",
    "df[\"Compound_Mass_Number\"] = df.Target_Mass_Number + 1\n",
    "df[\"Compound_Protons\"] = df.Target_Protons"
   ]
  },
  {
   "cell_type": "code",
   "execution_count": 193,
   "metadata": {
    "ExecuteTime": {
     "end_time": "2020-04-01T19:51:18.520486Z",
     "start_time": "2020-04-01T19:51:15.929128Z"
    }
   },
   "outputs": [],
   "source": [
    "df_copy = df.copy()"
   ]
  },
  {
   "cell_type": "code",
   "execution_count": 194,
   "metadata": {
    "ExecuteTime": {
     "end_time": "2020-04-01T19:51:20.650663Z",
     "start_time": "2020-04-01T19:51:20.217105Z"
    }
   },
   "outputs": [],
   "source": [
    "masses = pd.read_csv(ame_dir + \"/AME_final_properties_no_NaN.csv\")\n",
    "masses = masses[masses.Flag == \"I\"]\n",
    "masses = masses.drop(columns=[\"Neutrons\", \"Mass_Number\", \"Flag\"])\n",
    "masses = masses.rename(columns={'N': 'Neutrons', 'A': 'Mass_Number', \"Z\":\"Protons\", \"O\":\"Origin\"})"
   ]
  },
  {
   "cell_type": "code",
   "execution_count": 195,
   "metadata": {
    "ExecuteTime": {
     "end_time": "2020-04-01T19:51:39.133734Z",
     "start_time": "2020-04-01T19:51:39.129733Z"
    }
   },
   "outputs": [],
   "source": [
    "nuclear_data_compound = list(masses.columns)\n",
    "nuclear_data_compound_cols = [\"Compound_\" + s for s in nuclear_data_compound]"
   ]
  },
  {
   "cell_type": "code",
   "execution_count": 196,
   "metadata": {
    "ExecuteTime": {
     "end_time": "2020-04-01T19:51:40.587356Z",
     "start_time": "2020-04-01T19:51:40.584355Z"
    }
   },
   "outputs": [],
   "source": [
    "masses.columns = nuclear_data_compound_cols"
   ]
  },
  {
   "cell_type": "code",
   "execution_count": 197,
   "metadata": {
    "ExecuteTime": {
     "end_time": "2020-04-01T19:51:41.637366Z",
     "start_time": "2020-04-01T19:51:41.596357Z"
    }
   },
   "outputs": [
    {
     "data": {
      "text/html": [
       "<div>\n",
       "<style scoped>\n",
       "    .dataframe tbody tr th:only-of-type {\n",
       "        vertical-align: middle;\n",
       "    }\n",
       "\n",
       "    .dataframe tbody tr th {\n",
       "        vertical-align: top;\n",
       "    }\n",
       "\n",
       "    .dataframe thead th {\n",
       "        text-align: right;\n",
       "    }\n",
       "</style>\n",
       "<table border=\"1\" class=\"dataframe\">\n",
       "  <thead>\n",
       "    <tr style=\"text-align: right;\">\n",
       "      <th></th>\n",
       "      <th>Compound_Neutrons</th>\n",
       "      <th>Compound_Protons</th>\n",
       "      <th>Compound_Mass_Number</th>\n",
       "      <th>Compound_EL</th>\n",
       "      <th>Compound_Origin</th>\n",
       "      <th>Compound_Mass_Excess</th>\n",
       "      <th>Compound_dMass_Excess</th>\n",
       "      <th>Compound_Binding_Energy</th>\n",
       "      <th>Compound_dBinding_Energy</th>\n",
       "      <th>Compound_B_Decay_Energy</th>\n",
       "      <th>Compound_dB_Decay_Energy</th>\n",
       "      <th>Compound_Atomic_Mass_Micro</th>\n",
       "      <th>Compound_dAtomic_Mass_Micro</th>\n",
       "      <th>Compound_S(2n)</th>\n",
       "      <th>Compound_dS(2n)</th>\n",
       "      <th>Compound_S(2p)</th>\n",
       "      <th>Compound_dS(2p)</th>\n",
       "      <th>Compound_Q(a)</th>\n",
       "      <th>Compound_dQ(a)</th>\n",
       "      <th>Compound_Q(2B-)</th>\n",
       "      <th>Compound_dQ(2B-)</th>\n",
       "      <th>Compound_Q(ep)</th>\n",
       "      <th>Compound_dQ(ep)</th>\n",
       "      <th>Compound_Q(B-n)</th>\n",
       "      <th>Compound_dQ(B-n)</th>\n",
       "      <th>Compound_S(n)</th>\n",
       "      <th>Compound_dS(n)</th>\n",
       "      <th>Compound_S(p)</th>\n",
       "      <th>Compound_dS(p)</th>\n",
       "      <th>Compound_Q(4B-)</th>\n",
       "      <th>Compound_dQ(4B-)</th>\n",
       "      <th>Compound_Q(d,a)</th>\n",
       "      <th>Compound_dQ(d,a)</th>\n",
       "      <th>Compound_Q(p,a)</th>\n",
       "      <th>Compound_dQ(p,a)</th>\n",
       "      <th>Compound_Q(n,a)</th>\n",
       "      <th>Compound_dQ(n,a)</th>\n",
       "      <th>Compound_Q(g,p)</th>\n",
       "      <th>Compound_Q(g,n)</th>\n",
       "      <th>Compound_Q(g,pn)</th>\n",
       "      <th>Compound_Q(g,d)</th>\n",
       "      <th>Compound_Q(g,t)</th>\n",
       "      <th>Compound_Q(g,He3)</th>\n",
       "      <th>Compound_Q(g,2p)</th>\n",
       "      <th>Compound_Q(g,2n)</th>\n",
       "      <th>Compound_Q(g,a)</th>\n",
       "      <th>Compound_Q(p,n)</th>\n",
       "      <th>Compound_Q(p,2p)</th>\n",
       "      <th>Compound_Q(p,pn)</th>\n",
       "      <th>Compound_Q(p,d)</th>\n",
       "      <th>Compound_Q(p,2n)</th>\n",
       "      <th>Compound_Q(p,t)</th>\n",
       "      <th>Compound_Q(p,3He)</th>\n",
       "      <th>Compound_Q(n,2p)</th>\n",
       "      <th>Compound_Q(n,np)</th>\n",
       "      <th>Compound_Q(n,d)</th>\n",
       "      <th>Compound_Q(n,2n)</th>\n",
       "      <th>Compound_Q(n,t)</th>\n",
       "      <th>Compound_Q(n,3He)</th>\n",
       "      <th>Compound_Q(d,t)</th>\n",
       "      <th>Compound_Q(d,3He)</th>\n",
       "      <th>Compound_Q(3He,t)</th>\n",
       "      <th>Compound_Q(3He,a)</th>\n",
       "      <th>Compound_Q(t,a)</th>\n",
       "    </tr>\n",
       "  </thead>\n",
       "  <tbody>\n",
       "    <tr>\n",
       "      <th>0</th>\n",
       "      <td>1</td>\n",
       "      <td>0</td>\n",
       "      <td>1</td>\n",
       "      <td>n</td>\n",
       "      <td>Other</td>\n",
       "      <td>8071.31713</td>\n",
       "      <td>0.00046</td>\n",
       "      <td>0.000</td>\n",
       "      <td>0.0</td>\n",
       "      <td>782.347</td>\n",
       "      <td>0.0000</td>\n",
       "      <td>1.008665e+06</td>\n",
       "      <td>0.00049</td>\n",
       "      <td>15404.483723</td>\n",
       "      <td>162.252148</td>\n",
       "      <td>13771.880283</td>\n",
       "      <td>158.524008</td>\n",
       "      <td>-1125.3436</td>\n",
       "      <td>142.081942</td>\n",
       "      <td>-232.1475</td>\n",
       "      <td>160.822700</td>\n",
       "      <td>-6859.135662</td>\n",
       "      <td>158.184195</td>\n",
       "      <td>-7754.629285</td>\n",
       "      <td>161.152354</td>\n",
       "      <td>0.000000</td>\n",
       "      <td>0.000000</td>\n",
       "      <td>6889.086305</td>\n",
       "      <td>162.896488</td>\n",
       "      <td>-343.812798</td>\n",
       "      <td>175.128817</td>\n",
       "      <td>11405.545508</td>\n",
       "      <td>176.651049</td>\n",
       "      <td>5916.436032</td>\n",
       "      <td>171.776354</td>\n",
       "      <td>6730.114706</td>\n",
       "      <td>163.516658</td>\n",
       "      <td>-6889.086305</td>\n",
       "      <td>-0.000000</td>\n",
       "      <td>-14665.548392</td>\n",
       "      <td>-12440.982392</td>\n",
       "      <td>-13897.428868</td>\n",
       "      <td>-13847.504694</td>\n",
       "      <td>-13771.880283</td>\n",
       "      <td>-15404.483723</td>\n",
       "      <td>-1125.3436</td>\n",
       "      <td>0.0005</td>\n",
       "      <td>-6889.086305</td>\n",
       "      <td>-0.000000</td>\n",
       "      <td>2224.566000</td>\n",
       "      <td>-8536.975785</td>\n",
       "      <td>-6922.688823</td>\n",
       "      <td>-6947.507992</td>\n",
       "      <td>-6076.789162</td>\n",
       "      <td>-6889.086305</td>\n",
       "      <td>-4664.520305</td>\n",
       "      <td>-0.000000</td>\n",
       "      <td>-6183.753392</td>\n",
       "      <td>-6053.839883</td>\n",
       "      <td>6257.229000</td>\n",
       "      <td>-1395.611905</td>\n",
       "      <td>763.755</td>\n",
       "      <td>20577.619400</td>\n",
       "      <td>12924.778595</td>\n",
       "    </tr>\n",
       "    <tr>\n",
       "      <th>1</th>\n",
       "      <td>0</td>\n",
       "      <td>1</td>\n",
       "      <td>1</td>\n",
       "      <td>H</td>\n",
       "      <td>Other</td>\n",
       "      <td>7288.97061</td>\n",
       "      <td>0.00009</td>\n",
       "      <td>0.000</td>\n",
       "      <td>0.0</td>\n",
       "      <td>18244.328</td>\n",
       "      <td>289.9558</td>\n",
       "      <td>1.007825e+06</td>\n",
       "      <td>0.00009</td>\n",
       "      <td>2025.412000</td>\n",
       "      <td>292.506000</td>\n",
       "      <td>13771.880283</td>\n",
       "      <td>158.524008</td>\n",
       "      <td>-1125.3436</td>\n",
       "      <td>142.081942</td>\n",
       "      <td>13762.2680</td>\n",
       "      <td>719.024000</td>\n",
       "      <td>-6859.135662</td>\n",
       "      <td>158.184195</td>\n",
       "      <td>17514.992500</td>\n",
       "      <td>362.087500</td>\n",
       "      <td>1096.973333</td>\n",
       "      <td>256.595000</td>\n",
       "      <td>0.000000</td>\n",
       "      <td>0.000000</td>\n",
       "      <td>8007.500000</td>\n",
       "      <td>1511.500000</td>\n",
       "      <td>20717.915000</td>\n",
       "      <td>0.000000</td>\n",
       "      <td>20613.860000</td>\n",
       "      <td>50.000000</td>\n",
       "      <td>6730.114706</td>\n",
       "      <td>163.516658</td>\n",
       "      <td>-0.000000</td>\n",
       "      <td>-1096.973333</td>\n",
       "      <td>-5353.178900</td>\n",
       "      <td>-3128.612900</td>\n",
       "      <td>799.995100</td>\n",
       "      <td>-13847.504694</td>\n",
       "      <td>-13771.880283</td>\n",
       "      <td>-2025.412000</td>\n",
       "      <td>-1125.3436</td>\n",
       "      <td>17461.9815</td>\n",
       "      <td>-0.000000</td>\n",
       "      <td>-1096.973333</td>\n",
       "      <td>1127.592667</td>\n",
       "      <td>16732.646000</td>\n",
       "      <td>6456.382900</td>\n",
       "      <td>2364.861500</td>\n",
       "      <td>-6076.789162</td>\n",
       "      <td>-0.000000</td>\n",
       "      <td>2224.566000</td>\n",
       "      <td>-1096.973333</td>\n",
       "      <td>3128.616100</td>\n",
       "      <td>-6053.839883</td>\n",
       "      <td>5160.255667</td>\n",
       "      <td>5493.474400</td>\n",
       "      <td>18225.736</td>\n",
       "      <td>19480.646067</td>\n",
       "      <td>19813.864900</td>\n",
       "    </tr>\n",
       "    <tr>\n",
       "      <th>2</th>\n",
       "      <td>1</td>\n",
       "      <td>1</td>\n",
       "      <td>2</td>\n",
       "      <td>H</td>\n",
       "      <td>Other</td>\n",
       "      <td>13135.72176</td>\n",
       "      <td>0.00011</td>\n",
       "      <td>1112.283</td>\n",
       "      <td>0.0</td>\n",
       "      <td>18244.328</td>\n",
       "      <td>289.9558</td>\n",
       "      <td>2.014102e+06</td>\n",
       "      <td>0.00012</td>\n",
       "      <td>2025.412000</td>\n",
       "      <td>292.506000</td>\n",
       "      <td>13771.880283</td>\n",
       "      <td>158.524008</td>\n",
       "      <td>-1125.3436</td>\n",
       "      <td>142.081942</td>\n",
       "      <td>13762.2680</td>\n",
       "      <td>719.024000</td>\n",
       "      <td>-6859.135662</td>\n",
       "      <td>158.184195</td>\n",
       "      <td>17514.992500</td>\n",
       "      <td>362.087500</td>\n",
       "      <td>2224.570000</td>\n",
       "      <td>0.000000</td>\n",
       "      <td>2224.570000</td>\n",
       "      <td>0.000000</td>\n",
       "      <td>8007.500000</td>\n",
       "      <td>1511.500000</td>\n",
       "      <td>23846.530000</td>\n",
       "      <td>0.000000</td>\n",
       "      <td>20613.860000</td>\n",
       "      <td>50.000000</td>\n",
       "      <td>6730.114706</td>\n",
       "      <td>163.516658</td>\n",
       "      <td>-2224.570000</td>\n",
       "      <td>-2224.570000</td>\n",
       "      <td>-2224.563900</td>\n",
       "      <td>0.002100</td>\n",
       "      <td>799.995100</td>\n",
       "      <td>-13847.504694</td>\n",
       "      <td>-13771.880283</td>\n",
       "      <td>-2025.412000</td>\n",
       "      <td>-1125.3436</td>\n",
       "      <td>17461.9815</td>\n",
       "      <td>-2224.570000</td>\n",
       "      <td>-2224.570000</td>\n",
       "      <td>-0.004000</td>\n",
       "      <td>16732.646000</td>\n",
       "      <td>6456.382900</td>\n",
       "      <td>5493.476500</td>\n",
       "      <td>-6076.789162</td>\n",
       "      <td>-2224.570000</td>\n",
       "      <td>-0.004000</td>\n",
       "      <td>-2224.570000</td>\n",
       "      <td>6257.231100</td>\n",
       "      <td>-6053.839883</td>\n",
       "      <td>4032.659000</td>\n",
       "      <td>3268.904400</td>\n",
       "      <td>18225.736</td>\n",
       "      <td>18353.049400</td>\n",
       "      <td>17589.294900</td>\n",
       "    </tr>\n",
       "    <tr>\n",
       "      <th>3</th>\n",
       "      <td>2</td>\n",
       "      <td>1</td>\n",
       "      <td>3</td>\n",
       "      <td>H</td>\n",
       "      <td>Other</td>\n",
       "      <td>14949.80993</td>\n",
       "      <td>0.00022</td>\n",
       "      <td>2827.265</td>\n",
       "      <td>0.0</td>\n",
       "      <td>18.592</td>\n",
       "      <td>0.0000</td>\n",
       "      <td>3.016049e+06</td>\n",
       "      <td>0.00023</td>\n",
       "      <td>8481.790000</td>\n",
       "      <td>0.000000</td>\n",
       "      <td>13771.880283</td>\n",
       "      <td>158.524008</td>\n",
       "      <td>-1125.3436</td>\n",
       "      <td>142.081942</td>\n",
       "      <td>-13717.0000</td>\n",
       "      <td>2000.000000</td>\n",
       "      <td>-6859.135662</td>\n",
       "      <td>158.184195</td>\n",
       "      <td>17514.992500</td>\n",
       "      <td>362.087500</td>\n",
       "      <td>6257.230000</td>\n",
       "      <td>0.000000</td>\n",
       "      <td>1112.285000</td>\n",
       "      <td>0.000000</td>\n",
       "      <td>8007.500000</td>\n",
       "      <td>1511.500000</td>\n",
       "      <td>17589.300000</td>\n",
       "      <td>0.000000</td>\n",
       "      <td>19813.860000</td>\n",
       "      <td>0.000000</td>\n",
       "      <td>6730.114706</td>\n",
       "      <td>163.516658</td>\n",
       "      <td>-1112.285000</td>\n",
       "      <td>-6257.230000</td>\n",
       "      <td>-8481.793900</td>\n",
       "      <td>-6257.227900</td>\n",
       "      <td>-0.004900</td>\n",
       "      <td>-13847.504694</td>\n",
       "      <td>-13771.880283</td>\n",
       "      <td>-8481.790000</td>\n",
       "      <td>-1125.3436</td>\n",
       "      <td>-763.7545</td>\n",
       "      <td>-1112.285000</td>\n",
       "      <td>-6257.230000</td>\n",
       "      <td>-4032.664000</td>\n",
       "      <td>16732.646000</td>\n",
       "      <td>0.004900</td>\n",
       "      <td>-763.753500</td>\n",
       "      <td>-6076.789162</td>\n",
       "      <td>-1112.285000</td>\n",
       "      <td>1112.281000</td>\n",
       "      <td>-6257.230000</td>\n",
       "      <td>0.001100</td>\n",
       "      <td>-6053.839883</td>\n",
       "      <td>-0.001000</td>\n",
       "      <td>4381.189400</td>\n",
       "      <td>0.000</td>\n",
       "      <td>14320.389400</td>\n",
       "      <td>18701.579900</td>\n",
       "    </tr>\n",
       "    <tr>\n",
       "      <th>4</th>\n",
       "      <td>1</td>\n",
       "      <td>2</td>\n",
       "      <td>3</td>\n",
       "      <td>He</td>\n",
       "      <td>Other</td>\n",
       "      <td>14931.21793</td>\n",
       "      <td>0.00021</td>\n",
       "      <td>2572.680</td>\n",
       "      <td>0.0</td>\n",
       "      <td>-13736.000</td>\n",
       "      <td>2000.0000</td>\n",
       "      <td>3.016029e+06</td>\n",
       "      <td>0.00022</td>\n",
       "      <td>4013.160000</td>\n",
       "      <td>30.300000</td>\n",
       "      <td>7718.040000</td>\n",
       "      <td>0.000000</td>\n",
       "      <td>367.5000</td>\n",
       "      <td>10.000000</td>\n",
       "      <td>12743.2050</td>\n",
       "      <td>359.296667</td>\n",
       "      <td>-6859.135662</td>\n",
       "      <td>158.184195</td>\n",
       "      <td>-2571.224286</td>\n",
       "      <td>344.341429</td>\n",
       "      <td>3176.184286</td>\n",
       "      <td>29.417143</td>\n",
       "      <td>5493.470000</td>\n",
       "      <td>0.000000</td>\n",
       "      <td>14022.910000</td>\n",
       "      <td>52.653333</td>\n",
       "      <td>18353.050000</td>\n",
       "      <td>0.000000</td>\n",
       "      <td>4173.344286</td>\n",
       "      <td>210.882857</td>\n",
       "      <td>20577.620000</td>\n",
       "      <td>0.000000</td>\n",
       "      <td>-5493.470000</td>\n",
       "      <td>-3176.184286</td>\n",
       "      <td>-7718.043900</td>\n",
       "      <td>-5493.477900</td>\n",
       "      <td>-15640.520614</td>\n",
       "      <td>0.000600</td>\n",
       "      <td>-7718.040000</td>\n",
       "      <td>-4013.160000</td>\n",
       "      <td>367.5000</td>\n",
       "      <td>-14518.3465</td>\n",
       "      <td>-5493.470000</td>\n",
       "      <td>-3176.184286</td>\n",
       "      <td>-951.618286</td>\n",
       "      <td>-3353.570786</td>\n",
       "      <td>4468.634900</td>\n",
       "      <td>-0.003500</td>\n",
       "      <td>-6076.789162</td>\n",
       "      <td>-5493.470000</td>\n",
       "      <td>-3268.904000</td>\n",
       "      <td>-3176.184286</td>\n",
       "      <td>763.751100</td>\n",
       "      <td>0.000400</td>\n",
       "      <td>3081.044714</td>\n",
       "      <td>0.004400</td>\n",
       "      <td>-13754.592</td>\n",
       "      <td>17401.435114</td>\n",
       "      <td>14320.394900</td>\n",
       "    </tr>\n",
       "  </tbody>\n",
       "</table>\n",
       "</div>"
      ],
      "text/plain": [
       "   Compound_Neutrons  Compound_Protons  Compound_Mass_Number Compound_EL  \\\n",
       "0                  1                 0                     1           n   \n",
       "1                  0                 1                     1           H   \n",
       "2                  1                 1                     2           H   \n",
       "3                  2                 1                     3           H   \n",
       "4                  1                 2                     3          He   \n",
       "\n",
       "  Compound_Origin  Compound_Mass_Excess  Compound_dMass_Excess  \\\n",
       "0           Other            8071.31713                0.00046   \n",
       "1           Other            7288.97061                0.00009   \n",
       "2           Other           13135.72176                0.00011   \n",
       "3           Other           14949.80993                0.00022   \n",
       "4           Other           14931.21793                0.00021   \n",
       "\n",
       "   Compound_Binding_Energy  Compound_dBinding_Energy  Compound_B_Decay_Energy  \\\n",
       "0                    0.000                       0.0                  782.347   \n",
       "1                    0.000                       0.0                18244.328   \n",
       "2                 1112.283                       0.0                18244.328   \n",
       "3                 2827.265                       0.0                   18.592   \n",
       "4                 2572.680                       0.0               -13736.000   \n",
       "\n",
       "   Compound_dB_Decay_Energy  Compound_Atomic_Mass_Micro  \\\n",
       "0                    0.0000                1.008665e+06   \n",
       "1                  289.9558                1.007825e+06   \n",
       "2                  289.9558                2.014102e+06   \n",
       "3                    0.0000                3.016049e+06   \n",
       "4                 2000.0000                3.016029e+06   \n",
       "\n",
       "   Compound_dAtomic_Mass_Micro  Compound_S(2n)  Compound_dS(2n)  \\\n",
       "0                      0.00049    15404.483723       162.252148   \n",
       "1                      0.00009     2025.412000       292.506000   \n",
       "2                      0.00012     2025.412000       292.506000   \n",
       "3                      0.00023     8481.790000         0.000000   \n",
       "4                      0.00022     4013.160000        30.300000   \n",
       "\n",
       "   Compound_S(2p)  Compound_dS(2p)  Compound_Q(a)  Compound_dQ(a)  \\\n",
       "0    13771.880283       158.524008     -1125.3436      142.081942   \n",
       "1    13771.880283       158.524008     -1125.3436      142.081942   \n",
       "2    13771.880283       158.524008     -1125.3436      142.081942   \n",
       "3    13771.880283       158.524008     -1125.3436      142.081942   \n",
       "4     7718.040000         0.000000       367.5000       10.000000   \n",
       "\n",
       "   Compound_Q(2B-)  Compound_dQ(2B-)  Compound_Q(ep)  Compound_dQ(ep)  \\\n",
       "0        -232.1475        160.822700    -6859.135662       158.184195   \n",
       "1       13762.2680        719.024000    -6859.135662       158.184195   \n",
       "2       13762.2680        719.024000    -6859.135662       158.184195   \n",
       "3      -13717.0000       2000.000000    -6859.135662       158.184195   \n",
       "4       12743.2050        359.296667    -6859.135662       158.184195   \n",
       "\n",
       "   Compound_Q(B-n)  Compound_dQ(B-n)  Compound_S(n)  Compound_dS(n)  \\\n",
       "0     -7754.629285        161.152354       0.000000        0.000000   \n",
       "1     17514.992500        362.087500    1096.973333      256.595000   \n",
       "2     17514.992500        362.087500    2224.570000        0.000000   \n",
       "3     17514.992500        362.087500    6257.230000        0.000000   \n",
       "4     -2571.224286        344.341429    3176.184286       29.417143   \n",
       "\n",
       "   Compound_S(p)  Compound_dS(p)  Compound_Q(4B-)  Compound_dQ(4B-)  \\\n",
       "0    6889.086305      162.896488      -343.812798        175.128817   \n",
       "1       0.000000        0.000000      8007.500000       1511.500000   \n",
       "2    2224.570000        0.000000      8007.500000       1511.500000   \n",
       "3    1112.285000        0.000000      8007.500000       1511.500000   \n",
       "4    5493.470000        0.000000     14022.910000         52.653333   \n",
       "\n",
       "   Compound_Q(d,a)  Compound_dQ(d,a)  Compound_Q(p,a)  Compound_dQ(p,a)  \\\n",
       "0     11405.545508        176.651049      5916.436032        171.776354   \n",
       "1     20717.915000          0.000000     20613.860000         50.000000   \n",
       "2     23846.530000          0.000000     20613.860000         50.000000   \n",
       "3     17589.300000          0.000000     19813.860000          0.000000   \n",
       "4     18353.050000          0.000000      4173.344286        210.882857   \n",
       "\n",
       "   Compound_Q(n,a)  Compound_dQ(n,a)  Compound_Q(g,p)  Compound_Q(g,n)  \\\n",
       "0      6730.114706        163.516658     -6889.086305        -0.000000   \n",
       "1      6730.114706        163.516658        -0.000000     -1096.973333   \n",
       "2      6730.114706        163.516658     -2224.570000     -2224.570000   \n",
       "3      6730.114706        163.516658     -1112.285000     -6257.230000   \n",
       "4     20577.620000          0.000000     -5493.470000     -3176.184286   \n",
       "\n",
       "   Compound_Q(g,pn)  Compound_Q(g,d)  Compound_Q(g,t)  Compound_Q(g,He3)  \\\n",
       "0     -14665.548392    -12440.982392    -13897.428868      -13847.504694   \n",
       "1      -5353.178900     -3128.612900       799.995100      -13847.504694   \n",
       "2      -2224.563900         0.002100       799.995100      -13847.504694   \n",
       "3      -8481.793900     -6257.227900        -0.004900      -13847.504694   \n",
       "4      -7718.043900     -5493.477900    -15640.520614           0.000600   \n",
       "\n",
       "   Compound_Q(g,2p)  Compound_Q(g,2n)  Compound_Q(g,a)  Compound_Q(p,n)  \\\n",
       "0     -13771.880283     -15404.483723       -1125.3436           0.0005   \n",
       "1     -13771.880283      -2025.412000       -1125.3436       17461.9815   \n",
       "2     -13771.880283      -2025.412000       -1125.3436       17461.9815   \n",
       "3     -13771.880283      -8481.790000       -1125.3436        -763.7545   \n",
       "4      -7718.040000      -4013.160000         367.5000      -14518.3465   \n",
       "\n",
       "   Compound_Q(p,2p)  Compound_Q(p,pn)  Compound_Q(p,d)  Compound_Q(p,2n)  \\\n",
       "0      -6889.086305         -0.000000      2224.566000      -8536.975785   \n",
       "1         -0.000000      -1096.973333      1127.592667      16732.646000   \n",
       "2      -2224.570000      -2224.570000        -0.004000      16732.646000   \n",
       "3      -1112.285000      -6257.230000     -4032.664000      16732.646000   \n",
       "4      -5493.470000      -3176.184286      -951.618286      -3353.570786   \n",
       "\n",
       "   Compound_Q(p,t)  Compound_Q(p,3He)  Compound_Q(n,2p)  Compound_Q(n,np)  \\\n",
       "0     -6922.688823       -6947.507992      -6076.789162      -6889.086305   \n",
       "1      6456.382900        2364.861500      -6076.789162         -0.000000   \n",
       "2      6456.382900        5493.476500      -6076.789162      -2224.570000   \n",
       "3         0.004900        -763.753500      -6076.789162      -1112.285000   \n",
       "4      4468.634900          -0.003500      -6076.789162      -5493.470000   \n",
       "\n",
       "   Compound_Q(n,d)  Compound_Q(n,2n)  Compound_Q(n,t)  Compound_Q(n,3He)  \\\n",
       "0     -4664.520305         -0.000000     -6183.753392       -6053.839883   \n",
       "1      2224.566000      -1096.973333      3128.616100       -6053.839883   \n",
       "2        -0.004000      -2224.570000      6257.231100       -6053.839883   \n",
       "3      1112.281000      -6257.230000         0.001100       -6053.839883   \n",
       "4     -3268.904000      -3176.184286       763.751100           0.000400   \n",
       "\n",
       "   Compound_Q(d,t)  Compound_Q(d,3He)  Compound_Q(3He,t)  Compound_Q(3He,a)  \\\n",
       "0      6257.229000       -1395.611905            763.755       20577.619400   \n",
       "1      5160.255667        5493.474400          18225.736       19480.646067   \n",
       "2      4032.659000        3268.904400          18225.736       18353.049400   \n",
       "3        -0.001000        4381.189400              0.000       14320.389400   \n",
       "4      3081.044714           0.004400         -13754.592       17401.435114   \n",
       "\n",
       "   Compound_Q(t,a)  \n",
       "0     12924.778595  \n",
       "1     19813.864900  \n",
       "2     17589.294900  \n",
       "3     18701.579900  \n",
       "4     14320.394900  "
      ]
     },
     "execution_count": 197,
     "metadata": {},
     "output_type": "execute_result"
    }
   ],
   "source": [
    "masses.head()"
   ]
  },
  {
   "cell_type": "code",
   "execution_count": 198,
   "metadata": {
    "ExecuteTime": {
     "end_time": "2020-04-01T19:52:21.938443Z",
     "start_time": "2020-04-01T19:52:00.557346Z"
    }
   },
   "outputs": [],
   "source": [
    "df = df.reset_index(drop=True)\n",
    "masses = masses.reset_index(drop=True)\n",
    "\n",
    "df = df.merge(masses, on=['Compound_Neutrons', 'Compound_Protons'], how='left')"
   ]
  },
  {
   "cell_type": "code",
   "execution_count": 199,
   "metadata": {
    "ExecuteTime": {
     "end_time": "2020-04-01T19:52:33.833186Z",
     "start_time": "2020-04-01T19:52:21.940496Z"
    }
   },
   "outputs": [
    {
     "data": {
      "text/plain": [
       "array(['1n'], dtype=object)"
      ]
     },
     "execution_count": 199,
     "metadata": {},
     "output_type": "execute_result"
    }
   ],
   "source": [
    "df[df.isna().any(axis=1)].Target_Element_w_A.unique()"
   ]
  },
  {
   "cell_type": "code",
   "execution_count": 200,
   "metadata": {
    "ExecuteTime": {
     "end_time": "2020-04-01T19:52:46.452565Z",
     "start_time": "2020-04-01T19:52:36.727867Z"
    }
   },
   "outputs": [],
   "source": [
    "df = df.drop(columns=[\"Compound_Mass_Number_y\"])\n",
    "df = df.rename(columns={'Compound_Mass_Number_x': 'Compound_Mass_Number'})"
   ]
  },
  {
   "cell_type": "code",
   "execution_count": 201,
   "metadata": {
    "ExecuteTime": {
     "end_time": "2020-04-01T19:52:53.003070Z",
     "start_time": "2020-04-01T19:52:50.744734Z"
    }
   },
   "outputs": [],
   "source": [
    "q_value = [col for col in df.columns if 'Q' in col]\n",
    "df = df.drop(columns=q_value)"
   ]
  },
  {
   "cell_type": "code",
   "execution_count": 202,
   "metadata": {
    "ExecuteTime": {
     "end_time": "2020-04-01T19:52:53.788826Z",
     "start_time": "2020-04-01T19:52:53.784834Z"
    }
   },
   "outputs": [
    {
     "data": {
      "text/plain": [
       "(4644791, 66)"
      ]
     },
     "execution_count": 202,
     "metadata": {},
     "output_type": "execute_result"
    }
   ],
   "source": [
    "df.shape"
   ]
  },
  {
   "cell_type": "code",
   "execution_count": 203,
   "metadata": {
    "ExecuteTime": {
     "end_time": "2020-04-01T19:53:33.868535Z",
     "start_time": "2020-04-01T19:53:27.759879Z"
    }
   },
   "outputs": [
    {
     "data": {
      "text/plain": [
       "(4255409, 66)"
      ]
     },
     "execution_count": 203,
     "metadata": {},
     "output_type": "execute_result"
    }
   ],
   "source": [
    "df_no_raw = df[~df.Reaction_Notation.str.contains(\"RAW\")]\n",
    "\n",
    "df_no_raw = df_no_raw[~(df_no_raw.Data < 0)]\n",
    "\n",
    "df_no_raw.shape"
   ]
  },
  {
   "cell_type": "code",
   "execution_count": 204,
   "metadata": {
    "ExecuteTime": {
     "end_time": "2020-04-01T19:53:50.674313Z",
     "start_time": "2020-04-01T19:53:50.367889Z"
    }
   },
   "outputs": [
    {
     "data": {
      "text/plain": [
       "Other    2181990\n",
       "A        1691538\n",
       "C         231849\n",
       "D         126722\n",
       "P          20622\n",
       "O           2513\n",
       "R            175\n",
       "Name: EXFOR_Status, dtype: int64"
      ]
     },
     "execution_count": 204,
     "metadata": {},
     "output_type": "execute_result"
    }
   ],
   "source": [
    "df_no_raw.EXFOR_Status.value_counts()"
   ]
  },
  {
   "cell_type": "code",
   "execution_count": 205,
   "metadata": {
    "ExecuteTime": {
     "end_time": "2020-04-01T19:58:32.704705Z",
     "start_time": "2020-04-01T19:54:11.656868Z"
    }
   },
   "outputs": [],
   "source": [
    "df_no_raw.to_csv(heavy_dir + \"/EXFOR_neutrons_MF3_AME_no_NaNRaw.csv\", index=False)"
   ]
  }
 ],
 "metadata": {
  "kernelspec": {
   "display_name": "Python 3",
   "language": "python",
   "name": "python3"
  },
  "language_info": {
   "codemirror_mode": {
    "name": "ipython",
    "version": 3
   },
   "file_extension": ".py",
   "mimetype": "text/x-python",
   "name": "python",
   "nbconvert_exporter": "python",
   "pygments_lexer": "ipython3",
   "version": "3.7.9"
  }
 },
 "nbformat": 4,
 "nbformat_minor": 4
}
