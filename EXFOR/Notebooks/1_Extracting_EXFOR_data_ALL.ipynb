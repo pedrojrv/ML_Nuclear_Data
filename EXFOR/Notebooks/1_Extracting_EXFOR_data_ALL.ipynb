{
 "cells": [
  {
   "cell_type": "markdown",
   "metadata": {},
   "source": [
    "# Extracting EXFOR Data for all Projectiles\n",
    "\n",
    "This notebook uses the NucML built-in utilities to extract all EXFOR data in a more-useful readable format. For this we will need the AME and EXFOR parsing capabilities of `Nuc-ML`."
   ]
  },
  {
   "cell_type": "code",
   "execution_count": 1,
   "metadata": {
    "ExecuteTime": {
     "end_time": "2021-01-04T18:13:10.523477Z",
     "start_time": "2021-01-04T18:13:09.996935Z"
    }
   },
   "outputs": [],
   "source": [
    "import sys\n",
    "import logging\n",
    "import os\n",
    "sys.path.append(\"../..\")\n",
    "\n",
    "import nucml.exfor.parsing_utilities as exfor_parsing"
   ]
  },
  {
   "cell_type": "code",
   "execution_count": 17,
   "metadata": {
    "ExecuteTime": {
     "end_time": "2020-09-26T19:32:32.374918Z",
     "start_time": "2020-09-26T19:32:32.371917Z"
    }
   },
   "outputs": [],
   "source": [
    "# # FOR PROTOTYPE\n",
    "logger = logging.getLogger()\n",
    "logger.setLevel(logging.DEBUG)"
   ]
  },
  {
   "cell_type": "code",
   "execution_count": 2,
   "metadata": {
    "ExecuteTime": {
     "end_time": "2021-01-04T18:13:14.134546Z",
     "start_time": "2021-01-04T18:13:14.127543Z"
    }
   },
   "outputs": [
    {
     "name": "stdout",
     "output_type": "stream",
     "text": [
      "Libraries reloaded.\n"
     ]
    }
   ],
   "source": [
    "import importlib\n",
    "importlib.reload(exfor_parsing)\n",
    "print(\"Libraries reloaded.\")"
   ]
  },
  {
   "cell_type": "markdown",
   "metadata": {},
   "source": [
    "# Creating the EXFOR Datasets Manually: Neutrons\n",
    "\n",
    "This function will save all information needed for later compilation in two directories: the `heavy_dir` and the `tmp_dir`."
   ]
  },
  {
   "cell_type": "code",
   "execution_count": 3,
   "metadata": {
    "ExecuteTime": {
     "end_time": "2021-01-04T18:13:58.874913Z",
     "start_time": "2021-01-04T18:13:58.871412Z"
    }
   },
   "outputs": [],
   "source": [
    "# I am going to define two different paths \n",
    "# Notice that if size is not an issue you can define both directories as the same one.\n",
    "tmp_dir = \"../tmp/\"\n",
    "heavy_dir = \"../CSV_Files/\""
   ]
  },
  {
   "cell_type": "code",
   "execution_count": null,
   "metadata": {},
   "outputs": [],
   "source": [
    "exfor_directory = \"../C4_Files/neutrons_2019_07_18/\" # Path to the c4 files\n",
    "mode = 'neutrons' # type of data that you are extracting"
   ]
  },
  {
   "cell_type": "code",
   "execution_count": 20,
   "metadata": {
    "ExecuteTime": {
     "end_time": "2020-09-26T19:34:50.235410Z",
     "start_time": "2020-09-26T19:32:50.635145Z"
    },
    "scrolled": false
   },
   "outputs": [
    {
     "name": "stderr",
     "output_type": "stream",
     "text": [
      "INFO:root:C4: Searching ../C4_Files/neutrons_2019_07_18/ directory for .c4 files...\n",
      "INFO:root:C4: Finished. Found 623 .c4 files.\n",
      "INFO:root:GEN UTILS: Directory already exists.\n",
      "INFO:root:GEN UTILS: Re-initializing...\n",
      "INFO:root:GEN UTILS: Directory restarted.\n",
      "INFO:root:GEN UTILS: Directory already exists.\n",
      "INFO:root:GEN UTILS: Re-initializing...\n",
      "INFO:root:GEN UTILS: Directory restarted.\n",
      "INFO:root:EXFOR: Extracting experimental data, authors, years, institutes, and dates...\n",
      "INFO:root:EXFOR: Finished extracting experimental data, authors, years, institutes, and dates.\n",
      "INFO:root:EXFOR: Extracting titles, references, and number of data points per experiment...\n",
      "INFO:root:EXFOR: Finished extracting titles, references, and number of data points per experiment.\n",
      "INFO:root:EXFOR: Formatting experimental data...\n",
      "INFO:root:EXFOR: Finished formating experimental data.\n",
      "INFO:root:EXFOR: Finished.\n"
     ]
    }
   ],
   "source": [
    "neutron_c4_files = exfor_parsing.get_c4_names(exfor_directory)\n",
    "exfor_parsing.get_all(neutron_c4_files, heavy_dir, tmp_dir, mode=mode)"
   ]
  },
  {
   "cell_type": "code",
   "execution_count": 21,
   "metadata": {
    "ExecuteTime": {
     "end_time": "2020-09-26T19:48:43.369595Z",
     "start_time": "2020-09-26T19:34:50.237402Z"
    },
    "scrolled": true
   },
   "outputs": [
    {
     "name": "stderr",
     "output_type": "stream",
     "text": [
      "INFO:root:EXFOR CSV: Reading data points from ../CSV_Files/EXFOR_neutrons//all_cross_sections_v1.txt file into a DataFrame...\n",
      "C:\\Users\\Pedro\\Anaconda3\\envs\\data_mining_gpu\\lib\\site-packages\\IPython\\core\\interactiveshell.py:3263: DtypeWarning: Columns (8,10,11,12,13,18,20) have mixed types.Specify dtype option on import or set low_memory=False.\n",
      "  if (await self.run_code(code, result,  async_=asy)):\n",
      "INFO:root:EXFOR CSV: Formatting data (this may take a couple minutes)...\n",
      "INFO:root:EXFOR CSV: Finished converting Energy to float.\n",
      "INFO:root:EXFOR CSV: Finished converting dEnergy to float.\n",
      "INFO:root:EXFOR CSV: Finished converting Data to float.\n",
      "INFO:root:EXFOR CSV: Finished converting dData to float.\n",
      "INFO:root:EXFOR CSV: Finished converting Cos/LO to float.\n",
      "INFO:root:EXFOR CSV: Finished converting dCos/LO to float.\n",
      "INFO:root:EXFOR CSV: Finished converting ELV/HL to float.\n",
      "INFO:root:EXFOR CSV: Finished converting dELV/HL to float.\n",
      "INFO:root:EXFOR CSV: Reading .txt files from ../tmp/Extracted_Text_neutrons/ into DataFrames...\n",
      "INFO:root:EXFOR CSV: Expanding information based on the number of datapoints per experimental campaign...\n",
      "INFO:root:EXFOR CSV: Appending information to main DataFrame...\n",
      "INFO:root:EXFOR CSV: Saving EXFOR CSV file to ../CSV_Files/EXFOR_neutrons/EXFOR_neutrons_ORIGINAL.csv...\n",
      "INFO:root:EXFOR CSV: Reading AME file...\n",
      "INFO:root:EXFOR CSV: Appending AME data to EXFOR File...\n",
      "INFO:root:EXFOR CSV: Saving EXFOR CSV file to ../CSV_Files/EXFOR_neutrons/EXFOR_neutrons_ORIGINAL_w_AME.csv...\n"
     ]
    }
   ],
   "source": [
    "exfor_parsing.csv_creator(heavy_dir, tmp_dir, mode, append_ame=True)"
   ]
  },
  {
   "cell_type": "code",
   "execution_count": 22,
   "metadata": {
    "ExecuteTime": {
     "end_time": "2020-09-26T19:57:21.048309Z",
     "start_time": "2020-09-26T19:48:43.371595Z"
    }
   },
   "outputs": [
    {
     "name": "stderr",
     "output_type": "stream",
     "text": [
      "C:\\Users\\Pedro\\Anaconda3\\envs\\data_mining_gpu\\lib\\site-packages\\IPython\\core\\interactiveshell.py:3263: DtypeWarning: Columns (17,30,31) have mixed types.Specify dtype option on import or set low_memory=False.\n",
      "  if (await self.run_code(code, result,  async_=asy)):\n",
      "INFO:root:EXFOR CSV: Reading AME file...\n",
      "INFO:root:EXFOR CSV: Appending AME data to EXFOR File...\n",
      "INFO:root:EXFOR CSV: Creating new CSV file with only MF=3 data...\n",
      "INFO:root:...\n",
      "INFO:root:EXFOR CSV: Filling dEnergy, dData, and dELV by reaction channel...\n",
      "INFO:root:EXFOR CSV: Filling dEnergy, dData, and dELV by Institute...\n",
      "INFO:root:EXFOR CSV: Filling dEnergy, dData, and dELV by Isotope...\n",
      "INFO:root:EXFOR CSV: Dropping RAW experimental datapoints...\n",
      "INFO:root:EXFOR CSV: Saving MF3 NaN Imputed RAW Free EXFOR CSV...\n",
      "INFO:root:Finished\n"
     ]
    }
   ],
   "source": [
    "exfor_parsing.impute_original_exfor(heavy_dir, tmp_dir, mode)"
   ]
  },
  {
   "cell_type": "markdown",
   "metadata": {},
   "source": [
    "# Protons"
   ]
  },
  {
   "cell_type": "code",
   "execution_count": 4,
   "metadata": {
    "ExecuteTime": {
     "end_time": "2021-01-04T18:37:40.467872Z",
     "start_time": "2021-01-04T18:37:40.464872Z"
    }
   },
   "outputs": [],
   "source": [
    "mode = 'protons' # type of data that you are extracting\n",
    "exfor_directory = \"../C4_Files/\" + mode + \"/\" # Path to the c4 files\n",
    "\n",
    "exfor_parsing.get_all(exfor_parsing.get_c4_names(exfor_directory), heavy_dir, tmp_dir, mode=mode)\n",
    "exfor_parsing.csv_creator(heavy_dir, tmp_dir, mode, append_ame=True)\n",
    "exfor_parsing.impute_original_exfor(heavy_dir, tmp_dir, mode)"
   ]
  },
  {
   "cell_type": "markdown",
   "metadata": {},
   "source": [
    "# Alphas"
   ]
  },
  {
   "cell_type": "code",
   "execution_count": 25,
   "metadata": {
    "ExecuteTime": {
     "end_time": "2020-09-26T20:01:50.630742Z",
     "start_time": "2020-09-26T20:01:50.626741Z"
    }
   },
   "outputs": [],
   "source": [
    "mode = 'alphas' # type of data that you are extracting\n",
    "exfor_directory = \"../C4_Files/\" + mode + \"/\" # Path to the c4 files\n",
    "\n",
    "exfor_parsing.get_all(exfor_parsing.get_c4_names(exfor_directory), heavy_dir, tmp_dir, mode=mode)\n",
    "exfor_parsing.csv_creator(heavy_dir, tmp_dir, mode, append_ame=True)\n",
    "exfor_parsing.impute_original_exfor(heavy_dir, tmp_dir, mode)"
   ]
  },
  {
   "cell_type": "markdown",
   "metadata": {
    "ExecuteTime": {
     "end_time": "2021-01-04T19:09:05.623409Z",
     "start_time": "2021-01-04T19:09:05.620409Z"
    }
   },
   "source": [
    "# Deuterons"
   ]
  },
  {
   "cell_type": "code",
   "execution_count": 27,
   "metadata": {
    "ExecuteTime": {
     "end_time": "2020-09-26T20:03:35.651617Z",
     "start_time": "2020-09-26T20:03:35.647616Z"
    }
   },
   "outputs": [],
   "source": [
    "mode = 'deuterons' # type of data that you are extracting\n",
    "exfor_directory = \"../C4_Files/\" + mode + \"/\" # Path to the c4 files\n",
    "\n",
    "exfor_parsing.get_all(exfor_parsing.get_c4_names(exfor_directory), heavy_dir, tmp_dir, mode=mode)\n",
    "exfor_parsing.csv_creator(heavy_dir, tmp_dir, mode, append_ame=True)\n",
    "exfor_parsing.impute_original_exfor(heavy_dir, tmp_dir, mode)"
   ]
  },
  {
   "cell_type": "markdown",
   "metadata": {
    "ExecuteTime": {
     "end_time": "2021-01-04T19:09:12.040108Z",
     "start_time": "2021-01-04T19:09:12.038107Z"
    }
   },
   "source": [
    "# Gammas"
   ]
  },
  {
   "cell_type": "code",
   "execution_count": 5,
   "metadata": {
    "ExecuteTime": {
     "end_time": "2021-01-04T18:38:28.698484Z",
     "start_time": "2021-01-04T18:38:28.695984Z"
    }
   },
   "outputs": [],
   "source": [
    "mode = 'gammas' # type of data that you are extracting\n",
    "exfor_directory = \"../C4_Files/\" + mode + \"/\" # Path to the c4 files\n",
    "\n",
    "exfor_parsing.get_all(exfor_parsing.get_c4_names(exfor_directory), heavy_dir, tmp_dir, mode=mode)\n",
    "exfor_parsing.csv_creator(heavy_dir, tmp_dir, mode, append_ame=True)\n",
    "exfor_parsing.impute_original_exfor(heavy_dir, tmp_dir, mode)"
   ]
  },
  {
   "cell_type": "markdown",
   "metadata": {},
   "source": [
    "# Helions"
   ]
  },
  {
   "cell_type": "code",
   "execution_count": 31,
   "metadata": {
    "ExecuteTime": {
     "end_time": "2020-09-26T20:05:05.963071Z",
     "start_time": "2020-09-26T20:05:05.960071Z"
    }
   },
   "outputs": [],
   "source": [
    "mode = 'helions' # type of data that you are extracting\n",
    "exfor_directory = \"../C4_Files/\" + mode + \"/\" # Path to the c4 files\n",
    "\n",
    "exfor_parsing.get_all(exfor_parsing.get_c4_names(exfor_directory), heavy_dir, tmp_dir, mode=mode)\n",
    "exfor_parsing.csv_creator(heavy_dir, tmp_dir, mode, append_ame=True)\n",
    "exfor_parsing.impute_original_exfor(heavy_dir, tmp_dir, mode)"
   ]
  }
 ],
 "metadata": {
  "kernelspec": {
   "display_name": "Python 3",
   "language": "python",
   "name": "python3"
  },
  "language_info": {
   "codemirror_mode": {
    "name": "ipython",
    "version": 3
   },
   "file_extension": ".py",
   "mimetype": "text/x-python",
   "name": "python",
   "nbconvert_exporter": "python",
   "pygments_lexer": "ipython3",
   "version": "3.8.5"
  }
 },
 "nbformat": 4,
 "nbformat_minor": 4
}
