{
 "cells": [
  {
   "cell_type": "code",
   "execution_count": 1,
   "id": "35aff472",
   "metadata": {
    "ExecuteTime": {
     "end_time": "2021-05-05T19:23:56.689322Z",
     "start_time": "2021-05-05T19:23:55.944494Z"
    }
   },
   "outputs": [],
   "source": [
    "import pandas as pd"
   ]
  },
  {
   "cell_type": "code",
   "execution_count": 6,
   "id": "63913034",
   "metadata": {
    "ExecuteTime": {
     "end_time": "2021-05-05T19:28:19.029526Z",
     "start_time": "2021-05-05T19:27:39.210025Z"
    }
   },
   "outputs": [
    {
     "name": "stderr",
     "output_type": "stream",
     "text": [
      "C:\\Users\\Pedro\\Anaconda3\\envs\\ml_gpu\\lib\\site-packages\\IPython\\core\\interactiveshell.py:3165: DtypeWarning: Columns (17,30,31) have mixed types.Specify dtype option on import or set low_memory=False.\n",
      "  has_raised = await self.run_ast_nodes(code_ast.body, cell_name,\n"
     ]
    }
   ],
   "source": [
    "alphas = pd.read_csv(\"../CSV_Files/EXFOR_alphas/EXFOR_alphas_ORIGINAL.csv\")\n",
    "deuterons = pd.read_csv(\"../CSV_Files/EXFOR_deuterons/EXFOR_deuterons_ORIGINAL.csv\")\n",
    "gammas = pd.read_csv(\"../CSV_Files/EXFOR_gammas/EXFOR_gammas_ORIGINAL.csv\")\n",
    "helions = pd.read_csv(\"../CSV_Files/EXFOR_helions/EXFOR_helions_ORIGINAL.csv\")\n",
    "neutrons = pd.read_csv(\"../CSV_Files/EXFOR_neutrons/EXFOR_neutrons_ORIGINAL.csv\")\n",
    "protons = pd.read_csv(\"../CSV_Files/EXFOR_protons/EXFOR_protons_ORIGINAL.csv\")"
   ]
  },
  {
   "cell_type": "code",
   "execution_count": 7,
   "id": "7dd7b9f6",
   "metadata": {
    "ExecuteTime": {
     "end_time": "2021-05-05T19:32:58.813003Z",
     "start_time": "2021-05-05T19:32:44.398505Z"
    }
   },
   "outputs": [],
   "source": [
    "final = alphas.append(deuterons).append(gammas).append(helions).append(neutrons).append(protons)"
   ]
  },
  {
   "cell_type": "code",
   "execution_count": 8,
   "id": "1b9c6a8c",
   "metadata": {
    "ExecuteTime": {
     "end_time": "2021-05-05T19:32:58.840505Z",
     "start_time": "2021-05-05T19:32:58.815003Z"
    }
   },
   "outputs": [
    {
     "data": {
      "text/html": [
       "<div>\n",
       "<style scoped>\n",
       "    .dataframe tbody tr th:only-of-type {\n",
       "        vertical-align: middle;\n",
       "    }\n",
       "\n",
       "    .dataframe tbody tr th {\n",
       "        vertical-align: top;\n",
       "    }\n",
       "\n",
       "    .dataframe thead th {\n",
       "        text-align: right;\n",
       "    }\n",
       "</style>\n",
       "<table border=\"1\" class=\"dataframe\">\n",
       "  <thead>\n",
       "    <tr style=\"text-align: right;\">\n",
       "      <th></th>\n",
       "      <th>Projectile</th>\n",
       "      <th>Target_Metastable_State</th>\n",
       "      <th>MF</th>\n",
       "      <th>MT</th>\n",
       "      <th>Product_Metastable_State</th>\n",
       "      <th>EXFOR_Status</th>\n",
       "      <th>Center_of_Mass_Flag</th>\n",
       "      <th>Energy</th>\n",
       "      <th>dEnergy</th>\n",
       "      <th>Data</th>\n",
       "      <th>...</th>\n",
       "      <th>Date</th>\n",
       "      <th>Reference</th>\n",
       "      <th>Dataset_Number</th>\n",
       "      <th>EXFOR_Entry</th>\n",
       "      <th>Reference_Code</th>\n",
       "      <th>Projectile_Z</th>\n",
       "      <th>Projectile_A</th>\n",
       "      <th>Projectile_N</th>\n",
       "      <th>Isotope</th>\n",
       "      <th>Element</th>\n",
       "    </tr>\n",
       "  </thead>\n",
       "  <tbody>\n",
       "    <tr>\n",
       "      <th>0</th>\n",
       "      <td>alpha</td>\n",
       "      <td>All_or_Total</td>\n",
       "      <td>6</td>\n",
       "      <td>9000</td>\n",
       "      <td>All_or_Total</td>\n",
       "      <td>Other</td>\n",
       "      <td>Lab</td>\n",
       "      <td>540000000.0</td>\n",
       "      <td>NaN</td>\n",
       "      <td>8.264000e-10</td>\n",
       "      <td>...</td>\n",
       "      <td>2006/11/02</td>\n",
       "      <td>Jour. Physical Review, Part C, Nuclear Physics...</td>\n",
       "      <td>E1750020</td>\n",
       "      <td>E1750</td>\n",
       "      <td>(J,PR/C,64,(3),034607,200109)</td>\n",
       "      <td>2</td>\n",
       "      <td>4</td>\n",
       "      <td>2</td>\n",
       "      <td>1H</td>\n",
       "      <td>H</td>\n",
       "    </tr>\n",
       "    <tr>\n",
       "      <th>1</th>\n",
       "      <td>alpha</td>\n",
       "      <td>All_or_Total</td>\n",
       "      <td>6</td>\n",
       "      <td>9000</td>\n",
       "      <td>All_or_Total</td>\n",
       "      <td>Other</td>\n",
       "      <td>Lab</td>\n",
       "      <td>540000000.0</td>\n",
       "      <td>NaN</td>\n",
       "      <td>1.084000e-09</td>\n",
       "      <td>...</td>\n",
       "      <td>2006/11/02</td>\n",
       "      <td>Jour. Physical Review, Part C, Nuclear Physics...</td>\n",
       "      <td>E1750020</td>\n",
       "      <td>E1750</td>\n",
       "      <td>(J,PR/C,64,(3),034607,200109)</td>\n",
       "      <td>2</td>\n",
       "      <td>4</td>\n",
       "      <td>2</td>\n",
       "      <td>1H</td>\n",
       "      <td>H</td>\n",
       "    </tr>\n",
       "    <tr>\n",
       "      <th>2</th>\n",
       "      <td>alpha</td>\n",
       "      <td>All_or_Total</td>\n",
       "      <td>6</td>\n",
       "      <td>9000</td>\n",
       "      <td>All_or_Total</td>\n",
       "      <td>Other</td>\n",
       "      <td>Lab</td>\n",
       "      <td>540000000.0</td>\n",
       "      <td>NaN</td>\n",
       "      <td>8.940000e-10</td>\n",
       "      <td>...</td>\n",
       "      <td>2006/11/02</td>\n",
       "      <td>Jour. Physical Review, Part C, Nuclear Physics...</td>\n",
       "      <td>E1750020</td>\n",
       "      <td>E1750</td>\n",
       "      <td>(J,PR/C,64,(3),034607,200109)</td>\n",
       "      <td>2</td>\n",
       "      <td>4</td>\n",
       "      <td>2</td>\n",
       "      <td>1H</td>\n",
       "      <td>H</td>\n",
       "    </tr>\n",
       "    <tr>\n",
       "      <th>3</th>\n",
       "      <td>alpha</td>\n",
       "      <td>All_or_Total</td>\n",
       "      <td>6</td>\n",
       "      <td>9000</td>\n",
       "      <td>All_or_Total</td>\n",
       "      <td>Other</td>\n",
       "      <td>Lab</td>\n",
       "      <td>540000000.0</td>\n",
       "      <td>NaN</td>\n",
       "      <td>1.096000e-09</td>\n",
       "      <td>...</td>\n",
       "      <td>2006/11/02</td>\n",
       "      <td>Jour. Physical Review, Part C, Nuclear Physics...</td>\n",
       "      <td>E1750020</td>\n",
       "      <td>E1750</td>\n",
       "      <td>(J,PR/C,64,(3),034607,200109)</td>\n",
       "      <td>2</td>\n",
       "      <td>4</td>\n",
       "      <td>2</td>\n",
       "      <td>1H</td>\n",
       "      <td>H</td>\n",
       "    </tr>\n",
       "    <tr>\n",
       "      <th>4</th>\n",
       "      <td>alpha</td>\n",
       "      <td>All_or_Total</td>\n",
       "      <td>6</td>\n",
       "      <td>9000</td>\n",
       "      <td>All_or_Total</td>\n",
       "      <td>Other</td>\n",
       "      <td>Lab</td>\n",
       "      <td>540000000.0</td>\n",
       "      <td>NaN</td>\n",
       "      <td>8.067000e-10</td>\n",
       "      <td>...</td>\n",
       "      <td>2006/11/02</td>\n",
       "      <td>Jour. Physical Review, Part C, Nuclear Physics...</td>\n",
       "      <td>E1750020</td>\n",
       "      <td>E1750</td>\n",
       "      <td>(J,PR/C,64,(3),034607,200109)</td>\n",
       "      <td>2</td>\n",
       "      <td>4</td>\n",
       "      <td>2</td>\n",
       "      <td>1H</td>\n",
       "      <td>H</td>\n",
       "    </tr>\n",
       "  </tbody>\n",
       "</table>\n",
       "<p>5 rows × 38 columns</p>\n",
       "</div>"
      ],
      "text/plain": [
       "  Projectile Target_Metastable_State  MF    MT Product_Metastable_State  \\\n",
       "0      alpha            All_or_Total   6  9000             All_or_Total   \n",
       "1      alpha            All_or_Total   6  9000             All_or_Total   \n",
       "2      alpha            All_or_Total   6  9000             All_or_Total   \n",
       "3      alpha            All_or_Total   6  9000             All_or_Total   \n",
       "4      alpha            All_or_Total   6  9000             All_or_Total   \n",
       "\n",
       "  EXFOR_Status Center_of_Mass_Flag       Energy  dEnergy          Data  ...  \\\n",
       "0        Other                 Lab  540000000.0      NaN  8.264000e-10  ...   \n",
       "1        Other                 Lab  540000000.0      NaN  1.084000e-09  ...   \n",
       "2        Other                 Lab  540000000.0      NaN  8.940000e-10  ...   \n",
       "3        Other                 Lab  540000000.0      NaN  1.096000e-09  ...   \n",
       "4        Other                 Lab  540000000.0      NaN  8.067000e-10  ...   \n",
       "\n",
       "         Date                                          Reference  \\\n",
       "0  2006/11/02  Jour. Physical Review, Part C, Nuclear Physics...   \n",
       "1  2006/11/02  Jour. Physical Review, Part C, Nuclear Physics...   \n",
       "2  2006/11/02  Jour. Physical Review, Part C, Nuclear Physics...   \n",
       "3  2006/11/02  Jour. Physical Review, Part C, Nuclear Physics...   \n",
       "4  2006/11/02  Jour. Physical Review, Part C, Nuclear Physics...   \n",
       "\n",
       "   Dataset_Number  EXFOR_Entry                 Reference_Code Projectile_Z  \\\n",
       "0        E1750020        E1750  (J,PR/C,64,(3),034607,200109)            2   \n",
       "1        E1750020        E1750  (J,PR/C,64,(3),034607,200109)            2   \n",
       "2        E1750020        E1750  (J,PR/C,64,(3),034607,200109)            2   \n",
       "3        E1750020        E1750  (J,PR/C,64,(3),034607,200109)            2   \n",
       "4        E1750020        E1750  (J,PR/C,64,(3),034607,200109)            2   \n",
       "\n",
       "  Projectile_A Projectile_N  Isotope Element  \n",
       "0            4            2       1H       H  \n",
       "1            4            2       1H       H  \n",
       "2            4            2       1H       H  \n",
       "3            4            2       1H       H  \n",
       "4            4            2       1H       H  \n",
       "\n",
       "[5 rows x 38 columns]"
      ]
     },
     "execution_count": 8,
     "metadata": {},
     "output_type": "execute_result"
    }
   ],
   "source": [
    "final.head()"
   ]
  },
  {
   "cell_type": "code",
   "execution_count": 10,
   "id": "d2a20fd3",
   "metadata": {
    "ExecuteTime": {
     "end_time": "2021-05-05T19:35:55.767178Z",
     "start_time": "2021-05-05T19:33:48.822177Z"
    }
   },
   "outputs": [],
   "source": [
    "final.to_csv(\"../CSV_Files/EXFOR_original.csv\", index=False)"
   ]
  },
  {
   "cell_type": "code",
   "execution_count": null,
   "id": "58dfde51",
   "metadata": {},
   "outputs": [],
   "source": []
  }
 ],
 "metadata": {
  "kernelspec": {
   "display_name": "Python 3",
   "language": "python",
   "name": "python3"
  },
  "language_info": {
   "codemirror_mode": {
    "name": "ipython",
    "version": 3
   },
   "file_extension": ".py",
   "mimetype": "text/x-python",
   "name": "python",
   "nbconvert_exporter": "python",
   "pygments_lexer": "ipython3",
   "version": "3.8.8"
  }
 },
 "nbformat": 4,
 "nbformat_minor": 5
}
