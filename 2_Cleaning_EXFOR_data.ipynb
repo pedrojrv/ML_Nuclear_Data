{
 "cells": [
  {
   "cell_type": "markdown",
   "metadata": {},
   "source": [
    "# Cleaning Cross Section Data Text File\n",
    "\n",
    "Let us import the necessary modules."
   ]
  },
  {
   "cell_type": "code",
   "execution_count": 1,
   "metadata": {},
   "outputs": [],
   "source": [
    "import pandas as pd\n",
    "import numpy as np\n",
    "pd.set_option('display.max_columns', 500)\n",
    "pd.set_option('display.max_rows', 50)"
   ]
  },
  {
   "cell_type": "markdown",
   "metadata": {},
   "source": [
    "# Cleaning Data\n",
    "\n",
    "Data contains whitespace and special characters that we need to deal with. Additionally, we see that some columns do not have values but they have a value: a string of spaces. Pandas does not recognizes them as NaN values so we have to manually take care of them. We will also drop the references the YY and the SubEntry Number. "
   ]
  },
  {
   "cell_type": "code",
   "execution_count": 2,
   "metadata": {},
   "outputs": [
    {
     "name": "stderr",
     "output_type": "stream",
     "text": [
      "C:\\Users\\Pedro\\Anaconda3\\envs\\data_mining_gpu\\lib\\site-packages\\IPython\\core\\interactiveshell.py:3051: DtypeWarning: Columns (6,8,9,10,11,16,17) have mixed types. Specify dtype option on import or set low_memory=False.\n",
      "  interactivity=interactivity, compiler=compiler, result=result)\n"
     ]
    }
   ],
   "source": [
    "colnames = [\"Prj\", \"Targ\", \"Target_Meta_State\", \"MF\", \"MT\", \"PXC\",  \"Energy\",  \"dEnergy\",  \"Data\", \\\n",
    "            \"dData\",   \"Cos/LO\",   \"dCos/LO\",   \"ELV/HL\",  \"dELV/HL\", \"I78\", \"Refer\", \"(YY)\", \"EntrySubP\"]\n",
    "df = pd.read_csv(\"../ML_Data/all_cross_sections_v1.txt\", names=colnames, header=None, index_col=False, sep=\";\")"
   ]
  },
  {
   "cell_type": "code",
   "execution_count": 3,
   "metadata": {},
   "outputs": [],
   "source": [
    "# make string version of original column\n",
    "df['Targ'] = df['Targ'].astype(str)\n",
    "\n",
    "# Making Sure all rows have the same number of values\n",
    "max_length = 5\n",
    "df.Targ = df.Targ.apply(lambda x: '0'*(max_length - len(x)) + x)\n",
    "\n",
    "# Target feature is formated as ZZAAA\n",
    "df['Z'] = df['Targ'].str[0:2].astype(int).fillna(0)\n",
    "df['M'] = df['Targ'].str[2:5].astype(int).fillna(0)\n",
    "\n",
    "# Calculating number of neutrons = mass number - protons\n",
    "df['N'] = df['M'] - df[\"Z\"]"
   ]
  },
  {
   "cell_type": "markdown",
   "metadata": {},
   "source": [
    "We assume that `Target_Meta_State` with unknown values are `G` for Ground State."
   ]
  },
  {
   "cell_type": "code",
   "execution_count": 4,
   "metadata": {},
   "outputs": [],
   "source": [
    "# unmarked rows are assumed to be at  ground state so we assign G value\n",
    "df[\"Target_Meta_State\"] = df[\"Target_Meta_State\"].replace(to_replace=\" \", value=\"G\")"
   ]
  },
  {
   "cell_type": "markdown",
   "metadata": {},
   "source": [
    "We assume that the `Frame` feature unknown values are `L` for Lab Frame and `Product_Meta_State`'s missing values are `G` for Ground State."
   ]
  },
  {
   "cell_type": "code",
   "execution_count": 5,
   "metadata": {},
   "outputs": [],
   "source": [
    "# PXC describes three different variables\n",
    "# We extract the data to independent features\n",
    "df['Product_Meta_State'] = df['PXC'].astype(str).str[0:1].replace(to_replace=\" \", value=\"G\")\n",
    "df['Frame'] = df['PXC'].astype(str).str[2:3].replace(to_replace=\" \", value=\"L\")"
   ]
  },
  {
   "cell_type": "code",
   "execution_count": 6,
   "metadata": {},
   "outputs": [],
   "source": [
    "df.drop(columns=[\"(YY)\", \"EntrySubP\", 'Targ', \"PXC\"], inplace=True)"
   ]
  },
  {
   "cell_type": "code",
   "execution_count": 7,
   "metadata": {},
   "outputs": [
    {
     "data": {
      "text/html": [
       "<div>\n",
       "<style scoped>\n",
       "    .dataframe tbody tr th:only-of-type {\n",
       "        vertical-align: middle;\n",
       "    }\n",
       "\n",
       "    .dataframe tbody tr th {\n",
       "        vertical-align: top;\n",
       "    }\n",
       "\n",
       "    .dataframe thead th {\n",
       "        text-align: right;\n",
       "    }\n",
       "</style>\n",
       "<table border=\"1\" class=\"dataframe\">\n",
       "  <thead>\n",
       "    <tr style=\"text-align: right;\">\n",
       "      <th></th>\n",
       "      <th>Prj</th>\n",
       "      <th>Target_Meta_State</th>\n",
       "      <th>MF</th>\n",
       "      <th>MT</th>\n",
       "      <th>Energy</th>\n",
       "      <th>dEnergy</th>\n",
       "      <th>Data</th>\n",
       "      <th>dData</th>\n",
       "      <th>Cos/LO</th>\n",
       "      <th>dCos/LO</th>\n",
       "      <th>ELV/HL</th>\n",
       "      <th>dELV/HL</th>\n",
       "      <th>I78</th>\n",
       "      <th>Refer</th>\n",
       "      <th>Z</th>\n",
       "      <th>M</th>\n",
       "      <th>N</th>\n",
       "      <th>Product_Meta_State</th>\n",
       "      <th>Frame</th>\n",
       "    </tr>\n",
       "  </thead>\n",
       "  <tbody>\n",
       "    <tr>\n",
       "      <th>0</th>\n",
       "      <td>1</td>\n",
       "      <td>G</td>\n",
       "      <td>3</td>\n",
       "      <td>1</td>\n",
       "      <td>8.8200+7</td>\n",
       "      <td>882000.0</td>\n",
       "      <td>0.030000</td>\n",
       "      <td>1.5232-3</td>\n",
       "      <td></td>\n",
       "      <td></td>\n",
       "      <td></td>\n",
       "      <td></td>\n",
       "      <td></td>\n",
       "      <td>D.F.MEASDAY,ET.AL. (66)</td>\n",
       "      <td>0</td>\n",
       "      <td>1</td>\n",
       "      <td>1</td>\n",
       "      <td>G</td>\n",
       "      <td>L</td>\n",
       "    </tr>\n",
       "    <tr>\n",
       "      <th>1</th>\n",
       "      <td>1</td>\n",
       "      <td>G</td>\n",
       "      <td>3</td>\n",
       "      <td>1</td>\n",
       "      <td>9.8100+7</td>\n",
       "      <td>981000.0</td>\n",
       "      <td>0.029100</td>\n",
       "      <td>1.5162-3</td>\n",
       "      <td></td>\n",
       "      <td></td>\n",
       "      <td></td>\n",
       "      <td></td>\n",
       "      <td></td>\n",
       "      <td>D.F.MEASDAY,ET.AL. (66)</td>\n",
       "      <td>0</td>\n",
       "      <td>1</td>\n",
       "      <td>1</td>\n",
       "      <td>G</td>\n",
       "      <td>L</td>\n",
       "    </tr>\n",
       "    <tr>\n",
       "      <th>2</th>\n",
       "      <td>1</td>\n",
       "      <td>G</td>\n",
       "      <td>3</td>\n",
       "      <td>1</td>\n",
       "      <td>1.1000+8</td>\n",
       "      <td>1100000.</td>\n",
       "      <td>0.027900</td>\n",
       "      <td>1.4147-3</td>\n",
       "      <td></td>\n",
       "      <td></td>\n",
       "      <td></td>\n",
       "      <td></td>\n",
       "      <td></td>\n",
       "      <td>D.F.MEASDAY,ET.AL. (66)</td>\n",
       "      <td>0</td>\n",
       "      <td>1</td>\n",
       "      <td>1</td>\n",
       "      <td>G</td>\n",
       "      <td>L</td>\n",
       "    </tr>\n",
       "    <tr>\n",
       "      <th>3</th>\n",
       "      <td>1</td>\n",
       "      <td>G</td>\n",
       "      <td>3</td>\n",
       "      <td>1</td>\n",
       "      <td>1.1960+8</td>\n",
       "      <td>1196000.</td>\n",
       "      <td>0.026400</td>\n",
       "      <td>1.4031-3</td>\n",
       "      <td></td>\n",
       "      <td></td>\n",
       "      <td></td>\n",
       "      <td></td>\n",
       "      <td></td>\n",
       "      <td>D.F.MEASDAY,ET.AL. (66)</td>\n",
       "      <td>0</td>\n",
       "      <td>1</td>\n",
       "      <td>1</td>\n",
       "      <td>G</td>\n",
       "      <td>L</td>\n",
       "    </tr>\n",
       "    <tr>\n",
       "      <th>4</th>\n",
       "      <td>1</td>\n",
       "      <td>G</td>\n",
       "      <td>3</td>\n",
       "      <td>1</td>\n",
       "      <td>1.2940+8</td>\n",
       "      <td>1294000.</td>\n",
       "      <td>0.025600</td>\n",
       "      <td>1.3972-3</td>\n",
       "      <td></td>\n",
       "      <td></td>\n",
       "      <td></td>\n",
       "      <td></td>\n",
       "      <td></td>\n",
       "      <td>D.F.MEASDAY,ET.AL. (66)</td>\n",
       "      <td>0</td>\n",
       "      <td>1</td>\n",
       "      <td>1</td>\n",
       "      <td>G</td>\n",
       "      <td>L</td>\n",
       "    </tr>\n",
       "  </tbody>\n",
       "</table>\n",
       "</div>"
      ],
      "text/plain": [
       "   Prj Target_Meta_State  MF  MT     Energy    dEnergy       Data      dData  \\\n",
       "0    1                 G   3   1   8.8200+7   882000.0   0.030000   1.5232-3   \n",
       "1    1                 G   3   1   9.8100+7   981000.0   0.029100   1.5162-3   \n",
       "2    1                 G   3   1   1.1000+8   1100000.   0.027900   1.4147-3   \n",
       "3    1                 G   3   1   1.1960+8   1196000.   0.026400   1.4031-3   \n",
       "4    1                 G   3   1   1.2940+8   1294000.   0.025600   1.3972-3   \n",
       "\n",
       "      Cos/LO    dCos/LO     ELV/HL    dELV/HL I78  \\\n",
       "0                                                   \n",
       "1                                                   \n",
       "2                                                   \n",
       "3                                                   \n",
       "4                                                   \n",
       "\n",
       "                         Refer  Z  M  N Product_Meta_State Frame  \n",
       "0    D.F.MEASDAY,ET.AL. (66)    0  1  1                  G     L  \n",
       "1    D.F.MEASDAY,ET.AL. (66)    0  1  1                  G     L  \n",
       "2    D.F.MEASDAY,ET.AL. (66)    0  1  1                  G     L  \n",
       "3    D.F.MEASDAY,ET.AL. (66)    0  1  1                  G     L  \n",
       "4    D.F.MEASDAY,ET.AL. (66)    0  1  1                  G     L  "
      ]
     },
     "execution_count": 7,
     "metadata": {},
     "output_type": "execute_result"
    }
   ],
   "source": [
    "df.head()"
   ]
  },
  {
   "cell_type": "markdown",
   "metadata": {},
   "source": [
    "# Fixing numerical features formatting."
   ]
  },
  {
   "cell_type": "code",
   "execution_count": 8,
   "metadata": {},
   "outputs": [],
   "source": [
    "# Defining Numerical Columns to Fix and casting them as strings\n",
    "cols = [\"Energy\", \"dEnergy\", \"Data\", \"dData\", \"Cos/LO\", \"dCos/LO\", \"ELV/HL\", \"dELV/HL\"]\n",
    "df[cols] = df[cols].astype(str)"
   ]
  },
  {
   "cell_type": "code",
   "execution_count": 9,
   "metadata": {},
   "outputs": [],
   "source": [
    "# df[cols] = df[cols].replace(to_replace=\"         \", value=\"0.0000000\")\n",
    "df[cols] = df[cols].replace(to_replace=\"         \", value=np.nan)\n",
    "\n",
    "# We now strip values that may contain quatation marks and starting and trailing spaces\n",
    "for col in cols:\n",
    "    df[col] = df[col].str.strip(\"\\\"\")\n",
    "    df[col] = df[col].str.strip()\n",
    "    \n",
    "# df[cols] = df[cols].replace(to_replace=\"\", value=\"0.0000000\")\n",
    "df[cols] = df[cols].replace(to_replace=\"\", value=np.nan)"
   ]
  },
  {
   "cell_type": "code",
   "execution_count": 10,
   "metadata": {},
   "outputs": [],
   "source": [
    "# For the numerical values we know per formatting that each of them should be 9 characters in length\n",
    "max_length = 9\n",
    "\n",
    "for col in cols:\n",
    "    df[col] = df[col].apply(lambda x: x if pd.isnull(x) else ' '*(max_length - len(x)) + x) "
   ]
  },
  {
   "cell_type": "code",
   "execution_count": 11,
   "metadata": {},
   "outputs": [],
   "source": [
    "# Add appropiate formating for python to recognize it as numerical \n",
    "for col in cols:\n",
    "    new_col = []\n",
    "    values = df[col].values\n",
    "    for x in values:\n",
    "        if pd.isnull(x):\n",
    "            new_col.append(x)\n",
    "        elif \"+\" == x[7]:\n",
    "            y = x[0:7]\n",
    "            z = x[7:]\n",
    "            new_col.append(y + \"E\" + z)\n",
    "        elif \"+\" == x[6]:\n",
    "            y = x[0:6]\n",
    "            z = x[6:]\n",
    "            new_col.append(y + \"E\" + z)\n",
    "        elif \"-\" == x[7]:\n",
    "            y = x[0:7]\n",
    "            z = x[7:]\n",
    "            new_col.append(y + \"E\" + z)\n",
    "        elif \"-\" == x[6]:\n",
    "            y = x[0:6]\n",
    "            z = x[6:]\n",
    "            new_col.append(y + \"E\" + z)\n",
    "        else:\n",
    "            new_col.append(x)\n",
    "    df[col] = new_col"
   ]
  },
  {
   "cell_type": "code",
   "execution_count": 12,
   "metadata": {},
   "outputs": [
    {
     "name": "stdout",
     "output_type": "stream",
     "text": [
      "Finish converting Energy to float.\n",
      "Finish converting dEnergy to float.\n",
      "Finish converting Data to float.\n",
      "Finish converting dData to float.\n",
      "Finish converting Cos/LO to float.\n",
      "Finish converting dCos/LO to float.\n",
      "Finish converting ELV/HL to float.\n",
      "Finish converting dELV/HL to float.\n"
     ]
    }
   ],
   "source": [
    "# We now convert the columns to numerical\n",
    "for col in cols:\n",
    "    df[col] = df[col].astype(float)\n",
    "    print(\"Finish converting {} to float.\".format(col))"
   ]
  },
  {
   "cell_type": "markdown",
   "metadata": {},
   "source": [
    "# Specifying Categorical Columns"
   ]
  },
  {
   "cell_type": "code",
   "execution_count": 13,
   "metadata": {},
   "outputs": [],
   "source": [
    "cat_cols = [\"Target_Meta_State\", \"MF\", \"MT\", \"I78\", \"Product_Meta_State\", \"Frame\"]\n",
    "\n",
    "# Convering all columns to strings and stripping whitespace\n",
    "for col in cat_cols:\n",
    "    df[col] = df[col].astype(str)\n",
    "    df[col] = df[col].str.strip(\"\\\"\")\n",
    "    df[col] = df[col].str.strip()"
   ]
  },
  {
   "cell_type": "code",
   "execution_count": 14,
   "metadata": {},
   "outputs": [],
   "source": [
    "# Replace empty values in I78 for L representing Low\n",
    "df[\"I78\"] = df[\"I78\"].replace(to_replace=\"\", value=\"L\")"
   ]
  },
  {
   "cell_type": "markdown",
   "metadata": {},
   "source": [
    "# Exporting Cleaned Data"
   ]
  },
  {
   "cell_type": "code",
   "execution_count": 79,
   "metadata": {},
   "outputs": [],
   "source": [
    "df.to_csv(\"../ML_Data/working_xs.csv\", index=False)"
   ]
  },
  {
   "cell_type": "markdown",
   "metadata": {},
   "source": [
    "# Appending Additional Information from EXFOR"
   ]
  },
  {
   "cell_type": "code",
   "execution_count": 15,
   "metadata": {},
   "outputs": [],
   "source": [
    "dirpath = \"Extracted_Text/\""
   ]
  },
  {
   "cell_type": "code",
   "execution_count": 16,
   "metadata": {},
   "outputs": [],
   "source": [
    "# Reading experiments reaction notation \n",
    "df1 = pd.read_csv(dirpath + \"reaction_notation.txt\", delim_whitespace=True, header=None)\n",
    "df1.columns = [\"Reaction\", \"Type\"]\n",
    "\n",
    "# Reading Experiment Titles\n",
    "df2 = pd.read_csv(dirpath + \"titles.txt\", sep=\"#TITLE      \", header=None, engine=\"python\")\n",
    "df2.columns = [\"Keyword\", \"Title\"]\n",
    "\n",
    "# Reading Data Points per Experiment\n",
    "df3 = pd.read_csv(dirpath + \"data_points_per_experiment_refined.txt\",  delim_whitespace=True, header=None)\n",
    "df3.columns = [\"Data\", \"Multiple\"]\n",
    "\n",
    "# Reading Experiment Year \n",
    "df4 = pd.read_csv(dirpath + \"years.txt\", delim_whitespace=True, header=None)\n",
    "df4.columns = [\"Keyword\", \"Year\"]\n",
    "\n",
    "# Reading Experiment Date \n",
    "df5 = pd.read_csv(dirpath + \"authors.txt\", sep=\"    \", header=None, engine=\"python\")\n",
    "df5.columns = [\"Keyword\", \"Author\"]\n",
    "\n",
    "# Reading Experiment Institute \n",
    "df6 = pd.read_csv(dirpath + \"institude.txt\", sep=\"  \", header=None, engine=\"python\")\n",
    "df6.columns = [\"Keyword\", \"Institute\"]\n",
    "\n",
    "# Reading Experiment Year \n",
    "df7 = pd.read_csv(dirpath + \"dates.txt\", delim_whitespace=True, header=None)\n",
    "df7.columns = [\"Keyword\", \"Date\"]\n",
    "\n",
    "# Reading Experiment Refere\n",
    "df8 = pd.read_csv(dirpath + \"references.txt\", sep=\"#REFERENCE  \", header=None, engine=\"python\")\n",
    "df8.columns = [\"Keyword\", \"Reference\"]"
   ]
  },
  {
   "cell_type": "code",
   "execution_count": 17,
   "metadata": {},
   "outputs": [],
   "source": [
    "# Merging Datapoints, notation and titles and expanding based on datapoints\n",
    "pre_final = pd.concat([df3, df1, df2, df4, df5, df6, df7, df8], axis=1)\n",
    "final = pre_final.reindex(pre_final.index.repeat(pre_final.Multiple))\n",
    "final['position'] = final.groupby(level=0).cumcount() + 1\n",
    "\n",
    "# Extracting projectile and outogoing particle\n",
    "final[\"reaction_notation\"] = final.Type.str.extract('.*\\((.*)\\).*')"
   ]
  },
  {
   "cell_type": "code",
   "execution_count": 18,
   "metadata": {},
   "outputs": [],
   "source": [
    "final[\"reaction_notation2\"] = final[\"reaction_notation\"].apply(lambda x: x.split(')')[0])\n",
    "final = pd.concat([final, final[\"reaction_notation2\"].str.split(',', expand=True)], axis=1)"
   ]
  },
  {
   "cell_type": "code",
   "execution_count": 19,
   "metadata": {},
   "outputs": [
    {
     "data": {
      "text/html": [
       "<div>\n",
       "<style scoped>\n",
       "    .dataframe tbody tr th:only-of-type {\n",
       "        vertical-align: middle;\n",
       "    }\n",
       "\n",
       "    .dataframe tbody tr th {\n",
       "        vertical-align: top;\n",
       "    }\n",
       "\n",
       "    .dataframe thead th {\n",
       "        text-align: right;\n",
       "    }\n",
       "</style>\n",
       "<table border=\"1\" class=\"dataframe\">\n",
       "  <thead>\n",
       "    <tr style=\"text-align: right;\">\n",
       "      <th></th>\n",
       "      <th>Data</th>\n",
       "      <th>Multiple</th>\n",
       "      <th>Reaction</th>\n",
       "      <th>Type</th>\n",
       "      <th>Keyword</th>\n",
       "      <th>Title</th>\n",
       "      <th>Keyword</th>\n",
       "      <th>Year</th>\n",
       "      <th>Keyword</th>\n",
       "      <th>Author</th>\n",
       "      <th>Keyword</th>\n",
       "      <th>Institute</th>\n",
       "      <th>Keyword</th>\n",
       "      <th>Date</th>\n",
       "      <th>Keyword</th>\n",
       "      <th>Reference</th>\n",
       "      <th>position</th>\n",
       "      <th>reaction_notation</th>\n",
       "      <th>reaction_notation2</th>\n",
       "      <th>0</th>\n",
       "      <th>1</th>\n",
       "    </tr>\n",
       "  </thead>\n",
       "  <tbody>\n",
       "    <tr>\n",
       "      <th>0</th>\n",
       "      <td>#DATA</td>\n",
       "      <td>7</td>\n",
       "      <td>#REACTION</td>\n",
       "      <td>0-NN-1(N,TOT),,SIG</td>\n",
       "      <td>NaN</td>\n",
       "      <td>NEUTRON TOTAL CROSS SECTIONS FOR NEUTRONS, PRO...</td>\n",
       "      <td>#YEAR</td>\n",
       "      <td>1966</td>\n",
       "      <td>#AUTHOR1</td>\n",
       "      <td>D.F.Measday+</td>\n",
       "      <td>#INSTITUTE</td>\n",
       "      <td>(1USAHRV)</td>\n",
       "      <td>#DATE</td>\n",
       "      <td>19800804</td>\n",
       "      <td>NaN</td>\n",
       "      <td>Jour. Nuclear Physics Vol.85, p.142, 1966</td>\n",
       "      <td>1</td>\n",
       "      <td>N,TOT</td>\n",
       "      <td>N,TOT</td>\n",
       "      <td>N</td>\n",
       "      <td>TOT</td>\n",
       "    </tr>\n",
       "    <tr>\n",
       "      <th>0</th>\n",
       "      <td>#DATA</td>\n",
       "      <td>7</td>\n",
       "      <td>#REACTION</td>\n",
       "      <td>0-NN-1(N,TOT),,SIG</td>\n",
       "      <td>NaN</td>\n",
       "      <td>NEUTRON TOTAL CROSS SECTIONS FOR NEUTRONS, PRO...</td>\n",
       "      <td>#YEAR</td>\n",
       "      <td>1966</td>\n",
       "      <td>#AUTHOR1</td>\n",
       "      <td>D.F.Measday+</td>\n",
       "      <td>#INSTITUTE</td>\n",
       "      <td>(1USAHRV)</td>\n",
       "      <td>#DATE</td>\n",
       "      <td>19800804</td>\n",
       "      <td>NaN</td>\n",
       "      <td>Jour. Nuclear Physics Vol.85, p.142, 1966</td>\n",
       "      <td>2</td>\n",
       "      <td>N,TOT</td>\n",
       "      <td>N,TOT</td>\n",
       "      <td>N</td>\n",
       "      <td>TOT</td>\n",
       "    </tr>\n",
       "    <tr>\n",
       "      <th>0</th>\n",
       "      <td>#DATA</td>\n",
       "      <td>7</td>\n",
       "      <td>#REACTION</td>\n",
       "      <td>0-NN-1(N,TOT),,SIG</td>\n",
       "      <td>NaN</td>\n",
       "      <td>NEUTRON TOTAL CROSS SECTIONS FOR NEUTRONS, PRO...</td>\n",
       "      <td>#YEAR</td>\n",
       "      <td>1966</td>\n",
       "      <td>#AUTHOR1</td>\n",
       "      <td>D.F.Measday+</td>\n",
       "      <td>#INSTITUTE</td>\n",
       "      <td>(1USAHRV)</td>\n",
       "      <td>#DATE</td>\n",
       "      <td>19800804</td>\n",
       "      <td>NaN</td>\n",
       "      <td>Jour. Nuclear Physics Vol.85, p.142, 1966</td>\n",
       "      <td>3</td>\n",
       "      <td>N,TOT</td>\n",
       "      <td>N,TOT</td>\n",
       "      <td>N</td>\n",
       "      <td>TOT</td>\n",
       "    </tr>\n",
       "    <tr>\n",
       "      <th>0</th>\n",
       "      <td>#DATA</td>\n",
       "      <td>7</td>\n",
       "      <td>#REACTION</td>\n",
       "      <td>0-NN-1(N,TOT),,SIG</td>\n",
       "      <td>NaN</td>\n",
       "      <td>NEUTRON TOTAL CROSS SECTIONS FOR NEUTRONS, PRO...</td>\n",
       "      <td>#YEAR</td>\n",
       "      <td>1966</td>\n",
       "      <td>#AUTHOR1</td>\n",
       "      <td>D.F.Measday+</td>\n",
       "      <td>#INSTITUTE</td>\n",
       "      <td>(1USAHRV)</td>\n",
       "      <td>#DATE</td>\n",
       "      <td>19800804</td>\n",
       "      <td>NaN</td>\n",
       "      <td>Jour. Nuclear Physics Vol.85, p.142, 1966</td>\n",
       "      <td>4</td>\n",
       "      <td>N,TOT</td>\n",
       "      <td>N,TOT</td>\n",
       "      <td>N</td>\n",
       "      <td>TOT</td>\n",
       "    </tr>\n",
       "    <tr>\n",
       "      <th>0</th>\n",
       "      <td>#DATA</td>\n",
       "      <td>7</td>\n",
       "      <td>#REACTION</td>\n",
       "      <td>0-NN-1(N,TOT),,SIG</td>\n",
       "      <td>NaN</td>\n",
       "      <td>NEUTRON TOTAL CROSS SECTIONS FOR NEUTRONS, PRO...</td>\n",
       "      <td>#YEAR</td>\n",
       "      <td>1966</td>\n",
       "      <td>#AUTHOR1</td>\n",
       "      <td>D.F.Measday+</td>\n",
       "      <td>#INSTITUTE</td>\n",
       "      <td>(1USAHRV)</td>\n",
       "      <td>#DATE</td>\n",
       "      <td>19800804</td>\n",
       "      <td>NaN</td>\n",
       "      <td>Jour. Nuclear Physics Vol.85, p.142, 1966</td>\n",
       "      <td>5</td>\n",
       "      <td>N,TOT</td>\n",
       "      <td>N,TOT</td>\n",
       "      <td>N</td>\n",
       "      <td>TOT</td>\n",
       "    </tr>\n",
       "  </tbody>\n",
       "</table>\n",
       "</div>"
      ],
      "text/plain": [
       "    Data  Multiple   Reaction                Type  Keyword  \\\n",
       "0  #DATA         7  #REACTION  0-NN-1(N,TOT),,SIG      NaN   \n",
       "0  #DATA         7  #REACTION  0-NN-1(N,TOT),,SIG      NaN   \n",
       "0  #DATA         7  #REACTION  0-NN-1(N,TOT),,SIG      NaN   \n",
       "0  #DATA         7  #REACTION  0-NN-1(N,TOT),,SIG      NaN   \n",
       "0  #DATA         7  #REACTION  0-NN-1(N,TOT),,SIG      NaN   \n",
       "\n",
       "                                               Title  Keyword  Year   Keyword  \\\n",
       "0  NEUTRON TOTAL CROSS SECTIONS FOR NEUTRONS, PRO...    #YEAR  1966  #AUTHOR1   \n",
       "0  NEUTRON TOTAL CROSS SECTIONS FOR NEUTRONS, PRO...    #YEAR  1966  #AUTHOR1   \n",
       "0  NEUTRON TOTAL CROSS SECTIONS FOR NEUTRONS, PRO...    #YEAR  1966  #AUTHOR1   \n",
       "0  NEUTRON TOTAL CROSS SECTIONS FOR NEUTRONS, PRO...    #YEAR  1966  #AUTHOR1   \n",
       "0  NEUTRON TOTAL CROSS SECTIONS FOR NEUTRONS, PRO...    #YEAR  1966  #AUTHOR1   \n",
       "\n",
       "         Author     Keyword  Institute  Keyword      Date  Keyword  \\\n",
       "0  D.F.Measday+  #INSTITUTE  (1USAHRV)    #DATE  19800804      NaN   \n",
       "0  D.F.Measday+  #INSTITUTE  (1USAHRV)    #DATE  19800804      NaN   \n",
       "0  D.F.Measday+  #INSTITUTE  (1USAHRV)    #DATE  19800804      NaN   \n",
       "0  D.F.Measday+  #INSTITUTE  (1USAHRV)    #DATE  19800804      NaN   \n",
       "0  D.F.Measday+  #INSTITUTE  (1USAHRV)    #DATE  19800804      NaN   \n",
       "\n",
       "                                   Reference  position reaction_notation  \\\n",
       "0  Jour. Nuclear Physics Vol.85, p.142, 1966         1             N,TOT   \n",
       "0  Jour. Nuclear Physics Vol.85, p.142, 1966         2             N,TOT   \n",
       "0  Jour. Nuclear Physics Vol.85, p.142, 1966         3             N,TOT   \n",
       "0  Jour. Nuclear Physics Vol.85, p.142, 1966         4             N,TOT   \n",
       "0  Jour. Nuclear Physics Vol.85, p.142, 1966         5             N,TOT   \n",
       "\n",
       "  reaction_notation2  0    1  \n",
       "0              N,TOT  N  TOT  \n",
       "0              N,TOT  N  TOT  \n",
       "0              N,TOT  N  TOT  \n",
       "0              N,TOT  N  TOT  \n",
       "0              N,TOT  N  TOT  "
      ]
     },
     "execution_count": 19,
     "metadata": {},
     "output_type": "execute_result"
    }
   ],
   "source": [
    "final.head()"
   ]
  },
  {
   "cell_type": "code",
   "execution_count": 20,
   "metadata": {},
   "outputs": [],
   "source": [
    "# Formatting Columns\n",
    "new_columns = list(final.columns)[:19]\n",
    "new_columns.extend([\"Projectile\", \"Out\"])\n",
    "final.columns = new_columns"
   ]
  },
  {
   "cell_type": "code",
   "execution_count": 21,
   "metadata": {},
   "outputs": [],
   "source": [
    "# Indexing only required information and saving file\n",
    "final = final[[\"Type\", \"Title\", \"Year\", \"Institute\", \"Author\", \"Date\", \"Reference\", \"Out\"]]\n",
    "\n",
    "# Verify all data matches.\n",
    "df.shape[0] == final.shape[0]\n",
    "\n",
    "# Reset Indexes to make copying faster\n",
    "df = df.reset_index(drop=True)\n",
    "final = final.reset_index(drop=True)"
   ]
  },
  {
   "cell_type": "code",
   "execution_count": 22,
   "metadata": {},
   "outputs": [
    {
     "data": {
      "text/html": [
       "<div>\n",
       "<style scoped>\n",
       "    .dataframe tbody tr th:only-of-type {\n",
       "        vertical-align: middle;\n",
       "    }\n",
       "\n",
       "    .dataframe tbody tr th {\n",
       "        vertical-align: top;\n",
       "    }\n",
       "\n",
       "    .dataframe thead th {\n",
       "        text-align: right;\n",
       "    }\n",
       "</style>\n",
       "<table border=\"1\" class=\"dataframe\">\n",
       "  <thead>\n",
       "    <tr style=\"text-align: right;\">\n",
       "      <th></th>\n",
       "      <th>Type</th>\n",
       "      <th>Title</th>\n",
       "      <th>Year</th>\n",
       "      <th>Institute</th>\n",
       "      <th>Author</th>\n",
       "      <th>Date</th>\n",
       "      <th>Reference</th>\n",
       "      <th>Out</th>\n",
       "    </tr>\n",
       "  </thead>\n",
       "  <tbody>\n",
       "    <tr>\n",
       "      <th>0</th>\n",
       "      <td>0-NN-1(N,TOT),,SIG</td>\n",
       "      <td>NEUTRON TOTAL CROSS SECTIONS FOR NEUTRONS, PRO...</td>\n",
       "      <td>1966</td>\n",
       "      <td>(1USAHRV)</td>\n",
       "      <td>D.F.Measday+</td>\n",
       "      <td>19800804</td>\n",
       "      <td>Jour. Nuclear Physics Vol.85, p.142, 1966</td>\n",
       "      <td>TOT</td>\n",
       "    </tr>\n",
       "    <tr>\n",
       "      <th>1</th>\n",
       "      <td>0-NN-1(N,TOT),,SIG</td>\n",
       "      <td>NEUTRON TOTAL CROSS SECTIONS FOR NEUTRONS, PRO...</td>\n",
       "      <td>1966</td>\n",
       "      <td>(1USAHRV)</td>\n",
       "      <td>D.F.Measday+</td>\n",
       "      <td>19800804</td>\n",
       "      <td>Jour. Nuclear Physics Vol.85, p.142, 1966</td>\n",
       "      <td>TOT</td>\n",
       "    </tr>\n",
       "    <tr>\n",
       "      <th>2</th>\n",
       "      <td>0-NN-1(N,TOT),,SIG</td>\n",
       "      <td>NEUTRON TOTAL CROSS SECTIONS FOR NEUTRONS, PRO...</td>\n",
       "      <td>1966</td>\n",
       "      <td>(1USAHRV)</td>\n",
       "      <td>D.F.Measday+</td>\n",
       "      <td>19800804</td>\n",
       "      <td>Jour. Nuclear Physics Vol.85, p.142, 1966</td>\n",
       "      <td>TOT</td>\n",
       "    </tr>\n",
       "    <tr>\n",
       "      <th>3</th>\n",
       "      <td>0-NN-1(N,TOT),,SIG</td>\n",
       "      <td>NEUTRON TOTAL CROSS SECTIONS FOR NEUTRONS, PRO...</td>\n",
       "      <td>1966</td>\n",
       "      <td>(1USAHRV)</td>\n",
       "      <td>D.F.Measday+</td>\n",
       "      <td>19800804</td>\n",
       "      <td>Jour. Nuclear Physics Vol.85, p.142, 1966</td>\n",
       "      <td>TOT</td>\n",
       "    </tr>\n",
       "    <tr>\n",
       "      <th>4</th>\n",
       "      <td>0-NN-1(N,TOT),,SIG</td>\n",
       "      <td>NEUTRON TOTAL CROSS SECTIONS FOR NEUTRONS, PRO...</td>\n",
       "      <td>1966</td>\n",
       "      <td>(1USAHRV)</td>\n",
       "      <td>D.F.Measday+</td>\n",
       "      <td>19800804</td>\n",
       "      <td>Jour. Nuclear Physics Vol.85, p.142, 1966</td>\n",
       "      <td>TOT</td>\n",
       "    </tr>\n",
       "  </tbody>\n",
       "</table>\n",
       "</div>"
      ],
      "text/plain": [
       "                 Type                                              Title  \\\n",
       "0  0-NN-1(N,TOT),,SIG  NEUTRON TOTAL CROSS SECTIONS FOR NEUTRONS, PRO...   \n",
       "1  0-NN-1(N,TOT),,SIG  NEUTRON TOTAL CROSS SECTIONS FOR NEUTRONS, PRO...   \n",
       "2  0-NN-1(N,TOT),,SIG  NEUTRON TOTAL CROSS SECTIONS FOR NEUTRONS, PRO...   \n",
       "3  0-NN-1(N,TOT),,SIG  NEUTRON TOTAL CROSS SECTIONS FOR NEUTRONS, PRO...   \n",
       "4  0-NN-1(N,TOT),,SIG  NEUTRON TOTAL CROSS SECTIONS FOR NEUTRONS, PRO...   \n",
       "\n",
       "   Year  Institute        Author      Date  \\\n",
       "0  1966  (1USAHRV)  D.F.Measday+  19800804   \n",
       "1  1966  (1USAHRV)  D.F.Measday+  19800804   \n",
       "2  1966  (1USAHRV)  D.F.Measday+  19800804   \n",
       "3  1966  (1USAHRV)  D.F.Measday+  19800804   \n",
       "4  1966  (1USAHRV)  D.F.Measday+  19800804   \n",
       "\n",
       "                                   Reference  Out  \n",
       "0  Jour. Nuclear Physics Vol.85, p.142, 1966  TOT  \n",
       "1  Jour. Nuclear Physics Vol.85, p.142, 1966  TOT  \n",
       "2  Jour. Nuclear Physics Vol.85, p.142, 1966  TOT  \n",
       "3  Jour. Nuclear Physics Vol.85, p.142, 1966  TOT  \n",
       "4  Jour. Nuclear Physics Vol.85, p.142, 1966  TOT  "
      ]
     },
     "execution_count": 22,
     "metadata": {},
     "output_type": "execute_result"
    }
   ],
   "source": [
    "final.head()"
   ]
  },
  {
   "cell_type": "code",
   "execution_count": 23,
   "metadata": {},
   "outputs": [],
   "source": [
    "# Assign newly extracted data to main dataframe\n",
    "df[\"Type\"] = final[\"Type\"]\n",
    "df[\"Title\"] = final[\"Title\"]\n",
    "df[\"Year\"] = final[\"Year\"]\n",
    "df[\"Author\"] = final[\"Author\"]\n",
    "df[\"Institute\"] = final[\"Institute\"]\n",
    "df[\"Date\"] = final[\"Date\"]\n",
    "df[\"Reference\"] = final[\"Reference\"]\n",
    "df[\"Out\"] = final[\"Out\"]"
   ]
  },
  {
   "cell_type": "code",
   "execution_count": 24,
   "metadata": {},
   "outputs": [
    {
     "data": {
      "text/html": [
       "<div>\n",
       "<style scoped>\n",
       "    .dataframe tbody tr th:only-of-type {\n",
       "        vertical-align: middle;\n",
       "    }\n",
       "\n",
       "    .dataframe tbody tr th {\n",
       "        vertical-align: top;\n",
       "    }\n",
       "\n",
       "    .dataframe thead th {\n",
       "        text-align: right;\n",
       "    }\n",
       "</style>\n",
       "<table border=\"1\" class=\"dataframe\">\n",
       "  <thead>\n",
       "    <tr style=\"text-align: right;\">\n",
       "      <th></th>\n",
       "      <th>Prj</th>\n",
       "      <th>Target_Meta_State</th>\n",
       "      <th>MF</th>\n",
       "      <th>MT</th>\n",
       "      <th>Energy</th>\n",
       "      <th>dEnergy</th>\n",
       "      <th>Data</th>\n",
       "      <th>dData</th>\n",
       "      <th>Cos/LO</th>\n",
       "      <th>dCos/LO</th>\n",
       "      <th>ELV/HL</th>\n",
       "      <th>dELV/HL</th>\n",
       "      <th>I78</th>\n",
       "      <th>Refer</th>\n",
       "      <th>Z</th>\n",
       "      <th>M</th>\n",
       "      <th>N</th>\n",
       "      <th>Product_Meta_State</th>\n",
       "      <th>Frame</th>\n",
       "      <th>Type</th>\n",
       "      <th>Title</th>\n",
       "      <th>Year</th>\n",
       "      <th>Author</th>\n",
       "      <th>Institute</th>\n",
       "      <th>Date</th>\n",
       "      <th>Reference</th>\n",
       "      <th>Out</th>\n",
       "    </tr>\n",
       "  </thead>\n",
       "  <tbody>\n",
       "    <tr>\n",
       "      <th>0</th>\n",
       "      <td>1</td>\n",
       "      <td>G</td>\n",
       "      <td>3</td>\n",
       "      <td>1</td>\n",
       "      <td>88200000.0</td>\n",
       "      <td>882000.0</td>\n",
       "      <td>0.0300</td>\n",
       "      <td>0.001523</td>\n",
       "      <td>NaN</td>\n",
       "      <td>NaN</td>\n",
       "      <td>NaN</td>\n",
       "      <td>NaN</td>\n",
       "      <td>L</td>\n",
       "      <td>D.F.MEASDAY,ET.AL. (66)</td>\n",
       "      <td>0</td>\n",
       "      <td>1</td>\n",
       "      <td>1</td>\n",
       "      <td>G</td>\n",
       "      <td>L</td>\n",
       "      <td>0-NN-1(N,TOT),,SIG</td>\n",
       "      <td>NEUTRON TOTAL CROSS SECTIONS FOR NEUTRONS, PRO...</td>\n",
       "      <td>1966</td>\n",
       "      <td>D.F.Measday+</td>\n",
       "      <td>(1USAHRV)</td>\n",
       "      <td>19800804</td>\n",
       "      <td>Jour. Nuclear Physics Vol.85, p.142, 1966</td>\n",
       "      <td>TOT</td>\n",
       "    </tr>\n",
       "    <tr>\n",
       "      <th>1</th>\n",
       "      <td>1</td>\n",
       "      <td>G</td>\n",
       "      <td>3</td>\n",
       "      <td>1</td>\n",
       "      <td>98100000.0</td>\n",
       "      <td>981000.0</td>\n",
       "      <td>0.0291</td>\n",
       "      <td>0.001516</td>\n",
       "      <td>NaN</td>\n",
       "      <td>NaN</td>\n",
       "      <td>NaN</td>\n",
       "      <td>NaN</td>\n",
       "      <td>L</td>\n",
       "      <td>D.F.MEASDAY,ET.AL. (66)</td>\n",
       "      <td>0</td>\n",
       "      <td>1</td>\n",
       "      <td>1</td>\n",
       "      <td>G</td>\n",
       "      <td>L</td>\n",
       "      <td>0-NN-1(N,TOT),,SIG</td>\n",
       "      <td>NEUTRON TOTAL CROSS SECTIONS FOR NEUTRONS, PRO...</td>\n",
       "      <td>1966</td>\n",
       "      <td>D.F.Measday+</td>\n",
       "      <td>(1USAHRV)</td>\n",
       "      <td>19800804</td>\n",
       "      <td>Jour. Nuclear Physics Vol.85, p.142, 1966</td>\n",
       "      <td>TOT</td>\n",
       "    </tr>\n",
       "    <tr>\n",
       "      <th>2</th>\n",
       "      <td>1</td>\n",
       "      <td>G</td>\n",
       "      <td>3</td>\n",
       "      <td>1</td>\n",
       "      <td>110000000.0</td>\n",
       "      <td>1100000.0</td>\n",
       "      <td>0.0279</td>\n",
       "      <td>0.001415</td>\n",
       "      <td>NaN</td>\n",
       "      <td>NaN</td>\n",
       "      <td>NaN</td>\n",
       "      <td>NaN</td>\n",
       "      <td>L</td>\n",
       "      <td>D.F.MEASDAY,ET.AL. (66)</td>\n",
       "      <td>0</td>\n",
       "      <td>1</td>\n",
       "      <td>1</td>\n",
       "      <td>G</td>\n",
       "      <td>L</td>\n",
       "      <td>0-NN-1(N,TOT),,SIG</td>\n",
       "      <td>NEUTRON TOTAL CROSS SECTIONS FOR NEUTRONS, PRO...</td>\n",
       "      <td>1966</td>\n",
       "      <td>D.F.Measday+</td>\n",
       "      <td>(1USAHRV)</td>\n",
       "      <td>19800804</td>\n",
       "      <td>Jour. Nuclear Physics Vol.85, p.142, 1966</td>\n",
       "      <td>TOT</td>\n",
       "    </tr>\n",
       "    <tr>\n",
       "      <th>3</th>\n",
       "      <td>1</td>\n",
       "      <td>G</td>\n",
       "      <td>3</td>\n",
       "      <td>1</td>\n",
       "      <td>119600000.0</td>\n",
       "      <td>1196000.0</td>\n",
       "      <td>0.0264</td>\n",
       "      <td>0.001403</td>\n",
       "      <td>NaN</td>\n",
       "      <td>NaN</td>\n",
       "      <td>NaN</td>\n",
       "      <td>NaN</td>\n",
       "      <td>L</td>\n",
       "      <td>D.F.MEASDAY,ET.AL. (66)</td>\n",
       "      <td>0</td>\n",
       "      <td>1</td>\n",
       "      <td>1</td>\n",
       "      <td>G</td>\n",
       "      <td>L</td>\n",
       "      <td>0-NN-1(N,TOT),,SIG</td>\n",
       "      <td>NEUTRON TOTAL CROSS SECTIONS FOR NEUTRONS, PRO...</td>\n",
       "      <td>1966</td>\n",
       "      <td>D.F.Measday+</td>\n",
       "      <td>(1USAHRV)</td>\n",
       "      <td>19800804</td>\n",
       "      <td>Jour. Nuclear Physics Vol.85, p.142, 1966</td>\n",
       "      <td>TOT</td>\n",
       "    </tr>\n",
       "    <tr>\n",
       "      <th>4</th>\n",
       "      <td>1</td>\n",
       "      <td>G</td>\n",
       "      <td>3</td>\n",
       "      <td>1</td>\n",
       "      <td>129400000.0</td>\n",
       "      <td>1294000.0</td>\n",
       "      <td>0.0256</td>\n",
       "      <td>0.001397</td>\n",
       "      <td>NaN</td>\n",
       "      <td>NaN</td>\n",
       "      <td>NaN</td>\n",
       "      <td>NaN</td>\n",
       "      <td>L</td>\n",
       "      <td>D.F.MEASDAY,ET.AL. (66)</td>\n",
       "      <td>0</td>\n",
       "      <td>1</td>\n",
       "      <td>1</td>\n",
       "      <td>G</td>\n",
       "      <td>L</td>\n",
       "      <td>0-NN-1(N,TOT),,SIG</td>\n",
       "      <td>NEUTRON TOTAL CROSS SECTIONS FOR NEUTRONS, PRO...</td>\n",
       "      <td>1966</td>\n",
       "      <td>D.F.Measday+</td>\n",
       "      <td>(1USAHRV)</td>\n",
       "      <td>19800804</td>\n",
       "      <td>Jour. Nuclear Physics Vol.85, p.142, 1966</td>\n",
       "      <td>TOT</td>\n",
       "    </tr>\n",
       "  </tbody>\n",
       "</table>\n",
       "</div>"
      ],
      "text/plain": [
       "   Prj Target_Meta_State MF MT       Energy    dEnergy    Data     dData  \\\n",
       "0    1                 G  3  1   88200000.0   882000.0  0.0300  0.001523   \n",
       "1    1                 G  3  1   98100000.0   981000.0  0.0291  0.001516   \n",
       "2    1                 G  3  1  110000000.0  1100000.0  0.0279  0.001415   \n",
       "3    1                 G  3  1  119600000.0  1196000.0  0.0264  0.001403   \n",
       "4    1                 G  3  1  129400000.0  1294000.0  0.0256  0.001397   \n",
       "\n",
       "   Cos/LO  dCos/LO  ELV/HL  dELV/HL I78                        Refer  Z  M  N  \\\n",
       "0     NaN      NaN     NaN      NaN   L    D.F.MEASDAY,ET.AL. (66)    0  1  1   \n",
       "1     NaN      NaN     NaN      NaN   L    D.F.MEASDAY,ET.AL. (66)    0  1  1   \n",
       "2     NaN      NaN     NaN      NaN   L    D.F.MEASDAY,ET.AL. (66)    0  1  1   \n",
       "3     NaN      NaN     NaN      NaN   L    D.F.MEASDAY,ET.AL. (66)    0  1  1   \n",
       "4     NaN      NaN     NaN      NaN   L    D.F.MEASDAY,ET.AL. (66)    0  1  1   \n",
       "\n",
       "  Product_Meta_State Frame                Type  \\\n",
       "0                  G     L  0-NN-1(N,TOT),,SIG   \n",
       "1                  G     L  0-NN-1(N,TOT),,SIG   \n",
       "2                  G     L  0-NN-1(N,TOT),,SIG   \n",
       "3                  G     L  0-NN-1(N,TOT),,SIG   \n",
       "4                  G     L  0-NN-1(N,TOT),,SIG   \n",
       "\n",
       "                                               Title  Year        Author  \\\n",
       "0  NEUTRON TOTAL CROSS SECTIONS FOR NEUTRONS, PRO...  1966  D.F.Measday+   \n",
       "1  NEUTRON TOTAL CROSS SECTIONS FOR NEUTRONS, PRO...  1966  D.F.Measday+   \n",
       "2  NEUTRON TOTAL CROSS SECTIONS FOR NEUTRONS, PRO...  1966  D.F.Measday+   \n",
       "3  NEUTRON TOTAL CROSS SECTIONS FOR NEUTRONS, PRO...  1966  D.F.Measday+   \n",
       "4  NEUTRON TOTAL CROSS SECTIONS FOR NEUTRONS, PRO...  1966  D.F.Measday+   \n",
       "\n",
       "   Institute      Date                                  Reference  Out  \n",
       "0  (1USAHRV)  19800804  Jour. Nuclear Physics Vol.85, p.142, 1966  TOT  \n",
       "1  (1USAHRV)  19800804  Jour. Nuclear Physics Vol.85, p.142, 1966  TOT  \n",
       "2  (1USAHRV)  19800804  Jour. Nuclear Physics Vol.85, p.142, 1966  TOT  \n",
       "3  (1USAHRV)  19800804  Jour. Nuclear Physics Vol.85, p.142, 1966  TOT  \n",
       "4  (1USAHRV)  19800804  Jour. Nuclear Physics Vol.85, p.142, 1966  TOT  "
      ]
     },
     "execution_count": 24,
     "metadata": {},
     "output_type": "execute_result"
    }
   ],
   "source": [
    "df.head()"
   ]
  },
  {
   "cell_type": "markdown",
   "metadata": {},
   "source": [
    "Shape must be 6007126"
   ]
  },
  {
   "cell_type": "code",
   "execution_count": 25,
   "metadata": {},
   "outputs": [],
   "source": [
    "df.Title = df.Title.fillna(\"No Title\")\n",
    "df = df[df.N != -1]"
   ]
  },
  {
   "cell_type": "code",
   "execution_count": 26,
   "metadata": {},
   "outputs": [
    {
     "data": {
      "text/plain": [
       "(6002504, 27)"
      ]
     },
     "execution_count": 26,
     "metadata": {},
     "output_type": "execute_result"
    }
   ],
   "source": [
    "df.shape"
   ]
  },
  {
   "cell_type": "code",
   "execution_count": 92,
   "metadata": {},
   "outputs": [
    {
     "data": {
      "text/plain": [
       "(6002504, 27)"
      ]
     },
     "execution_count": 92,
     "metadata": {},
     "output_type": "execute_result"
    }
   ],
   "source": [
    "df.shape"
   ]
  },
  {
   "cell_type": "code",
   "execution_count": 37,
   "metadata": {},
   "outputs": [],
   "source": [
    "# Save Dataframe\n",
    "df.to_csv(\"../ML_Data/working_xs.csv\", index=False)"
   ]
  },
  {
   "cell_type": "markdown",
   "metadata": {},
   "source": [
    "# Merging EXFOR and AME Data"
   ]
  },
  {
   "cell_type": "code",
   "execution_count": 93,
   "metadata": {},
   "outputs": [],
   "source": [
    "df_workxs = pd.read_csv(\"../ML_Data/working_xs.csv\")"
   ]
  },
  {
   "cell_type": "code",
   "execution_count": 28,
   "metadata": {},
   "outputs": [
    {
     "data": {
      "text/plain": [
       "Index(['Prj', 'Target_Meta_State', 'MF', 'MT', 'Energy', 'dEnergy', 'Data',\n",
       "       'dData', 'Cos/LO', 'dCos/LO', 'ELV/HL', 'dELV/HL', 'I78', 'Refer', 'Z',\n",
       "       'M', 'N', 'Product_Meta_State', 'Frame', 'Type', 'Title', 'Year',\n",
       "       'Author', 'Institute', 'Date', 'Reference', 'Out'],\n",
       "      dtype='object')"
      ]
     },
     "execution_count": 28,
     "metadata": {},
     "output_type": "execute_result"
    }
   ],
   "source": [
    "df_workxs.columns"
   ]
  },
  {
   "cell_type": "code",
   "execution_count": 29,
   "metadata": {},
   "outputs": [
    {
     "data": {
      "text/html": [
       "<div>\n",
       "<style scoped>\n",
       "    .dataframe tbody tr th:only-of-type {\n",
       "        vertical-align: middle;\n",
       "    }\n",
       "\n",
       "    .dataframe tbody tr th {\n",
       "        vertical-align: top;\n",
       "    }\n",
       "\n",
       "    .dataframe thead th {\n",
       "        text-align: right;\n",
       "    }\n",
       "</style>\n",
       "<table border=\"1\" class=\"dataframe\">\n",
       "  <thead>\n",
       "    <tr style=\"text-align: right;\">\n",
       "      <th></th>\n",
       "      <th>Neutrons</th>\n",
       "      <th>Z</th>\n",
       "      <th>Mass_Number</th>\n",
       "      <th>EL</th>\n",
       "      <th>O</th>\n",
       "      <th>Mass_Excess</th>\n",
       "      <th>dMass_Excess</th>\n",
       "      <th>Binding_Energy</th>\n",
       "      <th>dBinding_Energy</th>\n",
       "      <th>B_Decay_Energy</th>\n",
       "      <th>dB_Decay_Energy</th>\n",
       "      <th>Atomic_Mass_Micro</th>\n",
       "      <th>dAtomic_Mass_Micro</th>\n",
       "      <th>S(2n)</th>\n",
       "      <th>dS(2n)</th>\n",
       "      <th>S(2p)</th>\n",
       "      <th>dS(2p)</th>\n",
       "      <th>Q(a)</th>\n",
       "      <th>dQ(a)</th>\n",
       "      <th>Q(2B-)</th>\n",
       "      <th>dQ(2B-)</th>\n",
       "      <th>Q(ep)</th>\n",
       "      <th>dQ(ep)</th>\n",
       "      <th>Q(B-n)</th>\n",
       "      <th>dQ(B-n)</th>\n",
       "      <th>S(n)</th>\n",
       "      <th>dS(n)</th>\n",
       "      <th>S(p)</th>\n",
       "      <th>dS(p)</th>\n",
       "      <th>Q(4B-)</th>\n",
       "      <th>dQ(4B-)</th>\n",
       "      <th>Q(d,a)</th>\n",
       "      <th>dQ(d,a)</th>\n",
       "      <th>Q(p,a)</th>\n",
       "      <th>dQ(p,a)</th>\n",
       "      <th>Q(n,a)</th>\n",
       "      <th>dQ(n,a)</th>\n",
       "      <th>Q(g,p)</th>\n",
       "      <th>Q(g,n)</th>\n",
       "      <th>Q(g,pn)</th>\n",
       "      <th>Q(g,d)</th>\n",
       "      <th>Q(g,t)</th>\n",
       "      <th>Q(g,He3)</th>\n",
       "      <th>Q(g,2p)</th>\n",
       "      <th>Q(g,2n)</th>\n",
       "      <th>Q(g,a)</th>\n",
       "      <th>Q(p,n)</th>\n",
       "      <th>Q(p,2p)</th>\n",
       "      <th>Q(p,pn)</th>\n",
       "      <th>Q(p,d)</th>\n",
       "      <th>Q(p,2n)</th>\n",
       "      <th>Q(p,t)</th>\n",
       "      <th>Q(p,3He)</th>\n",
       "      <th>Q(n,2p)</th>\n",
       "      <th>Q(n,np)</th>\n",
       "      <th>Q(n,d)</th>\n",
       "      <th>Q(n,2n)</th>\n",
       "      <th>Q(n,t)</th>\n",
       "      <th>Q(n,3He)</th>\n",
       "      <th>Q(d,t)</th>\n",
       "      <th>Q(d,3He)</th>\n",
       "      <th>Q(3He,t)</th>\n",
       "      <th>Q(3He,a)</th>\n",
       "      <th>Q(t,a)</th>\n",
       "      <th>N</th>\n",
       "      <th>M</th>\n",
       "      <th>Flag</th>\n",
       "    </tr>\n",
       "  </thead>\n",
       "  <tbody>\n",
       "    <tr>\n",
       "      <th>0</th>\n",
       "      <td>1</td>\n",
       "      <td>0</td>\n",
       "      <td>1</td>\n",
       "      <td>n</td>\n",
       "      <td>Other</td>\n",
       "      <td>8071.31713</td>\n",
       "      <td>0.00046</td>\n",
       "      <td>0.000</td>\n",
       "      <td>0.0</td>\n",
       "      <td>782.347</td>\n",
       "      <td>0.0000</td>\n",
       "      <td>1.008665e+06</td>\n",
       "      <td>0.00049</td>\n",
       "      <td>0.000</td>\n",
       "      <td>0.000</td>\n",
       "      <td>0.00</td>\n",
       "      <td>0.0</td>\n",
       "      <td>0.0</td>\n",
       "      <td>0.0</td>\n",
       "      <td>0.000</td>\n",
       "      <td>0.000000</td>\n",
       "      <td>0.0</td>\n",
       "      <td>0.0</td>\n",
       "      <td>0.000000</td>\n",
       "      <td>0.000000</td>\n",
       "      <td>0.000000</td>\n",
       "      <td>0.000000</td>\n",
       "      <td>0.000</td>\n",
       "      <td>0.0</td>\n",
       "      <td>0.00</td>\n",
       "      <td>0.000000</td>\n",
       "      <td>0.000</td>\n",
       "      <td>0.0</td>\n",
       "      <td>0.000000</td>\n",
       "      <td>0.000000</td>\n",
       "      <td>0.00</td>\n",
       "      <td>0.0</td>\n",
       "      <td>0.000</td>\n",
       "      <td>-0.000000</td>\n",
       "      <td>0.0000</td>\n",
       "      <td>0.0000</td>\n",
       "      <td>0.000000</td>\n",
       "      <td>0.0000</td>\n",
       "      <td>0.00</td>\n",
       "      <td>0.000</td>\n",
       "      <td>0.0</td>\n",
       "      <td>0.0005</td>\n",
       "      <td>0.000</td>\n",
       "      <td>-0.000000</td>\n",
       "      <td>2224.566000</td>\n",
       "      <td>0.000000</td>\n",
       "      <td>0.0000</td>\n",
       "      <td>0.0000</td>\n",
       "      <td>0.0</td>\n",
       "      <td>0.000</td>\n",
       "      <td>0.000</td>\n",
       "      <td>-0.000000</td>\n",
       "      <td>0.0000</td>\n",
       "      <td>0.0000</td>\n",
       "      <td>6257.229000</td>\n",
       "      <td>0.0000</td>\n",
       "      <td>763.755</td>\n",
       "      <td>20577.619400</td>\n",
       "      <td>0.0000</td>\n",
       "      <td>1</td>\n",
       "      <td>1</td>\n",
       "      <td>I</td>\n",
       "    </tr>\n",
       "    <tr>\n",
       "      <th>1</th>\n",
       "      <td>0</td>\n",
       "      <td>1</td>\n",
       "      <td>1</td>\n",
       "      <td>H</td>\n",
       "      <td>Other</td>\n",
       "      <td>7288.97061</td>\n",
       "      <td>0.00009</td>\n",
       "      <td>0.000</td>\n",
       "      <td>0.0</td>\n",
       "      <td>18244.328</td>\n",
       "      <td>289.9558</td>\n",
       "      <td>1.007825e+06</td>\n",
       "      <td>0.00009</td>\n",
       "      <td>2025.412</td>\n",
       "      <td>292.506</td>\n",
       "      <td>0.00</td>\n",
       "      <td>0.0</td>\n",
       "      <td>0.0</td>\n",
       "      <td>0.0</td>\n",
       "      <td>13762.268</td>\n",
       "      <td>719.024000</td>\n",
       "      <td>0.0</td>\n",
       "      <td>0.0</td>\n",
       "      <td>17514.992500</td>\n",
       "      <td>362.087500</td>\n",
       "      <td>1096.973333</td>\n",
       "      <td>256.595000</td>\n",
       "      <td>0.000</td>\n",
       "      <td>0.0</td>\n",
       "      <td>8007.50</td>\n",
       "      <td>1511.500000</td>\n",
       "      <td>20717.915</td>\n",
       "      <td>0.0</td>\n",
       "      <td>20613.860000</td>\n",
       "      <td>50.000000</td>\n",
       "      <td>0.00</td>\n",
       "      <td>0.0</td>\n",
       "      <td>-0.000</td>\n",
       "      <td>-1096.973333</td>\n",
       "      <td>-5353.1789</td>\n",
       "      <td>-3128.6129</td>\n",
       "      <td>799.995100</td>\n",
       "      <td>0.0000</td>\n",
       "      <td>0.00</td>\n",
       "      <td>-2025.412</td>\n",
       "      <td>0.0</td>\n",
       "      <td>17461.9815</td>\n",
       "      <td>-0.000</td>\n",
       "      <td>-1096.973333</td>\n",
       "      <td>1127.592667</td>\n",
       "      <td>16732.646000</td>\n",
       "      <td>6456.3829</td>\n",
       "      <td>2364.8615</td>\n",
       "      <td>0.0</td>\n",
       "      <td>-0.000</td>\n",
       "      <td>2224.566</td>\n",
       "      <td>-1096.973333</td>\n",
       "      <td>3128.6161</td>\n",
       "      <td>0.0000</td>\n",
       "      <td>5160.255667</td>\n",
       "      <td>5493.4744</td>\n",
       "      <td>18225.736</td>\n",
       "      <td>19480.646067</td>\n",
       "      <td>19813.8649</td>\n",
       "      <td>0</td>\n",
       "      <td>1</td>\n",
       "      <td>I</td>\n",
       "    </tr>\n",
       "    <tr>\n",
       "      <th>2</th>\n",
       "      <td>1</td>\n",
       "      <td>1</td>\n",
       "      <td>2</td>\n",
       "      <td>H</td>\n",
       "      <td>Other</td>\n",
       "      <td>13135.72176</td>\n",
       "      <td>0.00011</td>\n",
       "      <td>1112.283</td>\n",
       "      <td>0.0</td>\n",
       "      <td>18244.328</td>\n",
       "      <td>289.9558</td>\n",
       "      <td>2.014102e+06</td>\n",
       "      <td>0.00012</td>\n",
       "      <td>2025.412</td>\n",
       "      <td>292.506</td>\n",
       "      <td>0.00</td>\n",
       "      <td>0.0</td>\n",
       "      <td>0.0</td>\n",
       "      <td>0.0</td>\n",
       "      <td>13762.268</td>\n",
       "      <td>719.024000</td>\n",
       "      <td>0.0</td>\n",
       "      <td>0.0</td>\n",
       "      <td>17514.992500</td>\n",
       "      <td>362.087500</td>\n",
       "      <td>2224.570000</td>\n",
       "      <td>0.000000</td>\n",
       "      <td>2224.570</td>\n",
       "      <td>0.0</td>\n",
       "      <td>8007.50</td>\n",
       "      <td>1511.500000</td>\n",
       "      <td>23846.530</td>\n",
       "      <td>0.0</td>\n",
       "      <td>20613.860000</td>\n",
       "      <td>50.000000</td>\n",
       "      <td>0.00</td>\n",
       "      <td>0.0</td>\n",
       "      <td>-2224.570</td>\n",
       "      <td>-2224.570000</td>\n",
       "      <td>-2224.5639</td>\n",
       "      <td>0.0021</td>\n",
       "      <td>799.995100</td>\n",
       "      <td>0.0000</td>\n",
       "      <td>0.00</td>\n",
       "      <td>-2025.412</td>\n",
       "      <td>0.0</td>\n",
       "      <td>17461.9815</td>\n",
       "      <td>-2224.570</td>\n",
       "      <td>-2224.570000</td>\n",
       "      <td>-0.004000</td>\n",
       "      <td>16732.646000</td>\n",
       "      <td>6456.3829</td>\n",
       "      <td>5493.4765</td>\n",
       "      <td>0.0</td>\n",
       "      <td>-2224.570</td>\n",
       "      <td>-0.004</td>\n",
       "      <td>-2224.570000</td>\n",
       "      <td>6257.2311</td>\n",
       "      <td>0.0000</td>\n",
       "      <td>4032.659000</td>\n",
       "      <td>3268.9044</td>\n",
       "      <td>18225.736</td>\n",
       "      <td>18353.049400</td>\n",
       "      <td>17589.2949</td>\n",
       "      <td>1</td>\n",
       "      <td>2</td>\n",
       "      <td>I</td>\n",
       "    </tr>\n",
       "    <tr>\n",
       "      <th>3</th>\n",
       "      <td>2</td>\n",
       "      <td>1</td>\n",
       "      <td>3</td>\n",
       "      <td>H</td>\n",
       "      <td>Other</td>\n",
       "      <td>14949.80993</td>\n",
       "      <td>0.00022</td>\n",
       "      <td>2827.265</td>\n",
       "      <td>0.0</td>\n",
       "      <td>18.592</td>\n",
       "      <td>0.0000</td>\n",
       "      <td>3.016049e+06</td>\n",
       "      <td>0.00023</td>\n",
       "      <td>8481.790</td>\n",
       "      <td>0.000</td>\n",
       "      <td>0.00</td>\n",
       "      <td>0.0</td>\n",
       "      <td>0.0</td>\n",
       "      <td>0.0</td>\n",
       "      <td>-13717.000</td>\n",
       "      <td>2000.000000</td>\n",
       "      <td>0.0</td>\n",
       "      <td>0.0</td>\n",
       "      <td>17514.992500</td>\n",
       "      <td>362.087500</td>\n",
       "      <td>6257.230000</td>\n",
       "      <td>0.000000</td>\n",
       "      <td>1112.285</td>\n",
       "      <td>0.0</td>\n",
       "      <td>8007.50</td>\n",
       "      <td>1511.500000</td>\n",
       "      <td>17589.300</td>\n",
       "      <td>0.0</td>\n",
       "      <td>19813.860000</td>\n",
       "      <td>0.000000</td>\n",
       "      <td>0.00</td>\n",
       "      <td>0.0</td>\n",
       "      <td>-1112.285</td>\n",
       "      <td>-6257.230000</td>\n",
       "      <td>-8481.7939</td>\n",
       "      <td>-6257.2279</td>\n",
       "      <td>-0.004900</td>\n",
       "      <td>0.0000</td>\n",
       "      <td>0.00</td>\n",
       "      <td>-8481.790</td>\n",
       "      <td>0.0</td>\n",
       "      <td>-763.7545</td>\n",
       "      <td>-1112.285</td>\n",
       "      <td>-6257.230000</td>\n",
       "      <td>-4032.664000</td>\n",
       "      <td>16732.646000</td>\n",
       "      <td>0.0049</td>\n",
       "      <td>-763.7535</td>\n",
       "      <td>0.0</td>\n",
       "      <td>-1112.285</td>\n",
       "      <td>1112.281</td>\n",
       "      <td>-6257.230000</td>\n",
       "      <td>0.0011</td>\n",
       "      <td>0.0000</td>\n",
       "      <td>-0.001000</td>\n",
       "      <td>4381.1894</td>\n",
       "      <td>0.000</td>\n",
       "      <td>14320.389400</td>\n",
       "      <td>18701.5799</td>\n",
       "      <td>2</td>\n",
       "      <td>3</td>\n",
       "      <td>I</td>\n",
       "    </tr>\n",
       "    <tr>\n",
       "      <th>4</th>\n",
       "      <td>1</td>\n",
       "      <td>2</td>\n",
       "      <td>3</td>\n",
       "      <td>He</td>\n",
       "      <td>Other</td>\n",
       "      <td>14931.21793</td>\n",
       "      <td>0.00021</td>\n",
       "      <td>2572.680</td>\n",
       "      <td>0.0</td>\n",
       "      <td>-13736.000</td>\n",
       "      <td>2000.0000</td>\n",
       "      <td>3.016029e+06</td>\n",
       "      <td>0.00022</td>\n",
       "      <td>4013.160</td>\n",
       "      <td>30.300</td>\n",
       "      <td>7718.04</td>\n",
       "      <td>0.0</td>\n",
       "      <td>367.5</td>\n",
       "      <td>10.0</td>\n",
       "      <td>12743.205</td>\n",
       "      <td>359.296667</td>\n",
       "      <td>0.0</td>\n",
       "      <td>0.0</td>\n",
       "      <td>-2571.224286</td>\n",
       "      <td>344.341429</td>\n",
       "      <td>3176.184286</td>\n",
       "      <td>29.417143</td>\n",
       "      <td>5493.470</td>\n",
       "      <td>0.0</td>\n",
       "      <td>14022.91</td>\n",
       "      <td>52.653333</td>\n",
       "      <td>18353.050</td>\n",
       "      <td>0.0</td>\n",
       "      <td>4173.344286</td>\n",
       "      <td>210.882857</td>\n",
       "      <td>20577.62</td>\n",
       "      <td>0.0</td>\n",
       "      <td>-5493.470</td>\n",
       "      <td>-3176.184286</td>\n",
       "      <td>-7718.0439</td>\n",
       "      <td>-5493.4779</td>\n",
       "      <td>-15640.520614</td>\n",
       "      <td>0.0006</td>\n",
       "      <td>-7718.04</td>\n",
       "      <td>-4013.160</td>\n",
       "      <td>367.5</td>\n",
       "      <td>-14518.3465</td>\n",
       "      <td>-5493.470</td>\n",
       "      <td>-3176.184286</td>\n",
       "      <td>-951.618286</td>\n",
       "      <td>-3353.570786</td>\n",
       "      <td>4468.6349</td>\n",
       "      <td>-0.0035</td>\n",
       "      <td>0.0</td>\n",
       "      <td>-5493.470</td>\n",
       "      <td>-3268.904</td>\n",
       "      <td>-3176.184286</td>\n",
       "      <td>763.7511</td>\n",
       "      <td>0.0004</td>\n",
       "      <td>3081.044714</td>\n",
       "      <td>0.0044</td>\n",
       "      <td>-13754.592</td>\n",
       "      <td>17401.435114</td>\n",
       "      <td>14320.3949</td>\n",
       "      <td>1</td>\n",
       "      <td>3</td>\n",
       "      <td>I</td>\n",
       "    </tr>\n",
       "  </tbody>\n",
       "</table>\n",
       "</div>"
      ],
      "text/plain": [
       "   Neutrons  Z  Mass_Number  EL      O  Mass_Excess  dMass_Excess  \\\n",
       "0         1  0            1   n  Other   8071.31713       0.00046   \n",
       "1         0  1            1   H  Other   7288.97061       0.00009   \n",
       "2         1  1            2   H  Other  13135.72176       0.00011   \n",
       "3         2  1            3   H  Other  14949.80993       0.00022   \n",
       "4         1  2            3  He  Other  14931.21793       0.00021   \n",
       "\n",
       "   Binding_Energy  dBinding_Energy  B_Decay_Energy  dB_Decay_Energy  \\\n",
       "0           0.000              0.0         782.347           0.0000   \n",
       "1           0.000              0.0       18244.328         289.9558   \n",
       "2        1112.283              0.0       18244.328         289.9558   \n",
       "3        2827.265              0.0          18.592           0.0000   \n",
       "4        2572.680              0.0      -13736.000        2000.0000   \n",
       "\n",
       "   Atomic_Mass_Micro  dAtomic_Mass_Micro     S(2n)   dS(2n)    S(2p)  dS(2p)  \\\n",
       "0       1.008665e+06             0.00049     0.000    0.000     0.00     0.0   \n",
       "1       1.007825e+06             0.00009  2025.412  292.506     0.00     0.0   \n",
       "2       2.014102e+06             0.00012  2025.412  292.506     0.00     0.0   \n",
       "3       3.016049e+06             0.00023  8481.790    0.000     0.00     0.0   \n",
       "4       3.016029e+06             0.00022  4013.160   30.300  7718.04     0.0   \n",
       "\n",
       "    Q(a)  dQ(a)     Q(2B-)      dQ(2B-)  Q(ep)  dQ(ep)        Q(B-n)  \\\n",
       "0    0.0    0.0      0.000     0.000000    0.0     0.0      0.000000   \n",
       "1    0.0    0.0  13762.268   719.024000    0.0     0.0  17514.992500   \n",
       "2    0.0    0.0  13762.268   719.024000    0.0     0.0  17514.992500   \n",
       "3    0.0    0.0 -13717.000  2000.000000    0.0     0.0  17514.992500   \n",
       "4  367.5   10.0  12743.205   359.296667    0.0     0.0  -2571.224286   \n",
       "\n",
       "      dQ(B-n)         S(n)       dS(n)      S(p)  dS(p)    Q(4B-)  \\\n",
       "0    0.000000     0.000000    0.000000     0.000    0.0      0.00   \n",
       "1  362.087500  1096.973333  256.595000     0.000    0.0   8007.50   \n",
       "2  362.087500  2224.570000    0.000000  2224.570    0.0   8007.50   \n",
       "3  362.087500  6257.230000    0.000000  1112.285    0.0   8007.50   \n",
       "4  344.341429  3176.184286   29.417143  5493.470    0.0  14022.91   \n",
       "\n",
       "       dQ(4B-)     Q(d,a)  dQ(d,a)        Q(p,a)     dQ(p,a)    Q(n,a)  \\\n",
       "0     0.000000      0.000      0.0      0.000000    0.000000      0.00   \n",
       "1  1511.500000  20717.915      0.0  20613.860000   50.000000      0.00   \n",
       "2  1511.500000  23846.530      0.0  20613.860000   50.000000      0.00   \n",
       "3  1511.500000  17589.300      0.0  19813.860000    0.000000      0.00   \n",
       "4    52.653333  18353.050      0.0   4173.344286  210.882857  20577.62   \n",
       "\n",
       "   dQ(n,a)    Q(g,p)       Q(g,n)    Q(g,pn)     Q(g,d)        Q(g,t)  \\\n",
       "0      0.0     0.000    -0.000000     0.0000     0.0000      0.000000   \n",
       "1      0.0    -0.000 -1096.973333 -5353.1789 -3128.6129    799.995100   \n",
       "2      0.0 -2224.570 -2224.570000 -2224.5639     0.0021    799.995100   \n",
       "3      0.0 -1112.285 -6257.230000 -8481.7939 -6257.2279     -0.004900   \n",
       "4      0.0 -5493.470 -3176.184286 -7718.0439 -5493.4779 -15640.520614   \n",
       "\n",
       "   Q(g,He3)  Q(g,2p)   Q(g,2n)  Q(g,a)      Q(p,n)   Q(p,2p)      Q(p,pn)  \\\n",
       "0    0.0000     0.00     0.000     0.0      0.0005     0.000    -0.000000   \n",
       "1    0.0000     0.00 -2025.412     0.0  17461.9815    -0.000 -1096.973333   \n",
       "2    0.0000     0.00 -2025.412     0.0  17461.9815 -2224.570 -2224.570000   \n",
       "3    0.0000     0.00 -8481.790     0.0   -763.7545 -1112.285 -6257.230000   \n",
       "4    0.0006 -7718.04 -4013.160   367.5 -14518.3465 -5493.470 -3176.184286   \n",
       "\n",
       "        Q(p,d)       Q(p,2n)     Q(p,t)   Q(p,3He)  Q(n,2p)   Q(n,np)  \\\n",
       "0  2224.566000      0.000000     0.0000     0.0000      0.0     0.000   \n",
       "1  1127.592667  16732.646000  6456.3829  2364.8615      0.0    -0.000   \n",
       "2    -0.004000  16732.646000  6456.3829  5493.4765      0.0 -2224.570   \n",
       "3 -4032.664000  16732.646000     0.0049  -763.7535      0.0 -1112.285   \n",
       "4  -951.618286  -3353.570786  4468.6349    -0.0035      0.0 -5493.470   \n",
       "\n",
       "     Q(n,d)      Q(n,2n)     Q(n,t)  Q(n,3He)       Q(d,t)   Q(d,3He)  \\\n",
       "0     0.000    -0.000000     0.0000    0.0000  6257.229000     0.0000   \n",
       "1  2224.566 -1096.973333  3128.6161    0.0000  5160.255667  5493.4744   \n",
       "2    -0.004 -2224.570000  6257.2311    0.0000  4032.659000  3268.9044   \n",
       "3  1112.281 -6257.230000     0.0011    0.0000    -0.001000  4381.1894   \n",
       "4 -3268.904 -3176.184286   763.7511    0.0004  3081.044714     0.0044   \n",
       "\n",
       "    Q(3He,t)      Q(3He,a)      Q(t,a)  N  M Flag  \n",
       "0    763.755  20577.619400      0.0000  1  1    I  \n",
       "1  18225.736  19480.646067  19813.8649  0  1    I  \n",
       "2  18225.736  18353.049400  17589.2949  1  2    I  \n",
       "3      0.000  14320.389400  18701.5799  2  3    I  \n",
       "4 -13754.592  17401.435114  14320.3949  1  3    I  "
      ]
     },
     "execution_count": 29,
     "metadata": {},
     "output_type": "execute_result"
    }
   ],
   "source": [
    "masses = pd.read_csv(\"./AME_Files/AME_Isotopic_Properties.csv\").rename(\n",
    "    columns={'N': 'Neutrons', 'A': 'Mass_Number', 'Neutrons':'N', 'Mass_Number':'M'})\n",
    "masses.head()"
   ]
  },
  {
   "cell_type": "code",
   "execution_count": 34,
   "metadata": {},
   "outputs": [],
   "source": [
    "df_workxs = df_workxs.reset_index(drop=True)\n",
    "masses = masses.reset_index(drop=True)"
   ]
  },
  {
   "cell_type": "code",
   "execution_count": 35,
   "metadata": {},
   "outputs": [
    {
     "data": {
      "text/plain": [
       "(6002504, 27)"
      ]
     },
     "execution_count": 35,
     "metadata": {},
     "output_type": "execute_result"
    }
   ],
   "source": [
    "df_workxs.shape"
   ]
  },
  {
   "cell_type": "code",
   "execution_count": 36,
   "metadata": {},
   "outputs": [],
   "source": [
    "df = df_workxs.merge(masses, on=['N', 'Z'], how='left')"
   ]
  },
  {
   "cell_type": "code",
   "execution_count": 37,
   "metadata": {},
   "outputs": [
    {
     "data": {
      "text/plain": [
       "(6002504, 92)"
      ]
     },
     "execution_count": 37,
     "metadata": {},
     "output_type": "execute_result"
    }
   ],
   "source": [
    "df.shape"
   ]
  },
  {
   "cell_type": "markdown",
   "metadata": {},
   "source": [
    "# Neutron Induced Cross Section vs Energy Data \n",
    "\n",
    "MF are ENDF labels and are used to store different types of data:\n",
    "\n",
    "- MF=1 contains descriptive and miscellaneous data,\n",
    "- MF=2 contains resonance parameter data,\n",
    "- MF=3 contains reaction cross sections vs energy,\n",
    "- MF=4 contains angular distributions,\n",
    "- MF=5 contains energy distributions,\n",
    "- MF=6 contains energy-angle distributions,\n",
    "- MF=7 contains thermal scattering data,\n",
    "- MF=8 contains radioactivity data\n",
    "- MF=9-10 contain nuclide production data,\n",
    "- MF=12-15 contain photon production data, and\n",
    "- MF=30-36 contain covariance data."
   ]
  },
  {
   "cell_type": "code",
   "execution_count": 38,
   "metadata": {},
   "outputs": [],
   "source": [
    "df.MF = df.MF.astype(str)\n",
    "df.MT = df.MT.astype(str)"
   ]
  },
  {
   "cell_type": "code",
   "execution_count": 39,
   "metadata": {},
   "outputs": [],
   "source": [
    "df = df[df[\"MF\"] == \"3\"]\n",
    "df = df[df[\"MT\"] < \"999\"] # Cross Section Ratios"
   ]
  },
  {
   "cell_type": "code",
   "execution_count": 40,
   "metadata": {},
   "outputs": [
    {
     "data": {
      "text/plain": [
       "(4642144, 92)"
      ]
     },
     "execution_count": 40,
     "metadata": {},
     "output_type": "execute_result"
    }
   ],
   "source": [
    "df.shape"
   ]
  },
  {
   "cell_type": "code",
   "execution_count": 41,
   "metadata": {},
   "outputs": [
    {
     "data": {
      "text/plain": [
       "Index(['Prj', 'Target_Meta_State', 'MF', 'MT', 'Energy', 'dEnergy', 'Data',\n",
       "       'dData', 'Cos/LO', 'dCos/LO', 'ELV/HL', 'dELV/HL', 'I78', 'Refer', 'Z',\n",
       "       'M_x', 'N', 'Product_Meta_State', 'Frame', 'Type', 'Title', 'Year',\n",
       "       'Author', 'Institute', 'Date', 'Reference', 'Out', 'Neutrons',\n",
       "       'Mass_Number', 'EL', 'O', 'Mass_Excess', 'dMass_Excess',\n",
       "       'Binding_Energy', 'dBinding_Energy', 'B_Decay_Energy',\n",
       "       'dB_Decay_Energy', 'Atomic_Mass_Micro', 'dAtomic_Mass_Micro', 'S(2n)',\n",
       "       'dS(2n)', 'S(2p)', 'dS(2p)', 'Q(a)', 'dQ(a)', 'Q(2B-)', 'dQ(2B-)',\n",
       "       'Q(ep)', 'dQ(ep)', 'Q(B-n)', 'dQ(B-n)', 'S(n)', 'dS(n)', 'S(p)',\n",
       "       'dS(p)', 'Q(4B-)', 'dQ(4B-)', 'Q(d,a)', 'dQ(d,a)', 'Q(p,a)', 'dQ(p,a)',\n",
       "       'Q(n,a)', 'dQ(n,a)', 'Q(g,p)', 'Q(g,n)', 'Q(g,pn)', 'Q(g,d)', 'Q(g,t)',\n",
       "       'Q(g,He3)', 'Q(g,2p)', 'Q(g,2n)', 'Q(g,a)', 'Q(p,n)', 'Q(p,2p)',\n",
       "       'Q(p,pn)', 'Q(p,d)', 'Q(p,2n)', 'Q(p,t)', 'Q(p,3He)', 'Q(n,2p)',\n",
       "       'Q(n,np)', 'Q(n,d)', 'Q(n,2n)', 'Q(n,t)', 'Q(n,3He)', 'Q(d,t)',\n",
       "       'Q(d,3He)', 'Q(3He,t)', 'Q(3He,a)', 'Q(t,a)', 'M_y', 'Flag'],\n",
       "      dtype='object')"
      ]
     },
     "execution_count": 41,
     "metadata": {},
     "output_type": "execute_result"
    }
   ],
   "source": [
    "df.columns"
   ]
  },
  {
   "cell_type": "code",
   "execution_count": 42,
   "metadata": {},
   "outputs": [],
   "source": [
    "columns_drop = [\"MF\", \"Cos/LO\", \"dCos/LO\", \"Prj\", \"M_x\", \"M_y\", \"N\"]\n",
    "df = df.drop(columns=columns_drop)"
   ]
  },
  {
   "cell_type": "code",
   "execution_count": 43,
   "metadata": {},
   "outputs": [],
   "source": [
    "df[\"O\"].fillna(value=\"Other\", inplace=True)\n",
    "df[\"Title\"].fillna(value=\"No Title\", inplace=True)"
   ]
  },
  {
   "cell_type": "code",
   "execution_count": 44,
   "metadata": {},
   "outputs": [],
   "source": [
    "df = df[~df.Neutrons.isna()]"
   ]
  },
  {
   "cell_type": "code",
   "execution_count": 45,
   "metadata": {},
   "outputs": [],
   "source": [
    "df[\"Neutrons\"] = df[\"Neutrons\"].astype(int)\n",
    "df[\"Mass_Number\"] = df[\"Mass_Number\"].astype(int)"
   ]
  },
  {
   "cell_type": "code",
   "execution_count": 46,
   "metadata": {},
   "outputs": [],
   "source": [
    "df[\"Reference\"] = df[\"Author\"] + \" \" + df[\"Reference\"]\n",
    "df = df.drop(columns=[\"Refer\", \"Author\"])"
   ]
  },
  {
   "cell_type": "code",
   "execution_count": 47,
   "metadata": {},
   "outputs": [],
   "source": [
    "df = df.rename(columns={\"Z\":\"Protons\", \"EL\":\"Element\", \"O\":\"Origin\", \"Type\":\"Reaction_Notation\"})"
   ]
  },
  {
   "cell_type": "code",
   "execution_count": 48,
   "metadata": {},
   "outputs": [
    {
     "data": {
      "text/plain": [
       "Index(['Target_Meta_State', 'MT', 'Energy', 'dEnergy', 'Data', 'dData',\n",
       "       'ELV/HL', 'dELV/HL', 'I78', 'Protons', 'Product_Meta_State', 'Frame',\n",
       "       'Reaction_Notation', 'Title', 'Year', 'Institute', 'Date', 'Reference',\n",
       "       'Out', 'Neutrons', 'Mass_Number', 'Element', 'Origin', 'Mass_Excess',\n",
       "       'dMass_Excess', 'Binding_Energy', 'dBinding_Energy', 'B_Decay_Energy',\n",
       "       'dB_Decay_Energy', 'Atomic_Mass_Micro', 'dAtomic_Mass_Micro', 'S(2n)',\n",
       "       'dS(2n)', 'S(2p)', 'dS(2p)', 'Q(a)', 'dQ(a)', 'Q(2B-)', 'dQ(2B-)',\n",
       "       'Q(ep)', 'dQ(ep)', 'Q(B-n)', 'dQ(B-n)', 'S(n)', 'dS(n)', 'S(p)',\n",
       "       'dS(p)', 'Q(4B-)', 'dQ(4B-)', 'Q(d,a)', 'dQ(d,a)', 'Q(p,a)', 'dQ(p,a)',\n",
       "       'Q(n,a)', 'dQ(n,a)', 'Q(g,p)', 'Q(g,n)', 'Q(g,pn)', 'Q(g,d)', 'Q(g,t)',\n",
       "       'Q(g,He3)', 'Q(g,2p)', 'Q(g,2n)', 'Q(g,a)', 'Q(p,n)', 'Q(p,2p)',\n",
       "       'Q(p,pn)', 'Q(p,d)', 'Q(p,2n)', 'Q(p,t)', 'Q(p,3He)', 'Q(n,2p)',\n",
       "       'Q(n,np)', 'Q(n,d)', 'Q(n,2n)', 'Q(n,t)', 'Q(n,3He)', 'Q(d,t)',\n",
       "       'Q(d,3He)', 'Q(3He,t)', 'Q(3He,a)', 'Q(t,a)', 'Flag'],\n",
       "      dtype='object')"
      ]
     },
     "execution_count": 48,
     "metadata": {},
     "output_type": "execute_result"
    }
   ],
   "source": [
    "df.columns"
   ]
  },
  {
   "cell_type": "code",
   "execution_count": 49,
   "metadata": {},
   "outputs": [],
   "source": [
    "# Assuming Unknown values are ground state\n",
    "df[\"Product_Meta_State\"] = df[\"Product_Meta_State\"].astype(str)\n",
    "df[\"Product_Meta_State\"] = df[\"Product_Meta_State\"].replace(to_replace=\"?\", value=\"G\")"
   ]
  },
  {
   "cell_type": "code",
   "execution_count": 50,
   "metadata": {},
   "outputs": [],
   "source": [
    "df[\"Element_w_A\"] = df[\"Mass_Number\"].astype(str) + df.Element"
   ]
  },
  {
   "cell_type": "markdown",
   "metadata": {},
   "source": [
    "# Uncertainty Missing Values\n",
    "\n",
    "The uncertainty is not given for every experiment. Missing values happen when they are not specified in the entries and are given in the respective paper, or are simply not given. In any case, it will be very tidius to go one by one finding uncertanties. For this, we take the mean of the current uncertanties and fill missing values using the mean uncertantity multiply times the energy values. \n",
    "\n",
    "**it would be better to assign mean uncertainty per facility, per author, or per dataset**"
   ]
  },
  {
   "cell_type": "code",
   "execution_count": 51,
   "metadata": {},
   "outputs": [
    {
     "data": {
      "text/plain": [
       "Index(['Target_Meta_State', 'MT', 'Energy', 'dEnergy', 'Data', 'dData',\n",
       "       'ELV/HL', 'dELV/HL', 'I78', 'Protons', 'Product_Meta_State', 'Frame',\n",
       "       'Reaction_Notation', 'Title', 'Year', 'Institute', 'Date', 'Reference',\n",
       "       'Out', 'Neutrons', 'Mass_Number', 'Element', 'Origin', 'Mass_Excess',\n",
       "       'dMass_Excess', 'Binding_Energy', 'dBinding_Energy', 'B_Decay_Energy',\n",
       "       'dB_Decay_Energy', 'Atomic_Mass_Micro', 'dAtomic_Mass_Micro', 'S(2n)',\n",
       "       'dS(2n)', 'S(2p)', 'dS(2p)', 'Q(a)', 'dQ(a)', 'Q(2B-)', 'dQ(2B-)',\n",
       "       'Q(ep)', 'dQ(ep)', 'Q(B-n)', 'dQ(B-n)', 'S(n)', 'dS(n)', 'S(p)',\n",
       "       'dS(p)', 'Q(4B-)', 'dQ(4B-)', 'Q(d,a)', 'dQ(d,a)', 'Q(p,a)', 'dQ(p,a)',\n",
       "       'Q(n,a)', 'dQ(n,a)', 'Q(g,p)', 'Q(g,n)', 'Q(g,pn)', 'Q(g,d)', 'Q(g,t)',\n",
       "       'Q(g,He3)', 'Q(g,2p)', 'Q(g,2n)', 'Q(g,a)', 'Q(p,n)', 'Q(p,2p)',\n",
       "       'Q(p,pn)', 'Q(p,d)', 'Q(p,2n)', 'Q(p,t)', 'Q(p,3He)', 'Q(n,2p)',\n",
       "       'Q(n,np)', 'Q(n,d)', 'Q(n,2n)', 'Q(n,t)', 'Q(n,3He)', 'Q(d,t)',\n",
       "       'Q(d,3He)', 'Q(3He,t)', 'Q(3He,a)', 'Q(t,a)', 'Flag', 'Element_w_A'],\n",
       "      dtype='object')"
      ]
     },
     "execution_count": 51,
     "metadata": {},
     "output_type": "execute_result"
    }
   ],
   "source": [
    "df.columns"
   ]
  },
  {
   "cell_type": "code",
   "execution_count": 52,
   "metadata": {},
   "outputs": [],
   "source": [
    "df.Reference = df.Reference.fillna(df[\"Title\"])"
   ]
  },
  {
   "cell_type": "code",
   "execution_count": 53,
   "metadata": {},
   "outputs": [],
   "source": [
    "df.drop(columns=[\"ELV/HL\", \"dELV/HL\"], inplace=True)"
   ]
  },
  {
   "cell_type": "code",
   "execution_count": 54,
   "metadata": {},
   "outputs": [
    {
     "data": {
      "text/plain": [
       "['dEnergy', 'dData']"
      ]
     },
     "execution_count": 54,
     "metadata": {},
     "output_type": "execute_result"
    }
   ],
   "source": [
    "df.columns[df.isna().any()].tolist()"
   ]
  },
  {
   "cell_type": "markdown",
   "metadata": {},
   "source": [
    "# Exploring Uncertainty"
   ]
  },
  {
   "cell_type": "code",
   "execution_count": 55,
   "metadata": {},
   "outputs": [],
   "source": [
    "import matplotlib.pyplot as plt\n",
    "import seaborn as sns"
   ]
  },
  {
   "cell_type": "code",
   "execution_count": 56,
   "metadata": {},
   "outputs": [],
   "source": [
    "df[\"Uncertainty_E\"] = df[\"dEnergy\"]/df[\"Energy\"]\n",
    "df[\"Uncertainty_D\"] = df[\"dData\"]/df[\"Data\"]"
   ]
  },
  {
   "cell_type": "code",
   "execution_count": 57,
   "metadata": {},
   "outputs": [],
   "source": [
    "df_copy = df.copy()"
   ]
  },
  {
   "cell_type": "code",
   "execution_count": 244,
   "metadata": {},
   "outputs": [],
   "source": [
    "df = df_copy.copy()"
   ]
  },
  {
   "cell_type": "code",
   "execution_count": 58,
   "metadata": {},
   "outputs": [
    {
     "data": {
      "text/plain": [
       "Uncertainty_E    3915499\n",
       "Uncertainty_D     828266\n",
       "dtype: int64"
      ]
     },
     "execution_count": 58,
     "metadata": {},
     "output_type": "execute_result"
    }
   ],
   "source": [
    "df[[\"Uncertainty_E\", \"Uncertainty_D\"]].isna().sum()"
   ]
  },
  {
   "cell_type": "code",
   "execution_count": 59,
   "metadata": {},
   "outputs": [],
   "source": [
    "df[\"Uncertainty_E\"] = df.groupby(\"Institute\")['Uncertainty_E'].transform(lambda x: x.fillna(x.mean()))\n",
    "df[\"Uncertainty_D\"] = df.groupby(\"Institute\")['Uncertainty_D'].transform(lambda x: x.fillna(x.mean()))"
   ]
  },
  {
   "cell_type": "code",
   "execution_count": 60,
   "metadata": {},
   "outputs": [
    {
     "data": {
      "text/plain": [
       "Uncertainty_E    90933\n",
       "Uncertainty_D      943\n",
       "dtype: int64"
      ]
     },
     "execution_count": 60,
     "metadata": {},
     "output_type": "execute_result"
    }
   ],
   "source": [
    "df[[\"Uncertainty_E\", \"Uncertainty_D\"]].isna().sum()"
   ]
  },
  {
   "cell_type": "code",
   "execution_count": 61,
   "metadata": {},
   "outputs": [],
   "source": [
    "df[\"Uncertainty_E\"] = df.groupby(\"Element_w_A\")['Uncertainty_E'].transform(lambda x: x.fillna(x.mean()))\n",
    "df[\"Uncertainty_D\"] = df.groupby(\"Element_w_A\")['Uncertainty_D'].transform(lambda x: x.fillna(x.mean()))"
   ]
  },
  {
   "cell_type": "code",
   "execution_count": 62,
   "metadata": {},
   "outputs": [
    {
     "data": {
      "text/plain": [
       "Uncertainty_E    4\n",
       "Uncertainty_D    0\n",
       "dtype: int64"
      ]
     },
     "execution_count": 62,
     "metadata": {},
     "output_type": "execute_result"
    }
   ],
   "source": [
    "df[[\"Uncertainty_E\", \"Uncertainty_D\"]].isna().sum()"
   ]
  },
  {
   "cell_type": "code",
   "execution_count": 63,
   "metadata": {},
   "outputs": [],
   "source": [
    "df.Uncertainty_E = df.Uncertainty_E.fillna(df.Uncertainty_E.mean())"
   ]
  },
  {
   "cell_type": "code",
   "execution_count": 64,
   "metadata": {},
   "outputs": [
    {
     "data": {
      "text/plain": [
       "Uncertainty_E    0\n",
       "Uncertainty_D    0\n",
       "dtype: int64"
      ]
     },
     "execution_count": 64,
     "metadata": {},
     "output_type": "execute_result"
    }
   ],
   "source": [
    "df[[\"Uncertainty_E\", \"Uncertainty_D\"]].isna().sum()"
   ]
  },
  {
   "cell_type": "code",
   "execution_count": 65,
   "metadata": {},
   "outputs": [],
   "source": [
    "df[\"Nuc_Radius_fm\"] = 1.25 * np.power(df[\"Mass_Number\"], 1/3)\n",
    "df[\"Neut_Nuc_Rad_Ratio\"] = 0.8 / df[\"Nuc_Radius_fm\"]"
   ]
  },
  {
   "cell_type": "code",
   "execution_count": 66,
   "metadata": {},
   "outputs": [
    {
     "data": {
      "text/plain": [
       "(4641257, 86)"
      ]
     },
     "execution_count": 66,
     "metadata": {},
     "output_type": "execute_result"
    }
   ],
   "source": [
    "df.shape"
   ]
  },
  {
   "cell_type": "code",
   "execution_count": 67,
   "metadata": {},
   "outputs": [
    {
     "data": {
      "text/plain": [
       "dEnergy    3915499\n",
       "dData       828266\n",
       "dtype: int64"
      ]
     },
     "execution_count": 67,
     "metadata": {},
     "output_type": "execute_result"
    }
   ],
   "source": [
    "df[[\"dEnergy\", \"dData\"]].isna().sum()"
   ]
  },
  {
   "cell_type": "code",
   "execution_count": 68,
   "metadata": {},
   "outputs": [],
   "source": [
    "df.dEnergy = df.dEnergy.fillna(df.Energy * df.Uncertainty_E)\n",
    "df.dData = df.dData.fillna(df.Data * df.Uncertainty_D)"
   ]
  },
  {
   "cell_type": "code",
   "execution_count": 69,
   "metadata": {},
   "outputs": [],
   "source": [
    "df.Uncertainty_D = df.Uncertainty_D.replace(to_replace=np.inf, value=0)"
   ]
  },
  {
   "cell_type": "code",
   "execution_count": 70,
   "metadata": {},
   "outputs": [
    {
     "data": {
      "text/plain": [
       "dEnergy       0\n",
       "dData      4079\n",
       "dtype: int64"
      ]
     },
     "execution_count": 70,
     "metadata": {},
     "output_type": "execute_result"
    }
   ],
   "source": [
    "df[[\"dEnergy\", \"dData\"]].isna().sum()"
   ]
  },
  {
   "cell_type": "code",
   "execution_count": 71,
   "metadata": {},
   "outputs": [],
   "source": [
    "df.fillna(value=0, inplace=True)"
   ]
  },
  {
   "cell_type": "code",
   "execution_count": 72,
   "metadata": {},
   "outputs": [
    {
     "data": {
      "text/plain": [
       "dEnergy    0\n",
       "dData      0\n",
       "dtype: int64"
      ]
     },
     "execution_count": 72,
     "metadata": {},
     "output_type": "execute_result"
    }
   ],
   "source": [
    "df[[\"dEnergy\", \"dData\"]].isna().sum()"
   ]
  },
  {
   "cell_type": "markdown",
   "metadata": {},
   "source": [
    "# Renaming"
   ]
  },
  {
   "cell_type": "code",
   "execution_count": 73,
   "metadata": {},
   "outputs": [
    {
     "data": {
      "text/plain": [
       "Index(['Target_Meta_State', 'MT', 'Energy', 'dEnergy', 'Data', 'dData', 'I78',\n",
       "       'Protons', 'Product_Meta_State', 'Frame', 'Reaction_Notation', 'Title',\n",
       "       'Year', 'Institute', 'Date', 'Reference', 'Out', 'Neutrons',\n",
       "       'Mass_Number', 'Element', 'Origin', 'Mass_Excess', 'dMass_Excess',\n",
       "       'Binding_Energy', 'dBinding_Energy', 'B_Decay_Energy',\n",
       "       'dB_Decay_Energy', 'Atomic_Mass_Micro', 'dAtomic_Mass_Micro', 'S(2n)',\n",
       "       'dS(2n)', 'S(2p)', 'dS(2p)', 'Q(a)', 'dQ(a)', 'Q(2B-)', 'dQ(2B-)',\n",
       "       'Q(ep)', 'dQ(ep)', 'Q(B-n)', 'dQ(B-n)', 'S(n)', 'dS(n)', 'S(p)',\n",
       "       'dS(p)', 'Q(4B-)', 'dQ(4B-)', 'Q(d,a)', 'dQ(d,a)', 'Q(p,a)', 'dQ(p,a)',\n",
       "       'Q(n,a)', 'dQ(n,a)', 'Q(g,p)', 'Q(g,n)', 'Q(g,pn)', 'Q(g,d)', 'Q(g,t)',\n",
       "       'Q(g,He3)', 'Q(g,2p)', 'Q(g,2n)', 'Q(g,a)', 'Q(p,n)', 'Q(p,2p)',\n",
       "       'Q(p,pn)', 'Q(p,d)', 'Q(p,2n)', 'Q(p,t)', 'Q(p,3He)', 'Q(n,2p)',\n",
       "       'Q(n,np)', 'Q(n,d)', 'Q(n,2n)', 'Q(n,t)', 'Q(n,3He)', 'Q(d,t)',\n",
       "       'Q(d,3He)', 'Q(3He,t)', 'Q(3He,a)', 'Q(t,a)', 'Flag', 'Element_w_A',\n",
       "       'Uncertainty_E', 'Uncertainty_D', 'Nuc_Radius_fm',\n",
       "       'Neut_Nuc_Rad_Ratio'],\n",
       "      dtype='object')"
      ]
     },
     "execution_count": 73,
     "metadata": {},
     "output_type": "execute_result"
    }
   ],
   "source": [
    "df.columns"
   ]
  },
  {
   "cell_type": "code",
   "execution_count": 74,
   "metadata": {},
   "outputs": [],
   "source": [
    "df = df.rename(columns={\"Protons\":\"Target_Protons\", \"Neutrons\":\"Target_Neutrons\", \"Mass_Number\":\"Target_Mass_Number\"})\n",
    "df = df.drop(columns=[\"Uncertainty_D\", \"Uncertainty_E\"])\n",
    "df[\"Compound_Neutrons\"] = df[\"Target_Neutrons\"] + 1\n",
    "df[\"Compound_Mass_Number\"] = df[\"Target_Mass_Number\"] + 1"
   ]
  },
  {
   "cell_type": "code",
   "execution_count": 75,
   "metadata": {},
   "outputs": [],
   "source": [
    "df.to_csv(\"../ML_Data/working_xs_v1.csv\", index=False)"
   ]
  },
  {
   "cell_type": "markdown",
   "metadata": {},
   "source": [
    "# Unskewing Data Points (Energy)"
   ]
  },
  {
   "cell_type": "code",
   "execution_count": 76,
   "metadata": {},
   "outputs": [
    {
     "name": "stderr",
     "output_type": "stream",
     "text": [
      "C:\\Users\\Pedro\\Anaconda3\\envs\\data_mining_gpu\\lib\\site-packages\\ipykernel_launcher.py:3: RuntimeWarning: divide by zero encountered in log10\n",
      "  This is separate from the ipykernel package so we can avoid doing imports until\n"
     ]
    }
   ],
   "source": [
    "skewed_cols = [\"Energy\", \"dEnergy\"]\n",
    "for col in skewed_cols:\n",
    "    log_values = np.log10(df[col].values)\n",
    "    df[col] = log_values"
   ]
  },
  {
   "cell_type": "code",
   "execution_count": 77,
   "metadata": {},
   "outputs": [
    {
     "data": {
      "text/plain": [
       "TOT       3266572\n",
       "G          541400\n",
       "F          533930\n",
       "INL        174304\n",
       "EL          37417\n",
       "X           26852\n",
       "P           17599\n",
       "A           16856\n",
       "2N          11759\n",
       "ABS          7750\n",
       "T            2094\n",
       "NON          1291\n",
       "SCT          1225\n",
       "3N            601\n",
       "D             391\n",
       "N+P           246\n",
       "T+A           141\n",
       "N+A           140\n",
       "4N            135\n",
       "N+T           128\n",
       "2N+A           98\n",
       "HE3            62\n",
       "2A             52\n",
       "N+2A           42\n",
       "P+A            42\n",
       "2P             36\n",
       "N+D            23\n",
       "6N             18\n",
       "5N             17\n",
       "2N+P           11\n",
       "7N             11\n",
       "8N              6\n",
       "N+D+A           5\n",
       "T+2A            2\n",
       "2N+P+A          1\n",
       "Name: Out, dtype: int64"
      ]
     },
     "execution_count": 77,
     "metadata": {},
     "output_type": "execute_result"
    }
   ],
   "source": [
    "df[\"Out\"].value_counts()"
   ]
  },
  {
   "cell_type": "code",
   "execution_count": 78,
   "metadata": {},
   "outputs": [],
   "source": [
    "df.to_csv(\"../ML_Data/working_xs_v1_unsk.csv\", index=False)"
   ]
  },
  {
   "cell_type": "code",
   "execution_count": null,
   "metadata": {},
   "outputs": [],
   "source": []
  }
 ],
 "metadata": {
  "kernelspec": {
   "display_name": "Python 3",
   "language": "python",
   "name": "python3"
  },
  "language_info": {
   "codemirror_mode": {
    "name": "ipython",
    "version": 3
   },
   "file_extension": ".py",
   "mimetype": "text/x-python",
   "name": "python",
   "nbconvert_exporter": "python",
   "pygments_lexer": "ipython3",
   "version": "3.7.6"
  }
 },
 "nbformat": 4,
 "nbformat_minor": 4
}
